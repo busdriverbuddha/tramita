{
 "cells": [
  {
   "cell_type": "code",
   "execution_count": 2,
   "id": "3185a063",
   "metadata": {},
   "outputs": [],
   "source": [
    "import nbformat\n",
    "from pathlib import Path"
   ]
  },
  {
   "cell_type": "code",
   "execution_count": 3,
   "id": "bc753a76",
   "metadata": {},
   "outputs": [],
   "source": [
    "GOLD_DIR = \"./gold\"\n",
    "p = Path(GOLD_DIR)"
   ]
  },
  {
   "cell_type": "code",
   "execution_count": 16,
   "id": "e201fa82",
   "metadata": {},
   "outputs": [],
   "source": [
    "for nbfile in p.glob(\"*.ipynb\"):\n",
    "    nb = nbformat.read(nbfile, as_version=4)\n",
    "    chunks = []\n",
    "    for cell in nb.cells:\n",
    "        if cell.cell_type == \"markdown\":\n",
    "            chunks.append(\n",
    "                \"\\n\".join(\n",
    "                    f\"# {line}\"\n",
    "                for line\n",
    "                in cell.source.splitlines()\n",
    "                )\n",
    "            )\n",
    "        else:\n",
    "            chunks.append(cell.source)\n",
    "\n",
    "    nbfile.with_suffix(\".py\").write_text(\"\\n\\n\".join(chunks))"
   ]
  },
  {
   "cell_type": "code",
   "execution_count": null,
   "id": "49efeee9",
   "metadata": {},
   "outputs": [
    {
     "data": {
      "text/plain": [
       "3031"
      ]
     },
     "execution_count": 13,
     "metadata": {},
     "output_type": "execute_result"
    }
   ],
   "source": [
    "\n",
    "    "
   ]
  },
  {
   "cell_type": "code",
   "execution_count": null,
   "id": "bab38329",
   "metadata": {},
   "outputs": [],
   "source": []
  }
 ],
 "metadata": {
  "kernelspec": {
   "display_name": "venv",
   "language": "python",
   "name": "python3"
  },
  "language_info": {
   "codemirror_mode": {
    "name": "ipython",
    "version": 3
   },
   "file_extension": ".py",
   "mimetype": "text/x-python",
   "name": "python",
   "nbconvert_exporter": "python",
   "pygments_lexer": "ipython3",
   "version": "3.13.7"
  }
 },
 "nbformat": 4,
 "nbformat_minor": 5
}
