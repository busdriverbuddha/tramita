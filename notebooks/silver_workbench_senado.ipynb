{
 "cells": [
  {
   "cell_type": "markdown",
   "id": "501c8124",
   "metadata": {},
   "source": [
    "# Preparação"
   ]
  },
  {
   "cell_type": "markdown",
   "id": "c6e093d4",
   "metadata": {},
   "source": [
    "## Imports"
   ]
  },
  {
   "cell_type": "code",
   "execution_count": 1,
   "id": "46d826b0",
   "metadata": {},
   "outputs": [
    {
     "data": {
      "text/html": [
       "<span style=\"None\">Tip: You may define configurations in /home/azureuser/tramita/pyproject.toml or /home/azureuser/.jupysql/config. </span>"
      ],
      "text/plain": [
       "Tip: You may define configurations in /home/azureuser/tramita/pyproject.toml or /home/azureuser/.jupysql/config. "
      ]
     },
     "metadata": {},
     "output_type": "display_data"
    },
    {
     "data": {
      "text/html": [
       "Please review our <a href='https://jupysql.ploomber.io/en/latest/api/configuration.html#loading-from-a-file'>configuration guideline</a>."
      ],
      "text/plain": [
       "<IPython.core.display.HTML object>"
      ]
     },
     "metadata": {},
     "output_type": "display_data"
    },
    {
     "data": {
      "text/html": [
       "<span style=\"None\">Did not find user configurations in /home/azureuser/tramita/pyproject.toml.</span>"
      ],
      "text/plain": [
       "Did not find user configurations in /home/azureuser/tramita/pyproject.toml."
      ]
     },
     "metadata": {},
     "output_type": "display_data"
    }
   ],
   "source": [
    "import os\n",
    "import duckdb\n",
    "%load_ext sql\n",
    "\n",
    "from dotenv import load_dotenv\n",
    "\n",
    "load_dotenv()\n",
    "\n",
    "DB_PATH = os.getenv(\"SILVER_DUCKDB_PATH\", \"\")\n",
    "TMP_DIR = \"/tmp/duckdb_tmp\"  # make sure it exists\n",
    "\n",
    "conn = duckdb.connect(DB_PATH)\n",
    "\n",
    "conn.execute(f\"SET temp_directory='{TMP_DIR}'\")\n",
    "conn.execute(\"SET memory_limit='1GB'\")\n",
    "conn.execute(\"SET threads=1\")\n",
    "conn.execute(\"SET preserve_insertion_order=false\")\n",
    "\n",
    "%sql conn --alias duck"
   ]
  },
  {
   "cell_type": "markdown",
   "id": "99b0881b",
   "metadata": {},
   "source": [
    "## Funções, macros"
   ]
  },
  {
   "cell_type": "code",
   "execution_count": 2,
   "id": "c5f9ef74",
   "metadata": {},
   "outputs": [],
   "source": [
    "import json\n",
    "from pathlib import Path\n",
    "import pyarrow as pa\n",
    "import pyarrow.dataset as ds\n",
    "\n",
    "\n",
    "def peek_json_payloads(\n",
    "    root: str = \"data/bronze/snapshots/bronze-2020-smoke\",\n",
    "    entity: str = \"camara/proposicoes/details\",\n",
    "    *,\n",
    "    n: int = 5,\n",
    "    year: int | None = None,\n",
    ") -> list[dict]:\n",
    "    \"\"\"\n",
    "    Stream up to `n` JSON payloads from a hive-partitioned parquet dataset.\n",
    "    Works across PyArrow versions (no scanner(limit=...) / to_table(limit=...)).\n",
    "    \"\"\"\n",
    "    base = Path(root).as_posix().rstrip(\"/\")\n",
    "    path = f\"{base}/{entity.strip('/')}\"\n",
    "    dataset = ds.dataset(path, format=\"parquet\", partitioning=\"hive\")\n",
    "\n",
    "    names = set(dataset.schema.names)\n",
    "    col = \"payload_json\" if \"payload_json\" in names else (\"payload\" if \"payload\" in names else None)\n",
    "    if col is None:\n",
    "        raise ValueError(f\"No payload column found at {path}. Expected 'payload_json' or 'payload'.\")\n",
    "\n",
    "    flt = (ds.field(\"year\") == year) if (year is not None and \"year\" in names) else None\n",
    "\n",
    "    # Build a scanner without a limit and stream batches\n",
    "    scanner = ds.Scanner.from_dataset(dataset, columns=[col], filter=flt)\n",
    "\n",
    "    out: list[dict] = []\n",
    "    for batch in scanner.to_batches():  # stream; no memory blow-up\n",
    "        arr = batch.column(0)\n",
    "        # slice if this batch would push us over n\n",
    "        room = n - len(out)\n",
    "        if room <= 0:\n",
    "            break\n",
    "        if len(arr) > room:\n",
    "            arr = arr.slice(0, room)\n",
    "\n",
    "        for v in arr.to_pylist():\n",
    "            if v is None:\n",
    "                continue\n",
    "            if isinstance(v, (str, bytes, bytearray)):\n",
    "                s = v.decode(\"utf-8\") if isinstance(v, (bytes, bytearray)) else v\n",
    "                try:\n",
    "                    out.append(json.loads(s))\n",
    "                except Exception:\n",
    "                    out.append({\"_raw\": s})\n",
    "            elif isinstance(v, dict):\n",
    "                out.append(v)\n",
    "            else:\n",
    "                out.append({\"_raw\": v})\n",
    "\n",
    "        if len(out) >= n:\n",
    "            break\n",
    "\n",
    "    # Pretty-print for quick inspection\n",
    "    print(json.dumps(out, ensure_ascii=False, indent=2))\n",
    "    return out\n"
   ]
  },
  {
   "cell_type": "code",
   "execution_count": 3,
   "id": "0f328875",
   "metadata": {},
   "outputs": [],
   "source": [
    "from __future__ import annotations\n",
    "\n",
    "import json\n",
    "from pathlib import Path\n",
    "import pyarrow.dataset as ds\n",
    "\n",
    "\n",
    "def peek_rows(\n",
    "    root: str = \"data/bronze/snapshots/bronze-2020-smoke\",\n",
    "    entity: str = \"camara/proposicoes/details\",\n",
    "    *,\n",
    "    n: int = 5,\n",
    "    year: int | None = None,\n",
    ") -> list[dict]:\n",
    "    \"\"\"\n",
    "    Stream up to `n` full rows (all columns) from a hive-partitioned parquet dataset.\n",
    "    Converts Arrow rows to dicts for easy inspection.\n",
    "    \"\"\"\n",
    "    base = Path(root).as_posix().rstrip(\"/\")\n",
    "    path = f\"{base}/{entity.strip('/')}\"\n",
    "    dataset = ds.dataset(path, format=\"parquet\", partitioning=\"hive\")\n",
    "\n",
    "    flt = (ds.field(\"year\") == year) if (year is not None and \"year\" in dataset.schema.names) else None\n",
    "\n",
    "    scanner = ds.Scanner.from_dataset(dataset, filter=flt)\n",
    "\n",
    "    out: list[dict] = []\n",
    "    for batch in scanner.to_batches():\n",
    "        room = n - len(out)\n",
    "        if room <= 0:\n",
    "            break\n",
    "\n",
    "        tbl = batch.to_pydict()\n",
    "        # batch.to_pydict() gives {col: list}, need row-wise dicts\n",
    "        num_rows = min(len(next(iter(tbl.values()))), room)\n",
    "        for i in range(num_rows):\n",
    "            row = {k: v[i] for k, v in tbl.items()}\n",
    "            # Try to parse payload_json nicely if present\n",
    "            if \"payload_json\" in row and isinstance(row[\"payload_json\"], str):\n",
    "                try:\n",
    "                    row[\"payload_json\"] = json.loads(row[\"payload_json\"])\n",
    "                except Exception:\n",
    "                    pass\n",
    "            out.append(row)\n",
    "\n",
    "        if len(out) >= n:\n",
    "            break\n",
    "\n",
    "    print(json.dumps(out, ensure_ascii=False, indent=2))\n",
    "    return out\n"
   ]
  },
  {
   "cell_type": "code",
   "execution_count": 4,
   "id": "c608c67e",
   "metadata": {
    "vscode": {
     "languageId": "sql"
    }
   },
   "outputs": [
    {
     "data": {
      "text/html": [
       "<span style=\"None\">Running query in &#x27;duck&#x27;</span>"
      ],
      "text/plain": [
       "Running query in 'duck'"
      ]
     },
     "metadata": {},
     "output_type": "display_data"
    },
    {
     "data": {
      "text/html": [
       "<table>\n",
       "    <thead>\n",
       "        <tr>\n",
       "            <th>Count</th>\n",
       "        </tr>\n",
       "    </thead>\n",
       "    <tbody>\n",
       "    </tbody>\n",
       "</table>"
      ],
      "text/plain": [
       "+-------+\n",
       "| Count |\n",
       "+-------+\n",
       "+-------+"
      ]
     },
     "execution_count": 4,
     "metadata": {},
     "output_type": "execute_result"
    }
   ],
   "source": [
    "%%sql\n",
    "\n",
    "CREATE OR REPLACE MACRO jget1(j, p) AS json_extract_string(j, p);\n",
    "CREATE OR REPLACE MACRO jcoalesce(j, p1, p2, p3, p4, p5, p6) AS\n",
    "  COALESCE(jget1(j, p1), jget1(j, p2), jget1(j, p3), jget1(j, p4), jget1(j, p5), jget1(j, p6));"
   ]
  },
  {
   "cell_type": "markdown",
   "id": "f8227e8d",
   "metadata": {
    "vscode": {
     "languageId": "sql"
    }
   },
   "source": [
    "# Câmara dos Deputados"
   ]
  },
  {
   "cell_type": "markdown",
   "id": "b818c99a",
   "metadata": {
    "vscode": {
     "languageId": "sql"
    }
   },
   "source": [
    "## Modelos dimensionais"
   ]
  },
  {
   "cell_type": "markdown",
   "id": "aaffada4",
   "metadata": {},
   "source": [
    "### Blocos"
   ]
  },
  {
   "cell_type": "code",
   "execution_count": 5,
   "id": "99212e25",
   "metadata": {
    "vscode": {
     "languageId": "sql"
    }
   },
   "outputs": [
    {
     "data": {
      "text/html": [
       "<span style=\"None\">Running query in &#x27;duck&#x27;</span>"
      ],
      "text/plain": [
       "Running query in 'duck'"
      ]
     },
     "metadata": {},
     "output_type": "display_data"
    },
    {
     "data": {
      "text/html": [
       "<table>\n",
       "    <thead>\n",
       "        <tr>\n",
       "            <th>n</th>\n",
       "        </tr>\n",
       "    </thead>\n",
       "    <tbody>\n",
       "        <tr>\n",
       "            <td>5</td>\n",
       "        </tr>\n",
       "    </tbody>\n",
       "</table>"
      ],
      "text/plain": [
       "+---+\n",
       "| n |\n",
       "+---+\n",
       "| 5 |\n",
       "+---+"
      ]
     },
     "execution_count": 5,
     "metadata": {},
     "output_type": "execute_result"
    }
   ],
   "source": [
    "%%sql\n",
    "CREATE OR REPLACE VIEW bronze_camara_blocos AS\n",
    "SELECT * FROM parquet_scan(\"data/bronze/snapshots/bronze-2020-smoke/camara/blocos/details/year=*/part-*.parquet\")\n",
    "WHERE source = 'camara' AND entity = 'blocos';\n",
    "\n",
    "SELECT COUNT(*) AS n FROM bronze_camara_blocos;\n"
   ]
  },
  {
   "cell_type": "code",
   "execution_count": 6,
   "id": "3075c538",
   "metadata": {
    "vscode": {
     "languageId": "sql"
    }
   },
   "outputs": [
    {
     "data": {
      "text/html": [
       "<span style=\"None\">Running query in &#x27;duck&#x27;</span>"
      ],
      "text/plain": [
       "Running query in 'duck'"
      ]
     },
     "metadata": {},
     "output_type": "display_data"
    },
    {
     "data": {
      "text/html": [
       "<table>\n",
       "    <thead>\n",
       "        <tr>\n",
       "            <th>Success</th>\n",
       "        </tr>\n",
       "    </thead>\n",
       "    <tbody>\n",
       "    </tbody>\n",
       "</table>"
      ],
      "text/plain": [
       "+---------+\n",
       "| Success |\n",
       "+---------+\n",
       "+---------+"
      ]
     },
     "execution_count": 6,
     "metadata": {},
     "output_type": "execute_result"
    }
   ],
   "source": [
    "%%sql\n",
    "DROP TABLE IF EXISTS blocos_camara;\n",
    "CREATE TABLE blocos_camara AS\n",
    "WITH base AS (\n",
    "    SELECT TRY_CAST(payload_json AS JSON) as j, year\n",
    "    FROM bronze_camara_blocos\n",
    ")\n",
    "SELECT\n",
    "    CAST(jget1(j, '$.dados.id') AS BIGINT) AS id_bloco,\n",
    "    jget1(j, '$.dados.nome') AS nome,\n",
    "    CAST(jget1(j, '$.dados.idLegislatura') AS BIGINT) AS id_legislatura,\n",
    "    jget1(j, '$.dados.uri') AS uri,\n",
    "    year AS year_snapshot\n",
    "FROM base\n",
    "WHERE jget1(j, '$.dados.id') IS NOT NULL;\n",
    "DROP VIEW IF EXISTS bronze_camara_blocos;"
   ]
  },
  {
   "cell_type": "code",
   "execution_count": 7,
   "id": "3b59f064",
   "metadata": {
    "vscode": {
     "languageId": "sql"
    }
   },
   "outputs": [
    {
     "data": {
      "text/html": [
       "<span style=\"None\">Running query in &#x27;duck&#x27;</span>"
      ],
      "text/plain": [
       "Running query in 'duck'"
      ]
     },
     "metadata": {},
     "output_type": "display_data"
    },
    {
     "data": {
      "text/html": [
       "<table>\n",
       "    <thead>\n",
       "        <tr>\n",
       "            <th>id_bloco</th>\n",
       "            <th>nome</th>\n",
       "            <th>id_legislatura</th>\n",
       "            <th>uri</th>\n",
       "            <th>year_snapshot</th>\n",
       "        </tr>\n",
       "    </thead>\n",
       "    <tbody>\n",
       "        <tr>\n",
       "            <td>584</td>\n",
       "            <td>Federação Brasil da Esperança - Fe Brasil</td>\n",
       "            <td>57</td>\n",
       "            <td><a href=https://dadosabertos.camara.leg.br/api/v2/blocos/584>https://dadosabertos.camara.leg.br/api/v2/blocos/584</a></td>\n",
       "            <td>0</td>\n",
       "        </tr>\n",
       "        <tr>\n",
       "            <td>585</td>\n",
       "            <td>Federação PSDB CIDADANIA</td>\n",
       "            <td>57</td>\n",
       "            <td><a href=https://dadosabertos.camara.leg.br/api/v2/blocos/585>https://dadosabertos.camara.leg.br/api/v2/blocos/585</a></td>\n",
       "            <td>0</td>\n",
       "        </tr>\n",
       "        <tr>\n",
       "            <td>586</td>\n",
       "            <td>Federação PSOL REDE</td>\n",
       "            <td>57</td>\n",
       "            <td><a href=https://dadosabertos.camara.leg.br/api/v2/blocos/586>https://dadosabertos.camara.leg.br/api/v2/blocos/586</a></td>\n",
       "            <td>0</td>\n",
       "        </tr>\n",
       "        <tr>\n",
       "            <td>589</td>\n",
       "            <td>PL, UNIÃO, PP, PSD, REPUBLICANOS, MDB, Federação PSDB CIDADANIA, PODE</td>\n",
       "            <td>57</td>\n",
       "            <td><a href=https://dadosabertos.camara.leg.br/api/v2/blocos/589>https://dadosabertos.camara.leg.br/api/v2/blocos/589</a></td>\n",
       "            <td>0</td>\n",
       "        </tr>\n",
       "        <tr>\n",
       "            <td>590</td>\n",
       "            <td>AVANTE, SOLIDARIEDADE, PRD</td>\n",
       "            <td>57</td>\n",
       "            <td><a href=https://dadosabertos.camara.leg.br/api/v2/blocos/590>https://dadosabertos.camara.leg.br/api/v2/blocos/590</a></td>\n",
       "            <td>0</td>\n",
       "        </tr>\n",
       "    </tbody>\n",
       "</table>"
      ],
      "text/plain": [
       "+----------+-----------------------------------------------------------------------+----------------+-----------------------------------------------------------------------------------------------------------------------+---------------+\n",
       "| id_bloco |                                  nome                                 | id_legislatura |                                                          uri                                                          | year_snapshot |\n",
       "+----------+-----------------------------------------------------------------------+----------------+-----------------------------------------------------------------------------------------------------------------------+---------------+\n",
       "|   584    |               Federação Brasil da Esperança - Fe Brasil               |       57       | <a href=https://dadosabertos.camara.leg.br/api/v2/blocos/584>https://dadosabertos.camara.leg.br/api/v2/blocos/584</a> |       0       |\n",
       "|   585    |                        Federação PSDB CIDADANIA                       |       57       | <a href=https://dadosabertos.camara.leg.br/api/v2/blocos/585>https://dadosabertos.camara.leg.br/api/v2/blocos/585</a> |       0       |\n",
       "|   586    |                          Federação PSOL REDE                          |       57       | <a href=https://dadosabertos.camara.leg.br/api/v2/blocos/586>https://dadosabertos.camara.leg.br/api/v2/blocos/586</a> |       0       |\n",
       "|   589    | PL, UNIÃO, PP, PSD, REPUBLICANOS, MDB, Federação PSDB CIDADANIA, PODE |       57       | <a href=https://dadosabertos.camara.leg.br/api/v2/blocos/589>https://dadosabertos.camara.leg.br/api/v2/blocos/589</a> |       0       |\n",
       "|   590    |                       AVANTE, SOLIDARIEDADE, PRD                      |       57       | <a href=https://dadosabertos.camara.leg.br/api/v2/blocos/590>https://dadosabertos.camara.leg.br/api/v2/blocos/590</a> |       0       |\n",
       "+----------+-----------------------------------------------------------------------+----------------+-----------------------------------------------------------------------------------------------------------------------+---------------+"
      ]
     },
     "execution_count": 7,
     "metadata": {},
     "output_type": "execute_result"
    }
   ],
   "source": [
    "%%sql\n",
    "SELECT * FROM blocos_camara;"
   ]
  },
  {
   "cell_type": "markdown",
   "id": "39c1043f",
   "metadata": {},
   "source": [
    "### Deputados"
   ]
  },
  {
   "cell_type": "code",
   "execution_count": 8,
   "id": "7e7514f4",
   "metadata": {
    "vscode": {
     "languageId": "sql"
    }
   },
   "outputs": [
    {
     "data": {
      "text/html": [
       "<span style=\"None\">Running query in &#x27;duck&#x27;</span>"
      ],
      "text/plain": [
       "Running query in 'duck'"
      ]
     },
     "metadata": {},
     "output_type": "display_data"
    },
    {
     "data": {
      "text/html": [
       "<table>\n",
       "    <thead>\n",
       "        <tr>\n",
       "            <th>n</th>\n",
       "        </tr>\n",
       "    </thead>\n",
       "    <tbody>\n",
       "        <tr>\n",
       "            <td>3615</td>\n",
       "        </tr>\n",
       "    </tbody>\n",
       "</table>"
      ],
      "text/plain": [
       "+------+\n",
       "|  n   |\n",
       "+------+\n",
       "| 3615 |\n",
       "+------+"
      ]
     },
     "execution_count": 8,
     "metadata": {},
     "output_type": "execute_result"
    }
   ],
   "source": [
    "%%sql\n",
    "CREATE OR REPLACE VIEW bronze_camara_deputados AS\n",
    "SELECT * FROM parquet_scan(\"data/bronze/snapshots/bronze-2020-smoke/camara/deputados/details/year=*/part-*.parquet\")\n",
    "WHERE source = 'camara' AND entity = 'deputados';\n",
    "\n",
    "SELECT COUNT(*) AS n FROM bronze_camara_deputados;"
   ]
  },
  {
   "cell_type": "code",
   "execution_count": 9,
   "id": "f6c85a1c",
   "metadata": {
    "vscode": {
     "languageId": "sql"
    }
   },
   "outputs": [
    {
     "data": {
      "text/html": [
       "<span style=\"None\">Running query in &#x27;duck&#x27;</span>"
      ],
      "text/plain": [
       "Running query in 'duck'"
      ]
     },
     "metadata": {},
     "output_type": "display_data"
    },
    {
     "data": {
      "text/html": [
       "<table>\n",
       "    <thead>\n",
       "        <tr>\n",
       "            <th>source</th>\n",
       "            <th>entity</th>\n",
       "            <th>id</th>\n",
       "            <th>url</th>\n",
       "            <th>payload_json</th>\n",
       "            <th>payload_sha256</th>\n",
       "            <th>year</th>\n",
       "        </tr>\n",
       "    </thead>\n",
       "    <tbody>\n",
       "        <tr>\n",
       "            <td>camara</td>\n",
       "            <td>deputados</td>\n",
       "            <td>62881</td>\n",
       "            <td><a href=https://dadosabertos.camara.leg.br/api/v2/deputados/62881>https://dadosabertos.camara.leg.br/api/v2/deputados/62881</a></td>\n",
       "            <td>{\"dados\":{\"cpf\":\"12133728368\",\"dataFalecimento\":null,\"dataNascimento\":\"1958-09-01\",\"escolaridade\":\"Superior\",\"id\":62881,\"municipioNascimento\":\"Fortaleza\",\"nomeCivil\":\"FRANCISCO DANILO BASTOS FORTE\",\"redeSocial\":[\"https://twitter.com/depdaniloforte\",\"https://www.facebook.com/depdaniloforte\",\"https://www.instagram.com/depdaniloforte\"],\"sexo\":\"M\",\"ufNascimento\":\"CE\",\"ultimoStatus\":{\"condicaoEleitoral\":\"Titular\",\"data\":\"2023-02-01\",\"descricaoStatus\":null,\"email\":null,\"gabinete\":{\"andar\":\"2\",\"email\":\"dep.daniloforte@camara.leg.br\",\"nome\":\"219\",\"predio\":\"4\",\"sala\":\"219\",\"telefone\":\"3215-5219\"},\"id\":62881,\"idLegislatura\":57,\"nome\":\"Danilo Forte\",\"nomeEleitoral\":\"Danilo Forte\",\"siglaPartido\":\"UNIÃO\",\"siglaUf\":\"CE\",\"situacao\":\"Exercício\",\"uri\":\"https://dadosabertos.camara.leg.br/api/v2/deputados/62881\",\"uriPartido\":null,\"urlFoto\":\"https://www.camara.leg.br/internet/deputado/bandep/62881.jpg\"},\"uri\":\"https://dadosabertos.camara.leg.br/api/v2/deputados/62881\",\"urlWebsite\":null}}</td>\n",
       "            <td>e5157e11c4ce6aee6ffad84ed23f8438760bfa2cd3445d768e942855e3d67764</td>\n",
       "            <td>0</td>\n",
       "        </tr>\n",
       "        <tr>\n",
       "            <td>camara</td>\n",
       "            <td>deputados</td>\n",
       "            <td>66385</td>\n",
       "            <td><a href=https://dadosabertos.camara.leg.br/api/v2/deputados/66385>https://dadosabertos.camara.leg.br/api/v2/deputados/66385</a></td>\n",
       "            <td>{\"dados\":{\"cpf\":\"77309766768\",\"dataFalecimento\":null,\"dataNascimento\":\"1966-02-14\",\"escolaridade\":\"Superior\",\"id\":66385,\"municipioNascimento\":\"Teresina\",\"nomeCivil\":\"JULIO FERRAZ ARCOVERDE\",\"redeSocial\":[\"https://twitter.com/julioarcoverde\",\"https://www.facebook.com/depjulioarcoverde\",\"https://www.instagram.com/julioarcoverde\",\"https://youtube.com/julioarcoverde\"],\"sexo\":\"M\",\"ufNascimento\":\"PI\",\"ultimoStatus\":{\"condicaoEleitoral\":\"Titular\",\"data\":\"2023-02-01\",\"descricaoStatus\":null,\"email\":null,\"gabinete\":{\"andar\":\"7\",\"email\":\"dep.julioarcoverde@camara.leg.br\",\"nome\":\"729\",\"predio\":\"4\",\"sala\":\"729\",\"telefone\":\"3215-5729\"},\"id\":66385,\"idLegislatura\":57,\"nome\":\"Julio Arcoverde\",\"nomeEleitoral\":\"Julio Arcoverde\",\"siglaPartido\":\"PP\",\"siglaUf\":\"PI\",\"situacao\":\"Exercício\",\"uri\":\"https://dadosabertos.camara.leg.br/api/v2/deputados/66385\",\"uriPartido\":null,\"urlFoto\":\"https://www.camara.leg.br/internet/deputado/bandep/66385.jpg\"},\"uri\":\"https://dadosabertos.camara.leg.br/api/v2/deputados/66385\",\"urlWebsite\":null}}</td>\n",
       "            <td>22e9eaf23222140fa4a0eb9bccc115b0198dc34f2ea190276f43a2e89b20821e</td>\n",
       "            <td>0</td>\n",
       "        </tr>\n",
       "        <tr>\n",
       "            <td>camara</td>\n",
       "            <td>deputados</td>\n",
       "            <td>66828</td>\n",
       "            <td><a href=https://dadosabertos.camara.leg.br/api/v2/deputados/66828>https://dadosabertos.camara.leg.br/api/v2/deputados/66828</a></td>\n",
       "            <td>{\"dados\":{\"cpf\":\"28022995819\",\"dataFalecimento\":null,\"dataNascimento\":\"1977-06-01\",\"escolaridade\":\"Superior\",\"id\":66828,\"municipioNascimento\":\"Fernandópolis\",\"nomeCivil\":\"FAUSTO RUY PINATO\",\"redeSocial\":[],\"sexo\":\"M\",\"ufNascimento\":\"SP\",\"ultimoStatus\":{\"condicaoEleitoral\":\"Titular\",\"data\":\"2023-02-01\",\"descricaoStatus\":null,\"email\":null,\"gabinete\":{\"andar\":\"5\",\"email\":\"dep.faustopinato@camara.leg.br\",\"nome\":\"562\",\"predio\":\"4\",\"sala\":\"562\",\"telefone\":\"3215-5562\"},\"id\":66828,\"idLegislatura\":57,\"nome\":\"Fausto Pinato\",\"nomeEleitoral\":\"Fausto Pinato\",\"siglaPartido\":\"PP\",\"siglaUf\":\"SP\",\"situacao\":\"Exercício\",\"uri\":\"https://dadosabertos.camara.leg.br/api/v2/deputados/66828\",\"uriPartido\":null,\"urlFoto\":\"https://www.camara.leg.br/internet/deputado/bandep/66828.jpg\"},\"uri\":\"https://dadosabertos.camara.leg.br/api/v2/deputados/66828\",\"urlWebsite\":null}}</td>\n",
       "            <td>1554bfed21bd062d1b9df56b0d9791e2f64b4681d5a68861feb6a09375d24657</td>\n",
       "            <td>0</td>\n",
       "        </tr>\n",
       "        <tr>\n",
       "            <td>camara</td>\n",
       "            <td>deputados</td>\n",
       "            <td>69871</td>\n",
       "            <td><a href=https://dadosabertos.camara.leg.br/api/v2/deputados/69871>https://dadosabertos.camara.leg.br/api/v2/deputados/69871</a></td>\n",
       "            <td>{\"dados\":{\"cpf\":\"10626409500\",\"dataFalecimento\":null,\"dataNascimento\":\"1957-07-09\",\"escolaridade\":\"Pós-Graduação\",\"id\":69871,\"municipioNascimento\":\"Esplanada\",\"nomeCivil\":\"JOAO CARLOS BACELAR BATISTA\",\"redeSocial\":[\"https://twitter.com/DEPUTADOBACELAR\",\"https://www.facebook.com/DEPUTADOBACELAR\",\"https://www.instagram.com/DEPUTADOBACELAR\"],\"sexo\":\"M\",\"ufNascimento\":\"BA\",\"ultimoStatus\":{\"condicaoEleitoral\":\"Titular\",\"data\":\"2023-02-01\",\"descricaoStatus\":null,\"email\":null,\"gabinete\":{\"andar\":null,\"email\":\"dep.bacelar@camara.leg.br\",\"nome\":\"783\",\"predio\":\"3\",\"sala\":\"783\",\"telefone\":\"3215-5783\"},\"id\":69871,\"idLegislatura\":57,\"nome\":\"Bacelar\",\"nomeEleitoral\":\"Bacelar\",\"siglaPartido\":\"PV\",\"siglaUf\":\"BA\",\"situacao\":\"Exercício\",\"uri\":\"https://dadosabertos.camara.leg.br/api/v2/deputados/69871\",\"uriPartido\":null,\"urlFoto\":\"https://www.camara.leg.br/internet/deputado/bandep/69871.jpg\"},\"uri\":\"https://dadosabertos.camara.leg.br/api/v2/deputados/69871\",\"urlWebsite\":null}}</td>\n",
       "            <td>b84949db82f2e55ba0aa6a3feb5340f92047ea9fd0e795c9e44ca58d04e80d0b</td>\n",
       "            <td>0</td>\n",
       "        </tr>\n",
       "        <tr>\n",
       "            <td>camara</td>\n",
       "            <td>deputados</td>\n",
       "            <td>72442</td>\n",
       "            <td><a href=https://dadosabertos.camara.leg.br/api/v2/deputados/72442>https://dadosabertos.camara.leg.br/api/v2/deputados/72442</a></td>\n",
       "            <td>{\"dados\":{\"cpf\":\"86488023420\",\"dataFalecimento\":null,\"dataNascimento\":\"1975-04-16\",\"escolaridade\":\"Superior Incompleto\",\"id\":72442,\"municipioNascimento\":\"Recife\",\"nomeCivil\":\"FELIPE AUGUSTO LYRA CARRERAS\",\"redeSocial\":[],\"sexo\":\"M\",\"ufNascimento\":\"PE\",\"ultimoStatus\":{\"condicaoEleitoral\":\"Titular\",\"data\":\"2023-02-01\",\"descricaoStatus\":null,\"email\":null,\"gabinete\":{\"andar\":\"3\",\"email\":\"dep.felipecarreras@camara.leg.br\",\"nome\":\"318\",\"predio\":\"4\",\"sala\":\"318\",\"telefone\":\"3215-5318\"},\"id\":72442,\"idLegislatura\":57,\"nome\":\"Felipe Carreras\",\"nomeEleitoral\":\"Felipe Carreras\",\"siglaPartido\":\"PSB\",\"siglaUf\":\"PE\",\"situacao\":\"Exercício\",\"uri\":\"https://dadosabertos.camara.leg.br/api/v2/deputados/72442\",\"uriPartido\":null,\"urlFoto\":\"https://www.camara.leg.br/internet/deputado/bandep/72442.jpg\"},\"uri\":\"https://dadosabertos.camara.leg.br/api/v2/deputados/72442\",\"urlWebsite\":null}}</td>\n",
       "            <td>f23db1c7b27fbbad5c30f7bdeef770f9902889958213ac84eba3494bce199ac7</td>\n",
       "            <td>0</td>\n",
       "        </tr>\n",
       "        <tr>\n",
       "            <td>camara</td>\n",
       "            <td>deputados</td>\n",
       "            <td>73433</td>\n",
       "            <td><a href=https://dadosabertos.camara.leg.br/api/v2/deputados/73433>https://dadosabertos.camara.leg.br/api/v2/deputados/73433</a></td>\n",
       "            <td>{\"dados\":{\"cpf\":\"06821146187\",\"dataFalecimento\":null,\"dataNascimento\":\"1949-12-24\",\"escolaridade\":\"Pós-Graduação\",\"id\":73433,\"municipioNascimento\":\"Serra Azul\",\"nomeCivil\":\"ARLINDO CHIGNALIA JUNIOR\",\"redeSocial\":[\"https://twitter.com/achinaglia\",\"https://www.facebook.com/depchinaglia\",\"https://www.instagram.com/depchinaglia\"],\"sexo\":\"M\",\"ufNascimento\":\"SP\",\"ultimoStatus\":{\"condicaoEleitoral\":\"Titular\",\"data\":\"2023-02-01\",\"descricaoStatus\":null,\"email\":null,\"gabinete\":{\"andar\":null,\"email\":\"dep.arlindochinaglia@camara.leg.br\",\"nome\":\"4\",\"predio\":\"x\",\"sala\":\"4\",\"telefone\":\"3215-5966\"},\"id\":73433,\"idLegislatura\":57,\"nome\":\"Arlindo Chinaglia\",\"nomeEleitoral\":\"Arlindo Chinaglia\",\"siglaPartido\":\"PT\",\"siglaUf\":\"SP\",\"situacao\":\"Exercício\",\"uri\":\"https://dadosabertos.camara.leg.br/api/v2/deputados/73433\",\"uriPartido\":null,\"urlFoto\":\"https://www.camara.leg.br/internet/deputado/bandep/73433.jpg\"},\"uri\":\"https://dadosabertos.camara.leg.br/api/v2/deputados/73433\",\"urlWebsite\":null}}</td>\n",
       "            <td>5c12802ff7bb7ad94a23694282b0611071ed87a732dcaf2e2483c2ca1ef03ee9</td>\n",
       "            <td>0</td>\n",
       "        </tr>\n",
       "        <tr>\n",
       "            <td>camara</td>\n",
       "            <td>deputados</td>\n",
       "            <td>73441</td>\n",
       "            <td><a href=https://dadosabertos.camara.leg.br/api/v2/deputados/73441>https://dadosabertos.camara.leg.br/api/v2/deputados/73441</a></td>\n",
       "            <td>{\"dados\":{\"cpf\":\"01252958803\",\"dataFalecimento\":null,\"dataNascimento\":\"1956-08-20\",\"escolaridade\":\"Superior\",\"id\":73441,\"municipioNascimento\":\"São Paulo\",\"nomeCivil\":\"CELSO UBIRAJARA RUSSOMANNO\",\"redeSocial\":[\"https://twitter.com/celsorussomanno\",\"https://www.facebook.com/celsorussomanno\",\"https://www.instagram.com/celsorussomanno\",\"https://youtube.com/celsorussomanno\"],\"sexo\":\"M\",\"ufNascimento\":\"SP\",\"ultimoStatus\":{\"condicaoEleitoral\":\"Titular\",\"data\":\"2023-02-01\",\"descricaoStatus\":null,\"email\":null,\"gabinete\":{\"andar\":\"9\",\"email\":\"dep.celsorussomanno@camara.leg.br\",\"nome\":\"960\",\"predio\":\"4\",\"sala\":\"960\",\"telefone\":\"3215-5960\"},\"id\":73441,\"idLegislatura\":57,\"nome\":\"Celso Russomanno\",\"nomeEleitoral\":\"Celso Russomanno\",\"siglaPartido\":\"REPUBLICANOS\",\"siglaUf\":\"SP\",\"situacao\":\"Exercício\",\"uri\":\"https://dadosabertos.camara.leg.br/api/v2/deputados/73441\",\"uriPartido\":null,\"urlFoto\":\"https://www.camara.leg.br/internet/deputado/bandep/73441.jpg\"},\"uri\":\"https://dadosabertos.camara.leg.br/api/v2/deputados/73441\",\"urlWebsite\":null}}</td>\n",
       "            <td>feb1082ab87bd18e83a1cb27d82a7c20f773f87035c32af767db93b3301e60f2</td>\n",
       "            <td>0</td>\n",
       "        </tr>\n",
       "        <tr>\n",
       "            <td>camara</td>\n",
       "            <td>deputados</td>\n",
       "            <td>73486</td>\n",
       "            <td><a href=https://dadosabertos.camara.leg.br/api/v2/deputados/73486>https://dadosabertos.camara.leg.br/api/v2/deputados/73486</a></td>\n",
       "            <td>{\"dados\":{\"cpf\":\"28346890087\",\"dataFalecimento\":null,\"dataNascimento\":\"1958-07-12\",\"escolaridade\":\"Superior\",\"id\":73486,\"municipioNascimento\":\"Santo Augusto\",\"nomeCivil\":\"DARCI POMPEO DE MATTOS\",\"redeSocial\":[\"https://twitter.com/PompeodeMattos\",\"https://www.facebook.com/PompeodeMattos\",\"https://www.instagram.com/pompeodemattospdt\",\"https://youtube.com/PompeodeMattos\"],\"sexo\":\"M\",\"ufNascimento\":\"RS\",\"ultimoStatus\":{\"condicaoEleitoral\":\"Titular\",\"data\":\"2023-02-01\",\"descricaoStatus\":null,\"email\":null,\"gabinete\":{\"andar\":\"7\",\"email\":\"dep.pompeodemattos@camara.leg.br\",\"nome\":\"704\",\"predio\":\"4\",\"sala\":\"704\",\"telefone\":\"3215-5704\"},\"id\":73486,\"idLegislatura\":57,\"nome\":\"Pompeo de Mattos\",\"nomeEleitoral\":\"Pompeo de Mattos\",\"siglaPartido\":\"PDT\",\"siglaUf\":\"RS\",\"situacao\":\"Exercício\",\"uri\":\"https://dadosabertos.camara.leg.br/api/v2/deputados/73486\",\"uriPartido\":null,\"urlFoto\":\"https://www.camara.leg.br/internet/deputado/bandep/73486.jpg\"},\"uri\":\"https://dadosabertos.camara.leg.br/api/v2/deputados/73486\",\"urlWebsite\":null}}</td>\n",
       "            <td>9d4a7743990ca2b91e591e41e6ef9ceaa62006c7148fcfa59d1d2c9a87c137a9</td>\n",
       "            <td>0</td>\n",
       "        </tr>\n",
       "        <tr>\n",
       "            <td>camara</td>\n",
       "            <td>deputados</td>\n",
       "            <td>73531</td>\n",
       "            <td><a href=https://dadosabertos.camara.leg.br/api/v2/deputados/73531>https://dadosabertos.camara.leg.br/api/v2/deputados/73531</a></td>\n",
       "            <td>{\"dados\":{\"cpf\":\"37655582815\",\"dataFalecimento\":null,\"dataNascimento\":\"1946-07-05\",\"escolaridade\":\"Superior\",\"id\":73531,\"municipioNascimento\":\"São Paulo\",\"nomeCivil\":\"IVAN VALENTE\",\"redeSocial\":[],\"sexo\":\"M\",\"ufNascimento\":\"SP\",\"ultimoStatus\":{\"condicaoEleitoral\":\"Suplente\",\"data\":\"2023-02-03\",\"descricaoStatus\":null,\"email\":null,\"gabinete\":{\"andar\":\"2\",\"email\":\"dep.ivanvalente@camara.leg.br\",\"nome\":\"230\",\"predio\":\"4\",\"sala\":\"230\",\"telefone\":\"3215-5230\"},\"id\":73531,\"idLegislatura\":57,\"nome\":\"Ivan Valente\",\"nomeEleitoral\":\"Ivan Valente\",\"siglaPartido\":\"PSOL\",\"siglaUf\":\"SP\",\"situacao\":\"Exercício\",\"uri\":\"https://dadosabertos.camara.leg.br/api/v2/deputados/73531\",\"uriPartido\":null,\"urlFoto\":\"https://www.camara.leg.br/internet/deputado/bandep/73531.jpg\"},\"uri\":\"https://dadosabertos.camara.leg.br/api/v2/deputados/73531\",\"urlWebsite\":null}}</td>\n",
       "            <td>b933aaf1e69c9186210b97aefb5b73a6d8ae459e9781634d3e17c393266c885b</td>\n",
       "            <td>0</td>\n",
       "        </tr>\n",
       "        <tr>\n",
       "            <td>camara</td>\n",
       "            <td>deputados</td>\n",
       "            <td>73579</td>\n",
       "            <td><a href=https://dadosabertos.camara.leg.br/api/v2/deputados/73579>https://dadosabertos.camara.leg.br/api/v2/deputados/73579</a></td>\n",
       "            <td>{\"dados\":{\"cpf\":\"11939141168\",\"dataFalecimento\":null,\"dataNascimento\":\"1956-06-02\",\"escolaridade\":\"Superior\",\"id\":73579,\"municipioNascimento\":\"Estância\",\"nomeCivil\":\"JOÃO ALBERTO FRAGA SILVA\",\"redeSocial\":[\"https://www.facebook.com/deputadoalbertofraga\"],\"sexo\":\"M\",\"ufNascimento\":\"SE\",\"ultimoStatus\":{\"condicaoEleitoral\":\"Titular\",\"data\":\"2023-02-01\",\"descricaoStatus\":null,\"email\":null,\"gabinete\":{\"andar\":\"8\",\"email\":\"dep.albertofraga@camara.leg.br\",\"nome\":\"816\",\"predio\":\"4\",\"sala\":\"816\",\"telefone\":\"3215-5816\"},\"id\":73579,\"idLegislatura\":57,\"nome\":\"Alberto Fraga\",\"nomeEleitoral\":\"Alberto Fraga\",\"siglaPartido\":\"PL\",\"siglaUf\":\"DF\",\"situacao\":\"Exercício\",\"uri\":\"https://dadosabertos.camara.leg.br/api/v2/deputados/73579\",\"uriPartido\":null,\"urlFoto\":\"https://www.camara.leg.br/internet/deputado/bandep/73579.jpg\"},\"uri\":\"https://dadosabertos.camara.leg.br/api/v2/deputados/73579\",\"urlWebsite\":null}}</td>\n",
       "            <td>1b2cf08202ac72e1da032f154c86d7c61f02a5fc94edcd27bc85920b4e67cf9b</td>\n",
       "            <td>0</td>\n",
       "        </tr>\n",
       "    </tbody>\n",
       "</table>\n",
       "<span style=\"font-style:italic;text-align:center;\">Truncated to <a href=\"https://jupysql.ploomber.io/en/latest/api/configuration.html#displaylimit\">displaylimit</a> of 10.</span>"
      ],
      "text/plain": [
       "+--------+-----------+-------+---------------------------------------------------------------------------------------------------------------------------------+---------------------------------------------------------------------------------------------------------------------------------------------------------------------------------------------------------------------------------------------------------------------------------------------------------------------------------------------------------------------------------------------------------------------------------------------------------------------------------------------------------------------------------------------------------------------------------------------------------------------------------------------------------------------------------------------------------------------------------------------------------------------------------------------------------------------------------------------------------------------------------------------------------------------------------------------------------------------------------------------------------------------------------------------------------------------------------+------------------------------------------------------------------+------+\n",
       "| source |   entity  |   id  |                                                               url                                                               |                                                                                                                                                                                                                                                                                                                                                                                                                                                                                                                                   payload_json                                                                                                                                                                                                                                                                                                                                                                                                                                                                                                                                  |                          payload_sha256                          | year |\n",
       "+--------+-----------+-------+---------------------------------------------------------------------------------------------------------------------------------+---------------------------------------------------------------------------------------------------------------------------------------------------------------------------------------------------------------------------------------------------------------------------------------------------------------------------------------------------------------------------------------------------------------------------------------------------------------------------------------------------------------------------------------------------------------------------------------------------------------------------------------------------------------------------------------------------------------------------------------------------------------------------------------------------------------------------------------------------------------------------------------------------------------------------------------------------------------------------------------------------------------------------------------------------------------------------------+------------------------------------------------------------------+------+\n",
       "| camara | deputados | 62881 | <a href=https://dadosabertos.camara.leg.br/api/v2/deputados/62881>https://dadosabertos.camara.leg.br/api/v2/deputados/62881</a> |                              {\"dados\":{\"cpf\":\"12133728368\",\"dataFalecimento\":null,\"dataNascimento\":\"1958-09-01\",\"escolaridade\":\"Superior\",\"id\":62881,\"municipioNascimento\":\"Fortaleza\",\"nomeCivil\":\"FRANCISCO DANILO BASTOS FORTE\",\"redeSocial\":[\"https://twitter.com/depdaniloforte\",\"https://www.facebook.com/depdaniloforte\",\"https://www.instagram.com/depdaniloforte\"],\"sexo\":\"M\",\"ufNascimento\":\"CE\",\"ultimoStatus\":{\"condicaoEleitoral\":\"Titular\",\"data\":\"2023-02-01\",\"descricaoStatus\":null,\"email\":null,\"gabinete\":{\"andar\":\"2\",\"email\":\"dep.daniloforte@camara.leg.br\",\"nome\":\"219\",\"predio\":\"4\",\"sala\":\"219\",\"telefone\":\"3215-5219\"},\"id\":62881,\"idLegislatura\":57,\"nome\":\"Danilo Forte\",\"nomeEleitoral\":\"Danilo Forte\",\"siglaPartido\":\"UNIÃO\",\"siglaUf\":\"CE\",\"situacao\":\"Exercício\",\"uri\":\"https://dadosabertos.camara.leg.br/api/v2/deputados/62881\",\"uriPartido\":null,\"urlFoto\":\"https://www.camara.leg.br/internet/deputado/bandep/62881.jpg\"},\"uri\":\"https://dadosabertos.camara.leg.br/api/v2/deputados/62881\",\"urlWebsite\":null}}                             | e5157e11c4ce6aee6ffad84ed23f8438760bfa2cd3445d768e942855e3d67764 |  0   |\n",
       "| camara | deputados | 66385 | <a href=https://dadosabertos.camara.leg.br/api/v2/deputados/66385>https://dadosabertos.camara.leg.br/api/v2/deputados/66385</a> |           {\"dados\":{\"cpf\":\"77309766768\",\"dataFalecimento\":null,\"dataNascimento\":\"1966-02-14\",\"escolaridade\":\"Superior\",\"id\":66385,\"municipioNascimento\":\"Teresina\",\"nomeCivil\":\"JULIO FERRAZ ARCOVERDE\",\"redeSocial\":[\"https://twitter.com/julioarcoverde\",\"https://www.facebook.com/depjulioarcoverde\",\"https://www.instagram.com/julioarcoverde\",\"https://youtube.com/julioarcoverde\"],\"sexo\":\"M\",\"ufNascimento\":\"PI\",\"ultimoStatus\":{\"condicaoEleitoral\":\"Titular\",\"data\":\"2023-02-01\",\"descricaoStatus\":null,\"email\":null,\"gabinete\":{\"andar\":\"7\",\"email\":\"dep.julioarcoverde@camara.leg.br\",\"nome\":\"729\",\"predio\":\"4\",\"sala\":\"729\",\"telefone\":\"3215-5729\"},\"id\":66385,\"idLegislatura\":57,\"nome\":\"Julio Arcoverde\",\"nomeEleitoral\":\"Julio Arcoverde\",\"siglaPartido\":\"PP\",\"siglaUf\":\"PI\",\"situacao\":\"Exercício\",\"uri\":\"https://dadosabertos.camara.leg.br/api/v2/deputados/66385\",\"uriPartido\":null,\"urlFoto\":\"https://www.camara.leg.br/internet/deputado/bandep/66385.jpg\"},\"uri\":\"https://dadosabertos.camara.leg.br/api/v2/deputados/66385\",\"urlWebsite\":null}}          | 22e9eaf23222140fa4a0eb9bccc115b0198dc34f2ea190276f43a2e89b20821e |  0   |\n",
       "| camara | deputados | 66828 | <a href=https://dadosabertos.camara.leg.br/api/v2/deputados/66828>https://dadosabertos.camara.leg.br/api/v2/deputados/66828</a> |                                                                                              {\"dados\":{\"cpf\":\"28022995819\",\"dataFalecimento\":null,\"dataNascimento\":\"1977-06-01\",\"escolaridade\":\"Superior\",\"id\":66828,\"municipioNascimento\":\"Fernandópolis\",\"nomeCivil\":\"FAUSTO RUY PINATO\",\"redeSocial\":[],\"sexo\":\"M\",\"ufNascimento\":\"SP\",\"ultimoStatus\":{\"condicaoEleitoral\":\"Titular\",\"data\":\"2023-02-01\",\"descricaoStatus\":null,\"email\":null,\"gabinete\":{\"andar\":\"5\",\"email\":\"dep.faustopinato@camara.leg.br\",\"nome\":\"562\",\"predio\":\"4\",\"sala\":\"562\",\"telefone\":\"3215-5562\"},\"id\":66828,\"idLegislatura\":57,\"nome\":\"Fausto Pinato\",\"nomeEleitoral\":\"Fausto Pinato\",\"siglaPartido\":\"PP\",\"siglaUf\":\"SP\",\"situacao\":\"Exercício\",\"uri\":\"https://dadosabertos.camara.leg.br/api/v2/deputados/66828\",\"uriPartido\":null,\"urlFoto\":\"https://www.camara.leg.br/internet/deputado/bandep/66828.jpg\"},\"uri\":\"https://dadosabertos.camara.leg.br/api/v2/deputados/66828\",\"urlWebsite\":null}}                                                                                              | 1554bfed21bd062d1b9df56b0d9791e2f64b4681d5a68861feb6a09375d24657 |  0   |\n",
       "| camara | deputados | 69871 | <a href=https://dadosabertos.camara.leg.br/api/v2/deputados/69871>https://dadosabertos.camara.leg.br/api/v2/deputados/69871</a> |                                   {\"dados\":{\"cpf\":\"10626409500\",\"dataFalecimento\":null,\"dataNascimento\":\"1957-07-09\",\"escolaridade\":\"Pós-Graduação\",\"id\":69871,\"municipioNascimento\":\"Esplanada\",\"nomeCivil\":\"JOAO CARLOS BACELAR BATISTA\",\"redeSocial\":[\"https://twitter.com/DEPUTADOBACELAR\",\"https://www.facebook.com/DEPUTADOBACELAR\",\"https://www.instagram.com/DEPUTADOBACELAR\"],\"sexo\":\"M\",\"ufNascimento\":\"BA\",\"ultimoStatus\":{\"condicaoEleitoral\":\"Titular\",\"data\":\"2023-02-01\",\"descricaoStatus\":null,\"email\":null,\"gabinete\":{\"andar\":null,\"email\":\"dep.bacelar@camara.leg.br\",\"nome\":\"783\",\"predio\":\"3\",\"sala\":\"783\",\"telefone\":\"3215-5783\"},\"id\":69871,\"idLegislatura\":57,\"nome\":\"Bacelar\",\"nomeEleitoral\":\"Bacelar\",\"siglaPartido\":\"PV\",\"siglaUf\":\"BA\",\"situacao\":\"Exercício\",\"uri\":\"https://dadosabertos.camara.leg.br/api/v2/deputados/69871\",\"uriPartido\":null,\"urlFoto\":\"https://www.camara.leg.br/internet/deputado/bandep/69871.jpg\"},\"uri\":\"https://dadosabertos.camara.leg.br/api/v2/deputados/69871\",\"urlWebsite\":null}}                                  | b84949db82f2e55ba0aa6a3feb5340f92047ea9fd0e795c9e44ca58d04e80d0b |  0   |\n",
       "| camara | deputados | 72442 | <a href=https://dadosabertos.camara.leg.br/api/v2/deputados/72442>https://dadosabertos.camara.leg.br/api/v2/deputados/72442</a> |                                                                                   {\"dados\":{\"cpf\":\"86488023420\",\"dataFalecimento\":null,\"dataNascimento\":\"1975-04-16\",\"escolaridade\":\"Superior Incompleto\",\"id\":72442,\"municipioNascimento\":\"Recife\",\"nomeCivil\":\"FELIPE AUGUSTO LYRA CARRERAS\",\"redeSocial\":[],\"sexo\":\"M\",\"ufNascimento\":\"PE\",\"ultimoStatus\":{\"condicaoEleitoral\":\"Titular\",\"data\":\"2023-02-01\",\"descricaoStatus\":null,\"email\":null,\"gabinete\":{\"andar\":\"3\",\"email\":\"dep.felipecarreras@camara.leg.br\",\"nome\":\"318\",\"predio\":\"4\",\"sala\":\"318\",\"telefone\":\"3215-5318\"},\"id\":72442,\"idLegislatura\":57,\"nome\":\"Felipe Carreras\",\"nomeEleitoral\":\"Felipe Carreras\",\"siglaPartido\":\"PSB\",\"siglaUf\":\"PE\",\"situacao\":\"Exercício\",\"uri\":\"https://dadosabertos.camara.leg.br/api/v2/deputados/72442\",\"uriPartido\":null,\"urlFoto\":\"https://www.camara.leg.br/internet/deputado/bandep/72442.jpg\"},\"uri\":\"https://dadosabertos.camara.leg.br/api/v2/deputados/72442\",\"urlWebsite\":null}}                                                                                   | f23db1c7b27fbbad5c30f7bdeef770f9902889958213ac84eba3494bce199ac7 |  0   |\n",
       "| camara | deputados | 73433 | <a href=https://dadosabertos.camara.leg.br/api/v2/deputados/73433>https://dadosabertos.camara.leg.br/api/v2/deputados/73433</a> |                             {\"dados\":{\"cpf\":\"06821146187\",\"dataFalecimento\":null,\"dataNascimento\":\"1949-12-24\",\"escolaridade\":\"Pós-Graduação\",\"id\":73433,\"municipioNascimento\":\"Serra Azul\",\"nomeCivil\":\"ARLINDO CHIGNALIA JUNIOR\",\"redeSocial\":[\"https://twitter.com/achinaglia\",\"https://www.facebook.com/depchinaglia\",\"https://www.instagram.com/depchinaglia\"],\"sexo\":\"M\",\"ufNascimento\":\"SP\",\"ultimoStatus\":{\"condicaoEleitoral\":\"Titular\",\"data\":\"2023-02-01\",\"descricaoStatus\":null,\"email\":null,\"gabinete\":{\"andar\":null,\"email\":\"dep.arlindochinaglia@camara.leg.br\",\"nome\":\"4\",\"predio\":\"x\",\"sala\":\"4\",\"telefone\":\"3215-5966\"},\"id\":73433,\"idLegislatura\":57,\"nome\":\"Arlindo Chinaglia\",\"nomeEleitoral\":\"Arlindo Chinaglia\",\"siglaPartido\":\"PT\",\"siglaUf\":\"SP\",\"situacao\":\"Exercício\",\"uri\":\"https://dadosabertos.camara.leg.br/api/v2/deputados/73433\",\"uriPartido\":null,\"urlFoto\":\"https://www.camara.leg.br/internet/deputado/bandep/73433.jpg\"},\"uri\":\"https://dadosabertos.camara.leg.br/api/v2/deputados/73433\",\"urlWebsite\":null}}                            | 5c12802ff7bb7ad94a23694282b0611071ed87a732dcaf2e2483c2ca1ef03ee9 |  0   |\n",
       "| camara | deputados | 73441 | <a href=https://dadosabertos.camara.leg.br/api/v2/deputados/73441>https://dadosabertos.camara.leg.br/api/v2/deputados/73441</a> | {\"dados\":{\"cpf\":\"01252958803\",\"dataFalecimento\":null,\"dataNascimento\":\"1956-08-20\",\"escolaridade\":\"Superior\",\"id\":73441,\"municipioNascimento\":\"São Paulo\",\"nomeCivil\":\"CELSO UBIRAJARA RUSSOMANNO\",\"redeSocial\":[\"https://twitter.com/celsorussomanno\",\"https://www.facebook.com/celsorussomanno\",\"https://www.instagram.com/celsorussomanno\",\"https://youtube.com/celsorussomanno\"],\"sexo\":\"M\",\"ufNascimento\":\"SP\",\"ultimoStatus\":{\"condicaoEleitoral\":\"Titular\",\"data\":\"2023-02-01\",\"descricaoStatus\":null,\"email\":null,\"gabinete\":{\"andar\":\"9\",\"email\":\"dep.celsorussomanno@camara.leg.br\",\"nome\":\"960\",\"predio\":\"4\",\"sala\":\"960\",\"telefone\":\"3215-5960\"},\"id\":73441,\"idLegislatura\":57,\"nome\":\"Celso Russomanno\",\"nomeEleitoral\":\"Celso Russomanno\",\"siglaPartido\":\"REPUBLICANOS\",\"siglaUf\":\"SP\",\"situacao\":\"Exercício\",\"uri\":\"https://dadosabertos.camara.leg.br/api/v2/deputados/73441\",\"uriPartido\":null,\"urlFoto\":\"https://www.camara.leg.br/internet/deputado/bandep/73441.jpg\"},\"uri\":\"https://dadosabertos.camara.leg.br/api/v2/deputados/73441\",\"urlWebsite\":null}} | feb1082ab87bd18e83a1cb27d82a7c20f773f87035c32af767db93b3301e60f2 |  0   |\n",
       "| camara | deputados | 73486 | <a href=https://dadosabertos.camara.leg.br/api/v2/deputados/73486>https://dadosabertos.camara.leg.br/api/v2/deputados/73486</a> |       {\"dados\":{\"cpf\":\"28346890087\",\"dataFalecimento\":null,\"dataNascimento\":\"1958-07-12\",\"escolaridade\":\"Superior\",\"id\":73486,\"municipioNascimento\":\"Santo Augusto\",\"nomeCivil\":\"DARCI POMPEO DE MATTOS\",\"redeSocial\":[\"https://twitter.com/PompeodeMattos\",\"https://www.facebook.com/PompeodeMattos\",\"https://www.instagram.com/pompeodemattospdt\",\"https://youtube.com/PompeodeMattos\"],\"sexo\":\"M\",\"ufNascimento\":\"RS\",\"ultimoStatus\":{\"condicaoEleitoral\":\"Titular\",\"data\":\"2023-02-01\",\"descricaoStatus\":null,\"email\":null,\"gabinete\":{\"andar\":\"7\",\"email\":\"dep.pompeodemattos@camara.leg.br\",\"nome\":\"704\",\"predio\":\"4\",\"sala\":\"704\",\"telefone\":\"3215-5704\"},\"id\":73486,\"idLegislatura\":57,\"nome\":\"Pompeo de Mattos\",\"nomeEleitoral\":\"Pompeo de Mattos\",\"siglaPartido\":\"PDT\",\"siglaUf\":\"RS\",\"situacao\":\"Exercício\",\"uri\":\"https://dadosabertos.camara.leg.br/api/v2/deputados/73486\",\"uriPartido\":null,\"urlFoto\":\"https://www.camara.leg.br/internet/deputado/bandep/73486.jpg\"},\"uri\":\"https://dadosabertos.camara.leg.br/api/v2/deputados/73486\",\"urlWebsite\":null}}      | 9d4a7743990ca2b91e591e41e6ef9ceaa62006c7148fcfa59d1d2c9a87c137a9 |  0   |\n",
       "| camara | deputados | 73531 | <a href=https://dadosabertos.camara.leg.br/api/v2/deputados/73531>https://dadosabertos.camara.leg.br/api/v2/deputados/73531</a> |                                                                                                   {\"dados\":{\"cpf\":\"37655582815\",\"dataFalecimento\":null,\"dataNascimento\":\"1946-07-05\",\"escolaridade\":\"Superior\",\"id\":73531,\"municipioNascimento\":\"São Paulo\",\"nomeCivil\":\"IVAN VALENTE\",\"redeSocial\":[],\"sexo\":\"M\",\"ufNascimento\":\"SP\",\"ultimoStatus\":{\"condicaoEleitoral\":\"Suplente\",\"data\":\"2023-02-03\",\"descricaoStatus\":null,\"email\":null,\"gabinete\":{\"andar\":\"2\",\"email\":\"dep.ivanvalente@camara.leg.br\",\"nome\":\"230\",\"predio\":\"4\",\"sala\":\"230\",\"telefone\":\"3215-5230\"},\"id\":73531,\"idLegislatura\":57,\"nome\":\"Ivan Valente\",\"nomeEleitoral\":\"Ivan Valente\",\"siglaPartido\":\"PSOL\",\"siglaUf\":\"SP\",\"situacao\":\"Exercício\",\"uri\":\"https://dadosabertos.camara.leg.br/api/v2/deputados/73531\",\"uriPartido\":null,\"urlFoto\":\"https://www.camara.leg.br/internet/deputado/bandep/73531.jpg\"},\"uri\":\"https://dadosabertos.camara.leg.br/api/v2/deputados/73531\",\"urlWebsite\":null}}                                                                                                  | b933aaf1e69c9186210b97aefb5b73a6d8ae459e9781634d3e17c393266c885b |  0   |\n",
       "| camara | deputados | 73579 | <a href=https://dadosabertos.camara.leg.br/api/v2/deputados/73579>https://dadosabertos.camara.leg.br/api/v2/deputados/73579</a> |                                                                      {\"dados\":{\"cpf\":\"11939141168\",\"dataFalecimento\":null,\"dataNascimento\":\"1956-06-02\",\"escolaridade\":\"Superior\",\"id\":73579,\"municipioNascimento\":\"Estância\",\"nomeCivil\":\"JOÃO ALBERTO FRAGA SILVA\",\"redeSocial\":[\"https://www.facebook.com/deputadoalbertofraga\"],\"sexo\":\"M\",\"ufNascimento\":\"SE\",\"ultimoStatus\":{\"condicaoEleitoral\":\"Titular\",\"data\":\"2023-02-01\",\"descricaoStatus\":null,\"email\":null,\"gabinete\":{\"andar\":\"8\",\"email\":\"dep.albertofraga@camara.leg.br\",\"nome\":\"816\",\"predio\":\"4\",\"sala\":\"816\",\"telefone\":\"3215-5816\"},\"id\":73579,\"idLegislatura\":57,\"nome\":\"Alberto Fraga\",\"nomeEleitoral\":\"Alberto Fraga\",\"siglaPartido\":\"PL\",\"siglaUf\":\"DF\",\"situacao\":\"Exercício\",\"uri\":\"https://dadosabertos.camara.leg.br/api/v2/deputados/73579\",\"uriPartido\":null,\"urlFoto\":\"https://www.camara.leg.br/internet/deputado/bandep/73579.jpg\"},\"uri\":\"https://dadosabertos.camara.leg.br/api/v2/deputados/73579\",\"urlWebsite\":null}}                                                                     | 1b2cf08202ac72e1da032f154c86d7c61f02a5fc94edcd27bc85920b4e67cf9b |  0   |\n",
       "+--------+-----------+-------+---------------------------------------------------------------------------------------------------------------------------------+---------------------------------------------------------------------------------------------------------------------------------------------------------------------------------------------------------------------------------------------------------------------------------------------------------------------------------------------------------------------------------------------------------------------------------------------------------------------------------------------------------------------------------------------------------------------------------------------------------------------------------------------------------------------------------------------------------------------------------------------------------------------------------------------------------------------------------------------------------------------------------------------------------------------------------------------------------------------------------------------------------------------------------------------------------------------------------+------------------------------------------------------------------+------+\n",
       "Truncated to displaylimit of 10."
      ]
     },
     "execution_count": 9,
     "metadata": {},
     "output_type": "execute_result"
    }
   ],
   "source": [
    "%%sql\n",
    "SELECT * FROM bronze_camara_deputados LIMIT 10;"
   ]
  },
  {
   "cell_type": "code",
   "execution_count": 10,
   "id": "ad86ee43",
   "metadata": {
    "vscode": {
     "languageId": "sql"
    }
   },
   "outputs": [
    {
     "data": {
      "text/html": [
       "<span style=\"None\">Running query in &#x27;duck&#x27;</span>"
      ],
      "text/plain": [
       "Running query in 'duck'"
      ]
     },
     "metadata": {},
     "output_type": "display_data"
    },
    {
     "data": {
      "text/html": [
       "<table>\n",
       "    <thead>\n",
       "        <tr>\n",
       "            <th>Success</th>\n",
       "        </tr>\n",
       "    </thead>\n",
       "    <tbody>\n",
       "    </tbody>\n",
       "</table>"
      ],
      "text/plain": [
       "+---------+\n",
       "| Success |\n",
       "+---------+\n",
       "+---------+"
      ]
     },
     "execution_count": 10,
     "metadata": {},
     "output_type": "execute_result"
    }
   ],
   "source": [
    "%%sql\n",
    "DROP TABLE IF EXISTS deputados_camara;\n",
    "CREATE TABLE deputados_camara AS\n",
    "WITH base AS (\n",
    "    SELECT TRY_CAST(payload_json AS JSON) as j, year\n",
    "    FROM bronze_camara_deputados\n",
    ")\n",
    "SELECT\n",
    "    CAST(jget1(j, '$.dados.id') AS BIGINT) AS id_deputado,\n",
    "    jget1(j, '$.dados.nomeCivil') AS nome_civil,\n",
    "    jget1(j, '$.dados.uri') AS uri,\n",
    "    year AS year_snapshot\n",
    "FROM base\n",
    "WHERE jget1(j, '$.dados.id') IS NOT NULL;\n",
    "DROP VIEW IF EXISTS bronze_camara_deputados;"
   ]
  },
  {
   "cell_type": "markdown",
   "id": "44ced7ec",
   "metadata": {
    "vscode": {
     "languageId": "sql"
    }
   },
   "source": [
    "### Eventos"
   ]
  },
  {
   "cell_type": "code",
   "execution_count": 11,
   "id": "8c916ab0",
   "metadata": {
    "vscode": {
     "languageId": "sql"
    }
   },
   "outputs": [
    {
     "data": {
      "text/html": [
       "<span style=\"None\">Running query in &#x27;duck&#x27;</span>"
      ],
      "text/plain": [
       "Running query in 'duck'"
      ]
     },
     "metadata": {},
     "output_type": "display_data"
    },
    {
     "data": {
      "text/html": [
       "<table>\n",
       "    <thead>\n",
       "        <tr>\n",
       "            <th>n</th>\n",
       "        </tr>\n",
       "    </thead>\n",
       "    <tbody>\n",
       "        <tr>\n",
       "            <td>1414</td>\n",
       "        </tr>\n",
       "    </tbody>\n",
       "</table>"
      ],
      "text/plain": [
       "+------+\n",
       "|  n   |\n",
       "+------+\n",
       "| 1414 |\n",
       "+------+"
      ]
     },
     "execution_count": 11,
     "metadata": {},
     "output_type": "execute_result"
    }
   ],
   "source": [
    "%%sql\n",
    "CREATE OR REPLACE VIEW bronze_camara_eventos AS\n",
    "SELECT * FROM parquet_scan(\"data/bronze/snapshots/bronze-2020-smoke/camara/eventos/details/year=*/part-*.parquet\")\n",
    "WHERE source = 'camara' AND entity = 'eventos';\n",
    "\n",
    "SELECT COUNT(*) AS n FROM bronze_camara_eventos;"
   ]
  },
  {
   "cell_type": "code",
   "execution_count": 12,
   "id": "0e765b73",
   "metadata": {
    "vscode": {
     "languageId": "sql"
    }
   },
   "outputs": [
    {
     "data": {
      "text/html": [
       "<span style=\"None\">Running query in &#x27;duck&#x27;</span>"
      ],
      "text/plain": [
       "Running query in 'duck'"
      ]
     },
     "metadata": {},
     "output_type": "display_data"
    },
    {
     "data": {
      "text/html": [
       "<table>\n",
       "    <thead>\n",
       "        <tr>\n",
       "            <th>Success</th>\n",
       "        </tr>\n",
       "    </thead>\n",
       "    <tbody>\n",
       "    </tbody>\n",
       "</table>"
      ],
      "text/plain": [
       "+---------+\n",
       "| Success |\n",
       "+---------+\n",
       "+---------+"
      ]
     },
     "execution_count": 12,
     "metadata": {},
     "output_type": "execute_result"
    }
   ],
   "source": [
    "\n",
    "%%sql\n",
    "DROP TABLE IF EXISTS eventos_camara;\n",
    "CREATE TABLE eventos_camara AS\n",
    "WITH base AS (\n",
    "    SELECT TRY_CAST(payload_json AS JSON) as j, year\n",
    "    FROM bronze_camara_eventos\n",
    ")\n",
    "SELECT\n",
    "    CAST(jget1(j, '$.dados.id') AS BIGINT) AS id_evento,\n",
    "    CAST(jget1(j, '$.dados.dataHoraInicio') AS DATETIME) AS data_hora_inicio,\n",
    "    CAST(jget1(j, '$.dados.dataHoraFim') AS DATETIME) AS data_hora_fim,\n",
    "    jget1(j, '$.dados.descricao') AS descricao,\n",
    "    jget1(j, '$.dados.descricaoTipo') AS descricao_tipo,\n",
    "    jget1(j, '$.dados.fases') AS fases,  -- é sempre null mas deixei por precaução\n",
    "    jget1(j, '$.dados.uri') AS uri,\n",
    "    year AS year_snapshot\n",
    "FROM base\n",
    "WHERE jget1(j, '$.dados.id') IS NOT NULL;\n",
    "DROP VIEW IF EXISTS bronze_camara_eventos;"
   ]
  },
  {
   "cell_type": "markdown",
   "id": "4b8ff15c",
   "metadata": {
    "vscode": {
     "languageId": "sql"
    }
   },
   "source": [
    "### Frentes"
   ]
  },
  {
   "cell_type": "code",
   "execution_count": 13,
   "id": "9f42c185",
   "metadata": {
    "vscode": {
     "languageId": "sql"
    }
   },
   "outputs": [
    {
     "data": {
      "text/html": [
       "<span style=\"None\">Running query in &#x27;duck&#x27;</span>"
      ],
      "text/plain": [
       "Running query in 'duck'"
      ]
     },
     "metadata": {},
     "output_type": "display_data"
    },
    {
     "data": {
      "text/html": [
       "<table>\n",
       "    <thead>\n",
       "        <tr>\n",
       "            <th>n</th>\n",
       "        </tr>\n",
       "    </thead>\n",
       "    <tbody>\n",
       "        <tr>\n",
       "            <td>1564</td>\n",
       "        </tr>\n",
       "    </tbody>\n",
       "</table>"
      ],
      "text/plain": [
       "+------+\n",
       "|  n   |\n",
       "+------+\n",
       "| 1564 |\n",
       "+------+"
      ]
     },
     "execution_count": 13,
     "metadata": {},
     "output_type": "execute_result"
    }
   ],
   "source": [
    "%%sql\n",
    "CREATE OR REPLACE VIEW bronze_camara_frentes AS\n",
    "SELECT * FROM parquet_scan(\"data/bronze/snapshots/bronze-2020-smoke/camara/frentes/details/year=*/part-*.parquet\")\n",
    "WHERE source = 'camara' AND entity = 'frentes';\n",
    "\n",
    "SELECT COUNT(*) AS n FROM bronze_camara_frentes;"
   ]
  },
  {
   "cell_type": "code",
   "execution_count": 14,
   "id": "439f4d46",
   "metadata": {
    "vscode": {
     "languageId": "sql"
    }
   },
   "outputs": [
    {
     "data": {
      "text/html": [
       "<span style=\"None\">Running query in &#x27;duck&#x27;</span>"
      ],
      "text/plain": [
       "Running query in 'duck'"
      ]
     },
     "metadata": {},
     "output_type": "display_data"
    },
    {
     "data": {
      "text/html": [
       "<table>\n",
       "    <thead>\n",
       "        <tr>\n",
       "            <th>Success</th>\n",
       "        </tr>\n",
       "    </thead>\n",
       "    <tbody>\n",
       "    </tbody>\n",
       "</table>"
      ],
      "text/plain": [
       "+---------+\n",
       "| Success |\n",
       "+---------+\n",
       "+---------+"
      ]
     },
     "execution_count": 14,
     "metadata": {},
     "output_type": "execute_result"
    }
   ],
   "source": [
    "%%sql\n",
    "DROP TABLE IF EXISTS frentes_camara;\n",
    "CREATE TABLE frentes_camara AS\n",
    "WITH base AS (\n",
    "    SELECT TRY_CAST(payload_json AS JSON) as j, year\n",
    "    FROM bronze_camara_frentes\n",
    ")\n",
    "SELECT\n",
    "    CAST(jget1(j, '$.dados.id') AS BIGINT) AS id_frente,\n",
    "    CAST(jget1(j, '$.dados.coordenador.id') AS BIGINT) AS id_deputado_coordenador,\n",
    "    CAST(jget1(j, '$.dados.idLegislatura') AS BIGINT) AS id_legislatura,\n",
    "    jget1(j, '$.dados.titulo') AS titulo,\n",
    "    jget1(j, '$.dados.uri') AS uri,\n",
    "    year AS year_snapshot\n",
    "FROM base\n",
    "WHERE jget1(j, '$.dados.id') IS NOT NULL;\n",
    "DROP VIEW IF EXISTS bronze_camara_frentes;"
   ]
  },
  {
   "cell_type": "code",
   "execution_count": 15,
   "id": "32517118",
   "metadata": {
    "vscode": {
     "languageId": "sql"
    }
   },
   "outputs": [
    {
     "data": {
      "text/html": [
       "<span style=\"None\">Running query in &#x27;duck&#x27;</span>"
      ],
      "text/plain": [
       "Running query in 'duck'"
      ]
     },
     "metadata": {},
     "output_type": "display_data"
    },
    {
     "data": {
      "text/html": [
       "<table>\n",
       "    <thead>\n",
       "        <tr>\n",
       "            <th>id_frente</th>\n",
       "            <th>id_deputado_coordenador</th>\n",
       "            <th>id_legislatura</th>\n",
       "            <th>titulo</th>\n",
       "            <th>uri</th>\n",
       "            <th>year_snapshot</th>\n",
       "        </tr>\n",
       "    </thead>\n",
       "    <tbody>\n",
       "        <tr>\n",
       "            <td>346</td>\n",
       "            <td>160555</td>\n",
       "            <td>54</td>\n",
       "            <td>Frente Parlamentar pela criação do Ministério da Segurança Pública</td>\n",
       "            <td><a href=https://dadosabertos.camara.leg.br/api/v2/frentes/346>https://dadosabertos.camara.leg.br/api/v2/frentes/346</a></td>\n",
       "            <td>0</td>\n",
       "        </tr>\n",
       "        <tr>\n",
       "            <td>347</td>\n",
       "            <td>74210</td>\n",
       "            <td>54</td>\n",
       "            <td>Frente Parlamentar Ambientalista</td>\n",
       "            <td><a href=https://dadosabertos.camara.leg.br/api/v2/frentes/347>https://dadosabertos.camara.leg.br/api/v2/frentes/347</a></td>\n",
       "            <td>0</td>\n",
       "        </tr>\n",
       "        <tr>\n",
       "            <td>348</td>\n",
       "            <td>160533</td>\n",
       "            <td>54</td>\n",
       "            <td>Frente Parlamentar em Defesa dos Direitos da Criança e do Adolescente</td>\n",
       "            <td><a href=https://dadosabertos.camara.leg.br/api/v2/frentes/348>https://dadosabertos.camara.leg.br/api/v2/frentes/348</a></td>\n",
       "            <td>0</td>\n",
       "        </tr>\n",
       "        <tr>\n",
       "            <td>350</td>\n",
       "            <td>141428</td>\n",
       "            <td>54</td>\n",
       "            <td>Frente Parlamentar Mista de Combate ao Crack</td>\n",
       "            <td><a href=https://dadosabertos.camara.leg.br/api/v2/frentes/350>https://dadosabertos.camara.leg.br/api/v2/frentes/350</a></td>\n",
       "            <td>0</td>\n",
       "        </tr>\n",
       "        <tr>\n",
       "            <td>351</td>\n",
       "            <td>160646</td>\n",
       "            <td>54</td>\n",
       "            <td>Frente Parlamentar da Segurança Pública</td>\n",
       "            <td><a href=https://dadosabertos.camara.leg.br/api/v2/frentes/351>https://dadosabertos.camara.leg.br/api/v2/frentes/351</a></td>\n",
       "            <td>0</td>\n",
       "        </tr>\n",
       "    </tbody>\n",
       "</table>"
      ],
      "text/plain": [
       "+-----------+-------------------------+----------------+-----------------------------------------------------------------------+-------------------------------------------------------------------------------------------------------------------------+---------------+\n",
       "| id_frente | id_deputado_coordenador | id_legislatura |                                 titulo                                |                                                           uri                                                           | year_snapshot |\n",
       "+-----------+-------------------------+----------------+-----------------------------------------------------------------------+-------------------------------------------------------------------------------------------------------------------------+---------------+\n",
       "|    346    |          160555         |       54       |   Frente Parlamentar pela criação do Ministério da Segurança Pública  | <a href=https://dadosabertos.camara.leg.br/api/v2/frentes/346>https://dadosabertos.camara.leg.br/api/v2/frentes/346</a> |       0       |\n",
       "|    347    |          74210          |       54       |                    Frente Parlamentar Ambientalista                   | <a href=https://dadosabertos.camara.leg.br/api/v2/frentes/347>https://dadosabertos.camara.leg.br/api/v2/frentes/347</a> |       0       |\n",
       "|    348    |          160533         |       54       | Frente Parlamentar em Defesa dos Direitos da Criança e do Adolescente | <a href=https://dadosabertos.camara.leg.br/api/v2/frentes/348>https://dadosabertos.camara.leg.br/api/v2/frentes/348</a> |       0       |\n",
       "|    350    |          141428         |       54       |              Frente Parlamentar Mista de Combate ao Crack             | <a href=https://dadosabertos.camara.leg.br/api/v2/frentes/350>https://dadosabertos.camara.leg.br/api/v2/frentes/350</a> |       0       |\n",
       "|    351    |          160646         |       54       |                Frente Parlamentar da Segurança Pública                | <a href=https://dadosabertos.camara.leg.br/api/v2/frentes/351>https://dadosabertos.camara.leg.br/api/v2/frentes/351</a> |       0       |\n",
       "+-----------+-------------------------+----------------+-----------------------------------------------------------------------+-------------------------------------------------------------------------------------------------------------------------+---------------+"
      ]
     },
     "execution_count": 15,
     "metadata": {},
     "output_type": "execute_result"
    }
   ],
   "source": [
    "%%sql\n",
    "SELECT * FROM frentes_camara LIMIT 5;"
   ]
  },
  {
   "cell_type": "markdown",
   "id": "1d93a68c",
   "metadata": {},
   "source": [
    "### Legislaturas"
   ]
  },
  {
   "cell_type": "code",
   "execution_count": 16,
   "id": "51a1c395",
   "metadata": {
    "vscode": {
     "languageId": "sql"
    }
   },
   "outputs": [
    {
     "data": {
      "text/html": [
       "<span style=\"None\">Running query in &#x27;duck&#x27;</span>"
      ],
      "text/plain": [
       "Running query in 'duck'"
      ]
     },
     "metadata": {},
     "output_type": "display_data"
    },
    {
     "data": {
      "text/html": [
       "<table>\n",
       "    <thead>\n",
       "        <tr>\n",
       "            <th>n</th>\n",
       "        </tr>\n",
       "    </thead>\n",
       "    <tbody>\n",
       "        <tr>\n",
       "            <td>57</td>\n",
       "        </tr>\n",
       "    </tbody>\n",
       "</table>"
      ],
      "text/plain": [
       "+----+\n",
       "| n  |\n",
       "+----+\n",
       "| 57 |\n",
       "+----+"
      ]
     },
     "execution_count": 16,
     "metadata": {},
     "output_type": "execute_result"
    }
   ],
   "source": [
    "%%sql\n",
    "CREATE OR REPLACE VIEW bronze_camara_legislaturas AS\n",
    "SELECT * FROM parquet_scan(\"data/bronze/snapshots/bronze-2020-smoke/camara/legislaturas/details/year=*/part-*.parquet\")\n",
    "WHERE source = 'camara' AND entity = 'legislaturas';\n",
    "\n",
    "SELECT COUNT(*) AS n FROM bronze_camara_legislaturas;"
   ]
  },
  {
   "cell_type": "code",
   "execution_count": 17,
   "id": "3fe36b09",
   "metadata": {
    "vscode": {
     "languageId": "sql"
    }
   },
   "outputs": [
    {
     "data": {
      "text/html": [
       "<span style=\"None\">Running query in &#x27;duck&#x27;</span>"
      ],
      "text/plain": [
       "Running query in 'duck'"
      ]
     },
     "metadata": {},
     "output_type": "display_data"
    },
    {
     "data": {
      "text/html": [
       "<table>\n",
       "    <thead>\n",
       "        <tr>\n",
       "            <th>Success</th>\n",
       "        </tr>\n",
       "    </thead>\n",
       "    <tbody>\n",
       "    </tbody>\n",
       "</table>"
      ],
      "text/plain": [
       "+---------+\n",
       "| Success |\n",
       "+---------+\n",
       "+---------+"
      ]
     },
     "execution_count": 17,
     "metadata": {},
     "output_type": "execute_result"
    }
   ],
   "source": [
    "\n",
    "%%sql\n",
    "DROP TABLE IF EXISTS legislaturas_camara;\n",
    "CREATE TABLE legislaturas_camara AS\n",
    "WITH base AS (\n",
    "    SELECT TRY_CAST(payload_json AS JSON) as j, year\n",
    "    FROM bronze_camara_legislaturas\n",
    ")\n",
    "SELECT\n",
    "    CAST(jget1(j, '$.dados.id') AS BIGINT) AS id_legislatura,\n",
    "    CAST(jget1(j, '$.dados.dataInicio') AS DATE) AS data_inicio,\n",
    "    CAST(jget1(j, '$.dados.dataFim') AS DATE) AS data_fim,\n",
    "    jget1(j, '$.dados.uri') AS uri,\n",
    "    year AS year_snapshot\n",
    "FROM base\n",
    "WHERE jget1(j, '$.dados.id') IS NOT NULL;\n",
    "DROP VIEW IF EXISTS bronze_camara_legislaturas;\n"
   ]
  },
  {
   "cell_type": "code",
   "execution_count": 18,
   "id": "3b347d6f",
   "metadata": {
    "vscode": {
     "languageId": "sql"
    }
   },
   "outputs": [
    {
     "data": {
      "text/html": [
       "<span style=\"None\">Running query in &#x27;duck&#x27;</span>"
      ],
      "text/plain": [
       "Running query in 'duck'"
      ]
     },
     "metadata": {},
     "output_type": "display_data"
    },
    {
     "data": {
      "text/html": [
       "<table>\n",
       "    <thead>\n",
       "        <tr>\n",
       "            <th>id_legislatura</th>\n",
       "            <th>data_inicio</th>\n",
       "            <th>data_fim</th>\n",
       "            <th>uri</th>\n",
       "            <th>year_snapshot</th>\n",
       "        </tr>\n",
       "    </thead>\n",
       "    <tbody>\n",
       "        <tr>\n",
       "            <td>1</td>\n",
       "            <td>1826-04-29</td>\n",
       "            <td>1830-04-24</td>\n",
       "            <td><a href=https://dadosabertos.camara.leg.br/api/v2/legislaturas/1>https://dadosabertos.camara.leg.br/api/v2/legislaturas/1</a></td>\n",
       "            <td>0</td>\n",
       "        </tr>\n",
       "        <tr>\n",
       "            <td>2</td>\n",
       "            <td>1830-04-25</td>\n",
       "            <td>1834-04-24</td>\n",
       "            <td><a href=https://dadosabertos.camara.leg.br/api/v2/legislaturas/2>https://dadosabertos.camara.leg.br/api/v2/legislaturas/2</a></td>\n",
       "            <td>0</td>\n",
       "        </tr>\n",
       "        <tr>\n",
       "            <td>3</td>\n",
       "            <td>1834-04-25</td>\n",
       "            <td>1838-04-24</td>\n",
       "            <td><a href=https://dadosabertos.camara.leg.br/api/v2/legislaturas/3>https://dadosabertos.camara.leg.br/api/v2/legislaturas/3</a></td>\n",
       "            <td>0</td>\n",
       "        </tr>\n",
       "        <tr>\n",
       "            <td>4</td>\n",
       "            <td>1838-04-25</td>\n",
       "            <td>1842-04-24</td>\n",
       "            <td><a href=https://dadosabertos.camara.leg.br/api/v2/legislaturas/4>https://dadosabertos.camara.leg.br/api/v2/legislaturas/4</a></td>\n",
       "            <td>0</td>\n",
       "        </tr>\n",
       "        <tr>\n",
       "            <td>5</td>\n",
       "            <td>1842-04-25</td>\n",
       "            <td>1844-05-24</td>\n",
       "            <td><a href=https://dadosabertos.camara.leg.br/api/v2/legislaturas/5>https://dadosabertos.camara.leg.br/api/v2/legislaturas/5</a></td>\n",
       "            <td>0</td>\n",
       "        </tr>\n",
       "        <tr>\n",
       "            <td>6</td>\n",
       "            <td>1844-12-24</td>\n",
       "            <td>1848-04-24</td>\n",
       "            <td><a href=https://dadosabertos.camara.leg.br/api/v2/legislaturas/6>https://dadosabertos.camara.leg.br/api/v2/legislaturas/6</a></td>\n",
       "            <td>0</td>\n",
       "        </tr>\n",
       "        <tr>\n",
       "            <td>7</td>\n",
       "            <td>1848-04-25</td>\n",
       "            <td>1849-02-19</td>\n",
       "            <td><a href=https://dadosabertos.camara.leg.br/api/v2/legislaturas/7>https://dadosabertos.camara.leg.br/api/v2/legislaturas/7</a></td>\n",
       "            <td>0</td>\n",
       "        </tr>\n",
       "        <tr>\n",
       "            <td>8</td>\n",
       "            <td>1849-12-15</td>\n",
       "            <td>1853-04-14</td>\n",
       "            <td><a href=https://dadosabertos.camara.leg.br/api/v2/legislaturas/8>https://dadosabertos.camara.leg.br/api/v2/legislaturas/8</a></td>\n",
       "            <td>0</td>\n",
       "        </tr>\n",
       "        <tr>\n",
       "            <td>9</td>\n",
       "            <td>1853-04-15</td>\n",
       "            <td>1857-04-14</td>\n",
       "            <td><a href=https://dadosabertos.camara.leg.br/api/v2/legislaturas/9>https://dadosabertos.camara.leg.br/api/v2/legislaturas/9</a></td>\n",
       "            <td>0</td>\n",
       "        </tr>\n",
       "        <tr>\n",
       "            <td>10</td>\n",
       "            <td>1857-04-15</td>\n",
       "            <td>1861-04-14</td>\n",
       "            <td><a href=https://dadosabertos.camara.leg.br/api/v2/legislaturas/10>https://dadosabertos.camara.leg.br/api/v2/legislaturas/10</a></td>\n",
       "            <td>0</td>\n",
       "        </tr>\n",
       "    </tbody>\n",
       "</table>\n",
       "<span style=\"font-style:italic;text-align:center;\">Truncated to <a href=\"https://jupysql.ploomber.io/en/latest/api/configuration.html#displaylimit\">displaylimit</a> of 10.</span>"
      ],
      "text/plain": [
       "+----------------+-------------+------------+---------------------------------------------------------------------------------------------------------------------------------+---------------+\n",
       "| id_legislatura | data_inicio |  data_fim  |                                                               uri                                                               | year_snapshot |\n",
       "+----------------+-------------+------------+---------------------------------------------------------------------------------------------------------------------------------+---------------+\n",
       "|       1        |  1826-04-29 | 1830-04-24 |  <a href=https://dadosabertos.camara.leg.br/api/v2/legislaturas/1>https://dadosabertos.camara.leg.br/api/v2/legislaturas/1</a>  |       0       |\n",
       "|       2        |  1830-04-25 | 1834-04-24 |  <a href=https://dadosabertos.camara.leg.br/api/v2/legislaturas/2>https://dadosabertos.camara.leg.br/api/v2/legislaturas/2</a>  |       0       |\n",
       "|       3        |  1834-04-25 | 1838-04-24 |  <a href=https://dadosabertos.camara.leg.br/api/v2/legislaturas/3>https://dadosabertos.camara.leg.br/api/v2/legislaturas/3</a>  |       0       |\n",
       "|       4        |  1838-04-25 | 1842-04-24 |  <a href=https://dadosabertos.camara.leg.br/api/v2/legislaturas/4>https://dadosabertos.camara.leg.br/api/v2/legislaturas/4</a>  |       0       |\n",
       "|       5        |  1842-04-25 | 1844-05-24 |  <a href=https://dadosabertos.camara.leg.br/api/v2/legislaturas/5>https://dadosabertos.camara.leg.br/api/v2/legislaturas/5</a>  |       0       |\n",
       "|       6        |  1844-12-24 | 1848-04-24 |  <a href=https://dadosabertos.camara.leg.br/api/v2/legislaturas/6>https://dadosabertos.camara.leg.br/api/v2/legislaturas/6</a>  |       0       |\n",
       "|       7        |  1848-04-25 | 1849-02-19 |  <a href=https://dadosabertos.camara.leg.br/api/v2/legislaturas/7>https://dadosabertos.camara.leg.br/api/v2/legislaturas/7</a>  |       0       |\n",
       "|       8        |  1849-12-15 | 1853-04-14 |  <a href=https://dadosabertos.camara.leg.br/api/v2/legislaturas/8>https://dadosabertos.camara.leg.br/api/v2/legislaturas/8</a>  |       0       |\n",
       "|       9        |  1853-04-15 | 1857-04-14 |  <a href=https://dadosabertos.camara.leg.br/api/v2/legislaturas/9>https://dadosabertos.camara.leg.br/api/v2/legislaturas/9</a>  |       0       |\n",
       "|       10       |  1857-04-15 | 1861-04-14 | <a href=https://dadosabertos.camara.leg.br/api/v2/legislaturas/10>https://dadosabertos.camara.leg.br/api/v2/legislaturas/10</a> |       0       |\n",
       "+----------------+-------------+------------+---------------------------------------------------------------------------------------------------------------------------------+---------------+\n",
       "Truncated to displaylimit of 10."
      ]
     },
     "execution_count": 18,
     "metadata": {},
     "output_type": "execute_result"
    }
   ],
   "source": [
    "%%sql\n",
    "SELECT * FROM legislaturas_camara;"
   ]
  },
  {
   "cell_type": "markdown",
   "id": "0888c924",
   "metadata": {
    "vscode": {
     "languageId": "sql"
    }
   },
   "source": [
    "### Órgaos"
   ]
  },
  {
   "cell_type": "code",
   "execution_count": 19,
   "id": "8adb0ac6",
   "metadata": {
    "vscode": {
     "languageId": "sql"
    }
   },
   "outputs": [
    {
     "data": {
      "text/html": [
       "<span style=\"None\">Running query in &#x27;duck&#x27;</span>"
      ],
      "text/plain": [
       "Running query in 'duck'"
      ]
     },
     "metadata": {},
     "output_type": "display_data"
    },
    {
     "data": {
      "text/html": [
       "<table>\n",
       "    <thead>\n",
       "        <tr>\n",
       "            <th>n</th>\n",
       "        </tr>\n",
       "    </thead>\n",
       "    <tbody>\n",
       "        <tr>\n",
       "            <td>1822</td>\n",
       "        </tr>\n",
       "    </tbody>\n",
       "</table>"
      ],
      "text/plain": [
       "+------+\n",
       "|  n   |\n",
       "+------+\n",
       "| 1822 |\n",
       "+------+"
      ]
     },
     "execution_count": 19,
     "metadata": {},
     "output_type": "execute_result"
    }
   ],
   "source": [
    "%%sql\n",
    "CREATE OR REPLACE VIEW bronze_camara_orgaos AS\n",
    "SELECT * FROM parquet_scan(\"data/bronze/snapshots/bronze-2020-smoke/camara/orgaos/details/year=*/part-*.parquet\")\n",
    "WHERE source = 'camara' AND entity = 'orgaos';\n",
    "\n",
    "SELECT COUNT(*) AS n FROM bronze_camara_orgaos;\n"
   ]
  },
  {
   "cell_type": "code",
   "execution_count": 20,
   "id": "706d421b",
   "metadata": {
    "vscode": {
     "languageId": "sql"
    }
   },
   "outputs": [
    {
     "data": {
      "text/html": [
       "<span style=\"None\">Running query in &#x27;duck&#x27;</span>"
      ],
      "text/plain": [
       "Running query in 'duck'"
      ]
     },
     "metadata": {},
     "output_type": "display_data"
    },
    {
     "data": {
      "text/html": [
       "<table>\n",
       "    <thead>\n",
       "        <tr>\n",
       "            <th>source</th>\n",
       "            <th>entity</th>\n",
       "            <th>id</th>\n",
       "            <th>url</th>\n",
       "            <th>payload_json</th>\n",
       "            <th>payload_sha256</th>\n",
       "            <th>year</th>\n",
       "        </tr>\n",
       "    </thead>\n",
       "    <tbody>\n",
       "        <tr>\n",
       "            <td>camara</td>\n",
       "            <td>orgaos</td>\n",
       "            <td>4</td>\n",
       "            <td><a href=https://dadosabertos.camara.leg.br/api/v2/orgaos/4>https://dadosabertos.camara.leg.br/api/v2/orgaos/4</a></td>\n",
       "            <td>{\"dados\":{\"apelido\":\"Mesa Diretora\",\"casa\":\"\",\"codTipoOrgao\":1,\"dataFim\":null,\"dataFimOriginal\":null,\"dataInicio\":null,\"dataInstalacao\":null,\"id\":4,\"nome\":\"Mesa Diretora da Câmara dos Deputados\",\"nomePublicacao\":\"Mesa Diretora\",\"nomeResumido\":null,\"sala\":\"Sala de Reuniões do Espaço Cultural\",\"sigla\":\"MESA\",\"tipoOrgao\":\"Comissão Diretora\",\"uri\":\"https://dadosabertos.camara.leg.br/api/v2/orgaos/4\",\"urlWebsite\":null}}</td>\n",
       "            <td>681d0b88b7c289a596b29818f85525063e51492c3a3b63a5d521fefbf9d10476</td>\n",
       "            <td>0</td>\n",
       "        </tr>\n",
       "        <tr>\n",
       "            <td>camara</td>\n",
       "            <td>orgaos</td>\n",
       "            <td>111</td>\n",
       "            <td><a href=https://dadosabertos.camara.leg.br/api/v2/orgaos/111>https://dadosabertos.camara.leg.br/api/v2/orgaos/111</a></td>\n",
       "            <td>{\"dados\":{\"apelido\":\"CONGRESSO NACIONAL\",\"casa\":\"\",\"codTipoOrgao\":81001,\"dataFim\":null,\"dataFimOriginal\":null,\"dataInicio\":\"2020-03-20T00:00\",\"dataInstalacao\":\"2020-03-20T00:00\",\"id\":111,\"nome\":\"CONGRESSO NACIONAL\",\"nomePublicacao\":\"CN\",\"nomeResumido\":\"Congresso Nacional\",\"sala\":\"Plenário da Câmara dos Deputados\",\"sigla\":\"CN\",\"tipoOrgao\":\"Órgão do Congresso Nacional\",\"uri\":\"https://dadosabertos.camara.leg.br/api/v2/orgaos/111\",\"urlWebsite\":null}}</td>\n",
       "            <td>2858236d7f6c5401b61e60c7d92c94166c6181b5d9341bd7248eaaf942657362</td>\n",
       "            <td>0</td>\n",
       "        </tr>\n",
       "        <tr>\n",
       "            <td>camara</td>\n",
       "            <td>orgaos</td>\n",
       "            <td>180</td>\n",
       "            <td><a href=https://dadosabertos.camara.leg.br/api/v2/orgaos/180>https://dadosabertos.camara.leg.br/api/v2/orgaos/180</a></td>\n",
       "            <td>{\"dados\":{\"apelido\":\"Plenário\",\"casa\":\"\",\"codTipoOrgao\":26,\"dataFim\":null,\"dataFimOriginal\":null,\"dataInicio\":\"2020-03-20T00:00\",\"dataInstalacao\":\"2020-03-20T00:00\",\"id\":180,\"nome\":\"Plenário\",\"nomePublicacao\":\"Plenário\",\"nomeResumido\":\"Plenário\",\"sala\":\"Plenário da Câmara dos Deputados\",\"sigla\":\"PLEN\",\"tipoOrgao\":\"Plenário Virtual\",\"uri\":\"https://dadosabertos.camara.leg.br/api/v2/orgaos/180\",\"urlWebsite\":null}}</td>\n",
       "            <td>a7fa8343decdf82e8b69812839bec2fcc1a3d9b4211e398c12802f49970759a2</td>\n",
       "            <td>0</td>\n",
       "        </tr>\n",
       "        <tr>\n",
       "            <td>camara</td>\n",
       "            <td>orgaos</td>\n",
       "            <td>186</td>\n",
       "            <td><a href=https://dadosabertos.camara.leg.br/api/v2/orgaos/186>https://dadosabertos.camara.leg.br/api/v2/orgaos/186</a></td>\n",
       "            <td>{\"dados\":{\"apelido\":\"COORDENAÇÃO DE COMISSÕES PERMANENTES\",\"casa\":\"\",\"codTipoOrgao\":12000,\"dataFim\":null,\"dataFimOriginal\":null,\"dataInicio\":null,\"dataInstalacao\":null,\"id\":186,\"nome\":\"COORDENAÇÃO DE COMISSÕES PERMANENTES\",\"nomePublicacao\":\"COORDENAÇÃO DE COMISSÕES PERMANENTES\",\"nomeResumido\":null,\"sala\":null,\"sigla\":\"CCP\",\"tipoOrgao\":\"Órgão da Câmara dos Deputados\",\"uri\":\"https://dadosabertos.camara.leg.br/api/v2/orgaos/186\",\"urlWebsite\":null}}</td>\n",
       "            <td>0cf758d6db9b7954b6bc8fa87cc69d842e95313f7db06fcdee8f9bf412fe8162</td>\n",
       "            <td>0</td>\n",
       "        </tr>\n",
       "        <tr>\n",
       "            <td>camara</td>\n",
       "            <td>orgaos</td>\n",
       "            <td>209</td>\n",
       "            <td><a href=https://dadosabertos.camara.leg.br/api/v2/orgaos/209>https://dadosabertos.camara.leg.br/api/v2/orgaos/209</a></td>\n",
       "            <td>{\"dados\":{\"apelido\":\"PODER CONCLUSIVO NAS COMISSÕES\",\"casa\":\"\",\"codTipoOrgao\":12000,\"dataFim\":null,\"dataFimOriginal\":null,\"dataInicio\":null,\"dataInstalacao\":null,\"id\":209,\"nome\":\"PODER CONCLUSIVO NAS COMISSÕES\",\"nomePublicacao\":\"PODER CONCLUSIVO NAS COMISSÕES\",\"nomeResumido\":null,\"sala\":null,\"sigla\":\"PTCOM\",\"tipoOrgao\":\"Órgão da Câmara dos Deputados\",\"uri\":\"https://dadosabertos.camara.leg.br/api/v2/orgaos/209\",\"urlWebsite\":null}}</td>\n",
       "            <td>d2473bfa9138c669645a3c842c26718ba79433d32ece0acb851bffa1ed0a911a</td>\n",
       "            <td>0</td>\n",
       "        </tr>\n",
       "        <tr>\n",
       "            <td>camara</td>\n",
       "            <td>orgaos</td>\n",
       "            <td>249</td>\n",
       "            <td><a href=https://dadosabertos.camara.leg.br/api/v2/orgaos/249>https://dadosabertos.camara.leg.br/api/v2/orgaos/249</a></td>\n",
       "            <td>{\"dados\":{\"apelido\":\"PRESIDÊNCIA DA CÂMARA DOS DEPUTADOS\",\"casa\":\"\",\"codTipoOrgao\":12000,\"dataFim\":null,\"dataFimOriginal\":null,\"dataInicio\":null,\"dataInstalacao\":null,\"id\":249,\"nome\":\"PRESIDÊNCIA DA CÂMARA DOS DEPUTADOS\",\"nomePublicacao\":\"PRESIDÊNCIA DA CÂMARA DOS DEPUTADOS\",\"nomeResumido\":null,\"sala\":null,\"sigla\":\"PC\",\"tipoOrgao\":\"Órgão da Câmara dos Deputados\",\"uri\":\"https://dadosabertos.camara.leg.br/api/v2/orgaos/249\",\"urlWebsite\":null}}</td>\n",
       "            <td>80263bbf10c810084c1902eb71c656cd8513794383974e3990f7dbb64e4b9911</td>\n",
       "            <td>0</td>\n",
       "        </tr>\n",
       "        <tr>\n",
       "            <td>camara</td>\n",
       "            <td>orgaos</td>\n",
       "            <td>301</td>\n",
       "            <td><a href=https://dadosabertos.camara.leg.br/api/v2/orgaos/301>https://dadosabertos.camara.leg.br/api/v2/orgaos/301</a></td>\n",
       "            <td>{\"dados\":{\"apelido\":\"CONSELHO DE MINISTROS\",\"casa\":\"\",\"codTipoOrgao\":12000,\"dataFim\":null,\"dataFimOriginal\":null,\"dataInicio\":null,\"dataInstalacao\":null,\"id\":301,\"nome\":\"CONSELHO DE MINISTROS\",\"nomePublicacao\":\"CONSELHO DE MINISTROS\",\"nomeResumido\":null,\"sala\":null,\"sigla\":\"CM\",\"tipoOrgao\":\"Órgão da Câmara dos Deputados\",\"uri\":\"https://dadosabertos.camara.leg.br/api/v2/orgaos/301\",\"urlWebsite\":null}}</td>\n",
       "            <td>54c48e26fd8a3e6db3fd2e8c34d1edb722534a3167c6e6512b372477d766e14c</td>\n",
       "            <td>0</td>\n",
       "        </tr>\n",
       "        <tr>\n",
       "            <td>camara</td>\n",
       "            <td>orgaos</td>\n",
       "            <td>302</td>\n",
       "            <td><a href=https://dadosabertos.camara.leg.br/api/v2/orgaos/302>https://dadosabertos.camara.leg.br/api/v2/orgaos/302</a></td>\n",
       "            <td>{\"dados\":{\"apelido\":\"PCM\",\"casa\":\"\",\"codTipoOrgao\":12000,\"dataFim\":null,\"dataFimOriginal\":null,\"dataInicio\":null,\"dataInstalacao\":null,\"id\":302,\"nome\":\"PCM\",\"nomePublicacao\":\"PCM\",\"nomeResumido\":null,\"sala\":null,\"sigla\":\"PCM\",\"tipoOrgao\":\"Órgão da Câmara dos Deputados\",\"uri\":\"https://dadosabertos.camara.leg.br/api/v2/orgaos/302\",\"urlWebsite\":null}}</td>\n",
       "            <td>781ffd33b9367bad3ffc823a66c78f74574dbc209707065c641c3c8a61614ae5</td>\n",
       "            <td>0</td>\n",
       "        </tr>\n",
       "        <tr>\n",
       "            <td>camara</td>\n",
       "            <td>orgaos</td>\n",
       "            <td>325</td>\n",
       "            <td><a href=https://dadosabertos.camara.leg.br/api/v2/orgaos/325>https://dadosabertos.camara.leg.br/api/v2/orgaos/325</a></td>\n",
       "            <td>{\"dados\":{\"apelido\":\"MIC\",\"casa\":\"\",\"codTipoOrgao\":12000,\"dataFim\":null,\"dataFimOriginal\":null,\"dataInicio\":null,\"dataInstalacao\":null,\"id\":325,\"nome\":\"MIC\",\"nomePublicacao\":\"MIC\",\"nomeResumido\":null,\"sala\":null,\"sigla\":\"MIC\",\"tipoOrgao\":\"Órgão da Câmara dos Deputados\",\"uri\":\"https://dadosabertos.camara.leg.br/api/v2/orgaos/325\",\"urlWebsite\":null}}</td>\n",
       "            <td>1230582810320b8521a09c33a23371d907920345bfea33b43d5e00422afbacd1</td>\n",
       "            <td>0</td>\n",
       "        </tr>\n",
       "        <tr>\n",
       "            <td>camara</td>\n",
       "            <td>orgaos</td>\n",
       "            <td>340</td>\n",
       "            <td><a href=https://dadosabertos.camara.leg.br/api/v2/orgaos/340>https://dadosabertos.camara.leg.br/api/v2/orgaos/340</a></td>\n",
       "            <td>{\"dados\":{\"apelido\":\"Consultoria de Orçamento e Fiscalização Financeira da Câmara\",\"casa\":\"\",\"codTipoOrgao\":12000,\"dataFim\":null,\"dataFimOriginal\":null,\"dataInicio\":null,\"dataInstalacao\":null,\"id\":340,\"nome\":\"Consultoria de Orçamento e Fiscalização Financeira da Câmara dos Deputados\",\"nomePublicacao\":\"Consultoria de Orçamento e Fiscalização Financeira da Câmara\",\"nomeResumido\":null,\"sala\":null,\"sigla\":\"COFF\",\"tipoOrgao\":\"Órgão da Câmara dos Deputados\",\"uri\":\"https://dadosabertos.camara.leg.br/api/v2/orgaos/340\",\"urlWebsite\":null}}</td>\n",
       "            <td>2197a0d8f40062541be619390e1ee53f4315509a5c5c40b506c79ea2f87cea8f</td>\n",
       "            <td>0</td>\n",
       "        </tr>\n",
       "    </tbody>\n",
       "</table>\n",
       "<span style=\"font-style:italic;text-align:center;\">Truncated to <a href=\"https://jupysql.ploomber.io/en/latest/api/configuration.html#displaylimit\">displaylimit</a> of 10.</span>"
      ],
      "text/plain": [
       "+--------+--------+-----+-----------------------------------------------------------------------------------------------------------------------+----------------------------------------------------------------------------------------------------------------------------------------------------------------------------------------------------------------------------------------------------------------------------------------------------------------------------------------------------------------------------------------------------------------------------------------------------------------------------------------------------------------------------------------------------------+------------------------------------------------------------------+------+\n",
       "| source | entity |  id |                                                          url                                                          |                                                                                                                                                                                                                                                                       payload_json                                                                                                                                                                                                                                                                       |                          payload_sha256                          | year |\n",
       "+--------+--------+-----+-----------------------------------------------------------------------------------------------------------------------+----------------------------------------------------------------------------------------------------------------------------------------------------------------------------------------------------------------------------------------------------------------------------------------------------------------------------------------------------------------------------------------------------------------------------------------------------------------------------------------------------------------------------------------------------------+------------------------------------------------------------------+------+\n",
       "| camara | orgaos |  4  |   <a href=https://dadosabertos.camara.leg.br/api/v2/orgaos/4>https://dadosabertos.camara.leg.br/api/v2/orgaos/4</a>   |                                                            {\"dados\":{\"apelido\":\"Mesa Diretora\",\"casa\":\"\",\"codTipoOrgao\":1,\"dataFim\":null,\"dataFimOriginal\":null,\"dataInicio\":null,\"dataInstalacao\":null,\"id\":4,\"nome\":\"Mesa Diretora da Câmara dos Deputados\",\"nomePublicacao\":\"Mesa Diretora\",\"nomeResumido\":null,\"sala\":\"Sala de Reuniões do Espaço Cultural\",\"sigla\":\"MESA\",\"tipoOrgao\":\"Comissão Diretora\",\"uri\":\"https://dadosabertos.camara.leg.br/api/v2/orgaos/4\",\"urlWebsite\":null}}                                                            | 681d0b88b7c289a596b29818f85525063e51492c3a3b63a5d521fefbf9d10476 |  0   |\n",
       "| camara | orgaos | 111 | <a href=https://dadosabertos.camara.leg.br/api/v2/orgaos/111>https://dadosabertos.camara.leg.br/api/v2/orgaos/111</a> |                                            {\"dados\":{\"apelido\":\"CONGRESSO NACIONAL\",\"casa\":\"\",\"codTipoOrgao\":81001,\"dataFim\":null,\"dataFimOriginal\":null,\"dataInicio\":\"2020-03-20T00:00\",\"dataInstalacao\":\"2020-03-20T00:00\",\"id\":111,\"nome\":\"CONGRESSO NACIONAL\",\"nomePublicacao\":\"CN\",\"nomeResumido\":\"Congresso Nacional\",\"sala\":\"Plenário da Câmara dos Deputados\",\"sigla\":\"CN\",\"tipoOrgao\":\"Órgão do Congresso Nacional\",\"uri\":\"https://dadosabertos.camara.leg.br/api/v2/orgaos/111\",\"urlWebsite\":null}}                                            | 2858236d7f6c5401b61e60c7d92c94166c6181b5d9341bd7248eaaf942657362 |  0   |\n",
       "| camara | orgaos | 180 | <a href=https://dadosabertos.camara.leg.br/api/v2/orgaos/180>https://dadosabertos.camara.leg.br/api/v2/orgaos/180</a> |                                                              {\"dados\":{\"apelido\":\"Plenário\",\"casa\":\"\",\"codTipoOrgao\":26,\"dataFim\":null,\"dataFimOriginal\":null,\"dataInicio\":\"2020-03-20T00:00\",\"dataInstalacao\":\"2020-03-20T00:00\",\"id\":180,\"nome\":\"Plenário\",\"nomePublicacao\":\"Plenário\",\"nomeResumido\":\"Plenário\",\"sala\":\"Plenário da Câmara dos Deputados\",\"sigla\":\"PLEN\",\"tipoOrgao\":\"Plenário Virtual\",\"uri\":\"https://dadosabertos.camara.leg.br/api/v2/orgaos/180\",\"urlWebsite\":null}}                                                              | a7fa8343decdf82e8b69812839bec2fcc1a3d9b4211e398c12802f49970759a2 |  0   |\n",
       "| camara | orgaos | 186 | <a href=https://dadosabertos.camara.leg.br/api/v2/orgaos/186>https://dadosabertos.camara.leg.br/api/v2/orgaos/186</a> |                                            {\"dados\":{\"apelido\":\"COORDENAÇÃO DE COMISSÕES PERMANENTES\",\"casa\":\"\",\"codTipoOrgao\":12000,\"dataFim\":null,\"dataFimOriginal\":null,\"dataInicio\":null,\"dataInstalacao\":null,\"id\":186,\"nome\":\"COORDENAÇÃO DE COMISSÕES PERMANENTES\",\"nomePublicacao\":\"COORDENAÇÃO DE COMISSÕES PERMANENTES\",\"nomeResumido\":null,\"sala\":null,\"sigla\":\"CCP\",\"tipoOrgao\":\"Órgão da Câmara dos Deputados\",\"uri\":\"https://dadosabertos.camara.leg.br/api/v2/orgaos/186\",\"urlWebsite\":null}}                                             | 0cf758d6db9b7954b6bc8fa87cc69d842e95313f7db06fcdee8f9bf412fe8162 |  0   |\n",
       "| camara | orgaos | 209 | <a href=https://dadosabertos.camara.leg.br/api/v2/orgaos/209>https://dadosabertos.camara.leg.br/api/v2/orgaos/209</a> |                                                    {\"dados\":{\"apelido\":\"PODER CONCLUSIVO NAS COMISSÕES\",\"casa\":\"\",\"codTipoOrgao\":12000,\"dataFim\":null,\"dataFimOriginal\":null,\"dataInicio\":null,\"dataInstalacao\":null,\"id\":209,\"nome\":\"PODER CONCLUSIVO NAS COMISSÕES\",\"nomePublicacao\":\"PODER CONCLUSIVO NAS COMISSÕES\",\"nomeResumido\":null,\"sala\":null,\"sigla\":\"PTCOM\",\"tipoOrgao\":\"Órgão da Câmara dos Deputados\",\"uri\":\"https://dadosabertos.camara.leg.br/api/v2/orgaos/209\",\"urlWebsite\":null}}                                                     | d2473bfa9138c669645a3c842c26718ba79433d32ece0acb851bffa1ed0a911a |  0   |\n",
       "| camara | orgaos | 249 | <a href=https://dadosabertos.camara.leg.br/api/v2/orgaos/249>https://dadosabertos.camara.leg.br/api/v2/orgaos/249</a> |                                              {\"dados\":{\"apelido\":\"PRESIDÊNCIA DA CÂMARA DOS DEPUTADOS\",\"casa\":\"\",\"codTipoOrgao\":12000,\"dataFim\":null,\"dataFimOriginal\":null,\"dataInicio\":null,\"dataInstalacao\":null,\"id\":249,\"nome\":\"PRESIDÊNCIA DA CÂMARA DOS DEPUTADOS\",\"nomePublicacao\":\"PRESIDÊNCIA DA CÂMARA DOS DEPUTADOS\",\"nomeResumido\":null,\"sala\":null,\"sigla\":\"PC\",\"tipoOrgao\":\"Órgão da Câmara dos Deputados\",\"uri\":\"https://dadosabertos.camara.leg.br/api/v2/orgaos/249\",\"urlWebsite\":null}}                                               | 80263bbf10c810084c1902eb71c656cd8513794383974e3990f7dbb64e4b9911 |  0   |\n",
       "| camara | orgaos | 301 | <a href=https://dadosabertos.camara.leg.br/api/v2/orgaos/301>https://dadosabertos.camara.leg.br/api/v2/orgaos/301</a> |                                                                   {\"dados\":{\"apelido\":\"CONSELHO DE MINISTROS\",\"casa\":\"\",\"codTipoOrgao\":12000,\"dataFim\":null,\"dataFimOriginal\":null,\"dataInicio\":null,\"dataInstalacao\":null,\"id\":301,\"nome\":\"CONSELHO DE MINISTROS\",\"nomePublicacao\":\"CONSELHO DE MINISTROS\",\"nomeResumido\":null,\"sala\":null,\"sigla\":\"CM\",\"tipoOrgao\":\"Órgão da Câmara dos Deputados\",\"uri\":\"https://dadosabertos.camara.leg.br/api/v2/orgaos/301\",\"urlWebsite\":null}}                                                                    | 54c48e26fd8a3e6db3fd2e8c34d1edb722534a3167c6e6512b372477d766e14c |  0   |\n",
       "| camara | orgaos | 302 | <a href=https://dadosabertos.camara.leg.br/api/v2/orgaos/302>https://dadosabertos.camara.leg.br/api/v2/orgaos/302</a> |                                                                                              {\"dados\":{\"apelido\":\"PCM\",\"casa\":\"\",\"codTipoOrgao\":12000,\"dataFim\":null,\"dataFimOriginal\":null,\"dataInicio\":null,\"dataInstalacao\":null,\"id\":302,\"nome\":\"PCM\",\"nomePublicacao\":\"PCM\",\"nomeResumido\":null,\"sala\":null,\"sigla\":\"PCM\",\"tipoOrgao\":\"Órgão da Câmara dos Deputados\",\"uri\":\"https://dadosabertos.camara.leg.br/api/v2/orgaos/302\",\"urlWebsite\":null}}                                                                                              | 781ffd33b9367bad3ffc823a66c78f74574dbc209707065c641c3c8a61614ae5 |  0   |\n",
       "| camara | orgaos | 325 | <a href=https://dadosabertos.camara.leg.br/api/v2/orgaos/325>https://dadosabertos.camara.leg.br/api/v2/orgaos/325</a> |                                                                                              {\"dados\":{\"apelido\":\"MIC\",\"casa\":\"\",\"codTipoOrgao\":12000,\"dataFim\":null,\"dataFimOriginal\":null,\"dataInicio\":null,\"dataInstalacao\":null,\"id\":325,\"nome\":\"MIC\",\"nomePublicacao\":\"MIC\",\"nomeResumido\":null,\"sala\":null,\"sigla\":\"MIC\",\"tipoOrgao\":\"Órgão da Câmara dos Deputados\",\"uri\":\"https://dadosabertos.camara.leg.br/api/v2/orgaos/325\",\"urlWebsite\":null}}                                                                                              | 1230582810320b8521a09c33a23371d907920345bfea33b43d5e00422afbacd1 |  0   |\n",
       "| camara | orgaos | 340 | <a href=https://dadosabertos.camara.leg.br/api/v2/orgaos/340>https://dadosabertos.camara.leg.br/api/v2/orgaos/340</a> | {\"dados\":{\"apelido\":\"Consultoria de Orçamento e Fiscalização Financeira da Câmara\",\"casa\":\"\",\"codTipoOrgao\":12000,\"dataFim\":null,\"dataFimOriginal\":null,\"dataInicio\":null,\"dataInstalacao\":null,\"id\":340,\"nome\":\"Consultoria de Orçamento e Fiscalização Financeira da Câmara dos Deputados\",\"nomePublicacao\":\"Consultoria de Orçamento e Fiscalização Financeira da Câmara\",\"nomeResumido\":null,\"sala\":null,\"sigla\":\"COFF\",\"tipoOrgao\":\"Órgão da Câmara dos Deputados\",\"uri\":\"https://dadosabertos.camara.leg.br/api/v2/orgaos/340\",\"urlWebsite\":null}} | 2197a0d8f40062541be619390e1ee53f4315509a5c5c40b506c79ea2f87cea8f |  0   |\n",
       "+--------+--------+-----+-----------------------------------------------------------------------------------------------------------------------+----------------------------------------------------------------------------------------------------------------------------------------------------------------------------------------------------------------------------------------------------------------------------------------------------------------------------------------------------------------------------------------------------------------------------------------------------------------------------------------------------------------------------------------------------------+------------------------------------------------------------------+------+\n",
       "Truncated to displaylimit of 10."
      ]
     },
     "execution_count": 20,
     "metadata": {},
     "output_type": "execute_result"
    }
   ],
   "source": [
    "%%sql\n",
    "SELECT * FROM bronze_camara_orgaos LIMIT 10;"
   ]
  },
  {
   "cell_type": "code",
   "execution_count": 21,
   "id": "f731785e",
   "metadata": {
    "vscode": {
     "languageId": "sql"
    }
   },
   "outputs": [
    {
     "data": {
      "text/html": [
       "<span style=\"None\">Running query in &#x27;duck&#x27;</span>"
      ],
      "text/plain": [
       "Running query in 'duck'"
      ]
     },
     "metadata": {},
     "output_type": "display_data"
    },
    {
     "data": {
      "text/html": [
       "<table>\n",
       "    <thead>\n",
       "        <tr>\n",
       "            <th>Success</th>\n",
       "        </tr>\n",
       "    </thead>\n",
       "    <tbody>\n",
       "    </tbody>\n",
       "</table>"
      ],
      "text/plain": [
       "+---------+\n",
       "| Success |\n",
       "+---------+\n",
       "+---------+"
      ]
     },
     "execution_count": 21,
     "metadata": {},
     "output_type": "execute_result"
    }
   ],
   "source": [
    "\n",
    "%%sql\n",
    "DROP TABLE IF EXISTS orgaos_camara;\n",
    "CREATE TABLE orgaos_camara AS\n",
    "WITH base AS (\n",
    "    SELECT TRY_CAST(payload_json AS JSON) as j, year\n",
    "    FROM bronze_camara_orgaos\n",
    ")\n",
    "SELECT\n",
    "    CAST(jget1(j, '$.dados.id') AS BIGINT) AS id_orgao,\n",
    "    jget1(j, '$.dados.nome') AS nome,\n",
    "    CAST(jget1(j, '$.dados.codTipoOrgao') AS BIGINT) AS cod_tipo_orgao,\n",
    "    jget1(j, '$.dados.uri') AS uri,\n",
    "    year AS year_snapshot\n",
    "FROM base\n",
    "WHERE jget1(j, '$.dados.id') IS NOT NULL;\n",
    "DROP VIEW IF EXISTS bronze_camara_orgaos;\n"
   ]
  },
  {
   "cell_type": "code",
   "execution_count": 22,
   "id": "1f88f520",
   "metadata": {
    "vscode": {
     "languageId": "sql"
    }
   },
   "outputs": [
    {
     "data": {
      "text/html": [
       "<span style=\"None\">Running query in &#x27;duck&#x27;</span>"
      ],
      "text/plain": [
       "Running query in 'duck'"
      ]
     },
     "metadata": {},
     "output_type": "display_data"
    },
    {
     "data": {
      "text/html": [
       "<table>\n",
       "    <thead>\n",
       "        <tr>\n",
       "            <th>id_orgao</th>\n",
       "            <th>nome</th>\n",
       "            <th>cod_tipo_orgao</th>\n",
       "            <th>uri</th>\n",
       "            <th>year_snapshot</th>\n",
       "        </tr>\n",
       "    </thead>\n",
       "    <tbody>\n",
       "        <tr>\n",
       "            <td>4</td>\n",
       "            <td>Mesa Diretora da Câmara dos Deputados</td>\n",
       "            <td>1</td>\n",
       "            <td><a href=https://dadosabertos.camara.leg.br/api/v2/orgaos/4>https://dadosabertos.camara.leg.br/api/v2/orgaos/4</a></td>\n",
       "            <td>0</td>\n",
       "        </tr>\n",
       "        <tr>\n",
       "            <td>111</td>\n",
       "            <td>CONGRESSO NACIONAL</td>\n",
       "            <td>81001</td>\n",
       "            <td><a href=https://dadosabertos.camara.leg.br/api/v2/orgaos/111>https://dadosabertos.camara.leg.br/api/v2/orgaos/111</a></td>\n",
       "            <td>0</td>\n",
       "        </tr>\n",
       "        <tr>\n",
       "            <td>180</td>\n",
       "            <td>Plenário</td>\n",
       "            <td>26</td>\n",
       "            <td><a href=https://dadosabertos.camara.leg.br/api/v2/orgaos/180>https://dadosabertos.camara.leg.br/api/v2/orgaos/180</a></td>\n",
       "            <td>0</td>\n",
       "        </tr>\n",
       "        <tr>\n",
       "            <td>186</td>\n",
       "            <td>COORDENAÇÃO DE COMISSÕES PERMANENTES</td>\n",
       "            <td>12000</td>\n",
       "            <td><a href=https://dadosabertos.camara.leg.br/api/v2/orgaos/186>https://dadosabertos.camara.leg.br/api/v2/orgaos/186</a></td>\n",
       "            <td>0</td>\n",
       "        </tr>\n",
       "        <tr>\n",
       "            <td>209</td>\n",
       "            <td>PODER CONCLUSIVO NAS COMISSÕES</td>\n",
       "            <td>12000</td>\n",
       "            <td><a href=https://dadosabertos.camara.leg.br/api/v2/orgaos/209>https://dadosabertos.camara.leg.br/api/v2/orgaos/209</a></td>\n",
       "            <td>0</td>\n",
       "        </tr>\n",
       "        <tr>\n",
       "            <td>249</td>\n",
       "            <td>PRESIDÊNCIA DA CÂMARA DOS DEPUTADOS</td>\n",
       "            <td>12000</td>\n",
       "            <td><a href=https://dadosabertos.camara.leg.br/api/v2/orgaos/249>https://dadosabertos.camara.leg.br/api/v2/orgaos/249</a></td>\n",
       "            <td>0</td>\n",
       "        </tr>\n",
       "        <tr>\n",
       "            <td>301</td>\n",
       "            <td>CONSELHO DE MINISTROS</td>\n",
       "            <td>12000</td>\n",
       "            <td><a href=https://dadosabertos.camara.leg.br/api/v2/orgaos/301>https://dadosabertos.camara.leg.br/api/v2/orgaos/301</a></td>\n",
       "            <td>0</td>\n",
       "        </tr>\n",
       "        <tr>\n",
       "            <td>302</td>\n",
       "            <td>PCM</td>\n",
       "            <td>12000</td>\n",
       "            <td><a href=https://dadosabertos.camara.leg.br/api/v2/orgaos/302>https://dadosabertos.camara.leg.br/api/v2/orgaos/302</a></td>\n",
       "            <td>0</td>\n",
       "        </tr>\n",
       "        <tr>\n",
       "            <td>325</td>\n",
       "            <td>MIC</td>\n",
       "            <td>12000</td>\n",
       "            <td><a href=https://dadosabertos.camara.leg.br/api/v2/orgaos/325>https://dadosabertos.camara.leg.br/api/v2/orgaos/325</a></td>\n",
       "            <td>0</td>\n",
       "        </tr>\n",
       "        <tr>\n",
       "            <td>340</td>\n",
       "            <td>Consultoria de Orçamento e Fiscalização Financeira da Câmara dos Deputados</td>\n",
       "            <td>12000</td>\n",
       "            <td><a href=https://dadosabertos.camara.leg.br/api/v2/orgaos/340>https://dadosabertos.camara.leg.br/api/v2/orgaos/340</a></td>\n",
       "            <td>0</td>\n",
       "        </tr>\n",
       "    </tbody>\n",
       "</table>\n",
       "<span style=\"font-style:italic;text-align:center;\">Truncated to <a href=\"https://jupysql.ploomber.io/en/latest/api/configuration.html#displaylimit\">displaylimit</a> of 10.</span>"
      ],
      "text/plain": [
       "+----------+----------------------------------------------------------------------------+----------------+-----------------------------------------------------------------------------------------------------------------------+---------------+\n",
       "| id_orgao |                                    nome                                    | cod_tipo_orgao |                                                          uri                                                          | year_snapshot |\n",
       "+----------+----------------------------------------------------------------------------+----------------+-----------------------------------------------------------------------------------------------------------------------+---------------+\n",
       "|    4     |                   Mesa Diretora da Câmara dos Deputados                    |       1        |   <a href=https://dadosabertos.camara.leg.br/api/v2/orgaos/4>https://dadosabertos.camara.leg.br/api/v2/orgaos/4</a>   |       0       |\n",
       "|   111    |                             CONGRESSO NACIONAL                             |     81001      | <a href=https://dadosabertos.camara.leg.br/api/v2/orgaos/111>https://dadosabertos.camara.leg.br/api/v2/orgaos/111</a> |       0       |\n",
       "|   180    |                                  Plenário                                  |       26       | <a href=https://dadosabertos.camara.leg.br/api/v2/orgaos/180>https://dadosabertos.camara.leg.br/api/v2/orgaos/180</a> |       0       |\n",
       "|   186    |                    COORDENAÇÃO DE COMISSÕES PERMANENTES                    |     12000      | <a href=https://dadosabertos.camara.leg.br/api/v2/orgaos/186>https://dadosabertos.camara.leg.br/api/v2/orgaos/186</a> |       0       |\n",
       "|   209    |                       PODER CONCLUSIVO NAS COMISSÕES                       |     12000      | <a href=https://dadosabertos.camara.leg.br/api/v2/orgaos/209>https://dadosabertos.camara.leg.br/api/v2/orgaos/209</a> |       0       |\n",
       "|   249    |                    PRESIDÊNCIA DA CÂMARA DOS DEPUTADOS                     |     12000      | <a href=https://dadosabertos.camara.leg.br/api/v2/orgaos/249>https://dadosabertos.camara.leg.br/api/v2/orgaos/249</a> |       0       |\n",
       "|   301    |                           CONSELHO DE MINISTROS                            |     12000      | <a href=https://dadosabertos.camara.leg.br/api/v2/orgaos/301>https://dadosabertos.camara.leg.br/api/v2/orgaos/301</a> |       0       |\n",
       "|   302    |                                    PCM                                     |     12000      | <a href=https://dadosabertos.camara.leg.br/api/v2/orgaos/302>https://dadosabertos.camara.leg.br/api/v2/orgaos/302</a> |       0       |\n",
       "|   325    |                                    MIC                                     |     12000      | <a href=https://dadosabertos.camara.leg.br/api/v2/orgaos/325>https://dadosabertos.camara.leg.br/api/v2/orgaos/325</a> |       0       |\n",
       "|   340    | Consultoria de Orçamento e Fiscalização Financeira da Câmara dos Deputados |     12000      | <a href=https://dadosabertos.camara.leg.br/api/v2/orgaos/340>https://dadosabertos.camara.leg.br/api/v2/orgaos/340</a> |       0       |\n",
       "+----------+----------------------------------------------------------------------------+----------------+-----------------------------------------------------------------------------------------------------------------------+---------------+\n",
       "Truncated to displaylimit of 10."
      ]
     },
     "execution_count": 22,
     "metadata": {},
     "output_type": "execute_result"
    }
   ],
   "source": [
    "%%sql\n",
    "SELECT * FROM orgaos_camara LIMIT 10;"
   ]
  },
  {
   "cell_type": "markdown",
   "id": "8a0a3981",
   "metadata": {},
   "source": [
    "### Partidos"
   ]
  },
  {
   "cell_type": "code",
   "execution_count": 23,
   "id": "01449b6c",
   "metadata": {
    "vscode": {
     "languageId": "sql"
    }
   },
   "outputs": [
    {
     "data": {
      "text/html": [
       "<span style=\"None\">Running query in &#x27;duck&#x27;</span>"
      ],
      "text/plain": [
       "Running query in 'duck'"
      ]
     },
     "metadata": {},
     "output_type": "display_data"
    },
    {
     "data": {
      "text/html": [
       "<table>\n",
       "    <thead>\n",
       "        <tr>\n",
       "            <th>n</th>\n",
       "        </tr>\n",
       "    </thead>\n",
       "    <tbody>\n",
       "        <tr>\n",
       "            <td>20</td>\n",
       "        </tr>\n",
       "    </tbody>\n",
       "</table>"
      ],
      "text/plain": [
       "+----+\n",
       "| n  |\n",
       "+----+\n",
       "| 20 |\n",
       "+----+"
      ]
     },
     "execution_count": 23,
     "metadata": {},
     "output_type": "execute_result"
    }
   ],
   "source": [
    "%%sql\n",
    "CREATE OR REPLACE VIEW bronze_camara_partidos AS\n",
    "SELECT * FROM parquet_scan(\"data/bronze/snapshots/bronze-2020-smoke/camara/partidos/details/year=*/part-*.parquet\")\n",
    "WHERE source = 'camara' AND entity = 'partidos';\n",
    "\n",
    "SELECT COUNT(*) AS n FROM bronze_camara_partidos;"
   ]
  },
  {
   "cell_type": "code",
   "execution_count": 24,
   "id": "e2e6cbe5",
   "metadata": {
    "vscode": {
     "languageId": "sql"
    }
   },
   "outputs": [
    {
     "data": {
      "text/html": [
       "<span style=\"None\">Running query in &#x27;duck&#x27;</span>"
      ],
      "text/plain": [
       "Running query in 'duck'"
      ]
     },
     "metadata": {},
     "output_type": "display_data"
    },
    {
     "data": {
      "text/html": [
       "<table>\n",
       "    <thead>\n",
       "        <tr>\n",
       "            <th>source</th>\n",
       "            <th>entity</th>\n",
       "            <th>id</th>\n",
       "            <th>url</th>\n",
       "            <th>payload_json</th>\n",
       "            <th>payload_sha256</th>\n",
       "            <th>year</th>\n",
       "        </tr>\n",
       "    </thead>\n",
       "    <tbody>\n",
       "        <tr>\n",
       "            <td>camara</td>\n",
       "            <td>partidos</td>\n",
       "            <td>36779</td>\n",
       "            <td><a href=https://dadosabertos.camara.leg.br/api/v2/partidos/36779>https://dadosabertos.camara.leg.br/api/v2/partidos/36779</a></td>\n",
       "            <td>{\"dados\":{\"id\":36779,\"nome\":\"Partido Comunista do Brasil\",\"numeroEleitoral\":null,\"sigla\":\"PCdoB\",\"status\":{\"data\":\"2021-02-09T17:31\",\"idLegislatura\":\"57\",\"lider\":{\"idLegislatura\":57,\"nome\":\"Renildo Calheiros\",\"siglaPartido\":\"PCdoB\",\"uf\":\"PE\",\"uri\":\"https://dadosabertos.camara.leg.br/api/v2/deputados/73801\",\"uriPartido\":\"https://dadosabertos.camara.leg.br/api/v2/partidos/36779\",\"urlFoto\":\"https://www.camara.leg.br/internet/deputado/bandep/73801.jpg\"},\"situacao\":\"Ativo\",\"totalMembros\":\"9\",\"totalPosse\":\"7\",\"uriMembros\":\"https://dadosabertos.camara.leg.br/api/v2/deputados?idLegislatura=57&siglaPartido=PCdoB\"},\"uri\":\"https://dadosabertos.camara.leg.br/api/v2/partidos/36779\",\"urlFacebook\":null,\"urlLogo\":\"https://www.camara.leg.br/internet/Deputado/img/partidos/PCdoB.gif\",\"urlWebSite\":null}}</td>\n",
       "            <td>04756929e12e6adc200f5a32c401af0e9a10ca4ba355728999023e7fa1bc2572</td>\n",
       "            <td>0</td>\n",
       "        </tr>\n",
       "        <tr>\n",
       "            <td>camara</td>\n",
       "            <td>partidos</td>\n",
       "            <td>36786</td>\n",
       "            <td><a href=https://dadosabertos.camara.leg.br/api/v2/partidos/36786>https://dadosabertos.camara.leg.br/api/v2/partidos/36786</a></td>\n",
       "            <td>{\"dados\":{\"id\":36786,\"nome\":\"Partido Democrático Trabalhista\",\"numeroEleitoral\":null,\"sigla\":\"PDT\",\"status\":{\"data\":\"2025-02-04T12:10\",\"idLegislatura\":\"57\",\"lider\":{\"idLegislatura\":57,\"nome\":\"Mário Heringer\",\"siglaPartido\":\"PDT\",\"uf\":\"MG\",\"uri\":\"https://dadosabertos.camara.leg.br/api/v2/deputados/74158\",\"uriPartido\":\"https://dadosabertos.camara.leg.br/api/v2/partidos/36786\",\"urlFoto\":\"https://www.camara.leg.br/internet/deputado/bandep/74158.jpg\"},\"situacao\":\"Ativo\",\"totalMembros\":\"16\",\"totalPosse\":\"16\",\"uriMembros\":\"https://dadosabertos.camara.leg.br/api/v2/deputados?idLegislatura=57&siglaPartido=PDT\"},\"uri\":\"https://dadosabertos.camara.leg.br/api/v2/partidos/36786\",\"urlFacebook\":null,\"urlLogo\":\"https://www.camara.leg.br/internet/Deputado/img/partidos/PDT.gif\",\"urlWebSite\":null}}</td>\n",
       "            <td>600d7224db7f8feca2f74e728e3a8d8f31e776ca7e0aacc2e10209e127bf7025</td>\n",
       "            <td>0</td>\n",
       "        </tr>\n",
       "        <tr>\n",
       "            <td>camara</td>\n",
       "            <td>partidos</td>\n",
       "            <td>36832</td>\n",
       "            <td><a href=https://dadosabertos.camara.leg.br/api/v2/partidos/36832>https://dadosabertos.camara.leg.br/api/v2/partidos/36832</a></td>\n",
       "            <td>{\"dados\":{\"id\":36832,\"nome\":\"Partido Socialista Brasileiro\",\"numeroEleitoral\":null,\"sigla\":\"PSB\",\"status\":{\"data\":\"2025-01-31T09:02\",\"idLegislatura\":\"57\",\"lider\":{\"idLegislatura\":57,\"nome\":\"Pedro Campos\",\"siglaPartido\":\"PSB\",\"uf\":\"PE\",\"uri\":\"https://dadosabertos.camara.leg.br/api/v2/deputados/220667\",\"uriPartido\":\"https://dadosabertos.camara.leg.br/api/v2/partidos/36832\",\"urlFoto\":\"https://www.camara.leg.br/internet/deputado/bandep/220667.jpg\"},\"situacao\":\"Ativo\",\"totalMembros\":\"16\",\"totalPosse\":\"15\",\"uriMembros\":\"https://dadosabertos.camara.leg.br/api/v2/deputados?idLegislatura=57&siglaPartido=PSB\"},\"uri\":\"https://dadosabertos.camara.leg.br/api/v2/partidos/36832\",\"urlFacebook\":null,\"urlLogo\":\"https://www.camara.leg.br/internet/Deputado/img/partidos/PSB.gif\",\"urlWebSite\":null}}</td>\n",
       "            <td>5db173484bc7f2296e9bf3794097d673ebaae6b2d33e619b62142c8954b33ebd</td>\n",
       "            <td>0</td>\n",
       "        </tr>\n",
       "        <tr>\n",
       "            <td>camara</td>\n",
       "            <td>partidos</td>\n",
       "            <td>36834</td>\n",
       "            <td><a href=https://dadosabertos.camara.leg.br/api/v2/partidos/36834>https://dadosabertos.camara.leg.br/api/v2/partidos/36834</a></td>\n",
       "            <td>{\"dados\":{\"id\":36834,\"nome\":\"Partido Social Democrático\",\"numeroEleitoral\":null,\"sigla\":\"PSD\",\"status\":{\"data\":\"2024-11-13T09:05\",\"idLegislatura\":\"57\",\"lider\":{\"idLegislatura\":57,\"nome\":\"Antonio Brito\",\"siglaPartido\":\"PSD\",\"uf\":\"BA\",\"uri\":\"https://dadosabertos.camara.leg.br/api/v2/deputados/160553\",\"uriPartido\":\"https://dadosabertos.camara.leg.br/api/v2/partidos/36834\",\"urlFoto\":\"https://www.camara.leg.br/internet/deputado/bandep/160553.jpg\"},\"situacao\":\"Ativo\",\"totalMembros\":\"45\",\"totalPosse\":\"42\",\"uriMembros\":\"https://dadosabertos.camara.leg.br/api/v2/deputados?idLegislatura=57&siglaPartido=PSD\"},\"uri\":\"https://dadosabertos.camara.leg.br/api/v2/partidos/36834\",\"urlFacebook\":null,\"urlLogo\":\"https://www.camara.leg.br/internet/Deputado/img/partidos/PSD.gif\",\"urlWebSite\":null}}</td>\n",
       "            <td>d9a463b8f831deabaac6c66ab51bb707693e5832818caddd7e5a33053e61529c</td>\n",
       "            <td>0</td>\n",
       "        </tr>\n",
       "        <tr>\n",
       "            <td>camara</td>\n",
       "            <td>partidos</td>\n",
       "            <td>36835</td>\n",
       "            <td><a href=https://dadosabertos.camara.leg.br/api/v2/partidos/36835>https://dadosabertos.camara.leg.br/api/v2/partidos/36835</a></td>\n",
       "            <td>{\"dados\":{\"id\":36835,\"nome\":\"Partido da Social Democracia Brasileira\",\"numeroEleitoral\":null,\"sigla\":\"PSDB\",\"status\":{\"data\":\"2023-02-01T14:42\",\"idLegislatura\":\"57\",\"lider\":{\"idLegislatura\":57,\"nome\":\"Adolfo Viana\",\"siglaPartido\":\"PSDB\",\"uf\":\"BA\",\"uri\":\"https://dadosabertos.camara.leg.br/api/v2/deputados/204560\",\"uriPartido\":\"https://dadosabertos.camara.leg.br/api/v2/partidos/36835\",\"urlFoto\":\"https://www.camara.leg.br/internet/deputado/bandep/204560.jpg\"},\"situacao\":\"Ativo\",\"totalMembros\":\"13\",\"totalPosse\":\"13\",\"uriMembros\":\"https://dadosabertos.camara.leg.br/api/v2/deputados?idLegislatura=57&siglaPartido=PSDB\"},\"uri\":\"https://dadosabertos.camara.leg.br/api/v2/partidos/36835\",\"urlFacebook\":null,\"urlLogo\":\"https://www.camara.leg.br/internet/Deputado/img/partidos/PSDB.gif\",\"urlWebSite\":null}}</td>\n",
       "            <td>523fbe96a92fd3197e8ada32fa170772c3baa348f4fe6dd60bb0e7cde6dbeb32</td>\n",
       "            <td>0</td>\n",
       "        </tr>\n",
       "    </tbody>\n",
       "</table>"
      ],
      "text/plain": [
       "+--------+----------+-------+-------------------------------------------------------------------------------------------------------------------------------+------------------------------------------------------------------------------------------------------------------------------------------------------------------------------------------------------------------------------------------------------------------------------------------------------------------------------------------------------------------------------------------------------------------------------------------------------------------------------------------------------------------------------------------------------------------------------------------------------------------------------------------------------------------------------------------------------------------------------------------------------------------------------------------------------------------------------------+------------------------------------------------------------------+------+\n",
       "| source |  entity  |   id  |                                                              url                                                              |                                                                                                                                                                                                                                                                                                                                                                                                            payload_json                                                                                                                                                                                                                                                                                                                                                                                                            |                          payload_sha256                          | year |\n",
       "+--------+----------+-------+-------------------------------------------------------------------------------------------------------------------------------+------------------------------------------------------------------------------------------------------------------------------------------------------------------------------------------------------------------------------------------------------------------------------------------------------------------------------------------------------------------------------------------------------------------------------------------------------------------------------------------------------------------------------------------------------------------------------------------------------------------------------------------------------------------------------------------------------------------------------------------------------------------------------------------------------------------------------------+------------------------------------------------------------------+------+\n",
       "| camara | partidos | 36779 | <a href=https://dadosabertos.camara.leg.br/api/v2/partidos/36779>https://dadosabertos.camara.leg.br/api/v2/partidos/36779</a> |    {\"dados\":{\"id\":36779,\"nome\":\"Partido Comunista do Brasil\",\"numeroEleitoral\":null,\"sigla\":\"PCdoB\",\"status\":{\"data\":\"2021-02-09T17:31\",\"idLegislatura\":\"57\",\"lider\":{\"idLegislatura\":57,\"nome\":\"Renildo Calheiros\",\"siglaPartido\":\"PCdoB\",\"uf\":\"PE\",\"uri\":\"https://dadosabertos.camara.leg.br/api/v2/deputados/73801\",\"uriPartido\":\"https://dadosabertos.camara.leg.br/api/v2/partidos/36779\",\"urlFoto\":\"https://www.camara.leg.br/internet/deputado/bandep/73801.jpg\"},\"situacao\":\"Ativo\",\"totalMembros\":\"9\",\"totalPosse\":\"7\",\"uriMembros\":\"https://dadosabertos.camara.leg.br/api/v2/deputados?idLegislatura=57&siglaPartido=PCdoB\"},\"uri\":\"https://dadosabertos.camara.leg.br/api/v2/partidos/36779\",\"urlFacebook\":null,\"urlLogo\":\"https://www.camara.leg.br/internet/Deputado/img/partidos/PCdoB.gif\",\"urlWebSite\":null}}     | 04756929e12e6adc200f5a32c401af0e9a10ca4ba355728999023e7fa1bc2572 |  0   |\n",
       "| camara | partidos | 36786 | <a href=https://dadosabertos.camara.leg.br/api/v2/partidos/36786>https://dadosabertos.camara.leg.br/api/v2/partidos/36786</a> |       {\"dados\":{\"id\":36786,\"nome\":\"Partido Democrático Trabalhista\",\"numeroEleitoral\":null,\"sigla\":\"PDT\",\"status\":{\"data\":\"2025-02-04T12:10\",\"idLegislatura\":\"57\",\"lider\":{\"idLegislatura\":57,\"nome\":\"Mário Heringer\",\"siglaPartido\":\"PDT\",\"uf\":\"MG\",\"uri\":\"https://dadosabertos.camara.leg.br/api/v2/deputados/74158\",\"uriPartido\":\"https://dadosabertos.camara.leg.br/api/v2/partidos/36786\",\"urlFoto\":\"https://www.camara.leg.br/internet/deputado/bandep/74158.jpg\"},\"situacao\":\"Ativo\",\"totalMembros\":\"16\",\"totalPosse\":\"16\",\"uriMembros\":\"https://dadosabertos.camara.leg.br/api/v2/deputados?idLegislatura=57&siglaPartido=PDT\"},\"uri\":\"https://dadosabertos.camara.leg.br/api/v2/partidos/36786\",\"urlFacebook\":null,\"urlLogo\":\"https://www.camara.leg.br/internet/Deputado/img/partidos/PDT.gif\",\"urlWebSite\":null}}       | 600d7224db7f8feca2f74e728e3a8d8f31e776ca7e0aacc2e10209e127bf7025 |  0   |\n",
       "| camara | partidos | 36832 | <a href=https://dadosabertos.camara.leg.br/api/v2/partidos/36832>https://dadosabertos.camara.leg.br/api/v2/partidos/36832</a> |        {\"dados\":{\"id\":36832,\"nome\":\"Partido Socialista Brasileiro\",\"numeroEleitoral\":null,\"sigla\":\"PSB\",\"status\":{\"data\":\"2025-01-31T09:02\",\"idLegislatura\":\"57\",\"lider\":{\"idLegislatura\":57,\"nome\":\"Pedro Campos\",\"siglaPartido\":\"PSB\",\"uf\":\"PE\",\"uri\":\"https://dadosabertos.camara.leg.br/api/v2/deputados/220667\",\"uriPartido\":\"https://dadosabertos.camara.leg.br/api/v2/partidos/36832\",\"urlFoto\":\"https://www.camara.leg.br/internet/deputado/bandep/220667.jpg\"},\"situacao\":\"Ativo\",\"totalMembros\":\"16\",\"totalPosse\":\"15\",\"uriMembros\":\"https://dadosabertos.camara.leg.br/api/v2/deputados?idLegislatura=57&siglaPartido=PSB\"},\"uri\":\"https://dadosabertos.camara.leg.br/api/v2/partidos/36832\",\"urlFacebook\":null,\"urlLogo\":\"https://www.camara.leg.br/internet/Deputado/img/partidos/PSB.gif\",\"urlWebSite\":null}}        | 5db173484bc7f2296e9bf3794097d673ebaae6b2d33e619b62142c8954b33ebd |  0   |\n",
       "| camara | partidos | 36834 | <a href=https://dadosabertos.camara.leg.br/api/v2/partidos/36834>https://dadosabertos.camara.leg.br/api/v2/partidos/36834</a> |         {\"dados\":{\"id\":36834,\"nome\":\"Partido Social Democrático\",\"numeroEleitoral\":null,\"sigla\":\"PSD\",\"status\":{\"data\":\"2024-11-13T09:05\",\"idLegislatura\":\"57\",\"lider\":{\"idLegislatura\":57,\"nome\":\"Antonio Brito\",\"siglaPartido\":\"PSD\",\"uf\":\"BA\",\"uri\":\"https://dadosabertos.camara.leg.br/api/v2/deputados/160553\",\"uriPartido\":\"https://dadosabertos.camara.leg.br/api/v2/partidos/36834\",\"urlFoto\":\"https://www.camara.leg.br/internet/deputado/bandep/160553.jpg\"},\"situacao\":\"Ativo\",\"totalMembros\":\"45\",\"totalPosse\":\"42\",\"uriMembros\":\"https://dadosabertos.camara.leg.br/api/v2/deputados?idLegislatura=57&siglaPartido=PSD\"},\"uri\":\"https://dadosabertos.camara.leg.br/api/v2/partidos/36834\",\"urlFacebook\":null,\"urlLogo\":\"https://www.camara.leg.br/internet/Deputado/img/partidos/PSD.gif\",\"urlWebSite\":null}}         | d9a463b8f831deabaac6c66ab51bb707693e5832818caddd7e5a33053e61529c |  0   |\n",
       "| camara | partidos | 36835 | <a href=https://dadosabertos.camara.leg.br/api/v2/partidos/36835>https://dadosabertos.camara.leg.br/api/v2/partidos/36835</a> | {\"dados\":{\"id\":36835,\"nome\":\"Partido da Social Democracia Brasileira\",\"numeroEleitoral\":null,\"sigla\":\"PSDB\",\"status\":{\"data\":\"2023-02-01T14:42\",\"idLegislatura\":\"57\",\"lider\":{\"idLegislatura\":57,\"nome\":\"Adolfo Viana\",\"siglaPartido\":\"PSDB\",\"uf\":\"BA\",\"uri\":\"https://dadosabertos.camara.leg.br/api/v2/deputados/204560\",\"uriPartido\":\"https://dadosabertos.camara.leg.br/api/v2/partidos/36835\",\"urlFoto\":\"https://www.camara.leg.br/internet/deputado/bandep/204560.jpg\"},\"situacao\":\"Ativo\",\"totalMembros\":\"13\",\"totalPosse\":\"13\",\"uriMembros\":\"https://dadosabertos.camara.leg.br/api/v2/deputados?idLegislatura=57&siglaPartido=PSDB\"},\"uri\":\"https://dadosabertos.camara.leg.br/api/v2/partidos/36835\",\"urlFacebook\":null,\"urlLogo\":\"https://www.camara.leg.br/internet/Deputado/img/partidos/PSDB.gif\",\"urlWebSite\":null}} | 523fbe96a92fd3197e8ada32fa170772c3baa348f4fe6dd60bb0e7cde6dbeb32 |  0   |\n",
       "+--------+----------+-------+-------------------------------------------------------------------------------------------------------------------------------+------------------------------------------------------------------------------------------------------------------------------------------------------------------------------------------------------------------------------------------------------------------------------------------------------------------------------------------------------------------------------------------------------------------------------------------------------------------------------------------------------------------------------------------------------------------------------------------------------------------------------------------------------------------------------------------------------------------------------------------------------------------------------------------------------------------------------------+------------------------------------------------------------------+------+"
      ]
     },
     "execution_count": 24,
     "metadata": {},
     "output_type": "execute_result"
    }
   ],
   "source": [
    "%%sql\n",
    "SELECT * FROM bronze_camara_partidos LIMIT 5;"
   ]
  },
  {
   "cell_type": "code",
   "execution_count": 25,
   "id": "4783cf5c",
   "metadata": {
    "vscode": {
     "languageId": "sql"
    }
   },
   "outputs": [
    {
     "data": {
      "text/html": [
       "<span style=\"None\">Running query in &#x27;duck&#x27;</span>"
      ],
      "text/plain": [
       "Running query in 'duck'"
      ]
     },
     "metadata": {},
     "output_type": "display_data"
    },
    {
     "data": {
      "text/html": [
       "<table>\n",
       "    <thead>\n",
       "        <tr>\n",
       "            <th>Success</th>\n",
       "        </tr>\n",
       "    </thead>\n",
       "    <tbody>\n",
       "    </tbody>\n",
       "</table>"
      ],
      "text/plain": [
       "+---------+\n",
       "| Success |\n",
       "+---------+\n",
       "+---------+"
      ]
     },
     "execution_count": 25,
     "metadata": {},
     "output_type": "execute_result"
    }
   ],
   "source": [
    "\n",
    "%%sql\n",
    "DROP TABLE IF EXISTS partidos_camara;\n",
    "CREATE TABLE partidos_camara AS\n",
    "WITH base AS (\n",
    "    SELECT TRY_CAST(payload_json AS JSON) as j, year\n",
    "    FROM bronze_camara_partidos\n",
    ")\n",
    "SELECT\n",
    "    CAST(jget1(j, '$.dados.id') AS BIGINT) AS id_partido,\n",
    "    jget1(j, '$.dados.nome') AS nome,\n",
    "    jget1(j, '$.dados.sigla') AS sigla,\n",
    "    jget1(j, '$.dados.uri') AS uri,\n",
    "    year AS year_snapshot\n",
    "FROM base\n",
    "WHERE jget1(j, '$.dados.id') IS NOT NULL;\n",
    "DROP VIEW IF EXISTS bronze_camara_partidos;\n"
   ]
  },
  {
   "cell_type": "code",
   "execution_count": 26,
   "id": "defa90bf",
   "metadata": {
    "vscode": {
     "languageId": "sql"
    }
   },
   "outputs": [
    {
     "data": {
      "text/html": [
       "<span style=\"None\">Running query in &#x27;duck&#x27;</span>"
      ],
      "text/plain": [
       "Running query in 'duck'"
      ]
     },
     "metadata": {},
     "output_type": "display_data"
    },
    {
     "data": {
      "text/html": [
       "<table>\n",
       "    <thead>\n",
       "        <tr>\n",
       "            <th>id_partido</th>\n",
       "            <th>nome</th>\n",
       "            <th>sigla</th>\n",
       "            <th>uri</th>\n",
       "            <th>year_snapshot</th>\n",
       "        </tr>\n",
       "    </thead>\n",
       "    <tbody>\n",
       "        <tr>\n",
       "            <td>36779</td>\n",
       "            <td>Partido Comunista do Brasil</td>\n",
       "            <td>PCdoB</td>\n",
       "            <td><a href=https://dadosabertos.camara.leg.br/api/v2/partidos/36779>https://dadosabertos.camara.leg.br/api/v2/partidos/36779</a></td>\n",
       "            <td>0</td>\n",
       "        </tr>\n",
       "        <tr>\n",
       "            <td>36786</td>\n",
       "            <td>Partido Democrático Trabalhista</td>\n",
       "            <td>PDT</td>\n",
       "            <td><a href=https://dadosabertos.camara.leg.br/api/v2/partidos/36786>https://dadosabertos.camara.leg.br/api/v2/partidos/36786</a></td>\n",
       "            <td>0</td>\n",
       "        </tr>\n",
       "        <tr>\n",
       "            <td>36832</td>\n",
       "            <td>Partido Socialista Brasileiro</td>\n",
       "            <td>PSB</td>\n",
       "            <td><a href=https://dadosabertos.camara.leg.br/api/v2/partidos/36832>https://dadosabertos.camara.leg.br/api/v2/partidos/36832</a></td>\n",
       "            <td>0</td>\n",
       "        </tr>\n",
       "        <tr>\n",
       "            <td>36834</td>\n",
       "            <td>Partido Social Democrático</td>\n",
       "            <td>PSD</td>\n",
       "            <td><a href=https://dadosabertos.camara.leg.br/api/v2/partidos/36834>https://dadosabertos.camara.leg.br/api/v2/partidos/36834</a></td>\n",
       "            <td>0</td>\n",
       "        </tr>\n",
       "        <tr>\n",
       "            <td>36835</td>\n",
       "            <td>Partido da Social Democracia Brasileira</td>\n",
       "            <td>PSDB</td>\n",
       "            <td><a href=https://dadosabertos.camara.leg.br/api/v2/partidos/36835>https://dadosabertos.camara.leg.br/api/v2/partidos/36835</a></td>\n",
       "            <td>0</td>\n",
       "        </tr>\n",
       "    </tbody>\n",
       "</table>"
      ],
      "text/plain": [
       "+------------+-----------------------------------------+-------+-------------------------------------------------------------------------------------------------------------------------------+---------------+\n",
       "| id_partido |                   nome                  | sigla |                                                              uri                                                              | year_snapshot |\n",
       "+------------+-----------------------------------------+-------+-------------------------------------------------------------------------------------------------------------------------------+---------------+\n",
       "|   36779    |       Partido Comunista do Brasil       | PCdoB | <a href=https://dadosabertos.camara.leg.br/api/v2/partidos/36779>https://dadosabertos.camara.leg.br/api/v2/partidos/36779</a> |       0       |\n",
       "|   36786    |     Partido Democrático Trabalhista     |  PDT  | <a href=https://dadosabertos.camara.leg.br/api/v2/partidos/36786>https://dadosabertos.camara.leg.br/api/v2/partidos/36786</a> |       0       |\n",
       "|   36832    |      Partido Socialista Brasileiro      |  PSB  | <a href=https://dadosabertos.camara.leg.br/api/v2/partidos/36832>https://dadosabertos.camara.leg.br/api/v2/partidos/36832</a> |       0       |\n",
       "|   36834    |        Partido Social Democrático       |  PSD  | <a href=https://dadosabertos.camara.leg.br/api/v2/partidos/36834>https://dadosabertos.camara.leg.br/api/v2/partidos/36834</a> |       0       |\n",
       "|   36835    | Partido da Social Democracia Brasileira |  PSDB | <a href=https://dadosabertos.camara.leg.br/api/v2/partidos/36835>https://dadosabertos.camara.leg.br/api/v2/partidos/36835</a> |       0       |\n",
       "+------------+-----------------------------------------+-------+-------------------------------------------------------------------------------------------------------------------------------+---------------+"
      ]
     },
     "execution_count": 26,
     "metadata": {},
     "output_type": "execute_result"
    }
   ],
   "source": [
    "%%sql\n",
    "SELECT * from partidos_camara LIMIT 5;"
   ]
  },
  {
   "cell_type": "markdown",
   "id": "48ca84b5",
   "metadata": {},
   "source": [
    "### Proposições"
   ]
  },
  {
   "cell_type": "code",
   "execution_count": 27,
   "id": "9383f12a",
   "metadata": {
    "vscode": {
     "languageId": "sql"
    }
   },
   "outputs": [
    {
     "data": {
      "text/html": [
       "<span style=\"None\">Running query in &#x27;duck&#x27;</span>"
      ],
      "text/plain": [
       "Running query in 'duck'"
      ]
     },
     "metadata": {},
     "output_type": "display_data"
    },
    {
     "data": {
      "text/html": [
       "<table>\n",
       "    <thead>\n",
       "        <tr>\n",
       "            <th>n</th>\n",
       "        </tr>\n",
       "    </thead>\n",
       "    <tbody>\n",
       "        <tr>\n",
       "            <td>40435</td>\n",
       "        </tr>\n",
       "    </tbody>\n",
       "</table>"
      ],
      "text/plain": [
       "+-------+\n",
       "|   n   |\n",
       "+-------+\n",
       "| 40435 |\n",
       "+-------+"
      ]
     },
     "execution_count": 27,
     "metadata": {},
     "output_type": "execute_result"
    }
   ],
   "source": [
    "%%sql\n",
    "CREATE OR REPLACE VIEW bronze_camara_proposicoes AS\n",
    "SELECT * FROM parquet_scan(\"data/bronze/snapshots/bronze-2020-smoke/camara/proposicoes/details/year=*/part-*.parquet\")\n",
    "WHERE source = 'camara' AND entity = 'proposicoes';\n",
    "\n",
    "SELECT COUNT(*) AS n FROM bronze_camara_proposicoes;\n"
   ]
  },
  {
   "cell_type": "code",
   "execution_count": 28,
   "metadata": {
    "vscode": {
     "languageId": "sql"
    }
   },
   "outputs": [
    {
     "data": {
      "text/html": [
       "<span style=\"None\">Running query in &#x27;duck&#x27;</span>"
      ],
      "text/plain": [
       "Running query in 'duck'"
      ]
     },
     "metadata": {},
     "output_type": "display_data"
    },
    {
     "data": {
      "text/html": [
       "<table>\n",
       "    <thead>\n",
       "        <tr>\n",
       "            <th>Success</th>\n",
       "        </tr>\n",
       "    </thead>\n",
       "    <tbody>\n",
       "    </tbody>\n",
       "</table>"
      ],
      "text/plain": [
       "+---------+\n",
       "| Success |\n",
       "+---------+\n",
       "+---------+"
      ]
     },
     "execution_count": 28,
     "metadata": {},
     "output_type": "execute_result"
    }
   ],
   "source": [
    "%%sql\n",
    "DROP TABLE IF EXISTS proposicoes_camara;\n",
    "CREATE TABLE proposicoes_camara AS\n",
    "WITH base AS (\n",
    "    SELECT TRY_CAST(payload_json AS JSON) as j, year\n",
    "    FROM bronze_camara_proposicoes\n",
    ")\n",
    "SELECT\n",
    "    CAST(jget1(j, '$.dados.id') AS BIGINT) AS id_proposicao,\n",
    "    jget1(j, '$.dados.siglaTipo') as sigla_tipo,\n",
    "    CAST(jget1(j, '$.dados.numero') AS INTEGER) AS numero,\n",
    "    CAST(jget1(j, '$.dados.ano') AS INTEGER) AS ano,\n",
    "    jget1(j, '$.dados.ementa') AS ementa,\n",
    "    jget1(j, '$.dados.uri') AS uri,\n",
    "    year AS year_snapshot\n",
    "FROM base\n",
    "WHERE jget1(j, '$.dados.id') IS NOT NULL;\n",
    "DROP VIEW IF EXISTS bronze_camara_proposicoes;"
   ]
  },
  {
   "cell_type": "code",
   "execution_count": 29,
   "id": "d41460b4",
   "metadata": {
    "vscode": {
     "languageId": "sql"
    }
   },
   "outputs": [
    {
     "data": {
      "text/html": [
       "<span style=\"None\">Running query in &#x27;duck&#x27;</span>"
      ],
      "text/plain": [
       "Running query in 'duck'"
      ]
     },
     "metadata": {},
     "output_type": "display_data"
    },
    {
     "data": {
      "text/html": [
       "<table>\n",
       "    <thead>\n",
       "        <tr>\n",
       "            <th>ids</th>\n",
       "            <th>distinct_ids</th>\n",
       "        </tr>\n",
       "    </thead>\n",
       "    <tbody>\n",
       "        <tr>\n",
       "            <td>40435</td>\n",
       "            <td>40435</td>\n",
       "        </tr>\n",
       "    </tbody>\n",
       "</table>"
      ],
      "text/plain": [
       "+-------+--------------+\n",
       "|  ids  | distinct_ids |\n",
       "+-------+--------------+\n",
       "| 40435 |    40435     |\n",
       "+-------+--------------+"
      ]
     },
     "execution_count": 29,
     "metadata": {},
     "output_type": "execute_result"
    }
   ],
   "source": [
    "%%sql\n",
    "\n",
    "SELECT COUNT(*) AS n FROM proposicoes_camara;\n",
    "SELECT * FROM proposicoes_camara ORDER BY ano DESC, numero DESC LIMIT 5;\n",
    "SELECT COUNT(*) AS ids, COUNT(DISTINCT id_proposicao) AS distinct_ids FROM proposicoes_camara;\n"
   ]
  },
  {
   "cell_type": "markdown",
   "id": "6484034d",
   "metadata": {},
   "source": [
    "### Temas"
   ]
  },
  {
   "cell_type": "code",
   "execution_count": 30,
   "id": "fe3c450a",
   "metadata": {
    "vscode": {
     "languageId": "sql"
    }
   },
   "outputs": [
    {
     "data": {
      "text/html": [
       "<span style=\"None\">Running query in &#x27;duck&#x27;</span>"
      ],
      "text/plain": [
       "Running query in 'duck'"
      ]
     },
     "metadata": {},
     "output_type": "display_data"
    },
    {
     "data": {
      "text/html": [
       "<table>\n",
       "    <thead>\n",
       "        <tr>\n",
       "            <th>n</th>\n",
       "        </tr>\n",
       "    </thead>\n",
       "    <tbody>\n",
       "        <tr>\n",
       "            <td>40435</td>\n",
       "        </tr>\n",
       "    </tbody>\n",
       "</table>"
      ],
      "text/plain": [
       "+-------+\n",
       "|   n   |\n",
       "+-------+\n",
       "| 40435 |\n",
       "+-------+"
      ]
     },
     "execution_count": 30,
     "metadata": {},
     "output_type": "execute_result"
    }
   ],
   "source": [
    "%%sql\n",
    "CREATE OR REPLACE VIEW bronze_camara_temas AS\n",
    "SELECT * FROM parquet_scan(\"data/bronze/snapshots/bronze-2020-smoke/camara/temas/year=*/part-*.parquet\")\n",
    "WHERE source = 'camara' AND entity = 'temas';\n",
    "\n",
    "SELECT COUNT(*) AS n FROM bronze_camara_temas;"
   ]
  },
  {
   "cell_type": "code",
   "execution_count": 31,
   "id": "88582ede",
   "metadata": {
    "vscode": {
     "languageId": "sql"
    }
   },
   "outputs": [
    {
     "data": {
      "text/html": [
       "<span style=\"None\">Running query in &#x27;duck&#x27;</span>"
      ],
      "text/plain": [
       "Running query in 'duck'"
      ]
     },
     "metadata": {},
     "output_type": "display_data"
    },
    {
     "data": {
      "text/html": [
       "<table>\n",
       "    <thead>\n",
       "        <tr>\n",
       "            <th>source</th>\n",
       "            <th>entity</th>\n",
       "            <th>id</th>\n",
       "            <th>url</th>\n",
       "            <th>payload_json</th>\n",
       "            <th>payload_sha256</th>\n",
       "            <th>year</th>\n",
       "        </tr>\n",
       "    </thead>\n",
       "    <tbody>\n",
       "        <tr>\n",
       "            <td>camara</td>\n",
       "            <td>temas</td>\n",
       "            <td>15009</td>\n",
       "            <td><a href=https://dadosabertos.camara.leg.br/api/v2/proposicoes/15009/temas>https://dadosabertos.camara.leg.br/api/v2/proposicoes/15009/temas</a></td>\n",
       "            <td>{\"dados\":[{\"codTema\":42,\"relevancia\":0,\"tema\":\"Direito Civil e Processual Civil\"},{\"codTema\":43,\"relevancia\":0,\"tema\":\"Direito Penal e Processual Penal\"}]}</td>\n",
       "            <td>932de0161d42aa46b09c358116b7120be5a6aff80493d0225b5f8de5729b6e8d</td>\n",
       "            <td>2020</td>\n",
       "        </tr>\n",
       "        <tr>\n",
       "            <td>camara</td>\n",
       "            <td>temas</td>\n",
       "            <td>15532</td>\n",
       "            <td><a href=https://dadosabertos.camara.leg.br/api/v2/proposicoes/15532/temas>https://dadosabertos.camara.leg.br/api/v2/proposicoes/15532/temas</a></td>\n",
       "            <td>{\"dados\":[{\"codTema\":40,\"relevancia\":0,\"tema\":\"Economia\"},{\"codTema\":61,\"relevancia\":0,\"tema\":\"Viação, Transporte e Mobilidade\"}]}</td>\n",
       "            <td>fb310f4af301f7e3d8ab7eae2f10ca310b0d232a4156cd7b74db1bea12685828</td>\n",
       "            <td>2020</td>\n",
       "        </tr>\n",
       "        <tr>\n",
       "            <td>camara</td>\n",
       "            <td>temas</td>\n",
       "            <td>15749</td>\n",
       "            <td><a href=https://dadosabertos.camara.leg.br/api/v2/proposicoes/15749/temas>https://dadosabertos.camara.leg.br/api/v2/proposicoes/15749/temas</a></td>\n",
       "            <td>{\"dados\":[{\"codTema\":42,\"relevancia\":0,\"tema\":\"Direito Civil e Processual Civil\"}]}</td>\n",
       "            <td>a04fb1504594e1b2e9c45e3a5bc6a2fbd30419adf1b272740e0f762a1151c8b2</td>\n",
       "            <td>2020</td>\n",
       "        </tr>\n",
       "        <tr>\n",
       "            <td>camara</td>\n",
       "            <td>temas</td>\n",
       "            <td>15781</td>\n",
       "            <td><a href=https://dadosabertos.camara.leg.br/api/v2/proposicoes/15781/temas>https://dadosabertos.camara.leg.br/api/v2/proposicoes/15781/temas</a></td>\n",
       "            <td>{\"dados\":[{\"codTema\":42,\"relevancia\":0,\"tema\":\"Direito Civil e Processual Civil\"}]}</td>\n",
       "            <td>a04fb1504594e1b2e9c45e3a5bc6a2fbd30419adf1b272740e0f762a1151c8b2</td>\n",
       "            <td>2020</td>\n",
       "        </tr>\n",
       "        <tr>\n",
       "            <td>camara</td>\n",
       "            <td>temas</td>\n",
       "            <td>15990</td>\n",
       "            <td><a href=https://dadosabertos.camara.leg.br/api/v2/proposicoes/15990/temas>https://dadosabertos.camara.leg.br/api/v2/proposicoes/15990/temas</a></td>\n",
       "            <td>{\"dados\":[{\"codTema\":62,\"relevancia\":0,\"tema\":\"Ciência, Tecnologia e Inovação\"},{\"codTema\":54,\"relevancia\":0,\"tema\":\"Energia, Recursos Hídricos e Minerais\"}]}</td>\n",
       "            <td>0fe4b6544b008625110c85a8e30d1be38d5746cc79484b305b8f330a0d71936f</td>\n",
       "            <td>2020</td>\n",
       "        </tr>\n",
       "    </tbody>\n",
       "</table>"
      ],
      "text/plain": [
       "+--------+--------+-------+-------------------------------------------------------------------------------------------------------------------------------------------------+----------------------------------------------------------------------------------------------------------------------------------------------------------------+------------------------------------------------------------------+------+\n",
       "| source | entity |   id  |                                                                       url                                                                       |                                                                          payload_json                                                                          |                          payload_sha256                          | year |\n",
       "+--------+--------+-------+-------------------------------------------------------------------------------------------------------------------------------------------------+----------------------------------------------------------------------------------------------------------------------------------------------------------------+------------------------------------------------------------------+------+\n",
       "| camara | temas  | 15009 | <a href=https://dadosabertos.camara.leg.br/api/v2/proposicoes/15009/temas>https://dadosabertos.camara.leg.br/api/v2/proposicoes/15009/temas</a> |  {\"dados\":[{\"codTema\":42,\"relevancia\":0,\"tema\":\"Direito Civil e Processual Civil\"},{\"codTema\":43,\"relevancia\":0,\"tema\":\"Direito Penal e Processual Penal\"}]}   | 932de0161d42aa46b09c358116b7120be5a6aff80493d0225b5f8de5729b6e8d | 2020 |\n",
       "| camara | temas  | 15532 | <a href=https://dadosabertos.camara.leg.br/api/v2/proposicoes/15532/temas>https://dadosabertos.camara.leg.br/api/v2/proposicoes/15532/temas</a> |               {\"dados\":[{\"codTema\":40,\"relevancia\":0,\"tema\":\"Economia\"},{\"codTema\":61,\"relevancia\":0,\"tema\":\"Viação, Transporte e Mobilidade\"}]}               | fb310f4af301f7e3d8ab7eae2f10ca310b0d232a4156cd7b74db1bea12685828 | 2020 |\n",
       "| camara | temas  | 15749 | <a href=https://dadosabertos.camara.leg.br/api/v2/proposicoes/15749/temas>https://dadosabertos.camara.leg.br/api/v2/proposicoes/15749/temas</a> |                                      {\"dados\":[{\"codTema\":42,\"relevancia\":0,\"tema\":\"Direito Civil e Processual Civil\"}]}                                       | a04fb1504594e1b2e9c45e3a5bc6a2fbd30419adf1b272740e0f762a1151c8b2 | 2020 |\n",
       "| camara | temas  | 15781 | <a href=https://dadosabertos.camara.leg.br/api/v2/proposicoes/15781/temas>https://dadosabertos.camara.leg.br/api/v2/proposicoes/15781/temas</a> |                                      {\"dados\":[{\"codTema\":42,\"relevancia\":0,\"tema\":\"Direito Civil e Processual Civil\"}]}                                       | a04fb1504594e1b2e9c45e3a5bc6a2fbd30419adf1b272740e0f762a1151c8b2 | 2020 |\n",
       "| camara | temas  | 15990 | <a href=https://dadosabertos.camara.leg.br/api/v2/proposicoes/15990/temas>https://dadosabertos.camara.leg.br/api/v2/proposicoes/15990/temas</a> | {\"dados\":[{\"codTema\":62,\"relevancia\":0,\"tema\":\"Ciência, Tecnologia e Inovação\"},{\"codTema\":54,\"relevancia\":0,\"tema\":\"Energia, Recursos Hídricos e Minerais\"}]} | 0fe4b6544b008625110c85a8e30d1be38d5746cc79484b305b8f330a0d71936f | 2020 |\n",
       "+--------+--------+-------+-------------------------------------------------------------------------------------------------------------------------------------------------+----------------------------------------------------------------------------------------------------------------------------------------------------------------+------------------------------------------------------------------+------+"
      ]
     },
     "execution_count": 31,
     "metadata": {},
     "output_type": "execute_result"
    }
   ],
   "source": [
    "%%sql\n",
    "SELECT * FROM bronze_camara_temas LIMIT 5;"
   ]
  },
  {
   "cell_type": "code",
   "execution_count": 32,
   "id": "2d0ffd20",
   "metadata": {
    "vscode": {
     "languageId": "sql"
    }
   },
   "outputs": [
    {
     "data": {
      "text/html": [
       "<span style=\"None\">Running query in &#x27;duck&#x27;</span>"
      ],
      "text/plain": [
       "Running query in 'duck'"
      ]
     },
     "metadata": {},
     "output_type": "display_data"
    },
    {
     "data": {
      "text/html": [
       "<table>\n",
       "    <thead>\n",
       "        <tr>\n",
       "            <th>Success</th>\n",
       "        </tr>\n",
       "    </thead>\n",
       "    <tbody>\n",
       "    </tbody>\n",
       "</table>"
      ],
      "text/plain": [
       "+---------+\n",
       "| Success |\n",
       "+---------+\n",
       "+---------+"
      ]
     },
     "execution_count": 32,
     "metadata": {},
     "output_type": "execute_result"
    }
   ],
   "source": [
    "%%sql\n",
    "DROP TABLE IF EXISTS temas_camara;\n",
    "CREATE TABLE temas_camara AS\n",
    "WITH base AS (\n",
    "    SELECT TRY_CAST(payload_json AS JSON) as j, year\n",
    "    FROM bronze_camara_temas\n",
    "),\n",
    "exploded as (\n",
    "    SELECT\n",
    "        CAST(jget1(elem.value, '$.codTema') AS BIGINT) AS id_tema,\n",
    "        jget1(elem.value, '$.tema') AS descricao,\n",
    "    FROM base\n",
    "    CROSS JOIN json_each(json_extract(j, '$.dados')) AS elem\n",
    ")\n",
    "SELECT\n",
    "    id_tema,\n",
    "    max(descricao) as descricao,\n",
    "FROM exploded\n",
    "WHERE id_tema IS NOT NULL\n",
    "GROUP BY id_tema\n",
    "ORDER BY id_tema;\n",
    "DROP VIEW IF EXISTS bronze_camara_temas;"
   ]
  },
  {
   "cell_type": "code",
   "execution_count": 33,
   "id": "6fb7cfd6",
   "metadata": {
    "vscode": {
     "languageId": "sql"
    }
   },
   "outputs": [
    {
     "data": {
      "text/html": [
       "<span style=\"None\">Running query in &#x27;duck&#x27;</span>"
      ],
      "text/plain": [
       "Running query in 'duck'"
      ]
     },
     "metadata": {},
     "output_type": "display_data"
    },
    {
     "data": {
      "text/html": [
       "<table>\n",
       "    <thead>\n",
       "        <tr>\n",
       "            <th>id_tema</th>\n",
       "            <th>descricao</th>\n",
       "        </tr>\n",
       "    </thead>\n",
       "    <tbody>\n",
       "        <tr>\n",
       "            <td>34</td>\n",
       "            <td>Administração Pública</td>\n",
       "        </tr>\n",
       "        <tr>\n",
       "            <td>35</td>\n",
       "            <td>Arte, Cultura e Religião</td>\n",
       "        </tr>\n",
       "        <tr>\n",
       "            <td>37</td>\n",
       "            <td>Comunicações</td>\n",
       "        </tr>\n",
       "        <tr>\n",
       "            <td>39</td>\n",
       "            <td>Esporte e Lazer</td>\n",
       "        </tr>\n",
       "        <tr>\n",
       "            <td>40</td>\n",
       "            <td>Economia</td>\n",
       "        </tr>\n",
       "    </tbody>\n",
       "</table>"
      ],
      "text/plain": [
       "+---------+--------------------------+\n",
       "| id_tema |        descricao         |\n",
       "+---------+--------------------------+\n",
       "|    34   |  Administração Pública   |\n",
       "|    35   | Arte, Cultura e Religião |\n",
       "|    37   |       Comunicações       |\n",
       "|    39   |     Esporte e Lazer      |\n",
       "|    40   |         Economia         |\n",
       "+---------+--------------------------+"
      ]
     },
     "execution_count": 33,
     "metadata": {},
     "output_type": "execute_result"
    }
   ],
   "source": [
    "%%sql\n",
    "SELECT * FROM temas_camara LIMIT 5;"
   ]
  },
  {
   "cell_type": "markdown",
   "id": "b6d1b13e",
   "metadata": {},
   "source": [
    "## Modelos factuais"
   ]
  },
  {
   "cell_type": "markdown",
   "id": "6b76c3b4",
   "metadata": {},
   "source": [
    "### Autores"
   ]
  },
  {
   "cell_type": "code",
   "execution_count": 34,
   "id": "15afab2b",
   "metadata": {
    "vscode": {
     "languageId": "sql"
    }
   },
   "outputs": [
    {
     "data": {
      "text/html": [
       "<span style=\"None\">Running query in &#x27;duck&#x27;</span>"
      ],
      "text/plain": [
       "Running query in 'duck'"
      ]
     },
     "metadata": {},
     "output_type": "display_data"
    },
    {
     "data": {
      "text/html": [
       "<table>\n",
       "    <thead>\n",
       "        <tr>\n",
       "            <th>n</th>\n",
       "        </tr>\n",
       "    </thead>\n",
       "    <tbody>\n",
       "        <tr>\n",
       "            <td>40435</td>\n",
       "        </tr>\n",
       "    </tbody>\n",
       "</table>"
      ],
      "text/plain": [
       "+-------+\n",
       "|   n   |\n",
       "+-------+\n",
       "| 40435 |\n",
       "+-------+"
      ]
     },
     "execution_count": 34,
     "metadata": {},
     "output_type": "execute_result"
    }
   ],
   "source": [
    "%%sql\n",
    "CREATE OR REPLACE VIEW bronze_camara_autores AS\n",
    "SELECT * FROM parquet_scan(\"data/bronze/snapshots/bronze-2020-smoke/camara/autores/year=*/part-*.parquet\")\n",
    "WHERE source = 'camara' AND entity = 'autores';\n",
    "\n",
    "SELECT COUNT(*) AS n FROM bronze_camara_autores;"
   ]
  },
  {
   "cell_type": "code",
   "execution_count": 35,
   "id": "79cedc05",
   "metadata": {
    "vscode": {
     "languageId": "sql"
    }
   },
   "outputs": [
    {
     "data": {
      "text/html": [
       "<span style=\"None\">Running query in &#x27;duck&#x27;</span>"
      ],
      "text/plain": [
       "Running query in 'duck'"
      ]
     },
     "metadata": {},
     "output_type": "display_data"
    },
    {
     "data": {
      "text/html": [
       "<table>\n",
       "    <thead>\n",
       "        <tr>\n",
       "            <th>Success</th>\n",
       "        </tr>\n",
       "    </thead>\n",
       "    <tbody>\n",
       "    </tbody>\n",
       "</table>"
      ],
      "text/plain": [
       "+---------+\n",
       "| Success |\n",
       "+---------+\n",
       "+---------+"
      ]
     },
     "execution_count": 35,
     "metadata": {},
     "output_type": "execute_result"
    }
   ],
   "source": [
    "%%sql\n",
    "DROP TABLE IF EXISTS autores_camara;\n",
    "CREATE TABLE autores_camara AS\n",
    "WITH base AS (\n",
    "    SELECT TRY_CAST(payload_json AS JSON) AS j,\n",
    "    year,\n",
    "    id AS id_proposicao,\n",
    "    FROM bronze_camara_autores\n",
    "),\n",
    "exploded as (\n",
    "    SELECT\n",
    "        CAST(jget1(elem.value, '$.codTipo') AS BIGINT) AS cod_tipo,\n",
    "        jget1(elem.value, '$.uri') AS uri,\n",
    "        CAST(jget1(elem.value, '$.ordemAssinatura') AS INTEGER) AS ordem_assinatura,\n",
    "        CAST(jget1(elem.value, '$.proponente') AS BOOLEAN) AS proponente,\n",
    "        CAST(b.id_proposicao AS BIGINT) as id_proposicao,\n",
    "        b.year\n",
    "    FROM base b\n",
    "    CROSS JOIN json_each(b.j, '$.dados') AS elem\n",
    ")\n",
    "SELECT\n",
    "    cod_tipo, uri, ordem_assinatura, proponente, id_proposicao, year\n",
    "FROM exploded;\n",
    "DROP VIEW IF EXISTS bronze_camara_autores;"
   ]
  },
  {
   "cell_type": "code",
   "execution_count": 36,
   "id": "4904208f",
   "metadata": {
    "vscode": {
     "languageId": "sql"
    }
   },
   "outputs": [
    {
     "data": {
      "text/html": [
       "<span style=\"None\">Running query in &#x27;duck&#x27;</span>"
      ],
      "text/plain": [
       "Running query in 'duck'"
      ]
     },
     "metadata": {},
     "output_type": "display_data"
    },
    {
     "data": {
      "text/html": [
       "<table>\n",
       "    <thead>\n",
       "        <tr>\n",
       "            <th>cod_tipo</th>\n",
       "            <th>uri</th>\n",
       "            <th>ordem_assinatura</th>\n",
       "            <th>proponente</th>\n",
       "            <th>id_proposicao</th>\n",
       "            <th>year</th>\n",
       "        </tr>\n",
       "    </thead>\n",
       "    <tbody>\n",
       "        <tr>\n",
       "            <td>10000</td>\n",
       "            <td><a href=https://dadosabertos.camara.leg.br/api/v2/deputados/74316>https://dadosabertos.camara.leg.br/api/v2/deputados/74316</a></td>\n",
       "            <td>1</td>\n",
       "            <td>True</td>\n",
       "            <td>15749</td>\n",
       "            <td>2020</td>\n",
       "        </tr>\n",
       "        <tr>\n",
       "            <td>10000</td>\n",
       "            <td><a href=https://dadosabertos.camara.leg.br/api/v2/deputados/74295>https://dadosabertos.camara.leg.br/api/v2/deputados/74295</a></td>\n",
       "            <td>1</td>\n",
       "            <td>True</td>\n",
       "            <td>15781</td>\n",
       "            <td>2020</td>\n",
       "        </tr>\n",
       "        <tr>\n",
       "            <td>20</td>\n",
       "            <td><a href=https://dadosabertos.camara.leg.br/api/v2/orgaos/262>https://dadosabertos.camara.leg.br/api/v2/orgaos/262</a></td>\n",
       "            <td>1</td>\n",
       "            <td>True</td>\n",
       "            <td>15990</td>\n",
       "            <td>2020</td>\n",
       "        </tr>\n",
       "        <tr>\n",
       "            <td>10000</td>\n",
       "            <td><a href=https://dadosabertos.camara.leg.br/api/v2/deputados/73442>https://dadosabertos.camara.leg.br/api/v2/deputados/73442</a></td>\n",
       "            <td>1</td>\n",
       "            <td>True</td>\n",
       "            <td>16078</td>\n",
       "            <td>2020</td>\n",
       "        </tr>\n",
       "        <tr>\n",
       "            <td>10000</td>\n",
       "            <td><a href=https://dadosabertos.camara.leg.br/api/v2/deputados/73899>https://dadosabertos.camara.leg.br/api/v2/deputados/73899</a></td>\n",
       "            <td>1</td>\n",
       "            <td>True</td>\n",
       "            <td>16579</td>\n",
       "            <td>2020</td>\n",
       "        </tr>\n",
       "        <tr>\n",
       "            <td>10000</td>\n",
       "            <td><a href=https://dadosabertos.camara.leg.br/api/v2/deputados/74779>https://dadosabertos.camara.leg.br/api/v2/deputados/74779</a></td>\n",
       "            <td>1</td>\n",
       "            <td>True</td>\n",
       "            <td>16792</td>\n",
       "            <td>2020</td>\n",
       "        </tr>\n",
       "        <tr>\n",
       "            <td>40000</td>\n",
       "            <td><a href=https://dadosabertos.camara.leg.br/api/v2/orgaos/78>https://dadosabertos.camara.leg.br/api/v2/orgaos/78</a></td>\n",
       "            <td>1</td>\n",
       "            <td>True</td>\n",
       "            <td>16969</td>\n",
       "            <td>2020</td>\n",
       "        </tr>\n",
       "        <tr>\n",
       "            <td>10000</td>\n",
       "            <td><a href=https://dadosabertos.camara.leg.br/api/v2/deputados/73896>https://dadosabertos.camara.leg.br/api/v2/deputados/73896</a></td>\n",
       "            <td>1</td>\n",
       "            <td>True</td>\n",
       "            <td>17495</td>\n",
       "            <td>2020</td>\n",
       "        </tr>\n",
       "        <tr>\n",
       "            <td>10000</td>\n",
       "            <td><a href=https://dadosabertos.camara.leg.br/api/v2/deputados/74419>https://dadosabertos.camara.leg.br/api/v2/deputados/74419</a></td>\n",
       "            <td>1</td>\n",
       "            <td>True</td>\n",
       "            <td>17496</td>\n",
       "            <td>2020</td>\n",
       "        </tr>\n",
       "        <tr>\n",
       "            <td>10000</td>\n",
       "            <td><a href=https://dadosabertos.camara.leg.br/api/v2/deputados/74665>https://dadosabertos.camara.leg.br/api/v2/deputados/74665</a></td>\n",
       "            <td>1</td>\n",
       "            <td>True</td>\n",
       "            <td>17593</td>\n",
       "            <td>2020</td>\n",
       "        </tr>\n",
       "    </tbody>\n",
       "</table>\n",
       "<span style=\"font-style:italic;text-align:center;\">Truncated to <a href=\"https://jupysql.ploomber.io/en/latest/api/configuration.html#displaylimit\">displaylimit</a> of 10.</span>"
      ],
      "text/plain": [
       "+----------+---------------------------------------------------------------------------------------------------------------------------------+------------------+------------+---------------+------+\n",
       "| cod_tipo |                                                               uri                                                               | ordem_assinatura | proponente | id_proposicao | year |\n",
       "+----------+---------------------------------------------------------------------------------------------------------------------------------+------------------+------------+---------------+------+\n",
       "|  10000   | <a href=https://dadosabertos.camara.leg.br/api/v2/deputados/74316>https://dadosabertos.camara.leg.br/api/v2/deputados/74316</a> |        1         |    True    |     15749     | 2020 |\n",
       "|  10000   | <a href=https://dadosabertos.camara.leg.br/api/v2/deputados/74295>https://dadosabertos.camara.leg.br/api/v2/deputados/74295</a> |        1         |    True    |     15781     | 2020 |\n",
       "|    20    |      <a href=https://dadosabertos.camara.leg.br/api/v2/orgaos/262>https://dadosabertos.camara.leg.br/api/v2/orgaos/262</a>      |        1         |    True    |     15990     | 2020 |\n",
       "|  10000   | <a href=https://dadosabertos.camara.leg.br/api/v2/deputados/73442>https://dadosabertos.camara.leg.br/api/v2/deputados/73442</a> |        1         |    True    |     16078     | 2020 |\n",
       "|  10000   | <a href=https://dadosabertos.camara.leg.br/api/v2/deputados/73899>https://dadosabertos.camara.leg.br/api/v2/deputados/73899</a> |        1         |    True    |     16579     | 2020 |\n",
       "|  10000   | <a href=https://dadosabertos.camara.leg.br/api/v2/deputados/74779>https://dadosabertos.camara.leg.br/api/v2/deputados/74779</a> |        1         |    True    |     16792     | 2020 |\n",
       "|  40000   |       <a href=https://dadosabertos.camara.leg.br/api/v2/orgaos/78>https://dadosabertos.camara.leg.br/api/v2/orgaos/78</a>       |        1         |    True    |     16969     | 2020 |\n",
       "|  10000   | <a href=https://dadosabertos.camara.leg.br/api/v2/deputados/73896>https://dadosabertos.camara.leg.br/api/v2/deputados/73896</a> |        1         |    True    |     17495     | 2020 |\n",
       "|  10000   | <a href=https://dadosabertos.camara.leg.br/api/v2/deputados/74419>https://dadosabertos.camara.leg.br/api/v2/deputados/74419</a> |        1         |    True    |     17496     | 2020 |\n",
       "|  10000   | <a href=https://dadosabertos.camara.leg.br/api/v2/deputados/74665>https://dadosabertos.camara.leg.br/api/v2/deputados/74665</a> |        1         |    True    |     17593     | 2020 |\n",
       "+----------+---------------------------------------------------------------------------------------------------------------------------------+------------------+------------+---------------+------+\n",
       "Truncated to displaylimit of 10."
      ]
     },
     "execution_count": 36,
     "metadata": {},
     "output_type": "execute_result"
    }
   ],
   "source": [
    "%%sql\n",
    "SELECT * FROM autores_camara LIMIT 10;"
   ]
  },
  {
   "cell_type": "markdown",
   "id": "43c798a1",
   "metadata": {},
   "source": [
    "### Orientações"
   ]
  },
  {
   "cell_type": "code",
   "execution_count": 37,
   "id": "51766938",
   "metadata": {
    "vscode": {
     "languageId": "sql"
    }
   },
   "outputs": [
    {
     "data": {
      "text/html": [
       "<span style=\"None\">Running query in &#x27;duck&#x27;</span>"
      ],
      "text/plain": [
       "Running query in 'duck'"
      ]
     },
     "metadata": {},
     "output_type": "display_data"
    },
    {
     "data": {
      "text/html": [
       "<table>\n",
       "    <thead>\n",
       "        <tr>\n",
       "            <th>n</th>\n",
       "        </tr>\n",
       "    </thead>\n",
       "    <tbody>\n",
       "        <tr>\n",
       "            <td>9099</td>\n",
       "        </tr>\n",
       "    </tbody>\n",
       "</table>"
      ],
      "text/plain": [
       "+------+\n",
       "|  n   |\n",
       "+------+\n",
       "| 9099 |\n",
       "+------+"
      ]
     },
     "execution_count": 37,
     "metadata": {},
     "output_type": "execute_result"
    }
   ],
   "source": [
    "%%sql\n",
    "CREATE OR REPLACE VIEW bronze_camara_orientacoes AS\n",
    "SELECT * FROM parquet_scan(\"data/bronze/snapshots/bronze-2020-smoke/camara/orientacoes/year=*/part-*.parquet\")\n",
    "WHERE source = 'camara' AND entity = 'orientacoes';\n",
    "\n",
    "SELECT COUNT(*) AS n FROM bronze_camara_orientacoes;"
   ]
  },
  {
   "cell_type": "code",
   "execution_count": 38,
   "id": "30a79154",
   "metadata": {
    "vscode": {
     "languageId": "sql"
    }
   },
   "outputs": [
    {
     "data": {
      "text/html": [
       "<span style=\"None\">Running query in &#x27;duck&#x27;</span>"
      ],
      "text/plain": [
       "Running query in 'duck'"
      ]
     },
     "metadata": {},
     "output_type": "display_data"
    },
    {
     "data": {
      "text/html": [
       "<table>\n",
       "    <thead>\n",
       "        <tr>\n",
       "            <th>source</th>\n",
       "            <th>entity</th>\n",
       "            <th>id</th>\n",
       "            <th>url</th>\n",
       "            <th>payload_json</th>\n",
       "            <th>payload_sha256</th>\n",
       "            <th>year</th>\n",
       "        </tr>\n",
       "    </thead>\n",
       "    <tbody>\n",
       "        <tr>\n",
       "            <td>camara</td>\n",
       "            <td>orientacoes</td>\n",
       "            <td>1006391-32</td>\n",
       "            <td><a href=https://dadosabertos.camara.leg.br/api/v2/votacoes/1006391-32/orientacoes>https://dadosabertos.camara.leg.br/api/v2/votacoes/1006391-32/orientacoes</a></td>\n",
       "            <td>{\"dados\":[]}</td>\n",
       "            <td>e3f60f959291f48551b8f9a819aa280d6c26cb36048a77675fc4e4107d2f7b49</td>\n",
       "            <td>2020</td>\n",
       "        </tr>\n",
       "        <tr>\n",
       "            <td>camara</td>\n",
       "            <td>orientacoes</td>\n",
       "            <td>103453-26</td>\n",
       "            <td><a href=https://dadosabertos.camara.leg.br/api/v2/votacoes/103453-26/orientacoes>https://dadosabertos.camara.leg.br/api/v2/votacoes/103453-26/orientacoes</a></td>\n",
       "            <td>{\"dados\":[]}</td>\n",
       "            <td>e3f60f959291f48551b8f9a819aa280d6c26cb36048a77675fc4e4107d2f7b49</td>\n",
       "            <td>2020</td>\n",
       "        </tr>\n",
       "        <tr>\n",
       "            <td>camara</td>\n",
       "            <td>orientacoes</td>\n",
       "            <td>1046197-43</td>\n",
       "            <td><a href=https://dadosabertos.camara.leg.br/api/v2/votacoes/1046197-43/orientacoes>https://dadosabertos.camara.leg.br/api/v2/votacoes/1046197-43/orientacoes</a></td>\n",
       "            <td>{\"dados\":[]}</td>\n",
       "            <td>e3f60f959291f48551b8f9a819aa280d6c26cb36048a77675fc4e4107d2f7b49</td>\n",
       "            <td>2020</td>\n",
       "        </tr>\n",
       "        <tr>\n",
       "            <td>camara</td>\n",
       "            <td>orientacoes</td>\n",
       "            <td>1048959-19</td>\n",
       "            <td><a href=https://dadosabertos.camara.leg.br/api/v2/votacoes/1048959-19/orientacoes>https://dadosabertos.camara.leg.br/api/v2/votacoes/1048959-19/orientacoes</a></td>\n",
       "            <td>{\"dados\":[]}</td>\n",
       "            <td>e3f60f959291f48551b8f9a819aa280d6c26cb36048a77675fc4e4107d2f7b49</td>\n",
       "            <td>2020</td>\n",
       "        </tr>\n",
       "        <tr>\n",
       "            <td>camara</td>\n",
       "            <td>orientacoes</td>\n",
       "            <td>1048959-27</td>\n",
       "            <td><a href=https://dadosabertos.camara.leg.br/api/v2/votacoes/1048959-27/orientacoes>https://dadosabertos.camara.leg.br/api/v2/votacoes/1048959-27/orientacoes</a></td>\n",
       "            <td>{\"dados\":[]}</td>\n",
       "            <td>e3f60f959291f48551b8f9a819aa280d6c26cb36048a77675fc4e4107d2f7b49</td>\n",
       "            <td>2020</td>\n",
       "        </tr>\n",
       "    </tbody>\n",
       "</table>"
      ],
      "text/plain": [
       "+--------+-------------+------------+-----------------------------------------------------------------------------------------------------------------------------------------------------------------+--------------+------------------------------------------------------------------+------+\n",
       "| source |    entity   |     id     |                                                                               url                                                                               | payload_json |                          payload_sha256                          | year |\n",
       "+--------+-------------+------------+-----------------------------------------------------------------------------------------------------------------------------------------------------------------+--------------+------------------------------------------------------------------+------+\n",
       "| camara | orientacoes | 1006391-32 | <a href=https://dadosabertos.camara.leg.br/api/v2/votacoes/1006391-32/orientacoes>https://dadosabertos.camara.leg.br/api/v2/votacoes/1006391-32/orientacoes</a> | {\"dados\":[]} | e3f60f959291f48551b8f9a819aa280d6c26cb36048a77675fc4e4107d2f7b49 | 2020 |\n",
       "| camara | orientacoes | 103453-26  |  <a href=https://dadosabertos.camara.leg.br/api/v2/votacoes/103453-26/orientacoes>https://dadosabertos.camara.leg.br/api/v2/votacoes/103453-26/orientacoes</a>  | {\"dados\":[]} | e3f60f959291f48551b8f9a819aa280d6c26cb36048a77675fc4e4107d2f7b49 | 2020 |\n",
       "| camara | orientacoes | 1046197-43 | <a href=https://dadosabertos.camara.leg.br/api/v2/votacoes/1046197-43/orientacoes>https://dadosabertos.camara.leg.br/api/v2/votacoes/1046197-43/orientacoes</a> | {\"dados\":[]} | e3f60f959291f48551b8f9a819aa280d6c26cb36048a77675fc4e4107d2f7b49 | 2020 |\n",
       "| camara | orientacoes | 1048959-19 | <a href=https://dadosabertos.camara.leg.br/api/v2/votacoes/1048959-19/orientacoes>https://dadosabertos.camara.leg.br/api/v2/votacoes/1048959-19/orientacoes</a> | {\"dados\":[]} | e3f60f959291f48551b8f9a819aa280d6c26cb36048a77675fc4e4107d2f7b49 | 2020 |\n",
       "| camara | orientacoes | 1048959-27 | <a href=https://dadosabertos.camara.leg.br/api/v2/votacoes/1048959-27/orientacoes>https://dadosabertos.camara.leg.br/api/v2/votacoes/1048959-27/orientacoes</a> | {\"dados\":[]} | e3f60f959291f48551b8f9a819aa280d6c26cb36048a77675fc4e4107d2f7b49 | 2020 |\n",
       "+--------+-------------+------------+-----------------------------------------------------------------------------------------------------------------------------------------------------------------+--------------+------------------------------------------------------------------+------+"
      ]
     },
     "execution_count": 38,
     "metadata": {},
     "output_type": "execute_result"
    }
   ],
   "source": [
    "%%sql\n",
    "SELECT * FROM bronze_camara_orientacoes LIMIT 5;"
   ]
  },
  {
   "cell_type": "code",
   "execution_count": 39,
   "id": "7a77b43b",
   "metadata": {
    "vscode": {
     "languageId": "sql"
    }
   },
   "outputs": [
    {
     "data": {
      "text/html": [
       "<span style=\"None\">Running query in &#x27;duck&#x27;</span>"
      ],
      "text/plain": [
       "Running query in 'duck'"
      ]
     },
     "metadata": {},
     "output_type": "display_data"
    },
    {
     "data": {
      "text/html": [
       "<table>\n",
       "    <thead>\n",
       "        <tr>\n",
       "            <th>Success</th>\n",
       "        </tr>\n",
       "    </thead>\n",
       "    <tbody>\n",
       "    </tbody>\n",
       "</table>"
      ],
      "text/plain": [
       "+---------+\n",
       "| Success |\n",
       "+---------+\n",
       "+---------+"
      ]
     },
     "execution_count": 39,
     "metadata": {},
     "output_type": "execute_result"
    }
   ],
   "source": [
    "%%sql\n",
    "DROP TABLE IF EXISTS orientacoes_camara;\n",
    "\n",
    "CREATE TABLE orientacoes_camara AS\n",
    "WITH base AS (\n",
    "  SELECT\n",
    "    TRY_CAST(payload_json AS JSON) AS j,\n",
    "    year AS year_snapshot,\n",
    "    id AS id_votacao\n",
    "  FROM bronze_camara_orientacoes\n",
    "),\n",
    "exploded AS (\n",
    "  SELECT\n",
    "    CAST(json_extract_string(e.value, '$.codPartidoBloco') AS BIGINT) AS cod_partido_bloco,\n",
    "    json_extract_string(e.value, '$.codTipoLideranca') AS cod_tipo_lideranca,\n",
    "    json_extract_string(e.value, '$.orientacaoVoto') AS orientacao_voto,\n",
    "    json_extract_string(e.value, '$.siglaPartidoBloco') AS sigla_partido_bloco,\n",
    "    json_extract_string(e.value, '$.uriPartidoBloco') AS uri_partido_bloco,\n",
    "    b.id_votacao,\n",
    "    b.year_snapshot\n",
    "  FROM base b\n",
    "  CROSS JOIN json_each(b.j, '$.dados') AS e\n",
    ")\n",
    "SELECT\n",
    "    id_votacao,\n",
    "    sigla_partido_bloco,\n",
    "    orientacao_voto,\n",
    "    cod_partido_bloco,\n",
    "    cod_tipo_lideranca,\n",
    "    uri_partido_bloco,\n",
    "    year_snapshot,\n",
    "FROM exploded;\n",
    "DROP VIEW IF EXISTS bronze_camara_orientacoes;\n"
   ]
  },
  {
   "cell_type": "code",
   "execution_count": 40,
   "id": "63c8126c",
   "metadata": {
    "vscode": {
     "languageId": "sql"
    }
   },
   "outputs": [
    {
     "data": {
      "text/html": [
       "<span style=\"None\">Running query in &#x27;duck&#x27;</span>"
      ],
      "text/plain": [
       "Running query in 'duck'"
      ]
     },
     "metadata": {},
     "output_type": "display_data"
    },
    {
     "data": {
      "text/html": [
       "<table>\n",
       "    <thead>\n",
       "        <tr>\n",
       "            <th>id_votacao</th>\n",
       "            <th>sigla_partido_bloco</th>\n",
       "            <th>orientacao_voto</th>\n",
       "            <th>cod_partido_bloco</th>\n",
       "            <th>cod_tipo_lideranca</th>\n",
       "            <th>uri_partido_bloco</th>\n",
       "            <th>year_snapshot</th>\n",
       "        </tr>\n",
       "    </thead>\n",
       "    <tbody>\n",
       "        <tr>\n",
       "            <td>105464-262</td>\n",
       "            <td>NOVO</td>\n",
       "            <td>Não</td>\n",
       "            <td>37901</td>\n",
       "            <td>P</td>\n",
       "            <td><a href=https://dadosabertos.camara.leg.br/api/v2/partidos/37901>https://dadosabertos.camara.leg.br/api/v2/partidos/37901</a></td>\n",
       "            <td>2020</td>\n",
       "        </tr>\n",
       "        <tr>\n",
       "            <td>105464-319</td>\n",
       "            <td>PT</td>\n",
       "            <td>Sim</td>\n",
       "            <td>36844</td>\n",
       "            <td>P</td>\n",
       "            <td><a href=https://dadosabertos.camara.leg.br/api/v2/partidos/36844>https://dadosabertos.camara.leg.br/api/v2/partidos/36844</a></td>\n",
       "            <td>2020</td>\n",
       "        </tr>\n",
       "        <tr>\n",
       "            <td>105464-326</td>\n",
       "            <td>NOVO</td>\n",
       "            <td>Não</td>\n",
       "            <td>37901</td>\n",
       "            <td>P</td>\n",
       "            <td><a href=https://dadosabertos.camara.leg.br/api/v2/partidos/37901>https://dadosabertos.camara.leg.br/api/v2/partidos/37901</a></td>\n",
       "            <td>2020</td>\n",
       "        </tr>\n",
       "        <tr>\n",
       "            <td>1198512-250</td>\n",
       "            <td>PTB</td>\n",
       "            <td>Sim</td>\n",
       "            <td>36845</td>\n",
       "            <td>P</td>\n",
       "            <td><a href=https://dadosabertos.camara.leg.br/api/v2/partidos/36845>https://dadosabertos.camara.leg.br/api/v2/partidos/36845</a></td>\n",
       "            <td>2020</td>\n",
       "        </tr>\n",
       "        <tr>\n",
       "            <td>1198512-254</td>\n",
       "            <td>DEM</td>\n",
       "            <td>Não</td>\n",
       "            <td>36769</td>\n",
       "            <td>P</td>\n",
       "            <td><a href=https://dadosabertos.camara.leg.br/api/v2/partidos/36769>https://dadosabertos.camara.leg.br/api/v2/partidos/36769</a></td>\n",
       "            <td>2020</td>\n",
       "        </tr>\n",
       "    </tbody>\n",
       "</table>"
      ],
      "text/plain": [
       "+-------------+---------------------+-----------------+-------------------+--------------------+-------------------------------------------------------------------------------------------------------------------------------+---------------+\n",
       "|  id_votacao | sigla_partido_bloco | orientacao_voto | cod_partido_bloco | cod_tipo_lideranca |                                                       uri_partido_bloco                                                       | year_snapshot |\n",
       "+-------------+---------------------+-----------------+-------------------+--------------------+-------------------------------------------------------------------------------------------------------------------------------+---------------+\n",
       "|  105464-262 |         NOVO        |       Não       |       37901       |         P          | <a href=https://dadosabertos.camara.leg.br/api/v2/partidos/37901>https://dadosabertos.camara.leg.br/api/v2/partidos/37901</a> |      2020     |\n",
       "|  105464-319 |          PT         |       Sim       |       36844       |         P          | <a href=https://dadosabertos.camara.leg.br/api/v2/partidos/36844>https://dadosabertos.camara.leg.br/api/v2/partidos/36844</a> |      2020     |\n",
       "|  105464-326 |         NOVO        |       Não       |       37901       |         P          | <a href=https://dadosabertos.camara.leg.br/api/v2/partidos/37901>https://dadosabertos.camara.leg.br/api/v2/partidos/37901</a> |      2020     |\n",
       "| 1198512-250 |         PTB         |       Sim       |       36845       |         P          | <a href=https://dadosabertos.camara.leg.br/api/v2/partidos/36845>https://dadosabertos.camara.leg.br/api/v2/partidos/36845</a> |      2020     |\n",
       "| 1198512-254 |         DEM         |       Não       |       36769       |         P          | <a href=https://dadosabertos.camara.leg.br/api/v2/partidos/36769>https://dadosabertos.camara.leg.br/api/v2/partidos/36769</a> |      2020     |\n",
       "+-------------+---------------------+-----------------+-------------------+--------------------+-------------------------------------------------------------------------------------------------------------------------------+---------------+"
      ]
     },
     "execution_count": 40,
     "metadata": {},
     "output_type": "execute_result"
    }
   ],
   "source": [
    "%%sql\n",
    "SELECT * FROM orientacoes_camara LIMIT 5;"
   ]
  },
  {
   "cell_type": "markdown",
   "id": "356b3a26",
   "metadata": {},
   "source": [
    "### Proposições relacionadas"
   ]
  },
  {
   "cell_type": "code",
   "execution_count": 41,
   "id": "38f0bfae",
   "metadata": {},
   "outputs": [],
   "source": [
    "import pyarrow.parquet as pq\n",
    "import json\n",
    "import pandas as pd\n",
    "import tempfile\n",
    "from glob import glob\n",
    "\n",
    "paths = glob(\"data/bronze/snapshots/bronze-2020-smoke/camara/relacionadas/year=*/part-*.parquet\")\n",
    "\n",
    "with tempfile.NamedTemporaryFile() as tf:\n",
    "\n",
    "    table = pq.read_table(paths)\n",
    "    df = table.to_pandas()\n",
    "\n",
    "    df.head()\n",
    "    exploded_rows = []\n",
    "\n",
    "    for index, row in df.iterrows():\n",
    "        payload = json.loads(row['payload_json'])\n",
    "        for item in payload['dados']:\n",
    "            exploded_rows.append({\n",
    "                'id_proposicao_origem': row['id'],\n",
    "                'id_proposicao_destino': item['id'],\n",
    "                'year_snapshot': row['year'],\n",
    "            })\n",
    "    exploded_df = pd.DataFrame(exploded_rows)\n",
    "    exploded_df.to_csv(tf.name)\n",
    "\n",
    "    conn.execute(f\"\"\"\n",
    "        DROP TABLE IF EXISTS relacionadas_camara;\n",
    "        CREATE TABLE relacionadas_camara AS\n",
    "            SELECT\n",
    "                id_proposicao_origem::BIGINT AS id_proposicao_origem,\n",
    "                id_proposicao_destino::BIGINT AS id_proposicao_destino,\n",
    "                year_snapshot::INTEGER AS year_snapshot\n",
    "            FROM read_csv_auto('{tf.name}', HEADER=TRUE);\n",
    "    \"\"\")"
   ]
  },
  {
   "cell_type": "code",
   "execution_count": 42,
   "id": "ce08cfce",
   "metadata": {
    "vscode": {
     "languageId": "sql"
    }
   },
   "outputs": [
    {
     "data": {
      "text/html": [
       "<span style=\"None\">Running query in &#x27;duck&#x27;</span>"
      ],
      "text/plain": [
       "Running query in 'duck'"
      ]
     },
     "metadata": {},
     "output_type": "display_data"
    },
    {
     "data": {
      "text/html": [
       "<table>\n",
       "    <thead>\n",
       "        <tr>\n",
       "            <th>count_star()</th>\n",
       "        </tr>\n",
       "    </thead>\n",
       "    <tbody>\n",
       "        <tr>\n",
       "            <td>75961</td>\n",
       "        </tr>\n",
       "    </tbody>\n",
       "</table>"
      ],
      "text/plain": [
       "+--------------+\n",
       "| count_star() |\n",
       "+--------------+\n",
       "|    75961     |\n",
       "+--------------+"
      ]
     },
     "execution_count": 42,
     "metadata": {},
     "output_type": "execute_result"
    }
   ],
   "source": [
    "%%sql\n",
    "SELECT COUNT(*) FROM relacionadas_camara;"
   ]
  },
  {
   "cell_type": "code",
   "execution_count": 43,
   "id": "39055049",
   "metadata": {
    "vscode": {
     "languageId": "sql"
    }
   },
   "outputs": [
    {
     "data": {
      "text/html": [
       "<span style=\"None\">Running query in &#x27;duck&#x27;</span>"
      ],
      "text/plain": [
       "Running query in 'duck'"
      ]
     },
     "metadata": {},
     "output_type": "display_data"
    },
    {
     "data": {
      "text/html": [
       "<table>\n",
       "    <thead>\n",
       "        <tr>\n",
       "            <th>id_proposicao_origem</th>\n",
       "            <th>id_proposicao_destino</th>\n",
       "            <th>year_snapshot</th>\n",
       "        </tr>\n",
       "    </thead>\n",
       "    <tbody>\n",
       "        <tr>\n",
       "            <td>15009</td>\n",
       "            <td>59509</td>\n",
       "            <td>2020</td>\n",
       "        </tr>\n",
       "        <tr>\n",
       "            <td>15009</td>\n",
       "            <td>146124</td>\n",
       "            <td>2020</td>\n",
       "        </tr>\n",
       "        <tr>\n",
       "            <td>15009</td>\n",
       "            <td>59511</td>\n",
       "            <td>2020</td>\n",
       "        </tr>\n",
       "        <tr>\n",
       "            <td>15009</td>\n",
       "            <td>83544</td>\n",
       "            <td>2020</td>\n",
       "        </tr>\n",
       "        <tr>\n",
       "            <td>15009</td>\n",
       "            <td>96371</td>\n",
       "            <td>2020</td>\n",
       "        </tr>\n",
       "    </tbody>\n",
       "</table>"
      ],
      "text/plain": [
       "+----------------------+-----------------------+---------------+\n",
       "| id_proposicao_origem | id_proposicao_destino | year_snapshot |\n",
       "+----------------------+-----------------------+---------------+\n",
       "|        15009         |         59509         |      2020     |\n",
       "|        15009         |         146124        |      2020     |\n",
       "|        15009         |         59511         |      2020     |\n",
       "|        15009         |         83544         |      2020     |\n",
       "|        15009         |         96371         |      2020     |\n",
       "+----------------------+-----------------------+---------------+"
      ]
     },
     "execution_count": 43,
     "metadata": {},
     "output_type": "execute_result"
    }
   ],
   "source": [
    "%%sql\n",
    "SELECT * FROM relacionadas_camara LIMIT 5;"
   ]
  },
  {
   "cell_type": "markdown",
   "id": "e28c4815",
   "metadata": {},
   "source": [
    "### Tramitações"
   ]
  },
  {
   "cell_type": "code",
   "execution_count": 44,
   "id": "4eda57fa",
   "metadata": {
    "vscode": {
     "languageId": "sql"
    }
   },
   "outputs": [],
   "source": [
    "import pyarrow.parquet as pq\n",
    "import json\n",
    "import pandas as pd\n",
    "import tempfile\n",
    "from glob import glob\n",
    "\n",
    "with tempfile.NamedTemporaryFile() as tf:\n",
    "\n",
    "    # load parquet\n",
    "    paths = glob(\"data/bronze/snapshots/bronze-2020-smoke/camara/tramitacoes/year=*/part-*.parquet\")\n",
    "    table = pq.read_table(paths)\n",
    "    df = table.to_pandas()\n",
    "\n",
    "    exploded_rows = []\n",
    "\n",
    "    for index, row in df.iterrows():\n",
    "        payload = json.loads(row[\"payload_json\"])\n",
    "        for item in payload.get(\"dados\", []):\n",
    "            exploded_rows.append({\n",
    "                \"id_proposicao\": row[\"id\"],\n",
    "                \"ambito\": item.get(\"ambito\"),\n",
    "                \"apreciacao\": item.get(\"apreciacao\"),\n",
    "                \"cod_situacao\": item.get(\"codSituacao\"),\n",
    "                \"cod_tipo_tramitacao\": item.get(\"codTipoTramitacao\"),\n",
    "                \"data_hora\": item.get(\"dataHora\"),\n",
    "                \"descricao_situacao\": item.get(\"descricaoSituacao\"),\n",
    "                \"descricao_tramitacao\": item.get(\"descricaoTramitacao\"),\n",
    "                \"despacho\": item.get(\"despacho\"),\n",
    "                \"regime\": item.get(\"regime\"),\n",
    "                \"sequencia\": item.get(\"sequencia\"),\n",
    "                \"sigla_orgao\": item.get(\"siglaOrgao\"),\n",
    "                \"uri_orgao\": item.get(\"uriOrgao\"),\n",
    "                \"uri_ultimo_relator\": item.get(\"uriUltimoRelator\"),\n",
    "                \"year_snapshot\": row[\"year\"],\n",
    "            })\n",
    "\n",
    "    exploded_df = pd.DataFrame(exploded_rows)\n",
    "\n",
    "    # save to temp CSV\n",
    "    exploded_df.to_csv(tf.name, index=False)\n",
    "\n",
    "    # create SQL table\n",
    "    conn.execute(f\"\"\"\n",
    "        DROP TABLE IF EXISTS tramitacoes_camara;\n",
    "        CREATE TABLE tramitacoes_camara AS\n",
    "            SELECT\n",
    "                id_proposicao::BIGINT AS id_proposicao,\n",
    "                ambito::TEXT AS ambito,\n",
    "                apreciacao::TEXT AS apreciacao,\n",
    "                cod_situacao::TEXT AS cod_situacao,\n",
    "                cod_tipo_tramitacao::TEXT AS cod_tipo_tramitacao,\n",
    "                CAST(data_hora AS TIMESTAMP) AS data_hora,\n",
    "                descricao_situacao::TEXT AS descricao_situacao,\n",
    "                descricao_tramitacao::TEXT AS descricao_tramitacao,\n",
    "                despacho::TEXT AS despacho,\n",
    "                regime::TEXT AS regime,\n",
    "                sequencia::INTEGER AS sequencia,\n",
    "                sigla_orgao::TEXT AS sigla_orgao,\n",
    "                uri_orgao::TEXT AS uri_orgao,\n",
    "                uri_ultimo_relator::TEXT AS uri_ultimo_relator,\n",
    "                year_snapshot::INTEGER AS year_snapshot\n",
    "            FROM read_csv_auto('{tf.name}', HEADER=TRUE);\n",
    "    \"\"\")\n"
   ]
  },
  {
   "cell_type": "code",
   "execution_count": 45,
   "id": "59175c44",
   "metadata": {
    "vscode": {
     "languageId": "sql"
    }
   },
   "outputs": [
    {
     "data": {
      "text/html": [
       "<span style=\"None\">Running query in &#x27;duck&#x27;</span>"
      ],
      "text/plain": [
       "Running query in 'duck'"
      ]
     },
     "metadata": {},
     "output_type": "display_data"
    },
    {
     "data": {
      "text/html": [
       "<table>\n",
       "    <thead>\n",
       "        <tr>\n",
       "            <th>id_proposicao</th>\n",
       "            <th>ambito</th>\n",
       "            <th>apreciacao</th>\n",
       "            <th>cod_situacao</th>\n",
       "            <th>cod_tipo_tramitacao</th>\n",
       "            <th>data_hora</th>\n",
       "            <th>descricao_situacao</th>\n",
       "            <th>descricao_tramitacao</th>\n",
       "            <th>despacho</th>\n",
       "            <th>regime</th>\n",
       "            <th>sequencia</th>\n",
       "            <th>sigla_orgao</th>\n",
       "            <th>uri_orgao</th>\n",
       "            <th>uri_ultimo_relator</th>\n",
       "            <th>year_snapshot</th>\n",
       "        </tr>\n",
       "    </thead>\n",
       "    <tbody>\n",
       "        <tr>\n",
       "            <td>15009</td>\n",
       "            <td>Regimental</td>\n",
       "            <td>Proposição Sujeita à Apreciação do Plenário</td>\n",
       "            <td>None</td>\n",
       "            <td>100</td>\n",
       "            <td>1995-02-22 00:00:00</td>\n",
       "            <td>None</td>\n",
       "            <td>Apresentação de Proposição</td>\n",
       "            <td>APRESENTAÇÃO DO PROJETO PELO DEP JOSE COIMBRA.</td>\n",
       "            <td>Prioridade (Art. 151, II, RICD)</td>\n",
       "            <td>1</td>\n",
       "            <td>PLEN</td>\n",
       "            <td><a href=https://dadosabertos.camara.leg.br/api/v2/orgaos/180>https://dadosabertos.camara.leg.br/api/v2/orgaos/180</a></td>\n",
       "            <td>None</td>\n",
       "            <td>2020</td>\n",
       "        </tr>\n",
       "        <tr>\n",
       "            <td>15009</td>\n",
       "            <td>Regimental</td>\n",
       "            <td>Proposição Sujeita à Apreciação do Plenário</td>\n",
       "            <td>None</td>\n",
       "            <td>105</td>\n",
       "            <td>1995-03-14 00:00:00</td>\n",
       "            <td>None</td>\n",
       "            <td>Leitura e publicação</td>\n",
       "            <td>LEITURA E PUBLICAÇÃO DA MATERIA. DCN1 24 03 95 PAG 4218 COL 01.</td>\n",
       "            <td>Prioridade (Art. 151, II, RICD)</td>\n",
       "            <td>3</td>\n",
       "            <td>PLEN</td>\n",
       "            <td><a href=https://dadosabertos.camara.leg.br/api/v2/orgaos/180>https://dadosabertos.camara.leg.br/api/v2/orgaos/180</a></td>\n",
       "            <td>None</td>\n",
       "            <td>2020</td>\n",
       "        </tr>\n",
       "        <tr>\n",
       "            <td>15009</td>\n",
       "            <td>Regimental</td>\n",
       "            <td>Proposição Sujeita à Apreciação do Plenário</td>\n",
       "            <td>923.0</td>\n",
       "            <td>999</td>\n",
       "            <td>1995-03-14 00:00:00</td>\n",
       "            <td>Arquivada</td>\n",
       "            <td>Despacho* (inativa)</td>\n",
       "            <td>DESPACHO INICIAL  A CCJR.</td>\n",
       "            <td>Prioridade (Art. 151, II, RICD)</td>\n",
       "            <td>2</td>\n",
       "            <td>MESA</td>\n",
       "            <td><a href=https://dadosabertos.camara.leg.br/api/v2/orgaos/4>https://dadosabertos.camara.leg.br/api/v2/orgaos/4</a></td>\n",
       "            <td>None</td>\n",
       "            <td>2020</td>\n",
       "        </tr>\n",
       "        <tr>\n",
       "            <td>15009</td>\n",
       "            <td>Regimental</td>\n",
       "            <td>Proposição Sujeita à Apreciação do Plenário</td>\n",
       "            <td>None</td>\n",
       "            <td>180</td>\n",
       "            <td>1995-03-15 00:00:00</td>\n",
       "            <td>None</td>\n",
       "            <td>Encaminhamento</td>\n",
       "            <td>ENCAMINHADO A COMISSÃO DE CONSTITUIÇÃO E JUSTIÇA E DE REDAÇÃO.</td>\n",
       "            <td>Prioridade (Art. 151, II, RICD)</td>\n",
       "            <td>4</td>\n",
       "            <td>CCP</td>\n",
       "            <td><a href=https://dadosabertos.camara.leg.br/api/v2/orgaos/186>https://dadosabertos.camara.leg.br/api/v2/orgaos/186</a></td>\n",
       "            <td>None</td>\n",
       "            <td>2020</td>\n",
       "        </tr>\n",
       "        <tr>\n",
       "            <td>15009</td>\n",
       "            <td>Regimental</td>\n",
       "            <td>Proposição Sujeita à Apreciação do Plenário</td>\n",
       "            <td>None</td>\n",
       "            <td>320</td>\n",
       "            <td>1995-03-16 00:00:00</td>\n",
       "            <td>None</td>\n",
       "            <td>Designação de Relator(a)</td>\n",
       "            <td>RELATOR DEP REGIS DE OLIVEIRA. DCN1 17 03 95 PAG 3668 COL 01.</td>\n",
       "            <td>Prioridade (Art. 151, II, RICD)</td>\n",
       "            <td>5</td>\n",
       "            <td>CCJC</td>\n",
       "            <td><a href=https://dadosabertos.camara.leg.br/api/v2/orgaos/2003>https://dadosabertos.camara.leg.br/api/v2/orgaos/2003</a></td>\n",
       "            <td><a href=https://dadosabertos.camara.leg.br/api/v2/deputados/73556>https://dadosabertos.camara.leg.br/api/v2/deputados/73556</a></td>\n",
       "            <td>2020</td>\n",
       "        </tr>\n",
       "        <tr>\n",
       "            <td>15009</td>\n",
       "            <td>Regimental</td>\n",
       "            <td>Proposição Sujeita à Apreciação do Plenário</td>\n",
       "            <td>None</td>\n",
       "            <td>322</td>\n",
       "            <td>1995-03-29 10:03:00</td>\n",
       "            <td>None</td>\n",
       "            <td>Parecer do(a) Relator(a)</td>\n",
       "            <td>Parecer do Relator, Dep. Regis de Olieira, pela constitucionalidade, juridicidade e técnica legislativa, e, no mérito, pela aprovação deste, com emendas.</td>\n",
       "            <td>Prioridade (Art. 151, II, RICD)</td>\n",
       "            <td>6</td>\n",
       "            <td>CCJC</td>\n",
       "            <td><a href=https://dadosabertos.camara.leg.br/api/v2/orgaos/2003>https://dadosabertos.camara.leg.br/api/v2/orgaos/2003</a></td>\n",
       "            <td><a href=https://dadosabertos.camara.leg.br/api/v2/deputados/73556>https://dadosabertos.camara.leg.br/api/v2/deputados/73556</a></td>\n",
       "            <td>2020</td>\n",
       "        </tr>\n",
       "        <tr>\n",
       "            <td>15009</td>\n",
       "            <td>Regimental</td>\n",
       "            <td>Proposição Sujeita à Apreciação do Plenário</td>\n",
       "            <td>None</td>\n",
       "            <td>336</td>\n",
       "            <td>1995-05-10 00:00:00</td>\n",
       "            <td>None</td>\n",
       "            <td>Aprovação do Parecer</td>\n",
       "            <td>APROVAÇÃO UNANIME DO PARECER DO RELATOR, DEP REGIS DEOLIVEIRA, PELA CONSTITUCIONALIDADE, JURIDICIDADE ETECNICA LEGISLATIVA E, NO MERITO, PELA APROVAÇÃO, COMEMENDAS.DCN1 27 06 95 PAG 14156 COL 02.</td>\n",
       "            <td>Prioridade (Art. 151, II, RICD)</td>\n",
       "            <td>7</td>\n",
       "            <td>CCJC</td>\n",
       "            <td><a href=https://dadosabertos.camara.leg.br/api/v2/orgaos/2003>https://dadosabertos.camara.leg.br/api/v2/orgaos/2003</a></td>\n",
       "            <td><a href=https://dadosabertos.camara.leg.br/api/v2/deputados/73556>https://dadosabertos.camara.leg.br/api/v2/deputados/73556</a></td>\n",
       "            <td>2020</td>\n",
       "        </tr>\n",
       "        <tr>\n",
       "            <td>15009</td>\n",
       "            <td>Regimental</td>\n",
       "            <td>Proposição Sujeita à Apreciação do Plenário</td>\n",
       "            <td>None</td>\n",
       "            <td>330</td>\n",
       "            <td>1995-06-02 00:00:00</td>\n",
       "            <td>None</td>\n",
       "            <td>Leitura e publicação do Parecer</td>\n",
       "            <td>LEITURA E PUBLICAÇÃO DO PARECER DA CCJR. PRONTO PARA A ORDEM DO DIA.  PL. 70-A/95.</td>\n",
       "            <td>Prioridade (Art. 151, II, RICD)</td>\n",
       "            <td>8</td>\n",
       "            <td>PLEN</td>\n",
       "            <td><a href=https://dadosabertos.camara.leg.br/api/v2/orgaos/180>https://dadosabertos.camara.leg.br/api/v2/orgaos/180</a></td>\n",
       "            <td><a href=https://dadosabertos.camara.leg.br/api/v2/deputados/73556>https://dadosabertos.camara.leg.br/api/v2/deputados/73556</a></td>\n",
       "            <td>2020</td>\n",
       "        </tr>\n",
       "        <tr>\n",
       "            <td>15009</td>\n",
       "            <td>Regimental</td>\n",
       "            <td>Proposição Sujeita à Apreciação do Plenário</td>\n",
       "            <td>923.0</td>\n",
       "            <td>5</td>\n",
       "            <td>1995-06-29 00:00:00</td>\n",
       "            <td>Arquivada</td>\n",
       "            <td>Não Informado</td>\n",
       "            <td>DEFERIDO REQUERIMENTO, DO DEP OSMANIO PEREIRA,SOLICITANDO AUDIENCIA DA CSSF PARA ESTE PROJETO.</td>\n",
       "            <td>Prioridade (Art. 151, II, RICD)</td>\n",
       "            <td>9</td>\n",
       "            <td>MESA</td>\n",
       "            <td><a href=https://dadosabertos.camara.leg.br/api/v2/orgaos/4>https://dadosabertos.camara.leg.br/api/v2/orgaos/4</a></td>\n",
       "            <td><a href=https://dadosabertos.camara.leg.br/api/v2/deputados/73556>https://dadosabertos.camara.leg.br/api/v2/deputados/73556</a></td>\n",
       "            <td>2020</td>\n",
       "        </tr>\n",
       "        <tr>\n",
       "            <td>15009</td>\n",
       "            <td>Regimental</td>\n",
       "            <td>Proposição Sujeita à Apreciação do Plenário</td>\n",
       "            <td>None</td>\n",
       "            <td>221</td>\n",
       "            <td>1995-06-29 00:00:00</td>\n",
       "            <td>None</td>\n",
       "            <td>Adiamento de Discussão</td>\n",
       "            <td>DISCUSSÃO EM TURNO UNICO. APROVAÇÃO DO REQUERIMENTO DO DEP SALVADOR ZIMBALDI (PSDB) SOLICITANDO O ADIAMENTO DA DISCUSSÃO POR 10 SESSÕES. DCN1 30 06 95 PAG 14667 COL 01.</td>\n",
       "            <td>Prioridade (Art. 151, II, RICD)</td>\n",
       "            <td>10</td>\n",
       "            <td>PLEN</td>\n",
       "            <td><a href=https://dadosabertos.camara.leg.br/api/v2/orgaos/180>https://dadosabertos.camara.leg.br/api/v2/orgaos/180</a></td>\n",
       "            <td><a href=https://dadosabertos.camara.leg.br/api/v2/deputados/73556>https://dadosabertos.camara.leg.br/api/v2/deputados/73556</a></td>\n",
       "            <td>2020</td>\n",
       "        </tr>\n",
       "    </tbody>\n",
       "</table>\n",
       "<span style=\"font-style:italic;text-align:center;\">Truncated to <a href=\"https://jupysql.ploomber.io/en/latest/api/configuration.html#displaylimit\">displaylimit</a> of 10.</span>"
      ],
      "text/plain": [
       "+---------------+------------+---------------------------------------------+--------------+---------------------+---------------------+--------------------+---------------------------------+-----------------------------------------------------------------------------------------------------------------------------------------------------------------------------------------------------+---------------------------------+-----------+-------------+-------------------------------------------------------------------------------------------------------------------------+---------------------------------------------------------------------------------------------------------------------------------+---------------+\n",
       "| id_proposicao |   ambito   |                  apreciacao                 | cod_situacao | cod_tipo_tramitacao |      data_hora      | descricao_situacao |       descricao_tramitacao      |                                                                                               despacho                                                                                              |              regime             | sequencia | sigla_orgao |                                                        uri_orgao                                                        |                                                        uri_ultimo_relator                                                       | year_snapshot |\n",
       "+---------------+------------+---------------------------------------------+--------------+---------------------+---------------------+--------------------+---------------------------------+-----------------------------------------------------------------------------------------------------------------------------------------------------------------------------------------------------+---------------------------------+-----------+-------------+-------------------------------------------------------------------------------------------------------------------------+---------------------------------------------------------------------------------------------------------------------------------+---------------+\n",
       "|     15009     | Regimental | Proposição Sujeita à Apreciação do Plenário |     None     |         100         | 1995-02-22 00:00:00 |        None        |    Apresentação de Proposição   |                                                                            APRESENTAÇÃO DO PROJETO PELO DEP JOSE COIMBRA.                                                                           | Prioridade (Art. 151, II, RICD) |     1     |     PLEN    |  <a href=https://dadosabertos.camara.leg.br/api/v2/orgaos/180>https://dadosabertos.camara.leg.br/api/v2/orgaos/180</a>  |                                                               None                                                              |      2020     |\n",
       "|     15009     | Regimental | Proposição Sujeita à Apreciação do Plenário |     None     |         105         | 1995-03-14 00:00:00 |        None        |       Leitura e publicação      |                                                                   LEITURA E PUBLICAÇÃO DA MATERIA. DCN1 24 03 95 PAG 4218 COL 01.                                                                   | Prioridade (Art. 151, II, RICD) |     3     |     PLEN    |  <a href=https://dadosabertos.camara.leg.br/api/v2/orgaos/180>https://dadosabertos.camara.leg.br/api/v2/orgaos/180</a>  |                                                               None                                                              |      2020     |\n",
       "|     15009     | Regimental | Proposição Sujeita à Apreciação do Plenário |    923.0     |         999         | 1995-03-14 00:00:00 |     Arquivada      |       Despacho* (inativa)       |                                                                                      DESPACHO INICIAL  A CCJR.                                                                                      | Prioridade (Art. 151, II, RICD) |     2     |     MESA    |    <a href=https://dadosabertos.camara.leg.br/api/v2/orgaos/4>https://dadosabertos.camara.leg.br/api/v2/orgaos/4</a>    |                                                               None                                                              |      2020     |\n",
       "|     15009     | Regimental | Proposição Sujeita à Apreciação do Plenário |     None     |         180         | 1995-03-15 00:00:00 |        None        |          Encaminhamento         |                                                                    ENCAMINHADO A COMISSÃO DE CONSTITUIÇÃO E JUSTIÇA E DE REDAÇÃO.                                                                   | Prioridade (Art. 151, II, RICD) |     4     |     CCP     |  <a href=https://dadosabertos.camara.leg.br/api/v2/orgaos/186>https://dadosabertos.camara.leg.br/api/v2/orgaos/186</a>  |                                                               None                                                              |      2020     |\n",
       "|     15009     | Regimental | Proposição Sujeita à Apreciação do Plenário |     None     |         320         | 1995-03-16 00:00:00 |        None        |     Designação de Relator(a)    |                                                                    RELATOR DEP REGIS DE OLIVEIRA. DCN1 17 03 95 PAG 3668 COL 01.                                                                    | Prioridade (Art. 151, II, RICD) |     5     |     CCJC    | <a href=https://dadosabertos.camara.leg.br/api/v2/orgaos/2003>https://dadosabertos.camara.leg.br/api/v2/orgaos/2003</a> | <a href=https://dadosabertos.camara.leg.br/api/v2/deputados/73556>https://dadosabertos.camara.leg.br/api/v2/deputados/73556</a> |      2020     |\n",
       "|     15009     | Regimental | Proposição Sujeita à Apreciação do Plenário |     None     |         322         | 1995-03-29 10:03:00 |        None        |     Parecer do(a) Relator(a)    |                      Parecer do Relator, Dep. Regis de Olieira, pela constitucionalidade, juridicidade e técnica legislativa, e, no mérito, pela aprovação deste, com emendas.                      | Prioridade (Art. 151, II, RICD) |     6     |     CCJC    | <a href=https://dadosabertos.camara.leg.br/api/v2/orgaos/2003>https://dadosabertos.camara.leg.br/api/v2/orgaos/2003</a> | <a href=https://dadosabertos.camara.leg.br/api/v2/deputados/73556>https://dadosabertos.camara.leg.br/api/v2/deputados/73556</a> |      2020     |\n",
       "|     15009     | Regimental | Proposição Sujeita à Apreciação do Plenário |     None     |         336         | 1995-05-10 00:00:00 |        None        |       Aprovação do Parecer      | APROVAÇÃO UNANIME DO PARECER DO RELATOR, DEP REGIS DEOLIVEIRA, PELA CONSTITUCIONALIDADE, JURIDICIDADE ETECNICA LEGISLATIVA E, NO MERITO, PELA APROVAÇÃO, COMEMENDAS.DCN1 27 06 95 PAG 14156 COL 02. | Prioridade (Art. 151, II, RICD) |     7     |     CCJC    | <a href=https://dadosabertos.camara.leg.br/api/v2/orgaos/2003>https://dadosabertos.camara.leg.br/api/v2/orgaos/2003</a> | <a href=https://dadosabertos.camara.leg.br/api/v2/deputados/73556>https://dadosabertos.camara.leg.br/api/v2/deputados/73556</a> |      2020     |\n",
       "|     15009     | Regimental | Proposição Sujeita à Apreciação do Plenário |     None     |         330         | 1995-06-02 00:00:00 |        None        | Leitura e publicação do Parecer |                                                          LEITURA E PUBLICAÇÃO DO PARECER DA CCJR. PRONTO PARA A ORDEM DO DIA.  PL. 70-A/95.                                                         | Prioridade (Art. 151, II, RICD) |     8     |     PLEN    |  <a href=https://dadosabertos.camara.leg.br/api/v2/orgaos/180>https://dadosabertos.camara.leg.br/api/v2/orgaos/180</a>  | <a href=https://dadosabertos.camara.leg.br/api/v2/deputados/73556>https://dadosabertos.camara.leg.br/api/v2/deputados/73556</a> |      2020     |\n",
       "|     15009     | Regimental | Proposição Sujeita à Apreciação do Plenário |    923.0     |          5          | 1995-06-29 00:00:00 |     Arquivada      |          Não Informado          |                                                    DEFERIDO REQUERIMENTO, DO DEP OSMANIO PEREIRA,SOLICITANDO AUDIENCIA DA CSSF PARA ESTE PROJETO.                                                   | Prioridade (Art. 151, II, RICD) |     9     |     MESA    |    <a href=https://dadosabertos.camara.leg.br/api/v2/orgaos/4>https://dadosabertos.camara.leg.br/api/v2/orgaos/4</a>    | <a href=https://dadosabertos.camara.leg.br/api/v2/deputados/73556>https://dadosabertos.camara.leg.br/api/v2/deputados/73556</a> |      2020     |\n",
       "|     15009     | Regimental | Proposição Sujeita à Apreciação do Plenário |     None     |         221         | 1995-06-29 00:00:00 |        None        |      Adiamento de Discussão     |               DISCUSSÃO EM TURNO UNICO. APROVAÇÃO DO REQUERIMENTO DO DEP SALVADOR ZIMBALDI (PSDB) SOLICITANDO O ADIAMENTO DA DISCUSSÃO POR 10 SESSÕES. DCN1 30 06 95 PAG 14667 COL 01.              | Prioridade (Art. 151, II, RICD) |     10    |     PLEN    |  <a href=https://dadosabertos.camara.leg.br/api/v2/orgaos/180>https://dadosabertos.camara.leg.br/api/v2/orgaos/180</a>  | <a href=https://dadosabertos.camara.leg.br/api/v2/deputados/73556>https://dadosabertos.camara.leg.br/api/v2/deputados/73556</a> |      2020     |\n",
       "+---------------+------------+---------------------------------------------+--------------+---------------------+---------------------+--------------------+---------------------------------+-----------------------------------------------------------------------------------------------------------------------------------------------------------------------------------------------------+---------------------------------+-----------+-------------+-------------------------------------------------------------------------------------------------------------------------+---------------------------------------------------------------------------------------------------------------------------------+---------------+\n",
       "Truncated to displaylimit of 10."
      ]
     },
     "execution_count": 45,
     "metadata": {},
     "output_type": "execute_result"
    }
   ],
   "source": [
    "%%sql\n",
    "\n",
    "SELECT * FROM tramitacoes_camara LIMIT 10;"
   ]
  },
  {
   "cell_type": "markdown",
   "id": "7125db42",
   "metadata": {},
   "source": [
    "### Votações"
   ]
  },
  {
   "cell_type": "code",
   "execution_count": 46,
   "id": "588917c6",
   "metadata": {
    "vscode": {
     "languageId": "sql"
    }
   },
   "outputs": [
    {
     "data": {
      "text/html": [
       "<span style=\"None\">Running query in &#x27;duck&#x27;</span>"
      ],
      "text/plain": [
       "Running query in 'duck'"
      ]
     },
     "metadata": {},
     "output_type": "display_data"
    },
    {
     "data": {
      "text/html": [
       "<table>\n",
       "    <thead>\n",
       "        <tr>\n",
       "            <th>n</th>\n",
       "        </tr>\n",
       "    </thead>\n",
       "    <tbody>\n",
       "        <tr>\n",
       "            <td>40435</td>\n",
       "        </tr>\n",
       "    </tbody>\n",
       "</table>"
      ],
      "text/plain": [
       "+-------+\n",
       "|   n   |\n",
       "+-------+\n",
       "| 40435 |\n",
       "+-------+"
      ]
     },
     "execution_count": 46,
     "metadata": {},
     "output_type": "execute_result"
    }
   ],
   "source": [
    "%%sql\n",
    "CREATE OR REPLACE VIEW bronze_camara_votacoes AS\n",
    "SELECT * FROM parquet_scan(\"data/bronze/snapshots/bronze-2020-smoke/camara/votacoes/year=*/part-*.parquet\")\n",
    "WHERE source = 'camara' AND entity = 'votacoes';\n",
    "\n",
    "SELECT COUNT(*) AS n FROM bronze_camara_votacoes;"
   ]
  },
  {
   "cell_type": "code",
   "execution_count": 47,
   "id": "b0e53563",
   "metadata": {
    "vscode": {
     "languageId": "sql"
    }
   },
   "outputs": [
    {
     "data": {
      "text/html": [
       "<span style=\"None\">Running query in &#x27;duck&#x27;</span>"
      ],
      "text/plain": [
       "Running query in 'duck'"
      ]
     },
     "metadata": {},
     "output_type": "display_data"
    },
    {
     "data": {
      "text/html": [
       "<table>\n",
       "    <thead>\n",
       "        <tr>\n",
       "            <th>source</th>\n",
       "            <th>entity</th>\n",
       "            <th>id</th>\n",
       "            <th>url</th>\n",
       "            <th>payload_json</th>\n",
       "            <th>payload_sha256</th>\n",
       "            <th>year</th>\n",
       "        </tr>\n",
       "    </thead>\n",
       "    <tbody>\n",
       "        <tr>\n",
       "            <td>camara</td>\n",
       "            <td>votacoes</td>\n",
       "            <td>15009</td>\n",
       "            <td><a href=https://dadosabertos.camara.leg.br/api/v2/proposicoes/15009/votacoes>https://dadosabertos.camara.leg.br/api/v2/proposicoes/15009/votacoes</a></td>\n",
       "            <td>{\"dados\":[{\"aprovacao\":1,\"data\":\"1996-04-10\",\"dataHoraRegistro\":null,\"descricao\":\"APROVAÇÃO UNANIME DO PARECER FAVORAVEL DO RELATOR,\\r\\nDEP AGNELO QUEIROZ.\\r\\nDCDS 15 06 96 PAG 0418 COL 01.\",\"id\":\"15009-13\",\"proposicaoObjeto\":null,\"siglaOrgao\":\"CSAUDE\",\"uri\":\"https://dadosabertos.camara.leg.br/api/v2/votacoes/15009-13\",\"uriEvento\":null,\"uriOrgao\":\"https://dadosabertos.camara.leg.br/api/v2/orgaos/2014\",\"uriProposicaoObjeto\":null},{\"aprovacao\":1,\"data\":\"1995-05-10\",\"dataHoraRegistro\":null,\"descricao\":\"APROVAÇÃO UNANIME DO PARECER DO RELATOR, DEP REGIS DE\\r\\nOLIVEIRA, PELA CONSTITUCIONALIDADE, JURIDICIDADE E\\r\\nTECNICA LEGISLATIVA E, NO MERITO, PELA APROVAÇÃO, COM\\r\\nEMENDAS.\\r\\nDCN1 27 06 95 PAG 14156 COL 02.\",\"id\":\"15009-6\",\"proposicaoObjeto\":null,\"siglaOrgao\":\"CCJC\",\"uri\":\"https://dadosabertos.camara.leg.br/api/v2/votacoes/15009-6\",\"uriEvento\":null,\"uriOrgao\":\"https://dadosabertos.camara.leg.br/api/v2/orgaos/2003\",\"uriProposicaoObjeto\":null}]}</td>\n",
       "            <td>670b605734371636c04ccea479375265b1ce7bdba13820386094b47ae81f71d0</td>\n",
       "            <td>2020</td>\n",
       "        </tr>\n",
       "        <tr>\n",
       "            <td>camara</td>\n",
       "            <td>votacoes</td>\n",
       "            <td>15532</td>\n",
       "            <td><a href=https://dadosabertos.camara.leg.br/api/v2/proposicoes/15532/votacoes>https://dadosabertos.camara.leg.br/api/v2/proposicoes/15532/votacoes</a></td>\n",
       "            <td>{\"dados\":[{\"aprovacao\":1,\"data\":\"2002-04-10\",\"dataHoraRegistro\":null,\"descricao\":\"Aprovado o Parecer contra os votos dos Deputados Saraiva Felipe e Arnaldo Faria de Sá\",\"id\":\"15532-63\",\"proposicaoObjeto\":null,\"siglaOrgao\":\"CSAUDE\",\"uri\":\"https://dadosabertos.camara.leg.br/api/v2/votacoes/15532-63\",\"uriEvento\":\"https://dadosabertos.camara.leg.br/api/v2/eventos/2122\",\"uriOrgao\":\"https://dadosabertos.camara.leg.br/api/v2/orgaos/2014\",\"uriProposicaoObjeto\":null},{\"aprovacao\":1,\"data\":\"2002-11-13\",\"dataHoraRegistro\":null,\"descricao\":\"Aprovado por Unanimidade o Parecer\",\"id\":\"15532-75\",\"proposicaoObjeto\":null,\"siglaOrgao\":\"CFT\",\"uri\":\"https://dadosabertos.camara.leg.br/api/v2/votacoes/15532-75\",\"uriEvento\":\"https://dadosabertos.camara.leg.br/api/v2/eventos/2985\",\"uriOrgao\":\"https://dadosabertos.camara.leg.br/api/v2/orgaos/2010\",\"uriProposicaoObjeto\":null},{\"aprovacao\":1,\"data\":\"2002-12-10\",\"dataHoraRegistro\":null,\"descricao\":\"Aprovado por Unanimidade o Parecer\",\"id\":\"15532-88\",\"proposicaoObjeto\":null,\"siglaOrgao\":\"CCJC\",\"uri\":\"https://dadosabertos.camara.leg.br/api/v2/votacoes/15532-88\",\"uriEvento\":\"https://dadosabertos.camara.leg.br/api/v2/eventos/3169\",\"uriOrgao\":\"https://dadosabertos.camara.leg.br/api/v2/orgaos/2003\",\"uriProposicaoObjeto\":null}]}</td>\n",
       "            <td>9675f5f16a19d8f704f8e6d7d8335d3de03689c8f846652656f1c24214808462</td>\n",
       "            <td>2020</td>\n",
       "        </tr>\n",
       "        <tr>\n",
       "            <td>camara</td>\n",
       "            <td>votacoes</td>\n",
       "            <td>15749</td>\n",
       "            <td><a href=https://dadosabertos.camara.leg.br/api/v2/proposicoes/15749/votacoes>https://dadosabertos.camara.leg.br/api/v2/proposicoes/15749/votacoes</a></td>\n",
       "            <td>{\"dados\":[{\"aprovacao\":1,\"data\":\"2002-03-13\",\"dataHoraRegistro\":null,\"descricao\":\"Aprovado por Unanimidade o Parecer\",\"id\":\"15749-31\",\"proposicaoObjeto\":null,\"siglaOrgao\":\"CDE\",\"uri\":\"https://dadosabertos.camara.leg.br/api/v2/votacoes/15749-31\",\"uriEvento\":\"https://dadosabertos.camara.leg.br/api/v2/eventos/1900\",\"uriOrgao\":\"https://dadosabertos.camara.leg.br/api/v2/orgaos/2008\",\"uriProposicaoObjeto\":null},{\"aprovacao\":1,\"data\":\"2011-08-17\",\"dataHoraRegistro\":\"2011-08-17T11:09:17\",\"descricao\":\"Aprovado o Parecer, contra o voto do  Deputado Eli Correa Filho.\",\"id\":\"15749-97\",\"proposicaoObjeto\":null,\"siglaOrgao\":\"CDC\",\"uri\":\"https://dadosabertos.camara.leg.br/api/v2/votacoes/15749-97\",\"uriEvento\":\"https://dadosabertos.camara.leg.br/api/v2/eventos/26552\",\"uriOrgao\":\"https://dadosabertos.camara.leg.br/api/v2/orgaos/2004\",\"uriProposicaoObjeto\":null}]}</td>\n",
       "            <td>60ac470156829a9d83c5716b336a4729f65c086d44a566b48090f170e4daa099</td>\n",
       "            <td>2020</td>\n",
       "        </tr>\n",
       "        <tr>\n",
       "            <td>camara</td>\n",
       "            <td>votacoes</td>\n",
       "            <td>15781</td>\n",
       "            <td><a href=https://dadosabertos.camara.leg.br/api/v2/proposicoes/15781/votacoes>https://dadosabertos.camara.leg.br/api/v2/proposicoes/15781/votacoes</a></td>\n",
       "            <td>{\"dados\":[]}</td>\n",
       "            <td>e3f60f959291f48551b8f9a819aa280d6c26cb36048a77675fc4e4107d2f7b49</td>\n",
       "            <td>2020</td>\n",
       "        </tr>\n",
       "        <tr>\n",
       "            <td>camara</td>\n",
       "            <td>votacoes</td>\n",
       "            <td>15990</td>\n",
       "            <td><a href=https://dadosabertos.camara.leg.br/api/v2/proposicoes/15990/votacoes>https://dadosabertos.camara.leg.br/api/v2/proposicoes/15990/votacoes</a></td>\n",
       "            <td>{\"dados\":[]}</td>\n",
       "            <td>e3f60f959291f48551b8f9a819aa280d6c26cb36048a77675fc4e4107d2f7b49</td>\n",
       "            <td>2020</td>\n",
       "        </tr>\n",
       "        <tr>\n",
       "            <td>camara</td>\n",
       "            <td>votacoes</td>\n",
       "            <td>16078</td>\n",
       "            <td><a href=https://dadosabertos.camara.leg.br/api/v2/proposicoes/16078/votacoes>https://dadosabertos.camara.leg.br/api/v2/proposicoes/16078/votacoes</a></td>\n",
       "            <td>{\"dados\":[{\"aprovacao\":1,\"data\":\"1999-11-17\",\"dataHoraRegistro\":null,\"descricao\":\"APROVAÇÃO UNANIME DO PARECER FAVORAVEL DO RELATOR, DEP PAULO ROCHA, A ESTE E AOS\\r\\nPL. 3718/97 E PL. 4485/98, APENSADOS, COM SUBSTITUTIVO.\",\"id\":\"16078-18\",\"proposicaoObjeto\":null,\"siglaOrgao\":\"CTRAB\",\"uri\":\"https://dadosabertos.camara.leg.br/api/v2/votacoes/16078-18\",\"uriEvento\":null,\"uriOrgao\":\"https://dadosabertos.camara.leg.br/api/v2/orgaos/2015\",\"uriProposicaoObjeto\":null}]}</td>\n",
       "            <td>a8ff7dfa33dad7965f722720f66208100cc0530b43e996dd2bf9241fd50f4371</td>\n",
       "            <td>2020</td>\n",
       "        </tr>\n",
       "        <tr>\n",
       "            <td>camara</td>\n",
       "            <td>votacoes</td>\n",
       "            <td>16481</td>\n",
       "            <td><a href=https://dadosabertos.camara.leg.br/api/v2/proposicoes/16481/votacoes>https://dadosabertos.camara.leg.br/api/v2/proposicoes/16481/votacoes</a></td>\n",
       "            <td>{\"dados\":[{\"aprovacao\":1,\"data\":\"2009-12-16\",\"dataHoraRegistro\":\"2009-12-16T11:47:17\",\"descricao\":\"Aprovado o Parecer. Absteve-se de votar o Deputado Paulo Teixeira.\",\"id\":\"16481-110\",\"proposicaoObjeto\":null,\"siglaOrgao\":\"CCTI\",\"uri\":\"https://dadosabertos.camara.leg.br/api/v2/votacoes/16481-110\",\"uriEvento\":\"https://dadosabertos.camara.leg.br/api/v2/eventos/22999\",\"uriOrgao\":\"https://dadosabertos.camara.leg.br/api/v2/orgaos/2002\",\"uriProposicaoObjeto\":null},{\"aprovacao\":1,\"data\":\"2006-12-21\",\"dataHoraRegistro\":\"2006-12-21T12:45:19\",\"descricao\":\"Aprovado por Unanimidade o Parecer\",\"id\":\"16481-33\",\"proposicaoObjeto\":null,\"siglaOrgao\":\"CCJC\",\"uri\":\"https://dadosabertos.camara.leg.br/api/v2/votacoes/16481-33\",\"uriEvento\":\"https://dadosabertos.camara.leg.br/api/v2/eventos/14050\",\"uriOrgao\":\"https://dadosabertos.camara.leg.br/api/v2/orgaos/2003\",\"uriProposicaoObjeto\":null},{\"aprovacao\":1,\"data\":\"2007-12-05\",\"dataHoraRegistro\":\"2007-12-05T15:51:44\",\"descricao\":\"Aprovado o Parecer com a abstenção dos Deputados Carlos Sampaio, Rita Camata, Marcelo Almeida e Marcelo Itagiba\",\"id\":\"16481-68\",\"proposicaoObjeto\":null,\"siglaOrgao\":\"CSPCCO\",\"uri\":\"https://dadosabertos.camara.leg.br/api/v2/votacoes/16481-68\",\"uriEvento\":\"https://dadosabertos.camara.leg.br/api/v2/eventos/16919\",\"uriOrgao\":\"https://dadosabertos.camara.leg.br/api/v2/orgaos/5503\",\"uriProposicaoObjeto\":null}]}</td>\n",
       "            <td>a0ecaea732d3d95b63f223263c1bcfe4dccb53894da53b0da456fc3cf9de1496</td>\n",
       "            <td>2020</td>\n",
       "        </tr>\n",
       "        <tr>\n",
       "            <td>camara</td>\n",
       "            <td>votacoes</td>\n",
       "            <td>16579</td>\n",
       "            <td><a href=https://dadosabertos.camara.leg.br/api/v2/proposicoes/16579/votacoes>https://dadosabertos.camara.leg.br/api/v2/proposicoes/16579/votacoes</a></td>\n",
       "            <td>{\"dados\":[]}</td>\n",
       "            <td>e3f60f959291f48551b8f9a819aa280d6c26cb36048a77675fc4e4107d2f7b49</td>\n",
       "            <td>2020</td>\n",
       "        </tr>\n",
       "        <tr>\n",
       "            <td>camara</td>\n",
       "            <td>votacoes</td>\n",
       "            <td>16622</td>\n",
       "            <td><a href=https://dadosabertos.camara.leg.br/api/v2/proposicoes/16622/votacoes>https://dadosabertos.camara.leg.br/api/v2/proposicoes/16622/votacoes</a></td>\n",
       "            <td>{\"dados\":[]}</td>\n",
       "            <td>e3f60f959291f48551b8f9a819aa280d6c26cb36048a77675fc4e4107d2f7b49</td>\n",
       "            <td>2020</td>\n",
       "        </tr>\n",
       "        <tr>\n",
       "            <td>camara</td>\n",
       "            <td>votacoes</td>\n",
       "            <td>16792</td>\n",
       "            <td><a href=https://dadosabertos.camara.leg.br/api/v2/proposicoes/16792/votacoes>https://dadosabertos.camara.leg.br/api/v2/proposicoes/16792/votacoes</a></td>\n",
       "            <td>{\"dados\":[]}</td>\n",
       "            <td>e3f60f959291f48551b8f9a819aa280d6c26cb36048a77675fc4e4107d2f7b49</td>\n",
       "            <td>2020</td>\n",
       "        </tr>\n",
       "    </tbody>\n",
       "</table>\n",
       "<span style=\"font-style:italic;text-align:center;\">Truncated to <a href=\"https://jupysql.ploomber.io/en/latest/api/configuration.html#displaylimit\">displaylimit</a> of 10.</span>"
      ],
      "text/plain": [
       "+--------+----------+-------+-------------------------------------------------------------------------------------------------------------------------------------------------------+------------------------------------------------------------------------------------------------------------------------------------------------------------------------------------------------------------------------------------------------------------------------------------------------------------------------------------------------------------------------------------------------------------------------------------------------------------------------------------------------------------------------------------------------------------------------------------------------------------------------------------------------------------------------------------------------------------------------------------------------------------------------------------------------------------------------------------------------------------------------------------------------------------------------------------------------------------------------------------------------------------------------------------------------------------------------------------------------------------------------------------------------------------------------------------------------------------------------------------------------------------------------------------------------------------------------------------------------------------------------------------------------------------------------------------+------------------------------------------------------------------+------+\n",
       "| source |  entity  |   id  |                                                                          url                                                                          |                                                                                                                                                                                                                                                                                                                                                                                                                                                                                                                                                                                                                                                                                                            payload_json                                                                                                                                                                                                                                                                                                                                                                                                                                                                                                                                                                                                                                                                                                            |                          payload_sha256                          | year |\n",
       "+--------+----------+-------+-------------------------------------------------------------------------------------------------------------------------------------------------------+------------------------------------------------------------------------------------------------------------------------------------------------------------------------------------------------------------------------------------------------------------------------------------------------------------------------------------------------------------------------------------------------------------------------------------------------------------------------------------------------------------------------------------------------------------------------------------------------------------------------------------------------------------------------------------------------------------------------------------------------------------------------------------------------------------------------------------------------------------------------------------------------------------------------------------------------------------------------------------------------------------------------------------------------------------------------------------------------------------------------------------------------------------------------------------------------------------------------------------------------------------------------------------------------------------------------------------------------------------------------------------------------------------------------------------+------------------------------------------------------------------+------+\n",
       "| camara | votacoes | 15009 | <a href=https://dadosabertos.camara.leg.br/api/v2/proposicoes/15009/votacoes>https://dadosabertos.camara.leg.br/api/v2/proposicoes/15009/votacoes</a> |                                                                                                                                                                                                                   {\"dados\":[{\"aprovacao\":1,\"data\":\"1996-04-10\",\"dataHoraRegistro\":null,\"descricao\":\"APROVAÇÃO UNANIME DO PARECER FAVORAVEL DO RELATOR,\\r\\nDEP AGNELO QUEIROZ.\\r\\nDCDS 15 06 96 PAG 0418 COL 01.\",\"id\":\"15009-13\",\"proposicaoObjeto\":null,\"siglaOrgao\":\"CSAUDE\",\"uri\":\"https://dadosabertos.camara.leg.br/api/v2/votacoes/15009-13\",\"uriEvento\":null,\"uriOrgao\":\"https://dadosabertos.camara.leg.br/api/v2/orgaos/2014\",\"uriProposicaoObjeto\":null},{\"aprovacao\":1,\"data\":\"1995-05-10\",\"dataHoraRegistro\":null,\"descricao\":\"APROVAÇÃO UNANIME DO PARECER DO RELATOR, DEP REGIS DE\\r\\nOLIVEIRA, PELA CONSTITUCIONALIDADE, JURIDICIDADE E\\r\\nTECNICA LEGISLATIVA E, NO MERITO, PELA APROVAÇÃO, COM\\r\\nEMENDAS.\\r\\nDCN1 27 06 95 PAG 14156 COL 02.\",\"id\":\"15009-6\",\"proposicaoObjeto\":null,\"siglaOrgao\":\"CCJC\",\"uri\":\"https://dadosabertos.camara.leg.br/api/v2/votacoes/15009-6\",\"uriEvento\":null,\"uriOrgao\":\"https://dadosabertos.camara.leg.br/api/v2/orgaos/2003\",\"uriProposicaoObjeto\":null}]}                                                                                                                                                                                                                    | 670b605734371636c04ccea479375265b1ce7bdba13820386094b47ae81f71d0 | 2020 |\n",
       "| camara | votacoes | 15532 | <a href=https://dadosabertos.camara.leg.br/api/v2/proposicoes/15532/votacoes>https://dadosabertos.camara.leg.br/api/v2/proposicoes/15532/votacoes</a> |                                                          {\"dados\":[{\"aprovacao\":1,\"data\":\"2002-04-10\",\"dataHoraRegistro\":null,\"descricao\":\"Aprovado o Parecer contra os votos dos Deputados Saraiva Felipe e Arnaldo Faria de Sá\",\"id\":\"15532-63\",\"proposicaoObjeto\":null,\"siglaOrgao\":\"CSAUDE\",\"uri\":\"https://dadosabertos.camara.leg.br/api/v2/votacoes/15532-63\",\"uriEvento\":\"https://dadosabertos.camara.leg.br/api/v2/eventos/2122\",\"uriOrgao\":\"https://dadosabertos.camara.leg.br/api/v2/orgaos/2014\",\"uriProposicaoObjeto\":null},{\"aprovacao\":1,\"data\":\"2002-11-13\",\"dataHoraRegistro\":null,\"descricao\":\"Aprovado por Unanimidade o Parecer\",\"id\":\"15532-75\",\"proposicaoObjeto\":null,\"siglaOrgao\":\"CFT\",\"uri\":\"https://dadosabertos.camara.leg.br/api/v2/votacoes/15532-75\",\"uriEvento\":\"https://dadosabertos.camara.leg.br/api/v2/eventos/2985\",\"uriOrgao\":\"https://dadosabertos.camara.leg.br/api/v2/orgaos/2010\",\"uriProposicaoObjeto\":null},{\"aprovacao\":1,\"data\":\"2002-12-10\",\"dataHoraRegistro\":null,\"descricao\":\"Aprovado por Unanimidade o Parecer\",\"id\":\"15532-88\",\"proposicaoObjeto\":null,\"siglaOrgao\":\"CCJC\",\"uri\":\"https://dadosabertos.camara.leg.br/api/v2/votacoes/15532-88\",\"uriEvento\":\"https://dadosabertos.camara.leg.br/api/v2/eventos/3169\",\"uriOrgao\":\"https://dadosabertos.camara.leg.br/api/v2/orgaos/2003\",\"uriProposicaoObjeto\":null}]}                                                           | 9675f5f16a19d8f704f8e6d7d8335d3de03689c8f846652656f1c24214808462 | 2020 |\n",
       "| camara | votacoes | 15749 | <a href=https://dadosabertos.camara.leg.br/api/v2/proposicoes/15749/votacoes>https://dadosabertos.camara.leg.br/api/v2/proposicoes/15749/votacoes</a> |                                                                                                                                                                                                                                                                     {\"dados\":[{\"aprovacao\":1,\"data\":\"2002-03-13\",\"dataHoraRegistro\":null,\"descricao\":\"Aprovado por Unanimidade o Parecer\",\"id\":\"15749-31\",\"proposicaoObjeto\":null,\"siglaOrgao\":\"CDE\",\"uri\":\"https://dadosabertos.camara.leg.br/api/v2/votacoes/15749-31\",\"uriEvento\":\"https://dadosabertos.camara.leg.br/api/v2/eventos/1900\",\"uriOrgao\":\"https://dadosabertos.camara.leg.br/api/v2/orgaos/2008\",\"uriProposicaoObjeto\":null},{\"aprovacao\":1,\"data\":\"2011-08-17\",\"dataHoraRegistro\":\"2011-08-17T11:09:17\",\"descricao\":\"Aprovado o Parecer, contra o voto do  Deputado Eli Correa Filho.\",\"id\":\"15749-97\",\"proposicaoObjeto\":null,\"siglaOrgao\":\"CDC\",\"uri\":\"https://dadosabertos.camara.leg.br/api/v2/votacoes/15749-97\",\"uriEvento\":\"https://dadosabertos.camara.leg.br/api/v2/eventos/26552\",\"uriOrgao\":\"https://dadosabertos.camara.leg.br/api/v2/orgaos/2004\",\"uriProposicaoObjeto\":null}]}                                                                                                                                                                                                                                                                      | 60ac470156829a9d83c5716b336a4729f65c086d44a566b48090f170e4daa099 | 2020 |\n",
       "| camara | votacoes | 15781 | <a href=https://dadosabertos.camara.leg.br/api/v2/proposicoes/15781/votacoes>https://dadosabertos.camara.leg.br/api/v2/proposicoes/15781/votacoes</a> |                                                                                                                                                                                                                                                                                                                                                                                                                                                                                                                                                                                                                                                                                                            {\"dados\":[]}                                                                                                                                                                                                                                                                                                                                                                                                                                                                                                                                                                                                                                                                                                            | e3f60f959291f48551b8f9a819aa280d6c26cb36048a77675fc4e4107d2f7b49 | 2020 |\n",
       "| camara | votacoes | 15990 | <a href=https://dadosabertos.camara.leg.br/api/v2/proposicoes/15990/votacoes>https://dadosabertos.camara.leg.br/api/v2/proposicoes/15990/votacoes</a> |                                                                                                                                                                                                                                                                                                                                                                                                                                                                                                                                                                                                                                                                                                            {\"dados\":[]}                                                                                                                                                                                                                                                                                                                                                                                                                                                                                                                                                                                                                                                                                                            | e3f60f959291f48551b8f9a819aa280d6c26cb36048a77675fc4e4107d2f7b49 | 2020 |\n",
       "| camara | votacoes | 16078 | <a href=https://dadosabertos.camara.leg.br/api/v2/proposicoes/16078/votacoes>https://dadosabertos.camara.leg.br/api/v2/proposicoes/16078/votacoes</a> |                                                                                                                                                                                                                                                                                                                                                                                                                                                                         {\"dados\":[{\"aprovacao\":1,\"data\":\"1999-11-17\",\"dataHoraRegistro\":null,\"descricao\":\"APROVAÇÃO UNANIME DO PARECER FAVORAVEL DO RELATOR, DEP PAULO ROCHA, A ESTE E AOS\\r\\nPL. 3718/97 E PL. 4485/98, APENSADOS, COM SUBSTITUTIVO.\",\"id\":\"16078-18\",\"proposicaoObjeto\":null,\"siglaOrgao\":\"CTRAB\",\"uri\":\"https://dadosabertos.camara.leg.br/api/v2/votacoes/16078-18\",\"uriEvento\":null,\"uriOrgao\":\"https://dadosabertos.camara.leg.br/api/v2/orgaos/2015\",\"uriProposicaoObjeto\":null}]}                                                                                                                                                                                                                                                                                                                                                                                                                                                                          | a8ff7dfa33dad7965f722720f66208100cc0530b43e996dd2bf9241fd50f4371 | 2020 |\n",
       "| camara | votacoes | 16481 | <a href=https://dadosabertos.camara.leg.br/api/v2/proposicoes/16481/votacoes>https://dadosabertos.camara.leg.br/api/v2/proposicoes/16481/votacoes</a> | {\"dados\":[{\"aprovacao\":1,\"data\":\"2009-12-16\",\"dataHoraRegistro\":\"2009-12-16T11:47:17\",\"descricao\":\"Aprovado o Parecer. Absteve-se de votar o Deputado Paulo Teixeira.\",\"id\":\"16481-110\",\"proposicaoObjeto\":null,\"siglaOrgao\":\"CCTI\",\"uri\":\"https://dadosabertos.camara.leg.br/api/v2/votacoes/16481-110\",\"uriEvento\":\"https://dadosabertos.camara.leg.br/api/v2/eventos/22999\",\"uriOrgao\":\"https://dadosabertos.camara.leg.br/api/v2/orgaos/2002\",\"uriProposicaoObjeto\":null},{\"aprovacao\":1,\"data\":\"2006-12-21\",\"dataHoraRegistro\":\"2006-12-21T12:45:19\",\"descricao\":\"Aprovado por Unanimidade o Parecer\",\"id\":\"16481-33\",\"proposicaoObjeto\":null,\"siglaOrgao\":\"CCJC\",\"uri\":\"https://dadosabertos.camara.leg.br/api/v2/votacoes/16481-33\",\"uriEvento\":\"https://dadosabertos.camara.leg.br/api/v2/eventos/14050\",\"uriOrgao\":\"https://dadosabertos.camara.leg.br/api/v2/orgaos/2003\",\"uriProposicaoObjeto\":null},{\"aprovacao\":1,\"data\":\"2007-12-05\",\"dataHoraRegistro\":\"2007-12-05T15:51:44\",\"descricao\":\"Aprovado o Parecer com a abstenção dos Deputados Carlos Sampaio, Rita Camata, Marcelo Almeida e Marcelo Itagiba\",\"id\":\"16481-68\",\"proposicaoObjeto\":null,\"siglaOrgao\":\"CSPCCO\",\"uri\":\"https://dadosabertos.camara.leg.br/api/v2/votacoes/16481-68\",\"uriEvento\":\"https://dadosabertos.camara.leg.br/api/v2/eventos/16919\",\"uriOrgao\":\"https://dadosabertos.camara.leg.br/api/v2/orgaos/5503\",\"uriProposicaoObjeto\":null}]} | a0ecaea732d3d95b63f223263c1bcfe4dccb53894da53b0da456fc3cf9de1496 | 2020 |\n",
       "| camara | votacoes | 16579 | <a href=https://dadosabertos.camara.leg.br/api/v2/proposicoes/16579/votacoes>https://dadosabertos.camara.leg.br/api/v2/proposicoes/16579/votacoes</a> |                                                                                                                                                                                                                                                                                                                                                                                                                                                                                                                                                                                                                                                                                                            {\"dados\":[]}                                                                                                                                                                                                                                                                                                                                                                                                                                                                                                                                                                                                                                                                                                            | e3f60f959291f48551b8f9a819aa280d6c26cb36048a77675fc4e4107d2f7b49 | 2020 |\n",
       "| camara | votacoes | 16622 | <a href=https://dadosabertos.camara.leg.br/api/v2/proposicoes/16622/votacoes>https://dadosabertos.camara.leg.br/api/v2/proposicoes/16622/votacoes</a> |                                                                                                                                                                                                                                                                                                                                                                                                                                                                                                                                                                                                                                                                                                            {\"dados\":[]}                                                                                                                                                                                                                                                                                                                                                                                                                                                                                                                                                                                                                                                                                                            | e3f60f959291f48551b8f9a819aa280d6c26cb36048a77675fc4e4107d2f7b49 | 2020 |\n",
       "| camara | votacoes | 16792 | <a href=https://dadosabertos.camara.leg.br/api/v2/proposicoes/16792/votacoes>https://dadosabertos.camara.leg.br/api/v2/proposicoes/16792/votacoes</a> |                                                                                                                                                                                                                                                                                                                                                                                                                                                                                                                                                                                                                                                                                                            {\"dados\":[]}                                                                                                                                                                                                                                                                                                                                                                                                                                                                                                                                                                                                                                                                                                            | e3f60f959291f48551b8f9a819aa280d6c26cb36048a77675fc4e4107d2f7b49 | 2020 |\n",
       "+--------+----------+-------+-------------------------------------------------------------------------------------------------------------------------------------------------------+------------------------------------------------------------------------------------------------------------------------------------------------------------------------------------------------------------------------------------------------------------------------------------------------------------------------------------------------------------------------------------------------------------------------------------------------------------------------------------------------------------------------------------------------------------------------------------------------------------------------------------------------------------------------------------------------------------------------------------------------------------------------------------------------------------------------------------------------------------------------------------------------------------------------------------------------------------------------------------------------------------------------------------------------------------------------------------------------------------------------------------------------------------------------------------------------------------------------------------------------------------------------------------------------------------------------------------------------------------------------------------------------------------------------------------+------------------------------------------------------------------+------+\n",
       "Truncated to displaylimit of 10."
      ]
     },
     "execution_count": 47,
     "metadata": {},
     "output_type": "execute_result"
    }
   ],
   "source": [
    "%%sql\n",
    "SELECT * FROM bronze_camara_votacoes LIMIT 10;"
   ]
  },
  {
   "cell_type": "code",
   "execution_count": 48,
   "id": "1d6abafd",
   "metadata": {
    "vscode": {
     "languageId": "sql"
    }
   },
   "outputs": [
    {
     "data": {
      "text/html": [
       "<span style=\"None\">Running query in &#x27;duck&#x27;</span>"
      ],
      "text/plain": [
       "Running query in 'duck'"
      ]
     },
     "metadata": {},
     "output_type": "display_data"
    },
    {
     "data": {
      "text/html": [
       "<table>\n",
       "    <thead>\n",
       "        <tr>\n",
       "            <th>Count</th>\n",
       "        </tr>\n",
       "    </thead>\n",
       "    <tbody>\n",
       "        <tr>\n",
       "            <td>9272</td>\n",
       "        </tr>\n",
       "    </tbody>\n",
       "</table>"
      ],
      "text/plain": [
       "+-------+\n",
       "| Count |\n",
       "+-------+\n",
       "|  9272 |\n",
       "+-------+"
      ]
     },
     "execution_count": 48,
     "metadata": {},
     "output_type": "execute_result"
    }
   ],
   "source": [
    "%%sql\n",
    "DROP TABLE IF EXISTS votacoes_camara;\n",
    "\n",
    "CREATE TABLE votacoes_camara AS\n",
    "WITH base AS (\n",
    "  SELECT\n",
    "    TRY_CAST(payload_json AS JSON) AS j,\n",
    "    year as year_snapshot,\n",
    "    id AS id_proposicao\n",
    "  FROM bronze_camara_votacoes\n",
    "),\n",
    "exploded AS (\n",
    "  SELECT\n",
    "    CAST(json_extract_string(e.value, '$.aprovacao') AS BOOLEAN) AS aprovacao,\n",
    "    CAST(json_extract_string(e.value, '$.data') AS DATE) AS data,\n",
    "    json_extract_string(e.value, '$.descricao') AS descricao,\n",
    "    json_extract_string(e.value, '$.id') AS id_votacao, -- como text mesmo, por conta do hífen\n",
    "    json_extract_string(e.value, '$.uri') AS uri,\n",
    "    json_extract_string(e.value, '$.uriEvento') AS uri_evento,\n",
    "    json_extract_string(e.value, '$.uriOrgao') AS uri_orgao,\n",
    "    CAST(b.id_proposicao AS BIGINT) AS id_proposicao,\n",
    "    b.year_snapshot\n",
    "  FROM base b\n",
    "  CROSS JOIN json_each(b.j, '$.dados') AS e\n",
    ")\n",
    "SELECT\n",
    "    id_votacao,\n",
    "    id_proposicao,\n",
    "    data,\n",
    "    descricao,\n",
    "    aprovacao,\n",
    "    uri_evento,\n",
    "    uri_orgao,\n",
    "    uri,\n",
    "    year_snapshot,\n",
    "FROM exploded;\n"
   ]
  },
  {
   "cell_type": "code",
   "execution_count": 49,
   "id": "ab4391fd",
   "metadata": {
    "vscode": {
     "languageId": "sql"
    }
   },
   "outputs": [
    {
     "data": {
      "text/html": [
       "<span style=\"None\">Running query in &#x27;duck&#x27;</span>"
      ],
      "text/plain": [
       "Running query in 'duck'"
      ]
     },
     "metadata": {},
     "output_type": "display_data"
    },
    {
     "data": {
      "text/html": [
       "<table>\n",
       "    <thead>\n",
       "        <tr>\n",
       "            <th>id_votacao</th>\n",
       "            <th>id_proposicao</th>\n",
       "            <th>data</th>\n",
       "            <th>descricao</th>\n",
       "            <th>aprovacao</th>\n",
       "            <th>uri_evento</th>\n",
       "            <th>uri_orgao</th>\n",
       "            <th>uri</th>\n",
       "            <th>year_snapshot</th>\n",
       "        </tr>\n",
       "    </thead>\n",
       "    <tbody>\n",
       "        <tr>\n",
       "            <td>15009-6</td>\n",
       "            <td>15009</td>\n",
       "            <td>1995-05-10</td>\n",
       "            <td>APROVAÇÃO UNANIME DO PARECER DO RELATOR, DEP REGIS DE\r<br>OLIVEIRA, PELA CONSTITUCIONALIDADE, JURIDICIDADE E\r<br>TECNICA LEGISLATIVA E, NO MERITO, PELA APROVAÇÃO, COM\r<br>EMENDAS.\r<br>DCN1 27 06 95 PAG 14156 COL 02.</td>\n",
       "            <td>True</td>\n",
       "            <td>None</td>\n",
       "            <td><a href=https://dadosabertos.camara.leg.br/api/v2/orgaos/2003>https://dadosabertos.camara.leg.br/api/v2/orgaos/2003</a></td>\n",
       "            <td><a href=https://dadosabertos.camara.leg.br/api/v2/votacoes/15009-6>https://dadosabertos.camara.leg.br/api/v2/votacoes/15009-6</a></td>\n",
       "            <td>2020</td>\n",
       "        </tr>\n",
       "        <tr>\n",
       "            <td>15532-88</td>\n",
       "            <td>15532</td>\n",
       "            <td>2002-12-10</td>\n",
       "            <td>Aprovado por Unanimidade o Parecer</td>\n",
       "            <td>True</td>\n",
       "            <td><a href=https://dadosabertos.camara.leg.br/api/v2/eventos/3169>https://dadosabertos.camara.leg.br/api/v2/eventos/3169</a></td>\n",
       "            <td><a href=https://dadosabertos.camara.leg.br/api/v2/orgaos/2003>https://dadosabertos.camara.leg.br/api/v2/orgaos/2003</a></td>\n",
       "            <td><a href=https://dadosabertos.camara.leg.br/api/v2/votacoes/15532-88>https://dadosabertos.camara.leg.br/api/v2/votacoes/15532-88</a></td>\n",
       "            <td>2020</td>\n",
       "        </tr>\n",
       "        <tr>\n",
       "            <td>15749-97</td>\n",
       "            <td>15749</td>\n",
       "            <td>2011-08-17</td>\n",
       "            <td>Aprovado o Parecer, contra o voto do  Deputado Eli Correa Filho.</td>\n",
       "            <td>True</td>\n",
       "            <td><a href=https://dadosabertos.camara.leg.br/api/v2/eventos/26552>https://dadosabertos.camara.leg.br/api/v2/eventos/26552</a></td>\n",
       "            <td><a href=https://dadosabertos.camara.leg.br/api/v2/orgaos/2004>https://dadosabertos.camara.leg.br/api/v2/orgaos/2004</a></td>\n",
       "            <td><a href=https://dadosabertos.camara.leg.br/api/v2/votacoes/15749-97>https://dadosabertos.camara.leg.br/api/v2/votacoes/15749-97</a></td>\n",
       "            <td>2020</td>\n",
       "        </tr>\n",
       "        <tr>\n",
       "            <td>16078-18</td>\n",
       "            <td>16078</td>\n",
       "            <td>1999-11-17</td>\n",
       "            <td>APROVAÇÃO UNANIME DO PARECER FAVORAVEL DO RELATOR, DEP PAULO ROCHA, A ESTE E AOS\r<br>PL. 3718/97 E PL. 4485/98, APENSADOS, COM SUBSTITUTIVO.</td>\n",
       "            <td>True</td>\n",
       "            <td>None</td>\n",
       "            <td><a href=https://dadosabertos.camara.leg.br/api/v2/orgaos/2015>https://dadosabertos.camara.leg.br/api/v2/orgaos/2015</a></td>\n",
       "            <td><a href=https://dadosabertos.camara.leg.br/api/v2/votacoes/16078-18>https://dadosabertos.camara.leg.br/api/v2/votacoes/16078-18</a></td>\n",
       "            <td>2020</td>\n",
       "        </tr>\n",
       "        <tr>\n",
       "            <td>16481-68</td>\n",
       "            <td>16481</td>\n",
       "            <td>2007-12-05</td>\n",
       "            <td>Aprovado o Parecer com a abstenção dos Deputados Carlos Sampaio, Rita Camata, Marcelo Almeida e Marcelo Itagiba</td>\n",
       "            <td>True</td>\n",
       "            <td><a href=https://dadosabertos.camara.leg.br/api/v2/eventos/16919>https://dadosabertos.camara.leg.br/api/v2/eventos/16919</a></td>\n",
       "            <td><a href=https://dadosabertos.camara.leg.br/api/v2/orgaos/5503>https://dadosabertos.camara.leg.br/api/v2/orgaos/5503</a></td>\n",
       "            <td><a href=https://dadosabertos.camara.leg.br/api/v2/votacoes/16481-68>https://dadosabertos.camara.leg.br/api/v2/votacoes/16481-68</a></td>\n",
       "            <td>2020</td>\n",
       "        </tr>\n",
       "        <tr>\n",
       "            <td>597632-2</td>\n",
       "            <td>16969</td>\n",
       "            <td>2013-11-05</td>\n",
       "            <td>Aprovado com alteração. O Deputado Moreira Mendes sugeriu que os registro do Seminário e das oficinas citados no requerimento sejam para subsidiar a elaboração do Parecer. O autor acatou a sugestão e teve o apoio dos membros da Comissão.</td>\n",
       "            <td>True</td>\n",
       "            <td><a href=https://dadosabertos.camara.leg.br/api/v2/eventos/34333>https://dadosabertos.camara.leg.br/api/v2/eventos/34333</a></td>\n",
       "            <td><a href=https://dadosabertos.camara.leg.br/api/v2/orgaos/8190>https://dadosabertos.camara.leg.br/api/v2/orgaos/8190</a></td>\n",
       "            <td><a href=https://dadosabertos.camara.leg.br/api/v2/votacoes/597632-2>https://dadosabertos.camara.leg.br/api/v2/votacoes/597632-2</a></td>\n",
       "            <td>2020</td>\n",
       "        </tr>\n",
       "        <tr>\n",
       "            <td>17563-91</td>\n",
       "            <td>17563</td>\n",
       "            <td>2009-10-28</td>\n",
       "            <td>Aprovado por Unanimidade o Parecer com Complementação de Voto, apresentou voto em separado o Deputado Dr. Rosinha.</td>\n",
       "            <td>True</td>\n",
       "            <td><a href=https://dadosabertos.camara.leg.br/api/v2/eventos/22354>https://dadosabertos.camara.leg.br/api/v2/eventos/22354</a></td>\n",
       "            <td><a href=https://dadosabertos.camara.leg.br/api/v2/orgaos/2018>https://dadosabertos.camara.leg.br/api/v2/orgaos/2018</a></td>\n",
       "            <td><a href=https://dadosabertos.camara.leg.br/api/v2/votacoes/17563-91>https://dadosabertos.camara.leg.br/api/v2/votacoes/17563-91</a></td>\n",
       "            <td>2020</td>\n",
       "        </tr>\n",
       "        <tr>\n",
       "            <td>2087878-2</td>\n",
       "            <td>17823</td>\n",
       "            <td>2016-06-15</td>\n",
       "            <td>Aprovado. Subscrito pelo deputado Silas Freire.</td>\n",
       "            <td>True</td>\n",
       "            <td><a href=https://dadosabertos.camara.leg.br/api/v2/eventos/44095>https://dadosabertos.camara.leg.br/api/v2/eventos/44095</a></td>\n",
       "            <td><a href=https://dadosabertos.camara.leg.br/api/v2/orgaos/2014>https://dadosabertos.camara.leg.br/api/v2/orgaos/2014</a></td>\n",
       "            <td><a href=https://dadosabertos.camara.leg.br/api/v2/votacoes/2087878-2>https://dadosabertos.camara.leg.br/api/v2/votacoes/2087878-2</a></td>\n",
       "            <td>2020</td>\n",
       "        </tr>\n",
       "        <tr>\n",
       "            <td>469492-5</td>\n",
       "            <td>17915</td>\n",
       "            <td>2012-06-27</td>\n",
       "            <td>Aprovado, por unanimidade, o Requerimento de Urgência (Art. 155 do RICD). DCD do dia 28/06/2012 PÁG 23339 COL 01.</td>\n",
       "            <td>True</td>\n",
       "            <td><a href=https://dadosabertos.camara.leg.br/api/v2/eventos/29629>https://dadosabertos.camara.leg.br/api/v2/eventos/29629</a></td>\n",
       "            <td><a href=https://dadosabertos.camara.leg.br/api/v2/orgaos/180>https://dadosabertos.camara.leg.br/api/v2/orgaos/180</a></td>\n",
       "            <td><a href=https://dadosabertos.camara.leg.br/api/v2/votacoes/469492-5>https://dadosabertos.camara.leg.br/api/v2/votacoes/469492-5</a></td>\n",
       "            <td>2020</td>\n",
       "        </tr>\n",
       "        <tr>\n",
       "            <td>373892-2</td>\n",
       "            <td>18420</td>\n",
       "            <td>2007-10-31</td>\n",
       "            <td>Aprovado.</td>\n",
       "            <td>True</td>\n",
       "            <td><a href=https://dadosabertos.camara.leg.br/api/v2/eventos/16568>https://dadosabertos.camara.leg.br/api/v2/eventos/16568</a></td>\n",
       "            <td><a href=https://dadosabertos.camara.leg.br/api/v2/orgaos/2015>https://dadosabertos.camara.leg.br/api/v2/orgaos/2015</a></td>\n",
       "            <td><a href=https://dadosabertos.camara.leg.br/api/v2/votacoes/373892-2>https://dadosabertos.camara.leg.br/api/v2/votacoes/373892-2</a></td>\n",
       "            <td>2020</td>\n",
       "        </tr>\n",
       "    </tbody>\n",
       "</table>\n",
       "<span style=\"font-style:italic;text-align:center;\">Truncated to <a href=\"https://jupysql.ploomber.io/en/latest/api/configuration.html#displaylimit\">displaylimit</a> of 10.</span>"
      ],
      "text/plain": [
       "+------------+---------------+------------+-----------------------------------------------------------------------------------------------------------------------------------------------------------------------------------------------------------------------------------------------+-----------+-----------------------------------------------------------------------------------------------------------------------------+-------------------------------------------------------------------------------------------------------------------------+---------------------------------------------------------------------------------------------------------------------------------------+---------------+\n",
       "| id_votacao | id_proposicao |    data    |                                                                                                                   descricao                                                                                                                   | aprovacao |                                                          uri_evento                                                         |                                                        uri_orgao                                                        |                                                                  uri                                                                  | year_snapshot |\n",
       "+------------+---------------+------------+-----------------------------------------------------------------------------------------------------------------------------------------------------------------------------------------------------------------------------------------------+-----------+-----------------------------------------------------------------------------------------------------------------------------+-------------------------------------------------------------------------------------------------------------------------+---------------------------------------------------------------------------------------------------------------------------------------+---------------+\n",
       "|  15009-6   |     15009     | 1995-05-10 |                                                                                                                        APROVAÇÃO UNANIME DO PARECER DO RELATOR, DEP REGIS DE\n",
       "                                                                                                                        |    True   |                                                             None                                                            | <a href=https://dadosabertos.camara.leg.br/api/v2/orgaos/2003>https://dadosabertos.camara.leg.br/api/v2/orgaos/2003</a> |   <a href=https://dadosabertos.camara.leg.br/api/v2/votacoes/15009-6>https://dadosabertos.camara.leg.br/api/v2/votacoes/15009-6</a>   |      2020     |\n",
       "|            |               |            |                                                                                                                        OLIVEIRA, PELA CONSTITUCIONALIDADE, JURIDICIDADE E\n",
       "                                                                                                                        |           |                                                                                                                             |                                                                                                                         |                                                                                                                                       |               |\n",
       "|            |               |            |                                                                                                                        TECNICA LEGISLATIVA E, NO MERITO, PELA APROVAÇÃO, COM\n",
       "                                                                                                                        |           |                                                                                                                             |                                                                                                                         |                                                                                                                                       |               |\n",
       "|            |               |            |                                                                                                                        EMENDAS.\n",
       "                                                                                                                        |           |                                                                                                                             |                                                                                                                         |                                                                                                                                       |               |\n",
       "|            |               |            |                                                                                                        DCN1 27 06 95 PAG 14156 COL 02.                                                                                                        |           |                                                                                                                             |                                                                                                                         |                                                                                                                                       |               |\n",
       "|  15532-88  |     15532     | 2002-12-10 |                                                                                                       Aprovado por Unanimidade o Parecer                                                                                                      |    True   |  <a href=https://dadosabertos.camara.leg.br/api/v2/eventos/3169>https://dadosabertos.camara.leg.br/api/v2/eventos/3169</a>  | <a href=https://dadosabertos.camara.leg.br/api/v2/orgaos/2003>https://dadosabertos.camara.leg.br/api/v2/orgaos/2003</a> |  <a href=https://dadosabertos.camara.leg.br/api/v2/votacoes/15532-88>https://dadosabertos.camara.leg.br/api/v2/votacoes/15532-88</a>  |      2020     |\n",
       "|  15749-97  |     15749     | 2011-08-17 |                                                                                        Aprovado o Parecer, contra o voto do  Deputado Eli Correa Filho.                                                                                       |    True   | <a href=https://dadosabertos.camara.leg.br/api/v2/eventos/26552>https://dadosabertos.camara.leg.br/api/v2/eventos/26552</a> | <a href=https://dadosabertos.camara.leg.br/api/v2/orgaos/2004>https://dadosabertos.camara.leg.br/api/v2/orgaos/2004</a> |  <a href=https://dadosabertos.camara.leg.br/api/v2/votacoes/15749-97>https://dadosabertos.camara.leg.br/api/v2/votacoes/15749-97</a>  |      2020     |\n",
       "|  16078-18  |     16078     | 1999-11-17 |                                                                                                                        APROVAÇÃO UNANIME DO PARECER FAVORAVEL DO RELATOR, DEP PAULO ROCHA, A ESTE E AOS\n",
       "                                                                                                                        |    True   |                                                             None                                                            | <a href=https://dadosabertos.camara.leg.br/api/v2/orgaos/2015>https://dadosabertos.camara.leg.br/api/v2/orgaos/2015</a> |  <a href=https://dadosabertos.camara.leg.br/api/v2/votacoes/16078-18>https://dadosabertos.camara.leg.br/api/v2/votacoes/16078-18</a>  |      2020     |\n",
       "|            |               |            |                                                                                            PL. 3718/97 E PL. 4485/98, APENSADOS, COM SUBSTITUTIVO.                                                                                            |           |                                                                                                                             |                                                                                                                         |                                                                                                                                       |               |\n",
       "|  16481-68  |     16481     | 2007-12-05 |                                                                Aprovado o Parecer com a abstenção dos Deputados Carlos Sampaio, Rita Camata, Marcelo Almeida e Marcelo Itagiba                                                                |    True   | <a href=https://dadosabertos.camara.leg.br/api/v2/eventos/16919>https://dadosabertos.camara.leg.br/api/v2/eventos/16919</a> | <a href=https://dadosabertos.camara.leg.br/api/v2/orgaos/5503>https://dadosabertos.camara.leg.br/api/v2/orgaos/5503</a> |  <a href=https://dadosabertos.camara.leg.br/api/v2/votacoes/16481-68>https://dadosabertos.camara.leg.br/api/v2/votacoes/16481-68</a>  |      2020     |\n",
       "|  597632-2  |     16969     | 2013-11-05 | Aprovado com alteração. O Deputado Moreira Mendes sugeriu que os registro do Seminário e das oficinas citados no requerimento sejam para subsidiar a elaboração do Parecer. O autor acatou a sugestão e teve o apoio dos membros da Comissão. |    True   | <a href=https://dadosabertos.camara.leg.br/api/v2/eventos/34333>https://dadosabertos.camara.leg.br/api/v2/eventos/34333</a> | <a href=https://dadosabertos.camara.leg.br/api/v2/orgaos/8190>https://dadosabertos.camara.leg.br/api/v2/orgaos/8190</a> |  <a href=https://dadosabertos.camara.leg.br/api/v2/votacoes/597632-2>https://dadosabertos.camara.leg.br/api/v2/votacoes/597632-2</a>  |      2020     |\n",
       "|  17563-91  |     17563     | 2009-10-28 |                                                               Aprovado por Unanimidade o Parecer com Complementação de Voto, apresentou voto em separado o Deputado Dr. Rosinha.                                                              |    True   | <a href=https://dadosabertos.camara.leg.br/api/v2/eventos/22354>https://dadosabertos.camara.leg.br/api/v2/eventos/22354</a> | <a href=https://dadosabertos.camara.leg.br/api/v2/orgaos/2018>https://dadosabertos.camara.leg.br/api/v2/orgaos/2018</a> |  <a href=https://dadosabertos.camara.leg.br/api/v2/votacoes/17563-91>https://dadosabertos.camara.leg.br/api/v2/votacoes/17563-91</a>  |      2020     |\n",
       "| 2087878-2  |     17823     | 2016-06-15 |                                                                                                Aprovado. Subscrito pelo deputado Silas Freire.                                                                                                |    True   | <a href=https://dadosabertos.camara.leg.br/api/v2/eventos/44095>https://dadosabertos.camara.leg.br/api/v2/eventos/44095</a> | <a href=https://dadosabertos.camara.leg.br/api/v2/orgaos/2014>https://dadosabertos.camara.leg.br/api/v2/orgaos/2014</a> | <a href=https://dadosabertos.camara.leg.br/api/v2/votacoes/2087878-2>https://dadosabertos.camara.leg.br/api/v2/votacoes/2087878-2</a> |      2020     |\n",
       "|  469492-5  |     17915     | 2012-06-27 |                                                               Aprovado, por unanimidade, o Requerimento de Urgência (Art. 155 do RICD). DCD do dia 28/06/2012 PÁG 23339 COL 01.                                                               |    True   | <a href=https://dadosabertos.camara.leg.br/api/v2/eventos/29629>https://dadosabertos.camara.leg.br/api/v2/eventos/29629</a> |  <a href=https://dadosabertos.camara.leg.br/api/v2/orgaos/180>https://dadosabertos.camara.leg.br/api/v2/orgaos/180</a>  |  <a href=https://dadosabertos.camara.leg.br/api/v2/votacoes/469492-5>https://dadosabertos.camara.leg.br/api/v2/votacoes/469492-5</a>  |      2020     |\n",
       "|  373892-2  |     18420     | 2007-10-31 |                                                                                                                   Aprovado.                                                                                                                   |    True   | <a href=https://dadosabertos.camara.leg.br/api/v2/eventos/16568>https://dadosabertos.camara.leg.br/api/v2/eventos/16568</a> | <a href=https://dadosabertos.camara.leg.br/api/v2/orgaos/2015>https://dadosabertos.camara.leg.br/api/v2/orgaos/2015</a> |  <a href=https://dadosabertos.camara.leg.br/api/v2/votacoes/373892-2>https://dadosabertos.camara.leg.br/api/v2/votacoes/373892-2</a>  |      2020     |\n",
       "+------------+---------------+------------+-----------------------------------------------------------------------------------------------------------------------------------------------------------------------------------------------------------------------------------------------+-----------+-----------------------------------------------------------------------------------------------------------------------------+-------------------------------------------------------------------------------------------------------------------------+---------------------------------------------------------------------------------------------------------------------------------------+---------------+\n",
       "Truncated to displaylimit of 10."
      ]
     },
     "execution_count": 49,
     "metadata": {},
     "output_type": "execute_result"
    }
   ],
   "source": [
    "%%sql\n",
    "SELECT * FROM votacoes_camara LIMIT 10;"
   ]
  },
  {
   "cell_type": "markdown",
   "id": "bc2e8783",
   "metadata": {},
   "source": [
    "### Votos"
   ]
  },
  {
   "cell_type": "code",
   "execution_count": 50,
   "id": "ec372881",
   "metadata": {},
   "outputs": [],
   "source": [
    "import pyarrow.parquet as pq\n",
    "import json\n",
    "import pandas as pd\n",
    "import tempfile\n",
    "from glob import glob\n",
    "\n",
    "with tempfile.NamedTemporaryFile() as tf:\n",
    "    paths = glob(\"data/bronze/snapshots/bronze-2020-smoke/camara/votos/year=*/part-*.parquet\")\n",
    "    table = pq.read_table(paths)\n",
    "    df = table.to_pandas()\n",
    "\n",
    "    df.head()\n",
    "    exploded_rows = []\n",
    "\n",
    "    for index, row in df.iterrows():\n",
    "        payload = json.loads(row['payload_json'])\n",
    "        for item in payload['dados']:\n",
    "            exploded_rows.append({\n",
    "                'id_votacao': row['id'],\n",
    "                'id_deputado': item['deputado_']['id'],\n",
    "                'tipo_voto': item['tipoVoto'],\n",
    "                'data_hora': item['dataRegistroVoto'],\n",
    "                'year_snapshot': row['year'],\n",
    "            })\n",
    "    exploded_df = pd.DataFrame(exploded_rows)\n",
    "    exploded_df.to_csv(tf.name)\n",
    "\n",
    "    conn.execute(f\"\"\"\n",
    "        DROP TABLE IF EXISTS votos_camara;\n",
    "        CREATE TABLE votos_camara AS\n",
    "            SELECT\n",
    "                id_votacao::TEXT AS id_votacao,\n",
    "                id_deputado::BIGINT AS id_deputado,\n",
    "                tipo_voto::TEXT AS tipo_voto,\n",
    "                CAST(data_hora AS TIMESTAMP) AS data_hora,\n",
    "                year_snapshot::INTEGER AS year_snapshot\n",
    "            FROM read_csv_auto('{tf.name}', HEADER=TRUE);\n",
    "    \"\"\")"
   ]
  },
  {
   "cell_type": "code",
   "execution_count": 51,
   "id": "4fc25b0c",
   "metadata": {
    "vscode": {
     "languageId": "sql"
    }
   },
   "outputs": [
    {
     "data": {
      "text/html": [
       "<span style=\"None\">Running query in &#x27;duck&#x27;</span>"
      ],
      "text/plain": [
       "Running query in 'duck'"
      ]
     },
     "metadata": {},
     "output_type": "display_data"
    },
    {
     "data": {
      "text/html": [
       "<table>\n",
       "    <thead>\n",
       "        <tr>\n",
       "            <th>id_votacao</th>\n",
       "            <th>id_deputado</th>\n",
       "            <th>tipo_voto</th>\n",
       "            <th>data_hora</th>\n",
       "            <th>year_snapshot</th>\n",
       "        </tr>\n",
       "    </thead>\n",
       "    <tbody>\n",
       "        <tr>\n",
       "            <td>105464-262</td>\n",
       "            <td>62881</td>\n",
       "            <td>Não</td>\n",
       "            <td>2021-12-15 11:24:29</td>\n",
       "            <td>2020</td>\n",
       "        </tr>\n",
       "        <tr>\n",
       "            <td>105464-262</td>\n",
       "            <td>73466</td>\n",
       "            <td>Não</td>\n",
       "            <td>2021-12-15 11:24:29</td>\n",
       "            <td>2020</td>\n",
       "        </tr>\n",
       "        <tr>\n",
       "            <td>105464-262</td>\n",
       "            <td>73604</td>\n",
       "            <td>Sim</td>\n",
       "            <td>2021-12-15 11:24:29</td>\n",
       "            <td>2020</td>\n",
       "        </tr>\n",
       "        <tr>\n",
       "            <td>105464-262</td>\n",
       "            <td>74160</td>\n",
       "            <td>Sim</td>\n",
       "            <td>2021-12-15 11:24:29</td>\n",
       "            <td>2020</td>\n",
       "        </tr>\n",
       "        <tr>\n",
       "            <td>105464-262</td>\n",
       "            <td>116379</td>\n",
       "            <td>Não</td>\n",
       "            <td>2021-12-15 11:24:29</td>\n",
       "            <td>2020</td>\n",
       "        </tr>\n",
       "        <tr>\n",
       "            <td>105464-262</td>\n",
       "            <td>141411</td>\n",
       "            <td>Sim</td>\n",
       "            <td>2021-12-15 11:24:29</td>\n",
       "            <td>2020</td>\n",
       "        </tr>\n",
       "        <tr>\n",
       "            <td>105464-262</td>\n",
       "            <td>141488</td>\n",
       "            <td>Sim</td>\n",
       "            <td>2021-12-15 11:24:29</td>\n",
       "            <td>2020</td>\n",
       "        </tr>\n",
       "        <tr>\n",
       "            <td>105464-262</td>\n",
       "            <td>160575</td>\n",
       "            <td>Sim</td>\n",
       "            <td>2021-12-15 11:24:29</td>\n",
       "            <td>2020</td>\n",
       "        </tr>\n",
       "        <tr>\n",
       "            <td>105464-262</td>\n",
       "            <td>160673</td>\n",
       "            <td>Não</td>\n",
       "            <td>2021-12-15 11:24:29</td>\n",
       "            <td>2020</td>\n",
       "        </tr>\n",
       "        <tr>\n",
       "            <td>105464-262</td>\n",
       "            <td>178951</td>\n",
       "            <td>Sim</td>\n",
       "            <td>2021-12-15 11:24:29</td>\n",
       "            <td>2020</td>\n",
       "        </tr>\n",
       "    </tbody>\n",
       "</table>\n",
       "<span style=\"font-style:italic;text-align:center;\">Truncated to <a href=\"https://jupysql.ploomber.io/en/latest/api/configuration.html#displaylimit\">displaylimit</a> of 10.</span>"
      ],
      "text/plain": [
       "+------------+-------------+-----------+---------------------+---------------+\n",
       "| id_votacao | id_deputado | tipo_voto |      data_hora      | year_snapshot |\n",
       "+------------+-------------+-----------+---------------------+---------------+\n",
       "| 105464-262 |    62881    |    Não    | 2021-12-15 11:24:29 |      2020     |\n",
       "| 105464-262 |    73466    |    Não    | 2021-12-15 11:24:29 |      2020     |\n",
       "| 105464-262 |    73604    |    Sim    | 2021-12-15 11:24:29 |      2020     |\n",
       "| 105464-262 |    74160    |    Sim    | 2021-12-15 11:24:29 |      2020     |\n",
       "| 105464-262 |    116379   |    Não    | 2021-12-15 11:24:29 |      2020     |\n",
       "| 105464-262 |    141411   |    Sim    | 2021-12-15 11:24:29 |      2020     |\n",
       "| 105464-262 |    141488   |    Sim    | 2021-12-15 11:24:29 |      2020     |\n",
       "| 105464-262 |    160575   |    Sim    | 2021-12-15 11:24:29 |      2020     |\n",
       "| 105464-262 |    160673   |    Não    | 2021-12-15 11:24:29 |      2020     |\n",
       "| 105464-262 |    178951   |    Sim    | 2021-12-15 11:24:29 |      2020     |\n",
       "+------------+-------------+-----------+---------------------+---------------+\n",
       "Truncated to displaylimit of 10."
      ]
     },
     "execution_count": 51,
     "metadata": {},
     "output_type": "execute_result"
    }
   ],
   "source": [
    "%%sql\n",
    "SELECT * FROM votos_camara LIMIT 10;"
   ]
  },
  {
   "cell_type": "markdown",
   "id": "50f240c4",
   "metadata": {},
   "source": [
    "## Outras relações entre tabelas"
   ]
  },
  {
   "cell_type": "markdown",
   "id": "a9b7d8e5",
   "metadata": {},
   "source": [
    "### Blocos e partidos"
   ]
  },
  {
   "cell_type": "code",
   "execution_count": 52,
   "id": "f01b0b99",
   "metadata": {
    "vscode": {
     "languageId": "sql"
    }
   },
   "outputs": [
    {
     "data": {
      "text/html": [
       "<span style=\"None\">Running query in &#x27;duck&#x27;</span>"
      ],
      "text/plain": [
       "Running query in 'duck'"
      ]
     },
     "metadata": {},
     "output_type": "display_data"
    },
    {
     "data": {
      "text/html": [
       "<table>\n",
       "    <thead>\n",
       "        <tr>\n",
       "            <th>n</th>\n",
       "        </tr>\n",
       "    </thead>\n",
       "    <tbody>\n",
       "        <tr>\n",
       "            <td>5</td>\n",
       "        </tr>\n",
       "    </tbody>\n",
       "</table>"
      ],
      "text/plain": [
       "+---+\n",
       "| n |\n",
       "+---+\n",
       "| 5 |\n",
       "+---+"
      ]
     },
     "execution_count": 52,
     "metadata": {},
     "output_type": "execute_result"
    }
   ],
   "source": [
    "%%sql\n",
    "CREATE OR REPLACE VIEW bronze_camara_blocos_partidos AS\n",
    "SELECT * FROM parquet_scan(\"data/bronze/snapshots/bronze-2020-smoke/camara/blocos/partidos/year=*/part-*.parquet\")\n",
    "WHERE source = 'camara' AND entity = 'blocos/partidos';\n",
    "\n",
    "SELECT COUNT(*) AS n FROM bronze_camara_blocos_partidos;"
   ]
  },
  {
   "cell_type": "code",
   "execution_count": 53,
   "id": "f9aa46c5",
   "metadata": {
    "vscode": {
     "languageId": "sql"
    }
   },
   "outputs": [
    {
     "data": {
      "text/html": [
       "<span style=\"None\">Running query in &#x27;duck&#x27;</span>"
      ],
      "text/plain": [
       "Running query in 'duck'"
      ]
     },
     "metadata": {},
     "output_type": "display_data"
    },
    {
     "data": {
      "text/html": [
       "<table>\n",
       "    <thead>\n",
       "        <tr>\n",
       "            <th>source</th>\n",
       "            <th>entity</th>\n",
       "            <th>id</th>\n",
       "            <th>url</th>\n",
       "            <th>payload_json</th>\n",
       "            <th>payload_sha256</th>\n",
       "            <th>year</th>\n",
       "        </tr>\n",
       "    </thead>\n",
       "    <tbody>\n",
       "        <tr>\n",
       "            <td>camara</td>\n",
       "            <td>blocos/partidos</td>\n",
       "            <td>584</td>\n",
       "            <td><a href=https://dadosabertos.camara.leg.br/api/v2/blocos/584/partidos>https://dadosabertos.camara.leg.br/api/v2/blocos/584/partidos</a></td>\n",
       "            <td>{\"dados\":[{\"id\":36779,\"nome\":\"Partido Comunista do Brasil\",\"sigla\":\"PCdoB\",\"uri\":\"https://dadosabertos.camara.leg.br/api/v2/partidos/36779\"},{\"id\":36844,\"nome\":\"Partido dos Trabalhadores\",\"sigla\":\"PT\",\"uri\":\"https://dadosabertos.camara.leg.br/api/v2/partidos/36844\"},{\"id\":36851,\"nome\":\"Partido Verde\",\"sigla\":\"PV\",\"uri\":\"https://dadosabertos.camara.leg.br/api/v2/partidos/36851\"}]}</td>\n",
       "            <td>c1402ccc6ef392ea8f2d6860b18bedd4e42344fd2f2d32ef33b05d9652db3320</td>\n",
       "            <td>2020</td>\n",
       "        </tr>\n",
       "    </tbody>\n",
       "</table>"
      ],
      "text/plain": [
       "+--------+-----------------+-----+-----------------------------------------------------------------------------------------------------------------------------------------+------------------------------------------------------------------------------------------------------------------------------------------------------------------------------------------------------------------------------------------------------------------------------------------------------------------------------------------------------------------------------------------------+------------------------------------------------------------------+------+\n",
       "| source |      entity     |  id |                                                                   url                                                                   |                                                                                                                                                                                          payload_json                                                                                                                                                                                          |                          payload_sha256                          | year |\n",
       "+--------+-----------------+-----+-----------------------------------------------------------------------------------------------------------------------------------------+------------------------------------------------------------------------------------------------------------------------------------------------------------------------------------------------------------------------------------------------------------------------------------------------------------------------------------------------------------------------------------------------+------------------------------------------------------------------+------+\n",
       "| camara | blocos/partidos | 584 | <a href=https://dadosabertos.camara.leg.br/api/v2/blocos/584/partidos>https://dadosabertos.camara.leg.br/api/v2/blocos/584/partidos</a> | {\"dados\":[{\"id\":36779,\"nome\":\"Partido Comunista do Brasil\",\"sigla\":\"PCdoB\",\"uri\":\"https://dadosabertos.camara.leg.br/api/v2/partidos/36779\"},{\"id\":36844,\"nome\":\"Partido dos Trabalhadores\",\"sigla\":\"PT\",\"uri\":\"https://dadosabertos.camara.leg.br/api/v2/partidos/36844\"},{\"id\":36851,\"nome\":\"Partido Verde\",\"sigla\":\"PV\",\"uri\":\"https://dadosabertos.camara.leg.br/api/v2/partidos/36851\"}]} | c1402ccc6ef392ea8f2d6860b18bedd4e42344fd2f2d32ef33b05d9652db3320 | 2020 |\n",
       "+--------+-----------------+-----+-----------------------------------------------------------------------------------------------------------------------------------------+------------------------------------------------------------------------------------------------------------------------------------------------------------------------------------------------------------------------------------------------------------------------------------------------------------------------------------------------------------------------------------------------+------------------------------------------------------------------+------+"
      ]
     },
     "execution_count": 53,
     "metadata": {},
     "output_type": "execute_result"
    }
   ],
   "source": [
    "%%sql\n",
    "SELECT * FROM bronze_camara_blocos_partidos LIMIT 1;"
   ]
  },
  {
   "cell_type": "code",
   "execution_count": 54,
   "id": "c704af71",
   "metadata": {
    "vscode": {
     "languageId": "sql"
    }
   },
   "outputs": [
    {
     "data": {
      "text/html": [
       "<span style=\"None\">Running query in &#x27;duck&#x27;</span>"
      ],
      "text/plain": [
       "Running query in 'duck'"
      ]
     },
     "metadata": {},
     "output_type": "display_data"
    },
    {
     "data": {
      "text/html": [
       "<table>\n",
       "    <thead>\n",
       "        <tr>\n",
       "            <th>Count</th>\n",
       "        </tr>\n",
       "    </thead>\n",
       "    <tbody>\n",
       "        <tr>\n",
       "            <td>22</td>\n",
       "        </tr>\n",
       "    </tbody>\n",
       "</table>"
      ],
      "text/plain": [
       "+-------+\n",
       "| Count |\n",
       "+-------+\n",
       "|   22  |\n",
       "+-------+"
      ]
     },
     "execution_count": 54,
     "metadata": {},
     "output_type": "execute_result"
    }
   ],
   "source": [
    "%%sql\n",
    "DROP TABLE IF EXISTS blocos_partidos_camara;\n",
    "\n",
    "CREATE TABLE blocos_partidos_camara AS\n",
    "WITH base AS (\n",
    "  SELECT\n",
    "    TRY_CAST(payload_json AS JSON) AS j,\n",
    "    year AS year_snapshot,\n",
    "    id AS id_bloco\n",
    "  FROM bronze_camara_blocos_partidos\n",
    "),\n",
    "exploded AS (\n",
    "  SELECT\n",
    "    CAST(json_extract_string(e.value, '$.id') AS BIGINT) AS id_partido,\n",
    "    CAST(b.id_bloco AS BIGINT) AS id_bloco,\n",
    "    b.year_snapshot\n",
    "  FROM base b\n",
    "  CROSS JOIN json_each(b.j, '$.dados') AS e\n",
    ")\n",
    "SELECT id_bloco, id_partido, year_snapshot\n",
    "FROM exploded;\n",
    "\n"
   ]
  },
  {
   "cell_type": "code",
   "execution_count": 55,
   "id": "a1816432",
   "metadata": {
    "vscode": {
     "languageId": "sql"
    }
   },
   "outputs": [
    {
     "data": {
      "text/html": [
       "<span style=\"None\">Running query in &#x27;duck&#x27;</span>"
      ],
      "text/plain": [
       "Running query in 'duck'"
      ]
     },
     "metadata": {},
     "output_type": "display_data"
    },
    {
     "data": {
      "text/html": [
       "<table>\n",
       "    <thead>\n",
       "        <tr>\n",
       "            <th>id_bloco</th>\n",
       "            <th>id_partido</th>\n",
       "            <th>year_snapshot</th>\n",
       "        </tr>\n",
       "    </thead>\n",
       "    <tbody>\n",
       "        <tr>\n",
       "            <td>584</td>\n",
       "            <td>36851</td>\n",
       "            <td>2020</td>\n",
       "        </tr>\n",
       "        <tr>\n",
       "            <td>585</td>\n",
       "            <td>36835</td>\n",
       "            <td>2020</td>\n",
       "        </tr>\n",
       "        <tr>\n",
       "            <td>586</td>\n",
       "            <td>36886</td>\n",
       "            <td>2020</td>\n",
       "        </tr>\n",
       "        <tr>\n",
       "            <td>589</td>\n",
       "            <td>38009</td>\n",
       "            <td>2020</td>\n",
       "        </tr>\n",
       "        <tr>\n",
       "            <td>590</td>\n",
       "            <td>37904</td>\n",
       "            <td>2020</td>\n",
       "        </tr>\n",
       "        <tr>\n",
       "            <td>584</td>\n",
       "            <td>36844</td>\n",
       "            <td>2020</td>\n",
       "        </tr>\n",
       "        <tr>\n",
       "            <td>585</td>\n",
       "            <td>37905</td>\n",
       "            <td>2020</td>\n",
       "        </tr>\n",
       "        <tr>\n",
       "            <td>586</td>\n",
       "            <td>36839</td>\n",
       "            <td>2020</td>\n",
       "        </tr>\n",
       "        <tr>\n",
       "            <td>589</td>\n",
       "            <td>37904</td>\n",
       "            <td>2020</td>\n",
       "        </tr>\n",
       "        <tr>\n",
       "            <td>590</td>\n",
       "            <td>38010</td>\n",
       "            <td>2020</td>\n",
       "        </tr>\n",
       "    </tbody>\n",
       "</table>\n",
       "<span style=\"font-style:italic;text-align:center;\">Truncated to <a href=\"https://jupysql.ploomber.io/en/latest/api/configuration.html#displaylimit\">displaylimit</a> of 10.</span>"
      ],
      "text/plain": [
       "+----------+------------+---------------+\n",
       "| id_bloco | id_partido | year_snapshot |\n",
       "+----------+------------+---------------+\n",
       "|   584    |   36851    |      2020     |\n",
       "|   585    |   36835    |      2020     |\n",
       "|   586    |   36886    |      2020     |\n",
       "|   589    |   38009    |      2020     |\n",
       "|   590    |   37904    |      2020     |\n",
       "|   584    |   36844    |      2020     |\n",
       "|   585    |   37905    |      2020     |\n",
       "|   586    |   36839    |      2020     |\n",
       "|   589    |   37904    |      2020     |\n",
       "|   590    |   38010    |      2020     |\n",
       "+----------+------------+---------------+\n",
       "Truncated to displaylimit of 10."
      ]
     },
     "execution_count": 55,
     "metadata": {},
     "output_type": "execute_result"
    }
   ],
   "source": [
    "%%sql\n",
    "SELECT * FROM blocos_partidos_camara;"
   ]
  },
  {
   "cell_type": "markdown",
   "id": "15fc58b5",
   "metadata": {
    "vscode": {
     "languageId": "sql"
    }
   },
   "source": [
    "### Deputados e frentes"
   ]
  },
  {
   "cell_type": "code",
   "execution_count": 56,
   "id": "f07afd0f",
   "metadata": {
    "vscode": {
     "languageId": "sql"
    }
   },
   "outputs": [
    {
     "data": {
      "text/html": [
       "<span style=\"None\">Running query in &#x27;duck&#x27;</span>"
      ],
      "text/plain": [
       "Running query in 'duck'"
      ]
     },
     "metadata": {},
     "output_type": "display_data"
    },
    {
     "data": {
      "text/html": [
       "<table>\n",
       "    <thead>\n",
       "        <tr>\n",
       "            <th>n</th>\n",
       "        </tr>\n",
       "    </thead>\n",
       "    <tbody>\n",
       "        <tr>\n",
       "            <td>183</td>\n",
       "        </tr>\n",
       "    </tbody>\n",
       "</table>"
      ],
      "text/plain": [
       "+-----+\n",
       "|  n  |\n",
       "+-----+\n",
       "| 183 |\n",
       "+-----+"
      ]
     },
     "execution_count": 56,
     "metadata": {},
     "output_type": "execute_result"
    }
   ],
   "source": [
    "%%sql\n",
    "CREATE OR REPLACE VIEW bronze_camara_deputados_frentes AS\n",
    "SELECT * FROM parquet_scan(\"data/bronze/snapshots/bronze-2020-smoke/camara/deputados/frentes/year=*/part-*.parquet\")\n",
    "WHERE source = 'camara' AND entity = 'deputados/frentes';\n",
    "\n",
    "SELECT COUNT(*) AS n FROM bronze_camara_deputados_frentes;"
   ]
  },
  {
   "cell_type": "code",
   "execution_count": 57,
   "id": "12989a49",
   "metadata": {
    "vscode": {
     "languageId": "sql"
    }
   },
   "outputs": [
    {
     "data": {
      "text/html": [
       "<span style=\"None\">Running query in &#x27;duck&#x27;</span>"
      ],
      "text/plain": [
       "Running query in 'duck'"
      ]
     },
     "metadata": {},
     "output_type": "display_data"
    },
    {
     "data": {
      "text/html": [
       "<table>\n",
       "    <thead>\n",
       "        <tr>\n",
       "            <th>source</th>\n",
       "            <th>entity</th>\n",
       "            <th>id</th>\n",
       "            <th>url</th>\n",
       "            <th>payload_json</th>\n",
       "            <th>payload_sha256</th>\n",
       "            <th>year</th>\n",
       "        </tr>\n",
       "    </thead>\n",
       "    <tbody>\n",
       "        <tr>\n",
       "            <td>camara</td>\n",
       "            <td>deputados/frentes</td>\n",
       "            <td>66385</td>\n",
       "            <td><a href=https://dadosabertos.camara.leg.br/api/v2/deputados/66385/frentes>https://dadosabertos.camara.leg.br/api/v2/deputados/66385/frentes</a></td>\n",
       "            <td>{\"dados\":[{\"id\":55662,\"idLegislatura\":57,\"titulo\":\"Frente Parlamentar Mista em Defesa da Pessoa com Epilepsia\",\"uri\":\"https://dadosabertos.camara.leg.br/api/v2/frentes/55662\"},{\"id\":55637,\"idLegislatura\":57,\"titulo\":\"Frente Parlamentar da Influência Digital (FRENID)\",\"uri\":\"https://dadosabertos.camara.leg.br/api/v2/frentes/55637\"},{\"id\":55669,\"idLegislatura\":57,\"titulo\":\"Frente Parlamentar Mista do Jogo Responsável\",\"uri\":\"https://dadosabertos.camara.leg.br/api/v2/frentes/55669\"},{\"id\":55660,\"idLegislatura\":57,\"titulo\":\"Frente Parlamentar de Combate à Ludopatia e de Proteção de Crianças e Adolescentes contra os Riscos das Apostas e Jogos de Azar.\",\"uri\":\"https://dadosabertos.camara.leg.br/api/v2/frentes/55660\"},{\"id\":55641,\"idLegislatura\":57,\"titulo\":\"Frente Parlamentar Conservadora em Defesa da Liberdade\",\"uri\":\"https://dadosabertos.camara.leg.br/api/v2/frentes/55641\"},{\"id\":55651,\"idLegislatura\":57,\"titulo\":\"Frente Parlamentar ESG na prática do Congresso Nacional (FPESG)\",\"uri\":\"https://dadosabertos.camara.leg.br/api/v2/frentes/55651\"},{\"id\":55640,\"idLegislatura\":57,\"titulo\":\"Frente Parlamentar Mista do Cooperativismo de Seguros e do Mutualismo de Proteção Patrimonial - FREPAM\",\"uri\":\"https://dadosabertos.camara.leg.br/api/v2/frentes/55640\"},{\"id\":54562,\"idLegislatura\":57,\"titulo\":\"Frente Parlamentar em Defesa dos Municípios da Amazônia Legal\",\"uri\":\"https://dadosabertos.camara.leg.br/api/v2/frentes/54562\"},{\"id\":54564,\"idLegislatura\":57,\"titulo\":\"Frente Parlamentar pela Defesa e Valorização dos Profissionais de Segurança Pública e da Segurança Privada\",\"uri\":\"https://dadosabertos.camara.leg.br/api/v2/frentes/54564\"},{\"id\":54546,\"idLegislatura\":57,\"titulo\":\"Frente Parlamentar Mista em Defesa do Saneamento Público\",\"uri\":\"https://dadosabertos.camara.leg.br/api/v2/frentes/54546\"},{\"id\":54556,\"idLegislatura\":57,\"titulo\":\"Frente Parlamentar Mista pela Defesa do Sistema de Proteção Social e valorização dos Agentes Comunitários de Saúde e dos Agentes de Combate às Endemias, ACS e ACE\",\"uri\":\"https://dadosabertos.camara.leg.br/api/v2/frentes/54556\"},{\"id\":54523,\"idLegislatura\":57,\"titulo\":\"Frente Parlamentar Mista da Optometria\",\"uri\":\"https://dadosabertos.camara.leg.br/api/v2/frentes/54523\"},{\"id\":54504,\"idLegislatura\":57,\"titulo\":\"Frente Parlamentar Mista das Profissões do Sistema Confea/Crea e Mútua\",\"uri\":\"https://dadosabertos.camara.leg.br/api/v2/frentes/54504\"},{\"id\":54508,\"idLegislatura\":57,\"titulo\":\"Frente Parlamentar em Defesa da Duplicação da BR - 235\",\"uri\":\"https://dadosabertos.camara.leg.br/api/v2/frentes/54508\"},{\"id\":54528,\"idLegislatura\":57,\"titulo\":\"Frente Parlamentar do Norte\",\"uri\":\"https://dadosabertos.camara.leg.br/api/v2/frentes/54528\"},{\"id\":54511,\"idLegislatura\":57,\"titulo\":\"Frente Parlamentar Mista em Apoio às Rádios Comunitárias\",\"uri\":\"https://dadosabertos.camara.leg.br/api/v2/frentes/54511\"},{\"id\":54457,\"idLegislatura\":57,\"titulo\":\"Frente Parlamentar Mista em Defesa do profissional Nutricionista\",\"uri\":\"https://dadosabertos.camara.leg.br/api/v2/frentes/54457\"},{\"id\":54459,\"idLegislatura\":57,\"titulo\":\"Frente Parlamentar do Serviço Notarial e Registral\",\"uri\":\"https://dadosabertos.camara.leg.br/api/v2/frentes/54459\"},{\"id\":54463,\"idLegislatura\":57,\"titulo\":\"Frente Parlamentar Mista em Defesa dos Agentes Comunitários de Saúde, e dos Agentes de Combate às Endemias.\",\"uri\":\"https://dadosabertos.camara.leg.br/api/v2/frentes/54463\"},{\"id\":54443,\"idLegislatura\":57,\"titulo\":\"Frente Parlamentar Mista pela Inclusão e Qualidade na Educação Particular - FPeduQ\",\"uri\":\"https://dadosabertos.camara.leg.br/api/v2/frentes/54443\"},{\"id\":54480,\"idLegislatura\":57,\"titulo\":\"Frente Parlamentar Mista pela Inovação na Bioeconomia - FPBioeconomia\",\"uri\":\"https://dadosabertos.camara.leg.br/api/v2/frentes/54480\"},{\"id\":54490,\"idLegislatura\":57,\"titulo\":\"Frente Parlamentar Brasil - Coréia do Sul\",\"uri\":\"https://dadosabertos.camara.leg.br/api/v2/frentes/54490\"},{\"id\":54498,\"idLegislatura\":57,\"titulo\":\"Frente Parlamentar do Empreendedorismo Paulista\",\"uri\":\"https://dadosabertos.camara.leg.br/api/v2/frentes/54498\"},{\"id\":54424,\"idLegislatura\":57,\"titulo\":\"Frente Parlamentar em Defesa dos Oficiais de Justiça\",\"uri\":\"https://dadosabertos.camara.leg.br/api/v2/frentes/54424\"},{\"id\":54491,\"idLegislatura\":57,\"titulo\":\"Frente Parlamentar Mista da Contabilidade Brasileira (FCB)\",\"uri\":\"https://dadosabertos.camara.leg.br/api/v2/frentes/54491\"},{\"id\":54376,\"idLegislatura\":57,\"titulo\":\"Frente Parlamentar Mista em Defesa do Comércio Internacional e do Investimento - Frencomex\",\"uri\":\"https://dadosabertos.camara.leg.br/api/v2/frentes/54376\"},{\"id\":54375,\"idLegislatura\":57,\"titulo\":\"Frente Parlamentar Mista em Defesa da Produção Cultural e Entretenimento\",\"uri\":\"https://dadosabertos.camara.leg.br/api/v2/frentes/54375\"},{\"id\":54397,\"idLegislatura\":57,\"titulo\":\"Frente Parlamentar Brasil-EUA\",\"uri\":\"https://dadosabertos.camara.leg.br/api/v2/frentes/54397\"},{\"id\":54353,\"idLegislatura\":57,\"titulo\":\"Frente Parlamentar em Apoio ao Produtor de Leite\",\"uri\":\"https://dadosabertos.camara.leg.br/api/v2/frentes/54353\"},{\"id\":54366,\"idLegislatura\":57,\"titulo\":\"Frente Parlamentar em Defesa do Esporte Escolar e Universitário\",\"uri\":\"https://dadosabertos.camara.leg.br/api/v2/frentes/54366\"},{\"id\":54341,\"idLegislatura\":57,\"titulo\":\"Frente Parlamentar Mista pelo Livre Mercado - FPLM\",\"uri\":\"https://dadosabertos.camara.leg.br/api/v2/frentes/54341\"},{\"id\":54345,\"idLegislatura\":57,\"titulo\":\"Frente Parlamentar Parlamentar para a Modernização do Futebol Brasileiro\",\"uri\":\"https://dadosabertos.camara.leg.br/api/v2/frentes/54345\"},{\"id\":54354,\"idLegislatura\":57,\"titulo\":\"Frente Parlamentar de Apoio às Santas Casas, Hospitais e Entidades Filantrópicas\",\"uri\":\"https://dadosabertos.camara.leg.br/api/v2/frentes/54354\"},{\"id\":54323,\"idLegislatura\":57,\"titulo\":\"Frente Parlamentar da Agropecuária - FPA\",\"uri\":\"https://dadosabertos.camara.leg.br/api/v2/frentes/54323\"},{\"id\":54317,\"idLegislatura\":57,\"titulo\":\"Frente Parlamentar da Segurança Pública\",\"uri\":\"https://dadosabertos.camara.leg.br/api/v2/frentes/54317\"},{\"id\":54304,\"idLegislatura\":57,\"titulo\":\"Frente Parlamentar Mista em Defesa da Doação de Órgãos e Tecidos\",\"uri\":\"https://dadosabertos.camara.leg.br/api/v2/frentes/54304\"}]}</td>\n",
       "            <td>099aa2128aefbc036c0ca7bacb9164b02155b0dbe36e54062097f6e43b078e4a</td>\n",
       "            <td>2020</td>\n",
       "        </tr>\n",
       "    </tbody>\n",
       "</table>"
      ],
      "text/plain": [
       "+--------+-------------------+-------+-------------------------------------------------------------------------------------------------------------------------------------------------+------------------------------------------------------------------------------------------------------------------------------------------------------------------------------------------------------------------------------------------------------------------------------------------------------------------------------------------------------------------------------------------------------------------------------------------------------------------------------------------------------------------------------------------------------------------------------------------------------------------------------------------------------------------------------------------------------------------------------------------------------------------------------------------------------------------------------------------------------------------------------------------------------------------------------------------------------------------------------------------------------------------------------------------------------------------------------------------------------------------------------------------------------------------------------------------------------------------------------------------------------------------------------------------------------------------------------------------------------------------------------------------------------------------------------------------------------------------------------------------------------------------------------------------------------------------------------------------------------------------------------------------------------------------------------------------------------------------------------------------------------------------------------------------------------------------------------------------------------------------------------------------------------------------------------------------------------------------------------------------------------------------------------------------------------------------------------------------------------------------------------------------------------------------------------------------------------------------------------------------------------------------------------------------------------------------------------------------------------------------------------------------------------------------------------------------------------------------------------------------------------------------------------------------------------------------------------------------------------------------------------------------------------------------------------------------------------------------------------------------------------------------------------------------------------------------------------------------------------------------------------------------------------------------------------------------------------------------------------------------------------------------------------------------------------------------------------------------------------------------------------------------------------------------------------------------------------------------------------------------------------------------------------------------------------------------------------------------------------------------------------------------------------------------------------------------------------------------------------------------------------------------------------------------------------------------------------------------------------------------------------------------------------------------------------------------------------------------------------------------------------------------------------------------------------------------------------------------------------------------------------------------------------------------------------------------------------------------------------------------------------------------------------------------------------------------------------------------------------------------------------------------------------------------------------------------------------------------------------------------------------------------------------------------------------------------------------------------------------------------------------------------------------------------------------------------------------------------------------------------------------------------------------------------------------------------------------------------------------------------------------------------------------------------------------------------------------------------------------------------------------------------------------------------------------------------------------------------------------------------------------------------------------------------------------------------------------------------------------------------------------------------------------------------------------------------------------------------------------------------------------------------------------------------------------------------------------------------------------------------------------------------------------------------------------------------------------------------------------------------------------------------------------------------------------------------------------------------------------------------------------------------------------------------------------------------------------------------------------------------------------------------------------------------------------------------------------------------------------------------------------------------------------------------------------------------------------------------------------------------------------------------------------------------------------------------------------------------------------------------------------------------------------------------------------------------------------------------------------------------------------------------------------------------------------------------------------------------------------------------------------------------------------------------------------------------------------------------------------------------------------------------------------------------------------------------------------------------------------------------------------+------------------------------------------------------------------+------+\n",
       "| source |       entity      |   id  |                                                                       url                                                                       |                                                                                                                                                                                                                                                                                                                                                                                                                                                                                                                                                                                                                                                                                                                                                                                                                                                                                                                                                                                                                                                                                                                                                                                                                                                                                                                                                                                                                                                                                                                                                                                                                                                                                                                                                                                                                                                                                                                                                                                                                                                                                                                                                                                                                                                                                                                                                                                                                                                                                                                                                                                                                                                                                                                                                                                                                                                                                                                                                                                                                                                                                                                                                                                                                                             payload_json                                                                                                                                                                                                                                                                                                                                                                                                                                                                                                                                                                                                                                                                                                                                                                                                                                                                                                                                                                                                                                                                                                                                                                                                                                                                                                                                                                                                                                                                                                                                                                                                                                                                                                                                                                                                                                                                                                                                                                                                                                                                                                                                                                                                                                                                                                                                                                                                                                                                                                                                                                                                                                                                                                                                                                                                                                                                                                                                                                                                                                                                                                                                                                                                                                             |                          payload_sha256                          | year |\n",
       "+--------+-------------------+-------+-------------------------------------------------------------------------------------------------------------------------------------------------+------------------------------------------------------------------------------------------------------------------------------------------------------------------------------------------------------------------------------------------------------------------------------------------------------------------------------------------------------------------------------------------------------------------------------------------------------------------------------------------------------------------------------------------------------------------------------------------------------------------------------------------------------------------------------------------------------------------------------------------------------------------------------------------------------------------------------------------------------------------------------------------------------------------------------------------------------------------------------------------------------------------------------------------------------------------------------------------------------------------------------------------------------------------------------------------------------------------------------------------------------------------------------------------------------------------------------------------------------------------------------------------------------------------------------------------------------------------------------------------------------------------------------------------------------------------------------------------------------------------------------------------------------------------------------------------------------------------------------------------------------------------------------------------------------------------------------------------------------------------------------------------------------------------------------------------------------------------------------------------------------------------------------------------------------------------------------------------------------------------------------------------------------------------------------------------------------------------------------------------------------------------------------------------------------------------------------------------------------------------------------------------------------------------------------------------------------------------------------------------------------------------------------------------------------------------------------------------------------------------------------------------------------------------------------------------------------------------------------------------------------------------------------------------------------------------------------------------------------------------------------------------------------------------------------------------------------------------------------------------------------------------------------------------------------------------------------------------------------------------------------------------------------------------------------------------------------------------------------------------------------------------------------------------------------------------------------------------------------------------------------------------------------------------------------------------------------------------------------------------------------------------------------------------------------------------------------------------------------------------------------------------------------------------------------------------------------------------------------------------------------------------------------------------------------------------------------------------------------------------------------------------------------------------------------------------------------------------------------------------------------------------------------------------------------------------------------------------------------------------------------------------------------------------------------------------------------------------------------------------------------------------------------------------------------------------------------------------------------------------------------------------------------------------------------------------------------------------------------------------------------------------------------------------------------------------------------------------------------------------------------------------------------------------------------------------------------------------------------------------------------------------------------------------------------------------------------------------------------------------------------------------------------------------------------------------------------------------------------------------------------------------------------------------------------------------------------------------------------------------------------------------------------------------------------------------------------------------------------------------------------------------------------------------------------------------------------------------------------------------------------------------------------------------------------------------------------------------------------------------------------------------------------------------------------------------------------------------------------------------------------------------------------------------------------------------------------------------------------------------------------------------------------------------------------------------------------------------------------------------------------------------------------------------------------------------------------------------------------------------------------------------------------------------------------------------------------------------------------------------------------------------------------------------------------------------------------------------------------------------------------------------------------------------------------------------------------------------------------------------------------------------------------------------------------------------------------------------------------------------------------+------------------------------------------------------------------+------+\n",
       "| camara | deputados/frentes | 66385 | <a href=https://dadosabertos.camara.leg.br/api/v2/deputados/66385/frentes>https://dadosabertos.camara.leg.br/api/v2/deputados/66385/frentes</a> | {\"dados\":[{\"id\":55662,\"idLegislatura\":57,\"titulo\":\"Frente Parlamentar Mista em Defesa da Pessoa com Epilepsia\",\"uri\":\"https://dadosabertos.camara.leg.br/api/v2/frentes/55662\"},{\"id\":55637,\"idLegislatura\":57,\"titulo\":\"Frente Parlamentar da Influência Digital (FRENID)\",\"uri\":\"https://dadosabertos.camara.leg.br/api/v2/frentes/55637\"},{\"id\":55669,\"idLegislatura\":57,\"titulo\":\"Frente Parlamentar Mista do Jogo Responsável\",\"uri\":\"https://dadosabertos.camara.leg.br/api/v2/frentes/55669\"},{\"id\":55660,\"idLegislatura\":57,\"titulo\":\"Frente Parlamentar de Combate à Ludopatia e de Proteção de Crianças e Adolescentes contra os Riscos das Apostas e Jogos de Azar.\",\"uri\":\"https://dadosabertos.camara.leg.br/api/v2/frentes/55660\"},{\"id\":55641,\"idLegislatura\":57,\"titulo\":\"Frente Parlamentar Conservadora em Defesa da Liberdade\",\"uri\":\"https://dadosabertos.camara.leg.br/api/v2/frentes/55641\"},{\"id\":55651,\"idLegislatura\":57,\"titulo\":\"Frente Parlamentar ESG na prática do Congresso Nacional (FPESG)\",\"uri\":\"https://dadosabertos.camara.leg.br/api/v2/frentes/55651\"},{\"id\":55640,\"idLegislatura\":57,\"titulo\":\"Frente Parlamentar Mista do Cooperativismo de Seguros e do Mutualismo de Proteção Patrimonial - FREPAM\",\"uri\":\"https://dadosabertos.camara.leg.br/api/v2/frentes/55640\"},{\"id\":54562,\"idLegislatura\":57,\"titulo\":\"Frente Parlamentar em Defesa dos Municípios da Amazônia Legal\",\"uri\":\"https://dadosabertos.camara.leg.br/api/v2/frentes/54562\"},{\"id\":54564,\"idLegislatura\":57,\"titulo\":\"Frente Parlamentar pela Defesa e Valorização dos Profissionais de Segurança Pública e da Segurança Privada\",\"uri\":\"https://dadosabertos.camara.leg.br/api/v2/frentes/54564\"},{\"id\":54546,\"idLegislatura\":57,\"titulo\":\"Frente Parlamentar Mista em Defesa do Saneamento Público\",\"uri\":\"https://dadosabertos.camara.leg.br/api/v2/frentes/54546\"},{\"id\":54556,\"idLegislatura\":57,\"titulo\":\"Frente Parlamentar Mista pela Defesa do Sistema de Proteção Social e valorização dos Agentes Comunitários de Saúde e dos Agentes de Combate às Endemias, ACS e ACE\",\"uri\":\"https://dadosabertos.camara.leg.br/api/v2/frentes/54556\"},{\"id\":54523,\"idLegislatura\":57,\"titulo\":\"Frente Parlamentar Mista da Optometria\",\"uri\":\"https://dadosabertos.camara.leg.br/api/v2/frentes/54523\"},{\"id\":54504,\"idLegislatura\":57,\"titulo\":\"Frente Parlamentar Mista das Profissões do Sistema Confea/Crea e Mútua\",\"uri\":\"https://dadosabertos.camara.leg.br/api/v2/frentes/54504\"},{\"id\":54508,\"idLegislatura\":57,\"titulo\":\"Frente Parlamentar em Defesa da Duplicação da BR - 235\",\"uri\":\"https://dadosabertos.camara.leg.br/api/v2/frentes/54508\"},{\"id\":54528,\"idLegislatura\":57,\"titulo\":\"Frente Parlamentar do Norte\",\"uri\":\"https://dadosabertos.camara.leg.br/api/v2/frentes/54528\"},{\"id\":54511,\"idLegislatura\":57,\"titulo\":\"Frente Parlamentar Mista em Apoio às Rádios Comunitárias\",\"uri\":\"https://dadosabertos.camara.leg.br/api/v2/frentes/54511\"},{\"id\":54457,\"idLegislatura\":57,\"titulo\":\"Frente Parlamentar Mista em Defesa do profissional Nutricionista\",\"uri\":\"https://dadosabertos.camara.leg.br/api/v2/frentes/54457\"},{\"id\":54459,\"idLegislatura\":57,\"titulo\":\"Frente Parlamentar do Serviço Notarial e Registral\",\"uri\":\"https://dadosabertos.camara.leg.br/api/v2/frentes/54459\"},{\"id\":54463,\"idLegislatura\":57,\"titulo\":\"Frente Parlamentar Mista em Defesa dos Agentes Comunitários de Saúde, e dos Agentes de Combate às Endemias.\",\"uri\":\"https://dadosabertos.camara.leg.br/api/v2/frentes/54463\"},{\"id\":54443,\"idLegislatura\":57,\"titulo\":\"Frente Parlamentar Mista pela Inclusão e Qualidade na Educação Particular - FPeduQ\",\"uri\":\"https://dadosabertos.camara.leg.br/api/v2/frentes/54443\"},{\"id\":54480,\"idLegislatura\":57,\"titulo\":\"Frente Parlamentar Mista pela Inovação na Bioeconomia - FPBioeconomia\",\"uri\":\"https://dadosabertos.camara.leg.br/api/v2/frentes/54480\"},{\"id\":54490,\"idLegislatura\":57,\"titulo\":\"Frente Parlamentar Brasil - Coréia do Sul\",\"uri\":\"https://dadosabertos.camara.leg.br/api/v2/frentes/54490\"},{\"id\":54498,\"idLegislatura\":57,\"titulo\":\"Frente Parlamentar do Empreendedorismo Paulista\",\"uri\":\"https://dadosabertos.camara.leg.br/api/v2/frentes/54498\"},{\"id\":54424,\"idLegislatura\":57,\"titulo\":\"Frente Parlamentar em Defesa dos Oficiais de Justiça\",\"uri\":\"https://dadosabertos.camara.leg.br/api/v2/frentes/54424\"},{\"id\":54491,\"idLegislatura\":57,\"titulo\":\"Frente Parlamentar Mista da Contabilidade Brasileira (FCB)\",\"uri\":\"https://dadosabertos.camara.leg.br/api/v2/frentes/54491\"},{\"id\":54376,\"idLegislatura\":57,\"titulo\":\"Frente Parlamentar Mista em Defesa do Comércio Internacional e do Investimento - Frencomex\",\"uri\":\"https://dadosabertos.camara.leg.br/api/v2/frentes/54376\"},{\"id\":54375,\"idLegislatura\":57,\"titulo\":\"Frente Parlamentar Mista em Defesa da Produção Cultural e Entretenimento\",\"uri\":\"https://dadosabertos.camara.leg.br/api/v2/frentes/54375\"},{\"id\":54397,\"idLegislatura\":57,\"titulo\":\"Frente Parlamentar Brasil-EUA\",\"uri\":\"https://dadosabertos.camara.leg.br/api/v2/frentes/54397\"},{\"id\":54353,\"idLegislatura\":57,\"titulo\":\"Frente Parlamentar em Apoio ao Produtor de Leite\",\"uri\":\"https://dadosabertos.camara.leg.br/api/v2/frentes/54353\"},{\"id\":54366,\"idLegislatura\":57,\"titulo\":\"Frente Parlamentar em Defesa do Esporte Escolar e Universitário\",\"uri\":\"https://dadosabertos.camara.leg.br/api/v2/frentes/54366\"},{\"id\":54341,\"idLegislatura\":57,\"titulo\":\"Frente Parlamentar Mista pelo Livre Mercado - FPLM\",\"uri\":\"https://dadosabertos.camara.leg.br/api/v2/frentes/54341\"},{\"id\":54345,\"idLegislatura\":57,\"titulo\":\"Frente Parlamentar Parlamentar para a Modernização do Futebol Brasileiro\",\"uri\":\"https://dadosabertos.camara.leg.br/api/v2/frentes/54345\"},{\"id\":54354,\"idLegislatura\":57,\"titulo\":\"Frente Parlamentar de Apoio às Santas Casas, Hospitais e Entidades Filantrópicas\",\"uri\":\"https://dadosabertos.camara.leg.br/api/v2/frentes/54354\"},{\"id\":54323,\"idLegislatura\":57,\"titulo\":\"Frente Parlamentar da Agropecuária - FPA\",\"uri\":\"https://dadosabertos.camara.leg.br/api/v2/frentes/54323\"},{\"id\":54317,\"idLegislatura\":57,\"titulo\":\"Frente Parlamentar da Segurança Pública\",\"uri\":\"https://dadosabertos.camara.leg.br/api/v2/frentes/54317\"},{\"id\":54304,\"idLegislatura\":57,\"titulo\":\"Frente Parlamentar Mista em Defesa da Doação de Órgãos e Tecidos\",\"uri\":\"https://dadosabertos.camara.leg.br/api/v2/frentes/54304\"}]} | 099aa2128aefbc036c0ca7bacb9164b02155b0dbe36e54062097f6e43b078e4a | 2020 |\n",
       "+--------+-------------------+-------+-------------------------------------------------------------------------------------------------------------------------------------------------+------------------------------------------------------------------------------------------------------------------------------------------------------------------------------------------------------------------------------------------------------------------------------------------------------------------------------------------------------------------------------------------------------------------------------------------------------------------------------------------------------------------------------------------------------------------------------------------------------------------------------------------------------------------------------------------------------------------------------------------------------------------------------------------------------------------------------------------------------------------------------------------------------------------------------------------------------------------------------------------------------------------------------------------------------------------------------------------------------------------------------------------------------------------------------------------------------------------------------------------------------------------------------------------------------------------------------------------------------------------------------------------------------------------------------------------------------------------------------------------------------------------------------------------------------------------------------------------------------------------------------------------------------------------------------------------------------------------------------------------------------------------------------------------------------------------------------------------------------------------------------------------------------------------------------------------------------------------------------------------------------------------------------------------------------------------------------------------------------------------------------------------------------------------------------------------------------------------------------------------------------------------------------------------------------------------------------------------------------------------------------------------------------------------------------------------------------------------------------------------------------------------------------------------------------------------------------------------------------------------------------------------------------------------------------------------------------------------------------------------------------------------------------------------------------------------------------------------------------------------------------------------------------------------------------------------------------------------------------------------------------------------------------------------------------------------------------------------------------------------------------------------------------------------------------------------------------------------------------------------------------------------------------------------------------------------------------------------------------------------------------------------------------------------------------------------------------------------------------------------------------------------------------------------------------------------------------------------------------------------------------------------------------------------------------------------------------------------------------------------------------------------------------------------------------------------------------------------------------------------------------------------------------------------------------------------------------------------------------------------------------------------------------------------------------------------------------------------------------------------------------------------------------------------------------------------------------------------------------------------------------------------------------------------------------------------------------------------------------------------------------------------------------------------------------------------------------------------------------------------------------------------------------------------------------------------------------------------------------------------------------------------------------------------------------------------------------------------------------------------------------------------------------------------------------------------------------------------------------------------------------------------------------------------------------------------------------------------------------------------------------------------------------------------------------------------------------------------------------------------------------------------------------------------------------------------------------------------------------------------------------------------------------------------------------------------------------------------------------------------------------------------------------------------------------------------------------------------------------------------------------------------------------------------------------------------------------------------------------------------------------------------------------------------------------------------------------------------------------------------------------------------------------------------------------------------------------------------------------------------------------------------------------------------------------------------------------------------------------------------------------------------------------------------------------------------------------------------------------------------------------------------------------------------------------------------------------------------------------------------------------------------------------------------------------------------------------------------------------------------------------------------------------------------------------------------------------------------------------------------------------+------------------------------------------------------------------+------+"
      ]
     },
     "execution_count": 57,
     "metadata": {},
     "output_type": "execute_result"
    }
   ],
   "source": [
    "%%sql\n",
    "SELECT * FROM bronze_camara_deputados_frentes LIMIT 1;"
   ]
  },
  {
   "cell_type": "code",
   "execution_count": 58,
   "id": "bea1b706",
   "metadata": {
    "vscode": {
     "languageId": "sql"
    }
   },
   "outputs": [
    {
     "data": {
      "text/html": [
       "<span style=\"None\">Running query in &#x27;duck&#x27;</span>"
      ],
      "text/plain": [
       "Running query in 'duck'"
      ]
     },
     "metadata": {},
     "output_type": "display_data"
    },
    {
     "data": {
      "text/html": [
       "<table>\n",
       "    <thead>\n",
       "        <tr>\n",
       "            <th>Count</th>\n",
       "        </tr>\n",
       "    </thead>\n",
       "    <tbody>\n",
       "        <tr>\n",
       "            <td>21410</td>\n",
       "        </tr>\n",
       "    </tbody>\n",
       "</table>"
      ],
      "text/plain": [
       "+-------+\n",
       "| Count |\n",
       "+-------+\n",
       "| 21410 |\n",
       "+-------+"
      ]
     },
     "execution_count": 58,
     "metadata": {},
     "output_type": "execute_result"
    }
   ],
   "source": [
    "%%sql\n",
    "DROP TABLE IF EXISTS deputados_frentes_camara;\n",
    "\n",
    "CREATE TABLE deputados_frentes_camara AS\n",
    "WITH base AS (\n",
    "  SELECT\n",
    "    TRY_CAST(payload_json AS JSON) AS j,\n",
    "    year AS year_snapshot,\n",
    "    id AS id_deputado\n",
    "  FROM bronze_camara_deputados_frentes\n",
    "),\n",
    "exploded AS (\n",
    "  SELECT\n",
    "    CAST(json_extract_string(e.value, '$.id') AS BIGINT) AS id_frente,\n",
    "    CAST(b.id_deputado AS BIGINT) AS id_deputado,\n",
    "    b.year_snapshot\n",
    "  FROM base b\n",
    "  CROSS JOIN json_each(b.j, '$.dados') AS e\n",
    ")\n",
    "SELECT id_deputado, id_frente, year_snapshot\n",
    "FROM exploded;\n"
   ]
  },
  {
   "cell_type": "code",
   "execution_count": 59,
   "id": "49ae6528",
   "metadata": {},
   "outputs": [
    {
     "data": {
      "text/html": [
       "<span style=\"None\">Running query in &#x27;duck&#x27;</span>"
      ],
      "text/plain": [
       "Running query in 'duck'"
      ]
     },
     "metadata": {},
     "output_type": "display_data"
    },
    {
     "data": {
      "text/html": [
       "<table>\n",
       "    <thead>\n",
       "        <tr>\n",
       "            <th>id_deputado</th>\n",
       "            <th>id_frente</th>\n",
       "            <th>year_snapshot</th>\n",
       "        </tr>\n",
       "    </thead>\n",
       "    <tbody>\n",
       "        <tr>\n",
       "            <td>66385</td>\n",
       "            <td>54304</td>\n",
       "            <td>2020</td>\n",
       "        </tr>\n",
       "        <tr>\n",
       "            <td>122974</td>\n",
       "            <td>53890</td>\n",
       "            <td>2020</td>\n",
       "        </tr>\n",
       "        <tr>\n",
       "            <td>161440</td>\n",
       "            <td>54293</td>\n",
       "            <td>2020</td>\n",
       "        </tr>\n",
       "        <tr>\n",
       "            <td>178860</td>\n",
       "            <td>53457</td>\n",
       "            <td>2020</td>\n",
       "        </tr>\n",
       "        <tr>\n",
       "            <td>180214</td>\n",
       "            <td>54315</td>\n",
       "            <td>2020</td>\n",
       "        </tr>\n",
       "        <tr>\n",
       "            <td>204395</td>\n",
       "            <td>53890</td>\n",
       "            <td>2020</td>\n",
       "        </tr>\n",
       "        <tr>\n",
       "            <td>204406</td>\n",
       "            <td>53890</td>\n",
       "            <td>2020</td>\n",
       "        </tr>\n",
       "        <tr>\n",
       "            <td>204492</td>\n",
       "            <td>53892</td>\n",
       "            <td>2020</td>\n",
       "        </tr>\n",
       "        <tr>\n",
       "            <td>204524</td>\n",
       "            <td>53890</td>\n",
       "            <td>2020</td>\n",
       "        </tr>\n",
       "        <tr>\n",
       "            <td>220527</td>\n",
       "            <td>54368</td>\n",
       "            <td>2020</td>\n",
       "        </tr>\n",
       "    </tbody>\n",
       "</table>\n",
       "<span style=\"font-style:italic;text-align:center;\">Truncated to <a href=\"https://jupysql.ploomber.io/en/latest/api/configuration.html#displaylimit\">displaylimit</a> of 10.</span>"
      ],
      "text/plain": [
       "+-------------+-----------+---------------+\n",
       "| id_deputado | id_frente | year_snapshot |\n",
       "+-------------+-----------+---------------+\n",
       "|    66385    |   54304   |      2020     |\n",
       "|    122974   |   53890   |      2020     |\n",
       "|    161440   |   54293   |      2020     |\n",
       "|    178860   |   53457   |      2020     |\n",
       "|    180214   |   54315   |      2020     |\n",
       "|    204395   |   53890   |      2020     |\n",
       "|    204406   |   53890   |      2020     |\n",
       "|    204492   |   53892   |      2020     |\n",
       "|    204524   |   53890   |      2020     |\n",
       "|    220527   |   54368   |      2020     |\n",
       "+-------------+-----------+---------------+\n",
       "Truncated to displaylimit of 10."
      ]
     },
     "execution_count": 59,
     "metadata": {},
     "output_type": "execute_result"
    }
   ],
   "source": [
    "%%sql\n",
    "SELECT * FROM deputados_frentes_camara LIMIT 10;"
   ]
  },
  {
   "cell_type": "markdown",
   "id": "c15e2656",
   "metadata": {},
   "source": [
    "### Deputados e histórico"
   ]
  },
  {
   "cell_type": "code",
   "execution_count": 60,
   "id": "f18b01d9",
   "metadata": {
    "vscode": {
     "languageId": "sql"
    }
   },
   "outputs": [
    {
     "data": {
      "text/html": [
       "<span style=\"None\">Running query in &#x27;duck&#x27;</span>"
      ],
      "text/plain": [
       "Running query in 'duck'"
      ]
     },
     "metadata": {},
     "output_type": "display_data"
    },
    {
     "data": {
      "text/html": [
       "<table>\n",
       "    <thead>\n",
       "        <tr>\n",
       "            <th>n</th>\n",
       "        </tr>\n",
       "    </thead>\n",
       "    <tbody>\n",
       "        <tr>\n",
       "            <td>183</td>\n",
       "        </tr>\n",
       "    </tbody>\n",
       "</table>"
      ],
      "text/plain": [
       "+-----+\n",
       "|  n  |\n",
       "+-----+\n",
       "| 183 |\n",
       "+-----+"
      ]
     },
     "execution_count": 60,
     "metadata": {},
     "output_type": "execute_result"
    }
   ],
   "source": [
    "%%sql\n",
    "CREATE OR REPLACE VIEW bronze_camara_deputados_historico AS\n",
    "SELECT * FROM parquet_scan(\"data/bronze/snapshots/bronze-2020-smoke/camara/deputados/historico/year=*/part-*.parquet\")\n",
    "WHERE source = 'camara' AND entity = 'deputados/historico';\n",
    "\n",
    "SELECT COUNT(*) AS n FROM bronze_camara_deputados_historico;"
   ]
  },
  {
   "cell_type": "code",
   "execution_count": 61,
   "id": "63872654",
   "metadata": {
    "vscode": {
     "languageId": "sql"
    }
   },
   "outputs": [
    {
     "data": {
      "text/html": [
       "<span style=\"None\">Running query in &#x27;duck&#x27;</span>"
      ],
      "text/plain": [
       "Running query in 'duck'"
      ]
     },
     "metadata": {},
     "output_type": "display_data"
    },
    {
     "data": {
      "text/html": [
       "<table>\n",
       "    <thead>\n",
       "        <tr>\n",
       "            <th>source</th>\n",
       "            <th>entity</th>\n",
       "            <th>id</th>\n",
       "            <th>url</th>\n",
       "            <th>payload_json</th>\n",
       "            <th>payload_sha256</th>\n",
       "            <th>year</th>\n",
       "        </tr>\n",
       "    </thead>\n",
       "    <tbody>\n",
       "        <tr>\n",
       "            <td>camara</td>\n",
       "            <td>deputados/historico</td>\n",
       "            <td>178860</td>\n",
       "            <td><a href=https://dadosabertos.camara.leg.br/api/v2/deputados/178860/historico>https://dadosabertos.camara.leg.br/api/v2/deputados/178860/historico</a></td>\n",
       "            <td>{\"dados\":[{\"condicaoEleitoral\":\"Titular\",\"dataHora\":\"2015-02-01T00:00\",\"descricaoStatus\":\"Nome no início da legislatura / Partido no início da legislatura\",\"email\":null,\"id\":178860,\"idLegislatura\":55,\"nome\":\"PAULO AZI\",\"nomeEleitoral\":\"PAULO AZI\",\"siglaPartido\":\"DEM\",\"siglaUf\":\"BA\",\"situacao\":\"Exercício\",\"uri\":\"https://dadosabertos.camara.leg.br/api/v2/deputados/178860\",\"uriPartido\":\"https://dadosabertos.camara.leg.br/api/v2/partidos/36769\",\"urlFoto\":\"https://www.camara.leg.br/internet/deputado/bandep/178860.jpg\"},{\"condicaoEleitoral\":\"Titular\",\"dataHora\":\"2015-02-01T10:00\",\"descricaoStatus\":\"Entrada - Posse de Eleito Titular - Posse na Sessão Preparatória\",\"email\":null,\"id\":178860,\"idLegislatura\":55,\"nome\":\"PAULO AZI\",\"nomeEleitoral\":\"PAULO AZI\",\"siglaPartido\":\"DEM\",\"siglaUf\":\"BA\",\"situacao\":\"Exercício\",\"uri\":\"https://dadosabertos.camara.leg.br/api/v2/deputados/178860\",\"uriPartido\":\"https://dadosabertos.camara.leg.br/api/v2/partidos/36769\",\"urlFoto\":\"https://www.camara.leg.br/internet/deputado/bandep/178860.jpg\"},{\"condicaoEleitoral\":\"Titular\",\"dataHora\":\"2019-01-31T23:59\",\"descricaoStatus\":\"Saída - Afastamento definitivo - Término da Legislatura\",\"email\":null,\"id\":178860,\"idLegislatura\":55,\"nome\":\"PAULO AZI\",\"nomeEleitoral\":\"PAULO AZI\",\"siglaPartido\":\"DEM\",\"siglaUf\":\"BA\",\"situacao\":\"Fim de Mandato\",\"uri\":\"https://dadosabertos.camara.leg.br/api/v2/deputados/178860\",\"uriPartido\":\"https://dadosabertos.camara.leg.br/api/v2/partidos/36769\",\"urlFoto\":\"https://www.camara.leg.br/internet/deputado/bandep/178860.jpg\"},{\"condicaoEleitoral\":\"Titular\",\"dataHora\":\"2019-02-01T00:00\",\"descricaoStatus\":\"Nome no início da legislatura / Partido no início da legislatura\",\"email\":null,\"id\":178860,\"idLegislatura\":56,\"nome\":\"Paulo Azi\",\"nomeEleitoral\":\"Paulo Azi\",\"siglaPartido\":\"DEM\",\"siglaUf\":\"BA\",\"situacao\":\"Exercício\",\"uri\":\"https://dadosabertos.camara.leg.br/api/v2/deputados/178860\",\"uriPartido\":\"https://dadosabertos.camara.leg.br/api/v2/partidos/36769\",\"urlFoto\":\"https://www.camara.leg.br/internet/deputado/bandep/178860.jpg\"},{\"condicaoEleitoral\":\"Titular\",\"dataHora\":\"2019-02-01T11:45\",\"descricaoStatus\":\"Entrada - Posse de Eleito Titular - Posse na Sessão Preparatória\",\"email\":null,\"id\":178860,\"idLegislatura\":56,\"nome\":\"Paulo Azi\",\"nomeEleitoral\":\"Paulo Azi\",\"siglaPartido\":\"DEM\",\"siglaUf\":\"BA\",\"situacao\":\"Exercício\",\"uri\":\"https://dadosabertos.camara.leg.br/api/v2/deputados/178860\",\"uriPartido\":\"https://dadosabertos.camara.leg.br/api/v2/partidos/36769\",\"urlFoto\":\"https://www.camara.leg.br/internet/deputado/bandep/178860.jpg\"},{\"condicaoEleitoral\":\"Titular\",\"dataHora\":\"2022-02-23T00:00\",\"descricaoStatus\":\"Alteração de partido\",\"email\":null,\"id\":178860,\"idLegislatura\":56,\"nome\":\"Paulo Azi\",\"nomeEleitoral\":\"Paulo Azi\",\"siglaPartido\":\"UNIÃO\",\"siglaUf\":\"BA\",\"situacao\":\"Exercício\",\"uri\":\"https://dadosabertos.camara.leg.br/api/v2/deputados/178860\",\"uriPartido\":\"https://dadosabertos.camara.leg.br/api/v2/partidos/38009\",\"urlFoto\":\"https://www.camara.leg.br/internet/deputado/bandep/178860.jpg\"},{\"condicaoEleitoral\":\"Titular\",\"dataHora\":\"2023-01-31T23:59\",\"descricaoStatus\":\"Saída - Afastamento definitivo - Término da Legislatura\",\"email\":null,\"id\":178860,\"idLegislatura\":56,\"nome\":\"Paulo Azi\",\"nomeEleitoral\":\"Paulo Azi\",\"siglaPartido\":\"UNIÃO\",\"siglaUf\":\"BA\",\"situacao\":\"Fim de Mandato\",\"uri\":\"https://dadosabertos.camara.leg.br/api/v2/deputados/178860\",\"uriPartido\":\"https://dadosabertos.camara.leg.br/api/v2/partidos/38009\",\"urlFoto\":\"https://www.camara.leg.br/internet/deputado/bandep/178860.jpg\"},{\"condicaoEleitoral\":\"Titular\",\"dataHora\":\"2023-02-01T00:00\",\"descricaoStatus\":\"Nome no início da legislatura / Partido no início da legislatura\",\"email\":null,\"id\":178860,\"idLegislatura\":57,\"nome\":\"Paulo Azi\",\"nomeEleitoral\":\"Paulo Azi\",\"siglaPartido\":\"UNIÃO\",\"siglaUf\":\"BA\",\"situacao\":\"Exercício\",\"uri\":\"https://dadosabertos.camara.leg.br/api/v2/deputados/178860\",\"uriPartido\":\"https://dadosabertos.camara.leg.br/api/v2/partidos/38009\",\"urlFoto\":\"https://www.camara.leg.br/internet/deputado/bandep/178860.jpg\"},{\"condicaoEleitoral\":\"Titular\",\"dataHora\":\"2023-02-01T12:05\",\"descricaoStatus\":\"Entrada - Posse de Eleito Titular - Posse na Sessão Preparatória\",\"email\":null,\"id\":178860,\"idLegislatura\":57,\"nome\":\"Paulo Azi\",\"nomeEleitoral\":\"Paulo Azi\",\"siglaPartido\":\"UNIÃO\",\"siglaUf\":\"BA\",\"situacao\":\"Exercício\",\"uri\":\"https://dadosabertos.camara.leg.br/api/v2/deputados/178860\",\"uriPartido\":\"https://dadosabertos.camara.leg.br/api/v2/partidos/38009\",\"urlFoto\":\"https://www.camara.leg.br/internet/deputado/bandep/178860.jpg\"}]}</td>\n",
       "            <td>da6e1c2d0c0357910286162fbd29a2a08d48dc1ab187bba27697be13ea224d69</td>\n",
       "            <td>2015</td>\n",
       "        </tr>\n",
       "    </tbody>\n",
       "</table>"
      ],
      "text/plain": [
       "+--------+---------------------+--------+-------------------------------------------------------------------------------------------------------------------------------------------------------+-----------------------------------------------------------------------------------------------------------------------------------------------------------------------------------------------------------------------------------------------------------------------------------------------------------------------------------------------------------------------------------------------------------------------------------------------------------------------------------------------------------------------------------------------------------------------------------------------------------------------------------------------------------------------------------------------------------------------------------------------------------------------------------------------------------------------------------------------------------------------------------------------------------------------------------------------------------------------------------------------------------------------------------------------------------------------------------------------------------------------------------------------------------------------------------------------------------------------------------------------------------------------------------------------------------------------------------------------------------------------------------------------------------------------------------------------------------------------------------------------------------------------------------------------------------------------------------------------------------------------------------------------------------------------------------------------------------------------------------------------------------------------------------------------------------------------------------------------------------------------------------------------------------------------------------------------------------------------------------------------------------------------------------------------------------------------------------------------------------------------------------------------------------------------------------------------------------------------------------------------------------------------------------------------------------------------------------------------------------------------------------------------------------------------------------------------------------------------------------------------------------------------------------------------------------------------------------------------------------------------------------------------------------------------------------------------------------------------------------------------------------------------------------------------------------------------------------------------------------------------------------------------------------------------------------------------------------------------------------------------------------------------------------------------------------------------------------------------------------------------------------------------------------------------------------------------------------------------------------------------------------------------------------------------------------------------------------------------------------------------------------------------------------------------------------------------------------------------------------------------------------------------------------------------------------------------------------------------------------------------------------------------------------------------------------------------------------------------------------------------------------------------------------------------------------------------------------------------------------------------------------------------------------------------------------------------------------------------------------------------------------------------------------------------------------------------------------------------------------------------------------------------------------------------------------------------------------------------------------------------------------------------------------------------------------------------------------------------------------------------------------------------------------------------------------------------------------------------------------------------------------------------------------------------------------------------------------------------------------------------------------------------------------------------------------------------------------------------------------------------+------------------------------------------------------------------+------+\n",
       "| source |        entity       |   id   |                                                                          url                                                                          |                                                                                                                                                                                                                                                                                                                                                                                                                                                                                                                                                                                                                                                                                                                                                                                                                                                                                                                                                                                                                                                                                                                                                                                                                                                                                                                                                                                                                                                                                                                                                                                                                                                                                                                                                                                                                                                                                                                                                                                                                                                                                                                                                                                                                                                                                                                                                                  payload_json                                                                                                                                                                                                                                                                                                                                                                                                                                                                                                                                                                                                                                                                                                                                                                                                                                                                                                                                                                                                                                                                                                                                                                                                                                                                                                                                                                                                                                                                                                                                                                                                                                                                                                                                                                                                                                                                                                                                                                                                                                                                                                                                                                                                                                                                                                                                                                 |                          payload_sha256                          | year |\n",
       "+--------+---------------------+--------+-------------------------------------------------------------------------------------------------------------------------------------------------------+-----------------------------------------------------------------------------------------------------------------------------------------------------------------------------------------------------------------------------------------------------------------------------------------------------------------------------------------------------------------------------------------------------------------------------------------------------------------------------------------------------------------------------------------------------------------------------------------------------------------------------------------------------------------------------------------------------------------------------------------------------------------------------------------------------------------------------------------------------------------------------------------------------------------------------------------------------------------------------------------------------------------------------------------------------------------------------------------------------------------------------------------------------------------------------------------------------------------------------------------------------------------------------------------------------------------------------------------------------------------------------------------------------------------------------------------------------------------------------------------------------------------------------------------------------------------------------------------------------------------------------------------------------------------------------------------------------------------------------------------------------------------------------------------------------------------------------------------------------------------------------------------------------------------------------------------------------------------------------------------------------------------------------------------------------------------------------------------------------------------------------------------------------------------------------------------------------------------------------------------------------------------------------------------------------------------------------------------------------------------------------------------------------------------------------------------------------------------------------------------------------------------------------------------------------------------------------------------------------------------------------------------------------------------------------------------------------------------------------------------------------------------------------------------------------------------------------------------------------------------------------------------------------------------------------------------------------------------------------------------------------------------------------------------------------------------------------------------------------------------------------------------------------------------------------------------------------------------------------------------------------------------------------------------------------------------------------------------------------------------------------------------------------------------------------------------------------------------------------------------------------------------------------------------------------------------------------------------------------------------------------------------------------------------------------------------------------------------------------------------------------------------------------------------------------------------------------------------------------------------------------------------------------------------------------------------------------------------------------------------------------------------------------------------------------------------------------------------------------------------------------------------------------------------------------------------------------------------------------------------------------------------------------------------------------------------------------------------------------------------------------------------------------------------------------------------------------------------------------------------------------------------------------------------------------------------------------------------------------------------------------------------------------------------------------------------------------------------------------------------------+------------------------------------------------------------------+------+\n",
       "| camara | deputados/historico | 178860 | <a href=https://dadosabertos.camara.leg.br/api/v2/deputados/178860/historico>https://dadosabertos.camara.leg.br/api/v2/deputados/178860/historico</a> | {\"dados\":[{\"condicaoEleitoral\":\"Titular\",\"dataHora\":\"2015-02-01T00:00\",\"descricaoStatus\":\"Nome no início da legislatura / Partido no início da legislatura\",\"email\":null,\"id\":178860,\"idLegislatura\":55,\"nome\":\"PAULO AZI\",\"nomeEleitoral\":\"PAULO AZI\",\"siglaPartido\":\"DEM\",\"siglaUf\":\"BA\",\"situacao\":\"Exercício\",\"uri\":\"https://dadosabertos.camara.leg.br/api/v2/deputados/178860\",\"uriPartido\":\"https://dadosabertos.camara.leg.br/api/v2/partidos/36769\",\"urlFoto\":\"https://www.camara.leg.br/internet/deputado/bandep/178860.jpg\"},{\"condicaoEleitoral\":\"Titular\",\"dataHora\":\"2015-02-01T10:00\",\"descricaoStatus\":\"Entrada - Posse de Eleito Titular - Posse na Sessão Preparatória\",\"email\":null,\"id\":178860,\"idLegislatura\":55,\"nome\":\"PAULO AZI\",\"nomeEleitoral\":\"PAULO AZI\",\"siglaPartido\":\"DEM\",\"siglaUf\":\"BA\",\"situacao\":\"Exercício\",\"uri\":\"https://dadosabertos.camara.leg.br/api/v2/deputados/178860\",\"uriPartido\":\"https://dadosabertos.camara.leg.br/api/v2/partidos/36769\",\"urlFoto\":\"https://www.camara.leg.br/internet/deputado/bandep/178860.jpg\"},{\"condicaoEleitoral\":\"Titular\",\"dataHora\":\"2019-01-31T23:59\",\"descricaoStatus\":\"Saída - Afastamento definitivo - Término da Legislatura\",\"email\":null,\"id\":178860,\"idLegislatura\":55,\"nome\":\"PAULO AZI\",\"nomeEleitoral\":\"PAULO AZI\",\"siglaPartido\":\"DEM\",\"siglaUf\":\"BA\",\"situacao\":\"Fim de Mandato\",\"uri\":\"https://dadosabertos.camara.leg.br/api/v2/deputados/178860\",\"uriPartido\":\"https://dadosabertos.camara.leg.br/api/v2/partidos/36769\",\"urlFoto\":\"https://www.camara.leg.br/internet/deputado/bandep/178860.jpg\"},{\"condicaoEleitoral\":\"Titular\",\"dataHora\":\"2019-02-01T00:00\",\"descricaoStatus\":\"Nome no início da legislatura / Partido no início da legislatura\",\"email\":null,\"id\":178860,\"idLegislatura\":56,\"nome\":\"Paulo Azi\",\"nomeEleitoral\":\"Paulo Azi\",\"siglaPartido\":\"DEM\",\"siglaUf\":\"BA\",\"situacao\":\"Exercício\",\"uri\":\"https://dadosabertos.camara.leg.br/api/v2/deputados/178860\",\"uriPartido\":\"https://dadosabertos.camara.leg.br/api/v2/partidos/36769\",\"urlFoto\":\"https://www.camara.leg.br/internet/deputado/bandep/178860.jpg\"},{\"condicaoEleitoral\":\"Titular\",\"dataHora\":\"2019-02-01T11:45\",\"descricaoStatus\":\"Entrada - Posse de Eleito Titular - Posse na Sessão Preparatória\",\"email\":null,\"id\":178860,\"idLegislatura\":56,\"nome\":\"Paulo Azi\",\"nomeEleitoral\":\"Paulo Azi\",\"siglaPartido\":\"DEM\",\"siglaUf\":\"BA\",\"situacao\":\"Exercício\",\"uri\":\"https://dadosabertos.camara.leg.br/api/v2/deputados/178860\",\"uriPartido\":\"https://dadosabertos.camara.leg.br/api/v2/partidos/36769\",\"urlFoto\":\"https://www.camara.leg.br/internet/deputado/bandep/178860.jpg\"},{\"condicaoEleitoral\":\"Titular\",\"dataHora\":\"2022-02-23T00:00\",\"descricaoStatus\":\"Alteração de partido\",\"email\":null,\"id\":178860,\"idLegislatura\":56,\"nome\":\"Paulo Azi\",\"nomeEleitoral\":\"Paulo Azi\",\"siglaPartido\":\"UNIÃO\",\"siglaUf\":\"BA\",\"situacao\":\"Exercício\",\"uri\":\"https://dadosabertos.camara.leg.br/api/v2/deputados/178860\",\"uriPartido\":\"https://dadosabertos.camara.leg.br/api/v2/partidos/38009\",\"urlFoto\":\"https://www.camara.leg.br/internet/deputado/bandep/178860.jpg\"},{\"condicaoEleitoral\":\"Titular\",\"dataHora\":\"2023-01-31T23:59\",\"descricaoStatus\":\"Saída - Afastamento definitivo - Término da Legislatura\",\"email\":null,\"id\":178860,\"idLegislatura\":56,\"nome\":\"Paulo Azi\",\"nomeEleitoral\":\"Paulo Azi\",\"siglaPartido\":\"UNIÃO\",\"siglaUf\":\"BA\",\"situacao\":\"Fim de Mandato\",\"uri\":\"https://dadosabertos.camara.leg.br/api/v2/deputados/178860\",\"uriPartido\":\"https://dadosabertos.camara.leg.br/api/v2/partidos/38009\",\"urlFoto\":\"https://www.camara.leg.br/internet/deputado/bandep/178860.jpg\"},{\"condicaoEleitoral\":\"Titular\",\"dataHora\":\"2023-02-01T00:00\",\"descricaoStatus\":\"Nome no início da legislatura / Partido no início da legislatura\",\"email\":null,\"id\":178860,\"idLegislatura\":57,\"nome\":\"Paulo Azi\",\"nomeEleitoral\":\"Paulo Azi\",\"siglaPartido\":\"UNIÃO\",\"siglaUf\":\"BA\",\"situacao\":\"Exercício\",\"uri\":\"https://dadosabertos.camara.leg.br/api/v2/deputados/178860\",\"uriPartido\":\"https://dadosabertos.camara.leg.br/api/v2/partidos/38009\",\"urlFoto\":\"https://www.camara.leg.br/internet/deputado/bandep/178860.jpg\"},{\"condicaoEleitoral\":\"Titular\",\"dataHora\":\"2023-02-01T12:05\",\"descricaoStatus\":\"Entrada - Posse de Eleito Titular - Posse na Sessão Preparatória\",\"email\":null,\"id\":178860,\"idLegislatura\":57,\"nome\":\"Paulo Azi\",\"nomeEleitoral\":\"Paulo Azi\",\"siglaPartido\":\"UNIÃO\",\"siglaUf\":\"BA\",\"situacao\":\"Exercício\",\"uri\":\"https://dadosabertos.camara.leg.br/api/v2/deputados/178860\",\"uriPartido\":\"https://dadosabertos.camara.leg.br/api/v2/partidos/38009\",\"urlFoto\":\"https://www.camara.leg.br/internet/deputado/bandep/178860.jpg\"}]} | da6e1c2d0c0357910286162fbd29a2a08d48dc1ab187bba27697be13ea224d69 | 2015 |\n",
       "+--------+---------------------+--------+-------------------------------------------------------------------------------------------------------------------------------------------------------+-----------------------------------------------------------------------------------------------------------------------------------------------------------------------------------------------------------------------------------------------------------------------------------------------------------------------------------------------------------------------------------------------------------------------------------------------------------------------------------------------------------------------------------------------------------------------------------------------------------------------------------------------------------------------------------------------------------------------------------------------------------------------------------------------------------------------------------------------------------------------------------------------------------------------------------------------------------------------------------------------------------------------------------------------------------------------------------------------------------------------------------------------------------------------------------------------------------------------------------------------------------------------------------------------------------------------------------------------------------------------------------------------------------------------------------------------------------------------------------------------------------------------------------------------------------------------------------------------------------------------------------------------------------------------------------------------------------------------------------------------------------------------------------------------------------------------------------------------------------------------------------------------------------------------------------------------------------------------------------------------------------------------------------------------------------------------------------------------------------------------------------------------------------------------------------------------------------------------------------------------------------------------------------------------------------------------------------------------------------------------------------------------------------------------------------------------------------------------------------------------------------------------------------------------------------------------------------------------------------------------------------------------------------------------------------------------------------------------------------------------------------------------------------------------------------------------------------------------------------------------------------------------------------------------------------------------------------------------------------------------------------------------------------------------------------------------------------------------------------------------------------------------------------------------------------------------------------------------------------------------------------------------------------------------------------------------------------------------------------------------------------------------------------------------------------------------------------------------------------------------------------------------------------------------------------------------------------------------------------------------------------------------------------------------------------------------------------------------------------------------------------------------------------------------------------------------------------------------------------------------------------------------------------------------------------------------------------------------------------------------------------------------------------------------------------------------------------------------------------------------------------------------------------------------------------------------------------------------------------------------------------------------------------------------------------------------------------------------------------------------------------------------------------------------------------------------------------------------------------------------------------------------------------------------------------------------------------------------------------------------------------------------------------------------------------------------------------------------------------------------+------------------------------------------------------------------+------+"
      ]
     },
     "execution_count": 61,
     "metadata": {},
     "output_type": "execute_result"
    }
   ],
   "source": [
    "%%sql\n",
    "SELECT * FROM bronze_camara_deputados_historico LIMIT 1;"
   ]
  },
  {
   "cell_type": "code",
   "execution_count": 62,
   "id": "983ceb35",
   "metadata": {
    "vscode": {
     "languageId": "sql"
    }
   },
   "outputs": [
    {
     "data": {
      "text/html": [
       "<span style=\"None\">Running query in &#x27;duck&#x27;</span>"
      ],
      "text/plain": [
       "Running query in 'duck'"
      ]
     },
     "metadata": {},
     "output_type": "display_data"
    },
    {
     "data": {
      "text/html": [
       "<table>\n",
       "    <thead>\n",
       "        <tr>\n",
       "            <th>Count</th>\n",
       "        </tr>\n",
       "    </thead>\n",
       "    <tbody>\n",
       "        <tr>\n",
       "            <td>500</td>\n",
       "        </tr>\n",
       "    </tbody>\n",
       "</table>"
      ],
      "text/plain": [
       "+-------+\n",
       "| Count |\n",
       "+-------+\n",
       "|  500  |\n",
       "+-------+"
      ]
     },
     "execution_count": 62,
     "metadata": {},
     "output_type": "execute_result"
    }
   ],
   "source": [
    "%%sql\n",
    "DROP TABLE IF EXISTS deputados_historico_camara;\n",
    "\n",
    "CREATE TABLE deputados_historico_camara AS\n",
    "WITH base AS (\n",
    "  SELECT\n",
    "    TRY_CAST(payload_json AS JSON) AS j,\n",
    "    year AS year_snapshot,\n",
    "    id AS id_deputado\n",
    "  FROM bronze_camara_deputados_historico\n",
    "),\n",
    "exploded AS (\n",
    "  SELECT\n",
    "    json_extract_string(e.value, '$.condicaoEleitoral') AS condicao_eleitoral,\n",
    "    CAST(json_extract_string(e.value, '$.dataHora') AS DATETIME) AS data_hora,\n",
    "    json_extract_string(e.value, '$.descricaoStatus') AS descricao_status,\n",
    "    CAST(json_extract_string(e.value, '$.idLegislatura') AS BIGINT) AS id_legislatura,\n",
    "    json_extract_string(e.value, '$.situacao') AS situacao,\n",
    "    CAST(b.id_deputado AS BIGINT) AS id_deputado,\n",
    "    b.year_snapshot\n",
    "  FROM base b\n",
    "  CROSS JOIN json_each(b.j, '$.dados') AS e\n",
    ")\n",
    "SELECT\n",
    "    id_deputado,\n",
    "    id_legislatura,\n",
    "    data_hora,\n",
    "    condicao_eleitoral,\n",
    "    descricao_status,\n",
    "    year_snapshot,\n",
    "FROM exploded;\n"
   ]
  },
  {
   "cell_type": "code",
   "execution_count": 63,
   "id": "06261cbb",
   "metadata": {
    "vscode": {
     "languageId": "sql"
    }
   },
   "outputs": [
    {
     "data": {
      "text/html": [
       "<span style=\"None\">Running query in &#x27;duck&#x27;</span>"
      ],
      "text/plain": [
       "Running query in 'duck'"
      ]
     },
     "metadata": {},
     "output_type": "display_data"
    },
    {
     "data": {
      "text/html": [
       "<table>\n",
       "    <thead>\n",
       "        <tr>\n",
       "            <th>id_deputado</th>\n",
       "            <th>id_legislatura</th>\n",
       "            <th>data_hora</th>\n",
       "            <th>condicao_eleitoral</th>\n",
       "            <th>descricao_status</th>\n",
       "            <th>year_snapshot</th>\n",
       "        </tr>\n",
       "    </thead>\n",
       "    <tbody>\n",
       "        <tr>\n",
       "            <td>178860</td>\n",
       "            <td>57</td>\n",
       "            <td>2023-02-01 12:05:00</td>\n",
       "            <td>Titular</td>\n",
       "            <td>Entrada - Posse de Eleito Titular - Posse na Sessão Preparatória</td>\n",
       "            <td>2015</td>\n",
       "        </tr>\n",
       "        <tr>\n",
       "            <td>122974</td>\n",
       "            <td>57</td>\n",
       "            <td>2023-02-01 12:05:00</td>\n",
       "            <td>Titular</td>\n",
       "            <td>Entrada - Posse de Eleito Titular - Posse na Sessão Preparatória</td>\n",
       "            <td>2019</td>\n",
       "        </tr>\n",
       "        <tr>\n",
       "            <td>204395</td>\n",
       "            <td>57</td>\n",
       "            <td>2023-02-01 12:05:00</td>\n",
       "            <td>Titular</td>\n",
       "            <td>Entrada - Posse de Eleito Titular - Posse na Sessão Preparatória</td>\n",
       "            <td>2019</td>\n",
       "        </tr>\n",
       "        <tr>\n",
       "            <td>204406</td>\n",
       "            <td>57</td>\n",
       "            <td>2023-02-01 12:05:00</td>\n",
       "            <td>Titular</td>\n",
       "            <td>Entrada - Posse de Eleito Titular - Posse na Sessão Preparatória</td>\n",
       "            <td>2019</td>\n",
       "        </tr>\n",
       "        <tr>\n",
       "            <td>204492</td>\n",
       "            <td>57</td>\n",
       "            <td>2023-02-01 12:05:00</td>\n",
       "            <td>Titular</td>\n",
       "            <td>Entrada - Posse de Eleito Titular - Posse na Sessão Preparatória</td>\n",
       "            <td>2019</td>\n",
       "        </tr>\n",
       "    </tbody>\n",
       "</table>"
      ],
      "text/plain": [
       "+-------------+----------------+---------------------+--------------------+------------------------------------------------------------------+---------------+\n",
       "| id_deputado | id_legislatura |      data_hora      | condicao_eleitoral |                         descricao_status                         | year_snapshot |\n",
       "+-------------+----------------+---------------------+--------------------+------------------------------------------------------------------+---------------+\n",
       "|    178860   |       57       | 2023-02-01 12:05:00 |      Titular       | Entrada - Posse de Eleito Titular - Posse na Sessão Preparatória |      2015     |\n",
       "|    122974   |       57       | 2023-02-01 12:05:00 |      Titular       | Entrada - Posse de Eleito Titular - Posse na Sessão Preparatória |      2019     |\n",
       "|    204395   |       57       | 2023-02-01 12:05:00 |      Titular       | Entrada - Posse de Eleito Titular - Posse na Sessão Preparatória |      2019     |\n",
       "|    204406   |       57       | 2023-02-01 12:05:00 |      Titular       | Entrada - Posse de Eleito Titular - Posse na Sessão Preparatória |      2019     |\n",
       "|    204492   |       57       | 2023-02-01 12:05:00 |      Titular       | Entrada - Posse de Eleito Titular - Posse na Sessão Preparatória |      2019     |\n",
       "+-------------+----------------+---------------------+--------------------+------------------------------------------------------------------+---------------+"
      ]
     },
     "execution_count": 63,
     "metadata": {},
     "output_type": "execute_result"
    }
   ],
   "source": [
    "%%sql\n",
    "SELECT * FROM deputados_historico_camara LIMIT 5;"
   ]
  },
  {
   "cell_type": "markdown",
   "id": "c122094e",
   "metadata": {},
   "source": [
    "### Deputados e órgãos"
   ]
  },
  {
   "cell_type": "code",
   "execution_count": 64,
   "id": "1d8d62dc",
   "metadata": {
    "vscode": {
     "languageId": "sql"
    }
   },
   "outputs": [
    {
     "data": {
      "text/html": [
       "<span style=\"None\">Running query in &#x27;duck&#x27;</span>"
      ],
      "text/plain": [
       "Running query in 'duck'"
      ]
     },
     "metadata": {},
     "output_type": "display_data"
    },
    {
     "data": {
      "text/html": [
       "<table>\n",
       "    <thead>\n",
       "        <tr>\n",
       "            <th>n</th>\n",
       "        </tr>\n",
       "    </thead>\n",
       "    <tbody>\n",
       "        <tr>\n",
       "            <td>183</td>\n",
       "        </tr>\n",
       "    </tbody>\n",
       "</table>"
      ],
      "text/plain": [
       "+-----+\n",
       "|  n  |\n",
       "+-----+\n",
       "| 183 |\n",
       "+-----+"
      ]
     },
     "execution_count": 64,
     "metadata": {},
     "output_type": "execute_result"
    }
   ],
   "source": [
    "%%sql\n",
    "CREATE OR REPLACE VIEW bronze_camara_deputados_orgaos AS\n",
    "SELECT * FROM parquet_scan(\"data/bronze/snapshots/bronze-2020-smoke/camara/deputados/orgaos/year=*/part-*.parquet\")\n",
    "WHERE source = 'camara' AND entity = 'deputados/orgaos';\n",
    "\n",
    "SELECT COUNT(*) AS n FROM bronze_camara_deputados_orgaos;"
   ]
  },
  {
   "cell_type": "code",
   "execution_count": 65,
   "id": "8f9e8009",
   "metadata": {
    "vscode": {
     "languageId": "sql"
    }
   },
   "outputs": [
    {
     "data": {
      "text/html": [
       "<span style=\"None\">Running query in &#x27;duck&#x27;</span>"
      ],
      "text/plain": [
       "Running query in 'duck'"
      ]
     },
     "metadata": {},
     "output_type": "display_data"
    },
    {
     "data": {
      "text/html": [
       "<table>\n",
       "    <thead>\n",
       "        <tr>\n",
       "            <th>source</th>\n",
       "            <th>entity</th>\n",
       "            <th>id</th>\n",
       "            <th>url</th>\n",
       "            <th>payload_json</th>\n",
       "            <th>payload_sha256</th>\n",
       "            <th>year</th>\n",
       "        </tr>\n",
       "    </thead>\n",
       "    <tbody>\n",
       "        <tr>\n",
       "            <td>camara</td>\n",
       "            <td>deputados/orgaos</td>\n",
       "            <td>66385</td>\n",
       "            <td><a href=https://dadosabertos.camara.leg.br/api/v2/deputados/66385/orgaos>https://dadosabertos.camara.leg.br/api/v2/deputados/66385/orgaos</a></td>\n",
       "            <td>{\"dados\":[{\"codTitulo\":\"101\",\"dataFim\":null,\"dataInicio\":\"2023-11-02T00:00\",\"idOrgao\":539644,\"nomeOrgao\":\"Bancada Negra da Câmara dos Deputados, criada pela Resolução n. 6, de 2023, que acresceu ao Regimento Interno da Câmara dos Deputados o Capítulo VI, do Título I, com os artigos 13-A e 13-B\",\"nomePublicacao\":null,\"siglaOrgao\":\"BANEGRA\",\"titulo\":\"Titular\",\"uriOrgao\":\"https://dadosabertos.camara.leg.br/api/v2/orgaos/539644\"},{\"codTitulo\":\"101\",\"dataFim\":null,\"dataInicio\":\"2024-02-07T00:00\",\"idOrgao\":539635,\"nomeOrgao\":\"Comissão Especial destinada a estudar e analisar formas de prevenção e auxílio a desastres e calamidades naturais que vêm assolando o Território Nacional\",\"nomePublicacao\":\"Comissão Especial sobre Prevenção e Auxílio a Desastres e Calamidades Naturais\",\"siglaOrgao\":\"CEDESNAT\",\"titulo\":\"Titular\",\"uriOrgao\":\"https://dadosabertos.camara.leg.br/api/v2/orgaos/539635\"},{\"codTitulo\":\"101\",\"dataFim\":null,\"dataInicio\":\"2025-03-18T00:00\",\"idOrgao\":6066,\"nomeOrgao\":\"Comissão de Turismo\",\"nomePublicacao\":\"Comissão de Turismo\",\"siglaOrgao\":\"CTUR\",\"titulo\":\"Titular\",\"uriOrgao\":\"https://dadosabertos.camara.leg.br/api/v2/orgaos/6066\"},{\"codTitulo\":\"101\",\"dataFim\":null,\"dataInicio\":\"2025-03-18T00:00\",\"idOrgao\":537236,\"nomeOrgao\":\"Comissão do Esporte\",\"nomePublicacao\":\"Comissão do Esporte\",\"siglaOrgao\":\"CESPO\",\"titulo\":\"Titular\",\"uriOrgao\":\"https://dadosabertos.camara.leg.br/api/v2/orgaos/537236\"},{\"codTitulo\":\"101\",\"dataFim\":null,\"dataInicio\":\"2025-04-29T00:00\",\"idOrgao\":539687,\"nomeOrgao\":\"Subcomissão Permanente de Regulação de Apostas Esportivas\",\"nomePublicacao\":\"Subcomissão Permanente de Regulação de Apostas Esportivas (CESPO/SUBAPOST)\",\"siglaOrgao\":\"SUBAPOST\",\"titulo\":\"Titular\",\"uriOrgao\":\"https://dadosabertos.camara.leg.br/api/v2/orgaos/539687\"},{\"codTitulo\":\"102\",\"dataFim\":null,\"dataInicio\":\"2025-04-29T00:00\",\"idOrgao\":539771,\"nomeOrgao\":\"Comissão Especial destinada a proferir parecer ao Projeto de Lei nº 1087, de 2025, do Poder Executivo, que \\\"altera a legislação do imposto sobre a renda para instituir a redução do imposto devido nas bases de cálculo mensal e anual e a tributação mínima para as pessoas físicas que auferem altas rendas, e dá outras providências\\\"\",\"nomePublicacao\":\"Comissão Especial sobre Alteração da Legislação do Imposto de Renda (PL 1087/25)\",\"siglaOrgao\":\"PL108725\",\"titulo\":\"Suplente\",\"uriOrgao\":\"https://dadosabertos.camara.leg.br/api/v2/orgaos/539771\"},{\"codTitulo\":\"101\",\"dataFim\":null,\"dataInicio\":\"2025-05-08T00:00\",\"idOrgao\":539772,\"nomeOrgao\":\"Comissão Especial destinada a proferir parecer ao Projeto de Lei Complementar nº 234, de 2024, do Sr. Felipe Carreras, que \\\"dispõe sobre incentivos e benefícios para fomentar as atividades de caráter desportivo e dá outras providências\\\"\",\"nomePublicacao\":\"Comissão Especial da Lei de Incentivo ao Esporte (PLP 234/24)\",\"siglaOrgao\":\"PLP23424\",\"titulo\":\"Titular\",\"uriOrgao\":\"https://dadosabertos.camara.leg.br/api/v2/orgaos/539772\"},{\"codTitulo\":\"101\",\"dataFim\":null,\"dataInicio\":\"2025-06-30T00:00\",\"idOrgao\":5971,\"nomeOrgao\":\"Conselho de Ética e Decoro Parlamentar da Câmara dos Deputados\",\"nomePublicacao\":\"Conselho de Ética e Decoro Parlamentar\",\"siglaOrgao\":\"COETICA\",\"titulo\":\"Titular\",\"uriOrgao\":\"https://dadosabertos.camara.leg.br/api/v2/orgaos/5971\"}]}</td>\n",
       "            <td>6163d285a5b457d667967233b25944c3827819ecf5841936dbfa016005f2351e</td>\n",
       "            <td>2023</td>\n",
       "        </tr>\n",
       "    </tbody>\n",
       "</table>"
      ],
      "text/plain": [
       "+--------+------------------+-------+-----------------------------------------------------------------------------------------------------------------------------------------------+-------------------------------------------------------------------------------------------------------------------------------------------------------------------------------------------------------------------------------------------------------------------------------------------------------------------------------------------------------------------------------------------------------------------------------------------------------------------------------------------------------------------------------------------------------------------------------------------------------------------------------------------------------------------------------------------------------------------------------------------------------------------------------------------------------------------------------------------------------------------------------------------------------------------------------------------------------------------------------------------------------------------------------------------------------------------------------------------------------------------------------------------------------------------------------------------------------------------------------------------------------------------------------------------------------------------------------------------------------------------------------------------------------------------------------------------------------------------------------------------------------------------------------------------------------------------------------------------------------------------------------------------------------------------------------------------------------------------------------------------------------------------------------------------------------------------------------------------------------------------------------------------------------------------------------------------------------------------------------------------------------------------------------------------------------------------------------------------------------------------------------------------------------------------------------------------------------------------------------------------------------------------------------------------------------------------------------------------------------------------------------------------------------------------------------------------------------------------------------------------------------------------------------------------------------------------------------------------------------------------------------------------------------------------------------------------------------------------------------------------------------------------------------------------------------------------------------------------------------------------------------------------------------------------------------------------------------------------------------------------------------------------------------------------------------------------------------------------------------------------------------------------------------------------------------------------------------------------------------------------------------------------------------------------------------------------------------------------------------------------------------------------------------------------+------------------------------------------------------------------+------+\n",
       "| source |      entity      |   id  |                                                                      url                                                                      |                                                                                                                                                                                                                                                                                                                                                                                                                                                                                                                                                                                                                                                                                                                                                                                                                                                                                                                                                                                                                                                                                                                                                                                                                                                                                                                                                                                                                                                                                                                                                                                                                                                                                                    payload_json                                                                                                                                                                                                                                                                                                                                                                                                                                                                                                                                                                                                                                                                                                                                                                                                                                                                                                                                                                                                                                                                                                                                                                                                                                                                                                                                                                                                                                                                                                                                                                                                                                                                                                   |                          payload_sha256                          | year |\n",
       "+--------+------------------+-------+-----------------------------------------------------------------------------------------------------------------------------------------------+-------------------------------------------------------------------------------------------------------------------------------------------------------------------------------------------------------------------------------------------------------------------------------------------------------------------------------------------------------------------------------------------------------------------------------------------------------------------------------------------------------------------------------------------------------------------------------------------------------------------------------------------------------------------------------------------------------------------------------------------------------------------------------------------------------------------------------------------------------------------------------------------------------------------------------------------------------------------------------------------------------------------------------------------------------------------------------------------------------------------------------------------------------------------------------------------------------------------------------------------------------------------------------------------------------------------------------------------------------------------------------------------------------------------------------------------------------------------------------------------------------------------------------------------------------------------------------------------------------------------------------------------------------------------------------------------------------------------------------------------------------------------------------------------------------------------------------------------------------------------------------------------------------------------------------------------------------------------------------------------------------------------------------------------------------------------------------------------------------------------------------------------------------------------------------------------------------------------------------------------------------------------------------------------------------------------------------------------------------------------------------------------------------------------------------------------------------------------------------------------------------------------------------------------------------------------------------------------------------------------------------------------------------------------------------------------------------------------------------------------------------------------------------------------------------------------------------------------------------------------------------------------------------------------------------------------------------------------------------------------------------------------------------------------------------------------------------------------------------------------------------------------------------------------------------------------------------------------------------------------------------------------------------------------------------------------------------------------------------------------------------------------------------------------+------------------------------------------------------------------+------+\n",
       "| camara | deputados/orgaos | 66385 | <a href=https://dadosabertos.camara.leg.br/api/v2/deputados/66385/orgaos>https://dadosabertos.camara.leg.br/api/v2/deputados/66385/orgaos</a> | {\"dados\":[{\"codTitulo\":\"101\",\"dataFim\":null,\"dataInicio\":\"2023-11-02T00:00\",\"idOrgao\":539644,\"nomeOrgao\":\"Bancada Negra da Câmara dos Deputados, criada pela Resolução n. 6, de 2023, que acresceu ao Regimento Interno da Câmara dos Deputados o Capítulo VI, do Título I, com os artigos 13-A e 13-B\",\"nomePublicacao\":null,\"siglaOrgao\":\"BANEGRA\",\"titulo\":\"Titular\",\"uriOrgao\":\"https://dadosabertos.camara.leg.br/api/v2/orgaos/539644\"},{\"codTitulo\":\"101\",\"dataFim\":null,\"dataInicio\":\"2024-02-07T00:00\",\"idOrgao\":539635,\"nomeOrgao\":\"Comissão Especial destinada a estudar e analisar formas de prevenção e auxílio a desastres e calamidades naturais que vêm assolando o Território Nacional\",\"nomePublicacao\":\"Comissão Especial sobre Prevenção e Auxílio a Desastres e Calamidades Naturais\",\"siglaOrgao\":\"CEDESNAT\",\"titulo\":\"Titular\",\"uriOrgao\":\"https://dadosabertos.camara.leg.br/api/v2/orgaos/539635\"},{\"codTitulo\":\"101\",\"dataFim\":null,\"dataInicio\":\"2025-03-18T00:00\",\"idOrgao\":6066,\"nomeOrgao\":\"Comissão de Turismo\",\"nomePublicacao\":\"Comissão de Turismo\",\"siglaOrgao\":\"CTUR\",\"titulo\":\"Titular\",\"uriOrgao\":\"https://dadosabertos.camara.leg.br/api/v2/orgaos/6066\"},{\"codTitulo\":\"101\",\"dataFim\":null,\"dataInicio\":\"2025-03-18T00:00\",\"idOrgao\":537236,\"nomeOrgao\":\"Comissão do Esporte\",\"nomePublicacao\":\"Comissão do Esporte\",\"siglaOrgao\":\"CESPO\",\"titulo\":\"Titular\",\"uriOrgao\":\"https://dadosabertos.camara.leg.br/api/v2/orgaos/537236\"},{\"codTitulo\":\"101\",\"dataFim\":null,\"dataInicio\":\"2025-04-29T00:00\",\"idOrgao\":539687,\"nomeOrgao\":\"Subcomissão Permanente de Regulação de Apostas Esportivas\",\"nomePublicacao\":\"Subcomissão Permanente de Regulação de Apostas Esportivas (CESPO/SUBAPOST)\",\"siglaOrgao\":\"SUBAPOST\",\"titulo\":\"Titular\",\"uriOrgao\":\"https://dadosabertos.camara.leg.br/api/v2/orgaos/539687\"},{\"codTitulo\":\"102\",\"dataFim\":null,\"dataInicio\":\"2025-04-29T00:00\",\"idOrgao\":539771,\"nomeOrgao\":\"Comissão Especial destinada a proferir parecer ao Projeto de Lei nº 1087, de 2025, do Poder Executivo, que \\\"altera a legislação do imposto sobre a renda para instituir a redução do imposto devido nas bases de cálculo mensal e anual e a tributação mínima para as pessoas físicas que auferem altas rendas, e dá outras providências\\\"\",\"nomePublicacao\":\"Comissão Especial sobre Alteração da Legislação do Imposto de Renda (PL 1087/25)\",\"siglaOrgao\":\"PL108725\",\"titulo\":\"Suplente\",\"uriOrgao\":\"https://dadosabertos.camara.leg.br/api/v2/orgaos/539771\"},{\"codTitulo\":\"101\",\"dataFim\":null,\"dataInicio\":\"2025-05-08T00:00\",\"idOrgao\":539772,\"nomeOrgao\":\"Comissão Especial destinada a proferir parecer ao Projeto de Lei Complementar nº 234, de 2024, do Sr. Felipe Carreras, que \\\"dispõe sobre incentivos e benefícios para fomentar as atividades de caráter desportivo e dá outras providências\\\"\",\"nomePublicacao\":\"Comissão Especial da Lei de Incentivo ao Esporte (PLP 234/24)\",\"siglaOrgao\":\"PLP23424\",\"titulo\":\"Titular\",\"uriOrgao\":\"https://dadosabertos.camara.leg.br/api/v2/orgaos/539772\"},{\"codTitulo\":\"101\",\"dataFim\":null,\"dataInicio\":\"2025-06-30T00:00\",\"idOrgao\":5971,\"nomeOrgao\":\"Conselho de Ética e Decoro Parlamentar da Câmara dos Deputados\",\"nomePublicacao\":\"Conselho de Ética e Decoro Parlamentar\",\"siglaOrgao\":\"COETICA\",\"titulo\":\"Titular\",\"uriOrgao\":\"https://dadosabertos.camara.leg.br/api/v2/orgaos/5971\"}]} | 6163d285a5b457d667967233b25944c3827819ecf5841936dbfa016005f2351e | 2023 |\n",
       "+--------+------------------+-------+-----------------------------------------------------------------------------------------------------------------------------------------------+-------------------------------------------------------------------------------------------------------------------------------------------------------------------------------------------------------------------------------------------------------------------------------------------------------------------------------------------------------------------------------------------------------------------------------------------------------------------------------------------------------------------------------------------------------------------------------------------------------------------------------------------------------------------------------------------------------------------------------------------------------------------------------------------------------------------------------------------------------------------------------------------------------------------------------------------------------------------------------------------------------------------------------------------------------------------------------------------------------------------------------------------------------------------------------------------------------------------------------------------------------------------------------------------------------------------------------------------------------------------------------------------------------------------------------------------------------------------------------------------------------------------------------------------------------------------------------------------------------------------------------------------------------------------------------------------------------------------------------------------------------------------------------------------------------------------------------------------------------------------------------------------------------------------------------------------------------------------------------------------------------------------------------------------------------------------------------------------------------------------------------------------------------------------------------------------------------------------------------------------------------------------------------------------------------------------------------------------------------------------------------------------------------------------------------------------------------------------------------------------------------------------------------------------------------------------------------------------------------------------------------------------------------------------------------------------------------------------------------------------------------------------------------------------------------------------------------------------------------------------------------------------------------------------------------------------------------------------------------------------------------------------------------------------------------------------------------------------------------------------------------------------------------------------------------------------------------------------------------------------------------------------------------------------------------------------------------------------------------------------------------------------------------------------+------------------------------------------------------------------+------+"
      ]
     },
     "execution_count": 65,
     "metadata": {},
     "output_type": "execute_result"
    }
   ],
   "source": [
    "%%sql\n",
    "\n",
    "SELECT * FROM bronze_camara_deputados_orgaos LIMIT 1;"
   ]
  },
  {
   "cell_type": "code",
   "execution_count": 66,
   "id": "0c614437",
   "metadata": {
    "vscode": {
     "languageId": "sql"
    }
   },
   "outputs": [
    {
     "data": {
      "text/html": [
       "<span style=\"None\">Running query in &#x27;duck&#x27;</span>"
      ],
      "text/plain": [
       "Running query in 'duck'"
      ]
     },
     "metadata": {},
     "output_type": "display_data"
    },
    {
     "data": {
      "text/html": [
       "<table>\n",
       "    <thead>\n",
       "        <tr>\n",
       "            <th>Count</th>\n",
       "        </tr>\n",
       "    </thead>\n",
       "    <tbody>\n",
       "        <tr>\n",
       "            <td>1390</td>\n",
       "        </tr>\n",
       "    </tbody>\n",
       "</table>"
      ],
      "text/plain": [
       "+-------+\n",
       "| Count |\n",
       "+-------+\n",
       "|  1390 |\n",
       "+-------+"
      ]
     },
     "execution_count": 66,
     "metadata": {},
     "output_type": "execute_result"
    }
   ],
   "source": [
    "%%sql\n",
    "DROP TABLE IF EXISTS deputados_orgaos_camara;\n",
    "\n",
    "CREATE TABLE deputados_orgaos_camara AS\n",
    "WITH base AS (\n",
    "  SELECT\n",
    "    TRY_CAST(payload_json AS JSON) AS j,\n",
    "    year AS year_snapshot,\n",
    "    id AS id_deputado\n",
    "  FROM bronze_camara_deputados_orgaos\n",
    "),\n",
    "exploded AS (\n",
    "  SELECT\n",
    "    CAST(json_extract_string(e.value, '$.idOrgao') AS INTEGER) AS id_orgao,\n",
    "    CAST(json_extract_string(e.value, '$.codTitulo') AS INTEGER) AS cod_titulo,\n",
    "    CAST(json_extract_string(e.value, '$.dataInicio') AS DATETIME) AS data_inicio,\n",
    "    CAST(json_extract_string(e.value, '$.dataFim') AS DATETIME) AS data_fim,\n",
    "    CAST(b.id_deputado AS BIGINT) AS id_deputado,\n",
    "    b.year_snapshot\n",
    "  FROM base b\n",
    "  CROSS JOIN json_each(b.j, '$.dados') AS e\n",
    ")\n",
    "SELECT id_deputado, id_orgao, cod_titulo, data_inicio, data_fim, year_snapshot\n",
    "FROM exploded;"
   ]
  },
  {
   "cell_type": "code",
   "execution_count": 67,
   "id": "e8a4c263",
   "metadata": {
    "vscode": {
     "languageId": "sql"
    }
   },
   "outputs": [
    {
     "data": {
      "text/html": [
       "<span style=\"None\">Running query in &#x27;duck&#x27;</span>"
      ],
      "text/plain": [
       "Running query in 'duck'"
      ]
     },
     "metadata": {},
     "output_type": "display_data"
    },
    {
     "data": {
      "text/html": [
       "<table>\n",
       "    <thead>\n",
       "        <tr>\n",
       "            <th>id_deputado</th>\n",
       "            <th>id_orgao</th>\n",
       "            <th>cod_titulo</th>\n",
       "            <th>data_inicio</th>\n",
       "            <th>data_fim</th>\n",
       "            <th>year_snapshot</th>\n",
       "        </tr>\n",
       "    </thead>\n",
       "    <tbody>\n",
       "        <tr>\n",
       "            <td>66385</td>\n",
       "            <td>5971</td>\n",
       "            <td>101</td>\n",
       "            <td>2025-06-30 00:00:00</td>\n",
       "            <td>None</td>\n",
       "            <td>2023</td>\n",
       "        </tr>\n",
       "        <tr>\n",
       "            <td>122974</td>\n",
       "            <td>539731</td>\n",
       "            <td>2</td>\n",
       "            <td>2025-06-10 00:00:00</td>\n",
       "            <td>None</td>\n",
       "            <td>2023</td>\n",
       "        </tr>\n",
       "        <tr>\n",
       "            <td>161440</td>\n",
       "            <td>539776</td>\n",
       "            <td>102</td>\n",
       "            <td>2025-05-21 00:00:00</td>\n",
       "            <td>None</td>\n",
       "            <td>2023</td>\n",
       "        </tr>\n",
       "        <tr>\n",
       "            <td>180214</td>\n",
       "            <td>539815</td>\n",
       "            <td>102</td>\n",
       "            <td>2025-09-12 00:00:00</td>\n",
       "            <td>None</td>\n",
       "            <td>2023</td>\n",
       "        </tr>\n",
       "        <tr>\n",
       "            <td>204406</td>\n",
       "            <td>539817</td>\n",
       "            <td>101</td>\n",
       "            <td>2025-07-07 00:00:00</td>\n",
       "            <td>None</td>\n",
       "            <td>2023</td>\n",
       "        </tr>\n",
       "    </tbody>\n",
       "</table>"
      ],
      "text/plain": [
       "+-------------+----------+------------+---------------------+----------+---------------+\n",
       "| id_deputado | id_orgao | cod_titulo |     data_inicio     | data_fim | year_snapshot |\n",
       "+-------------+----------+------------+---------------------+----------+---------------+\n",
       "|    66385    |   5971   |    101     | 2025-06-30 00:00:00 |   None   |      2023     |\n",
       "|    122974   |  539731  |     2      | 2025-06-10 00:00:00 |   None   |      2023     |\n",
       "|    161440   |  539776  |    102     | 2025-05-21 00:00:00 |   None   |      2023     |\n",
       "|    180214   |  539815  |    102     | 2025-09-12 00:00:00 |   None   |      2023     |\n",
       "|    204406   |  539817  |    101     | 2025-07-07 00:00:00 |   None   |      2023     |\n",
       "+-------------+----------+------------+---------------------+----------+---------------+"
      ]
     },
     "execution_count": 67,
     "metadata": {},
     "output_type": "execute_result"
    }
   ],
   "source": [
    "%%sql\n",
    "SELECT * FROM deputados_orgaos_camara LIMIT 5;"
   ]
  },
  {
   "cell_type": "markdown",
   "id": "63c77b36",
   "metadata": {},
   "source": [
    "### Eventos e órgaos"
   ]
  },
  {
   "cell_type": "code",
   "execution_count": 68,
   "id": "bc2d239d",
   "metadata": {
    "vscode": {
     "languageId": "sql"
    }
   },
   "outputs": [
    {
     "data": {
      "text/html": [
       "<span style=\"None\">Running query in &#x27;duck&#x27;</span>"
      ],
      "text/plain": [
       "Running query in 'duck'"
      ]
     },
     "metadata": {},
     "output_type": "display_data"
    },
    {
     "data": {
      "text/html": [
       "<table>\n",
       "    <thead>\n",
       "        <tr>\n",
       "            <th>n</th>\n",
       "        </tr>\n",
       "    </thead>\n",
       "    <tbody>\n",
       "        <tr>\n",
       "            <td>707</td>\n",
       "        </tr>\n",
       "    </tbody>\n",
       "</table>"
      ],
      "text/plain": [
       "+-----+\n",
       "|  n  |\n",
       "+-----+\n",
       "| 707 |\n",
       "+-----+"
      ]
     },
     "execution_count": 68,
     "metadata": {},
     "output_type": "execute_result"
    }
   ],
   "source": [
    "%%sql\n",
    "CREATE OR REPLACE VIEW bronze_camara_eventos_orgaos AS\n",
    "SELECT * FROM parquet_scan(\"data/bronze/snapshots/bronze-2020-smoke/camara/eventos/orgaos/year=*/part-*.parquet\")\n",
    "WHERE source = 'camara' AND entity = 'eventos/orgaos';\n",
    "\n",
    "SELECT COUNT(*) AS n FROM bronze_camara_eventos_orgaos;"
   ]
  },
  {
   "cell_type": "code",
   "execution_count": 69,
   "id": "164d43f1",
   "metadata": {
    "vscode": {
     "languageId": "sql"
    }
   },
   "outputs": [
    {
     "data": {
      "text/html": [
       "<span style=\"None\">Running query in &#x27;duck&#x27;</span>"
      ],
      "text/plain": [
       "Running query in 'duck'"
      ]
     },
     "metadata": {},
     "output_type": "display_data"
    },
    {
     "data": {
      "text/html": [
       "<table>\n",
       "    <thead>\n",
       "        <tr>\n",
       "            <th>source</th>\n",
       "            <th>entity</th>\n",
       "            <th>id</th>\n",
       "            <th>url</th>\n",
       "            <th>payload_json</th>\n",
       "            <th>payload_sha256</th>\n",
       "            <th>year</th>\n",
       "        </tr>\n",
       "    </thead>\n",
       "    <tbody>\n",
       "        <tr>\n",
       "            <td>camara</td>\n",
       "            <td>eventos/orgaos</td>\n",
       "            <td>58552</td>\n",
       "            <td><a href=https://dadosabertos.camara.leg.br/api/v2/eventos/58552/orgaos>https://dadosabertos.camara.leg.br/api/v2/eventos/58552/orgaos</a></td>\n",
       "            <td>{\"dados\":[{\"apelido\":\"PEC 015/15 - Fundeb\",\"codTipoOrgao\":3,\"id\":538357,\"nome\":\"Comissão Especial destinada a proferir parecer à Proposta de Emenda à Constituição nº 15-A, de 2015, da Srª Raquel Muniz e outros, que \\\"insere parágrafo único no art. 193; inciso IX, no art. 206 e art. 212-A, todos na Constituição Federal, de forma a tornar o Fundo de Manutenção e Desenvolvimento da Educação Básica e de Valorização dos Profissionais da Educação - Fundeb instrumento permanente de financiamento da educação básica pública, incluir o planejamento na ordem social e inserir novo princípio no rol daqueles com base nos quais a educação será ministrada, e revoga o art. 60 do Ato das Disposições Constitucionais Transitórias\\\"\",\"nomePublicacao\":\"Comissão Especial sobre o Fundeb (PEC 015/15)\",\"nomeResumido\":\"Fundeb\",\"sigla\":\"PEC01515\",\"tipoOrgao\":\"Comissão Especial\",\"uri\":\"https://dadosabertos.camara.leg.br/api/v2/orgaos/538357\"}]}</td>\n",
       "            <td>8a346dde393754922bbb0b04fd92fa5301bdc742873dd5cc81d3f5777dbef338</td>\n",
       "            <td>2020</td>\n",
       "        </tr>\n",
       "        <tr>\n",
       "            <td>camara</td>\n",
       "            <td>eventos/orgaos</td>\n",
       "            <td>59113</td>\n",
       "            <td><a href=https://dadosabertos.camara.leg.br/api/v2/eventos/59113/orgaos>https://dadosabertos.camara.leg.br/api/v2/eventos/59113/orgaos</a></td>\n",
       "            <td>{\"dados\":[{\"apelido\":\"PL 3515/15 - Superendividamento do Consumidor\",\"codTipoOrgao\":3,\"id\":538315,\"nome\":\"Comissão Especial destinada a proferir parecer ao Projeto de Lei nº 3515, de 2015, do Senado Federal, que \\\"altera a Lei nº 8.078, de 11 de setembro de 1990 (Código de Defesa do Consumidor), e o art. 96 da Lei nº 10.741, de 1º de outubro de 2003 (Estatuto do Idoso), para aperfeiçoar a disciplina do crédito ao consumidor e dispor sobre a prevenção e o tratamento do superendividamento\\\", e apensados\",\"nomePublicacao\":\"Comissão Especial sobre Superendividamento do Consumidor (PL 3515/15)\",\"nomeResumido\":\"Superendividamento\",\"sigla\":\"PL351515\",\"tipoOrgao\":\"Comissão Especial\",\"uri\":\"https://dadosabertos.camara.leg.br/api/v2/orgaos/538315\"}]}</td>\n",
       "            <td>d4a5744d49427b90e08289edcf0dafad93270e182c3a4e80321d2d73a97f7631</td>\n",
       "            <td>2020</td>\n",
       "        </tr>\n",
       "        <tr>\n",
       "            <td>camara</td>\n",
       "            <td>eventos/orgaos</td>\n",
       "            <td>59129</td>\n",
       "            <td><a href=https://dadosabertos.camara.leg.br/api/v2/eventos/59129/orgaos>https://dadosabertos.camara.leg.br/api/v2/eventos/59129/orgaos</a></td>\n",
       "            <td>{\"dados\":[{\"apelido\":\"PL 0399/15 - Medicamentos Formulados com Cannabis\",\"codTipoOrgao\":3,\"id\":538408,\"nome\":\"Comissão Especial destinada a proferir parecer ao Projeto de Lei nº 399, de 2015, do Sr. Fábio Mitidieri, que \\\"altera o art. 2º da Lei nº 11.343, de 23 de agosto de 2006, para viabilizar a comercialização de medicamentos que contenham extratos, substratos ou partes da planta Cannabis sativa em sua formulação\\\"\",\"nomePublicacao\":\"Comissão Especial sobre Medicamentos Formulados com Cannabis (PL 0399/15)\",\"nomeResumido\":\"Remédios com Cannabis\",\"sigla\":\"PL039915\",\"tipoOrgao\":\"Comissão Especial\",\"uri\":\"https://dadosabertos.camara.leg.br/api/v2/orgaos/538408\"}]}</td>\n",
       "            <td>ae5179feb98e5dd5dce001eb849c3c18283c6a2892622316c8662ce1eae4c07a</td>\n",
       "            <td>2020</td>\n",
       "        </tr>\n",
       "        <tr>\n",
       "            <td>camara</td>\n",
       "            <td>eventos/orgaos</td>\n",
       "            <td>59130</td>\n",
       "            <td><a href=https://dadosabertos.camara.leg.br/api/v2/eventos/59130/orgaos>https://dadosabertos.camara.leg.br/api/v2/eventos/59130/orgaos</a></td>\n",
       "            <td>{\"dados\":[{\"apelido\":\"PL 0399/15 - Medicamentos Formulados com Cannabis\",\"codTipoOrgao\":3,\"id\":538408,\"nome\":\"Comissão Especial destinada a proferir parecer ao Projeto de Lei nº 399, de 2015, do Sr. Fábio Mitidieri, que \\\"altera o art. 2º da Lei nº 11.343, de 23 de agosto de 2006, para viabilizar a comercialização de medicamentos que contenham extratos, substratos ou partes da planta Cannabis sativa em sua formulação\\\"\",\"nomePublicacao\":\"Comissão Especial sobre Medicamentos Formulados com Cannabis (PL 0399/15)\",\"nomeResumido\":\"Remédios com Cannabis\",\"sigla\":\"PL039915\",\"tipoOrgao\":\"Comissão Especial\",\"uri\":\"https://dadosabertos.camara.leg.br/api/v2/orgaos/538408\"}]}</td>\n",
       "            <td>ae5179feb98e5dd5dce001eb849c3c18283c6a2892622316c8662ce1eae4c07a</td>\n",
       "            <td>2020</td>\n",
       "        </tr>\n",
       "        <tr>\n",
       "            <td>camara</td>\n",
       "            <td>eventos/orgaos</td>\n",
       "            <td>59186</td>\n",
       "            <td><a href=https://dadosabertos.camara.leg.br/api/v2/eventos/59186/orgaos>https://dadosabertos.camara.leg.br/api/v2/eventos/59186/orgaos</a></td>\n",
       "            <td>{\"dados\":[{\"apelido\":\"Violência Doméstica contra Mulher e Feminicídio\",\"codTipoOrgao\":5,\"id\":538364,\"nome\":\"Comissão Externa destinada a acompanhar os casos de violência doméstica contra a mulher e o feminicídio no país\",\"nomePublicacao\":\"Comissão Externa sobre a Violência Doméstica contra Mulher e Feminicídio\",\"nomeResumido\":\"Violência contra Mulher\",\"sigla\":\"CEXFEMIN\",\"tipoOrgao\":\"Comissão Externa\",\"uri\":\"https://dadosabertos.camara.leg.br/api/v2/orgaos/538364\"}]}</td>\n",
       "            <td>ab03f7c93dd6c3431e51c6c43e97ff17196e9e77ec2230b710ffbf434b9a487c</td>\n",
       "            <td>2020</td>\n",
       "        </tr>\n",
       "    </tbody>\n",
       "</table>"
      ],
      "text/plain": [
       "+--------+----------------+-------+-------------------------------------------------------------------------------------------------------------------------------------------+-------------------------------------------------------------------------------------------------------------------------------------------------------------------------------------------------------------------------------------------------------------------------------------------------------------------------------------------------------------------------------------------------------------------------------------------------------------------------------------------------------------------------------------------------------------------------------------------------------------------------------------------------------------------------------------------------------------------------------------------------------------------------------------------------------------------------------------------------------------------------------------------------------------------------------------------------------------------+------------------------------------------------------------------+------+\n",
       "| source |     entity     |   id  |                                                                    url                                                                    |                                                                                                                                                                                                                                                                                                                                                                                                                                                                            payload_json                                                                                                                                                                                                                                                                                                                                                                                                                                                                           |                          payload_sha256                          | year |\n",
       "+--------+----------------+-------+-------------------------------------------------------------------------------------------------------------------------------------------+-------------------------------------------------------------------------------------------------------------------------------------------------------------------------------------------------------------------------------------------------------------------------------------------------------------------------------------------------------------------------------------------------------------------------------------------------------------------------------------------------------------------------------------------------------------------------------------------------------------------------------------------------------------------------------------------------------------------------------------------------------------------------------------------------------------------------------------------------------------------------------------------------------------------------------------------------------------------+------------------------------------------------------------------+------+\n",
       "| camara | eventos/orgaos | 58552 | <a href=https://dadosabertos.camara.leg.br/api/v2/eventos/58552/orgaos>https://dadosabertos.camara.leg.br/api/v2/eventos/58552/orgaos</a> | {\"dados\":[{\"apelido\":\"PEC 015/15 - Fundeb\",\"codTipoOrgao\":3,\"id\":538357,\"nome\":\"Comissão Especial destinada a proferir parecer à Proposta de Emenda à Constituição nº 15-A, de 2015, da Srª Raquel Muniz e outros, que \\\"insere parágrafo único no art. 193; inciso IX, no art. 206 e art. 212-A, todos na Constituição Federal, de forma a tornar o Fundo de Manutenção e Desenvolvimento da Educação Básica e de Valorização dos Profissionais da Educação - Fundeb instrumento permanente de financiamento da educação básica pública, incluir o planejamento na ordem social e inserir novo princípio no rol daqueles com base nos quais a educação será ministrada, e revoga o art. 60 do Ato das Disposições Constitucionais Transitórias\\\"\",\"nomePublicacao\":\"Comissão Especial sobre o Fundeb (PEC 015/15)\",\"nomeResumido\":\"Fundeb\",\"sigla\":\"PEC01515\",\"tipoOrgao\":\"Comissão Especial\",\"uri\":\"https://dadosabertos.camara.leg.br/api/v2/orgaos/538357\"}]} | 8a346dde393754922bbb0b04fd92fa5301bdc742873dd5cc81d3f5777dbef338 | 2020 |\n",
       "| camara | eventos/orgaos | 59113 | <a href=https://dadosabertos.camara.leg.br/api/v2/eventos/59113/orgaos>https://dadosabertos.camara.leg.br/api/v2/eventos/59113/orgaos</a> |                                                                                           {\"dados\":[{\"apelido\":\"PL 3515/15 - Superendividamento do Consumidor\",\"codTipoOrgao\":3,\"id\":538315,\"nome\":\"Comissão Especial destinada a proferir parecer ao Projeto de Lei nº 3515, de 2015, do Senado Federal, que \\\"altera a Lei nº 8.078, de 11 de setembro de 1990 (Código de Defesa do Consumidor), e o art. 96 da Lei nº 10.741, de 1º de outubro de 2003 (Estatuto do Idoso), para aperfeiçoar a disciplina do crédito ao consumidor e dispor sobre a prevenção e o tratamento do superendividamento\\\", e apensados\",\"nomePublicacao\":\"Comissão Especial sobre Superendividamento do Consumidor (PL 3515/15)\",\"nomeResumido\":\"Superendividamento\",\"sigla\":\"PL351515\",\"tipoOrgao\":\"Comissão Especial\",\"uri\":\"https://dadosabertos.camara.leg.br/api/v2/orgaos/538315\"}]}                                                                                          | d4a5744d49427b90e08289edcf0dafad93270e182c3a4e80321d2d73a97f7631 | 2020 |\n",
       "| camara | eventos/orgaos | 59129 | <a href=https://dadosabertos.camara.leg.br/api/v2/eventos/59129/orgaos>https://dadosabertos.camara.leg.br/api/v2/eventos/59129/orgaos</a> |                                                                                                                                 {\"dados\":[{\"apelido\":\"PL 0399/15 - Medicamentos Formulados com Cannabis\",\"codTipoOrgao\":3,\"id\":538408,\"nome\":\"Comissão Especial destinada a proferir parecer ao Projeto de Lei nº 399, de 2015, do Sr. Fábio Mitidieri, que \\\"altera o art. 2º da Lei nº 11.343, de 23 de agosto de 2006, para viabilizar a comercialização de medicamentos que contenham extratos, substratos ou partes da planta Cannabis sativa em sua formulação\\\"\",\"nomePublicacao\":\"Comissão Especial sobre Medicamentos Formulados com Cannabis (PL 0399/15)\",\"nomeResumido\":\"Remédios com Cannabis\",\"sigla\":\"PL039915\",\"tipoOrgao\":\"Comissão Especial\",\"uri\":\"https://dadosabertos.camara.leg.br/api/v2/orgaos/538408\"}]}                                                                                                                                 | ae5179feb98e5dd5dce001eb849c3c18283c6a2892622316c8662ce1eae4c07a | 2020 |\n",
       "| camara | eventos/orgaos | 59130 | <a href=https://dadosabertos.camara.leg.br/api/v2/eventos/59130/orgaos>https://dadosabertos.camara.leg.br/api/v2/eventos/59130/orgaos</a> |                                                                                                                                 {\"dados\":[{\"apelido\":\"PL 0399/15 - Medicamentos Formulados com Cannabis\",\"codTipoOrgao\":3,\"id\":538408,\"nome\":\"Comissão Especial destinada a proferir parecer ao Projeto de Lei nº 399, de 2015, do Sr. Fábio Mitidieri, que \\\"altera o art. 2º da Lei nº 11.343, de 23 de agosto de 2006, para viabilizar a comercialização de medicamentos que contenham extratos, substratos ou partes da planta Cannabis sativa em sua formulação\\\"\",\"nomePublicacao\":\"Comissão Especial sobre Medicamentos Formulados com Cannabis (PL 0399/15)\",\"nomeResumido\":\"Remédios com Cannabis\",\"sigla\":\"PL039915\",\"tipoOrgao\":\"Comissão Especial\",\"uri\":\"https://dadosabertos.camara.leg.br/api/v2/orgaos/538408\"}]}                                                                                                                                 | ae5179feb98e5dd5dce001eb849c3c18283c6a2892622316c8662ce1eae4c07a | 2020 |\n",
       "| camara | eventos/orgaos | 59186 | <a href=https://dadosabertos.camara.leg.br/api/v2/eventos/59186/orgaos>https://dadosabertos.camara.leg.br/api/v2/eventos/59186/orgaos</a> |                                                                                                                                                                                                                                       {\"dados\":[{\"apelido\":\"Violência Doméstica contra Mulher e Feminicídio\",\"codTipoOrgao\":5,\"id\":538364,\"nome\":\"Comissão Externa destinada a acompanhar os casos de violência doméstica contra a mulher e o feminicídio no país\",\"nomePublicacao\":\"Comissão Externa sobre a Violência Doméstica contra Mulher e Feminicídio\",\"nomeResumido\":\"Violência contra Mulher\",\"sigla\":\"CEXFEMIN\",\"tipoOrgao\":\"Comissão Externa\",\"uri\":\"https://dadosabertos.camara.leg.br/api/v2/orgaos/538364\"}]}                                                                                                                                                                                                                                      | ab03f7c93dd6c3431e51c6c43e97ff17196e9e77ec2230b710ffbf434b9a487c | 2020 |\n",
       "+--------+----------------+-------+-------------------------------------------------------------------------------------------------------------------------------------------+-------------------------------------------------------------------------------------------------------------------------------------------------------------------------------------------------------------------------------------------------------------------------------------------------------------------------------------------------------------------------------------------------------------------------------------------------------------------------------------------------------------------------------------------------------------------------------------------------------------------------------------------------------------------------------------------------------------------------------------------------------------------------------------------------------------------------------------------------------------------------------------------------------------------------------------------------------------------+------------------------------------------------------------------+------+"
      ]
     },
     "execution_count": 69,
     "metadata": {},
     "output_type": "execute_result"
    }
   ],
   "source": [
    "%%sql\n",
    "SELECT * FROM bronze_camara_eventos_orgaos LIMIT 5;"
   ]
  },
  {
   "cell_type": "code",
   "execution_count": 70,
   "id": "6397d364",
   "metadata": {
    "vscode": {
     "languageId": "sql"
    }
   },
   "outputs": [
    {
     "data": {
      "text/html": [
       "<span style=\"None\">Running query in &#x27;duck&#x27;</span>"
      ],
      "text/plain": [
       "Running query in 'duck'"
      ]
     },
     "metadata": {},
     "output_type": "display_data"
    },
    {
     "data": {
      "text/html": [
       "<table>\n",
       "    <thead>\n",
       "        <tr>\n",
       "            <th>Count</th>\n",
       "        </tr>\n",
       "    </thead>\n",
       "    <tbody>\n",
       "        <tr>\n",
       "            <td>707</td>\n",
       "        </tr>\n",
       "    </tbody>\n",
       "</table>"
      ],
      "text/plain": [
       "+-------+\n",
       "| Count |\n",
       "+-------+\n",
       "|  707  |\n",
       "+-------+"
      ]
     },
     "execution_count": 70,
     "metadata": {},
     "output_type": "execute_result"
    }
   ],
   "source": [
    "%%sql\n",
    "DROP TABLE IF EXISTS eventos_orgaos_camara;\n",
    "\n",
    "CREATE TABLE eventos_orgaos_camara AS\n",
    "WITH base AS (\n",
    "  SELECT\n",
    "    TRY_CAST(payload_json AS JSON) AS j,\n",
    "    year AS year_snapshot,\n",
    "    id AS id_evento\n",
    "  FROM bronze_camara_eventos_orgaos\n",
    "),\n",
    "exploded AS (\n",
    "  SELECT\n",
    "    CAST(b.id_evento AS BIGINT) AS id_evento,\n",
    "    CAST(json_extract_string(e.value, '$.id') AS INTEGER) AS id_orgao,\n",
    "    b.year_snapshot\n",
    "  FROM base b\n",
    "  CROSS JOIN json_each(b.j, '$.dados') AS e\n",
    ")\n",
    "SELECT id_evento, id_orgao, year_snapshot\n",
    "FROM exploded;"
   ]
  },
  {
   "cell_type": "code",
   "execution_count": 71,
   "id": "214c667d",
   "metadata": {
    "vscode": {
     "languageId": "sql"
    }
   },
   "outputs": [
    {
     "data": {
      "text/html": [
       "<span style=\"None\">Running query in &#x27;duck&#x27;</span>"
      ],
      "text/plain": [
       "Running query in 'duck'"
      ]
     },
     "metadata": {},
     "output_type": "display_data"
    },
    {
     "data": {
      "text/html": [
       "<table>\n",
       "    <thead>\n",
       "        <tr>\n",
       "            <th>id_evento</th>\n",
       "            <th>id_orgao</th>\n",
       "            <th>year_snapshot</th>\n",
       "        </tr>\n",
       "    </thead>\n",
       "    <tbody>\n",
       "        <tr>\n",
       "            <td>58552</td>\n",
       "            <td>538357</td>\n",
       "            <td>2020</td>\n",
       "        </tr>\n",
       "        <tr>\n",
       "            <td>59113</td>\n",
       "            <td>538315</td>\n",
       "            <td>2020</td>\n",
       "        </tr>\n",
       "        <tr>\n",
       "            <td>59129</td>\n",
       "            <td>538408</td>\n",
       "            <td>2020</td>\n",
       "        </tr>\n",
       "        <tr>\n",
       "            <td>59130</td>\n",
       "            <td>538408</td>\n",
       "            <td>2020</td>\n",
       "        </tr>\n",
       "        <tr>\n",
       "            <td>59186</td>\n",
       "            <td>538364</td>\n",
       "            <td>2020</td>\n",
       "        </tr>\n",
       "    </tbody>\n",
       "</table>"
      ],
      "text/plain": [
       "+-----------+----------+---------------+\n",
       "| id_evento | id_orgao | year_snapshot |\n",
       "+-----------+----------+---------------+\n",
       "|   58552   |  538357  |      2020     |\n",
       "|   59113   |  538315  |      2020     |\n",
       "|   59129   |  538408  |      2020     |\n",
       "|   59130   |  538408  |      2020     |\n",
       "|   59186   |  538364  |      2020     |\n",
       "+-----------+----------+---------------+"
      ]
     },
     "execution_count": 71,
     "metadata": {},
     "output_type": "execute_result"
    }
   ],
   "source": [
    "%%sql\n",
    "SELECT * FROM eventos_orgaos_camara LIMIT 5;"
   ]
  },
  {
   "cell_type": "markdown",
   "id": "905e9a8f",
   "metadata": {},
   "source": [
    "### Eventos e pautas"
   ]
  },
  {
   "cell_type": "code",
   "execution_count": 72,
   "id": "b94e1ca8",
   "metadata": {
    "vscode": {
     "languageId": "sql"
    }
   },
   "outputs": [
    {
     "data": {
      "text/html": [
       "<span style=\"None\">Running query in &#x27;duck&#x27;</span>"
      ],
      "text/plain": [
       "Running query in 'duck'"
      ]
     },
     "metadata": {},
     "output_type": "display_data"
    },
    {
     "data": {
      "text/html": [
       "<table>\n",
       "    <thead>\n",
       "        <tr>\n",
       "            <th>n</th>\n",
       "        </tr>\n",
       "    </thead>\n",
       "    <tbody>\n",
       "        <tr>\n",
       "            <td>707</td>\n",
       "        </tr>\n",
       "    </tbody>\n",
       "</table>"
      ],
      "text/plain": [
       "+-----+\n",
       "|  n  |\n",
       "+-----+\n",
       "| 707 |\n",
       "+-----+"
      ]
     },
     "execution_count": 72,
     "metadata": {},
     "output_type": "execute_result"
    }
   ],
   "source": [
    "%%sql\n",
    "CREATE OR REPLACE VIEW bronze_camara_eventos_pauta AS\n",
    "SELECT * FROM parquet_scan(\"data/bronze/snapshots/bronze-2020-smoke/camara/eventos/pauta/year=*/part-*.parquet\")\n",
    "WHERE source = 'camara' AND entity = 'eventos/pauta';\n",
    "\n",
    "SELECT COUNT(*) AS n FROM bronze_camara_eventos_pauta;"
   ]
  },
  {
   "cell_type": "code",
   "execution_count": 73,
   "id": "e2e2ec0c",
   "metadata": {
    "vscode": {
     "languageId": "sql"
    }
   },
   "outputs": [
    {
     "data": {
      "text/html": [
       "<span style=\"None\">Running query in &#x27;duck&#x27;</span>"
      ],
      "text/plain": [
       "Running query in 'duck'"
      ]
     },
     "metadata": {},
     "output_type": "display_data"
    },
    {
     "data": {
      "text/html": [
       "<table>\n",
       "    <thead>\n",
       "        <tr>\n",
       "            <th>source</th>\n",
       "            <th>entity</th>\n",
       "            <th>id</th>\n",
       "            <th>url</th>\n",
       "            <th>payload_json</th>\n",
       "            <th>payload_sha256</th>\n",
       "            <th>year</th>\n",
       "        </tr>\n",
       "    </thead>\n",
       "    <tbody>\n",
       "        <tr>\n",
       "            <td>camara</td>\n",
       "            <td>eventos/pauta</td>\n",
       "            <td>58552</td>\n",
       "            <td><a href=https://dadosabertos.camara.leg.br/api/v2/eventos/58552/pauta>https://dadosabertos.camara.leg.br/api/v2/eventos/58552/pauta</a></td>\n",
       "            <td>{\"dados\":[{\"codRegime\":106,\"ordem\":1,\"proposicaoRelacionada_\":null,\"proposicao_\":{\"ano\":2015,\"codTipo\":136,\"ementa\":\"Insere parágrafo único no art. 193; inciso IX, no art. 206 e art. 212-A, todos na Constituição Federal, de forma a tornar o Fundo de Manutenção e Desenvolvimento da Educação Básica e de Valorização dos Profissionais da Educação - Fundeb instrumento permanente de financiamento da educação básica pública, incluir o planejamento na ordem social e inserir  novo princípio no rol daqueles  com base nos quais a educação será ministrada, e revoga o art. 60 do Ato das Disposições Constitucionais Transitórias.  NOVA EMENTA: Altera a Constituição Federal para estabelecer critérios de distribuição da cota municipal do Imposto Sobre Operações Relativas à Circulação de Mercadorias e sobre Prestações de Serviços de Transporte Interestadual e Intermunicipal e de Comunicação  (ICMS), para disciplinar a disponibilização de dados contábeis pelos entes federados, para tratar do planejamento na ordem social e para dispor sobre o Fundo de Manutenção e Desenvolvimento da Educação Básica e de Valorização dos Profissionais da Educação (Fundeb); altera o Ato das Disposições Constitucionais Transitórias; e dá outras providências\",\"id\":1198512,\"numero\":15,\"siglaTipo\":\"PEC\",\"uri\":\"https://dadosabertos.camara.leg.br/api/v2/proposicoes/1198512\"},\"regime\":\"Especial (Art. 202 c/c 191, I, RICD)\",\"relator\":{\"email\":\"dep.professoradorinhaseabrarezende@camara.leg.br\",\"id\":160639,\"idLegislatura\":55,\"nome\":\"Professora Dorinha Seabra Rezende\",\"siglaPartido\":\"DEM\",\"siglaUf\":\"TO\",\"uri\":\"https://dadosabertos.camara.leg.br/api/v2/deputados/160639\",\"uriPartido\":\"https://dadosabertos.camara.leg.br/api/v2/partidos/36769\",\"urlFoto\":\"https://www.camara.leg.br/internet/deputado/bandep/160639.jpg\"},\"situacaoItem\":\"Vista conjunta aos Deputados Adriana Ventura, Alice Portugal, Angela Amin, Átila Lira, Benes Leocádio, Chris Tonietto, Coronel Armando, Daniela do Waguinho, Danilo Cabral, Dr. Jaziel, Dra. Soraya Manato, Edmilson Rodrigues, Eduardo Braide, Emanuel Pinheiro Neto, Felipe Rigoni, Fernando Rodolfo, Gastão Vieira, General Peternelli, Haroldo Cathedral, Helio Lopes, Idilvan Alencar, Igor Timo, Jéssica Sales, João H. Campos, Juarez Costa, Leda Sadala, Lídice da Mata, Luisa Canziani, Luizão Goulart, Marcelo Calero, Maria Rosas, Mariana Carvalho, Marreca Filho, Natália Bonavides, Osires Damaso, Otoni de Paula, Paula Belmonte, Pedro Cunha Lima, Pedro Uczai, Professor Alcides, Professor Israel Batista, Professora Dayane Pimentel, Professora Marcivania, Professora Rosa Neide, Raul Henry, Rejane Dias, Rogério Correia, Rosana Valle, Rose Modesto, Sâmia Bomfim, Sidney Leite, Tabata Amaral, Tereza Nelma, Tiago Dimas, Túlio Gadêlha, Weliton Prado, Zé Vitor e Zeca Dirceu.\",\"textoParecer\":null,\"titulo\":\"PEC 15/2015\",\"topico\":\"Disposições Especiais\",\"uriVotacao\":null}]}</td>\n",
       "            <td>bd68b5c89f15e81094955070a90d7423aab92ffad03062feaa9da313cd23a23e</td>\n",
       "            <td>2020</td>\n",
       "        </tr>\n",
       "    </tbody>\n",
       "</table>"
      ],
      "text/plain": [
       "+--------+---------------+-------+-----------------------------------------------------------------------------------------------------------------------------------------+----------------------------------------------------------------------------------------------------------------------------------------------------------------------------------------------------------------------------------------------------------------------------------------------------------------------------------------------------------------------------------------------------------------------------------------------------------------------------------------------------------------------------------------------------------------------------------------------------------------------------------------------------------------------------------------------------------------------------------------------------------------------------------------------------------------------------------------------------------------------------------------------------------------------------------------------------------------------------------------------------------------------------------------------------------------------------------------------------------------------------------------------------------------------------------------------------------------------------------------------------------------------------------------------------------------------------------------------------------------------------------------------------------------------------------------------------------------------------------------------------------------------------------------------------------------------------------------------------------------------------------------------------------------------------------------------------------------------------------------------------------------------------------------------------------------------------------------------------------------------------------------------------------------------------------------------------------------------------------------------------------------------------------------------------------------------------------------------------------------------------------------------------------------------------------------------------------------------------------------------------------------------------------------------------------------------------------------------------------------------------------------------------------------------------------------------------------------------------------------------------------------------------------------------------------------------------------------------------------------------------------------------------------------------------------------------------------------------------------------------------------------------------------------------------------------------------------------------------------------------------------------------------------------------------------------------------------------------------------------------+------------------------------------------------------------------+------+\n",
       "| source |     entity    |   id  |                                                                   url                                                                   |                                                                                                                                                                                                                                                                                                                                                                                                                                                                                                                                                                                                                                                                                                                                                                                                                                                                                                                                                                                                                                                                                                                                                                                                                                                                                                                                                                                                                                                                                         payload_json                                                                                                                                                                                                                                                                                                                                                                                                                                                                                                                                                                                                                                                                                                                                                                                                                                                                                                                                                                                                                                                                                                                                                                                                                                                                                                                                                                                                                                                                                         |                          payload_sha256                          | year |\n",
       "+--------+---------------+-------+-----------------------------------------------------------------------------------------------------------------------------------------+----------------------------------------------------------------------------------------------------------------------------------------------------------------------------------------------------------------------------------------------------------------------------------------------------------------------------------------------------------------------------------------------------------------------------------------------------------------------------------------------------------------------------------------------------------------------------------------------------------------------------------------------------------------------------------------------------------------------------------------------------------------------------------------------------------------------------------------------------------------------------------------------------------------------------------------------------------------------------------------------------------------------------------------------------------------------------------------------------------------------------------------------------------------------------------------------------------------------------------------------------------------------------------------------------------------------------------------------------------------------------------------------------------------------------------------------------------------------------------------------------------------------------------------------------------------------------------------------------------------------------------------------------------------------------------------------------------------------------------------------------------------------------------------------------------------------------------------------------------------------------------------------------------------------------------------------------------------------------------------------------------------------------------------------------------------------------------------------------------------------------------------------------------------------------------------------------------------------------------------------------------------------------------------------------------------------------------------------------------------------------------------------------------------------------------------------------------------------------------------------------------------------------------------------------------------------------------------------------------------------------------------------------------------------------------------------------------------------------------------------------------------------------------------------------------------------------------------------------------------------------------------------------------------------------------------------------------------------------------------------+------------------------------------------------------------------+------+\n",
       "| camara | eventos/pauta | 58552 | <a href=https://dadosabertos.camara.leg.br/api/v2/eventos/58552/pauta>https://dadosabertos.camara.leg.br/api/v2/eventos/58552/pauta</a> | {\"dados\":[{\"codRegime\":106,\"ordem\":1,\"proposicaoRelacionada_\":null,\"proposicao_\":{\"ano\":2015,\"codTipo\":136,\"ementa\":\"Insere parágrafo único no art. 193; inciso IX, no art. 206 e art. 212-A, todos na Constituição Federal, de forma a tornar o Fundo de Manutenção e Desenvolvimento da Educação Básica e de Valorização dos Profissionais da Educação - Fundeb instrumento permanente de financiamento da educação básica pública, incluir o planejamento na ordem social e inserir  novo princípio no rol daqueles  com base nos quais a educação será ministrada, e revoga o art. 60 do Ato das Disposições Constitucionais Transitórias.  NOVA EMENTA: Altera a Constituição Federal para estabelecer critérios de distribuição da cota municipal do Imposto Sobre Operações Relativas à Circulação de Mercadorias e sobre Prestações de Serviços de Transporte Interestadual e Intermunicipal e de Comunicação  (ICMS), para disciplinar a disponibilização de dados contábeis pelos entes federados, para tratar do planejamento na ordem social e para dispor sobre o Fundo de Manutenção e Desenvolvimento da Educação Básica e de Valorização dos Profissionais da Educação (Fundeb); altera o Ato das Disposições Constitucionais Transitórias; e dá outras providências\",\"id\":1198512,\"numero\":15,\"siglaTipo\":\"PEC\",\"uri\":\"https://dadosabertos.camara.leg.br/api/v2/proposicoes/1198512\"},\"regime\":\"Especial (Art. 202 c/c 191, I, RICD)\",\"relator\":{\"email\":\"dep.professoradorinhaseabrarezende@camara.leg.br\",\"id\":160639,\"idLegislatura\":55,\"nome\":\"Professora Dorinha Seabra Rezende\",\"siglaPartido\":\"DEM\",\"siglaUf\":\"TO\",\"uri\":\"https://dadosabertos.camara.leg.br/api/v2/deputados/160639\",\"uriPartido\":\"https://dadosabertos.camara.leg.br/api/v2/partidos/36769\",\"urlFoto\":\"https://www.camara.leg.br/internet/deputado/bandep/160639.jpg\"},\"situacaoItem\":\"Vista conjunta aos Deputados Adriana Ventura, Alice Portugal, Angela Amin, Átila Lira, Benes Leocádio, Chris Tonietto, Coronel Armando, Daniela do Waguinho, Danilo Cabral, Dr. Jaziel, Dra. Soraya Manato, Edmilson Rodrigues, Eduardo Braide, Emanuel Pinheiro Neto, Felipe Rigoni, Fernando Rodolfo, Gastão Vieira, General Peternelli, Haroldo Cathedral, Helio Lopes, Idilvan Alencar, Igor Timo, Jéssica Sales, João H. Campos, Juarez Costa, Leda Sadala, Lídice da Mata, Luisa Canziani, Luizão Goulart, Marcelo Calero, Maria Rosas, Mariana Carvalho, Marreca Filho, Natália Bonavides, Osires Damaso, Otoni de Paula, Paula Belmonte, Pedro Cunha Lima, Pedro Uczai, Professor Alcides, Professor Israel Batista, Professora Dayane Pimentel, Professora Marcivania, Professora Rosa Neide, Raul Henry, Rejane Dias, Rogério Correia, Rosana Valle, Rose Modesto, Sâmia Bomfim, Sidney Leite, Tabata Amaral, Tereza Nelma, Tiago Dimas, Túlio Gadêlha, Weliton Prado, Zé Vitor e Zeca Dirceu.\",\"textoParecer\":null,\"titulo\":\"PEC 15/2015\",\"topico\":\"Disposições Especiais\",\"uriVotacao\":null}]} | bd68b5c89f15e81094955070a90d7423aab92ffad03062feaa9da313cd23a23e | 2020 |\n",
       "+--------+---------------+-------+-----------------------------------------------------------------------------------------------------------------------------------------+----------------------------------------------------------------------------------------------------------------------------------------------------------------------------------------------------------------------------------------------------------------------------------------------------------------------------------------------------------------------------------------------------------------------------------------------------------------------------------------------------------------------------------------------------------------------------------------------------------------------------------------------------------------------------------------------------------------------------------------------------------------------------------------------------------------------------------------------------------------------------------------------------------------------------------------------------------------------------------------------------------------------------------------------------------------------------------------------------------------------------------------------------------------------------------------------------------------------------------------------------------------------------------------------------------------------------------------------------------------------------------------------------------------------------------------------------------------------------------------------------------------------------------------------------------------------------------------------------------------------------------------------------------------------------------------------------------------------------------------------------------------------------------------------------------------------------------------------------------------------------------------------------------------------------------------------------------------------------------------------------------------------------------------------------------------------------------------------------------------------------------------------------------------------------------------------------------------------------------------------------------------------------------------------------------------------------------------------------------------------------------------------------------------------------------------------------------------------------------------------------------------------------------------------------------------------------------------------------------------------------------------------------------------------------------------------------------------------------------------------------------------------------------------------------------------------------------------------------------------------------------------------------------------------------------------------------------------------------------------------+------------------------------------------------------------------+------+"
      ]
     },
     "execution_count": 73,
     "metadata": {},
     "output_type": "execute_result"
    }
   ],
   "source": [
    "%%sql\n",
    "SELECT * FROM bronze_camara_eventos_pauta LIMIT 1;"
   ]
  },
  {
   "cell_type": "code",
   "execution_count": 74,
   "id": "60ac73d6",
   "metadata": {},
   "outputs": [],
   "source": [
    "import pyarrow.parquet as pq\n",
    "import json\n",
    "import pandas as pd\n",
    "import tempfile\n",
    "from glob import glob\n",
    "\n",
    "with tempfile.NamedTemporaryFile() as tf:\n",
    "    paths = glob(\"data/bronze/snapshots/bronze-2020-smoke/camara/eventos/pauta/year=*/part-*.parquet\")\n",
    "    table = pq.read_table(paths)\n",
    "    df = table.to_pandas()\n",
    "\n",
    "    df.head()\n",
    "    exploded_rows = []\n",
    "\n",
    "    for index, row in df.iterrows():\n",
    "        payload = json.loads(row['payload_json'])\n",
    "        for item in payload['dados']:\n",
    "            exploded_rows.append({\n",
    "                'id_evento': row['id'],\n",
    "                'cod_regime': item['codRegime'],\n",
    "                'ordem': item['ordem'],\n",
    "                'id_proposicao': item['proposicao_']['id'],\n",
    "                'id_relator': item['relator']['id'] if item['relator'] else None,\n",
    "                'year_snapshot': row['year'],\n",
    "            })\n",
    "    exploded_df = pd.DataFrame(exploded_rows)\n",
    "    exploded_df.to_csv(tf.name)\n",
    "\n",
    "    conn.execute(f\"\"\"\n",
    "        DROP TABLE IF EXISTS eventos_pauta_camara;\n",
    "        CREATE TABLE eventos_pauta_camara AS\n",
    "            SELECT\n",
    "                id_evento::BIGINT AS id_evento,\n",
    "                cod_regime::TEXT AS cod_regime,\n",
    "                ordem::INTEGER AS ordem,\n",
    "                id_proposicao::BIGINT AS id_proposicao,\n",
    "                id_relator::BIGINT AS id_relator,\n",
    "                year_snapshot::INTEGER AS year_snapshot\n",
    "            FROM read_csv_auto('{tf.name}', HEADER=TRUE);\n",
    "    \"\"\")"
   ]
  },
  {
   "cell_type": "markdown",
   "id": "a78e400b",
   "metadata": {},
   "source": [
    "### Legislaturas e líderes"
   ]
  },
  {
   "cell_type": "code",
   "execution_count": 75,
   "id": "f5243c4f",
   "metadata": {},
   "outputs": [],
   "source": [
    "import pyarrow.parquet as pq\n",
    "import json\n",
    "import pandas as pd\n",
    "import tempfile\n",
    "from glob import glob\n",
    "\n",
    "with tempfile.NamedTemporaryFile() as tf:\n",
    "    paths = glob(\"data/bronze/snapshots/bronze-2020-smoke/camara/legislaturas/lideres/year=*/part-*.parquet\")\n",
    "    table = pq.read_table(paths)\n",
    "    df = table.to_pandas()\n",
    "\n",
    "    df.head()\n",
    "    exploded_rows = []\n",
    "\n",
    "    for index, row in df.iterrows():\n",
    "        payload = json.loads(row['payload_json'])\n",
    "        for item in payload['dados']:\n",
    "            exploded_rows.append({\n",
    "                'id_legislatura': row['id'],\n",
    "                'nome_bancada': item['bancada']['nome'],\n",
    "                'tipo_bancada': item['bancada']['tipo'],\n",
    "                'uri_bancada': item['bancada']['uri'],\n",
    "                'data_inicio': item['dataInicio'],\n",
    "                'data_fim': item['dataFim'],\n",
    "                'id_deputado': item['parlamentar']['id'],\n",
    "                'titulo': item['titulo'],\n",
    "                'year_snapshot': row['year'],\n",
    "            })\n",
    "    exploded_df = pd.DataFrame(exploded_rows)\n",
    "    exploded_df.to_csv(tf.name)\n",
    "\n",
    "    conn.execute(f\"\"\"\n",
    "        DROP TABLE IF EXISTS legislaturas_lideres_camara;\n",
    "        CREATE TABLE legislaturas_lideres_camara AS\n",
    "            SELECT\n",
    "                id_legislatura::BIGINT AS id_legislatura,\n",
    "                nome_bancada::TEXT AS nome_bancada,\n",
    "                tipo_bancada::TEXT as tipo_bancada,\n",
    "                uri_bancada::TEXT as uri_bancada,\n",
    "                data_inicio::DATETIME as data_inicio,\n",
    "                data_fim::DATETIME as data_fim,\n",
    "                id_deputado::BIGINT AS id_deputado,\n",
    "                titulo::TEXT AS titulo,\n",
    "                year_snapshot::INTEGER AS year_snapshot\n",
    "            FROM read_csv_auto('{tf.name}', HEADER=TRUE);\n",
    "    \"\"\")"
   ]
  },
  {
   "cell_type": "code",
   "execution_count": 76,
   "id": "64ece1c8",
   "metadata": {
    "vscode": {
     "languageId": "sql"
    }
   },
   "outputs": [
    {
     "data": {
      "text/html": [
       "<span style=\"None\">Running query in &#x27;duck&#x27;</span>"
      ],
      "text/plain": [
       "Running query in 'duck'"
      ]
     },
     "metadata": {},
     "output_type": "display_data"
    },
    {
     "data": {
      "text/html": [
       "<table>\n",
       "    <thead>\n",
       "        <tr>\n",
       "            <th>id_legislatura</th>\n",
       "            <th>nome_bancada</th>\n",
       "            <th>tipo_bancada</th>\n",
       "            <th>uri_bancada</th>\n",
       "            <th>data_inicio</th>\n",
       "            <th>data_fim</th>\n",
       "            <th>id_deputado</th>\n",
       "            <th>titulo</th>\n",
       "            <th>year_snapshot</th>\n",
       "        </tr>\n",
       "    </thead>\n",
       "    <tbody>\n",
       "        <tr>\n",
       "            <td>52</td>\n",
       "            <td>Governo na CD</td>\n",
       "            <td>Governo na CD</td>\n",
       "            <td>None</td>\n",
       "            <td>2003-02-01 00:00:00</td>\n",
       "            <td>2004-01-23 00:00:00</td>\n",
       "            <td>73428</td>\n",
       "            <td>Líder</td>\n",
       "            <td>2003</td>\n",
       "        </tr>\n",
       "        <tr>\n",
       "            <td>52</td>\n",
       "            <td>PDT</td>\n",
       "            <td>Partido Político</td>\n",
       "            <td><a href=https://dadosabertos.camara.leg.br/api/v2/partidos/36786>https://dadosabertos.camara.leg.br/api/v2/partidos/36786</a></td>\n",
       "            <td>2003-02-01 00:00:00</td>\n",
       "            <td>2004-02-12 00:00:00</td>\n",
       "            <td>74225</td>\n",
       "            <td>Líder</td>\n",
       "            <td>2003</td>\n",
       "        </tr>\n",
       "        <tr>\n",
       "            <td>52</td>\n",
       "            <td>PSB</td>\n",
       "            <td>Partido Político</td>\n",
       "            <td><a href=https://dadosabertos.camara.leg.br/api/v2/partidos/36832>https://dadosabertos.camara.leg.br/api/v2/partidos/36832</a></td>\n",
       "            <td>2003-02-01 00:00:00</td>\n",
       "            <td>2004-01-28 00:00:00</td>\n",
       "            <td>74416</td>\n",
       "            <td>Líder</td>\n",
       "            <td>2003</td>\n",
       "        </tr>\n",
       "        <tr>\n",
       "            <td>52</td>\n",
       "            <td>PL*</td>\n",
       "            <td>Partido Político</td>\n",
       "            <td><a href=https://dadosabertos.camara.leg.br/api/v2/partidos/36795>https://dadosabertos.camara.leg.br/api/v2/partidos/36795</a></td>\n",
       "            <td>2003-02-01 00:00:00</td>\n",
       "            <td>2004-02-18 00:00:00</td>\n",
       "            <td>73565</td>\n",
       "            <td>Líder</td>\n",
       "            <td>2003</td>\n",
       "        </tr>\n",
       "        <tr>\n",
       "            <td>52</td>\n",
       "            <td>PSDB</td>\n",
       "            <td>Partido Político</td>\n",
       "            <td><a href=https://dadosabertos.camara.leg.br/api/v2/partidos/36835>https://dadosabertos.camara.leg.br/api/v2/partidos/36835</a></td>\n",
       "            <td>2003-02-01 00:00:00</td>\n",
       "            <td>2004-02-17 00:00:00</td>\n",
       "            <td>74570</td>\n",
       "            <td>Líder</td>\n",
       "            <td>2003</td>\n",
       "        </tr>\n",
       "    </tbody>\n",
       "</table>"
      ],
      "text/plain": [
       "+----------------+---------------+------------------+-------------------------------------------------------------------------------------------------------------------------------+---------------------+---------------------+-------------+--------+---------------+\n",
       "| id_legislatura |  nome_bancada |   tipo_bancada   |                                                          uri_bancada                                                          |     data_inicio     |       data_fim      | id_deputado | titulo | year_snapshot |\n",
       "+----------------+---------------+------------------+-------------------------------------------------------------------------------------------------------------------------------+---------------------+---------------------+-------------+--------+---------------+\n",
       "|       52       | Governo na CD |  Governo na CD   |                                                              None                                                             | 2003-02-01 00:00:00 | 2004-01-23 00:00:00 |    73428    | Líder  |      2003     |\n",
       "|       52       |      PDT      | Partido Político | <a href=https://dadosabertos.camara.leg.br/api/v2/partidos/36786>https://dadosabertos.camara.leg.br/api/v2/partidos/36786</a> | 2003-02-01 00:00:00 | 2004-02-12 00:00:00 |    74225    | Líder  |      2003     |\n",
       "|       52       |      PSB      | Partido Político | <a href=https://dadosabertos.camara.leg.br/api/v2/partidos/36832>https://dadosabertos.camara.leg.br/api/v2/partidos/36832</a> | 2003-02-01 00:00:00 | 2004-01-28 00:00:00 |    74416    | Líder  |      2003     |\n",
       "|       52       |      PL*      | Partido Político | <a href=https://dadosabertos.camara.leg.br/api/v2/partidos/36795>https://dadosabertos.camara.leg.br/api/v2/partidos/36795</a> | 2003-02-01 00:00:00 | 2004-02-18 00:00:00 |    73565    | Líder  |      2003     |\n",
       "|       52       |      PSDB     | Partido Político | <a href=https://dadosabertos.camara.leg.br/api/v2/partidos/36835>https://dadosabertos.camara.leg.br/api/v2/partidos/36835</a> | 2003-02-01 00:00:00 | 2004-02-17 00:00:00 |    74570    | Líder  |      2003     |\n",
       "+----------------+---------------+------------------+-------------------------------------------------------------------------------------------------------------------------------+---------------------+---------------------+-------------+--------+---------------+"
      ]
     },
     "execution_count": 76,
     "metadata": {},
     "output_type": "execute_result"
    }
   ],
   "source": [
    "%%sql\n",
    "SELECT * from legislaturas_lideres_camara LIMIT 5;"
   ]
  },
  {
   "cell_type": "markdown",
   "id": "d5a068da",
   "metadata": {},
   "source": [
    "### Legislaturas e mesa"
   ]
  },
  {
   "cell_type": "code",
   "execution_count": 77,
   "id": "9b10be4f",
   "metadata": {
    "vscode": {
     "languageId": "sql"
    }
   },
   "outputs": [
    {
     "data": {
      "text/html": [
       "<span style=\"None\">Running query in &#x27;duck&#x27;</span>"
      ],
      "text/plain": [
       "Running query in 'duck'"
      ]
     },
     "metadata": {},
     "output_type": "display_data"
    },
    {
     "data": {
      "text/html": [
       "<table>\n",
       "    <thead>\n",
       "        <tr>\n",
       "            <th>n</th>\n",
       "        </tr>\n",
       "    </thead>\n",
       "    <tbody>\n",
       "        <tr>\n",
       "            <td>57</td>\n",
       "        </tr>\n",
       "    </tbody>\n",
       "</table>"
      ],
      "text/plain": [
       "+----+\n",
       "| n  |\n",
       "+----+\n",
       "| 57 |\n",
       "+----+"
      ]
     },
     "execution_count": 77,
     "metadata": {},
     "output_type": "execute_result"
    }
   ],
   "source": [
    "\n",
    "%%sql\n",
    "CREATE OR REPLACE VIEW bronze_camara_legislaturas_mesa AS\n",
    "SELECT * FROM parquet_scan(\"data/bronze/snapshots/bronze-2020-smoke/camara/legislaturas/mesa/year=*/part-*.parquet\")\n",
    "WHERE source = 'camara' AND entity = 'legislaturas/mesa';\n",
    "\n",
    "SELECT COUNT(*) AS n FROM bronze_camara_legislaturas_mesa;"
   ]
  },
  {
   "cell_type": "code",
   "execution_count": 78,
   "id": "35d87ee4",
   "metadata": {
    "vscode": {
     "languageId": "sql"
    }
   },
   "outputs": [
    {
     "data": {
      "text/html": [
       "<span style=\"None\">Running query in &#x27;duck&#x27;</span>"
      ],
      "text/plain": [
       "Running query in 'duck'"
      ]
     },
     "metadata": {},
     "output_type": "display_data"
    },
    {
     "data": {
      "text/html": [
       "<table>\n",
       "    <thead>\n",
       "        <tr>\n",
       "            <th>source</th>\n",
       "            <th>entity</th>\n",
       "            <th>id</th>\n",
       "            <th>url</th>\n",
       "            <th>payload_json</th>\n",
       "            <th>payload_sha256</th>\n",
       "            <th>year</th>\n",
       "        </tr>\n",
       "    </thead>\n",
       "    <tbody>\n",
       "        <tr>\n",
       "            <td>camara</td>\n",
       "            <td>legislaturas/mesa</td>\n",
       "            <td>52</td>\n",
       "            <td><a href=https://dadosabertos.camara.leg.br/api/v2/legislaturas/52/mesa>https://dadosabertos.camara.leg.br/api/v2/legislaturas/52/mesa</a></td>\n",
       "            <td>{\"dados\":[{\"codTitulo\":\"7\",\"dataFim\":\"2007-01-31\",\"dataInicio\":\"2005-02-14\",\"email\":null,\"id\":73945,\"idLegislatura\":52,\"nome\":\"EDUARDO GOMES\",\"siglaPartido\":\"PSDB\",\"siglaUf\":\"TO\",\"titulo\":\"3º Secretário\",\"uri\":\"https://dadosabertos.camara.leg.br/api/v2/deputados/73945\",\"uriPartido\":\"https://dadosabertos.camara.leg.br/api/v2/partidos/36835\",\"urlFoto\":\"https://www.camara.leg.br/internet/deputado/bandep/73945.jpg\"},{\"codTitulo\":\"7\",\"dataFim\":\"2005-02-14\",\"dataInicio\":\"2003-02-02\",\"email\":null,\"id\":74359,\"idLegislatura\":52,\"nome\":\"NILTON CAPIXABA\",\"siglaPartido\":\"PTB\",\"siglaUf\":\"RO\",\"titulo\":\"3º Secretário\",\"uri\":\"https://dadosabertos.camara.leg.br/api/v2/deputados/74359\",\"uriPartido\":\"https://dadosabertos.camara.leg.br/api/v2/partidos/36845\",\"urlFoto\":\"https://www.camara.leg.br/internet/deputado/bandep/74359.jpg\"},{\"codTitulo\":\"10\",\"dataFim\":\"2004-12-01\",\"dataInicio\":\"2003-02-02\",\"email\":null,\"id\":74801,\"idLegislatura\":52,\"nome\":\"WILSON SANTOS\",\"siglaPartido\":\"PSDB\",\"siglaUf\":\"MT\",\"titulo\":\"2º Suplente de Secretário\",\"uri\":\"https://dadosabertos.camara.leg.br/api/v2/deputados/74801\",\"uriPartido\":\"https://dadosabertos.camara.leg.br/api/v2/partidos/36835\",\"urlFoto\":\"https://www.camara.leg.br/internet/deputado/bandep/74801.jpg\"},{\"codTitulo\":\"10\",\"dataFim\":\"2007-01-31\",\"dataInicio\":\"2005-02-14\",\"email\":null,\"id\":74563,\"idLegislatura\":52,\"nome\":\"JORGE ALBERTO\",\"siglaPartido\":\"PMDB\",\"siglaUf\":\"SE\",\"titulo\":\"2º Suplente de Secretário\",\"uri\":\"https://dadosabertos.camara.leg.br/api/v2/deputados/74563\",\"uriPartido\":\"https://dadosabertos.camara.leg.br/api/v2/partidos/36800\",\"urlFoto\":\"https://www.camara.leg.br/internet/deputado/bandep/74563.jpg\"},{\"codTitulo\":\"1\",\"dataFim\":\"2005-02-14\",\"dataInicio\":\"2003-02-02\",\"email\":null,\"id\":73534,\"idLegislatura\":52,\"nome\":\"JOÃO PAULO CUNHA\",\"siglaPartido\":\"PT\",\"siglaUf\":\"SP\",\"titulo\":\"Presidente\",\"uri\":\"https://dadosabertos.camara.leg.br/api/v2/deputados/73534\",\"uriPartido\":\"https://dadosabertos.camara.leg.br/api/v2/partidos/36844\",\"urlFoto\":\"https://www.camara.leg.br/internet/deputado/bandep/73534.jpg\"},{\"codTitulo\":\"1\",\"dataFim\":\"2007-01-31\",\"dataInicio\":\"2005-09-28\",\"email\":null,\"id\":73428,\"idLegislatura\":52,\"nome\":\"ALDO REBELO\",\"siglaPartido\":\"PCdoB\",\"siglaUf\":\"SP\",\"titulo\":\"Presidente\",\"uri\":\"https://dadosabertos.camara.leg.br/api/v2/deputados/73428\",\"uriPartido\":\"https://dadosabertos.camara.leg.br/api/v2/partidos/36779\",\"urlFoto\":\"https://www.camara.leg.br/internet/deputado/bandep/73428.jpg\"},{\"codTitulo\":\"11\",\"dataFim\":\"2004-12-31\",\"dataInicio\":\"2003-02-02\",\"email\":null,\"id\":74097,\"idLegislatura\":52,\"nome\":\"CONFÚCIO MOURA\",\"siglaPartido\":\"PMDB\",\"siglaUf\":\"RO\",\"titulo\":\"3º Suplente de Secretário\",\"uri\":\"https://dadosabertos.camara.leg.br/api/v2/deputados/74097\",\"uriPartido\":\"https://dadosabertos.camara.leg.br/api/v2/partidos/36800\",\"urlFoto\":\"https://www.camara.leg.br/internet/deputado/bandep/74097.jpg\"},{\"codTitulo\":\"11\",\"dataFim\":\"2007-01-31\",\"dataInicio\":\"2005-02-14\",\"email\":null,\"id\":74374,\"idLegislatura\":52,\"nome\":\"GERALDO RESENDE\",\"siglaPartido\":\"PPS\",\"siglaUf\":\"MS\",\"titulo\":\"3º Suplente de Secretário\",\"uri\":\"https://dadosabertos.camara.leg.br/api/v2/deputados/74374\",\"uriPartido\":\"https://dadosabertos.camara.leg.br/api/v2/partidos/36813\",\"urlFoto\":\"https://www.camara.leg.br/internet/deputado/bandep/74374.jpg\"},{\"codTitulo\":\"1\",\"dataFim\":\"2005-09-21\",\"dataInicio\":\"2005-02-14\",\"email\":null,\"id\":74436,\"idLegislatura\":52,\"nome\":\"SEVERINO CAVALCANTI\",\"siglaPartido\":\"PPB\",\"siglaUf\":\"PE\",\"titulo\":\"Presidente\",\"uri\":\"https://dadosabertos.camara.leg.br/api/v2/deputados/74436\",\"uriPartido\":\"https://dadosabertos.camara.leg.br/api/v2/partidos/36809\",\"urlFoto\":\"https://www.camara.leg.br/internet/deputado/bandep/74436.jpg\"},{\"codTitulo\":\"5\",\"dataFim\":\"2007-01-31\",\"dataInicio\":\"2005-02-14\",\"email\":null,\"id\":74421,\"idLegislatura\":52,\"nome\":\"INOCÊNCIO OLIVEIRA\",\"siglaPartido\":\"PFL\",\"siglaUf\":\"PE\",\"titulo\":\"1º Secretário\",\"uri\":\"https://dadosabertos.camara.leg.br/api/v2/deputados/74421\",\"uriPartido\":\"https://dadosabertos.camara.leg.br/api/v2/partidos/36814\",\"urlFoto\":\"https://www.camara.leg.br/internet/deputado/bandep/74421.jpg\"},{\"codTitulo\":\"8\",\"dataFim\":\"2005-02-14\",\"dataInicio\":\"2003-02-02\",\"email\":null,\"id\":74313,\"idLegislatura\":52,\"nome\":\"CIRO NOGUEIRA\",\"siglaPartido\":\"PFL\",\"siglaUf\":\"PI\",\"titulo\":\"4º Secretário\",\"uri\":\"https://dadosabertos.camara.leg.br/api/v2/deputados/74313\",\"uriPartido\":\"https://dadosabertos.camara.leg.br/api/v2/partidos/36809\",\"urlFoto\":\"https://www.camara.leg.br/internet/deputado/bandep/74313.jpg\"},{\"codTitulo\":\"8\",\"dataFim\":\"2007-01-31\",\"dataInicio\":\"2005-02-16\",\"email\":null,\"id\":74559,\"idLegislatura\":52,\"nome\":\"JOÃO CALDAS\",\"siglaPartido\":\"PL*\",\"siglaUf\":\"AL\",\"titulo\":\"4º Secretário\",\"uri\":\"https://dadosabertos.camara.leg.br/api/v2/deputados/74559\",\"uriPartido\":\"https://dadosabertos.camara.leg.br/api/v2/partidos/36814\",\"urlFoto\":\"https://www.camara.leg.br/internet/deputado/bandep/74559.jpg\"},{\"codTitulo\":\"5\",\"dataFim\":\"2005-02-14\",\"dataInicio\":\"2003-02-02\",\"email\":null,\"id\":74544,\"idLegislatura\":52,\"nome\":\"GEDDEL VIEIRA LIMA\",\"siglaPartido\":\"PMDB\",\"siglaUf\":\"BA\",\"titulo\":\"1º Secretário\",\"uri\":\"https://dadosabertos.camara.leg.br/api/v2/deputados/74544\",\"uriPartido\":\"https://dadosabertos.camara.leg.br/api/v2/partidos/36800\",\"urlFoto\":\"https://www.camara.leg.br/internet/deputado/bandep/74544.jpg\"},{\"codTitulo\":\"6\",\"dataFim\":\"2005-02-14\",\"dataInicio\":\"2003-02-02\",\"email\":null,\"id\":74436,\"idLegislatura\":52,\"nome\":\"SEVERINO CAVALCANTI\",\"siglaPartido\":\"PPB\",\"siglaUf\":\"PE\",\"titulo\":\"2º Secretário\",\"uri\":\"https://dadosabertos.camara.leg.br/api/v2/deputados/74436\",\"uriPartido\":\"https://dadosabertos.camara.leg.br/api/v2/partidos/36809\",\"urlFoto\":\"https://www.camara.leg.br/internet/deputado/bandep/74436.jpg\"},{\"codTitulo\":\"2\",\"dataFim\":\"2005-02-14\",\"dataInicio\":\"2003-02-02\",\"email\":null,\"id\":74421,\"idLegislatura\":52,\"nome\":\"INOCÊNCIO OLIVEIRA\",\"siglaPartido\":\"PFL\",\"siglaUf\":\"PE\",\"titulo\":\"1º Vice-Presidente\",\"uri\":\"https://dadosabertos.camara.leg.br/api/v2/deputados/74421\",\"uriPartido\":\"https://dadosabertos.camara.leg.br/api/v2/partidos/36814\",\"urlFoto\":\"https://www.camara.leg.br/internet/deputado/bandep/74421.jpg\"},{\"codTitulo\":\"9\",\"dataFim\":\"2005-02-14\",\"dataInicio\":\"2003-02-02\",\"email\":null,\"id\":74419,\"idLegislatura\":52,\"nome\":\"GONZAGA PATRIOTA\",\"siglaPartido\":\"PSB\",\"siglaUf\":\"PE\",\"titulo\":\"1º Suplente de Secretário\",\"uri\":\"https://dadosabertos.camara.leg.br/api/v2/deputados/74419\",\"uriPartido\":\"https://dadosabertos.camara.leg.br/api/v2/partidos/36832\",\"urlFoto\":\"https://www.camara.leg.br/internet/deputado/bandep/74419.jpg\"},{\"codTitulo\":\"3\",\"dataFim\":\"2005-02-14\",\"dataInicio\":\"2003-02-02\",\"email\":null,\"id\":74427,\"idLegislatura\":52,\"nome\":\"LUIZ PIAUHYLINO\",\"siglaPartido\":\"PSDB\",\"siglaUf\":\"PE\",\"titulo\":\"2º Vice-Presidente\",\"uri\":\"https://dadosabertos.camara.leg.br/api/v2/deputados/74427\",\"uriPartido\":\"https://dadosabertos.camara.leg.br/api/v2/partidos/36786\",\"urlFoto\":\"https://www.camara.leg.br/internet/deputado/bandep/74427.jpg\"},{\"codTitulo\":\"3\",\"dataFim\":\"2007-01-31\",\"dataInicio\":\"2005-02-14\",\"email\":null,\"id\":74313,\"idLegislatura\":52,\"nome\":\"CIRO NOGUEIRA\",\"siglaPartido\":\"PFL\",\"siglaUf\":\"PI\",\"titulo\":\"2º Vice-Presidente\",\"uri\":\"https://dadosabertos.camara.leg.br/api/v2/deputados/74313\",\"uriPartido\":\"https://dadosabertos.camara.leg.br/api/v2/partidos/36809\",\"urlFoto\":\"https://www.camara.leg.br/internet/deputado/bandep/74313.jpg\"},{\"codTitulo\":\"6\",\"dataFim\":\"2007-01-31\",\"dataInicio\":\"2005-02-14\",\"email\":null,\"id\":74359,\"idLegislatura\":52,\"nome\":\"NILTON CAPIXABA\",\"siglaPartido\":\"PTB\",\"siglaUf\":\"RO\",\"titulo\":\"2º Secretário\",\"uri\":\"https://dadosabertos.camara.leg.br/api/v2/deputados/74359\",\"uriPartido\":\"https://dadosabertos.camara.leg.br/api/v2/partidos/36845\",\"urlFoto\":\"https://www.camara.leg.br/internet/deputado/bandep/74359.jpg\"},{\"codTitulo\":\"12\",\"dataFim\":\"2007-01-31\",\"dataInicio\":\"2005-02-14\",\"email\":null,\"id\":74158,\"idLegislatura\":52,\"nome\":\"MÁRIO HERINGER\",\"siglaPartido\":\"PDT\",\"siglaUf\":\"MG\",\"titulo\":\"4º Suplente de Secretário\",\"uri\":\"https://dadosabertos.camara.leg.br/api/v2/deputados/74158\",\"uriPartido\":\"https://dadosabertos.camara.leg.br/api/v2/partidos/36786\",\"urlFoto\":\"https://www.camara.leg.br/internet/deputado/bandep/74158.jpg\"},{\"codTitulo\":\"12\",\"dataFim\":\"2005-02-14\",\"dataInicio\":\"2003-02-02\",\"email\":null,\"id\":74559,\"idLegislatura\":52,\"nome\":\"JOÃO CALDAS\",\"siglaPartido\":\"PL*\",\"siglaUf\":\"AL\",\"titulo\":\"4º Suplente de Secretário\",\"uri\":\"https://dadosabertos.camara.leg.br/api/v2/deputados/74559\",\"uriPartido\":\"https://dadosabertos.camara.leg.br/api/v2/partidos/36814\",\"urlFoto\":\"https://www.camara.leg.br/internet/deputado/bandep/74559.jpg\"},{\"codTitulo\":\"2\",\"dataFim\":\"2007-01-31\",\"dataInicio\":\"2005-02-16\",\"email\":null,\"id\":74520,\"idLegislatura\":52,\"nome\":\"JOSÉ THOMAZ NONÔ\",\"siglaPartido\":\"PFL\",\"siglaUf\":\"AL\",\"titulo\":\"1º Vice-Presidente\",\"uri\":\"https://dadosabertos.camara.leg.br/api/v2/deputados/74520\",\"uriPartido\":\"https://dadosabertos.camara.leg.br/api/v2/partidos/36790\",\"urlFoto\":\"https://www.camara.leg.br/internet/deputado/bandep/74520.jpg\"},{\"codTitulo\":\"9\",\"dataFim\":\"2007-01-31\",\"dataInicio\":\"2005-02-14\",\"email\":null,\"id\":74558,\"idLegislatura\":52,\"nome\":\"GIVALDO CARIMBÃO\",\"siglaPartido\":\"PSB\",\"siglaUf\":\"AL\",\"titulo\":\"1º Suplente de Secretário\",\"uri\":\"https://dadosabertos.camara.leg.br/api/v2/deputados/74558\",\"uriPartido\":\"https://dadosabertos.camara.leg.br/api/v2/partidos/36832\",\"urlFoto\":\"https://www.camara.leg.br/internet/deputado/bandep/74558.jpg\"}]}</td>\n",
       "            <td>a9d8951c1209f64b88b7d9eadb1b080c8cc123c13987d3add0e86729884a5e9d</td>\n",
       "            <td>2003</td>\n",
       "        </tr>\n",
       "    </tbody>\n",
       "</table>"
      ],
      "text/plain": [
       "+--------+-------------------+----+-------------------------------------------------------------------------------------------------------------------------------------------+-----------------------------------------------------------------------------------------------------------------------------------------------------------------------------------------------------------------------------------------------------------------------------------------------------------------------------------------------------------------------------------------------------------------------------------------------------------------------------------------------------------------------------------------------------------------------------------------------------------------------------------------------------------------------------------------------------------------------------------------------------------------------------------------------------------------------------------------------------------------------------------------------------------------------------------------------------------------------------------------------------------------------------------------------------------------------------------------------------------------------------------------------------------------------------------------------------------------------------------------------------------------------------------------------------------------------------------------------------------------------------------------------------------------------------------------------------------------------------------------------------------------------------------------------------------------------------------------------------------------------------------------------------------------------------------------------------------------------------------------------------------------------------------------------------------------------------------------------------------------------------------------------------------------------------------------------------------------------------------------------------------------------------------------------------------------------------------------------------------------------------------------------------------------------------------------------------------------------------------------------------------------------------------------------------------------------------------------------------------------------------------------------------------------------------------------------------------------------------------------------------------------------------------------------------------------------------------------------------------------------------------------------------------------------------------------------------------------------------------------------------------------------------------------------------------------------------------------------------------------------------------------------------------------------------------------------------------------------------------------------------------------------------------------------------------------------------------------------------------------------------------------------------------------------------------------------------------------------------------------------------------------------------------------------------------------------------------------------------------------------------------------------------------------------------------------------------------------------------------------------------------------------------------------------------------------------------------------------------------------------------------------------------------------------------------------------------------------------------------------------------------------------------------------------------------------------------------------------------------------------------------------------------------------------------------------------------------------------------------------------------------------------------------------------------------------------------------------------------------------------------------------------------------------------------------------------------------------------------------------------------------------------------------------------------------------------------------------------------------------------------------------------------------------------------------------------------------------------------------------------------------------------------------------------------------------------------------------------------------------------------------------------------------------------------------------------------------------------------------------------------------------------------------------------------------------------------------------------------------------------------------------------------------------------------------------------------------------------------------------------------------------------------------------------------------------------------------------------------------------------------------------------------------------------------------------------------------------------------------------------------------------------------------------------------------------------------------------------------------------------------------------------------------------------------------------------------------------------------------------------------------------------------------------------------------------------------------------------------------------------------------------------------------------------------------------------------------------------------------------------------------------------------------------------------------------------------------------------------------------------------------------------------------------------------------------------------------------------------------------------------------------------------------------------------------------------------------------------------------------------------------------------------------------------------------------------------------------------------------------------------------------------------------------------------------------------------------------------------------------------------------------------------------------------------------------------------------------------------------------------------------------------------------------------------------------------------------------------------------------------------------------------------------------------------------------------------------------------------------------------------------------------------------------------------------------------------------------------------------------------------------------------------------------------------------------------------------------------------------------------------------------------------------------------------------------------------------------------------------------------------------------------------------------------------------------------------------------------------------------------------------------------------------------------------------------------------------------------------------------------------------------------------------------------------------------------------------------------------------------------------------------------------------------------------------------------------------------------------------------------------------------------------------------------------------------------------------------------------------------------------------------------------------------------------------------------------------------------------------------------------------------------------------------------------------------------------------------------------------------------------------------------------------------------------------------------------------------------------------------------------------------------------------------------------------------------------------------------------------------------------------------------------------------------------------------------------------------------------------------------------------------------------------------------------------------------------------------------------------------------------------------------------------------------------------------------------------------------------------------------------------------------------------------------------------------------------------------------------------------------------------------------------------------------------------------------------------------------------------------------------------------------------------------------------------------------------------------------------------------------------------------------------------------------------------------------------------------------------------------------------------------------------------------------------------------------------------------------------------------------------------------------------------------------------------------------------------------------------------------------------------------------------------------------------------------------------------------------------------------------------------------------------------------------------------------------------------------------------------------------------------------------------------------------------------------------------------------------------------------------------------------------------------------------------------------------------------------------------------------------------------+------------------------------------------------------------------+------+\n",
       "| source |       entity      | id |                                                                    url                                                                    |                                                                                                                                                                                                                                                                                                                                                                                                                                                                                                                                                                                                                                                                                                                                                                                                                                                                                                                                                                                                                                                                                                                                                                                                                                                                                                                                                                                                                                                                                                                                                                                                                                                                                                                                                                                                                                                                                                                                                                                                                                                                                                                                                                                                                                                                                                                                                                                                                                                                                                                                                                                                                                                                                                                                                                                                                                                                                                                                                                                                                                                                                                                                                                                                                                                                                                                                                                                                                                                                                                                                                                                                                                                                                                                                                                                                                                                                                                                                                                                                                                                                                                                                                                                                                                                                                                                                                                                                                                                                                                                                                                                                                                                                                                                                                                                                                                                                                                                                    payload_json                                                                                                                                                                                                                                                                                                                                                                                                                                                                                                                                                                                                                                                                                                                                                                                                                                                                                                                                                                                                                                                                                                                                                                                                                                                                                                                                                                                                                                                                                                                                                                                                                                                                                                                                                                                                                                                                                                                                                                                                                                                                                                                                                                                                                                                                                                                                                                                                                                                                                                                                                                                                                                                                                                                                                                                                                                                                                                                                                                                                                                                                                                                                                                                                                                                                                                                                                                                                                                                                                                                                                                                                                                                                                                                                                                                                                                                                                                                                                                                                                                                                                                                                                                                                                                                                                                                                                                                                                                                                                                                                                                                                                                                                                                                                                                                                                                                                                                                                   |                          payload_sha256                          | year |\n",
       "+--------+-------------------+----+-------------------------------------------------------------------------------------------------------------------------------------------+-----------------------------------------------------------------------------------------------------------------------------------------------------------------------------------------------------------------------------------------------------------------------------------------------------------------------------------------------------------------------------------------------------------------------------------------------------------------------------------------------------------------------------------------------------------------------------------------------------------------------------------------------------------------------------------------------------------------------------------------------------------------------------------------------------------------------------------------------------------------------------------------------------------------------------------------------------------------------------------------------------------------------------------------------------------------------------------------------------------------------------------------------------------------------------------------------------------------------------------------------------------------------------------------------------------------------------------------------------------------------------------------------------------------------------------------------------------------------------------------------------------------------------------------------------------------------------------------------------------------------------------------------------------------------------------------------------------------------------------------------------------------------------------------------------------------------------------------------------------------------------------------------------------------------------------------------------------------------------------------------------------------------------------------------------------------------------------------------------------------------------------------------------------------------------------------------------------------------------------------------------------------------------------------------------------------------------------------------------------------------------------------------------------------------------------------------------------------------------------------------------------------------------------------------------------------------------------------------------------------------------------------------------------------------------------------------------------------------------------------------------------------------------------------------------------------------------------------------------------------------------------------------------------------------------------------------------------------------------------------------------------------------------------------------------------------------------------------------------------------------------------------------------------------------------------------------------------------------------------------------------------------------------------------------------------------------------------------------------------------------------------------------------------------------------------------------------------------------------------------------------------------------------------------------------------------------------------------------------------------------------------------------------------------------------------------------------------------------------------------------------------------------------------------------------------------------------------------------------------------------------------------------------------------------------------------------------------------------------------------------------------------------------------------------------------------------------------------------------------------------------------------------------------------------------------------------------------------------------------------------------------------------------------------------------------------------------------------------------------------------------------------------------------------------------------------------------------------------------------------------------------------------------------------------------------------------------------------------------------------------------------------------------------------------------------------------------------------------------------------------------------------------------------------------------------------------------------------------------------------------------------------------------------------------------------------------------------------------------------------------------------------------------------------------------------------------------------------------------------------------------------------------------------------------------------------------------------------------------------------------------------------------------------------------------------------------------------------------------------------------------------------------------------------------------------------------------------------------------------------------------------------------------------------------------------------------------------------------------------------------------------------------------------------------------------------------------------------------------------------------------------------------------------------------------------------------------------------------------------------------------------------------------------------------------------------------------------------------------------------------------------------------------------------------------------------------------------------------------------------------------------------------------------------------------------------------------------------------------------------------------------------------------------------------------------------------------------------------------------------------------------------------------------------------------------------------------------------------------------------------------------------------------------------------------------------------------------------------------------------------------------------------------------------------------------------------------------------------------------------------------------------------------------------------------------------------------------------------------------------------------------------------------------------------------------------------------------------------------------------------------------------------------------------------------------------------------------------------------------------------------------------------------------------------------------------------------------------------------------------------------------------------------------------------------------------------------------------------------------------------------------------------------------------------------------------------------------------------------------------------------------------------------------------------------------------------------------------------------------------------------------------------------------------------------------------------------------------------------------------------------------------------------------------------------------------------------------------------------------------------------------------------------------------------------------------------------------------------------------------------------------------------------------------------------------------------------------------------------------------------------------------------------------------------------------------------------------------------------------------------------------------------------------------------------------------------------------------------------------------------------------------------------------------------------------------------------------------------------------------------------------------------------------------------------------------------------------------------------------------------------------------------------------------------------------------------------------------------------------------------------------------------------------------------------------------------------------------------------------------------------------------------------------------------------------------------------------------------------------------------------------------------------------------------------------------------------------------------------------------------------------------------------------------------------------------------------------------------------------------------------------------------------------------------------------------------------------------------------------------------------------------------------------------------------------------------------------------------------------------------------------------------------------------------------------------------------------------------------------------------------------------------------------------------------------------------------------------------------------------------------------------------------------------------------------------------------------------------------------------------------------+------------------------------------------------------------------+------+\n",
       "| camara | legislaturas/mesa | 52 | <a href=https://dadosabertos.camara.leg.br/api/v2/legislaturas/52/mesa>https://dadosabertos.camara.leg.br/api/v2/legislaturas/52/mesa</a> | {\"dados\":[{\"codTitulo\":\"7\",\"dataFim\":\"2007-01-31\",\"dataInicio\":\"2005-02-14\",\"email\":null,\"id\":73945,\"idLegislatura\":52,\"nome\":\"EDUARDO GOMES\",\"siglaPartido\":\"PSDB\",\"siglaUf\":\"TO\",\"titulo\":\"3º Secretário\",\"uri\":\"https://dadosabertos.camara.leg.br/api/v2/deputados/73945\",\"uriPartido\":\"https://dadosabertos.camara.leg.br/api/v2/partidos/36835\",\"urlFoto\":\"https://www.camara.leg.br/internet/deputado/bandep/73945.jpg\"},{\"codTitulo\":\"7\",\"dataFim\":\"2005-02-14\",\"dataInicio\":\"2003-02-02\",\"email\":null,\"id\":74359,\"idLegislatura\":52,\"nome\":\"NILTON CAPIXABA\",\"siglaPartido\":\"PTB\",\"siglaUf\":\"RO\",\"titulo\":\"3º Secretário\",\"uri\":\"https://dadosabertos.camara.leg.br/api/v2/deputados/74359\",\"uriPartido\":\"https://dadosabertos.camara.leg.br/api/v2/partidos/36845\",\"urlFoto\":\"https://www.camara.leg.br/internet/deputado/bandep/74359.jpg\"},{\"codTitulo\":\"10\",\"dataFim\":\"2004-12-01\",\"dataInicio\":\"2003-02-02\",\"email\":null,\"id\":74801,\"idLegislatura\":52,\"nome\":\"WILSON SANTOS\",\"siglaPartido\":\"PSDB\",\"siglaUf\":\"MT\",\"titulo\":\"2º Suplente de Secretário\",\"uri\":\"https://dadosabertos.camara.leg.br/api/v2/deputados/74801\",\"uriPartido\":\"https://dadosabertos.camara.leg.br/api/v2/partidos/36835\",\"urlFoto\":\"https://www.camara.leg.br/internet/deputado/bandep/74801.jpg\"},{\"codTitulo\":\"10\",\"dataFim\":\"2007-01-31\",\"dataInicio\":\"2005-02-14\",\"email\":null,\"id\":74563,\"idLegislatura\":52,\"nome\":\"JORGE ALBERTO\",\"siglaPartido\":\"PMDB\",\"siglaUf\":\"SE\",\"titulo\":\"2º Suplente de Secretário\",\"uri\":\"https://dadosabertos.camara.leg.br/api/v2/deputados/74563\",\"uriPartido\":\"https://dadosabertos.camara.leg.br/api/v2/partidos/36800\",\"urlFoto\":\"https://www.camara.leg.br/internet/deputado/bandep/74563.jpg\"},{\"codTitulo\":\"1\",\"dataFim\":\"2005-02-14\",\"dataInicio\":\"2003-02-02\",\"email\":null,\"id\":73534,\"idLegislatura\":52,\"nome\":\"JOÃO PAULO CUNHA\",\"siglaPartido\":\"PT\",\"siglaUf\":\"SP\",\"titulo\":\"Presidente\",\"uri\":\"https://dadosabertos.camara.leg.br/api/v2/deputados/73534\",\"uriPartido\":\"https://dadosabertos.camara.leg.br/api/v2/partidos/36844\",\"urlFoto\":\"https://www.camara.leg.br/internet/deputado/bandep/73534.jpg\"},{\"codTitulo\":\"1\",\"dataFim\":\"2007-01-31\",\"dataInicio\":\"2005-09-28\",\"email\":null,\"id\":73428,\"idLegislatura\":52,\"nome\":\"ALDO REBELO\",\"siglaPartido\":\"PCdoB\",\"siglaUf\":\"SP\",\"titulo\":\"Presidente\",\"uri\":\"https://dadosabertos.camara.leg.br/api/v2/deputados/73428\",\"uriPartido\":\"https://dadosabertos.camara.leg.br/api/v2/partidos/36779\",\"urlFoto\":\"https://www.camara.leg.br/internet/deputado/bandep/73428.jpg\"},{\"codTitulo\":\"11\",\"dataFim\":\"2004-12-31\",\"dataInicio\":\"2003-02-02\",\"email\":null,\"id\":74097,\"idLegislatura\":52,\"nome\":\"CONFÚCIO MOURA\",\"siglaPartido\":\"PMDB\",\"siglaUf\":\"RO\",\"titulo\":\"3º Suplente de Secretário\",\"uri\":\"https://dadosabertos.camara.leg.br/api/v2/deputados/74097\",\"uriPartido\":\"https://dadosabertos.camara.leg.br/api/v2/partidos/36800\",\"urlFoto\":\"https://www.camara.leg.br/internet/deputado/bandep/74097.jpg\"},{\"codTitulo\":\"11\",\"dataFim\":\"2007-01-31\",\"dataInicio\":\"2005-02-14\",\"email\":null,\"id\":74374,\"idLegislatura\":52,\"nome\":\"GERALDO RESENDE\",\"siglaPartido\":\"PPS\",\"siglaUf\":\"MS\",\"titulo\":\"3º Suplente de Secretário\",\"uri\":\"https://dadosabertos.camara.leg.br/api/v2/deputados/74374\",\"uriPartido\":\"https://dadosabertos.camara.leg.br/api/v2/partidos/36813\",\"urlFoto\":\"https://www.camara.leg.br/internet/deputado/bandep/74374.jpg\"},{\"codTitulo\":\"1\",\"dataFim\":\"2005-09-21\",\"dataInicio\":\"2005-02-14\",\"email\":null,\"id\":74436,\"idLegislatura\":52,\"nome\":\"SEVERINO CAVALCANTI\",\"siglaPartido\":\"PPB\",\"siglaUf\":\"PE\",\"titulo\":\"Presidente\",\"uri\":\"https://dadosabertos.camara.leg.br/api/v2/deputados/74436\",\"uriPartido\":\"https://dadosabertos.camara.leg.br/api/v2/partidos/36809\",\"urlFoto\":\"https://www.camara.leg.br/internet/deputado/bandep/74436.jpg\"},{\"codTitulo\":\"5\",\"dataFim\":\"2007-01-31\",\"dataInicio\":\"2005-02-14\",\"email\":null,\"id\":74421,\"idLegislatura\":52,\"nome\":\"INOCÊNCIO OLIVEIRA\",\"siglaPartido\":\"PFL\",\"siglaUf\":\"PE\",\"titulo\":\"1º Secretário\",\"uri\":\"https://dadosabertos.camara.leg.br/api/v2/deputados/74421\",\"uriPartido\":\"https://dadosabertos.camara.leg.br/api/v2/partidos/36814\",\"urlFoto\":\"https://www.camara.leg.br/internet/deputado/bandep/74421.jpg\"},{\"codTitulo\":\"8\",\"dataFim\":\"2005-02-14\",\"dataInicio\":\"2003-02-02\",\"email\":null,\"id\":74313,\"idLegislatura\":52,\"nome\":\"CIRO NOGUEIRA\",\"siglaPartido\":\"PFL\",\"siglaUf\":\"PI\",\"titulo\":\"4º Secretário\",\"uri\":\"https://dadosabertos.camara.leg.br/api/v2/deputados/74313\",\"uriPartido\":\"https://dadosabertos.camara.leg.br/api/v2/partidos/36809\",\"urlFoto\":\"https://www.camara.leg.br/internet/deputado/bandep/74313.jpg\"},{\"codTitulo\":\"8\",\"dataFim\":\"2007-01-31\",\"dataInicio\":\"2005-02-16\",\"email\":null,\"id\":74559,\"idLegislatura\":52,\"nome\":\"JOÃO CALDAS\",\"siglaPartido\":\"PL*\",\"siglaUf\":\"AL\",\"titulo\":\"4º Secretário\",\"uri\":\"https://dadosabertos.camara.leg.br/api/v2/deputados/74559\",\"uriPartido\":\"https://dadosabertos.camara.leg.br/api/v2/partidos/36814\",\"urlFoto\":\"https://www.camara.leg.br/internet/deputado/bandep/74559.jpg\"},{\"codTitulo\":\"5\",\"dataFim\":\"2005-02-14\",\"dataInicio\":\"2003-02-02\",\"email\":null,\"id\":74544,\"idLegislatura\":52,\"nome\":\"GEDDEL VIEIRA LIMA\",\"siglaPartido\":\"PMDB\",\"siglaUf\":\"BA\",\"titulo\":\"1º Secretário\",\"uri\":\"https://dadosabertos.camara.leg.br/api/v2/deputados/74544\",\"uriPartido\":\"https://dadosabertos.camara.leg.br/api/v2/partidos/36800\",\"urlFoto\":\"https://www.camara.leg.br/internet/deputado/bandep/74544.jpg\"},{\"codTitulo\":\"6\",\"dataFim\":\"2005-02-14\",\"dataInicio\":\"2003-02-02\",\"email\":null,\"id\":74436,\"idLegislatura\":52,\"nome\":\"SEVERINO CAVALCANTI\",\"siglaPartido\":\"PPB\",\"siglaUf\":\"PE\",\"titulo\":\"2º Secretário\",\"uri\":\"https://dadosabertos.camara.leg.br/api/v2/deputados/74436\",\"uriPartido\":\"https://dadosabertos.camara.leg.br/api/v2/partidos/36809\",\"urlFoto\":\"https://www.camara.leg.br/internet/deputado/bandep/74436.jpg\"},{\"codTitulo\":\"2\",\"dataFim\":\"2005-02-14\",\"dataInicio\":\"2003-02-02\",\"email\":null,\"id\":74421,\"idLegislatura\":52,\"nome\":\"INOCÊNCIO OLIVEIRA\",\"siglaPartido\":\"PFL\",\"siglaUf\":\"PE\",\"titulo\":\"1º Vice-Presidente\",\"uri\":\"https://dadosabertos.camara.leg.br/api/v2/deputados/74421\",\"uriPartido\":\"https://dadosabertos.camara.leg.br/api/v2/partidos/36814\",\"urlFoto\":\"https://www.camara.leg.br/internet/deputado/bandep/74421.jpg\"},{\"codTitulo\":\"9\",\"dataFim\":\"2005-02-14\",\"dataInicio\":\"2003-02-02\",\"email\":null,\"id\":74419,\"idLegislatura\":52,\"nome\":\"GONZAGA PATRIOTA\",\"siglaPartido\":\"PSB\",\"siglaUf\":\"PE\",\"titulo\":\"1º Suplente de Secretário\",\"uri\":\"https://dadosabertos.camara.leg.br/api/v2/deputados/74419\",\"uriPartido\":\"https://dadosabertos.camara.leg.br/api/v2/partidos/36832\",\"urlFoto\":\"https://www.camara.leg.br/internet/deputado/bandep/74419.jpg\"},{\"codTitulo\":\"3\",\"dataFim\":\"2005-02-14\",\"dataInicio\":\"2003-02-02\",\"email\":null,\"id\":74427,\"idLegislatura\":52,\"nome\":\"LUIZ PIAUHYLINO\",\"siglaPartido\":\"PSDB\",\"siglaUf\":\"PE\",\"titulo\":\"2º Vice-Presidente\",\"uri\":\"https://dadosabertos.camara.leg.br/api/v2/deputados/74427\",\"uriPartido\":\"https://dadosabertos.camara.leg.br/api/v2/partidos/36786\",\"urlFoto\":\"https://www.camara.leg.br/internet/deputado/bandep/74427.jpg\"},{\"codTitulo\":\"3\",\"dataFim\":\"2007-01-31\",\"dataInicio\":\"2005-02-14\",\"email\":null,\"id\":74313,\"idLegislatura\":52,\"nome\":\"CIRO NOGUEIRA\",\"siglaPartido\":\"PFL\",\"siglaUf\":\"PI\",\"titulo\":\"2º Vice-Presidente\",\"uri\":\"https://dadosabertos.camara.leg.br/api/v2/deputados/74313\",\"uriPartido\":\"https://dadosabertos.camara.leg.br/api/v2/partidos/36809\",\"urlFoto\":\"https://www.camara.leg.br/internet/deputado/bandep/74313.jpg\"},{\"codTitulo\":\"6\",\"dataFim\":\"2007-01-31\",\"dataInicio\":\"2005-02-14\",\"email\":null,\"id\":74359,\"idLegislatura\":52,\"nome\":\"NILTON CAPIXABA\",\"siglaPartido\":\"PTB\",\"siglaUf\":\"RO\",\"titulo\":\"2º Secretário\",\"uri\":\"https://dadosabertos.camara.leg.br/api/v2/deputados/74359\",\"uriPartido\":\"https://dadosabertos.camara.leg.br/api/v2/partidos/36845\",\"urlFoto\":\"https://www.camara.leg.br/internet/deputado/bandep/74359.jpg\"},{\"codTitulo\":\"12\",\"dataFim\":\"2007-01-31\",\"dataInicio\":\"2005-02-14\",\"email\":null,\"id\":74158,\"idLegislatura\":52,\"nome\":\"MÁRIO HERINGER\",\"siglaPartido\":\"PDT\",\"siglaUf\":\"MG\",\"titulo\":\"4º Suplente de Secretário\",\"uri\":\"https://dadosabertos.camara.leg.br/api/v2/deputados/74158\",\"uriPartido\":\"https://dadosabertos.camara.leg.br/api/v2/partidos/36786\",\"urlFoto\":\"https://www.camara.leg.br/internet/deputado/bandep/74158.jpg\"},{\"codTitulo\":\"12\",\"dataFim\":\"2005-02-14\",\"dataInicio\":\"2003-02-02\",\"email\":null,\"id\":74559,\"idLegislatura\":52,\"nome\":\"JOÃO CALDAS\",\"siglaPartido\":\"PL*\",\"siglaUf\":\"AL\",\"titulo\":\"4º Suplente de Secretário\",\"uri\":\"https://dadosabertos.camara.leg.br/api/v2/deputados/74559\",\"uriPartido\":\"https://dadosabertos.camara.leg.br/api/v2/partidos/36814\",\"urlFoto\":\"https://www.camara.leg.br/internet/deputado/bandep/74559.jpg\"},{\"codTitulo\":\"2\",\"dataFim\":\"2007-01-31\",\"dataInicio\":\"2005-02-16\",\"email\":null,\"id\":74520,\"idLegislatura\":52,\"nome\":\"JOSÉ THOMAZ NONÔ\",\"siglaPartido\":\"PFL\",\"siglaUf\":\"AL\",\"titulo\":\"1º Vice-Presidente\",\"uri\":\"https://dadosabertos.camara.leg.br/api/v2/deputados/74520\",\"uriPartido\":\"https://dadosabertos.camara.leg.br/api/v2/partidos/36790\",\"urlFoto\":\"https://www.camara.leg.br/internet/deputado/bandep/74520.jpg\"},{\"codTitulo\":\"9\",\"dataFim\":\"2007-01-31\",\"dataInicio\":\"2005-02-14\",\"email\":null,\"id\":74558,\"idLegislatura\":52,\"nome\":\"GIVALDO CARIMBÃO\",\"siglaPartido\":\"PSB\",\"siglaUf\":\"AL\",\"titulo\":\"1º Suplente de Secretário\",\"uri\":\"https://dadosabertos.camara.leg.br/api/v2/deputados/74558\",\"uriPartido\":\"https://dadosabertos.camara.leg.br/api/v2/partidos/36832\",\"urlFoto\":\"https://www.camara.leg.br/internet/deputado/bandep/74558.jpg\"}]} | a9d8951c1209f64b88b7d9eadb1b080c8cc123c13987d3add0e86729884a5e9d | 2003 |\n",
       "+--------+-------------------+----+-------------------------------------------------------------------------------------------------------------------------------------------+-----------------------------------------------------------------------------------------------------------------------------------------------------------------------------------------------------------------------------------------------------------------------------------------------------------------------------------------------------------------------------------------------------------------------------------------------------------------------------------------------------------------------------------------------------------------------------------------------------------------------------------------------------------------------------------------------------------------------------------------------------------------------------------------------------------------------------------------------------------------------------------------------------------------------------------------------------------------------------------------------------------------------------------------------------------------------------------------------------------------------------------------------------------------------------------------------------------------------------------------------------------------------------------------------------------------------------------------------------------------------------------------------------------------------------------------------------------------------------------------------------------------------------------------------------------------------------------------------------------------------------------------------------------------------------------------------------------------------------------------------------------------------------------------------------------------------------------------------------------------------------------------------------------------------------------------------------------------------------------------------------------------------------------------------------------------------------------------------------------------------------------------------------------------------------------------------------------------------------------------------------------------------------------------------------------------------------------------------------------------------------------------------------------------------------------------------------------------------------------------------------------------------------------------------------------------------------------------------------------------------------------------------------------------------------------------------------------------------------------------------------------------------------------------------------------------------------------------------------------------------------------------------------------------------------------------------------------------------------------------------------------------------------------------------------------------------------------------------------------------------------------------------------------------------------------------------------------------------------------------------------------------------------------------------------------------------------------------------------------------------------------------------------------------------------------------------------------------------------------------------------------------------------------------------------------------------------------------------------------------------------------------------------------------------------------------------------------------------------------------------------------------------------------------------------------------------------------------------------------------------------------------------------------------------------------------------------------------------------------------------------------------------------------------------------------------------------------------------------------------------------------------------------------------------------------------------------------------------------------------------------------------------------------------------------------------------------------------------------------------------------------------------------------------------------------------------------------------------------------------------------------------------------------------------------------------------------------------------------------------------------------------------------------------------------------------------------------------------------------------------------------------------------------------------------------------------------------------------------------------------------------------------------------------------------------------------------------------------------------------------------------------------------------------------------------------------------------------------------------------------------------------------------------------------------------------------------------------------------------------------------------------------------------------------------------------------------------------------------------------------------------------------------------------------------------------------------------------------------------------------------------------------------------------------------------------------------------------------------------------------------------------------------------------------------------------------------------------------------------------------------------------------------------------------------------------------------------------------------------------------------------------------------------------------------------------------------------------------------------------------------------------------------------------------------------------------------------------------------------------------------------------------------------------------------------------------------------------------------------------------------------------------------------------------------------------------------------------------------------------------------------------------------------------------------------------------------------------------------------------------------------------------------------------------------------------------------------------------------------------------------------------------------------------------------------------------------------------------------------------------------------------------------------------------------------------------------------------------------------------------------------------------------------------------------------------------------------------------------------------------------------------------------------------------------------------------------------------------------------------------------------------------------------------------------------------------------------------------------------------------------------------------------------------------------------------------------------------------------------------------------------------------------------------------------------------------------------------------------------------------------------------------------------------------------------------------------------------------------------------------------------------------------------------------------------------------------------------------------------------------------------------------------------------------------------------------------------------------------------------------------------------------------------------------------------------------------------------------------------------------------------------------------------------------------------------------------------------------------------------------------------------------------------------------------------------------------------------------------------------------------------------------------------------------------------------------------------------------------------------------------------------------------------------------------------------------------------------------------------------------------------------------------------------------------------------------------------------------------------------------------------------------------------------------------------------------------------------------------------------------------------------------------------------------------------------------------------------------------------------------------------------------------------------------------------------------------------------------------------------------------------------------------------------------------------------------------------------------------------------------------------------------------------------------------------------------------------------------------------------------------------------------------------------------------------------------------------------------------------------------------------------------------------------------------------------------------------------------------------------------------------------------------------------------------------------------------------------------------------------------------------------------------------------------------------------------------------------------------------------------------------------------------------------------------------------------------------------------------------------------------------+------------------------------------------------------------------+------+"
      ]
     },
     "execution_count": 78,
     "metadata": {},
     "output_type": "execute_result"
    }
   ],
   "source": [
    "%%sql\n",
    "SELECT * FROM bronze_camara_legislaturas_mesa LIMIT 1;"
   ]
  },
  {
   "cell_type": "code",
   "execution_count": 79,
   "id": "576823df",
   "metadata": {
    "vscode": {
     "languageId": "sql"
    }
   },
   "outputs": [
    {
     "data": {
      "text/html": [
       "<span style=\"None\">Running query in &#x27;duck&#x27;</span>"
      ],
      "text/plain": [
       "Running query in 'duck'"
      ]
     },
     "metadata": {},
     "output_type": "display_data"
    },
    {
     "data": {
      "text/html": [
       "<table>\n",
       "    <thead>\n",
       "        <tr>\n",
       "            <th>Count</th>\n",
       "        </tr>\n",
       "    </thead>\n",
       "    <tbody>\n",
       "        <tr>\n",
       "            <td>144</td>\n",
       "        </tr>\n",
       "    </tbody>\n",
       "</table>"
      ],
      "text/plain": [
       "+-------+\n",
       "| Count |\n",
       "+-------+\n",
       "|  144  |\n",
       "+-------+"
      ]
     },
     "execution_count": 79,
     "metadata": {},
     "output_type": "execute_result"
    }
   ],
   "source": [
    "\n",
    "%%sql\n",
    "DROP TABLE IF EXISTS legislaturas_mesa_camara;\n",
    "CREATE TABLE legislaturas_mesa_camara AS\n",
    "WITH base AS (\n",
    "    SELECT TRY_CAST(payload_json AS JSON) as j, \n",
    "    year AS year_snapshot,\n",
    "    id AS id_legislatura,\n",
    "    FROM bronze_camara_legislaturas_mesa\n",
    "),\n",
    "exploded as (\n",
    "    SELECT\n",
    "        CAST(base.id_legislatura AS BIGINT) AS id_legislatura,\n",
    "        -- id\n",
    "        CAST(jget1(elem.value, '$.id') AS BIGINT) AS id_deputado,\n",
    "        -- codTitulo\n",
    "        jget1(elem.value, '$.codTitulo') AS cod_titulo,\n",
    "        -- dataInicio\n",
    "        CAST(jget1(elem.value, '$.dataInicio') AS DATE) AS data_inicio,\n",
    "        -- dataFim\n",
    "        CAST(jget1(elem.value, '$.dataFim') AS DATE) AS data_fim,\n",
    "        year_snapshot,\n",
    "    FROM base\n",
    "    CROSS JOIN json_each(json_extract(j, '$.dados')) AS elem\n",
    ")\n",
    "SELECT\n",
    "    id_legislatura,\n",
    "    id_deputado,\n",
    "    cod_titulo,\n",
    "    data_inicio,\n",
    "    data_fim,\n",
    "    year_snapshot\n",
    "FROM exploded\n",
    "WHERE id_legislatura IS NOT NULL AND id_deputado IS NOT NULL\n",
    "ORDER BY id_legislatura, cod_titulo;\n",
    "\n",
    "\n"
   ]
  },
  {
   "cell_type": "markdown",
   "id": "0f6288ad",
   "metadata": {},
   "source": [
    "### Partidos e líderes"
   ]
  },
  {
   "cell_type": "code",
   "execution_count": 80,
   "id": "089dad94",
   "metadata": {
    "vscode": {
     "languageId": "sql"
    }
   },
   "outputs": [
    {
     "data": {
      "text/html": [
       "<span style=\"None\">Running query in &#x27;duck&#x27;</span>"
      ],
      "text/plain": [
       "Running query in 'duck'"
      ]
     },
     "metadata": {},
     "output_type": "display_data"
    },
    {
     "data": {
      "text/html": [
       "<table>\n",
       "    <thead>\n",
       "        <tr>\n",
       "            <th>n</th>\n",
       "        </tr>\n",
       "    </thead>\n",
       "    <tbody>\n",
       "        <tr>\n",
       "            <td>20</td>\n",
       "        </tr>\n",
       "    </tbody>\n",
       "</table>"
      ],
      "text/plain": [
       "+----+\n",
       "| n  |\n",
       "+----+\n",
       "| 20 |\n",
       "+----+"
      ]
     },
     "execution_count": 80,
     "metadata": {},
     "output_type": "execute_result"
    }
   ],
   "source": [
    "%%sql\n",
    "CREATE OR REPLACE VIEW bronze_partidos_lideres AS\n",
    "SELECT * FROM parquet_scan(\"data/bronze/snapshots/bronze-2020-smoke/camara/partidos/lideres/year=*/part-*.parquet\")\n",
    "WHERE source = 'camara' AND entity = 'partidos/lideres';\n",
    "\n",
    "SELECT COUNT(*) AS n FROM bronze_partidos_lideres;\n"
   ]
  },
  {
   "cell_type": "code",
   "execution_count": 81,
   "id": "ba7ff036",
   "metadata": {
    "vscode": {
     "languageId": "sql"
    }
   },
   "outputs": [
    {
     "data": {
      "text/html": [
       "<span style=\"None\">Running query in &#x27;duck&#x27;</span>"
      ],
      "text/plain": [
       "Running query in 'duck'"
      ]
     },
     "metadata": {},
     "output_type": "display_data"
    },
    {
     "data": {
      "text/html": [
       "<table>\n",
       "    <thead>\n",
       "        <tr>\n",
       "            <th>source</th>\n",
       "            <th>entity</th>\n",
       "            <th>id</th>\n",
       "            <th>url</th>\n",
       "            <th>payload_json</th>\n",
       "            <th>payload_sha256</th>\n",
       "            <th>year</th>\n",
       "        </tr>\n",
       "    </thead>\n",
       "    <tbody>\n",
       "        <tr>\n",
       "            <td>camara</td>\n",
       "            <td>partidos/lideres</td>\n",
       "            <td>36835</td>\n",
       "            <td><a href=https://dadosabertos.camara.leg.br/api/v2/partidos/36835/lideres>https://dadosabertos.camara.leg.br/api/v2/partidos/36835/lideres</a></td>\n",
       "            <td>{\"dados\":[]}</td>\n",
       "            <td>e3f60f959291f48551b8f9a819aa280d6c26cb36048a77675fc4e4107d2f7b49</td>\n",
       "            <td>2020</td>\n",
       "        </tr>\n",
       "        <tr>\n",
       "            <td>camara</td>\n",
       "            <td>partidos/lideres</td>\n",
       "            <td>36839</td>\n",
       "            <td><a href=https://dadosabertos.camara.leg.br/api/v2/partidos/36839/lideres>https://dadosabertos.camara.leg.br/api/v2/partidos/36839/lideres</a></td>\n",
       "            <td>{\"dados\":[]}</td>\n",
       "            <td>e3f60f959291f48551b8f9a819aa280d6c26cb36048a77675fc4e4107d2f7b49</td>\n",
       "            <td>2020</td>\n",
       "        </tr>\n",
       "        <tr>\n",
       "            <td>camara</td>\n",
       "            <td>partidos/lideres</td>\n",
       "            <td>36844</td>\n",
       "            <td><a href=https://dadosabertos.camara.leg.br/api/v2/partidos/36844/lideres>https://dadosabertos.camara.leg.br/api/v2/partidos/36844/lideres</a></td>\n",
       "            <td>{\"dados\":[]}</td>\n",
       "            <td>e3f60f959291f48551b8f9a819aa280d6c26cb36048a77675fc4e4107d2f7b49</td>\n",
       "            <td>2020</td>\n",
       "        </tr>\n",
       "        <tr>\n",
       "            <td>camara</td>\n",
       "            <td>partidos/lideres</td>\n",
       "            <td>36886</td>\n",
       "            <td><a href=https://dadosabertos.camara.leg.br/api/v2/partidos/36886/lideres>https://dadosabertos.camara.leg.br/api/v2/partidos/36886/lideres</a></td>\n",
       "            <td>{\"dados\":[]}</td>\n",
       "            <td>e3f60f959291f48551b8f9a819aa280d6c26cb36048a77675fc4e4107d2f7b49</td>\n",
       "            <td>2020</td>\n",
       "        </tr>\n",
       "        <tr>\n",
       "            <td>camara</td>\n",
       "            <td>partidos/lideres</td>\n",
       "            <td>36834</td>\n",
       "            <td><a href=https://dadosabertos.camara.leg.br/api/v2/partidos/36834/lideres>https://dadosabertos.camara.leg.br/api/v2/partidos/36834/lideres</a></td>\n",
       "            <td>{\"dados\":[{\"codTitulo\":1001,\"dataFim\":null,\"dataInicio\":\"2023-02-01\",\"email\":\"dep.antoniobrito@camara.leg.br\",\"id\":160553,\"idLegislatura\":57,\"nome\":\"Antonio Brito\",\"siglaPartido\":\"PSD\",\"siglaUf\":\"BA\",\"titulo\":\"Líder\",\"uri\":\"https://dadosabertos.camara.leg.br/api/v2/deputados/160553\",\"uriPartido\":\"https://dadosabertos.camara.leg.br/api/v2/partidos/36834\",\"urlFoto\":\"https://www.camara.leg.br/internet/deputado/bandep/160553.jpgmaior.jpg\"}]}</td>\n",
       "            <td>93f726030e3401a7f39b6a3dc4dbfa3fcf436307c83f47d295f0d3e0ee2b3729</td>\n",
       "            <td>2023</td>\n",
       "        </tr>\n",
       "        <tr>\n",
       "            <td>camara</td>\n",
       "            <td>partidos/lideres</td>\n",
       "            <td>36896</td>\n",
       "            <td><a href=https://dadosabertos.camara.leg.br/api/v2/partidos/36896/lideres>https://dadosabertos.camara.leg.br/api/v2/partidos/36896/lideres</a></td>\n",
       "            <td>{\"dados\":[{\"codTitulo\":1,\"dataFim\":null,\"dataInicio\":\"2023-02-01\",\"email\":\"dep.renataabreu@camara.leg.br\",\"id\":178989,\"idLegislatura\":57,\"nome\":\"Renata Abreu\",\"siglaPartido\":\"PODE\",\"siglaUf\":\"SP\",\"titulo\":\"Presidente\",\"uri\":\"https://dadosabertos.camara.leg.br/api/v2/deputados/178989\",\"uriPartido\":\"https://dadosabertos.camara.leg.br/api/v2/partidos/36896\",\"urlFoto\":\"https://www.camara.leg.br/internet/deputado/bandep/178989.jpgmaior.jpg\"},{\"codTitulo\":1001,\"dataFim\":null,\"dataInicio\":\"2025-02-03\",\"email\":\"dep.rodrigogambale@camara.leg.br\",\"id\":220641,\"idLegislatura\":57,\"nome\":\"Rodrigo Gambale\",\"siglaPartido\":\"PODE\",\"siglaUf\":\"SP\",\"titulo\":\"Líder\",\"uri\":\"https://dadosabertos.camara.leg.br/api/v2/deputados/220641\",\"uriPartido\":\"https://dadosabertos.camara.leg.br/api/v2/partidos/36896\",\"urlFoto\":\"https://www.camara.leg.br/internet/deputado/bandep/220641.jpgmaior.jpg\"}]}</td>\n",
       "            <td>7da835807a31c8072276a79413413c6ec19132ab15959dcc36225a09855f6775</td>\n",
       "            <td>2023</td>\n",
       "        </tr>\n",
       "        <tr>\n",
       "            <td>camara</td>\n",
       "            <td>partidos/lideres</td>\n",
       "            <td>36898</td>\n",
       "            <td><a href=https://dadosabertos.camara.leg.br/api/v2/partidos/36898/lideres>https://dadosabertos.camara.leg.br/api/v2/partidos/36898/lideres</a></td>\n",
       "            <td>{\"dados\":[{\"codTitulo\":1,\"dataFim\":null,\"dataInicio\":\"2023-02-01\",\"email\":\"dep.luistibe@camara.leg.br\",\"id\":160510,\"idLegislatura\":57,\"nome\":\"Luis Tibé\",\"siglaPartido\":\"AVANTE\",\"siglaUf\":\"MG\",\"titulo\":\"Presidente\",\"uri\":\"https://dadosabertos.camara.leg.br/api/v2/deputados/160510\",\"uriPartido\":\"https://dadosabertos.camara.leg.br/api/v2/partidos/36898\",\"urlFoto\":\"https://www.camara.leg.br/internet/deputado/bandep/160510.jpgmaior.jpg\"},{\"codTitulo\":1001,\"dataFim\":null,\"dataInicio\":\"2025-05-08\",\"email\":\"dep.netocarletto@camara.leg.br\",\"id\":220703,\"idLegislatura\":57,\"nome\":\"Neto Carletto\",\"siglaPartido\":\"AVANTE\",\"siglaUf\":\"BA\",\"titulo\":\"Líder\",\"uri\":\"https://dadosabertos.camara.leg.br/api/v2/deputados/220703\",\"uriPartido\":\"https://dadosabertos.camara.leg.br/api/v2/partidos/36898\",\"urlFoto\":\"https://www.camara.leg.br/internet/deputado/bandep/220703.jpgmaior.jpg\"}]}</td>\n",
       "            <td>8dca202d767499b190864d041b342e0317d559e42b8b57f997b620299f57aa89</td>\n",
       "            <td>2023</td>\n",
       "        </tr>\n",
       "        <tr>\n",
       "            <td>camara</td>\n",
       "            <td>partidos/lideres</td>\n",
       "            <td>36899</td>\n",
       "            <td><a href=https://dadosabertos.camara.leg.br/api/v2/partidos/36899/lideres>https://dadosabertos.camara.leg.br/api/v2/partidos/36899/lideres</a></td>\n",
       "            <td>{\"dados\":[{\"codTitulo\":1,\"dataFim\":null,\"dataInicio\":\"2023-02-01\",\"email\":\"dep.baleiarossi@camara.leg.br\",\"id\":178975,\"idLegislatura\":57,\"nome\":\"Baleia Rossi\",\"siglaPartido\":\"MDB\",\"siglaUf\":\"SP\",\"titulo\":\"Presidente\",\"uri\":\"https://dadosabertos.camara.leg.br/api/v2/deputados/178975\",\"uriPartido\":\"https://dadosabertos.camara.leg.br/api/v2/partidos/36899\",\"urlFoto\":\"https://www.camara.leg.br/internet/deputado/bandep/178975.jpgmaior.jpg\"},{\"codTitulo\":1001,\"dataFim\":null,\"dataInicio\":\"2023-02-01\",\"email\":\"dep.isnaldobulhoesjr.@camara.leg.br\",\"id\":204436,\"idLegislatura\":57,\"nome\":\"Isnaldo Bulhões Jr.\",\"siglaPartido\":\"MDB\",\"siglaUf\":\"AL\",\"titulo\":\"Líder\",\"uri\":\"https://dadosabertos.camara.leg.br/api/v2/deputados/204436\",\"uriPartido\":\"https://dadosabertos.camara.leg.br/api/v2/partidos/36899\",\"urlFoto\":\"https://www.camara.leg.br/internet/deputado/bandep/204436.jpgmaior.jpg\"}]}</td>\n",
       "            <td>f8e5d61a84603f3446e9fdcdf3ff33c2a52fce40a5969a1af531db0db2c81eae</td>\n",
       "            <td>2023</td>\n",
       "        </tr>\n",
       "        <tr>\n",
       "            <td>camara</td>\n",
       "            <td>partidos/lideres</td>\n",
       "            <td>37903</td>\n",
       "            <td><a href=https://dadosabertos.camara.leg.br/api/v2/partidos/37903/lideres>https://dadosabertos.camara.leg.br/api/v2/partidos/37903/lideres</a></td>\n",
       "            <td>{\"dados\":[{\"codTitulo\":1001,\"dataFim\":null,\"dataInicio\":\"2023-09-12\",\"email\":\"dep.doutorluizinho@camara.leg.br\",\"id\":204450,\"idLegislatura\":57,\"nome\":\"Doutor Luizinho\",\"siglaPartido\":\"PP\",\"siglaUf\":\"RJ\",\"titulo\":\"Líder\",\"uri\":\"https://dadosabertos.camara.leg.br/api/v2/deputados/204450\",\"uriPartido\":\"https://dadosabertos.camara.leg.br/api/v2/partidos/37903\",\"urlFoto\":\"https://www.camara.leg.br/internet/deputado/bandep/204450.jpgmaior.jpg\"}]}</td>\n",
       "            <td>951ef1a4a923aa114b48c20f9ba979000e479755a3877b80a5e2c961e42345f3</td>\n",
       "            <td>2023</td>\n",
       "        </tr>\n",
       "        <tr>\n",
       "            <td>camara</td>\n",
       "            <td>partidos/lideres</td>\n",
       "            <td>37904</td>\n",
       "            <td><a href=https://dadosabertos.camara.leg.br/api/v2/partidos/37904/lideres>https://dadosabertos.camara.leg.br/api/v2/partidos/37904/lideres</a></td>\n",
       "            <td>{\"dados\":[{\"codTitulo\":1001,\"dataFim\":null,\"dataInicio\":\"2023-02-01\",\"email\":\"dep.aureoribeiro@camara.leg.br\",\"id\":160512,\"idLegislatura\":57,\"nome\":\"Aureo Ribeiro\",\"siglaPartido\":\"SOLIDARIEDADE\",\"siglaUf\":\"RJ\",\"titulo\":\"Líder\",\"uri\":\"https://dadosabertos.camara.leg.br/api/v2/deputados/160512\",\"uriPartido\":\"https://dadosabertos.camara.leg.br/api/v2/partidos/37904\",\"urlFoto\":\"https://www.camara.leg.br/internet/deputado/bandep/160512.jpgmaior.jpg\"},{\"codTitulo\":1,\"dataFim\":null,\"dataInicio\":\"2024-06-21\",\"email\":\"dep.paulinhodaforca@camara.leg.br\",\"id\":141518,\"idLegislatura\":57,\"nome\":\"Paulinho da Força\",\"siglaPartido\":\"SOLIDARIEDADE\",\"siglaUf\":\"SP\",\"titulo\":\"Presidente\",\"uri\":\"https://dadosabertos.camara.leg.br/api/v2/deputados/141518\",\"uriPartido\":\"https://dadosabertos.camara.leg.br/api/v2/partidos/37904\",\"urlFoto\":\"https://www.camara.leg.br/internet/deputado/bandep/141518.jpgmaior.jpg\"}]}</td>\n",
       "            <td>7c3f502644fffb3dc534be89f2a03019b189c44cff2f4b676a0b202667bbd308</td>\n",
       "            <td>2023</td>\n",
       "        </tr>\n",
       "    </tbody>\n",
       "</table>\n",
       "<span style=\"font-style:italic;text-align:center;\">Truncated to <a href=\"https://jupysql.ploomber.io/en/latest/api/configuration.html#displaylimit\">displaylimit</a> of 10.</span>"
      ],
      "text/plain": [
       "+--------+------------------+-------+-----------------------------------------------------------------------------------------------------------------------------------------------+--------------------------------------------------------------------------------------------------------------------------------------------------------------------------------------------------------------------------------------------------------------------------------------------------------------------------------------------------------------------------------------------------------------------------------------------------------------------------------------------------------------------------------------------------------------------------------------------------------------------------------------------------------------------------------------------------------------------------------------------------------------------------------------------------------------------------------------------------------------------------------------------------------------------------------------+------------------------------------------------------------------+------+\n",
       "| source |      entity      |   id  |                                                                      url                                                                      |                                                                                                                                                                                                                                                                                                                                                                                                                                                             payload_json                                                                                                                                                                                                                                                                                                                                                                                                                                                             |                          payload_sha256                          | year |\n",
       "+--------+------------------+-------+-----------------------------------------------------------------------------------------------------------------------------------------------+--------------------------------------------------------------------------------------------------------------------------------------------------------------------------------------------------------------------------------------------------------------------------------------------------------------------------------------------------------------------------------------------------------------------------------------------------------------------------------------------------------------------------------------------------------------------------------------------------------------------------------------------------------------------------------------------------------------------------------------------------------------------------------------------------------------------------------------------------------------------------------------------------------------------------------------+------------------------------------------------------------------+------+\n",
       "| camara | partidos/lideres | 36835 | <a href=https://dadosabertos.camara.leg.br/api/v2/partidos/36835/lideres>https://dadosabertos.camara.leg.br/api/v2/partidos/36835/lideres</a> |                                                                                                                                                                                                                                                                                                                                                                                                                                                             {\"dados\":[]}                                                                                                                                                                                                                                                                                                                                                                                                                                                             | e3f60f959291f48551b8f9a819aa280d6c26cb36048a77675fc4e4107d2f7b49 | 2020 |\n",
       "| camara | partidos/lideres | 36839 | <a href=https://dadosabertos.camara.leg.br/api/v2/partidos/36839/lideres>https://dadosabertos.camara.leg.br/api/v2/partidos/36839/lideres</a> |                                                                                                                                                                                                                                                                                                                                                                                                                                                             {\"dados\":[]}                                                                                                                                                                                                                                                                                                                                                                                                                                                             | e3f60f959291f48551b8f9a819aa280d6c26cb36048a77675fc4e4107d2f7b49 | 2020 |\n",
       "| camara | partidos/lideres | 36844 | <a href=https://dadosabertos.camara.leg.br/api/v2/partidos/36844/lideres>https://dadosabertos.camara.leg.br/api/v2/partidos/36844/lideres</a> |                                                                                                                                                                                                                                                                                                                                                                                                                                                             {\"dados\":[]}                                                                                                                                                                                                                                                                                                                                                                                                                                                             | e3f60f959291f48551b8f9a819aa280d6c26cb36048a77675fc4e4107d2f7b49 | 2020 |\n",
       "| camara | partidos/lideres | 36886 | <a href=https://dadosabertos.camara.leg.br/api/v2/partidos/36886/lideres>https://dadosabertos.camara.leg.br/api/v2/partidos/36886/lideres</a> |                                                                                                                                                                                                                                                                                                                                                                                                                                                             {\"dados\":[]}                                                                                                                                                                                                                                                                                                                                                                                                                                                             | e3f60f959291f48551b8f9a819aa280d6c26cb36048a77675fc4e4107d2f7b49 | 2020 |\n",
       "| camara | partidos/lideres | 36834 | <a href=https://dadosabertos.camara.leg.br/api/v2/partidos/36834/lideres>https://dadosabertos.camara.leg.br/api/v2/partidos/36834/lideres</a> |                                                                                                                                                                                                                                      {\"dados\":[{\"codTitulo\":1001,\"dataFim\":null,\"dataInicio\":\"2023-02-01\",\"email\":\"dep.antoniobrito@camara.leg.br\",\"id\":160553,\"idLegislatura\":57,\"nome\":\"Antonio Brito\",\"siglaPartido\":\"PSD\",\"siglaUf\":\"BA\",\"titulo\":\"Líder\",\"uri\":\"https://dadosabertos.camara.leg.br/api/v2/deputados/160553\",\"uriPartido\":\"https://dadosabertos.camara.leg.br/api/v2/partidos/36834\",\"urlFoto\":\"https://www.camara.leg.br/internet/deputado/bandep/160553.jpgmaior.jpg\"}]}                                                                                                                                                                                                                                       | 93f726030e3401a7f39b6a3dc4dbfa3fcf436307c83f47d295f0d3e0ee2b3729 | 2023 |\n",
       "| camara | partidos/lideres | 36896 | <a href=https://dadosabertos.camara.leg.br/api/v2/partidos/36896/lideres>https://dadosabertos.camara.leg.br/api/v2/partidos/36896/lideres</a> |            {\"dados\":[{\"codTitulo\":1,\"dataFim\":null,\"dataInicio\":\"2023-02-01\",\"email\":\"dep.renataabreu@camara.leg.br\",\"id\":178989,\"idLegislatura\":57,\"nome\":\"Renata Abreu\",\"siglaPartido\":\"PODE\",\"siglaUf\":\"SP\",\"titulo\":\"Presidente\",\"uri\":\"https://dadosabertos.camara.leg.br/api/v2/deputados/178989\",\"uriPartido\":\"https://dadosabertos.camara.leg.br/api/v2/partidos/36896\",\"urlFoto\":\"https://www.camara.leg.br/internet/deputado/bandep/178989.jpgmaior.jpg\"},{\"codTitulo\":1001,\"dataFim\":null,\"dataInicio\":\"2025-02-03\",\"email\":\"dep.rodrigogambale@camara.leg.br\",\"id\":220641,\"idLegislatura\":57,\"nome\":\"Rodrigo Gambale\",\"siglaPartido\":\"PODE\",\"siglaUf\":\"SP\",\"titulo\":\"Líder\",\"uri\":\"https://dadosabertos.camara.leg.br/api/v2/deputados/220641\",\"uriPartido\":\"https://dadosabertos.camara.leg.br/api/v2/partidos/36896\",\"urlFoto\":\"https://www.camara.leg.br/internet/deputado/bandep/220641.jpgmaior.jpg\"}]}             | 7da835807a31c8072276a79413413c6ec19132ab15959dcc36225a09855f6775 | 2023 |\n",
       "| camara | partidos/lideres | 36898 | <a href=https://dadosabertos.camara.leg.br/api/v2/partidos/36898/lideres>https://dadosabertos.camara.leg.br/api/v2/partidos/36898/lideres</a> |               {\"dados\":[{\"codTitulo\":1,\"dataFim\":null,\"dataInicio\":\"2023-02-01\",\"email\":\"dep.luistibe@camara.leg.br\",\"id\":160510,\"idLegislatura\":57,\"nome\":\"Luis Tibé\",\"siglaPartido\":\"AVANTE\",\"siglaUf\":\"MG\",\"titulo\":\"Presidente\",\"uri\":\"https://dadosabertos.camara.leg.br/api/v2/deputados/160510\",\"uriPartido\":\"https://dadosabertos.camara.leg.br/api/v2/partidos/36898\",\"urlFoto\":\"https://www.camara.leg.br/internet/deputado/bandep/160510.jpgmaior.jpg\"},{\"codTitulo\":1001,\"dataFim\":null,\"dataInicio\":\"2025-05-08\",\"email\":\"dep.netocarletto@camara.leg.br\",\"id\":220703,\"idLegislatura\":57,\"nome\":\"Neto Carletto\",\"siglaPartido\":\"AVANTE\",\"siglaUf\":\"BA\",\"titulo\":\"Líder\",\"uri\":\"https://dadosabertos.camara.leg.br/api/v2/deputados/220703\",\"uriPartido\":\"https://dadosabertos.camara.leg.br/api/v2/partidos/36898\",\"urlFoto\":\"https://www.camara.leg.br/internet/deputado/bandep/220703.jpgmaior.jpg\"}]}                | 8dca202d767499b190864d041b342e0317d559e42b8b57f997b620299f57aa89 | 2023 |\n",
       "| camara | partidos/lideres | 36899 | <a href=https://dadosabertos.camara.leg.br/api/v2/partidos/36899/lideres>https://dadosabertos.camara.leg.br/api/v2/partidos/36899/lideres</a> |          {\"dados\":[{\"codTitulo\":1,\"dataFim\":null,\"dataInicio\":\"2023-02-01\",\"email\":\"dep.baleiarossi@camara.leg.br\",\"id\":178975,\"idLegislatura\":57,\"nome\":\"Baleia Rossi\",\"siglaPartido\":\"MDB\",\"siglaUf\":\"SP\",\"titulo\":\"Presidente\",\"uri\":\"https://dadosabertos.camara.leg.br/api/v2/deputados/178975\",\"uriPartido\":\"https://dadosabertos.camara.leg.br/api/v2/partidos/36899\",\"urlFoto\":\"https://www.camara.leg.br/internet/deputado/bandep/178975.jpgmaior.jpg\"},{\"codTitulo\":1001,\"dataFim\":null,\"dataInicio\":\"2023-02-01\",\"email\":\"dep.isnaldobulhoesjr.@camara.leg.br\",\"id\":204436,\"idLegislatura\":57,\"nome\":\"Isnaldo Bulhões Jr.\",\"siglaPartido\":\"MDB\",\"siglaUf\":\"AL\",\"titulo\":\"Líder\",\"uri\":\"https://dadosabertos.camara.leg.br/api/v2/deputados/204436\",\"uriPartido\":\"https://dadosabertos.camara.leg.br/api/v2/partidos/36899\",\"urlFoto\":\"https://www.camara.leg.br/internet/deputado/bandep/204436.jpgmaior.jpg\"}]}          | f8e5d61a84603f3446e9fdcdf3ff33c2a52fce40a5969a1af531db0db2c81eae | 2023 |\n",
       "| camara | partidos/lideres | 37903 | <a href=https://dadosabertos.camara.leg.br/api/v2/partidos/37903/lideres>https://dadosabertos.camara.leg.br/api/v2/partidos/37903/lideres</a> |                                                                                                                                                                                                                                     {\"dados\":[{\"codTitulo\":1001,\"dataFim\":null,\"dataInicio\":\"2023-09-12\",\"email\":\"dep.doutorluizinho@camara.leg.br\",\"id\":204450,\"idLegislatura\":57,\"nome\":\"Doutor Luizinho\",\"siglaPartido\":\"PP\",\"siglaUf\":\"RJ\",\"titulo\":\"Líder\",\"uri\":\"https://dadosabertos.camara.leg.br/api/v2/deputados/204450\",\"uriPartido\":\"https://dadosabertos.camara.leg.br/api/v2/partidos/37903\",\"urlFoto\":\"https://www.camara.leg.br/internet/deputado/bandep/204450.jpgmaior.jpg\"}]}                                                                                                                                                                                                                                     | 951ef1a4a923aa114b48c20f9ba979000e479755a3877b80a5e2c961e42345f3 | 2023 |\n",
       "| camara | partidos/lideres | 37904 | <a href=https://dadosabertos.camara.leg.br/api/v2/partidos/37904/lideres>https://dadosabertos.camara.leg.br/api/v2/partidos/37904/lideres</a> | {\"dados\":[{\"codTitulo\":1001,\"dataFim\":null,\"dataInicio\":\"2023-02-01\",\"email\":\"dep.aureoribeiro@camara.leg.br\",\"id\":160512,\"idLegislatura\":57,\"nome\":\"Aureo Ribeiro\",\"siglaPartido\":\"SOLIDARIEDADE\",\"siglaUf\":\"RJ\",\"titulo\":\"Líder\",\"uri\":\"https://dadosabertos.camara.leg.br/api/v2/deputados/160512\",\"uriPartido\":\"https://dadosabertos.camara.leg.br/api/v2/partidos/37904\",\"urlFoto\":\"https://www.camara.leg.br/internet/deputado/bandep/160512.jpgmaior.jpg\"},{\"codTitulo\":1,\"dataFim\":null,\"dataInicio\":\"2024-06-21\",\"email\":\"dep.paulinhodaforca@camara.leg.br\",\"id\":141518,\"idLegislatura\":57,\"nome\":\"Paulinho da Força\",\"siglaPartido\":\"SOLIDARIEDADE\",\"siglaUf\":\"SP\",\"titulo\":\"Presidente\",\"uri\":\"https://dadosabertos.camara.leg.br/api/v2/deputados/141518\",\"uriPartido\":\"https://dadosabertos.camara.leg.br/api/v2/partidos/37904\",\"urlFoto\":\"https://www.camara.leg.br/internet/deputado/bandep/141518.jpgmaior.jpg\"}]} | 7c3f502644fffb3dc534be89f2a03019b189c44cff2f4b676a0b202667bbd308 | 2023 |\n",
       "+--------+------------------+-------+-----------------------------------------------------------------------------------------------------------------------------------------------+--------------------------------------------------------------------------------------------------------------------------------------------------------------------------------------------------------------------------------------------------------------------------------------------------------------------------------------------------------------------------------------------------------------------------------------------------------------------------------------------------------------------------------------------------------------------------------------------------------------------------------------------------------------------------------------------------------------------------------------------------------------------------------------------------------------------------------------------------------------------------------------------------------------------------------------+------------------------------------------------------------------+------+\n",
       "Truncated to displaylimit of 10."
      ]
     },
     "execution_count": 81,
     "metadata": {},
     "output_type": "execute_result"
    }
   ],
   "source": [
    "%%sql\n",
    "SELECT * FROM bronze_partidos_lideres;"
   ]
  },
  {
   "cell_type": "code",
   "execution_count": 82,
   "id": "95d70577",
   "metadata": {
    "vscode": {
     "languageId": "sql"
    }
   },
   "outputs": [
    {
     "data": {
      "text/html": [
       "<span style=\"None\">Running query in &#x27;duck&#x27;</span>"
      ],
      "text/plain": [
       "Running query in 'duck'"
      ]
     },
     "metadata": {},
     "output_type": "display_data"
    },
    {
     "data": {
      "text/html": [
       "<table>\n",
       "    <thead>\n",
       "        <tr>\n",
       "            <th>Success</th>\n",
       "        </tr>\n",
       "    </thead>\n",
       "    <tbody>\n",
       "    </tbody>\n",
       "</table>"
      ],
      "text/plain": [
       "+---------+\n",
       "| Success |\n",
       "+---------+\n",
       "+---------+"
      ]
     },
     "execution_count": 82,
     "metadata": {},
     "output_type": "execute_result"
    }
   ],
   "source": [
    "%%sql\n",
    "DROP TABLE IF EXISTS partidos_lideres_camara;\n",
    "\n",
    "CREATE TABLE partidos_lideres_camara AS\n",
    "WITH base AS (\n",
    "  SELECT\n",
    "    TRY_CAST(payload_json AS JSON) AS j,\n",
    "    year AS year_snapshot,\n",
    "    id AS id_partido,\n",
    "  FROM bronze_partidos_lideres\n",
    "),\n",
    "exploded AS (\n",
    "  SELECT\n",
    "    CAST(b.id_partido AS BIGINT) AS id_partido,\n",
    "      -- codTitulo\n",
    "    json_extract_string(e.value, '$.codTitulo') AS cod_titulo,\n",
    "    -- dataInicio\n",
    "    CAST(json_extract_string(e.value, '$.dataInicio') AS DATE) AS data_inicio,\n",
    "    -- dataFim\n",
    "    CAST(json_extract_string(e.value, '$.dataFim') AS DATE) AS data_fim,\n",
    "    -- id (deputado)\n",
    "    CAST(json_extract_string(e.value, '$.id') AS BIGINT) AS id_deputado,\n",
    "    -- year\n",
    "    b.year_snapshot,\n",
    "  FROM base b\n",
    "  CROSS JOIN json_each(b.j, '$.dados') AS e\n",
    ")\n",
    "SELECT\n",
    "    id_partido,\n",
    "    cod_titulo,\n",
    "    data_inicio,\n",
    "    data_fim,\n",
    "    id_deputado,\n",
    "    year_snapshot,\n",
    "FROM exploded;\n",
    "DROP VIEW IF EXISTS bronze_partidos_lideres;"
   ]
  },
  {
   "cell_type": "code",
   "execution_count": 83,
   "id": "aeb1e539",
   "metadata": {
    "vscode": {
     "languageId": "sql"
    }
   },
   "outputs": [
    {
     "data": {
      "text/html": [
       "<span style=\"None\">Running query in &#x27;duck&#x27;</span>"
      ],
      "text/plain": [
       "Running query in 'duck'"
      ]
     },
     "metadata": {},
     "output_type": "display_data"
    },
    {
     "data": {
      "text/html": [
       "<table>\n",
       "    <thead>\n",
       "        <tr>\n",
       "            <th>id_partido</th>\n",
       "            <th>cod_titulo</th>\n",
       "            <th>data_inicio</th>\n",
       "            <th>data_fim</th>\n",
       "            <th>id_deputado</th>\n",
       "            <th>year_snapshot</th>\n",
       "        </tr>\n",
       "    </thead>\n",
       "    <tbody>\n",
       "        <tr>\n",
       "            <td>36834</td>\n",
       "            <td>1001</td>\n",
       "            <td>2023-02-01</td>\n",
       "            <td>None</td>\n",
       "            <td>160553</td>\n",
       "            <td>2023</td>\n",
       "        </tr>\n",
       "        <tr>\n",
       "            <td>36896</td>\n",
       "            <td>1001</td>\n",
       "            <td>2025-02-03</td>\n",
       "            <td>None</td>\n",
       "            <td>220641</td>\n",
       "            <td>2023</td>\n",
       "        </tr>\n",
       "        <tr>\n",
       "            <td>36898</td>\n",
       "            <td>1001</td>\n",
       "            <td>2025-05-08</td>\n",
       "            <td>None</td>\n",
       "            <td>220703</td>\n",
       "            <td>2023</td>\n",
       "        </tr>\n",
       "        <tr>\n",
       "            <td>36899</td>\n",
       "            <td>1001</td>\n",
       "            <td>2023-02-01</td>\n",
       "            <td>None</td>\n",
       "            <td>204436</td>\n",
       "            <td>2023</td>\n",
       "        </tr>\n",
       "        <tr>\n",
       "            <td>37903</td>\n",
       "            <td>1001</td>\n",
       "            <td>2023-09-12</td>\n",
       "            <td>None</td>\n",
       "            <td>204450</td>\n",
       "            <td>2023</td>\n",
       "        </tr>\n",
       "    </tbody>\n",
       "</table>"
      ],
      "text/plain": [
       "+------------+------------+-------------+----------+-------------+---------------+\n",
       "| id_partido | cod_titulo | data_inicio | data_fim | id_deputado | year_snapshot |\n",
       "+------------+------------+-------------+----------+-------------+---------------+\n",
       "|   36834    |    1001    |  2023-02-01 |   None   |    160553   |      2023     |\n",
       "|   36896    |    1001    |  2025-02-03 |   None   |    220641   |      2023     |\n",
       "|   36898    |    1001    |  2025-05-08 |   None   |    220703   |      2023     |\n",
       "|   36899    |    1001    |  2023-02-01 |   None   |    204436   |      2023     |\n",
       "|   37903    |    1001    |  2023-09-12 |   None   |    204450   |      2023     |\n",
       "+------------+------------+-------------+----------+-------------+---------------+"
      ]
     },
     "execution_count": 83,
     "metadata": {},
     "output_type": "execute_result"
    }
   ],
   "source": [
    "%%sql\n",
    "SELECT * FROM partidos_lideres_camara LIMIT 5;"
   ]
  },
  {
   "cell_type": "markdown",
   "id": "902efc54",
   "metadata": {},
   "source": [
    "### Partidos e membros"
   ]
  },
  {
   "cell_type": "code",
   "execution_count": 84,
   "id": "f0648192",
   "metadata": {
    "vscode": {
     "languageId": "sql"
    }
   },
   "outputs": [
    {
     "data": {
      "text/html": [
       "<span style=\"None\">Running query in &#x27;duck&#x27;</span>"
      ],
      "text/plain": [
       "Running query in 'duck'"
      ]
     },
     "metadata": {},
     "output_type": "display_data"
    },
    {
     "data": {
      "text/html": [
       "<table>\n",
       "    <thead>\n",
       "        <tr>\n",
       "            <th>n</th>\n",
       "        </tr>\n",
       "    </thead>\n",
       "    <tbody>\n",
       "        <tr>\n",
       "            <td>20</td>\n",
       "        </tr>\n",
       "    </tbody>\n",
       "</table>"
      ],
      "text/plain": [
       "+----+\n",
       "| n  |\n",
       "+----+\n",
       "| 20 |\n",
       "+----+"
      ]
     },
     "execution_count": 84,
     "metadata": {},
     "output_type": "execute_result"
    }
   ],
   "source": [
    "%%sql\n",
    "CREATE OR REPLACE VIEW bronze_partidos_membros AS\n",
    "SELECT * FROM parquet_scan(\"data/bronze/snapshots/bronze-2020-smoke/camara/partidos/membros/year=*/part-*.parquet\")\n",
    "WHERE source = 'camara' AND entity = 'partidos/membros';\n",
    "\n",
    "SELECT COUNT(*) AS n FROM bronze_partidos_membros;"
   ]
  },
  {
   "cell_type": "code",
   "execution_count": 85,
   "id": "68f5d673",
   "metadata": {
    "vscode": {
     "languageId": "sql"
    }
   },
   "outputs": [
    {
     "data": {
      "text/html": [
       "<span style=\"None\">Running query in &#x27;duck&#x27;</span>"
      ],
      "text/plain": [
       "Running query in 'duck'"
      ]
     },
     "metadata": {},
     "output_type": "display_data"
    },
    {
     "data": {
      "text/html": [
       "<table>\n",
       "    <thead>\n",
       "        <tr>\n",
       "            <th>source</th>\n",
       "            <th>entity</th>\n",
       "            <th>id</th>\n",
       "            <th>url</th>\n",
       "            <th>payload_json</th>\n",
       "            <th>payload_sha256</th>\n",
       "            <th>year</th>\n",
       "        </tr>\n",
       "    </thead>\n",
       "    <tbody>\n",
       "        <tr>\n",
       "            <td>camara</td>\n",
       "            <td>partidos/membros</td>\n",
       "            <td>36779</td>\n",
       "            <td><a href=https://dadosabertos.camara.leg.br/api/v2/partidos/36779/membros>https://dadosabertos.camara.leg.br/api/v2/partidos/36779/membros</a></td>\n",
       "            <td>{\"dados\":[{\"email\":\"dep.renildocalheiros@camara.leg.br\",\"id\":73801,\"idLegislatura\":57,\"nome\":\"Renildo Calheiros\",\"siglaPartido\":\"PCdoB\",\"siglaUf\":\"PE\",\"uri\":\"https://dadosabertos.camara.leg.br/api/v2/deputados/73801\",\"uriPartido\":\"https://dadosabertos.camara.leg.br/api/v2/partidos/36779\",\"urlFoto\":\"https://www.camara.leg.br/internet/deputado/bandep/73801.jpg\"},{\"email\":\"dep.aliceportugal@camara.leg.br\",\"id\":74057,\"idLegislatura\":57,\"nome\":\"Alice Portugal\",\"siglaPartido\":\"PCdoB\",\"siglaUf\":\"BA\",\"uri\":\"https://dadosabertos.camara.leg.br/api/v2/deputados/74057\",\"uriPartido\":\"https://dadosabertos.camara.leg.br/api/v2/partidos/36779\",\"urlFoto\":\"https://www.camara.leg.br/internet/deputado/bandep/74057.jpg\"},{\"email\":\"dep.danielalmeida@camara.leg.br\",\"id\":74060,\"idLegislatura\":57,\"nome\":\"Daniel Almeida\",\"siglaPartido\":\"PCdoB\",\"siglaUf\":\"BA\",\"uri\":\"https://dadosabertos.camara.leg.br/api/v2/deputados/74060\",\"uriPartido\":\"https://dadosabertos.camara.leg.br/api/v2/partidos/36779\",\"urlFoto\":\"https://www.camara.leg.br/internet/deputado/bandep/74060.jpg\"},{\"email\":\"dep.jandirafeghali@camara.leg.br\",\"id\":74848,\"idLegislatura\":57,\"nome\":\"Jandira Feghali\",\"siglaPartido\":\"PCdoB\",\"siglaUf\":\"RJ\",\"uri\":\"https://dadosabertos.camara.leg.br/api/v2/deputados/74848\",\"uriPartido\":\"https://dadosabertos.camara.leg.br/api/v2/partidos/36779\",\"urlFoto\":\"https://www.camara.leg.br/internet/deputado/bandep/74848.jpg\"},{\"email\":\"dep.marciojerry@camara.leg.br\",\"id\":81055,\"idLegislatura\":57,\"nome\":\"Márcio Jerry\",\"siglaPartido\":\"PCdoB\",\"siglaUf\":\"MA\",\"uri\":\"https://dadosabertos.camara.leg.br/api/v2/deputados/81055\",\"uriPartido\":\"https://dadosabertos.camara.leg.br/api/v2/partidos/36779\",\"urlFoto\":\"https://www.camara.leg.br/internet/deputado/bandep/81055.jpg\"},{\"email\":\"dep.professoramarcivania@camara.leg.br\",\"id\":160641,\"idLegislatura\":57,\"nome\":\"Professora Marcivania\",\"siglaPartido\":\"PCdoB\",\"siglaUf\":\"AP\",\"uri\":\"https://dadosabertos.camara.leg.br/api/v2/deputados/160641\",\"uriPartido\":\"https://dadosabertos.camara.leg.br/api/v2/partidos/36779\",\"urlFoto\":\"https://www.camara.leg.br/internet/deputado/bandep/160641.jpg\"},{\"email\":\"dep.orlandosilva@camara.leg.br\",\"id\":178987,\"idLegislatura\":57,\"nome\":\"Orlando Silva\",\"siglaPartido\":\"PCdoB\",\"siglaUf\":\"SP\",\"uri\":\"https://dadosabertos.camara.leg.br/api/v2/deputados/178987\",\"uriPartido\":\"https://dadosabertos.camara.leg.br/api/v2/partidos/36779\",\"urlFoto\":\"https://www.camara.leg.br/internet/deputado/bandep/178987.jpg\"},{\"email\":\"dep.daianasantos@camara.leg.br\",\"id\":220555,\"idLegislatura\":57,\"nome\":\"Daiana Santos\",\"siglaPartido\":\"PCdoB\",\"siglaUf\":\"RS\",\"uri\":\"https://dadosabertos.camara.leg.br/api/v2/deputados/220555\",\"uriPartido\":\"https://dadosabertos.camara.leg.br/api/v2/partidos/36779\",\"urlFoto\":\"https://www.camara.leg.br/internet/deputado/bandep/220555.jpg\"},{\"email\":\"dep.enfermeirarejane@camara.leg.br\",\"id\":230765,\"idLegislatura\":57,\"nome\":\"Enfermeira Rejane\",\"siglaPartido\":\"PCdoB\",\"siglaUf\":\"RJ\",\"uri\":\"https://dadosabertos.camara.leg.br/api/v2/deputados/230765\",\"uriPartido\":\"https://dadosabertos.camara.leg.br/api/v2/partidos/36779\",\"urlFoto\":\"https://www.camara.leg.br/internet/deputado/bandep/230765.jpg\"}]}</td>\n",
       "            <td>1bedef9aea98e82f42ffe0e51a7c851e82c44c891c0fec24fc27f2ba762b9745</td>\n",
       "            <td>2020</td>\n",
       "        </tr>\n",
       "    </tbody>\n",
       "</table>"
      ],
      "text/plain": [
       "+--------+------------------+-------+-----------------------------------------------------------------------------------------------------------------------------------------------+------------------------------------------------------------------------------------------------------------------------------------------------------------------------------------------------------------------------------------------------------------------------------------------------------------------------------------------------------------------------------------------------------------------------------------------------------------------------------------------------------------------------------------------------------------------------------------------------------------------------------------------------------------------------------------------------------------------------------------------------------------------------------------------------------------------------------------------------------------------------------------------------------------------------------------------------------------------------------------------------------------------------------------------------------------------------------------------------------------------------------------------------------------------------------------------------------------------------------------------------------------------------------------------------------------------------------------------------------------------------------------------------------------------------------------------------------------------------------------------------------------------------------------------------------------------------------------------------------------------------------------------------------------------------------------------------------------------------------------------------------------------------------------------------------------------------------------------------------------------------------------------------------------------------------------------------------------------------------------------------------------------------------------------------------------------------------------------------------------------------------------------------------------------------------------------------------------------------------------------------------------------------------------------------------------------------------------------------------------------------------------------------------------------------------------------------------------------------------------------------------------------------------------------------------------------------------------------------------------------------------------------------------------------------------------------------------------------------------------------------------------------------------------------------------------------------------------------------------------------------------------------------------------------------------------------------------------------------------------------------------------------------------------------------------------------------------------------------------------------------------------------------------------------------------------------------------------------------------------------------------------------------------------------------+------------------------------------------------------------------+------+\n",
       "| source |      entity      |   id  |                                                                      url                                                                      |                                                                                                                                                                                                                                                                                                                                                                                                                                                                                                                                                                                                                                                                                                                                                                                                                                                                                                                                                                                                                                                                                                                                                                                                                                                                                                                                                                                                                                                                                                                                                                                                                                          payload_json                                                                                                                                                                                                                                                                                                                                                                                                                                                                                                                                                                                                                                                                                                                                                                                                                                                                                                                                                                                                                                                                                                                                                                                                                                                                                                                                                                                                                                                                                                                                                                                                                                          |                          payload_sha256                          | year |\n",
       "+--------+------------------+-------+-----------------------------------------------------------------------------------------------------------------------------------------------+------------------------------------------------------------------------------------------------------------------------------------------------------------------------------------------------------------------------------------------------------------------------------------------------------------------------------------------------------------------------------------------------------------------------------------------------------------------------------------------------------------------------------------------------------------------------------------------------------------------------------------------------------------------------------------------------------------------------------------------------------------------------------------------------------------------------------------------------------------------------------------------------------------------------------------------------------------------------------------------------------------------------------------------------------------------------------------------------------------------------------------------------------------------------------------------------------------------------------------------------------------------------------------------------------------------------------------------------------------------------------------------------------------------------------------------------------------------------------------------------------------------------------------------------------------------------------------------------------------------------------------------------------------------------------------------------------------------------------------------------------------------------------------------------------------------------------------------------------------------------------------------------------------------------------------------------------------------------------------------------------------------------------------------------------------------------------------------------------------------------------------------------------------------------------------------------------------------------------------------------------------------------------------------------------------------------------------------------------------------------------------------------------------------------------------------------------------------------------------------------------------------------------------------------------------------------------------------------------------------------------------------------------------------------------------------------------------------------------------------------------------------------------------------------------------------------------------------------------------------------------------------------------------------------------------------------------------------------------------------------------------------------------------------------------------------------------------------------------------------------------------------------------------------------------------------------------------------------------------------------------------------------------------------------+------------------------------------------------------------------+------+\n",
       "| camara | partidos/membros | 36779 | <a href=https://dadosabertos.camara.leg.br/api/v2/partidos/36779/membros>https://dadosabertos.camara.leg.br/api/v2/partidos/36779/membros</a> | {\"dados\":[{\"email\":\"dep.renildocalheiros@camara.leg.br\",\"id\":73801,\"idLegislatura\":57,\"nome\":\"Renildo Calheiros\",\"siglaPartido\":\"PCdoB\",\"siglaUf\":\"PE\",\"uri\":\"https://dadosabertos.camara.leg.br/api/v2/deputados/73801\",\"uriPartido\":\"https://dadosabertos.camara.leg.br/api/v2/partidos/36779\",\"urlFoto\":\"https://www.camara.leg.br/internet/deputado/bandep/73801.jpg\"},{\"email\":\"dep.aliceportugal@camara.leg.br\",\"id\":74057,\"idLegislatura\":57,\"nome\":\"Alice Portugal\",\"siglaPartido\":\"PCdoB\",\"siglaUf\":\"BA\",\"uri\":\"https://dadosabertos.camara.leg.br/api/v2/deputados/74057\",\"uriPartido\":\"https://dadosabertos.camara.leg.br/api/v2/partidos/36779\",\"urlFoto\":\"https://www.camara.leg.br/internet/deputado/bandep/74057.jpg\"},{\"email\":\"dep.danielalmeida@camara.leg.br\",\"id\":74060,\"idLegislatura\":57,\"nome\":\"Daniel Almeida\",\"siglaPartido\":\"PCdoB\",\"siglaUf\":\"BA\",\"uri\":\"https://dadosabertos.camara.leg.br/api/v2/deputados/74060\",\"uriPartido\":\"https://dadosabertos.camara.leg.br/api/v2/partidos/36779\",\"urlFoto\":\"https://www.camara.leg.br/internet/deputado/bandep/74060.jpg\"},{\"email\":\"dep.jandirafeghali@camara.leg.br\",\"id\":74848,\"idLegislatura\":57,\"nome\":\"Jandira Feghali\",\"siglaPartido\":\"PCdoB\",\"siglaUf\":\"RJ\",\"uri\":\"https://dadosabertos.camara.leg.br/api/v2/deputados/74848\",\"uriPartido\":\"https://dadosabertos.camara.leg.br/api/v2/partidos/36779\",\"urlFoto\":\"https://www.camara.leg.br/internet/deputado/bandep/74848.jpg\"},{\"email\":\"dep.marciojerry@camara.leg.br\",\"id\":81055,\"idLegislatura\":57,\"nome\":\"Márcio Jerry\",\"siglaPartido\":\"PCdoB\",\"siglaUf\":\"MA\",\"uri\":\"https://dadosabertos.camara.leg.br/api/v2/deputados/81055\",\"uriPartido\":\"https://dadosabertos.camara.leg.br/api/v2/partidos/36779\",\"urlFoto\":\"https://www.camara.leg.br/internet/deputado/bandep/81055.jpg\"},{\"email\":\"dep.professoramarcivania@camara.leg.br\",\"id\":160641,\"idLegislatura\":57,\"nome\":\"Professora Marcivania\",\"siglaPartido\":\"PCdoB\",\"siglaUf\":\"AP\",\"uri\":\"https://dadosabertos.camara.leg.br/api/v2/deputados/160641\",\"uriPartido\":\"https://dadosabertos.camara.leg.br/api/v2/partidos/36779\",\"urlFoto\":\"https://www.camara.leg.br/internet/deputado/bandep/160641.jpg\"},{\"email\":\"dep.orlandosilva@camara.leg.br\",\"id\":178987,\"idLegislatura\":57,\"nome\":\"Orlando Silva\",\"siglaPartido\":\"PCdoB\",\"siglaUf\":\"SP\",\"uri\":\"https://dadosabertos.camara.leg.br/api/v2/deputados/178987\",\"uriPartido\":\"https://dadosabertos.camara.leg.br/api/v2/partidos/36779\",\"urlFoto\":\"https://www.camara.leg.br/internet/deputado/bandep/178987.jpg\"},{\"email\":\"dep.daianasantos@camara.leg.br\",\"id\":220555,\"idLegislatura\":57,\"nome\":\"Daiana Santos\",\"siglaPartido\":\"PCdoB\",\"siglaUf\":\"RS\",\"uri\":\"https://dadosabertos.camara.leg.br/api/v2/deputados/220555\",\"uriPartido\":\"https://dadosabertos.camara.leg.br/api/v2/partidos/36779\",\"urlFoto\":\"https://www.camara.leg.br/internet/deputado/bandep/220555.jpg\"},{\"email\":\"dep.enfermeirarejane@camara.leg.br\",\"id\":230765,\"idLegislatura\":57,\"nome\":\"Enfermeira Rejane\",\"siglaPartido\":\"PCdoB\",\"siglaUf\":\"RJ\",\"uri\":\"https://dadosabertos.camara.leg.br/api/v2/deputados/230765\",\"uriPartido\":\"https://dadosabertos.camara.leg.br/api/v2/partidos/36779\",\"urlFoto\":\"https://www.camara.leg.br/internet/deputado/bandep/230765.jpg\"}]} | 1bedef9aea98e82f42ffe0e51a7c851e82c44c891c0fec24fc27f2ba762b9745 | 2020 |\n",
       "+--------+------------------+-------+-----------------------------------------------------------------------------------------------------------------------------------------------+------------------------------------------------------------------------------------------------------------------------------------------------------------------------------------------------------------------------------------------------------------------------------------------------------------------------------------------------------------------------------------------------------------------------------------------------------------------------------------------------------------------------------------------------------------------------------------------------------------------------------------------------------------------------------------------------------------------------------------------------------------------------------------------------------------------------------------------------------------------------------------------------------------------------------------------------------------------------------------------------------------------------------------------------------------------------------------------------------------------------------------------------------------------------------------------------------------------------------------------------------------------------------------------------------------------------------------------------------------------------------------------------------------------------------------------------------------------------------------------------------------------------------------------------------------------------------------------------------------------------------------------------------------------------------------------------------------------------------------------------------------------------------------------------------------------------------------------------------------------------------------------------------------------------------------------------------------------------------------------------------------------------------------------------------------------------------------------------------------------------------------------------------------------------------------------------------------------------------------------------------------------------------------------------------------------------------------------------------------------------------------------------------------------------------------------------------------------------------------------------------------------------------------------------------------------------------------------------------------------------------------------------------------------------------------------------------------------------------------------------------------------------------------------------------------------------------------------------------------------------------------------------------------------------------------------------------------------------------------------------------------------------------------------------------------------------------------------------------------------------------------------------------------------------------------------------------------------------------------------------------------------------------------------------+------------------------------------------------------------------+------+"
      ]
     },
     "execution_count": 85,
     "metadata": {},
     "output_type": "execute_result"
    }
   ],
   "source": [
    "%%sql\n",
    "SELECT * FROM bronze_partidos_membros LIMIT 1;"
   ]
  },
  {
   "cell_type": "code",
   "execution_count": 86,
   "id": "e7441d27",
   "metadata": {
    "vscode": {
     "languageId": "sql"
    }
   },
   "outputs": [
    {
     "data": {
      "text/html": [
       "<span style=\"None\">Running query in &#x27;duck&#x27;</span>"
      ],
      "text/plain": [
       "Running query in 'duck'"
      ]
     },
     "metadata": {},
     "output_type": "display_data"
    },
    {
     "data": {
      "text/html": [
       "<table>\n",
       "    <thead>\n",
       "        <tr>\n",
       "            <th>Success</th>\n",
       "        </tr>\n",
       "    </thead>\n",
       "    <tbody>\n",
       "    </tbody>\n",
       "</table>"
      ],
      "text/plain": [
       "+---------+\n",
       "| Success |\n",
       "+---------+\n",
       "+---------+"
      ]
     },
     "execution_count": 86,
     "metadata": {},
     "output_type": "execute_result"
    }
   ],
   "source": [
    "%%sql\n",
    "DROP TABLE IF EXISTS partidos_membros_camara;\n",
    "\n",
    "CREATE TABLE partidos_membros_camara AS\n",
    "WITH base AS (\n",
    "  SELECT\n",
    "    TRY_CAST(payload_json AS JSON) AS j,\n",
    "    year AS year_snapshot,\n",
    "    id AS id_partido,\n",
    "  FROM bronze_partidos_membros\n",
    "),\n",
    "exploded AS (\n",
    "  SELECT\n",
    "    CAST(b.id_partido AS BIGINT) AS id_partido,\n",
    "    CAST(json_extract_string(e.value, '$.id') AS BIGINT) AS id_deputado,\n",
    "    CAST(json_extract_string(e.value, '$.id_legislatura') AS INTEGER) AS id_legislatura,\n",
    "    b.year_snapshot,\n",
    "  FROM base b\n",
    "  CROSS JOIN json_each(b.j, '$.dados') AS e\n",
    ")\n",
    "SELECT\n",
    "    id_partido,\n",
    "    id_deputado,\n",
    "    id_legislatura,\n",
    "    year_snapshot,\n",
    "FROM exploded;\n",
    "DROP VIEW IF EXISTS bronze_partidos_membros;"
   ]
  },
  {
   "cell_type": "code",
   "execution_count": 87,
   "id": "758d9f5a",
   "metadata": {
    "vscode": {
     "languageId": "sql"
    }
   },
   "outputs": [
    {
     "data": {
      "text/html": [
       "<span style=\"None\">Running query in &#x27;duck&#x27;</span>"
      ],
      "text/plain": [
       "Running query in 'duck'"
      ]
     },
     "metadata": {},
     "output_type": "display_data"
    },
    {
     "data": {
      "text/html": [
       "<table>\n",
       "    <thead>\n",
       "        <tr>\n",
       "            <th>id_partido</th>\n",
       "            <th>id_deputado</th>\n",
       "            <th>id_legislatura</th>\n",
       "            <th>year_snapshot</th>\n",
       "        </tr>\n",
       "    </thead>\n",
       "    <tbody>\n",
       "        <tr>\n",
       "            <td>36779</td>\n",
       "            <td>230765</td>\n",
       "            <td>None</td>\n",
       "            <td>2020</td>\n",
       "        </tr>\n",
       "        <tr>\n",
       "            <td>36786</td>\n",
       "            <td>229082</td>\n",
       "            <td>None</td>\n",
       "            <td>2020</td>\n",
       "        </tr>\n",
       "        <tr>\n",
       "            <td>36832</td>\n",
       "            <td>220686</td>\n",
       "            <td>None</td>\n",
       "            <td>2020</td>\n",
       "        </tr>\n",
       "        <tr>\n",
       "            <td>36834</td>\n",
       "            <td>228042</td>\n",
       "            <td>None</td>\n",
       "            <td>2020</td>\n",
       "        </tr>\n",
       "        <tr>\n",
       "            <td>36835</td>\n",
       "            <td>220683</td>\n",
       "            <td>None</td>\n",
       "            <td>2020</td>\n",
       "        </tr>\n",
       "        <tr>\n",
       "            <td>36839</td>\n",
       "            <td>233592</td>\n",
       "            <td>None</td>\n",
       "            <td>2020</td>\n",
       "        </tr>\n",
       "        <tr>\n",
       "            <td>36844</td>\n",
       "            <td>231911</td>\n",
       "            <td>None</td>\n",
       "            <td>2020</td>\n",
       "        </tr>\n",
       "        <tr>\n",
       "            <td>36851</td>\n",
       "            <td>220697</td>\n",
       "            <td>None</td>\n",
       "            <td>2020</td>\n",
       "        </tr>\n",
       "        <tr>\n",
       "            <td>36886</td>\n",
       "            <td>220637</td>\n",
       "            <td>None</td>\n",
       "            <td>2020</td>\n",
       "        </tr>\n",
       "        <tr>\n",
       "            <td>36896</td>\n",
       "            <td>233598</td>\n",
       "            <td>None</td>\n",
       "            <td>2020</td>\n",
       "        </tr>\n",
       "    </tbody>\n",
       "</table>\n",
       "<span style=\"font-style:italic;text-align:center;\">Truncated to <a href=\"https://jupysql.ploomber.io/en/latest/api/configuration.html#displaylimit\">displaylimit</a> of 10.</span>"
      ],
      "text/plain": [
       "+------------+-------------+----------------+---------------+\n",
       "| id_partido | id_deputado | id_legislatura | year_snapshot |\n",
       "+------------+-------------+----------------+---------------+\n",
       "|   36779    |    230765   |      None      |      2020     |\n",
       "|   36786    |    229082   |      None      |      2020     |\n",
       "|   36832    |    220686   |      None      |      2020     |\n",
       "|   36834    |    228042   |      None      |      2020     |\n",
       "|   36835    |    220683   |      None      |      2020     |\n",
       "|   36839    |    233592   |      None      |      2020     |\n",
       "|   36844    |    231911   |      None      |      2020     |\n",
       "|   36851    |    220697   |      None      |      2020     |\n",
       "|   36886    |    220637   |      None      |      2020     |\n",
       "|   36896    |    233598   |      None      |      2020     |\n",
       "+------------+-------------+----------------+---------------+\n",
       "Truncated to displaylimit of 10."
      ]
     },
     "execution_count": 87,
     "metadata": {},
     "output_type": "execute_result"
    }
   ],
   "source": [
    "%%sql\n",
    "SELECT * FROM partidos_membros_camara LIMIT 10;"
   ]
  },
  {
   "cell_type": "code",
   "execution_count": null,
   "id": "41478fd8",
   "metadata": {
    "vscode": {
     "languageId": "sql"
    }
   },
   "outputs": [],
   "source": []
  },
  {
   "cell_type": "code",
   "execution_count": null,
   "id": "6948d28b",
   "metadata": {
    "vscode": {
     "languageId": "sql"
    }
   },
   "outputs": [],
   "source": []
  }
 ],
 "metadata": {
  "kernelspec": {
   "display_name": "venv",
   "language": "python",
   "name": "python3"
  },
  "language_info": {
   "codemirror_mode": {
    "name": "ipython",
    "version": 3
   },
   "file_extension": ".py",
   "mimetype": "text/x-python",
   "name": "python",
   "nbconvert_exporter": "python",
   "pygments_lexer": "ipython3",
   "version": "3.10.16"
  }
 },
 "nbformat": 4,
 "nbformat_minor": 5
}
