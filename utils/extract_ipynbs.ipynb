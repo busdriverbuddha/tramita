{
 "cells": [
  {
   "cell_type": "code",
   "execution_count": 5,
   "id": "6aa1f9ad",
   "metadata": {},
   "outputs": [],
   "source": [
    "from pathlib import Path\n",
    "import nbformat\n",
    "\n",
    "outdir = Path(\"silver_hotfix\")\n",
    "outdir.mkdir(parents=True, exist_ok=True)\n",
    "\n",
    "nb = nbformat.read(\"entrega_parcial/hotfix_silver.ipynb\", as_version=4)\n",
    "headers = []\n",
    "for i, cell in enumerate(nb.cells, 1):\n",
    "    if cell.cell_type == \"markdown\":\n",
    "        for line in cell.source.splitlines():\n",
    "            headers.append(line)\n",
    "    else:\n",
    "        if cell.source.strip().startswith(r\"%%sql\"):\n",
    "            outfile = outdir / f\"cell_{i:04d}.sql\"\n",
    "            header = \"\\n\".join(f\"-- {t}\" for t in headers)\n",
    "        else:\n",
    "            outfile = outdir / f\"cell_{i:04d}.py\"\n",
    "            header = \"\\n\".join(f\"# {t}\" for t in headers)\n",
    "        headers = []\n",
    "        outfile.write_text(header + \"\\n\\n\" + cell.source)\n",
    "                "
   ]
  },
  {
   "cell_type": "code",
   "execution_count": 6,
   "id": "4d5ead26",
   "metadata": {},
   "outputs": [],
   "source": [
    "import os\n",
    "files = sorted(outdir.glob(\"*.*\"))\n",
    "for i, file in enumerate(files, 1):\n",
    "    newfile = file.with_stem(f\"step_1{i:03d}\")\n",
    "    os.rename(file, newfile)"
   ]
  },
  {
   "cell_type": "code",
   "execution_count": 12,
   "id": "6994ef45",
   "metadata": {},
   "outputs": [
    {
     "data": {
      "text/plain": [
       "[PosixPath('data/silver/pipelines/senado/2020-2024-v2/cell_0022.sql'),\n",
       " PosixPath('data/silver/pipelines/senado/2020-2024-v2/cell_0028.sql'),\n",
       " PosixPath('data/silver/pipelines/senado/2020-2024-v2/cell_0023.sql'),\n",
       " PosixPath('data/silver/pipelines/senado/2020-2024-v2/cell_0020.sql'),\n",
       " PosixPath('data/silver/pipelines/senado/2020-2024-v2/cell_0044.sql'),\n",
       " PosixPath('data/silver/pipelines/senado/2020-2024-v2/cell_0106.sql'),\n",
       " PosixPath('data/silver/pipelines/senado/2020-2024-v2/cell_0110.py'),\n",
       " PosixPath('data/silver/pipelines/senado/2020-2024-v2/cell_0004.py'),\n",
       " PosixPath('data/silver/pipelines/senado/2020-2024-v2/cell_0101.sql'),\n",
       " PosixPath('data/silver/pipelines/senado/2020-2024-v2/cell_0043.sql'),\n",
       " PosixPath('data/silver/pipelines/senado/2020-2024-v2/cell_0017.sql'),\n",
       " PosixPath('data/silver/pipelines/senado/2020-2024-v2/cell_0047.sql'),\n",
       " PosixPath('data/silver/pipelines/senado/2020-2024-v2/cell_0055.sql'),\n",
       " PosixPath('data/silver/pipelines/senado/2020-2024-v2/cell_0052.sql'),\n",
       " PosixPath('data/silver/pipelines/senado/2020-2024-v2/cell_0011.sql'),\n",
       " PosixPath('data/silver/pipelines/senado/2020-2024-v2/cell_0042.sql'),\n",
       " PosixPath('data/silver/pipelines/senado/2020-2024-v2/cell_0041.sql'),\n",
       " PosixPath('data/silver/pipelines/senado/2020-2024-v2/cell_0036.sql'),\n",
       " PosixPath('data/silver/pipelines/senado/2020-2024-v2/cell_0031.sql'),\n",
       " PosixPath('data/silver/pipelines/senado/2020-2024-v2/cell_0013.sql'),\n",
       " PosixPath('data/silver/pipelines/senado/2020-2024-v2/cell_0006.sql'),\n",
       " PosixPath('data/silver/pipelines/senado/2020-2024-v2/cell_0090.sql'),\n",
       " PosixPath('data/silver/pipelines/senado/2020-2024-v2/cell_0082.sql'),\n",
       " PosixPath('data/silver/pipelines/senado/2020-2024-v2/cell_0027.sql'),\n",
       " PosixPath('data/silver/pipelines/senado/2020-2024-v2/cell_0058.sql'),\n",
       " PosixPath('data/silver/pipelines/senado/2020-2024-v2/cell_0034.sql'),\n",
       " PosixPath('data/silver/pipelines/senado/2020-2024-v2/cell_0037.sql'),\n",
       " PosixPath('data/silver/pipelines/senado/2020-2024-v2/cell_0065.sql'),\n",
       " PosixPath('data/silver/pipelines/senado/2020-2024-v2/cell_0102.sql'),\n",
       " PosixPath('data/silver/pipelines/senado/2020-2024-v2/cell_0071.sql'),\n",
       " PosixPath('data/silver/pipelines/senado/2020-2024-v2/cell_0009.sql'),\n",
       " PosixPath('data/silver/pipelines/senado/2020-2024-v2/cell_0075.sql'),\n",
       " PosixPath('data/silver/pipelines/senado/2020-2024-v2/cell_0010.sql'),\n",
       " PosixPath('data/silver/pipelines/senado/2020-2024-v2/cell_0084.sql'),\n",
       " PosixPath('data/silver/pipelines/senado/2020-2024-v2/cell_0079.sql'),\n",
       " PosixPath('data/silver/pipelines/senado/2020-2024-v2/cell_0035.sql'),\n",
       " PosixPath('data/silver/pipelines/senado/2020-2024-v2/cell_0053.sql'),\n",
       " PosixPath('data/silver/pipelines/senado/2020-2024-v2/cell_0026.sql'),\n",
       " PosixPath('data/silver/pipelines/senado/2020-2024-v2/cell_0077.sql'),\n",
       " PosixPath('data/silver/pipelines/senado/2020-2024-v2/cell_0088.sql'),\n",
       " PosixPath('data/silver/pipelines/senado/2020-2024-v2/cell_0049.sql'),\n",
       " PosixPath('data/silver/pipelines/senado/2020-2024-v2/cell_0014.sql'),\n",
       " PosixPath('data/silver/pipelines/senado/2020-2024-v2/cell_0032.sql'),\n",
       " PosixPath('data/silver/pipelines/senado/2020-2024-v2/cell_0067.sql'),\n",
       " PosixPath('data/silver/pipelines/senado/2020-2024-v2/cell_0061.sql'),\n",
       " PosixPath('data/silver/pipelines/senado/2020-2024-v2/cell_0046.sql'),\n",
       " PosixPath('data/silver/pipelines/senado/2020-2024-v2/cell_0092.sql'),\n",
       " PosixPath('data/silver/pipelines/senado/2020-2024-v2/cell_0045.sql'),\n",
       " PosixPath('data/silver/pipelines/senado/2020-2024-v2/cell_0086.sql'),\n",
       " PosixPath('data/silver/pipelines/senado/2020-2024-v2/cell_0107.sql'),\n",
       " PosixPath('data/silver/pipelines/senado/2020-2024-v2/cell_0019.sql'),\n",
       " PosixPath('data/silver/pipelines/senado/2020-2024-v2/cell_0054.sql'),\n",
       " PosixPath('data/silver/pipelines/senado/2020-2024-v2/cell_0048.sql'),\n",
       " PosixPath('data/silver/pipelines/senado/2020-2024-v2/cell_0105.sql'),\n",
       " PosixPath('data/silver/pipelines/senado/2020-2024-v2/cell_0069.sql'),\n",
       " PosixPath('data/silver/pipelines/senado/2020-2024-v2/cell_0100.sql'),\n",
       " PosixPath('data/silver/pipelines/senado/2020-2024-v2/cell_0051.sql'),\n",
       " PosixPath('data/silver/pipelines/senado/2020-2024-v2/cell_0094.sql'),\n",
       " PosixPath('data/silver/pipelines/senado/2020-2024-v2/cell_0098.sql'),\n",
       " PosixPath('data/silver/pipelines/senado/2020-2024-v2/cell_0109.py'),\n",
       " PosixPath('data/silver/pipelines/senado/2020-2024-v2/cell_0080.sql'),\n",
       " PosixPath('data/silver/pipelines/senado/2020-2024-v2/cell_0063.sql'),\n",
       " PosixPath('data/silver/pipelines/senado/2020-2024-v2/cell_0073.sql'),\n",
       " PosixPath('data/silver/pipelines/senado/2020-2024-v2/cell_0050.sql'),\n",
       " PosixPath('data/silver/pipelines/senado/2020-2024-v2/cell_0096.sql'),\n",
       " PosixPath('data/silver/pipelines/senado/2020-2024-v2/cell_0060.sql'),\n",
       " PosixPath('data/silver/pipelines/senado/2020-2024-v2/cell_0029.sql'),\n",
       " PosixPath('data/silver/pipelines/senado/2020-2024-v2/cell_0016.sql')]"
      ]
     },
     "execution_count": 12,
     "metadata": {},
     "output_type": "execute_result"
    }
   ],
   "source": [
    "STEP_DIR = Path(\"./data/silver/pipelines/senado/2020-2024-v2\")\n",
    "\n",
    "files = list(STEP_DIR.glob(\"*.*\"))\n",
    "files"
   ]
  },
  {
   "cell_type": "code",
   "execution_count": 13,
   "id": "ad583cb4",
   "metadata": {},
   "outputs": [],
   "source": [
    "files.sort()"
   ]
  },
  {
   "cell_type": "code",
   "execution_count": 14,
   "id": "9a63c1fc",
   "metadata": {},
   "outputs": [
    {
     "data": {
      "text/plain": [
       "[PosixPath('data/silver/pipelines/senado/2020-2024-v2/cell_0004.py'),\n",
       " PosixPath('data/silver/pipelines/senado/2020-2024-v2/cell_0006.sql'),\n",
       " PosixPath('data/silver/pipelines/senado/2020-2024-v2/cell_0009.sql'),\n",
       " PosixPath('data/silver/pipelines/senado/2020-2024-v2/cell_0010.sql'),\n",
       " PosixPath('data/silver/pipelines/senado/2020-2024-v2/cell_0011.sql'),\n",
       " PosixPath('data/silver/pipelines/senado/2020-2024-v2/cell_0013.sql'),\n",
       " PosixPath('data/silver/pipelines/senado/2020-2024-v2/cell_0014.sql'),\n",
       " PosixPath('data/silver/pipelines/senado/2020-2024-v2/cell_0016.sql'),\n",
       " PosixPath('data/silver/pipelines/senado/2020-2024-v2/cell_0017.sql'),\n",
       " PosixPath('data/silver/pipelines/senado/2020-2024-v2/cell_0019.sql'),\n",
       " PosixPath('data/silver/pipelines/senado/2020-2024-v2/cell_0020.sql'),\n",
       " PosixPath('data/silver/pipelines/senado/2020-2024-v2/cell_0022.sql'),\n",
       " PosixPath('data/silver/pipelines/senado/2020-2024-v2/cell_0023.sql'),\n",
       " PosixPath('data/silver/pipelines/senado/2020-2024-v2/cell_0026.sql'),\n",
       " PosixPath('data/silver/pipelines/senado/2020-2024-v2/cell_0027.sql'),\n",
       " PosixPath('data/silver/pipelines/senado/2020-2024-v2/cell_0028.sql'),\n",
       " PosixPath('data/silver/pipelines/senado/2020-2024-v2/cell_0029.sql'),\n",
       " PosixPath('data/silver/pipelines/senado/2020-2024-v2/cell_0031.sql'),\n",
       " PosixPath('data/silver/pipelines/senado/2020-2024-v2/cell_0032.sql'),\n",
       " PosixPath('data/silver/pipelines/senado/2020-2024-v2/cell_0034.sql'),\n",
       " PosixPath('data/silver/pipelines/senado/2020-2024-v2/cell_0035.sql'),\n",
       " PosixPath('data/silver/pipelines/senado/2020-2024-v2/cell_0036.sql'),\n",
       " PosixPath('data/silver/pipelines/senado/2020-2024-v2/cell_0037.sql'),\n",
       " PosixPath('data/silver/pipelines/senado/2020-2024-v2/cell_0041.sql'),\n",
       " PosixPath('data/silver/pipelines/senado/2020-2024-v2/cell_0042.sql'),\n",
       " PosixPath('data/silver/pipelines/senado/2020-2024-v2/cell_0043.sql'),\n",
       " PosixPath('data/silver/pipelines/senado/2020-2024-v2/cell_0044.sql'),\n",
       " PosixPath('data/silver/pipelines/senado/2020-2024-v2/cell_0045.sql'),\n",
       " PosixPath('data/silver/pipelines/senado/2020-2024-v2/cell_0046.sql'),\n",
       " PosixPath('data/silver/pipelines/senado/2020-2024-v2/cell_0047.sql'),\n",
       " PosixPath('data/silver/pipelines/senado/2020-2024-v2/cell_0048.sql'),\n",
       " PosixPath('data/silver/pipelines/senado/2020-2024-v2/cell_0049.sql'),\n",
       " PosixPath('data/silver/pipelines/senado/2020-2024-v2/cell_0050.sql'),\n",
       " PosixPath('data/silver/pipelines/senado/2020-2024-v2/cell_0051.sql'),\n",
       " PosixPath('data/silver/pipelines/senado/2020-2024-v2/cell_0052.sql'),\n",
       " PosixPath('data/silver/pipelines/senado/2020-2024-v2/cell_0053.sql'),\n",
       " PosixPath('data/silver/pipelines/senado/2020-2024-v2/cell_0054.sql'),\n",
       " PosixPath('data/silver/pipelines/senado/2020-2024-v2/cell_0055.sql'),\n",
       " PosixPath('data/silver/pipelines/senado/2020-2024-v2/cell_0058.sql'),\n",
       " PosixPath('data/silver/pipelines/senado/2020-2024-v2/cell_0060.sql'),\n",
       " PosixPath('data/silver/pipelines/senado/2020-2024-v2/cell_0061.sql'),\n",
       " PosixPath('data/silver/pipelines/senado/2020-2024-v2/cell_0063.sql'),\n",
       " PosixPath('data/silver/pipelines/senado/2020-2024-v2/cell_0065.sql'),\n",
       " PosixPath('data/silver/pipelines/senado/2020-2024-v2/cell_0067.sql'),\n",
       " PosixPath('data/silver/pipelines/senado/2020-2024-v2/cell_0069.sql'),\n",
       " PosixPath('data/silver/pipelines/senado/2020-2024-v2/cell_0071.sql'),\n",
       " PosixPath('data/silver/pipelines/senado/2020-2024-v2/cell_0073.sql'),\n",
       " PosixPath('data/silver/pipelines/senado/2020-2024-v2/cell_0075.sql'),\n",
       " PosixPath('data/silver/pipelines/senado/2020-2024-v2/cell_0077.sql'),\n",
       " PosixPath('data/silver/pipelines/senado/2020-2024-v2/cell_0079.sql'),\n",
       " PosixPath('data/silver/pipelines/senado/2020-2024-v2/cell_0080.sql'),\n",
       " PosixPath('data/silver/pipelines/senado/2020-2024-v2/cell_0082.sql'),\n",
       " PosixPath('data/silver/pipelines/senado/2020-2024-v2/cell_0084.sql'),\n",
       " PosixPath('data/silver/pipelines/senado/2020-2024-v2/cell_0086.sql'),\n",
       " PosixPath('data/silver/pipelines/senado/2020-2024-v2/cell_0088.sql'),\n",
       " PosixPath('data/silver/pipelines/senado/2020-2024-v2/cell_0090.sql'),\n",
       " PosixPath('data/silver/pipelines/senado/2020-2024-v2/cell_0092.sql'),\n",
       " PosixPath('data/silver/pipelines/senado/2020-2024-v2/cell_0094.sql'),\n",
       " PosixPath('data/silver/pipelines/senado/2020-2024-v2/cell_0096.sql'),\n",
       " PosixPath('data/silver/pipelines/senado/2020-2024-v2/cell_0098.sql'),\n",
       " PosixPath('data/silver/pipelines/senado/2020-2024-v2/cell_0100.sql'),\n",
       " PosixPath('data/silver/pipelines/senado/2020-2024-v2/cell_0101.sql'),\n",
       " PosixPath('data/silver/pipelines/senado/2020-2024-v2/cell_0102.sql'),\n",
       " PosixPath('data/silver/pipelines/senado/2020-2024-v2/cell_0105.sql'),\n",
       " PosixPath('data/silver/pipelines/senado/2020-2024-v2/cell_0106.sql'),\n",
       " PosixPath('data/silver/pipelines/senado/2020-2024-v2/cell_0107.sql'),\n",
       " PosixPath('data/silver/pipelines/senado/2020-2024-v2/cell_0109.py'),\n",
       " PosixPath('data/silver/pipelines/senado/2020-2024-v2/cell_0110.py')]"
      ]
     },
     "execution_count": 14,
     "metadata": {},
     "output_type": "execute_result"
    }
   ],
   "source": [
    "files"
   ]
  },
  {
   "cell_type": "code",
   "execution_count": 15,
   "id": "053784d2",
   "metadata": {},
   "outputs": [],
   "source": [
    "new_files = [p.with_stem(f\"step_{i:04d}\") for i, p in enumerate(files, 1)]"
   ]
  },
  {
   "cell_type": "code",
   "execution_count": 16,
   "id": "14cfdf6b",
   "metadata": {},
   "outputs": [],
   "source": [
    "import os\n"
   ]
  },
  {
   "cell_type": "code",
   "execution_count": 17,
   "id": "47b3b606",
   "metadata": {},
   "outputs": [],
   "source": [
    "import shutil"
   ]
  },
  {
   "cell_type": "code",
   "execution_count": 18,
   "id": "195f3ebf",
   "metadata": {},
   "outputs": [],
   "source": [
    "for p1, p2 in zip(files, new_files):\n",
    "    shutil.copy2(p1, p2)"
   ]
  },
  {
   "cell_type": "code",
   "execution_count": null,
   "id": "6a33c1bf",
   "metadata": {},
   "outputs": [],
   "source": []
  }
 ],
 "metadata": {
  "kernelspec": {
   "display_name": "venv",
   "language": "python",
   "name": "python3"
  },
  "language_info": {
   "codemirror_mode": {
    "name": "ipython",
    "version": 3
   },
   "file_extension": ".py",
   "mimetype": "text/x-python",
   "name": "python",
   "nbconvert_exporter": "python",
   "pygments_lexer": "ipython3",
   "version": "3.13.7"
  }
 },
 "nbformat": 4,
 "nbformat_minor": 5
}
