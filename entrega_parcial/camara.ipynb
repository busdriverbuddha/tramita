{
 "cells": [
  {
   "cell_type": "code",
   "execution_count": 1,
   "id": "5d5c2ffc",
   "metadata": {},
   "outputs": [
    {
     "data": {
      "text/html": [
       "<span style=\"None\">Tip: You may define configurations in /home/c-cc2016/ra173608/tramita/pyproject.toml or /home/c-cc2016/ra173608/.jupysql/config. </span>"
      ],
      "text/plain": [
       "Tip: You may define configurations in /home/c-cc2016/ra173608/tramita/pyproject.toml or /home/c-cc2016/ra173608/.jupysql/config. "
      ]
     },
     "metadata": {},
     "output_type": "display_data"
    },
    {
     "data": {
      "text/html": [
       "Please review our <a href='https://jupysql.ploomber.io/en/latest/api/configuration.html#loading-from-a-file'>configuration guideline</a>."
      ],
      "text/plain": [
       "<IPython.core.display.HTML object>"
      ]
     },
     "metadata": {},
     "output_type": "display_data"
    },
    {
     "data": {
      "text/html": [
       "<span style=\"None\">Did not find user configurations in /home/c-cc2016/ra173608/tramita/pyproject.toml.</span>"
      ],
      "text/plain": [
       "Did not find user configurations in /home/c-cc2016/ra173608/tramita/pyproject.toml."
      ]
     },
     "metadata": {},
     "output_type": "display_data"
    }
   ],
   "source": [
    "import asyncio\n",
    "import os\n",
    "\n",
    "from collections import Counter\n",
    "from datetime import datetime\n",
    "from pathlib import Path\n",
    "\n",
    "import duckdb\n",
    "import httpx\n",
    "import matplotlib.pyplot as plt\n",
    "import networkx as nx\n",
    "import pandas as pd\n",
    "import seaborn as sns\n",
    "\n",
    "%load_ext sql\n",
    "\n",
    "from dotenv import load_dotenv\n",
    "\n",
    "load_dotenv()\n",
    "\n",
    "DB_PATH = Path(\".\").absolute().parent / Path(os.getenv(\"SILVER_DUCKDB_PATH\", \"\"))\n",
    "\n",
    "TMP_DIR = \"/tmp/duckdb_tmp\"\n",
    "\n",
    "OUT_DIR = Path(\"outputs\")\n",
    "OUT_DIR.mkdir(parents=True, exist_ok=True)\n",
    "\n",
    "NODES_CSV = OUT_DIR / \"camara_bipartite_nodes.csv\"\n",
    "EDGES_CSV = OUT_DIR / \"camara_bipartite_edges.csv\"\n",
    "\n",
    "conn = duckdb.connect(DB_PATH)\n",
    "\n",
    "conn.execute(f\"SET temp_directory='{TMP_DIR}'\")\n",
    "conn.execute(\"SET memory_limit='50GB'\")\n",
    "conn.execute(\"SET threads=1\")\n",
    "conn.execute(\"SET preserve_insertion_order=false\")\n",
    "\n",
    "plt.rcParams[\"figure.dpi\"] = 150\n",
    "plt.rcParams[\"figure.figsize\"] = (6, 4)\n",
    "sns.set_style(\"darkgrid\")\n",
    "\n",
    "%sql conn --alias duck\n"
   ]
  },
  {
   "cell_type": "markdown",
   "id": "3572d169",
   "metadata": {
    "vscode": {
     "languageId": "sql"
    }
   },
   "source": [
    "# Carregamento dos dados"
   ]
  },
  {
   "cell_type": "markdown",
   "id": "e0064352",
   "metadata": {
    "vscode": {
     "languageId": "sql"
    }
   },
   "source": [
    "## Proposições"
   ]
  },
  {
   "cell_type": "code",
   "execution_count": 2,
   "id": "bd16de1f",
   "metadata": {
    "vscode": {
     "languageId": "sql"
    }
   },
   "outputs": [
    {
     "data": {
      "text/html": [
       "<span style=\"None\">Running query in &#x27;duck&#x27;</span>"
      ],
      "text/plain": [
       "Running query in 'duck'"
      ]
     },
     "metadata": {},
     "output_type": "display_data"
    },
    {
     "data": {
      "text/html": [
       "<table>\n",
       "    <thead>\n",
       "        <tr>\n",
       "            <th>id_proposicao</th>\n",
       "            <th>uri</th>\n",
       "            <th>author_type</th>\n",
       "            <th>uri_kind</th>\n",
       "            <th>author_id_str</th>\n",
       "            <th>author_id_num</th>\n",
       "        </tr>\n",
       "    </thead>\n",
       "    <tbody>\n",
       "        <tr>\n",
       "            <td>15009</td>\n",
       "            <td><a href=https://dadosabertos.camara.leg.br/api/v2/deputados/73538>https://dadosabertos.camara.leg.br/api/v2/deputados/73538</a></td>\n",
       "            <td>deputado</td>\n",
       "            <td>deputados</td>\n",
       "            <td>73538</td>\n",
       "            <td>73538</td>\n",
       "        </tr>\n",
       "        <tr>\n",
       "            <td>15532</td>\n",
       "            <td><a href=https://dadosabertos.camara.leg.br/api/v2/deputados/73910>https://dadosabertos.camara.leg.br/api/v2/deputados/73910</a></td>\n",
       "            <td>deputado</td>\n",
       "            <td>deputados</td>\n",
       "            <td>73910</td>\n",
       "            <td>73910</td>\n",
       "        </tr>\n",
       "        <tr>\n",
       "            <td>15749</td>\n",
       "            <td><a href=https://dadosabertos.camara.leg.br/api/v2/deputados/74316>https://dadosabertos.camara.leg.br/api/v2/deputados/74316</a></td>\n",
       "            <td>deputado</td>\n",
       "            <td>deputados</td>\n",
       "            <td>74316</td>\n",
       "            <td>74316</td>\n",
       "        </tr>\n",
       "        <tr>\n",
       "            <td>15990</td>\n",
       "            <td><a href=https://dadosabertos.camara.leg.br/api/v2/orgaos/262>https://dadosabertos.camara.leg.br/api/v2/orgaos/262</a></td>\n",
       "            <td>orgao</td>\n",
       "            <td>orgaos</td>\n",
       "            <td>262</td>\n",
       "            <td>262</td>\n",
       "        </tr>\n",
       "        <tr>\n",
       "            <td>16481</td>\n",
       "            <td><a href=https://dadosabertos.camara.leg.br/api/v2/orgaos/78>https://dadosabertos.camara.leg.br/api/v2/orgaos/78</a></td>\n",
       "            <td>orgao</td>\n",
       "            <td>orgaos</td>\n",
       "            <td>78</td>\n",
       "            <td>78</td>\n",
       "        </tr>\n",
       "        <tr>\n",
       "            <td>16969</td>\n",
       "            <td><a href=https://dadosabertos.camara.leg.br/api/v2/orgaos/78>https://dadosabertos.camara.leg.br/api/v2/orgaos/78</a></td>\n",
       "            <td>orgao</td>\n",
       "            <td>orgaos</td>\n",
       "            <td>78</td>\n",
       "            <td>78</td>\n",
       "        </tr>\n",
       "        <tr>\n",
       "            <td>17563</td>\n",
       "            <td><a href=https://dadosabertos.camara.leg.br/api/v2/deputados/73788>https://dadosabertos.camara.leg.br/api/v2/deputados/73788</a></td>\n",
       "            <td>deputado</td>\n",
       "            <td>deputados</td>\n",
       "            <td>73788</td>\n",
       "            <td>73788</td>\n",
       "        </tr>\n",
       "        <tr>\n",
       "            <td>17823</td>\n",
       "            <td><a href=https://dadosabertos.camara.leg.br/api/v2/deputados/74671>https://dadosabertos.camara.leg.br/api/v2/deputados/74671</a></td>\n",
       "            <td>deputado</td>\n",
       "            <td>deputados</td>\n",
       "            <td>74671</td>\n",
       "            <td>74671</td>\n",
       "        </tr>\n",
       "        <tr>\n",
       "            <td>17915</td>\n",
       "            <td><a href=https://dadosabertos.camara.leg.br/api/v2/orgaos/78>https://dadosabertos.camara.leg.br/api/v2/orgaos/78</a></td>\n",
       "            <td>orgao</td>\n",
       "            <td>orgaos</td>\n",
       "            <td>78</td>\n",
       "            <td>78</td>\n",
       "        </tr>\n",
       "        <tr>\n",
       "            <td>18420</td>\n",
       "            <td><a href=https://dadosabertos.camara.leg.br/api/v2/deputados/73458>https://dadosabertos.camara.leg.br/api/v2/deputados/73458</a></td>\n",
       "            <td>deputado</td>\n",
       "            <td>deputados</td>\n",
       "            <td>73458</td>\n",
       "            <td>73458</td>\n",
       "        </tr>\n",
       "    </tbody>\n",
       "</table>\n",
       "<span style=\"font-style:italic;text-align:center;\">Truncated to <a href=\"https://jupysql.ploomber.io/en/latest/api/configuration.html#displaylimit\">displaylimit</a> of 10.</span>"
      ],
      "text/plain": [
       "+---------------+---------------------------------------------------------------------------------------------------------------------------------+-------------+-----------+---------------+---------------+\n",
       "| id_proposicao |                                                               uri                                                               | author_type |  uri_kind | author_id_str | author_id_num |\n",
       "+---------------+---------------------------------------------------------------------------------------------------------------------------------+-------------+-----------+---------------+---------------+\n",
       "|     15009     | <a href=https://dadosabertos.camara.leg.br/api/v2/deputados/73538>https://dadosabertos.camara.leg.br/api/v2/deputados/73538</a> |   deputado  | deputados |     73538     |     73538     |\n",
       "|     15532     | <a href=https://dadosabertos.camara.leg.br/api/v2/deputados/73910>https://dadosabertos.camara.leg.br/api/v2/deputados/73910</a> |   deputado  | deputados |     73910     |     73910     |\n",
       "|     15749     | <a href=https://dadosabertos.camara.leg.br/api/v2/deputados/74316>https://dadosabertos.camara.leg.br/api/v2/deputados/74316</a> |   deputado  | deputados |     74316     |     74316     |\n",
       "|     15990     |      <a href=https://dadosabertos.camara.leg.br/api/v2/orgaos/262>https://dadosabertos.camara.leg.br/api/v2/orgaos/262</a>      |    orgao    |   orgaos  |      262      |      262      |\n",
       "|     16481     |       <a href=https://dadosabertos.camara.leg.br/api/v2/orgaos/78>https://dadosabertos.camara.leg.br/api/v2/orgaos/78</a>       |    orgao    |   orgaos  |       78      |       78      |\n",
       "|     16969     |       <a href=https://dadosabertos.camara.leg.br/api/v2/orgaos/78>https://dadosabertos.camara.leg.br/api/v2/orgaos/78</a>       |    orgao    |   orgaos  |       78      |       78      |\n",
       "|     17563     | <a href=https://dadosabertos.camara.leg.br/api/v2/deputados/73788>https://dadosabertos.camara.leg.br/api/v2/deputados/73788</a> |   deputado  | deputados |     73788     |     73788     |\n",
       "|     17823     | <a href=https://dadosabertos.camara.leg.br/api/v2/deputados/74671>https://dadosabertos.camara.leg.br/api/v2/deputados/74671</a> |   deputado  | deputados |     74671     |     74671     |\n",
       "|     17915     |       <a href=https://dadosabertos.camara.leg.br/api/v2/orgaos/78>https://dadosabertos.camara.leg.br/api/v2/orgaos/78</a>       |    orgao    |   orgaos  |       78      |       78      |\n",
       "|     18420     | <a href=https://dadosabertos.camara.leg.br/api/v2/deputados/73458>https://dadosabertos.camara.leg.br/api/v2/deputados/73458</a> |   deputado  | deputados |     73458     |     73458     |\n",
       "+---------------+---------------------------------------------------------------------------------------------------------------------------------+-------------+-----------+---------------+---------------+\n",
       "Truncated to displaylimit of 10."
      ]
     },
     "execution_count": 2,
     "metadata": {},
     "output_type": "execute_result"
    }
   ],
   "source": [
    "%%sql\n",
    "SELECT\n",
    "  id_proposicao,\n",
    "  uri,\n",
    "  CASE\n",
    "    WHEN REGEXP_FULL_MATCH(uri, '.*/deputados/[0-9]+$') THEN 'deputado'\n",
    "    WHEN REGEXP_FULL_MATCH(uri, '.*/orgaos/[0-9]+$')    THEN 'orgao'\n",
    "    ELSE 'unknown'\n",
    "  END AS author_type,\n",
    "  REGEXP_EXTRACT(uri, '.*/(deputados|orgaos)/([0-9]+)$', 1) AS uri_kind,      -- 'deputados' or 'orgaos'\n",
    "  REGEXP_EXTRACT(uri, '.*/(deputados|orgaos)/([0-9]+)$', 2) AS author_id_str, -- numeric id as text\n",
    "  TRY_CAST(REGEXP_EXTRACT(uri, '.*/(deputados|orgaos)/([0-9]+)$', 2) AS BIGINT) AS author_id_num\n",
    "FROM autores_camara\n",
    "WHERE uri <> ''\n",
    "LIMIT 50;\n"
   ]
  },
  {
   "cell_type": "markdown",
   "id": "bdd0f49c",
   "metadata": {},
   "source": [
    "## Autores"
   ]
  },
  {
   "cell_type": "code",
   "execution_count": 3,
   "id": "4613a351",
   "metadata": {
    "vscode": {
     "languageId": "sql"
    }
   },
   "outputs": [
    {
     "data": {
      "text/html": [
       "<span style=\"None\">Running query in &#x27;duck&#x27;</span>"
      ],
      "text/plain": [
       "Running query in 'duck'"
      ]
     },
     "metadata": {},
     "output_type": "display_data"
    },
    {
     "data": {
      "text/html": [
       "<table>\n",
       "    <thead>\n",
       "        <tr>\n",
       "            <th>Count</th>\n",
       "        </tr>\n",
       "    </thead>\n",
       "    <tbody>\n",
       "    </tbody>\n",
       "</table>"
      ],
      "text/plain": [
       "+-------+\n",
       "| Count |\n",
       "+-------+\n",
       "+-------+"
      ]
     },
     "execution_count": 3,
     "metadata": {},
     "output_type": "execute_result"
    }
   ],
   "source": [
    "%%sql\n",
    "CREATE OR REPLACE VIEW camara_authors AS\n",
    "SELECT\n",
    "  CAST(id_proposicao AS BIGINT) AS id_proposicao,\n",
    "  REGEXP_EXTRACT(uri, '.*/(deputados|orgaos)/([0-9]+)$', 1) AS uri_kind,\n",
    "  TRY_CAST(REGEXP_EXTRACT(uri, '.*/(deputados|orgaos)/([0-9]+)$', 2) AS BIGINT) AS author_id_num\n",
    "FROM autores_camara\n",
    "WHERE uri IS NOT NULL;"
   ]
  },
  {
   "cell_type": "code",
   "execution_count": 4,
   "id": "f84d1d0e",
   "metadata": {
    "vscode": {
     "languageId": "sql"
    }
   },
   "outputs": [
    {
     "data": {
      "text/html": [
       "<span style=\"None\">Running query in &#x27;duck&#x27;</span>"
      ],
      "text/plain": [
       "Running query in 'duck'"
      ]
     },
     "metadata": {},
     "output_type": "display_data"
    },
    {
     "data": {
      "text/html": [
       "<table>\n",
       "    <thead>\n",
       "        <tr>\n",
       "            <th>id_proposicao</th>\n",
       "            <th>uri_kind</th>\n",
       "            <th>author_id_num</th>\n",
       "        </tr>\n",
       "    </thead>\n",
       "    <tbody>\n",
       "        <tr>\n",
       "            <td>15009</td>\n",
       "            <td>deputados</td>\n",
       "            <td>73538</td>\n",
       "        </tr>\n",
       "        <tr>\n",
       "            <td>15532</td>\n",
       "            <td>deputados</td>\n",
       "            <td>73910</td>\n",
       "        </tr>\n",
       "        <tr>\n",
       "            <td>15749</td>\n",
       "            <td>deputados</td>\n",
       "            <td>74316</td>\n",
       "        </tr>\n",
       "        <tr>\n",
       "            <td>15990</td>\n",
       "            <td>orgaos</td>\n",
       "            <td>262</td>\n",
       "        </tr>\n",
       "        <tr>\n",
       "            <td>16481</td>\n",
       "            <td>orgaos</td>\n",
       "            <td>78</td>\n",
       "        </tr>\n",
       "        <tr>\n",
       "            <td>16969</td>\n",
       "            <td>orgaos</td>\n",
       "            <td>78</td>\n",
       "        </tr>\n",
       "        <tr>\n",
       "            <td>17563</td>\n",
       "            <td>deputados</td>\n",
       "            <td>73788</td>\n",
       "        </tr>\n",
       "        <tr>\n",
       "            <td>17823</td>\n",
       "            <td>deputados</td>\n",
       "            <td>74671</td>\n",
       "        </tr>\n",
       "        <tr>\n",
       "            <td>17915</td>\n",
       "            <td>orgaos</td>\n",
       "            <td>78</td>\n",
       "        </tr>\n",
       "        <tr>\n",
       "            <td>18420</td>\n",
       "            <td>deputados</td>\n",
       "            <td>73458</td>\n",
       "        </tr>\n",
       "    </tbody>\n",
       "</table>\n",
       "<span style=\"font-style:italic;text-align:center;\">Truncated to <a href=\"https://jupysql.ploomber.io/en/latest/api/configuration.html#displaylimit\">displaylimit</a> of 10.</span>"
      ],
      "text/plain": [
       "+---------------+-----------+---------------+\n",
       "| id_proposicao |  uri_kind | author_id_num |\n",
       "+---------------+-----------+---------------+\n",
       "|     15009     | deputados |     73538     |\n",
       "|     15532     | deputados |     73910     |\n",
       "|     15749     | deputados |     74316     |\n",
       "|     15990     |   orgaos  |      262      |\n",
       "|     16481     |   orgaos  |       78      |\n",
       "|     16969     |   orgaos  |       78      |\n",
       "|     17563     | deputados |     73788     |\n",
       "|     17823     | deputados |     74671     |\n",
       "|     17915     |   orgaos  |       78      |\n",
       "|     18420     | deputados |     73458     |\n",
       "+---------------+-----------+---------------+\n",
       "Truncated to displaylimit of 10."
      ]
     },
     "execution_count": 4,
     "metadata": {},
     "output_type": "execute_result"
    }
   ],
   "source": [
    "%%sql\n",
    "SELECT * FROM camara_authors LIMIT 10;"
   ]
  },
  {
   "cell_type": "markdown",
   "id": "622f0b91",
   "metadata": {
    "vscode": {
     "languageId": "sql"
    }
   },
   "source": [
    "### Checagem de autores órfãos (indexados na relacional mas sem presença no BD)"
   ]
  },
  {
   "cell_type": "code",
   "execution_count": 5,
   "id": "753dc350",
   "metadata": {
    "vscode": {
     "languageId": "sql"
    }
   },
   "outputs": [
    {
     "data": {
      "text/html": [
       "<span style=\"None\">Running query in &#x27;duck&#x27;</span>"
      ],
      "text/plain": [
       "Running query in 'duck'"
      ]
     },
     "metadata": {},
     "output_type": "display_data"
    },
    {
     "data": {
      "text/html": [
       "<table>\n",
       "    <thead>\n",
       "        <tr>\n",
       "            <th>ok_zero_orphans</th>\n",
       "        </tr>\n",
       "    </thead>\n",
       "    <tbody>\n",
       "        <tr>\n",
       "            <td>1.0</td>\n",
       "        </tr>\n",
       "    </tbody>\n",
       "</table>"
      ],
      "text/plain": [
       "+-----------------+\n",
       "| ok_zero_orphans |\n",
       "+-----------------+\n",
       "|       1.0       |\n",
       "+-----------------+"
      ]
     },
     "execution_count": 5,
     "metadata": {},
     "output_type": "execute_result"
    }
   ],
   "source": [
    "%%sql\n",
    "WITH orphan_ids AS (\n",
    "  SELECT DISTINCT a.author_id_num AS id_deputado\n",
    "  FROM camara_authors a\n",
    "  LEFT JOIN deputados_camara d\n",
    "    ON d.id_deputado = a.author_id_num\n",
    "  WHERE a.uri_kind = 'deputados' AND d.id_deputado IS NULL\n",
    "),\n",
    "cnt AS (SELECT COUNT(*) AS n FROM orphan_ids)\n",
    "-- returns 1 if OK; raises divide-by-zero error if any orphan exists\n",
    "SELECT 1 / (CASE WHEN n = 0 THEN 1 ELSE 0 END) AS ok_zero_orphans\n",
    "FROM cnt;"
   ]
  },
  {
   "cell_type": "code",
   "execution_count": 6,
   "id": "b1fdc477",
   "metadata": {
    "vscode": {
     "languageId": "sql"
    }
   },
   "outputs": [
    {
     "data": {
      "text/html": [
       "<span style=\"None\">Running query in &#x27;duck&#x27;</span>"
      ],
      "text/plain": [
       "Running query in 'duck'"
      ]
     },
     "metadata": {},
     "output_type": "display_data"
    },
    {
     "data": {
      "text/html": [
       "<table>\n",
       "    <thead>\n",
       "        <tr>\n",
       "            <th>id_orgao</th>\n",
       "        </tr>\n",
       "    </thead>\n",
       "    <tbody>\n",
       "        <tr>\n",
       "            <td>262</td>\n",
       "        </tr>\n",
       "        <tr>\n",
       "            <td>5996</td>\n",
       "        </tr>\n",
       "        <tr>\n",
       "            <td>6502</td>\n",
       "        </tr>\n",
       "        <tr>\n",
       "            <td>6726</td>\n",
       "        </tr>\n",
       "        <tr>\n",
       "            <td>81</td>\n",
       "        </tr>\n",
       "        <tr>\n",
       "            <td>537485</td>\n",
       "        </tr>\n",
       "        <tr>\n",
       "            <td>537337</td>\n",
       "        </tr>\n",
       "        <tr>\n",
       "            <td>537914</td>\n",
       "        </tr>\n",
       "        <tr>\n",
       "            <td>537742</td>\n",
       "        </tr>\n",
       "        <tr>\n",
       "            <td>538202</td>\n",
       "        </tr>\n",
       "    </tbody>\n",
       "</table>\n",
       "<span style=\"font-style:italic;text-align:center;\">Truncated to <a href=\"https://jupysql.ploomber.io/en/latest/api/configuration.html#displaylimit\">displaylimit</a> of 10.</span>"
      ],
      "text/plain": [
       "+----------+\n",
       "| id_orgao |\n",
       "+----------+\n",
       "|   262    |\n",
       "|   5996   |\n",
       "|   6502   |\n",
       "|   6726   |\n",
       "|    81    |\n",
       "|  537485  |\n",
       "|  537337  |\n",
       "|  537914  |\n",
       "|  537742  |\n",
       "|  538202  |\n",
       "+----------+\n",
       "Truncated to displaylimit of 10."
      ]
     },
     "execution_count": 6,
     "metadata": {},
     "output_type": "execute_result"
    }
   ],
   "source": [
    "%%sql\n",
    "WITH orphan_ids AS (\n",
    "  SELECT DISTINCT a.author_id_num AS id_orgao\n",
    "  FROM camara_authors a\n",
    "  LEFT JOIN orgaos_camara o\n",
    "    ON o.id_orgao = a.author_id_num\n",
    "  WHERE a.uri_kind = 'orgaos' AND o.id_orgao IS NULL\n",
    "),\n",
    "cnt AS (SELECT COUNT(*) AS n FROM orphan_ids)\n",
    "-- returns 1 if OK; raises divide-by-zero error if any orphan exists\n",
    "SELECT 1 / (CASE WHEN n = 0 THEN 1 ELSE 0 END) AS ok_zero_orphans\n",
    "FROM cnt;\n",
    "\n",
    "WITH orphan_ids AS (\n",
    "  SELECT DISTINCT a.author_id_num AS id_orgao\n",
    "  FROM camara_authors a\n",
    "  LEFT JOIN orgaos_camara o\n",
    "    ON o.id_orgao = a.author_id_num\n",
    "  WHERE a.uri_kind = 'orgaos' AND o.id_orgao IS NULL\n",
    ")\n",
    "SELECT * FROM orphan_ids LIMIT 100;"
   ]
  },
  {
   "cell_type": "code",
   "execution_count": 7,
   "id": "8b674a59",
   "metadata": {
    "vscode": {
     "languageId": "sql"
    }
   },
   "outputs": [
    {
     "data": {
      "text/html": [
       "<span style=\"None\">Running query in &#x27;duck&#x27;</span>"
      ],
      "text/plain": [
       "Running query in 'duck'"
      ]
     },
     "metadata": {},
     "output_type": "display_data"
    },
    {
     "data": {
      "text/html": [
       "<table>\n",
       "    <thead>\n",
       "        <tr>\n",
       "            <th>Count</th>\n",
       "        </tr>\n",
       "    </thead>\n",
       "    <tbody>\n",
       "    </tbody>\n",
       "</table>"
      ],
      "text/plain": [
       "+-------+\n",
       "| Count |\n",
       "+-------+\n",
       "+-------+"
      ]
     },
     "execution_count": 7,
     "metadata": {},
     "output_type": "execute_result"
    }
   ],
   "source": [
    "%%sql\n",
    "\n",
    "CREATE OR REPLACE VIEW missing_orgaos AS\n",
    "WITH refs AS (\n",
    "  SELECT DISTINCT author_id_num AS id_orgao\n",
    "  FROM camara_authors\n",
    "  WHERE uri_kind = 'orgaos'\n",
    "),\n",
    "have AS (\n",
    "  SELECT DISTINCT id_orgao FROM orgaos_camara\n",
    ")\n",
    "SELECT r.id_orgao\n",
    "FROM refs r\n",
    "LEFT JOIN have h ON h.id_orgao = r.id_orgao\n",
    "WHERE h.id_orgao IS NULL;\n"
   ]
  },
  {
   "cell_type": "code",
   "execution_count": 8,
   "id": "383087f2",
   "metadata": {
    "vscode": {
     "languageId": "sql"
    }
   },
   "outputs": [
    {
     "data": {
      "text/html": [
       "<span style=\"None\">Running query in &#x27;duck&#x27;</span>"
      ],
      "text/plain": [
       "Running query in 'duck'"
      ]
     },
     "metadata": {},
     "output_type": "display_data"
    },
    {
     "data": {
      "text/html": [
       "<table>\n",
       "    <thead>\n",
       "        <tr>\n",
       "            <th>n_missing</th>\n",
       "        </tr>\n",
       "    </thead>\n",
       "    <tbody>\n",
       "        <tr>\n",
       "            <td>62</td>\n",
       "        </tr>\n",
       "    </tbody>\n",
       "</table>"
      ],
      "text/plain": [
       "+-----------+\n",
       "| n_missing |\n",
       "+-----------+\n",
       "|     62    |\n",
       "+-----------+"
      ]
     },
     "execution_count": 8,
     "metadata": {},
     "output_type": "execute_result"
    }
   ],
   "source": [
    "%%sql\n",
    "SELECT COUNT(*) AS n_missing FROM missing_orgaos;"
   ]
  },
  {
   "cell_type": "markdown",
   "id": "bbfb0341",
   "metadata": {},
   "source": [
    "### Complementação de dados faltantes"
   ]
  },
  {
   "cell_type": "code",
   "execution_count": 9,
   "id": "3e4ba79e",
   "metadata": {},
   "outputs": [
    {
     "data": {
      "text/plain": [
       "[262,\n",
       " 5996,\n",
       " 6502,\n",
       " 6726,\n",
       " 81,\n",
       " 537485,\n",
       " 537337,\n",
       " 537914,\n",
       " 537742,\n",
       " 538202,\n",
       " 101347,\n",
       " 57,\n",
       " 101489,\n",
       " 102133,\n",
       " 102346,\n",
       " 371,\n",
       " 80,\n",
       " 6914,\n",
       " 382,\n",
       " 275,\n",
       " 101131,\n",
       " 277,\n",
       " 9140,\n",
       " 537484,\n",
       " 537487,\n",
       " 537731,\n",
       " 537931,\n",
       " 79,\n",
       " 60,\n",
       " 6994,\n",
       " 479,\n",
       " 5498,\n",
       " 6415,\n",
       " 9071,\n",
       " 82,\n",
       " 537273,\n",
       " 271,\n",
       " 538490,\n",
       " 538297,\n",
       " 101772,\n",
       " 6987,\n",
       " 266,\n",
       " 476,\n",
       " 276,\n",
       " 279,\n",
       " 284,\n",
       " 5495,\n",
       " 5364,\n",
       " 5560,\n",
       " 6115,\n",
       " 6281,\n",
       " 6462,\n",
       " 6697,\n",
       " 537127,\n",
       " 6303,\n",
       " 537389,\n",
       " 101798,\n",
       " 537939,\n",
       " 10119,\n",
       " 539426,\n",
       " 539461,\n",
       " 101582]"
      ]
     },
     "execution_count": 9,
     "metadata": {},
     "output_type": "execute_result"
    }
   ],
   "source": [
    "missing = conn.execute(\"SELECT id_orgao FROM missing_orgaos\").df().id_orgao.to_list()\n",
    "missing"
   ]
  },
  {
   "cell_type": "code",
   "execution_count": 10,
   "id": "8cc901bf",
   "metadata": {},
   "outputs": [
    {
     "name": "stdout",
     "output_type": "stream",
     "text": [
      "262\n",
      "5996\n",
      "6502\n",
      "6726\n",
      "81\n",
      "537485\n",
      "537337\n",
      "537914\n",
      "537742\n",
      "538202\n",
      "101347\n",
      "57\n",
      "101489\n",
      "102133\n",
      "102346\n",
      "371\n",
      "80\n",
      "6914\n",
      "382\n",
      "275\n",
      "101131\n",
      "277\n",
      "9140\n",
      "537484\n",
      "537487\n",
      "537731\n",
      "537931\n",
      "79\n",
      "60\n",
      "6994\n",
      "479\n",
      "5498\n",
      "6415\n",
      "9071\n",
      "82\n",
      "537273\n",
      "271\n",
      "538490\n",
      "538297\n",
      "101772\n",
      "6987\n",
      "266\n",
      "476\n",
      "276\n",
      "279\n",
      "284\n",
      "5495\n",
      "5364\n",
      "5560\n",
      "6115\n",
      "6281\n",
      "6462\n",
      "6697\n",
      "537127\n",
      "6303\n",
      "537389\n",
      "101798\n",
      "537939\n",
      "10119\n",
      "539426\n",
      "539461\n",
      "101582\n"
     ]
    }
   ],
   "source": [
    "async def fetch_orgao(orgao_id: int, sem: asyncio.Semaphore, client: httpx.AsyncClient):\n",
    "    async with sem:\n",
    "        for _ in range(10):\n",
    "            try:\n",
    "                print(orgao_id)\n",
    "                response = await client.get(f\"https://dadosabertos.camara.leg.br/api/v2/orgaos/{orgao_id}\")\n",
    "                response.raise_for_status()\n",
    "                data = response.json()\n",
    "                return data\n",
    "            except Exception:\n",
    "                print(f\"Retrying {orgao_id}...\")\n",
    "                await asyncio.sleep(3)\n",
    "    \n",
    "sem = asyncio.Semaphore(10)\n",
    "\n",
    "async with httpx.AsyncClient() as client:\n",
    "    tasks = [fetch_orgao(oid, sem, client) for oid in missing]\n",
    "    result = await asyncio.gather(*tasks, return_exceptions=True)"
   ]
  },
  {
   "cell_type": "code",
   "execution_count": 11,
   "id": "e61a97b8",
   "metadata": {},
   "outputs": [],
   "source": [
    "assert(all(not isinstance(r, Exception) for r in result))"
   ]
  },
  {
   "cell_type": "code",
   "execution_count": 12,
   "id": "38c7e03a",
   "metadata": {},
   "outputs": [],
   "source": [
    "rows = []\n",
    "for r in result:\n",
    "    d = r['dados']\n",
    "    rows.append({\n",
    "        'id_orgao': int(d['id']),\n",
    "        'nome': d['nome'],\n",
    "        'cod_tipo_orgao': int(d['codTipoOrgao']),\n",
    "        'uri': d['uri'],\n",
    "        'year_snapshot': 2020,\n",
    "        \"rn\": 1,\n",
    "    })"
   ]
  },
  {
   "cell_type": "code",
   "execution_count": 13,
   "id": "d00026f1",
   "metadata": {},
   "outputs": [],
   "source": [
    "df = pd.DataFrame(rows).drop_duplicates(subset=['id_orgao'])"
   ]
  },
  {
   "cell_type": "code",
   "execution_count": 14,
   "id": "bc325df2",
   "metadata": {},
   "outputs": [],
   "source": [
    "date_str = datetime.now().strftime(\"%Y-%m-%d\")\n",
    "csv_filename = f\"outputs/orgaos_hotfix_{date_str}.csv\"\n",
    "df.to_csv(csv_filename, index=False)"
   ]
  },
  {
   "cell_type": "code",
   "execution_count": 15,
   "id": "7f186a6f",
   "metadata": {},
   "outputs": [
    {
     "data": {
      "text/plain": [
       "<_duckdb.DuckDBPyConnection at 0x7f555c4594f0>"
      ]
     },
     "execution_count": 15,
     "metadata": {},
     "output_type": "execute_result"
    }
   ],
   "source": [
    "conn.execute(f\"\"\"\n",
    "                DROP TABLE IF EXISTS orgaos_camara_hotfix;\n",
    "                CREATE TABLE orgaos_camara_hotfix AS\n",
    "                SELECT * FROM read_csv_auto('{csv_filename}', header=True);\n",
    "                CREATE OR REPLACE VIEW orgaos_camara_all AS\n",
    "                WITH base AS (\n",
    "                    SELECT * FROM orgaos_camara\n",
    "                ),\n",
    "                fix AS (\n",
    "                    SELECT * FROM orgaos_camara_hotfix\n",
    "                    WHERE id_orgao NOT IN (SELECT id_orgao FROM base)\n",
    "                )\n",
    "                SELECT * FROM base\n",
    "                UNION ALL\n",
    "                SELECT * FROM fix;\n",
    "             \"\"\")\n"
   ]
  },
  {
   "cell_type": "code",
   "execution_count": 16,
   "id": "0ed20ccd",
   "metadata": {},
   "outputs": [
    {
     "data": {
      "text/html": [
       "<span style=\"None\">Running query in &#x27;duck&#x27;</span>"
      ],
      "text/plain": [
       "Running query in 'duck'"
      ]
     },
     "metadata": {},
     "output_type": "display_data"
    },
    {
     "data": {
      "text/html": [
       "<table>\n",
       "    <thead>\n",
       "        <tr>\n",
       "            <th>id_orgao</th>\n",
       "            <th>nome</th>\n",
       "            <th>cod_tipo_orgao</th>\n",
       "            <th>uri</th>\n",
       "            <th>year_snapshot</th>\n",
       "            <th>rn</th>\n",
       "        </tr>\n",
       "    </thead>\n",
       "    <tbody>\n",
       "        <tr>\n",
       "            <td>201</td>\n",
       "            <td>COMISSÃO DO TRABALHO</td>\n",
       "            <td>2</td>\n",
       "            <td><a href=https://dadosabertos.camara.leg.br/api/v2/orgaos/201>https://dadosabertos.camara.leg.br/api/v2/orgaos/201</a></td>\n",
       "            <td>2023</td>\n",
       "            <td>1</td>\n",
       "        </tr>\n",
       "        <tr>\n",
       "            <td>218</td>\n",
       "            <td>COMISSÃO DE CONSTITUIÇÃO E JUSTIÇA</td>\n",
       "            <td>2</td>\n",
       "            <td><a href=https://dadosabertos.camara.leg.br/api/v2/orgaos/218>https://dadosabertos.camara.leg.br/api/v2/orgaos/218</a></td>\n",
       "            <td>2023</td>\n",
       "            <td>1</td>\n",
       "        </tr>\n",
       "        <tr>\n",
       "            <td>5306</td>\n",
       "            <td>Dispõe sobre o Conselho de Altos Estudos e Avaliação Tecnológica, de que trata o artigo 275 do Regimento Interno.</td>\n",
       "            <td>11</td>\n",
       "            <td><a href=https://dadosabertos.camara.leg.br/api/v2/orgaos/5306>https://dadosabertos.camara.leg.br/api/v2/orgaos/5306</a></td>\n",
       "            <td>0</td>\n",
       "            <td>1</td>\n",
       "        </tr>\n",
       "        <tr>\n",
       "            <td>5437</td>\n",
       "            <td>Comissão Especial destinada a apreciar e  proferir parecer  à Proposta de Emenda à Constituição nº 57-A, de 1999, que \" altera o art. 159 para instituir o Fundo Nacional de Desenvolvimento do Semi-Árido e prevê suas fontes de recursos\".</td>\n",
       "            <td>3</td>\n",
       "            <td><a href=https://dadosabertos.camara.leg.br/api/v2/orgaos/5437>https://dadosabertos.camara.leg.br/api/v2/orgaos/5437</a></td>\n",
       "            <td>2023</td>\n",
       "            <td>1</td>\n",
       "        </tr>\n",
       "        <tr>\n",
       "            <td>5604</td>\n",
       "            <td>Altera a Legislação Tributária Federal, e dá outras providências.</td>\n",
       "            <td>9</td>\n",
       "            <td><a href=https://dadosabertos.camara.leg.br/api/v2/orgaos/5604>https://dadosabertos.camara.leg.br/api/v2/orgaos/5604</a></td>\n",
       "            <td>0</td>\n",
       "            <td>1</td>\n",
       "        </tr>\n",
       "    </tbody>\n",
       "</table>"
      ],
      "text/plain": [
       "+----------+----------------------------------------------------------------------------------------------------------------------------------------------------------------------------------------------------------------------------------------------+----------------+-------------------------------------------------------------------------------------------------------------------------+---------------+----+\n",
       "| id_orgao |                                                                                                                     nome                                                                                                                     | cod_tipo_orgao |                                                           uri                                                           | year_snapshot | rn |\n",
       "+----------+----------------------------------------------------------------------------------------------------------------------------------------------------------------------------------------------------------------------------------------------+----------------+-------------------------------------------------------------------------------------------------------------------------+---------------+----+\n",
       "|   201    |                                                                                                             COMISSÃO DO TRABALHO                                                                                                             |       2        |  <a href=https://dadosabertos.camara.leg.br/api/v2/orgaos/201>https://dadosabertos.camara.leg.br/api/v2/orgaos/201</a>  |      2023     | 1  |\n",
       "|   218    |                                                                                                      COMISSÃO DE CONSTITUIÇÃO E JUSTIÇA                                                                                                      |       2        |  <a href=https://dadosabertos.camara.leg.br/api/v2/orgaos/218>https://dadosabertos.camara.leg.br/api/v2/orgaos/218</a>  |      2023     | 1  |\n",
       "|   5306   |                                                              Dispõe sobre o Conselho de Altos Estudos e Avaliação Tecnológica, de que trata o artigo 275 do Regimento Interno.                                                               |       11       | <a href=https://dadosabertos.camara.leg.br/api/v2/orgaos/5306>https://dadosabertos.camara.leg.br/api/v2/orgaos/5306</a> |       0       | 1  |\n",
       "|   5437   | Comissão Especial destinada a apreciar e  proferir parecer  à Proposta de Emenda à Constituição nº 57-A, de 1999, que \" altera o art. 159 para instituir o Fundo Nacional de Desenvolvimento do Semi-Árido e prevê suas fontes de recursos\". |       3        | <a href=https://dadosabertos.camara.leg.br/api/v2/orgaos/5437>https://dadosabertos.camara.leg.br/api/v2/orgaos/5437</a> |      2023     | 1  |\n",
       "|   5604   |                                                                                      Altera a Legislação Tributária Federal, e dá outras providências.                                                                                       |       9        | <a href=https://dadosabertos.camara.leg.br/api/v2/orgaos/5604>https://dadosabertos.camara.leg.br/api/v2/orgaos/5604</a> |       0       | 1  |\n",
       "+----------+----------------------------------------------------------------------------------------------------------------------------------------------------------------------------------------------------------------------------------------------+----------------+-------------------------------------------------------------------------------------------------------------------------+---------------+----+"
      ]
     },
     "execution_count": 16,
     "metadata": {},
     "output_type": "execute_result"
    }
   ],
   "source": [
    "%%sql\n",
    "SELECT * FROM orgaos_camara LIMIT 5;"
   ]
  },
  {
   "cell_type": "code",
   "execution_count": 17,
   "id": "fdad18f7",
   "metadata": {
    "vscode": {
     "languageId": "sql"
    }
   },
   "outputs": [
    {
     "data": {
      "text/html": [
       "<span style=\"None\">Running query in &#x27;duck&#x27;</span>"
      ],
      "text/plain": [
       "Running query in 'duck'"
      ]
     },
     "metadata": {},
     "output_type": "display_data"
    },
    {
     "data": {
      "text/html": [
       "<table>\n",
       "    <thead>\n",
       "        <tr>\n",
       "            <th>id_proposicao</th>\n",
       "            <th>sigla_tipo</th>\n",
       "            <th>numero</th>\n",
       "            <th>ano</th>\n",
       "            <th>ementa</th>\n",
       "            <th>uri</th>\n",
       "            <th>year_snapshot</th>\n",
       "        </tr>\n",
       "    </thead>\n",
       "    <tbody>\n",
       "        <tr>\n",
       "            <td>15009</td>\n",
       "            <td>PL</td>\n",
       "            <td>70</td>\n",
       "            <td>1995</td>\n",
       "            <td>Dispõe sobre intervenções cirúrgicas que visem à alteração de sexo e dá outras providências.</td>\n",
       "            <td><a href=https://dadosabertos.camara.leg.br/api/v2/proposicoes/15009>https://dadosabertos.camara.leg.br/api/v2/proposicoes/15009</a></td>\n",
       "            <td>2020</td>\n",
       "        </tr>\n",
       "        <tr>\n",
       "            <td>15532</td>\n",
       "            <td>PL</td>\n",
       "            <td>505</td>\n",
       "            <td>1991</td>\n",
       "            <td>Revoga a alínea \"l\" do art. 20 do Decreto-lei nº 73, de 21 de novembro de 1966, extinguindo o Seguro Obrigatório de Veículos Automotores</td>\n",
       "            <td><a href=https://dadosabertos.camara.leg.br/api/v2/proposicoes/15532>https://dadosabertos.camara.leg.br/api/v2/proposicoes/15532</a></td>\n",
       "            <td>2020</td>\n",
       "        </tr>\n",
       "        <tr>\n",
       "            <td>15749</td>\n",
       "            <td>PL</td>\n",
       "            <td>693</td>\n",
       "            <td>1999</td>\n",
       "            <td>Altera a Lei nº 8.245, de 18 de outubro de 1991, Lei do Inquilinato, nos dispositivos que menciona.</td>\n",
       "            <td><a href=https://dadosabertos.camara.leg.br/api/v2/proposicoes/15749>https://dadosabertos.camara.leg.br/api/v2/proposicoes/15749</a></td>\n",
       "            <td>2020</td>\n",
       "        </tr>\n",
       "        <tr>\n",
       "            <td>15990</td>\n",
       "            <td>PL</td>\n",
       "            <td>887</td>\n",
       "            <td>1991</td>\n",
       "            <td>Cria salvaguardas para a tecnologia no campo nuclear.  (AUTOR: Comissão Parlamentar Mista de Inquérito Destinada a Apurar o Programa Nuclear Paralelo)</td>\n",
       "            <td><a href=https://dadosabertos.camara.leg.br/api/v2/proposicoes/15990>https://dadosabertos.camara.leg.br/api/v2/proposicoes/15990</a></td>\n",
       "            <td>2020</td>\n",
       "        </tr>\n",
       "        <tr>\n",
       "            <td>16481</td>\n",
       "            <td>PL</td>\n",
       "            <td>1258</td>\n",
       "            <td>1995</td>\n",
       "            <td>Disciplina o inciso XII do art. 5º da Constituição Federal e dá outras providências.</td>\n",
       "            <td><a href=https://dadosabertos.camara.leg.br/api/v2/proposicoes/16481>https://dadosabertos.camara.leg.br/api/v2/proposicoes/16481</a></td>\n",
       "            <td>2020</td>\n",
       "        </tr>\n",
       "        <tr>\n",
       "            <td>16969</td>\n",
       "            <td>PL</td>\n",
       "            <td>1610</td>\n",
       "            <td>1996</td>\n",
       "            <td>Dispõe sobre a exploração e o aproveitamento de recursos minerais em terras indígenas, de que tratam os arts. 176, parágrafo 1º, e 231, parágrafo 3º, da Constituição Federal.</td>\n",
       "            <td><a href=https://dadosabertos.camara.leg.br/api/v2/proposicoes/16969>https://dadosabertos.camara.leg.br/api/v2/proposicoes/16969</a></td>\n",
       "            <td>2020</td>\n",
       "        </tr>\n",
       "        <tr>\n",
       "            <td>17563</td>\n",
       "            <td>PL</td>\n",
       "            <td>2051</td>\n",
       "            <td>1996</td>\n",
       "            <td>Dispõe sobre a assistência médica, hospitalar e educacional gratuita aos ex-combatentes e a seus dependentes, prevista no inciso IV do artigo 53 do Ato das Disposições Constitucionais Transitórias.</td>\n",
       "            <td><a href=https://dadosabertos.camara.leg.br/api/v2/proposicoes/17563>https://dadosabertos.camara.leg.br/api/v2/proposicoes/17563</a></td>\n",
       "            <td>2020</td>\n",
       "        </tr>\n",
       "        <tr>\n",
       "            <td>17823</td>\n",
       "            <td>PL</td>\n",
       "            <td>2231</td>\n",
       "            <td>1999</td>\n",
       "            <td>Obriga os responsáveis por \"sites\" provedores de informações na Internet a fornecer classificação indicativa do conteúdo veiculado.</td>\n",
       "            <td><a href=https://dadosabertos.camara.leg.br/api/v2/proposicoes/17823>https://dadosabertos.camara.leg.br/api/v2/proposicoes/17823</a></td>\n",
       "            <td>2020</td>\n",
       "        </tr>\n",
       "        <tr>\n",
       "            <td>17915</td>\n",
       "            <td>PL</td>\n",
       "            <td>2295</td>\n",
       "            <td>2000</td>\n",
       "            <td>Dispõe sobre a jornada de trabalho dos Enfermeiros, Técnicos e Auxiliares de Enfermagem.</td>\n",
       "            <td><a href=https://dadosabertos.camara.leg.br/api/v2/proposicoes/17915>https://dadosabertos.camara.leg.br/api/v2/proposicoes/17915</a></td>\n",
       "            <td>2020</td>\n",
       "        </tr>\n",
       "        <tr>\n",
       "            <td>18420</td>\n",
       "            <td>PL</td>\n",
       "            <td>2639</td>\n",
       "            <td>2000</td>\n",
       "            <td>Dispõe sobre a atividade de curta duração em propriedades rurais.</td>\n",
       "            <td><a href=https://dadosabertos.camara.leg.br/api/v2/proposicoes/18420>https://dadosabertos.camara.leg.br/api/v2/proposicoes/18420</a></td>\n",
       "            <td>2020</td>\n",
       "        </tr>\n",
       "    </tbody>\n",
       "</table>\n",
       "<span style=\"font-style:italic;text-align:center;\">Truncated to <a href=\"https://jupysql.ploomber.io/en/latest/api/configuration.html#displaylimit\">displaylimit</a> of 10.</span>"
      ],
      "text/plain": [
       "+---------------+------------+--------+------+-------------------------------------------------------------------------------------------------------------------------------------------------------------------------------------------------------+-------------------------------------------------------------------------------------------------------------------------------------+---------------+\n",
       "| id_proposicao | sigla_tipo | numero | ano  |                                                                                                 ementa                                                                                                |                                                                 uri                                                                 | year_snapshot |\n",
       "+---------------+------------+--------+------+-------------------------------------------------------------------------------------------------------------------------------------------------------------------------------------------------------+-------------------------------------------------------------------------------------------------------------------------------------+---------------+\n",
       "|     15009     |     PL     |   70   | 1995 |                                                      Dispõe sobre intervenções cirúrgicas que visem à alteração de sexo e dá outras providências.                                                     | <a href=https://dadosabertos.camara.leg.br/api/v2/proposicoes/15009>https://dadosabertos.camara.leg.br/api/v2/proposicoes/15009</a> |      2020     |\n",
       "|     15532     |     PL     |  505   | 1991 |                                Revoga a alínea \"l\" do art. 20 do Decreto-lei nº 73, de 21 de novembro de 1966, extinguindo o Seguro Obrigatório de Veículos Automotores                               | <a href=https://dadosabertos.camara.leg.br/api/v2/proposicoes/15532>https://dadosabertos.camara.leg.br/api/v2/proposicoes/15532</a> |      2020     |\n",
       "|     15749     |     PL     |  693   | 1999 |                                                  Altera a Lei nº 8.245, de 18 de outubro de 1991, Lei do Inquilinato, nos dispositivos que menciona.                                                  | <a href=https://dadosabertos.camara.leg.br/api/v2/proposicoes/15749>https://dadosabertos.camara.leg.br/api/v2/proposicoes/15749</a> |      2020     |\n",
       "|     15990     |     PL     |  887   | 1991 |                         Cria salvaguardas para a tecnologia no campo nuclear.  (AUTOR: Comissão Parlamentar Mista de Inquérito Destinada a Apurar o Programa Nuclear Paralelo)                        | <a href=https://dadosabertos.camara.leg.br/api/v2/proposicoes/15990>https://dadosabertos.camara.leg.br/api/v2/proposicoes/15990</a> |      2020     |\n",
       "|     16481     |     PL     |  1258  | 1995 |                                                          Disciplina o inciso XII do art. 5º da Constituição Federal e dá outras providências.                                                         | <a href=https://dadosabertos.camara.leg.br/api/v2/proposicoes/16481>https://dadosabertos.camara.leg.br/api/v2/proposicoes/16481</a> |      2020     |\n",
       "|     16969     |     PL     |  1610  | 1996 |             Dispõe sobre a exploração e o aproveitamento de recursos minerais em terras indígenas, de que tratam os arts. 176, parágrafo 1º, e 231, parágrafo 3º, da Constituição Federal.            | <a href=https://dadosabertos.camara.leg.br/api/v2/proposicoes/16969>https://dadosabertos.camara.leg.br/api/v2/proposicoes/16969</a> |      2020     |\n",
       "|     17563     |     PL     |  2051  | 1996 | Dispõe sobre a assistência médica, hospitalar e educacional gratuita aos ex-combatentes e a seus dependentes, prevista no inciso IV do artigo 53 do Ato das Disposições Constitucionais Transitórias. | <a href=https://dadosabertos.camara.leg.br/api/v2/proposicoes/17563>https://dadosabertos.camara.leg.br/api/v2/proposicoes/17563</a> |      2020     |\n",
       "|     17823     |     PL     |  2231  | 1999 |                                  Obriga os responsáveis por \"sites\" provedores de informações na Internet a fornecer classificação indicativa do conteúdo veiculado.                                  | <a href=https://dadosabertos.camara.leg.br/api/v2/proposicoes/17823>https://dadosabertos.camara.leg.br/api/v2/proposicoes/17823</a> |      2020     |\n",
       "|     17915     |     PL     |  2295  | 2000 |                                                        Dispõe sobre a jornada de trabalho dos Enfermeiros, Técnicos e Auxiliares de Enfermagem.                                                       | <a href=https://dadosabertos.camara.leg.br/api/v2/proposicoes/17915>https://dadosabertos.camara.leg.br/api/v2/proposicoes/17915</a> |      2020     |\n",
       "|     18420     |     PL     |  2639  | 2000 |                                                                   Dispõe sobre a atividade de curta duração em propriedades rurais.                                                                   | <a href=https://dadosabertos.camara.leg.br/api/v2/proposicoes/18420>https://dadosabertos.camara.leg.br/api/v2/proposicoes/18420</a> |      2020     |\n",
       "+---------------+------------+--------+------+-------------------------------------------------------------------------------------------------------------------------------------------------------------------------------------------------------+-------------------------------------------------------------------------------------------------------------------------------------+---------------+\n",
       "Truncated to displaylimit of 10."
      ]
     },
     "execution_count": 17,
     "metadata": {},
     "output_type": "execute_result"
    }
   ],
   "source": [
    "%%sql\n",
    "SELECT * FROM proposicoes_camara LIMIT 10;"
   ]
  },
  {
   "cell_type": "code",
   "execution_count": 18,
   "id": "306ed109",
   "metadata": {
    "vscode": {
     "languageId": "sql"
    }
   },
   "outputs": [
    {
     "data": {
      "text/html": [
       "<span style=\"None\">Running query in &#x27;duck&#x27;</span>"
      ],
      "text/plain": [
       "Running query in 'duck'"
      ]
     },
     "metadata": {},
     "output_type": "display_data"
    },
    {
     "data": {
      "text/html": [
       "<table>\n",
       "    <thead>\n",
       "        <tr>\n",
       "            <th>id_deputado</th>\n",
       "            <th>nome_civil</th>\n",
       "            <th>uri</th>\n",
       "            <th>year_snapshot</th>\n",
       "            <th>rn</th>\n",
       "        </tr>\n",
       "    </thead>\n",
       "    <tbody>\n",
       "        <tr>\n",
       "            <td>62926</td>\n",
       "            <td>REINALDO SANTOS E SILVA</td>\n",
       "            <td><a href=https://dadosabertos.camara.leg.br/api/v2/deputados/62926>https://dadosabertos.camara.leg.br/api/v2/deputados/62926</a></td>\n",
       "            <td>2020</td>\n",
       "            <td>1</td>\n",
       "        </tr>\n",
       "        <tr>\n",
       "            <td>66828</td>\n",
       "            <td>FAUSTO RUY PINATO</td>\n",
       "            <td><a href=https://dadosabertos.camara.leg.br/api/v2/deputados/66828>https://dadosabertos.camara.leg.br/api/v2/deputados/66828</a></td>\n",
       "            <td>2020</td>\n",
       "            <td>1</td>\n",
       "        </tr>\n",
       "        <tr>\n",
       "            <td>73439</td>\n",
       "            <td>Carlos Nelson Bueno</td>\n",
       "            <td><a href=https://dadosabertos.camara.leg.br/api/v2/deputados/73439>https://dadosabertos.camara.leg.br/api/v2/deputados/73439</a></td>\n",
       "            <td>2023</td>\n",
       "            <td>1</td>\n",
       "        </tr>\n",
       "        <tr>\n",
       "            <td>73463</td>\n",
       "            <td>OSMAR JOSÉ SERRAGLIO</td>\n",
       "            <td><a href=https://dadosabertos.camara.leg.br/api/v2/deputados/73463>https://dadosabertos.camara.leg.br/api/v2/deputados/73463</a></td>\n",
       "            <td>2020</td>\n",
       "            <td>1</td>\n",
       "        </tr>\n",
       "        <tr>\n",
       "            <td>73464</td>\n",
       "            <td>BERNARDINO BARRETO DE OLIVEIRA</td>\n",
       "            <td><a href=https://dadosabertos.camara.leg.br/api/v2/deputados/73464>https://dadosabertos.camara.leg.br/api/v2/deputados/73464</a></td>\n",
       "            <td>2021</td>\n",
       "            <td>1</td>\n",
       "        </tr>\n",
       "        <tr>\n",
       "            <td>73472</td>\n",
       "            <td>GERVÁSIO JOSÉ DA SILVA</td>\n",
       "            <td><a href=https://dadosabertos.camara.leg.br/api/v2/deputados/73472>https://dadosabertos.camara.leg.br/api/v2/deputados/73472</a></td>\n",
       "            <td>2020</td>\n",
       "            <td>1</td>\n",
       "        </tr>\n",
       "        <tr>\n",
       "            <td>73483</td>\n",
       "            <td>LUIS CARLOS HEINZE</td>\n",
       "            <td><a href=https://dadosabertos.camara.leg.br/api/v2/deputados/73483>https://dadosabertos.camara.leg.br/api/v2/deputados/73483</a></td>\n",
       "            <td>2020</td>\n",
       "            <td>1</td>\n",
       "        </tr>\n",
       "        <tr>\n",
       "            <td>73486</td>\n",
       "            <td>DARCI POMPEO DE MATTOS</td>\n",
       "            <td><a href=https://dadosabertos.camara.leg.br/api/v2/deputados/73486>https://dadosabertos.camara.leg.br/api/v2/deputados/73486</a></td>\n",
       "            <td>2020</td>\n",
       "            <td>1</td>\n",
       "        </tr>\n",
       "        <tr>\n",
       "            <td>73507</td>\n",
       "            <td>ROSILDA DE FREITAS</td>\n",
       "            <td><a href=https://dadosabertos.camara.leg.br/api/v2/deputados/73507>https://dadosabertos.camara.leg.br/api/v2/deputados/73507</a></td>\n",
       "            <td>2022</td>\n",
       "            <td>1</td>\n",
       "        </tr>\n",
       "        <tr>\n",
       "            <td>73545</td>\n",
       "            <td>EUSTÁQUIO LUCIANO ZICA</td>\n",
       "            <td><a href=https://dadosabertos.camara.leg.br/api/v2/deputados/73545>https://dadosabertos.camara.leg.br/api/v2/deputados/73545</a></td>\n",
       "            <td>2021</td>\n",
       "            <td>1</td>\n",
       "        </tr>\n",
       "    </tbody>\n",
       "</table>\n",
       "<span style=\"font-style:italic;text-align:center;\">Truncated to <a href=\"https://jupysql.ploomber.io/en/latest/api/configuration.html#displaylimit\">displaylimit</a> of 10.</span>"
      ],
      "text/plain": [
       "+-------------+--------------------------------+---------------------------------------------------------------------------------------------------------------------------------+---------------+----+\n",
       "| id_deputado |           nome_civil           |                                                               uri                                                               | year_snapshot | rn |\n",
       "+-------------+--------------------------------+---------------------------------------------------------------------------------------------------------------------------------+---------------+----+\n",
       "|    62926    |    REINALDO SANTOS E SILVA     | <a href=https://dadosabertos.camara.leg.br/api/v2/deputados/62926>https://dadosabertos.camara.leg.br/api/v2/deputados/62926</a> |      2020     | 1  |\n",
       "|    66828    |       FAUSTO RUY PINATO        | <a href=https://dadosabertos.camara.leg.br/api/v2/deputados/66828>https://dadosabertos.camara.leg.br/api/v2/deputados/66828</a> |      2020     | 1  |\n",
       "|    73439    |      Carlos Nelson Bueno       | <a href=https://dadosabertos.camara.leg.br/api/v2/deputados/73439>https://dadosabertos.camara.leg.br/api/v2/deputados/73439</a> |      2023     | 1  |\n",
       "|    73463    |      OSMAR JOSÉ SERRAGLIO      | <a href=https://dadosabertos.camara.leg.br/api/v2/deputados/73463>https://dadosabertos.camara.leg.br/api/v2/deputados/73463</a> |      2020     | 1  |\n",
       "|    73464    | BERNARDINO BARRETO DE OLIVEIRA | <a href=https://dadosabertos.camara.leg.br/api/v2/deputados/73464>https://dadosabertos.camara.leg.br/api/v2/deputados/73464</a> |      2021     | 1  |\n",
       "|    73472    |     GERVÁSIO JOSÉ DA SILVA     | <a href=https://dadosabertos.camara.leg.br/api/v2/deputados/73472>https://dadosabertos.camara.leg.br/api/v2/deputados/73472</a> |      2020     | 1  |\n",
       "|    73483    |       LUIS CARLOS HEINZE       | <a href=https://dadosabertos.camara.leg.br/api/v2/deputados/73483>https://dadosabertos.camara.leg.br/api/v2/deputados/73483</a> |      2020     | 1  |\n",
       "|    73486    |     DARCI POMPEO DE MATTOS     | <a href=https://dadosabertos.camara.leg.br/api/v2/deputados/73486>https://dadosabertos.camara.leg.br/api/v2/deputados/73486</a> |      2020     | 1  |\n",
       "|    73507    |       ROSILDA DE FREITAS       | <a href=https://dadosabertos.camara.leg.br/api/v2/deputados/73507>https://dadosabertos.camara.leg.br/api/v2/deputados/73507</a> |      2022     | 1  |\n",
       "|    73545    |     EUSTÁQUIO LUCIANO ZICA     | <a href=https://dadosabertos.camara.leg.br/api/v2/deputados/73545>https://dadosabertos.camara.leg.br/api/v2/deputados/73545</a> |      2021     | 1  |\n",
       "+-------------+--------------------------------+---------------------------------------------------------------------------------------------------------------------------------+---------------+----+\n",
       "Truncated to displaylimit of 10."
      ]
     },
     "execution_count": 18,
     "metadata": {},
     "output_type": "execute_result"
    }
   ],
   "source": [
    "%%sql\n",
    "\n",
    "SELECT * FROM deputados_camara LIMIT 10;"
   ]
  },
  {
   "cell_type": "code",
   "execution_count": 19,
   "id": "f9a88b79",
   "metadata": {
    "vscode": {
     "languageId": "sql"
    }
   },
   "outputs": [
    {
     "data": {
      "text/html": [
       "<span style=\"None\">Running query in &#x27;duck&#x27;</span>"
      ],
      "text/plain": [
       "Running query in 'duck'"
      ]
     },
     "metadata": {},
     "output_type": "display_data"
    },
    {
     "data": {
      "text/html": [
       "<table>\n",
       "    <thead>\n",
       "        <tr>\n",
       "            <th>id_orgao</th>\n",
       "            <th>nome</th>\n",
       "            <th>cod_tipo_orgao</th>\n",
       "            <th>uri</th>\n",
       "            <th>year_snapshot</th>\n",
       "            <th>rn</th>\n",
       "        </tr>\n",
       "    </thead>\n",
       "    <tbody>\n",
       "        <tr>\n",
       "            <td>201</td>\n",
       "            <td>COMISSÃO DO TRABALHO</td>\n",
       "            <td>2</td>\n",
       "            <td><a href=https://dadosabertos.camara.leg.br/api/v2/orgaos/201>https://dadosabertos.camara.leg.br/api/v2/orgaos/201</a></td>\n",
       "            <td>2023</td>\n",
       "            <td>1</td>\n",
       "        </tr>\n",
       "        <tr>\n",
       "            <td>218</td>\n",
       "            <td>COMISSÃO DE CONSTITUIÇÃO E JUSTIÇA</td>\n",
       "            <td>2</td>\n",
       "            <td><a href=https://dadosabertos.camara.leg.br/api/v2/orgaos/218>https://dadosabertos.camara.leg.br/api/v2/orgaos/218</a></td>\n",
       "            <td>2023</td>\n",
       "            <td>1</td>\n",
       "        </tr>\n",
       "        <tr>\n",
       "            <td>5306</td>\n",
       "            <td>Dispõe sobre o Conselho de Altos Estudos e Avaliação Tecnológica, de que trata o artigo 275 do Regimento Interno.</td>\n",
       "            <td>11</td>\n",
       "            <td><a href=https://dadosabertos.camara.leg.br/api/v2/orgaos/5306>https://dadosabertos.camara.leg.br/api/v2/orgaos/5306</a></td>\n",
       "            <td>0</td>\n",
       "            <td>1</td>\n",
       "        </tr>\n",
       "        <tr>\n",
       "            <td>5437</td>\n",
       "            <td>Comissão Especial destinada a apreciar e  proferir parecer  à Proposta de Emenda à Constituição nº 57-A, de 1999, que \" altera o art. 159 para instituir o Fundo Nacional de Desenvolvimento do Semi-Árido e prevê suas fontes de recursos\".</td>\n",
       "            <td>3</td>\n",
       "            <td><a href=https://dadosabertos.camara.leg.br/api/v2/orgaos/5437>https://dadosabertos.camara.leg.br/api/v2/orgaos/5437</a></td>\n",
       "            <td>2023</td>\n",
       "            <td>1</td>\n",
       "        </tr>\n",
       "        <tr>\n",
       "            <td>5604</td>\n",
       "            <td>Altera a Legislação Tributária Federal, e dá outras providências.</td>\n",
       "            <td>9</td>\n",
       "            <td><a href=https://dadosabertos.camara.leg.br/api/v2/orgaos/5604>https://dadosabertos.camara.leg.br/api/v2/orgaos/5604</a></td>\n",
       "            <td>0</td>\n",
       "            <td>1</td>\n",
       "        </tr>\n",
       "        <tr>\n",
       "            <td>5942</td>\n",
       "            <td>Altera dispositivos da Lei nº 8.745, de 9 de dezembro de 1993, e da Lei nº 10.470, de 25 de junho de 2002, cria cargos efetivos, cargos comissionados e gratificações no âmbito da Administração Pública Federal, e dá outras providências.</td>\n",
       "            <td>9</td>\n",
       "            <td><a href=https://dadosabertos.camara.leg.br/api/v2/orgaos/5942>https://dadosabertos.camara.leg.br/api/v2/orgaos/5942</a></td>\n",
       "            <td>0</td>\n",
       "            <td>1</td>\n",
       "        </tr>\n",
       "        <tr>\n",
       "            <td>5956</td>\n",
       "            <td>Altera as Leis nºs. 8.248, de 23 de outubro de 1991, 8.387, de 30 de dezembro de 1991, e 10.176, de 11 de janeiro de 2001, dispondo sobre a capacitação e competitividade do setor de tecnologia da informação, e dá outras providências.</td>\n",
       "            <td>9</td>\n",
       "            <td><a href=https://dadosabertos.camara.leg.br/api/v2/orgaos/5956>https://dadosabertos.camara.leg.br/api/v2/orgaos/5956</a></td>\n",
       "            <td>0</td>\n",
       "            <td>1</td>\n",
       "        </tr>\n",
       "        <tr>\n",
       "            <td>5957</td>\n",
       "            <td>Dispõe sobre a contribuição para o Programa de Integração Social e de Formação do Patrimônio do Servidor Público - PIS/PASEP e da Contribuição para Seguridade Social - COFINS devidas pelas sociedades cooperativas em geral.</td>\n",
       "            <td>9</td>\n",
       "            <td><a href=https://dadosabertos.camara.leg.br/api/v2/orgaos/5957>https://dadosabertos.camara.leg.br/api/v2/orgaos/5957</a></td>\n",
       "            <td>0</td>\n",
       "            <td>1</td>\n",
       "        </tr>\n",
       "        <tr>\n",
       "            <td>5986</td>\n",
       "            <td>Cria a Carreira de Agente Penitenciário Federal no Quadro de Pessoal do Departamento de Polícia Federal e dá outras providências.</td>\n",
       "            <td>9</td>\n",
       "            <td><a href=https://dadosabertos.camara.leg.br/api/v2/orgaos/5986>https://dadosabertos.camara.leg.br/api/v2/orgaos/5986</a></td>\n",
       "            <td>0</td>\n",
       "            <td>1</td>\n",
       "        </tr>\n",
       "        <tr>\n",
       "            <td>8669</td>\n",
       "            <td>Comissão Especial destinada a proferir parecer à Proposta de Emenda à Constituição nº 53-A, de 2007, do Sr. Jofran Frejat, que \"dá nova redação ao § 3º do Art. 39 da Constituição Federal\" (garante ao servidor de cargo em comissão de livre nomeação e exoneração, direito a aviso prévio, seguro desemprego, FGTS, entre outros)</td>\n",
       "            <td>3</td>\n",
       "            <td><a href=https://dadosabertos.camara.leg.br/api/v2/orgaos/8669>https://dadosabertos.camara.leg.br/api/v2/orgaos/8669</a></td>\n",
       "            <td>2021</td>\n",
       "            <td>1</td>\n",
       "        </tr>\n",
       "    </tbody>\n",
       "</table>\n",
       "<span style=\"font-style:italic;text-align:center;\">Truncated to <a href=\"https://jupysql.ploomber.io/en/latest/api/configuration.html#displaylimit\">displaylimit</a> of 10.</span>"
      ],
      "text/plain": [
       "+----------+--------------------------------------------------------------------------------------------------------------------------------------------------------------------------------------------------------------------------------------------------------------------------------------------------------------------------------------+----------------+-------------------------------------------------------------------------------------------------------------------------+---------------+----+\n",
       "| id_orgao |                                                                                                                                                                 nome                                                                                                                                                                 | cod_tipo_orgao |                                                           uri                                                           | year_snapshot | rn |\n",
       "+----------+--------------------------------------------------------------------------------------------------------------------------------------------------------------------------------------------------------------------------------------------------------------------------------------------------------------------------------------+----------------+-------------------------------------------------------------------------------------------------------------------------+---------------+----+\n",
       "|   201    |                                                                                                                                                         COMISSÃO DO TRABALHO                                                                                                                                                         |       2        |  <a href=https://dadosabertos.camara.leg.br/api/v2/orgaos/201>https://dadosabertos.camara.leg.br/api/v2/orgaos/201</a>  |      2023     | 1  |\n",
       "|   218    |                                                                                                                                                  COMISSÃO DE CONSTITUIÇÃO E JUSTIÇA                                                                                                                                                  |       2        |  <a href=https://dadosabertos.camara.leg.br/api/v2/orgaos/218>https://dadosabertos.camara.leg.br/api/v2/orgaos/218</a>  |      2023     | 1  |\n",
       "|   5306   |                                                                                                          Dispõe sobre o Conselho de Altos Estudos e Avaliação Tecnológica, de que trata o artigo 275 do Regimento Interno.                                                                                                           |       11       | <a href=https://dadosabertos.camara.leg.br/api/v2/orgaos/5306>https://dadosabertos.camara.leg.br/api/v2/orgaos/5306</a> |       0       | 1  |\n",
       "|   5437   |                                             Comissão Especial destinada a apreciar e  proferir parecer  à Proposta de Emenda à Constituição nº 57-A, de 1999, que \" altera o art. 159 para instituir o Fundo Nacional de Desenvolvimento do Semi-Árido e prevê suas fontes de recursos\".                                             |       3        | <a href=https://dadosabertos.camara.leg.br/api/v2/orgaos/5437>https://dadosabertos.camara.leg.br/api/v2/orgaos/5437</a> |      2023     | 1  |\n",
       "|   5604   |                                                                                                                                  Altera a Legislação Tributária Federal, e dá outras providências.                                                                                                                                   |       9        | <a href=https://dadosabertos.camara.leg.br/api/v2/orgaos/5604>https://dadosabertos.camara.leg.br/api/v2/orgaos/5604</a> |       0       | 1  |\n",
       "|   5942   |                                             Altera dispositivos da Lei nº 8.745, de 9 de dezembro de 1993, e da Lei nº 10.470, de 25 de junho de 2002, cria cargos efetivos, cargos comissionados e gratificações no âmbito da Administração Pública Federal, e dá outras providências.                                              |       9        | <a href=https://dadosabertos.camara.leg.br/api/v2/orgaos/5942>https://dadosabertos.camara.leg.br/api/v2/orgaos/5942</a> |       0       | 1  |\n",
       "|   5956   |                                              Altera as Leis nºs. 8.248, de 23 de outubro de 1991, 8.387, de 30 de dezembro de 1991, e 10.176, de 11 de janeiro de 2001, dispondo sobre a capacitação e competitividade do setor de tecnologia da informação, e dá outras providências.                                               |       9        | <a href=https://dadosabertos.camara.leg.br/api/v2/orgaos/5956>https://dadosabertos.camara.leg.br/api/v2/orgaos/5956</a> |       0       | 1  |\n",
       "|   5957   |                                                    Dispõe sobre a contribuição para o Programa de Integração Social e de Formação do Patrimônio do Servidor Público - PIS/PASEP e da Contribuição para Seguridade Social - COFINS devidas pelas sociedades cooperativas em geral.                                                    |       9        | <a href=https://dadosabertos.camara.leg.br/api/v2/orgaos/5957>https://dadosabertos.camara.leg.br/api/v2/orgaos/5957</a> |       0       | 1  |\n",
       "|   5986   |                                                                                                  Cria a Carreira de Agente Penitenciário Federal no Quadro de Pessoal do Departamento de Polícia Federal e dá outras providências.                                                                                                   |       9        | <a href=https://dadosabertos.camara.leg.br/api/v2/orgaos/5986>https://dadosabertos.camara.leg.br/api/v2/orgaos/5986</a> |       0       | 1  |\n",
       "|   8669   | Comissão Especial destinada a proferir parecer à Proposta de Emenda à Constituição nº 53-A, de 2007, do Sr. Jofran Frejat, que \"dá nova redação ao § 3º do Art. 39 da Constituição Federal\" (garante ao servidor de cargo em comissão de livre nomeação e exoneração, direito a aviso prévio, seguro desemprego, FGTS, entre outros) |       3        | <a href=https://dadosabertos.camara.leg.br/api/v2/orgaos/8669>https://dadosabertos.camara.leg.br/api/v2/orgaos/8669</a> |      2021     | 1  |\n",
       "+----------+--------------------------------------------------------------------------------------------------------------------------------------------------------------------------------------------------------------------------------------------------------------------------------------------------------------------------------------+----------------+-------------------------------------------------------------------------------------------------------------------------+---------------+----+\n",
       "Truncated to displaylimit of 10."
      ]
     },
     "execution_count": 19,
     "metadata": {},
     "output_type": "execute_result"
    }
   ],
   "source": [
    "%%sql\n",
    "\n",
    "SELECT * FROM orgaos_camara_all LIMIT 10;"
   ]
  },
  {
   "cell_type": "code",
   "execution_count": 20,
   "id": "a2d42933",
   "metadata": {
    "vscode": {
     "languageId": "sql"
    }
   },
   "outputs": [
    {
     "data": {
      "text/html": [
       "<span style=\"None\">Running query in &#x27;duck&#x27;</span>"
      ],
      "text/plain": [
       "Running query in 'duck'"
      ]
     },
     "metadata": {},
     "output_type": "display_data"
    },
    {
     "data": {
      "text/html": [
       "<table>\n",
       "    <thead>\n",
       "        <tr>\n",
       "            <th>id_proposicao</th>\n",
       "            <th>uri_kind</th>\n",
       "            <th>author_id_num</th>\n",
       "        </tr>\n",
       "    </thead>\n",
       "    <tbody>\n",
       "        <tr>\n",
       "            <td>15009</td>\n",
       "            <td>deputados</td>\n",
       "            <td>73538</td>\n",
       "        </tr>\n",
       "        <tr>\n",
       "            <td>15532</td>\n",
       "            <td>deputados</td>\n",
       "            <td>73910</td>\n",
       "        </tr>\n",
       "        <tr>\n",
       "            <td>15749</td>\n",
       "            <td>deputados</td>\n",
       "            <td>74316</td>\n",
       "        </tr>\n",
       "        <tr>\n",
       "            <td>15990</td>\n",
       "            <td>orgaos</td>\n",
       "            <td>262</td>\n",
       "        </tr>\n",
       "        <tr>\n",
       "            <td>16481</td>\n",
       "            <td>orgaos</td>\n",
       "            <td>78</td>\n",
       "        </tr>\n",
       "        <tr>\n",
       "            <td>16969</td>\n",
       "            <td>orgaos</td>\n",
       "            <td>78</td>\n",
       "        </tr>\n",
       "        <tr>\n",
       "            <td>17563</td>\n",
       "            <td>deputados</td>\n",
       "            <td>73788</td>\n",
       "        </tr>\n",
       "        <tr>\n",
       "            <td>17823</td>\n",
       "            <td>deputados</td>\n",
       "            <td>74671</td>\n",
       "        </tr>\n",
       "        <tr>\n",
       "            <td>17915</td>\n",
       "            <td>orgaos</td>\n",
       "            <td>78</td>\n",
       "        </tr>\n",
       "        <tr>\n",
       "            <td>18420</td>\n",
       "            <td>deputados</td>\n",
       "            <td>73458</td>\n",
       "        </tr>\n",
       "    </tbody>\n",
       "</table>\n",
       "<span style=\"font-style:italic;text-align:center;\">Truncated to <a href=\"https://jupysql.ploomber.io/en/latest/api/configuration.html#displaylimit\">displaylimit</a> of 10.</span>"
      ],
      "text/plain": [
       "+---------------+-----------+---------------+\n",
       "| id_proposicao |  uri_kind | author_id_num |\n",
       "+---------------+-----------+---------------+\n",
       "|     15009     | deputados |     73538     |\n",
       "|     15532     | deputados |     73910     |\n",
       "|     15749     | deputados |     74316     |\n",
       "|     15990     |   orgaos  |      262      |\n",
       "|     16481     |   orgaos  |       78      |\n",
       "|     16969     |   orgaos  |       78      |\n",
       "|     17563     | deputados |     73788     |\n",
       "|     17823     | deputados |     74671     |\n",
       "|     17915     |   orgaos  |       78      |\n",
       "|     18420     | deputados |     73458     |\n",
       "+---------------+-----------+---------------+\n",
       "Truncated to displaylimit of 10."
      ]
     },
     "execution_count": 20,
     "metadata": {},
     "output_type": "execute_result"
    }
   ],
   "source": [
    "%%sql\n",
    "SELECT * FROM camara_authors LIMIT 10;"
   ]
  },
  {
   "cell_type": "code",
   "execution_count": 21,
   "id": "93ee2818",
   "metadata": {
    "vscode": {
     "languageId": "sql"
    }
   },
   "outputs": [
    {
     "data": {
      "text/html": [
       "<span style=\"None\">Running query in &#x27;duck&#x27;</span>"
      ],
      "text/plain": [
       "Running query in 'duck'"
      ]
     },
     "metadata": {},
     "output_type": "display_data"
    },
    {
     "data": {
      "text/html": [
       "<table>\n",
       "    <thead>\n",
       "        <tr>\n",
       "            <th>missing_deputado_id</th>\n",
       "        </tr>\n",
       "    </thead>\n",
       "    <tbody>\n",
       "    </tbody>\n",
       "</table>"
      ],
      "text/plain": [
       "+---------------------+\n",
       "| missing_deputado_id |\n",
       "+---------------------+\n",
       "+---------------------+"
      ]
     },
     "execution_count": 21,
     "metadata": {},
     "output_type": "execute_result"
    }
   ],
   "source": [
    "%%sql\n",
    "SELECT DISTINCT a.author_id_num AS missing_deputado_id\n",
    "FROM camara_authors a\n",
    "LEFT JOIN deputados_camara d ON d.id_deputado = a.author_id_num\n",
    "WHERE a.uri_kind = 'deputados' AND d.id_deputado IS NULL;\n"
   ]
  },
  {
   "cell_type": "code",
   "execution_count": 22,
   "id": "a950e05c",
   "metadata": {
    "vscode": {
     "languageId": "sql"
    }
   },
   "outputs": [
    {
     "data": {
      "text/html": [
       "<span style=\"None\">Running query in &#x27;duck&#x27;</span>"
      ],
      "text/plain": [
       "Running query in 'duck'"
      ]
     },
     "metadata": {},
     "output_type": "display_data"
    },
    {
     "data": {
      "text/html": [
       "<table>\n",
       "    <thead>\n",
       "        <tr>\n",
       "            <th>missing_orgao_id</th>\n",
       "        </tr>\n",
       "    </thead>\n",
       "    <tbody>\n",
       "    </tbody>\n",
       "</table>"
      ],
      "text/plain": [
       "+------------------+\n",
       "| missing_orgao_id |\n",
       "+------------------+\n",
       "+------------------+"
      ]
     },
     "execution_count": 22,
     "metadata": {},
     "output_type": "execute_result"
    }
   ],
   "source": [
    "%%sql\n",
    "-- Órgãos: any referenced in camara_authors but missing in orgaos_camara_all\n",
    "SELECT DISTINCT a.author_id_num AS missing_orgao_id\n",
    "FROM camara_authors a\n",
    "LEFT JOIN orgaos_camara_all o ON o.id_orgao = a.author_id_num\n",
    "WHERE a.uri_kind = 'orgaos' AND o.id_orgao IS NULL;\n"
   ]
  },
  {
   "cell_type": "markdown",
   "id": "28ef0157",
   "metadata": {},
   "source": [
    "# Montagem dos dataframes finais para produção dos grafos"
   ]
  },
  {
   "cell_type": "code",
   "execution_count": 23,
   "id": "93d1427e",
   "metadata": {},
   "outputs": [
    {
     "data": {
      "text/html": [
       "<div>\n",
       "<style scoped>\n",
       "    .dataframe tbody tr th:only-of-type {\n",
       "        vertical-align: middle;\n",
       "    }\n",
       "\n",
       "    .dataframe tbody tr th {\n",
       "        vertical-align: top;\n",
       "    }\n",
       "\n",
       "    .dataframe thead th {\n",
       "        text-align: right;\n",
       "    }\n",
       "</style>\n",
       "<table border=\"1\" class=\"dataframe\">\n",
       "  <thead>\n",
       "    <tr style=\"text-align: right;\">\n",
       "      <th></th>\n",
       "      <th>tag</th>\n",
       "      <th>label</th>\n",
       "    </tr>\n",
       "  </thead>\n",
       "  <tbody>\n",
       "    <tr>\n",
       "      <th>0</th>\n",
       "      <td>D:62926</td>\n",
       "      <td>REINALDO SANTOS E SILVA</td>\n",
       "    </tr>\n",
       "    <tr>\n",
       "      <th>1</th>\n",
       "      <td>D:66828</td>\n",
       "      <td>FAUSTO RUY PINATO</td>\n",
       "    </tr>\n",
       "    <tr>\n",
       "      <th>2</th>\n",
       "      <td>D:73439</td>\n",
       "      <td>Carlos Nelson Bueno</td>\n",
       "    </tr>\n",
       "    <tr>\n",
       "      <th>3</th>\n",
       "      <td>D:73463</td>\n",
       "      <td>OSMAR JOSÉ SERRAGLIO</td>\n",
       "    </tr>\n",
       "    <tr>\n",
       "      <th>4</th>\n",
       "      <td>D:73464</td>\n",
       "      <td>BERNARDINO BARRETO DE OLIVEIRA</td>\n",
       "    </tr>\n",
       "  </tbody>\n",
       "</table>\n",
       "</div>"
      ],
      "text/plain": [
       "       tag                           label\n",
       "0  D:62926         REINALDO SANTOS E SILVA\n",
       "1  D:66828               FAUSTO RUY PINATO\n",
       "2  D:73439             Carlos Nelson Bueno\n",
       "3  D:73463            OSMAR JOSÉ SERRAGLIO\n",
       "4  D:73464  BERNARDINO BARRETO DE OLIVEIRA"
      ]
     },
     "execution_count": 23,
     "metadata": {},
     "output_type": "execute_result"
    }
   ],
   "source": [
    "# Get the congressmen and labels\n",
    "\n",
    "deps_df = conn.execute(\"SELECT * FROM deputados_camara\").df()\n",
    "deps_df['label'] = deps_df['nome_civil']\n",
    "deps_df['tag'] = deps_df['id_deputado'].apply(lambda v: f\"D:{v}\")\n",
    "deps_df = deps_df[['tag', 'label']]\n",
    "deps_df.head()\n"
   ]
  },
  {
   "cell_type": "code",
   "execution_count": 24,
   "id": "730c2013",
   "metadata": {},
   "outputs": [
    {
     "data": {
      "text/html": [
       "<div>\n",
       "<style scoped>\n",
       "    .dataframe tbody tr th:only-of-type {\n",
       "        vertical-align: middle;\n",
       "    }\n",
       "\n",
       "    .dataframe tbody tr th {\n",
       "        vertical-align: top;\n",
       "    }\n",
       "\n",
       "    .dataframe thead th {\n",
       "        text-align: right;\n",
       "    }\n",
       "</style>\n",
       "<table border=\"1\" class=\"dataframe\">\n",
       "  <thead>\n",
       "    <tr style=\"text-align: right;\">\n",
       "      <th></th>\n",
       "      <th>tag</th>\n",
       "      <th>label</th>\n",
       "    </tr>\n",
       "  </thead>\n",
       "  <tbody>\n",
       "    <tr>\n",
       "      <th>0</th>\n",
       "      <td>O:201</td>\n",
       "      <td>COMISSÃO DO TRABALHO</td>\n",
       "    </tr>\n",
       "    <tr>\n",
       "      <th>1</th>\n",
       "      <td>O:218</td>\n",
       "      <td>COMISSÃO DE CONSTITUIÇÃO E JUSTIÇA</td>\n",
       "    </tr>\n",
       "    <tr>\n",
       "      <th>2</th>\n",
       "      <td>O:5306</td>\n",
       "      <td>Dispõe sobre o Conselho de Altos Estudos e Ava...</td>\n",
       "    </tr>\n",
       "    <tr>\n",
       "      <th>3</th>\n",
       "      <td>O:5437</td>\n",
       "      <td>Comissão Especial destinada a apreciar e  prof...</td>\n",
       "    </tr>\n",
       "    <tr>\n",
       "      <th>4</th>\n",
       "      <td>O:5604</td>\n",
       "      <td>Altera a Legislação Tributária Federal, e dá o...</td>\n",
       "    </tr>\n",
       "  </tbody>\n",
       "</table>\n",
       "</div>"
      ],
      "text/plain": [
       "      tag                                              label\n",
       "0   O:201                               COMISSÃO DO TRABALHO\n",
       "1   O:218                 COMISSÃO DE CONSTITUIÇÃO E JUSTIÇA\n",
       "2  O:5306  Dispõe sobre o Conselho de Altos Estudos e Ava...\n",
       "3  O:5437  Comissão Especial destinada a apreciar e  prof...\n",
       "4  O:5604  Altera a Legislação Tributária Federal, e dá o..."
      ]
     },
     "execution_count": 24,
     "metadata": {},
     "output_type": "execute_result"
    }
   ],
   "source": [
    "\n",
    "# Get the entities and labels\n",
    "\n",
    "orgs_df = conn.execute(\"SELECT * FROM orgaos_camara_all\").df()\n",
    "orgs_df['label'] = orgs_df['nome']\n",
    "orgs_df['tag'] = orgs_df['id_orgao'].apply(lambda v: f\"O:{v}\")\n",
    "orgs_df = orgs_df[['tag', 'label']]\n",
    "orgs_df.head()"
   ]
  },
  {
   "cell_type": "markdown",
   "id": "49a635f3",
   "metadata": {},
   "source": [
    "## Filtragem por tipo de proposição"
   ]
  },
  {
   "cell_type": "code",
   "execution_count": 25,
   "id": "00c80a4f",
   "metadata": {},
   "outputs": [
    {
     "data": {
      "text/html": [
       "<div>\n",
       "<style scoped>\n",
       "    .dataframe tbody tr th:only-of-type {\n",
       "        vertical-align: middle;\n",
       "    }\n",
       "\n",
       "    .dataframe tbody tr th {\n",
       "        vertical-align: top;\n",
       "    }\n",
       "\n",
       "    .dataframe thead th {\n",
       "        text-align: right;\n",
       "    }\n",
       "</style>\n",
       "<table border=\"1\" class=\"dataframe\">\n",
       "  <thead>\n",
       "    <tr style=\"text-align: right;\">\n",
       "      <th></th>\n",
       "      <th>prop_label</th>\n",
       "      <th>prop_category</th>\n",
       "    </tr>\n",
       "    <tr>\n",
       "      <th>id_proposicao</th>\n",
       "      <th></th>\n",
       "      <th></th>\n",
       "    </tr>\n",
       "  </thead>\n",
       "  <tbody>\n",
       "    <tr>\n",
       "      <th>15009</th>\n",
       "      <td>PL 70/1995</td>\n",
       "      <td>PL</td>\n",
       "    </tr>\n",
       "    <tr>\n",
       "      <th>15532</th>\n",
       "      <td>PL 505/1991</td>\n",
       "      <td>PL</td>\n",
       "    </tr>\n",
       "    <tr>\n",
       "      <th>15749</th>\n",
       "      <td>PL 693/1999</td>\n",
       "      <td>PL</td>\n",
       "    </tr>\n",
       "    <tr>\n",
       "      <th>15990</th>\n",
       "      <td>PL 887/1991</td>\n",
       "      <td>PL</td>\n",
       "    </tr>\n",
       "    <tr>\n",
       "      <th>16481</th>\n",
       "      <td>PL 1258/1995</td>\n",
       "      <td>PL</td>\n",
       "    </tr>\n",
       "  </tbody>\n",
       "</table>\n",
       "</div>"
      ],
      "text/plain": [
       "                 prop_label prop_category\n",
       "id_proposicao                            \n",
       "15009            PL 70/1995            PL\n",
       "15532           PL 505/1991            PL\n",
       "15749           PL 693/1999            PL\n",
       "15990           PL 887/1991            PL\n",
       "16481          PL 1258/1995            PL"
      ]
     },
     "execution_count": 25,
     "metadata": {},
     "output_type": "execute_result"
    }
   ],
   "source": [
    "# Build the propositions DF, filter by proposition type, then label\n",
    "\n",
    "props_df = conn.execute(\"SELECT * FROM proposicoes_camara\").df()\n",
    "props_df['prop_label'] = props_df.apply(lambda r: f\"{r['sigla_tipo']} {r['numero']}/{r['ano']}\", axis=1)\n",
    "\n",
    "INCLUDED_TYPES = [\n",
    "    'PL',  # projeto de lei\n",
    "    'PLP',  # projeto de lei complementar\n",
    "    'PEC',  # proposta de emenda à constituição\n",
    "    'MPV',  # medida provisória\n",
    "    'PLN',  # projeto de lei (CN)\n",
    "    'PLV',  # projeto de lei de conversão\n",
    "    'PLS',  # projeto de lei do senado\n",
    "]\n",
    "\n",
    "TYPE_CATEGORIES = {\n",
    "    'PL': 'PL',  # projeto de lei\n",
    "    'PLP': 'PL',  # projeto de lei complementar\n",
    "    'PEC': 'PEC',  # proposta de emenda à constituição\n",
    "    'MPV': 'MPV',  # medida provisória\n",
    "    'PLN': 'PL',  # projeto de lei (CN)\n",
    "    'PLV': 'PL',  # projeto de lei de conversão\n",
    "    'PLS': 'PL',  # projeto de lei do senado\n",
    "}\n",
    "\n",
    "props_df = props_df[props_df['sigla_tipo'].isin(INCLUDED_TYPES)]\n",
    "props_df['prop_category'] = props_df['sigla_tipo'].apply(lambda v: TYPE_CATEGORIES[v])\n",
    "props_df = props_df.set_index('id_proposicao', drop=True)\n",
    "props_df = props_df[['prop_label', 'prop_category']]\n",
    "props_df.head()"
   ]
  },
  {
   "cell_type": "markdown",
   "id": "f6355dad",
   "metadata": {},
   "source": [
    "## Criação das tabelas"
   ]
  },
  {
   "cell_type": "code",
   "execution_count": 26,
   "id": "4da12b77",
   "metadata": {},
   "outputs": [],
   "source": [
    "\n",
    "# Compile a DF of just labels\n",
    "\n",
    "labels_df = pd.concat([orgs_df, deps_df]).set_index('tag', drop=True)\n",
    "labels_df.columns = ['auth_label']\n",
    "\n",
    "# Link with edge table\n",
    "\n",
    "df = conn.execute(\"\"\"SELECT * FROM camara_authors\"\"\").df()\n",
    "\n",
    "df['prop_tag'] = df['id_proposicao'].apply(lambda v: f\"P:{v}\")\n",
    "df['auth_tag'] = df.apply(\n",
    "    lambda r: f\"D:{r['author_id_num']}\" if r['uri_kind'] == 'deputados'\n",
    "              else f\"O:{r['author_id_num']}\",\n",
    "    axis=1\n",
    ")\n",
    "\n",
    "df = df.join(props_df, how='left', on='id_proposicao').join(labels_df, how='left', on='auth_tag')\n",
    "df = df[~df['prop_label'].isna()]"
   ]
  },
  {
   "cell_type": "markdown",
   "id": "d961c00e",
   "metadata": {},
   "source": [
    "### Correção de erros"
   ]
  },
  {
   "cell_type": "code",
   "execution_count": 27,
   "id": "b21f40ef",
   "metadata": {},
   "outputs": [
    {
     "data": {
      "text/html": [
       "<div>\n",
       "<style scoped>\n",
       "    .dataframe tbody tr th:only-of-type {\n",
       "        vertical-align: middle;\n",
       "    }\n",
       "\n",
       "    .dataframe tbody tr th {\n",
       "        vertical-align: top;\n",
       "    }\n",
       "\n",
       "    .dataframe thead th {\n",
       "        text-align: right;\n",
       "    }\n",
       "</style>\n",
       "<table border=\"1\" class=\"dataframe\">\n",
       "  <thead>\n",
       "    <tr style=\"text-align: right;\">\n",
       "      <th></th>\n",
       "      <th>id_proposicao</th>\n",
       "      <th>uri_kind</th>\n",
       "      <th>author_id_num</th>\n",
       "      <th>prop_tag</th>\n",
       "      <th>auth_tag</th>\n",
       "      <th>prop_label</th>\n",
       "      <th>prop_category</th>\n",
       "      <th>auth_label</th>\n",
       "    </tr>\n",
       "  </thead>\n",
       "  <tbody>\n",
       "    <tr>\n",
       "      <th>5232</th>\n",
       "      <td>2239097</td>\n",
       "      <td>orgaos</td>\n",
       "      <td>101489</td>\n",
       "      <td>P:2239097</td>\n",
       "      <td>O:101489</td>\n",
       "      <td>PL 641/2020</td>\n",
       "      <td>PL</td>\n",
       "      <td>João Alberto Soares Neto - Advogado</td>\n",
       "    </tr>\n",
       "    <tr>\n",
       "      <th>26704</th>\n",
       "      <td>2261160</td>\n",
       "      <td>orgaos</td>\n",
       "      <td>102133</td>\n",
       "      <td>P:2261160</td>\n",
       "      <td>O:102133</td>\n",
       "      <td>PL 4383/2020</td>\n",
       "      <td>PL</td>\n",
       "      <td>P50 SERVIÇOS INTEGRADOS</td>\n",
       "    </tr>\n",
       "    <tr>\n",
       "      <th>103367</th>\n",
       "      <td>2189911</td>\n",
       "      <td>orgaos</td>\n",
       "      <td>10119</td>\n",
       "      <td>P:2189911</td>\n",
       "      <td>O:10119</td>\n",
       "      <td>PL 11216/2018</td>\n",
       "      <td>PL</td>\n",
       "      <td>Celso Pansera</td>\n",
       "    </tr>\n",
       "  </tbody>\n",
       "</table>\n",
       "</div>"
      ],
      "text/plain": [
       "        id_proposicao uri_kind  author_id_num   prop_tag  auth_tag  \\\n",
       "5232          2239097   orgaos         101489  P:2239097  O:101489   \n",
       "26704         2261160   orgaos         102133  P:2261160  O:102133   \n",
       "103367        2189911   orgaos          10119  P:2189911   O:10119   \n",
       "\n",
       "           prop_label prop_category                           auth_label  \n",
       "5232      PL 641/2020            PL  João Alberto Soares Neto - Advogado  \n",
       "26704    PL 4383/2020            PL              P50 SERVIÇOS INTEGRADOS  \n",
       "103367  PL 11216/2018            PL                        Celso Pansera  "
      ]
     },
     "execution_count": 27,
     "metadata": {},
     "output_type": "execute_result"
    }
   ],
   "source": [
    "WEIRD_AUTHORS = [\n",
    "    \"Celso Pansera\",\n",
    "    \"João Alberto Soares Neto - Advogado\",\n",
    "    \"P50 SERVIÇOS INTEGRADOS\",\n",
    "]\n",
    "\n",
    "df[df['auth_label'].isin(WEIRD_AUTHORS)]"
   ]
  },
  {
   "cell_type": "code",
   "execution_count": 28,
   "id": "dd7dc38c",
   "metadata": {},
   "outputs": [
    {
     "data": {
      "text/html": [
       "<div>\n",
       "<style scoped>\n",
       "    .dataframe tbody tr th:only-of-type {\n",
       "        vertical-align: middle;\n",
       "    }\n",
       "\n",
       "    .dataframe tbody tr th {\n",
       "        vertical-align: top;\n",
       "    }\n",
       "\n",
       "    .dataframe thead th {\n",
       "        text-align: right;\n",
       "    }\n",
       "</style>\n",
       "<table border=\"1\" class=\"dataframe\">\n",
       "  <thead>\n",
       "    <tr style=\"text-align: right;\">\n",
       "      <th></th>\n",
       "      <th>id_proposicao</th>\n",
       "      <th>uri_kind</th>\n",
       "      <th>author_id_num</th>\n",
       "      <th>prop_tag</th>\n",
       "      <th>auth_tag</th>\n",
       "      <th>prop_label</th>\n",
       "      <th>prop_category</th>\n",
       "      <th>auth_label</th>\n",
       "    </tr>\n",
       "  </thead>\n",
       "  <tbody>\n",
       "    <tr>\n",
       "      <th>97010</th>\n",
       "      <td>484750</td>\n",
       "      <td></td>\n",
       "      <td>&lt;NA&gt;</td>\n",
       "      <td>P:484750</td>\n",
       "      <td>O:&lt;NA&gt;</td>\n",
       "      <td>PL 7756/2010</td>\n",
       "      <td>PL</td>\n",
       "      <td>NaN</td>\n",
       "    </tr>\n",
       "  </tbody>\n",
       "</table>\n",
       "</div>"
      ],
      "text/plain": [
       "       id_proposicao uri_kind  author_id_num  prop_tag auth_tag    prop_label  \\\n",
       "97010         484750                    <NA>  P:484750   O:<NA>  PL 7756/2010   \n",
       "\n",
       "      prop_category auth_label  \n",
       "97010            PL        NaN  "
      ]
     },
     "execution_count": 28,
     "metadata": {},
     "output_type": "execute_result"
    }
   ],
   "source": [
    "df[df['auth_label'].isna()]"
   ]
  },
  {
   "cell_type": "markdown",
   "id": "a1469650",
   "metadata": {},
   "source": [
    "### Ajustes finais\n",
    "\n",
    "| id_autoria | id_proposicao | proposição | comentário |\n",
    "| --- | --- | --- | --- |\n",
    "| 5232 | 2239097 | PL 641/2020 | Membro da sociedade civil creditado como autor. Descartamos. |\n",
    "| 26704 | 2261160 | PL 4383/2020 | Membro da sociedade civil creditado como autor. Descartamos. |\n",
    "| 103367 | 2189911 | PL 11.216/2018 | Celso Pansera, que na época era deputado federal, marcado incorretamente como membro da sociedade civil. Corrigimos. |\n",
    "| 97010 | 484750 | PL 7756/2010 | PL do Senado Federal atribuído incorretamente ao senador e não ao órgão. Corrigimos. |\n"
   ]
  },
  {
   "cell_type": "code",
   "execution_count": 29,
   "id": "ed62a699",
   "metadata": {},
   "outputs": [],
   "source": [
    "DROP_IDS = [5232, 26704]\n",
    "\n",
    "df = df.drop(DROP_IDS, axis=0)"
   ]
  },
  {
   "cell_type": "code",
   "execution_count": 30,
   "id": "3a1786f4",
   "metadata": {},
   "outputs": [
    {
     "data": {
      "text/plain": [
       "id_proposicao          2189911\n",
       "uri_kind                orgaos\n",
       "author_id_num            10119\n",
       "prop_tag             P:2189911\n",
       "auth_tag               O:10119\n",
       "prop_label       PL 11216/2018\n",
       "prop_category               PL\n",
       "auth_label       Celso Pansera\n",
       "Name: 103367, dtype: object"
      ]
     },
     "execution_count": 30,
     "metadata": {},
     "output_type": "execute_result"
    }
   ],
   "source": [
    "df.loc[103367, :]\n"
   ]
  },
  {
   "cell_type": "code",
   "execution_count": 31,
   "id": "fc767a9f",
   "metadata": {},
   "outputs": [],
   "source": [
    "pansera_id = int(deps_df[deps_df['label'].str.lower().str.contains('pansera')].index[0])"
   ]
  },
  {
   "cell_type": "code",
   "execution_count": 32,
   "id": "9e75108a",
   "metadata": {},
   "outputs": [
    {
     "data": {
      "text/plain": [
       "tag            D:72912\n",
       "label    CELSO PANSERA\n",
       "Name: 1283, dtype: object"
      ]
     },
     "execution_count": 32,
     "metadata": {},
     "output_type": "execute_result"
    }
   ],
   "source": [
    "deps_df.loc[pansera_id,:]"
   ]
  },
  {
   "cell_type": "code",
   "execution_count": 33,
   "id": "bc3f35a2",
   "metadata": {},
   "outputs": [
    {
     "data": {
      "text/plain": [
       "id_proposicao          2189911\n",
       "uri_kind             deputados\n",
       "author_id_num             1283\n",
       "prop_tag             P:2189911\n",
       "auth_tag                D:1283\n",
       "prop_label       PL 11216/2018\n",
       "prop_category               PL\n",
       "auth_label       CELSO PANSERA\n",
       "Name: 103367, dtype: object"
      ]
     },
     "execution_count": 33,
     "metadata": {},
     "output_type": "execute_result"
    }
   ],
   "source": [
    "pansera_auth_row = 103367\n",
    "df.at[pansera_auth_row, 'uri_kind'] = 'deputados'\n",
    "df.at[pansera_auth_row, 'author_id_num'] = pansera_id\n",
    "df.at[pansera_auth_row, 'auth_tag'] = f\"D:{pansera_id}\"\n",
    "df.at[pansera_auth_row, 'auth_label'] = deps_df.loc[pansera_id, 'label']\n",
    "df.loc[pansera_auth_row, :]"
   ]
  },
  {
   "cell_type": "code",
   "execution_count": 34,
   "id": "a2c1a245",
   "metadata": {},
   "outputs": [
    {
     "data": {
      "text/plain": [
       "id_proposicao          484750\n",
       "uri_kind                     \n",
       "author_id_num            <NA>\n",
       "prop_tag             P:484750\n",
       "auth_tag               O:<NA>\n",
       "prop_label       PL 7756/2010\n",
       "prop_category              PL\n",
       "auth_label                NaN\n",
       "Name: 97010, dtype: object"
      ]
     },
     "execution_count": 34,
     "metadata": {},
     "output_type": "execute_result"
    }
   ],
   "source": [
    "wrong_senate_auth_row = 97010\n",
    "df.loc[wrong_senate_auth_row, :]"
   ]
  },
  {
   "cell_type": "code",
   "execution_count": 35,
   "id": "80491b52",
   "metadata": {},
   "outputs": [
    {
     "data": {
      "text/plain": [
       "id_proposicao            484750\n",
       "uri_kind                 orgaos\n",
       "author_id_num                78\n",
       "prop_tag               P:484750\n",
       "auth_tag                   D:78\n",
       "prop_label         PL 7756/2010\n",
       "prop_category                PL\n",
       "auth_label       Senado Federal\n",
       "Name: 97010, dtype: object"
      ]
     },
     "execution_count": 35,
     "metadata": {},
     "output_type": "execute_result"
    }
   ],
   "source": [
    "senate_id = 78\n",
    "senate_label = \"Senado Federal\"\n",
    "\n",
    "df.at[wrong_senate_auth_row, 'uri_kind'] = 'orgaos'\n",
    "df.at[wrong_senate_auth_row, 'author_id_num'] = senate_id\n",
    "df.at[wrong_senate_auth_row, 'auth_tag'] = f\"D:{senate_id}\"\n",
    "df.at[wrong_senate_auth_row, 'auth_label'] = senate_label\n",
    "df.loc[wrong_senate_auth_row, :]"
   ]
  },
  {
   "cell_type": "code",
   "execution_count": 36,
   "id": "342d88ba",
   "metadata": {},
   "outputs": [],
   "source": [
    "# drop phantom NAs\n",
    "df = df[~df['auth_tag'].str.contains(\"<\")]"
   ]
  },
  {
   "cell_type": "code",
   "execution_count": 37,
   "id": "7f82f736",
   "metadata": {},
   "outputs": [],
   "source": [
    "# Final sanity check: export unique labels and do a visual check\n",
    "\n",
    "with open(\"camara_authors.txt\", \"w\") as f:\n",
    "    f.write(\"\\n\".join(df['auth_label'].unique().tolist()))\n",
    "\n",
    "with open(\"camara_authors_org.txt\", \"w\") as f:\n",
    "    f.write(\"\\n\".join(df[df['uri_kind'] == 'orgaos']['auth_label'].unique().tolist()))\n",
    "\n",
    "with open(\"camara_props.txt\", \"w\") as f:\n",
    "    f.write(\"\\n\".join(df['prop_label'].unique().tolist()))"
   ]
  },
  {
   "cell_type": "code",
   "execution_count": 38,
   "id": "31163076",
   "metadata": {},
   "outputs": [],
   "source": [
    "df['auth_label'] = df['auth_label'].str.upper()"
   ]
  },
  {
   "cell_type": "code",
   "execution_count": 39,
   "id": "a8ac6dc2",
   "metadata": {},
   "outputs": [],
   "source": [
    "# Categorize authors\n",
    "\n",
    "def categoria_autor(row: pd.Series):\n",
    "    if row['uri_kind'] == 'deputados':\n",
    "        return 'DEPUTADO'\n",
    "    if row['auth_label'] in ('PRESIDÊNCIA DA REPÚBLICA', 'PODER EXECUTIVO'):\n",
    "        return 'PRESIDÊNCIA DA REPÚBLICA'\n",
    "    for prefix in (\n",
    "        'COMISSÃO',\n",
    "        'CPI',\n",
    "        'GRUPO DE TRABALHO',\n",
    "    ):\n",
    "        if row['auth_label'].startswith(prefix):\n",
    "            return 'COMISSÃO'\n",
    "    if row['auth_label'].startswith('SENADO'):\n",
    "        return 'SENADO'\n",
    "    if row['auth_label'] == 'INICIATIVA POPULAR':\n",
    "        return 'INICIATIVA POPULAR'\n",
    "    for prefix in (\n",
    "        'SUPERIOR',\n",
    "        'SUPREMO',\n",
    "        'TRIBUNAL',\n",
    "        'PROCURADORIA',\n",
    "        'MPF',\n",
    "        'DEFENSORIA',\n",
    "        'MINISTÉRIO PÚBLICO'\n",
    "    ):\n",
    "        if row['auth_label'].startswith(prefix):\n",
    "            return 'JUDICIÁRIO'\n",
    "    \n",
    "    if row['auth_label'] in (\n",
    "        'MESA DIRETORA DA CÂMARA DOS DEPUTADOS',\n",
    "        'CÂMARA DOS DEPUTADOS',\n",
    "    ):\n",
    "        return \"CÂMARA\"\n",
    "    return 'SEM CATEGORIA'\n",
    "        "
   ]
  },
  {
   "cell_type": "code",
   "execution_count": 40,
   "id": "de8e5ad5",
   "metadata": {},
   "outputs": [
    {
     "data": {
      "text/html": [
       "<div>\n",
       "<style scoped>\n",
       "    .dataframe tbody tr th:only-of-type {\n",
       "        vertical-align: middle;\n",
       "    }\n",
       "\n",
       "    .dataframe tbody tr th {\n",
       "        vertical-align: top;\n",
       "    }\n",
       "\n",
       "    .dataframe thead th {\n",
       "        text-align: right;\n",
       "    }\n",
       "</style>\n",
       "<table border=\"1\" class=\"dataframe\">\n",
       "  <thead>\n",
       "    <tr style=\"text-align: right;\">\n",
       "      <th></th>\n",
       "      <th>id_proposicao</th>\n",
       "      <th>uri_kind</th>\n",
       "      <th>author_id_num</th>\n",
       "      <th>prop_tag</th>\n",
       "      <th>auth_tag</th>\n",
       "      <th>prop_label</th>\n",
       "      <th>prop_category</th>\n",
       "      <th>auth_label</th>\n",
       "      <th>auth_category</th>\n",
       "    </tr>\n",
       "  </thead>\n",
       "  <tbody>\n",
       "    <tr>\n",
       "      <th>0</th>\n",
       "      <td>15009</td>\n",
       "      <td>deputados</td>\n",
       "      <td>73538</td>\n",
       "      <td>P:15009</td>\n",
       "      <td>D:73538</td>\n",
       "      <td>PL 70/1995</td>\n",
       "      <td>PL</td>\n",
       "      <td>JOSÉ DE CASTRO COIMBRA</td>\n",
       "      <td>DEPUTADO</td>\n",
       "    </tr>\n",
       "    <tr>\n",
       "      <th>1</th>\n",
       "      <td>15532</td>\n",
       "      <td>deputados</td>\n",
       "      <td>73910</td>\n",
       "      <td>P:15532</td>\n",
       "      <td>D:73910</td>\n",
       "      <td>PL 505/1991</td>\n",
       "      <td>PL</td>\n",
       "      <td>PAULO RENATO PAIM</td>\n",
       "      <td>DEPUTADO</td>\n",
       "    </tr>\n",
       "    <tr>\n",
       "      <th>2</th>\n",
       "      <td>15749</td>\n",
       "      <td>deputados</td>\n",
       "      <td>74316</td>\n",
       "      <td>P:15749</td>\n",
       "      <td>D:74316</td>\n",
       "      <td>PL 693/1999</td>\n",
       "      <td>PL</td>\n",
       "      <td>JOÃO HENRIQUE DE ALMEIDA SOUSA</td>\n",
       "      <td>DEPUTADO</td>\n",
       "    </tr>\n",
       "    <tr>\n",
       "      <th>3</th>\n",
       "      <td>15990</td>\n",
       "      <td>orgaos</td>\n",
       "      <td>262</td>\n",
       "      <td>P:15990</td>\n",
       "      <td>O:262</td>\n",
       "      <td>PL 887/1991</td>\n",
       "      <td>PL</td>\n",
       "      <td>COMISSÃO MISTA</td>\n",
       "      <td>COMISSÃO</td>\n",
       "    </tr>\n",
       "    <tr>\n",
       "      <th>4</th>\n",
       "      <td>16481</td>\n",
       "      <td>orgaos</td>\n",
       "      <td>78</td>\n",
       "      <td>P:16481</td>\n",
       "      <td>O:78</td>\n",
       "      <td>PL 1258/1995</td>\n",
       "      <td>PL</td>\n",
       "      <td>SENADO FEDERAL</td>\n",
       "      <td>SENADO</td>\n",
       "    </tr>\n",
       "  </tbody>\n",
       "</table>\n",
       "</div>"
      ],
      "text/plain": [
       "   id_proposicao   uri_kind  author_id_num prop_tag auth_tag    prop_label  \\\n",
       "0          15009  deputados          73538  P:15009  D:73538    PL 70/1995   \n",
       "1          15532  deputados          73910  P:15532  D:73910   PL 505/1991   \n",
       "2          15749  deputados          74316  P:15749  D:74316   PL 693/1999   \n",
       "3          15990     orgaos            262  P:15990    O:262   PL 887/1991   \n",
       "4          16481     orgaos             78  P:16481     O:78  PL 1258/1995   \n",
       "\n",
       "  prop_category                      auth_label auth_category  \n",
       "0            PL          JOSÉ DE CASTRO COIMBRA      DEPUTADO  \n",
       "1            PL               PAULO RENATO PAIM      DEPUTADO  \n",
       "2            PL  JOÃO HENRIQUE DE ALMEIDA SOUSA      DEPUTADO  \n",
       "3            PL                  COMISSÃO MISTA      COMISSÃO  \n",
       "4            PL                  SENADO FEDERAL        SENADO  "
      ]
     },
     "execution_count": 40,
     "metadata": {},
     "output_type": "execute_result"
    }
   ],
   "source": [
    "df['auth_category'] = df.apply(lambda row: categoria_autor(row), axis=1)\n",
    "df.head()"
   ]
  },
  {
   "cell_type": "code",
   "execution_count": 41,
   "id": "d632d09a",
   "metadata": {},
   "outputs": [
    {
     "data": {
      "text/html": [
       "<div>\n",
       "<style scoped>\n",
       "    .dataframe tbody tr th:only-of-type {\n",
       "        vertical-align: middle;\n",
       "    }\n",
       "\n",
       "    .dataframe tbody tr th {\n",
       "        vertical-align: top;\n",
       "    }\n",
       "\n",
       "    .dataframe thead th {\n",
       "        text-align: right;\n",
       "    }\n",
       "</style>\n",
       "<table border=\"1\" class=\"dataframe\">\n",
       "  <thead>\n",
       "    <tr style=\"text-align: right;\">\n",
       "      <th></th>\n",
       "      <th>id_proposicao</th>\n",
       "      <th>uri_kind</th>\n",
       "      <th>author_id_num</th>\n",
       "      <th>prop_tag</th>\n",
       "      <th>auth_tag</th>\n",
       "      <th>prop_label</th>\n",
       "      <th>prop_category</th>\n",
       "      <th>auth_label</th>\n",
       "      <th>auth_category</th>\n",
       "    </tr>\n",
       "  </thead>\n",
       "  <tbody>\n",
       "  </tbody>\n",
       "</table>\n",
       "</div>"
      ],
      "text/plain": [
       "Empty DataFrame\n",
       "Columns: [id_proposicao, uri_kind, author_id_num, prop_tag, auth_tag, prop_label, prop_category, auth_label, auth_category]\n",
       "Index: []"
      ]
     },
     "execution_count": 41,
     "metadata": {},
     "output_type": "execute_result"
    }
   ],
   "source": [
    "df[df['auth_category'] == 'SEM CATEGORIA']"
   ]
  },
  {
   "cell_type": "code",
   "execution_count": 42,
   "id": "3024dc60",
   "metadata": {},
   "outputs": [],
   "source": [
    "df['auth_supercategory'] = df['auth_category'].apply(\n",
    "    lambda v: {\n",
    "        'COMISSÃO': 'CÂMARA',\n",
    "        'DEPUTADO': 'CÂMARA',\n",
    "        'INICIATIVA POPULAR': 'OUTROS',\n",
    "        'JUDICIÁRIO': 'OUTROS',\n",
    "    }.get(v, v)\n",
    ")"
   ]
  },
  {
   "cell_type": "code",
   "execution_count": 43,
   "id": "674642ee",
   "metadata": {},
   "outputs": [
    {
     "data": {
      "text/html": [
       "<div>\n",
       "<style scoped>\n",
       "    .dataframe tbody tr th:only-of-type {\n",
       "        vertical-align: middle;\n",
       "    }\n",
       "\n",
       "    .dataframe tbody tr th {\n",
       "        vertical-align: top;\n",
       "    }\n",
       "\n",
       "    .dataframe thead th {\n",
       "        text-align: right;\n",
       "    }\n",
       "</style>\n",
       "<table border=\"1\" class=\"dataframe\">\n",
       "  <thead>\n",
       "    <tr style=\"text-align: right;\">\n",
       "      <th></th>\n",
       "      <th>id_proposicao</th>\n",
       "      <th>uri_kind</th>\n",
       "      <th>author_id_num</th>\n",
       "      <th>prop_tag</th>\n",
       "      <th>auth_tag</th>\n",
       "      <th>prop_label</th>\n",
       "      <th>prop_category</th>\n",
       "      <th>auth_label</th>\n",
       "      <th>auth_category</th>\n",
       "      <th>auth_supercategory</th>\n",
       "    </tr>\n",
       "  </thead>\n",
       "  <tbody>\n",
       "    <tr>\n",
       "      <th>0</th>\n",
       "      <td>15009</td>\n",
       "      <td>deputados</td>\n",
       "      <td>73538</td>\n",
       "      <td>P:15009</td>\n",
       "      <td>D:73538</td>\n",
       "      <td>PL 70/1995</td>\n",
       "      <td>PL</td>\n",
       "      <td>JOSÉ DE CASTRO COIMBRA</td>\n",
       "      <td>DEPUTADO</td>\n",
       "      <td>CÂMARA</td>\n",
       "    </tr>\n",
       "    <tr>\n",
       "      <th>1</th>\n",
       "      <td>15532</td>\n",
       "      <td>deputados</td>\n",
       "      <td>73910</td>\n",
       "      <td>P:15532</td>\n",
       "      <td>D:73910</td>\n",
       "      <td>PL 505/1991</td>\n",
       "      <td>PL</td>\n",
       "      <td>PAULO RENATO PAIM</td>\n",
       "      <td>DEPUTADO</td>\n",
       "      <td>CÂMARA</td>\n",
       "    </tr>\n",
       "    <tr>\n",
       "      <th>2</th>\n",
       "      <td>15749</td>\n",
       "      <td>deputados</td>\n",
       "      <td>74316</td>\n",
       "      <td>P:15749</td>\n",
       "      <td>D:74316</td>\n",
       "      <td>PL 693/1999</td>\n",
       "      <td>PL</td>\n",
       "      <td>JOÃO HENRIQUE DE ALMEIDA SOUSA</td>\n",
       "      <td>DEPUTADO</td>\n",
       "      <td>CÂMARA</td>\n",
       "    </tr>\n",
       "    <tr>\n",
       "      <th>3</th>\n",
       "      <td>15990</td>\n",
       "      <td>orgaos</td>\n",
       "      <td>262</td>\n",
       "      <td>P:15990</td>\n",
       "      <td>O:262</td>\n",
       "      <td>PL 887/1991</td>\n",
       "      <td>PL</td>\n",
       "      <td>COMISSÃO MISTA</td>\n",
       "      <td>COMISSÃO</td>\n",
       "      <td>CÂMARA</td>\n",
       "    </tr>\n",
       "    <tr>\n",
       "      <th>4</th>\n",
       "      <td>16481</td>\n",
       "      <td>orgaos</td>\n",
       "      <td>78</td>\n",
       "      <td>P:16481</td>\n",
       "      <td>O:78</td>\n",
       "      <td>PL 1258/1995</td>\n",
       "      <td>PL</td>\n",
       "      <td>SENADO FEDERAL</td>\n",
       "      <td>SENADO</td>\n",
       "      <td>SENADO</td>\n",
       "    </tr>\n",
       "    <tr>\n",
       "      <th>...</th>\n",
       "      <td>...</td>\n",
       "      <td>...</td>\n",
       "      <td>...</td>\n",
       "      <td>...</td>\n",
       "      <td>...</td>\n",
       "      <td>...</td>\n",
       "      <td>...</td>\n",
       "      <td>...</td>\n",
       "      <td>...</td>\n",
       "      <td>...</td>\n",
       "    </tr>\n",
       "    <tr>\n",
       "      <th>145504</th>\n",
       "      <td>2490092</td>\n",
       "      <td>deputados</td>\n",
       "      <td>220576</td>\n",
       "      <td>P:2490092</td>\n",
       "      <td>D:220576</td>\n",
       "      <td>PL 1239/2025</td>\n",
       "      <td>PL</td>\n",
       "      <td>ALFREDO GASPAR DE MENDONÇA NETO</td>\n",
       "      <td>DEPUTADO</td>\n",
       "      <td>CÂMARA</td>\n",
       "    </tr>\n",
       "    <tr>\n",
       "      <th>145508</th>\n",
       "      <td>2521146</td>\n",
       "      <td>deputados</td>\n",
       "      <td>204572</td>\n",
       "      <td>P:2521146</td>\n",
       "      <td>D:204572</td>\n",
       "      <td>PL 2755/2025</td>\n",
       "      <td>PL</td>\n",
       "      <td>ALBERTO BARROS CAVALCANTE NETO</td>\n",
       "      <td>DEPUTADO</td>\n",
       "      <td>CÂMARA</td>\n",
       "    </tr>\n",
       "    <tr>\n",
       "      <th>145509</th>\n",
       "      <td>2525011</td>\n",
       "      <td>deputados</td>\n",
       "      <td>160512</td>\n",
       "      <td>P:2525011</td>\n",
       "      <td>D:160512</td>\n",
       "      <td>PL 2833/2025</td>\n",
       "      <td>PL</td>\n",
       "      <td>AUREO LIDIO MOREIRA RIBEIRO</td>\n",
       "      <td>DEPUTADO</td>\n",
       "      <td>CÂMARA</td>\n",
       "    </tr>\n",
       "    <tr>\n",
       "      <th>145510</th>\n",
       "      <td>2529248</td>\n",
       "      <td>deputados</td>\n",
       "      <td>220547</td>\n",
       "      <td>P:2529248</td>\n",
       "      <td>D:220547</td>\n",
       "      <td>PL 3127/2025</td>\n",
       "      <td>PL</td>\n",
       "      <td>MARCOS SBOROWSKI POLLON</td>\n",
       "      <td>DEPUTADO</td>\n",
       "      <td>CÂMARA</td>\n",
       "    </tr>\n",
       "    <tr>\n",
       "      <th>145511</th>\n",
       "      <td>2531284</td>\n",
       "      <td>deputados</td>\n",
       "      <td>204356</td>\n",
       "      <td>P:2531284</td>\n",
       "      <td>D:204356</td>\n",
       "      <td>PL 3194/2025</td>\n",
       "      <td>PL</td>\n",
       "      <td>AMARO ROCHA NASCIMENTO NETO</td>\n",
       "      <td>DEPUTADO</td>\n",
       "      <td>CÂMARA</td>\n",
       "    </tr>\n",
       "  </tbody>\n",
       "</table>\n",
       "<p>39984 rows × 10 columns</p>\n",
       "</div>"
      ],
      "text/plain": [
       "        id_proposicao   uri_kind  author_id_num   prop_tag  auth_tag  \\\n",
       "0               15009  deputados          73538    P:15009   D:73538   \n",
       "1               15532  deputados          73910    P:15532   D:73910   \n",
       "2               15749  deputados          74316    P:15749   D:74316   \n",
       "3               15990     orgaos            262    P:15990     O:262   \n",
       "4               16481     orgaos             78    P:16481      O:78   \n",
       "...               ...        ...            ...        ...       ...   \n",
       "145504        2490092  deputados         220576  P:2490092  D:220576   \n",
       "145508        2521146  deputados         204572  P:2521146  D:204572   \n",
       "145509        2525011  deputados         160512  P:2525011  D:160512   \n",
       "145510        2529248  deputados         220547  P:2529248  D:220547   \n",
       "145511        2531284  deputados         204356  P:2531284  D:204356   \n",
       "\n",
       "          prop_label prop_category                       auth_label  \\\n",
       "0         PL 70/1995            PL           JOSÉ DE CASTRO COIMBRA   \n",
       "1        PL 505/1991            PL                PAULO RENATO PAIM   \n",
       "2        PL 693/1999            PL   JOÃO HENRIQUE DE ALMEIDA SOUSA   \n",
       "3        PL 887/1991            PL                   COMISSÃO MISTA   \n",
       "4       PL 1258/1995            PL                   SENADO FEDERAL   \n",
       "...              ...           ...                              ...   \n",
       "145504  PL 1239/2025            PL  ALFREDO GASPAR DE MENDONÇA NETO   \n",
       "145508  PL 2755/2025            PL   ALBERTO BARROS CAVALCANTE NETO   \n",
       "145509  PL 2833/2025            PL      AUREO LIDIO MOREIRA RIBEIRO   \n",
       "145510  PL 3127/2025            PL          MARCOS SBOROWSKI POLLON   \n",
       "145511  PL 3194/2025            PL      AMARO ROCHA NASCIMENTO NETO   \n",
       "\n",
       "       auth_category auth_supercategory  \n",
       "0           DEPUTADO             CÂMARA  \n",
       "1           DEPUTADO             CÂMARA  \n",
       "2           DEPUTADO             CÂMARA  \n",
       "3           COMISSÃO             CÂMARA  \n",
       "4             SENADO             SENADO  \n",
       "...              ...                ...  \n",
       "145504      DEPUTADO             CÂMARA  \n",
       "145508      DEPUTADO             CÂMARA  \n",
       "145509      DEPUTADO             CÂMARA  \n",
       "145510      DEPUTADO             CÂMARA  \n",
       "145511      DEPUTADO             CÂMARA  \n",
       "\n",
       "[39984 rows x 10 columns]"
      ]
     },
     "execution_count": 43,
     "metadata": {},
     "output_type": "execute_result"
    }
   ],
   "source": [
    "dedup_df = df.drop_duplicates(subset=['id_proposicao'], keep='first')\n",
    "dedup_df"
   ]
  },
  {
   "cell_type": "code",
   "execution_count": 44,
   "id": "e4b7dafb",
   "metadata": {},
   "outputs": [
    {
     "data": {
      "text/html": [
       "<div>\n",
       "<style scoped>\n",
       "    .dataframe tbody tr th:only-of-type {\n",
       "        vertical-align: middle;\n",
       "    }\n",
       "\n",
       "    .dataframe tbody tr th {\n",
       "        vertical-align: top;\n",
       "    }\n",
       "\n",
       "    .dataframe thead th {\n",
       "        text-align: right;\n",
       "    }\n",
       "</style>\n",
       "<table border=\"1\" class=\"dataframe\">\n",
       "  <thead>\n",
       "    <tr style=\"text-align: right;\">\n",
       "      <th>auth_supercategory</th>\n",
       "      <th>CÂMARA</th>\n",
       "      <th>OUTROS</th>\n",
       "      <th>PRESIDÊNCIA DA REPÚBLICA</th>\n",
       "      <th>SENADO</th>\n",
       "    </tr>\n",
       "    <tr>\n",
       "      <th>prop_category</th>\n",
       "      <th></th>\n",
       "      <th></th>\n",
       "      <th></th>\n",
       "      <th></th>\n",
       "    </tr>\n",
       "  </thead>\n",
       "  <tbody>\n",
       "    <tr>\n",
       "      <th>MPV</th>\n",
       "      <td>0</td>\n",
       "      <td>0</td>\n",
       "      <td>405</td>\n",
       "      <td>0</td>\n",
       "    </tr>\n",
       "    <tr>\n",
       "      <th>PEC</th>\n",
       "      <td>576</td>\n",
       "      <td>0</td>\n",
       "      <td>18</td>\n",
       "      <td>76</td>\n",
       "    </tr>\n",
       "    <tr>\n",
       "      <th>PL</th>\n",
       "      <td>36484</td>\n",
       "      <td>94</td>\n",
       "      <td>509</td>\n",
       "      <td>1822</td>\n",
       "    </tr>\n",
       "  </tbody>\n",
       "</table>\n",
       "</div>"
      ],
      "text/plain": [
       "auth_supercategory  CÂMARA  OUTROS  PRESIDÊNCIA DA REPÚBLICA  SENADO\n",
       "prop_category                                                       \n",
       "MPV                      0       0                       405       0\n",
       "PEC                    576       0                        18      76\n",
       "PL                   36484      94                       509    1822"
      ]
     },
     "execution_count": 44,
     "metadata": {},
     "output_type": "execute_result"
    }
   ],
   "source": [
    "pd.crosstab(dedup_df['prop_category'], dedup_df['auth_supercategory'])"
   ]
  },
  {
   "cell_type": "code",
   "execution_count": 45,
   "id": "04f74025",
   "metadata": {},
   "outputs": [
    {
     "data": {
      "text/plain": [
       "39984"
      ]
     },
     "execution_count": 45,
     "metadata": {},
     "output_type": "execute_result"
    }
   ],
   "source": [
    "len(dedup_df)"
   ]
  },
  {
   "cell_type": "code",
   "execution_count": 46,
   "id": "b2f4635a",
   "metadata": {},
   "outputs": [
    {
     "data": {
      "text/html": [
       "<div>\n",
       "<style scoped>\n",
       "    .dataframe tbody tr th:only-of-type {\n",
       "        vertical-align: middle;\n",
       "    }\n",
       "\n",
       "    .dataframe tbody tr th {\n",
       "        vertical-align: top;\n",
       "    }\n",
       "\n",
       "    .dataframe thead th {\n",
       "        text-align: right;\n",
       "    }\n",
       "</style>\n",
       "<table border=\"1\" class=\"dataframe\">\n",
       "  <thead>\n",
       "    <tr style=\"text-align: right;\">\n",
       "      <th></th>\n",
       "      <th>prop_tag</th>\n",
       "      <th>auth_tag</th>\n",
       "    </tr>\n",
       "  </thead>\n",
       "  <tbody>\n",
       "    <tr>\n",
       "      <th>0</th>\n",
       "      <td>P:15009</td>\n",
       "      <td>D:73538</td>\n",
       "    </tr>\n",
       "    <tr>\n",
       "      <th>1</th>\n",
       "      <td>P:15532</td>\n",
       "      <td>D:73910</td>\n",
       "    </tr>\n",
       "    <tr>\n",
       "      <th>2</th>\n",
       "      <td>P:15749</td>\n",
       "      <td>D:74316</td>\n",
       "    </tr>\n",
       "    <tr>\n",
       "      <th>3</th>\n",
       "      <td>P:15990</td>\n",
       "      <td>O:262</td>\n",
       "    </tr>\n",
       "    <tr>\n",
       "      <th>4</th>\n",
       "      <td>P:16481</td>\n",
       "      <td>O:78</td>\n",
       "    </tr>\n",
       "    <tr>\n",
       "      <th>...</th>\n",
       "      <td>...</td>\n",
       "      <td>...</td>\n",
       "    </tr>\n",
       "    <tr>\n",
       "      <th>146414</th>\n",
       "      <td>P:2264373</td>\n",
       "      <td>D:160508</td>\n",
       "    </tr>\n",
       "    <tr>\n",
       "      <th>146415</th>\n",
       "      <td>P:2266069</td>\n",
       "      <td>D:204503</td>\n",
       "    </tr>\n",
       "    <tr>\n",
       "      <th>146416</th>\n",
       "      <td>P:2266069</td>\n",
       "      <td>D:204501</td>\n",
       "    </tr>\n",
       "    <tr>\n",
       "      <th>146417</th>\n",
       "      <td>P:2266069</td>\n",
       "      <td>D:204495</td>\n",
       "    </tr>\n",
       "    <tr>\n",
       "      <th>146418</th>\n",
       "      <td>P:2266069</td>\n",
       "      <td>D:160508</td>\n",
       "    </tr>\n",
       "  </tbody>\n",
       "</table>\n",
       "<p>74076 rows × 2 columns</p>\n",
       "</div>"
      ],
      "text/plain": [
       "         prop_tag  auth_tag\n",
       "0         P:15009   D:73538\n",
       "1         P:15532   D:73910\n",
       "2         P:15749   D:74316\n",
       "3         P:15990     O:262\n",
       "4         P:16481      O:78\n",
       "...           ...       ...\n",
       "146414  P:2264373  D:160508\n",
       "146415  P:2266069  D:204503\n",
       "146416  P:2266069  D:204501\n",
       "146417  P:2266069  D:204495\n",
       "146418  P:2266069  D:160508\n",
       "\n",
       "[74076 rows x 2 columns]"
      ]
     },
     "execution_count": 46,
     "metadata": {},
     "output_type": "execute_result"
    }
   ],
   "source": [
    "df[['prop_tag', 'auth_tag']]"
   ]
  },
  {
   "cell_type": "code",
   "execution_count": 47,
   "id": "43ea4588",
   "metadata": {},
   "outputs": [],
   "source": [
    "df[['prop_tag', 'auth_tag']].to_csv(EDGES_CSV, index=False)"
   ]
  },
  {
   "cell_type": "code",
   "execution_count": 48,
   "id": "e4f56481",
   "metadata": {},
   "outputs": [
    {
     "data": {
      "text/html": [
       "<div>\n",
       "<style scoped>\n",
       "    .dataframe tbody tr th:only-of-type {\n",
       "        vertical-align: middle;\n",
       "    }\n",
       "\n",
       "    .dataframe tbody tr th {\n",
       "        vertical-align: top;\n",
       "    }\n",
       "\n",
       "    .dataframe thead th {\n",
       "        text-align: right;\n",
       "    }\n",
       "</style>\n",
       "<table border=\"1\" class=\"dataframe\">\n",
       "  <thead>\n",
       "    <tr style=\"text-align: right;\">\n",
       "      <th></th>\n",
       "      <th>tag</th>\n",
       "      <th>label</th>\n",
       "      <th>type</th>\n",
       "    </tr>\n",
       "  </thead>\n",
       "  <tbody>\n",
       "    <tr>\n",
       "      <th>0</th>\n",
       "      <td>P:15009</td>\n",
       "      <td>PL 70/1995</td>\n",
       "      <td>proposicao</td>\n",
       "    </tr>\n",
       "    <tr>\n",
       "      <th>1</th>\n",
       "      <td>P:15532</td>\n",
       "      <td>PL 505/1991</td>\n",
       "      <td>proposicao</td>\n",
       "    </tr>\n",
       "    <tr>\n",
       "      <th>2</th>\n",
       "      <td>P:15749</td>\n",
       "      <td>PL 693/1999</td>\n",
       "      <td>proposicao</td>\n",
       "    </tr>\n",
       "    <tr>\n",
       "      <th>3</th>\n",
       "      <td>P:15990</td>\n",
       "      <td>PL 887/1991</td>\n",
       "      <td>proposicao</td>\n",
       "    </tr>\n",
       "    <tr>\n",
       "      <th>4</th>\n",
       "      <td>P:16481</td>\n",
       "      <td>PL 1258/1995</td>\n",
       "      <td>proposicao</td>\n",
       "    </tr>\n",
       "  </tbody>\n",
       "</table>\n",
       "</div>"
      ],
      "text/plain": [
       "       tag         label        type\n",
       "0  P:15009    PL 70/1995  proposicao\n",
       "1  P:15532   PL 505/1991  proposicao\n",
       "2  P:15749   PL 693/1999  proposicao\n",
       "3  P:15990   PL 887/1991  proposicao\n",
       "4  P:16481  PL 1258/1995  proposicao"
      ]
     },
     "execution_count": 48,
     "metadata": {},
     "output_type": "execute_result"
    }
   ],
   "source": [
    "prop_node_df = df[['prop_tag', 'prop_label']].drop_duplicates()\n",
    "prop_node_df['type'] = \"proposicao\"\n",
    "prop_node_df.columns = ['tag', 'label', 'type']\n",
    "prop_node_df.head()"
   ]
  },
  {
   "cell_type": "code",
   "execution_count": 49,
   "id": "bea41c03",
   "metadata": {},
   "outputs": [
    {
     "data": {
      "text/html": [
       "<div>\n",
       "<style scoped>\n",
       "    .dataframe tbody tr th:only-of-type {\n",
       "        vertical-align: middle;\n",
       "    }\n",
       "\n",
       "    .dataframe tbody tr th {\n",
       "        vertical-align: top;\n",
       "    }\n",
       "\n",
       "    .dataframe thead th {\n",
       "        text-align: right;\n",
       "    }\n",
       "</style>\n",
       "<table border=\"1\" class=\"dataframe\">\n",
       "  <thead>\n",
       "    <tr style=\"text-align: right;\">\n",
       "      <th></th>\n",
       "      <th>tag</th>\n",
       "      <th>label</th>\n",
       "      <th>type</th>\n",
       "    </tr>\n",
       "  </thead>\n",
       "  <tbody>\n",
       "    <tr>\n",
       "      <th>0</th>\n",
       "      <td>D:73538</td>\n",
       "      <td>JOSÉ DE CASTRO COIMBRA</td>\n",
       "      <td>deputado</td>\n",
       "    </tr>\n",
       "    <tr>\n",
       "      <th>1</th>\n",
       "      <td>D:73910</td>\n",
       "      <td>PAULO RENATO PAIM</td>\n",
       "      <td>deputado</td>\n",
       "    </tr>\n",
       "    <tr>\n",
       "      <th>2</th>\n",
       "      <td>D:74316</td>\n",
       "      <td>JOÃO HENRIQUE DE ALMEIDA SOUSA</td>\n",
       "      <td>deputado</td>\n",
       "    </tr>\n",
       "    <tr>\n",
       "      <th>3</th>\n",
       "      <td>O:262</td>\n",
       "      <td>COMISSÃO MISTA</td>\n",
       "      <td>orgao</td>\n",
       "    </tr>\n",
       "    <tr>\n",
       "      <th>4</th>\n",
       "      <td>O:78</td>\n",
       "      <td>SENADO FEDERAL</td>\n",
       "      <td>orgao</td>\n",
       "    </tr>\n",
       "  </tbody>\n",
       "</table>\n",
       "</div>"
      ],
      "text/plain": [
       "       tag                           label      type\n",
       "0  D:73538          JOSÉ DE CASTRO COIMBRA  deputado\n",
       "1  D:73910               PAULO RENATO PAIM  deputado\n",
       "2  D:74316  JOÃO HENRIQUE DE ALMEIDA SOUSA  deputado\n",
       "3    O:262                  COMISSÃO MISTA     orgao\n",
       "4     O:78                  SENADO FEDERAL     orgao"
      ]
     },
     "execution_count": 49,
     "metadata": {},
     "output_type": "execute_result"
    }
   ],
   "source": [
    "auth_node_df = df[['auth_tag', 'auth_label']].drop_duplicates()\n",
    "auth_node_df['type'] = auth_node_df['auth_tag'].apply(lambda v: \"deputado\" if v[0] == \"D\" else \"orgao\")\n",
    "auth_node_df.columns = ['tag', 'label', 'type']\n",
    "auth_node_df.head()"
   ]
  },
  {
   "cell_type": "code",
   "execution_count": 50,
   "id": "f7a6516b",
   "metadata": {},
   "outputs": [
    {
     "data": {
      "text/html": [
       "<div>\n",
       "<style scoped>\n",
       "    .dataframe tbody tr th:only-of-type {\n",
       "        vertical-align: middle;\n",
       "    }\n",
       "\n",
       "    .dataframe tbody tr th {\n",
       "        vertical-align: top;\n",
       "    }\n",
       "\n",
       "    .dataframe thead th {\n",
       "        text-align: right;\n",
       "    }\n",
       "</style>\n",
       "<table border=\"1\" class=\"dataframe\">\n",
       "  <thead>\n",
       "    <tr style=\"text-align: right;\">\n",
       "      <th></th>\n",
       "      <th>tag</th>\n",
       "      <th>label</th>\n",
       "      <th>type</th>\n",
       "    </tr>\n",
       "  </thead>\n",
       "  <tbody>\n",
       "    <tr>\n",
       "      <th>0</th>\n",
       "      <td>D:73538</td>\n",
       "      <td>JOSÉ DE CASTRO COIMBRA</td>\n",
       "      <td>deputado</td>\n",
       "    </tr>\n",
       "    <tr>\n",
       "      <th>1</th>\n",
       "      <td>D:73910</td>\n",
       "      <td>PAULO RENATO PAIM</td>\n",
       "      <td>deputado</td>\n",
       "    </tr>\n",
       "    <tr>\n",
       "      <th>2</th>\n",
       "      <td>D:74316</td>\n",
       "      <td>JOÃO HENRIQUE DE ALMEIDA SOUSA</td>\n",
       "      <td>deputado</td>\n",
       "    </tr>\n",
       "    <tr>\n",
       "      <th>3</th>\n",
       "      <td>O:262</td>\n",
       "      <td>COMISSÃO MISTA</td>\n",
       "      <td>orgao</td>\n",
       "    </tr>\n",
       "    <tr>\n",
       "      <th>4</th>\n",
       "      <td>O:78</td>\n",
       "      <td>SENADO FEDERAL</td>\n",
       "      <td>orgao</td>\n",
       "    </tr>\n",
       "    <tr>\n",
       "      <th>...</th>\n",
       "      <td>...</td>\n",
       "      <td>...</td>\n",
       "      <td>...</td>\n",
       "    </tr>\n",
       "    <tr>\n",
       "      <th>42232</th>\n",
       "      <td>P:2490092</td>\n",
       "      <td>PL 1239/2025</td>\n",
       "      <td>proposicao</td>\n",
       "    </tr>\n",
       "    <tr>\n",
       "      <th>42233</th>\n",
       "      <td>P:2521146</td>\n",
       "      <td>PL 2755/2025</td>\n",
       "      <td>proposicao</td>\n",
       "    </tr>\n",
       "    <tr>\n",
       "      <th>42234</th>\n",
       "      <td>P:2525011</td>\n",
       "      <td>PL 2833/2025</td>\n",
       "      <td>proposicao</td>\n",
       "    </tr>\n",
       "    <tr>\n",
       "      <th>42235</th>\n",
       "      <td>P:2529248</td>\n",
       "      <td>PL 3127/2025</td>\n",
       "      <td>proposicao</td>\n",
       "    </tr>\n",
       "    <tr>\n",
       "      <th>42236</th>\n",
       "      <td>P:2531284</td>\n",
       "      <td>PL 3194/2025</td>\n",
       "      <td>proposicao</td>\n",
       "    </tr>\n",
       "  </tbody>\n",
       "</table>\n",
       "<p>42237 rows × 3 columns</p>\n",
       "</div>"
      ],
      "text/plain": [
       "             tag                           label        type\n",
       "0        D:73538          JOSÉ DE CASTRO COIMBRA    deputado\n",
       "1        D:73910               PAULO RENATO PAIM    deputado\n",
       "2        D:74316  JOÃO HENRIQUE DE ALMEIDA SOUSA    deputado\n",
       "3          O:262                  COMISSÃO MISTA       orgao\n",
       "4           O:78                  SENADO FEDERAL       orgao\n",
       "...          ...                             ...         ...\n",
       "42232  P:2490092                    PL 1239/2025  proposicao\n",
       "42233  P:2521146                    PL 2755/2025  proposicao\n",
       "42234  P:2525011                    PL 2833/2025  proposicao\n",
       "42235  P:2529248                    PL 3127/2025  proposicao\n",
       "42236  P:2531284                    PL 3194/2025  proposicao\n",
       "\n",
       "[42237 rows x 3 columns]"
      ]
     },
     "execution_count": 50,
     "metadata": {},
     "output_type": "execute_result"
    }
   ],
   "source": [
    "node_df = pd.concat([auth_node_df, prop_node_df]).reset_index(drop=True)\n",
    "node_df"
   ]
  },
  {
   "cell_type": "code",
   "execution_count": 51,
   "id": "fe079467",
   "metadata": {},
   "outputs": [],
   "source": [
    "node_df.to_csv(NODES_CSV, index=False)"
   ]
  },
  {
   "cell_type": "markdown",
   "id": "bda238da",
   "metadata": {},
   "source": [
    "# Montagem dos grafos\n"
   ]
  },
  {
   "cell_type": "code",
   "execution_count": 52,
   "id": "49947ed0",
   "metadata": {},
   "outputs": [],
   "source": [
    "nodes_df = pd.read_csv(NODES_CSV)\n",
    "edges_df = pd.read_csv(EDGES_CSV)"
   ]
  },
  {
   "cell_type": "code",
   "execution_count": 53,
   "id": "b2ce6619",
   "metadata": {},
   "outputs": [],
   "source": [
    "G = nx.Graph()\n",
    "\n",
    "for _, r in nodes_df.iterrows():\n",
    "    G.add_node(\n",
    "        r['tag'],\n",
    "        label=r['label'],\n",
    "        ntype=r['type'],\n",
    "    )"
   ]
  },
  {
   "cell_type": "code",
   "execution_count": 54,
   "id": "4ad1f7bc",
   "metadata": {},
   "outputs": [],
   "source": [
    "for _, r in edges_df.iterrows():\n",
    "    p, a = r['prop_tag'], r['auth_tag']\n",
    "    G.add_edge(a, p, etype=\"autoria\")"
   ]
  },
  {
   "cell_type": "code",
   "execution_count": 55,
   "id": "33b29c44",
   "metadata": {},
   "outputs": [
    {
     "data": {
      "text/plain": [
       "(42237, 74076)"
      ]
     },
     "execution_count": 55,
     "metadata": {},
     "output_type": "execute_result"
    }
   ],
   "source": [
    "G.number_of_nodes(), G.number_of_edges()"
   ]
  },
  {
   "cell_type": "markdown",
   "id": "dcb6bede",
   "metadata": {},
   "source": [
    "# Geração dos gráficos"
   ]
  },
  {
   "cell_type": "code",
   "execution_count": 56,
   "id": "48f373be",
   "metadata": {},
   "outputs": [
    {
     "data": {
      "image/png": "[encoded data removed]",
      "text/plain": [
       "<Figure size 1050x750 with 1 Axes>"
      ]
     },
     "metadata": {},
     "output_type": "display_data"
    }
   ],
   "source": [
    "\n",
    "\n",
    "# Split nodes\n",
    "bill_nodes   = [n for n, d in G.nodes(data=True) if n.startswith(\"P\")]\n",
    "author_nodes = [n for n, d in G.nodes(data=True) if n.startswith((\"D\", \"O\"))]\n",
    "\n",
    "# Degree distributions\n",
    "deg_bills   = Counter(dict(G.degree(bill_nodes)).values())\n",
    "deg_authors = Counter(dict(G.degree(author_nodes)).values())\n",
    "\n",
    "xs_b = sorted(deg_bills.keys())\n",
    "ys_b = [deg_bills[x] for x in xs_b]\n",
    "\n",
    "xs_a = sorted(deg_authors.keys())\n",
    "ys_a = [deg_authors[x] for x in xs_a]\n",
    "\n",
    "\n",
    "plt.figure(figsize=(7,5))\n",
    "\n",
    "# Bills: circles\n",
    "plt.scatter(xs_b, ys_b, marker=\"o\", s=30, alpha=0.9, label=\"Proposições\")\n",
    "\n",
    "# Authors: triangles\n",
    "plt.scatter(xs_a, ys_a, marker=\"^\", s=36, alpha=0.9, label=\"Autores\")\n",
    "\n",
    "plt.xscale(\"log\")\n",
    "plt.yscale(\"log\")\n",
    "plt.xlabel(\"Grau (escala log)\")\n",
    "plt.ylabel(\"Nº de vértices (escala log)\")\n",
    "plt.title(\"Distribuição de graus: Câmara dos Deputados\")\n",
    "plt.legend()\n",
    "plt.tight_layout()\n",
    "plt.show()\n"
   ]
  },
  {
   "cell_type": "code",
   "execution_count": 57,
   "id": "6db7a70a",
   "metadata": {},
   "outputs": [
    {
     "data": {
      "image/png": "[encoded data removed]",
      "text/plain": [
       "<Figure size 900x600 with 1 Axes>"
      ]
     },
     "metadata": {},
     "output_type": "display_data"
    }
   ],
   "source": [
    "ccs = list(nx.connected_components(G))\n",
    "cc_sizes = [len(cc) for cc in ccs]\n",
    "cc_size_dist = Counter(cc_sizes)\n",
    "xs = sorted(cc_size_dist.keys())\n",
    "ys = [cc_size_dist[x] for x in xs]\n",
    "plt.figure(figsize=(6,4))\n",
    "plt.scatter(xs, ys)\n",
    "plt.xlabel(\"Nº de vértices por comp. conectado (escala log)\")\n",
    "plt.ylabel(\"Nº de comp. conectados com esse\\nnúmero de vértices (escala log)\")\n",
    "plt.xscale(\"log\")\n",
    "plt.yscale(\"log\")\n",
    "plt.title(\"Cardinalidade de componentes conectados:\\nCâmara dos Deputados\")\n",
    "plt.tight_layout()\n",
    "plt.show()"
   ]
  },
  {
   "cell_type": "code",
   "execution_count": 58,
   "id": "337a232d",
   "metadata": {},
   "outputs": [
    {
     "name": "stdout",
     "output_type": "stream",
     "text": [
      "|V| = 42237\n",
      "|E| = 74076\n",
      "<k> = 3.507635485474821\n",
      "ccs = 530\n"
     ]
    }
   ],
   "source": [
    "V = G.number_of_nodes()\n",
    "E = G.number_of_edges()\n",
    "k = 2 * E / V\n",
    "print(f\"|V| = {V}\")\n",
    "print(f\"|E| = {E}\")\n",
    "print(f\"<k> = {k}\")\n",
    "print(f\"ccs = {len(ccs)}\")\n"
   ]
  },
  {
   "cell_type": "code",
   "execution_count": 59,
   "id": "33313360",
   "metadata": {},
   "outputs": [],
   "source": [
    "conn.close()"
   ]
  },
  {
   "cell_type": "code",
   "execution_count": 61,
   "id": "6bcca3c3",
   "metadata": {},
   "outputs": [],
   "source": [
    "df.to_pickle(\"camara.pkl\")"
   ]
  },
  {
   "cell_type": "code",
   "execution_count": null,
   "id": "9b46ef82",
   "metadata": {},
   "outputs": [],
   "source": []
  }
 ],
 "metadata": {
  "kernelspec": {
   "display_name": "venv",
   "language": "python",
   "name": "python3"
  },
  "language_info": {
   "codemirror_mode": {
    "name": "ipython",
    "version": 3
   },
   "file_extension": ".py",
   "mimetype": "text/x-python",
   "name": "python",
   "nbconvert_exporter": "python",
   "pygments_lexer": "ipython3",
   "version": "3.13.7"
  }
 },
 "nbformat": 4,
 "nbformat_minor": 5
}
