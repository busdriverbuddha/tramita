{
 "cells": [
  {
   "cell_type": "code",
   "execution_count": 1,
   "id": "5d5c2ffc",
   "metadata": {},
   "outputs": [
    {
     "data": {
      "text/html": [
       "<span style=\"None\">Tip: You may define configurations in /home/c-cc2016/ra173608/tramita/pyproject.toml or /home/c-cc2016/ra173608/.jupysql/config. </span>"
      ],
      "text/plain": [
       "Tip: You may define configurations in /home/c-cc2016/ra173608/tramita/pyproject.toml or /home/c-cc2016/ra173608/.jupysql/config. "
      ]
     },
     "metadata": {},
     "output_type": "display_data"
    },
    {
     "data": {
      "text/html": [
       "Please review our <a href='https://jupysql.ploomber.io/en/latest/api/configuration.html#loading-from-a-file'>configuration guideline</a>."
      ],
      "text/plain": [
       "<IPython.core.display.HTML object>"
      ]
     },
     "metadata": {},
     "output_type": "display_data"
    },
    {
     "data": {
      "text/html": [
       "<span style=\"None\">Did not find user configurations in /home/c-cc2016/ra173608/tramita/pyproject.toml.</span>"
      ],
      "text/plain": [
       "Did not find user configurations in /home/c-cc2016/ra173608/tramita/pyproject.toml."
      ]
     },
     "metadata": {},
     "output_type": "display_data"
    }
   ],
   "source": [
    "import os\n",
    "import duckdb\n",
    "import networkx as nx\n",
    "import matplotlib.pyplot as plt\n",
    "from pathlib import Path\n",
    "import pandas as pd\n",
    "\n",
    "%load_ext sql\n",
    "\n",
    "from dotenv import load_dotenv\n",
    "\n",
    "load_dotenv()\n",
    "\n",
    "DB_PATH = Path(\".\").absolute().parent / Path(os.getenv(\"SILVER_DUCKDB_PATH\", \"\"))\n",
    "\n",
    "TMP_DIR = \"/tmp/duckdb_tmp\"  # make sure it exists\n",
    "\n",
    "OUT_DIR = Path(\"outputs\")\n",
    "OUT_DIR.mkdir(exist_ok=True)\n",
    "\n",
    "conn = duckdb.connect(DB_PATH)\n",
    "\n",
    "conn.execute(f\"SET temp_directory='{TMP_DIR}'\")\n",
    "conn.execute(\"SET memory_limit='50GB'\")\n",
    "conn.execute(\"SET threads=1\")\n",
    "conn.execute(\"SET preserve_insertion_order=false\")\n",
    "\n",
    "plt.rcParams[\"figure.dpi\"] = 150\n",
    "plt.rcParams[\"figure.figsize\"] = (6, 4)\n",
    "\n",
    "%sql conn --alias duck"
   ]
  },
  {
   "cell_type": "code",
   "execution_count": 3,
   "id": "0bbb20d6",
   "metadata": {
    "vscode": {
     "languageId": "sql"
    }
   },
   "outputs": [
    {
     "data": {
      "text/html": [
       "<span style=\"None\">Running query in &#x27;duck&#x27;</span>"
      ],
      "text/plain": [
       "Running query in 'duck'"
      ]
     },
     "metadata": {},
     "output_type": "display_data"
    },
    {
     "data": {
      "text/html": [
       "<table>\n",
       "    <thead>\n",
       "        <tr>\n",
       "            <th>id_autoria_iniciativa</th>\n",
       "            <th>id_processo</th>\n",
       "            <th>codigo_parlamentar</th>\n",
       "            <th>descricao_tipo</th>\n",
       "            <th>ente</th>\n",
       "            <th>ordem</th>\n",
       "            <th>outros_autores_nao_informados</th>\n",
       "            <th>sigla_ente</th>\n",
       "            <th>sigla_tipo</th>\n",
       "            <th>year_snapshot</th>\n",
       "        </tr>\n",
       "    </thead>\n",
       "    <tbody>\n",
       "        <tr>\n",
       "            <td>1</td>\n",
       "            <td>2526458</td>\n",
       "            <td>None</td>\n",
       "            <td>PRESIDENTE_REPUBLICA</td>\n",
       "            <td>Presidência da República</td>\n",
       "            <td>1</td>\n",
       "            <td>Não</td>\n",
       "            <td>PR</td>\n",
       "            <td>PRESIDENTE_REPUBLICA</td>\n",
       "            <td>2001</td>\n",
       "        </tr>\n",
       "        <tr>\n",
       "            <td>2</td>\n",
       "            <td>663587</td>\n",
       "            <td>825</td>\n",
       "            <td>SENADOR</td>\n",
       "            <td>Senado Federal</td>\n",
       "            <td>1</td>\n",
       "            <td>Não</td>\n",
       "            <td>SF</td>\n",
       "            <td>SENADOR</td>\n",
       "            <td>2005</td>\n",
       "        </tr>\n",
       "        <tr>\n",
       "            <td>3</td>\n",
       "            <td>1066060</td>\n",
       "            <td>None</td>\n",
       "            <td>COMISSAO_CAMARA</td>\n",
       "            <td>Comissão de Ciência e Tecnologia, Comunicação e Informática</td>\n",
       "            <td>1</td>\n",
       "            <td>Não</td>\n",
       "            <td>CCTCI</td>\n",
       "            <td>COMISSAO_CAMARA</td>\n",
       "            <td>2007</td>\n",
       "        </tr>\n",
       "        <tr>\n",
       "            <td>4</td>\n",
       "            <td>2978567</td>\n",
       "            <td>825</td>\n",
       "            <td>SENADOR</td>\n",
       "            <td>Senado Federal</td>\n",
       "            <td>1</td>\n",
       "            <td>Não</td>\n",
       "            <td>SF</td>\n",
       "            <td>SENADOR</td>\n",
       "            <td>2007</td>\n",
       "        </tr>\n",
       "        <tr>\n",
       "            <td>5</td>\n",
       "            <td>2968939</td>\n",
       "            <td>825</td>\n",
       "            <td>SENADOR</td>\n",
       "            <td>Senado Federal</td>\n",
       "            <td>1</td>\n",
       "            <td>Não</td>\n",
       "            <td>SF</td>\n",
       "            <td>SENADOR</td>\n",
       "            <td>2008</td>\n",
       "        </tr>\n",
       "    </tbody>\n",
       "</table>"
      ],
      "text/plain": [
       "+-----------------------+-------------+--------------------+----------------------+-------------------------------------------------------------+-------+-------------------------------+------------+----------------------+---------------+\n",
       "| id_autoria_iniciativa | id_processo | codigo_parlamentar |    descricao_tipo    |                             ente                            | ordem | outros_autores_nao_informados | sigla_ente |      sigla_tipo      | year_snapshot |\n",
       "+-----------------------+-------------+--------------------+----------------------+-------------------------------------------------------------+-------+-------------------------------+------------+----------------------+---------------+\n",
       "|           1           |   2526458   |        None        | PRESIDENTE_REPUBLICA |                   Presidência da República                  |   1   |              Não              |     PR     | PRESIDENTE_REPUBLICA |      2001     |\n",
       "|           2           |    663587   |        825         |       SENADOR        |                        Senado Federal                       |   1   |              Não              |     SF     |       SENADOR        |      2005     |\n",
       "|           3           |   1066060   |        None        |   COMISSAO_CAMARA    | Comissão de Ciência e Tecnologia, Comunicação e Informática |   1   |              Não              |   CCTCI    |   COMISSAO_CAMARA    |      2007     |\n",
       "|           4           |   2978567   |        825         |       SENADOR        |                        Senado Federal                       |   1   |              Não              |     SF     |       SENADOR        |      2007     |\n",
       "|           5           |   2968939   |        825         |       SENADOR        |                        Senado Federal                       |   1   |              Não              |     SF     |       SENADOR        |      2008     |\n",
       "+-----------------------+-------------+--------------------+----------------------+-------------------------------------------------------------+-------+-------------------------------+------------+----------------------+---------------+"
      ]
     },
     "execution_count": 3,
     "metadata": {},
     "output_type": "execute_result"
    }
   ],
   "source": [
    "%%sql\n",
    "SELECT * FROM autoria_iniciativa_senado LIMIT 5;"
   ]
  },
  {
   "cell_type": "code",
   "execution_count": 7,
   "id": "bd16de1f",
   "metadata": {
    "vscode": {
     "languageId": "sql"
    }
   },
   "outputs": [
    {
     "data": {
      "text/html": [
       "<span style=\"None\">Running query in &#x27;duck&#x27;</span>"
      ],
      "text/plain": [
       "Running query in 'duck'"
      ]
     },
     "metadata": {},
     "output_type": "display_data"
    },
    {
     "data": {
      "text/html": [
       "<table>\n",
       "    <thead>\n",
       "        <tr>\n",
       "            <th>Count</th>\n",
       "        </tr>\n",
       "    </thead>\n",
       "    <tbody>\n",
       "    </tbody>\n",
       "</table>"
      ],
      "text/plain": [
       "+-------+\n",
       "| Count |\n",
       "+-------+\n",
       "+-------+"
      ]
     },
     "execution_count": 7,
     "metadata": {},
     "output_type": "execute_result"
    }
   ],
   "source": [
    "%%sql\n",
    "DROP VIEW IF EXISTS autoria_iniciativa_senado_norm;\n",
    "\n",
    "CREATE VIEW autoria_iniciativa_senado_norm AS\n",
    "WITH base AS (\n",
    "  SELECT\n",
    "    id_autoria_iniciativa,\n",
    "    id_processo,\n",
    "    descricao_tipo,\n",
    "    ente,\n",
    "    ordem,\n",
    "    outros_autores_nao_informados,\n",
    "    UPPER(NULLIF(TRIM(sigla_ente), ''))  AS sigla_ente_norm,\n",
    "    UPPER(NULLIF(TRIM(sigla_tipo), ''))  AS sigla_tipo_norm,\n",
    "    TRY_CAST(codigo_parlamentar AS BIGINT) AS codigo_parlamentar_num,\n",
    "    year_snapshot\n",
    "  FROM autoria_iniciativa_senado\n",
    "),\n",
    "typed AS (\n",
    "  SELECT\n",
    "    b.*,\n",
    "\n",
    "    CASE\n",
    "      WHEN COALESCE(outros_autores_nao_informados, '') ILIKE 'Sim'\n",
    "        THEN 'nao_informado'\n",
    "      WHEN codigo_parlamentar_num IS NOT NULL\n",
    "        THEN 'parlamentar'\n",
    "      ELSE 'ente'\n",
    "    END AS author_type,\n",
    "\n",
    "    /* Decide the chamber for parlamentares */\n",
    "    CASE\n",
    "      WHEN codigo_parlamentar_num IS NULL\n",
    "        THEN NULL\n",
    "      WHEN UPPER(TRIM(descricao_tipo)) = 'SENADOR'\n",
    "        THEN 'S'\n",
    "      WHEN UPPER(TRIM(descricao_tipo)) IN ('DEPUTADO','DEPUTADA')\n",
    "        THEN 'D'\n",
    "      WHEN sigla_ente_norm = 'SF'\n",
    "        THEN 'S'\n",
    "      WHEN sigla_ente_norm = 'CD'\n",
    "        THEN 'D'\n",
    "      ELSE 'S'  -- fallback (tweak if you want to bias to D)\n",
    "    END AS parl_chamber,\n",
    "\n",
    "    /* Effective ente sigla for non-parlamentares */\n",
    "    COALESCE(sigla_ente_norm, sigla_tipo_norm) AS ente_sigla_effective\n",
    "  FROM base b\n",
    ")\n",
    "SELECT\n",
    "  id_autoria_iniciativa,\n",
    "  id_processo,\n",
    "\n",
    "  /* 'parlamentar' | 'ente' | 'nao_informado' */\n",
    "  author_type,\n",
    "\n",
    "  /* For convenience: 'senador' | 'deputado' | NULL */\n",
    "  CASE\n",
    "    WHEN author_type = 'parlamentar' AND parl_chamber = 'S' THEN 'senador'\n",
    "    WHEN author_type = 'parlamentar' AND parl_chamber = 'D' THEN 'deputado'\n",
    "    ELSE NULL\n",
    "  END AS author_subtype,\n",
    "\n",
    "  descricao_tipo,\n",
    "  ente,\n",
    "  ordem,\n",
    "  year_snapshot,\n",
    "\n",
    "  /* Typed fields for each branch */\n",
    "  codigo_parlamentar_num AS autor_codigo_parlamentar,\n",
    "  ente_sigla_effective   AS autor_sigla_ente,\n",
    "\n",
    "  /* Canonical author key/tag */\n",
    "  CASE\n",
    "    WHEN author_type = 'parlamentar' AND parl_chamber = 'S'\n",
    "      THEN 'S:' || CAST(codigo_parlamentar_num AS VARCHAR)\n",
    "    WHEN author_type = 'parlamentar' AND parl_chamber = 'D'\n",
    "      THEN 'D:' || CAST(codigo_parlamentar_num AS VARCHAR)\n",
    "    WHEN author_type = 'nao_informado'\n",
    "      THEN 'E:OUTROS'\n",
    "    ELSE 'E:' || ente_sigla_effective\n",
    "  END AS author_key\n",
    "FROM typed\n",
    "WHERE author_type <> 'nao_informado' OR ente_sigla_effective IS NOT NULL;\n"
   ]
  },
  {
   "cell_type": "code",
   "execution_count": 9,
   "id": "f84d1d0e",
   "metadata": {
    "vscode": {
     "languageId": "sql"
    }
   },
   "outputs": [
    {
     "data": {
      "text/html": [
       "<span style=\"None\">Running query in &#x27;duck&#x27;</span>"
      ],
      "text/plain": [
       "Running query in 'duck'"
      ]
     },
     "metadata": {},
     "output_type": "display_data"
    },
    {
     "data": {
      "text/html": [
       "<table>\n",
       "    <thead>\n",
       "        <tr>\n",
       "            <th>id_autoria_iniciativa</th>\n",
       "            <th>id_processo</th>\n",
       "            <th>author_type</th>\n",
       "            <th>author_subtype</th>\n",
       "            <th>descricao_tipo</th>\n",
       "            <th>ente</th>\n",
       "            <th>ordem</th>\n",
       "            <th>year_snapshot</th>\n",
       "            <th>autor_codigo_parlamentar</th>\n",
       "            <th>autor_sigla_ente</th>\n",
       "            <th>author_key</th>\n",
       "        </tr>\n",
       "    </thead>\n",
       "    <tbody>\n",
       "        <tr>\n",
       "            <td>11</td>\n",
       "            <td>2958548</td>\n",
       "            <td>parlamentar</td>\n",
       "            <td>deputado</td>\n",
       "            <td>DEPUTADO</td>\n",
       "            <td>Câmara dos Deputados</td>\n",
       "            <td>1</td>\n",
       "            <td>2010</td>\n",
       "            <td>3877</td>\n",
       "            <td>CD</td>\n",
       "            <td>D:3877</td>\n",
       "        </tr>\n",
       "        <tr>\n",
       "            <td>15</td>\n",
       "            <td>516008</td>\n",
       "            <td>parlamentar</td>\n",
       "            <td>deputado</td>\n",
       "            <td>DEPUTADO</td>\n",
       "            <td>Câmara dos Deputados</td>\n",
       "            <td>1</td>\n",
       "            <td>2011</td>\n",
       "            <td>811</td>\n",
       "            <td>CD</td>\n",
       "            <td>D:811</td>\n",
       "        </tr>\n",
       "        <tr>\n",
       "            <td>16</td>\n",
       "            <td>516203</td>\n",
       "            <td>parlamentar</td>\n",
       "            <td>deputado</td>\n",
       "            <td>DEPUTADO</td>\n",
       "            <td>Câmara dos Deputados</td>\n",
       "            <td>1</td>\n",
       "            <td>2011</td>\n",
       "            <td>811</td>\n",
       "            <td>CD</td>\n",
       "            <td>D:811</td>\n",
       "        </tr>\n",
       "        <tr>\n",
       "            <td>51</td>\n",
       "            <td>2944571</td>\n",
       "            <td>parlamentar</td>\n",
       "            <td>deputado</td>\n",
       "            <td>DEPUTADO</td>\n",
       "            <td>Câmara dos Deputados</td>\n",
       "            <td>1</td>\n",
       "            <td>2011</td>\n",
       "            <td>528</td>\n",
       "            <td>CD</td>\n",
       "            <td>D:528</td>\n",
       "        </tr>\n",
       "        <tr>\n",
       "            <td>55</td>\n",
       "            <td>2947243</td>\n",
       "            <td>parlamentar</td>\n",
       "            <td>deputado</td>\n",
       "            <td>DEPUTADO</td>\n",
       "            <td>Câmara dos Deputados</td>\n",
       "            <td>1</td>\n",
       "            <td>2011</td>\n",
       "            <td>811</td>\n",
       "            <td>CD</td>\n",
       "            <td>D:811</td>\n",
       "        </tr>\n",
       "        <tr>\n",
       "            <td>76</td>\n",
       "            <td>513827</td>\n",
       "            <td>parlamentar</td>\n",
       "            <td>deputado</td>\n",
       "            <td>DEPUTADO</td>\n",
       "            <td>Câmara dos Deputados</td>\n",
       "            <td>1</td>\n",
       "            <td>2012</td>\n",
       "            <td>4272</td>\n",
       "            <td>CD</td>\n",
       "            <td>D:4272</td>\n",
       "        </tr>\n",
       "        <tr>\n",
       "            <td>91</td>\n",
       "            <td>2936208</td>\n",
       "            <td>parlamentar</td>\n",
       "            <td>deputado</td>\n",
       "            <td>DEPUTADO</td>\n",
       "            <td>Câmara dos Deputados</td>\n",
       "            <td>1</td>\n",
       "            <td>2012</td>\n",
       "            <td>811</td>\n",
       "            <td>CD</td>\n",
       "            <td>D:811</td>\n",
       "        </tr>\n",
       "        <tr>\n",
       "            <td>99</td>\n",
       "            <td>2939135</td>\n",
       "            <td>parlamentar</td>\n",
       "            <td>deputado</td>\n",
       "            <td>DEPUTADO</td>\n",
       "            <td>Câmara dos Deputados</td>\n",
       "            <td>1</td>\n",
       "            <td>2012</td>\n",
       "            <td>811</td>\n",
       "            <td>CD</td>\n",
       "            <td>D:811</td>\n",
       "        </tr>\n",
       "        <tr>\n",
       "            <td>105</td>\n",
       "            <td>3042433</td>\n",
       "            <td>parlamentar</td>\n",
       "            <td>deputado</td>\n",
       "            <td>DEPUTADO</td>\n",
       "            <td>Câmara dos Deputados</td>\n",
       "            <td>1</td>\n",
       "            <td>2012</td>\n",
       "            <td>3814</td>\n",
       "            <td>CD</td>\n",
       "            <td>D:3814</td>\n",
       "        </tr>\n",
       "        <tr>\n",
       "            <td>106</td>\n",
       "            <td>511411</td>\n",
       "            <td>parlamentar</td>\n",
       "            <td>deputado</td>\n",
       "            <td>DEPUTADO</td>\n",
       "            <td>Câmara dos Deputados</td>\n",
       "            <td>1</td>\n",
       "            <td>2013</td>\n",
       "            <td>1237</td>\n",
       "            <td>CD</td>\n",
       "            <td>D:1237</td>\n",
       "        </tr>\n",
       "    </tbody>\n",
       "</table>\n",
       "<span style=\"font-style:italic;text-align:center;\">Truncated to <a href=\"https://jupysql.ploomber.io/en/latest/api/configuration.html#displaylimit\">displaylimit</a> of 10.</span>"
      ],
      "text/plain": [
       "+-----------------------+-------------+-------------+----------------+----------------+----------------------+-------+---------------+--------------------------+------------------+------------+\n",
       "| id_autoria_iniciativa | id_processo | author_type | author_subtype | descricao_tipo |         ente         | ordem | year_snapshot | autor_codigo_parlamentar | autor_sigla_ente | author_key |\n",
       "+-----------------------+-------------+-------------+----------------+----------------+----------------------+-------+---------------+--------------------------+------------------+------------+\n",
       "|           11          |   2958548   | parlamentar |    deputado    |    DEPUTADO    | Câmara dos Deputados |   1   |      2010     |           3877           |        CD        |   D:3877   |\n",
       "|           15          |    516008   | parlamentar |    deputado    |    DEPUTADO    | Câmara dos Deputados |   1   |      2011     |           811            |        CD        |   D:811    |\n",
       "|           16          |    516203   | parlamentar |    deputado    |    DEPUTADO    | Câmara dos Deputados |   1   |      2011     |           811            |        CD        |   D:811    |\n",
       "|           51          |   2944571   | parlamentar |    deputado    |    DEPUTADO    | Câmara dos Deputados |   1   |      2011     |           528            |        CD        |   D:528    |\n",
       "|           55          |   2947243   | parlamentar |    deputado    |    DEPUTADO    | Câmara dos Deputados |   1   |      2011     |           811            |        CD        |   D:811    |\n",
       "|           76          |    513827   | parlamentar |    deputado    |    DEPUTADO    | Câmara dos Deputados |   1   |      2012     |           4272           |        CD        |   D:4272   |\n",
       "|           91          |   2936208   | parlamentar |    deputado    |    DEPUTADO    | Câmara dos Deputados |   1   |      2012     |           811            |        CD        |   D:811    |\n",
       "|           99          |   2939135   | parlamentar |    deputado    |    DEPUTADO    | Câmara dos Deputados |   1   |      2012     |           811            |        CD        |   D:811    |\n",
       "|          105          |   3042433   | parlamentar |    deputado    |    DEPUTADO    | Câmara dos Deputados |   1   |      2012     |           3814           |        CD        |   D:3814   |\n",
       "|          106          |    511411   | parlamentar |    deputado    |    DEPUTADO    | Câmara dos Deputados |   1   |      2013     |           1237           |        CD        |   D:1237   |\n",
       "+-----------------------+-------------+-------------+----------------+----------------+----------------------+-------+---------------+--------------------------+------------------+------------+\n",
       "Truncated to displaylimit of 10."
      ]
     },
     "execution_count": 9,
     "metadata": {},
     "output_type": "execute_result"
    }
   ],
   "source": [
    "%%sql\n",
    "SELECT * FROM autoria_iniciativa_senado_norm WHERE author_subtype = 'deputado' LIMIT 10;"
   ]
  },
  {
   "cell_type": "code",
   "execution_count": 10,
   "id": "753dc350",
   "metadata": {
    "vscode": {
     "languageId": "sql"
    }
   },
   "outputs": [
    {
     "data": {
      "text/html": [
       "<span style=\"None\">Running query in &#x27;duck&#x27;</span>"
      ],
      "text/plain": [
       "Running query in 'duck'"
      ]
     },
     "metadata": {},
     "output_type": "display_data"
    },
    {
     "data": {
      "text/html": [
       "<table>\n",
       "    <thead>\n",
       "        <tr>\n",
       "            <th>ok_zero_orphans</th>\n",
       "        </tr>\n",
       "    </thead>\n",
       "    <tbody>\n",
       "        <tr>\n",
       "            <td>inf</td>\n",
       "        </tr>\n",
       "    </tbody>\n",
       "</table>"
      ],
      "text/plain": [
       "+-----------------+\n",
       "| ok_zero_orphans |\n",
       "+-----------------+\n",
       "|       inf       |\n",
       "+-----------------+"
      ]
     },
     "execution_count": 10,
     "metadata": {},
     "output_type": "execute_result"
    }
   ],
   "source": [
    "%%sql\n",
    "WITH candidate_ids AS (\n",
    "  SELECT DISTINCT autor_codigo_parlamentar AS codigo_parlamentar\n",
    "  FROM autoria_iniciativa_senado_norm\n",
    "  WHERE author_subtype = 'senador'      -- only senators\n",
    "    AND autor_codigo_parlamentar IS NOT NULL\n",
    "),\n",
    "orphan_ids AS (\n",
    "  SELECT c.codigo_parlamentar\n",
    "  FROM candidate_ids c\n",
    "  LEFT JOIN parlamentar_senado p\n",
    "    ON p.codigo_parlamentar = c.codigo_parlamentar\n",
    "  WHERE p.codigo_parlamentar IS NULL\n",
    "),\n",
    "cnt AS (\n",
    "  SELECT COUNT(*) AS n FROM orphan_ids\n",
    ")\n",
    "-- returns 1 if OK; raises divide-by-zero error if any orphan exists\n",
    "SELECT 1 / (CASE WHEN n = 0 THEN 1 ELSE 0 END) AS ok_zero_orphans\n",
    "FROM cnt;\n"
   ]
  },
  {
   "cell_type": "code",
   "execution_count": 11,
   "id": "b1fdc477",
   "metadata": {
    "vscode": {
     "languageId": "sql"
    }
   },
   "outputs": [
    {
     "data": {
      "text/html": [
       "<span style=\"None\">Running query in &#x27;duck&#x27;</span>"
      ],
      "text/plain": [
       "Running query in 'duck'"
      ]
     },
     "metadata": {},
     "output_type": "display_data"
    },
    {
     "data": {
      "text/html": [
       "<table>\n",
       "    <thead>\n",
       "        <tr>\n",
       "            <th>codigo_parlamentar</th>\n",
       "            <th>codigo_parlamentar_1</th>\n",
       "            <th>codigo_publico_leg_atual</th>\n",
       "            <th>nome_completo</th>\n",
       "            <th>nome_parlamentar</th>\n",
       "            <th>sexo_parlamentar</th>\n",
       "            <th>sigla_partido</th>\n",
       "            <th>uf_parlamentar</th>\n",
       "            <th>email_parlamentar</th>\n",
       "            <th>data_nascimento</th>\n",
       "            <th>endereco_parlamentar</th>\n",
       "            <th>naturalidade</th>\n",
       "            <th>uf_naturalidade</th>\n",
       "            <th>year_snapshot</th>\n",
       "            <th>rn</th>\n",
       "        </tr>\n",
       "    </thead>\n",
       "    <tbody>\n",
       "        <tr>\n",
       "            <td>3</td>\n",
       "            <td>None</td>\n",
       "            <td>None</td>\n",
       "            <td>None</td>\n",
       "            <td>None</td>\n",
       "            <td>None</td>\n",
       "            <td>None</td>\n",
       "            <td>None</td>\n",
       "            <td>None</td>\n",
       "            <td>None</td>\n",
       "            <td>None</td>\n",
       "            <td>None</td>\n",
       "            <td>None</td>\n",
       "            <td>None</td>\n",
       "            <td>None</td>\n",
       "        </tr>\n",
       "        <tr>\n",
       "            <td>13</td>\n",
       "            <td>None</td>\n",
       "            <td>None</td>\n",
       "            <td>None</td>\n",
       "            <td>None</td>\n",
       "            <td>None</td>\n",
       "            <td>None</td>\n",
       "            <td>None</td>\n",
       "            <td>None</td>\n",
       "            <td>None</td>\n",
       "            <td>None</td>\n",
       "            <td>None</td>\n",
       "            <td>None</td>\n",
       "            <td>None</td>\n",
       "            <td>None</td>\n",
       "        </tr>\n",
       "        <tr>\n",
       "            <td>16</td>\n",
       "            <td>None</td>\n",
       "            <td>None</td>\n",
       "            <td>None</td>\n",
       "            <td>None</td>\n",
       "            <td>None</td>\n",
       "            <td>None</td>\n",
       "            <td>None</td>\n",
       "            <td>None</td>\n",
       "            <td>None</td>\n",
       "            <td>None</td>\n",
       "            <td>None</td>\n",
       "            <td>None</td>\n",
       "            <td>None</td>\n",
       "            <td>None</td>\n",
       "        </tr>\n",
       "        <tr>\n",
       "            <td>20</td>\n",
       "            <td>None</td>\n",
       "            <td>None</td>\n",
       "            <td>None</td>\n",
       "            <td>None</td>\n",
       "            <td>None</td>\n",
       "            <td>None</td>\n",
       "            <td>None</td>\n",
       "            <td>None</td>\n",
       "            <td>None</td>\n",
       "            <td>None</td>\n",
       "            <td>None</td>\n",
       "            <td>None</td>\n",
       "            <td>None</td>\n",
       "            <td>None</td>\n",
       "        </tr>\n",
       "        <tr>\n",
       "            <td>28</td>\n",
       "            <td>None</td>\n",
       "            <td>None</td>\n",
       "            <td>None</td>\n",
       "            <td>None</td>\n",
       "            <td>None</td>\n",
       "            <td>None</td>\n",
       "            <td>None</td>\n",
       "            <td>None</td>\n",
       "            <td>None</td>\n",
       "            <td>None</td>\n",
       "            <td>None</td>\n",
       "            <td>None</td>\n",
       "            <td>None</td>\n",
       "            <td>None</td>\n",
       "        </tr>\n",
       "        <tr>\n",
       "            <td>40</td>\n",
       "            <td>None</td>\n",
       "            <td>None</td>\n",
       "            <td>None</td>\n",
       "            <td>None</td>\n",
       "            <td>None</td>\n",
       "            <td>None</td>\n",
       "            <td>None</td>\n",
       "            <td>None</td>\n",
       "            <td>None</td>\n",
       "            <td>None</td>\n",
       "            <td>None</td>\n",
       "            <td>None</td>\n",
       "            <td>None</td>\n",
       "            <td>None</td>\n",
       "        </tr>\n",
       "        <tr>\n",
       "            <td>47</td>\n",
       "            <td>None</td>\n",
       "            <td>None</td>\n",
       "            <td>None</td>\n",
       "            <td>None</td>\n",
       "            <td>None</td>\n",
       "            <td>None</td>\n",
       "            <td>None</td>\n",
       "            <td>None</td>\n",
       "            <td>None</td>\n",
       "            <td>None</td>\n",
       "            <td>None</td>\n",
       "            <td>None</td>\n",
       "            <td>None</td>\n",
       "            <td>None</td>\n",
       "        </tr>\n",
       "        <tr>\n",
       "            <td>66</td>\n",
       "            <td>None</td>\n",
       "            <td>None</td>\n",
       "            <td>None</td>\n",
       "            <td>None</td>\n",
       "            <td>None</td>\n",
       "            <td>None</td>\n",
       "            <td>None</td>\n",
       "            <td>None</td>\n",
       "            <td>None</td>\n",
       "            <td>None</td>\n",
       "            <td>None</td>\n",
       "            <td>None</td>\n",
       "            <td>None</td>\n",
       "            <td>None</td>\n",
       "        </tr>\n",
       "        <tr>\n",
       "            <td>72</td>\n",
       "            <td>None</td>\n",
       "            <td>None</td>\n",
       "            <td>None</td>\n",
       "            <td>None</td>\n",
       "            <td>None</td>\n",
       "            <td>None</td>\n",
       "            <td>None</td>\n",
       "            <td>None</td>\n",
       "            <td>None</td>\n",
       "            <td>None</td>\n",
       "            <td>None</td>\n",
       "            <td>None</td>\n",
       "            <td>None</td>\n",
       "            <td>None</td>\n",
       "        </tr>\n",
       "        <tr>\n",
       "            <td>73</td>\n",
       "            <td>None</td>\n",
       "            <td>None</td>\n",
       "            <td>None</td>\n",
       "            <td>None</td>\n",
       "            <td>None</td>\n",
       "            <td>None</td>\n",
       "            <td>None</td>\n",
       "            <td>None</td>\n",
       "            <td>None</td>\n",
       "            <td>None</td>\n",
       "            <td>None</td>\n",
       "            <td>None</td>\n",
       "            <td>None</td>\n",
       "            <td>None</td>\n",
       "        </tr>\n",
       "    </tbody>\n",
       "</table>\n",
       "<span style=\"font-style:italic;text-align:center;\">Truncated to <a href=\"https://jupysql.ploomber.io/en/latest/api/configuration.html#displaylimit\">displaylimit</a> of 10.</span>"
      ],
      "text/plain": [
       "+--------------------+----------------------+--------------------------+---------------+------------------+------------------+---------------+----------------+-------------------+-----------------+----------------------+--------------+-----------------+---------------+------+\n",
       "| codigo_parlamentar | codigo_parlamentar_1 | codigo_publico_leg_atual | nome_completo | nome_parlamentar | sexo_parlamentar | sigla_partido | uf_parlamentar | email_parlamentar | data_nascimento | endereco_parlamentar | naturalidade | uf_naturalidade | year_snapshot |  rn  |\n",
       "+--------------------+----------------------+--------------------------+---------------+------------------+------------------+---------------+----------------+-------------------+-----------------+----------------------+--------------+-----------------+---------------+------+\n",
       "|         3          |         None         |           None           |      None     |       None       |       None       |      None     |      None      |        None       |       None      |         None         |     None     |       None      |      None     | None |\n",
       "|         13         |         None         |           None           |      None     |       None       |       None       |      None     |      None      |        None       |       None      |         None         |     None     |       None      |      None     | None |\n",
       "|         16         |         None         |           None           |      None     |       None       |       None       |      None     |      None      |        None       |       None      |         None         |     None     |       None      |      None     | None |\n",
       "|         20         |         None         |           None           |      None     |       None       |       None       |      None     |      None      |        None       |       None      |         None         |     None     |       None      |      None     | None |\n",
       "|         28         |         None         |           None           |      None     |       None       |       None       |      None     |      None      |        None       |       None      |         None         |     None     |       None      |      None     | None |\n",
       "|         40         |         None         |           None           |      None     |       None       |       None       |      None     |      None      |        None       |       None      |         None         |     None     |       None      |      None     | None |\n",
       "|         47         |         None         |           None           |      None     |       None       |       None       |      None     |      None      |        None       |       None      |         None         |     None     |       None      |      None     | None |\n",
       "|         66         |         None         |           None           |      None     |       None       |       None       |      None     |      None      |        None       |       None      |         None         |     None     |       None      |      None     | None |\n",
       "|         72         |         None         |           None           |      None     |       None       |       None       |      None     |      None      |        None       |       None      |         None         |     None     |       None      |      None     | None |\n",
       "|         73         |         None         |           None           |      None     |       None       |       None       |      None     |      None      |        None       |       None      |         None         |     None     |       None      |      None     | None |\n",
       "+--------------------+----------------------+--------------------------+---------------+------------------+------------------+---------------+----------------+-------------------+-----------------+----------------------+--------------+-----------------+---------------+------+\n",
       "Truncated to displaylimit of 10."
      ]
     },
     "execution_count": 11,
     "metadata": {},
     "output_type": "execute_result"
    }
   ],
   "source": [
    "%%sql\n",
    "SELECT *\n",
    "FROM (\n",
    "  SELECT DISTINCT autor_codigo_parlamentar AS codigo_parlamentar\n",
    "  FROM autoria_iniciativa_senado_norm\n",
    "  WHERE author_subtype = 'senador'\n",
    "    AND autor_codigo_parlamentar IS NOT NULL\n",
    ") c\n",
    "LEFT JOIN parlamentar_senado p\n",
    "  ON p.codigo_parlamentar = c.codigo_parlamentar\n",
    "WHERE p.codigo_parlamentar IS NULL\n",
    "ORDER BY c.codigo_parlamentar;\n"
   ]
  },
  {
   "cell_type": "code",
   "execution_count": 92,
   "id": "8b674a59",
   "metadata": {
    "vscode": {
     "languageId": "sql"
    }
   },
   "outputs": [
    {
     "data": {
      "text/html": [
       "<span style=\"None\">Running query in &#x27;duck&#x27;</span>"
      ],
      "text/plain": [
       "Running query in 'duck'"
      ]
     },
     "metadata": {},
     "output_type": "display_data"
    },
    {
     "data": {
      "text/html": [
       "<table>\n",
       "    <thead>\n",
       "        <tr>\n",
       "            <th>Count</th>\n",
       "        </tr>\n",
       "    </thead>\n",
       "    <tbody>\n",
       "    </tbody>\n",
       "</table>"
      ],
      "text/plain": [
       "+-------+\n",
       "| Count |\n",
       "+-------+\n",
       "+-------+"
      ]
     },
     "execution_count": 92,
     "metadata": {},
     "output_type": "execute_result"
    }
   ],
   "source": [
    "%%sql\n",
    "-- IDs referenced by the bipartite view but missing in your current table\n",
    "CREATE OR REPLACE VIEW missing_orgaos AS\n",
    "WITH refs AS (\n",
    "  SELECT DISTINCT author_id_num AS id_orgao\n",
    "  FROM camara_authors\n",
    "  WHERE uri_kind = 'orgaos'\n",
    "),\n",
    "have AS (\n",
    "  SELECT DISTINCT id_orgao FROM orgaos_camara\n",
    ")\n",
    "SELECT r.id_orgao\n",
    "FROM refs r\n",
    "LEFT JOIN have h ON h.id_orgao = r.id_orgao\n",
    "WHERE h.id_orgao IS NULL;\n"
   ]
  },
  {
   "cell_type": "code",
   "execution_count": 93,
   "id": "383087f2",
   "metadata": {
    "vscode": {
     "languageId": "sql"
    }
   },
   "outputs": [
    {
     "data": {
      "text/html": [
       "<span style=\"None\">Running query in &#x27;duck&#x27;</span>"
      ],
      "text/plain": [
       "Running query in 'duck'"
      ]
     },
     "metadata": {},
     "output_type": "display_data"
    },
    {
     "data": {
      "text/html": [
       "<table>\n",
       "    <thead>\n",
       "        <tr>\n",
       "            <th>n_missing</th>\n",
       "        </tr>\n",
       "    </thead>\n",
       "    <tbody>\n",
       "        <tr>\n",
       "            <td>84</td>\n",
       "        </tr>\n",
       "    </tbody>\n",
       "</table>"
      ],
      "text/plain": [
       "+-----------+\n",
       "| n_missing |\n",
       "+-----------+\n",
       "|     84    |\n",
       "+-----------+"
      ]
     },
     "execution_count": 93,
     "metadata": {},
     "output_type": "execute_result"
    }
   ],
   "source": [
    "%%sql\n",
    "SELECT COUNT(*) AS n_missing FROM missing_orgaos;"
   ]
  },
  {
   "cell_type": "code",
   "execution_count": 94,
   "id": "3e4ba79e",
   "metadata": {},
   "outputs": [
    {
     "data": {
      "text/plain": [
       "[262,\n",
       " 5996,\n",
       " 6494,\n",
       " 6502,\n",
       " 6726,\n",
       " 6725,\n",
       " 537009,\n",
       " 9140,\n",
       " 81,\n",
       " 537484,\n",
       " 537389,\n",
       " 537485,\n",
       " 537337,\n",
       " 537731,\n",
       " 537914,\n",
       " 537742,\n",
       " 538202,\n",
       " 536985,\n",
       " 344,\n",
       " 101347,\n",
       " 101489,\n",
       " 57,\n",
       " 102133,\n",
       " 102346,\n",
       " 336,\n",
       " 371,\n",
       " 6751,\n",
       " 80,\n",
       " 6914,\n",
       " 382,\n",
       " 275,\n",
       " 101131,\n",
       " 277,\n",
       " 537487,\n",
       " 537796,\n",
       " 537931,\n",
       " 9114,\n",
       " 537939,\n",
       " 79,\n",
       " 60,\n",
       " 6994,\n",
       " 479,\n",
       " 5498,\n",
       " 6332,\n",
       " 6415,\n",
       " 9071,\n",
       " 82,\n",
       " 537273,\n",
       " 271,\n",
       " 6511,\n",
       " 538490,\n",
       " 538297,\n",
       " 101772,\n",
       " 6987,\n",
       " 266,\n",
       " 476,\n",
       " 276,\n",
       " 279,\n",
       " 284,\n",
       " 5495,\n",
       " 5364,\n",
       " 5560,\n",
       " 6115,\n",
       " 6286,\n",
       " 6139,\n",
       " 6281,\n",
       " 6462,\n",
       " 6303,\n",
       " 6837,\n",
       " 6697,\n",
       " 6993,\n",
       " 537127,\n",
       " 90000,\n",
       " 409,\n",
       " 6508,\n",
       " 6083,\n",
       " 101798,\n",
       " 537758,\n",
       " 537965,\n",
       " 10119,\n",
       " 539426,\n",
       " 539461,\n",
       " 101582,\n",
       " 6572]"
      ]
     },
     "execution_count": 94,
     "metadata": {},
     "output_type": "execute_result"
    }
   ],
   "source": [
    "missing = conn.execute(\"SELECT id_orgao FROM missing_orgaos\").df().id_orgao.to_list()\n",
    "missing"
   ]
  },
  {
   "cell_type": "code",
   "execution_count": 95,
   "id": "8cc901bf",
   "metadata": {},
   "outputs": [
    {
     "name": "stdout",
     "output_type": "stream",
     "text": [
      "262\n",
      "5996\n",
      "6494\n",
      "6502\n",
      "6726\n",
      "6725\n",
      "537009\n",
      "9140\n",
      "81\n",
      "537484\n",
      "537389\n",
      "537485\n",
      "537337\n",
      "537731\n",
      "537914\n",
      "537742\n",
      "538202\n",
      "536985\n",
      "344\n",
      "101347\n",
      "101489\n",
      "57\n",
      "102133\n",
      "102346\n",
      "336\n",
      "371\n",
      "6751\n",
      "80\n",
      "6914\n",
      "382\n",
      "275\n",
      "101131\n",
      "277\n",
      "537487\n",
      "537796\n",
      "537931\n",
      "9114\n",
      "537939\n",
      "79\n",
      "60\n",
      "6994\n",
      "479\n",
      "5498\n",
      "Retrying 479...\n",
      "6332\n",
      "6415\n",
      "9071\n",
      "82\n",
      "537273\n",
      "271\n",
      "6511\n",
      "538490\n",
      "538297\n",
      "101772\n",
      "6987\n",
      "266\n",
      "476\n",
      "276\n",
      "279\n",
      "284\n",
      "5495\n",
      "5364\n",
      "5560\n",
      "6115\n",
      "6286\n",
      "6139\n",
      "6281\n",
      "6462\n",
      "6303\n",
      "6837\n",
      "6697\n",
      "479\n",
      "6993\n",
      "537127\n",
      "90000\n",
      "409\n",
      "6508\n",
      "6083\n",
      "101798\n",
      "537758\n",
      "537965\n",
      "10119\n",
      "539426\n",
      "539461\n",
      "101582\n",
      "6572\n"
     ]
    }
   ],
   "source": [
    "import asyncio\n",
    "import httpx\n",
    "\n",
    "async def fetch_orgao(orgao_id: int, sem: asyncio.Semaphore, client: httpx.AsyncClient):\n",
    "    async with sem:\n",
    "        for _ in range(10):\n",
    "            try:\n",
    "                print(orgao_id)\n",
    "                response = await client.get(f\"https://dadosabertos.camara.leg.br/api/v2/orgaos/{orgao_id}\")\n",
    "                response.raise_for_status()\n",
    "                data = response.json()\n",
    "                return data\n",
    "            except Exception:\n",
    "                print(f\"Retrying {orgao_id}...\")\n",
    "                await asyncio.sleep(3)\n",
    "    \n",
    "sem = asyncio.Semaphore(10)\n",
    "\n",
    "async with httpx.AsyncClient() as client:\n",
    "    tasks = [fetch_orgao(oid, sem, client) for oid in missing]\n",
    "    result = await asyncio.gather(*tasks, return_exceptions=True)"
   ]
  },
  {
   "cell_type": "code",
   "execution_count": 96,
   "id": "e61a97b8",
   "metadata": {},
   "outputs": [
    {
     "data": {
      "text/plain": [
       "{'dados': {'id': 262,\n",
       "  'uri': 'https://dadosabertos.camara.leg.br/api/v2/orgaos/262',\n",
       "  'sigla': 'CPMI',\n",
       "  'nome': 'COMISSÃO MISTA',\n",
       "  'apelido': 'CPMI',\n",
       "  'codTipoOrgao': 20,\n",
       "  'tipoOrgao': 'Comissão Parlamentar Mista de Inquérito',\n",
       "  'nomePublicacao': 'CPMI',\n",
       "  'nomeResumido': None,\n",
       "  'dataInicio': None,\n",
       "  'dataInstalacao': None,\n",
       "  'dataFim': None,\n",
       "  'dataFimOriginal': None,\n",
       "  'casa': '',\n",
       "  'sala': None,\n",
       "  'urlWebsite': None},\n",
       " 'links': [{'rel': 'self',\n",
       "   'href': 'https://dadosabertos.camara.leg.br/api/v2/orgaos/262'}]}"
      ]
     },
     "execution_count": 96,
     "metadata": {},
     "output_type": "execute_result"
    }
   ],
   "source": [
    "result[0]"
   ]
  },
  {
   "cell_type": "code",
   "execution_count": 97,
   "id": "38c7e03a",
   "metadata": {},
   "outputs": [],
   "source": [
    "rows = []\n",
    "for r in result:\n",
    "    d = r['dados']\n",
    "    rows.append({\n",
    "        'id_orgao': int(d['id']),\n",
    "        'nome': d['nome'],\n",
    "        'cod_tipo_orgao': int(d['codTipoOrgao']),\n",
    "        'uri': d['uri'],\n",
    "        'year_snapshot': 2020,\n",
    "        \"rn\": 1,\n",
    "    })"
   ]
  },
  {
   "cell_type": "code",
   "execution_count": 98,
   "id": "d00026f1",
   "metadata": {},
   "outputs": [],
   "source": [
    "df = pd.DataFrame(rows).drop_duplicates(subset=['id_orgao'])"
   ]
  },
  {
   "cell_type": "code",
   "execution_count": 99,
   "id": "bc325df2",
   "metadata": {},
   "outputs": [],
   "source": [
    "df.to_csv(\"outputs/orgaos_hotfix_2025-09-23.csv\", index=False)"
   ]
  },
  {
   "cell_type": "code",
   "execution_count": 100,
   "id": "7f186a6f",
   "metadata": {
    "vscode": {
     "languageId": "sql"
    }
   },
   "outputs": [
    {
     "data": {
      "text/html": [
       "<span style=\"None\">Running query in &#x27;duck&#x27;</span>"
      ],
      "text/plain": [
       "Running query in 'duck'"
      ]
     },
     "metadata": {},
     "output_type": "display_data"
    },
    {
     "data": {
      "text/html": [
       "<table>\n",
       "    <thead>\n",
       "        <tr>\n",
       "            <th>Count</th>\n",
       "        </tr>\n",
       "    </thead>\n",
       "    <tbody>\n",
       "    </tbody>\n",
       "</table>"
      ],
      "text/plain": [
       "+-------+\n",
       "| Count |\n",
       "+-------+\n",
       "+-------+"
      ]
     },
     "execution_count": 100,
     "metadata": {},
     "output_type": "execute_result"
    }
   ],
   "source": [
    "%%sql\n",
    "-- Create/replace a hotfix table from the CSV\n",
    "DROP TABLE IF EXISTS orgaos_camara_hotfix;\n",
    "CREATE TABLE orgaos_camara_hotfix AS\n",
    "SELECT * FROM read_csv_auto('outputs/orgaos_hotfix_2025-09-23.csv', header=True);\n",
    "\n",
    "-- Create a unified view that prefers your original rows, then fills with hotfix\n",
    "CREATE OR REPLACE VIEW orgaos_camara_all AS\n",
    "WITH base AS (\n",
    "  SELECT * FROM orgaos_camara\n",
    "),\n",
    "fix AS (\n",
    "  SELECT * FROM orgaos_camara_hotfix\n",
    "  WHERE id_orgao NOT IN (SELECT id_orgao FROM base)\n",
    ")\n",
    "SELECT * FROM base\n",
    "UNION ALL\n",
    "SELECT * FROM fix;\n"
   ]
  },
  {
   "cell_type": "code",
   "execution_count": 101,
   "id": "0ed20ccd",
   "metadata": {},
   "outputs": [
    {
     "data": {
      "text/html": [
       "<span style=\"None\">Running query in &#x27;duck&#x27;</span>"
      ],
      "text/plain": [
       "Running query in 'duck'"
      ]
     },
     "metadata": {},
     "output_type": "display_data"
    },
    {
     "data": {
      "text/html": [
       "<table>\n",
       "    <thead>\n",
       "        <tr>\n",
       "            <th>id_orgao</th>\n",
       "            <th>nome</th>\n",
       "            <th>cod_tipo_orgao</th>\n",
       "            <th>uri</th>\n",
       "            <th>year_snapshot</th>\n",
       "            <th>rn</th>\n",
       "        </tr>\n",
       "    </thead>\n",
       "    <tbody>\n",
       "        <tr>\n",
       "            <td>201</td>\n",
       "            <td>COMISSÃO DO TRABALHO</td>\n",
       "            <td>2</td>\n",
       "            <td><a href=https://dadosabertos.camara.leg.br/api/v2/orgaos/201>https://dadosabertos.camara.leg.br/api/v2/orgaos/201</a></td>\n",
       "            <td>2023</td>\n",
       "            <td>1</td>\n",
       "        </tr>\n",
       "        <tr>\n",
       "            <td>218</td>\n",
       "            <td>COMISSÃO DE CONSTITUIÇÃO E JUSTIÇA</td>\n",
       "            <td>2</td>\n",
       "            <td><a href=https://dadosabertos.camara.leg.br/api/v2/orgaos/218>https://dadosabertos.camara.leg.br/api/v2/orgaos/218</a></td>\n",
       "            <td>2020</td>\n",
       "            <td>1</td>\n",
       "        </tr>\n",
       "        <tr>\n",
       "            <td>5306</td>\n",
       "            <td>Dispõe sobre o Conselho de Altos Estudos e Avaliação Tecnológica, de que trata o artigo 275 do Regimento Interno.</td>\n",
       "            <td>11</td>\n",
       "            <td><a href=https://dadosabertos.camara.leg.br/api/v2/orgaos/5306>https://dadosabertos.camara.leg.br/api/v2/orgaos/5306</a></td>\n",
       "            <td>0</td>\n",
       "            <td>1</td>\n",
       "        </tr>\n",
       "        <tr>\n",
       "            <td>5437</td>\n",
       "            <td>Comissão Especial destinada a apreciar e  proferir parecer  à Proposta de Emenda à Constituição nº 57-A, de 1999, que \" altera o art. 159 para instituir o Fundo Nacional de Desenvolvimento do Semi-Árido e prevê suas fontes de recursos\".</td>\n",
       "            <td>3</td>\n",
       "            <td><a href=https://dadosabertos.camara.leg.br/api/v2/orgaos/5437>https://dadosabertos.camara.leg.br/api/v2/orgaos/5437</a></td>\n",
       "            <td>2023</td>\n",
       "            <td>1</td>\n",
       "        </tr>\n",
       "        <tr>\n",
       "            <td>5604</td>\n",
       "            <td>Altera a Legislação Tributária Federal, e dá outras providências.</td>\n",
       "            <td>9</td>\n",
       "            <td><a href=https://dadosabertos.camara.leg.br/api/v2/orgaos/5604>https://dadosabertos.camara.leg.br/api/v2/orgaos/5604</a></td>\n",
       "            <td>0</td>\n",
       "            <td>1</td>\n",
       "        </tr>\n",
       "    </tbody>\n",
       "</table>"
      ],
      "text/plain": [
       "+----------+----------------------------------------------------------------------------------------------------------------------------------------------------------------------------------------------------------------------------------------------+----------------+-------------------------------------------------------------------------------------------------------------------------+---------------+----+\n",
       "| id_orgao |                                                                                                                     nome                                                                                                                     | cod_tipo_orgao |                                                           uri                                                           | year_snapshot | rn |\n",
       "+----------+----------------------------------------------------------------------------------------------------------------------------------------------------------------------------------------------------------------------------------------------+----------------+-------------------------------------------------------------------------------------------------------------------------+---------------+----+\n",
       "|   201    |                                                                                                             COMISSÃO DO TRABALHO                                                                                                             |       2        |  <a href=https://dadosabertos.camara.leg.br/api/v2/orgaos/201>https://dadosabertos.camara.leg.br/api/v2/orgaos/201</a>  |      2023     | 1  |\n",
       "|   218    |                                                                                                      COMISSÃO DE CONSTITUIÇÃO E JUSTIÇA                                                                                                      |       2        |  <a href=https://dadosabertos.camara.leg.br/api/v2/orgaos/218>https://dadosabertos.camara.leg.br/api/v2/orgaos/218</a>  |      2020     | 1  |\n",
       "|   5306   |                                                              Dispõe sobre o Conselho de Altos Estudos e Avaliação Tecnológica, de que trata o artigo 275 do Regimento Interno.                                                               |       11       | <a href=https://dadosabertos.camara.leg.br/api/v2/orgaos/5306>https://dadosabertos.camara.leg.br/api/v2/orgaos/5306</a> |       0       | 1  |\n",
       "|   5437   | Comissão Especial destinada a apreciar e  proferir parecer  à Proposta de Emenda à Constituição nº 57-A, de 1999, que \" altera o art. 159 para instituir o Fundo Nacional de Desenvolvimento do Semi-Árido e prevê suas fontes de recursos\". |       3        | <a href=https://dadosabertos.camara.leg.br/api/v2/orgaos/5437>https://dadosabertos.camara.leg.br/api/v2/orgaos/5437</a> |      2023     | 1  |\n",
       "|   5604   |                                                                                      Altera a Legislação Tributária Federal, e dá outras providências.                                                                                       |       9        | <a href=https://dadosabertos.camara.leg.br/api/v2/orgaos/5604>https://dadosabertos.camara.leg.br/api/v2/orgaos/5604</a> |       0       | 1  |\n",
       "+----------+----------------------------------------------------------------------------------------------------------------------------------------------------------------------------------------------------------------------------------------------+----------------+-------------------------------------------------------------------------------------------------------------------------+---------------+----+"
      ]
     },
     "execution_count": 101,
     "metadata": {},
     "output_type": "execute_result"
    }
   ],
   "source": [
    "%%sql\n",
    "SELECT * FROM orgaos_camara LIMIT 5;"
   ]
  },
  {
   "cell_type": "code",
   "execution_count": 102,
   "id": "fdad18f7",
   "metadata": {
    "vscode": {
     "languageId": "sql"
    }
   },
   "outputs": [
    {
     "data": {
      "text/html": [
       "<span style=\"None\">Running query in &#x27;duck&#x27;</span>"
      ],
      "text/plain": [
       "Running query in 'duck'"
      ]
     },
     "metadata": {},
     "output_type": "display_data"
    },
    {
     "data": {
      "text/html": [
       "<table>\n",
       "    <thead>\n",
       "        <tr>\n",
       "            <th>id_proposicao</th>\n",
       "            <th>sigla_tipo</th>\n",
       "            <th>numero</th>\n",
       "            <th>ano</th>\n",
       "            <th>ementa</th>\n",
       "            <th>uri</th>\n",
       "            <th>year_snapshot</th>\n",
       "        </tr>\n",
       "    </thead>\n",
       "    <tbody>\n",
       "        <tr>\n",
       "            <td>15009</td>\n",
       "            <td>PL</td>\n",
       "            <td>70</td>\n",
       "            <td>1995</td>\n",
       "            <td>Dispõe sobre intervenções cirúrgicas que visem à alteração de sexo e dá outras providências.</td>\n",
       "            <td><a href=https://dadosabertos.camara.leg.br/api/v2/proposicoes/15009>https://dadosabertos.camara.leg.br/api/v2/proposicoes/15009</a></td>\n",
       "            <td>2020</td>\n",
       "        </tr>\n",
       "        <tr>\n",
       "            <td>15532</td>\n",
       "            <td>PL</td>\n",
       "            <td>505</td>\n",
       "            <td>1991</td>\n",
       "            <td>Revoga a alínea \"l\" do art. 20 do Decreto-lei nº 73, de 21 de novembro de 1966, extinguindo o Seguro Obrigatório de Veículos Automotores</td>\n",
       "            <td><a href=https://dadosabertos.camara.leg.br/api/v2/proposicoes/15532>https://dadosabertos.camara.leg.br/api/v2/proposicoes/15532</a></td>\n",
       "            <td>2020</td>\n",
       "        </tr>\n",
       "        <tr>\n",
       "            <td>15749</td>\n",
       "            <td>PL</td>\n",
       "            <td>693</td>\n",
       "            <td>1999</td>\n",
       "            <td>Altera a Lei nº 8.245, de 18 de outubro de 1991, Lei do Inquilinato, nos dispositivos que menciona.</td>\n",
       "            <td><a href=https://dadosabertos.camara.leg.br/api/v2/proposicoes/15749>https://dadosabertos.camara.leg.br/api/v2/proposicoes/15749</a></td>\n",
       "            <td>2020</td>\n",
       "        </tr>\n",
       "        <tr>\n",
       "            <td>15990</td>\n",
       "            <td>PL</td>\n",
       "            <td>887</td>\n",
       "            <td>1991</td>\n",
       "            <td>Cria salvaguardas para a tecnologia no campo nuclear.  (AUTOR: Comissão Parlamentar Mista de Inquérito Destinada a Apurar o Programa Nuclear Paralelo)</td>\n",
       "            <td><a href=https://dadosabertos.camara.leg.br/api/v2/proposicoes/15990>https://dadosabertos.camara.leg.br/api/v2/proposicoes/15990</a></td>\n",
       "            <td>2020</td>\n",
       "        </tr>\n",
       "        <tr>\n",
       "            <td>16481</td>\n",
       "            <td>PL</td>\n",
       "            <td>1258</td>\n",
       "            <td>1995</td>\n",
       "            <td>Disciplina o inciso XII do art. 5º da Constituição Federal e dá outras providências.</td>\n",
       "            <td><a href=https://dadosabertos.camara.leg.br/api/v2/proposicoes/16481>https://dadosabertos.camara.leg.br/api/v2/proposicoes/16481</a></td>\n",
       "            <td>2020</td>\n",
       "        </tr>\n",
       "        <tr>\n",
       "            <td>16969</td>\n",
       "            <td>PL</td>\n",
       "            <td>1610</td>\n",
       "            <td>1996</td>\n",
       "            <td>Dispõe sobre a exploração e o aproveitamento de recursos minerais em terras indígenas, de que tratam os arts. 176, parágrafo 1º, e 231, parágrafo 3º, da Constituição Federal.</td>\n",
       "            <td><a href=https://dadosabertos.camara.leg.br/api/v2/proposicoes/16969>https://dadosabertos.camara.leg.br/api/v2/proposicoes/16969</a></td>\n",
       "            <td>2020</td>\n",
       "        </tr>\n",
       "        <tr>\n",
       "            <td>17563</td>\n",
       "            <td>PL</td>\n",
       "            <td>2051</td>\n",
       "            <td>1996</td>\n",
       "            <td>Dispõe sobre a assistência médica, hospitalar e educacional gratuita aos ex-combatentes e a seus dependentes, prevista no inciso IV do artigo 53 do Ato das Disposições Constitucionais Transitórias.</td>\n",
       "            <td><a href=https://dadosabertos.camara.leg.br/api/v2/proposicoes/17563>https://dadosabertos.camara.leg.br/api/v2/proposicoes/17563</a></td>\n",
       "            <td>2020</td>\n",
       "        </tr>\n",
       "        <tr>\n",
       "            <td>17823</td>\n",
       "            <td>PL</td>\n",
       "            <td>2231</td>\n",
       "            <td>1999</td>\n",
       "            <td>Obriga os responsáveis por \"sites\" provedores de informações na Internet a fornecer classificação indicativa do conteúdo veiculado.</td>\n",
       "            <td><a href=https://dadosabertos.camara.leg.br/api/v2/proposicoes/17823>https://dadosabertos.camara.leg.br/api/v2/proposicoes/17823</a></td>\n",
       "            <td>2020</td>\n",
       "        </tr>\n",
       "        <tr>\n",
       "            <td>17915</td>\n",
       "            <td>PL</td>\n",
       "            <td>2295</td>\n",
       "            <td>2000</td>\n",
       "            <td>Dispõe sobre a jornada de trabalho dos Enfermeiros, Técnicos e Auxiliares de Enfermagem.</td>\n",
       "            <td><a href=https://dadosabertos.camara.leg.br/api/v2/proposicoes/17915>https://dadosabertos.camara.leg.br/api/v2/proposicoes/17915</a></td>\n",
       "            <td>2020</td>\n",
       "        </tr>\n",
       "        <tr>\n",
       "            <td>18420</td>\n",
       "            <td>PL</td>\n",
       "            <td>2639</td>\n",
       "            <td>2000</td>\n",
       "            <td>Dispõe sobre a atividade de curta duração em propriedades rurais.</td>\n",
       "            <td><a href=https://dadosabertos.camara.leg.br/api/v2/proposicoes/18420>https://dadosabertos.camara.leg.br/api/v2/proposicoes/18420</a></td>\n",
       "            <td>2020</td>\n",
       "        </tr>\n",
       "    </tbody>\n",
       "</table>\n",
       "<span style=\"font-style:italic;text-align:center;\">Truncated to <a href=\"https://jupysql.ploomber.io/en/latest/api/configuration.html#displaylimit\">displaylimit</a> of 10.</span>"
      ],
      "text/plain": [
       "+---------------+------------+--------+------+-------------------------------------------------------------------------------------------------------------------------------------------------------------------------------------------------------+-------------------------------------------------------------------------------------------------------------------------------------+---------------+\n",
       "| id_proposicao | sigla_tipo | numero | ano  |                                                                                                 ementa                                                                                                |                                                                 uri                                                                 | year_snapshot |\n",
       "+---------------+------------+--------+------+-------------------------------------------------------------------------------------------------------------------------------------------------------------------------------------------------------+-------------------------------------------------------------------------------------------------------------------------------------+---------------+\n",
       "|     15009     |     PL     |   70   | 1995 |                                                      Dispõe sobre intervenções cirúrgicas que visem à alteração de sexo e dá outras providências.                                                     | <a href=https://dadosabertos.camara.leg.br/api/v2/proposicoes/15009>https://dadosabertos.camara.leg.br/api/v2/proposicoes/15009</a> |      2020     |\n",
       "|     15532     |     PL     |  505   | 1991 |                                Revoga a alínea \"l\" do art. 20 do Decreto-lei nº 73, de 21 de novembro de 1966, extinguindo o Seguro Obrigatório de Veículos Automotores                               | <a href=https://dadosabertos.camara.leg.br/api/v2/proposicoes/15532>https://dadosabertos.camara.leg.br/api/v2/proposicoes/15532</a> |      2020     |\n",
       "|     15749     |     PL     |  693   | 1999 |                                                  Altera a Lei nº 8.245, de 18 de outubro de 1991, Lei do Inquilinato, nos dispositivos que menciona.                                                  | <a href=https://dadosabertos.camara.leg.br/api/v2/proposicoes/15749>https://dadosabertos.camara.leg.br/api/v2/proposicoes/15749</a> |      2020     |\n",
       "|     15990     |     PL     |  887   | 1991 |                         Cria salvaguardas para a tecnologia no campo nuclear.  (AUTOR: Comissão Parlamentar Mista de Inquérito Destinada a Apurar o Programa Nuclear Paralelo)                        | <a href=https://dadosabertos.camara.leg.br/api/v2/proposicoes/15990>https://dadosabertos.camara.leg.br/api/v2/proposicoes/15990</a> |      2020     |\n",
       "|     16481     |     PL     |  1258  | 1995 |                                                          Disciplina o inciso XII do art. 5º da Constituição Federal e dá outras providências.                                                         | <a href=https://dadosabertos.camara.leg.br/api/v2/proposicoes/16481>https://dadosabertos.camara.leg.br/api/v2/proposicoes/16481</a> |      2020     |\n",
       "|     16969     |     PL     |  1610  | 1996 |             Dispõe sobre a exploração e o aproveitamento de recursos minerais em terras indígenas, de que tratam os arts. 176, parágrafo 1º, e 231, parágrafo 3º, da Constituição Federal.            | <a href=https://dadosabertos.camara.leg.br/api/v2/proposicoes/16969>https://dadosabertos.camara.leg.br/api/v2/proposicoes/16969</a> |      2020     |\n",
       "|     17563     |     PL     |  2051  | 1996 | Dispõe sobre a assistência médica, hospitalar e educacional gratuita aos ex-combatentes e a seus dependentes, prevista no inciso IV do artigo 53 do Ato das Disposições Constitucionais Transitórias. | <a href=https://dadosabertos.camara.leg.br/api/v2/proposicoes/17563>https://dadosabertos.camara.leg.br/api/v2/proposicoes/17563</a> |      2020     |\n",
       "|     17823     |     PL     |  2231  | 1999 |                                  Obriga os responsáveis por \"sites\" provedores de informações na Internet a fornecer classificação indicativa do conteúdo veiculado.                                  | <a href=https://dadosabertos.camara.leg.br/api/v2/proposicoes/17823>https://dadosabertos.camara.leg.br/api/v2/proposicoes/17823</a> |      2020     |\n",
       "|     17915     |     PL     |  2295  | 2000 |                                                        Dispõe sobre a jornada de trabalho dos Enfermeiros, Técnicos e Auxiliares de Enfermagem.                                                       | <a href=https://dadosabertos.camara.leg.br/api/v2/proposicoes/17915>https://dadosabertos.camara.leg.br/api/v2/proposicoes/17915</a> |      2020     |\n",
       "|     18420     |     PL     |  2639  | 2000 |                                                                   Dispõe sobre a atividade de curta duração em propriedades rurais.                                                                   | <a href=https://dadosabertos.camara.leg.br/api/v2/proposicoes/18420>https://dadosabertos.camara.leg.br/api/v2/proposicoes/18420</a> |      2020     |\n",
       "+---------------+------------+--------+------+-------------------------------------------------------------------------------------------------------------------------------------------------------------------------------------------------------+-------------------------------------------------------------------------------------------------------------------------------------+---------------+\n",
       "Truncated to displaylimit of 10."
      ]
     },
     "execution_count": 102,
     "metadata": {},
     "output_type": "execute_result"
    }
   ],
   "source": [
    "%%sql\n",
    "\n",
    "SELECT * FROM proposicoes_camara LIMIT 10;"
   ]
  },
  {
   "cell_type": "code",
   "execution_count": 103,
   "id": "306ed109",
   "metadata": {
    "vscode": {
     "languageId": "sql"
    }
   },
   "outputs": [
    {
     "data": {
      "text/html": [
       "<span style=\"None\">Running query in &#x27;duck&#x27;</span>"
      ],
      "text/plain": [
       "Running query in 'duck'"
      ]
     },
     "metadata": {},
     "output_type": "display_data"
    },
    {
     "data": {
      "text/html": [
       "<table>\n",
       "    <thead>\n",
       "        <tr>\n",
       "            <th>id_deputado</th>\n",
       "            <th>nome_civil</th>\n",
       "            <th>uri</th>\n",
       "            <th>year_snapshot</th>\n",
       "            <th>rn</th>\n",
       "        </tr>\n",
       "    </thead>\n",
       "    <tbody>\n",
       "        <tr>\n",
       "            <td>488</td>\n",
       "            <td>José Jorge da Silva</td>\n",
       "            <td><a href=https://dadosabertos.camara.leg.br/api/v2/deputados/488>https://dadosabertos.camara.leg.br/api/v2/deputados/488</a></td>\n",
       "            <td>2024</td>\n",
       "            <td>1</td>\n",
       "        </tr>\n",
       "        <tr>\n",
       "            <td>62926</td>\n",
       "            <td>REINALDO SANTOS E SILVA</td>\n",
       "            <td><a href=https://dadosabertos.camara.leg.br/api/v2/deputados/62926>https://dadosabertos.camara.leg.br/api/v2/deputados/62926</a></td>\n",
       "            <td>2020</td>\n",
       "            <td>1</td>\n",
       "        </tr>\n",
       "        <tr>\n",
       "            <td>66828</td>\n",
       "            <td>FAUSTO RUY PINATO</td>\n",
       "            <td><a href=https://dadosabertos.camara.leg.br/api/v2/deputados/66828>https://dadosabertos.camara.leg.br/api/v2/deputados/66828</a></td>\n",
       "            <td>2020</td>\n",
       "            <td>1</td>\n",
       "        </tr>\n",
       "        <tr>\n",
       "            <td>73439</td>\n",
       "            <td>Carlos Nelson Bueno</td>\n",
       "            <td><a href=https://dadosabertos.camara.leg.br/api/v2/deputados/73439>https://dadosabertos.camara.leg.br/api/v2/deputados/73439</a></td>\n",
       "            <td>2023</td>\n",
       "            <td>1</td>\n",
       "        </tr>\n",
       "        <tr>\n",
       "            <td>73463</td>\n",
       "            <td>OSMAR JOSÉ SERRAGLIO</td>\n",
       "            <td><a href=https://dadosabertos.camara.leg.br/api/v2/deputados/73463>https://dadosabertos.camara.leg.br/api/v2/deputados/73463</a></td>\n",
       "            <td>2020</td>\n",
       "            <td>1</td>\n",
       "        </tr>\n",
       "        <tr>\n",
       "            <td>73464</td>\n",
       "            <td>BERNARDINO BARRETO DE OLIVEIRA</td>\n",
       "            <td><a href=https://dadosabertos.camara.leg.br/api/v2/deputados/73464>https://dadosabertos.camara.leg.br/api/v2/deputados/73464</a></td>\n",
       "            <td>2020</td>\n",
       "            <td>1</td>\n",
       "        </tr>\n",
       "        <tr>\n",
       "            <td>73472</td>\n",
       "            <td>GERVÁSIO JOSÉ DA SILVA</td>\n",
       "            <td><a href=https://dadosabertos.camara.leg.br/api/v2/deputados/73472>https://dadosabertos.camara.leg.br/api/v2/deputados/73472</a></td>\n",
       "            <td>2020</td>\n",
       "            <td>1</td>\n",
       "        </tr>\n",
       "        <tr>\n",
       "            <td>73483</td>\n",
       "            <td>LUIS CARLOS HEINZE</td>\n",
       "            <td><a href=https://dadosabertos.camara.leg.br/api/v2/deputados/73483>https://dadosabertos.camara.leg.br/api/v2/deputados/73483</a></td>\n",
       "            <td>2020</td>\n",
       "            <td>1</td>\n",
       "        </tr>\n",
       "        <tr>\n",
       "            <td>73486</td>\n",
       "            <td>DARCI POMPEO DE MATTOS</td>\n",
       "            <td><a href=https://dadosabertos.camara.leg.br/api/v2/deputados/73486>https://dadosabertos.camara.leg.br/api/v2/deputados/73486</a></td>\n",
       "            <td>2020</td>\n",
       "            <td>1</td>\n",
       "        </tr>\n",
       "        <tr>\n",
       "            <td>73507</td>\n",
       "            <td>ROSILDA DE FREITAS</td>\n",
       "            <td><a href=https://dadosabertos.camara.leg.br/api/v2/deputados/73507>https://dadosabertos.camara.leg.br/api/v2/deputados/73507</a></td>\n",
       "            <td>2022</td>\n",
       "            <td>1</td>\n",
       "        </tr>\n",
       "    </tbody>\n",
       "</table>\n",
       "<span style=\"font-style:italic;text-align:center;\">Truncated to <a href=\"https://jupysql.ploomber.io/en/latest/api/configuration.html#displaylimit\">displaylimit</a> of 10.</span>"
      ],
      "text/plain": [
       "+-------------+--------------------------------+---------------------------------------------------------------------------------------------------------------------------------+---------------+----+\n",
       "| id_deputado |           nome_civil           |                                                               uri                                                               | year_snapshot | rn |\n",
       "+-------------+--------------------------------+---------------------------------------------------------------------------------------------------------------------------------+---------------+----+\n",
       "|     488     |      José Jorge da Silva       |   <a href=https://dadosabertos.camara.leg.br/api/v2/deputados/488>https://dadosabertos.camara.leg.br/api/v2/deputados/488</a>   |      2024     | 1  |\n",
       "|    62926    |    REINALDO SANTOS E SILVA     | <a href=https://dadosabertos.camara.leg.br/api/v2/deputados/62926>https://dadosabertos.camara.leg.br/api/v2/deputados/62926</a> |      2020     | 1  |\n",
       "|    66828    |       FAUSTO RUY PINATO        | <a href=https://dadosabertos.camara.leg.br/api/v2/deputados/66828>https://dadosabertos.camara.leg.br/api/v2/deputados/66828</a> |      2020     | 1  |\n",
       "|    73439    |      Carlos Nelson Bueno       | <a href=https://dadosabertos.camara.leg.br/api/v2/deputados/73439>https://dadosabertos.camara.leg.br/api/v2/deputados/73439</a> |      2023     | 1  |\n",
       "|    73463    |      OSMAR JOSÉ SERRAGLIO      | <a href=https://dadosabertos.camara.leg.br/api/v2/deputados/73463>https://dadosabertos.camara.leg.br/api/v2/deputados/73463</a> |      2020     | 1  |\n",
       "|    73464    | BERNARDINO BARRETO DE OLIVEIRA | <a href=https://dadosabertos.camara.leg.br/api/v2/deputados/73464>https://dadosabertos.camara.leg.br/api/v2/deputados/73464</a> |      2020     | 1  |\n",
       "|    73472    |     GERVÁSIO JOSÉ DA SILVA     | <a href=https://dadosabertos.camara.leg.br/api/v2/deputados/73472>https://dadosabertos.camara.leg.br/api/v2/deputados/73472</a> |      2020     | 1  |\n",
       "|    73483    |       LUIS CARLOS HEINZE       | <a href=https://dadosabertos.camara.leg.br/api/v2/deputados/73483>https://dadosabertos.camara.leg.br/api/v2/deputados/73483</a> |      2020     | 1  |\n",
       "|    73486    |     DARCI POMPEO DE MATTOS     | <a href=https://dadosabertos.camara.leg.br/api/v2/deputados/73486>https://dadosabertos.camara.leg.br/api/v2/deputados/73486</a> |      2020     | 1  |\n",
       "|    73507    |       ROSILDA DE FREITAS       | <a href=https://dadosabertos.camara.leg.br/api/v2/deputados/73507>https://dadosabertos.camara.leg.br/api/v2/deputados/73507</a> |      2022     | 1  |\n",
       "+-------------+--------------------------------+---------------------------------------------------------------------------------------------------------------------------------+---------------+----+\n",
       "Truncated to displaylimit of 10."
      ]
     },
     "execution_count": 103,
     "metadata": {},
     "output_type": "execute_result"
    }
   ],
   "source": [
    "%%sql\n",
    "\n",
    "SELECT * FROM deputados_camara LIMIT 10;"
   ]
  },
  {
   "cell_type": "code",
   "execution_count": 104,
   "id": "f9a88b79",
   "metadata": {
    "vscode": {
     "languageId": "sql"
    }
   },
   "outputs": [
    {
     "data": {
      "text/html": [
       "<span style=\"None\">Running query in &#x27;duck&#x27;</span>"
      ],
      "text/plain": [
       "Running query in 'duck'"
      ]
     },
     "metadata": {},
     "output_type": "display_data"
    },
    {
     "data": {
      "text/html": [
       "<table>\n",
       "    <thead>\n",
       "        <tr>\n",
       "            <th>id_orgao</th>\n",
       "            <th>nome</th>\n",
       "            <th>cod_tipo_orgao</th>\n",
       "            <th>uri</th>\n",
       "            <th>year_snapshot</th>\n",
       "            <th>rn</th>\n",
       "        </tr>\n",
       "    </thead>\n",
       "    <tbody>\n",
       "        <tr>\n",
       "            <td>201</td>\n",
       "            <td>COMISSÃO DO TRABALHO</td>\n",
       "            <td>2</td>\n",
       "            <td><a href=https://dadosabertos.camara.leg.br/api/v2/orgaos/201>https://dadosabertos.camara.leg.br/api/v2/orgaos/201</a></td>\n",
       "            <td>2023</td>\n",
       "            <td>1</td>\n",
       "        </tr>\n",
       "        <tr>\n",
       "            <td>218</td>\n",
       "            <td>COMISSÃO DE CONSTITUIÇÃO E JUSTIÇA</td>\n",
       "            <td>2</td>\n",
       "            <td><a href=https://dadosabertos.camara.leg.br/api/v2/orgaos/218>https://dadosabertos.camara.leg.br/api/v2/orgaos/218</a></td>\n",
       "            <td>2020</td>\n",
       "            <td>1</td>\n",
       "        </tr>\n",
       "        <tr>\n",
       "            <td>5306</td>\n",
       "            <td>Dispõe sobre o Conselho de Altos Estudos e Avaliação Tecnológica, de que trata o artigo 275 do Regimento Interno.</td>\n",
       "            <td>11</td>\n",
       "            <td><a href=https://dadosabertos.camara.leg.br/api/v2/orgaos/5306>https://dadosabertos.camara.leg.br/api/v2/orgaos/5306</a></td>\n",
       "            <td>0</td>\n",
       "            <td>1</td>\n",
       "        </tr>\n",
       "        <tr>\n",
       "            <td>5437</td>\n",
       "            <td>Comissão Especial destinada a apreciar e  proferir parecer  à Proposta de Emenda à Constituição nº 57-A, de 1999, que \" altera o art. 159 para instituir o Fundo Nacional de Desenvolvimento do Semi-Árido e prevê suas fontes de recursos\".</td>\n",
       "            <td>3</td>\n",
       "            <td><a href=https://dadosabertos.camara.leg.br/api/v2/orgaos/5437>https://dadosabertos.camara.leg.br/api/v2/orgaos/5437</a></td>\n",
       "            <td>2023</td>\n",
       "            <td>1</td>\n",
       "        </tr>\n",
       "        <tr>\n",
       "            <td>5604</td>\n",
       "            <td>Altera a Legislação Tributária Federal, e dá outras providências.</td>\n",
       "            <td>9</td>\n",
       "            <td><a href=https://dadosabertos.camara.leg.br/api/v2/orgaos/5604>https://dadosabertos.camara.leg.br/api/v2/orgaos/5604</a></td>\n",
       "            <td>0</td>\n",
       "            <td>1</td>\n",
       "        </tr>\n",
       "        <tr>\n",
       "            <td>5942</td>\n",
       "            <td>Altera dispositivos da Lei nº 8.745, de 9 de dezembro de 1993, e da Lei nº 10.470, de 25 de junho de 2002, cria cargos efetivos, cargos comissionados e gratificações no âmbito da Administração Pública Federal, e dá outras providências.</td>\n",
       "            <td>9</td>\n",
       "            <td><a href=https://dadosabertos.camara.leg.br/api/v2/orgaos/5942>https://dadosabertos.camara.leg.br/api/v2/orgaos/5942</a></td>\n",
       "            <td>0</td>\n",
       "            <td>1</td>\n",
       "        </tr>\n",
       "        <tr>\n",
       "            <td>5956</td>\n",
       "            <td>Altera as Leis nºs. 8.248, de 23 de outubro de 1991, 8.387, de 30 de dezembro de 1991, e 10.176, de 11 de janeiro de 2001, dispondo sobre a capacitação e competitividade do setor de tecnologia da informação, e dá outras providências.</td>\n",
       "            <td>9</td>\n",
       "            <td><a href=https://dadosabertos.camara.leg.br/api/v2/orgaos/5956>https://dadosabertos.camara.leg.br/api/v2/orgaos/5956</a></td>\n",
       "            <td>0</td>\n",
       "            <td>1</td>\n",
       "        </tr>\n",
       "        <tr>\n",
       "            <td>5957</td>\n",
       "            <td>Dispõe sobre a contribuição para o Programa de Integração Social e de Formação do Patrimônio do Servidor Público - PIS/PASEP e da Contribuição para Seguridade Social - COFINS devidas pelas sociedades cooperativas em geral.</td>\n",
       "            <td>9</td>\n",
       "            <td><a href=https://dadosabertos.camara.leg.br/api/v2/orgaos/5957>https://dadosabertos.camara.leg.br/api/v2/orgaos/5957</a></td>\n",
       "            <td>0</td>\n",
       "            <td>1</td>\n",
       "        </tr>\n",
       "        <tr>\n",
       "            <td>5986</td>\n",
       "            <td>Cria a Carreira de Agente Penitenciário Federal no Quadro de Pessoal do Departamento de Polícia Federal e dá outras providências.</td>\n",
       "            <td>9</td>\n",
       "            <td><a href=https://dadosabertos.camara.leg.br/api/v2/orgaos/5986>https://dadosabertos.camara.leg.br/api/v2/orgaos/5986</a></td>\n",
       "            <td>0</td>\n",
       "            <td>1</td>\n",
       "        </tr>\n",
       "        <tr>\n",
       "            <td>8669</td>\n",
       "            <td>Comissão Especial destinada a proferir parecer à Proposta de Emenda à Constituição nº 53-A, de 2007, do Sr. Jofran Frejat, que \"dá nova redação ao § 3º do Art. 39 da Constituição Federal\" (garante ao servidor de cargo em comissão de livre nomeação e exoneração, direito a aviso prévio, seguro desemprego, FGTS, entre outros)</td>\n",
       "            <td>3</td>\n",
       "            <td><a href=https://dadosabertos.camara.leg.br/api/v2/orgaos/8669>https://dadosabertos.camara.leg.br/api/v2/orgaos/8669</a></td>\n",
       "            <td>2021</td>\n",
       "            <td>1</td>\n",
       "        </tr>\n",
       "    </tbody>\n",
       "</table>\n",
       "<span style=\"font-style:italic;text-align:center;\">Truncated to <a href=\"https://jupysql.ploomber.io/en/latest/api/configuration.html#displaylimit\">displaylimit</a> of 10.</span>"
      ],
      "text/plain": [
       "+----------+--------------------------------------------------------------------------------------------------------------------------------------------------------------------------------------------------------------------------------------------------------------------------------------------------------------------------------------+----------------+-------------------------------------------------------------------------------------------------------------------------+---------------+----+\n",
       "| id_orgao |                                                                                                                                                                 nome                                                                                                                                                                 | cod_tipo_orgao |                                                           uri                                                           | year_snapshot | rn |\n",
       "+----------+--------------------------------------------------------------------------------------------------------------------------------------------------------------------------------------------------------------------------------------------------------------------------------------------------------------------------------------+----------------+-------------------------------------------------------------------------------------------------------------------------+---------------+----+\n",
       "|   201    |                                                                                                                                                         COMISSÃO DO TRABALHO                                                                                                                                                         |       2        |  <a href=https://dadosabertos.camara.leg.br/api/v2/orgaos/201>https://dadosabertos.camara.leg.br/api/v2/orgaos/201</a>  |      2023     | 1  |\n",
       "|   218    |                                                                                                                                                  COMISSÃO DE CONSTITUIÇÃO E JUSTIÇA                                                                                                                                                  |       2        |  <a href=https://dadosabertos.camara.leg.br/api/v2/orgaos/218>https://dadosabertos.camara.leg.br/api/v2/orgaos/218</a>  |      2020     | 1  |\n",
       "|   5306   |                                                                                                          Dispõe sobre o Conselho de Altos Estudos e Avaliação Tecnológica, de que trata o artigo 275 do Regimento Interno.                                                                                                           |       11       | <a href=https://dadosabertos.camara.leg.br/api/v2/orgaos/5306>https://dadosabertos.camara.leg.br/api/v2/orgaos/5306</a> |       0       | 1  |\n",
       "|   5437   |                                             Comissão Especial destinada a apreciar e  proferir parecer  à Proposta de Emenda à Constituição nº 57-A, de 1999, que \" altera o art. 159 para instituir o Fundo Nacional de Desenvolvimento do Semi-Árido e prevê suas fontes de recursos\".                                             |       3        | <a href=https://dadosabertos.camara.leg.br/api/v2/orgaos/5437>https://dadosabertos.camara.leg.br/api/v2/orgaos/5437</a> |      2023     | 1  |\n",
       "|   5604   |                                                                                                                                  Altera a Legislação Tributária Federal, e dá outras providências.                                                                                                                                   |       9        | <a href=https://dadosabertos.camara.leg.br/api/v2/orgaos/5604>https://dadosabertos.camara.leg.br/api/v2/orgaos/5604</a> |       0       | 1  |\n",
       "|   5942   |                                             Altera dispositivos da Lei nº 8.745, de 9 de dezembro de 1993, e da Lei nº 10.470, de 25 de junho de 2002, cria cargos efetivos, cargos comissionados e gratificações no âmbito da Administração Pública Federal, e dá outras providências.                                              |       9        | <a href=https://dadosabertos.camara.leg.br/api/v2/orgaos/5942>https://dadosabertos.camara.leg.br/api/v2/orgaos/5942</a> |       0       | 1  |\n",
       "|   5956   |                                              Altera as Leis nºs. 8.248, de 23 de outubro de 1991, 8.387, de 30 de dezembro de 1991, e 10.176, de 11 de janeiro de 2001, dispondo sobre a capacitação e competitividade do setor de tecnologia da informação, e dá outras providências.                                               |       9        | <a href=https://dadosabertos.camara.leg.br/api/v2/orgaos/5956>https://dadosabertos.camara.leg.br/api/v2/orgaos/5956</a> |       0       | 1  |\n",
       "|   5957   |                                                    Dispõe sobre a contribuição para o Programa de Integração Social e de Formação do Patrimônio do Servidor Público - PIS/PASEP e da Contribuição para Seguridade Social - COFINS devidas pelas sociedades cooperativas em geral.                                                    |       9        | <a href=https://dadosabertos.camara.leg.br/api/v2/orgaos/5957>https://dadosabertos.camara.leg.br/api/v2/orgaos/5957</a> |       0       | 1  |\n",
       "|   5986   |                                                                                                  Cria a Carreira de Agente Penitenciário Federal no Quadro de Pessoal do Departamento de Polícia Federal e dá outras providências.                                                                                                   |       9        | <a href=https://dadosabertos.camara.leg.br/api/v2/orgaos/5986>https://dadosabertos.camara.leg.br/api/v2/orgaos/5986</a> |       0       | 1  |\n",
       "|   8669   | Comissão Especial destinada a proferir parecer à Proposta de Emenda à Constituição nº 53-A, de 2007, do Sr. Jofran Frejat, que \"dá nova redação ao § 3º do Art. 39 da Constituição Federal\" (garante ao servidor de cargo em comissão de livre nomeação e exoneração, direito a aviso prévio, seguro desemprego, FGTS, entre outros) |       3        | <a href=https://dadosabertos.camara.leg.br/api/v2/orgaos/8669>https://dadosabertos.camara.leg.br/api/v2/orgaos/8669</a> |      2021     | 1  |\n",
       "+----------+--------------------------------------------------------------------------------------------------------------------------------------------------------------------------------------------------------------------------------------------------------------------------------------------------------------------------------------+----------------+-------------------------------------------------------------------------------------------------------------------------+---------------+----+\n",
       "Truncated to displaylimit of 10."
      ]
     },
     "execution_count": 104,
     "metadata": {},
     "output_type": "execute_result"
    }
   ],
   "source": [
    "%%sql\n",
    "\n",
    "SELECT * FROM orgaos_camara_all LIMIT 10;"
   ]
  },
  {
   "cell_type": "code",
   "execution_count": 105,
   "id": "a2d42933",
   "metadata": {
    "vscode": {
     "languageId": "sql"
    }
   },
   "outputs": [
    {
     "data": {
      "text/html": [
       "<span style=\"None\">Running query in &#x27;duck&#x27;</span>"
      ],
      "text/plain": [
       "Running query in 'duck'"
      ]
     },
     "metadata": {},
     "output_type": "display_data"
    },
    {
     "data": {
      "text/html": [
       "<table>\n",
       "    <thead>\n",
       "        <tr>\n",
       "            <th>id_proposicao</th>\n",
       "            <th>uri_kind</th>\n",
       "            <th>author_id_num</th>\n",
       "        </tr>\n",
       "    </thead>\n",
       "    <tbody>\n",
       "        <tr>\n",
       "            <td>15009</td>\n",
       "            <td>deputados</td>\n",
       "            <td>73538</td>\n",
       "        </tr>\n",
       "        <tr>\n",
       "            <td>15532</td>\n",
       "            <td>deputados</td>\n",
       "            <td>73910</td>\n",
       "        </tr>\n",
       "        <tr>\n",
       "            <td>15749</td>\n",
       "            <td>deputados</td>\n",
       "            <td>74316</td>\n",
       "        </tr>\n",
       "        <tr>\n",
       "            <td>15990</td>\n",
       "            <td>orgaos</td>\n",
       "            <td>262</td>\n",
       "        </tr>\n",
       "        <tr>\n",
       "            <td>16481</td>\n",
       "            <td>orgaos</td>\n",
       "            <td>78</td>\n",
       "        </tr>\n",
       "        <tr>\n",
       "            <td>16969</td>\n",
       "            <td>orgaos</td>\n",
       "            <td>78</td>\n",
       "        </tr>\n",
       "        <tr>\n",
       "            <td>17563</td>\n",
       "            <td>deputados</td>\n",
       "            <td>73788</td>\n",
       "        </tr>\n",
       "        <tr>\n",
       "            <td>17823</td>\n",
       "            <td>deputados</td>\n",
       "            <td>74671</td>\n",
       "        </tr>\n",
       "        <tr>\n",
       "            <td>17915</td>\n",
       "            <td>orgaos</td>\n",
       "            <td>78</td>\n",
       "        </tr>\n",
       "        <tr>\n",
       "            <td>18420</td>\n",
       "            <td>deputados</td>\n",
       "            <td>73458</td>\n",
       "        </tr>\n",
       "    </tbody>\n",
       "</table>\n",
       "<span style=\"font-style:italic;text-align:center;\">Truncated to <a href=\"https://jupysql.ploomber.io/en/latest/api/configuration.html#displaylimit\">displaylimit</a> of 10.</span>"
      ],
      "text/plain": [
       "+---------------+-----------+---------------+\n",
       "| id_proposicao |  uri_kind | author_id_num |\n",
       "+---------------+-----------+---------------+\n",
       "|     15009     | deputados |     73538     |\n",
       "|     15532     | deputados |     73910     |\n",
       "|     15749     | deputados |     74316     |\n",
       "|     15990     |   orgaos  |      262      |\n",
       "|     16481     |   orgaos  |       78      |\n",
       "|     16969     |   orgaos  |       78      |\n",
       "|     17563     | deputados |     73788     |\n",
       "|     17823     | deputados |     74671     |\n",
       "|     17915     |   orgaos  |       78      |\n",
       "|     18420     | deputados |     73458     |\n",
       "+---------------+-----------+---------------+\n",
       "Truncated to displaylimit of 10."
      ]
     },
     "execution_count": 105,
     "metadata": {},
     "output_type": "execute_result"
    }
   ],
   "source": [
    "%%sql\n",
    "SELECT * FROM camara_authors LIMIT 10;"
   ]
  },
  {
   "cell_type": "code",
   "execution_count": 106,
   "id": "93ee2818",
   "metadata": {
    "vscode": {
     "languageId": "sql"
    }
   },
   "outputs": [
    {
     "data": {
      "text/html": [
       "<span style=\"None\">Running query in &#x27;duck&#x27;</span>"
      ],
      "text/plain": [
       "Running query in 'duck'"
      ]
     },
     "metadata": {},
     "output_type": "display_data"
    },
    {
     "data": {
      "text/html": [
       "<table>\n",
       "    <thead>\n",
       "        <tr>\n",
       "            <th>missing_deputado_id</th>\n",
       "        </tr>\n",
       "    </thead>\n",
       "    <tbody>\n",
       "    </tbody>\n",
       "</table>"
      ],
      "text/plain": [
       "+---------------------+\n",
       "| missing_deputado_id |\n",
       "+---------------------+\n",
       "+---------------------+"
      ]
     },
     "execution_count": 106,
     "metadata": {},
     "output_type": "execute_result"
    }
   ],
   "source": [
    "%%sql\n",
    "-- Deputados: any referenced in camara_authors but missing in deputados_camara\n",
    "SELECT DISTINCT a.author_id_num AS missing_deputado_id\n",
    "FROM camara_authors a\n",
    "LEFT JOIN deputados_camara d ON d.id_deputado = a.author_id_num\n",
    "WHERE a.uri_kind = 'deputados' AND d.id_deputado IS NULL;\n"
   ]
  },
  {
   "cell_type": "code",
   "execution_count": 107,
   "id": "a950e05c",
   "metadata": {
    "vscode": {
     "languageId": "sql"
    }
   },
   "outputs": [
    {
     "data": {
      "text/html": [
       "<span style=\"None\">Running query in &#x27;duck&#x27;</span>"
      ],
      "text/plain": [
       "Running query in 'duck'"
      ]
     },
     "metadata": {},
     "output_type": "display_data"
    },
    {
     "data": {
      "text/html": [
       "<table>\n",
       "    <thead>\n",
       "        <tr>\n",
       "            <th>missing_orgao_id</th>\n",
       "        </tr>\n",
       "    </thead>\n",
       "    <tbody>\n",
       "    </tbody>\n",
       "</table>"
      ],
      "text/plain": [
       "+------------------+\n",
       "| missing_orgao_id |\n",
       "+------------------+\n",
       "+------------------+"
      ]
     },
     "execution_count": 107,
     "metadata": {},
     "output_type": "execute_result"
    }
   ],
   "source": [
    "%%sql\n",
    "-- Órgãos: any referenced in camara_authors but missing in orgaos_camara_all\n",
    "SELECT DISTINCT a.author_id_num AS missing_orgao_id\n",
    "FROM camara_authors a\n",
    "LEFT JOIN orgaos_camara_all o ON o.id_orgao = a.author_id_num\n",
    "WHERE a.uri_kind = 'orgaos' AND o.id_orgao IS NULL;\n"
   ]
  },
  {
   "cell_type": "code",
   "execution_count": 108,
   "id": "93d1427e",
   "metadata": {},
   "outputs": [],
   "source": [
    "# Get the congressmen and labels\n",
    "\n",
    "deps_df = conn.execute(\"SELECT * FROM deputados_camara\").df()\n",
    "deps_df['label'] = deps_df['nome_civil']\n",
    "deps_df['tag'] = deps_df['id_deputado'].apply(lambda v: f\"D:{v}\")\n",
    "deps_df = deps_df[['tag', 'label']]\n",
    "\n",
    "# Get the entities and labels\n",
    "\n",
    "orgs_df = conn.execute(\"SELECT * FROM orgaos_camara_all\").df()\n",
    "orgs_df['label'] = orgs_df['nome']\n",
    "orgs_df['tag'] = orgs_df['id_orgao'].apply(lambda v: f\"O:{v}\")\n",
    "orgs_df = orgs_df[['tag', 'label']]\n"
   ]
  },
  {
   "cell_type": "code",
   "execution_count": 109,
   "id": "4da12b77",
   "metadata": {},
   "outputs": [],
   "source": [
    "\n",
    "# Compile a DF of just labels\n",
    "\n",
    "labels_df = pd.concat([orgs_df, deps_df]).set_index('tag', drop=True)\n",
    "labels_df.columns = ['auth_label']\n",
    "\n",
    "# Build the propositions DF and labels\n",
    "\n",
    "props_df = conn.execute(\"SELECT * FROM proposicoes_camara\").df()\n",
    "props_df['prop_label'] = props_df.apply(lambda r: f\"{r['sigla_tipo']} {r['numero']}/{r['ano']}\", axis=1)\n",
    "props_df = props_df.set_index('id_proposicao', drop=True)\n",
    "props_df = props_df[['prop_label']]\n",
    "\n",
    "\n",
    "# Link with edge table\n",
    "\n",
    "df = conn.execute(\"\"\"SELECT * FROM camara_authors\"\"\").df()\n",
    "\n",
    "df['prop_tag'] = df['id_proposicao'].apply(lambda v: f\"P:{v}\")\n",
    "df['auth_tag'] = df.apply(\n",
    "    lambda r: f\"D:{r['author_id_num']}\" if r['uri_kind'] == 'deputados'\n",
    "              else f\"O:{r['author_id_num']}\",\n",
    "    axis=1\n",
    ")\n",
    "\n",
    "df = df.join(props_df, how='left', on='id_proposicao').join(labels_df, how='left', on='auth_tag')"
   ]
  },
  {
   "cell_type": "code",
   "execution_count": 110,
   "id": "b153a8cd",
   "metadata": {},
   "outputs": [
    {
     "data": {
      "text/html": [
       "<span style=\"None\">Running query in &#x27;duck&#x27;</span>"
      ],
      "text/plain": [
       "Running query in 'duck'"
      ]
     },
     "metadata": {},
     "output_type": "display_data"
    },
    {
     "data": {
      "text/html": [
       "<table>\n",
       "    <thead>\n",
       "        <tr>\n",
       "            <th>id_proposicao</th>\n",
       "            <th>uri_kind</th>\n",
       "            <th>author_id_num</th>\n",
       "        </tr>\n",
       "    </thead>\n",
       "    <tbody>\n",
       "        <tr>\n",
       "            <td>2198803</td>\n",
       "            <td></td>\n",
       "            <td>None</td>\n",
       "        </tr>\n",
       "    </tbody>\n",
       "</table>"
      ],
      "text/plain": [
       "+---------------+----------+---------------+\n",
       "| id_proposicao | uri_kind | author_id_num |\n",
       "+---------------+----------+---------------+\n",
       "|    2198803    |          |      None     |\n",
       "+---------------+----------+---------------+"
      ]
     },
     "execution_count": 110,
     "metadata": {},
     "output_type": "execute_result"
    }
   ],
   "source": [
    "%%sql\n",
    "SELECT * FROM camara_authors WHERE id_proposicao = 2198803;"
   ]
  },
  {
   "cell_type": "code",
   "execution_count": 113,
   "id": "342d88ba",
   "metadata": {},
   "outputs": [],
   "source": [
    "# drop phantom NAs\n",
    "df = df[~df['auth_tag'].str.contains(\"<\")]"
   ]
  },
  {
   "cell_type": "code",
   "execution_count": 114,
   "id": "43ea4588",
   "metadata": {},
   "outputs": [],
   "source": [
    "df[['prop_tag', 'auth_tag']].to_csv(OUT_DIR / \"camara_tripartite_edges.csv\", index=False)"
   ]
  },
  {
   "cell_type": "code",
   "execution_count": 115,
   "id": "e4f56481",
   "metadata": {},
   "outputs": [
    {
     "data": {
      "text/html": [
       "<div>\n",
       "<style scoped>\n",
       "    .dataframe tbody tr th:only-of-type {\n",
       "        vertical-align: middle;\n",
       "    }\n",
       "\n",
       "    .dataframe tbody tr th {\n",
       "        vertical-align: top;\n",
       "    }\n",
       "\n",
       "    .dataframe thead th {\n",
       "        text-align: right;\n",
       "    }\n",
       "</style>\n",
       "<table border=\"1\" class=\"dataframe\">\n",
       "  <thead>\n",
       "    <tr style=\"text-align: right;\">\n",
       "      <th></th>\n",
       "      <th>tag</th>\n",
       "      <th>label</th>\n",
       "      <th>type</th>\n",
       "    </tr>\n",
       "  </thead>\n",
       "  <tbody>\n",
       "    <tr>\n",
       "      <th>0</th>\n",
       "      <td>P:15009</td>\n",
       "      <td>PL 70/1995</td>\n",
       "      <td>proposicao</td>\n",
       "    </tr>\n",
       "    <tr>\n",
       "      <th>1</th>\n",
       "      <td>P:15532</td>\n",
       "      <td>PL 505/1991</td>\n",
       "      <td>proposicao</td>\n",
       "    </tr>\n",
       "    <tr>\n",
       "      <th>2</th>\n",
       "      <td>P:15749</td>\n",
       "      <td>PL 693/1999</td>\n",
       "      <td>proposicao</td>\n",
       "    </tr>\n",
       "    <tr>\n",
       "      <th>3</th>\n",
       "      <td>P:15990</td>\n",
       "      <td>PL 887/1991</td>\n",
       "      <td>proposicao</td>\n",
       "    </tr>\n",
       "    <tr>\n",
       "      <th>4</th>\n",
       "      <td>P:16481</td>\n",
       "      <td>PL 1258/1995</td>\n",
       "      <td>proposicao</td>\n",
       "    </tr>\n",
       "  </tbody>\n",
       "</table>\n",
       "</div>"
      ],
      "text/plain": [
       "       tag         label        type\n",
       "0  P:15009    PL 70/1995  proposicao\n",
       "1  P:15532   PL 505/1991  proposicao\n",
       "2  P:15749   PL 693/1999  proposicao\n",
       "3  P:15990   PL 887/1991  proposicao\n",
       "4  P:16481  PL 1258/1995  proposicao"
      ]
     },
     "execution_count": 115,
     "metadata": {},
     "output_type": "execute_result"
    }
   ],
   "source": [
    "prop_node_df = df[['prop_tag', 'prop_label']].drop_duplicates()\n",
    "prop_node_df['type'] = \"proposicao\"\n",
    "prop_node_df.columns = ['tag', 'label', 'type']\n",
    "prop_node_df.head()"
   ]
  },
  {
   "cell_type": "code",
   "execution_count": 116,
   "id": "bea41c03",
   "metadata": {},
   "outputs": [
    {
     "data": {
      "text/html": [
       "<div>\n",
       "<style scoped>\n",
       "    .dataframe tbody tr th:only-of-type {\n",
       "        vertical-align: middle;\n",
       "    }\n",
       "\n",
       "    .dataframe tbody tr th {\n",
       "        vertical-align: top;\n",
       "    }\n",
       "\n",
       "    .dataframe thead th {\n",
       "        text-align: right;\n",
       "    }\n",
       "</style>\n",
       "<table border=\"1\" class=\"dataframe\">\n",
       "  <thead>\n",
       "    <tr style=\"text-align: right;\">\n",
       "      <th></th>\n",
       "      <th>tag</th>\n",
       "      <th>label</th>\n",
       "      <th>type</th>\n",
       "    </tr>\n",
       "  </thead>\n",
       "  <tbody>\n",
       "    <tr>\n",
       "      <th>0</th>\n",
       "      <td>D:73538</td>\n",
       "      <td>JOSÉ DE CASTRO COIMBRA</td>\n",
       "      <td>deputado</td>\n",
       "    </tr>\n",
       "    <tr>\n",
       "      <th>1</th>\n",
       "      <td>D:73910</td>\n",
       "      <td>PAULO RENATO PAIM</td>\n",
       "      <td>deputado</td>\n",
       "    </tr>\n",
       "    <tr>\n",
       "      <th>2</th>\n",
       "      <td>D:74316</td>\n",
       "      <td>JOÃO HENRIQUE DE ALMEIDA SOUSA</td>\n",
       "      <td>deputado</td>\n",
       "    </tr>\n",
       "    <tr>\n",
       "      <th>3</th>\n",
       "      <td>O:262</td>\n",
       "      <td>COMISSÃO MISTA</td>\n",
       "      <td>orgao</td>\n",
       "    </tr>\n",
       "    <tr>\n",
       "      <th>4</th>\n",
       "      <td>O:78</td>\n",
       "      <td>Senado Federal</td>\n",
       "      <td>orgao</td>\n",
       "    </tr>\n",
       "  </tbody>\n",
       "</table>\n",
       "</div>"
      ],
      "text/plain": [
       "       tag                           label      type\n",
       "0  D:73538          JOSÉ DE CASTRO COIMBRA  deputado\n",
       "1  D:73910               PAULO RENATO PAIM  deputado\n",
       "2  D:74316  JOÃO HENRIQUE DE ALMEIDA SOUSA  deputado\n",
       "3    O:262                  COMISSÃO MISTA     orgao\n",
       "4     O:78                  Senado Federal     orgao"
      ]
     },
     "execution_count": 116,
     "metadata": {},
     "output_type": "execute_result"
    }
   ],
   "source": [
    "auth_node_df = df[['auth_tag', 'auth_label']].drop_duplicates()\n",
    "auth_node_df['type'] = auth_node_df['auth_tag'].apply(lambda v: \"deputado\" if v[0] == \"D\" else \"orgao\")\n",
    "auth_node_df.columns = ['tag', 'label', 'type']\n",
    "auth_node_df.head()"
   ]
  },
  {
   "cell_type": "code",
   "execution_count": 117,
   "id": "f7a6516b",
   "metadata": {},
   "outputs": [
    {
     "data": {
      "text/html": [
       "<div>\n",
       "<style scoped>\n",
       "    .dataframe tbody tr th:only-of-type {\n",
       "        vertical-align: middle;\n",
       "    }\n",
       "\n",
       "    .dataframe tbody tr th {\n",
       "        vertical-align: top;\n",
       "    }\n",
       "\n",
       "    .dataframe thead th {\n",
       "        text-align: right;\n",
       "    }\n",
       "</style>\n",
       "<table border=\"1\" class=\"dataframe\">\n",
       "  <thead>\n",
       "    <tr style=\"text-align: right;\">\n",
       "      <th></th>\n",
       "      <th>tag</th>\n",
       "      <th>label</th>\n",
       "      <th>type</th>\n",
       "    </tr>\n",
       "  </thead>\n",
       "  <tbody>\n",
       "    <tr>\n",
       "      <th>0</th>\n",
       "      <td>D:73538</td>\n",
       "      <td>JOSÉ DE CASTRO COIMBRA</td>\n",
       "      <td>deputado</td>\n",
       "    </tr>\n",
       "    <tr>\n",
       "      <th>1</th>\n",
       "      <td>D:73910</td>\n",
       "      <td>PAULO RENATO PAIM</td>\n",
       "      <td>deputado</td>\n",
       "    </tr>\n",
       "    <tr>\n",
       "      <th>2</th>\n",
       "      <td>D:74316</td>\n",
       "      <td>JOÃO HENRIQUE DE ALMEIDA SOUSA</td>\n",
       "      <td>deputado</td>\n",
       "    </tr>\n",
       "    <tr>\n",
       "      <th>3</th>\n",
       "      <td>O:262</td>\n",
       "      <td>COMISSÃO MISTA</td>\n",
       "      <td>orgao</td>\n",
       "    </tr>\n",
       "    <tr>\n",
       "      <th>4</th>\n",
       "      <td>O:78</td>\n",
       "      <td>Senado Federal</td>\n",
       "      <td>orgao</td>\n",
       "    </tr>\n",
       "    <tr>\n",
       "      <th>...</th>\n",
       "      <td>...</td>\n",
       "      <td>...</td>\n",
       "      <td>...</td>\n",
       "    </tr>\n",
       "    <tr>\n",
       "      <th>118084</th>\n",
       "      <td>P:2562372</td>\n",
       "      <td>SBT 2/0</td>\n",
       "      <td>proposicao</td>\n",
       "    </tr>\n",
       "    <tr>\n",
       "      <th>118085</th>\n",
       "      <td>P:2562395</td>\n",
       "      <td>SBT-A 1/0</td>\n",
       "      <td>proposicao</td>\n",
       "    </tr>\n",
       "    <tr>\n",
       "      <th>118086</th>\n",
       "      <td>P:2562422</td>\n",
       "      <td>EMR 2/0</td>\n",
       "      <td>proposicao</td>\n",
       "    </tr>\n",
       "    <tr>\n",
       "      <th>118087</th>\n",
       "      <td>P:2562435</td>\n",
       "      <td>SBT 1/0</td>\n",
       "      <td>proposicao</td>\n",
       "    </tr>\n",
       "    <tr>\n",
       "      <th>118088</th>\n",
       "      <td>P:2562440</td>\n",
       "      <td>SBT 1/0</td>\n",
       "      <td>proposicao</td>\n",
       "    </tr>\n",
       "  </tbody>\n",
       "</table>\n",
       "<p>118089 rows × 3 columns</p>\n",
       "</div>"
      ],
      "text/plain": [
       "              tag                           label        type\n",
       "0         D:73538          JOSÉ DE CASTRO COIMBRA    deputado\n",
       "1         D:73910               PAULO RENATO PAIM    deputado\n",
       "2         D:74316  JOÃO HENRIQUE DE ALMEIDA SOUSA    deputado\n",
       "3           O:262                  COMISSÃO MISTA       orgao\n",
       "4            O:78                  Senado Federal       orgao\n",
       "...           ...                             ...         ...\n",
       "118084  P:2562372                         SBT 2/0  proposicao\n",
       "118085  P:2562395                       SBT-A 1/0  proposicao\n",
       "118086  P:2562422                         EMR 2/0  proposicao\n",
       "118087  P:2562435                         SBT 1/0  proposicao\n",
       "118088  P:2562440                         SBT 1/0  proposicao\n",
       "\n",
       "[118089 rows x 3 columns]"
      ]
     },
     "execution_count": 117,
     "metadata": {},
     "output_type": "execute_result"
    }
   ],
   "source": [
    "node_df = pd.concat([auth_node_df, prop_node_df]).reset_index(drop=True)\n",
    "node_df"
   ]
  },
  {
   "cell_type": "code",
   "execution_count": 118,
   "id": "fe079467",
   "metadata": {},
   "outputs": [],
   "source": [
    "node_df.to_csv(OUT_DIR / \"camara_tripartite_nodes.csv\", index=False)"
   ]
  },
  {
   "cell_type": "code",
   "execution_count": 119,
   "id": "bda238da",
   "metadata": {},
   "outputs": [],
   "source": [
    "import pandas as pd\n",
    "import networkx as nx\n",
    "import seaborn as sns\n",
    "import matplotlib.pyplot as plt\n",
    "from collections import Counter\n",
    "from datetime import date\n",
    "from pathlib import Path\n",
    "\n",
    "sns.set_style(\"darkgrid\")\n",
    "NODES_CSV = \"outputs/camara_tripartite_nodes.csv\"       # <-- change\n",
    "EDGES_CSV = \"outputs/camara_tripartite_edges.csv\"      # <-- change\n",
    "OUT_DIR   = Path(\"outputs\")\n",
    "OUT_DIR.mkdir(parents=True, exist_ok=True)\n"
   ]
  },
  {
   "cell_type": "code",
   "execution_count": 120,
   "id": "49947ed0",
   "metadata": {},
   "outputs": [],
   "source": [
    "nodes_df = pd.read_csv(NODES_CSV)\n",
    "edges_df = pd.read_csv(EDGES_CSV)"
   ]
  },
  {
   "cell_type": "code",
   "execution_count": 121,
   "id": "b2ce6619",
   "metadata": {},
   "outputs": [],
   "source": [
    "G = nx.Graph()\n",
    "\n",
    "for _, r in nodes_df.iterrows():\n",
    "    G.add_node(\n",
    "        r['tag'],\n",
    "        label=r['label'],\n",
    "        ntype=r['type'],\n",
    "    )"
   ]
  },
  {
   "cell_type": "code",
   "execution_count": 122,
   "id": "4ad1f7bc",
   "metadata": {},
   "outputs": [],
   "source": [
    "for _, r in edges_df.iterrows():\n",
    "    p, a = r['prop_tag'], r['auth_tag']\n",
    "    G.add_edge(a, p, etype=\"autoria\")"
   ]
  },
  {
   "cell_type": "code",
   "execution_count": 123,
   "id": "33b29c44",
   "metadata": {},
   "outputs": [
    {
     "data": {
      "text/plain": [
       "(118089, 335656)"
      ]
     },
     "execution_count": 123,
     "metadata": {},
     "output_type": "execute_result"
    }
   ],
   "source": [
    "G.number_of_nodes(), G.number_of_edges()"
   ]
  },
  {
   "cell_type": "code",
   "execution_count": 134,
   "id": "86fdc11c",
   "metadata": {},
   "outputs": [
    {
     "data": {
      "image/png": "[encoded data removed]",
      "text/plain": [
       "<Figure size 900x600 with 1 Axes>"
      ]
     },
     "metadata": {},
     "output_type": "display_data"
    }
   ],
   "source": [
    "degree_dist = Counter(dict(G.degree).values())\n",
    "xs = sorted(degree_dist.keys())\n",
    "ys = [degree_dist[x] for x in xs]\n",
    "plt.figure(figsize=(6,4))\n",
    "plt.scatter(xs, ys)\n",
    "plt.xlabel(\"Grau k\")\n",
    "plt.ylabel(\"Nº de vértices com grau k (escala log)\")\n",
    "plt.xscale(\"log\")\n",
    "plt.yscale(\"log\")\n",
    "plt.suptitle(\"Câmara dos Deputados: proposições e autores\")\n",
    "plt.title(\"Distribuição de graus\")\n",
    "plt.tight_layout()\n",
    "plt.show()"
   ]
  },
  {
   "cell_type": "code",
   "execution_count": 132,
   "id": "6db7a70a",
   "metadata": {},
   "outputs": [
    {
     "data": {
      "image/png": "[encoded data removed]",
      "text/plain": [
       "<Figure size 900x600 with 1 Axes>"
      ]
     },
     "metadata": {},
     "output_type": "display_data"
    }
   ],
   "source": [
    "ccs = list(nx.connected_components(G))\n",
    "cc_sizes = [len(cc) for cc in ccs]\n",
    "cc_size_dist = Counter(cc_sizes)\n",
    "xs = sorted(cc_size_dist.keys())\n",
    "ys = [cc_size_dist[x] for x in xs]\n",
    "plt.figure(figsize=(6,4))\n",
    "plt.scatter(xs, ys)\n",
    "plt.xlabel(\"Nº de vértices k (escala log)\")\n",
    "plt.ylabel(\"Nº de comp. conectados com k vértices (escala log)\")\n",
    "plt.xscale(\"log\")\n",
    "plt.yscale(\"log\")\n",
    "plt.suptitle(\"Câmara dos Deputados: proposições e autores\")\n",
    "plt.title(\"Distribuição de cardinalidade de componentes conectados\")\n",
    "plt.tight_layout()\n",
    "plt.show()"
   ]
  },
  {
   "cell_type": "code",
   "execution_count": 135,
   "id": "337a232d",
   "metadata": {},
   "outputs": [
    {
     "name": "stdout",
     "output_type": "stream",
     "text": [
      "|V| = 118089\n",
      "|E| = 335656\n",
      "<k> = 0.7036310985056129\n"
     ]
    }
   ],
   "source": [
    "V = G.number_of_nodes()\n",
    "E = G.number_of_edges()\n",
    "k = 2 * V / E\n",
    "print(f\"|V| = {V}\")\n",
    "print(f\"|E| = {E}\")\n",
    "print(f\"<k> = {k}\")\n"
   ]
  },
  {
   "cell_type": "code",
   "execution_count": null,
   "id": "8a39ac07",
   "metadata": {},
   "outputs": [],
   "source": []
  }
 ],
 "metadata": {
  "kernelspec": {
   "display_name": "venv",
   "language": "python",
   "name": "python3"
  },
  "language_info": {
   "codemirror_mode": {
    "name": "ipython",
    "version": 3
   },
   "file_extension": ".py",
   "mimetype": "text/x-python",
   "name": "python",
   "nbconvert_exporter": "python",
   "pygments_lexer": "ipython3",
   "version": "3.13.7"
  }
 },
 "nbformat": 4,
 "nbformat_minor": 5
}
