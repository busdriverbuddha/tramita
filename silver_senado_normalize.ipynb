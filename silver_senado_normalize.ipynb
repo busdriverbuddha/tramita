{
 "cells": [
  {
   "cell_type": "code",
   "execution_count": 1,
   "id": "fa4d4682",
   "metadata": {},
   "outputs": [
    {
     "data": {
      "text/html": [
       "<span style=\"None\">Tip: You may define configurations in /home/c-cc2016/ra173608/tramita/pyproject.toml or /home/c-cc2016/ra173608/.jupysql/config. </span>"
      ],
      "text/plain": [
       "Tip: You may define configurations in /home/c-cc2016/ra173608/tramita/pyproject.toml or /home/c-cc2016/ra173608/.jupysql/config. "
      ]
     },
     "metadata": {},
     "output_type": "display_data"
    },
    {
     "data": {
      "text/html": [
       "Please review our <a href='https://jupysql.ploomber.io/en/latest/api/configuration.html#loading-from-a-file'>configuration guideline</a>."
      ],
      "text/plain": [
       "<IPython.core.display.HTML object>"
      ]
     },
     "metadata": {},
     "output_type": "display_data"
    },
    {
     "data": {
      "text/html": [
       "<span style=\"None\">Did not find user configurations in /home/c-cc2016/ra173608/tramita/pyproject.toml.</span>"
      ],
      "text/plain": [
       "Did not find user configurations in /home/c-cc2016/ra173608/tramita/pyproject.toml."
      ]
     },
     "metadata": {},
     "output_type": "display_data"
    }
   ],
   "source": [
    "import os\n",
    "import duckdb\n",
    "\n",
    "from pathlib import Path\n",
    "\n",
    "%load_ext sql\n",
    "\n",
    "from dotenv import load_dotenv\n",
    "\n",
    "load_dotenv()\n",
    "\n",
    "DB_PATH = Path(os.getenv(\"SILVER_DUCKDB_PATH\", \"\"))\n",
    "DB_PATH.parent.mkdir(parents=True, exist_ok=True)\n",
    "\n",
    "TMP_DIR = \"/tmp/duckdb_tmp\"  # make sure it exists\n",
    "\n",
    "conn = duckdb.connect(DB_PATH)\n",
    "\n",
    "conn.execute(f\"SET temp_directory='{TMP_DIR}'\")\n",
    "conn.execute(\"SET memory_limit='50GB'\")\n",
    "conn.execute(\"SET threads=1\")\n",
    "conn.execute(\"SET preserve_insertion_order=false\")\n",
    "\n",
    "%sql conn --alias duck"
   ]
  },
  {
   "cell_type": "markdown",
   "id": "7a64156c",
   "metadata": {},
   "source": [
    "# Normalização de PKs"
   ]
  },
  {
   "cell_type": "code",
   "execution_count": 2,
   "id": "31d53c6f",
   "metadata": {
    "vscode": {
     "languageId": "sql"
    }
   },
   "outputs": [
    {
     "data": {
      "text/html": [
       "<span style=\"None\">Running query in &#x27;duck&#x27;</span>"
      ],
      "text/plain": [
       "Running query in 'duck'"
      ]
     },
     "metadata": {},
     "output_type": "display_data"
    },
    {
     "data": {
      "text/html": [
       "<table>\n",
       "    <thead>\n",
       "        <tr>\n",
       "            <th>Success</th>\n",
       "        </tr>\n",
       "    </thead>\n",
       "    <tbody>\n",
       "    </tbody>\n",
       "</table>"
      ],
      "text/plain": [
       "+---------+\n",
       "| Success |\n",
       "+---------+\n",
       "+---------+"
      ]
     },
     "execution_count": 2,
     "metadata": {},
     "output_type": "execute_result"
    }
   ],
   "source": [
    "%%sql\n",
    "ALTER TABLE bloco_senado\n",
    "    ALTER COLUMN codigo_bloco TYPE BIGINT;\n",
    "\n",
    "ALTER TABLE bloco_senado\n",
    "    ADD CONSTRAINT pk_bloco PRIMARY KEY (codigo_bloco);"
   ]
  },
  {
   "cell_type": "code",
   "execution_count": 3,
   "id": "119f1334",
   "metadata": {
    "vscode": {
     "languageId": "sql"
    }
   },
   "outputs": [
    {
     "data": {
      "text/html": [
       "<span style=\"None\">Running query in &#x27;duck&#x27;</span>"
      ],
      "text/plain": [
       "Running query in 'duck'"
      ]
     },
     "metadata": {},
     "output_type": "display_data"
    },
    {
     "data": {
      "text/html": [
       "<table>\n",
       "    <thead>\n",
       "        <tr>\n",
       "            <th>Success</th>\n",
       "        </tr>\n",
       "    </thead>\n",
       "    <tbody>\n",
       "    </tbody>\n",
       "</table>"
      ],
      "text/plain": [
       "+---------+\n",
       "| Success |\n",
       "+---------+\n",
       "+---------+"
      ]
     },
     "execution_count": 3,
     "metadata": {},
     "output_type": "execute_result"
    }
   ],
   "source": [
    "%%sql\n",
    "CREATE TABLE parlamentares_senado_dedup AS\n",
    "SELECT *\n",
    "FROM (\n",
    "    SELECT *,\n",
    "           ROW_NUMBER() OVER (PARTITION BY codigo_parlamentar ORDER BY year_snapshot DESC) AS rn\n",
    "    FROM parlamentar_senado\n",
    ")\n",
    "WHERE rn = 1;\n",
    "\n",
    "DROP TABLE parlamentar_senado;\n",
    "ALTER TABLE parlamentares_senado_dedup RENAME TO parlamentar_senado;\n"
   ]
  },
  {
   "cell_type": "code",
   "execution_count": 4,
   "id": "cfcfbb82",
   "metadata": {
    "vscode": {
     "languageId": "sql"
    }
   },
   "outputs": [
    {
     "data": {
      "text/html": [
       "<span style=\"None\">Running query in &#x27;duck&#x27;</span>"
      ],
      "text/plain": [
       "Running query in 'duck'"
      ]
     },
     "metadata": {},
     "output_type": "display_data"
    },
    {
     "data": {
      "text/html": [
       "<table>\n",
       "    <thead>\n",
       "        <tr>\n",
       "            <th>Success</th>\n",
       "        </tr>\n",
       "    </thead>\n",
       "    <tbody>\n",
       "    </tbody>\n",
       "</table>"
      ],
      "text/plain": [
       "+---------+\n",
       "| Success |\n",
       "+---------+\n",
       "+---------+"
      ]
     },
     "execution_count": 4,
     "metadata": {},
     "output_type": "execute_result"
    }
   ],
   "source": [
    "%%sql\n",
    "ALTER TABLE parlamentar_senado\n",
    "    ALTER COLUMN codigo_parlamentar TYPE BIGINT;\n",
    "\n",
    "ALTER TABLE parlamentar_senado\n",
    "    ADD CONSTRAINT pk_parlamentar PRIMARY KEY (codigo_parlamentar);"
   ]
  },
  {
   "cell_type": "code",
   "execution_count": 5,
   "id": "a250308c",
   "metadata": {
    "vscode": {
     "languageId": "sql"
    }
   },
   "outputs": [
    {
     "data": {
      "text/html": [
       "<span style=\"None\">Running query in &#x27;duck&#x27;</span>"
      ],
      "text/plain": [
       "Running query in 'duck'"
      ]
     },
     "metadata": {},
     "output_type": "display_data"
    },
    {
     "data": {
      "text/html": [
       "<table>\n",
       "    <thead>\n",
       "        <tr>\n",
       "            <th>Success</th>\n",
       "        </tr>\n",
       "    </thead>\n",
       "    <tbody>\n",
       "    </tbody>\n",
       "</table>"
      ],
      "text/plain": [
       "+---------+\n",
       "| Success |\n",
       "+---------+\n",
       "+---------+"
      ]
     },
     "execution_count": 5,
     "metadata": {},
     "output_type": "execute_result"
    }
   ],
   "source": [
    "%%sql\n",
    "ALTER TABLE partido_senado\n",
    "    ALTER COLUMN codigo_partido TYPE BIGINT;\n",
    "\n",
    "ALTER TABLE partido_senado\n",
    "    ADD CONSTRAINT pk_partido PRIMARY KEY (codigo_partido);"
   ]
  },
  {
   "cell_type": "code",
   "execution_count": 6,
   "id": "b72116e4",
   "metadata": {
    "vscode": {
     "languageId": "sql"
    }
   },
   "outputs": [
    {
     "data": {
      "text/html": [
       "<span style=\"None\">Running query in &#x27;duck&#x27;</span>"
      ],
      "text/plain": [
       "Running query in 'duck'"
      ]
     },
     "metadata": {},
     "output_type": "display_data"
    },
    {
     "data": {
      "text/html": [
       "<table>\n",
       "    <thead>\n",
       "        <tr>\n",
       "            <th>Success</th>\n",
       "        </tr>\n",
       "    </thead>\n",
       "    <tbody>\n",
       "    </tbody>\n",
       "</table>"
      ],
      "text/plain": [
       "+---------+\n",
       "| Success |\n",
       "+---------+\n",
       "+---------+"
      ]
     },
     "execution_count": 6,
     "metadata": {},
     "output_type": "execute_result"
    }
   ],
   "source": [
    "%%sql\n",
    "ALTER TABLE processo_senado\n",
    "    ALTER COLUMN id_processo TYPE BIGINT;\n",
    "\n",
    "ALTER TABLE processo_senado\n",
    "    ADD CONSTRAINT pk_processo PRIMARY KEY (id_processo);"
   ]
  },
  {
   "cell_type": "code",
   "execution_count": 7,
   "id": "adca2766",
   "metadata": {
    "vscode": {
     "languageId": "sql"
    }
   },
   "outputs": [
    {
     "data": {
      "text/html": [
       "<span style=\"None\">Running query in &#x27;duck&#x27;</span>"
      ],
      "text/plain": [
       "Running query in 'duck'"
      ]
     },
     "metadata": {},
     "output_type": "display_data"
    },
    {
     "data": {
      "text/html": [
       "<table>\n",
       "    <thead>\n",
       "        <tr>\n",
       "            <th>Success</th>\n",
       "        </tr>\n",
       "    </thead>\n",
       "    <tbody>\n",
       "    </tbody>\n",
       "</table>"
      ],
      "text/plain": [
       "+---------+\n",
       "| Success |\n",
       "+---------+\n",
       "+---------+"
      ]
     },
     "execution_count": 7,
     "metadata": {},
     "output_type": "execute_result"
    }
   ],
   "source": [
    "%%sql\n",
    "ALTER TABLE emendas_senado\n",
    "    ALTER COLUMN id_emenda TYPE BIGINT;\n",
    "\n",
    "ALTER TABLE emendas_senado\n",
    "    ADD CONSTRAINT pk_emenda PRIMARY KEY (id_emenda);"
   ]
  },
  {
   "cell_type": "code",
   "execution_count": 8,
   "id": "947ae9d0",
   "metadata": {
    "vscode": {
     "languageId": "sql"
    }
   },
   "outputs": [
    {
     "data": {
      "text/html": [
       "<span style=\"None\">Running query in &#x27;duck&#x27;</span>"
      ],
      "text/plain": [
       "Running query in 'duck'"
      ]
     },
     "metadata": {},
     "output_type": "display_data"
    },
    {
     "data": {
      "text/html": [
       "<table>\n",
       "    <thead>\n",
       "        <tr>\n",
       "            <th>Success</th>\n",
       "        </tr>\n",
       "    </thead>\n",
       "    <tbody>\n",
       "    </tbody>\n",
       "</table>"
      ],
      "text/plain": [
       "+---------+\n",
       "| Success |\n",
       "+---------+\n",
       "+---------+"
      ]
     },
     "execution_count": 8,
     "metadata": {},
     "output_type": "execute_result"
    }
   ],
   "source": [
    "%%sql\n",
    "ALTER TABLE relatorias_senado\n",
    "    ALTER COLUMN id_relatoria TYPE BIGINT;\n",
    "\n",
    "ALTER TABLE relatorias_senado\n",
    "    ADD CONSTRAINT pk_relatoria PRIMARY KEY (id_relatoria);"
   ]
  },
  {
   "cell_type": "code",
   "execution_count": 9,
   "id": "19ea820e",
   "metadata": {
    "vscode": {
     "languageId": "sql"
    }
   },
   "outputs": [
    {
     "data": {
      "text/html": [
       "<span style=\"None\">Running query in &#x27;duck&#x27;</span>"
      ],
      "text/plain": [
       "Running query in 'duck'"
      ]
     },
     "metadata": {},
     "output_type": "display_data"
    },
    {
     "data": {
      "text/html": [
       "<table>\n",
       "    <thead>\n",
       "        <tr>\n",
       "            <th>Success</th>\n",
       "        </tr>\n",
       "    </thead>\n",
       "    <tbody>\n",
       "    </tbody>\n",
       "</table>"
      ],
      "text/plain": [
       "+---------+\n",
       "| Success |\n",
       "+---------+\n",
       "+---------+"
      ]
     },
     "execution_count": 9,
     "metadata": {},
     "output_type": "execute_result"
    }
   ],
   "source": [
    "%%sql\n",
    "ALTER TABLE votacoes_senado\n",
    "    ALTER COLUMN id_votacao TYPE BIGINT;\n",
    "\n",
    "ALTER TABLE votacoes_senado\n",
    "    ADD CONSTRAINT pk_votacao PRIMARY KEY (id_votacao);"
   ]
  },
  {
   "cell_type": "code",
   "execution_count": 10,
   "id": "2b6f3671",
   "metadata": {
    "vscode": {
     "languageId": "sql"
    }
   },
   "outputs": [
    {
     "data": {
      "text/html": [
       "<span style=\"None\">Running query in &#x27;duck&#x27;</span>"
      ],
      "text/plain": [
       "Running query in 'duck'"
      ]
     },
     "metadata": {},
     "output_type": "display_data"
    },
    {
     "data": {
      "text/html": [
       "<table>\n",
       "    <thead>\n",
       "        <tr>\n",
       "            <th>Success</th>\n",
       "        </tr>\n",
       "    </thead>\n",
       "    <tbody>\n",
       "    </tbody>\n",
       "</table>"
      ],
      "text/plain": [
       "+---------+\n",
       "| Success |\n",
       "+---------+\n",
       "+---------+"
      ]
     },
     "execution_count": 10,
     "metadata": {},
     "output_type": "execute_result"
    }
   ],
   "source": [
    "%%sql\n",
    "ALTER TABLE votos_senado\n",
    "    ALTER COLUMN id_voto TYPE BIGINT;\n",
    "\n",
    "ALTER TABLE votos_senado\n",
    "    ADD CONSTRAINT pk_voto PRIMARY KEY (id_voto);"
   ]
  },
  {
   "cell_type": "code",
   "execution_count": 11,
   "id": "aeb74699",
   "metadata": {
    "vscode": {
     "languageId": "sql"
    }
   },
   "outputs": [
    {
     "data": {
      "text/html": [
       "<span style=\"None\">Running query in &#x27;duck&#x27;</span>"
      ],
      "text/plain": [
       "Running query in 'duck'"
      ]
     },
     "metadata": {},
     "output_type": "display_data"
    },
    {
     "data": {
      "text/html": [
       "<table>\n",
       "    <thead>\n",
       "        <tr>\n",
       "            <th>Success</th>\n",
       "        </tr>\n",
       "    </thead>\n",
       "    <tbody>\n",
       "    </tbody>\n",
       "</table>"
      ],
      "text/plain": [
       "+---------+\n",
       "| Success |\n",
       "+---------+\n",
       "+---------+"
      ]
     },
     "execution_count": 11,
     "metadata": {},
     "output_type": "execute_result"
    }
   ],
   "source": [
    "%%sql\n",
    "ALTER TABLE autoria_iniciativa_senado\n",
    "    ALTER COLUMN id_autoria_iniciativa TYPE BIGINT;\n",
    "\n",
    "ALTER TABLE autoria_iniciativa_senado\n",
    "    ADD CONSTRAINT pk_autoria_iniciativa PRIMARY KEY (id_autoria_iniciativa);"
   ]
  },
  {
   "cell_type": "code",
   "execution_count": 12,
   "id": "828d585c",
   "metadata": {
    "vscode": {
     "languageId": "sql"
    }
   },
   "outputs": [
    {
     "data": {
      "text/html": [
       "<span style=\"None\">Running query in &#x27;duck&#x27;</span>"
      ],
      "text/plain": [
       "Running query in 'duck'"
      ]
     },
     "metadata": {},
     "output_type": "display_data"
    },
    {
     "data": {
      "text/html": [
       "<table>\n",
       "    <thead>\n",
       "        <tr>\n",
       "            <th>Success</th>\n",
       "        </tr>\n",
       "    </thead>\n",
       "    <tbody>\n",
       "    </tbody>\n",
       "</table>"
      ],
      "text/plain": [
       "+---------+\n",
       "| Success |\n",
       "+---------+\n",
       "+---------+"
      ]
     },
     "execution_count": 12,
     "metadata": {},
     "output_type": "execute_result"
    }
   ],
   "source": [
    "%%sql\n",
    "ALTER TABLE situacoes_senado\n",
    "    ALTER COLUMN id_situacao TYPE BIGINT;\n",
    "\n",
    "ALTER TABLE situacoes_senado\n",
    "    ADD CONSTRAINT pk_situacao PRIMARY KEY (id_situacao);"
   ]
  },
  {
   "cell_type": "code",
   "execution_count": 13,
   "id": "dfd61a1e",
   "metadata": {
    "vscode": {
     "languageId": "sql"
    }
   },
   "outputs": [
    {
     "data": {
      "text/html": [
       "<span style=\"None\">Running query in &#x27;duck&#x27;</span>"
      ],
      "text/plain": [
       "Running query in 'duck'"
      ]
     },
     "metadata": {},
     "output_type": "display_data"
    },
    {
     "data": {
      "text/html": [
       "<table>\n",
       "    <thead>\n",
       "        <tr>\n",
       "            <th>id_processo</th>\n",
       "            <th>id_despacho</th>\n",
       "            <th>data_despacho</th>\n",
       "            <th>cancelado</th>\n",
       "            <th>tipo_motivacao</th>\n",
       "            <th>sigla_tipo_motivacao</th>\n",
       "            <th>year_snapshot</th>\n",
       "        </tr>\n",
       "    </thead>\n",
       "    <tbody>\n",
       "        <tr>\n",
       "            <td>7412455</td>\n",
       "            <td>7824068</td>\n",
       "            <td>2018-08-09</td>\n",
       "            <td>Não</td>\n",
       "            <td>Leitura da Matéria</td>\n",
       "            <td>LEITURA_DA_MATERIA</td>\n",
       "            <td>2018</td>\n",
       "        </tr>\n",
       "        <tr>\n",
       "            <td>7621491</td>\n",
       "            <td>7824068</td>\n",
       "            <td>2018-08-09</td>\n",
       "            <td>Não</td>\n",
       "            <td>Leitura da Matéria</td>\n",
       "            <td>LEITURA_DA_MATERIA</td>\n",
       "            <td>2018</td>\n",
       "        </tr>\n",
       "        <tr>\n",
       "            <td>7693160</td>\n",
       "            <td>7880428</td>\n",
       "            <td>2018-10-30</td>\n",
       "            <td>Não</td>\n",
       "            <td>Leitura da Matéria</td>\n",
       "            <td>LEITURA_DA_MATERIA</td>\n",
       "            <td>2018</td>\n",
       "        </tr>\n",
       "        <tr>\n",
       "            <td>7693167</td>\n",
       "            <td>7880428</td>\n",
       "            <td>2018-10-30</td>\n",
       "            <td>Não</td>\n",
       "            <td>Leitura da Matéria</td>\n",
       "            <td>LEITURA_DA_MATERIA</td>\n",
       "            <td>2018</td>\n",
       "        </tr>\n",
       "        <tr>\n",
       "            <td>7693182</td>\n",
       "            <td>7880428</td>\n",
       "            <td>2018-10-30</td>\n",
       "            <td>Não</td>\n",
       "            <td>Leitura da Matéria</td>\n",
       "            <td>LEITURA_DA_MATERIA</td>\n",
       "            <td>2018</td>\n",
       "        </tr>\n",
       "        <tr>\n",
       "            <td>7693177</td>\n",
       "            <td>7880428</td>\n",
       "            <td>2018-10-30</td>\n",
       "            <td>Não</td>\n",
       "            <td>Leitura da Matéria</td>\n",
       "            <td>LEITURA_DA_MATERIA</td>\n",
       "            <td>2018</td>\n",
       "        </tr>\n",
       "        <tr>\n",
       "            <td>7693217</td>\n",
       "            <td>7880428</td>\n",
       "            <td>2018-10-30</td>\n",
       "            <td>Não</td>\n",
       "            <td>Leitura da Matéria</td>\n",
       "            <td>LEITURA_DA_MATERIA</td>\n",
       "            <td>2018</td>\n",
       "        </tr>\n",
       "        <tr>\n",
       "            <td>7693226</td>\n",
       "            <td>7880428</td>\n",
       "            <td>2018-10-30</td>\n",
       "            <td>Não</td>\n",
       "            <td>Leitura da Matéria</td>\n",
       "            <td>LEITURA_DA_MATERIA</td>\n",
       "            <td>2018</td>\n",
       "        </tr>\n",
       "        <tr>\n",
       "            <td>7703389</td>\n",
       "            <td>7893781</td>\n",
       "            <td>2018-12-10</td>\n",
       "            <td>Não</td>\n",
       "            <td>Leitura da Matéria</td>\n",
       "            <td>LEITURA_DA_MATERIA</td>\n",
       "            <td>2018</td>\n",
       "        </tr>\n",
       "        <tr>\n",
       "            <td>7703387</td>\n",
       "            <td>7893781</td>\n",
       "            <td>2018-12-10</td>\n",
       "            <td>Não</td>\n",
       "            <td>Leitura da Matéria</td>\n",
       "            <td>LEITURA_DA_MATERIA</td>\n",
       "            <td>2018</td>\n",
       "        </tr>\n",
       "    </tbody>\n",
       "</table>\n",
       "<span style=\"font-style:italic;text-align:center;\">Truncated to <a href=\"https://jupysql.ploomber.io/en/latest/api/configuration.html#displaylimit\">displaylimit</a> of 10.</span>"
      ],
      "text/plain": [
       "+-------------+-------------+---------------+-----------+--------------------+----------------------+---------------+\n",
       "| id_processo | id_despacho | data_despacho | cancelado |   tipo_motivacao   | sigla_tipo_motivacao | year_snapshot |\n",
       "+-------------+-------------+---------------+-----------+--------------------+----------------------+---------------+\n",
       "|   7412455   |   7824068   |   2018-08-09  |    Não    | Leitura da Matéria |  LEITURA_DA_MATERIA  |      2018     |\n",
       "|   7621491   |   7824068   |   2018-08-09  |    Não    | Leitura da Matéria |  LEITURA_DA_MATERIA  |      2018     |\n",
       "|   7693160   |   7880428   |   2018-10-30  |    Não    | Leitura da Matéria |  LEITURA_DA_MATERIA  |      2018     |\n",
       "|   7693167   |   7880428   |   2018-10-30  |    Não    | Leitura da Matéria |  LEITURA_DA_MATERIA  |      2018     |\n",
       "|   7693182   |   7880428   |   2018-10-30  |    Não    | Leitura da Matéria |  LEITURA_DA_MATERIA  |      2018     |\n",
       "|   7693177   |   7880428   |   2018-10-30  |    Não    | Leitura da Matéria |  LEITURA_DA_MATERIA  |      2018     |\n",
       "|   7693217   |   7880428   |   2018-10-30  |    Não    | Leitura da Matéria |  LEITURA_DA_MATERIA  |      2018     |\n",
       "|   7693226   |   7880428   |   2018-10-30  |    Não    | Leitura da Matéria |  LEITURA_DA_MATERIA  |      2018     |\n",
       "|   7703389   |   7893781   |   2018-12-10  |    Não    | Leitura da Matéria |  LEITURA_DA_MATERIA  |      2018     |\n",
       "|   7703387   |   7893781   |   2018-12-10  |    Não    | Leitura da Matéria |  LEITURA_DA_MATERIA  |      2018     |\n",
       "+-------------+-------------+---------------+-----------+--------------------+----------------------+---------------+\n",
       "Truncated to displaylimit of 10."
      ]
     },
     "execution_count": 13,
     "metadata": {},
     "output_type": "execute_result"
    }
   ],
   "source": [
    "%%sql\n",
    "SELECT t.*\n",
    "FROM despachos_senado t\n",
    "JOIN (\n",
    "    SELECT id_despacho\n",
    "    FROM despachos_senado\n",
    "    GROUP BY id_despacho\n",
    "    HAVING COUNT(*) > 1\n",
    ") dups\n",
    "ON t.id_despacho = dups.id_despacho\n",
    "ORDER BY t.id_despacho;"
   ]
  },
  {
   "cell_type": "code",
   "execution_count": 14,
   "id": "bc8d3b25",
   "metadata": {
    "vscode": {
     "languageId": "sql"
    }
   },
   "outputs": [
    {
     "data": {
      "text/html": [
       "<span style=\"None\">Running query in &#x27;duck&#x27;</span>"
      ],
      "text/plain": [
       "Running query in 'duck'"
      ]
     },
     "metadata": {},
     "output_type": "display_data"
    },
    {
     "data": {
      "text/html": [
       "<table>\n",
       "    <thead>\n",
       "        <tr>\n",
       "            <th>Success</th>\n",
       "        </tr>\n",
       "    </thead>\n",
       "    <tbody>\n",
       "    </tbody>\n",
       "</table>"
      ],
      "text/plain": [
       "+---------+\n",
       "| Success |\n",
       "+---------+\n",
       "+---------+"
      ]
     },
     "execution_count": 14,
     "metadata": {},
     "output_type": "execute_result"
    }
   ],
   "source": [
    "%%sql\n",
    "ALTER TABLE despachos_senado\n",
    "    ALTER COLUMN id_despacho TYPE BIGINT;\n",
    "\n",
    "ALTER TABLE despachos_senado\n",
    "    ALTER COLUMN id_processo TYPE BIGINT;\n",
    "\n",
    "ALTER TABLE despachos_senado\n",
    "    ADD CONSTRAINT pk_despacho PRIMARY KEY (id_despacho, id_processo);"
   ]
  },
  {
   "cell_type": "code",
   "execution_count": 15,
   "id": "43f27e61",
   "metadata": {
    "vscode": {
     "languageId": "sql"
    }
   },
   "outputs": [
    {
     "data": {
      "text/html": [
       "<span style=\"None\">Running query in &#x27;duck&#x27;</span>"
      ],
      "text/plain": [
       "Running query in 'duck'"
      ]
     },
     "metadata": {},
     "output_type": "display_data"
    },
    {
     "data": {
      "text/html": [
       "<table>\n",
       "    <thead>\n",
       "        <tr>\n",
       "            <th>Success</th>\n",
       "        </tr>\n",
       "    </thead>\n",
       "    <tbody>\n",
       "    </tbody>\n",
       "</table>"
      ],
      "text/plain": [
       "+---------+\n",
       "| Success |\n",
       "+---------+\n",
       "+---------+"
      ]
     },
     "execution_count": 15,
     "metadata": {},
     "output_type": "execute_result"
    }
   ],
   "source": [
    "%%sql\n",
    "ALTER TABLE outros_numeros_senado\n",
    "    ALTER COLUMN id_outro_numero TYPE BIGINT;\n",
    "\n",
    "ALTER TABLE outros_numeros_senado\n",
    "    ADD CONSTRAINT pk_outro_numero PRIMARY KEY (id_outro_numero);"
   ]
  },
  {
   "cell_type": "code",
   "execution_count": 16,
   "id": "2a6799e8",
   "metadata": {
    "vscode": {
     "languageId": "sql"
    }
   },
   "outputs": [
    {
     "data": {
      "text/html": [
       "<span style=\"None\">Running query in &#x27;duck&#x27;</span>"
      ],
      "text/plain": [
       "Running query in 'duck'"
      ]
     },
     "metadata": {},
     "output_type": "display_data"
    },
    {
     "data": {
      "text/html": [
       "<table>\n",
       "    <thead>\n",
       "        <tr>\n",
       "            <th>Success</th>\n",
       "        </tr>\n",
       "    </thead>\n",
       "    <tbody>\n",
       "    </tbody>\n",
       "</table>"
      ],
      "text/plain": [
       "+---------+\n",
       "| Success |\n",
       "+---------+\n",
       "+---------+"
      ]
     },
     "execution_count": 16,
     "metadata": {},
     "output_type": "execute_result"
    }
   ],
   "source": [
    "%%sql\n",
    "ALTER TABLE documento_autoria_senado\n",
    "    ALTER COLUMN id_documento_autoria TYPE BIGINT;\n",
    "\n",
    "ALTER TABLE documento_autoria_senado\n",
    "    ADD CONSTRAINT pk_documento_autoria PRIMARY KEY (id_documento_autoria);"
   ]
  },
  {
   "cell_type": "code",
   "execution_count": 17,
   "id": "eb74563a",
   "metadata": {
    "vscode": {
     "languageId": "sql"
    }
   },
   "outputs": [
    {
     "data": {
      "text/html": [
       "<span style=\"None\">Running query in &#x27;duck&#x27;</span>"
      ],
      "text/plain": [
       "Running query in 'duck'"
      ]
     },
     "metadata": {},
     "output_type": "display_data"
    },
    {
     "data": {
      "text/html": [
       "<table>\n",
       "    <thead>\n",
       "        <tr>\n",
       "            <th>Success</th>\n",
       "        </tr>\n",
       "    </thead>\n",
       "    <tbody>\n",
       "    </tbody>\n",
       "</table>"
      ],
      "text/plain": [
       "+---------+\n",
       "| Success |\n",
       "+---------+\n",
       "+---------+"
      ]
     },
     "execution_count": 17,
     "metadata": {},
     "output_type": "execute_result"
    }
   ],
   "source": [
    "%%sql\n",
    "ALTER TABLE processos_relacionados_senado\n",
    "    ALTER COLUMN id_processo_relacionado TYPE BIGINT;\n",
    "\n",
    "ALTER TABLE processos_relacionados_senado\n",
    "    ADD CONSTRAINT pk_processo_relacionado PRIMARY KEY (id_processo_relacionado);"
   ]
  },
  {
   "cell_type": "code",
   "execution_count": 18,
   "id": "37b8f4e9",
   "metadata": {
    "vscode": {
     "languageId": "sql"
    }
   },
   "outputs": [
    {
     "data": {
      "text/html": [
       "<span style=\"None\">Running query in &#x27;duck&#x27;</span>"
      ],
      "text/plain": [
       "Running query in 'duck'"
      ]
     },
     "metadata": {},
     "output_type": "display_data"
    },
    {
     "data": {
      "text/html": [
       "<table>\n",
       "    <thead>\n",
       "        <tr>\n",
       "            <th>Success</th>\n",
       "        </tr>\n",
       "    </thead>\n",
       "    <tbody>\n",
       "    </tbody>\n",
       "</table>"
      ],
      "text/plain": [
       "+---------+\n",
       "| Success |\n",
       "+---------+\n",
       "+---------+"
      ]
     },
     "execution_count": 18,
     "metadata": {},
     "output_type": "execute_result"
    }
   ],
   "source": [
    "%%sql\n",
    "ALTER TABLE autuacoes_senado\n",
    "    ALTER COLUMN autuacao_idx TYPE BIGINT;\n",
    "\n",
    "ALTER TABLE autuacoes_senado\n",
    "    ADD CONSTRAINT pk_autuacao PRIMARY KEY (id_processo, autuacao_idx);"
   ]
  },
  {
   "cell_type": "code",
   "execution_count": 19,
   "id": "a6493690",
   "metadata": {
    "vscode": {
     "languageId": "sql"
    }
   },
   "outputs": [
    {
     "data": {
      "text/html": [
       "<span style=\"None\">Running query in &#x27;duck&#x27;</span>"
      ],
      "text/plain": [
       "Running query in 'duck'"
      ]
     },
     "metadata": {},
     "output_type": "display_data"
    },
    {
     "data": {
      "text/html": [
       "<table>\n",
       "    <thead>\n",
       "        <tr>\n",
       "            <th>Success</th>\n",
       "        </tr>\n",
       "    </thead>\n",
       "    <tbody>\n",
       "    </tbody>\n",
       "</table>"
      ],
      "text/plain": [
       "+---------+\n",
       "| Success |\n",
       "+---------+\n",
       "+---------+"
      ]
     },
     "execution_count": 19,
     "metadata": {},
     "output_type": "execute_result"
    }
   ],
   "source": [
    "%%sql\n",
    "ALTER TABLE informes_legislativos_senado\n",
    "    ALTER COLUMN id_informe_legislativo TYPE BIGINT;\n",
    "\n",
    "ALTER TABLE informes_legislativos_senado\n",
    "    ADD CONSTRAINT pk_informe_legislativo PRIMARY KEY (id_informe_legislativo);"
   ]
  },
  {
   "cell_type": "code",
   "execution_count": 20,
   "id": "81513d63",
   "metadata": {
    "vscode": {
     "languageId": "sql"
    }
   },
   "outputs": [
    {
     "data": {
      "text/html": [
       "<span style=\"None\">Running query in &#x27;duck&#x27;</span>"
      ],
      "text/plain": [
       "Running query in 'duck'"
      ]
     },
     "metadata": {},
     "output_type": "display_data"
    },
    {
     "data": {
      "text/html": [
       "<table>\n",
       "    <thead>\n",
       "        <tr>\n",
       "            <th>Success</th>\n",
       "        </tr>\n",
       "    </thead>\n",
       "    <tbody>\n",
       "    </tbody>\n",
       "</table>"
      ],
      "text/plain": [
       "+---------+\n",
       "| Success |\n",
       "+---------+\n",
       "+---------+"
      ]
     },
     "execution_count": 20,
     "metadata": {},
     "output_type": "execute_result"
    }
   ],
   "source": [
    "%%sql\n",
    "ALTER TABLE informes_documentos_associados_senado\n",
    "    ALTER COLUMN id_documento_associado TYPE BIGINT;\n",
    "\n",
    "ALTER TABLE informes_documentos_associados_senado\n",
    "    ADD CONSTRAINT pk_documento_associado PRIMARY KEY (id_documento_associado);"
   ]
  },
  {
   "cell_type": "code",
   "execution_count": 21,
   "id": "62d20794",
   "metadata": {
    "vscode": {
     "languageId": "sql"
    }
   },
   "outputs": [
    {
     "data": {
      "text/html": [
       "<span style=\"None\">Running query in &#x27;duck&#x27;</span>"
      ],
      "text/plain": [
       "Running query in 'duck'"
      ]
     },
     "metadata": {},
     "output_type": "display_data"
    },
    {
     "data": {
      "text/html": [
       "<table>\n",
       "    <thead>\n",
       "        <tr>\n",
       "            <th>Success</th>\n",
       "        </tr>\n",
       "    </thead>\n",
       "    <tbody>\n",
       "    </tbody>\n",
       "</table>"
      ],
      "text/plain": [
       "+---------+\n",
       "| Success |\n",
       "+---------+\n",
       "+---------+"
      ]
     },
     "execution_count": 21,
     "metadata": {},
     "output_type": "execute_result"
    }
   ],
   "source": [
    "%%sql\n",
    "ALTER TABLE providencias_senado\n",
    "    ALTER COLUMN id_providencia TYPE BIGINT;\n",
    "\n",
    "ALTER TABLE providencias_senado\n",
    "    ADD CONSTRAINT pk_providencia PRIMARY KEY (\n",
    "        id_processo,\n",
    "        id_despacho,\n",
    "        id_providencia\n",
    "    );"
   ]
  },
  {
   "cell_type": "code",
   "execution_count": 22,
   "id": "947b11c6",
   "metadata": {
    "vscode": {
     "languageId": "sql"
    }
   },
   "outputs": [
    {
     "data": {
      "text/html": [
       "<span style=\"None\">Running query in &#x27;duck&#x27;</span>"
      ],
      "text/plain": [
       "Running query in 'duck'"
      ]
     },
     "metadata": {},
     "output_type": "display_data"
    },
    {
     "data": {
      "text/html": [
       "<table>\n",
       "    <thead>\n",
       "        <tr>\n",
       "            <th>Success</th>\n",
       "        </tr>\n",
       "    </thead>\n",
       "    <tbody>\n",
       "    </tbody>\n",
       "</table>"
      ],
      "text/plain": [
       "+---------+\n",
       "| Success |\n",
       "+---------+\n",
       "+---------+"
      ]
     },
     "execution_count": 22,
     "metadata": {},
     "output_type": "execute_result"
    }
   ],
   "source": [
    "%%sql\n",
    "ALTER TABLE movimentacoes_senado\n",
    "    ADD CONSTRAINT pk_movimentacao PRIMARY KEY (\n",
    "        id_processo,\n",
    "        autuacao_idx,\n",
    "        movimentacao_idx\n",
    "    );"
   ]
  },
  {
   "cell_type": "code",
   "execution_count": 23,
   "id": "f8220426",
   "metadata": {
    "vscode": {
     "languageId": "sql"
    }
   },
   "outputs": [
    {
     "data": {
      "text/html": [
       "<span style=\"None\">Running query in &#x27;duck&#x27;</span>"
      ],
      "text/plain": [
       "Running query in 'duck'"
      ]
     },
     "metadata": {},
     "output_type": "display_data"
    },
    {
     "data": {
      "text/html": [
       "<table>\n",
       "    <thead>\n",
       "        <tr>\n",
       "            <th>Success</th>\n",
       "        </tr>\n",
       "    </thead>\n",
       "    <tbody>\n",
       "    </tbody>\n",
       "</table>"
      ],
      "text/plain": [
       "+---------+\n",
       "| Success |\n",
       "+---------+\n",
       "+---------+"
      ]
     },
     "execution_count": 23,
     "metadata": {},
     "output_type": "execute_result"
    }
   ],
   "source": [
    "%%sql\n",
    "ALTER TABLE unidades_destinatarias_senado\n",
    "    ALTER COLUMN id_unidade_destinataria TYPE BIGINT;\n",
    "\n",
    "ALTER TABLE unidades_destinatarias_senado\n",
    "    ADD CONSTRAINT pk_unidade_destinataria PRIMARY KEY (id_unidade_destinataria);"
   ]
  },
  {
   "cell_type": "code",
   "execution_count": 24,
   "id": "a7a0d145",
   "metadata": {
    "vscode": {
     "languageId": "sql"
    }
   },
   "outputs": [
    {
     "data": {
      "text/html": [
       "<span style=\"None\">Running query in &#x27;duck&#x27;</span>"
      ],
      "text/plain": [
       "Running query in 'duck'"
      ]
     },
     "metadata": {},
     "output_type": "display_data"
    },
    {
     "data": {
      "text/html": [
       "<table>\n",
       "    <thead>\n",
       "        <tr>\n",
       "            <th>id_processo</th>\n",
       "            <th>id_despacho</th>\n",
       "            <th>id_encontro_legislativo</th>\n",
       "            <th>data_encontro</th>\n",
       "            <th>tipo_encontro</th>\n",
       "            <th>descricao_encontro</th>\n",
       "            <th>casa_encontro</th>\n",
       "            <th>numero_encontro</th>\n",
       "            <th>colegiado_casa</th>\n",
       "            <th>colegiado_codigo</th>\n",
       "            <th>colegiado_nome</th>\n",
       "            <th>colegiado_sigla</th>\n",
       "            <th>year_snapshot</th>\n",
       "        </tr>\n",
       "    </thead>\n",
       "    <tbody>\n",
       "        <tr>\n",
       "            <td>7620082</td>\n",
       "            <td>7821741</td>\n",
       "            <td>7619828</td>\n",
       "            <td>2018-08-07</td>\n",
       "            <td>SES</td>\n",
       "            <td>Sessão Deliberativa Ordinária</td>\n",
       "            <td>SF</td>\n",
       "            <td>110</td>\n",
       "            <td>SF</td>\n",
       "            <td>1998</td>\n",
       "            <td>Plenário do Senado Federal</td>\n",
       "            <td>PLEN</td>\n",
       "            <td>2018</td>\n",
       "        </tr>\n",
       "        <tr>\n",
       "            <td>7620084</td>\n",
       "            <td>7821831</td>\n",
       "            <td>7619828</td>\n",
       "            <td>2018-08-07</td>\n",
       "            <td>SES</td>\n",
       "            <td>Sessão Deliberativa Ordinária</td>\n",
       "            <td>SF</td>\n",
       "            <td>110</td>\n",
       "            <td>SF</td>\n",
       "            <td>1998</td>\n",
       "            <td>Plenário do Senado Federal</td>\n",
       "            <td>PLEN</td>\n",
       "            <td>2018</td>\n",
       "        </tr>\n",
       "        <tr>\n",
       "            <td>7620086</td>\n",
       "            <td>7821866</td>\n",
       "            <td>7619828</td>\n",
       "            <td>2018-08-07</td>\n",
       "            <td>SES</td>\n",
       "            <td>Sessão Deliberativa Ordinária</td>\n",
       "            <td>SF</td>\n",
       "            <td>110</td>\n",
       "            <td>SF</td>\n",
       "            <td>1998</td>\n",
       "            <td>Plenário do Senado Federal</td>\n",
       "            <td>PLEN</td>\n",
       "            <td>2018</td>\n",
       "        </tr>\n",
       "        <tr>\n",
       "            <td>7620120</td>\n",
       "            <td>7821808</td>\n",
       "            <td>7619828</td>\n",
       "            <td>2018-08-07</td>\n",
       "            <td>SES</td>\n",
       "            <td>Sessão Deliberativa Ordinária</td>\n",
       "            <td>SF</td>\n",
       "            <td>110</td>\n",
       "            <td>SF</td>\n",
       "            <td>1998</td>\n",
       "            <td>Plenário do Senado Federal</td>\n",
       "            <td>PLEN</td>\n",
       "            <td>2018</td>\n",
       "        </tr>\n",
       "        <tr>\n",
       "            <td>7620163</td>\n",
       "            <td>7821850</td>\n",
       "            <td>7619828</td>\n",
       "            <td>2018-08-07</td>\n",
       "            <td>SES</td>\n",
       "            <td>Sessão Deliberativa Ordinária</td>\n",
       "            <td>SF</td>\n",
       "            <td>110</td>\n",
       "            <td>SF</td>\n",
       "            <td>1998</td>\n",
       "            <td>Plenário do Senado Federal</td>\n",
       "            <td>PLEN</td>\n",
       "            <td>2018</td>\n",
       "        </tr>\n",
       "        <tr>\n",
       "            <td>7620343</td>\n",
       "            <td>7822123</td>\n",
       "            <td>7619828</td>\n",
       "            <td>2018-08-07</td>\n",
       "            <td>SES</td>\n",
       "            <td>Sessão Deliberativa Ordinária</td>\n",
       "            <td>SF</td>\n",
       "            <td>110</td>\n",
       "            <td>SF</td>\n",
       "            <td>1998</td>\n",
       "            <td>Plenário do Senado Federal</td>\n",
       "            <td>PLEN</td>\n",
       "            <td>2018</td>\n",
       "        </tr>\n",
       "        <tr>\n",
       "            <td>7412505</td>\n",
       "            <td>7821457</td>\n",
       "            <td>7619828</td>\n",
       "            <td>2018-08-07</td>\n",
       "            <td>SES</td>\n",
       "            <td>Sessão Deliberativa Ordinária</td>\n",
       "            <td>SF</td>\n",
       "            <td>110</td>\n",
       "            <td>SF</td>\n",
       "            <td>1998</td>\n",
       "            <td>Plenário do Senado Federal</td>\n",
       "            <td>PLEN</td>\n",
       "            <td>2018</td>\n",
       "        </tr>\n",
       "        <tr>\n",
       "            <td>7621240</td>\n",
       "            <td>7823122</td>\n",
       "            <td>7620806</td>\n",
       "            <td>2018-08-08</td>\n",
       "            <td>SES</td>\n",
       "            <td>Sessão Deliberativa Ordinária</td>\n",
       "            <td>SF</td>\n",
       "            <td>111</td>\n",
       "            <td>SF</td>\n",
       "            <td>1998</td>\n",
       "            <td>Plenário do Senado Federal</td>\n",
       "            <td>PLEN</td>\n",
       "            <td>2018</td>\n",
       "        </tr>\n",
       "        <tr>\n",
       "            <td>7412485</td>\n",
       "            <td>7822751</td>\n",
       "            <td>7620806</td>\n",
       "            <td>2018-08-08</td>\n",
       "            <td>SES</td>\n",
       "            <td>Sessão Deliberativa Ordinária</td>\n",
       "            <td>SF</td>\n",
       "            <td>111</td>\n",
       "            <td>SF</td>\n",
       "            <td>1998</td>\n",
       "            <td>Plenário do Senado Federal</td>\n",
       "            <td>PLEN</td>\n",
       "            <td>2018</td>\n",
       "        </tr>\n",
       "        <tr>\n",
       "            <td>7621131</td>\n",
       "            <td>7823020</td>\n",
       "            <td>7620806</td>\n",
       "            <td>2018-08-08</td>\n",
       "            <td>SES</td>\n",
       "            <td>Sessão Deliberativa Ordinária</td>\n",
       "            <td>SF</td>\n",
       "            <td>111</td>\n",
       "            <td>SF</td>\n",
       "            <td>1998</td>\n",
       "            <td>Plenário do Senado Federal</td>\n",
       "            <td>PLEN</td>\n",
       "            <td>2018</td>\n",
       "        </tr>\n",
       "    </tbody>\n",
       "</table>\n",
       "<span style=\"font-style:italic;text-align:center;\">Truncated to <a href=\"https://jupysql.ploomber.io/en/latest/api/configuration.html#displaylimit\">displaylimit</a> of 10.</span>"
      ],
      "text/plain": [
       "+-------------+-------------+-------------------------+---------------+---------------+-------------------------------+---------------+-----------------+----------------+------------------+----------------------------+-----------------+---------------+\n",
       "| id_processo | id_despacho | id_encontro_legislativo | data_encontro | tipo_encontro |       descricao_encontro      | casa_encontro | numero_encontro | colegiado_casa | colegiado_codigo |       colegiado_nome       | colegiado_sigla | year_snapshot |\n",
       "+-------------+-------------+-------------------------+---------------+---------------+-------------------------------+---------------+-----------------+----------------+------------------+----------------------------+-----------------+---------------+\n",
       "|   7620082   |   7821741   |         7619828         |   2018-08-07  |      SES      | Sessão Deliberativa Ordinária |       SF      |       110       |       SF       |       1998       | Plenário do Senado Federal |       PLEN      |      2018     |\n",
       "|   7620084   |   7821831   |         7619828         |   2018-08-07  |      SES      | Sessão Deliberativa Ordinária |       SF      |       110       |       SF       |       1998       | Plenário do Senado Federal |       PLEN      |      2018     |\n",
       "|   7620086   |   7821866   |         7619828         |   2018-08-07  |      SES      | Sessão Deliberativa Ordinária |       SF      |       110       |       SF       |       1998       | Plenário do Senado Federal |       PLEN      |      2018     |\n",
       "|   7620120   |   7821808   |         7619828         |   2018-08-07  |      SES      | Sessão Deliberativa Ordinária |       SF      |       110       |       SF       |       1998       | Plenário do Senado Federal |       PLEN      |      2018     |\n",
       "|   7620163   |   7821850   |         7619828         |   2018-08-07  |      SES      | Sessão Deliberativa Ordinária |       SF      |       110       |       SF       |       1998       | Plenário do Senado Federal |       PLEN      |      2018     |\n",
       "|   7620343   |   7822123   |         7619828         |   2018-08-07  |      SES      | Sessão Deliberativa Ordinária |       SF      |       110       |       SF       |       1998       | Plenário do Senado Federal |       PLEN      |      2018     |\n",
       "|   7412505   |   7821457   |         7619828         |   2018-08-07  |      SES      | Sessão Deliberativa Ordinária |       SF      |       110       |       SF       |       1998       | Plenário do Senado Federal |       PLEN      |      2018     |\n",
       "|   7621240   |   7823122   |         7620806         |   2018-08-08  |      SES      | Sessão Deliberativa Ordinária |       SF      |       111       |       SF       |       1998       | Plenário do Senado Federal |       PLEN      |      2018     |\n",
       "|   7412485   |   7822751   |         7620806         |   2018-08-08  |      SES      | Sessão Deliberativa Ordinária |       SF      |       111       |       SF       |       1998       | Plenário do Senado Federal |       PLEN      |      2018     |\n",
       "|   7621131   |   7823020   |         7620806         |   2018-08-08  |      SES      | Sessão Deliberativa Ordinária |       SF      |       111       |       SF       |       1998       | Plenário do Senado Federal |       PLEN      |      2018     |\n",
       "+-------------+-------------+-------------------------+---------------+---------------+-------------------------------+---------------+-----------------+----------------+------------------+----------------------------+-----------------+---------------+\n",
       "Truncated to displaylimit of 10."
      ]
     },
     "execution_count": 24,
     "metadata": {},
     "output_type": "execute_result"
    }
   ],
   "source": [
    "%%sql\n",
    "SELECT t.*\n",
    "FROM encontro_legislativo_senado t\n",
    "JOIN (\n",
    "    SELECT id_encontro_legislativo\n",
    "    FROM encontro_legislativo_senado\n",
    "    GROUP BY id_encontro_legislativo\n",
    "    HAVING COUNT(*) > 1\n",
    ") dups\n",
    "ON t.id_encontro_legislativo = dups.id_encontro_legislativo\n",
    "ORDER BY t.id_encontro_legislativo;"
   ]
  },
  {
   "cell_type": "code",
   "execution_count": 25,
   "id": "d86486a7",
   "metadata": {
    "vscode": {
     "languageId": "sql"
    }
   },
   "outputs": [
    {
     "data": {
      "text/html": [
       "<span style=\"None\">Running query in &#x27;duck&#x27;</span>"
      ],
      "text/plain": [
       "Running query in 'duck'"
      ]
     },
     "metadata": {},
     "output_type": "display_data"
    },
    {
     "data": {
      "text/html": [
       "<table>\n",
       "    <thead>\n",
       "        <tr>\n",
       "            <th>Success</th>\n",
       "        </tr>\n",
       "    </thead>\n",
       "    <tbody>\n",
       "    </tbody>\n",
       "</table>"
      ],
      "text/plain": [
       "+---------+\n",
       "| Success |\n",
       "+---------+\n",
       "+---------+"
      ]
     },
     "execution_count": 25,
     "metadata": {},
     "output_type": "execute_result"
    }
   ],
   "source": [
    "%%sql\n",
    "CREATE TABLE encontro_legislativo_senado_dedup AS\n",
    "SELECT *\n",
    "FROM (\n",
    "    SELECT *,\n",
    "           ROW_NUMBER() OVER (PARTITION BY id_encontro_legislativo ORDER BY year_snapshot DESC) AS rn\n",
    "    FROM encontro_legislativo_senado\n",
    ")\n",
    "WHERE rn = 1;\n",
    "\n",
    "DROP TABLE encontro_legislativo_senado;\n",
    "ALTER TABLE encontro_legislativo_senado_dedup RENAME TO encontro_legislativo_senado;\n"
   ]
  },
  {
   "cell_type": "code",
   "execution_count": 26,
   "id": "311f35d6",
   "metadata": {
    "vscode": {
     "languageId": "sql"
    }
   },
   "outputs": [
    {
     "data": {
      "text/html": [
       "<span style=\"None\">Running query in &#x27;duck&#x27;</span>"
      ],
      "text/plain": [
       "Running query in 'duck'"
      ]
     },
     "metadata": {},
     "output_type": "display_data"
    },
    {
     "data": {
      "text/html": [
       "<table>\n",
       "    <thead>\n",
       "        <tr>\n",
       "            <th>Success</th>\n",
       "        </tr>\n",
       "    </thead>\n",
       "    <tbody>\n",
       "    </tbody>\n",
       "</table>"
      ],
      "text/plain": [
       "+---------+\n",
       "| Success |\n",
       "+---------+\n",
       "+---------+"
      ]
     },
     "execution_count": 26,
     "metadata": {},
     "output_type": "execute_result"
    }
   ],
   "source": [
    "%%sql\n",
    "ALTER TABLE encontro_legislativo_senado\n",
    "    ALTER COLUMN id_encontro_legislativo TYPE BIGINT;\n",
    "\n",
    "ALTER TABLE encontro_legislativo_senado\n",
    "    ADD CONSTRAINT pk_encontro_legislativo PRIMARY KEY (\n",
    "        id_encontro_legislativo\n",
    "    );"
   ]
  },
  {
   "cell_type": "markdown",
   "id": "d3fde3cb",
   "metadata": {},
   "source": [
    "# Deduplicação de tabelas relacionais"
   ]
  },
  {
   "cell_type": "code",
   "execution_count": 27,
   "id": "2ae7484f",
   "metadata": {
    "vscode": {
     "languageId": "sql"
    }
   },
   "outputs": [
    {
     "data": {
      "text/html": [
       "<span style=\"None\">Running query in &#x27;duck&#x27;</span>"
      ],
      "text/plain": [
       "Running query in 'duck'"
      ]
     },
     "metadata": {},
     "output_type": "display_data"
    },
    {
     "data": {
      "text/html": [
       "<table>\n",
       "    <thead>\n",
       "        <tr>\n",
       "            <th>id_informe_legislativo</th>\n",
       "            <th>id_processo</th>\n",
       "            <th>id_informe</th>\n",
       "            <th>data_informe</th>\n",
       "            <th>descricao</th>\n",
       "            <th>id_situacao_iniciada</th>\n",
       "            <th>sigla_situacao_iniciada</th>\n",
       "            <th>ente_adm_casa</th>\n",
       "            <th>ente_adm_id</th>\n",
       "            <th>ente_adm_nome</th>\n",
       "            <th>ente_adm_sigla</th>\n",
       "            <th>colegiado_casa</th>\n",
       "            <th>colegiado_codigo</th>\n",
       "            <th>colegiado_nome</th>\n",
       "            <th>colegiado_sigla</th>\n",
       "            <th>year_snapshot</th>\n",
       "        </tr>\n",
       "    </thead>\n",
       "    <tbody>\n",
       "        <tr>\n",
       "            <td>41209</td>\n",
       "            <td>500398</td>\n",
       "            <td>2119354</td>\n",
       "            <td>2023-03-08</td>\n",
       "            <td>Aguardando inclusão em Ordem do Dia do Requerimento nº 127, de 2023, do Senador Veneziano Vital do Rêgo e outros, solicitando o desarquivamento da matéria.</td>\n",
       "            <td>95</td>\n",
       "            <td>AGINCL(RQ)</td>\n",
       "            <td>SF</td>\n",
       "            <td>55312</td>\n",
       "            <td>Secretaria Legislativa do Senado Federal</td>\n",
       "            <td>SLSF</td>\n",
       "            <td>SF</td>\n",
       "            <td>1998</td>\n",
       "            <td>Plenário do Senado Federal</td>\n",
       "            <td>PLEN</td>\n",
       "            <td>2017</td>\n",
       "        </tr>\n",
       "        <tr>\n",
       "            <td>41871</td>\n",
       "            <td>500398</td>\n",
       "            <td>2119354</td>\n",
       "            <td>2023-03-08</td>\n",
       "            <td>Aguardando inclusão em Ordem do Dia do Requerimento nº 127, de 2023, do Senador Veneziano Vital do Rêgo e outros, solicitando o desarquivamento da matéria.</td>\n",
       "            <td>95</td>\n",
       "            <td>AGINCL(RQ)</td>\n",
       "            <td>SF</td>\n",
       "            <td>55312</td>\n",
       "            <td>Secretaria Legislativa do Senado Federal</td>\n",
       "            <td>SLSF</td>\n",
       "            <td>SF</td>\n",
       "            <td>1998</td>\n",
       "            <td>Plenário do Senado Federal</td>\n",
       "            <td>PLEN</td>\n",
       "            <td>2017</td>\n",
       "        </tr>\n",
       "        <tr>\n",
       "            <td>42504</td>\n",
       "            <td>500398</td>\n",
       "            <td>2119354</td>\n",
       "            <td>2023-03-08</td>\n",
       "            <td>Aguardando inclusão em Ordem do Dia do Requerimento nº 127, de 2023, do Senador Veneziano Vital do Rêgo e outros, solicitando o desarquivamento da matéria.</td>\n",
       "            <td>95</td>\n",
       "            <td>AGINCL(RQ)</td>\n",
       "            <td>SF</td>\n",
       "            <td>55312</td>\n",
       "            <td>Secretaria Legislativa do Senado Federal</td>\n",
       "            <td>SLSF</td>\n",
       "            <td>SF</td>\n",
       "            <td>1998</td>\n",
       "            <td>Plenário do Senado Federal</td>\n",
       "            <td>PLEN</td>\n",
       "            <td>2017</td>\n",
       "        </tr>\n",
       "        <tr>\n",
       "            <td>12940</td>\n",
       "            <td>502077</td>\n",
       "            <td>2080636</td>\n",
       "            <td>2022-03-16</td>\n",
       "            <td>Concluída a instrução das matérias, fica aberto o prazo de cinco dias úteis para recebimento de emendas, nos termos do art. 235, II, \"d\", do Regimento Interno.</td>\n",
       "            <td>88</td>\n",
       "            <td>AGREMESA</td>\n",
       "            <td>SF</td>\n",
       "            <td>13594</td>\n",
       "            <td>Secretaria de Atas e Diários</td>\n",
       "            <td>SEADI</td>\n",
       "            <td>SF</td>\n",
       "            <td>1998</td>\n",
       "            <td>Plenário do Senado Federal</td>\n",
       "            <td>PLEN</td>\n",
       "            <td>2016</td>\n",
       "        </tr>\n",
       "        <tr>\n",
       "            <td>10909</td>\n",
       "            <td>502077</td>\n",
       "            <td>2080636</td>\n",
       "            <td>2022-03-16</td>\n",
       "            <td>Concluída a instrução das matérias, fica aberto o prazo de cinco dias úteis para recebimento de emendas, nos termos do art. 235, II, \"d\", do Regimento Interno.</td>\n",
       "            <td>88</td>\n",
       "            <td>AGREMESA</td>\n",
       "            <td>SF</td>\n",
       "            <td>13594</td>\n",
       "            <td>Secretaria de Atas e Diários</td>\n",
       "            <td>SEADI</td>\n",
       "            <td>SF</td>\n",
       "            <td>1998</td>\n",
       "            <td>Plenário do Senado Federal</td>\n",
       "            <td>PLEN</td>\n",
       "            <td>2016</td>\n",
       "        </tr>\n",
       "        <tr>\n",
       "            <td>20249</td>\n",
       "            <td>504573</td>\n",
       "            <td>2119092</td>\n",
       "            <td>2023-03-03</td>\n",
       "            <td>Aguardando inclusão em Ordem do Dia do Requerimento nº  102, de 2023, da Senadora Professora Dorinha Seabra e outros, solicitando o desarquivamento da matéria.</td>\n",
       "            <td>95</td>\n",
       "            <td>AGINCL(RQ)</td>\n",
       "            <td>SF</td>\n",
       "            <td>55312</td>\n",
       "            <td>Secretaria Legislativa do Senado Federal</td>\n",
       "            <td>SLSF</td>\n",
       "            <td>SF</td>\n",
       "            <td>1998</td>\n",
       "            <td>Plenário do Senado Federal</td>\n",
       "            <td>PLEN</td>\n",
       "            <td>2015</td>\n",
       "        </tr>\n",
       "        <tr>\n",
       "            <td>22020</td>\n",
       "            <td>504573</td>\n",
       "            <td>2119092</td>\n",
       "            <td>2023-03-03</td>\n",
       "            <td>Aguardando inclusão em Ordem do Dia do Requerimento nº  102, de 2023, da Senadora Professora Dorinha Seabra e outros, solicitando o desarquivamento da matéria.</td>\n",
       "            <td>95</td>\n",
       "            <td>AGINCL(RQ)</td>\n",
       "            <td>SF</td>\n",
       "            <td>55312</td>\n",
       "            <td>Secretaria Legislativa do Senado Federal</td>\n",
       "            <td>SLSF</td>\n",
       "            <td>SF</td>\n",
       "            <td>1998</td>\n",
       "            <td>Plenário do Senado Federal</td>\n",
       "            <td>PLEN</td>\n",
       "            <td>2015</td>\n",
       "        </tr>\n",
       "        <tr>\n",
       "            <td>23716</td>\n",
       "            <td>504573</td>\n",
       "            <td>2119092</td>\n",
       "            <td>2023-03-03</td>\n",
       "            <td>Aguardando inclusão em Ordem do Dia do Requerimento nº  102, de 2023, da Senadora Professora Dorinha Seabra e outros, solicitando o desarquivamento da matéria.</td>\n",
       "            <td>95</td>\n",
       "            <td>AGINCL(RQ)</td>\n",
       "            <td>SF</td>\n",
       "            <td>55312</td>\n",
       "            <td>Secretaria Legislativa do Senado Federal</td>\n",
       "            <td>SLSF</td>\n",
       "            <td>SF</td>\n",
       "            <td>1998</td>\n",
       "            <td>Plenário do Senado Federal</td>\n",
       "            <td>PLEN</td>\n",
       "            <td>2015</td>\n",
       "        </tr>\n",
       "        <tr>\n",
       "            <td>25308</td>\n",
       "            <td>504573</td>\n",
       "            <td>2119092</td>\n",
       "            <td>2023-03-03</td>\n",
       "            <td>Aguardando inclusão em Ordem do Dia do Requerimento nº  102, de 2023, da Senadora Professora Dorinha Seabra e outros, solicitando o desarquivamento da matéria.</td>\n",
       "            <td>95</td>\n",
       "            <td>AGINCL(RQ)</td>\n",
       "            <td>SF</td>\n",
       "            <td>55312</td>\n",
       "            <td>Secretaria Legislativa do Senado Federal</td>\n",
       "            <td>SLSF</td>\n",
       "            <td>SF</td>\n",
       "            <td>1998</td>\n",
       "            <td>Plenário do Senado Federal</td>\n",
       "            <td>PLEN</td>\n",
       "            <td>2015</td>\n",
       "        </tr>\n",
       "        <tr>\n",
       "            <td>26789</td>\n",
       "            <td>504573</td>\n",
       "            <td>2119092</td>\n",
       "            <td>2023-03-03</td>\n",
       "            <td>Aguardando inclusão em Ordem do Dia do Requerimento nº  102, de 2023, da Senadora Professora Dorinha Seabra e outros, solicitando o desarquivamento da matéria.</td>\n",
       "            <td>95</td>\n",
       "            <td>AGINCL(RQ)</td>\n",
       "            <td>SF</td>\n",
       "            <td>55312</td>\n",
       "            <td>Secretaria Legislativa do Senado Federal</td>\n",
       "            <td>SLSF</td>\n",
       "            <td>SF</td>\n",
       "            <td>1998</td>\n",
       "            <td>Plenário do Senado Federal</td>\n",
       "            <td>PLEN</td>\n",
       "            <td>2015</td>\n",
       "        </tr>\n",
       "    </tbody>\n",
       "</table>\n",
       "<span style=\"font-style:italic;text-align:center;\">Truncated to <a href=\"https://jupysql.ploomber.io/en/latest/api/configuration.html#displaylimit\">displaylimit</a> of 10.</span>"
      ],
      "text/plain": [
       "+------------------------+-------------+------------+--------------+-----------------------------------------------------------------------------------------------------------------------------------------------------------------+----------------------+-------------------------+---------------+-------------+------------------------------------------+----------------+----------------+------------------+----------------------------+-----------------+---------------+\n",
       "| id_informe_legislativo | id_processo | id_informe | data_informe |                                                                            descricao                                                                            | id_situacao_iniciada | sigla_situacao_iniciada | ente_adm_casa | ente_adm_id |              ente_adm_nome               | ente_adm_sigla | colegiado_casa | colegiado_codigo |       colegiado_nome       | colegiado_sigla | year_snapshot |\n",
       "+------------------------+-------------+------------+--------------+-----------------------------------------------------------------------------------------------------------------------------------------------------------------+----------------------+-------------------------+---------------+-------------+------------------------------------------+----------------+----------------+------------------+----------------------------+-----------------+---------------+\n",
       "|         41209          |    500398   |  2119354   |  2023-03-08  |   Aguardando inclusão em Ordem do Dia do Requerimento nº 127, de 2023, do Senador Veneziano Vital do Rêgo e outros, solicitando o desarquivamento da matéria.   |          95          |        AGINCL(RQ)       |       SF      |    55312    | Secretaria Legislativa do Senado Federal |      SLSF      |       SF       |       1998       | Plenário do Senado Federal |       PLEN      |      2017     |\n",
       "|         41871          |    500398   |  2119354   |  2023-03-08  |   Aguardando inclusão em Ordem do Dia do Requerimento nº 127, de 2023, do Senador Veneziano Vital do Rêgo e outros, solicitando o desarquivamento da matéria.   |          95          |        AGINCL(RQ)       |       SF      |    55312    | Secretaria Legislativa do Senado Federal |      SLSF      |       SF       |       1998       | Plenário do Senado Federal |       PLEN      |      2017     |\n",
       "|         42504          |    500398   |  2119354   |  2023-03-08  |   Aguardando inclusão em Ordem do Dia do Requerimento nº 127, de 2023, do Senador Veneziano Vital do Rêgo e outros, solicitando o desarquivamento da matéria.   |          95          |        AGINCL(RQ)       |       SF      |    55312    | Secretaria Legislativa do Senado Federal |      SLSF      |       SF       |       1998       | Plenário do Senado Federal |       PLEN      |      2017     |\n",
       "|         12940          |    502077   |  2080636   |  2022-03-16  | Concluída a instrução das matérias, fica aberto o prazo de cinco dias úteis para recebimento de emendas, nos termos do art. 235, II, \"d\", do Regimento Interno. |          88          |         AGREMESA        |       SF      |    13594    |       Secretaria de Atas e Diários       |     SEADI      |       SF       |       1998       | Plenário do Senado Federal |       PLEN      |      2016     |\n",
       "|         10909          |    502077   |  2080636   |  2022-03-16  | Concluída a instrução das matérias, fica aberto o prazo de cinco dias úteis para recebimento de emendas, nos termos do art. 235, II, \"d\", do Regimento Interno. |          88          |         AGREMESA        |       SF      |    13594    |       Secretaria de Atas e Diários       |     SEADI      |       SF       |       1998       | Plenário do Senado Federal |       PLEN      |      2016     |\n",
       "|         20249          |    504573   |  2119092   |  2023-03-03  | Aguardando inclusão em Ordem do Dia do Requerimento nº  102, de 2023, da Senadora Professora Dorinha Seabra e outros, solicitando o desarquivamento da matéria. |          95          |        AGINCL(RQ)       |       SF      |    55312    | Secretaria Legislativa do Senado Federal |      SLSF      |       SF       |       1998       | Plenário do Senado Federal |       PLEN      |      2015     |\n",
       "|         22020          |    504573   |  2119092   |  2023-03-03  | Aguardando inclusão em Ordem do Dia do Requerimento nº  102, de 2023, da Senadora Professora Dorinha Seabra e outros, solicitando o desarquivamento da matéria. |          95          |        AGINCL(RQ)       |       SF      |    55312    | Secretaria Legislativa do Senado Federal |      SLSF      |       SF       |       1998       | Plenário do Senado Federal |       PLEN      |      2015     |\n",
       "|         23716          |    504573   |  2119092   |  2023-03-03  | Aguardando inclusão em Ordem do Dia do Requerimento nº  102, de 2023, da Senadora Professora Dorinha Seabra e outros, solicitando o desarquivamento da matéria. |          95          |        AGINCL(RQ)       |       SF      |    55312    | Secretaria Legislativa do Senado Federal |      SLSF      |       SF       |       1998       | Plenário do Senado Federal |       PLEN      |      2015     |\n",
       "|         25308          |    504573   |  2119092   |  2023-03-03  | Aguardando inclusão em Ordem do Dia do Requerimento nº  102, de 2023, da Senadora Professora Dorinha Seabra e outros, solicitando o desarquivamento da matéria. |          95          |        AGINCL(RQ)       |       SF      |    55312    | Secretaria Legislativa do Senado Federal |      SLSF      |       SF       |       1998       | Plenário do Senado Federal |       PLEN      |      2015     |\n",
       "|         26789          |    504573   |  2119092   |  2023-03-03  | Aguardando inclusão em Ordem do Dia do Requerimento nº  102, de 2023, da Senadora Professora Dorinha Seabra e outros, solicitando o desarquivamento da matéria. |          95          |        AGINCL(RQ)       |       SF      |    55312    | Secretaria Legislativa do Senado Federal |      SLSF      |       SF       |       1998       | Plenário do Senado Federal |       PLEN      |      2015     |\n",
       "+------------------------+-------------+------------+--------------+-----------------------------------------------------------------------------------------------------------------------------------------------------------------+----------------------+-------------------------+---------------+-------------+------------------------------------------+----------------+----------------+------------------+----------------------------+-----------------+---------------+\n",
       "Truncated to displaylimit of 10."
      ]
     },
     "execution_count": 27,
     "metadata": {},
     "output_type": "execute_result"
    }
   ],
   "source": [
    "%%sql\n",
    "SELECT a.*\n",
    "FROM informes_legislativos_senado a\n",
    "JOIN (\n",
    "    SELECT id_processo, id_informe\n",
    "    FROM informes_legislativos_senado\n",
    "    GROUP BY id_processo, id_informe\n",
    "    HAVING COUNT(*) > 1\n",
    ") dups\n",
    "ON  a.id_processo = dups.id_processo\n",
    "-- AND a.id_ente = dups.id_ente\n",
    "-- AND a.autor = dups.autor\n",
    "-- AND a.sigla_ente = dups.sigla_ente\n",
    "AND a.id_informe = dups.id_informe\n",
    "ORDER BY a.id_processo, a.id_informe\n"
   ]
  },
  {
   "cell_type": "code",
   "execution_count": 28,
   "id": "20c8fd9f",
   "metadata": {
    "vscode": {
     "languageId": "sql"
    }
   },
   "outputs": [
    {
     "data": {
      "text/html": [
       "<span style=\"None\">Running query in &#x27;duck&#x27;</span>"
      ],
      "text/plain": [
       "Running query in 'duck'"
      ]
     },
     "metadata": {},
     "output_type": "display_data"
    },
    {
     "data": {
      "text/html": [
       "<table>\n",
       "    <thead>\n",
       "        <tr>\n",
       "            <th>total_duplicadas</th>\n",
       "        </tr>\n",
       "    </thead>\n",
       "    <tbody>\n",
       "        <tr>\n",
       "            <td>158784</td>\n",
       "        </tr>\n",
       "    </tbody>\n",
       "</table>"
      ],
      "text/plain": [
       "+------------------+\n",
       "| total_duplicadas |\n",
       "+------------------+\n",
       "|      158784      |\n",
       "+------------------+"
      ]
     },
     "execution_count": 28,
     "metadata": {},
     "output_type": "execute_result"
    }
   ],
   "source": [
    "%%sql\n",
    "SELECT SUM(c) AS total_duplicadas\n",
    "FROM (\n",
    "    SELECT COUNT(*) - 1 AS c\n",
    "    FROM informes_legislativos_senado\n",
    "    GROUP BY id_processo, id_informe, descricao, data_informe, sigla_situacao_iniciada, data_informe\n",
    "    HAVING COUNT(*) > 1\n",
    ") t;"
   ]
  },
  {
   "cell_type": "code",
   "execution_count": 29,
   "id": "7661de2c",
   "metadata": {
    "vscode": {
     "languageId": "sql"
    }
   },
   "outputs": [
    {
     "data": {
      "text/html": [
       "<span style=\"None\">Running query in &#x27;duck&#x27;</span>"
      ],
      "text/plain": [
       "Running query in 'duck'"
      ]
     },
     "metadata": {},
     "output_type": "display_data"
    },
    {
     "data": {
      "text/html": [
       "<table>\n",
       "    <thead>\n",
       "        <tr>\n",
       "            <th>Count</th>\n",
       "        </tr>\n",
       "    </thead>\n",
       "    <tbody>\n",
       "        <tr>\n",
       "            <td>158784</td>\n",
       "        </tr>\n",
       "    </tbody>\n",
       "</table>"
      ],
      "text/plain": [
       "+--------+\n",
       "| Count  |\n",
       "+--------+\n",
       "| 158784 |\n",
       "+--------+"
      ]
     },
     "execution_count": 29,
     "metadata": {},
     "output_type": "execute_result"
    }
   ],
   "source": [
    "%%sql\n",
    "DELETE FROM informes_legislativos_senado\n",
    "WHERE rowid IN (\n",
    "    SELECT rowid\n",
    "    FROM (\n",
    "        SELECT \n",
    "            rowid,\n",
    "            ROW_NUMBER() OVER (\n",
    "                PARTITION BY id_processo, id_informe, descricao, data_informe, sigla_situacao_iniciada, data_informe\n",
    "                ORDER BY rowid\n",
    "            ) AS rn\n",
    "        FROM informes_legislativos_senado\n",
    "    ) t\n",
    "    WHERE rn > 1\n",
    ");"
   ]
  }
 ],
 "metadata": {
  "kernelspec": {
   "display_name": "venv",
   "language": "python",
   "name": "python3"
  },
  "language_info": {
   "codemirror_mode": {
    "name": "ipython",
    "version": 3
   },
   "file_extension": ".py",
   "mimetype": "text/x-python",
   "name": "python",
   "nbconvert_exporter": "python",
   "pygments_lexer": "ipython3",
   "version": "3.13.7"
  }
 },
 "nbformat": 4,
 "nbformat_minor": 5
}
