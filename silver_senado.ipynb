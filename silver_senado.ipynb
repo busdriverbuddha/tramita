{
 "cells": [
  {
   "cell_type": "markdown",
   "id": "6590697e",
   "metadata": {},
   "source": [
    "# Pipeline prata: Câmara dos Deputados\n",
    "\n",
    "Este notebook extrai os dados da fase bronze e popula uma base de dados DuckDB com estes normalizados e deduplicados (ainda sem regularização de chaves estrangeiras)"
   ]
  },
  {
   "cell_type": "markdown",
   "id": "501c8124",
   "metadata": {},
   "source": [
    "# 1. Preparação"
   ]
  },
  {
   "cell_type": "markdown",
   "id": "c6e093d4",
   "metadata": {},
   "source": [
    "## 1.1 Imports"
   ]
  },
  {
   "cell_type": "code",
   "execution_count": 88,
   "id": "46d826b0",
   "metadata": {},
   "outputs": [
    {
     "name": "stdout",
     "output_type": "stream",
     "text": [
      "The sql extension is already loaded. To reload it, use:\n",
      "  %reload_ext sql\n"
     ]
    }
   ],
   "source": [
    "import os\n",
    "import duckdb\n",
    "%load_ext sql\n",
    "\n",
    "from dotenv import load_dotenv\n",
    "\n",
    "from pathlib import Path\n",
    "\n",
    "load_dotenv()\n",
    "\n",
    "DB_PATH = Path(os.getenv(\"SILVER_DUCKDB_PATH\", \"\"))\n",
    "DB_PATH.parent.mkdir(parents=True, exist_ok=True)\n",
    "TMP_DIR = \"/tmp/duckdb_tmp\"  # make sure it exists\n",
    "\n",
    "conn = duckdb.connect(DB_PATH)\n",
    "\n",
    "conn.execute(f\"SET temp_directory='{TMP_DIR}'\")\n",
    "conn.execute(\"SET memory_limit='64GB'\")\n",
    "conn.execute(\"SET threads=1\")\n",
    "conn.execute(\"SET preserve_insertion_order=false\")\n",
    "\n",
    "%sql conn --alias duck"
   ]
  },
  {
   "cell_type": "markdown",
   "id": "99b0881b",
   "metadata": {},
   "source": [
    "## 1.2 Macros"
   ]
  },
  {
   "cell_type": "code",
   "execution_count": 89,
   "id": "c608c67e",
   "metadata": {
    "vscode": {
     "languageId": "sql"
    }
   },
   "outputs": [
    {
     "data": {
      "text/html": [
       "<span style=\"None\">Running query in &#x27;duck&#x27;</span>"
      ],
      "text/plain": [
       "Running query in 'duck'"
      ]
     },
     "metadata": {},
     "output_type": "display_data"
    },
    {
     "data": {
      "text/html": [
       "<table>\n",
       "    <thead>\n",
       "        <tr>\n",
       "            <th>Count</th>\n",
       "        </tr>\n",
       "    </thead>\n",
       "    <tbody>\n",
       "    </tbody>\n",
       "</table>"
      ],
      "text/plain": [
       "+-------+\n",
       "| Count |\n",
       "+-------+\n",
       "+-------+"
      ]
     },
     "execution_count": 89,
     "metadata": {},
     "output_type": "execute_result"
    }
   ],
   "source": [
    "%%sql\n",
    "\n",
    "CREATE OR REPLACE MACRO jget1(j, p) AS json_extract_string(j, p);"
   ]
  },
  {
   "cell_type": "markdown",
   "id": "4c4a62e4",
   "metadata": {
    "vscode": {
     "languageId": "sql"
    }
   },
   "source": [
    "# 2. Extração inicial\n",
    "\n",
    "## 2.1. Modelos dimensionais"
   ]
  },
  {
   "cell_type": "markdown",
   "id": "aaffada4",
   "metadata": {},
   "source": [
    "### 2.1.1 Bloco"
   ]
  },
  {
   "cell_type": "code",
   "execution_count": 90,
   "id": "99212e25",
   "metadata": {
    "vscode": {
     "languageId": "sql"
    }
   },
   "outputs": [
    {
     "data": {
      "text/html": [
       "<span style=\"None\">Running query in &#x27;duck&#x27;</span>"
      ],
      "text/plain": [
       "Running query in 'duck'"
      ]
     },
     "metadata": {},
     "output_type": "display_data"
    },
    {
     "data": {
      "text/html": [
       "<table>\n",
       "    <thead>\n",
       "        <tr>\n",
       "            <th>n</th>\n",
       "        </tr>\n",
       "    </thead>\n",
       "    <tbody>\n",
       "        <tr>\n",
       "            <td>6</td>\n",
       "        </tr>\n",
       "    </tbody>\n",
       "</table>"
      ],
      "text/plain": [
       "+---+\n",
       "| n |\n",
       "+---+\n",
       "| 6 |\n",
       "+---+"
      ]
     },
     "execution_count": 90,
     "metadata": {},
     "output_type": "execute_result"
    }
   ],
   "source": [
    "%%sql\n",
    "CREATE OR REPLACE VIEW bronze_senado_bloco AS\n",
    "SELECT * FROM parquet_scan(\"data/bronze/snapshots/bronze-2020-2024-v2/senado/bloco/details/year=*/part-*.parquet\")\n",
    "WHERE source = 'senado' AND entity = 'bloco';\n",
    "\n",
    "SELECT COUNT(*) AS n FROM bronze_senado_bloco;\n"
   ]
  },
  {
   "cell_type": "code",
   "execution_count": 91,
   "id": "6a356087",
   "metadata": {
    "vscode": {
     "languageId": "sql"
    }
   },
   "outputs": [
    {
     "data": {
      "text/html": [
       "<span style=\"None\">Running query in &#x27;duck&#x27;</span>"
      ],
      "text/plain": [
       "Running query in 'duck'"
      ]
     },
     "metadata": {},
     "output_type": "display_data"
    },
    {
     "data": {
      "text/html": [
       "<table>\n",
       "    <thead>\n",
       "        <tr>\n",
       "            <th>source</th>\n",
       "            <th>entity</th>\n",
       "            <th>id</th>\n",
       "            <th>url</th>\n",
       "            <th>payload_json</th>\n",
       "            <th>payload_sha256</th>\n",
       "            <th>year</th>\n",
       "        </tr>\n",
       "    </thead>\n",
       "    <tbody>\n",
       "        <tr>\n",
       "            <td>senado</td>\n",
       "            <td>bloco</td>\n",
       "            <td>335</td>\n",
       "            <td><a href=https://legis.senado.leg.br/dadosabertos/dados/ListaBlocoParlamentar.json>https://legis.senado.leg.br/dadosabertos/dados/ListaBlocoParlamentar.json</a></td>\n",
       "            <td>{\"CodigoBloco\":\"335\",\"DataCriacao\":\"2023-02-01\",\"Membros\":{\"Membro\":[{\"DataAdesao\":\"2023-04-25\",\"DataDesligamento\":\"2024-01-30\",\"Partido\":{\"CodigoPartido\":\"565\",\"NomePartido\":\"Rede Sustentabilidade\",\"SiglaPartido\":\"REDE\"}},{\"DataAdesao\":\"2023-02-01\",\"Partido\":{\"CodigoPartido\":\"63\",\"NomePartido\":\"Partido Socialista Brasileiro\",\"SiglaPartido\":\"PSB\"}},{\"DataAdesao\":\"2023-02-01\",\"DataDesligamento\":\"2023-02-01\",\"Partido\":{\"CodigoPartido\":\"66\",\"NomePartido\":\"Partido da Social Democracia Brasileira\",\"SiglaPartido\":\"PSDB\"}},{\"DataAdesao\":\"2023-02-01\",\"DataDesligamento\":\"2025-02-17\",\"Partido\":{\"CodigoPartido\":\"71\",\"NomePartido\":\"Partido dos Trabalhadores\",\"SiglaPartido\":\"PT\"}},{\"DataAdesao\":\"2023-02-01\",\"Partido\":{\"CodigoPartido\":\"557\",\"NomePartido\":\"Partido Social Democrático\",\"SiglaPartido\":\"PSD\"}},{\"DataAdesao\":\"2023-02-01\",\"DataDesligamento\":\"2023-02-01\",\"Partido\":{\"CodigoPartido\":\"565\",\"NomePartido\":\"Rede Sustentabilidade\",\"SiglaPartido\":\"REDE\"}}]},\"NomeApelido\":\"BLPRD\",\"NomeBloco\":\"Bloco Parlamentar da Resistência Democrática\"}</td>\n",
       "            <td>17bb2bcc628caccad8d592ed0ae509d8d6aff8e9d03f04324ca84857ad41349f</td>\n",
       "            <td>2023</td>\n",
       "        </tr>\n",
       "        <tr>\n",
       "            <td>senado</td>\n",
       "            <td>bloco</td>\n",
       "            <td>337</td>\n",
       "            <td><a href=https://legis.senado.leg.br/dadosabertos/dados/ListaBlocoParlamentar.json>https://legis.senado.leg.br/dadosabertos/dados/ListaBlocoParlamentar.json</a></td>\n",
       "            <td>{\"CodigoBloco\":\"337\",\"DataCriacao\":\"2023-02-03\",\"NomeApelido\":\"Minoria\",\"NomeBloco\":\"Minoria\"}</td>\n",
       "            <td>e05b037fcdb0ba14965f881c4b889e3536a9830d1ecd9a4b4526f8fbc283b44f</td>\n",
       "            <td>2023</td>\n",
       "        </tr>\n",
       "        <tr>\n",
       "            <td>senado</td>\n",
       "            <td>bloco</td>\n",
       "            <td>346</td>\n",
       "            <td><a href=https://legis.senado.leg.br/dadosabertos/dados/ListaBlocoParlamentar.json>https://legis.senado.leg.br/dadosabertos/dados/ListaBlocoParlamentar.json</a></td>\n",
       "            <td>{\"CodigoBloco\":\"346\",\"DataCriacao\":\"2023-03-20\",\"Membros\":{\"Membro\":[{\"DataAdesao\":\"2023-03-20\",\"Partido\":{\"CodigoPartido\":\"418\",\"NomePartido\":\"Progressistas\",\"SiglaPartido\":\"PP\"}},{\"DataAdesao\":\"2023-03-20\",\"Partido\":{\"CodigoPartido\":\"521\",\"NomePartido\":\"REPUBLICANOS\",\"SiglaPartido\":\"REPUBLICANOS\"}}]},\"NomeApelido\":\"BLALIANÇA\",\"NomeBloco\":\"Bloco Parlamentar Aliança\"}</td>\n",
       "            <td>0bfad6ac5099f84aef8d5d7b5cf7e2c7de9343b10e14bd5c9ad76171efba426a</td>\n",
       "            <td>2023</td>\n",
       "        </tr>\n",
       "        <tr>\n",
       "            <td>senado</td>\n",
       "            <td>bloco</td>\n",
       "            <td>357</td>\n",
       "            <td><a href=https://legis.senado.leg.br/dadosabertos/dados/ListaBlocoParlamentar.json>https://legis.senado.leg.br/dadosabertos/dados/ListaBlocoParlamentar.json</a></td>\n",
       "            <td>{\"CodigoBloco\":\"357\",\"DataCriacao\":\"2025-02-03\",\"Membros\":{\"Membro\":[{\"DataAdesao\":\"2025-02-03\",\"Partido\":{\"CodigoPartido\":\"523\",\"NomePartido\":\"Partido Liberal\",\"SiglaPartido\":\"PL\"}},{\"DataAdesao\":\"2025-02-03\",\"Partido\":{\"CodigoPartido\":\"566\",\"NomePartido\":\"Partido Novo\",\"SiglaPartido\":\"NOVO\"}}]},\"NomeApelido\":\"BLVANG\",\"NomeBloco\":\"Bloco Parlamentar Vanguarda\"}</td>\n",
       "            <td>329482b8ae5ed25112eeece8b3425cde3cee1531352b728789a3fe6c16b8e09a</td>\n",
       "            <td>2025</td>\n",
       "        </tr>\n",
       "        <tr>\n",
       "            <td>senado</td>\n",
       "            <td>bloco</td>\n",
       "            <td>358</td>\n",
       "            <td><a href=https://legis.senado.leg.br/dadosabertos/dados/ListaBlocoParlamentar.json>https://legis.senado.leg.br/dadosabertos/dados/ListaBlocoParlamentar.json</a></td>\n",
       "            <td>{\"CodigoBloco\":\"358\",\"DataCriacao\":\"2025-02-18\",\"Membros\":{\"Membro\":[{\"DataAdesao\":\"2025-02-18\",\"Partido\":{\"CodigoPartido\":\"582\",\"NomePartido\":\"União Brasil\",\"SiglaPartido\":\"UNIÃO\"}},{\"DataAdesao\":\"2025-02-18\",\"Partido\":{\"CodigoPartido\":\"577\",\"NomePartido\":\"Podemos\",\"SiglaPartido\":\"PODEMOS\"}},{\"DataAdesao\":\"2025-02-18\",\"Partido\":{\"CodigoPartido\":\"33\",\"NomePartido\":\"Movimento Democrático Brasileiro\",\"SiglaPartido\":\"MDB\"}},{\"DataAdesao\":\"2025-02-18\",\"Partido\":{\"CodigoPartido\":\"66\",\"NomePartido\":\"Partido da Social Democracia Brasileira\",\"SiglaPartido\":\"PSDB\"}}]},\"NomeApelido\":\"BLDEM\",\"NomeBloco\":\"Bloco Parlamentar Democracia\"}</td>\n",
       "            <td>7a8f88b1a99dcd2e88fdeb67839b2ceb62ce1883ac778de28c5960c8d0890930</td>\n",
       "            <td>2025</td>\n",
       "        </tr>\n",
       "        <tr>\n",
       "            <td>senado</td>\n",
       "            <td>bloco</td>\n",
       "            <td>359</td>\n",
       "            <td><a href=https://legis.senado.leg.br/dadosabertos/dados/ListaBlocoParlamentar.json>https://legis.senado.leg.br/dadosabertos/dados/ListaBlocoParlamentar.json</a></td>\n",
       "            <td>{\"CodigoBloco\":\"359\",\"DataCriacao\":\"2025-02-18\",\"Membros\":{\"Membro\":[{\"DataAdesao\":\"2025-02-18\",\"Partido\":{\"CodigoPartido\":\"20\",\"NomePartido\":\"Partido Democrático Trabalhista\",\"SiglaPartido\":\"PDT\"}},{\"DataAdesao\":\"2025-02-18\",\"Partido\":{\"CodigoPartido\":\"71\",\"NomePartido\":\"Partido dos Trabalhadores\",\"SiglaPartido\":\"PT\"}}]},\"NomeApelido\":\"BLPBR\",\"NomeBloco\":\"Bloco Parlamentar Pelo Brasil\"}</td>\n",
       "            <td>fad15c82c97137f63594179f61dca60034e295a2951725f69ebed63aae846139</td>\n",
       "            <td>2025</td>\n",
       "        </tr>\n",
       "    </tbody>\n",
       "</table>"
      ],
      "text/plain": [
       "+--------+--------+-----+-----------------------------------------------------------------------------------------------------------------------------------------------------------------+----------------------------------------------------------------------------------------------------------------------------------------------------------------------------------------------------------------------------------------------------------------------------------------------------------------------------------------------------------------------------------------------------------------------------------------------------------------------------------------------------------------------------------------------------------------------------------------------------------------------------------------------------------------------------------------------------------------------------------------------------------------------------------------------------------------------------------------------------------------------------------------------------------------------------------------------------------------------------------------------------------------------------------------------------------------------------------+------------------------------------------------------------------+------+\n",
       "| source | entity |  id |                                                                               url                                                                               |                                                                                                                                                                                                                                                                                                                                                                                                                                                                                                                                   payload_json                                                                                                                                                                                                                                                                                                                                                                                                                                                                                                                                   |                          payload_sha256                          | year |\n",
       "+--------+--------+-----+-----------------------------------------------------------------------------------------------------------------------------------------------------------------+----------------------------------------------------------------------------------------------------------------------------------------------------------------------------------------------------------------------------------------------------------------------------------------------------------------------------------------------------------------------------------------------------------------------------------------------------------------------------------------------------------------------------------------------------------------------------------------------------------------------------------------------------------------------------------------------------------------------------------------------------------------------------------------------------------------------------------------------------------------------------------------------------------------------------------------------------------------------------------------------------------------------------------------------------------------------------------+------------------------------------------------------------------+------+\n",
       "| senado | bloco  | 335 | <a href=https://legis.senado.leg.br/dadosabertos/dados/ListaBlocoParlamentar.json>https://legis.senado.leg.br/dadosabertos/dados/ListaBlocoParlamentar.json</a> | {\"CodigoBloco\":\"335\",\"DataCriacao\":\"2023-02-01\",\"Membros\":{\"Membro\":[{\"DataAdesao\":\"2023-04-25\",\"DataDesligamento\":\"2024-01-30\",\"Partido\":{\"CodigoPartido\":\"565\",\"NomePartido\":\"Rede Sustentabilidade\",\"SiglaPartido\":\"REDE\"}},{\"DataAdesao\":\"2023-02-01\",\"Partido\":{\"CodigoPartido\":\"63\",\"NomePartido\":\"Partido Socialista Brasileiro\",\"SiglaPartido\":\"PSB\"}},{\"DataAdesao\":\"2023-02-01\",\"DataDesligamento\":\"2023-02-01\",\"Partido\":{\"CodigoPartido\":\"66\",\"NomePartido\":\"Partido da Social Democracia Brasileira\",\"SiglaPartido\":\"PSDB\"}},{\"DataAdesao\":\"2023-02-01\",\"DataDesligamento\":\"2025-02-17\",\"Partido\":{\"CodigoPartido\":\"71\",\"NomePartido\":\"Partido dos Trabalhadores\",\"SiglaPartido\":\"PT\"}},{\"DataAdesao\":\"2023-02-01\",\"Partido\":{\"CodigoPartido\":\"557\",\"NomePartido\":\"Partido Social Democrático\",\"SiglaPartido\":\"PSD\"}},{\"DataAdesao\":\"2023-02-01\",\"DataDesligamento\":\"2023-02-01\",\"Partido\":{\"CodigoPartido\":\"565\",\"NomePartido\":\"Rede Sustentabilidade\",\"SiglaPartido\":\"REDE\"}}]},\"NomeApelido\":\"BLPRD\",\"NomeBloco\":\"Bloco Parlamentar da Resistência Democrática\"} | 17bb2bcc628caccad8d592ed0ae509d8d6aff8e9d03f04324ca84857ad41349f | 2023 |\n",
       "| senado | bloco  | 337 | <a href=https://legis.senado.leg.br/dadosabertos/dados/ListaBlocoParlamentar.json>https://legis.senado.leg.br/dadosabertos/dados/ListaBlocoParlamentar.json</a> |                                                                                                                                                                                                                                                                                                                                                                                                                                                                                          {\"CodigoBloco\":\"337\",\"DataCriacao\":\"2023-02-03\",\"NomeApelido\":\"Minoria\",\"NomeBloco\":\"Minoria\"}                                                                                                                                                                                                                                                                                                                                                                                                                                                                                          | e05b037fcdb0ba14965f881c4b889e3536a9830d1ecd9a4b4526f8fbc283b44f | 2023 |\n",
       "| senado | bloco  | 346 | <a href=https://legis.senado.leg.br/dadosabertos/dados/ListaBlocoParlamentar.json>https://legis.senado.leg.br/dadosabertos/dados/ListaBlocoParlamentar.json</a> |                                                                                                                                                                                                                                                                                                                                                {\"CodigoBloco\":\"346\",\"DataCriacao\":\"2023-03-20\",\"Membros\":{\"Membro\":[{\"DataAdesao\":\"2023-03-20\",\"Partido\":{\"CodigoPartido\":\"418\",\"NomePartido\":\"Progressistas\",\"SiglaPartido\":\"PP\"}},{\"DataAdesao\":\"2023-03-20\",\"Partido\":{\"CodigoPartido\":\"521\",\"NomePartido\":\"REPUBLICANOS\",\"SiglaPartido\":\"REPUBLICANOS\"}}]},\"NomeApelido\":\"BLALIANÇA\",\"NomeBloco\":\"Bloco Parlamentar Aliança\"}                                                                                                                                                                                                                                                                                                                                                | 0bfad6ac5099f84aef8d5d7b5cf7e2c7de9343b10e14bd5c9ad76171efba426a | 2023 |\n",
       "| senado | bloco  | 357 | <a href=https://legis.senado.leg.br/dadosabertos/dados/ListaBlocoParlamentar.json>https://legis.senado.leg.br/dadosabertos/dados/ListaBlocoParlamentar.json</a> |                                                                                                                                                                                                                                                                                                                                                   {\"CodigoBloco\":\"357\",\"DataCriacao\":\"2025-02-03\",\"Membros\":{\"Membro\":[{\"DataAdesao\":\"2025-02-03\",\"Partido\":{\"CodigoPartido\":\"523\",\"NomePartido\":\"Partido Liberal\",\"SiglaPartido\":\"PL\"}},{\"DataAdesao\":\"2025-02-03\",\"Partido\":{\"CodigoPartido\":\"566\",\"NomePartido\":\"Partido Novo\",\"SiglaPartido\":\"NOVO\"}}]},\"NomeApelido\":\"BLVANG\",\"NomeBloco\":\"Bloco Parlamentar Vanguarda\"}                                                                                                                                                                                                                                                                                                                                                    | 329482b8ae5ed25112eeece8b3425cde3cee1531352b728789a3fe6c16b8e09a | 2025 |\n",
       "| senado | bloco  | 358 | <a href=https://legis.senado.leg.br/dadosabertos/dados/ListaBlocoParlamentar.json>https://legis.senado.leg.br/dadosabertos/dados/ListaBlocoParlamentar.json</a> |                                                                                                                                                                                                             {\"CodigoBloco\":\"358\",\"DataCriacao\":\"2025-02-18\",\"Membros\":{\"Membro\":[{\"DataAdesao\":\"2025-02-18\",\"Partido\":{\"CodigoPartido\":\"582\",\"NomePartido\":\"União Brasil\",\"SiglaPartido\":\"UNIÃO\"}},{\"DataAdesao\":\"2025-02-18\",\"Partido\":{\"CodigoPartido\":\"577\",\"NomePartido\":\"Podemos\",\"SiglaPartido\":\"PODEMOS\"}},{\"DataAdesao\":\"2025-02-18\",\"Partido\":{\"CodigoPartido\":\"33\",\"NomePartido\":\"Movimento Democrático Brasileiro\",\"SiglaPartido\":\"MDB\"}},{\"DataAdesao\":\"2025-02-18\",\"Partido\":{\"CodigoPartido\":\"66\",\"NomePartido\":\"Partido da Social Democracia Brasileira\",\"SiglaPartido\":\"PSDB\"}}]},\"NomeApelido\":\"BLDEM\",\"NomeBloco\":\"Bloco Parlamentar Democracia\"}                                                                                                                                                                                                              | 7a8f88b1a99dcd2e88fdeb67839b2ceb62ce1883ac778de28c5960c8d0890930 | 2025 |\n",
       "| senado | bloco  | 359 | <a href=https://legis.senado.leg.br/dadosabertos/dados/ListaBlocoParlamentar.json>https://legis.senado.leg.br/dadosabertos/dados/ListaBlocoParlamentar.json</a> |                                                                                                                                                                                                                                                                                                                                      {\"CodigoBloco\":\"359\",\"DataCriacao\":\"2025-02-18\",\"Membros\":{\"Membro\":[{\"DataAdesao\":\"2025-02-18\",\"Partido\":{\"CodigoPartido\":\"20\",\"NomePartido\":\"Partido Democrático Trabalhista\",\"SiglaPartido\":\"PDT\"}},{\"DataAdesao\":\"2025-02-18\",\"Partido\":{\"CodigoPartido\":\"71\",\"NomePartido\":\"Partido dos Trabalhadores\",\"SiglaPartido\":\"PT\"}}]},\"NomeApelido\":\"BLPBR\",\"NomeBloco\":\"Bloco Parlamentar Pelo Brasil\"}                                                                                                                                                                                                                                                                                                                                      | fad15c82c97137f63594179f61dca60034e295a2951725f69ebed63aae846139 | 2025 |\n",
       "+--------+--------+-----+-----------------------------------------------------------------------------------------------------------------------------------------------------------------+----------------------------------------------------------------------------------------------------------------------------------------------------------------------------------------------------------------------------------------------------------------------------------------------------------------------------------------------------------------------------------------------------------------------------------------------------------------------------------------------------------------------------------------------------------------------------------------------------------------------------------------------------------------------------------------------------------------------------------------------------------------------------------------------------------------------------------------------------------------------------------------------------------------------------------------------------------------------------------------------------------------------------------------------------------------------------------+------------------------------------------------------------------+------+"
      ]
     },
     "execution_count": 91,
     "metadata": {},
     "output_type": "execute_result"
    }
   ],
   "source": [
    "%%sql\n",
    "SELECT * FROM bronze_senado_bloco;"
   ]
  },
  {
   "cell_type": "code",
   "execution_count": 92,
   "id": "a0b0cf58",
   "metadata": {
    "vscode": {
     "languageId": "sql"
    }
   },
   "outputs": [
    {
     "data": {
      "text/html": [
       "<span style=\"None\">Running query in &#x27;duck&#x27;</span>"
      ],
      "text/plain": [
       "Running query in 'duck'"
      ]
     },
     "metadata": {},
     "output_type": "display_data"
    },
    {
     "data": {
      "text/html": [
       "<table>\n",
       "    <thead>\n",
       "        <tr>\n",
       "            <th>Success</th>\n",
       "        </tr>\n",
       "    </thead>\n",
       "    <tbody>\n",
       "    </tbody>\n",
       "</table>"
      ],
      "text/plain": [
       "+---------+\n",
       "| Success |\n",
       "+---------+\n",
       "+---------+"
      ]
     },
     "execution_count": 92,
     "metadata": {},
     "output_type": "execute_result"
    }
   ],
   "source": [
    "\n",
    "%%sql\n",
    "DROP TABLE IF EXISTS bloco_senado;\n",
    "CREATE TABLE bloco_senado AS\n",
    "WITH base AS (\n",
    "    SELECT TRY_CAST(payload_json AS JSON) as j, year\n",
    "    FROM bronze_senado_bloco\n",
    ")\n",
    "SELECT\n",
    "    -- CodigoBloco\n",
    "    CAST(jget1(j, '$.CodigoBloco') AS BIGINT) AS codigo_bloco,\n",
    "    -- DataCriacao\n",
    "    CAST(jget1(j, '$.DataCriacao') AS DATE) AS data_criacao,\n",
    "    -- NomeApelido\n",
    "    jget1(j, '$.NomeApelido') AS nome_apelido,\n",
    "    -- NomeBloco\n",
    "    jget1(j, '$.NomeBloco') AS nome_bloco,\n",
    "    year AS year_snapshot\n",
    "FROM base\n",
    "WHERE jget1(j, '$.CodigoBloco') IS NOT NULL;\n",
    "DROP VIEW IF EXISTS bronze_senado_bloco;\n"
   ]
  },
  {
   "cell_type": "markdown",
   "id": "54673218",
   "metadata": {
    "vscode": {
     "languageId": "sql"
    }
   },
   "source": [
    "### 2.1.2 Colegiado"
   ]
  },
  {
   "cell_type": "code",
   "execution_count": 93,
   "id": "b7e34a0d",
   "metadata": {
    "vscode": {
     "languageId": "sql"
    }
   },
   "outputs": [
    {
     "data": {
      "text/html": [
       "<span style=\"None\">Running query in &#x27;duck&#x27;</span>"
      ],
      "text/plain": [
       "Running query in 'duck'"
      ]
     },
     "metadata": {},
     "output_type": "display_data"
    },
    {
     "data": {
      "text/html": [
       "<table>\n",
       "    <thead>\n",
       "        <tr>\n",
       "            <th>n</th>\n",
       "        </tr>\n",
       "    </thead>\n",
       "    <tbody>\n",
       "        <tr>\n",
       "            <td>18</td>\n",
       "        </tr>\n",
       "    </tbody>\n",
       "</table>"
      ],
      "text/plain": [
       "+----+\n",
       "| n  |\n",
       "+----+\n",
       "| 18 |\n",
       "+----+"
      ]
     },
     "execution_count": 93,
     "metadata": {},
     "output_type": "execute_result"
    }
   ],
   "source": [
    "%%sql\n",
    "CREATE OR REPLACE VIEW bronze_senado_colegiado AS\n",
    "SELECT * FROM parquet_scan(\"data/bronze/snapshots/bronze-2020-2024-v2/senado/colegiado/details/year=*/part-*.parquet\")\n",
    "WHERE source = 'senado' AND entity = 'colegiado';\n",
    "\n",
    "SELECT COUNT(*) AS n FROM bronze_senado_colegiado;"
   ]
  },
  {
   "cell_type": "code",
   "execution_count": 94,
   "id": "3075c538",
   "metadata": {
    "vscode": {
     "languageId": "sql"
    }
   },
   "outputs": [
    {
     "data": {
      "text/html": [
       "<span style=\"None\">Running query in &#x27;duck&#x27;</span>"
      ],
      "text/plain": [
       "Running query in 'duck'"
      ]
     },
     "metadata": {},
     "output_type": "display_data"
    },
    {
     "data": {
      "text/html": [
       "<table>\n",
       "    <thead>\n",
       "        <tr>\n",
       "            <th>Success</th>\n",
       "        </tr>\n",
       "    </thead>\n",
       "    <tbody>\n",
       "    </tbody>\n",
       "</table>"
      ],
      "text/plain": [
       "+---------+\n",
       "| Success |\n",
       "+---------+\n",
       "+---------+"
      ]
     },
     "execution_count": 94,
     "metadata": {},
     "output_type": "execute_result"
    }
   ],
   "source": [
    "%%sql\n",
    "DROP TABLE IF EXISTS colegiado_senado;\n",
    "CREATE TABLE colegiado_senado AS\n",
    "WITH base AS (\n",
    "    SELECT TRY_CAST(payload_json AS JSON) as j, year\n",
    "    FROM bronze_senado_colegiado\n",
    ")\n",
    "SELECT\n",
    "    -- CodigoColegiado\n",
    "    CAST(jget1(j, '$.CodigoColegiado') AS BIGINT) AS codigo_colegiado,\n",
    "    -- CodigoTipoColegiado\n",
    "    CAST(jget1(j, '$.CodigoTipoColegiado') AS BIGINT) AS codigo_tipo_colegiado,\n",
    "    -- DataInicio\n",
    "    CAST(jget1(j, '$.DataInicio') AS DATE) AS data_inicio,\n",
    "    -- IndicadorDistrPartidaria\n",
    "    jget1(j, '$.IndicadorDistrPartidaria') AS indicador_distr_partidaria,\n",
    "    -- NomeColegiado\n",
    "    jget1(j, '$.NomeColegiado') AS nome_colegiado,\n",
    "    -- SiglaColegiado\n",
    "    jget1(j, '$.SiglaColegiado') AS sigla_colegiado,\n",
    "    -- ordem\n",
    "    CAST(jget1(j, '$.ordem') AS INTEGER) AS ordem,\n",
    "    year AS year_snapshot\n",
    "FROM base\n",
    "WHERE jget1(j, '$.CodigoColegiado') IS NOT NULL;\n",
    "\n",
    "DROP TABLE IF EXISTS tipo_colegiado_senado;\n",
    "CREATE TABLE tipo_colegiado_senado AS\n",
    "WITH base AS (\n",
    "    SELECT TRY_CAST(payload_json AS JSON) AS j, year\n",
    "    FROM bronze_senado_colegiado\n",
    "),\n",
    "typed AS (\n",
    "    SELECT\n",
    "        CAST(jget1(j, '$.tipocolegiado.CodigoNaturezaColegiado') AS BIGINT) AS codigo_natureza_colegiado,\n",
    "        CAST(jget1(j, '$.tipocolegiado.CodigoTipoColegiado') AS BIGINT) AS codigo_tipo_colegiado,\n",
    "        jget1(j, '$.tipocolegiado.DescricaoTipoColegiado') AS descricao_tipo_colegiado,\n",
    "        jget1(j, '$.tipocolegiado.IndicadorAtivo') AS indicador_ativo,\n",
    "        jget1(j, '$.tipocolegiado.SiglaCasa') AS sigla_casa,\n",
    "        jget1(j, '$.tipocolegiado.SiglaTipoColegiado') AS sigla_tipo_colegiado,\n",
    "        year AS year_snapshot\n",
    "    FROM base\n",
    "    WHERE jget1(j, '$.tipocolegiado.CodigoTipoColegiado') IS NOT NULL\n",
    ")\n",
    "SELECT\n",
    "    codigo_tipo_colegiado,\n",
    "    arg_max(codigo_natureza_colegiado, year_snapshot) AS codigo_natureza_colegiado,\n",
    "    arg_max(descricao_tipo_colegiado,  year_snapshot) AS descricao_tipo_colegiado,\n",
    "    arg_max(indicador_ativo,           year_snapshot) AS indicador_ativo,\n",
    "    arg_max(sigla_casa,                year_snapshot) AS sigla_casa,\n",
    "    arg_max(sigla_tipo_colegiado,      year_snapshot) AS sigla_tipo_colegiado,\n",
    "    max(year_snapshot)                              AS year_snapshot\n",
    "FROM typed\n",
    "GROUP BY codigo_tipo_colegiado;\n",
    "\n",
    "\n",
    "\n",
    "DROP VIEW IF EXISTS bronze_senado_bloco;"
   ]
  },
  {
   "cell_type": "markdown",
   "id": "39c1043f",
   "metadata": {},
   "source": [
    "### 2.1.3 Parlamentar"
   ]
  },
  {
   "cell_type": "code",
   "execution_count": 95,
   "id": "7e7514f4",
   "metadata": {
    "vscode": {
     "languageId": "sql"
    }
   },
   "outputs": [
    {
     "data": {
      "text/html": [
       "<span style=\"None\">Running query in &#x27;duck&#x27;</span>"
      ],
      "text/plain": [
       "Running query in 'duck'"
      ]
     },
     "metadata": {},
     "output_type": "display_data"
    },
    {
     "data": {
      "text/html": [
       "<table>\n",
       "    <thead>\n",
       "        <tr>\n",
       "            <th>n</th>\n",
       "        </tr>\n",
       "    </thead>\n",
       "    <tbody>\n",
       "        <tr>\n",
       "            <td>1298</td>\n",
       "        </tr>\n",
       "    </tbody>\n",
       "</table>"
      ],
      "text/plain": [
       "+------+\n",
       "|  n   |\n",
       "+------+\n",
       "| 1298 |\n",
       "+------+"
      ]
     },
     "execution_count": 95,
     "metadata": {},
     "output_type": "execute_result"
    }
   ],
   "source": [
    "%%sql\n",
    "CREATE OR REPLACE VIEW bronze_senado_parlamentar AS\n",
    "SELECT * FROM parquet_scan(\"data/bronze/snapshots/bronze-2020-2024-v2/senado/parlamentar/details/year=*/part-*.parquet\")\n",
    "WHERE source = 'senado' AND entity = 'parlamentar';\n",
    "\n",
    "SELECT COUNT(*) AS n FROM bronze_senado_parlamentar;"
   ]
  },
  {
   "cell_type": "code",
   "execution_count": 96,
   "id": "ad86ee43",
   "metadata": {
    "vscode": {
     "languageId": "sql"
    }
   },
   "outputs": [
    {
     "data": {
      "text/html": [
       "<span style=\"None\">Running query in &#x27;duck&#x27;</span>"
      ],
      "text/plain": [
       "Running query in 'duck'"
      ]
     },
     "metadata": {},
     "output_type": "display_data"
    },
    {
     "data": {
      "text/html": [
       "<table>\n",
       "    <thead>\n",
       "        <tr>\n",
       "            <th>Success</th>\n",
       "        </tr>\n",
       "    </thead>\n",
       "    <tbody>\n",
       "    </tbody>\n",
       "</table>"
      ],
      "text/plain": [
       "+---------+\n",
       "| Success |\n",
       "+---------+\n",
       "+---------+"
      ]
     },
     "execution_count": 96,
     "metadata": {},
     "output_type": "execute_result"
    }
   ],
   "source": [
    "%%sql\n",
    "DROP TABLE IF EXISTS parlamentar_senado;\n",
    "\n",
    "CREATE TABLE parlamentar_senado AS\n",
    "WITH base AS (\n",
    "    SELECT TRY_CAST(payload_json AS JSON) AS j, year\n",
    "    FROM bronze_senado_parlamentar\n",
    "),\n",
    "par_root AS (\n",
    "    SELECT\n",
    "        json_extract(j, '$.DetalheParlamentar.Parlamentar') AS par,\n",
    "        year\n",
    "    FROM base\n",
    "),\n",
    "flattened AS (\n",
    "    SELECT\n",
    "        -- Identificação\n",
    "        CAST(jget1(par, '$.IdentificacaoParlamentar.CodigoParlamentar') AS BIGINT) AS codigo_parlamentar,\n",
    "        CAST(jget1(par, '$.IdentificacaoParlamentar.CodigoPublicoNaLegAtual') AS BIGINT) AS codigo_publico_leg_atual,\n",
    "        jget1(par, '$.IdentificacaoParlamentar.NomeCompletoParlamentar') AS nome_completo,\n",
    "        jget1(par, '$.IdentificacaoParlamentar.NomeParlamentar') AS nome_parlamentar,\n",
    "        jget1(par, '$.IdentificacaoParlamentar.SexoParlamentar') AS sexo_parlamentar,\n",
    "        jget1(par, '$.IdentificacaoParlamentar.SiglaPartidoParlamentar') AS sigla_partido,\n",
    "        jget1(par, '$.IdentificacaoParlamentar.UfParlamentar') AS uf_parlamentar,\n",
    "        jget1(par, '$.IdentificacaoParlamentar.EmailParlamentar') AS email_parlamentar,\n",
    "        -- Dados básicos\n",
    "        CAST(jget1(par, '$.DadosBasicosParlamentar.DataNascimento') AS DATE) AS data_nascimento,\n",
    "        jget1(par, '$.DadosBasicosParlamentar.EnderecoParlamentar') AS endereco_parlamentar,\n",
    "        jget1(par, '$.DadosBasicosParlamentar.Naturalidade') AS naturalidade,\n",
    "        jget1(par, '$.DadosBasicosParlamentar.UfNaturalidade') AS uf_naturalidade,\n",
    "        year AS year_snapshot\n",
    "    FROM par_root\n",
    ")\n",
    "SELECT *\n",
    "FROM flattened\n",
    "WHERE codigo_parlamentar IS NOT NULL;\n",
    "\n",
    "DROP VIEW IF EXISTS bronze_senado_parlamentar;\n"
   ]
  },
  {
   "cell_type": "markdown",
   "id": "44ced7ec",
   "metadata": {
    "vscode": {
     "languageId": "sql"
    }
   },
   "source": [
    "### 2.1.4 Partido"
   ]
  },
  {
   "cell_type": "code",
   "execution_count": 97,
   "id": "8c916ab0",
   "metadata": {
    "vscode": {
     "languageId": "sql"
    }
   },
   "outputs": [
    {
     "data": {
      "text/html": [
       "<span style=\"None\">Running query in &#x27;duck&#x27;</span>"
      ],
      "text/plain": [
       "Running query in 'duck'"
      ]
     },
     "metadata": {},
     "output_type": "display_data"
    },
    {
     "data": {
      "text/html": [
       "<table>\n",
       "    <thead>\n",
       "        <tr>\n",
       "            <th>n</th>\n",
       "        </tr>\n",
       "    </thead>\n",
       "    <tbody>\n",
       "        <tr>\n",
       "            <td>103</td>\n",
       "        </tr>\n",
       "    </tbody>\n",
       "</table>"
      ],
      "text/plain": [
       "+-----+\n",
       "|  n  |\n",
       "+-----+\n",
       "| 103 |\n",
       "+-----+"
      ]
     },
     "execution_count": 97,
     "metadata": {},
     "output_type": "execute_result"
    }
   ],
   "source": [
    "%%sql\n",
    "CREATE OR REPLACE VIEW bronze_senado_partido AS\n",
    "SELECT * FROM parquet_scan(\"data/bronze/snapshots/bronze-2020-2024-v2/senado/partido/details/year=*/part-*.parquet\")\n",
    "WHERE source = 'senado' AND entity = 'partido';\n",
    "\n",
    "SELECT COUNT(*) AS n FROM bronze_senado_partido;"
   ]
  },
  {
   "cell_type": "code",
   "execution_count": 98,
   "id": "0e765b73",
   "metadata": {
    "vscode": {
     "languageId": "sql"
    }
   },
   "outputs": [
    {
     "data": {
      "text/html": [
       "<span style=\"None\">Running query in &#x27;duck&#x27;</span>"
      ],
      "text/plain": [
       "Running query in 'duck'"
      ]
     },
     "metadata": {},
     "output_type": "display_data"
    },
    {
     "data": {
      "text/html": [
       "<table>\n",
       "    <thead>\n",
       "        <tr>\n",
       "            <th>Success</th>\n",
       "        </tr>\n",
       "    </thead>\n",
       "    <tbody>\n",
       "    </tbody>\n",
       "</table>"
      ],
      "text/plain": [
       "+---------+\n",
       "| Success |\n",
       "+---------+\n",
       "+---------+"
      ]
     },
     "execution_count": 98,
     "metadata": {},
     "output_type": "execute_result"
    }
   ],
   "source": [
    "\n",
    "%%sql\n",
    "DROP TABLE IF EXISTS partido_senado;\n",
    "CREATE TABLE partido_senado AS\n",
    "WITH base AS (\n",
    "    SELECT TRY_CAST(payload_json AS JSON) as j, year\n",
    "    FROM bronze_senado_partido\n",
    ")\n",
    "SELECT\n",
    "    CAST(jget1(j, '$.Codigo') AS BIGINT) AS codigo_partido,\n",
    "    CAST(jget1(j, '$.DataCriacao') AS DATE) AS data_criacao,\n",
    "    jget1(j, '$.Nome') AS nome,\n",
    "    jget1(j, '$.Sigla') AS sigla,\n",
    "    year AS year_snapshot\n",
    "FROM base\n",
    "WHERE jget1(j, '$.Codigo') IS NOT NULL;\n",
    "DROP VIEW IF EXISTS bronze_senado_partido;"
   ]
  },
  {
   "cell_type": "markdown",
   "id": "4b8ff15c",
   "metadata": {
    "vscode": {
     "languageId": "sql"
    }
   },
   "source": [
    "### 2.1.5 Processo"
   ]
  },
  {
   "cell_type": "code",
   "execution_count": 99,
   "id": "9f42c185",
   "metadata": {
    "vscode": {
     "languageId": "sql"
    }
   },
   "outputs": [
    {
     "data": {
      "text/html": [
       "<span style=\"None\">Running query in &#x27;duck&#x27;</span>"
      ],
      "text/plain": [
       "Running query in 'duck'"
      ]
     },
     "metadata": {},
     "output_type": "display_data"
    },
    {
     "data": {
      "text/html": [
       "<table>\n",
       "    <thead>\n",
       "        <tr>\n",
       "            <th>n</th>\n",
       "        </tr>\n",
       "    </thead>\n",
       "    <tbody>\n",
       "        <tr>\n",
       "            <td>19809</td>\n",
       "        </tr>\n",
       "    </tbody>\n",
       "</table>"
      ],
      "text/plain": [
       "+-------+\n",
       "|   n   |\n",
       "+-------+\n",
       "| 19809 |\n",
       "+-------+"
      ]
     },
     "execution_count": 99,
     "metadata": {},
     "output_type": "execute_result"
    }
   ],
   "source": [
    "%%sql\n",
    "CREATE OR REPLACE VIEW bronze_senado_processo AS\n",
    "SELECT * FROM parquet_scan(\"data/bronze/snapshots/bronze-2020-2024-v2/senado/processo/details/year=*/part-*.parquet\")\n",
    "WHERE source = 'senado' AND entity = 'processo';\n",
    "\n",
    "SELECT COUNT(*) AS n FROM bronze_senado_processo;"
   ]
  },
  {
   "cell_type": "code",
   "execution_count": 100,
   "id": "439f4d46",
   "metadata": {
    "vscode": {
     "languageId": "sql"
    }
   },
   "outputs": [
    {
     "data": {
      "text/html": [
       "<span style=\"None\">Running query in &#x27;duck&#x27;</span>"
      ],
      "text/plain": [
       "Running query in 'duck'"
      ]
     },
     "metadata": {},
     "output_type": "display_data"
    },
    {
     "data": {
      "text/html": [
       "<table>\n",
       "    <thead>\n",
       "        <tr>\n",
       "            <th>Success</th>\n",
       "        </tr>\n",
       "    </thead>\n",
       "    <tbody>\n",
       "    </tbody>\n",
       "</table>"
      ],
      "text/plain": [
       "+---------+\n",
       "| Success |\n",
       "+---------+\n",
       "+---------+"
      ]
     },
     "execution_count": 100,
     "metadata": {},
     "output_type": "execute_result"
    }
   ],
   "source": [
    "%%sql\n",
    "DROP TABLE IF EXISTS processo_senado;\n",
    "\n",
    "CREATE TABLE processo_senado AS\n",
    "WITH base AS (\n",
    "    SELECT TRY_CAST(payload_json AS JSON) AS j, year\n",
    "    FROM bronze_senado_processo\n",
    "),\n",
    "flat AS (\n",
    "    SELECT\n",
    "        -- identificadores principais\n",
    "        CAST(jget1(j, '$.id') AS BIGINT)                       AS id_processo,\n",
    "        CAST(jget1(j, '$.codigoMateria') AS BIGINT)            AS codigo_materia,\n",
    "        CAST(jget1(j, '$.idProcessoCasaInicial') AS BIGINT)    AS id_processo_casa_inicial,\n",
    "\n",
    "        jget1(j, '$.identificacao')                            AS identificacao,\n",
    "        jget1(j, '$.identificacaoProcessoInicial')             AS identificacao_processo_inicial,\n",
    "        jget1(j, '$.identificacaoExterna')                     AS identificacao_externa,\n",
    "\n",
    "        -- campos simples de nível superior\n",
    "        CAST(jget1(j, '$.ano') AS INTEGER)                     AS ano,\n",
    "        jget1(j, '$.casaIdentificadora')                       AS casa_identificadora,\n",
    "        jget1(j, '$.siglaCasaIniciadora')                      AS sigla_casa_iniciadora,\n",
    "        jget1(j, '$.siglaEnteIdentificador')                   AS sigla_ente_identificador,\n",
    "        jget1(j, '$.descricaoSigla')                           AS descricao_sigla,\n",
    "        jget1(j, '$.sigla')                                    AS sigla,\n",
    "        jget1(j, '$.numero')                                   AS numero,\n",
    "        jget1(j, '$.objetivo')                                 AS objetivo,\n",
    "        jget1(j, '$.tramitando')                               AS tramitando,\n",
    "\n",
    "        -- conteúdo principal\n",
    "        CAST(jget1(j, '$.conteudo.id') AS BIGINT)              AS id_conteudo,\n",
    "        CAST(jget1(j, '$.conteudo.idTipo') AS BIGINT)          AS id_tipo_conteudo,\n",
    "        jget1(j, '$.conteudo.siglaTipo')                       AS sigla_tipo_conteudo,\n",
    "        jget1(j, '$.conteudo.tipo')                            AS tipo_conteudo,\n",
    "        jget1(j, '$.conteudo.tipoNormaIndicada')               AS tipo_norma_indicada,\n",
    "        jget1(j, '$.conteudo.ementa')                          AS ementa,\n",
    "        jget1(j, '$.conteudo.explicacaoEmenta')                AS explicacao_ementa,\n",
    "\n",
    "        -- deliberação final\n",
    "        CAST(jget1(j, '$.deliberacao.idDestino') AS BIGINT)    AS deliberacao_id_destino,\n",
    "        jget1(j, '$.deliberacao.siglaDestino')                 AS deliberacao_sigla_destino,\n",
    "        jget1(j, '$.deliberacao.tipoDeliberacao')              AS deliberacao_tipo,\n",
    "        jget1(j, '$.deliberacao.siglaTipo')                    AS deliberacao_sigla_tipo,\n",
    "        CAST(jget1(j, '$.deliberacao.data') AS DATE)           AS deliberacao_data,\n",
    "        jget1(j, '$.deliberacao.destino')                      AS deliberacao_destino,\n",
    "\n",
    "        -- documento associado\n",
    "        CAST(jget1(j, '$.documento.id') AS BIGINT)             AS id_documento,\n",
    "        jget1(j, '$.documento.siglaTipo')                      AS documento_sigla_tipo,\n",
    "        jget1(j, '$.documento.tipo')                           AS documento_tipo,\n",
    "        jget1(j, '$.documento.indexacao')                      AS documento_indexacao,\n",
    "        jget1(j, '$.documento.resumoAutoria')                  AS documento_resumo_autoria,\n",
    "        CAST(jget1(j, '$.documento.dataApresentacao') AS DATE) AS documento_data_apresentacao,\n",
    "        CAST(jget1(j, '$.documento.dataLeitura') AS DATE)      AS documento_data_leitura,\n",
    "\n",
    "        -- norma gerada\n",
    "        CAST(jget1(j, '$.normaGerada.codigo') AS BIGINT)       AS norma_codigo,\n",
    "        jget1(j, '$.normaGerada.numero')                       AS norma_numero,\n",
    "        jget1(j, '$.normaGerada.siglaTipo')                    AS norma_sigla_tipo,\n",
    "        jget1(j, '$.normaGerada.tipo')                         AS norma_tipo,\n",
    "        jget1(j, '$.normaGerada.descricao')                    AS norma_descricao,\n",
    "        jget1(j, '$.normaGerada.siglaVeiculoPublicacao')       AS norma_sigla_veiculo,\n",
    "        jget1(j, '$.normaGerada.veiculoPublicacao')            AS norma_veiculo,\n",
    "        CAST(jget1(j, '$.normaGerada.numero') AS INTEGER)      AS norma_numero_int,\n",
    "        CAST(jget1(j, '$.normaGerada.anoAssinatura') AS INTEGER) AS norma_ano_assinatura,\n",
    "        CAST(jget1(j, '$.normaGerada.dataAssinatura') AS DATE) AS norma_data_assinatura,\n",
    "        CAST(jget1(j, '$.normaGerada.dataPublicacao') AS DATE) AS norma_data_publicacao,\n",
    "\n",
    "        year AS year_snapshot\n",
    "    FROM base\n",
    ")\n",
    "SELECT *\n",
    "FROM flat\n",
    "WHERE id_processo IS NOT NULL;\n",
    "\n",
    "\n",
    "DROP TABLE IF EXISTS tipo_deliberacao_senado;\n",
    "\n",
    "CREATE TABLE tipo_deliberacao_senado AS\n",
    "WITH base AS (\n",
    "  SELECT\n",
    "    deliberacao_sigla_tipo   AS sigla_tipo_deliberacao,\n",
    "    deliberacao_tipo         AS descricao_tipo_deliberacao,\n",
    "    -- campos auxiliares úteis (opc.)\n",
    "    deliberacao_id_destino   AS id_destino,\n",
    "    deliberacao_sigla_destino AS sigla_destino,\n",
    "    deliberacao_destino      AS destino,\n",
    "    year_snapshot\n",
    "  FROM processo_senado\n",
    "  WHERE deliberacao_sigla_tipo IS NOT NULL\n",
    ")\n",
    "SELECT\n",
    "  sigla_tipo_deliberacao,\n",
    "  arg_max(descricao_tipo_deliberacao, year_snapshot) AS descricao_tipo_deliberacao,\n",
    "  arg_max(id_destino,               year_snapshot)   AS id_destino,\n",
    "  arg_max(sigla_destino,            year_snapshot)   AS sigla_destino,\n",
    "  arg_max(destino,                  year_snapshot)   AS destino,\n",
    "  max(year_snapshot)                                AS year_snapshot\n",
    "FROM base\n",
    "GROUP BY sigla_tipo_deliberacao;\n",
    "\n",
    "DROP TABLE IF EXISTS tipo_conteudo_senado;\n",
    "\n",
    "CREATE TABLE tipo_conteudo_senado AS\n",
    "WITH base AS (\n",
    "  SELECT\n",
    "    id_tipo_conteudo       AS id_tipo_conteudo,      -- chave numérica\n",
    "    sigla_tipo_conteudo    AS sigla_tipo_conteudo,\n",
    "    tipo_conteudo          AS descricao_tipo_conteudo,\n",
    "    tipo_norma_indicada    AS tipo_norma_indicada,   -- pode ser NULL dependendo do caso\n",
    "    year_snapshot\n",
    "  FROM processo_senado\n",
    "  WHERE id_tipo_conteudo IS NOT NULL\n",
    ")\n",
    "SELECT\n",
    "  id_tipo_conteudo,\n",
    "  arg_max(sigla_tipo_conteudo,    year_snapshot) AS sigla_tipo_conteudo,\n",
    "  arg_max(descricao_tipo_conteudo,year_snapshot) AS descricao_tipo_conteudo,\n",
    "  arg_max(tipo_norma_indicada,    year_snapshot) AS tipo_norma_indicada,\n",
    "  max(year_snapshot)                             AS year_snapshot\n",
    "FROM base\n",
    "GROUP BY id_tipo_conteudo;\n",
    "\n",
    "DROP VIEW IF EXISTS bronze_senado_processo;\n"
   ]
  },
  {
   "cell_type": "markdown",
   "id": "b6d1b13e",
   "metadata": {},
   "source": [
    "## 2.2 Modelos factuais"
   ]
  },
  {
   "cell_type": "markdown",
   "id": "6b76c3b4",
   "metadata": {},
   "source": [
    "### 2.2.1 Emendas"
   ]
  },
  {
   "cell_type": "code",
   "execution_count": 101,
   "id": "15afab2b",
   "metadata": {
    "vscode": {
     "languageId": "sql"
    }
   },
   "outputs": [
    {
     "data": {
      "text/html": [
       "<span style=\"None\">Running query in &#x27;duck&#x27;</span>"
      ],
      "text/plain": [
       "Running query in 'duck'"
      ]
     },
     "metadata": {},
     "output_type": "display_data"
    },
    {
     "data": {
      "text/html": [
       "<table>\n",
       "    <thead>\n",
       "        <tr>\n",
       "            <th>n</th>\n",
       "        </tr>\n",
       "    </thead>\n",
       "    <tbody>\n",
       "        <tr>\n",
       "            <td>6463</td>\n",
       "        </tr>\n",
       "    </tbody>\n",
       "</table>"
      ],
      "text/plain": [
       "+------+\n",
       "|  n   |\n",
       "+------+\n",
       "| 6463 |\n",
       "+------+"
      ]
     },
     "execution_count": 101,
     "metadata": {},
     "output_type": "execute_result"
    }
   ],
   "source": [
    "%%sql\n",
    "CREATE OR REPLACE VIEW bronze_senado_emendas AS\n",
    "SELECT * FROM parquet_scan(\"data/bronze/snapshots/bronze-2020-2024-v2/senado/emendas/year=*/part-*.parquet\")\n",
    "WHERE source = 'senado' AND entity = 'emendas';\n",
    "\n",
    "SELECT COUNT(*) AS n FROM bronze_senado_emendas;"
   ]
  },
  {
   "cell_type": "code",
   "execution_count": 102,
   "id": "79cedc05",
   "metadata": {
    "vscode": {
     "languageId": "sql"
    }
   },
   "outputs": [
    {
     "data": {
      "text/html": [
       "<span style=\"None\">Running query in &#x27;duck&#x27;</span>"
      ],
      "text/plain": [
       "Running query in 'duck'"
      ]
     },
     "metadata": {},
     "output_type": "display_data"
    },
    {
     "data": {
      "text/html": [
       "<table>\n",
       "    <thead>\n",
       "        <tr>\n",
       "            <th>Count</th>\n",
       "        </tr>\n",
       "    </thead>\n",
       "    <tbody>\n",
       "        <tr>\n",
       "            <td>6463</td>\n",
       "        </tr>\n",
       "    </tbody>\n",
       "</table>"
      ],
      "text/plain": [
       "+-------+\n",
       "| Count |\n",
       "+-------+\n",
       "|  6463 |\n",
       "+-------+"
      ]
     },
     "execution_count": 102,
     "metadata": {},
     "output_type": "execute_result"
    }
   ],
   "source": [
    "%%sql\n",
    "\n",
    "DROP TABLE IF EXISTS emendas_senado;\n",
    "\n",
    "CREATE TABLE emendas_senado AS\n",
    "WITH base AS (\n",
    "    SELECT TRY_CAST(payload_json AS JSON) AS j, year\n",
    "    FROM bronze_senado_emendas\n",
    "),\n",
    "flat AS (\n",
    "    SELECT\n",
    "        -- chaves e metadados\n",
    "        CAST(jget1(j, '$.id')                AS BIGINT)  AS id_emenda,\n",
    "        CAST(jget1(j, '$.idCiEmenda')        AS BIGINT)  AS id_ci_emenda,\n",
    "        CAST(jget1(j, '$.idCiEmendado')      AS BIGINT)  AS id_ci_emendado,\n",
    "        CAST(jget1(j, '$.idDocumentoEmenda') AS BIGINT)  AS id_documento_emenda,\n",
    "        CAST(jget1(j, '$.idProcesso')        AS BIGINT)  AS id_processo,\n",
    "\n",
    "        -- identificação/descrição\n",
    "        jget1(j, '$.identificacao')                      AS identificacao,\n",
    "        CAST(jget1(j, '$.numero') AS INTEGER)            AS numero,\n",
    "        jget1(j, '$.autoria')                             AS autoria,\n",
    "        jget1(j, '$.descricaoDocumentoEmenda')            AS descricao_documento_emenda,\n",
    "        jget1(j, '$.tipo')                                AS tipo_emenda,\n",
    "        jget1(j, '$.turnoApresentacao')                   AS turno_apresentacao,\n",
    "\n",
    "        -- casa/colegiado\n",
    "        jget1(j, '$.casa')                                AS casa,\n",
    "        CAST(jget1(j, '$.codigoColegiado') AS BIGINT)     AS codigo_colegiado,\n",
    "        jget1(j, '$.siglaColegiado')                      AS sigla_colegiado,\n",
    "        jget1(j, '$.nomeColegiado')                       AS nome_colegiado,\n",
    "\n",
    "        -- documentos e datas\n",
    "        CAST(jget1(j, '$.dataApresentacao') AS DATE)      AS data_apresentacao,\n",
    "        jget1(j, '$.urlDocumentoEmenda')                  AS url_documento_emenda,\n",
    "\n",
    "        -- snapshot\n",
    "        year AS year_snapshot\n",
    "    FROM base\n",
    ")\n",
    "SELECT *\n",
    "FROM flat\n",
    "WHERE id_emenda IS NOT NULL;\n"
   ]
  },
  {
   "cell_type": "code",
   "execution_count": 103,
   "id": "4904208f",
   "metadata": {
    "vscode": {
     "languageId": "sql"
    }
   },
   "outputs": [
    {
     "data": {
      "text/html": [
       "<span style=\"None\">Running query in &#x27;duck&#x27;</span>"
      ],
      "text/plain": [
       "Running query in 'duck'"
      ]
     },
     "metadata": {},
     "output_type": "display_data"
    },
    {
     "data": {
      "text/html": [
       "<table>\n",
       "    <thead>\n",
       "        <tr>\n",
       "            <th>Count</th>\n",
       "        </tr>\n",
       "    </thead>\n",
       "    <tbody>\n",
       "        <tr>\n",
       "            <td>2</td>\n",
       "        </tr>\n",
       "    </tbody>\n",
       "</table>"
      ],
      "text/plain": [
       "+-------+\n",
       "| Count |\n",
       "+-------+\n",
       "|   2   |\n",
       "+-------+"
      ]
     },
     "execution_count": 103,
     "metadata": {},
     "output_type": "execute_result"
    }
   ],
   "source": [
    "%%sql\n",
    "\n",
    "DROP TABLE IF EXISTS tipo_emendas_senado;\n",
    "\n",
    "CREATE TABLE tipo_emendas_senado AS\n",
    "WITH base AS (\n",
    "    SELECT\n",
    "        tipo_emenda,\n",
    "        year_snapshot\n",
    "    FROM emendas_senado\n",
    "    WHERE tipo_emenda IS NOT NULL\n",
    ")\n",
    "SELECT\n",
    "    tipo_emenda,\n",
    "    max(year_snapshot) AS year_snapshot\n",
    "FROM base\n",
    "GROUP BY tipo_emenda;\n"
   ]
  },
  {
   "cell_type": "code",
   "execution_count": 104,
   "id": "b0cc3a27",
   "metadata": {
    "vscode": {
     "languageId": "sql"
    }
   },
   "outputs": [
    {
     "data": {
      "text/html": [
       "<span style=\"None\">Running query in &#x27;duck&#x27;</span>"
      ],
      "text/plain": [
       "Running query in 'duck'"
      ]
     },
     "metadata": {},
     "output_type": "display_data"
    },
    {
     "data": {
      "text/html": [
       "<table>\n",
       "    <thead>\n",
       "        <tr>\n",
       "            <th>Success</th>\n",
       "        </tr>\n",
       "    </thead>\n",
       "    <tbody>\n",
       "    </tbody>\n",
       "</table>"
      ],
      "text/plain": [
       "+---------+\n",
       "| Success |\n",
       "+---------+\n",
       "+---------+"
      ]
     },
     "execution_count": 104,
     "metadata": {},
     "output_type": "execute_result"
    }
   ],
   "source": [
    "%%sql\n",
    "DROP VIEW IF EXISTS bronze_senado_emendas;"
   ]
  },
  {
   "cell_type": "markdown",
   "id": "43c798a1",
   "metadata": {},
   "source": [
    "### 2.2.2 Relatorias"
   ]
  },
  {
   "cell_type": "code",
   "execution_count": 105,
   "id": "51766938",
   "metadata": {
    "vscode": {
     "languageId": "sql"
    }
   },
   "outputs": [
    {
     "data": {
      "text/html": [
       "<span style=\"None\">Running query in &#x27;duck&#x27;</span>"
      ],
      "text/plain": [
       "Running query in 'duck'"
      ]
     },
     "metadata": {},
     "output_type": "display_data"
    },
    {
     "data": {
      "text/html": [
       "<table>\n",
       "    <thead>\n",
       "        <tr>\n",
       "            <th>n</th>\n",
       "        </tr>\n",
       "    </thead>\n",
       "    <tbody>\n",
       "        <tr>\n",
       "            <td>2029</td>\n",
       "        </tr>\n",
       "    </tbody>\n",
       "</table>"
      ],
      "text/plain": [
       "+------+\n",
       "|  n   |\n",
       "+------+\n",
       "| 2029 |\n",
       "+------+"
      ]
     },
     "execution_count": 105,
     "metadata": {},
     "output_type": "execute_result"
    }
   ],
   "source": [
    "%%sql\n",
    "CREATE OR REPLACE VIEW bronze_senado_relatorias AS\n",
    "SELECT * FROM parquet_scan(\"data/bronze/snapshots/bronze-2020-2024-v2/senado/relatorias/year=*/part-*.parquet\")\n",
    "WHERE source = 'senado' AND entity = 'relatorias';\n",
    "\n",
    "SELECT COUNT(*) AS n FROM bronze_senado_relatorias;"
   ]
  },
  {
   "cell_type": "code",
   "execution_count": 106,
   "id": "7a77b43b",
   "metadata": {
    "vscode": {
     "languageId": "sql"
    }
   },
   "outputs": [
    {
     "data": {
      "text/html": [
       "<span style=\"None\">Running query in &#x27;duck&#x27;</span>"
      ],
      "text/plain": [
       "Running query in 'duck'"
      ]
     },
     "metadata": {},
     "output_type": "display_data"
    },
    {
     "data": {
      "text/html": [
       "<table>\n",
       "    <thead>\n",
       "        <tr>\n",
       "            <th>Success</th>\n",
       "        </tr>\n",
       "    </thead>\n",
       "    <tbody>\n",
       "    </tbody>\n",
       "</table>"
      ],
      "text/plain": [
       "+---------+\n",
       "| Success |\n",
       "+---------+\n",
       "+---------+"
      ]
     },
     "execution_count": 106,
     "metadata": {},
     "output_type": "execute_result"
    }
   ],
   "source": [
    "%%sql\n",
    "DROP TABLE IF EXISTS relatorias_senado;\n",
    "\n",
    "CREATE TABLE relatorias_senado AS\n",
    "WITH base AS (\n",
    "    SELECT TRY_CAST(payload_json AS JSON) AS j, year\n",
    "    FROM bronze_senado_relatorias\n",
    ")\n",
    "SELECT\n",
    "    -- chaves e relacionamentos\n",
    "    CAST(jget1(j, '$.id')                AS BIGINT)   AS id_relatoria,\n",
    "    CAST(jget1(j, '$.idProcesso')        AS BIGINT)   AS id_processo,\n",
    "    CAST(jget1(j, '$.codigoMateria')     AS BIGINT)   AS codigo_materia,\n",
    "    CAST(jget1(j, '$.codigoParlamentar') AS BIGINT)   AS codigo_parlamentar,\n",
    "\n",
    "    -- colegiado\n",
    "    CAST(jget1(j, '$.codigoColegiado')      AS BIGINT)  AS codigo_colegiado,\n",
    "    CAST(jget1(j, '$.codigoTipoColegiado')  AS BIGINT)  AS codigo_tipo_colegiado,\n",
    "    jget1(j, '$.siglaColegiado')                         AS sigla_colegiado,\n",
    "    jget1(j, '$.nomeColegiado')                          AS nome_colegiado,\n",
    "\n",
    "    -- processo\n",
    "    jget1(j, '$.autoriaProcesso')                        AS autoria_processo,\n",
    "    jget1(j, '$.identificacaoProcesso')                  AS identificacao_processo,\n",
    "    jget1(j, '$.ementaProcesso')                         AS ementa_processo,\n",
    "    CAST(jget1(j, '$.numeroAutuacao') AS INTEGER)        AS numero_autuacao,\n",
    "    jget1(j, '$.tramitando')                              AS tramitando,\n",
    "\n",
    "    -- casa/relator\n",
    "    jget1(j, '$.siglaCasa')                               AS sigla_casa,\n",
    "    jget1(j, '$.casaRelator')                             AS casa_relator,\n",
    "    jget1(j, '$.descricaoTipoRelator')                    AS descricao_tipo_relator,\n",
    "    CAST(jget1(j, '$.idTipoRelator') AS INTEGER)          AS id_tipo_relator,\n",
    "    jget1(j, '$.descricaoTipoEncerramento')               AS descricao_tipo_encerramento,\n",
    "\n",
    "    -- parlamentar\n",
    "    jget1(j, '$.formaTratamentoParlamentar')              AS forma_tratamento_parlamentar,\n",
    "    jget1(j, '$.nomeParlamentar')                         AS nome_parlamentar,\n",
    "    jget1(j, '$.nomeCompleto')                            AS nome_completo,\n",
    "    jget1(j, '$.siglaPartidoParlamentar')                 AS sigla_partido_parlamentar,\n",
    "    jget1(j, '$.ufParlamentar')                           AS uf_parlamentar,\n",
    "    jget1(j, '$.sexoParlamentar')                         AS sexo_parlamentar,\n",
    "    jget1(j, '$.emailParlamentar')                        AS email_parlamentar,\n",
    "    jget1(j, '$.urlFotoParlamentar')                      AS url_foto_parlamentar,\n",
    "    jget1(j, '$.urlPaginaParlamentar')                    AS url_pagina_parlamentar,\n",
    "\n",
    "    -- datas\n",
    "    CAST(jget1(j, '$.dataApresentacaoProcesso') AS DATETIME) AS data_apresentacao_processo,\n",
    "    CAST(jget1(j, '$.dataDesignacao')           AS DATETIME) AS data_designacao,\n",
    "    CAST(jget1(j, '$.dataDestituicao')          AS DATETIME) AS data_destituicao,\n",
    "    CAST(jget1(j, '$.dataFimColegiado')         AS DATETIME) AS data_fim_colegiado,\n",
    "\n",
    "    -- snapshot\n",
    "    year AS year_snapshot\n",
    "FROM base\n",
    "WHERE jget1(j, '$.id') IS NOT NULL;\n",
    "DROP VIEW IF EXISTS bronze_senado_relatorias;"
   ]
  },
  {
   "cell_type": "markdown",
   "id": "356b3a26",
   "metadata": {},
   "source": [
    "### 2.2.3 Votações e votos"
   ]
  },
  {
   "cell_type": "code",
   "execution_count": 107,
   "id": "38f0bfae",
   "metadata": {
    "vscode": {
     "languageId": "sql"
    }
   },
   "outputs": [
    {
     "data": {
      "text/html": [
       "<span style=\"None\">Running query in &#x27;duck&#x27;</span>"
      ],
      "text/plain": [
       "Running query in 'duck'"
      ]
     },
     "metadata": {},
     "output_type": "display_data"
    },
    {
     "data": {
      "text/html": [
       "<table>\n",
       "    <thead>\n",
       "        <tr>\n",
       "            <th>n</th>\n",
       "        </tr>\n",
       "    </thead>\n",
       "    <tbody>\n",
       "        <tr>\n",
       "            <td>604</td>\n",
       "        </tr>\n",
       "    </tbody>\n",
       "</table>"
      ],
      "text/plain": [
       "+-----+\n",
       "|  n  |\n",
       "+-----+\n",
       "| 604 |\n",
       "+-----+"
      ]
     },
     "execution_count": 107,
     "metadata": {},
     "output_type": "execute_result"
    }
   ],
   "source": [
    "%%sql\n",
    "CREATE OR REPLACE VIEW bronze_senado_votacoes AS\n",
    "SELECT * FROM parquet_scan(\"data/bronze/snapshots/bronze-2020-2024-v2/senado/votacoes/year=*/part-*.parquet\")\n",
    "WHERE source = 'senado' AND entity = 'votacoes';\n",
    "\n",
    "SELECT COUNT(*) AS n FROM bronze_senado_votacoes;"
   ]
  },
  {
   "cell_type": "code",
   "execution_count": 108,
   "id": "80453756",
   "metadata": {
    "vscode": {
     "languageId": "sql"
    }
   },
   "outputs": [
    {
     "data": {
      "text/html": [
       "<span style=\"None\">Running query in &#x27;duck&#x27;</span>"
      ],
      "text/plain": [
       "Running query in 'duck'"
      ]
     },
     "metadata": {},
     "output_type": "display_data"
    },
    {
     "data": {
      "text/html": [
       "<table>\n",
       "    <thead>\n",
       "        <tr>\n",
       "            <th>Count</th>\n",
       "        </tr>\n",
       "    </thead>\n",
       "    <tbody>\n",
       "        <tr>\n",
       "            <td>604</td>\n",
       "        </tr>\n",
       "    </tbody>\n",
       "</table>"
      ],
      "text/plain": [
       "+-------+\n",
       "| Count |\n",
       "+-------+\n",
       "|  604  |\n",
       "+-------+"
      ]
     },
     "execution_count": 108,
     "metadata": {},
     "output_type": "execute_result"
    }
   ],
   "source": [
    "%%sql\n",
    "DROP TABLE IF EXISTS votacoes_senado;\n",
    "\n",
    "CREATE TABLE votacoes_senado AS\n",
    "WITH base AS (\n",
    "    SELECT TRY_CAST(payload_json AS JSON) AS j, year AS year_snapshot\n",
    "    FROM bronze_senado_votacoes\n",
    ")\n",
    "SELECT\n",
    "    CAST(jget1(j, '$.codigoSessaoVotacao') AS BIGINT) AS id_votacao,\n",
    "    CAST(jget1(j, '$.codigoMateria') AS BIGINT) AS id_materia,\n",
    "    CAST(jget1(j, '$.idProcesso') AS BIGINT) AS id_processo,\n",
    "    jget1(j, '$.identificacao') AS identificacao,\n",
    "\n",
    "    jget1(j, '$.sigla') AS sigla,\n",
    "    jget1(j, '$.numero') AS numero,\n",
    "    CAST(jget1(j, '$.ano') AS INTEGER) AS ano,\n",
    "\n",
    "    CAST(jget1(j, '$.codigoSessao') AS BIGINT) AS codigo_sessao,\n",
    "    CAST(jget1(j, '$.numeroSessao') AS INTEGER) AS numero_sessao,\n",
    "    CAST(jget1(j, '$.sequencialSessao') AS INTEGER) AS sequencial_sessao,\n",
    "    jget1(j, '$.siglaTipoSessao') AS sigla_tipo_sessao,\n",
    "    jget1(j, '$.casaSessao') AS casa_sessao,\n",
    "    CAST(jget1(j, '$.codigoSessaoLegislativa') AS BIGINT) AS codigo_sessao_legislativa,\n",
    "\n",
    "    CAST(jget1(j, '$.dataApresentacao') AS TIMESTAMP) AS data_apresentacao,\n",
    "    CAST(jget1(j, '$.dataSessao') AS TIMESTAMP) AS data_sessao,\n",
    "\n",
    "    jget1(j, '$.descricaoVotacao') AS descricao_votacao,\n",
    "    jget1(j, '$.ementa') AS ementa,\n",
    "\n",
    "    jget1(j, '$.resultadoVotacao') AS resultado_votacao,\n",
    "    CAST(jget1(j, '$.totalVotosSim') AS INTEGER) AS total_votos_sim,\n",
    "    CAST(jget1(j, '$.totalVotosNao') AS INTEGER) AS total_votos_nao,\n",
    "    CAST(jget1(j, '$.totalVotosAbstencao') AS INTEGER) AS total_votos_abstencao,\n",
    "    jget1(j, '$.votacaoSecreta') AS votacao_secreta,\n",
    "\n",
    "    -- informe legislativo expandido\n",
    "    CAST(jget1(j, '$.informeLegislativo.id') AS BIGINT) AS id_informe,\n",
    "    CAST(jget1(j, '$.informeLegislativo.idEvento') AS BIGINT) AS id_evento,\n",
    "    CAST(jget1(j, '$.informeLegislativo.codigoColegiado') AS BIGINT) AS codigo_colegiado,\n",
    "    jget1(j, '$.informeLegislativo.nomeColegiado') AS nome_colegiado,\n",
    "    jget1(j, '$.informeLegislativo.siglaColegiado') AS sigla_colegiado,\n",
    "    CAST(jget1(j, '$.informeLegislativo.data') AS TIMESTAMP) AS data_informe,\n",
    "    jget1(j, '$.informeLegislativo.texto') AS texto_informe,\n",
    "\n",
    "    year_snapshot\n",
    "FROM base;\n"
   ]
  },
  {
   "cell_type": "code",
   "execution_count": 109,
   "id": "e534701f",
   "metadata": {
    "vscode": {
     "languageId": "sql"
    }
   },
   "outputs": [
    {
     "data": {
      "text/html": [
       "<span style=\"None\">Running query in &#x27;duck&#x27;</span>"
      ],
      "text/plain": [
       "Running query in 'duck'"
      ]
     },
     "metadata": {},
     "output_type": "display_data"
    },
    {
     "data": {
      "text/html": [
       "<table>\n",
       "    <thead>\n",
       "        <tr>\n",
       "            <th>Count</th>\n",
       "        </tr>\n",
       "    </thead>\n",
       "    <tbody>\n",
       "        <tr>\n",
       "            <td>48877</td>\n",
       "        </tr>\n",
       "    </tbody>\n",
       "</table>"
      ],
      "text/plain": [
       "+-------+\n",
       "| Count |\n",
       "+-------+\n",
       "| 48877 |\n",
       "+-------+"
      ]
     },
     "execution_count": 109,
     "metadata": {},
     "output_type": "execute_result"
    }
   ],
   "source": [
    "%%sql\n",
    "DROP TABLE IF EXISTS votos_senado;\n",
    "\n",
    "CREATE TABLE votos_senado AS\n",
    "WITH base AS (\n",
    "  SELECT\n",
    "    TRY_CAST(payload_json AS JSON) AS j,\n",
    "    year AS year_snapshot\n",
    "  FROM bronze_senado_votacoes\n",
    "),\n",
    "exploded AS (\n",
    "  SELECT\n",
    "    CAST(jget1(b.j, '$.codigoVotacaoSve') AS BIGINT)        AS codigo_votacao_sve,\n",
    "    CAST(jget1(b.j, '$.codigoSessaoVotacao') AS BIGINT)     AS codigo_sessao_votacao,\n",
    "    CAST(jget1(b.j, '$.codigoMateria') AS BIGINT)           AS codigo_materia,\n",
    "    jget1(b.j, '$.identificacao')                           AS identificacao_materia,\n",
    "\n",
    "    -- Campos do voto\n",
    "    CAST(json_extract_string(e.value, '$.codigoParlamentar') AS BIGINT) AS codigo_parlamentar,\n",
    "    json_extract_string(e.value, '$.nomeParlamentar')        AS nome_parlamentar,\n",
    "    json_extract_string(e.value, '$.sexoParlamentar')        AS sexo_parlamentar,\n",
    "    json_extract_string(e.value, '$.siglaPartidoParlamentar')AS sigla_partido_parlamentar,\n",
    "    json_extract_string(e.value, '$.siglaUFParlamentar')     AS sigla_uf_parlamentar,\n",
    "    json_extract_string(e.value, '$.siglaVotoParlamentar')   AS sigla_voto_parlamentar,\n",
    "    json_extract_string(e.value, '$.descricaoVotoParlamentar') AS descricao_voto_parlamentar,\n",
    "\n",
    "    -- Snapshot\n",
    "    b.year_snapshot\n",
    "  FROM base b\n",
    "  -- explode apenas quando existir a lista\n",
    "  CROSS JOIN json_each(b.j, '$.votos') AS e\n",
    "),\n",
    "numbered AS (\n",
    "    SELECT\n",
    "        ROW_NUMBER() OVER () AS id_voto,\n",
    "        codigo_votacao_sve,\n",
    "        codigo_sessao_votacao,\n",
    "        codigo_materia,\n",
    "        identificacao_materia,\n",
    "        codigo_parlamentar,\n",
    "        nome_parlamentar,\n",
    "        sexo_parlamentar,\n",
    "        sigla_partido_parlamentar,\n",
    "        sigla_uf_parlamentar,\n",
    "        sigla_voto_parlamentar,\n",
    "        descricao_voto_parlamentar,\n",
    "        year_snapshot\n",
    "    FROM exploded\n",
    ")\n",
    "SELECT * FROM numbered;\n"
   ]
  },
  {
   "cell_type": "code",
   "execution_count": 110,
   "id": "561fbdf1",
   "metadata": {
    "vscode": {
     "languageId": "sql"
    }
   },
   "outputs": [
    {
     "data": {
      "text/html": [
       "<span style=\"None\">Running query in &#x27;duck&#x27;</span>"
      ],
      "text/plain": [
       "Running query in 'duck'"
      ]
     },
     "metadata": {},
     "output_type": "display_data"
    },
    {
     "data": {
      "text/html": [
       "<table>\n",
       "    <thead>\n",
       "        <tr>\n",
       "            <th>Success</th>\n",
       "        </tr>\n",
       "    </thead>\n",
       "    <tbody>\n",
       "    </tbody>\n",
       "</table>"
      ],
      "text/plain": [
       "+---------+\n",
       "| Success |\n",
       "+---------+\n",
       "+---------+"
      ]
     },
     "execution_count": 110,
     "metadata": {},
     "output_type": "execute_result"
    }
   ],
   "source": [
    "%%sql\n",
    "\n",
    "DROP VIEW IF EXISTS bronze_senado_votacoes;"
   ]
  },
  {
   "cell_type": "markdown",
   "id": "8edca7c1",
   "metadata": {},
   "source": [
    "### 2.2.4 Votações / Colegiado"
   ]
  },
  {
   "cell_type": "markdown",
   "id": "50f240c4",
   "metadata": {},
   "source": [
    "## 2.3 Outras relações entre tabelas"
   ]
  },
  {
   "cell_type": "markdown",
   "id": "a9b7d8e5",
   "metadata": {},
   "source": [
    "### 2.3.1 Processos: autoria iniciativa, autoria documento"
   ]
  },
  {
   "cell_type": "code",
   "execution_count": 111,
   "id": "f01b0b99",
   "metadata": {
    "vscode": {
     "languageId": "sql"
    }
   },
   "outputs": [
    {
     "data": {
      "text/html": [
       "<span style=\"None\">Running query in &#x27;duck&#x27;</span>"
      ],
      "text/plain": [
       "Running query in 'duck'"
      ]
     },
     "metadata": {},
     "output_type": "display_data"
    },
    {
     "data": {
      "text/html": [
       "<table>\n",
       "    <thead>\n",
       "        <tr>\n",
       "            <th>n</th>\n",
       "        </tr>\n",
       "    </thead>\n",
       "    <tbody>\n",
       "        <tr>\n",
       "            <td>19809</td>\n",
       "        </tr>\n",
       "    </tbody>\n",
       "</table>"
      ],
      "text/plain": [
       "+-------+\n",
       "|   n   |\n",
       "+-------+\n",
       "| 19809 |\n",
       "+-------+"
      ]
     },
     "execution_count": 111,
     "metadata": {},
     "output_type": "execute_result"
    }
   ],
   "source": [
    "%%sql\n",
    "CREATE OR REPLACE VIEW bronze_senado_processo AS\n",
    "SELECT * FROM parquet_scan(\"data/bronze/snapshots/bronze-2020-2024-v2/senado/processo/details/year=*/part-*.parquet\")\n",
    "WHERE source = 'senado' AND entity = 'processo';\n",
    "\n",
    "SELECT COUNT(*) AS n FROM bronze_senado_processo;"
   ]
  },
  {
   "cell_type": "code",
   "execution_count": 112,
   "id": "f9aa46c5",
   "metadata": {
    "vscode": {
     "languageId": "sql"
    }
   },
   "outputs": [
    {
     "data": {
      "text/html": [
       "<span style=\"None\">Running query in &#x27;duck&#x27;</span>"
      ],
      "text/plain": [
       "Running query in 'duck'"
      ]
     },
     "metadata": {},
     "output_type": "display_data"
    },
    {
     "data": {
      "text/html": [
       "<table>\n",
       "    <thead>\n",
       "        <tr>\n",
       "            <th>Count</th>\n",
       "        </tr>\n",
       "    </thead>\n",
       "    <tbody>\n",
       "        <tr>\n",
       "            <td>35736</td>\n",
       "        </tr>\n",
       "    </tbody>\n",
       "</table>"
      ],
      "text/plain": [
       "+-------+\n",
       "| Count |\n",
       "+-------+\n",
       "| 35736 |\n",
       "+-------+"
      ]
     },
     "execution_count": 112,
     "metadata": {},
     "output_type": "execute_result"
    }
   ],
   "source": [
    "%%sql\n",
    "DROP TABLE IF EXISTS autoria_iniciativa_senado;\n",
    "\n",
    "CREATE TABLE autoria_iniciativa_senado AS\n",
    "WITH base AS (\n",
    "    SELECT\n",
    "        TRY_CAST(payload_json AS JSON) AS j,\n",
    "        year AS year_snapshot,\n",
    "        CAST(jget1(payload_json, '$.id') AS BIGINT) AS id_processo\n",
    "    FROM bronze_senado_processo\n",
    "),\n",
    "exploded AS (\n",
    "    SELECT\n",
    "        b.id_processo,\n",
    "        CAST(json_extract_string(e.value, '$.idEnte') AS BIGINT) AS id_ente,\n",
    "        json_extract_string(e.value, '$.autor') AS autor,\n",
    "        json_extract_string(e.value, '$.casaEnte') AS casa_ente,\n",
    "        CAST(json_extract_string(e.value, '$.codigoParlamentar') AS BIGINT) AS codigo_parlamentar,\n",
    "        json_extract_string(e.value, '$.descricaoTipo') AS descricao_tipo,\n",
    "        json_extract_string(e.value, '$.ente') AS ente,\n",
    "        CAST(json_extract_string(e.value, '$.ordem') AS INTEGER) AS ordem,\n",
    "        json_extract_string(e.value, '$.outrosAutoresNaoInformados') AS outros_autores_nao_informados,\n",
    "        json_extract_string(e.value, '$.siglaEnte') AS sigla_ente,\n",
    "        json_extract_string(e.value, '$.siglaTipo') AS sigla_tipo,\n",
    "        b.year_snapshot\n",
    "    FROM base b\n",
    "    CROSS JOIN json_each(b.j, '$.autoriaIniciativa') AS e\n",
    "),\n",
    "numbered AS (\n",
    "    SELECT\n",
    "        ROW_NUMBER() OVER () AS id_autoria_iniciativa,\n",
    "        id_processo,\n",
    "        codigo_parlamentar,\n",
    "        descricao_tipo,\n",
    "        ente,\n",
    "        ordem,\n",
    "        outros_autores_nao_informados,\n",
    "        sigla_ente,\n",
    "        sigla_tipo,\n",
    "        year_snapshot\n",
    "    FROM exploded\n",
    ")\n",
    "SELECT *\n",
    "FROM numbered;\n"
   ]
  },
  {
   "cell_type": "code",
   "execution_count": 113,
   "id": "f70a9814",
   "metadata": {
    "vscode": {
     "languageId": "sql"
    }
   },
   "outputs": [
    {
     "data": {
      "text/html": [
       "<span style=\"None\">Running query in &#x27;duck&#x27;</span>"
      ],
      "text/plain": [
       "Running query in 'duck'"
      ]
     },
     "metadata": {},
     "output_type": "display_data"
    },
    {
     "data": {
      "text/html": [
       "<table>\n",
       "    <thead>\n",
       "        <tr>\n",
       "            <th>Count</th>\n",
       "        </tr>\n",
       "    </thead>\n",
       "    <tbody>\n",
       "        <tr>\n",
       "            <td>36479</td>\n",
       "        </tr>\n",
       "    </tbody>\n",
       "</table>"
      ],
      "text/plain": [
       "+-------+\n",
       "| Count |\n",
       "+-------+\n",
       "| 36479 |\n",
       "+-------+"
      ]
     },
     "execution_count": 113,
     "metadata": {},
     "output_type": "execute_result"
    }
   ],
   "source": [
    "%%sql\n",
    "DROP TABLE IF EXISTS autoria_documento_senado;\n",
    "\n",
    "CREATE TABLE autoria_documento_senado AS\n",
    "WITH base AS (\n",
    "    SELECT\n",
    "        TRY_CAST(payload_json AS JSON) as j,\n",
    "        year AS year_snapshot,\n",
    "        CAST(json_extract_string(payload_json, '$.id') AS BIGINT) as id_processo,\n",
    "        CAST(json_extract_string(payload_json, '$.documento.id') AS BIGINT) as id_documento\n",
    "    FROM bronze_senado_processo\n",
    "),\n",
    "exploded as (\n",
    "    SELECT \n",
    "    b.id_processo,\n",
    "    b.id_documento,\n",
    "    json_extract_string(e, '$.autor') as autor,\n",
    "    json_extract_string(e, '$.siglaTipo') as sigla_tipo,\n",
    "    json_extract_string(e, '$.descricaoTipo') as descricao_tipo,\n",
    "    CAST(json_extract_string(e, '$.ordem') AS INTEGER) as ordem,\n",
    "    json_extract_string(e, '$.outrosAutoresNaoInformados') as outros_autores_nao_informados,\n",
    "    CAST(json_extract_string(e, '$.idEnte') AS BIGINT) as id_ente,\n",
    "    json_extract_string(e, '$.siglaEnte') as sigla_ente,\n",
    "    json_extract_string(e, '$.casaEnte') as casa_ente,\n",
    "    json_extract_string(e, '$.ente') as ente,\n",
    "    json_extract_string(e, '$.cargo') as cargo,\n",
    "    json_extract_string(e, '$.siglaCargo') as siglaCargo,\n",
    "    json_extract_string(e, '$.partido') as partido,\n",
    "    json_extract_string(e, '$.sexo') as sexo,\n",
    "    json_extract_string(e, '$.uf') as uf,\n",
    "    b.year_snapshot,\n",
    "    FROM base b\n",
    "    CROSS JOIN json_each(b.j, '$.documento.autoria') as e\n",
    "),\n",
    "numbered AS (\n",
    "    SELECT\n",
    "        ROW_NUMBER() OVER () AS id_autoria_documento,\n",
    "        id_processo,\n",
    "        id_documento,\n",
    "        autor,\n",
    "        sigla_tipo,\n",
    "        descricao_tipo,\n",
    "        ordem,\n",
    "        outros_autores_nao_informados,\n",
    "        id_ente,\n",
    "        sigla_ente,\n",
    "        casa_ente,\n",
    "        ente,\n",
    "        cargo,\n",
    "        siglaCargo,\n",
    "        partido,\n",
    "        sexo,\n",
    "        uf,\n",
    "        year_snapshot\n",
    "    FROM exploded\n",
    ")\n",
    "SELECT * FROM numbered;"
   ]
  },
  {
   "cell_type": "code",
   "execution_count": 114,
   "id": "67e362d5",
   "metadata": {
    "vscode": {
     "languageId": "sql"
    }
   },
   "outputs": [
    {
     "data": {
      "text/html": [
       "<span style=\"None\">Running query in &#x27;duck&#x27;</span>"
      ],
      "text/plain": [
       "Running query in 'duck'"
      ]
     },
     "metadata": {},
     "output_type": "display_data"
    },
    {
     "data": {
      "text/html": [
       "<table>\n",
       "    <thead>\n",
       "        <tr>\n",
       "            <th>Count</th>\n",
       "        </tr>\n",
       "    </thead>\n",
       "    <tbody>\n",
       "        <tr>\n",
       "            <td>93321</td>\n",
       "        </tr>\n",
       "    </tbody>\n",
       "</table>"
      ],
      "text/plain": [
       "+-------+\n",
       "| Count |\n",
       "+-------+\n",
       "| 93321 |\n",
       "+-------+"
      ]
     },
     "execution_count": 114,
     "metadata": {},
     "output_type": "execute_result"
    }
   ],
   "source": [
    "%%sql\n",
    "DROP TABLE IF EXISTS situacoes_senado;\n",
    "\n",
    "CREATE TABLE situacoes_senado AS\n",
    "WITH base AS (\n",
    "    SELECT\n",
    "        TRY_CAST(payload_json AS JSON) AS j,\n",
    "        year AS year_snapshot,\n",
    "        CAST(json_extract_string(payload_json, '$.id') AS BIGINT) AS id_processo\n",
    "    FROM bronze_senado_processo\n",
    "),\n",
    "autuacoes AS (\n",
    "    SELECT\n",
    "        b.id_processo,\n",
    "        CAST(json_extract_string(a.value, '$.numero') AS INTEGER) AS numero_autuacao,\n",
    "        a.value AS autuacao_json,\n",
    "        b.year_snapshot\n",
    "    FROM base b\n",
    "    CROSS JOIN json_each(b.j, '$.autuacoes') AS a\n",
    "),\n",
    "situacoes AS (\n",
    "    SELECT\n",
    "        a.id_processo,\n",
    "        a.numero_autuacao,\n",
    "        CAST(json_extract_string(s.value, '$.idTipo') AS INTEGER) AS id_tipo_situacao,\n",
    "        json_extract_string(s.value, '$.sigla') AS sigla_situacao,\n",
    "        json_extract_string(s.value, '$.descricao') AS descricao_situacao,\n",
    "        TRY_CAST(json_extract_string(s.value, '$.inicio') AS DATE) AS data_inicio,\n",
    "        TRY_CAST(json_extract_string(s.value, '$.fim') AS DATE) AS data_fim,\n",
    "        a.year_snapshot\n",
    "    FROM autuacoes a\n",
    "    CROSS JOIN json_each(a.autuacao_json, '$.situacoes') AS s\n",
    "),\n",
    "numbered AS (\n",
    "    SELECT\n",
    "        ROW_NUMBER() OVER () AS id_situacao,\n",
    "        id_processo,\n",
    "        numero_autuacao,\n",
    "        id_tipo_situacao,\n",
    "        sigla_situacao,\n",
    "        descricao_situacao,\n",
    "        data_inicio,\n",
    "        data_fim,\n",
    "        year_snapshot\n",
    "    FROM situacoes\n",
    ")\n",
    "SELECT *\n",
    "FROM numbered;\n"
   ]
  },
  {
   "cell_type": "code",
   "execution_count": 115,
   "id": "536c1c6e",
   "metadata": {
    "vscode": {
     "languageId": "sql"
    }
   },
   "outputs": [
    {
     "data": {
      "text/html": [
       "<span style=\"None\">Running query in &#x27;duck&#x27;</span>"
      ],
      "text/plain": [
       "Running query in 'duck'"
      ]
     },
     "metadata": {},
     "output_type": "display_data"
    },
    {
     "data": {
      "text/html": [
       "<table>\n",
       "    <thead>\n",
       "        <tr>\n",
       "            <th>Count</th>\n",
       "        </tr>\n",
       "    </thead>\n",
       "    <tbody>\n",
       "        <tr>\n",
       "            <td>7428</td>\n",
       "        </tr>\n",
       "    </tbody>\n",
       "</table>"
      ],
      "text/plain": [
       "+-------+\n",
       "| Count |\n",
       "+-------+\n",
       "|  7428 |\n",
       "+-------+"
      ]
     },
     "execution_count": 115,
     "metadata": {},
     "output_type": "execute_result"
    }
   ],
   "source": [
    "%%sql\n",
    "DROP TABLE IF EXISTS despachos_senado;\n",
    "\n",
    "CREATE TABLE despachos_senado AS\n",
    "WITH base AS (\n",
    "    SELECT\n",
    "        TRY_CAST(payload_json AS JSON) AS j,\n",
    "        year AS year_snapshot,\n",
    "        CAST(json_extract_string(payload_json, '$.id') AS BIGINT) AS id_processo\n",
    "    FROM bronze_senado_processo\n",
    "),\n",
    "exploded AS (\n",
    "    SELECT\n",
    "        b.id_processo,\n",
    "        CAST(json_extract_string(d.value, '$.id') AS BIGINT) AS id_despacho,\n",
    "        TRY_CAST(json_extract_string(d.value, '$.data') AS DATE) AS data_despacho,\n",
    "        json_extract_string(d.value, '$.cancelado') AS cancelado,\n",
    "        json_extract_string(d.value, '$.tipoMotivacao') AS tipo_motivacao,\n",
    "        json_extract_string(d.value, '$.siglaTipoMotivacao') AS sigla_tipo_motivacao,\n",
    "        b.year_snapshot\n",
    "    FROM base b\n",
    "    CROSS JOIN json_each(b.j, '$.despachos') AS d\n",
    ")\n",
    "SELECT\n",
    "    id_processo,\n",
    "    id_despacho,\n",
    "    data_despacho,\n",
    "    cancelado,\n",
    "    tipo_motivacao,\n",
    "    sigla_tipo_motivacao,\n",
    "    year_snapshot\n",
    "FROM exploded;\n"
   ]
  },
  {
   "cell_type": "code",
   "execution_count": 116,
   "id": "6948d28b",
   "metadata": {
    "vscode": {
     "languageId": "sql"
    }
   },
   "outputs": [
    {
     "data": {
      "text/html": [
       "<span style=\"None\">Running query in &#x27;duck&#x27;</span>"
      ],
      "text/plain": [
       "Running query in 'duck'"
      ]
     },
     "metadata": {},
     "output_type": "display_data"
    },
    {
     "data": {
      "text/html": [
       "<table>\n",
       "    <thead>\n",
       "        <tr>\n",
       "            <th>Count</th>\n",
       "        </tr>\n",
       "    </thead>\n",
       "    <tbody>\n",
       "        <tr>\n",
       "            <td>4062</td>\n",
       "        </tr>\n",
       "    </tbody>\n",
       "</table>"
      ],
      "text/plain": [
       "+-------+\n",
       "| Count |\n",
       "+-------+\n",
       "|  4062 |\n",
       "+-------+"
      ]
     },
     "execution_count": 116,
     "metadata": {},
     "output_type": "execute_result"
    }
   ],
   "source": [
    "%%sql\n",
    "DROP TABLE IF EXISTS outros_numeros_senado;\n",
    "\n",
    "CREATE TABLE outros_numeros_senado AS\n",
    "WITH base AS (\n",
    "    SELECT\n",
    "        TRY_CAST(payload_json AS JSON) AS j,\n",
    "        year AS year_snapshot,\n",
    "        CAST(json_extract_string(payload_json, '$.id') AS BIGINT) AS id_processo\n",
    "    FROM bronze_senado_processo\n",
    "),\n",
    "exploded AS (\n",
    "    SELECT\n",
    "        b.id_processo,\n",
    "        CAST(json_extract_string(o.value, '$.idOutroProcesso') AS BIGINT) AS id_outro_processo,\n",
    "        CAST(json_extract_string(o.value, '$.ano') AS INTEGER) AS ano,\n",
    "        json_extract_string(o.value, '$.casaIdentificadora') AS casa_identificadora,\n",
    "        json_extract_string(o.value, '$.enteIdentificador') AS ente_identificador,\n",
    "        json_extract_string(o.value, '$.sigla') AS sigla,\n",
    "        json_extract_string(o.value, '$.numero') AS numero,\n",
    "        json_extract_string(o.value, '$.siglaEnteIdentificador') AS sigla_ente_identificador,\n",
    "        json_extract_string(o.value, '$.externaAoCongresso') AS externa_ao_congresso,\n",
    "        json_extract_string(o.value, '$.tramitando') AS tramitando,\n",
    "        b.year_snapshot\n",
    "    FROM base b\n",
    "    CROSS JOIN json_each(b.j, '$.outrosNumeros') AS o\n",
    "),\n",
    "numbered AS (\n",
    "    SELECT\n",
    "        ROW_NUMBER() OVER () AS id_outro_numero,\n",
    "        id_processo,\n",
    "        id_outro_processo,\n",
    "        ano,\n",
    "        casa_identificadora,\n",
    "        ente_identificador,\n",
    "        sigla,\n",
    "        numero,\n",
    "        sigla_ente_identificador,\n",
    "        externa_ao_congresso,\n",
    "        tramitando,\n",
    "        year_snapshot\n",
    "    FROM exploded\n",
    ")\n",
    "SELECT *\n",
    "FROM numbered;"
   ]
  },
  {
   "cell_type": "code",
   "execution_count": 117,
   "id": "fe10029b",
   "metadata": {
    "vscode": {
     "languageId": "sql"
    }
   },
   "outputs": [
    {
     "data": {
      "text/html": [
       "<span style=\"None\">Running query in &#x27;duck&#x27;</span>"
      ],
      "text/plain": [
       "Running query in 'duck'"
      ]
     },
     "metadata": {},
     "output_type": "display_data"
    },
    {
     "data": {
      "text/html": [
       "<table>\n",
       "    <thead>\n",
       "        <tr>\n",
       "            <th>Count</th>\n",
       "        </tr>\n",
       "    </thead>\n",
       "    <tbody>\n",
       "        <tr>\n",
       "            <td>8363</td>\n",
       "        </tr>\n",
       "    </tbody>\n",
       "</table>"
      ],
      "text/plain": [
       "+-------+\n",
       "| Count |\n",
       "+-------+\n",
       "|  8363 |\n",
       "+-------+"
      ]
     },
     "execution_count": 117,
     "metadata": {},
     "output_type": "execute_result"
    }
   ],
   "source": [
    "%%sql\n",
    "DROP TABLE IF EXISTS processos_relacionados_senado;\n",
    "\n",
    "CREATE TABLE processos_relacionados_senado AS\n",
    "WITH base AS (\n",
    "    SELECT\n",
    "        TRY_CAST(payload_json AS JSON) AS j,\n",
    "        year AS year_snapshot,\n",
    "        CAST(json_extract_string(payload_json, '$.id') AS BIGINT) AS id_processo\n",
    "    FROM bronze_senado_processo\n",
    "),\n",
    "exploded AS (\n",
    "    SELECT\n",
    "        b.id_processo,\n",
    "        CAST(json_extract_string(p.value, '$.idOutroProcesso') AS BIGINT) AS id_outro_processo,\n",
    "        CAST(json_extract_string(p.value, '$.ano') AS INTEGER) AS ano,\n",
    "        json_extract_string(p.value, '$.casaIdentificadora') AS casa_identificadora,\n",
    "        json_extract_string(p.value, '$.enteIdentificador') AS ente_identificador,\n",
    "        json_extract_string(p.value, '$.sigla') AS sigla,\n",
    "        json_extract_string(p.value, '$.numero') AS numero,\n",
    "        json_extract_string(p.value, '$.siglaEnteIdentificador') AS sigla_ente_identificador,\n",
    "        json_extract_string(p.value, '$.tipoRelacao') AS tipo_relacao,\n",
    "        json_extract_string(p.value, '$.tramitando') AS tramitando,\n",
    "        b.year_snapshot\n",
    "    FROM base b\n",
    "    CROSS JOIN json_each(b.j, '$.processosRelacionados') AS p\n",
    "),\n",
    "numbered AS (\n",
    "    SELECT\n",
    "        ROW_NUMBER() OVER () AS id_processo_relacionado,\n",
    "        id_processo,\n",
    "        id_outro_processo,\n",
    "        ano,\n",
    "        casa_identificadora,\n",
    "        ente_identificador,\n",
    "        sigla,\n",
    "        numero,\n",
    "        sigla_ente_identificador,\n",
    "        tipo_relacao,\n",
    "        tramitando,\n",
    "        year_snapshot\n",
    "    FROM exploded\n",
    ")\n",
    "SELECT *\n",
    "FROM numbered;"
   ]
  },
  {
   "cell_type": "code",
   "execution_count": 118,
   "id": "aedc1d7c",
   "metadata": {
    "vscode": {
     "languageId": "sql"
    }
   },
   "outputs": [
    {
     "data": {
      "text/html": [
       "<span style=\"None\">Running query in &#x27;duck&#x27;</span>"
      ],
      "text/plain": [
       "Running query in 'duck'"
      ]
     },
     "metadata": {},
     "output_type": "display_data"
    },
    {
     "data": {
      "text/html": [
       "<table>\n",
       "    <thead>\n",
       "        <tr>\n",
       "            <th>Count</th>\n",
       "        </tr>\n",
       "    </thead>\n",
       "    <tbody>\n",
       "        <tr>\n",
       "            <td>36479</td>\n",
       "        </tr>\n",
       "    </tbody>\n",
       "</table>"
      ],
      "text/plain": [
       "+-------+\n",
       "| Count |\n",
       "+-------+\n",
       "| 36479 |\n",
       "+-------+"
      ]
     },
     "execution_count": 118,
     "metadata": {},
     "output_type": "execute_result"
    }
   ],
   "source": [
    "%%sql\n",
    "DROP TABLE IF EXISTS documento_autoria_senado;\n",
    "\n",
    "CREATE TABLE documento_autoria_senado AS\n",
    "WITH base AS (\n",
    "    SELECT\n",
    "        TRY_CAST(payload_json AS JSON) AS j,\n",
    "        year AS year_snapshot,\n",
    "        CAST(json_extract_string(payload_json, '$.id') AS BIGINT) AS id_processo\n",
    "    FROM bronze_senado_processo\n",
    "),\n",
    "exploded AS (\n",
    "    SELECT\n",
    "        b.id_processo,\n",
    "        CAST(json_extract_string(a.value, '$.idEnte') AS BIGINT) AS id_ente,\n",
    "        json_extract_string(a.value, '$.autor') AS autor,\n",
    "        json_extract_string(a.value, '$.casaEnte') AS casa_ente,\n",
    "        CAST(json_extract_string(a.value, '$.codigoParlamentar') AS BIGINT) as codigo_parlamentar,\n",
    "        json_extract_string(a.value, '$.descricaoTipo') AS descricao_tipo,\n",
    "        json_extract_string(a.value, '$.ente') AS ente,\n",
    "        CAST(json_extract_string(a.value, '$.ordem') AS INTEGER) AS ordem,\n",
    "        json_extract_string(a.value, '$.outrosAutoresNaoInformados') AS outros_autores_nao_informados,\n",
    "        json_extract_string(a.value, '$.siglaEnte') AS sigla_ente,\n",
    "        json_extract_string(a.value, '$.siglaTipo') AS sigla_tipo,\n",
    "        b.year_snapshot\n",
    "    FROM base b\n",
    "    CROSS JOIN json_each(b.j, '$.documento.autoria') AS a\n",
    "),\n",
    "numbered AS (\n",
    "    SELECT\n",
    "        ROW_NUMBER() OVER () AS id_documento_autoria,\n",
    "        id_processo,\n",
    "        id_ente,\n",
    "        autor,\n",
    "        codigo_parlamentar,\n",
    "        descricao_tipo,\n",
    "        ente,\n",
    "        ordem,\n",
    "        outros_autores_nao_informados,\n",
    "        sigla_ente,\n",
    "        sigla_tipo,\n",
    "        year_snapshot\n",
    "    FROM exploded\n",
    ")\n",
    "SELECT *\n",
    "FROM numbered;\n"
   ]
  },
  {
   "cell_type": "code",
   "execution_count": 119,
   "id": "a612faa8",
   "metadata": {
    "vscode": {
     "languageId": "sql"
    }
   },
   "outputs": [
    {
     "data": {
      "text/html": [
       "<span style=\"None\">Running query in &#x27;duck&#x27;</span>"
      ],
      "text/plain": [
       "Running query in 'duck'"
      ]
     },
     "metadata": {},
     "output_type": "display_data"
    },
    {
     "data": {
      "text/html": [
       "<table>\n",
       "    <thead>\n",
       "        <tr>\n",
       "            <th>Count</th>\n",
       "        </tr>\n",
       "    </thead>\n",
       "    <tbody>\n",
       "        <tr>\n",
       "            <td>19816</td>\n",
       "        </tr>\n",
       "    </tbody>\n",
       "</table>"
      ],
      "text/plain": [
       "+-------+\n",
       "| Count |\n",
       "+-------+\n",
       "| 19816 |\n",
       "+-------+"
      ]
     },
     "execution_count": 119,
     "metadata": {},
     "output_type": "execute_result"
    }
   ],
   "source": [
    "%%sql\n",
    "DROP TABLE IF EXISTS autuacoes_senado;\n",
    "\n",
    "CREATE TABLE autuacoes_senado AS\n",
    "WITH base AS (\n",
    "    SELECT\n",
    "        TRY_CAST(payload_json AS JSON)                                   AS j,\n",
    "        year                                                             AS year_snapshot,\n",
    "        CAST(json_extract_string(payload_json, '$.id') AS BIGINT)        AS id_processo\n",
    "    FROM bronze_senado_processo\n",
    "),\n",
    "exploded AS (\n",
    "    SELECT\n",
    "        b.id_processo,\n",
    "        -- array position within $.autuacoes becomes a stable, deterministic PK within the processo\n",
    "        CAST(a.key AS INTEGER) + 1                                       AS autuacao_idx,   -- 1-based\n",
    "        json_extract_string(a.value, '$.descricao')                      AS descricao_autuacao,\n",
    "        CAST(json_extract_string(a.value, '$.idEnteControleAtual') AS BIGINT)\n",
    "                                                                          AS id_ente_controle_atual,\n",
    "        json_extract_string(a.value, '$.nomeEnteControleAtual')          AS nome_ente_controle_atual,\n",
    "        json_extract_string(a.value, '$.siglaEnteControleAtual')         AS sigla_ente_controle_atual,\n",
    "        CAST(json_extract_string(a.value, '$.numero') AS INTEGER)        AS numero_autuacao,\n",
    "        b.year_snapshot\n",
    "    FROM base b\n",
    "    CROSS JOIN json_each(b.j, '$.autuacoes') AS a\n",
    ")\n",
    "SELECT\n",
    "    id_processo,\n",
    "    autuacao_idx,\n",
    "    descricao_autuacao,\n",
    "    id_ente_controle_atual,\n",
    "    nome_ente_controle_atual,\n",
    "    sigla_ente_controle_atual,\n",
    "    numero_autuacao,\n",
    "    year_snapshot\n",
    "FROM exploded;\n"
   ]
  },
  {
   "cell_type": "code",
   "execution_count": 120,
   "id": "3e286e58",
   "metadata": {
    "vscode": {
     "languageId": "sql"
    }
   },
   "outputs": [
    {
     "data": {
      "text/html": [
       "<span style=\"None\">Running query in &#x27;duck&#x27;</span>"
      ],
      "text/plain": [
       "Running query in 'duck'"
      ]
     },
     "metadata": {},
     "output_type": "display_data"
    },
    {
     "data": {
      "text/html": [
       "<table>\n",
       "    <thead>\n",
       "        <tr>\n",
       "            <th>Count</th>\n",
       "        </tr>\n",
       "    </thead>\n",
       "    <tbody>\n",
       "        <tr>\n",
       "            <td>318424</td>\n",
       "        </tr>\n",
       "    </tbody>\n",
       "</table>"
      ],
      "text/plain": [
       "+--------+\n",
       "| Count  |\n",
       "+--------+\n",
       "| 318424 |\n",
       "+--------+"
      ]
     },
     "execution_count": 120,
     "metadata": {},
     "output_type": "execute_result"
    }
   ],
   "source": [
    "%%sql\n",
    "DROP TABLE IF EXISTS informes_legislativos_senado;\n",
    "\n",
    "CREATE TABLE informes_legislativos_senado AS\n",
    "WITH base AS (\n",
    "    SELECT\n",
    "        TRY_CAST(payload_json AS JSON)                            AS j,\n",
    "        year                                                      AS year_snapshot,\n",
    "        CAST(json_extract_string(payload_json, '$.id') AS BIGINT) AS id_processo\n",
    "    FROM bronze_senado_processo\n",
    "),\n",
    "autuacoes AS (\n",
    "    SELECT\n",
    "        b.id_processo,\n",
    "        b.year_snapshot,\n",
    "        a.value AS autuacao_json\n",
    "    FROM base b\n",
    "    CROSS JOIN json_each(b.j, '$.autuacoes') AS a\n",
    "),\n",
    "informes AS (\n",
    "    SELECT\n",
    "        a.id_processo,\n",
    "        a.year_snapshot,\n",
    "        i.value AS informe_json\n",
    "    FROM autuacoes a\n",
    "    CROSS JOIN json_each(a.autuacao_json, '$.informesLegislativos') AS i\n",
    ")\n",
    "SELECT\n",
    "    ROW_NUMBER() OVER ()                                         AS id_informe_legislativo, -- auto increment PK\n",
    "    id_processo,\n",
    "\n",
    "    CAST(json_extract_string(informe_json, '$.id') AS BIGINT)    AS id_informe,\n",
    "    TRY_CAST(json_extract_string(informe_json, '$.data') AS DATE) AS data_informe,\n",
    "    json_extract_string(informe_json, '$.descricao')             AS descricao,\n",
    "\n",
    "    -- situação iniciada (optional)\n",
    "    CAST(json_extract_string(informe_json, '$.idSituacaoIniciada') AS BIGINT) AS id_situacao_iniciada,\n",
    "    json_extract_string(informe_json, '$.siglaSituacaoIniciada')  AS sigla_situacao_iniciada,\n",
    "\n",
    "    -- enteAdministrativo\n",
    "    json_extract_string(informe_json, '$.enteAdministrativo.casa')               AS ente_adm_casa,\n",
    "    CAST(json_extract_string(informe_json, '$.enteAdministrativo.id') AS BIGINT) AS ente_adm_id,\n",
    "    json_extract_string(informe_json, '$.enteAdministrativo.nome')               AS ente_adm_nome,\n",
    "    json_extract_string(informe_json, '$.enteAdministrativo.sigla')              AS ente_adm_sigla,\n",
    "\n",
    "    -- colegiado\n",
    "    json_extract_string(informe_json, '$.colegiado.casa')          AS colegiado_casa,\n",
    "    CAST(json_extract_string(informe_json, '$.colegiado.codigo') AS BIGINT) AS colegiado_codigo,\n",
    "    json_extract_string(informe_json, '$.colegiado.nome')          AS colegiado_nome,\n",
    "    json_extract_string(informe_json, '$.colegiado.sigla')         AS colegiado_sigla,\n",
    "\n",
    "    year_snapshot\n",
    "FROM informes;\n"
   ]
  },
  {
   "cell_type": "code",
   "execution_count": 121,
   "id": "2d522be0",
   "metadata": {
    "vscode": {
     "languageId": "sql"
    }
   },
   "outputs": [
    {
     "data": {
      "text/html": [
       "<span style=\"None\">Running query in &#x27;duck&#x27;</span>"
      ],
      "text/plain": [
       "Running query in 'duck'"
      ]
     },
     "metadata": {},
     "output_type": "display_data"
    },
    {
     "data": {
      "text/html": [
       "<table>\n",
       "    <thead>\n",
       "        <tr>\n",
       "            <th>Count</th>\n",
       "        </tr>\n",
       "    </thead>\n",
       "    <tbody>\n",
       "        <tr>\n",
       "            <td>92610</td>\n",
       "        </tr>\n",
       "    </tbody>\n",
       "</table>"
      ],
      "text/plain": [
       "+-------+\n",
       "| Count |\n",
       "+-------+\n",
       "| 92610 |\n",
       "+-------+"
      ]
     },
     "execution_count": 121,
     "metadata": {},
     "output_type": "execute_result"
    }
   ],
   "source": [
    "%%sql\n",
    "DROP TABLE IF EXISTS informes_documentos_associados_senado;\n",
    "\n",
    "CREATE TABLE informes_documentos_associados_senado AS\n",
    "WITH base AS (\n",
    "    SELECT\n",
    "        TRY_CAST(payload_json AS JSON) AS j,\n",
    "        year AS year_snapshot,\n",
    "        CAST(json_extract_string(payload_json, '$.id') AS BIGINT) AS id_processo\n",
    "    FROM bronze_senado_processo\n",
    "),\n",
    "autuacoes AS (\n",
    "    SELECT\n",
    "        b.id_processo,\n",
    "        CAST(a.key AS INTEGER)                    AS autuacao_ordem,\n",
    "        a.value                                   AS autuacao_json,\n",
    "        b.year_snapshot\n",
    "    FROM base b\n",
    "    CROSS JOIN json_each(b.j, '$.autuacoes') AS a\n",
    "),\n",
    "informes AS (\n",
    "    SELECT\n",
    "        a.id_processo,\n",
    "        a.autuacao_ordem,\n",
    "        CAST(i.key AS INTEGER)                    AS informe_ordem,\n",
    "        CAST(json_extract_string(i.value, '$.id') AS BIGINT) AS id_informe,\n",
    "        i.value                                   AS informe_json,\n",
    "        a.year_snapshot\n",
    "    FROM autuacoes a\n",
    "    CROSS JOIN json_each(a.autuacao_json, '$.informesLegislativos') AS i\n",
    "),\n",
    "docs AS (\n",
    "    SELECT\n",
    "        inf.id_processo,\n",
    "        inf.id_informe,\n",
    "        inf.autuacao_ordem,\n",
    "        inf.informe_ordem,\n",
    "        CAST(d.key AS INTEGER)                    AS documento_ordem,\n",
    "        CAST(json_extract_string(d.value, '$.id') AS BIGINT)   AS id_documento,\n",
    "        json_extract_string(d.value, '$.siglaTipo')            AS sigla_tipo_documento,\n",
    "        json_extract_string(d.value, '$.tipo')                 AS tipo_documento,\n",
    "        json_extract_string(d.value, '$.identificacao')        AS identificacao,\n",
    "        TRY_CAST(json_extract_string(d.value, '$.data') AS TIMESTAMP) AS data_documento,\n",
    "        json_extract_string(d.value, '$.autoria')              AS autoria_documento,\n",
    "        json_extract_string(d.value, '$.url')                  AS url_documento,\n",
    "        inf.year_snapshot\n",
    "    FROM informes inf\n",
    "    CROSS JOIN json_each(inf.informe_json, '$.documentosAssociados') AS d\n",
    "),\n",
    "numbered AS (\n",
    "    SELECT\n",
    "        ROW_NUMBER() OVER () AS id_documento_associado,\n",
    "        id_processo,\n",
    "        id_informe,\n",
    "        id_documento,\n",
    "        autuacao_ordem,\n",
    "        informe_ordem,\n",
    "        documento_ordem,\n",
    "        sigla_tipo_documento,\n",
    "        tipo_documento,\n",
    "        identificacao,\n",
    "        data_documento,\n",
    "        autoria_documento,\n",
    "        url_documento,\n",
    "        year_snapshot\n",
    "    FROM docs\n",
    ")\n",
    "SELECT *\n",
    "FROM numbered;\n"
   ]
  },
  {
   "cell_type": "code",
   "execution_count": 122,
   "id": "457157f3",
   "metadata": {
    "vscode": {
     "languageId": "sql"
    }
   },
   "outputs": [
    {
     "data": {
      "text/html": [
       "<span style=\"None\">Running query in &#x27;duck&#x27;</span>"
      ],
      "text/plain": [
       "Running query in 'duck'"
      ]
     },
     "metadata": {},
     "output_type": "display_data"
    },
    {
     "data": {
      "text/html": [
       "<table>\n",
       "    <thead>\n",
       "        <tr>\n",
       "            <th>Count</th>\n",
       "        </tr>\n",
       "    </thead>\n",
       "    <tbody>\n",
       "        <tr>\n",
       "            <td>93707</td>\n",
       "        </tr>\n",
       "    </tbody>\n",
       "</table>"
      ],
      "text/plain": [
       "+-------+\n",
       "| Count |\n",
       "+-------+\n",
       "| 93707 |\n",
       "+-------+"
      ]
     },
     "execution_count": 122,
     "metadata": {},
     "output_type": "execute_result"
    }
   ],
   "source": [
    "%%sql\n",
    "-- Movimentações dentro de cada autuação do processo\n",
    "DROP TABLE IF EXISTS movimentacoes_senado;\n",
    "\n",
    "CREATE TABLE movimentacoes_senado AS\n",
    "WITH base AS (\n",
    "    SELECT\n",
    "        TRY_CAST(payload_json AS JSON)                                           AS j,\n",
    "        year                                                                     AS year_snapshot,\n",
    "        CAST(json_extract_string(payload_json, '$.id') AS BIGINT)                AS id_processo\n",
    "    FROM bronze_senado_processo\n",
    "),\n",
    "autuacoes AS (  -- explode top-level autuações and keep their array index as autuacao_idx\n",
    "    SELECT\n",
    "        b.id_processo,\n",
    "        CAST(a.key AS INTEGER)                                                   AS autuacao_idx,\n",
    "        a.value                                                                  AS autuacao_json,\n",
    "        b.year_snapshot\n",
    "    FROM base b\n",
    "    CROSS JOIN json_each(b.j, '$.autuacoes') AS a\n",
    "),\n",
    "exploded AS (  -- explode movimentações under each autuação\n",
    "    SELECT\n",
    "        a.id_processo,\n",
    "        a.autuacao_idx,\n",
    "        CAST(m.key AS INTEGER)                                                   AS movimentacao_idx,\n",
    "        CAST(json_extract_string(m.value, '$.id') AS BIGINT)                     AS id_movimentacao,\n",
    "        TRY_CAST(json_extract_string(m.value, '$.dataEnvio') AS TIMESTAMP)       AS data_envio,\n",
    "        TRY_CAST(json_extract_string(m.value, '$.dataRecebimento') AS TIMESTAMP) AS data_recebimento,\n",
    "\n",
    "        -- Ente de origem\n",
    "        json_extract_string(m.value, '$.enteOrigem.casa')                        AS ente_origem_casa,\n",
    "        CAST(json_extract_string(m.value, '$.enteOrigem.id') AS BIGINT)          AS ente_origem_id,\n",
    "        json_extract_string(m.value, '$.enteOrigem.nome')                        AS ente_origem_nome,\n",
    "        json_extract_string(m.value, '$.enteOrigem.sigla')                       AS ente_origem_sigla,\n",
    "\n",
    "        -- Ente de destino\n",
    "        json_extract_string(m.value, '$.enteDestino.casa')                       AS ente_destino_casa,\n",
    "        CAST(json_extract_string(m.value, '$.enteDestino.id') AS BIGINT)         AS ente_destino_id,\n",
    "        json_extract_string(m.value, '$.enteDestino.nome')                       AS ente_destino_nome,\n",
    "        json_extract_string(m.value, '$.enteDestino.sigla')                      AS ente_destino_sigla,\n",
    "\n",
    "        -- Colegiado de destino (pode vir vazio {})\n",
    "        json_extract_string(m.value, '$.colegiadoDestino.casa')                  AS colegiado_destino_casa,\n",
    "        CAST(json_extract_string(m.value, '$.colegiadoDestino.codigo') AS BIGINT) AS colegiado_destino_codigo,\n",
    "        json_extract_string(m.value, '$.colegiadoDestino.nome')                  AS colegiado_destino_nome,\n",
    "        json_extract_string(m.value, '$.colegiadoDestino.sigla')                 AS colegiado_destino_sigla,\n",
    "\n",
    "        a.year_snapshot\n",
    "    FROM autuacoes a\n",
    "    CROSS JOIN json_each(a.autuacao_json, '$.movimentacoes') AS m\n",
    ")\n",
    "SELECT\n",
    "    id_processo,\n",
    "    autuacao_idx,            -- FK para autuacoes_senado (id_processo, autuacao_idx)\n",
    "    movimentacao_idx,        -- posição dentro da autuação (opcional como parte da PK composta)\n",
    "    id_movimentacao,\n",
    "    data_envio,\n",
    "    data_recebimento,\n",
    "    ente_origem_casa,\n",
    "    ente_origem_id,\n",
    "    ente_origem_nome,\n",
    "    ente_origem_sigla,\n",
    "    ente_destino_casa,\n",
    "    ente_destino_id,\n",
    "    ente_destino_nome,\n",
    "    ente_destino_sigla,\n",
    "    colegiado_destino_casa,\n",
    "    colegiado_destino_codigo,\n",
    "    colegiado_destino_nome,\n",
    "    colegiado_destino_sigla,\n",
    "    year_snapshot\n",
    "FROM exploded;\n"
   ]
  },
  {
   "cell_type": "code",
   "execution_count": 123,
   "id": "b6e67b44",
   "metadata": {
    "vscode": {
     "languageId": "sql"
    }
   },
   "outputs": [
    {
     "data": {
      "text/html": [
       "<span style=\"None\">Running query in &#x27;duck&#x27;</span>"
      ],
      "text/plain": [
       "Running query in 'duck'"
      ]
     },
     "metadata": {},
     "output_type": "display_data"
    },
    {
     "data": {
      "text/html": [
       "<table>\n",
       "    <thead>\n",
       "        <tr>\n",
       "            <th>Count</th>\n",
       "        </tr>\n",
       "    </thead>\n",
       "    <tbody>\n",
       "        <tr>\n",
       "            <td>7744</td>\n",
       "        </tr>\n",
       "    </tbody>\n",
       "</table>"
      ],
      "text/plain": [
       "+-------+\n",
       "| Count |\n",
       "+-------+\n",
       "|  7744 |\n",
       "+-------+"
      ]
     },
     "execution_count": 123,
     "metadata": {},
     "output_type": "execute_result"
    }
   ],
   "source": [
    "%%sql\n",
    "DROP TABLE IF EXISTS providencias_senado;\n",
    "\n",
    "CREATE TABLE providencias_senado AS\n",
    "WITH base AS (\n",
    "  SELECT\n",
    "    TRY_CAST(payload_json AS JSON) AS j,\n",
    "    year AS year_snapshot,\n",
    "    CAST(json_extract_string(payload_json, '$.id') AS BIGINT) AS id_processo\n",
    "  FROM bronze_senado_processo\n",
    "),\n",
    "despachos AS (\n",
    "  SELECT\n",
    "    b.id_processo,\n",
    "    CAST(json_extract_string(d.value, '$.id') AS BIGINT) AS id_despacho,\n",
    "    d.value AS despacho_json,\n",
    "    b.year_snapshot\n",
    "  FROM base b\n",
    "  CROSS JOIN json_each(b.j, '$.despachos') AS d\n",
    "),\n",
    "exploded AS (\n",
    "  SELECT\n",
    "    d.id_processo,\n",
    "    d.id_despacho,\n",
    "    CAST(json_extract_string(p.value, '$.id') AS BIGINT)            AS id_providencia,\n",
    "    json_extract_string(p.value, '$.descricao')                      AS descricao,\n",
    "    json_extract_string(p.value, '$.tipo')                           AS tipo,\n",
    "    json_extract_string(p.value, '$.analiseConteudo')                AS analise_conteudo,\n",
    "    json_extract_string(p.value, '$.analiseTempo')                   AS analise_tempo,\n",
    "    CAST(json_extract_string(p.value, '$.ordem') AS INTEGER)         AS ordem,\n",
    "    json_extract_string(p.value, '$.reexame')                        AS reexame,       -- \"Sim\"/\"Não\"\n",
    "    d.year_snapshot\n",
    "  FROM despachos d\n",
    "  CROSS JOIN json_each(d.despacho_json, '$.providencias') AS p\n",
    ")\n",
    "SELECT\n",
    "  id_processo,\n",
    "  id_despacho,\n",
    "  id_providencia,\n",
    "  descricao,\n",
    "  tipo,\n",
    "  analise_conteudo,\n",
    "  analise_tempo,\n",
    "  ordem,\n",
    "  reexame,\n",
    "  year_snapshot\n",
    "FROM exploded;\n"
   ]
  },
  {
   "cell_type": "code",
   "execution_count": 124,
   "id": "4e038dcf",
   "metadata": {
    "vscode": {
     "languageId": "sql"
    }
   },
   "outputs": [
    {
     "data": {
      "text/html": [
       "<span style=\"None\">Running query in &#x27;duck&#x27;</span>"
      ],
      "text/plain": [
       "Running query in 'duck'"
      ]
     },
     "metadata": {},
     "output_type": "display_data"
    },
    {
     "data": {
      "text/html": [
       "<table>\n",
       "    <thead>\n",
       "        <tr>\n",
       "            <th>Count</th>\n",
       "        </tr>\n",
       "    </thead>\n",
       "    <tbody>\n",
       "        <tr>\n",
       "            <td>9667</td>\n",
       "        </tr>\n",
       "    </tbody>\n",
       "</table>"
      ],
      "text/plain": [
       "+-------+\n",
       "| Count |\n",
       "+-------+\n",
       "|  9667 |\n",
       "+-------+"
      ]
     },
     "execution_count": 124,
     "metadata": {},
     "output_type": "execute_result"
    }
   ],
   "source": [
    "%%sql\n",
    "DROP TABLE IF EXISTS unidades_destinatarias_senado;\n",
    "\n",
    "CREATE TABLE unidades_destinatarias_senado AS\n",
    "WITH base AS (\n",
    "  SELECT\n",
    "    TRY_CAST(payload_json AS JSON) AS j,\n",
    "    year AS year_snapshot,\n",
    "    CAST(json_extract_string(payload_json, '$.id') AS BIGINT) AS id_processo\n",
    "  FROM bronze_senado_processo\n",
    "),\n",
    "desp AS (\n",
    "  SELECT\n",
    "    b.id_processo,\n",
    "    b.year_snapshot,\n",
    "    CAST(json_extract_string(d.value, '$.id') AS BIGINT) AS id_despacho,\n",
    "    d.value AS despacho_json\n",
    "  FROM base b\n",
    "  CROSS JOIN json_each(b.j, '$.despachos') AS d\n",
    "),\n",
    "prov AS (\n",
    "  SELECT\n",
    "    d.id_processo,\n",
    "    d.year_snapshot,\n",
    "    d.id_despacho,\n",
    "    CAST(json_extract_string(p.value, '$.id') AS BIGINT) AS id_providencia,\n",
    "    p.value AS providencia_json\n",
    "  FROM desp d\n",
    "  CROSS JOIN json_each(d.despacho_json, '$.providencias') AS p\n",
    "),\n",
    "unid AS (\n",
    "  SELECT\n",
    "    p.id_processo,\n",
    "    p.year_snapshot,\n",
    "    p.id_despacho,\n",
    "    p.id_providencia,\n",
    "    CAST(json_extract_string(u.value, '$.colegiado.codigo') AS BIGINT) AS colegiado_codigo,\n",
    "    json_extract_string(u.value, '$.colegiado.casa')  AS colegiado_casa,\n",
    "    json_extract_string(u.value, '$.colegiado.nome')  AS colegiado_nome,\n",
    "    json_extract_string(u.value, '$.colegiado.sigla') AS colegiado_sigla,\n",
    "    CAST(json_extract_string(u.value, '$.ordem') AS INTEGER) AS ordem,\n",
    "    json_extract_string(u.value, '$.tipoAnaliseDeliberacao') AS tipo_analise_deliberacao\n",
    "  FROM prov p\n",
    "  CROSS JOIN json_each(p.providencia_json, '$.unidadesDestinatarias') AS u\n",
    "),\n",
    "numbered AS (\n",
    "  SELECT\n",
    "    ROW_NUMBER() OVER () AS id_unidade_destinataria,\n",
    "    id_processo,\n",
    "    id_despacho,\n",
    "    id_providencia,\n",
    "    colegiado_casa,\n",
    "    colegiado_codigo,\n",
    "    colegiado_nome,\n",
    "    colegiado_sigla,\n",
    "    ordem,\n",
    "    tipo_analise_deliberacao,\n",
    "    year_snapshot\n",
    "  FROM unid\n",
    ")\n",
    "SELECT *\n",
    "FROM numbered;\n"
   ]
  },
  {
   "cell_type": "code",
   "execution_count": 125,
   "id": "f06a4c4f",
   "metadata": {
    "vscode": {
     "languageId": "sql"
    }
   },
   "outputs": [
    {
     "data": {
      "text/html": [
       "<span style=\"None\">Running query in &#x27;duck&#x27;</span>"
      ],
      "text/plain": [
       "Running query in 'duck'"
      ]
     },
     "metadata": {},
     "output_type": "display_data"
    },
    {
     "data": {
      "text/html": [
       "<table>\n",
       "    <thead>\n",
       "        <tr>\n",
       "            <th>Count</th>\n",
       "        </tr>\n",
       "    </thead>\n",
       "    <tbody>\n",
       "        <tr>\n",
       "            <td>4616</td>\n",
       "        </tr>\n",
       "    </tbody>\n",
       "</table>"
      ],
      "text/plain": [
       "+-------+\n",
       "| Count |\n",
       "+-------+\n",
       "|  4616 |\n",
       "+-------+"
      ]
     },
     "execution_count": 125,
     "metadata": {},
     "output_type": "execute_result"
    }
   ],
   "source": [
    "%%sql\n",
    "DROP TABLE IF EXISTS encontro_legislativo_senado;\n",
    "\n",
    "CREATE TABLE encontro_legislativo_senado AS\n",
    "WITH base AS (\n",
    "  SELECT\n",
    "    TRY_CAST(payload_json AS JSON) AS j,\n",
    "    year AS year_snapshot,\n",
    "    CAST(json_extract_string(payload_json, '$.id') AS BIGINT) AS id_processo\n",
    "  FROM bronze_senado_processo\n",
    "),\n",
    "desp AS (\n",
    "  SELECT\n",
    "    b.id_processo,\n",
    "    CAST(json_extract_string(d.value, '$.id') AS BIGINT) AS id_despacho,\n",
    "    d.value AS despacho_json,\n",
    "    b.year_snapshot\n",
    "  FROM base b\n",
    "  CROSS JOIN json_each(b.j, '$.despachos') AS d\n",
    "),\n",
    "encontro AS (\n",
    "  SELECT\n",
    "    id_processo,\n",
    "    id_despacho,\n",
    "    CAST(json_extract_string(despacho_json, '$.encontroLegislativo.id') AS BIGINT)          AS id_encontro_legislativo,\n",
    "    TRY_CAST(json_extract_string(despacho_json, '$.encontroLegislativo.data') AS DATE)      AS data_encontro,\n",
    "    json_extract_string(despacho_json, '$.encontroLegislativo.tipo')                         AS tipo_encontro,\n",
    "    json_extract_string(despacho_json, '$.encontroLegislativo.descricao')                    AS descricao_encontro,\n",
    "    json_extract_string(despacho_json, '$.encontroLegislativo.casa')                         AS casa_encontro,\n",
    "    CAST(json_extract_string(despacho_json, '$.encontroLegislativo.numero') AS INTEGER)      AS numero_encontro,\n",
    "    json_extract_string(despacho_json, '$.encontroLegislativo.colegiado.casa')               AS colegiado_casa,\n",
    "    CAST(json_extract_string(despacho_json, '$.encontroLegislativo.colegiado.codigo') AS BIGINT) AS colegiado_codigo,\n",
    "    json_extract_string(despacho_json, '$.encontroLegislativo.colegiado.nome')               AS colegiado_nome,\n",
    "    json_extract_string(despacho_json, '$.encontroLegislativo.colegiado.sigla')              AS colegiado_sigla,\n",
    "    year_snapshot\n",
    "  FROM desp\n",
    ")\n",
    "SELECT\n",
    "  id_processo,\n",
    "  id_despacho,\n",
    "  id_encontro_legislativo,\n",
    "  data_encontro,\n",
    "  tipo_encontro,\n",
    "  descricao_encontro,\n",
    "  casa_encontro,\n",
    "  numero_encontro,\n",
    "  colegiado_casa,\n",
    "  colegiado_codigo,\n",
    "  colegiado_nome,\n",
    "  colegiado_sigla,\n",
    "  year_snapshot\n",
    "FROM encontro\n",
    "WHERE id_encontro_legislativo IS NOT NULL;\n"
   ]
  },
  {
   "cell_type": "markdown",
   "id": "7a64156c",
   "metadata": {},
   "source": [
    "# 3. Regularização\n",
    "\n",
    "# 3.1. Normalização de PKs"
   ]
  },
  {
   "cell_type": "markdown",
   "id": "5d85f1ad",
   "metadata": {
    "vscode": {
     "languageId": "sql"
    }
   },
   "source": [
    "### 3.1.1. Bloco"
   ]
  },
  {
   "cell_type": "code",
   "execution_count": 126,
   "id": "31d53c6f",
   "metadata": {
    "vscode": {
     "languageId": "sql"
    }
   },
   "outputs": [
    {
     "data": {
      "text/html": [
       "<span style=\"None\">Running query in &#x27;duck&#x27;</span>"
      ],
      "text/plain": [
       "Running query in 'duck'"
      ]
     },
     "metadata": {},
     "output_type": "display_data"
    },
    {
     "data": {
      "text/html": [
       "<table>\n",
       "    <thead>\n",
       "        <tr>\n",
       "            <th>Success</th>\n",
       "        </tr>\n",
       "    </thead>\n",
       "    <tbody>\n",
       "    </tbody>\n",
       "</table>"
      ],
      "text/plain": [
       "+---------+\n",
       "| Success |\n",
       "+---------+\n",
       "+---------+"
      ]
     },
     "execution_count": 126,
     "metadata": {},
     "output_type": "execute_result"
    }
   ],
   "source": [
    "%%sql\n",
    "ALTER TABLE bloco_senado\n",
    "    ALTER COLUMN codigo_bloco TYPE BIGINT;\n",
    "\n",
    "ALTER TABLE bloco_senado\n",
    "    ADD CONSTRAINT pk_bloco PRIMARY KEY (codigo_bloco);"
   ]
  },
  {
   "cell_type": "markdown",
   "id": "4b8e96d1",
   "metadata": {
    "vscode": {
     "languageId": "sql"
    }
   },
   "source": [
    "### 3.1.2. Parlamentar"
   ]
  },
  {
   "cell_type": "code",
   "execution_count": 127,
   "id": "119f1334",
   "metadata": {
    "vscode": {
     "languageId": "sql"
    }
   },
   "outputs": [
    {
     "data": {
      "text/html": [
       "<span style=\"None\">Running query in &#x27;duck&#x27;</span>"
      ],
      "text/plain": [
       "Running query in 'duck'"
      ]
     },
     "metadata": {},
     "output_type": "display_data"
    },
    {
     "data": {
      "text/html": [
       "<table>\n",
       "    <thead>\n",
       "        <tr>\n",
       "            <th>Success</th>\n",
       "        </tr>\n",
       "    </thead>\n",
       "    <tbody>\n",
       "    </tbody>\n",
       "</table>"
      ],
      "text/plain": [
       "+---------+\n",
       "| Success |\n",
       "+---------+\n",
       "+---------+"
      ]
     },
     "execution_count": 127,
     "metadata": {},
     "output_type": "execute_result"
    }
   ],
   "source": [
    "%%sql\n",
    "CREATE TABLE parlamentares_senado_dedup AS\n",
    "SELECT *\n",
    "FROM (\n",
    "    SELECT *,\n",
    "           ROW_NUMBER() OVER (PARTITION BY codigo_parlamentar ORDER BY year_snapshot DESC) AS rn\n",
    "    FROM parlamentar_senado\n",
    ")\n",
    "WHERE rn = 1;\n",
    "\n",
    "DROP TABLE parlamentar_senado;\n",
    "ALTER TABLE parlamentares_senado_dedup RENAME TO parlamentar_senado;\n"
   ]
  },
  {
   "cell_type": "code",
   "execution_count": 128,
   "id": "cfcfbb82",
   "metadata": {
    "vscode": {
     "languageId": "sql"
    }
   },
   "outputs": [
    {
     "data": {
      "text/html": [
       "<span style=\"None\">Running query in &#x27;duck&#x27;</span>"
      ],
      "text/plain": [
       "Running query in 'duck'"
      ]
     },
     "metadata": {},
     "output_type": "display_data"
    },
    {
     "data": {
      "text/html": [
       "<table>\n",
       "    <thead>\n",
       "        <tr>\n",
       "            <th>Success</th>\n",
       "        </tr>\n",
       "    </thead>\n",
       "    <tbody>\n",
       "    </tbody>\n",
       "</table>"
      ],
      "text/plain": [
       "+---------+\n",
       "| Success |\n",
       "+---------+\n",
       "+---------+"
      ]
     },
     "execution_count": 128,
     "metadata": {},
     "output_type": "execute_result"
    }
   ],
   "source": [
    "%%sql\n",
    "ALTER TABLE parlamentar_senado\n",
    "    ALTER COLUMN codigo_parlamentar TYPE BIGINT;\n",
    "\n",
    "ALTER TABLE parlamentar_senado\n",
    "    ADD CONSTRAINT pk_parlamentar PRIMARY KEY (codigo_parlamentar);"
   ]
  },
  {
   "cell_type": "markdown",
   "id": "a6ad898c",
   "metadata": {
    "vscode": {
     "languageId": "sql"
    }
   },
   "source": [
    "### 3.1.3. Partido"
   ]
  },
  {
   "cell_type": "code",
   "execution_count": 129,
   "id": "a250308c",
   "metadata": {
    "vscode": {
     "languageId": "sql"
    }
   },
   "outputs": [
    {
     "data": {
      "text/html": [
       "<span style=\"None\">Running query in &#x27;duck&#x27;</span>"
      ],
      "text/plain": [
       "Running query in 'duck'"
      ]
     },
     "metadata": {},
     "output_type": "display_data"
    },
    {
     "data": {
      "text/html": [
       "<table>\n",
       "    <thead>\n",
       "        <tr>\n",
       "            <th>Success</th>\n",
       "        </tr>\n",
       "    </thead>\n",
       "    <tbody>\n",
       "    </tbody>\n",
       "</table>"
      ],
      "text/plain": [
       "+---------+\n",
       "| Success |\n",
       "+---------+\n",
       "+---------+"
      ]
     },
     "execution_count": 129,
     "metadata": {},
     "output_type": "execute_result"
    }
   ],
   "source": [
    "%%sql\n",
    "ALTER TABLE partido_senado\n",
    "    ALTER COLUMN codigo_partido TYPE BIGINT;\n",
    "\n",
    "ALTER TABLE partido_senado\n",
    "    ADD CONSTRAINT pk_partido PRIMARY KEY (codigo_partido);"
   ]
  },
  {
   "cell_type": "markdown",
   "id": "67f903e2",
   "metadata": {},
   "source": [
    "### 3.1.4. Processo"
   ]
  },
  {
   "cell_type": "code",
   "execution_count": 130,
   "id": "b72116e4",
   "metadata": {
    "vscode": {
     "languageId": "sql"
    }
   },
   "outputs": [
    {
     "data": {
      "text/html": [
       "<span style=\"None\">Running query in &#x27;duck&#x27;</span>"
      ],
      "text/plain": [
       "Running query in 'duck'"
      ]
     },
     "metadata": {},
     "output_type": "display_data"
    },
    {
     "data": {
      "text/html": [
       "<table>\n",
       "    <thead>\n",
       "        <tr>\n",
       "            <th>Success</th>\n",
       "        </tr>\n",
       "    </thead>\n",
       "    <tbody>\n",
       "    </tbody>\n",
       "</table>"
      ],
      "text/plain": [
       "+---------+\n",
       "| Success |\n",
       "+---------+\n",
       "+---------+"
      ]
     },
     "execution_count": 130,
     "metadata": {},
     "output_type": "execute_result"
    }
   ],
   "source": [
    "%%sql\n",
    "ALTER TABLE processo_senado\n",
    "    ALTER COLUMN id_processo TYPE BIGINT;\n",
    "\n",
    "ALTER TABLE processo_senado\n",
    "    ADD CONSTRAINT pk_processo PRIMARY KEY (id_processo);"
   ]
  },
  {
   "cell_type": "markdown",
   "id": "67acf336",
   "metadata": {},
   "source": [
    "### 3.1.5. Emendas"
   ]
  },
  {
   "cell_type": "code",
   "execution_count": 131,
   "id": "adca2766",
   "metadata": {
    "vscode": {
     "languageId": "sql"
    }
   },
   "outputs": [
    {
     "data": {
      "text/html": [
       "<span style=\"None\">Running query in &#x27;duck&#x27;</span>"
      ],
      "text/plain": [
       "Running query in 'duck'"
      ]
     },
     "metadata": {},
     "output_type": "display_data"
    },
    {
     "data": {
      "text/html": [
       "<table>\n",
       "    <thead>\n",
       "        <tr>\n",
       "            <th>Success</th>\n",
       "        </tr>\n",
       "    </thead>\n",
       "    <tbody>\n",
       "    </tbody>\n",
       "</table>"
      ],
      "text/plain": [
       "+---------+\n",
       "| Success |\n",
       "+---------+\n",
       "+---------+"
      ]
     },
     "execution_count": 131,
     "metadata": {},
     "output_type": "execute_result"
    }
   ],
   "source": [
    "%%sql\n",
    "ALTER TABLE emendas_senado\n",
    "    ALTER COLUMN id_emenda TYPE BIGINT;\n",
    "\n",
    "ALTER TABLE emendas_senado\n",
    "    ADD CONSTRAINT pk_emenda PRIMARY KEY (id_emenda);"
   ]
  },
  {
   "cell_type": "markdown",
   "id": "3990b6ac",
   "metadata": {},
   "source": [
    "### 3.1.6. Relatorias"
   ]
  },
  {
   "cell_type": "code",
   "execution_count": 132,
   "id": "947ae9d0",
   "metadata": {
    "vscode": {
     "languageId": "sql"
    }
   },
   "outputs": [
    {
     "data": {
      "text/html": [
       "<span style=\"None\">Running query in &#x27;duck&#x27;</span>"
      ],
      "text/plain": [
       "Running query in 'duck'"
      ]
     },
     "metadata": {},
     "output_type": "display_data"
    },
    {
     "data": {
      "text/html": [
       "<table>\n",
       "    <thead>\n",
       "        <tr>\n",
       "            <th>Success</th>\n",
       "        </tr>\n",
       "    </thead>\n",
       "    <tbody>\n",
       "    </tbody>\n",
       "</table>"
      ],
      "text/plain": [
       "+---------+\n",
       "| Success |\n",
       "+---------+\n",
       "+---------+"
      ]
     },
     "execution_count": 132,
     "metadata": {},
     "output_type": "execute_result"
    }
   ],
   "source": [
    "%%sql\n",
    "ALTER TABLE relatorias_senado\n",
    "    ALTER COLUMN id_relatoria TYPE BIGINT;\n",
    "\n",
    "ALTER TABLE relatorias_senado\n",
    "    ADD CONSTRAINT pk_relatoria PRIMARY KEY (id_relatoria);"
   ]
  },
  {
   "cell_type": "markdown",
   "id": "32d4e3b5",
   "metadata": {},
   "source": [
    "### 3.1.7. Votações"
   ]
  },
  {
   "cell_type": "code",
   "execution_count": 133,
   "id": "19ea820e",
   "metadata": {
    "vscode": {
     "languageId": "sql"
    }
   },
   "outputs": [
    {
     "data": {
      "text/html": [
       "<span style=\"None\">Running query in &#x27;duck&#x27;</span>"
      ],
      "text/plain": [
       "Running query in 'duck'"
      ]
     },
     "metadata": {},
     "output_type": "display_data"
    },
    {
     "data": {
      "text/html": [
       "<table>\n",
       "    <thead>\n",
       "        <tr>\n",
       "            <th>Success</th>\n",
       "        </tr>\n",
       "    </thead>\n",
       "    <tbody>\n",
       "    </tbody>\n",
       "</table>"
      ],
      "text/plain": [
       "+---------+\n",
       "| Success |\n",
       "+---------+\n",
       "+---------+"
      ]
     },
     "execution_count": 133,
     "metadata": {},
     "output_type": "execute_result"
    }
   ],
   "source": [
    "%%sql\n",
    "ALTER TABLE votacoes_senado\n",
    "    ALTER COLUMN id_votacao TYPE BIGINT;\n",
    "\n",
    "ALTER TABLE votacoes_senado\n",
    "    ADD CONSTRAINT pk_votacao PRIMARY KEY (id_votacao);"
   ]
  },
  {
   "cell_type": "markdown",
   "id": "5d741d9f",
   "metadata": {},
   "source": [
    "### 3.1.8. Votos"
   ]
  },
  {
   "cell_type": "code",
   "execution_count": 134,
   "id": "2b6f3671",
   "metadata": {
    "vscode": {
     "languageId": "sql"
    }
   },
   "outputs": [
    {
     "data": {
      "text/html": [
       "<span style=\"None\">Running query in &#x27;duck&#x27;</span>"
      ],
      "text/plain": [
       "Running query in 'duck'"
      ]
     },
     "metadata": {},
     "output_type": "display_data"
    },
    {
     "data": {
      "text/html": [
       "<table>\n",
       "    <thead>\n",
       "        <tr>\n",
       "            <th>Success</th>\n",
       "        </tr>\n",
       "    </thead>\n",
       "    <tbody>\n",
       "    </tbody>\n",
       "</table>"
      ],
      "text/plain": [
       "+---------+\n",
       "| Success |\n",
       "+---------+\n",
       "+---------+"
      ]
     },
     "execution_count": 134,
     "metadata": {},
     "output_type": "execute_result"
    }
   ],
   "source": [
    "%%sql\n",
    "ALTER TABLE votos_senado\n",
    "    ALTER COLUMN id_voto TYPE BIGINT;\n",
    "\n",
    "ALTER TABLE votos_senado\n",
    "    ADD CONSTRAINT pk_voto PRIMARY KEY (id_voto);"
   ]
  },
  {
   "cell_type": "markdown",
   "id": "2fbea2f2",
   "metadata": {
    "vscode": {
     "languageId": "sql"
    }
   },
   "source": [
    "### 3.1.9. Autoria-iniciativa"
   ]
  },
  {
   "cell_type": "code",
   "execution_count": 135,
   "id": "aeb74699",
   "metadata": {
    "vscode": {
     "languageId": "sql"
    }
   },
   "outputs": [
    {
     "data": {
      "text/html": [
       "<span style=\"None\">Running query in &#x27;duck&#x27;</span>"
      ],
      "text/plain": [
       "Running query in 'duck'"
      ]
     },
     "metadata": {},
     "output_type": "display_data"
    },
    {
     "data": {
      "text/html": [
       "<table>\n",
       "    <thead>\n",
       "        <tr>\n",
       "            <th>Success</th>\n",
       "        </tr>\n",
       "    </thead>\n",
       "    <tbody>\n",
       "    </tbody>\n",
       "</table>"
      ],
      "text/plain": [
       "+---------+\n",
       "| Success |\n",
       "+---------+\n",
       "+---------+"
      ]
     },
     "execution_count": 135,
     "metadata": {},
     "output_type": "execute_result"
    }
   ],
   "source": [
    "%%sql\n",
    "ALTER TABLE autoria_iniciativa_senado\n",
    "    ALTER COLUMN id_autoria_iniciativa TYPE BIGINT;\n",
    "\n",
    "ALTER TABLE autoria_iniciativa_senado\n",
    "    ADD CONSTRAINT pk_autoria_iniciativa PRIMARY KEY (id_autoria_iniciativa);"
   ]
  },
  {
   "cell_type": "markdown",
   "id": "23e3f468",
   "metadata": {
    "vscode": {
     "languageId": "sql"
    }
   },
   "source": [
    "### 3.1.10. Situações"
   ]
  },
  {
   "cell_type": "code",
   "execution_count": 136,
   "id": "828d585c",
   "metadata": {
    "vscode": {
     "languageId": "sql"
    }
   },
   "outputs": [
    {
     "data": {
      "text/html": [
       "<span style=\"None\">Running query in &#x27;duck&#x27;</span>"
      ],
      "text/plain": [
       "Running query in 'duck'"
      ]
     },
     "metadata": {},
     "output_type": "display_data"
    },
    {
     "data": {
      "text/html": [
       "<table>\n",
       "    <thead>\n",
       "        <tr>\n",
       "            <th>Success</th>\n",
       "        </tr>\n",
       "    </thead>\n",
       "    <tbody>\n",
       "    </tbody>\n",
       "</table>"
      ],
      "text/plain": [
       "+---------+\n",
       "| Success |\n",
       "+---------+\n",
       "+---------+"
      ]
     },
     "execution_count": 136,
     "metadata": {},
     "output_type": "execute_result"
    }
   ],
   "source": [
    "%%sql\n",
    "ALTER TABLE situacoes_senado\n",
    "    ALTER COLUMN id_situacao TYPE BIGINT;\n",
    "\n",
    "ALTER TABLE situacoes_senado\n",
    "    ADD CONSTRAINT pk_situacao PRIMARY KEY (id_situacao);"
   ]
  },
  {
   "cell_type": "markdown",
   "id": "9f309fed",
   "metadata": {},
   "source": [
    "### 3.1.11. Despachos"
   ]
  },
  {
   "cell_type": "code",
   "execution_count": 137,
   "id": "dfd61a1e",
   "metadata": {
    "vscode": {
     "languageId": "sql"
    }
   },
   "outputs": [
    {
     "data": {
      "text/html": [
       "<span style=\"None\">Running query in &#x27;duck&#x27;</span>"
      ],
      "text/plain": [
       "Running query in 'duck'"
      ]
     },
     "metadata": {},
     "output_type": "display_data"
    },
    {
     "data": {
      "text/html": [
       "<table>\n",
       "    <thead>\n",
       "        <tr>\n",
       "            <th>id_processo</th>\n",
       "            <th>id_despacho</th>\n",
       "            <th>data_despacho</th>\n",
       "            <th>cancelado</th>\n",
       "            <th>tipo_motivacao</th>\n",
       "            <th>sigla_tipo_motivacao</th>\n",
       "            <th>year_snapshot</th>\n",
       "        </tr>\n",
       "    </thead>\n",
       "    <tbody>\n",
       "        <tr>\n",
       "            <td>7412455</td>\n",
       "            <td>7824068</td>\n",
       "            <td>2018-08-09</td>\n",
       "            <td>Não</td>\n",
       "            <td>Leitura da Matéria</td>\n",
       "            <td>LEITURA_DA_MATERIA</td>\n",
       "            <td>2018</td>\n",
       "        </tr>\n",
       "        <tr>\n",
       "            <td>7621491</td>\n",
       "            <td>7824068</td>\n",
       "            <td>2018-08-09</td>\n",
       "            <td>Não</td>\n",
       "            <td>Leitura da Matéria</td>\n",
       "            <td>LEITURA_DA_MATERIA</td>\n",
       "            <td>2018</td>\n",
       "        </tr>\n",
       "        <tr>\n",
       "            <td>7693160</td>\n",
       "            <td>7880428</td>\n",
       "            <td>2018-10-30</td>\n",
       "            <td>Não</td>\n",
       "            <td>Leitura da Matéria</td>\n",
       "            <td>LEITURA_DA_MATERIA</td>\n",
       "            <td>2018</td>\n",
       "        </tr>\n",
       "        <tr>\n",
       "            <td>7693167</td>\n",
       "            <td>7880428</td>\n",
       "            <td>2018-10-30</td>\n",
       "            <td>Não</td>\n",
       "            <td>Leitura da Matéria</td>\n",
       "            <td>LEITURA_DA_MATERIA</td>\n",
       "            <td>2018</td>\n",
       "        </tr>\n",
       "        <tr>\n",
       "            <td>7693182</td>\n",
       "            <td>7880428</td>\n",
       "            <td>2018-10-30</td>\n",
       "            <td>Não</td>\n",
       "            <td>Leitura da Matéria</td>\n",
       "            <td>LEITURA_DA_MATERIA</td>\n",
       "            <td>2018</td>\n",
       "        </tr>\n",
       "        <tr>\n",
       "            <td>7693177</td>\n",
       "            <td>7880428</td>\n",
       "            <td>2018-10-30</td>\n",
       "            <td>Não</td>\n",
       "            <td>Leitura da Matéria</td>\n",
       "            <td>LEITURA_DA_MATERIA</td>\n",
       "            <td>2018</td>\n",
       "        </tr>\n",
       "        <tr>\n",
       "            <td>7693217</td>\n",
       "            <td>7880428</td>\n",
       "            <td>2018-10-30</td>\n",
       "            <td>Não</td>\n",
       "            <td>Leitura da Matéria</td>\n",
       "            <td>LEITURA_DA_MATERIA</td>\n",
       "            <td>2018</td>\n",
       "        </tr>\n",
       "        <tr>\n",
       "            <td>7693226</td>\n",
       "            <td>7880428</td>\n",
       "            <td>2018-10-30</td>\n",
       "            <td>Não</td>\n",
       "            <td>Leitura da Matéria</td>\n",
       "            <td>LEITURA_DA_MATERIA</td>\n",
       "            <td>2018</td>\n",
       "        </tr>\n",
       "        <tr>\n",
       "            <td>7703389</td>\n",
       "            <td>7893781</td>\n",
       "            <td>2018-12-10</td>\n",
       "            <td>Não</td>\n",
       "            <td>Leitura da Matéria</td>\n",
       "            <td>LEITURA_DA_MATERIA</td>\n",
       "            <td>2018</td>\n",
       "        </tr>\n",
       "        <tr>\n",
       "            <td>7703387</td>\n",
       "            <td>7893781</td>\n",
       "            <td>2018-12-10</td>\n",
       "            <td>Não</td>\n",
       "            <td>Leitura da Matéria</td>\n",
       "            <td>LEITURA_DA_MATERIA</td>\n",
       "            <td>2018</td>\n",
       "        </tr>\n",
       "    </tbody>\n",
       "</table>\n",
       "<span style=\"font-style:italic;text-align:center;\">Truncated to <a href=\"https://jupysql.ploomber.io/en/latest/api/configuration.html#displaylimit\">displaylimit</a> of 10.</span>"
      ],
      "text/plain": [
       "+-------------+-------------+---------------+-----------+--------------------+----------------------+---------------+\n",
       "| id_processo | id_despacho | data_despacho | cancelado |   tipo_motivacao   | sigla_tipo_motivacao | year_snapshot |\n",
       "+-------------+-------------+---------------+-----------+--------------------+----------------------+---------------+\n",
       "|   7412455   |   7824068   |   2018-08-09  |    Não    | Leitura da Matéria |  LEITURA_DA_MATERIA  |      2018     |\n",
       "|   7621491   |   7824068   |   2018-08-09  |    Não    | Leitura da Matéria |  LEITURA_DA_MATERIA  |      2018     |\n",
       "|   7693160   |   7880428   |   2018-10-30  |    Não    | Leitura da Matéria |  LEITURA_DA_MATERIA  |      2018     |\n",
       "|   7693167   |   7880428   |   2018-10-30  |    Não    | Leitura da Matéria |  LEITURA_DA_MATERIA  |      2018     |\n",
       "|   7693182   |   7880428   |   2018-10-30  |    Não    | Leitura da Matéria |  LEITURA_DA_MATERIA  |      2018     |\n",
       "|   7693177   |   7880428   |   2018-10-30  |    Não    | Leitura da Matéria |  LEITURA_DA_MATERIA  |      2018     |\n",
       "|   7693217   |   7880428   |   2018-10-30  |    Não    | Leitura da Matéria |  LEITURA_DA_MATERIA  |      2018     |\n",
       "|   7693226   |   7880428   |   2018-10-30  |    Não    | Leitura da Matéria |  LEITURA_DA_MATERIA  |      2018     |\n",
       "|   7703389   |   7893781   |   2018-12-10  |    Não    | Leitura da Matéria |  LEITURA_DA_MATERIA  |      2018     |\n",
       "|   7703387   |   7893781   |   2018-12-10  |    Não    | Leitura da Matéria |  LEITURA_DA_MATERIA  |      2018     |\n",
       "+-------------+-------------+---------------+-----------+--------------------+----------------------+---------------+\n",
       "Truncated to displaylimit of 10."
      ]
     },
     "execution_count": 137,
     "metadata": {},
     "output_type": "execute_result"
    }
   ],
   "source": [
    "%%sql\n",
    "SELECT t.*\n",
    "FROM despachos_senado t\n",
    "JOIN (\n",
    "    SELECT id_despacho\n",
    "    FROM despachos_senado\n",
    "    GROUP BY id_despacho\n",
    "    HAVING COUNT(*) > 1\n",
    ") dups\n",
    "ON t.id_despacho = dups.id_despacho\n",
    "ORDER BY t.id_despacho;"
   ]
  },
  {
   "cell_type": "code",
   "execution_count": 138,
   "id": "bc8d3b25",
   "metadata": {
    "vscode": {
     "languageId": "sql"
    }
   },
   "outputs": [
    {
     "data": {
      "text/html": [
       "<span style=\"None\">Running query in &#x27;duck&#x27;</span>"
      ],
      "text/plain": [
       "Running query in 'duck'"
      ]
     },
     "metadata": {},
     "output_type": "display_data"
    },
    {
     "data": {
      "text/html": [
       "<table>\n",
       "    <thead>\n",
       "        <tr>\n",
       "            <th>Success</th>\n",
       "        </tr>\n",
       "    </thead>\n",
       "    <tbody>\n",
       "    </tbody>\n",
       "</table>"
      ],
      "text/plain": [
       "+---------+\n",
       "| Success |\n",
       "+---------+\n",
       "+---------+"
      ]
     },
     "execution_count": 138,
     "metadata": {},
     "output_type": "execute_result"
    }
   ],
   "source": [
    "%%sql\n",
    "ALTER TABLE despachos_senado\n",
    "    ALTER COLUMN id_despacho TYPE BIGINT;\n",
    "\n",
    "ALTER TABLE despachos_senado\n",
    "    ALTER COLUMN id_processo TYPE BIGINT;\n",
    "\n",
    "ALTER TABLE despachos_senado\n",
    "    ADD CONSTRAINT pk_despacho PRIMARY KEY (id_despacho, id_processo);"
   ]
  },
  {
   "cell_type": "markdown",
   "id": "6c46f5c9",
   "metadata": {},
   "source": [
    "### 3.1.12. Outros números"
   ]
  },
  {
   "cell_type": "code",
   "execution_count": 139,
   "id": "43f27e61",
   "metadata": {
    "vscode": {
     "languageId": "sql"
    }
   },
   "outputs": [
    {
     "data": {
      "text/html": [
       "<span style=\"None\">Running query in &#x27;duck&#x27;</span>"
      ],
      "text/plain": [
       "Running query in 'duck'"
      ]
     },
     "metadata": {},
     "output_type": "display_data"
    },
    {
     "data": {
      "text/html": [
       "<table>\n",
       "    <thead>\n",
       "        <tr>\n",
       "            <th>Success</th>\n",
       "        </tr>\n",
       "    </thead>\n",
       "    <tbody>\n",
       "    </tbody>\n",
       "</table>"
      ],
      "text/plain": [
       "+---------+\n",
       "| Success |\n",
       "+---------+\n",
       "+---------+"
      ]
     },
     "execution_count": 139,
     "metadata": {},
     "output_type": "execute_result"
    }
   ],
   "source": [
    "%%sql\n",
    "ALTER TABLE outros_numeros_senado\n",
    "    ALTER COLUMN id_outro_numero TYPE BIGINT;\n",
    "\n",
    "ALTER TABLE outros_numeros_senado\n",
    "    ADD CONSTRAINT pk_outro_numero PRIMARY KEY (id_outro_numero);"
   ]
  },
  {
   "cell_type": "markdown",
   "id": "b40b5e0a",
   "metadata": {},
   "source": [
    "### 3.1.13. Autoria do documento"
   ]
  },
  {
   "cell_type": "code",
   "execution_count": 140,
   "id": "2a6799e8",
   "metadata": {
    "vscode": {
     "languageId": "sql"
    }
   },
   "outputs": [
    {
     "data": {
      "text/html": [
       "<span style=\"None\">Running query in &#x27;duck&#x27;</span>"
      ],
      "text/plain": [
       "Running query in 'duck'"
      ]
     },
     "metadata": {},
     "output_type": "display_data"
    },
    {
     "data": {
      "text/html": [
       "<table>\n",
       "    <thead>\n",
       "        <tr>\n",
       "            <th>Success</th>\n",
       "        </tr>\n",
       "    </thead>\n",
       "    <tbody>\n",
       "    </tbody>\n",
       "</table>"
      ],
      "text/plain": [
       "+---------+\n",
       "| Success |\n",
       "+---------+\n",
       "+---------+"
      ]
     },
     "execution_count": 140,
     "metadata": {},
     "output_type": "execute_result"
    }
   ],
   "source": [
    "%%sql\n",
    "ALTER TABLE documento_autoria_senado\n",
    "    ALTER COLUMN id_documento_autoria TYPE BIGINT;\n",
    "\n",
    "ALTER TABLE documento_autoria_senado\n",
    "    ADD CONSTRAINT pk_documento_autoria PRIMARY KEY (id_documento_autoria);"
   ]
  },
  {
   "cell_type": "markdown",
   "id": "20bd001a",
   "metadata": {},
   "source": [
    "### 3.1.14. Processos relacionados"
   ]
  },
  {
   "cell_type": "code",
   "execution_count": 141,
   "id": "eb74563a",
   "metadata": {
    "vscode": {
     "languageId": "sql"
    }
   },
   "outputs": [
    {
     "data": {
      "text/html": [
       "<span style=\"None\">Running query in &#x27;duck&#x27;</span>"
      ],
      "text/plain": [
       "Running query in 'duck'"
      ]
     },
     "metadata": {},
     "output_type": "display_data"
    },
    {
     "data": {
      "text/html": [
       "<table>\n",
       "    <thead>\n",
       "        <tr>\n",
       "            <th>Success</th>\n",
       "        </tr>\n",
       "    </thead>\n",
       "    <tbody>\n",
       "    </tbody>\n",
       "</table>"
      ],
      "text/plain": [
       "+---------+\n",
       "| Success |\n",
       "+---------+\n",
       "+---------+"
      ]
     },
     "execution_count": 141,
     "metadata": {},
     "output_type": "execute_result"
    }
   ],
   "source": [
    "%%sql\n",
    "ALTER TABLE processos_relacionados_senado\n",
    "    ALTER COLUMN id_processo_relacionado TYPE BIGINT;\n",
    "\n",
    "ALTER TABLE processos_relacionados_senado\n",
    "    ADD CONSTRAINT pk_processo_relacionado PRIMARY KEY (id_processo_relacionado);"
   ]
  },
  {
   "cell_type": "markdown",
   "id": "e0ad521f",
   "metadata": {},
   "source": [
    "### 3.1.15. Autuações"
   ]
  },
  {
   "cell_type": "code",
   "execution_count": 142,
   "id": "37b8f4e9",
   "metadata": {
    "vscode": {
     "languageId": "sql"
    }
   },
   "outputs": [
    {
     "data": {
      "text/html": [
       "<span style=\"None\">Running query in &#x27;duck&#x27;</span>"
      ],
      "text/plain": [
       "Running query in 'duck'"
      ]
     },
     "metadata": {},
     "output_type": "display_data"
    },
    {
     "data": {
      "text/html": [
       "<table>\n",
       "    <thead>\n",
       "        <tr>\n",
       "            <th>Success</th>\n",
       "        </tr>\n",
       "    </thead>\n",
       "    <tbody>\n",
       "    </tbody>\n",
       "</table>"
      ],
      "text/plain": [
       "+---------+\n",
       "| Success |\n",
       "+---------+\n",
       "+---------+"
      ]
     },
     "execution_count": 142,
     "metadata": {},
     "output_type": "execute_result"
    }
   ],
   "source": [
    "%%sql\n",
    "ALTER TABLE autuacoes_senado\n",
    "    ALTER COLUMN autuacao_idx TYPE BIGINT;\n",
    "\n",
    "ALTER TABLE autuacoes_senado\n",
    "    ADD CONSTRAINT pk_autuacao PRIMARY KEY (id_processo, autuacao_idx);"
   ]
  },
  {
   "cell_type": "markdown",
   "id": "f05cccd7",
   "metadata": {},
   "source": [
    "### 3.1.16. Informes legislativos"
   ]
  },
  {
   "cell_type": "code",
   "execution_count": 143,
   "id": "a6493690",
   "metadata": {
    "vscode": {
     "languageId": "sql"
    }
   },
   "outputs": [
    {
     "data": {
      "text/html": [
       "<span style=\"None\">Running query in &#x27;duck&#x27;</span>"
      ],
      "text/plain": [
       "Running query in 'duck'"
      ]
     },
     "metadata": {},
     "output_type": "display_data"
    },
    {
     "data": {
      "text/html": [
       "<table>\n",
       "    <thead>\n",
       "        <tr>\n",
       "            <th>Success</th>\n",
       "        </tr>\n",
       "    </thead>\n",
       "    <tbody>\n",
       "    </tbody>\n",
       "</table>"
      ],
      "text/plain": [
       "+---------+\n",
       "| Success |\n",
       "+---------+\n",
       "+---------+"
      ]
     },
     "execution_count": 143,
     "metadata": {},
     "output_type": "execute_result"
    }
   ],
   "source": [
    "%%sql\n",
    "ALTER TABLE informes_legislativos_senado\n",
    "    ALTER COLUMN id_informe_legislativo TYPE BIGINT;\n",
    "\n",
    "ALTER TABLE informes_legislativos_senado\n",
    "    ADD CONSTRAINT pk_informe_legislativo PRIMARY KEY (id_informe_legislativo);"
   ]
  },
  {
   "cell_type": "markdown",
   "id": "1c91aada",
   "metadata": {
    "vscode": {
     "languageId": "sql"
    }
   },
   "source": [
    "### 3.1.17. Documentos associados a informes"
   ]
  },
  {
   "cell_type": "code",
   "execution_count": 144,
   "id": "81513d63",
   "metadata": {
    "vscode": {
     "languageId": "sql"
    }
   },
   "outputs": [
    {
     "data": {
      "text/html": [
       "<span style=\"None\">Running query in &#x27;duck&#x27;</span>"
      ],
      "text/plain": [
       "Running query in 'duck'"
      ]
     },
     "metadata": {},
     "output_type": "display_data"
    },
    {
     "data": {
      "text/html": [
       "<table>\n",
       "    <thead>\n",
       "        <tr>\n",
       "            <th>Success</th>\n",
       "        </tr>\n",
       "    </thead>\n",
       "    <tbody>\n",
       "    </tbody>\n",
       "</table>"
      ],
      "text/plain": [
       "+---------+\n",
       "| Success |\n",
       "+---------+\n",
       "+---------+"
      ]
     },
     "execution_count": 144,
     "metadata": {},
     "output_type": "execute_result"
    }
   ],
   "source": [
    "%%sql\n",
    "ALTER TABLE informes_documentos_associados_senado\n",
    "    ALTER COLUMN id_documento_associado TYPE BIGINT;\n",
    "\n",
    "ALTER TABLE informes_documentos_associados_senado\n",
    "    ADD CONSTRAINT pk_documento_associado PRIMARY KEY (id_documento_associado);"
   ]
  },
  {
   "cell_type": "markdown",
   "id": "424d4fd6",
   "metadata": {},
   "source": [
    "### 3.1.18. Providências"
   ]
  },
  {
   "cell_type": "code",
   "execution_count": 145,
   "id": "62d20794",
   "metadata": {
    "vscode": {
     "languageId": "sql"
    }
   },
   "outputs": [
    {
     "data": {
      "text/html": [
       "<span style=\"None\">Running query in &#x27;duck&#x27;</span>"
      ],
      "text/plain": [
       "Running query in 'duck'"
      ]
     },
     "metadata": {},
     "output_type": "display_data"
    },
    {
     "data": {
      "text/html": [
       "<table>\n",
       "    <thead>\n",
       "        <tr>\n",
       "            <th>Success</th>\n",
       "        </tr>\n",
       "    </thead>\n",
       "    <tbody>\n",
       "    </tbody>\n",
       "</table>"
      ],
      "text/plain": [
       "+---------+\n",
       "| Success |\n",
       "+---------+\n",
       "+---------+"
      ]
     },
     "execution_count": 145,
     "metadata": {},
     "output_type": "execute_result"
    }
   ],
   "source": [
    "%%sql\n",
    "ALTER TABLE providencias_senado\n",
    "    ALTER COLUMN id_providencia TYPE BIGINT;\n",
    "\n",
    "ALTER TABLE providencias_senado\n",
    "    ADD CONSTRAINT pk_providencia PRIMARY KEY (\n",
    "        id_processo,\n",
    "        id_despacho,\n",
    "        id_providencia\n",
    "    );"
   ]
  },
  {
   "cell_type": "markdown",
   "id": "2ca8a26a",
   "metadata": {},
   "source": [
    "### 3.1.19. Movimentações"
   ]
  },
  {
   "cell_type": "code",
   "execution_count": 146,
   "id": "947b11c6",
   "metadata": {
    "vscode": {
     "languageId": "sql"
    }
   },
   "outputs": [
    {
     "data": {
      "text/html": [
       "<span style=\"None\">Running query in &#x27;duck&#x27;</span>"
      ],
      "text/plain": [
       "Running query in 'duck'"
      ]
     },
     "metadata": {},
     "output_type": "display_data"
    },
    {
     "data": {
      "text/html": [
       "<table>\n",
       "    <thead>\n",
       "        <tr>\n",
       "            <th>Success</th>\n",
       "        </tr>\n",
       "    </thead>\n",
       "    <tbody>\n",
       "    </tbody>\n",
       "</table>"
      ],
      "text/plain": [
       "+---------+\n",
       "| Success |\n",
       "+---------+\n",
       "+---------+"
      ]
     },
     "execution_count": 146,
     "metadata": {},
     "output_type": "execute_result"
    }
   ],
   "source": [
    "%%sql\n",
    "ALTER TABLE movimentacoes_senado\n",
    "    ADD CONSTRAINT pk_movimentacao PRIMARY KEY (\n",
    "        id_processo,\n",
    "        autuacao_idx,\n",
    "        movimentacao_idx\n",
    "    );"
   ]
  },
  {
   "cell_type": "markdown",
   "id": "7ce6e708",
   "metadata": {},
   "source": [
    "### 3.1.20. Unidades destinatárias"
   ]
  },
  {
   "cell_type": "code",
   "execution_count": 147,
   "id": "f8220426",
   "metadata": {
    "vscode": {
     "languageId": "sql"
    }
   },
   "outputs": [
    {
     "data": {
      "text/html": [
       "<span style=\"None\">Running query in &#x27;duck&#x27;</span>"
      ],
      "text/plain": [
       "Running query in 'duck'"
      ]
     },
     "metadata": {},
     "output_type": "display_data"
    },
    {
     "data": {
      "text/html": [
       "<table>\n",
       "    <thead>\n",
       "        <tr>\n",
       "            <th>Success</th>\n",
       "        </tr>\n",
       "    </thead>\n",
       "    <tbody>\n",
       "    </tbody>\n",
       "</table>"
      ],
      "text/plain": [
       "+---------+\n",
       "| Success |\n",
       "+---------+\n",
       "+---------+"
      ]
     },
     "execution_count": 147,
     "metadata": {},
     "output_type": "execute_result"
    }
   ],
   "source": [
    "%%sql\n",
    "ALTER TABLE unidades_destinatarias_senado\n",
    "    ALTER COLUMN id_unidade_destinataria TYPE BIGINT;\n",
    "\n",
    "ALTER TABLE unidades_destinatarias_senado\n",
    "    ADD CONSTRAINT pk_unidade_destinataria PRIMARY KEY (id_unidade_destinataria);"
   ]
  },
  {
   "cell_type": "markdown",
   "id": "36bfcfa7",
   "metadata": {
    "vscode": {
     "languageId": "sql"
    }
   },
   "source": [
    "### 3.1.21. Encontros legislativos"
   ]
  },
  {
   "cell_type": "code",
   "execution_count": 148,
   "id": "a7a0d145",
   "metadata": {
    "vscode": {
     "languageId": "sql"
    }
   },
   "outputs": [
    {
     "data": {
      "text/html": [
       "<span style=\"None\">Running query in &#x27;duck&#x27;</span>"
      ],
      "text/plain": [
       "Running query in 'duck'"
      ]
     },
     "metadata": {},
     "output_type": "display_data"
    },
    {
     "data": {
      "text/html": [
       "<table>\n",
       "    <thead>\n",
       "        <tr>\n",
       "            <th>id_processo</th>\n",
       "            <th>id_despacho</th>\n",
       "            <th>id_encontro_legislativo</th>\n",
       "            <th>data_encontro</th>\n",
       "            <th>tipo_encontro</th>\n",
       "            <th>descricao_encontro</th>\n",
       "            <th>casa_encontro</th>\n",
       "            <th>numero_encontro</th>\n",
       "            <th>colegiado_casa</th>\n",
       "            <th>colegiado_codigo</th>\n",
       "            <th>colegiado_nome</th>\n",
       "            <th>colegiado_sigla</th>\n",
       "            <th>year_snapshot</th>\n",
       "        </tr>\n",
       "    </thead>\n",
       "    <tbody>\n",
       "        <tr>\n",
       "            <td>7620082</td>\n",
       "            <td>7821741</td>\n",
       "            <td>7619828</td>\n",
       "            <td>2018-08-07</td>\n",
       "            <td>SES</td>\n",
       "            <td>Sessão Deliberativa Ordinária</td>\n",
       "            <td>SF</td>\n",
       "            <td>110</td>\n",
       "            <td>SF</td>\n",
       "            <td>1998</td>\n",
       "            <td>Plenário do Senado Federal</td>\n",
       "            <td>PLEN</td>\n",
       "            <td>2018</td>\n",
       "        </tr>\n",
       "        <tr>\n",
       "            <td>7620084</td>\n",
       "            <td>7821831</td>\n",
       "            <td>7619828</td>\n",
       "            <td>2018-08-07</td>\n",
       "            <td>SES</td>\n",
       "            <td>Sessão Deliberativa Ordinária</td>\n",
       "            <td>SF</td>\n",
       "            <td>110</td>\n",
       "            <td>SF</td>\n",
       "            <td>1998</td>\n",
       "            <td>Plenário do Senado Federal</td>\n",
       "            <td>PLEN</td>\n",
       "            <td>2018</td>\n",
       "        </tr>\n",
       "        <tr>\n",
       "            <td>7620086</td>\n",
       "            <td>7821866</td>\n",
       "            <td>7619828</td>\n",
       "            <td>2018-08-07</td>\n",
       "            <td>SES</td>\n",
       "            <td>Sessão Deliberativa Ordinária</td>\n",
       "            <td>SF</td>\n",
       "            <td>110</td>\n",
       "            <td>SF</td>\n",
       "            <td>1998</td>\n",
       "            <td>Plenário do Senado Federal</td>\n",
       "            <td>PLEN</td>\n",
       "            <td>2018</td>\n",
       "        </tr>\n",
       "        <tr>\n",
       "            <td>7620120</td>\n",
       "            <td>7821808</td>\n",
       "            <td>7619828</td>\n",
       "            <td>2018-08-07</td>\n",
       "            <td>SES</td>\n",
       "            <td>Sessão Deliberativa Ordinária</td>\n",
       "            <td>SF</td>\n",
       "            <td>110</td>\n",
       "            <td>SF</td>\n",
       "            <td>1998</td>\n",
       "            <td>Plenário do Senado Federal</td>\n",
       "            <td>PLEN</td>\n",
       "            <td>2018</td>\n",
       "        </tr>\n",
       "        <tr>\n",
       "            <td>7620163</td>\n",
       "            <td>7821850</td>\n",
       "            <td>7619828</td>\n",
       "            <td>2018-08-07</td>\n",
       "            <td>SES</td>\n",
       "            <td>Sessão Deliberativa Ordinária</td>\n",
       "            <td>SF</td>\n",
       "            <td>110</td>\n",
       "            <td>SF</td>\n",
       "            <td>1998</td>\n",
       "            <td>Plenário do Senado Federal</td>\n",
       "            <td>PLEN</td>\n",
       "            <td>2018</td>\n",
       "        </tr>\n",
       "        <tr>\n",
       "            <td>7620343</td>\n",
       "            <td>7822123</td>\n",
       "            <td>7619828</td>\n",
       "            <td>2018-08-07</td>\n",
       "            <td>SES</td>\n",
       "            <td>Sessão Deliberativa Ordinária</td>\n",
       "            <td>SF</td>\n",
       "            <td>110</td>\n",
       "            <td>SF</td>\n",
       "            <td>1998</td>\n",
       "            <td>Plenário do Senado Federal</td>\n",
       "            <td>PLEN</td>\n",
       "            <td>2018</td>\n",
       "        </tr>\n",
       "        <tr>\n",
       "            <td>7412505</td>\n",
       "            <td>7821457</td>\n",
       "            <td>7619828</td>\n",
       "            <td>2018-08-07</td>\n",
       "            <td>SES</td>\n",
       "            <td>Sessão Deliberativa Ordinária</td>\n",
       "            <td>SF</td>\n",
       "            <td>110</td>\n",
       "            <td>SF</td>\n",
       "            <td>1998</td>\n",
       "            <td>Plenário do Senado Federal</td>\n",
       "            <td>PLEN</td>\n",
       "            <td>2018</td>\n",
       "        </tr>\n",
       "        <tr>\n",
       "            <td>7621240</td>\n",
       "            <td>7823122</td>\n",
       "            <td>7620806</td>\n",
       "            <td>2018-08-08</td>\n",
       "            <td>SES</td>\n",
       "            <td>Sessão Deliberativa Ordinária</td>\n",
       "            <td>SF</td>\n",
       "            <td>111</td>\n",
       "            <td>SF</td>\n",
       "            <td>1998</td>\n",
       "            <td>Plenário do Senado Federal</td>\n",
       "            <td>PLEN</td>\n",
       "            <td>2018</td>\n",
       "        </tr>\n",
       "        <tr>\n",
       "            <td>7412485</td>\n",
       "            <td>7822751</td>\n",
       "            <td>7620806</td>\n",
       "            <td>2018-08-08</td>\n",
       "            <td>SES</td>\n",
       "            <td>Sessão Deliberativa Ordinária</td>\n",
       "            <td>SF</td>\n",
       "            <td>111</td>\n",
       "            <td>SF</td>\n",
       "            <td>1998</td>\n",
       "            <td>Plenário do Senado Federal</td>\n",
       "            <td>PLEN</td>\n",
       "            <td>2018</td>\n",
       "        </tr>\n",
       "        <tr>\n",
       "            <td>7621131</td>\n",
       "            <td>7823020</td>\n",
       "            <td>7620806</td>\n",
       "            <td>2018-08-08</td>\n",
       "            <td>SES</td>\n",
       "            <td>Sessão Deliberativa Ordinária</td>\n",
       "            <td>SF</td>\n",
       "            <td>111</td>\n",
       "            <td>SF</td>\n",
       "            <td>1998</td>\n",
       "            <td>Plenário do Senado Federal</td>\n",
       "            <td>PLEN</td>\n",
       "            <td>2018</td>\n",
       "        </tr>\n",
       "    </tbody>\n",
       "</table>\n",
       "<span style=\"font-style:italic;text-align:center;\">Truncated to <a href=\"https://jupysql.ploomber.io/en/latest/api/configuration.html#displaylimit\">displaylimit</a> of 10.</span>"
      ],
      "text/plain": [
       "+-------------+-------------+-------------------------+---------------+---------------+-------------------------------+---------------+-----------------+----------------+------------------+----------------------------+-----------------+---------------+\n",
       "| id_processo | id_despacho | id_encontro_legislativo | data_encontro | tipo_encontro |       descricao_encontro      | casa_encontro | numero_encontro | colegiado_casa | colegiado_codigo |       colegiado_nome       | colegiado_sigla | year_snapshot |\n",
       "+-------------+-------------+-------------------------+---------------+---------------+-------------------------------+---------------+-----------------+----------------+------------------+----------------------------+-----------------+---------------+\n",
       "|   7620082   |   7821741   |         7619828         |   2018-08-07  |      SES      | Sessão Deliberativa Ordinária |       SF      |       110       |       SF       |       1998       | Plenário do Senado Federal |       PLEN      |      2018     |\n",
       "|   7620084   |   7821831   |         7619828         |   2018-08-07  |      SES      | Sessão Deliberativa Ordinária |       SF      |       110       |       SF       |       1998       | Plenário do Senado Federal |       PLEN      |      2018     |\n",
       "|   7620086   |   7821866   |         7619828         |   2018-08-07  |      SES      | Sessão Deliberativa Ordinária |       SF      |       110       |       SF       |       1998       | Plenário do Senado Federal |       PLEN      |      2018     |\n",
       "|   7620120   |   7821808   |         7619828         |   2018-08-07  |      SES      | Sessão Deliberativa Ordinária |       SF      |       110       |       SF       |       1998       | Plenário do Senado Federal |       PLEN      |      2018     |\n",
       "|   7620163   |   7821850   |         7619828         |   2018-08-07  |      SES      | Sessão Deliberativa Ordinária |       SF      |       110       |       SF       |       1998       | Plenário do Senado Federal |       PLEN      |      2018     |\n",
       "|   7620343   |   7822123   |         7619828         |   2018-08-07  |      SES      | Sessão Deliberativa Ordinária |       SF      |       110       |       SF       |       1998       | Plenário do Senado Federal |       PLEN      |      2018     |\n",
       "|   7412505   |   7821457   |         7619828         |   2018-08-07  |      SES      | Sessão Deliberativa Ordinária |       SF      |       110       |       SF       |       1998       | Plenário do Senado Federal |       PLEN      |      2018     |\n",
       "|   7621240   |   7823122   |         7620806         |   2018-08-08  |      SES      | Sessão Deliberativa Ordinária |       SF      |       111       |       SF       |       1998       | Plenário do Senado Federal |       PLEN      |      2018     |\n",
       "|   7412485   |   7822751   |         7620806         |   2018-08-08  |      SES      | Sessão Deliberativa Ordinária |       SF      |       111       |       SF       |       1998       | Plenário do Senado Federal |       PLEN      |      2018     |\n",
       "|   7621131   |   7823020   |         7620806         |   2018-08-08  |      SES      | Sessão Deliberativa Ordinária |       SF      |       111       |       SF       |       1998       | Plenário do Senado Federal |       PLEN      |      2018     |\n",
       "+-------------+-------------+-------------------------+---------------+---------------+-------------------------------+---------------+-----------------+----------------+------------------+----------------------------+-----------------+---------------+\n",
       "Truncated to displaylimit of 10."
      ]
     },
     "execution_count": 148,
     "metadata": {},
     "output_type": "execute_result"
    }
   ],
   "source": [
    "%%sql\n",
    "SELECT t.*\n",
    "FROM encontro_legislativo_senado t\n",
    "JOIN (\n",
    "    SELECT id_encontro_legislativo\n",
    "    FROM encontro_legislativo_senado\n",
    "    GROUP BY id_encontro_legislativo\n",
    "    HAVING COUNT(*) > 1\n",
    ") dups\n",
    "ON t.id_encontro_legislativo = dups.id_encontro_legislativo\n",
    "ORDER BY t.id_encontro_legislativo;"
   ]
  },
  {
   "cell_type": "code",
   "execution_count": 149,
   "id": "d86486a7",
   "metadata": {
    "vscode": {
     "languageId": "sql"
    }
   },
   "outputs": [
    {
     "data": {
      "text/html": [
       "<span style=\"None\">Running query in &#x27;duck&#x27;</span>"
      ],
      "text/plain": [
       "Running query in 'duck'"
      ]
     },
     "metadata": {},
     "output_type": "display_data"
    },
    {
     "data": {
      "text/html": [
       "<table>\n",
       "    <thead>\n",
       "        <tr>\n",
       "            <th>Success</th>\n",
       "        </tr>\n",
       "    </thead>\n",
       "    <tbody>\n",
       "    </tbody>\n",
       "</table>"
      ],
      "text/plain": [
       "+---------+\n",
       "| Success |\n",
       "+---------+\n",
       "+---------+"
      ]
     },
     "execution_count": 149,
     "metadata": {},
     "output_type": "execute_result"
    }
   ],
   "source": [
    "%%sql\n",
    "CREATE TABLE encontro_legislativo_senado_dedup AS\n",
    "SELECT *\n",
    "FROM (\n",
    "    SELECT *,\n",
    "           ROW_NUMBER() OVER (PARTITION BY id_encontro_legislativo ORDER BY year_snapshot DESC) AS rn\n",
    "    FROM encontro_legislativo_senado\n",
    ")\n",
    "WHERE rn = 1;\n",
    "\n",
    "DROP TABLE encontro_legislativo_senado;\n",
    "ALTER TABLE encontro_legislativo_senado_dedup RENAME TO encontro_legislativo_senado;\n"
   ]
  },
  {
   "cell_type": "code",
   "execution_count": 150,
   "id": "311f35d6",
   "metadata": {
    "vscode": {
     "languageId": "sql"
    }
   },
   "outputs": [
    {
     "data": {
      "text/html": [
       "<span style=\"None\">Running query in &#x27;duck&#x27;</span>"
      ],
      "text/plain": [
       "Running query in 'duck'"
      ]
     },
     "metadata": {},
     "output_type": "display_data"
    },
    {
     "data": {
      "text/html": [
       "<table>\n",
       "    <thead>\n",
       "        <tr>\n",
       "            <th>Success</th>\n",
       "        </tr>\n",
       "    </thead>\n",
       "    <tbody>\n",
       "    </tbody>\n",
       "</table>"
      ],
      "text/plain": [
       "+---------+\n",
       "| Success |\n",
       "+---------+\n",
       "+---------+"
      ]
     },
     "execution_count": 150,
     "metadata": {},
     "output_type": "execute_result"
    }
   ],
   "source": [
    "%%sql\n",
    "ALTER TABLE encontro_legislativo_senado\n",
    "    ALTER COLUMN id_encontro_legislativo TYPE BIGINT;\n",
    "\n",
    "ALTER TABLE encontro_legislativo_senado\n",
    "    ADD CONSTRAINT pk_encontro_legislativo PRIMARY KEY (\n",
    "        id_encontro_legislativo\n",
    "    );"
   ]
  },
  {
   "cell_type": "markdown",
   "id": "d3fde3cb",
   "metadata": {},
   "source": [
    "## 3.2. Deduplicação de tabelas relacionais"
   ]
  },
  {
   "cell_type": "markdown",
   "id": "e2d08147",
   "metadata": {
    "vscode": {
     "languageId": "sql"
    }
   },
   "source": [
    "### 3.2.1. Informes legislativos"
   ]
  },
  {
   "cell_type": "code",
   "execution_count": 151,
   "id": "2ae7484f",
   "metadata": {
    "vscode": {
     "languageId": "sql"
    }
   },
   "outputs": [
    {
     "data": {
      "text/html": [
       "<span style=\"None\">Running query in &#x27;duck&#x27;</span>"
      ],
      "text/plain": [
       "Running query in 'duck'"
      ]
     },
     "metadata": {},
     "output_type": "display_data"
    },
    {
     "data": {
      "text/html": [
       "<table>\n",
       "    <thead>\n",
       "        <tr>\n",
       "            <th>id_informe_legislativo</th>\n",
       "            <th>id_processo</th>\n",
       "            <th>id_informe</th>\n",
       "            <th>data_informe</th>\n",
       "            <th>descricao</th>\n",
       "            <th>id_situacao_iniciada</th>\n",
       "            <th>sigla_situacao_iniciada</th>\n",
       "            <th>ente_adm_casa</th>\n",
       "            <th>ente_adm_id</th>\n",
       "            <th>ente_adm_nome</th>\n",
       "            <th>ente_adm_sigla</th>\n",
       "            <th>colegiado_casa</th>\n",
       "            <th>colegiado_codigo</th>\n",
       "            <th>colegiado_nome</th>\n",
       "            <th>colegiado_sigla</th>\n",
       "            <th>year_snapshot</th>\n",
       "        </tr>\n",
       "    </thead>\n",
       "    <tbody>\n",
       "        <tr>\n",
       "            <td>41209</td>\n",
       "            <td>500398</td>\n",
       "            <td>2119354</td>\n",
       "            <td>2023-03-08</td>\n",
       "            <td>Aguardando inclusão em Ordem do Dia do Requerimento nº 127, de 2023, do Senador Veneziano Vital do Rêgo e outros, solicitando o desarquivamento da matéria.</td>\n",
       "            <td>95</td>\n",
       "            <td>AGINCL(RQ)</td>\n",
       "            <td>SF</td>\n",
       "            <td>55312</td>\n",
       "            <td>Secretaria Legislativa do Senado Federal</td>\n",
       "            <td>SLSF</td>\n",
       "            <td>SF</td>\n",
       "            <td>1998</td>\n",
       "            <td>Plenário do Senado Federal</td>\n",
       "            <td>PLEN</td>\n",
       "            <td>2017</td>\n",
       "        </tr>\n",
       "        <tr>\n",
       "            <td>41871</td>\n",
       "            <td>500398</td>\n",
       "            <td>2119354</td>\n",
       "            <td>2023-03-08</td>\n",
       "            <td>Aguardando inclusão em Ordem do Dia do Requerimento nº 127, de 2023, do Senador Veneziano Vital do Rêgo e outros, solicitando o desarquivamento da matéria.</td>\n",
       "            <td>95</td>\n",
       "            <td>AGINCL(RQ)</td>\n",
       "            <td>SF</td>\n",
       "            <td>55312</td>\n",
       "            <td>Secretaria Legislativa do Senado Federal</td>\n",
       "            <td>SLSF</td>\n",
       "            <td>SF</td>\n",
       "            <td>1998</td>\n",
       "            <td>Plenário do Senado Federal</td>\n",
       "            <td>PLEN</td>\n",
       "            <td>2017</td>\n",
       "        </tr>\n",
       "        <tr>\n",
       "            <td>42504</td>\n",
       "            <td>500398</td>\n",
       "            <td>2119354</td>\n",
       "            <td>2023-03-08</td>\n",
       "            <td>Aguardando inclusão em Ordem do Dia do Requerimento nº 127, de 2023, do Senador Veneziano Vital do Rêgo e outros, solicitando o desarquivamento da matéria.</td>\n",
       "            <td>95</td>\n",
       "            <td>AGINCL(RQ)</td>\n",
       "            <td>SF</td>\n",
       "            <td>55312</td>\n",
       "            <td>Secretaria Legislativa do Senado Federal</td>\n",
       "            <td>SLSF</td>\n",
       "            <td>SF</td>\n",
       "            <td>1998</td>\n",
       "            <td>Plenário do Senado Federal</td>\n",
       "            <td>PLEN</td>\n",
       "            <td>2017</td>\n",
       "        </tr>\n",
       "        <tr>\n",
       "            <td>12940</td>\n",
       "            <td>502077</td>\n",
       "            <td>2080636</td>\n",
       "            <td>2022-03-16</td>\n",
       "            <td>Concluída a instrução das matérias, fica aberto o prazo de cinco dias úteis para recebimento de emendas, nos termos do art. 235, II, \"d\", do Regimento Interno.</td>\n",
       "            <td>88</td>\n",
       "            <td>AGREMESA</td>\n",
       "            <td>SF</td>\n",
       "            <td>13594</td>\n",
       "            <td>Secretaria de Atas e Diários</td>\n",
       "            <td>SEADI</td>\n",
       "            <td>SF</td>\n",
       "            <td>1998</td>\n",
       "            <td>Plenário do Senado Federal</td>\n",
       "            <td>PLEN</td>\n",
       "            <td>2016</td>\n",
       "        </tr>\n",
       "        <tr>\n",
       "            <td>10909</td>\n",
       "            <td>502077</td>\n",
       "            <td>2080636</td>\n",
       "            <td>2022-03-16</td>\n",
       "            <td>Concluída a instrução das matérias, fica aberto o prazo de cinco dias úteis para recebimento de emendas, nos termos do art. 235, II, \"d\", do Regimento Interno.</td>\n",
       "            <td>88</td>\n",
       "            <td>AGREMESA</td>\n",
       "            <td>SF</td>\n",
       "            <td>13594</td>\n",
       "            <td>Secretaria de Atas e Diários</td>\n",
       "            <td>SEADI</td>\n",
       "            <td>SF</td>\n",
       "            <td>1998</td>\n",
       "            <td>Plenário do Senado Federal</td>\n",
       "            <td>PLEN</td>\n",
       "            <td>2016</td>\n",
       "        </tr>\n",
       "        <tr>\n",
       "            <td>20249</td>\n",
       "            <td>504573</td>\n",
       "            <td>2119092</td>\n",
       "            <td>2023-03-03</td>\n",
       "            <td>Aguardando inclusão em Ordem do Dia do Requerimento nº  102, de 2023, da Senadora Professora Dorinha Seabra e outros, solicitando o desarquivamento da matéria.</td>\n",
       "            <td>95</td>\n",
       "            <td>AGINCL(RQ)</td>\n",
       "            <td>SF</td>\n",
       "            <td>55312</td>\n",
       "            <td>Secretaria Legislativa do Senado Federal</td>\n",
       "            <td>SLSF</td>\n",
       "            <td>SF</td>\n",
       "            <td>1998</td>\n",
       "            <td>Plenário do Senado Federal</td>\n",
       "            <td>PLEN</td>\n",
       "            <td>2015</td>\n",
       "        </tr>\n",
       "        <tr>\n",
       "            <td>22020</td>\n",
       "            <td>504573</td>\n",
       "            <td>2119092</td>\n",
       "            <td>2023-03-03</td>\n",
       "            <td>Aguardando inclusão em Ordem do Dia do Requerimento nº  102, de 2023, da Senadora Professora Dorinha Seabra e outros, solicitando o desarquivamento da matéria.</td>\n",
       "            <td>95</td>\n",
       "            <td>AGINCL(RQ)</td>\n",
       "            <td>SF</td>\n",
       "            <td>55312</td>\n",
       "            <td>Secretaria Legislativa do Senado Federal</td>\n",
       "            <td>SLSF</td>\n",
       "            <td>SF</td>\n",
       "            <td>1998</td>\n",
       "            <td>Plenário do Senado Federal</td>\n",
       "            <td>PLEN</td>\n",
       "            <td>2015</td>\n",
       "        </tr>\n",
       "        <tr>\n",
       "            <td>23716</td>\n",
       "            <td>504573</td>\n",
       "            <td>2119092</td>\n",
       "            <td>2023-03-03</td>\n",
       "            <td>Aguardando inclusão em Ordem do Dia do Requerimento nº  102, de 2023, da Senadora Professora Dorinha Seabra e outros, solicitando o desarquivamento da matéria.</td>\n",
       "            <td>95</td>\n",
       "            <td>AGINCL(RQ)</td>\n",
       "            <td>SF</td>\n",
       "            <td>55312</td>\n",
       "            <td>Secretaria Legislativa do Senado Federal</td>\n",
       "            <td>SLSF</td>\n",
       "            <td>SF</td>\n",
       "            <td>1998</td>\n",
       "            <td>Plenário do Senado Federal</td>\n",
       "            <td>PLEN</td>\n",
       "            <td>2015</td>\n",
       "        </tr>\n",
       "        <tr>\n",
       "            <td>25308</td>\n",
       "            <td>504573</td>\n",
       "            <td>2119092</td>\n",
       "            <td>2023-03-03</td>\n",
       "            <td>Aguardando inclusão em Ordem do Dia do Requerimento nº  102, de 2023, da Senadora Professora Dorinha Seabra e outros, solicitando o desarquivamento da matéria.</td>\n",
       "            <td>95</td>\n",
       "            <td>AGINCL(RQ)</td>\n",
       "            <td>SF</td>\n",
       "            <td>55312</td>\n",
       "            <td>Secretaria Legislativa do Senado Federal</td>\n",
       "            <td>SLSF</td>\n",
       "            <td>SF</td>\n",
       "            <td>1998</td>\n",
       "            <td>Plenário do Senado Federal</td>\n",
       "            <td>PLEN</td>\n",
       "            <td>2015</td>\n",
       "        </tr>\n",
       "        <tr>\n",
       "            <td>26789</td>\n",
       "            <td>504573</td>\n",
       "            <td>2119092</td>\n",
       "            <td>2023-03-03</td>\n",
       "            <td>Aguardando inclusão em Ordem do Dia do Requerimento nº  102, de 2023, da Senadora Professora Dorinha Seabra e outros, solicitando o desarquivamento da matéria.</td>\n",
       "            <td>95</td>\n",
       "            <td>AGINCL(RQ)</td>\n",
       "            <td>SF</td>\n",
       "            <td>55312</td>\n",
       "            <td>Secretaria Legislativa do Senado Federal</td>\n",
       "            <td>SLSF</td>\n",
       "            <td>SF</td>\n",
       "            <td>1998</td>\n",
       "            <td>Plenário do Senado Federal</td>\n",
       "            <td>PLEN</td>\n",
       "            <td>2015</td>\n",
       "        </tr>\n",
       "    </tbody>\n",
       "</table>\n",
       "<span style=\"font-style:italic;text-align:center;\">Truncated to <a href=\"https://jupysql.ploomber.io/en/latest/api/configuration.html#displaylimit\">displaylimit</a> of 10.</span>"
      ],
      "text/plain": [
       "+------------------------+-------------+------------+--------------+-----------------------------------------------------------------------------------------------------------------------------------------------------------------+----------------------+-------------------------+---------------+-------------+------------------------------------------+----------------+----------------+------------------+----------------------------+-----------------+---------------+\n",
       "| id_informe_legislativo | id_processo | id_informe | data_informe |                                                                            descricao                                                                            | id_situacao_iniciada | sigla_situacao_iniciada | ente_adm_casa | ente_adm_id |              ente_adm_nome               | ente_adm_sigla | colegiado_casa | colegiado_codigo |       colegiado_nome       | colegiado_sigla | year_snapshot |\n",
       "+------------------------+-------------+------------+--------------+-----------------------------------------------------------------------------------------------------------------------------------------------------------------+----------------------+-------------------------+---------------+-------------+------------------------------------------+----------------+----------------+------------------+----------------------------+-----------------+---------------+\n",
       "|         41209          |    500398   |  2119354   |  2023-03-08  |   Aguardando inclusão em Ordem do Dia do Requerimento nº 127, de 2023, do Senador Veneziano Vital do Rêgo e outros, solicitando o desarquivamento da matéria.   |          95          |        AGINCL(RQ)       |       SF      |    55312    | Secretaria Legislativa do Senado Federal |      SLSF      |       SF       |       1998       | Plenário do Senado Federal |       PLEN      |      2017     |\n",
       "|         41871          |    500398   |  2119354   |  2023-03-08  |   Aguardando inclusão em Ordem do Dia do Requerimento nº 127, de 2023, do Senador Veneziano Vital do Rêgo e outros, solicitando o desarquivamento da matéria.   |          95          |        AGINCL(RQ)       |       SF      |    55312    | Secretaria Legislativa do Senado Federal |      SLSF      |       SF       |       1998       | Plenário do Senado Federal |       PLEN      |      2017     |\n",
       "|         42504          |    500398   |  2119354   |  2023-03-08  |   Aguardando inclusão em Ordem do Dia do Requerimento nº 127, de 2023, do Senador Veneziano Vital do Rêgo e outros, solicitando o desarquivamento da matéria.   |          95          |        AGINCL(RQ)       |       SF      |    55312    | Secretaria Legislativa do Senado Federal |      SLSF      |       SF       |       1998       | Plenário do Senado Federal |       PLEN      |      2017     |\n",
       "|         12940          |    502077   |  2080636   |  2022-03-16  | Concluída a instrução das matérias, fica aberto o prazo de cinco dias úteis para recebimento de emendas, nos termos do art. 235, II, \"d\", do Regimento Interno. |          88          |         AGREMESA        |       SF      |    13594    |       Secretaria de Atas e Diários       |     SEADI      |       SF       |       1998       | Plenário do Senado Federal |       PLEN      |      2016     |\n",
       "|         10909          |    502077   |  2080636   |  2022-03-16  | Concluída a instrução das matérias, fica aberto o prazo de cinco dias úteis para recebimento de emendas, nos termos do art. 235, II, \"d\", do Regimento Interno. |          88          |         AGREMESA        |       SF      |    13594    |       Secretaria de Atas e Diários       |     SEADI      |       SF       |       1998       | Plenário do Senado Federal |       PLEN      |      2016     |\n",
       "|         20249          |    504573   |  2119092   |  2023-03-03  | Aguardando inclusão em Ordem do Dia do Requerimento nº  102, de 2023, da Senadora Professora Dorinha Seabra e outros, solicitando o desarquivamento da matéria. |          95          |        AGINCL(RQ)       |       SF      |    55312    | Secretaria Legislativa do Senado Federal |      SLSF      |       SF       |       1998       | Plenário do Senado Federal |       PLEN      |      2015     |\n",
       "|         22020          |    504573   |  2119092   |  2023-03-03  | Aguardando inclusão em Ordem do Dia do Requerimento nº  102, de 2023, da Senadora Professora Dorinha Seabra e outros, solicitando o desarquivamento da matéria. |          95          |        AGINCL(RQ)       |       SF      |    55312    | Secretaria Legislativa do Senado Federal |      SLSF      |       SF       |       1998       | Plenário do Senado Federal |       PLEN      |      2015     |\n",
       "|         23716          |    504573   |  2119092   |  2023-03-03  | Aguardando inclusão em Ordem do Dia do Requerimento nº  102, de 2023, da Senadora Professora Dorinha Seabra e outros, solicitando o desarquivamento da matéria. |          95          |        AGINCL(RQ)       |       SF      |    55312    | Secretaria Legislativa do Senado Federal |      SLSF      |       SF       |       1998       | Plenário do Senado Federal |       PLEN      |      2015     |\n",
       "|         25308          |    504573   |  2119092   |  2023-03-03  | Aguardando inclusão em Ordem do Dia do Requerimento nº  102, de 2023, da Senadora Professora Dorinha Seabra e outros, solicitando o desarquivamento da matéria. |          95          |        AGINCL(RQ)       |       SF      |    55312    | Secretaria Legislativa do Senado Federal |      SLSF      |       SF       |       1998       | Plenário do Senado Federal |       PLEN      |      2015     |\n",
       "|         26789          |    504573   |  2119092   |  2023-03-03  | Aguardando inclusão em Ordem do Dia do Requerimento nº  102, de 2023, da Senadora Professora Dorinha Seabra e outros, solicitando o desarquivamento da matéria. |          95          |        AGINCL(RQ)       |       SF      |    55312    | Secretaria Legislativa do Senado Federal |      SLSF      |       SF       |       1998       | Plenário do Senado Federal |       PLEN      |      2015     |\n",
       "+------------------------+-------------+------------+--------------+-----------------------------------------------------------------------------------------------------------------------------------------------------------------+----------------------+-------------------------+---------------+-------------+------------------------------------------+----------------+----------------+------------------+----------------------------+-----------------+---------------+\n",
       "Truncated to displaylimit of 10."
      ]
     },
     "execution_count": 151,
     "metadata": {},
     "output_type": "execute_result"
    }
   ],
   "source": [
    "%%sql\n",
    "SELECT a.*\n",
    "FROM informes_legislativos_senado a\n",
    "JOIN (\n",
    "    SELECT id_processo, id_informe\n",
    "    FROM informes_legislativos_senado\n",
    "    GROUP BY id_processo, id_informe\n",
    "    HAVING COUNT(*) > 1\n",
    ") dups\n",
    "ON  a.id_processo = dups.id_processo\n",
    "-- AND a.id_ente = dups.id_ente\n",
    "-- AND a.autor = dups.autor\n",
    "-- AND a.sigla_ente = dups.sigla_ente\n",
    "AND a.id_informe = dups.id_informe\n",
    "ORDER BY a.id_processo, a.id_informe\n"
   ]
  },
  {
   "cell_type": "code",
   "execution_count": 152,
   "id": "20c8fd9f",
   "metadata": {
    "vscode": {
     "languageId": "sql"
    }
   },
   "outputs": [
    {
     "data": {
      "text/html": [
       "<span style=\"None\">Running query in &#x27;duck&#x27;</span>"
      ],
      "text/plain": [
       "Running query in 'duck'"
      ]
     },
     "metadata": {},
     "output_type": "display_data"
    },
    {
     "data": {
      "text/html": [
       "<table>\n",
       "    <thead>\n",
       "        <tr>\n",
       "            <th>total_duplicadas</th>\n",
       "        </tr>\n",
       "    </thead>\n",
       "    <tbody>\n",
       "        <tr>\n",
       "            <td>158784</td>\n",
       "        </tr>\n",
       "    </tbody>\n",
       "</table>"
      ],
      "text/plain": [
       "+------------------+\n",
       "| total_duplicadas |\n",
       "+------------------+\n",
       "|      158784      |\n",
       "+------------------+"
      ]
     },
     "execution_count": 152,
     "metadata": {},
     "output_type": "execute_result"
    }
   ],
   "source": [
    "%%sql\n",
    "SELECT SUM(c) AS total_duplicadas\n",
    "FROM (\n",
    "    SELECT COUNT(*) - 1 AS c\n",
    "    FROM informes_legislativos_senado\n",
    "    GROUP BY id_processo, id_informe, descricao, data_informe, sigla_situacao_iniciada, data_informe\n",
    "    HAVING COUNT(*) > 1\n",
    ") t;"
   ]
  },
  {
   "cell_type": "code",
   "execution_count": 153,
   "id": "7661de2c",
   "metadata": {
    "vscode": {
     "languageId": "sql"
    }
   },
   "outputs": [
    {
     "data": {
      "text/html": [
       "<span style=\"None\">Running query in &#x27;duck&#x27;</span>"
      ],
      "text/plain": [
       "Running query in 'duck'"
      ]
     },
     "metadata": {},
     "output_type": "display_data"
    },
    {
     "data": {
      "text/html": [
       "<table>\n",
       "    <thead>\n",
       "        <tr>\n",
       "            <th>Count</th>\n",
       "        </tr>\n",
       "    </thead>\n",
       "    <tbody>\n",
       "        <tr>\n",
       "            <td>158784</td>\n",
       "        </tr>\n",
       "    </tbody>\n",
       "</table>"
      ],
      "text/plain": [
       "+--------+\n",
       "| Count  |\n",
       "+--------+\n",
       "| 158784 |\n",
       "+--------+"
      ]
     },
     "execution_count": 153,
     "metadata": {},
     "output_type": "execute_result"
    }
   ],
   "source": [
    "%%sql\n",
    "DELETE FROM informes_legislativos_senado\n",
    "WHERE rowid IN (\n",
    "    SELECT rowid\n",
    "    FROM (\n",
    "        SELECT \n",
    "            rowid,\n",
    "            ROW_NUMBER() OVER (\n",
    "                PARTITION BY id_processo, id_informe, descricao, data_informe, sigla_situacao_iniciada, data_informe\n",
    "                ORDER BY rowid\n",
    "            ) AS rn\n",
    "        FROM informes_legislativos_senado\n",
    "    ) t\n",
    "    WHERE rn > 1\n",
    ");"
   ]
  },
  {
   "cell_type": "markdown",
   "id": "058a8010",
   "metadata": {
    "vscode": {
     "languageId": "sql"
    }
   },
   "source": [
    "# 4. Limpeza"
   ]
  },
  {
   "cell_type": "code",
   "execution_count": null,
   "id": "800ea24d",
   "metadata": {},
   "outputs": [
    {
     "ename": "",
     "evalue": "",
     "output_type": "error",
     "traceback": [
      "\u001b[1;31mThe Kernel crashed while executing code in the current cell or a previous cell. \n",
      "\u001b[1;31mPlease review the code in the cell(s) to identify a possible cause of the failure. \n",
      "\u001b[1;31mClick <a href='https://aka.ms/vscodeJupyterKernelCrash'>here</a> for more info. \n",
      "\u001b[1;31mView Jupyter <a href='command:jupyter.viewOutput'>log</a> for further details."
     ]
    }
   ],
   "source": [
    "conn.close()"
   ]
  },
  {
   "cell_type": "code",
   "execution_count": null,
   "id": "7fd1200d",
   "metadata": {},
   "outputs": [],
   "source": []
  }
 ],
 "metadata": {
  "kernelspec": {
   "display_name": "venv",
   "language": "python",
   "name": "python3"
  },
  "language_info": {
   "codemirror_mode": {
    "name": "ipython",
    "version": 3
   },
   "file_extension": ".py",
   "mimetype": "text/x-python",
   "name": "python",
   "nbconvert_exporter": "python",
   "pygments_lexer": "ipython3",
   "version": "3.13.7"
  }
 },
 "nbformat": 4,
 "nbformat_minor": 5
}
