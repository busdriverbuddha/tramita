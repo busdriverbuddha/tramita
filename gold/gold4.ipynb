{
 "cells": [
  {
   "cell_type": "code",
   "execution_count": 1,
   "id": "12c0af8f",
   "metadata": {},
   "outputs": [],
   "source": [
    "\n",
    "import os\n",
    "\n",
    "from pathlib import Path\n",
    "from collections import defaultdict\n",
    "import duckdb\n",
    "import numpy as np\n",
    "import pandas as pd\n",
    "import igraph as ig\n",
    "from scipy.spatial import ConvexHull\n",
    "import matplotlib.pyplot as plt\n",
    "\n",
    "from event import Event\n",
    "\n",
    "from dotenv import load_dotenv\n",
    "\n",
    "load_dotenv()\n",
    "\n",
    "PROJECT_DIR = Path(\"~/tramita\").expanduser()\n",
    "DB_PATH = PROJECT_DIR / os.getenv(\"SILVER_DUCKDB_PATH\", \"\")\n",
    "OUT_DIR = PROJECT_DIR / \"data\" / \"gold\"\n",
    "OUT_DIR.mkdir(exist_ok=True)\n",
    "ACCESS_DIR = OUT_DIR / \"accessory_data\"\n",
    "ACCESS_DIR.mkdir(exist_ok=True)\n",
    "\n",
    "NODES_PATH_PARQUET = OUT_DIR / \"nodes.parquet\"\n",
    "EDGES_PATH_PARQUET = OUT_DIR / \"edges.parquet\"\n",
    "NODES_PATH_CSV = OUT_DIR / \"nodes.csv\"\n",
    "EDGES_PATH_CSV = OUT_DIR / \"edges.csv\"\n",
    "\n",
    "# with duckdb.connect(DB_PATH, read_only=True) as con:"
   ]
  },
  {
   "cell_type": "code",
   "execution_count": 2,
   "id": "f9ac909d",
   "metadata": {},
   "outputs": [],
   "source": [
    "def merge_nodes(nodes_df: pd.DataFrame, edges_df: pd.DataFrame, taglist: list[str]) -> None:\n",
    "    surviving_tag = taglist[0]\n",
    "    for removed_tag in taglist[1:]:\n",
    "        edges_df.loc[edges_df['source'] == removed_tag, 'source'] = surviving_tag\n",
    "        edges_df.loc[edges_df['target'] == removed_tag, 'target'] = surviving_tag\n",
    "\n",
    "    nodes_df.drop(index=taglist[1:], inplace=True)\n",
    "    \n",
    "\n",
    "def prune_graph(node_df: pd.DataFrame, edge_df: pd.DataFrame) -> tuple[pd.DataFrame, pd.DataFrame]:\n",
    "    def _prune_nodes(node_df: pd.DataFrame, edge_df: pd.DataFrame) -> pd.DataFrame:\n",
    "        return node_df[\n",
    "            (node_df['name'].isin(edge_df['from']))\n",
    "            | (node_df['name'].isin(edge_df['to']))\n",
    "        ]\n",
    "        \n",
    "        \n",
    "    def _prune_edges(node_df: pd.DataFrame, edge_df: pd.DataFrame) -> pd.DataFrame:\n",
    "        return edge_df[\n",
    "            (edge_df['from'].isin(node_df['name']))\n",
    "            & (edge_df['to'].isin(node_df['name']))\n",
    "        ]\n",
    "\n",
    "    while True:\n",
    "        n = len(node_df)\n",
    "        m = len(edge_df)\n",
    "        node_df = _prune_nodes(node_df, edge_df)\n",
    "        edge_df = _prune_edges(node_df, edge_df)\n",
    "        if n == len(node_df) and m == len(edge_df):\n",
    "            return node_df, edge_df\n",
    "        \n",
    "def build_graph(node_df: pd.DataFrame, edge_df: pd.DataFrame) -> ig.Graph:\n",
    "    edge_tuples = list(zip(edge_df['from'], edge_df['to']))\n",
    "    g = ig.Graph.TupleList(\n",
    "        edge_tuples,\n",
    "        directed=False,\n",
    "        vertex_name_attr=\"name\",\n",
    "        weights=True,\n",
    "    )\n",
    "    for col in node_df.columns:\n",
    "        if col != \"name\":\n",
    "            g.vs[col] = node_df.set_index(\"name\").loc[g.vs['name'], col].tolist()\n",
    "\n",
    "    for col in edge_df.columns:\n",
    "        if col not in (\"from\", \"to\"):\n",
    "            g.es[col] = edge_df[col].tolist()\n",
    "    \n",
    "    return g\n",
    "\n",
    "def get_community(g: ig.Graph) -> ig.VertexClustering:\n",
    "    community_method = None\n",
    "    try:\n",
    "        cl = g.community_leiden(objective_function=\"modularity\")\n",
    "        community_method = \"leiden\"\n",
    "    except Exception:\n",
    "        cl = g.community_multilevel()  # Louvain\n",
    "        community_method = \"louvain\"\n",
    "    \n",
    "    print(f\"Community method used: {community_method}\")\n",
    "    return cl\n",
    "\n",
    "def get_metrics(g: ig.Graph) -> pd.DataFrame:\n",
    "    vcount = g.vcount()\n",
    "    components = g.components()\n",
    "    component_sizes = pd.Series([len(c) for c in components], name=\"size\").to_frame()\n",
    "    component_sizes[\"component_id\"] = component_sizes.index\n",
    "    component_sizes = component_sizes[[\"component_id\",\"size\"]].sort_values(\"size\", ascending=False).reset_index(drop=True)\n",
    "    \n",
    "    comp_id_map = {}\n",
    "    for cid, comp in enumerate(components):\n",
    "        for vid in comp:\n",
    "            comp_id_map[vid] = cid\n",
    "    \n",
    "    degree_all = g.degree()\n",
    "    pagerank = g.pagerank(weights='weight', directed=False)\n",
    "\n",
    "    return pd.DataFrame({\n",
    "        \"id\":                 g.vs[\"name\"],\n",
    "        \"type\":               g.vs[\"type\"],\n",
    "        \"label\": g.vs[\"label\"],\n",
    "        \"degree\":             degree_all,\n",
    "        \"pagerank\":        pagerank,\n",
    "        \"component_id\":       [comp_id_map[i] for i in range(vcount)],\n",
    "    })\n",
    "    \n",
    "def top_n(df: pd.DataFrame, col: str, n: int = 10, node_types: list | None = None) -> pd.DataFrame:\n",
    "    sub = df if node_types is None else df[df[\"type\"].isin(node_types)]\n",
    "    return sub.sort_values(col, ascending=False).head(n).reset_index(drop=True)\n",
    "\n",
    "\n",
    "def view_graph(g: ig.Graph):\n",
    "    # 1) Layout + communities\n",
    "    layout = g.layout_fruchterman_reingold(weights=g.es['weight'] if 'weight' in g.es.attributes() else None, niter=2000)\n",
    "    coords = np.array(layout.coords)\n",
    "\n",
    "    # Leiden communities (falls back if package not installed)\n",
    "    try:\n",
    "        comm = g.community_leiden(objective_function='modularity', weights=g.es['weight'] if 'weight' in g.es.attributes() else None)\n",
    "    except Exception:\n",
    "        comm = g.community_multilevel(weights=g.es['weight'] if 'weight' in g.es.attributes() else None)\n",
    "\n",
    "    # 2) Colors by node type\n",
    "    types = [v['type'] for v in g.vs]\n",
    "    uniq_types = sorted(set(types))\n",
    "    palette = plt.cm.get_cmap('tab10', len(uniq_types))\n",
    "    color_map = {t: palette(i) for i, t in enumerate(uniq_types)}\n",
    "    vcolors = [color_map[t] for t in types]\n",
    "\n",
    "    # 3) Plot nodes & edges with matplotlib for full control\n",
    "    fig, ax = plt.subplots(figsize=(10, 10))\n",
    "    # edges\n",
    "    for e in g.es:\n",
    "        i, j = e.tuple\n",
    "        ax.plot([coords[i,0], coords[j,0]], [coords[i,1], coords[j,1]], lw=0.4, alpha=0.25, zorder=1)\n",
    "\n",
    "    # nodes\n",
    "    ax.scatter(coords[:,0], coords[:,1], s=15, c=vcolors, edgecolors='white', linewidths=0.4, zorder=2)\n",
    "\n",
    "    # 4) (Optional) draw translucent hulls per community\n",
    "    for cid in range(len(comm)):\n",
    "        members = np.array(comm.membership) == cid\n",
    "        pts = coords[members]\n",
    "        if pts.shape[0] >= 3:\n",
    "            hull = ConvexHull(pts)\n",
    "            poly = plt.Polygon(pts[hull.vertices], alpha=0.08, ec='none', fc='gray')\n",
    "            ax.add_patch(poly)\n",
    "\n",
    "    # 5) Legend for node types\n",
    "    handles = [plt.Line2D([0],[0], marker='o', linestyle='', markersize=8, markerfacecolor=color_map[t], markeredgecolor='white') for t in uniq_types]\n",
    "    ax.legend(handles, uniq_types, frameon=False, loc='upper right', title='Node type')\n",
    "\n",
    "    ax.set_axis_off()\n",
    "    plt.tight_layout()\n",
    "    plt.show()\n",
    "\n"
   ]
  },
  {
   "cell_type": "code",
   "execution_count": 3,
   "id": "e5f84eea",
   "metadata": {},
   "outputs": [
    {
     "data": {
      "application/vnd.microsoft.datawrangler.viewer.v0+json": {
       "columns": [
        {
         "name": "index",
         "rawType": "int64",
         "type": "integer"
        },
        {
         "name": "label",
         "rawType": "object",
         "type": "string"
        },
        {
         "name": "event_ts",
         "rawType": "datetime64[ns]",
         "type": "datetime"
        },
        {
         "name": "event",
         "rawType": "object",
         "type": "unknown"
        },
        {
         "name": "event_loc",
         "rawType": "object",
         "type": "unknown"
        },
        {
         "name": "casa",
         "rawType": "object",
         "type": "string"
        },
        {
         "name": "prop_tag",
         "rawType": "object",
         "type": "unknown"
        },
        {
         "name": "proc_tag",
         "rawType": "object",
         "type": "unknown"
        }
       ],
       "ref": "e42c6395-c114-4bfc-86e4-eb7370b5c5c3",
       "rows": [
        [
         "0",
         "MPV 1000/2020",
         "2020-09-03 00:00:00",
         "Event.APRESENTADO",
         "SF",
         "senado",
         "CP:2262062",
         "SP:7979012"
        ],
        [
         "1",
         "MPV 1000/2020",
         "2020-09-03 10:57:00",
         "Event.APRESENTADO",
         "EXEC",
         "camara",
         "CP:2262062",
         "SP:7979012"
        ],
        [
         "2",
         "MPV 1000/2020",
         "2020-09-09 00:00:00",
         "Event.RECEBIDO_COMISSAO",
         "MESA",
         "camara",
         "CP:2262062",
         "SP:7979012"
        ],
        [
         "3",
         "MPV 1000/2020",
         "2020-09-09 00:00:00",
         "Event.APRESENTADO",
         "MESA",
         "camara",
         "CP:2262062",
         "SP:7979012"
        ],
        [
         "4",
         "MPV 1000/2020",
         "2020-09-10 12:09:00",
         "Event.DISTRIBUIDO",
         "MESA",
         "camara",
         "CP:2262062",
         "SP:7979012"
        ],
        [
         "5",
         "MPV 1000/2020",
         "2020-12-17 00:00:00",
         "Event.DESIGNADO_RELATOR_PLENARIO",
         "PLEN",
         "camara",
         "CP:2262062",
         "SP:7979012"
        ],
        [
         "6",
         "MPV 1001/2020",
         "2020-09-15 00:00:00",
         "Event.APRESENTADO",
         "SF",
         "senado",
         "CP:2262906",
         "SP:7983532"
        ],
        [
         "7",
         "MPV 1001/2020",
         "2020-09-15 10:00:00",
         "Event.APRESENTADO",
         "EXEC",
         "camara",
         "CP:2262906",
         "SP:7983532"
        ],
        [
         "8",
         "MPV 1001/2020",
         "2020-09-18 00:00:00",
         "Event.RECEBIDO_COMISSAO",
         "MESA",
         "camara",
         "CP:2262906",
         "SP:7983532"
        ],
        [
         "9",
         "MPV 1001/2020",
         "2020-09-21 10:47:00",
         "Event.APRESENTADO",
         "MESA",
         "camara",
         "CP:2262906",
         "SP:7983532"
        ],
        [
         "10",
         "MPV 1001/2020",
         "2020-09-22 17:25:00",
         "Event.DISTRIBUIDO",
         "MESA",
         "camara",
         "CP:2262906",
         "SP:7983532"
        ],
        [
         "11",
         "MPV 1002/2020",
         "2020-09-24 00:00:00",
         "Event.APRESENTADO",
         "SF",
         "senado",
         "CP:2263381",
         "SP:7987460"
        ],
        [
         "12",
         "MPV 1002/2020",
         "2020-09-24 11:00:00",
         "Event.APRESENTADO",
         "EXEC",
         "camara",
         "CP:2263381",
         "SP:7987460"
        ],
        [
         "13",
         "MPV 1002/2020",
         "2020-09-29 00:00:00",
         "Event.RECEBIDO_COMISSAO",
         "MESA",
         "camara",
         "CP:2263381",
         "SP:7987460"
        ],
        [
         "14",
         "MPV 1002/2020",
         "2020-09-29 00:00:00",
         "Event.APRESENTADO",
         "MESA",
         "camara",
         "CP:2263381",
         "SP:7987460"
        ],
        [
         "15",
         "MPV 1002/2020",
         "2020-10-13 13:10:00",
         "Event.DISTRIBUIDO",
         "MESA",
         "camara",
         "CP:2263381",
         "SP:7987460"
        ],
        [
         "16",
         "MPV 1003/2020",
         "2020-09-24 00:00:00",
         "Event.APRESENTADO",
         "SF",
         "senado",
         "CP:2263410",
         "SP:7987889"
        ],
        [
         "17",
         "MPV 1003/2020",
         "2020-09-24 09:35:00",
         "Event.APRESENTADO",
         "EXEC",
         "camara",
         "CP:2263410",
         "SP:7987889"
        ],
        [
         "18",
         "MPV 1003/2020",
         "2020-09-29 00:00:00",
         "Event.RECEBIDO_COMISSAO",
         "MESA",
         "camara",
         "CP:2263410",
         "SP:7987889"
        ],
        [
         "19",
         "MPV 1003/2020",
         "2020-09-29 00:00:00",
         "Event.APRESENTADO",
         "MESA",
         "camara",
         "CP:2263410",
         "SP:7987889"
        ],
        [
         "20",
         "MPV 1003/2020",
         "2020-10-13 00:00:00",
         "Event.DESIGNADO_RELATOR_PLENARIO",
         "PLEN",
         "camara",
         "CP:2263410",
         "SP:7987889"
        ],
        [
         "21",
         "MPV 1003/2020",
         "2020-10-13 13:12:00",
         "Event.DISTRIBUIDO",
         "MESA",
         "camara",
         "CP:2263410",
         "SP:7987889"
        ],
        [
         "22",
         "MPV 1003/2020",
         "2020-12-18 00:00:00",
         "Event.APROVADO_PLENARIO",
         "PLEN",
         "camara",
         "CP:2263410",
         "SP:7987889"
        ],
        [
         "23",
         "MPV 1003/2020",
         "2020-12-18 00:00:00",
         "Event.APRESENTADO",
         "MESA",
         "camara",
         "CP:2263410",
         "SP:7987889"
        ],
        [
         "24",
         "MPV 1003/2020",
         "2020-12-18 11:00:00",
         "Event.APROVADO_PLENARIO",
         "PLEN",
         "camara",
         "CP:2263410",
         "SP:7987889"
        ],
        [
         "25",
         "MPV 1003/2020",
         "2020-12-18 12:12:00",
         "Event.DESIGNADO_RELATOR_PLENARIO",
         "PLEN",
         "camara",
         "CP:2263410",
         "SP:7987889"
        ],
        [
         "26",
         "MPV 1003/2020",
         "2020-12-18 17:32:00",
         "Event.APROVADO_PLENARIO",
         "PLEN",
         "camara",
         "CP:2263410",
         "SP:7987889"
        ],
        [
         "27",
         "MPV 1003/2020",
         "2020-12-18 17:48:00",
         "Event.APRESENTADO",
         "PLEN",
         "camara",
         "CP:2263410",
         "SP:7987889"
        ],
        [
         "28",
         "MPV 1003/2020",
         "2020-12-21 00:00:00",
         "Event.REMETIDO_AO_SENADO",
         "MESA",
         "camara",
         "CP:2263410",
         "SP:7987889"
        ],
        [
         "29",
         "MPV 1003/2020",
         "2020-12-21 13:27:00",
         "Event.APRESENTADO",
         "PLEN",
         "camara",
         "CP:2263410",
         "SP:7987889"
        ],
        [
         "30",
         "MPV 1003/2020",
         "2021-02-04 00:00:00",
         "Event.RECEBIDO_COMISSAO",
         "PLEN",
         "senado",
         "CP:2263410",
         "SP:7987889"
        ],
        [
         "31",
         "MPV 1003/2020",
         "2021-02-04 00:00:00",
         "Event.APROVADA_URGENCIA",
         "PLEN",
         "senado",
         "CP:2263410",
         "SP:7987889"
        ],
        [
         "32",
         "MPV 1003/2020",
         "2021-02-04 00:00:00",
         "Event.APROVADO_PLENARIO",
         "PLEN",
         "senado",
         "CP:2263410",
         "SP:7987889"
        ],
        [
         "33",
         "MPV 1003/2020",
         "2021-02-04 09:33:00",
         "Event.APRESENTADO",
         "PLEN",
         "camara",
         "CP:2263410",
         "SP:7987889"
        ],
        [
         "34",
         "MPV 1003/2020",
         "2021-02-09 00:00:00",
         "Event.RECEBIDO_COMISSAO",
         "MESA",
         "camara",
         "CP:2263410",
         "SP:7987889"
        ],
        [
         "35",
         "MPV 1003/2020",
         "2021-02-18 15:42:00",
         "Event.APRESENTADO",
         "PLEN",
         "camara",
         "CP:2263410",
         "SP:7987889"
        ],
        [
         "36",
         "MPV 1004/2020",
         "2020-09-24 00:00:00",
         "Event.APRESENTADO",
         "SF",
         "senado",
         "CP:2263411",
         "SP:7987895"
        ],
        [
         "37",
         "MPV 1004/2020",
         "2020-09-24 09:35:00",
         "Event.APRESENTADO",
         "EXEC",
         "camara",
         "CP:2263411",
         "SP:7987895"
        ],
        [
         "38",
         "MPV 1004/2020",
         "2020-09-29 00:00:00",
         "Event.RECEBIDO_COMISSAO",
         "MESA",
         "camara",
         "CP:2263411",
         "SP:7987895"
        ],
        [
         "39",
         "MPV 1004/2020",
         "2020-09-29 00:00:00",
         "Event.APRESENTADO",
         "MESA",
         "camara",
         "CP:2263411",
         "SP:7987895"
        ],
        [
         "40",
         "MPV 1004/2020",
         "2020-10-13 13:13:00",
         "Event.DISTRIBUIDO",
         "MESA",
         "camara",
         "CP:2263411",
         "SP:7987895"
        ],
        [
         "41",
         "MPV 1004/2020",
         "2021-02-25 00:00:00",
         "Event.DESIGNADO_RELATOR_PLENARIO",
         "PLEN",
         "camara",
         "CP:2263411",
         "SP:7987895"
        ],
        [
         "42",
         "MPV 1004/2020",
         "2021-03-02 00:00:00",
         "Event.APROVADO_PLENARIO",
         "PLEN",
         "camara",
         "CP:2263411",
         "SP:7987895"
        ],
        [
         "43",
         "MPV 1004/2020",
         "2021-03-02 00:00:00",
         "Event.REMETIDO_AO_SENADO",
         "MESA",
         "camara",
         "CP:2263411",
         "SP:7987895"
        ],
        [
         "44",
         "MPV 1004/2020",
         "2021-03-02 12:34:00",
         "Event.APRESENTADO",
         "MESA",
         "camara",
         "CP:2263411",
         "SP:7987895"
        ],
        [
         "45",
         "MPV 1004/2020",
         "2021-03-02 15:00:00",
         "Event.APROVADO_PLENARIO",
         "PLEN",
         "camara",
         "CP:2263411",
         "SP:7987895"
        ],
        [
         "46",
         "MPV 1004/2020",
         "2021-03-02 16:08:00",
         "Event.DESIGNADO_RELATOR_PLENARIO",
         "PLEN",
         "camara",
         "CP:2263411",
         "SP:7987895"
        ],
        [
         "47",
         "MPV 1004/2020",
         "2021-03-03 00:00:00",
         "Event.RECEBIDO_COMISSAO",
         "MESA",
         "camara",
         "CP:2263411",
         "SP:7987895"
        ],
        [
         "48",
         "MPV 1004/2020",
         "2021-03-03 00:00:00",
         "Event.RECEBIDO_COMISSAO",
         "PLEN",
         "senado",
         "CP:2263411",
         "SP:7987895"
        ],
        [
         "49",
         "MPV 1004/2020",
         "2021-03-03 00:00:00",
         "Event.APROVADA_URGENCIA",
         "PLEN",
         "senado",
         "CP:2263411",
         "SP:7987895"
        ]
       ],
       "shape": {
        "columns": 7,
        "rows": 114746
       }
      },
      "text/html": [
       "<div>\n",
       "<style scoped>\n",
       "    .dataframe tbody tr th:only-of-type {\n",
       "        vertical-align: middle;\n",
       "    }\n",
       "\n",
       "    .dataframe tbody tr th {\n",
       "        vertical-align: top;\n",
       "    }\n",
       "\n",
       "    .dataframe thead th {\n",
       "        text-align: right;\n",
       "    }\n",
       "</style>\n",
       "<table border=\"1\" class=\"dataframe\">\n",
       "  <thead>\n",
       "    <tr style=\"text-align: right;\">\n",
       "      <th></th>\n",
       "      <th>label</th>\n",
       "      <th>event_ts</th>\n",
       "      <th>event</th>\n",
       "      <th>event_loc</th>\n",
       "      <th>casa</th>\n",
       "      <th>prop_tag</th>\n",
       "      <th>proc_tag</th>\n",
       "    </tr>\n",
       "  </thead>\n",
       "  <tbody>\n",
       "    <tr>\n",
       "      <th>0</th>\n",
       "      <td>MPV 1000/2020</td>\n",
       "      <td>2020-09-03 00:00:00</td>\n",
       "      <td>Event.APRESENTADO</td>\n",
       "      <td>SF</td>\n",
       "      <td>senado</td>\n",
       "      <td>CP:2262062</td>\n",
       "      <td>SP:7979012</td>\n",
       "    </tr>\n",
       "    <tr>\n",
       "      <th>1</th>\n",
       "      <td>MPV 1000/2020</td>\n",
       "      <td>2020-09-03 10:57:00</td>\n",
       "      <td>Event.APRESENTADO</td>\n",
       "      <td>EXEC</td>\n",
       "      <td>camara</td>\n",
       "      <td>CP:2262062</td>\n",
       "      <td>SP:7979012</td>\n",
       "    </tr>\n",
       "    <tr>\n",
       "      <th>2</th>\n",
       "      <td>MPV 1000/2020</td>\n",
       "      <td>2020-09-09 00:00:00</td>\n",
       "      <td>Event.RECEBIDO_COMISSAO</td>\n",
       "      <td>MESA</td>\n",
       "      <td>camara</td>\n",
       "      <td>CP:2262062</td>\n",
       "      <td>SP:7979012</td>\n",
       "    </tr>\n",
       "    <tr>\n",
       "      <th>3</th>\n",
       "      <td>MPV 1000/2020</td>\n",
       "      <td>2020-09-09 00:00:00</td>\n",
       "      <td>Event.APRESENTADO</td>\n",
       "      <td>MESA</td>\n",
       "      <td>camara</td>\n",
       "      <td>CP:2262062</td>\n",
       "      <td>SP:7979012</td>\n",
       "    </tr>\n",
       "    <tr>\n",
       "      <th>4</th>\n",
       "      <td>MPV 1000/2020</td>\n",
       "      <td>2020-09-10 12:09:00</td>\n",
       "      <td>Event.DISTRIBUIDO</td>\n",
       "      <td>MESA</td>\n",
       "      <td>camara</td>\n",
       "      <td>CP:2262062</td>\n",
       "      <td>SP:7979012</td>\n",
       "    </tr>\n",
       "    <tr>\n",
       "      <th>...</th>\n",
       "      <td>...</td>\n",
       "      <td>...</td>\n",
       "      <td>...</td>\n",
       "      <td>...</td>\n",
       "      <td>...</td>\n",
       "      <td>...</td>\n",
       "      <td>...</td>\n",
       "    </tr>\n",
       "    <tr>\n",
       "      <th>114703</th>\n",
       "      <td>PLV 8/2023</td>\n",
       "      <td>2023-03-30 17:23:00</td>\n",
       "      <td>Event.APRESENTADO</td>\n",
       "      <td>MPV115222</td>\n",
       "      <td>camara</td>\n",
       "      <td>CP:2354532</td>\n",
       "      <td>NaN</td>\n",
       "    </tr>\n",
       "    <tr>\n",
       "      <th>114704</th>\n",
       "      <td>PLV 9/2020</td>\n",
       "      <td>2020-04-29 22:15:00</td>\n",
       "      <td>Event.APRESENTADO</td>\n",
       "      <td>PLEN</td>\n",
       "      <td>camara</td>\n",
       "      <td>CP:2250966</td>\n",
       "      <td>NaN</td>\n",
       "    </tr>\n",
       "    <tr>\n",
       "      <th>114705</th>\n",
       "      <td>PLV 9/2021</td>\n",
       "      <td>2021-05-25 19:23:00</td>\n",
       "      <td>Event.APRESENTADO</td>\n",
       "      <td>PLEN</td>\n",
       "      <td>camara</td>\n",
       "      <td>CP:2284649</td>\n",
       "      <td>NaN</td>\n",
       "    </tr>\n",
       "    <tr>\n",
       "      <th>114706</th>\n",
       "      <td>PLV 9/2022</td>\n",
       "      <td>2022-05-11 17:23:00</td>\n",
       "      <td>Event.APRESENTADO</td>\n",
       "      <td>MPV108021</td>\n",
       "      <td>camara</td>\n",
       "      <td>CP:2322707</td>\n",
       "      <td>NaN</td>\n",
       "    </tr>\n",
       "    <tr>\n",
       "      <th>114707</th>\n",
       "      <td>PLV 9/2023</td>\n",
       "      <td>2023-04-25 19:30:00</td>\n",
       "      <td>Event.APRESENTADO</td>\n",
       "      <td>PLEN</td>\n",
       "      <td>camara</td>\n",
       "      <td>CP:2358303</td>\n",
       "      <td>NaN</td>\n",
       "    </tr>\n",
       "  </tbody>\n",
       "</table>\n",
       "<p>114746 rows × 7 columns</p>\n",
       "</div>"
      ],
      "text/plain": [
       "                label            event_ts                    event  event_loc  \\\n",
       "0       MPV 1000/2020 2020-09-03 00:00:00        Event.APRESENTADO         SF   \n",
       "1       MPV 1000/2020 2020-09-03 10:57:00        Event.APRESENTADO       EXEC   \n",
       "2       MPV 1000/2020 2020-09-09 00:00:00  Event.RECEBIDO_COMISSAO       MESA   \n",
       "3       MPV 1000/2020 2020-09-09 00:00:00        Event.APRESENTADO       MESA   \n",
       "4       MPV 1000/2020 2020-09-10 12:09:00        Event.DISTRIBUIDO       MESA   \n",
       "...               ...                 ...                      ...        ...   \n",
       "114703     PLV 8/2023 2023-03-30 17:23:00        Event.APRESENTADO  MPV115222   \n",
       "114704     PLV 9/2020 2020-04-29 22:15:00        Event.APRESENTADO       PLEN   \n",
       "114705     PLV 9/2021 2021-05-25 19:23:00        Event.APRESENTADO       PLEN   \n",
       "114706     PLV 9/2022 2022-05-11 17:23:00        Event.APRESENTADO  MPV108021   \n",
       "114707     PLV 9/2023 2023-04-25 19:30:00        Event.APRESENTADO       PLEN   \n",
       "\n",
       "          casa    prop_tag    proc_tag  \n",
       "0       senado  CP:2262062  SP:7979012  \n",
       "1       camara  CP:2262062  SP:7979012  \n",
       "2       camara  CP:2262062  SP:7979012  \n",
       "3       camara  CP:2262062  SP:7979012  \n",
       "4       camara  CP:2262062  SP:7979012  \n",
       "...        ...         ...         ...  \n",
       "114703  camara  CP:2354532         NaN  \n",
       "114704  camara  CP:2250966         NaN  \n",
       "114705  camara  CP:2284649         NaN  \n",
       "114706  camara  CP:2322707         NaN  \n",
       "114707  camara  CP:2358303         NaN  \n",
       "\n",
       "[114746 rows x 7 columns]"
      ]
     },
     "execution_count": 3,
     "metadata": {},
     "output_type": "execute_result"
    }
   ],
   "source": [
    "event_df = pd.read_pickle(ACCESS_DIR / \"full_event_df.pkl\")\n",
    "event_df"
   ]
  },
  {
   "cell_type": "code",
   "execution_count": 4,
   "id": "103082b5",
   "metadata": {},
   "outputs": [],
   "source": [
    "edges_df = pd.read_parquet(EDGES_PATH_PARQUET)\n",
    "nodes_df = pd.read_parquet(NODES_PATH_PARQUET)"
   ]
  },
  {
   "cell_type": "code",
   "execution_count": 5,
   "id": "8026a46b",
   "metadata": {},
   "outputs": [
    {
     "data": {
      "application/vnd.microsoft.datawrangler.viewer.v0+json": {
       "columns": [
        {
         "name": "index",
         "rawType": "int64",
         "type": "integer"
        },
        {
         "name": "label",
         "rawType": "object",
         "type": "string"
        },
        {
         "name": "event_ts",
         "rawType": "datetime64[ns]",
         "type": "datetime"
        },
        {
         "name": "event",
         "rawType": "object",
         "type": "unknown"
        },
        {
         "name": "event_loc",
         "rawType": "object",
         "type": "unknown"
        },
        {
         "name": "casa",
         "rawType": "object",
         "type": "string"
        },
        {
         "name": "prop_tag",
         "rawType": "object",
         "type": "unknown"
        },
        {
         "name": "proc_tag",
         "rawType": "object",
         "type": "unknown"
        },
        {
         "name": "auth_camara_tag",
         "rawType": "object",
         "type": "unknown"
        },
        {
         "name": "auth_senado_tag",
         "rawType": "object",
         "type": "unknown"
        },
        {
         "name": "auth_camara_label",
         "rawType": "object",
         "type": "unknown"
        },
        {
         "name": "auth_senado_label",
         "rawType": "object",
         "type": "unknown"
        }
       ],
       "ref": "c46d4d8c-0cdf-4c3e-991e-e27983cecbbc",
       "rows": [
        [
         "0",
         "MPV 1000/2020",
         "2020-09-03 00:00:00",
         "Event.APRESENTADO",
         "SF",
         "senado",
         "CP:2262062",
         "SP:7979012",
         "CO:253",
         "SE:55126",
         "PODER EXECUTIVO",
         "PRESIDÊNCIA DA REPÚBLICA"
        ],
        [
         "1",
         "MPV 1000/2020",
         "2020-09-03 10:57:00",
         "Event.APRESENTADO",
         "EXEC",
         "camara",
         "CP:2262062",
         "SP:7979012",
         "CO:253",
         "SE:55126",
         "PODER EXECUTIVO",
         "PRESIDÊNCIA DA REPÚBLICA"
        ],
        [
         "2",
         "MPV 1000/2020",
         "2020-09-09 00:00:00",
         "Event.RECEBIDO_COMISSAO",
         "MESA",
         "camara",
         "CP:2262062",
         "SP:7979012",
         "CO:253",
         "SE:55126",
         "PODER EXECUTIVO",
         "PRESIDÊNCIA DA REPÚBLICA"
        ],
        [
         "3",
         "MPV 1000/2020",
         "2020-09-09 00:00:00",
         "Event.APRESENTADO",
         "MESA",
         "camara",
         "CP:2262062",
         "SP:7979012",
         "CO:253",
         "SE:55126",
         "PODER EXECUTIVO",
         "PRESIDÊNCIA DA REPÚBLICA"
        ],
        [
         "4",
         "MPV 1000/2020",
         "2020-09-10 12:09:00",
         "Event.DISTRIBUIDO",
         "MESA",
         "camara",
         "CP:2262062",
         "SP:7979012",
         "CO:253",
         "SE:55126",
         "PODER EXECUTIVO",
         "PRESIDÊNCIA DA REPÚBLICA"
        ],
        [
         "5",
         "MPV 1000/2020",
         "2020-12-17 00:00:00",
         "Event.DESIGNADO_RELATOR_PLENARIO",
         "PLEN",
         "camara",
         "CP:2262062",
         "SP:7979012",
         "CO:253",
         "SE:55126",
         "PODER EXECUTIVO",
         "PRESIDÊNCIA DA REPÚBLICA"
        ],
        [
         "6",
         "MPV 1001/2020",
         "2020-09-15 00:00:00",
         "Event.APRESENTADO",
         "SF",
         "senado",
         "CP:2262906",
         "SP:7983532",
         "CO:253",
         "SE:55126",
         "PODER EXECUTIVO",
         "PRESIDÊNCIA DA REPÚBLICA"
        ],
        [
         "7",
         "MPV 1001/2020",
         "2020-09-15 10:00:00",
         "Event.APRESENTADO",
         "EXEC",
         "camara",
         "CP:2262906",
         "SP:7983532",
         "CO:253",
         "SE:55126",
         "PODER EXECUTIVO",
         "PRESIDÊNCIA DA REPÚBLICA"
        ],
        [
         "8",
         "MPV 1001/2020",
         "2020-09-18 00:00:00",
         "Event.RECEBIDO_COMISSAO",
         "MESA",
         "camara",
         "CP:2262906",
         "SP:7983532",
         "CO:253",
         "SE:55126",
         "PODER EXECUTIVO",
         "PRESIDÊNCIA DA REPÚBLICA"
        ],
        [
         "9",
         "MPV 1001/2020",
         "2020-09-21 10:47:00",
         "Event.APRESENTADO",
         "MESA",
         "camara",
         "CP:2262906",
         "SP:7983532",
         "CO:253",
         "SE:55126",
         "PODER EXECUTIVO",
         "PRESIDÊNCIA DA REPÚBLICA"
        ],
        [
         "10",
         "MPV 1001/2020",
         "2020-09-22 17:25:00",
         "Event.DISTRIBUIDO",
         "MESA",
         "camara",
         "CP:2262906",
         "SP:7983532",
         "CO:253",
         "SE:55126",
         "PODER EXECUTIVO",
         "PRESIDÊNCIA DA REPÚBLICA"
        ],
        [
         "11",
         "MPV 1002/2020",
         "2020-09-24 00:00:00",
         "Event.APRESENTADO",
         "SF",
         "senado",
         "CP:2263381",
         "SP:7987460",
         "CO:253",
         "SE:55126",
         "PODER EXECUTIVO",
         "PRESIDÊNCIA DA REPÚBLICA"
        ],
        [
         "12",
         "MPV 1002/2020",
         "2020-09-24 11:00:00",
         "Event.APRESENTADO",
         "EXEC",
         "camara",
         "CP:2263381",
         "SP:7987460",
         "CO:253",
         "SE:55126",
         "PODER EXECUTIVO",
         "PRESIDÊNCIA DA REPÚBLICA"
        ],
        [
         "13",
         "MPV 1002/2020",
         "2020-09-29 00:00:00",
         "Event.RECEBIDO_COMISSAO",
         "MESA",
         "camara",
         "CP:2263381",
         "SP:7987460",
         "CO:253",
         "SE:55126",
         "PODER EXECUTIVO",
         "PRESIDÊNCIA DA REPÚBLICA"
        ],
        [
         "14",
         "MPV 1002/2020",
         "2020-09-29 00:00:00",
         "Event.APRESENTADO",
         "MESA",
         "camara",
         "CP:2263381",
         "SP:7987460",
         "CO:253",
         "SE:55126",
         "PODER EXECUTIVO",
         "PRESIDÊNCIA DA REPÚBLICA"
        ],
        [
         "15",
         "MPV 1002/2020",
         "2020-10-13 13:10:00",
         "Event.DISTRIBUIDO",
         "MESA",
         "camara",
         "CP:2263381",
         "SP:7987460",
         "CO:253",
         "SE:55126",
         "PODER EXECUTIVO",
         "PRESIDÊNCIA DA REPÚBLICA"
        ],
        [
         "16",
         "MPV 1003/2020",
         "2020-09-24 00:00:00",
         "Event.APRESENTADO",
         "SF",
         "senado",
         "CP:2263410",
         "SP:7987889",
         "CO:253",
         "SE:55126",
         "PODER EXECUTIVO",
         "PRESIDÊNCIA DA REPÚBLICA"
        ],
        [
         "17",
         "MPV 1003/2020",
         "2020-09-24 09:35:00",
         "Event.APRESENTADO",
         "EXEC",
         "camara",
         "CP:2263410",
         "SP:7987889",
         "CO:253",
         "SE:55126",
         "PODER EXECUTIVO",
         "PRESIDÊNCIA DA REPÚBLICA"
        ],
        [
         "18",
         "MPV 1003/2020",
         "2020-09-29 00:00:00",
         "Event.RECEBIDO_COMISSAO",
         "MESA",
         "camara",
         "CP:2263410",
         "SP:7987889",
         "CO:253",
         "SE:55126",
         "PODER EXECUTIVO",
         "PRESIDÊNCIA DA REPÚBLICA"
        ],
        [
         "19",
         "MPV 1003/2020",
         "2020-09-29 00:00:00",
         "Event.APRESENTADO",
         "MESA",
         "camara",
         "CP:2263410",
         "SP:7987889",
         "CO:253",
         "SE:55126",
         "PODER EXECUTIVO",
         "PRESIDÊNCIA DA REPÚBLICA"
        ],
        [
         "20",
         "MPV 1003/2020",
         "2020-10-13 00:00:00",
         "Event.DESIGNADO_RELATOR_PLENARIO",
         "PLEN",
         "camara",
         "CP:2263410",
         "SP:7987889",
         "CO:253",
         "SE:55126",
         "PODER EXECUTIVO",
         "PRESIDÊNCIA DA REPÚBLICA"
        ],
        [
         "21",
         "MPV 1003/2020",
         "2020-10-13 13:12:00",
         "Event.DISTRIBUIDO",
         "MESA",
         "camara",
         "CP:2263410",
         "SP:7987889",
         "CO:253",
         "SE:55126",
         "PODER EXECUTIVO",
         "PRESIDÊNCIA DA REPÚBLICA"
        ],
        [
         "22",
         "MPV 1003/2020",
         "2020-12-18 00:00:00",
         "Event.APROVADO_PLENARIO",
         "PLEN",
         "camara",
         "CP:2263410",
         "SP:7987889",
         "CO:253",
         "SE:55126",
         "PODER EXECUTIVO",
         "PRESIDÊNCIA DA REPÚBLICA"
        ],
        [
         "23",
         "MPV 1003/2020",
         "2020-12-18 00:00:00",
         "Event.APRESENTADO",
         "MESA",
         "camara",
         "CP:2263410",
         "SP:7987889",
         "CO:253",
         "SE:55126",
         "PODER EXECUTIVO",
         "PRESIDÊNCIA DA REPÚBLICA"
        ],
        [
         "24",
         "MPV 1003/2020",
         "2020-12-18 11:00:00",
         "Event.APROVADO_PLENARIO",
         "PLEN",
         "camara",
         "CP:2263410",
         "SP:7987889",
         "CO:253",
         "SE:55126",
         "PODER EXECUTIVO",
         "PRESIDÊNCIA DA REPÚBLICA"
        ],
        [
         "25",
         "MPV 1003/2020",
         "2020-12-18 12:12:00",
         "Event.DESIGNADO_RELATOR_PLENARIO",
         "PLEN",
         "camara",
         "CP:2263410",
         "SP:7987889",
         "CO:253",
         "SE:55126",
         "PODER EXECUTIVO",
         "PRESIDÊNCIA DA REPÚBLICA"
        ],
        [
         "26",
         "MPV 1003/2020",
         "2020-12-18 17:32:00",
         "Event.APROVADO_PLENARIO",
         "PLEN",
         "camara",
         "CP:2263410",
         "SP:7987889",
         "CO:253",
         "SE:55126",
         "PODER EXECUTIVO",
         "PRESIDÊNCIA DA REPÚBLICA"
        ],
        [
         "27",
         "MPV 1003/2020",
         "2020-12-18 17:48:00",
         "Event.APRESENTADO",
         "PLEN",
         "camara",
         "CP:2263410",
         "SP:7987889",
         "CO:253",
         "SE:55126",
         "PODER EXECUTIVO",
         "PRESIDÊNCIA DA REPÚBLICA"
        ],
        [
         "28",
         "MPV 1003/2020",
         "2020-12-21 00:00:00",
         "Event.REMETIDO_AO_SENADO",
         "MESA",
         "camara",
         "CP:2263410",
         "SP:7987889",
         "CO:253",
         "SE:55126",
         "PODER EXECUTIVO",
         "PRESIDÊNCIA DA REPÚBLICA"
        ],
        [
         "29",
         "MPV 1003/2020",
         "2020-12-21 13:27:00",
         "Event.APRESENTADO",
         "PLEN",
         "camara",
         "CP:2263410",
         "SP:7987889",
         "CO:253",
         "SE:55126",
         "PODER EXECUTIVO",
         "PRESIDÊNCIA DA REPÚBLICA"
        ],
        [
         "30",
         "MPV 1003/2020",
         "2021-02-04 00:00:00",
         "Event.RECEBIDO_COMISSAO",
         "PLEN",
         "senado",
         "CP:2263410",
         "SP:7987889",
         "CO:253",
         "SE:55126",
         "PODER EXECUTIVO",
         "PRESIDÊNCIA DA REPÚBLICA"
        ],
        [
         "31",
         "MPV 1003/2020",
         "2021-02-04 00:00:00",
         "Event.APROVADA_URGENCIA",
         "PLEN",
         "senado",
         "CP:2263410",
         "SP:7987889",
         "CO:253",
         "SE:55126",
         "PODER EXECUTIVO",
         "PRESIDÊNCIA DA REPÚBLICA"
        ],
        [
         "32",
         "MPV 1003/2020",
         "2021-02-04 00:00:00",
         "Event.APROVADO_PLENARIO",
         "PLEN",
         "senado",
         "CP:2263410",
         "SP:7987889",
         "CO:253",
         "SE:55126",
         "PODER EXECUTIVO",
         "PRESIDÊNCIA DA REPÚBLICA"
        ],
        [
         "33",
         "MPV 1003/2020",
         "2021-02-04 09:33:00",
         "Event.APRESENTADO",
         "PLEN",
         "camara",
         "CP:2263410",
         "SP:7987889",
         "CO:253",
         "SE:55126",
         "PODER EXECUTIVO",
         "PRESIDÊNCIA DA REPÚBLICA"
        ],
        [
         "34",
         "MPV 1003/2020",
         "2021-02-09 00:00:00",
         "Event.RECEBIDO_COMISSAO",
         "MESA",
         "camara",
         "CP:2263410",
         "SP:7987889",
         "CO:253",
         "SE:55126",
         "PODER EXECUTIVO",
         "PRESIDÊNCIA DA REPÚBLICA"
        ],
        [
         "35",
         "MPV 1003/2020",
         "2021-02-18 15:42:00",
         "Event.APRESENTADO",
         "PLEN",
         "camara",
         "CP:2263410",
         "SP:7987889",
         "CO:253",
         "SE:55126",
         "PODER EXECUTIVO",
         "PRESIDÊNCIA DA REPÚBLICA"
        ],
        [
         "36",
         "MPV 1004/2020",
         "2020-09-24 00:00:00",
         "Event.APRESENTADO",
         "SF",
         "senado",
         "CP:2263411",
         "SP:7987895",
         "CO:253",
         "SE:55126",
         "PODER EXECUTIVO",
         "PRESIDÊNCIA DA REPÚBLICA"
        ],
        [
         "37",
         "MPV 1004/2020",
         "2020-09-24 09:35:00",
         "Event.APRESENTADO",
         "EXEC",
         "camara",
         "CP:2263411",
         "SP:7987895",
         "CO:253",
         "SE:55126",
         "PODER EXECUTIVO",
         "PRESIDÊNCIA DA REPÚBLICA"
        ],
        [
         "38",
         "MPV 1004/2020",
         "2020-09-29 00:00:00",
         "Event.RECEBIDO_COMISSAO",
         "MESA",
         "camara",
         "CP:2263411",
         "SP:7987895",
         "CO:253",
         "SE:55126",
         "PODER EXECUTIVO",
         "PRESIDÊNCIA DA REPÚBLICA"
        ],
        [
         "39",
         "MPV 1004/2020",
         "2020-09-29 00:00:00",
         "Event.APRESENTADO",
         "MESA",
         "camara",
         "CP:2263411",
         "SP:7987895",
         "CO:253",
         "SE:55126",
         "PODER EXECUTIVO",
         "PRESIDÊNCIA DA REPÚBLICA"
        ],
        [
         "40",
         "MPV 1004/2020",
         "2020-10-13 13:13:00",
         "Event.DISTRIBUIDO",
         "MESA",
         "camara",
         "CP:2263411",
         "SP:7987895",
         "CO:253",
         "SE:55126",
         "PODER EXECUTIVO",
         "PRESIDÊNCIA DA REPÚBLICA"
        ],
        [
         "41",
         "MPV 1004/2020",
         "2021-02-25 00:00:00",
         "Event.DESIGNADO_RELATOR_PLENARIO",
         "PLEN",
         "camara",
         "CP:2263411",
         "SP:7987895",
         "CO:253",
         "SE:55126",
         "PODER EXECUTIVO",
         "PRESIDÊNCIA DA REPÚBLICA"
        ],
        [
         "42",
         "MPV 1004/2020",
         "2021-03-02 00:00:00",
         "Event.APROVADO_PLENARIO",
         "PLEN",
         "camara",
         "CP:2263411",
         "SP:7987895",
         "CO:253",
         "SE:55126",
         "PODER EXECUTIVO",
         "PRESIDÊNCIA DA REPÚBLICA"
        ],
        [
         "43",
         "MPV 1004/2020",
         "2021-03-02 00:00:00",
         "Event.REMETIDO_AO_SENADO",
         "MESA",
         "camara",
         "CP:2263411",
         "SP:7987895",
         "CO:253",
         "SE:55126",
         "PODER EXECUTIVO",
         "PRESIDÊNCIA DA REPÚBLICA"
        ],
        [
         "44",
         "MPV 1004/2020",
         "2021-03-02 12:34:00",
         "Event.APRESENTADO",
         "MESA",
         "camara",
         "CP:2263411",
         "SP:7987895",
         "CO:253",
         "SE:55126",
         "PODER EXECUTIVO",
         "PRESIDÊNCIA DA REPÚBLICA"
        ],
        [
         "45",
         "MPV 1004/2020",
         "2021-03-02 15:00:00",
         "Event.APROVADO_PLENARIO",
         "PLEN",
         "camara",
         "CP:2263411",
         "SP:7987895",
         "CO:253",
         "SE:55126",
         "PODER EXECUTIVO",
         "PRESIDÊNCIA DA REPÚBLICA"
        ],
        [
         "46",
         "MPV 1004/2020",
         "2021-03-02 16:08:00",
         "Event.DESIGNADO_RELATOR_PLENARIO",
         "PLEN",
         "camara",
         "CP:2263411",
         "SP:7987895",
         "CO:253",
         "SE:55126",
         "PODER EXECUTIVO",
         "PRESIDÊNCIA DA REPÚBLICA"
        ],
        [
         "47",
         "MPV 1004/2020",
         "2021-03-03 00:00:00",
         "Event.RECEBIDO_COMISSAO",
         "MESA",
         "camara",
         "CP:2263411",
         "SP:7987895",
         "CO:253",
         "SE:55126",
         "PODER EXECUTIVO",
         "PRESIDÊNCIA DA REPÚBLICA"
        ],
        [
         "48",
         "MPV 1004/2020",
         "2021-03-03 00:00:00",
         "Event.RECEBIDO_COMISSAO",
         "PLEN",
         "senado",
         "CP:2263411",
         "SP:7987895",
         "CO:253",
         "SE:55126",
         "PODER EXECUTIVO",
         "PRESIDÊNCIA DA REPÚBLICA"
        ],
        [
         "49",
         "MPV 1004/2020",
         "2021-03-03 00:00:00",
         "Event.APROVADA_URGENCIA",
         "PLEN",
         "senado",
         "CP:2263411",
         "SP:7987895",
         "CO:253",
         "SE:55126",
         "PODER EXECUTIVO",
         "PRESIDÊNCIA DA REPÚBLICA"
        ]
       ],
       "shape": {
        "columns": 11,
        "rows": 212566
       }
      },
      "text/html": [
       "<div>\n",
       "<style scoped>\n",
       "    .dataframe tbody tr th:only-of-type {\n",
       "        vertical-align: middle;\n",
       "    }\n",
       "\n",
       "    .dataframe tbody tr th {\n",
       "        vertical-align: top;\n",
       "    }\n",
       "\n",
       "    .dataframe thead th {\n",
       "        text-align: right;\n",
       "    }\n",
       "</style>\n",
       "<table border=\"1\" class=\"dataframe\">\n",
       "  <thead>\n",
       "    <tr style=\"text-align: right;\">\n",
       "      <th></th>\n",
       "      <th>label</th>\n",
       "      <th>event_ts</th>\n",
       "      <th>event</th>\n",
       "      <th>event_loc</th>\n",
       "      <th>casa</th>\n",
       "      <th>prop_tag</th>\n",
       "      <th>proc_tag</th>\n",
       "      <th>auth_camara_tag</th>\n",
       "      <th>auth_senado_tag</th>\n",
       "      <th>auth_camara_label</th>\n",
       "      <th>auth_senado_label</th>\n",
       "    </tr>\n",
       "  </thead>\n",
       "  <tbody>\n",
       "    <tr>\n",
       "      <th>0</th>\n",
       "      <td>MPV 1000/2020</td>\n",
       "      <td>2020-09-03 00:00:00</td>\n",
       "      <td>Event.APRESENTADO</td>\n",
       "      <td>SF</td>\n",
       "      <td>senado</td>\n",
       "      <td>CP:2262062</td>\n",
       "      <td>SP:7979012</td>\n",
       "      <td>CO:253</td>\n",
       "      <td>SE:55126</td>\n",
       "      <td>PODER EXECUTIVO</td>\n",
       "      <td>PRESIDÊNCIA DA REPÚBLICA</td>\n",
       "    </tr>\n",
       "    <tr>\n",
       "      <th>1</th>\n",
       "      <td>MPV 1000/2020</td>\n",
       "      <td>2020-09-03 10:57:00</td>\n",
       "      <td>Event.APRESENTADO</td>\n",
       "      <td>EXEC</td>\n",
       "      <td>camara</td>\n",
       "      <td>CP:2262062</td>\n",
       "      <td>SP:7979012</td>\n",
       "      <td>CO:253</td>\n",
       "      <td>SE:55126</td>\n",
       "      <td>PODER EXECUTIVO</td>\n",
       "      <td>PRESIDÊNCIA DA REPÚBLICA</td>\n",
       "    </tr>\n",
       "    <tr>\n",
       "      <th>2</th>\n",
       "      <td>MPV 1000/2020</td>\n",
       "      <td>2020-09-09 00:00:00</td>\n",
       "      <td>Event.RECEBIDO_COMISSAO</td>\n",
       "      <td>MESA</td>\n",
       "      <td>camara</td>\n",
       "      <td>CP:2262062</td>\n",
       "      <td>SP:7979012</td>\n",
       "      <td>CO:253</td>\n",
       "      <td>SE:55126</td>\n",
       "      <td>PODER EXECUTIVO</td>\n",
       "      <td>PRESIDÊNCIA DA REPÚBLICA</td>\n",
       "    </tr>\n",
       "    <tr>\n",
       "      <th>3</th>\n",
       "      <td>MPV 1000/2020</td>\n",
       "      <td>2020-09-09 00:00:00</td>\n",
       "      <td>Event.APRESENTADO</td>\n",
       "      <td>MESA</td>\n",
       "      <td>camara</td>\n",
       "      <td>CP:2262062</td>\n",
       "      <td>SP:7979012</td>\n",
       "      <td>CO:253</td>\n",
       "      <td>SE:55126</td>\n",
       "      <td>PODER EXECUTIVO</td>\n",
       "      <td>PRESIDÊNCIA DA REPÚBLICA</td>\n",
       "    </tr>\n",
       "    <tr>\n",
       "      <th>4</th>\n",
       "      <td>MPV 1000/2020</td>\n",
       "      <td>2020-09-10 12:09:00</td>\n",
       "      <td>Event.DISTRIBUIDO</td>\n",
       "      <td>MESA</td>\n",
       "      <td>camara</td>\n",
       "      <td>CP:2262062</td>\n",
       "      <td>SP:7979012</td>\n",
       "      <td>CO:253</td>\n",
       "      <td>SE:55126</td>\n",
       "      <td>PODER EXECUTIVO</td>\n",
       "      <td>PRESIDÊNCIA DA REPÚBLICA</td>\n",
       "    </tr>\n",
       "    <tr>\n",
       "      <th>...</th>\n",
       "      <td>...</td>\n",
       "      <td>...</td>\n",
       "      <td>...</td>\n",
       "      <td>...</td>\n",
       "      <td>...</td>\n",
       "      <td>...</td>\n",
       "      <td>...</td>\n",
       "      <td>...</td>\n",
       "      <td>...</td>\n",
       "      <td>...</td>\n",
       "      <td>...</td>\n",
       "    </tr>\n",
       "    <tr>\n",
       "      <th>114703</th>\n",
       "      <td>PLV 8/2023</td>\n",
       "      <td>2023-03-30 17:23:00</td>\n",
       "      <td>Event.APRESENTADO</td>\n",
       "      <td>MPV115222</td>\n",
       "      <td>camara</td>\n",
       "      <td>CP:2354532</td>\n",
       "      <td>NaN</td>\n",
       "      <td>CD:204355</td>\n",
       "      <td>NaN</td>\n",
       "      <td>JOSIAS MARIO DA VITORIA</td>\n",
       "      <td>NaN</td>\n",
       "    </tr>\n",
       "    <tr>\n",
       "      <th>114704</th>\n",
       "      <td>PLV 9/2020</td>\n",
       "      <td>2020-04-29 22:15:00</td>\n",
       "      <td>Event.APRESENTADO</td>\n",
       "      <td>PLEN</td>\n",
       "      <td>camara</td>\n",
       "      <td>CP:2250966</td>\n",
       "      <td>NaN</td>\n",
       "      <td>CD:141531</td>\n",
       "      <td>NaN</td>\n",
       "      <td>RODRIGO BATISTA DE CASTRO</td>\n",
       "      <td>NaN</td>\n",
       "    </tr>\n",
       "    <tr>\n",
       "      <th>114705</th>\n",
       "      <td>PLV 9/2021</td>\n",
       "      <td>2021-05-25 19:23:00</td>\n",
       "      <td>Event.APRESENTADO</td>\n",
       "      <td>PLEN</td>\n",
       "      <td>camara</td>\n",
       "      <td>CP:2284649</td>\n",
       "      <td>NaN</td>\n",
       "      <td>CD:204569</td>\n",
       "      <td>NaN</td>\n",
       "      <td>PABLO OLIVA SOUZA</td>\n",
       "      <td>NaN</td>\n",
       "    </tr>\n",
       "    <tr>\n",
       "      <th>114706</th>\n",
       "      <td>PLV 9/2022</td>\n",
       "      <td>2022-05-11 17:23:00</td>\n",
       "      <td>Event.APRESENTADO</td>\n",
       "      <td>MPV108021</td>\n",
       "      <td>camara</td>\n",
       "      <td>CP:2322707</td>\n",
       "      <td>NaN</td>\n",
       "      <td>CD:178881</td>\n",
       "      <td>NaN</td>\n",
       "      <td>ALUISIO GUIMARAES MENDES FILHO</td>\n",
       "      <td>NaN</td>\n",
       "    </tr>\n",
       "    <tr>\n",
       "      <th>114707</th>\n",
       "      <td>PLV 9/2023</td>\n",
       "      <td>2023-04-25 19:30:00</td>\n",
       "      <td>Event.APRESENTADO</td>\n",
       "      <td>PLEN</td>\n",
       "      <td>camara</td>\n",
       "      <td>CP:2358303</td>\n",
       "      <td>NaN</td>\n",
       "      <td>CO:102594</td>\n",
       "      <td>NaN</td>\n",
       "      <td>COMISSÃO MISTA DA MPV 1147/2022</td>\n",
       "      <td>NaN</td>\n",
       "    </tr>\n",
       "  </tbody>\n",
       "</table>\n",
       "<p>212566 rows × 11 columns</p>\n",
       "</div>"
      ],
      "text/plain": [
       "                label            event_ts                    event  event_loc  \\\n",
       "0       MPV 1000/2020 2020-09-03 00:00:00        Event.APRESENTADO         SF   \n",
       "1       MPV 1000/2020 2020-09-03 10:57:00        Event.APRESENTADO       EXEC   \n",
       "2       MPV 1000/2020 2020-09-09 00:00:00  Event.RECEBIDO_COMISSAO       MESA   \n",
       "3       MPV 1000/2020 2020-09-09 00:00:00        Event.APRESENTADO       MESA   \n",
       "4       MPV 1000/2020 2020-09-10 12:09:00        Event.DISTRIBUIDO       MESA   \n",
       "...               ...                 ...                      ...        ...   \n",
       "114703     PLV 8/2023 2023-03-30 17:23:00        Event.APRESENTADO  MPV115222   \n",
       "114704     PLV 9/2020 2020-04-29 22:15:00        Event.APRESENTADO       PLEN   \n",
       "114705     PLV 9/2021 2021-05-25 19:23:00        Event.APRESENTADO       PLEN   \n",
       "114706     PLV 9/2022 2022-05-11 17:23:00        Event.APRESENTADO  MPV108021   \n",
       "114707     PLV 9/2023 2023-04-25 19:30:00        Event.APRESENTADO       PLEN   \n",
       "\n",
       "          casa    prop_tag    proc_tag auth_camara_tag auth_senado_tag  \\\n",
       "0       senado  CP:2262062  SP:7979012          CO:253        SE:55126   \n",
       "1       camara  CP:2262062  SP:7979012          CO:253        SE:55126   \n",
       "2       camara  CP:2262062  SP:7979012          CO:253        SE:55126   \n",
       "3       camara  CP:2262062  SP:7979012          CO:253        SE:55126   \n",
       "4       camara  CP:2262062  SP:7979012          CO:253        SE:55126   \n",
       "...        ...         ...         ...             ...             ...   \n",
       "114703  camara  CP:2354532         NaN       CD:204355             NaN   \n",
       "114704  camara  CP:2250966         NaN       CD:141531             NaN   \n",
       "114705  camara  CP:2284649         NaN       CD:204569             NaN   \n",
       "114706  camara  CP:2322707         NaN       CD:178881             NaN   \n",
       "114707  camara  CP:2358303         NaN       CO:102594             NaN   \n",
       "\n",
       "                      auth_camara_label         auth_senado_label  \n",
       "0                       PODER EXECUTIVO  PRESIDÊNCIA DA REPÚBLICA  \n",
       "1                       PODER EXECUTIVO  PRESIDÊNCIA DA REPÚBLICA  \n",
       "2                       PODER EXECUTIVO  PRESIDÊNCIA DA REPÚBLICA  \n",
       "3                       PODER EXECUTIVO  PRESIDÊNCIA DA REPÚBLICA  \n",
       "4                       PODER EXECUTIVO  PRESIDÊNCIA DA REPÚBLICA  \n",
       "...                                 ...                       ...  \n",
       "114703          JOSIAS MARIO DA VITORIA                       NaN  \n",
       "114704        RODRIGO BATISTA DE CASTRO                       NaN  \n",
       "114705                PABLO OLIVA SOUZA                       NaN  \n",
       "114706   ALUISIO GUIMARAES MENDES FILHO                       NaN  \n",
       "114707  COMISSÃO MISTA DA MPV 1147/2022                       NaN  \n",
       "\n",
       "[212566 rows x 11 columns]"
      ]
     },
     "execution_count": 5,
     "metadata": {},
     "output_type": "execute_result"
    }
   ],
   "source": [
    "# agregamos as autorias aos eventos\n",
    "\n",
    "event_labeled_df = event_df.join(\n",
    "    edges_df[edges_df['etype'] == 'autoria'].set_index('target')[['source']], on=\"prop_tag\"\n",
    ").rename(columns={'source': 'auth_camara_tag'}).join(\n",
    "    edges_df[edges_df['etype'] == 'autoria'].set_index('target')[['source']], on=\"proc_tag\"\n",
    ").rename(columns={'source': 'auth_senado_tag'}).join(\n",
    "    nodes_df.set_index('tag')[['label']], on=\"auth_camara_tag\", rsuffix=\"_auth\"\n",
    ").rename(columns={'label_auth': 'auth_camara_label'}).join(\n",
    "    nodes_df.set_index('tag')[['label']], on=\"auth_senado_tag\", rsuffix=\"_auth\"\n",
    ").rename(columns={'label_auth': 'auth_senado_label'})\n",
    "event_labeled_df"
   ]
  },
  {
   "cell_type": "code",
   "execution_count": 6,
   "id": "f775f5c8",
   "metadata": {},
   "outputs": [],
   "source": [
    "# como agora temos uma fileira para cada autor, vamos manter apenas o primeiro (só precisamos saber de onde sai cada projeto)\n",
    "\n",
    "event_labeled_df = event_labeled_df[event_labeled_df[['label', 'event_ts', 'event', 'event_loc']].ne(\n",
    "    event_labeled_df[['label', 'event_ts', 'event', 'event_loc']].shift()\n",
    ").any(axis=1)].reset_index(drop=True)"
   ]
  },
  {
   "cell_type": "code",
   "execution_count": 7,
   "id": "70205ef2",
   "metadata": {},
   "outputs": [],
   "source": [
    "for col in event_labeled_df.columns:\n",
    "    if col.endswith(\"_tag\"):\n",
    "        event_labeled_df[col] = event_labeled_df[col].str.strip().str.upper()\n",
    "\n",
    "event_labeled_df = event_labeled_df.fillna('')"
   ]
  },
  {
   "cell_type": "code",
   "execution_count": 8,
   "id": "1f05299d",
   "metadata": {},
   "outputs": [
    {
     "data": {
      "application/vnd.microsoft.datawrangler.viewer.v0+json": {
       "columns": [
        {
         "name": "index",
         "rawType": "int64",
         "type": "integer"
        },
        {
         "name": "label",
         "rawType": "object",
         "type": "string"
        },
        {
         "name": "event_ts",
         "rawType": "datetime64[ns]",
         "type": "datetime"
        },
        {
         "name": "event",
         "rawType": "object",
         "type": "unknown"
        },
        {
         "name": "event_loc",
         "rawType": "object",
         "type": "string"
        },
        {
         "name": "casa",
         "rawType": "object",
         "type": "string"
        },
        {
         "name": "prop_tag",
         "rawType": "object",
         "type": "string"
        },
        {
         "name": "proc_tag",
         "rawType": "object",
         "type": "string"
        },
        {
         "name": "auth_camara_tag",
         "rawType": "object",
         "type": "string"
        },
        {
         "name": "auth_senado_tag",
         "rawType": "object",
         "type": "string"
        },
        {
         "name": "auth_camara_label",
         "rawType": "object",
         "type": "string"
        },
        {
         "name": "auth_senado_label",
         "rawType": "object",
         "type": "string"
        },
        {
         "name": "origem",
         "rawType": "object",
         "type": "string"
        }
       ],
       "ref": "b1aa18e4-99bc-4763-bf55-a838766bfd26",
       "rows": [
        [
         "0",
         "MPV 1000/2020",
         "2020-09-03 00:00:00",
         "Event.APRESENTADO",
         "SF",
         "senado",
         "CP:2262062",
         "SP:7979012",
         "CO:253",
         "SE:55126",
         "PODER EXECUTIVO",
         "PRESIDÊNCIA DA REPÚBLICA",
         "externo"
        ],
        [
         "1",
         "MPV 1000/2020",
         "2020-09-03 10:57:00",
         "Event.APRESENTADO",
         "EXEC",
         "camara",
         "CP:2262062",
         "SP:7979012",
         "CO:253",
         "SE:55126",
         "PODER EXECUTIVO",
         "PRESIDÊNCIA DA REPÚBLICA",
         "externo"
        ],
        [
         "2",
         "MPV 1000/2020",
         "2020-09-09 00:00:00",
         "Event.RECEBIDO_COMISSAO",
         "MESA",
         "camara",
         "CP:2262062",
         "SP:7979012",
         "CO:253",
         "SE:55126",
         "PODER EXECUTIVO",
         "PRESIDÊNCIA DA REPÚBLICA",
         "externo"
        ],
        [
         "3",
         "MPV 1000/2020",
         "2020-09-09 00:00:00",
         "Event.APRESENTADO",
         "MESA",
         "camara",
         "CP:2262062",
         "SP:7979012",
         "CO:253",
         "SE:55126",
         "PODER EXECUTIVO",
         "PRESIDÊNCIA DA REPÚBLICA",
         "externo"
        ],
        [
         "4",
         "MPV 1000/2020",
         "2020-09-10 12:09:00",
         "Event.DISTRIBUIDO",
         "MESA",
         "camara",
         "CP:2262062",
         "SP:7979012",
         "CO:253",
         "SE:55126",
         "PODER EXECUTIVO",
         "PRESIDÊNCIA DA REPÚBLICA",
         "externo"
        ],
        [
         "5",
         "MPV 1000/2020",
         "2020-12-17 00:00:00",
         "Event.DESIGNADO_RELATOR_PLENARIO",
         "PLEN",
         "camara",
         "CP:2262062",
         "SP:7979012",
         "CO:253",
         "SE:55126",
         "PODER EXECUTIVO",
         "PRESIDÊNCIA DA REPÚBLICA",
         "externo"
        ],
        [
         "6",
         "MPV 1001/2020",
         "2020-09-15 00:00:00",
         "Event.APRESENTADO",
         "SF",
         "senado",
         "CP:2262906",
         "SP:7983532",
         "CO:253",
         "SE:55126",
         "PODER EXECUTIVO",
         "PRESIDÊNCIA DA REPÚBLICA",
         "externo"
        ],
        [
         "7",
         "MPV 1001/2020",
         "2020-09-15 10:00:00",
         "Event.APRESENTADO",
         "EXEC",
         "camara",
         "CP:2262906",
         "SP:7983532",
         "CO:253",
         "SE:55126",
         "PODER EXECUTIVO",
         "PRESIDÊNCIA DA REPÚBLICA",
         "externo"
        ],
        [
         "8",
         "MPV 1001/2020",
         "2020-09-18 00:00:00",
         "Event.RECEBIDO_COMISSAO",
         "MESA",
         "camara",
         "CP:2262906",
         "SP:7983532",
         "CO:253",
         "SE:55126",
         "PODER EXECUTIVO",
         "PRESIDÊNCIA DA REPÚBLICA",
         "externo"
        ],
        [
         "9",
         "MPV 1001/2020",
         "2020-09-21 10:47:00",
         "Event.APRESENTADO",
         "MESA",
         "camara",
         "CP:2262906",
         "SP:7983532",
         "CO:253",
         "SE:55126",
         "PODER EXECUTIVO",
         "PRESIDÊNCIA DA REPÚBLICA",
         "externo"
        ],
        [
         "10",
         "MPV 1001/2020",
         "2020-09-22 17:25:00",
         "Event.DISTRIBUIDO",
         "MESA",
         "camara",
         "CP:2262906",
         "SP:7983532",
         "CO:253",
         "SE:55126",
         "PODER EXECUTIVO",
         "PRESIDÊNCIA DA REPÚBLICA",
         "externo"
        ],
        [
         "11",
         "MPV 1002/2020",
         "2020-09-24 00:00:00",
         "Event.APRESENTADO",
         "SF",
         "senado",
         "CP:2263381",
         "SP:7987460",
         "CO:253",
         "SE:55126",
         "PODER EXECUTIVO",
         "PRESIDÊNCIA DA REPÚBLICA",
         "externo"
        ],
        [
         "12",
         "MPV 1002/2020",
         "2020-09-24 11:00:00",
         "Event.APRESENTADO",
         "EXEC",
         "camara",
         "CP:2263381",
         "SP:7987460",
         "CO:253",
         "SE:55126",
         "PODER EXECUTIVO",
         "PRESIDÊNCIA DA REPÚBLICA",
         "externo"
        ],
        [
         "13",
         "MPV 1002/2020",
         "2020-09-29 00:00:00",
         "Event.RECEBIDO_COMISSAO",
         "MESA",
         "camara",
         "CP:2263381",
         "SP:7987460",
         "CO:253",
         "SE:55126",
         "PODER EXECUTIVO",
         "PRESIDÊNCIA DA REPÚBLICA",
         "externo"
        ],
        [
         "14",
         "MPV 1002/2020",
         "2020-09-29 00:00:00",
         "Event.APRESENTADO",
         "MESA",
         "camara",
         "CP:2263381",
         "SP:7987460",
         "CO:253",
         "SE:55126",
         "PODER EXECUTIVO",
         "PRESIDÊNCIA DA REPÚBLICA",
         "externo"
        ],
        [
         "15",
         "MPV 1002/2020",
         "2020-10-13 13:10:00",
         "Event.DISTRIBUIDO",
         "MESA",
         "camara",
         "CP:2263381",
         "SP:7987460",
         "CO:253",
         "SE:55126",
         "PODER EXECUTIVO",
         "PRESIDÊNCIA DA REPÚBLICA",
         "externo"
        ],
        [
         "16",
         "MPV 1003/2020",
         "2020-09-24 00:00:00",
         "Event.APRESENTADO",
         "SF",
         "senado",
         "CP:2263410",
         "SP:7987889",
         "CO:253",
         "SE:55126",
         "PODER EXECUTIVO",
         "PRESIDÊNCIA DA REPÚBLICA",
         "externo"
        ],
        [
         "17",
         "MPV 1003/2020",
         "2020-09-24 09:35:00",
         "Event.APRESENTADO",
         "EXEC",
         "camara",
         "CP:2263410",
         "SP:7987889",
         "CO:253",
         "SE:55126",
         "PODER EXECUTIVO",
         "PRESIDÊNCIA DA REPÚBLICA",
         "externo"
        ],
        [
         "18",
         "MPV 1003/2020",
         "2020-09-29 00:00:00",
         "Event.RECEBIDO_COMISSAO",
         "MESA",
         "camara",
         "CP:2263410",
         "SP:7987889",
         "CO:253",
         "SE:55126",
         "PODER EXECUTIVO",
         "PRESIDÊNCIA DA REPÚBLICA",
         "externo"
        ],
        [
         "19",
         "MPV 1003/2020",
         "2020-09-29 00:00:00",
         "Event.APRESENTADO",
         "MESA",
         "camara",
         "CP:2263410",
         "SP:7987889",
         "CO:253",
         "SE:55126",
         "PODER EXECUTIVO",
         "PRESIDÊNCIA DA REPÚBLICA",
         "externo"
        ],
        [
         "20",
         "MPV 1003/2020",
         "2020-10-13 00:00:00",
         "Event.DESIGNADO_RELATOR_PLENARIO",
         "PLEN",
         "camara",
         "CP:2263410",
         "SP:7987889",
         "CO:253",
         "SE:55126",
         "PODER EXECUTIVO",
         "PRESIDÊNCIA DA REPÚBLICA",
         "externo"
        ],
        [
         "21",
         "MPV 1003/2020",
         "2020-10-13 13:12:00",
         "Event.DISTRIBUIDO",
         "MESA",
         "camara",
         "CP:2263410",
         "SP:7987889",
         "CO:253",
         "SE:55126",
         "PODER EXECUTIVO",
         "PRESIDÊNCIA DA REPÚBLICA",
         "externo"
        ],
        [
         "22",
         "MPV 1003/2020",
         "2020-12-18 00:00:00",
         "Event.APROVADO_PLENARIO",
         "PLEN",
         "camara",
         "CP:2263410",
         "SP:7987889",
         "CO:253",
         "SE:55126",
         "PODER EXECUTIVO",
         "PRESIDÊNCIA DA REPÚBLICA",
         "externo"
        ],
        [
         "23",
         "MPV 1003/2020",
         "2020-12-18 00:00:00",
         "Event.APRESENTADO",
         "MESA",
         "camara",
         "CP:2263410",
         "SP:7987889",
         "CO:253",
         "SE:55126",
         "PODER EXECUTIVO",
         "PRESIDÊNCIA DA REPÚBLICA",
         "externo"
        ],
        [
         "24",
         "MPV 1003/2020",
         "2020-12-18 11:00:00",
         "Event.APROVADO_PLENARIO",
         "PLEN",
         "camara",
         "CP:2263410",
         "SP:7987889",
         "CO:253",
         "SE:55126",
         "PODER EXECUTIVO",
         "PRESIDÊNCIA DA REPÚBLICA",
         "externo"
        ],
        [
         "25",
         "MPV 1003/2020",
         "2020-12-18 12:12:00",
         "Event.DESIGNADO_RELATOR_PLENARIO",
         "PLEN",
         "camara",
         "CP:2263410",
         "SP:7987889",
         "CO:253",
         "SE:55126",
         "PODER EXECUTIVO",
         "PRESIDÊNCIA DA REPÚBLICA",
         "externo"
        ],
        [
         "26",
         "MPV 1003/2020",
         "2020-12-18 17:32:00",
         "Event.APROVADO_PLENARIO",
         "PLEN",
         "camara",
         "CP:2263410",
         "SP:7987889",
         "CO:253",
         "SE:55126",
         "PODER EXECUTIVO",
         "PRESIDÊNCIA DA REPÚBLICA",
         "externo"
        ],
        [
         "27",
         "MPV 1003/2020",
         "2020-12-18 17:48:00",
         "Event.APRESENTADO",
         "PLEN",
         "camara",
         "CP:2263410",
         "SP:7987889",
         "CO:253",
         "SE:55126",
         "PODER EXECUTIVO",
         "PRESIDÊNCIA DA REPÚBLICA",
         "externo"
        ],
        [
         "28",
         "MPV 1003/2020",
         "2020-12-21 00:00:00",
         "Event.REMETIDO_AO_SENADO",
         "MESA",
         "camara",
         "CP:2263410",
         "SP:7987889",
         "CO:253",
         "SE:55126",
         "PODER EXECUTIVO",
         "PRESIDÊNCIA DA REPÚBLICA",
         "externo"
        ],
        [
         "29",
         "MPV 1003/2020",
         "2020-12-21 13:27:00",
         "Event.APRESENTADO",
         "PLEN",
         "camara",
         "CP:2263410",
         "SP:7987889",
         "CO:253",
         "SE:55126",
         "PODER EXECUTIVO",
         "PRESIDÊNCIA DA REPÚBLICA",
         "externo"
        ],
        [
         "30",
         "MPV 1003/2020",
         "2021-02-04 00:00:00",
         "Event.RECEBIDO_COMISSAO",
         "PLEN",
         "senado",
         "CP:2263410",
         "SP:7987889",
         "CO:253",
         "SE:55126",
         "PODER EXECUTIVO",
         "PRESIDÊNCIA DA REPÚBLICA",
         "externo"
        ],
        [
         "31",
         "MPV 1003/2020",
         "2021-02-04 00:00:00",
         "Event.APROVADA_URGENCIA",
         "PLEN",
         "senado",
         "CP:2263410",
         "SP:7987889",
         "CO:253",
         "SE:55126",
         "PODER EXECUTIVO",
         "PRESIDÊNCIA DA REPÚBLICA",
         "externo"
        ],
        [
         "32",
         "MPV 1003/2020",
         "2021-02-04 00:00:00",
         "Event.APROVADO_PLENARIO",
         "PLEN",
         "senado",
         "CP:2263410",
         "SP:7987889",
         "CO:253",
         "SE:55126",
         "PODER EXECUTIVO",
         "PRESIDÊNCIA DA REPÚBLICA",
         "externo"
        ],
        [
         "33",
         "MPV 1003/2020",
         "2021-02-04 09:33:00",
         "Event.APRESENTADO",
         "PLEN",
         "camara",
         "CP:2263410",
         "SP:7987889",
         "CO:253",
         "SE:55126",
         "PODER EXECUTIVO",
         "PRESIDÊNCIA DA REPÚBLICA",
         "externo"
        ],
        [
         "34",
         "MPV 1003/2020",
         "2021-02-09 00:00:00",
         "Event.RECEBIDO_COMISSAO",
         "MESA",
         "camara",
         "CP:2263410",
         "SP:7987889",
         "CO:253",
         "SE:55126",
         "PODER EXECUTIVO",
         "PRESIDÊNCIA DA REPÚBLICA",
         "externo"
        ],
        [
         "35",
         "MPV 1003/2020",
         "2021-02-18 15:42:00",
         "Event.APRESENTADO",
         "PLEN",
         "camara",
         "CP:2263410",
         "SP:7987889",
         "CO:253",
         "SE:55126",
         "PODER EXECUTIVO",
         "PRESIDÊNCIA DA REPÚBLICA",
         "externo"
        ],
        [
         "36",
         "MPV 1004/2020",
         "2020-09-24 00:00:00",
         "Event.APRESENTADO",
         "SF",
         "senado",
         "CP:2263411",
         "SP:7987895",
         "CO:253",
         "SE:55126",
         "PODER EXECUTIVO",
         "PRESIDÊNCIA DA REPÚBLICA",
         "externo"
        ],
        [
         "37",
         "MPV 1004/2020",
         "2020-09-24 09:35:00",
         "Event.APRESENTADO",
         "EXEC",
         "camara",
         "CP:2263411",
         "SP:7987895",
         "CO:253",
         "SE:55126",
         "PODER EXECUTIVO",
         "PRESIDÊNCIA DA REPÚBLICA",
         "externo"
        ],
        [
         "38",
         "MPV 1004/2020",
         "2020-09-29 00:00:00",
         "Event.RECEBIDO_COMISSAO",
         "MESA",
         "camara",
         "CP:2263411",
         "SP:7987895",
         "CO:253",
         "SE:55126",
         "PODER EXECUTIVO",
         "PRESIDÊNCIA DA REPÚBLICA",
         "externo"
        ],
        [
         "39",
         "MPV 1004/2020",
         "2020-09-29 00:00:00",
         "Event.APRESENTADO",
         "MESA",
         "camara",
         "CP:2263411",
         "SP:7987895",
         "CO:253",
         "SE:55126",
         "PODER EXECUTIVO",
         "PRESIDÊNCIA DA REPÚBLICA",
         "externo"
        ],
        [
         "40",
         "MPV 1004/2020",
         "2020-10-13 13:13:00",
         "Event.DISTRIBUIDO",
         "MESA",
         "camara",
         "CP:2263411",
         "SP:7987895",
         "CO:253",
         "SE:55126",
         "PODER EXECUTIVO",
         "PRESIDÊNCIA DA REPÚBLICA",
         "externo"
        ],
        [
         "41",
         "MPV 1004/2020",
         "2021-02-25 00:00:00",
         "Event.DESIGNADO_RELATOR_PLENARIO",
         "PLEN",
         "camara",
         "CP:2263411",
         "SP:7987895",
         "CO:253",
         "SE:55126",
         "PODER EXECUTIVO",
         "PRESIDÊNCIA DA REPÚBLICA",
         "externo"
        ],
        [
         "42",
         "MPV 1004/2020",
         "2021-03-02 00:00:00",
         "Event.APROVADO_PLENARIO",
         "PLEN",
         "camara",
         "CP:2263411",
         "SP:7987895",
         "CO:253",
         "SE:55126",
         "PODER EXECUTIVO",
         "PRESIDÊNCIA DA REPÚBLICA",
         "externo"
        ],
        [
         "43",
         "MPV 1004/2020",
         "2021-03-02 00:00:00",
         "Event.REMETIDO_AO_SENADO",
         "MESA",
         "camara",
         "CP:2263411",
         "SP:7987895",
         "CO:253",
         "SE:55126",
         "PODER EXECUTIVO",
         "PRESIDÊNCIA DA REPÚBLICA",
         "externo"
        ],
        [
         "44",
         "MPV 1004/2020",
         "2021-03-02 12:34:00",
         "Event.APRESENTADO",
         "MESA",
         "camara",
         "CP:2263411",
         "SP:7987895",
         "CO:253",
         "SE:55126",
         "PODER EXECUTIVO",
         "PRESIDÊNCIA DA REPÚBLICA",
         "externo"
        ],
        [
         "45",
         "MPV 1004/2020",
         "2021-03-02 15:00:00",
         "Event.APROVADO_PLENARIO",
         "PLEN",
         "camara",
         "CP:2263411",
         "SP:7987895",
         "CO:253",
         "SE:55126",
         "PODER EXECUTIVO",
         "PRESIDÊNCIA DA REPÚBLICA",
         "externo"
        ],
        [
         "46",
         "MPV 1004/2020",
         "2021-03-02 16:08:00",
         "Event.DESIGNADO_RELATOR_PLENARIO",
         "PLEN",
         "camara",
         "CP:2263411",
         "SP:7987895",
         "CO:253",
         "SE:55126",
         "PODER EXECUTIVO",
         "PRESIDÊNCIA DA REPÚBLICA",
         "externo"
        ],
        [
         "47",
         "MPV 1004/2020",
         "2021-03-03 00:00:00",
         "Event.RECEBIDO_COMISSAO",
         "MESA",
         "camara",
         "CP:2263411",
         "SP:7987895",
         "CO:253",
         "SE:55126",
         "PODER EXECUTIVO",
         "PRESIDÊNCIA DA REPÚBLICA",
         "externo"
        ],
        [
         "48",
         "MPV 1004/2020",
         "2021-03-03 00:00:00",
         "Event.RECEBIDO_COMISSAO",
         "PLEN",
         "senado",
         "CP:2263411",
         "SP:7987895",
         "CO:253",
         "SE:55126",
         "PODER EXECUTIVO",
         "PRESIDÊNCIA DA REPÚBLICA",
         "externo"
        ],
        [
         "49",
         "MPV 1004/2020",
         "2021-03-03 00:00:00",
         "Event.APROVADA_URGENCIA",
         "PLEN",
         "senado",
         "CP:2263411",
         "SP:7987895",
         "CO:253",
         "SE:55126",
         "PODER EXECUTIVO",
         "PRESIDÊNCIA DA REPÚBLICA",
         "externo"
        ]
       ],
       "shape": {
        "columns": 12,
        "rows": 114811
       }
      },
      "text/html": [
       "<div>\n",
       "<style scoped>\n",
       "    .dataframe tbody tr th:only-of-type {\n",
       "        vertical-align: middle;\n",
       "    }\n",
       "\n",
       "    .dataframe tbody tr th {\n",
       "        vertical-align: top;\n",
       "    }\n",
       "\n",
       "    .dataframe thead th {\n",
       "        text-align: right;\n",
       "    }\n",
       "</style>\n",
       "<table border=\"1\" class=\"dataframe\">\n",
       "  <thead>\n",
       "    <tr style=\"text-align: right;\">\n",
       "      <th></th>\n",
       "      <th>label</th>\n",
       "      <th>event_ts</th>\n",
       "      <th>event</th>\n",
       "      <th>event_loc</th>\n",
       "      <th>casa</th>\n",
       "      <th>prop_tag</th>\n",
       "      <th>proc_tag</th>\n",
       "      <th>auth_camara_tag</th>\n",
       "      <th>auth_senado_tag</th>\n",
       "      <th>auth_camara_label</th>\n",
       "      <th>auth_senado_label</th>\n",
       "      <th>origem</th>\n",
       "    </tr>\n",
       "  </thead>\n",
       "  <tbody>\n",
       "    <tr>\n",
       "      <th>0</th>\n",
       "      <td>MPV 1000/2020</td>\n",
       "      <td>2020-09-03 00:00:00</td>\n",
       "      <td>Event.APRESENTADO</td>\n",
       "      <td>SF</td>\n",
       "      <td>senado</td>\n",
       "      <td>CP:2262062</td>\n",
       "      <td>SP:7979012</td>\n",
       "      <td>CO:253</td>\n",
       "      <td>SE:55126</td>\n",
       "      <td>PODER EXECUTIVO</td>\n",
       "      <td>PRESIDÊNCIA DA REPÚBLICA</td>\n",
       "      <td>externo</td>\n",
       "    </tr>\n",
       "    <tr>\n",
       "      <th>1</th>\n",
       "      <td>MPV 1000/2020</td>\n",
       "      <td>2020-09-03 10:57:00</td>\n",
       "      <td>Event.APRESENTADO</td>\n",
       "      <td>EXEC</td>\n",
       "      <td>camara</td>\n",
       "      <td>CP:2262062</td>\n",
       "      <td>SP:7979012</td>\n",
       "      <td>CO:253</td>\n",
       "      <td>SE:55126</td>\n",
       "      <td>PODER EXECUTIVO</td>\n",
       "      <td>PRESIDÊNCIA DA REPÚBLICA</td>\n",
       "      <td>externo</td>\n",
       "    </tr>\n",
       "    <tr>\n",
       "      <th>2</th>\n",
       "      <td>MPV 1000/2020</td>\n",
       "      <td>2020-09-09 00:00:00</td>\n",
       "      <td>Event.RECEBIDO_COMISSAO</td>\n",
       "      <td>MESA</td>\n",
       "      <td>camara</td>\n",
       "      <td>CP:2262062</td>\n",
       "      <td>SP:7979012</td>\n",
       "      <td>CO:253</td>\n",
       "      <td>SE:55126</td>\n",
       "      <td>PODER EXECUTIVO</td>\n",
       "      <td>PRESIDÊNCIA DA REPÚBLICA</td>\n",
       "      <td>externo</td>\n",
       "    </tr>\n",
       "    <tr>\n",
       "      <th>3</th>\n",
       "      <td>MPV 1000/2020</td>\n",
       "      <td>2020-09-09 00:00:00</td>\n",
       "      <td>Event.APRESENTADO</td>\n",
       "      <td>MESA</td>\n",
       "      <td>camara</td>\n",
       "      <td>CP:2262062</td>\n",
       "      <td>SP:7979012</td>\n",
       "      <td>CO:253</td>\n",
       "      <td>SE:55126</td>\n",
       "      <td>PODER EXECUTIVO</td>\n",
       "      <td>PRESIDÊNCIA DA REPÚBLICA</td>\n",
       "      <td>externo</td>\n",
       "    </tr>\n",
       "    <tr>\n",
       "      <th>4</th>\n",
       "      <td>MPV 1000/2020</td>\n",
       "      <td>2020-09-10 12:09:00</td>\n",
       "      <td>Event.DISTRIBUIDO</td>\n",
       "      <td>MESA</td>\n",
       "      <td>camara</td>\n",
       "      <td>CP:2262062</td>\n",
       "      <td>SP:7979012</td>\n",
       "      <td>CO:253</td>\n",
       "      <td>SE:55126</td>\n",
       "      <td>PODER EXECUTIVO</td>\n",
       "      <td>PRESIDÊNCIA DA REPÚBLICA</td>\n",
       "      <td>externo</td>\n",
       "    </tr>\n",
       "    <tr>\n",
       "      <th>...</th>\n",
       "      <td>...</td>\n",
       "      <td>...</td>\n",
       "      <td>...</td>\n",
       "      <td>...</td>\n",
       "      <td>...</td>\n",
       "      <td>...</td>\n",
       "      <td>...</td>\n",
       "      <td>...</td>\n",
       "      <td>...</td>\n",
       "      <td>...</td>\n",
       "      <td>...</td>\n",
       "      <td>...</td>\n",
       "    </tr>\n",
       "    <tr>\n",
       "      <th>114806</th>\n",
       "      <td>PLV 8/2023</td>\n",
       "      <td>2023-03-30 17:23:00</td>\n",
       "      <td>Event.APRESENTADO</td>\n",
       "      <td>MPV115222</td>\n",
       "      <td>camara</td>\n",
       "      <td>CP:2354532</td>\n",
       "      <td></td>\n",
       "      <td>CD:204355</td>\n",
       "      <td></td>\n",
       "      <td>JOSIAS MARIO DA VITORIA</td>\n",
       "      <td></td>\n",
       "      <td>camara</td>\n",
       "    </tr>\n",
       "    <tr>\n",
       "      <th>114807</th>\n",
       "      <td>PLV 9/2020</td>\n",
       "      <td>2020-04-29 22:15:00</td>\n",
       "      <td>Event.APRESENTADO</td>\n",
       "      <td>PLEN</td>\n",
       "      <td>camara</td>\n",
       "      <td>CP:2250966</td>\n",
       "      <td></td>\n",
       "      <td>CD:141531</td>\n",
       "      <td></td>\n",
       "      <td>RODRIGO BATISTA DE CASTRO</td>\n",
       "      <td></td>\n",
       "      <td>camara</td>\n",
       "    </tr>\n",
       "    <tr>\n",
       "      <th>114808</th>\n",
       "      <td>PLV 9/2021</td>\n",
       "      <td>2021-05-25 19:23:00</td>\n",
       "      <td>Event.APRESENTADO</td>\n",
       "      <td>PLEN</td>\n",
       "      <td>camara</td>\n",
       "      <td>CP:2284649</td>\n",
       "      <td></td>\n",
       "      <td>CD:204569</td>\n",
       "      <td></td>\n",
       "      <td>PABLO OLIVA SOUZA</td>\n",
       "      <td></td>\n",
       "      <td>camara</td>\n",
       "    </tr>\n",
       "    <tr>\n",
       "      <th>114809</th>\n",
       "      <td>PLV 9/2022</td>\n",
       "      <td>2022-05-11 17:23:00</td>\n",
       "      <td>Event.APRESENTADO</td>\n",
       "      <td>MPV108021</td>\n",
       "      <td>camara</td>\n",
       "      <td>CP:2322707</td>\n",
       "      <td></td>\n",
       "      <td>CD:178881</td>\n",
       "      <td></td>\n",
       "      <td>ALUISIO GUIMARAES MENDES FILHO</td>\n",
       "      <td></td>\n",
       "      <td>camara</td>\n",
       "    </tr>\n",
       "    <tr>\n",
       "      <th>114810</th>\n",
       "      <td>PLV 9/2023</td>\n",
       "      <td>2023-04-25 19:30:00</td>\n",
       "      <td>Event.APRESENTADO</td>\n",
       "      <td>PLEN</td>\n",
       "      <td>camara</td>\n",
       "      <td>CP:2358303</td>\n",
       "      <td></td>\n",
       "      <td>CO:102594</td>\n",
       "      <td></td>\n",
       "      <td>COMISSÃO MISTA DA MPV 1147/2022</td>\n",
       "      <td></td>\n",
       "      <td>externo</td>\n",
       "    </tr>\n",
       "  </tbody>\n",
       "</table>\n",
       "<p>114811 rows × 12 columns</p>\n",
       "</div>"
      ],
      "text/plain": [
       "                label            event_ts                    event  event_loc  \\\n",
       "0       MPV 1000/2020 2020-09-03 00:00:00        Event.APRESENTADO         SF   \n",
       "1       MPV 1000/2020 2020-09-03 10:57:00        Event.APRESENTADO       EXEC   \n",
       "2       MPV 1000/2020 2020-09-09 00:00:00  Event.RECEBIDO_COMISSAO       MESA   \n",
       "3       MPV 1000/2020 2020-09-09 00:00:00        Event.APRESENTADO       MESA   \n",
       "4       MPV 1000/2020 2020-09-10 12:09:00        Event.DISTRIBUIDO       MESA   \n",
       "...               ...                 ...                      ...        ...   \n",
       "114806     PLV 8/2023 2023-03-30 17:23:00        Event.APRESENTADO  MPV115222   \n",
       "114807     PLV 9/2020 2020-04-29 22:15:00        Event.APRESENTADO       PLEN   \n",
       "114808     PLV 9/2021 2021-05-25 19:23:00        Event.APRESENTADO       PLEN   \n",
       "114809     PLV 9/2022 2022-05-11 17:23:00        Event.APRESENTADO  MPV108021   \n",
       "114810     PLV 9/2023 2023-04-25 19:30:00        Event.APRESENTADO       PLEN   \n",
       "\n",
       "          casa    prop_tag    proc_tag auth_camara_tag auth_senado_tag  \\\n",
       "0       senado  CP:2262062  SP:7979012          CO:253        SE:55126   \n",
       "1       camara  CP:2262062  SP:7979012          CO:253        SE:55126   \n",
       "2       camara  CP:2262062  SP:7979012          CO:253        SE:55126   \n",
       "3       camara  CP:2262062  SP:7979012          CO:253        SE:55126   \n",
       "4       camara  CP:2262062  SP:7979012          CO:253        SE:55126   \n",
       "...        ...         ...         ...             ...             ...   \n",
       "114806  camara  CP:2354532                   CD:204355                   \n",
       "114807  camara  CP:2250966                   CD:141531                   \n",
       "114808  camara  CP:2284649                   CD:204569                   \n",
       "114809  camara  CP:2322707                   CD:178881                   \n",
       "114810  camara  CP:2358303                   CO:102594                   \n",
       "\n",
       "                      auth_camara_label         auth_senado_label   origem  \n",
       "0                       PODER EXECUTIVO  PRESIDÊNCIA DA REPÚBLICA  externo  \n",
       "1                       PODER EXECUTIVO  PRESIDÊNCIA DA REPÚBLICA  externo  \n",
       "2                       PODER EXECUTIVO  PRESIDÊNCIA DA REPÚBLICA  externo  \n",
       "3                       PODER EXECUTIVO  PRESIDÊNCIA DA REPÚBLICA  externo  \n",
       "4                       PODER EXECUTIVO  PRESIDÊNCIA DA REPÚBLICA  externo  \n",
       "...                                 ...                       ...      ...  \n",
       "114806          JOSIAS MARIO DA VITORIA                             camara  \n",
       "114807        RODRIGO BATISTA DE CASTRO                             camara  \n",
       "114808                PABLO OLIVA SOUZA                             camara  \n",
       "114809   ALUISIO GUIMARAES MENDES FILHO                             camara  \n",
       "114810  COMISSÃO MISTA DA MPV 1147/2022                            externo  \n",
       "\n",
       "[114811 rows x 12 columns]"
      ]
     },
     "execution_count": 8,
     "metadata": {},
     "output_type": "execute_result"
    }
   ],
   "source": [
    "from_camara = (\n",
    "    event_labeled_df['auth_camara_tag'].str.startswith(\"CD:\")\n",
    "    | (event_labeled_df['auth_senado_tag'] == \"SE:2\")\n",
    "    | (event_labeled_df['auth_camara_tag'].isin([\n",
    "        \"CO:5438\",  # Comissão de Legislação Participativa\n",
    "        \"CO:2003\",  # CCJC\n",
    "        \"CO:539426\",  # CPI da Americanas\n",
    "    ]))\n",
    "    | (event_labeled_df['auth_camara_label'].str.startswith(\"Comissão Mista da MPV\"))  # Todas começam na Câmara\n",
    ")\n",
    "from_senado = (\n",
    "    event_labeled_df['auth_senado_tag'].str.startswith(\"SS:\")\n",
    "    | (event_labeled_df['auth_camara_tag'].isin([\n",
    "        \"CO:78\",  # Senado\n",
    "        \"CO:79\",  # Comissão mista (na verdade o autor é o Sen. Jorginho Mello)\n",
    "    ]))\n",
    "    | (event_labeled_df['auth_senado_tag'].isin([\n",
    "        \"SE:7352398\",  # CPI da Pandemia\n",
    "        \"SE:3947422\",  # Comissão de direitos humanos do Senado \n",
    "    ]))\n",
    ")\n",
    "from_externo = ~(from_camara | from_senado)\n",
    "\n",
    "event_labeled_df['origem'] = np.select(\n",
    "    [from_camara, from_senado, from_externo],\n",
    "    ['camara', 'senado', 'externo'],\n",
    "    default='unknown'\n",
    ")\n",
    "event_labeled_df"
   ]
  },
  {
   "cell_type": "code",
   "execution_count": 9,
   "id": "82e64076",
   "metadata": {},
   "outputs": [
    {
     "data": {
      "application/vnd.microsoft.datawrangler.viewer.v0+json": {
       "columns": [
        {
         "name": "index",
         "rawType": "int64",
         "type": "integer"
        },
        {
         "name": "label",
         "rawType": "object",
         "type": "string"
        },
        {
         "name": "event_ts",
         "rawType": "datetime64[ns]",
         "type": "datetime"
        },
        {
         "name": "event",
         "rawType": "object",
         "type": "unknown"
        },
        {
         "name": "event_loc",
         "rawType": "object",
         "type": "string"
        },
        {
         "name": "casa",
         "rawType": "object",
         "type": "string"
        },
        {
         "name": "prop_tag",
         "rawType": "object",
         "type": "string"
        },
        {
         "name": "proc_tag",
         "rawType": "object",
         "type": "string"
        },
        {
         "name": "auth_camara_tag",
         "rawType": "object",
         "type": "string"
        },
        {
         "name": "auth_senado_tag",
         "rawType": "object",
         "type": "string"
        },
        {
         "name": "auth_camara_label",
         "rawType": "object",
         "type": "string"
        },
        {
         "name": "auth_senado_label",
         "rawType": "object",
         "type": "string"
        },
        {
         "name": "origem",
         "rawType": "object",
         "type": "string"
        }
       ],
       "ref": "a0851c81-9b16-4b83-9090-8d2a08f09c1e",
       "rows": [
        [
         "0",
         "MPV 1000/2020",
         "2020-09-03 00:00:00",
         "Event.APRESENTADO",
         "SF",
         "senado",
         "CP:2262062",
         "SP:7979012",
         "CO:253",
         "SE:55126",
         "PODER EXECUTIVO",
         "PRESIDÊNCIA DA REPÚBLICA",
         "externo"
        ],
        [
         "1",
         "MPV 1000/2020",
         "2020-09-03 10:57:00",
         "Event.APRESENTADO",
         "EXEC",
         "camara",
         "CP:2262062",
         "SP:7979012",
         "CO:253",
         "SE:55126",
         "PODER EXECUTIVO",
         "PRESIDÊNCIA DA REPÚBLICA",
         "externo"
        ],
        [
         "2",
         "MPV 1000/2020",
         "2020-09-09 00:00:00",
         "Event.RECEBIDO_COMISSAO",
         "MESA",
         "camara",
         "CP:2262062",
         "SP:7979012",
         "CO:253",
         "SE:55126",
         "PODER EXECUTIVO",
         "PRESIDÊNCIA DA REPÚBLICA",
         "externo"
        ],
        [
         "3",
         "MPV 1000/2020",
         "2020-09-09 00:00:00",
         "Event.APRESENTADO",
         "MESA",
         "camara",
         "CP:2262062",
         "SP:7979012",
         "CO:253",
         "SE:55126",
         "PODER EXECUTIVO",
         "PRESIDÊNCIA DA REPÚBLICA",
         "externo"
        ],
        [
         "4",
         "MPV 1000/2020",
         "2020-09-10 12:09:00",
         "Event.DISTRIBUIDO",
         "MESA",
         "camara",
         "CP:2262062",
         "SP:7979012",
         "CO:253",
         "SE:55126",
         "PODER EXECUTIVO",
         "PRESIDÊNCIA DA REPÚBLICA",
         "externo"
        ],
        [
         "5",
         "MPV 1000/2020",
         "2020-12-17 00:00:00",
         "Event.DESIGNADO_RELATOR_PLENARIO",
         "PLEN",
         "camara",
         "CP:2262062",
         "SP:7979012",
         "CO:253",
         "SE:55126",
         "PODER EXECUTIVO",
         "PRESIDÊNCIA DA REPÚBLICA",
         "externo"
        ],
        [
         "6",
         "MPV 1001/2020",
         "2020-09-15 00:00:00",
         "Event.APRESENTADO",
         "SF",
         "senado",
         "CP:2262906",
         "SP:7983532",
         "CO:253",
         "SE:55126",
         "PODER EXECUTIVO",
         "PRESIDÊNCIA DA REPÚBLICA",
         "externo"
        ],
        [
         "7",
         "MPV 1001/2020",
         "2020-09-15 10:00:00",
         "Event.APRESENTADO",
         "EXEC",
         "camara",
         "CP:2262906",
         "SP:7983532",
         "CO:253",
         "SE:55126",
         "PODER EXECUTIVO",
         "PRESIDÊNCIA DA REPÚBLICA",
         "externo"
        ],
        [
         "8",
         "MPV 1001/2020",
         "2020-09-18 00:00:00",
         "Event.RECEBIDO_COMISSAO",
         "MESA",
         "camara",
         "CP:2262906",
         "SP:7983532",
         "CO:253",
         "SE:55126",
         "PODER EXECUTIVO",
         "PRESIDÊNCIA DA REPÚBLICA",
         "externo"
        ],
        [
         "9",
         "MPV 1001/2020",
         "2020-09-21 10:47:00",
         "Event.APRESENTADO",
         "MESA",
         "camara",
         "CP:2262906",
         "SP:7983532",
         "CO:253",
         "SE:55126",
         "PODER EXECUTIVO",
         "PRESIDÊNCIA DA REPÚBLICA",
         "externo"
        ],
        [
         "10",
         "MPV 1001/2020",
         "2020-09-22 17:25:00",
         "Event.DISTRIBUIDO",
         "MESA",
         "camara",
         "CP:2262906",
         "SP:7983532",
         "CO:253",
         "SE:55126",
         "PODER EXECUTIVO",
         "PRESIDÊNCIA DA REPÚBLICA",
         "externo"
        ],
        [
         "11",
         "MPV 1002/2020",
         "2020-09-24 00:00:00",
         "Event.APRESENTADO",
         "SF",
         "senado",
         "CP:2263381",
         "SP:7987460",
         "CO:253",
         "SE:55126",
         "PODER EXECUTIVO",
         "PRESIDÊNCIA DA REPÚBLICA",
         "externo"
        ],
        [
         "12",
         "MPV 1002/2020",
         "2020-09-24 11:00:00",
         "Event.APRESENTADO",
         "EXEC",
         "camara",
         "CP:2263381",
         "SP:7987460",
         "CO:253",
         "SE:55126",
         "PODER EXECUTIVO",
         "PRESIDÊNCIA DA REPÚBLICA",
         "externo"
        ],
        [
         "13",
         "MPV 1002/2020",
         "2020-09-29 00:00:00",
         "Event.RECEBIDO_COMISSAO",
         "MESA",
         "camara",
         "CP:2263381",
         "SP:7987460",
         "CO:253",
         "SE:55126",
         "PODER EXECUTIVO",
         "PRESIDÊNCIA DA REPÚBLICA",
         "externo"
        ],
        [
         "14",
         "MPV 1002/2020",
         "2020-09-29 00:00:00",
         "Event.APRESENTADO",
         "MESA",
         "camara",
         "CP:2263381",
         "SP:7987460",
         "CO:253",
         "SE:55126",
         "PODER EXECUTIVO",
         "PRESIDÊNCIA DA REPÚBLICA",
         "externo"
        ],
        [
         "15",
         "MPV 1002/2020",
         "2020-10-13 13:10:00",
         "Event.DISTRIBUIDO",
         "MESA",
         "camara",
         "CP:2263381",
         "SP:7987460",
         "CO:253",
         "SE:55126",
         "PODER EXECUTIVO",
         "PRESIDÊNCIA DA REPÚBLICA",
         "externo"
        ],
        [
         "16",
         "MPV 1003/2020",
         "2020-09-24 00:00:00",
         "Event.APRESENTADO",
         "SF",
         "senado",
         "CP:2263410",
         "SP:7987889",
         "CO:253",
         "SE:55126",
         "PODER EXECUTIVO",
         "PRESIDÊNCIA DA REPÚBLICA",
         "externo"
        ],
        [
         "17",
         "MPV 1003/2020",
         "2020-09-24 09:35:00",
         "Event.APRESENTADO",
         "EXEC",
         "camara",
         "CP:2263410",
         "SP:7987889",
         "CO:253",
         "SE:55126",
         "PODER EXECUTIVO",
         "PRESIDÊNCIA DA REPÚBLICA",
         "externo"
        ],
        [
         "18",
         "MPV 1003/2020",
         "2020-09-29 00:00:00",
         "Event.RECEBIDO_COMISSAO",
         "MESA",
         "camara",
         "CP:2263410",
         "SP:7987889",
         "CO:253",
         "SE:55126",
         "PODER EXECUTIVO",
         "PRESIDÊNCIA DA REPÚBLICA",
         "externo"
        ],
        [
         "19",
         "MPV 1003/2020",
         "2020-09-29 00:00:00",
         "Event.APRESENTADO",
         "MESA",
         "camara",
         "CP:2263410",
         "SP:7987889",
         "CO:253",
         "SE:55126",
         "PODER EXECUTIVO",
         "PRESIDÊNCIA DA REPÚBLICA",
         "externo"
        ],
        [
         "20",
         "MPV 1003/2020",
         "2020-10-13 00:00:00",
         "Event.DESIGNADO_RELATOR_PLENARIO",
         "PLEN",
         "camara",
         "CP:2263410",
         "SP:7987889",
         "CO:253",
         "SE:55126",
         "PODER EXECUTIVO",
         "PRESIDÊNCIA DA REPÚBLICA",
         "externo"
        ],
        [
         "21",
         "MPV 1003/2020",
         "2020-10-13 13:12:00",
         "Event.DISTRIBUIDO",
         "MESA",
         "camara",
         "CP:2263410",
         "SP:7987889",
         "CO:253",
         "SE:55126",
         "PODER EXECUTIVO",
         "PRESIDÊNCIA DA REPÚBLICA",
         "externo"
        ],
        [
         "22",
         "MPV 1003/2020",
         "2020-12-18 00:00:00",
         "Event.APROVADO_PLENARIO",
         "PLEN",
         "camara",
         "CP:2263410",
         "SP:7987889",
         "CO:253",
         "SE:55126",
         "PODER EXECUTIVO",
         "PRESIDÊNCIA DA REPÚBLICA",
         "externo"
        ],
        [
         "23",
         "MPV 1003/2020",
         "2020-12-18 00:00:00",
         "Event.APRESENTADO",
         "MESA",
         "camara",
         "CP:2263410",
         "SP:7987889",
         "CO:253",
         "SE:55126",
         "PODER EXECUTIVO",
         "PRESIDÊNCIA DA REPÚBLICA",
         "externo"
        ],
        [
         "24",
         "MPV 1003/2020",
         "2020-12-18 11:00:00",
         "Event.APROVADO_PLENARIO",
         "PLEN",
         "camara",
         "CP:2263410",
         "SP:7987889",
         "CO:253",
         "SE:55126",
         "PODER EXECUTIVO",
         "PRESIDÊNCIA DA REPÚBLICA",
         "externo"
        ],
        [
         "25",
         "MPV 1003/2020",
         "2020-12-18 12:12:00",
         "Event.DESIGNADO_RELATOR_PLENARIO",
         "PLEN",
         "camara",
         "CP:2263410",
         "SP:7987889",
         "CO:253",
         "SE:55126",
         "PODER EXECUTIVO",
         "PRESIDÊNCIA DA REPÚBLICA",
         "externo"
        ],
        [
         "26",
         "MPV 1003/2020",
         "2020-12-18 17:32:00",
         "Event.APROVADO_PLENARIO",
         "PLEN",
         "camara",
         "CP:2263410",
         "SP:7987889",
         "CO:253",
         "SE:55126",
         "PODER EXECUTIVO",
         "PRESIDÊNCIA DA REPÚBLICA",
         "externo"
        ],
        [
         "27",
         "MPV 1003/2020",
         "2020-12-18 17:48:00",
         "Event.APRESENTADO",
         "PLEN",
         "camara",
         "CP:2263410",
         "SP:7987889",
         "CO:253",
         "SE:55126",
         "PODER EXECUTIVO",
         "PRESIDÊNCIA DA REPÚBLICA",
         "externo"
        ],
        [
         "28",
         "MPV 1003/2020",
         "2020-12-21 00:00:00",
         "Event.REMETIDO_AO_SENADO",
         "MESA",
         "camara",
         "CP:2263410",
         "SP:7987889",
         "CO:253",
         "SE:55126",
         "PODER EXECUTIVO",
         "PRESIDÊNCIA DA REPÚBLICA",
         "externo"
        ],
        [
         "29",
         "MPV 1003/2020",
         "2020-12-21 13:27:00",
         "Event.APRESENTADO",
         "PLEN",
         "camara",
         "CP:2263410",
         "SP:7987889",
         "CO:253",
         "SE:55126",
         "PODER EXECUTIVO",
         "PRESIDÊNCIA DA REPÚBLICA",
         "externo"
        ],
        [
         "30",
         "MPV 1003/2020",
         "2021-02-04 00:00:00",
         "Event.RECEBIDO_COMISSAO",
         "PLEN",
         "senado",
         "CP:2263410",
         "SP:7987889",
         "CO:253",
         "SE:55126",
         "PODER EXECUTIVO",
         "PRESIDÊNCIA DA REPÚBLICA",
         "externo"
        ],
        [
         "31",
         "MPV 1003/2020",
         "2021-02-04 00:00:00",
         "Event.APROVADA_URGENCIA",
         "PLEN",
         "senado",
         "CP:2263410",
         "SP:7987889",
         "CO:253",
         "SE:55126",
         "PODER EXECUTIVO",
         "PRESIDÊNCIA DA REPÚBLICA",
         "externo"
        ],
        [
         "32",
         "MPV 1003/2020",
         "2021-02-04 00:00:00",
         "Event.APROVADO_PLENARIO",
         "PLEN",
         "senado",
         "CP:2263410",
         "SP:7987889",
         "CO:253",
         "SE:55126",
         "PODER EXECUTIVO",
         "PRESIDÊNCIA DA REPÚBLICA",
         "externo"
        ],
        [
         "33",
         "MPV 1003/2020",
         "2021-02-04 09:33:00",
         "Event.APRESENTADO",
         "PLEN",
         "camara",
         "CP:2263410",
         "SP:7987889",
         "CO:253",
         "SE:55126",
         "PODER EXECUTIVO",
         "PRESIDÊNCIA DA REPÚBLICA",
         "externo"
        ],
        [
         "34",
         "MPV 1003/2020",
         "2021-02-09 00:00:00",
         "Event.RECEBIDO_COMISSAO",
         "MESA",
         "camara",
         "CP:2263410",
         "SP:7987889",
         "CO:253",
         "SE:55126",
         "PODER EXECUTIVO",
         "PRESIDÊNCIA DA REPÚBLICA",
         "externo"
        ],
        [
         "35",
         "MPV 1003/2020",
         "2021-02-18 15:42:00",
         "Event.APRESENTADO",
         "PLEN",
         "camara",
         "CP:2263410",
         "SP:7987889",
         "CO:253",
         "SE:55126",
         "PODER EXECUTIVO",
         "PRESIDÊNCIA DA REPÚBLICA",
         "externo"
        ],
        [
         "36",
         "MPV 1004/2020",
         "2020-09-24 00:00:00",
         "Event.APRESENTADO",
         "SF",
         "senado",
         "CP:2263411",
         "SP:7987895",
         "CO:253",
         "SE:55126",
         "PODER EXECUTIVO",
         "PRESIDÊNCIA DA REPÚBLICA",
         "externo"
        ],
        [
         "37",
         "MPV 1004/2020",
         "2020-09-24 09:35:00",
         "Event.APRESENTADO",
         "EXEC",
         "camara",
         "CP:2263411",
         "SP:7987895",
         "CO:253",
         "SE:55126",
         "PODER EXECUTIVO",
         "PRESIDÊNCIA DA REPÚBLICA",
         "externo"
        ],
        [
         "38",
         "MPV 1004/2020",
         "2020-09-29 00:00:00",
         "Event.RECEBIDO_COMISSAO",
         "MESA",
         "camara",
         "CP:2263411",
         "SP:7987895",
         "CO:253",
         "SE:55126",
         "PODER EXECUTIVO",
         "PRESIDÊNCIA DA REPÚBLICA",
         "externo"
        ],
        [
         "39",
         "MPV 1004/2020",
         "2020-09-29 00:00:00",
         "Event.APRESENTADO",
         "MESA",
         "camara",
         "CP:2263411",
         "SP:7987895",
         "CO:253",
         "SE:55126",
         "PODER EXECUTIVO",
         "PRESIDÊNCIA DA REPÚBLICA",
         "externo"
        ],
        [
         "40",
         "MPV 1004/2020",
         "2020-10-13 13:13:00",
         "Event.DISTRIBUIDO",
         "MESA",
         "camara",
         "CP:2263411",
         "SP:7987895",
         "CO:253",
         "SE:55126",
         "PODER EXECUTIVO",
         "PRESIDÊNCIA DA REPÚBLICA",
         "externo"
        ],
        [
         "41",
         "MPV 1004/2020",
         "2021-02-25 00:00:00",
         "Event.DESIGNADO_RELATOR_PLENARIO",
         "PLEN",
         "camara",
         "CP:2263411",
         "SP:7987895",
         "CO:253",
         "SE:55126",
         "PODER EXECUTIVO",
         "PRESIDÊNCIA DA REPÚBLICA",
         "externo"
        ],
        [
         "42",
         "MPV 1004/2020",
         "2021-03-02 00:00:00",
         "Event.APROVADO_PLENARIO",
         "PLEN",
         "camara",
         "CP:2263411",
         "SP:7987895",
         "CO:253",
         "SE:55126",
         "PODER EXECUTIVO",
         "PRESIDÊNCIA DA REPÚBLICA",
         "externo"
        ],
        [
         "43",
         "MPV 1004/2020",
         "2021-03-02 00:00:00",
         "Event.REMETIDO_AO_SENADO",
         "MESA",
         "camara",
         "CP:2263411",
         "SP:7987895",
         "CO:253",
         "SE:55126",
         "PODER EXECUTIVO",
         "PRESIDÊNCIA DA REPÚBLICA",
         "externo"
        ],
        [
         "44",
         "MPV 1004/2020",
         "2021-03-02 12:34:00",
         "Event.APRESENTADO",
         "MESA",
         "camara",
         "CP:2263411",
         "SP:7987895",
         "CO:253",
         "SE:55126",
         "PODER EXECUTIVO",
         "PRESIDÊNCIA DA REPÚBLICA",
         "externo"
        ],
        [
         "45",
         "MPV 1004/2020",
         "2021-03-02 15:00:00",
         "Event.APROVADO_PLENARIO",
         "PLEN",
         "camara",
         "CP:2263411",
         "SP:7987895",
         "CO:253",
         "SE:55126",
         "PODER EXECUTIVO",
         "PRESIDÊNCIA DA REPÚBLICA",
         "externo"
        ],
        [
         "46",
         "MPV 1004/2020",
         "2021-03-02 16:08:00",
         "Event.DESIGNADO_RELATOR_PLENARIO",
         "PLEN",
         "camara",
         "CP:2263411",
         "SP:7987895",
         "CO:253",
         "SE:55126",
         "PODER EXECUTIVO",
         "PRESIDÊNCIA DA REPÚBLICA",
         "externo"
        ],
        [
         "47",
         "MPV 1004/2020",
         "2021-03-03 00:00:00",
         "Event.RECEBIDO_COMISSAO",
         "MESA",
         "camara",
         "CP:2263411",
         "SP:7987895",
         "CO:253",
         "SE:55126",
         "PODER EXECUTIVO",
         "PRESIDÊNCIA DA REPÚBLICA",
         "externo"
        ],
        [
         "48",
         "MPV 1004/2020",
         "2021-03-03 00:00:00",
         "Event.RECEBIDO_COMISSAO",
         "PLEN",
         "senado",
         "CP:2263411",
         "SP:7987895",
         "CO:253",
         "SE:55126",
         "PODER EXECUTIVO",
         "PRESIDÊNCIA DA REPÚBLICA",
         "externo"
        ],
        [
         "49",
         "MPV 1004/2020",
         "2021-03-03 00:00:00",
         "Event.APROVADA_URGENCIA",
         "PLEN",
         "senado",
         "CP:2263411",
         "SP:7987895",
         "CO:253",
         "SE:55126",
         "PODER EXECUTIVO",
         "PRESIDÊNCIA DA REPÚBLICA",
         "externo"
        ]
       ],
       "shape": {
        "columns": 12,
        "rows": 114811
       }
      },
      "text/html": [
       "<div>\n",
       "<style scoped>\n",
       "    .dataframe tbody tr th:only-of-type {\n",
       "        vertical-align: middle;\n",
       "    }\n",
       "\n",
       "    .dataframe tbody tr th {\n",
       "        vertical-align: top;\n",
       "    }\n",
       "\n",
       "    .dataframe thead th {\n",
       "        text-align: right;\n",
       "    }\n",
       "</style>\n",
       "<table border=\"1\" class=\"dataframe\">\n",
       "  <thead>\n",
       "    <tr style=\"text-align: right;\">\n",
       "      <th></th>\n",
       "      <th>label</th>\n",
       "      <th>event_ts</th>\n",
       "      <th>event</th>\n",
       "      <th>event_loc</th>\n",
       "      <th>casa</th>\n",
       "      <th>prop_tag</th>\n",
       "      <th>proc_tag</th>\n",
       "      <th>auth_camara_tag</th>\n",
       "      <th>auth_senado_tag</th>\n",
       "      <th>auth_camara_label</th>\n",
       "      <th>auth_senado_label</th>\n",
       "      <th>origem</th>\n",
       "    </tr>\n",
       "  </thead>\n",
       "  <tbody>\n",
       "    <tr>\n",
       "      <th>0</th>\n",
       "      <td>MPV 1000/2020</td>\n",
       "      <td>2020-09-03 00:00:00</td>\n",
       "      <td>Event.APRESENTADO</td>\n",
       "      <td>SF</td>\n",
       "      <td>senado</td>\n",
       "      <td>CP:2262062</td>\n",
       "      <td>SP:7979012</td>\n",
       "      <td>CO:253</td>\n",
       "      <td>SE:55126</td>\n",
       "      <td>PODER EXECUTIVO</td>\n",
       "      <td>PRESIDÊNCIA DA REPÚBLICA</td>\n",
       "      <td>externo</td>\n",
       "    </tr>\n",
       "    <tr>\n",
       "      <th>1</th>\n",
       "      <td>MPV 1000/2020</td>\n",
       "      <td>2020-09-03 10:57:00</td>\n",
       "      <td>Event.APRESENTADO</td>\n",
       "      <td>EXEC</td>\n",
       "      <td>camara</td>\n",
       "      <td>CP:2262062</td>\n",
       "      <td>SP:7979012</td>\n",
       "      <td>CO:253</td>\n",
       "      <td>SE:55126</td>\n",
       "      <td>PODER EXECUTIVO</td>\n",
       "      <td>PRESIDÊNCIA DA REPÚBLICA</td>\n",
       "      <td>externo</td>\n",
       "    </tr>\n",
       "    <tr>\n",
       "      <th>2</th>\n",
       "      <td>MPV 1000/2020</td>\n",
       "      <td>2020-09-09 00:00:00</td>\n",
       "      <td>Event.RECEBIDO_COMISSAO</td>\n",
       "      <td>MESA</td>\n",
       "      <td>camara</td>\n",
       "      <td>CP:2262062</td>\n",
       "      <td>SP:7979012</td>\n",
       "      <td>CO:253</td>\n",
       "      <td>SE:55126</td>\n",
       "      <td>PODER EXECUTIVO</td>\n",
       "      <td>PRESIDÊNCIA DA REPÚBLICA</td>\n",
       "      <td>externo</td>\n",
       "    </tr>\n",
       "    <tr>\n",
       "      <th>3</th>\n",
       "      <td>MPV 1000/2020</td>\n",
       "      <td>2020-09-09 00:00:00</td>\n",
       "      <td>Event.APRESENTADO</td>\n",
       "      <td>MESA</td>\n",
       "      <td>camara</td>\n",
       "      <td>CP:2262062</td>\n",
       "      <td>SP:7979012</td>\n",
       "      <td>CO:253</td>\n",
       "      <td>SE:55126</td>\n",
       "      <td>PODER EXECUTIVO</td>\n",
       "      <td>PRESIDÊNCIA DA REPÚBLICA</td>\n",
       "      <td>externo</td>\n",
       "    </tr>\n",
       "    <tr>\n",
       "      <th>4</th>\n",
       "      <td>MPV 1000/2020</td>\n",
       "      <td>2020-09-10 12:09:00</td>\n",
       "      <td>Event.DISTRIBUIDO</td>\n",
       "      <td>MESA</td>\n",
       "      <td>camara</td>\n",
       "      <td>CP:2262062</td>\n",
       "      <td>SP:7979012</td>\n",
       "      <td>CO:253</td>\n",
       "      <td>SE:55126</td>\n",
       "      <td>PODER EXECUTIVO</td>\n",
       "      <td>PRESIDÊNCIA DA REPÚBLICA</td>\n",
       "      <td>externo</td>\n",
       "    </tr>\n",
       "    <tr>\n",
       "      <th>...</th>\n",
       "      <td>...</td>\n",
       "      <td>...</td>\n",
       "      <td>...</td>\n",
       "      <td>...</td>\n",
       "      <td>...</td>\n",
       "      <td>...</td>\n",
       "      <td>...</td>\n",
       "      <td>...</td>\n",
       "      <td>...</td>\n",
       "      <td>...</td>\n",
       "      <td>...</td>\n",
       "      <td>...</td>\n",
       "    </tr>\n",
       "    <tr>\n",
       "      <th>114806</th>\n",
       "      <td>PLV 8/2023</td>\n",
       "      <td>2023-03-30 17:23:00</td>\n",
       "      <td>Event.APRESENTADO</td>\n",
       "      <td>MPV115222</td>\n",
       "      <td>camara</td>\n",
       "      <td>CP:2354532</td>\n",
       "      <td></td>\n",
       "      <td>CD:204355</td>\n",
       "      <td></td>\n",
       "      <td>JOSIAS MARIO DA VITORIA</td>\n",
       "      <td></td>\n",
       "      <td>camara</td>\n",
       "    </tr>\n",
       "    <tr>\n",
       "      <th>114807</th>\n",
       "      <td>PLV 9/2020</td>\n",
       "      <td>2020-04-29 22:15:00</td>\n",
       "      <td>Event.APRESENTADO</td>\n",
       "      <td>PLEN</td>\n",
       "      <td>camara</td>\n",
       "      <td>CP:2250966</td>\n",
       "      <td></td>\n",
       "      <td>CD:141531</td>\n",
       "      <td></td>\n",
       "      <td>RODRIGO BATISTA DE CASTRO</td>\n",
       "      <td></td>\n",
       "      <td>camara</td>\n",
       "    </tr>\n",
       "    <tr>\n",
       "      <th>114808</th>\n",
       "      <td>PLV 9/2021</td>\n",
       "      <td>2021-05-25 19:23:00</td>\n",
       "      <td>Event.APRESENTADO</td>\n",
       "      <td>PLEN</td>\n",
       "      <td>camara</td>\n",
       "      <td>CP:2284649</td>\n",
       "      <td></td>\n",
       "      <td>CD:204569</td>\n",
       "      <td></td>\n",
       "      <td>PABLO OLIVA SOUZA</td>\n",
       "      <td></td>\n",
       "      <td>camara</td>\n",
       "    </tr>\n",
       "    <tr>\n",
       "      <th>114809</th>\n",
       "      <td>PLV 9/2022</td>\n",
       "      <td>2022-05-11 17:23:00</td>\n",
       "      <td>Event.APRESENTADO</td>\n",
       "      <td>MPV108021</td>\n",
       "      <td>camara</td>\n",
       "      <td>CP:2322707</td>\n",
       "      <td></td>\n",
       "      <td>CD:178881</td>\n",
       "      <td></td>\n",
       "      <td>ALUISIO GUIMARAES MENDES FILHO</td>\n",
       "      <td></td>\n",
       "      <td>camara</td>\n",
       "    </tr>\n",
       "    <tr>\n",
       "      <th>114810</th>\n",
       "      <td>PLV 9/2023</td>\n",
       "      <td>2023-04-25 19:30:00</td>\n",
       "      <td>Event.APRESENTADO</td>\n",
       "      <td>PLEN</td>\n",
       "      <td>camara</td>\n",
       "      <td>CP:2358303</td>\n",
       "      <td></td>\n",
       "      <td>CO:102594</td>\n",
       "      <td></td>\n",
       "      <td>COMISSÃO MISTA DA MPV 1147/2022</td>\n",
       "      <td></td>\n",
       "      <td>externo</td>\n",
       "    </tr>\n",
       "  </tbody>\n",
       "</table>\n",
       "<p>114811 rows × 12 columns</p>\n",
       "</div>"
      ],
      "text/plain": [
       "                label            event_ts                    event  event_loc  \\\n",
       "0       MPV 1000/2020 2020-09-03 00:00:00        Event.APRESENTADO         SF   \n",
       "1       MPV 1000/2020 2020-09-03 10:57:00        Event.APRESENTADO       EXEC   \n",
       "2       MPV 1000/2020 2020-09-09 00:00:00  Event.RECEBIDO_COMISSAO       MESA   \n",
       "3       MPV 1000/2020 2020-09-09 00:00:00        Event.APRESENTADO       MESA   \n",
       "4       MPV 1000/2020 2020-09-10 12:09:00        Event.DISTRIBUIDO       MESA   \n",
       "...               ...                 ...                      ...        ...   \n",
       "114806     PLV 8/2023 2023-03-30 17:23:00        Event.APRESENTADO  MPV115222   \n",
       "114807     PLV 9/2020 2020-04-29 22:15:00        Event.APRESENTADO       PLEN   \n",
       "114808     PLV 9/2021 2021-05-25 19:23:00        Event.APRESENTADO       PLEN   \n",
       "114809     PLV 9/2022 2022-05-11 17:23:00        Event.APRESENTADO  MPV108021   \n",
       "114810     PLV 9/2023 2023-04-25 19:30:00        Event.APRESENTADO       PLEN   \n",
       "\n",
       "          casa    prop_tag    proc_tag auth_camara_tag auth_senado_tag  \\\n",
       "0       senado  CP:2262062  SP:7979012          CO:253        SE:55126   \n",
       "1       camara  CP:2262062  SP:7979012          CO:253        SE:55126   \n",
       "2       camara  CP:2262062  SP:7979012          CO:253        SE:55126   \n",
       "3       camara  CP:2262062  SP:7979012          CO:253        SE:55126   \n",
       "4       camara  CP:2262062  SP:7979012          CO:253        SE:55126   \n",
       "...        ...         ...         ...             ...             ...   \n",
       "114806  camara  CP:2354532                   CD:204355                   \n",
       "114807  camara  CP:2250966                   CD:141531                   \n",
       "114808  camara  CP:2284649                   CD:204569                   \n",
       "114809  camara  CP:2322707                   CD:178881                   \n",
       "114810  camara  CP:2358303                   CO:102594                   \n",
       "\n",
       "                      auth_camara_label         auth_senado_label   origem  \n",
       "0                       PODER EXECUTIVO  PRESIDÊNCIA DA REPÚBLICA  externo  \n",
       "1                       PODER EXECUTIVO  PRESIDÊNCIA DA REPÚBLICA  externo  \n",
       "2                       PODER EXECUTIVO  PRESIDÊNCIA DA REPÚBLICA  externo  \n",
       "3                       PODER EXECUTIVO  PRESIDÊNCIA DA REPÚBLICA  externo  \n",
       "4                       PODER EXECUTIVO  PRESIDÊNCIA DA REPÚBLICA  externo  \n",
       "...                                 ...                       ...      ...  \n",
       "114806          JOSIAS MARIO DA VITORIA                             camara  \n",
       "114807        RODRIGO BATISTA DE CASTRO                             camara  \n",
       "114808                PABLO OLIVA SOUZA                             camara  \n",
       "114809   ALUISIO GUIMARAES MENDES FILHO                             camara  \n",
       "114810  COMISSÃO MISTA DA MPV 1147/2022                            externo  \n",
       "\n",
       "[114811 rows x 12 columns]"
      ]
     },
     "execution_count": 9,
     "metadata": {},
     "output_type": "execute_result"
    }
   ],
   "source": [
    "event_labeled_df"
   ]
  },
  {
   "cell_type": "code",
   "execution_count": 10,
   "id": "de5a96c0",
   "metadata": {},
   "outputs": [
    {
     "data": {
      "application/vnd.microsoft.datawrangler.viewer.v0+json": {
       "columns": [
        {
         "name": "('auth_camara_tag', 'auth_senado_tag', 'auth_camara_label', 'auth_senado_label')",
         "rawType": "object",
         "type": "unknown"
        },
        {
         "name": "count",
         "rawType": "int64",
         "type": "integer"
        }
       ],
       "ref": "3fdbd25f-31cd-4a2e-a5c8-ddc5e0c2d1c8",
       "rows": [
        [
         "('CO:253', 'SE:55126', 'PODER EXECUTIVO', 'PRESIDÊNCIA DA REPÚBLICA')",
         "4649"
        ],
        [
         "('CO:60', 'SE:55126', 'PRESIDÊNCIA DA REPÚBLICA', 'PRESIDÊNCIA DA REPÚBLICA')",
         "1011"
        ],
        [
         "('CO:253', '', 'PODER EXECUTIVO', '')",
         "595"
        ],
        [
         "('CO:57', 'SE:9999992', 'MINISTÉRIO PÚBLICO DA UNIÃO', 'MINISTÉRIO PÚBLICO DA UNIÃO')",
         "80"
        ],
        [
         "('CO:101131', 'SE:9999994', 'DEFENSORIA PÚBLICA DA UNIÃO', 'DEFENSORIA PÚBLICA DA UNIÃO')",
         "65"
        ],
        [
         "('CO:382', 'SE:55143', 'TRIBUNAL DE JUSTIÇA DO DISTRITO FEDERAL E DOS TERRITÓRIOS', 'TRIBUNAL DE JUSTIÇA DO DISTRITO FEDERAL E TERRITÓRIOS')",
         "54"
        ],
        [
         "('CO:101772', 'SE:9999991', 'MPF - PGR - PROCURADORIA GERAL DA REPÚBLICA', 'PROCURADORIA-GERAL DA REPÚBLICA')",
         "53"
        ],
        [
         "('CO:80', 'SE:5282726', 'SUPREMO TRIBUNAL FEDERAL', 'SUPREMO TRIBUNAL FEDERAL')",
         "53"
        ],
        [
         "('CO:382', '', 'TRIBUNAL DE JUSTIÇA DO DISTRITO FEDERAL E DOS TERRITÓRIOS', '')",
         "48"
        ],
        [
         "('CO:2014', '', 'COMISSÃO DE SAÚDE', '')",
         "40"
        ],
        [
         "('CO:81', 'SE:9999990', 'SUPERIOR TRIBUNAL DE JUSTIÇA', 'SUPERIOR TRIBUNAL DE JUSTIÇA')",
         "40"
        ],
        [
         "('CO:80', '', 'SUPREMO TRIBUNAL FEDERAL', '')",
         "24"
        ],
        [
         "('', '', '', '')",
         "22"
        ],
        [
         "('CO:101347', 'SE:9999991', 'PROCURADORIA-GERAL DA REPÚBLICA', 'PROCURADORIA-GERAL DA REPÚBLICA')",
         "20"
        ],
        [
         "('CO:82', 'SE:7352253', 'TRIBUNAL DE CONTAS DA UNIÃO', 'TCU')",
         "16"
        ],
        [
         "('CO:101798', '', 'INICIATIVA POPULAR', '')",
         "15"
        ],
        [
         "('CO:101582', 'SE:7352253', 'TRIBUNAL DE CONTAS DA UNIÃO', 'TCU')",
         "14"
        ],
        [
         "('CO:275', 'SE:7351348', 'TRIBUNAL SUPERIOR DO TRABALHO', 'TRIBUNAL SUPERIOR ELEITORAL')",
         "14"
        ],
        [
         "('CO:275', '', 'TRIBUNAL SUPERIOR DO TRABALHO', '')",
         "14"
        ],
        [
         "('CO:539461', '', 'COMISSÃO PARLAMENTAR DE INQUÉRITO DESTINADA A INVESTIGAR INDÍCIOS DE OPERAÇÕES FRAUDULENTAS SOFISTICADAS NA GESTÃO DE DIVERSAS EMPRESAS DE SERVIÇOS FINANCEIROS QUE PROMETEM GERAR PATRIMÔNIO POR MEIO DE GESTÃO DE CRIPTOMOEDAS, COM DIVULGAÇÃO DE INFORMAÇÕES FALSAS SOBRE PROJETOS OU SERVIÇOS E PROMESSA DE RENTABILIDADE ANORMALMENTE ALTA OU GARANTIDA E INEXISTÊNCIA DE TAXAS, MAS CONSTITUINDO-SE EM SISTEMA DE REMUNERAÇÃO ALIMENTADO PELA ENTRADA DE NOVOS PARTICIPANTES (O QUE TEM TRAZIDO PREJUÍZOS VULTOSOS AOS INVESTIDORES E A TODA A SOCIEDADE, ENTRE OS ANOS DE 2019 E 2022)', '')",
         "13"
        ],
        [
         "('CO:101131', '', 'DEFENSORIA PÚBLICA DA UNIÃO', '')",
         "11"
        ],
        [
         "('CO:60', '', 'PRESIDÊNCIA DA REPÚBLICA', '')",
         "10"
        ],
        [
         "('CO:57', '', 'MINISTÉRIO PÚBLICO DA UNIÃO', '')",
         "10"
        ],
        [
         "('CO:539384', '', 'COMISSÃO DA AMAZÔNIA E DOS POVOS ORIGINÁRIOS E TRADICIONAIS', '')",
         "9"
        ],
        [
         "('CO:277', '', 'TRIBUNAL SUPERIOR ELEITORAL', '')",
         "8"
        ],
        [
         "('CO:81', '', 'SUPERIOR TRIBUNAL DE JUSTIÇA', '')",
         "7"
        ],
        [
         "('CO:102648', '', 'COMISSÃO PARLAMENTAR MISTA DE INQUÉRITO DOS ATOS DE 8 DE JANEIRO DE 2023', '')",
         "6"
        ],
        [
         "('CO:253', 'SE:7352682', 'PODER EXECUTIVO', 'FORUM NACIONAL DE COMITÊS HIDROGRÁFICAS BRASIL')",
         "6"
        ],
        [
         "('CO:5503', '', 'COMISSÃO DE SEGURANÇA PÚBLICA E COMBATE AO CRIME ORGANIZADO', '')",
         "6"
        ],
        [
         "('CO:82', '', 'TRIBUNAL DE CONTAS DA UNIÃO', '')",
         "5"
        ],
        [
         "('CO:539419', '', 'COMISSÃO ESPECIAL PARA ESTUDO, AVALIAÇÃO E ACOMPANHAMENTO DAS INICIATIVAS E MEDIDAS ADOTADAS PARA TRANSIÇÃO ENERGÉTICA - FONTES RENOVÁVEIS E PRODUÇÃO DE HIDROGÊNIO VERDE NO BRASIL', '')",
         "4"
        ],
        [
         "('CO:2016', '', 'COMISSÃO DE VIAÇÃO E TRANSPORTES', '')",
         "3"
        ],
        [
         "('CO:2001', '', 'COMISSÃO DE AGRICULTURA, PECUÁRIA, ABASTECIMENTO E DESENVOLVIMENTO RURAL', '')",
         "2"
        ],
        [
         "('CO:101772', '', 'MPF - PGR - PROCURADORIA GERAL DA REPÚBLICA', '')",
         "2"
        ],
        [
         "('CO:102212', '', 'COMISSÃO MISTA DA MPV 900/2019', '')",
         "1"
        ],
        [
         "('CO:102210', '', 'COMISSÃO MISTA DA MPV 898/2019', '')",
         "1"
        ],
        [
         "('CO:101582', '', 'TRIBUNAL DE CONTAS DA UNIÃO', '')",
         "1"
        ],
        [
         "('CO:100292', '', 'CÂMARA DOS DEPUTADOS', '')",
         "1"
        ],
        [
         "('CO:102211', '', 'COMISSÃO MISTA DA MPV 899/2019', '')",
         "1"
        ],
        [
         "('CO:102594', '', 'COMISSÃO MISTA DA MPV 1147/2022', '')",
         "1"
        ],
        [
         "('CO:102220', '', 'COMISSÃO MISTA DA MPV 905/2019', '')",
         "1"
        ],
        [
         "('CO:102639', '', 'COMISSÃO MISTA DA MPV 1173/2023', '')",
         "1"
        ],
        [
         "('CO:102638', '', 'COMISSÃO MISTA DA MPV 1172/2023', '')",
         "1"
        ],
        [
         "('CO:102642', '', 'COMISSÃO MISTA DA MPV 1174/2023', '')",
         "1"
        ],
        [
         "('CO:102840', '', 'COMISSÃO MISTA DA MPV 1202/2023', '')",
         "1"
        ],
        [
         "('CO:102601', '', 'COMISSÃO MISTA DA MPV 1154/2023', '')",
         "1"
        ],
        [
         "('CO:102636', '', 'COMISSÃO MISTA DA MPV 1170/2023', '')",
         "1"
        ]
       ],
       "shape": {
        "columns": 1,
        "rows": 47
       }
      },
      "text/plain": [
       "auth_camara_tag  auth_senado_tag  auth_camara_label                                                                                                                                                                                                                                                                                                                                                                                                                                                                                                                                                                              auth_senado_label                                    \n",
       "CO:253           SE:55126         PODER EXECUTIVO                                                                                                                                                                                                                                                                                                                                                                                                                                                                                                                                                                                PRESIDÊNCIA DA REPÚBLICA                                 4649\n",
       "CO:60            SE:55126         PRESIDÊNCIA DA REPÚBLICA                                                                                                                                                                                                                                                                                                                                                                                                                                                                                                                                                                       PRESIDÊNCIA DA REPÚBLICA                                 1011\n",
       "CO:253                            PODER EXECUTIVO                                                                                                                                                                                                                                                                                                                                                                                                                                                                                                                                                                                                                                          595\n",
       "CO:57            SE:9999992       MINISTÉRIO PÚBLICO DA UNIÃO                                                                                                                                                                                                                                                                                                                                                                                                                                                                                                                                                                    MINISTÉRIO PÚBLICO DA UNIÃO                                80\n",
       "CO:101131        SE:9999994       DEFENSORIA PÚBLICA DA UNIÃO                                                                                                                                                                                                                                                                                                                                                                                                                                                                                                                                                                    DEFENSORIA PÚBLICA DA UNIÃO                                65\n",
       "CO:382           SE:55143         TRIBUNAL DE JUSTIÇA DO DISTRITO FEDERAL E DOS TERRITÓRIOS                                                                                                                                                                                                                                                                                                                                                                                                                                                                                                                                      TRIBUNAL DE JUSTIÇA DO DISTRITO FEDERAL E TERRITÓRIOS      54\n",
       "CO:101772        SE:9999991       MPF - PGR - PROCURADORIA GERAL DA REPÚBLICA                                                                                                                                                                                                                                                                                                                                                                                                                                                                                                                                                    PROCURADORIA-GERAL DA REPÚBLICA                            53\n",
       "CO:80            SE:5282726       SUPREMO TRIBUNAL FEDERAL                                                                                                                                                                                                                                                                                                                                                                                                                                                                                                                                                                       SUPREMO TRIBUNAL FEDERAL                                   53\n",
       "CO:382                            TRIBUNAL DE JUSTIÇA DO DISTRITO FEDERAL E DOS TERRITÓRIOS                                                                                                                                                                                                                                                                                                                                                                                                                                                                                                                                                                                                 48\n",
       "CO:2014                           COMISSÃO DE SAÚDE                                                                                                                                                                                                                                                                                                                                                                                                                                                                                                                                                                                                                                         40\n",
       "CO:81            SE:9999990       SUPERIOR TRIBUNAL DE JUSTIÇA                                                                                                                                                                                                                                                                                                                                                                                                                                                                                                                                                                   SUPERIOR TRIBUNAL DE JUSTIÇA                               40\n",
       "CO:80                             SUPREMO TRIBUNAL FEDERAL                                                                                                                                                                                                                                                                                                                                                                                                                                                                                                                                                                                                                                  24\n",
       "                                                                                                                                                                                                                                                                                                                                                                                                                                                                                                                                                                                                                                                                                            22\n",
       "CO:101347        SE:9999991       PROCURADORIA-GERAL DA REPÚBLICA                                                                                                                                                                                                                                                                                                                                                                                                                                                                                                                                                                PROCURADORIA-GERAL DA REPÚBLICA                            20\n",
       "CO:82            SE:7352253       TRIBUNAL DE CONTAS DA UNIÃO                                                                                                                                                                                                                                                                                                                                                                                                                                                                                                                                                                    TCU                                                        16\n",
       "CO:101798                         INICIATIVA POPULAR                                                                                                                                                                                                                                                                                                                                                                                                                                                                                                                                                                                                                                        15\n",
       "CO:101582        SE:7352253       TRIBUNAL DE CONTAS DA UNIÃO                                                                                                                                                                                                                                                                                                                                                                                                                                                                                                                                                                    TCU                                                        14\n",
       "CO:275           SE:7351348       TRIBUNAL SUPERIOR DO TRABALHO                                                                                                                                                                                                                                                                                                                                                                                                                                                                                                                                                                  TRIBUNAL SUPERIOR ELEITORAL                                14\n",
       "                                  TRIBUNAL SUPERIOR DO TRABALHO                                                                                                                                                                                                                                                                                                                                                                                                                                                                                                                                                                                                                             14\n",
       "CO:539461                         COMISSÃO PARLAMENTAR DE INQUÉRITO DESTINADA A INVESTIGAR INDÍCIOS DE OPERAÇÕES FRAUDULENTAS SOFISTICADAS NA GESTÃO DE DIVERSAS EMPRESAS DE SERVIÇOS FINANCEIROS QUE PROMETEM GERAR PATRIMÔNIO POR MEIO DE GESTÃO DE CRIPTOMOEDAS, COM DIVULGAÇÃO DE INFORMAÇÕES FALSAS SOBRE PROJETOS OU SERVIÇOS E PROMESSA DE RENTABILIDADE ANORMALMENTE ALTA OU GARANTIDA E INEXISTÊNCIA DE TAXAS, MAS CONSTITUINDO-SE EM SISTEMA DE REMUNERAÇÃO ALIMENTADO PELA ENTRADA DE NOVOS PARTICIPANTES (O QUE TEM TRAZIDO PREJUÍZOS VULTOSOS AOS INVESTIDORES E A TODA A SOCIEDADE, ENTRE OS ANOS DE 2019 E 2022)                                                             13\n",
       "CO:101131                         DEFENSORIA PÚBLICA DA UNIÃO                                                                                                                                                                                                                                                                                                                                                                                                                                                                                                                                                                                                                               11\n",
       "CO:60                             PRESIDÊNCIA DA REPÚBLICA                                                                                                                                                                                                                                                                                                                                                                                                                                                                                                                                                                                                                                  10\n",
       "CO:57                             MINISTÉRIO PÚBLICO DA UNIÃO                                                                                                                                                                                                                                                                                                                                                                                                                                                                                                                                                                                                                               10\n",
       "CO:539384                         COMISSÃO DA AMAZÔNIA E DOS POVOS ORIGINÁRIOS E TRADICIONAIS                                                                                                                                                                                                                                                                                                                                                                                                                                                                                                                                                                                                9\n",
       "CO:277                            TRIBUNAL SUPERIOR ELEITORAL                                                                                                                                                                                                                                                                                                                                                                                                                                                                                                                                                                                                                                8\n",
       "CO:81                             SUPERIOR TRIBUNAL DE JUSTIÇA                                                                                                                                                                                                                                                                                                                                                                                                                                                                                                                                                                                                                               7\n",
       "CO:102648                         COMISSÃO PARLAMENTAR MISTA DE INQUÉRITO DOS ATOS DE 8 DE JANEIRO DE 2023                                                                                                                                                                                                                                                                                                                                                                                                                                                                                                                                                                                   6\n",
       "CO:253           SE:7352682       PODER EXECUTIVO                                                                                                                                                                                                                                                                                                                                                                                                                                                                                                                                                                                FORUM NACIONAL DE COMITÊS HIDROGRÁFICAS BRASIL              6\n",
       "CO:5503                           COMISSÃO DE SEGURANÇA PÚBLICA E COMBATE AO CRIME ORGANIZADO                                                                                                                                                                                                                                                                                                                                                                                                                                                                                                                                                                                                6\n",
       "CO:82                             TRIBUNAL DE CONTAS DA UNIÃO                                                                                                                                                                                                                                                                                                                                                                                                                                                                                                                                                                                                                                5\n",
       "CO:539419                         COMISSÃO ESPECIAL PARA ESTUDO, AVALIAÇÃO E ACOMPANHAMENTO DAS INICIATIVAS E MEDIDAS ADOTADAS PARA TRANSIÇÃO ENERGÉTICA - FONTES RENOVÁVEIS E PRODUÇÃO DE HIDROGÊNIO VERDE NO BRASIL                                                                                                                                                                                                                                                                                                                                                                                                                                                                        4\n",
       "CO:2016                           COMISSÃO DE VIAÇÃO E TRANSPORTES                                                                                                                                                                                                                                                                                                                                                                                                                                                                                                                                                                                                                           3\n",
       "CO:2001                           COMISSÃO DE AGRICULTURA, PECUÁRIA, ABASTECIMENTO E DESENVOLVIMENTO RURAL                                                                                                                                                                                                                                                                                                                                                                                                                                                                                                                                                                                   2\n",
       "CO:101772                         MPF - PGR - PROCURADORIA GERAL DA REPÚBLICA                                                                                                                                                                                                                                                                                                                                                                                                                                                                                                                                                                                                                2\n",
       "CO:102212                         COMISSÃO MISTA DA MPV 900/2019                                                                                                                                                                                                                                                                                                                                                                                                                                                                                                                                                                                                                             1\n",
       "CO:102210                         COMISSÃO MISTA DA MPV 898/2019                                                                                                                                                                                                                                                                                                                                                                                                                                                                                                                                                                                                                             1\n",
       "CO:101582                         TRIBUNAL DE CONTAS DA UNIÃO                                                                                                                                                                                                                                                                                                                                                                                                                                                                                                                                                                                                                                1\n",
       "CO:100292                         CÂMARA DOS DEPUTADOS                                                                                                                                                                                                                                                                                                                                                                                                                                                                                                                                                                                                                                       1\n",
       "CO:102211                         COMISSÃO MISTA DA MPV 899/2019                                                                                                                                                                                                                                                                                                                                                                                                                                                                                                                                                                                                                             1\n",
       "CO:102594                         COMISSÃO MISTA DA MPV 1147/2022                                                                                                                                                                                                                                                                                                                                                                                                                                                                                                                                                                                                                            1\n",
       "CO:102220                         COMISSÃO MISTA DA MPV 905/2019                                                                                                                                                                                                                                                                                                                                                                                                                                                                                                                                                                                                                             1\n",
       "CO:102639                         COMISSÃO MISTA DA MPV 1173/2023                                                                                                                                                                                                                                                                                                                                                                                                                                                                                                                                                                                                                            1\n",
       "CO:102638                         COMISSÃO MISTA DA MPV 1172/2023                                                                                                                                                                                                                                                                                                                                                                                                                                                                                                                                                                                                                            1\n",
       "CO:102642                         COMISSÃO MISTA DA MPV 1174/2023                                                                                                                                                                                                                                                                                                                                                                                                                                                                                                                                                                                                                            1\n",
       "CO:102840                         COMISSÃO MISTA DA MPV 1202/2023                                                                                                                                                                                                                                                                                                                                                                                                                                                                                                                                                                                                                            1\n",
       "CO:102601                         COMISSÃO MISTA DA MPV 1154/2023                                                                                                                                                                                                                                                                                                                                                                                                                                                                                                                                                                                                                            1\n",
       "CO:102636                         COMISSÃO MISTA DA MPV 1170/2023                                                                                                                                                                                                                                                                                                                                                                                                                                                                                                                                                                                                                            1\n",
       "Name: count, dtype: int64"
      ]
     },
     "execution_count": 10,
     "metadata": {},
     "output_type": "execute_result"
    }
   ],
   "source": [
    "# Vamos certificar que os externos realmente são externos\n",
    "\n",
    "event_labeled_df[event_labeled_df['origem'] == 'externo'][[c for c in event_labeled_df.columns if c.startswith(\"auth\")]].value_counts()"
   ]
  },
  {
   "cell_type": "markdown",
   "id": "010ae3f3",
   "metadata": {},
   "source": [
    "Critérios para score de proposições:\n",
    "\n",
    "(considerando que o caminho pode ser Câmara -> Senado ou Senado -> Câmara)\n",
    "\n",
    "* Foi protocolada na primeira casa mas não chegou a comissão ou plenário: 0.0\n",
    "* Chegou a comissão ou plenário na primeira casa: 0.25\n",
    "* Aprovada na primeira casa: 0.5\n",
    "* Chegou a comissão ou plenário na segunda casa: 0.75\n",
    "* Aprovada na segunda casa (ou seja, remetida a sanção ou promulgação): 1.0"
   ]
  },
  {
   "cell_type": "code",
   "execution_count": 11,
   "id": "d555596a",
   "metadata": {},
   "outputs": [
    {
     "data": {
      "application/vnd.microsoft.datawrangler.viewer.v0+json": {
       "columns": [
        {
         "name": "label",
         "rawType": "object",
         "type": "string"
        },
        {
         "name": "origem",
         "rawType": "object",
         "type": "string"
        }
       ],
       "ref": "0d54921d-61bc-4e71-af29-bd6a7c8003a8",
       "rows": [
        [
         "MPV 1000/2020",
         "externo"
        ],
        [
         "MPV 1001/2020",
         "externo"
        ],
        [
         "MPV 1002/2020",
         "externo"
        ],
        [
         "MPV 1003/2020",
         "externo"
        ],
        [
         "MPV 1004/2020",
         "externo"
        ],
        [
         "MPV 1005/2020",
         "externo"
        ],
        [
         "MPV 1006/2020",
         "externo"
        ],
        [
         "MPV 1007/2020",
         "externo"
        ],
        [
         "MPV 1008/2020",
         "externo"
        ],
        [
         "MPV 1009/2020",
         "externo"
        ],
        [
         "MPV 1010/2020",
         "externo"
        ],
        [
         "MPV 1011/2020",
         "externo"
        ],
        [
         "MPV 1012/2020",
         "externo"
        ],
        [
         "MPV 1013/2020",
         "externo"
        ],
        [
         "MPV 1014/2020",
         "externo"
        ],
        [
         "MPV 1015/2020",
         "externo"
        ],
        [
         "MPV 1016/2020",
         "externo"
        ],
        [
         "MPV 1017/2020",
         "externo"
        ],
        [
         "MPV 1018/2020",
         "externo"
        ],
        [
         "MPV 1019/2020",
         "externo"
        ],
        [
         "MPV 1020/2020",
         "externo"
        ],
        [
         "MPV 1021/2020",
         "externo"
        ],
        [
         "MPV 1022/2020",
         "externo"
        ],
        [
         "MPV 1023/2020",
         "externo"
        ],
        [
         "MPV 1024/2020",
         "externo"
        ],
        [
         "MPV 1025/2020",
         "externo"
        ],
        [
         "MPV 1026/2021",
         "externo"
        ],
        [
         "MPV 1027/2021",
         "externo"
        ],
        [
         "MPV 1028/2021",
         "externo"
        ],
        [
         "MPV 1029/2021",
         "externo"
        ],
        [
         "MPV 1030/2021",
         "externo"
        ],
        [
         "MPV 1031/2021",
         "externo"
        ],
        [
         "MPV 1032/2021",
         "externo"
        ],
        [
         "MPV 1033/2021",
         "externo"
        ],
        [
         "MPV 1034/2021",
         "externo"
        ],
        [
         "MPV 1035/2021",
         "externo"
        ],
        [
         "MPV 1036/2021",
         "externo"
        ],
        [
         "MPV 1037/2021",
         "externo"
        ],
        [
         "MPV 1038/2021",
         "externo"
        ],
        [
         "MPV 1039/2021",
         "externo"
        ],
        [
         "MPV 1040/2021",
         "externo"
        ],
        [
         "MPV 1041/2021",
         "externo"
        ],
        [
         "MPV 1042/2021",
         "externo"
        ],
        [
         "MPV 1043/2021",
         "externo"
        ],
        [
         "MPV 1044/2021",
         "externo"
        ],
        [
         "MPV 1045/2021",
         "externo"
        ],
        [
         "MPV 1046/2021",
         "externo"
        ],
        [
         "MPV 1047/2021",
         "externo"
        ],
        [
         "MPV 1048/2021",
         "externo"
        ],
        [
         "MPV 1049/2021",
         "externo"
        ]
       ],
       "shape": {
        "columns": 1,
        "rows": 28081
       }
      },
      "text/plain": [
       "label\n",
       "MPV 1000/2020    externo\n",
       "MPV 1001/2020    externo\n",
       "MPV 1002/2020    externo\n",
       "MPV 1003/2020    externo\n",
       "MPV 1004/2020    externo\n",
       "                  ...   \n",
       "PLV 8/2023        camara\n",
       "PLV 9/2020        camara\n",
       "PLV 9/2021        camara\n",
       "PLV 9/2022        camara\n",
       "PLV 9/2023       externo\n",
       "Name: origem, Length: 28081, dtype: object"
      ]
     },
     "execution_count": 11,
     "metadata": {},
     "output_type": "execute_result"
    }
   ],
   "source": [
    "\n",
    "df = event_labeled_df\n",
    "by_label = df.groupby('label', sort=False)\n",
    "origem = by_label['origem'].first()\n",
    "origem"
   ]
  },
  {
   "cell_type": "code",
   "execution_count": 12,
   "id": "19fdb291",
   "metadata": {},
   "outputs": [],
   "source": [
    "is_mpv_pl = df['label'].str.startswith(('MPV','PL'))\n",
    "is_pec = df['label'].str.startswith('PEC')\n",
    "has_sancao = df['event'].eq(Event.REMETIDO_A_SANCAO).groupby(df['label']).any()\n",
    "has_promulg = df['event'].eq(Event.REMETIDO_A_PROMULGACAO).groupby(df['label']).any()"
   ]
  },
  {
   "cell_type": "code",
   "execution_count": 13,
   "id": "b2df74d8",
   "metadata": {},
   "outputs": [
    {
     "data": {
      "application/vnd.microsoft.datawrangler.viewer.v0+json": {
       "columns": [
        {
         "name": "label",
         "rawType": "object",
         "type": "string"
        },
        {
         "name": "('camara', <Event.APRESENTADO: 'apresentado'>)",
         "rawType": "bool",
         "type": "boolean"
        },
        {
         "name": "('camara', <Event.DISTRIBUIDO: 'distribuido'>)",
         "rawType": "bool",
         "type": "boolean"
        },
        {
         "name": "('camara', <Event.RECEBIDO_COMISSAO: 'recebido_comissao'>)",
         "rawType": "bool",
         "type": "boolean"
        },
        {
         "name": "('camara', <Event.DESIGNADO_RELATOR_COMISSAO: 'designado_relator_comissao'>)",
         "rawType": "bool",
         "type": "boolean"
        },
        {
         "name": "('camara', <Event.RETIRADO_PAUTA_COMISSAO: 'retirado_pauta_comissao'>)",
         "rawType": "bool",
         "type": "boolean"
        },
        {
         "name": "('camara', <Event.APROVADA_URGENCIA: 'aprovada_urgencia'>)",
         "rawType": "bool",
         "type": "boolean"
        },
        {
         "name": "('camara', <Event.DESIGNADO_RELATOR_PLENARIO: 'designado_relator_plenario'>)",
         "rawType": "bool",
         "type": "boolean"
        },
        {
         "name": "('camara', <Event.REMETIDO_AO_SENADO: 'remetido_ao_senado'>)",
         "rawType": "bool",
         "type": "boolean"
        },
        {
         "name": "('camara', <Event.REMETIDO_A_SANCAO: 'remetido_a_sancao'>)",
         "rawType": "bool",
         "type": "boolean"
        },
        {
         "name": "('camara', <Event.REMETIDO_A_PROMULGACAO: 'remetido_a_promulgacao'>)",
         "rawType": "bool",
         "type": "boolean"
        },
        {
         "name": "('camara', <Event.APROVADO_PLENARIO: 'aprovado_plenario'>)",
         "rawType": "bool",
         "type": "boolean"
        },
        {
         "name": "('camara', <Event.ARQUIVADO: 'arquivado'>)",
         "rawType": "bool",
         "type": "boolean"
        },
        {
         "name": "('camara', <Event.DESARQUIVADO: 'desarquivado'>)",
         "rawType": "bool",
         "type": "boolean"
        },
        {
         "name": "('senado', <Event.APRESENTADO: 'apresentado'>)",
         "rawType": "bool",
         "type": "boolean"
        },
        {
         "name": "('senado', <Event.RECEBIDO_COMISSAO: 'recebido_comissao'>)",
         "rawType": "bool",
         "type": "boolean"
        },
        {
         "name": "('senado', <Event.DESIGNADO_RELATOR_COMISSAO: 'designado_relator_comissao'>)",
         "rawType": "bool",
         "type": "boolean"
        },
        {
         "name": "('senado', <Event.RETIRADO_PAUTA_COMISSAO: 'retirado_pauta_comissao'>)",
         "rawType": "bool",
         "type": "boolean"
        },
        {
         "name": "('senado', <Event.APROVADA_URGENCIA: 'aprovada_urgencia'>)",
         "rawType": "bool",
         "type": "boolean"
        },
        {
         "name": "('senado', <Event.DESIGNADO_RELATOR_PLENARIO: 'designado_relator_plenario'>)",
         "rawType": "bool",
         "type": "boolean"
        },
        {
         "name": "('senado', <Event.REMETIDO_A_CAMARA: 'remetido_a_camara'>)",
         "rawType": "bool",
         "type": "boolean"
        },
        {
         "name": "('senado', <Event.REMETIDO_A_SANCAO: 'remetido_a_sancao'>)",
         "rawType": "bool",
         "type": "boolean"
        },
        {
         "name": "('senado', <Event.REMETIDO_A_PROMULGACAO: 'remetido_a_promulgacao'>)",
         "rawType": "bool",
         "type": "boolean"
        },
        {
         "name": "('senado', <Event.APROVADO_PLENARIO: 'aprovado_plenario'>)",
         "rawType": "bool",
         "type": "boolean"
        },
        {
         "name": "('senado', <Event.REJEITADO_PLENARIO: 'rejeitado_plenario'>)",
         "rawType": "bool",
         "type": "boolean"
        },
        {
         "name": "('senado', <Event.ARQUIVADO: 'arquivado'>)",
         "rawType": "bool",
         "type": "boolean"
        }
       ],
       "ref": "95a07407-0e7a-4554-a7b5-00851dfca9ce",
       "rows": [
        [
         "MPV 1000/2020",
         "True",
         "True",
         "True",
         "False",
         "False",
         "False",
         "True",
         "False",
         "False",
         "False",
         "False",
         "False",
         "False",
         "True",
         "False",
         "False",
         "False",
         "False",
         "False",
         "False",
         "False",
         "False",
         "False",
         "False",
         "False"
        ],
        [
         "MPV 1001/2020",
         "True",
         "True",
         "True",
         "False",
         "False",
         "False",
         "False",
         "False",
         "False",
         "False",
         "False",
         "False",
         "False",
         "True",
         "False",
         "False",
         "False",
         "False",
         "False",
         "False",
         "False",
         "False",
         "False",
         "False",
         "False"
        ],
        [
         "MPV 1002/2020",
         "True",
         "True",
         "True",
         "False",
         "False",
         "False",
         "False",
         "False",
         "False",
         "False",
         "False",
         "False",
         "False",
         "True",
         "False",
         "False",
         "False",
         "False",
         "False",
         "False",
         "False",
         "False",
         "False",
         "False",
         "False"
        ],
        [
         "MPV 1003/2020",
         "True",
         "True",
         "True",
         "False",
         "False",
         "False",
         "True",
         "True",
         "False",
         "False",
         "True",
         "False",
         "False",
         "True",
         "True",
         "False",
         "False",
         "True",
         "False",
         "False",
         "False",
         "False",
         "True",
         "False",
         "False"
        ],
        [
         "MPV 1004/2020",
         "True",
         "True",
         "True",
         "False",
         "False",
         "False",
         "True",
         "True",
         "False",
         "False",
         "True",
         "False",
         "False",
         "True",
         "True",
         "False",
         "False",
         "True",
         "False",
         "False",
         "False",
         "False",
         "True",
         "False",
         "False"
        ],
        [
         "MPV 1005/2020",
         "True",
         "True",
         "True",
         "False",
         "False",
         "False",
         "True",
         "False",
         "False",
         "False",
         "False",
         "False",
         "False",
         "True",
         "False",
         "False",
         "False",
         "False",
         "False",
         "False",
         "False",
         "False",
         "False",
         "False",
         "False"
        ],
        [
         "MPV 1006/2020",
         "True",
         "True",
         "True",
         "False",
         "False",
         "False",
         "True",
         "True",
         "False",
         "False",
         "True",
         "False",
         "False",
         "True",
         "True",
         "False",
         "False",
         "True",
         "True",
         "False",
         "True",
         "False",
         "True",
         "False",
         "False"
        ],
        [
         "MPV 1007/2020",
         "True",
         "True",
         "True",
         "False",
         "False",
         "False",
         "False",
         "False",
         "False",
         "False",
         "False",
         "False",
         "False",
         "True",
         "False",
         "False",
         "False",
         "False",
         "False",
         "False",
         "False",
         "False",
         "False",
         "False",
         "False"
        ],
        [
         "MPV 1008/2020",
         "True",
         "True",
         "True",
         "False",
         "False",
         "False",
         "False",
         "False",
         "False",
         "False",
         "False",
         "False",
         "False",
         "True",
         "False",
         "False",
         "False",
         "False",
         "False",
         "False",
         "False",
         "False",
         "False",
         "False",
         "False"
        ],
        [
         "MPV 1009/2020",
         "True",
         "True",
         "True",
         "False",
         "False",
         "False",
         "True",
         "True",
         "False",
         "False",
         "True",
         "False",
         "False",
         "True",
         "True",
         "False",
         "False",
         "True",
         "False",
         "False",
         "False",
         "False",
         "True",
         "False",
         "False"
        ],
        [
         "MPV 1010/2020",
         "True",
         "True",
         "True",
         "False",
         "False",
         "False",
         "True",
         "True",
         "False",
         "False",
         "True",
         "False",
         "False",
         "True",
         "True",
         "False",
         "False",
         "True",
         "True",
         "False",
         "True",
         "False",
         "True",
         "False",
         "False"
        ],
        [
         "MPV 1011/2020",
         "True",
         "True",
         "True",
         "False",
         "False",
         "False",
         "False",
         "False",
         "False",
         "False",
         "False",
         "False",
         "False",
         "True",
         "False",
         "False",
         "False",
         "False",
         "False",
         "False",
         "False",
         "False",
         "False",
         "False",
         "False"
        ],
        [
         "MPV 1012/2020",
         "True",
         "True",
         "True",
         "False",
         "False",
         "False",
         "True",
         "True",
         "False",
         "False",
         "True",
         "False",
         "False",
         "True",
         "True",
         "False",
         "False",
         "True",
         "True",
         "False",
         "True",
         "False",
         "True",
         "False",
         "False"
        ],
        [
         "MPV 1013/2020",
         "True",
         "True",
         "True",
         "False",
         "False",
         "False",
         "False",
         "False",
         "False",
         "False",
         "False",
         "False",
         "False",
         "True",
         "False",
         "False",
         "False",
         "False",
         "False",
         "False",
         "False",
         "False",
         "False",
         "False",
         "False"
        ],
        [
         "MPV 1014/2020",
         "True",
         "True",
         "True",
         "False",
         "False",
         "False",
         "True",
         "True",
         "False",
         "False",
         "True",
         "False",
         "False",
         "True",
         "True",
         "False",
         "False",
         "True",
         "True",
         "False",
         "True",
         "False",
         "True",
         "False",
         "False"
        ],
        [
         "MPV 1015/2020",
         "True",
         "True",
         "True",
         "False",
         "False",
         "False",
         "False",
         "False",
         "False",
         "False",
         "False",
         "False",
         "False",
         "True",
         "False",
         "False",
         "False",
         "False",
         "False",
         "False",
         "False",
         "False",
         "False",
         "False",
         "False"
        ],
        [
         "MPV 1016/2020",
         "True",
         "True",
         "True",
         "False",
         "False",
         "False",
         "True",
         "True",
         "False",
         "False",
         "True",
         "False",
         "False",
         "True",
         "True",
         "False",
         "False",
         "True",
         "True",
         "False",
         "False",
         "False",
         "True",
         "False",
         "False"
        ],
        [
         "MPV 1017/2020",
         "True",
         "True",
         "True",
         "False",
         "False",
         "False",
         "True",
         "True",
         "True",
         "False",
         "True",
         "False",
         "False",
         "True",
         "True",
         "False",
         "False",
         "True",
         "False",
         "False",
         "False",
         "False",
         "True",
         "False",
         "False"
        ],
        [
         "MPV 1018/2020",
         "True",
         "True",
         "True",
         "False",
         "False",
         "False",
         "True",
         "True",
         "False",
         "False",
         "True",
         "False",
         "False",
         "True",
         "True",
         "False",
         "False",
         "True",
         "True",
         "False",
         "False",
         "False",
         "False",
         "False",
         "False"
        ],
        [
         "MPV 1019/2020",
         "True",
         "True",
         "True",
         "False",
         "False",
         "False",
         "False",
         "False",
         "False",
         "False",
         "False",
         "False",
         "False",
         "True",
         "False",
         "False",
         "False",
         "False",
         "False",
         "False",
         "False",
         "False",
         "False",
         "False",
         "False"
        ],
        [
         "MPV 1020/2020",
         "True",
         "True",
         "True",
         "False",
         "False",
         "False",
         "True",
         "False",
         "False",
         "False",
         "False",
         "False",
         "False",
         "True",
         "False",
         "False",
         "False",
         "False",
         "False",
         "False",
         "False",
         "False",
         "False",
         "False",
         "False"
        ],
        [
         "MPV 1021/2020",
         "True",
         "True",
         "True",
         "False",
         "False",
         "False",
         "True",
         "True",
         "False",
         "False",
         "True",
         "False",
         "False",
         "True",
         "True",
         "False",
         "False",
         "True",
         "True",
         "False",
         "False",
         "False",
         "True",
         "False",
         "False"
        ],
        [
         "MPV 1022/2020",
         "True",
         "True",
         "True",
         "False",
         "False",
         "False",
         "False",
         "False",
         "False",
         "False",
         "False",
         "False",
         "False",
         "True",
         "False",
         "False",
         "False",
         "False",
         "False",
         "False",
         "False",
         "False",
         "False",
         "False",
         "False"
        ],
        [
         "MPV 1023/2020",
         "True",
         "True",
         "True",
         "False",
         "False",
         "False",
         "True",
         "True",
         "False",
         "False",
         "True",
         "False",
         "False",
         "True",
         "True",
         "False",
         "False",
         "True",
         "True",
         "False",
         "True",
         "False",
         "True",
         "False",
         "False"
        ],
        [
         "MPV 1024/2020",
         "True",
         "True",
         "True",
         "False",
         "False",
         "False",
         "True",
         "True",
         "False",
         "False",
         "True",
         "False",
         "False",
         "True",
         "True",
         "False",
         "False",
         "True",
         "True",
         "False",
         "True",
         "False",
         "True",
         "False",
         "False"
        ],
        [
         "MPV 1025/2020",
         "True",
         "True",
         "True",
         "False",
         "False",
         "False",
         "True",
         "True",
         "False",
         "False",
         "True",
         "False",
         "False",
         "True",
         "True",
         "False",
         "False",
         "True",
         "True",
         "False",
         "False",
         "False",
         "True",
         "False",
         "False"
        ],
        [
         "MPV 1026/2021",
         "True",
         "True",
         "True",
         "False",
         "False",
         "False",
         "True",
         "True",
         "False",
         "False",
         "True",
         "False",
         "False",
         "True",
         "True",
         "False",
         "False",
         "True",
         "True",
         "False",
         "True",
         "False",
         "True",
         "False",
         "False"
        ],
        [
         "MPV 1027/2021",
         "True",
         "True",
         "True",
         "False",
         "False",
         "False",
         "True",
         "True",
         "False",
         "False",
         "True",
         "False",
         "False",
         "True",
         "True",
         "False",
         "False",
         "True",
         "True",
         "False",
         "False",
         "False",
         "True",
         "False",
         "False"
        ],
        [
         "MPV 1028/2021",
         "True",
         "True",
         "True",
         "False",
         "False",
         "False",
         "True",
         "True",
         "False",
         "False",
         "True",
         "False",
         "False",
         "True",
         "True",
         "False",
         "False",
         "True",
         "False",
         "False",
         "True",
         "False",
         "True",
         "False",
         "False"
        ],
        [
         "MPV 1029/2021",
         "True",
         "True",
         "True",
         "False",
         "False",
         "False",
         "True",
         "True",
         "False",
         "False",
         "True",
         "False",
         "False",
         "True",
         "True",
         "False",
         "False",
         "True",
         "False",
         "False",
         "False",
         "False",
         "True",
         "False",
         "False"
        ],
        [
         "MPV 1030/2021",
         "True",
         "True",
         "True",
         "False",
         "False",
         "False",
         "True",
         "True",
         "False",
         "False",
         "True",
         "False",
         "False",
         "True",
         "True",
         "False",
         "False",
         "True",
         "True",
         "False",
         "False",
         "False",
         "True",
         "False",
         "False"
        ],
        [
         "MPV 1031/2021",
         "True",
         "True",
         "True",
         "False",
         "False",
         "False",
         "True",
         "True",
         "True",
         "False",
         "True",
         "False",
         "False",
         "True",
         "True",
         "False",
         "False",
         "True",
         "True",
         "False",
         "False",
         "False",
         "False",
         "False",
         "False"
        ],
        [
         "MPV 1032/2021",
         "True",
         "True",
         "True",
         "False",
         "False",
         "False",
         "False",
         "False",
         "False",
         "False",
         "False",
         "False",
         "False",
         "True",
         "False",
         "False",
         "False",
         "False",
         "False",
         "False",
         "False",
         "False",
         "False",
         "False",
         "False"
        ],
        [
         "MPV 1033/2021",
         "True",
         "True",
         "True",
         "False",
         "False",
         "False",
         "True",
         "True",
         "False",
         "False",
         "True",
         "False",
         "False",
         "True",
         "True",
         "False",
         "False",
         "True",
         "True",
         "False",
         "False",
         "False",
         "False",
         "False",
         "False"
        ],
        [
         "MPV 1034/2021",
         "True",
         "True",
         "True",
         "False",
         "False",
         "False",
         "True",
         "True",
         "False",
         "False",
         "True",
         "False",
         "False",
         "True",
         "True",
         "False",
         "False",
         "True",
         "True",
         "False",
         "False",
         "False",
         "False",
         "False",
         "False"
        ],
        [
         "MPV 1035/2021",
         "True",
         "True",
         "True",
         "False",
         "False",
         "False",
         "False",
         "False",
         "False",
         "False",
         "False",
         "False",
         "False",
         "True",
         "False",
         "False",
         "False",
         "False",
         "False",
         "False",
         "False",
         "False",
         "False",
         "False",
         "False"
        ],
        [
         "MPV 1036/2021",
         "True",
         "True",
         "True",
         "False",
         "False",
         "False",
         "True",
         "True",
         "False",
         "False",
         "True",
         "False",
         "False",
         "True",
         "True",
         "False",
         "False",
         "True",
         "True",
         "False",
         "True",
         "False",
         "True",
         "False",
         "False"
        ],
        [
         "MPV 1037/2021",
         "True",
         "True",
         "True",
         "False",
         "False",
         "False",
         "False",
         "False",
         "False",
         "False",
         "False",
         "False",
         "False",
         "True",
         "False",
         "False",
         "False",
         "False",
         "False",
         "False",
         "False",
         "False",
         "False",
         "False",
         "False"
        ],
        [
         "MPV 1038/2021",
         "True",
         "True",
         "True",
         "False",
         "False",
         "False",
         "False",
         "False",
         "False",
         "False",
         "False",
         "False",
         "False",
         "True",
         "False",
         "False",
         "False",
         "False",
         "False",
         "False",
         "False",
         "False",
         "False",
         "False",
         "False"
        ],
        [
         "MPV 1039/2021",
         "True",
         "True",
         "True",
         "False",
         "False",
         "False",
         "False",
         "False",
         "False",
         "False",
         "False",
         "False",
         "False",
         "True",
         "False",
         "False",
         "False",
         "False",
         "False",
         "False",
         "False",
         "False",
         "False",
         "False",
         "False"
        ],
        [
         "MPV 1040/2021",
         "True",
         "True",
         "True",
         "False",
         "False",
         "False",
         "True",
         "True",
         "True",
         "False",
         "True",
         "False",
         "False",
         "True",
         "True",
         "False",
         "False",
         "True",
         "True",
         "False",
         "False",
         "False",
         "False",
         "False",
         "False"
        ],
        [
         "MPV 1041/2021",
         "True",
         "True",
         "True",
         "False",
         "False",
         "False",
         "False",
         "False",
         "False",
         "False",
         "False",
         "False",
         "False",
         "True",
         "False",
         "False",
         "False",
         "False",
         "False",
         "False",
         "False",
         "False",
         "False",
         "False",
         "False"
        ],
        [
         "MPV 1042/2021",
         "True",
         "True",
         "True",
         "False",
         "False",
         "False",
         "True",
         "True",
         "False",
         "False",
         "True",
         "False",
         "False",
         "True",
         "True",
         "False",
         "False",
         "True",
         "True",
         "False",
         "True",
         "False",
         "True",
         "False",
         "False"
        ],
        [
         "MPV 1043/2021",
         "True",
         "True",
         "True",
         "False",
         "False",
         "False",
         "False",
         "False",
         "False",
         "False",
         "False",
         "False",
         "False",
         "True",
         "False",
         "False",
         "False",
         "False",
         "False",
         "False",
         "False",
         "False",
         "False",
         "False",
         "False"
        ],
        [
         "MPV 1044/2021",
         "True",
         "True",
         "True",
         "False",
         "False",
         "False",
         "False",
         "False",
         "False",
         "False",
         "False",
         "False",
         "False",
         "True",
         "False",
         "False",
         "False",
         "False",
         "False",
         "False",
         "False",
         "False",
         "False",
         "False",
         "False"
        ],
        [
         "MPV 1045/2021",
         "True",
         "True",
         "True",
         "False",
         "False",
         "False",
         "True",
         "True",
         "False",
         "False",
         "True",
         "False",
         "False",
         "True",
         "True",
         "False",
         "False",
         "False",
         "True",
         "False",
         "False",
         "False",
         "False",
         "True",
         "False"
        ],
        [
         "MPV 1046/2021",
         "True",
         "True",
         "True",
         "False",
         "False",
         "False",
         "False",
         "False",
         "False",
         "False",
         "False",
         "False",
         "False",
         "True",
         "False",
         "False",
         "False",
         "False",
         "False",
         "False",
         "False",
         "False",
         "False",
         "False",
         "False"
        ],
        [
         "MPV 1047/2021",
         "True",
         "True",
         "True",
         "False",
         "False",
         "False",
         "True",
         "True",
         "False",
         "False",
         "True",
         "False",
         "False",
         "True",
         "True",
         "False",
         "False",
         "True",
         "True",
         "False",
         "True",
         "False",
         "True",
         "False",
         "False"
        ],
        [
         "MPV 1048/2021",
         "True",
         "True",
         "True",
         "False",
         "False",
         "False",
         "False",
         "False",
         "False",
         "False",
         "False",
         "False",
         "False",
         "True",
         "False",
         "False",
         "False",
         "False",
         "False",
         "False",
         "False",
         "False",
         "False",
         "False",
         "False"
        ],
        [
         "MPV 1049/2021",
         "True",
         "True",
         "True",
         "False",
         "False",
         "False",
         "True",
         "True",
         "False",
         "False",
         "True",
         "False",
         "False",
         "True",
         "True",
         "False",
         "False",
         "True",
         "True",
         "False",
         "True",
         "False",
         "True",
         "False",
         "False"
        ]
       ],
       "shape": {
        "columns": 25,
        "rows": 28081
       }
      },
      "text/html": [
       "<div>\n",
       "<style scoped>\n",
       "    .dataframe tbody tr th:only-of-type {\n",
       "        vertical-align: middle;\n",
       "    }\n",
       "\n",
       "    .dataframe tbody tr th {\n",
       "        vertical-align: top;\n",
       "    }\n",
       "\n",
       "    .dataframe thead tr th {\n",
       "        text-align: left;\n",
       "    }\n",
       "\n",
       "    .dataframe thead tr:last-of-type th {\n",
       "        text-align: right;\n",
       "    }\n",
       "</style>\n",
       "<table border=\"1\" class=\"dataframe\">\n",
       "  <thead>\n",
       "    <tr>\n",
       "      <th>casa</th>\n",
       "      <th colspan=\"10\" halign=\"left\">camara</th>\n",
       "      <th>...</th>\n",
       "      <th colspan=\"10\" halign=\"left\">senado</th>\n",
       "    </tr>\n",
       "    <tr>\n",
       "      <th>event</th>\n",
       "      <th>Event.APRESENTADO</th>\n",
       "      <th>Event.DISTRIBUIDO</th>\n",
       "      <th>Event.RECEBIDO_COMISSAO</th>\n",
       "      <th>Event.DESIGNADO_RELATOR_COMISSAO</th>\n",
       "      <th>Event.RETIRADO_PAUTA_COMISSAO</th>\n",
       "      <th>Event.APROVADA_URGENCIA</th>\n",
       "      <th>Event.DESIGNADO_RELATOR_PLENARIO</th>\n",
       "      <th>Event.REMETIDO_AO_SENADO</th>\n",
       "      <th>Event.REMETIDO_A_SANCAO</th>\n",
       "      <th>Event.REMETIDO_A_PROMULGACAO</th>\n",
       "      <th>...</th>\n",
       "      <th>Event.DESIGNADO_RELATOR_COMISSAO</th>\n",
       "      <th>Event.RETIRADO_PAUTA_COMISSAO</th>\n",
       "      <th>Event.APROVADA_URGENCIA</th>\n",
       "      <th>Event.DESIGNADO_RELATOR_PLENARIO</th>\n",
       "      <th>Event.REMETIDO_A_CAMARA</th>\n",
       "      <th>Event.REMETIDO_A_SANCAO</th>\n",
       "      <th>Event.REMETIDO_A_PROMULGACAO</th>\n",
       "      <th>Event.APROVADO_PLENARIO</th>\n",
       "      <th>Event.REJEITADO_PLENARIO</th>\n",
       "      <th>Event.ARQUIVADO</th>\n",
       "    </tr>\n",
       "    <tr>\n",
       "      <th>label</th>\n",
       "      <th></th>\n",
       "      <th></th>\n",
       "      <th></th>\n",
       "      <th></th>\n",
       "      <th></th>\n",
       "      <th></th>\n",
       "      <th></th>\n",
       "      <th></th>\n",
       "      <th></th>\n",
       "      <th></th>\n",
       "      <th></th>\n",
       "      <th></th>\n",
       "      <th></th>\n",
       "      <th></th>\n",
       "      <th></th>\n",
       "      <th></th>\n",
       "      <th></th>\n",
       "      <th></th>\n",
       "      <th></th>\n",
       "      <th></th>\n",
       "      <th></th>\n",
       "    </tr>\n",
       "  </thead>\n",
       "  <tbody>\n",
       "    <tr>\n",
       "      <th>MPV 1000/2020</th>\n",
       "      <td>True</td>\n",
       "      <td>True</td>\n",
       "      <td>True</td>\n",
       "      <td>False</td>\n",
       "      <td>False</td>\n",
       "      <td>False</td>\n",
       "      <td>True</td>\n",
       "      <td>False</td>\n",
       "      <td>False</td>\n",
       "      <td>False</td>\n",
       "      <td>...</td>\n",
       "      <td>False</td>\n",
       "      <td>False</td>\n",
       "      <td>False</td>\n",
       "      <td>False</td>\n",
       "      <td>False</td>\n",
       "      <td>False</td>\n",
       "      <td>False</td>\n",
       "      <td>False</td>\n",
       "      <td>False</td>\n",
       "      <td>False</td>\n",
       "    </tr>\n",
       "    <tr>\n",
       "      <th>MPV 1001/2020</th>\n",
       "      <td>True</td>\n",
       "      <td>True</td>\n",
       "      <td>True</td>\n",
       "      <td>False</td>\n",
       "      <td>False</td>\n",
       "      <td>False</td>\n",
       "      <td>False</td>\n",
       "      <td>False</td>\n",
       "      <td>False</td>\n",
       "      <td>False</td>\n",
       "      <td>...</td>\n",
       "      <td>False</td>\n",
       "      <td>False</td>\n",
       "      <td>False</td>\n",
       "      <td>False</td>\n",
       "      <td>False</td>\n",
       "      <td>False</td>\n",
       "      <td>False</td>\n",
       "      <td>False</td>\n",
       "      <td>False</td>\n",
       "      <td>False</td>\n",
       "    </tr>\n",
       "    <tr>\n",
       "      <th>MPV 1002/2020</th>\n",
       "      <td>True</td>\n",
       "      <td>True</td>\n",
       "      <td>True</td>\n",
       "      <td>False</td>\n",
       "      <td>False</td>\n",
       "      <td>False</td>\n",
       "      <td>False</td>\n",
       "      <td>False</td>\n",
       "      <td>False</td>\n",
       "      <td>False</td>\n",
       "      <td>...</td>\n",
       "      <td>False</td>\n",
       "      <td>False</td>\n",
       "      <td>False</td>\n",
       "      <td>False</td>\n",
       "      <td>False</td>\n",
       "      <td>False</td>\n",
       "      <td>False</td>\n",
       "      <td>False</td>\n",
       "      <td>False</td>\n",
       "      <td>False</td>\n",
       "    </tr>\n",
       "    <tr>\n",
       "      <th>MPV 1003/2020</th>\n",
       "      <td>True</td>\n",
       "      <td>True</td>\n",
       "      <td>True</td>\n",
       "      <td>False</td>\n",
       "      <td>False</td>\n",
       "      <td>False</td>\n",
       "      <td>True</td>\n",
       "      <td>True</td>\n",
       "      <td>False</td>\n",
       "      <td>False</td>\n",
       "      <td>...</td>\n",
       "      <td>False</td>\n",
       "      <td>False</td>\n",
       "      <td>True</td>\n",
       "      <td>False</td>\n",
       "      <td>False</td>\n",
       "      <td>False</td>\n",
       "      <td>False</td>\n",
       "      <td>True</td>\n",
       "      <td>False</td>\n",
       "      <td>False</td>\n",
       "    </tr>\n",
       "    <tr>\n",
       "      <th>MPV 1004/2020</th>\n",
       "      <td>True</td>\n",
       "      <td>True</td>\n",
       "      <td>True</td>\n",
       "      <td>False</td>\n",
       "      <td>False</td>\n",
       "      <td>False</td>\n",
       "      <td>True</td>\n",
       "      <td>True</td>\n",
       "      <td>False</td>\n",
       "      <td>False</td>\n",
       "      <td>...</td>\n",
       "      <td>False</td>\n",
       "      <td>False</td>\n",
       "      <td>True</td>\n",
       "      <td>False</td>\n",
       "      <td>False</td>\n",
       "      <td>False</td>\n",
       "      <td>False</td>\n",
       "      <td>True</td>\n",
       "      <td>False</td>\n",
       "      <td>False</td>\n",
       "    </tr>\n",
       "    <tr>\n",
       "      <th>...</th>\n",
       "      <td>...</td>\n",
       "      <td>...</td>\n",
       "      <td>...</td>\n",
       "      <td>...</td>\n",
       "      <td>...</td>\n",
       "      <td>...</td>\n",
       "      <td>...</td>\n",
       "      <td>...</td>\n",
       "      <td>...</td>\n",
       "      <td>...</td>\n",
       "      <td>...</td>\n",
       "      <td>...</td>\n",
       "      <td>...</td>\n",
       "      <td>...</td>\n",
       "      <td>...</td>\n",
       "      <td>...</td>\n",
       "      <td>...</td>\n",
       "      <td>...</td>\n",
       "      <td>...</td>\n",
       "      <td>...</td>\n",
       "      <td>...</td>\n",
       "    </tr>\n",
       "    <tr>\n",
       "      <th>PLV 8/2023</th>\n",
       "      <td>True</td>\n",
       "      <td>False</td>\n",
       "      <td>False</td>\n",
       "      <td>False</td>\n",
       "      <td>False</td>\n",
       "      <td>False</td>\n",
       "      <td>False</td>\n",
       "      <td>False</td>\n",
       "      <td>False</td>\n",
       "      <td>False</td>\n",
       "      <td>...</td>\n",
       "      <td>False</td>\n",
       "      <td>False</td>\n",
       "      <td>False</td>\n",
       "      <td>False</td>\n",
       "      <td>False</td>\n",
       "      <td>False</td>\n",
       "      <td>False</td>\n",
       "      <td>False</td>\n",
       "      <td>False</td>\n",
       "      <td>False</td>\n",
       "    </tr>\n",
       "    <tr>\n",
       "      <th>PLV 9/2020</th>\n",
       "      <td>True</td>\n",
       "      <td>False</td>\n",
       "      <td>False</td>\n",
       "      <td>False</td>\n",
       "      <td>False</td>\n",
       "      <td>False</td>\n",
       "      <td>False</td>\n",
       "      <td>False</td>\n",
       "      <td>False</td>\n",
       "      <td>False</td>\n",
       "      <td>...</td>\n",
       "      <td>False</td>\n",
       "      <td>False</td>\n",
       "      <td>False</td>\n",
       "      <td>False</td>\n",
       "      <td>False</td>\n",
       "      <td>False</td>\n",
       "      <td>False</td>\n",
       "      <td>False</td>\n",
       "      <td>False</td>\n",
       "      <td>False</td>\n",
       "    </tr>\n",
       "    <tr>\n",
       "      <th>PLV 9/2021</th>\n",
       "      <td>True</td>\n",
       "      <td>False</td>\n",
       "      <td>False</td>\n",
       "      <td>False</td>\n",
       "      <td>False</td>\n",
       "      <td>False</td>\n",
       "      <td>False</td>\n",
       "      <td>False</td>\n",
       "      <td>False</td>\n",
       "      <td>False</td>\n",
       "      <td>...</td>\n",
       "      <td>False</td>\n",
       "      <td>False</td>\n",
       "      <td>False</td>\n",
       "      <td>False</td>\n",
       "      <td>False</td>\n",
       "      <td>False</td>\n",
       "      <td>False</td>\n",
       "      <td>False</td>\n",
       "      <td>False</td>\n",
       "      <td>False</td>\n",
       "    </tr>\n",
       "    <tr>\n",
       "      <th>PLV 9/2022</th>\n",
       "      <td>True</td>\n",
       "      <td>False</td>\n",
       "      <td>False</td>\n",
       "      <td>False</td>\n",
       "      <td>False</td>\n",
       "      <td>False</td>\n",
       "      <td>False</td>\n",
       "      <td>False</td>\n",
       "      <td>False</td>\n",
       "      <td>False</td>\n",
       "      <td>...</td>\n",
       "      <td>False</td>\n",
       "      <td>False</td>\n",
       "      <td>False</td>\n",
       "      <td>False</td>\n",
       "      <td>False</td>\n",
       "      <td>False</td>\n",
       "      <td>False</td>\n",
       "      <td>False</td>\n",
       "      <td>False</td>\n",
       "      <td>False</td>\n",
       "    </tr>\n",
       "    <tr>\n",
       "      <th>PLV 9/2023</th>\n",
       "      <td>True</td>\n",
       "      <td>False</td>\n",
       "      <td>False</td>\n",
       "      <td>False</td>\n",
       "      <td>False</td>\n",
       "      <td>False</td>\n",
       "      <td>False</td>\n",
       "      <td>False</td>\n",
       "      <td>False</td>\n",
       "      <td>False</td>\n",
       "      <td>...</td>\n",
       "      <td>False</td>\n",
       "      <td>False</td>\n",
       "      <td>False</td>\n",
       "      <td>False</td>\n",
       "      <td>False</td>\n",
       "      <td>False</td>\n",
       "      <td>False</td>\n",
       "      <td>False</td>\n",
       "      <td>False</td>\n",
       "      <td>False</td>\n",
       "    </tr>\n",
       "  </tbody>\n",
       "</table>\n",
       "<p>28081 rows × 25 columns</p>\n",
       "</div>"
      ],
      "text/plain": [
       "casa                     camara                                            \\\n",
       "event         Event.APRESENTADO Event.DISTRIBUIDO Event.RECEBIDO_COMISSAO   \n",
       "label                                                                       \n",
       "MPV 1000/2020              True              True                    True   \n",
       "MPV 1001/2020              True              True                    True   \n",
       "MPV 1002/2020              True              True                    True   \n",
       "MPV 1003/2020              True              True                    True   \n",
       "MPV 1004/2020              True              True                    True   \n",
       "...                         ...               ...                     ...   \n",
       "PLV 8/2023                 True             False                   False   \n",
       "PLV 9/2020                 True             False                   False   \n",
       "PLV 9/2021                 True             False                   False   \n",
       "PLV 9/2022                 True             False                   False   \n",
       "PLV 9/2023                 True             False                   False   \n",
       "\n",
       "casa                                                                          \\\n",
       "event         Event.DESIGNADO_RELATOR_COMISSAO Event.RETIRADO_PAUTA_COMISSAO   \n",
       "label                                                                          \n",
       "MPV 1000/2020                            False                         False   \n",
       "MPV 1001/2020                            False                         False   \n",
       "MPV 1002/2020                            False                         False   \n",
       "MPV 1003/2020                            False                         False   \n",
       "MPV 1004/2020                            False                         False   \n",
       "...                                        ...                           ...   \n",
       "PLV 8/2023                               False                         False   \n",
       "PLV 9/2020                               False                         False   \n",
       "PLV 9/2021                               False                         False   \n",
       "PLV 9/2022                               False                         False   \n",
       "PLV 9/2023                               False                         False   \n",
       "\n",
       "casa                                                                    \\\n",
       "event         Event.APROVADA_URGENCIA Event.DESIGNADO_RELATOR_PLENARIO   \n",
       "label                                                                    \n",
       "MPV 1000/2020                   False                             True   \n",
       "MPV 1001/2020                   False                            False   \n",
       "MPV 1002/2020                   False                            False   \n",
       "MPV 1003/2020                   False                             True   \n",
       "MPV 1004/2020                   False                             True   \n",
       "...                               ...                              ...   \n",
       "PLV 8/2023                      False                            False   \n",
       "PLV 9/2020                      False                            False   \n",
       "PLV 9/2021                      False                            False   \n",
       "PLV 9/2022                      False                            False   \n",
       "PLV 9/2023                      False                            False   \n",
       "\n",
       "casa                                                            \\\n",
       "event         Event.REMETIDO_AO_SENADO Event.REMETIDO_A_SANCAO   \n",
       "label                                                            \n",
       "MPV 1000/2020                    False                   False   \n",
       "MPV 1001/2020                    False                   False   \n",
       "MPV 1002/2020                    False                   False   \n",
       "MPV 1003/2020                     True                   False   \n",
       "MPV 1004/2020                     True                   False   \n",
       "...                                ...                     ...   \n",
       "PLV 8/2023                       False                   False   \n",
       "PLV 9/2020                       False                   False   \n",
       "PLV 9/2021                       False                   False   \n",
       "PLV 9/2022                       False                   False   \n",
       "PLV 9/2023                       False                   False   \n",
       "\n",
       "casa                                        ...  \\\n",
       "event         Event.REMETIDO_A_PROMULGACAO  ...   \n",
       "label                                       ...   \n",
       "MPV 1000/2020                        False  ...   \n",
       "MPV 1001/2020                        False  ...   \n",
       "MPV 1002/2020                        False  ...   \n",
       "MPV 1003/2020                        False  ...   \n",
       "MPV 1004/2020                        False  ...   \n",
       "...                                    ...  ...   \n",
       "PLV 8/2023                           False  ...   \n",
       "PLV 9/2020                           False  ...   \n",
       "PLV 9/2021                           False  ...   \n",
       "PLV 9/2022                           False  ...   \n",
       "PLV 9/2023                           False  ...   \n",
       "\n",
       "casa                                    senado                                \\\n",
       "event         Event.DESIGNADO_RELATOR_COMISSAO Event.RETIRADO_PAUTA_COMISSAO   \n",
       "label                                                                          \n",
       "MPV 1000/2020                            False                         False   \n",
       "MPV 1001/2020                            False                         False   \n",
       "MPV 1002/2020                            False                         False   \n",
       "MPV 1003/2020                            False                         False   \n",
       "MPV 1004/2020                            False                         False   \n",
       "...                                        ...                           ...   \n",
       "PLV 8/2023                               False                         False   \n",
       "PLV 9/2020                               False                         False   \n",
       "PLV 9/2021                               False                         False   \n",
       "PLV 9/2022                               False                         False   \n",
       "PLV 9/2023                               False                         False   \n",
       "\n",
       "casa                                                                    \\\n",
       "event         Event.APROVADA_URGENCIA Event.DESIGNADO_RELATOR_PLENARIO   \n",
       "label                                                                    \n",
       "MPV 1000/2020                   False                            False   \n",
       "MPV 1001/2020                   False                            False   \n",
       "MPV 1002/2020                   False                            False   \n",
       "MPV 1003/2020                    True                            False   \n",
       "MPV 1004/2020                    True                            False   \n",
       "...                               ...                              ...   \n",
       "PLV 8/2023                      False                            False   \n",
       "PLV 9/2020                      False                            False   \n",
       "PLV 9/2021                      False                            False   \n",
       "PLV 9/2022                      False                            False   \n",
       "PLV 9/2023                      False                            False   \n",
       "\n",
       "casa                                                           \\\n",
       "event         Event.REMETIDO_A_CAMARA Event.REMETIDO_A_SANCAO   \n",
       "label                                                           \n",
       "MPV 1000/2020                   False                   False   \n",
       "MPV 1001/2020                   False                   False   \n",
       "MPV 1002/2020                   False                   False   \n",
       "MPV 1003/2020                   False                   False   \n",
       "MPV 1004/2020                   False                   False   \n",
       "...                               ...                     ...   \n",
       "PLV 8/2023                      False                   False   \n",
       "PLV 9/2020                      False                   False   \n",
       "PLV 9/2021                      False                   False   \n",
       "PLV 9/2022                      False                   False   \n",
       "PLV 9/2023                      False                   False   \n",
       "\n",
       "casa                                                                \\\n",
       "event         Event.REMETIDO_A_PROMULGACAO Event.APROVADO_PLENARIO   \n",
       "label                                                                \n",
       "MPV 1000/2020                        False                   False   \n",
       "MPV 1001/2020                        False                   False   \n",
       "MPV 1002/2020                        False                   False   \n",
       "MPV 1003/2020                        False                    True   \n",
       "MPV 1004/2020                        False                    True   \n",
       "...                                    ...                     ...   \n",
       "PLV 8/2023                           False                   False   \n",
       "PLV 9/2020                           False                   False   \n",
       "PLV 9/2021                           False                   False   \n",
       "PLV 9/2022                           False                   False   \n",
       "PLV 9/2023                           False                   False   \n",
       "\n",
       "casa                                                    \n",
       "event         Event.REJEITADO_PLENARIO Event.ARQUIVADO  \n",
       "label                                                   \n",
       "MPV 1000/2020                    False           False  \n",
       "MPV 1001/2020                    False           False  \n",
       "MPV 1002/2020                    False           False  \n",
       "MPV 1003/2020                    False           False  \n",
       "MPV 1004/2020                    False           False  \n",
       "...                                ...             ...  \n",
       "PLV 8/2023                       False           False  \n",
       "PLV 9/2020                       False           False  \n",
       "PLV 9/2021                       False           False  \n",
       "PLV 9/2022                       False           False  \n",
       "PLV 9/2023                       False           False  \n",
       "\n",
       "[28081 rows x 25 columns]"
      ]
     },
     "execution_count": 13,
     "metadata": {},
     "output_type": "execute_result"
    }
   ],
   "source": [
    "presence = (\n",
    "    df.assign(present=True)\n",
    "      .pivot_table(index='label',\n",
    "                   columns=['casa','event'],\n",
    "                   values='present',\n",
    "                   aggfunc='any',\n",
    "                   fill_value=False)\n",
    ")\n",
    "presence"
   ]
  },
  {
   "cell_type": "code",
   "execution_count": 14,
   "id": "e1d0a064",
   "metadata": {},
   "outputs": [],
   "source": [
    "def P(house: str, event: Event) -> pd.Series:\n",
    "    col = (house, event)\n",
    "    return presence[col] if col in presence.columns else pd.Series(False, index=presence.index)\n"
   ]
  },
  {
   "cell_type": "code",
   "execution_count": 15,
   "id": "64fb6ada",
   "metadata": {},
   "outputs": [],
   "source": [
    "score_camara_externo = np.select(\n",
    "    [\n",
    "        (is_mpv_pl.groupby(df['label']).any() & has_sancao) |\n",
    "        (is_pec.groupby(df['label']).any() & has_promulg),  # 1.0\n",
    "        P('senado', Event.RECEBIDO_COMISSAO) | P('senado', Event.APROVADA_URGENCIA) | P('senado', Event.DESIGNADO_RELATOR_PLENARIO),  # 0.75\n",
    "        P('camara', Event.APROVADO_PLENARIO),  # 0.5\n",
    "        P('camara', Event.RECEBIDO_COMISSAO) | P('camara', Event.APROVADA_URGENCIA) | P('camara', Event.DESIGNADO_RELATOR_PLENARIO),  # 0.25\n",
    "    ],\n",
    "    [1.0, 0.75, 0.50, 0.25],\n",
    "    default=0.0\n",
    ")"
   ]
  },
  {
   "cell_type": "code",
   "execution_count": 16,
   "id": "39869a32",
   "metadata": {},
   "outputs": [],
   "source": [
    "score_senado = np.select(\n",
    "    [\n",
    "        (is_mpv_pl.groupby(df['label']).any() & has_sancao) |\n",
    "        (is_pec.groupby(df['label']).any() & has_promulg),  # 1.0\n",
    "        P('camara', Event.RECEBIDO_COMISSAO) | P('camara', Event.APROVADA_URGENCIA) | P('camara', Event.DESIGNADO_RELATOR_PLENARIO),  # 0.75\n",
    "        P('senado', Event.APROVADO_PLENARIO),  # 0.5\n",
    "        P('senado', Event.RECEBIDO_COMISSAO) | P('senado', Event.APROVADA_URGENCIA) | P('senado', Event.DESIGNADO_RELATOR_PLENARIO),  # 0.25\n",
    "    ],\n",
    "    [1.0, 0.75, 0.50, 0.25],\n",
    "    default=0.0\n",
    ")"
   ]
  },
  {
   "cell_type": "code",
   "execution_count": 17,
   "id": "f5756fba",
   "metadata": {},
   "outputs": [],
   "source": [
    "scores = pd.DataFrame({\n",
    "    'origem': origem,\n",
    "    'score_camara_externo': score_camara_externo,\n",
    "    'score_senado': score_senado,\n",
    "})\n",
    "scores['score'] = np.where(\n",
    "    scores['origem'].isin(['camara','externo']),\n",
    "    scores['score_camara_externo'],\n",
    "    np.where(scores['origem'].eq('senado'), scores['score_senado'], np.nan)\n",
    ")"
   ]
  },
  {
   "cell_type": "code",
   "execution_count": 18,
   "id": "5d4a8f11",
   "metadata": {},
   "outputs": [],
   "source": [
    "labels_and_scores: list[dict] = (\n",
    "    scores['score']\n",
    "    .rename('score')\n",
    "    .to_frame()\n",
    "    .reset_index(names='label')\n",
    "    .to_dict('records')\n",
    ")"
   ]
  },
  {
   "cell_type": "code",
   "execution_count": 19,
   "id": "736131e1",
   "metadata": {},
   "outputs": [
    {
     "data": {
      "application/vnd.microsoft.datawrangler.viewer.v0+json": {
       "columns": [
        {
         "name": "label",
         "rawType": "object",
         "type": "string"
        },
        {
         "name": "score",
         "rawType": "float64",
         "type": "float"
        }
       ],
       "ref": "04ab77a0-beb5-41a5-9a25-779a5cd718f9",
       "rows": [
        [
         "MPV 1000/2020",
         "0.25"
        ],
        [
         "MPV 1001/2020",
         "0.25"
        ],
        [
         "MPV 1002/2020",
         "0.25"
        ],
        [
         "MPV 1003/2020",
         "0.75"
        ],
        [
         "MPV 1004/2020",
         "0.75"
        ],
        [
         "MPV 1005/2020",
         "0.25"
        ],
        [
         "MPV 1006/2020",
         "1.0"
        ],
        [
         "MPV 1007/2020",
         "0.25"
        ],
        [
         "MPV 1008/2020",
         "0.25"
        ],
        [
         "MPV 1009/2020",
         "0.75"
        ],
        [
         "MPV 1010/2020",
         "1.0"
        ],
        [
         "MPV 1011/2020",
         "0.25"
        ],
        [
         "MPV 1012/2020",
         "1.0"
        ],
        [
         "MPV 1013/2020",
         "0.25"
        ],
        [
         "MPV 1014/2020",
         "1.0"
        ],
        [
         "MPV 1015/2020",
         "0.25"
        ],
        [
         "MPV 1016/2020",
         "0.75"
        ],
        [
         "MPV 1017/2020",
         "1.0"
        ],
        [
         "MPV 1018/2020",
         "0.75"
        ],
        [
         "MPV 1019/2020",
         "0.25"
        ],
        [
         "MPV 1020/2020",
         "0.25"
        ],
        [
         "MPV 1021/2020",
         "0.75"
        ],
        [
         "MPV 1022/2020",
         "0.25"
        ],
        [
         "MPV 1023/2020",
         "1.0"
        ],
        [
         "MPV 1024/2020",
         "1.0"
        ],
        [
         "MPV 1025/2020",
         "0.75"
        ],
        [
         "MPV 1026/2021",
         "1.0"
        ],
        [
         "MPV 1027/2021",
         "0.75"
        ],
        [
         "MPV 1028/2021",
         "1.0"
        ],
        [
         "MPV 1029/2021",
         "0.75"
        ],
        [
         "MPV 1030/2021",
         "0.75"
        ],
        [
         "MPV 1031/2021",
         "1.0"
        ],
        [
         "MPV 1032/2021",
         "0.25"
        ],
        [
         "MPV 1033/2021",
         "0.75"
        ],
        [
         "MPV 1034/2021",
         "0.75"
        ],
        [
         "MPV 1035/2021",
         "0.25"
        ],
        [
         "MPV 1036/2021",
         "1.0"
        ],
        [
         "MPV 1037/2021",
         "0.25"
        ],
        [
         "MPV 1038/2021",
         "0.25"
        ],
        [
         "MPV 1039/2021",
         "0.25"
        ],
        [
         "MPV 1040/2021",
         "1.0"
        ],
        [
         "MPV 1041/2021",
         "0.25"
        ],
        [
         "MPV 1042/2021",
         "1.0"
        ],
        [
         "MPV 1043/2021",
         "0.25"
        ],
        [
         "MPV 1044/2021",
         "0.25"
        ],
        [
         "MPV 1045/2021",
         "0.75"
        ],
        [
         "MPV 1046/2021",
         "0.25"
        ],
        [
         "MPV 1047/2021",
         "1.0"
        ],
        [
         "MPV 1048/2021",
         "0.25"
        ],
        [
         "MPV 1049/2021",
         "1.0"
        ]
       ],
       "shape": {
        "columns": 1,
        "rows": 28081
       }
      },
      "text/html": [
       "<div>\n",
       "<style scoped>\n",
       "    .dataframe tbody tr th:only-of-type {\n",
       "        vertical-align: middle;\n",
       "    }\n",
       "\n",
       "    .dataframe tbody tr th {\n",
       "        vertical-align: top;\n",
       "    }\n",
       "\n",
       "    .dataframe thead th {\n",
       "        text-align: right;\n",
       "    }\n",
       "</style>\n",
       "<table border=\"1\" class=\"dataframe\">\n",
       "  <thead>\n",
       "    <tr style=\"text-align: right;\">\n",
       "      <th></th>\n",
       "      <th>score</th>\n",
       "    </tr>\n",
       "    <tr>\n",
       "      <th>label</th>\n",
       "      <th></th>\n",
       "    </tr>\n",
       "  </thead>\n",
       "  <tbody>\n",
       "    <tr>\n",
       "      <th>MPV 1000/2020</th>\n",
       "      <td>0.25</td>\n",
       "    </tr>\n",
       "    <tr>\n",
       "      <th>MPV 1001/2020</th>\n",
       "      <td>0.25</td>\n",
       "    </tr>\n",
       "    <tr>\n",
       "      <th>MPV 1002/2020</th>\n",
       "      <td>0.25</td>\n",
       "    </tr>\n",
       "    <tr>\n",
       "      <th>MPV 1003/2020</th>\n",
       "      <td>0.75</td>\n",
       "    </tr>\n",
       "    <tr>\n",
       "      <th>MPV 1004/2020</th>\n",
       "      <td>0.75</td>\n",
       "    </tr>\n",
       "    <tr>\n",
       "      <th>...</th>\n",
       "      <td>...</td>\n",
       "    </tr>\n",
       "    <tr>\n",
       "      <th>PLV 8/2023</th>\n",
       "      <td>0.00</td>\n",
       "    </tr>\n",
       "    <tr>\n",
       "      <th>PLV 9/2020</th>\n",
       "      <td>0.00</td>\n",
       "    </tr>\n",
       "    <tr>\n",
       "      <th>PLV 9/2021</th>\n",
       "      <td>0.00</td>\n",
       "    </tr>\n",
       "    <tr>\n",
       "      <th>PLV 9/2022</th>\n",
       "      <td>0.00</td>\n",
       "    </tr>\n",
       "    <tr>\n",
       "      <th>PLV 9/2023</th>\n",
       "      <td>0.00</td>\n",
       "    </tr>\n",
       "  </tbody>\n",
       "</table>\n",
       "<p>28081 rows × 1 columns</p>\n",
       "</div>"
      ],
      "text/plain": [
       "               score\n",
       "label               \n",
       "MPV 1000/2020   0.25\n",
       "MPV 1001/2020   0.25\n",
       "MPV 1002/2020   0.25\n",
       "MPV 1003/2020   0.75\n",
       "MPV 1004/2020   0.75\n",
       "...              ...\n",
       "PLV 8/2023      0.00\n",
       "PLV 9/2020      0.00\n",
       "PLV 9/2021      0.00\n",
       "PLV 9/2022      0.00\n",
       "PLV 9/2023      0.00\n",
       "\n",
       "[28081 rows x 1 columns]"
      ]
     },
     "execution_count": 19,
     "metadata": {},
     "output_type": "execute_result"
    }
   ],
   "source": [
    "labels_and_scores_df = pd.DataFrame(labels_and_scores).set_index('label', drop=True)\n",
    "labels_and_scores_df"
   ]
  },
  {
   "cell_type": "code",
   "execution_count": 20,
   "id": "86fa41fe",
   "metadata": {},
   "outputs": [
    {
     "data": {
      "application/vnd.microsoft.datawrangler.viewer.v0+json": {
       "columns": [
        {
         "name": "tag",
         "rawType": "object",
         "type": "string"
        },
        {
         "name": "label",
         "rawType": "object",
         "type": "string"
        },
        {
         "name": "partido",
         "rawType": "object",
         "type": "unknown"
        },
        {
         "name": "type",
         "rawType": "object",
         "type": "string"
        },
        {
         "name": "score",
         "rawType": "float64",
         "type": "float"
        }
       ],
       "ref": "c9b93d3b-ac12-461f-aa92-9db81da4435b",
       "rows": [
        [
         "CP:2187087",
         "PL 5029/2019",
         null,
         "Proposicao",
         "1.0"
        ],
        [
         "CP:2190408",
         "PL 2/2019",
         null,
         "Proposicao",
         "0.25"
        ],
        [
         "CP:2190417",
         "PL 10/2019",
         null,
         "Proposicao",
         "0.25"
        ],
        [
         "CP:2190423",
         "PL 15/2019",
         null,
         "Proposicao",
         "0.0"
        ],
        [
         "CP:2190450",
         "PL 21/2019",
         null,
         "Proposicao",
         "0.25"
        ],
        [
         "CP:2190462",
         "PL 32/2019",
         null,
         "Proposicao",
         "0.25"
        ],
        [
         "CP:2190472",
         "PL 39/2019",
         null,
         "Proposicao",
         "0.25"
        ],
        [
         "CP:2190495",
         "PL 62/2019",
         null,
         "Proposicao",
         "0.25"
        ],
        [
         "CP:2190519",
         "PL 76/2019",
         null,
         "Proposicao",
         "0.25"
        ],
        [
         "CP:2190532",
         "PL 89/2019",
         null,
         "Proposicao",
         "0.25"
        ],
        [
         "CP:2190556",
         "PLP 6/2019",
         null,
         "Proposicao",
         "0.25"
        ],
        [
         "CP:2190579",
         "PL 119/2019",
         null,
         "Proposicao",
         "0.25"
        ],
        [
         "CP:2190585",
         "PL 123/2019",
         null,
         "Proposicao",
         "1.0"
        ],
        [
         "CP:2190590",
         "PL 127/2019",
         null,
         "Proposicao",
         "0.25"
        ],
        [
         "CP:2190598",
         "PL 130/2019",
         null,
         "Proposicao",
         "1.0"
        ],
        [
         "CP:2190603",
         "PL 135/2019",
         null,
         "Proposicao",
         "0.25"
        ],
        [
         "CP:2190619",
         "PL 146/2019",
         null,
         "Proposicao",
         "0.25"
        ],
        [
         "CP:2190651",
         "PL 164/2019",
         null,
         "Proposicao",
         "0.25"
        ],
        [
         "CP:2190661",
         "PL 171/2019",
         null,
         "Proposicao",
         "0.25"
        ],
        [
         "CP:2190692",
         "PL 185/2019",
         null,
         "Proposicao",
         "0.25"
        ],
        [
         "CP:2190701",
         "PL 192/2019",
         null,
         "Proposicao",
         "0.0"
        ],
        [
         "CP:2190718",
         "PL 207/2019",
         null,
         "Proposicao",
         "0.0"
        ],
        [
         "CP:2190726",
         "PL 197/2019",
         null,
         "Proposicao",
         "0.25"
        ],
        [
         "CP:2190729",
         "PL 213/2019",
         null,
         "Proposicao",
         "0.25"
        ],
        [
         "CP:2190740",
         "PL 215/2019",
         null,
         "Proposicao",
         "0.25"
        ],
        [
         "CP:2190743",
         "PL 234/2019",
         null,
         "Proposicao",
         "0.25"
        ],
        [
         "CP:2190745",
         "PL 216/2019",
         null,
         "Proposicao",
         "0.25"
        ],
        [
         "CP:2190748",
         "PL 217/2019",
         null,
         "Proposicao",
         "0.25"
        ],
        [
         "CP:2190752",
         "PL 246/2019",
         null,
         "Proposicao",
         "0.25"
        ],
        [
         "CP:2190756",
         "PL 249/2019",
         null,
         "Proposicao",
         "0.0"
        ],
        [
         "CP:2190776",
         "PL 237/2019",
         null,
         "Proposicao",
         "0.25"
        ],
        [
         "CP:2190781",
         "PL 290/2019",
         null,
         "Proposicao",
         "0.25"
        ],
        [
         "CP:2190799",
         "PL 297/2019",
         null,
         "Proposicao",
         "0.25"
        ],
        [
         "CP:2190871",
         "PL 275/2019",
         null,
         "Proposicao",
         "0.25"
        ],
        [
         "CP:2190876",
         "PL 326/2019",
         null,
         "Proposicao",
         "0.0"
        ],
        [
         "CP:2190899",
         "PL 343/2019",
         null,
         "Proposicao",
         "0.0"
        ],
        [
         "CP:2190908",
         "PL 351/2019",
         null,
         "Proposicao",
         "0.5"
        ],
        [
         "CP:2190911",
         "PL 347/2019",
         null,
         "Proposicao",
         "0.25"
        ],
        [
         "CP:2190918",
         "PL 353/2019",
         null,
         "Proposicao",
         "0.25"
        ],
        [
         "CP:2190984",
         "PL 362/2019",
         null,
         "Proposicao",
         "0.25"
        ],
        [
         "CP:2190988",
         "PL 366/2019",
         null,
         "Proposicao",
         "0.25"
        ],
        [
         "CP:2190994",
         "PL 371/2019",
         null,
         "Proposicao",
         "0.25"
        ],
        [
         "CP:2191010",
         "PL 373/2019",
         null,
         "Proposicao",
         "0.25"
        ],
        [
         "CP:2191030",
         "PLP 9/2019",
         null,
         "Proposicao",
         "0.0"
        ],
        [
         "CP:2191045",
         "PL 379/2019",
         null,
         "Proposicao",
         "0.0"
        ],
        [
         "CP:2191047",
         "PL 381/2019",
         null,
         "Proposicao",
         "0.0"
        ],
        [
         "CP:2191088",
         "PL 418/2019",
         null,
         "Proposicao",
         "0.0"
        ],
        [
         "CP:2191093",
         "PL 423/2019",
         null,
         "Proposicao",
         "0.25"
        ],
        [
         "CP:2191094",
         "PL 424/2019",
         null,
         "Proposicao",
         "0.25"
        ],
        [
         "CP:2191116",
         "PL 443/2019",
         null,
         "Proposicao",
         "0.25"
        ]
       ],
       "shape": {
        "columns": 4,
        "rows": 30938
       }
      },
      "text/html": [
       "<div>\n",
       "<style scoped>\n",
       "    .dataframe tbody tr th:only-of-type {\n",
       "        vertical-align: middle;\n",
       "    }\n",
       "\n",
       "    .dataframe tbody tr th {\n",
       "        vertical-align: top;\n",
       "    }\n",
       "\n",
       "    .dataframe thead th {\n",
       "        text-align: right;\n",
       "    }\n",
       "</style>\n",
       "<table border=\"1\" class=\"dataframe\">\n",
       "  <thead>\n",
       "    <tr style=\"text-align: right;\">\n",
       "      <th></th>\n",
       "      <th>label</th>\n",
       "      <th>partido</th>\n",
       "      <th>type</th>\n",
       "      <th>score</th>\n",
       "    </tr>\n",
       "    <tr>\n",
       "      <th>tag</th>\n",
       "      <th></th>\n",
       "      <th></th>\n",
       "      <th></th>\n",
       "      <th></th>\n",
       "    </tr>\n",
       "  </thead>\n",
       "  <tbody>\n",
       "    <tr>\n",
       "      <th>CP:2187087</th>\n",
       "      <td>PL 5029/2019</td>\n",
       "      <td>None</td>\n",
       "      <td>Proposicao</td>\n",
       "      <td>1.00</td>\n",
       "    </tr>\n",
       "    <tr>\n",
       "      <th>CP:2190408</th>\n",
       "      <td>PL 2/2019</td>\n",
       "      <td>None</td>\n",
       "      <td>Proposicao</td>\n",
       "      <td>0.25</td>\n",
       "    </tr>\n",
       "    <tr>\n",
       "      <th>CP:2190417</th>\n",
       "      <td>PL 10/2019</td>\n",
       "      <td>None</td>\n",
       "      <td>Proposicao</td>\n",
       "      <td>0.25</td>\n",
       "    </tr>\n",
       "    <tr>\n",
       "      <th>CP:2190423</th>\n",
       "      <td>PL 15/2019</td>\n",
       "      <td>None</td>\n",
       "      <td>Proposicao</td>\n",
       "      <td>0.00</td>\n",
       "    </tr>\n",
       "    <tr>\n",
       "      <th>CP:2190450</th>\n",
       "      <td>PL 21/2019</td>\n",
       "      <td>None</td>\n",
       "      <td>Proposicao</td>\n",
       "      <td>0.25</td>\n",
       "    </tr>\n",
       "    <tr>\n",
       "      <th>...</th>\n",
       "      <td>...</td>\n",
       "      <td>...</td>\n",
       "      <td>...</td>\n",
       "      <td>...</td>\n",
       "    </tr>\n",
       "    <tr>\n",
       "      <th>SE:55143</th>\n",
       "      <td>TRIBUNAL DE JUSTIÇA DO DISTRITO FEDERAL E TERR...</td>\n",
       "      <td>None</td>\n",
       "      <td>Ente</td>\n",
       "      <td>NaN</td>\n",
       "    </tr>\n",
       "    <tr>\n",
       "      <th>SE:9999990</th>\n",
       "      <td>SUPERIOR TRIBUNAL DE JUSTIÇA</td>\n",
       "      <td>None</td>\n",
       "      <td>Ente</td>\n",
       "      <td>NaN</td>\n",
       "    </tr>\n",
       "    <tr>\n",
       "      <th>SE:9999991</th>\n",
       "      <td>PROCURADORIA-GERAL DA REPÚBLICA</td>\n",
       "      <td>None</td>\n",
       "      <td>Ente</td>\n",
       "      <td>NaN</td>\n",
       "    </tr>\n",
       "    <tr>\n",
       "      <th>SE:9999992</th>\n",
       "      <td>MINISTÉRIO PÚBLICO DA UNIÃO</td>\n",
       "      <td>None</td>\n",
       "      <td>Ente</td>\n",
       "      <td>NaN</td>\n",
       "    </tr>\n",
       "    <tr>\n",
       "      <th>SE:9999994</th>\n",
       "      <td>DEFENSORIA PÚBLICA DA UNIÃO</td>\n",
       "      <td>None</td>\n",
       "      <td>Ente</td>\n",
       "      <td>NaN</td>\n",
       "    </tr>\n",
       "  </tbody>\n",
       "</table>\n",
       "<p>30938 rows × 4 columns</p>\n",
       "</div>"
      ],
      "text/plain": [
       "                                                        label partido  \\\n",
       "tag                                                                     \n",
       "CP:2187087                                       PL 5029/2019    None   \n",
       "CP:2190408                                          PL 2/2019    None   \n",
       "CP:2190417                                         PL 10/2019    None   \n",
       "CP:2190423                                         PL 15/2019    None   \n",
       "CP:2190450                                         PL 21/2019    None   \n",
       "...                                                       ...     ...   \n",
       "SE:55143    TRIBUNAL DE JUSTIÇA DO DISTRITO FEDERAL E TERR...    None   \n",
       "SE:9999990                       SUPERIOR TRIBUNAL DE JUSTIÇA    None   \n",
       "SE:9999991                    PROCURADORIA-GERAL DA REPÚBLICA    None   \n",
       "SE:9999992                        MINISTÉRIO PÚBLICO DA UNIÃO    None   \n",
       "SE:9999994                        DEFENSORIA PÚBLICA DA UNIÃO    None   \n",
       "\n",
       "                  type  score  \n",
       "tag                            \n",
       "CP:2187087  Proposicao   1.00  \n",
       "CP:2190408  Proposicao   0.25  \n",
       "CP:2190417  Proposicao   0.25  \n",
       "CP:2190423  Proposicao   0.00  \n",
       "CP:2190450  Proposicao   0.25  \n",
       "...                ...    ...  \n",
       "SE:55143          Ente    NaN  \n",
       "SE:9999990        Ente    NaN  \n",
       "SE:9999991        Ente    NaN  \n",
       "SE:9999992        Ente    NaN  \n",
       "SE:9999994        Ente    NaN  \n",
       "\n",
       "[30938 rows x 4 columns]"
      ]
     },
     "execution_count": 20,
     "metadata": {},
     "output_type": "execute_result"
    }
   ],
   "source": [
    "nodes_scored_df = nodes_df.join(labels_and_scores_df, on=\"label\")\n",
    "nodes_scored_df = nodes_scored_df.set_index('tag', drop=True)\n",
    "nodes_scored_df.loc[nodes_scored_df['type'].isin(['Proposicao', 'Processo']) & nodes_scored_df['score'].isna(), 'score'] = 0.0\n",
    "nodes_scored_df"
   ]
  },
  {
   "cell_type": "code",
   "execution_count": 21,
   "id": "33aaa701",
   "metadata": {},
   "outputs": [
    {
     "data": {
      "application/vnd.microsoft.datawrangler.viewer.v0+json": {
       "columns": [
        {
         "name": "index",
         "rawType": "int64",
         "type": "integer"
        },
        {
         "name": "source",
         "rawType": "object",
         "type": "string"
        },
        {
         "name": "target",
         "rawType": "object",
         "type": "string"
        },
        {
         "name": "etype",
         "rawType": "object",
         "type": "string"
        }
       ],
       "ref": "c65ce57d-4801-4620-b4a1-abcd73cd94bd",
       "rows": [
        [
         "0",
         "CD:160655",
         "CP:538196",
         "autoria"
        ],
        [
         "1",
         "CD:141488",
         "CP:559138",
         "autoria"
        ],
        [
         "2",
         "CD:73584",
         "CP:593065",
         "autoria"
        ],
        [
         "3",
         "CD:160518",
         "CP:601739",
         "autoria"
        ],
        [
         "4",
         "CD:151208",
         "CP:614512",
         "autoria"
        ],
        [
         "5",
         "CD:73466",
         "CP:946475",
         "autoria"
        ],
        [
         "6",
         "CD:178862",
         "CP:1301128",
         "autoria"
        ],
        [
         "7",
         "CD:74570",
         "CP:1555295",
         "autoria"
        ],
        [
         "8",
         "CD:160512",
         "CP:1555470",
         "autoria"
        ],
        [
         "9",
         "CD:160565",
         "CP:2074843",
         "autoria"
        ],
        [
         "10",
         "CD:178866",
         "CP:2075821",
         "autoria"
        ],
        [
         "11",
         "CD:141383",
         "CP:2077498",
         "autoria"
        ],
        [
         "12",
         "CD:160621",
         "CP:2092056",
         "autoria"
        ],
        [
         "13",
         "CD:178956",
         "CP:2116186",
         "autoria"
        ],
        [
         "14",
         "CD:177282",
         "CP:2142126",
         "autoria"
        ],
        [
         "15",
         "CD:160653",
         "CP:2184458",
         "autoria"
        ],
        [
         "16",
         "CD:204488",
         "CP:538196",
         "autoria"
        ],
        [
         "17",
         "CD:74047",
         "CP:559138",
         "autoria"
        ],
        [
         "18",
         "CD:160655",
         "CP:601739",
         "autoria"
        ],
        [
         "19",
         "CD:178834",
         "CP:1301128",
         "autoria"
        ],
        [
         "20",
         "CD:160556",
         "CP:559138",
         "autoria"
        ],
        [
         "21",
         "CD:160644",
         "CP:559138",
         "autoria"
        ],
        [
         "22",
         "CD:74784",
         "CP:559138",
         "autoria"
        ],
        [
         "23",
         "CD:74037",
         "CP:559138",
         "autoria"
        ],
        [
         "24",
         "CD:141386",
         "CP:559138",
         "autoria"
        ],
        [
         "25",
         "CD:160538",
         "CP:559138",
         "autoria"
        ],
        [
         "26",
         "CD:178879",
         "CP:2187087",
         "autoria"
        ],
        [
         "27",
         "CD:204553",
         "CP:2190408",
         "autoria"
        ],
        [
         "28",
         "CD:204546",
         "CP:2190417",
         "autoria"
        ],
        [
         "29",
         "CD:204532",
         "CP:2190423",
         "autoria"
        ],
        [
         "30",
         "CD:160518",
         "CP:2190450",
         "autoria"
        ],
        [
         "31",
         "CD:204381",
         "CP:2190462",
         "autoria"
        ],
        [
         "32",
         "CD:204536",
         "CP:2190472",
         "autoria"
        ],
        [
         "33",
         "CD:204494",
         "CP:2190495",
         "autoria"
        ],
        [
         "34",
         "CD:204530",
         "CP:2190519",
         "autoria"
        ],
        [
         "35",
         "CD:204530",
         "CP:2190532",
         "autoria"
        ],
        [
         "36",
         "CD:205535",
         "CP:2190556",
         "autoria"
        ],
        [
         "37",
         "CD:178989",
         "CP:2190579",
         "autoria"
        ],
        [
         "38",
         "CD:178989",
         "CP:2190585",
         "autoria"
        ],
        [
         "39",
         "CD:178989",
         "CP:2190590",
         "autoria"
        ],
        [
         "40",
         "CD:178989",
         "CP:2190598",
         "autoria"
        ],
        [
         "41",
         "CD:178989",
         "CP:2190603",
         "autoria"
        ],
        [
         "42",
         "CD:178989",
         "CP:2190619",
         "autoria"
        ],
        [
         "43",
         "CD:204391",
         "CP:2190651",
         "autoria"
        ],
        [
         "44",
         "CD:204391",
         "CP:2190661",
         "autoria"
        ],
        [
         "45",
         "CD:204508",
         "CP:2190692",
         "autoria"
        ],
        [
         "46",
         "CD:160653",
         "CP:2190701",
         "autoria"
        ],
        [
         "47",
         "CD:160653",
         "CP:2190718",
         "autoria"
        ],
        [
         "48",
         "CD:160653",
         "CP:2190726",
         "autoria"
        ],
        [
         "49",
         "CD:160653",
         "CP:2190729",
         "autoria"
        ]
       ],
       "shape": {
        "columns": 3,
        "rows": 51547
       }
      },
      "text/html": [
       "<div>\n",
       "<style scoped>\n",
       "    .dataframe tbody tr th:only-of-type {\n",
       "        vertical-align: middle;\n",
       "    }\n",
       "\n",
       "    .dataframe tbody tr th {\n",
       "        vertical-align: top;\n",
       "    }\n",
       "\n",
       "    .dataframe thead th {\n",
       "        text-align: right;\n",
       "    }\n",
       "</style>\n",
       "<table border=\"1\" class=\"dataframe\">\n",
       "  <thead>\n",
       "    <tr style=\"text-align: right;\">\n",
       "      <th></th>\n",
       "      <th>source</th>\n",
       "      <th>target</th>\n",
       "      <th>etype</th>\n",
       "    </tr>\n",
       "  </thead>\n",
       "  <tbody>\n",
       "    <tr>\n",
       "      <th>0</th>\n",
       "      <td>CD:160655</td>\n",
       "      <td>CP:538196</td>\n",
       "      <td>autoria</td>\n",
       "    </tr>\n",
       "    <tr>\n",
       "      <th>1</th>\n",
       "      <td>CD:141488</td>\n",
       "      <td>CP:559138</td>\n",
       "      <td>autoria</td>\n",
       "    </tr>\n",
       "    <tr>\n",
       "      <th>2</th>\n",
       "      <td>CD:73584</td>\n",
       "      <td>CP:593065</td>\n",
       "      <td>autoria</td>\n",
       "    </tr>\n",
       "    <tr>\n",
       "      <th>3</th>\n",
       "      <td>CD:160518</td>\n",
       "      <td>CP:601739</td>\n",
       "      <td>autoria</td>\n",
       "    </tr>\n",
       "    <tr>\n",
       "      <th>4</th>\n",
       "      <td>CD:151208</td>\n",
       "      <td>CP:614512</td>\n",
       "      <td>autoria</td>\n",
       "    </tr>\n",
       "    <tr>\n",
       "      <th>...</th>\n",
       "      <td>...</td>\n",
       "      <td>...</td>\n",
       "      <td>...</td>\n",
       "    </tr>\n",
       "    <tr>\n",
       "      <th>51542</th>\n",
       "      <td>SS:1173</td>\n",
       "      <td>CD:73653</td>\n",
       "      <td>correspondencia</td>\n",
       "    </tr>\n",
       "    <tr>\n",
       "      <th>51543</th>\n",
       "      <td>SS:5672</td>\n",
       "      <td>CD:178836</td>\n",
       "      <td>correspondencia</td>\n",
       "    </tr>\n",
       "    <tr>\n",
       "      <th>51544</th>\n",
       "      <td>SS:5902</td>\n",
       "      <td>CD:220589</td>\n",
       "      <td>correspondencia</td>\n",
       "    </tr>\n",
       "    <tr>\n",
       "      <th>51545</th>\n",
       "      <td>SS:5793</td>\n",
       "      <td>CD:178959</td>\n",
       "      <td>correspondencia</td>\n",
       "    </tr>\n",
       "    <tr>\n",
       "      <th>51546</th>\n",
       "      <td>SS:4811</td>\n",
       "      <td>CD:151208</td>\n",
       "      <td>correspondencia</td>\n",
       "    </tr>\n",
       "  </tbody>\n",
       "</table>\n",
       "<p>51547 rows × 3 columns</p>\n",
       "</div>"
      ],
      "text/plain": [
       "          source     target            etype\n",
       "0      CD:160655  CP:538196          autoria\n",
       "1      CD:141488  CP:559138          autoria\n",
       "2       CD:73584  CP:593065          autoria\n",
       "3      CD:160518  CP:601739          autoria\n",
       "4      CD:151208  CP:614512          autoria\n",
       "...          ...        ...              ...\n",
       "51542    SS:1173   CD:73653  correspondencia\n",
       "51543    SS:5672  CD:178836  correspondencia\n",
       "51544    SS:5902  CD:220589  correspondencia\n",
       "51545    SS:5793  CD:178959  correspondencia\n",
       "51546    SS:4811  CD:151208  correspondencia\n",
       "\n",
       "[51547 rows x 3 columns]"
      ]
     },
     "execution_count": 21,
     "metadata": {},
     "output_type": "execute_result"
    }
   ],
   "source": [
    "edges_df"
   ]
  },
  {
   "cell_type": "code",
   "execution_count": 22,
   "id": "64a5fe12",
   "metadata": {},
   "outputs": [
    {
     "data": {
      "application/vnd.microsoft.datawrangler.viewer.v0+json": {
       "columns": [
        {
         "name": "tag",
         "rawType": "object",
         "type": "string"
        },
        {
         "name": "label",
         "rawType": "object",
         "type": "string"
        },
        {
         "name": "partido",
         "rawType": "object",
         "type": "unknown"
        },
        {
         "name": "type",
         "rawType": "object",
         "type": "string"
        },
        {
         "name": "score",
         "rawType": "float64",
         "type": "float"
        }
       ],
       "ref": "388e2da7-d94c-4482-8691-cebae1307d06",
       "rows": [
        [
         "CP:2187087",
         "PL 5029/2019",
         null,
         "Proposicao",
         "1.0"
        ],
        [
         "CP:2190408",
         "PL 2/2019",
         null,
         "Proposicao",
         "0.25"
        ],
        [
         "CP:2190417",
         "PL 10/2019",
         null,
         "Proposicao",
         "0.25"
        ],
        [
         "CP:2190423",
         "PL 15/2019",
         null,
         "Proposicao",
         "0.0"
        ],
        [
         "CP:2190450",
         "PL 21/2019",
         null,
         "Proposicao",
         "0.25"
        ],
        [
         "CP:2190462",
         "PL 32/2019",
         null,
         "Proposicao",
         "0.25"
        ],
        [
         "CP:2190472",
         "PL 39/2019",
         null,
         "Proposicao",
         "0.25"
        ],
        [
         "CP:2190495",
         "PL 62/2019",
         null,
         "Proposicao",
         "0.25"
        ],
        [
         "CP:2190519",
         "PL 76/2019",
         null,
         "Proposicao",
         "0.25"
        ],
        [
         "CP:2190532",
         "PL 89/2019",
         null,
         "Proposicao",
         "0.25"
        ],
        [
         "CP:2190556",
         "PLP 6/2019",
         null,
         "Proposicao",
         "0.25"
        ],
        [
         "CP:2190579",
         "PL 119/2019",
         null,
         "Proposicao",
         "0.25"
        ],
        [
         "CP:2190585",
         "PL 123/2019",
         null,
         "Proposicao",
         "1.0"
        ],
        [
         "CP:2190590",
         "PL 127/2019",
         null,
         "Proposicao",
         "0.25"
        ],
        [
         "CP:2190598",
         "PL 130/2019",
         null,
         "Proposicao",
         "1.0"
        ],
        [
         "CP:2190603",
         "PL 135/2019",
         null,
         "Proposicao",
         "0.25"
        ],
        [
         "CP:2190619",
         "PL 146/2019",
         null,
         "Proposicao",
         "0.25"
        ],
        [
         "CP:2190651",
         "PL 164/2019",
         null,
         "Proposicao",
         "0.25"
        ],
        [
         "CP:2190661",
         "PL 171/2019",
         null,
         "Proposicao",
         "0.25"
        ],
        [
         "CP:2190692",
         "PL 185/2019",
         null,
         "Proposicao",
         "0.25"
        ],
        [
         "CP:2190701",
         "PL 192/2019",
         null,
         "Proposicao",
         "0.0"
        ],
        [
         "CP:2190718",
         "PL 207/2019",
         null,
         "Proposicao",
         "0.0"
        ],
        [
         "CP:2190726",
         "PL 197/2019",
         null,
         "Proposicao",
         "0.25"
        ],
        [
         "CP:2190729",
         "PL 213/2019",
         null,
         "Proposicao",
         "0.25"
        ],
        [
         "CP:2190740",
         "PL 215/2019",
         null,
         "Proposicao",
         "0.25"
        ],
        [
         "CP:2190743",
         "PL 234/2019",
         null,
         "Proposicao",
         "0.25"
        ],
        [
         "CP:2190745",
         "PL 216/2019",
         null,
         "Proposicao",
         "0.25"
        ],
        [
         "CP:2190748",
         "PL 217/2019",
         null,
         "Proposicao",
         "0.25"
        ],
        [
         "CP:2190752",
         "PL 246/2019",
         null,
         "Proposicao",
         "0.25"
        ],
        [
         "CP:2190756",
         "PL 249/2019",
         null,
         "Proposicao",
         "0.0"
        ],
        [
         "CP:2190776",
         "PL 237/2019",
         null,
         "Proposicao",
         "0.25"
        ],
        [
         "CP:2190781",
         "PL 290/2019",
         null,
         "Proposicao",
         "0.25"
        ],
        [
         "CP:2190799",
         "PL 297/2019",
         null,
         "Proposicao",
         "0.25"
        ],
        [
         "CP:2190871",
         "PL 275/2019",
         null,
         "Proposicao",
         "0.25"
        ],
        [
         "CP:2190876",
         "PL 326/2019",
         null,
         "Proposicao",
         "0.0"
        ],
        [
         "CP:2190899",
         "PL 343/2019",
         null,
         "Proposicao",
         "0.0"
        ],
        [
         "CP:2190908",
         "PL 351/2019",
         null,
         "Proposicao",
         "0.5"
        ],
        [
         "CP:2190911",
         "PL 347/2019",
         null,
         "Proposicao",
         "0.25"
        ],
        [
         "CP:2190918",
         "PL 353/2019",
         null,
         "Proposicao",
         "0.25"
        ],
        [
         "CP:2190984",
         "PL 362/2019",
         null,
         "Proposicao",
         "0.25"
        ],
        [
         "CP:2190988",
         "PL 366/2019",
         null,
         "Proposicao",
         "0.25"
        ],
        [
         "CP:2190994",
         "PL 371/2019",
         null,
         "Proposicao",
         "0.25"
        ],
        [
         "CP:2191010",
         "PL 373/2019",
         null,
         "Proposicao",
         "0.25"
        ],
        [
         "CP:2191030",
         "PLP 9/2019",
         null,
         "Proposicao",
         "0.0"
        ],
        [
         "CP:2191045",
         "PL 379/2019",
         null,
         "Proposicao",
         "0.0"
        ],
        [
         "CP:2191047",
         "PL 381/2019",
         null,
         "Proposicao",
         "0.0"
        ],
        [
         "CP:2191088",
         "PL 418/2019",
         null,
         "Proposicao",
         "0.0"
        ],
        [
         "CP:2191093",
         "PL 423/2019",
         null,
         "Proposicao",
         "0.25"
        ],
        [
         "CP:2191094",
         "PL 424/2019",
         null,
         "Proposicao",
         "0.25"
        ],
        [
         "CP:2191116",
         "PL 443/2019",
         null,
         "Proposicao",
         "0.25"
        ]
       ],
       "shape": {
        "columns": 4,
        "rows": 30938
       }
      },
      "text/html": [
       "<div>\n",
       "<style scoped>\n",
       "    .dataframe tbody tr th:only-of-type {\n",
       "        vertical-align: middle;\n",
       "    }\n",
       "\n",
       "    .dataframe tbody tr th {\n",
       "        vertical-align: top;\n",
       "    }\n",
       "\n",
       "    .dataframe thead th {\n",
       "        text-align: right;\n",
       "    }\n",
       "</style>\n",
       "<table border=\"1\" class=\"dataframe\">\n",
       "  <thead>\n",
       "    <tr style=\"text-align: right;\">\n",
       "      <th></th>\n",
       "      <th>label</th>\n",
       "      <th>partido</th>\n",
       "      <th>type</th>\n",
       "      <th>score</th>\n",
       "    </tr>\n",
       "    <tr>\n",
       "      <th>tag</th>\n",
       "      <th></th>\n",
       "      <th></th>\n",
       "      <th></th>\n",
       "      <th></th>\n",
       "    </tr>\n",
       "  </thead>\n",
       "  <tbody>\n",
       "    <tr>\n",
       "      <th>CP:2187087</th>\n",
       "      <td>PL 5029/2019</td>\n",
       "      <td>None</td>\n",
       "      <td>Proposicao</td>\n",
       "      <td>1.00</td>\n",
       "    </tr>\n",
       "    <tr>\n",
       "      <th>CP:2190408</th>\n",
       "      <td>PL 2/2019</td>\n",
       "      <td>None</td>\n",
       "      <td>Proposicao</td>\n",
       "      <td>0.25</td>\n",
       "    </tr>\n",
       "    <tr>\n",
       "      <th>CP:2190417</th>\n",
       "      <td>PL 10/2019</td>\n",
       "      <td>None</td>\n",
       "      <td>Proposicao</td>\n",
       "      <td>0.25</td>\n",
       "    </tr>\n",
       "    <tr>\n",
       "      <th>CP:2190423</th>\n",
       "      <td>PL 15/2019</td>\n",
       "      <td>None</td>\n",
       "      <td>Proposicao</td>\n",
       "      <td>0.00</td>\n",
       "    </tr>\n",
       "    <tr>\n",
       "      <th>CP:2190450</th>\n",
       "      <td>PL 21/2019</td>\n",
       "      <td>None</td>\n",
       "      <td>Proposicao</td>\n",
       "      <td>0.25</td>\n",
       "    </tr>\n",
       "    <tr>\n",
       "      <th>...</th>\n",
       "      <td>...</td>\n",
       "      <td>...</td>\n",
       "      <td>...</td>\n",
       "      <td>...</td>\n",
       "    </tr>\n",
       "    <tr>\n",
       "      <th>SE:55143</th>\n",
       "      <td>TRIBUNAL DE JUSTIÇA DO DISTRITO FEDERAL E TERR...</td>\n",
       "      <td>None</td>\n",
       "      <td>Ente</td>\n",
       "      <td>NaN</td>\n",
       "    </tr>\n",
       "    <tr>\n",
       "      <th>SE:9999990</th>\n",
       "      <td>SUPERIOR TRIBUNAL DE JUSTIÇA</td>\n",
       "      <td>None</td>\n",
       "      <td>Ente</td>\n",
       "      <td>NaN</td>\n",
       "    </tr>\n",
       "    <tr>\n",
       "      <th>SE:9999991</th>\n",
       "      <td>PROCURADORIA-GERAL DA REPÚBLICA</td>\n",
       "      <td>None</td>\n",
       "      <td>Ente</td>\n",
       "      <td>NaN</td>\n",
       "    </tr>\n",
       "    <tr>\n",
       "      <th>SE:9999992</th>\n",
       "      <td>MINISTÉRIO PÚBLICO DA UNIÃO</td>\n",
       "      <td>None</td>\n",
       "      <td>Ente</td>\n",
       "      <td>NaN</td>\n",
       "    </tr>\n",
       "    <tr>\n",
       "      <th>SE:9999994</th>\n",
       "      <td>DEFENSORIA PÚBLICA DA UNIÃO</td>\n",
       "      <td>None</td>\n",
       "      <td>Ente</td>\n",
       "      <td>NaN</td>\n",
       "    </tr>\n",
       "  </tbody>\n",
       "</table>\n",
       "<p>30938 rows × 4 columns</p>\n",
       "</div>"
      ],
      "text/plain": [
       "                                                        label partido  \\\n",
       "tag                                                                     \n",
       "CP:2187087                                       PL 5029/2019    None   \n",
       "CP:2190408                                          PL 2/2019    None   \n",
       "CP:2190417                                         PL 10/2019    None   \n",
       "CP:2190423                                         PL 15/2019    None   \n",
       "CP:2190450                                         PL 21/2019    None   \n",
       "...                                                       ...     ...   \n",
       "SE:55143    TRIBUNAL DE JUSTIÇA DO DISTRITO FEDERAL E TERR...    None   \n",
       "SE:9999990                       SUPERIOR TRIBUNAL DE JUSTIÇA    None   \n",
       "SE:9999991                    PROCURADORIA-GERAL DA REPÚBLICA    None   \n",
       "SE:9999992                        MINISTÉRIO PÚBLICO DA UNIÃO    None   \n",
       "SE:9999994                        DEFENSORIA PÚBLICA DA UNIÃO    None   \n",
       "\n",
       "                  type  score  \n",
       "tag                            \n",
       "CP:2187087  Proposicao   1.00  \n",
       "CP:2190408  Proposicao   0.25  \n",
       "CP:2190417  Proposicao   0.25  \n",
       "CP:2190423  Proposicao   0.00  \n",
       "CP:2190450  Proposicao   0.25  \n",
       "...                ...    ...  \n",
       "SE:55143          Ente    NaN  \n",
       "SE:9999990        Ente    NaN  \n",
       "SE:9999991        Ente    NaN  \n",
       "SE:9999992        Ente    NaN  \n",
       "SE:9999994        Ente    NaN  \n",
       "\n",
       "[30938 rows x 4 columns]"
      ]
     },
     "execution_count": 22,
     "metadata": {},
     "output_type": "execute_result"
    }
   ],
   "source": [
    "nodes_scored_df"
   ]
  },
  {
   "cell_type": "code",
   "execution_count": 23,
   "id": "af58cee7",
   "metadata": {},
   "outputs": [],
   "source": [
    "\n",
    "\n",
    "ccs: dict[str, set] = defaultdict(set)\n",
    "\n",
    "for index, row in edges_df[edges_df['etype'].eq('correspondencia')].iterrows():\n",
    "    src = row['source']\n",
    "    tgt = row['target']\n",
    "    src_set = ccs[src]\n",
    "    tgt_set = ccs[tgt]\n",
    "    new_set = {src, tgt}\n",
    "    if not src_set and not tgt_set:\n",
    "        ccs[src] = new_set\n",
    "        ccs[tgt] = new_set\n",
    "    elif not src_set:\n",
    "        tgt_set.update(new_set)    \n",
    "        ccs[src] = tgt_set\n",
    "    else:  # no tgt_set\n",
    "        src_set.update(new_set)\n",
    "        ccs[tgt] = src_set\n",
    "    "
   ]
  },
  {
   "cell_type": "code",
   "execution_count": 24,
   "id": "d7efc41d",
   "metadata": {},
   "outputs": [],
   "source": [
    "unique_ccs = {frozenset(s) for s in ccs.values()}"
   ]
  },
  {
   "cell_type": "code",
   "execution_count": 25,
   "id": "fa76c758",
   "metadata": {},
   "outputs": [],
   "source": [
    "nodes_to_merge = [sorted(s) for s in unique_ccs]\n"
   ]
  },
  {
   "cell_type": "code",
   "execution_count": 26,
   "id": "ea50d34b",
   "metadata": {},
   "outputs": [],
   "source": [
    "edges_auth_df = edges_df[edges_df['etype'].eq('autoria')].drop(['etype'], axis=1).copy()"
   ]
  },
  {
   "cell_type": "code",
   "execution_count": 27,
   "id": "c9abfcb4",
   "metadata": {},
   "outputs": [],
   "source": [
    "\n",
    "\n",
    "for taglist in nodes_to_merge:\n",
    "    merge_nodes(nodes_scored_df, edges_auth_df, taglist)"
   ]
  },
  {
   "cell_type": "code",
   "execution_count": 28,
   "id": "35c89295",
   "metadata": {},
   "outputs": [],
   "source": [
    "edges_weighted_df = edges_auth_df.join(nodes_scored_df[['score']], on=\"target\").rename(columns={'score': 'weight'})"
   ]
  },
  {
   "cell_type": "code",
   "execution_count": 29,
   "id": "1e4986c9",
   "metadata": {},
   "outputs": [
    {
     "data": {
      "application/vnd.microsoft.datawrangler.viewer.v0+json": {
       "columns": [
        {
         "name": "index",
         "rawType": "int64",
         "type": "integer"
        },
        {
         "name": "from",
         "rawType": "object",
         "type": "string"
        },
        {
         "name": "to",
         "rawType": "object",
         "type": "string"
        },
        {
         "name": "weight",
         "rawType": "float64",
         "type": "float"
        }
       ],
       "ref": "4263e009-6148-4a57-9683-5b1d33dd6edd",
       "rows": [
        [
         "0",
         "CD:160655",
         "CP:538196",
         "1.0"
        ],
        [
         "1",
         "CD:141488",
         "CP:559138",
         "1.0"
        ],
        [
         "2",
         "CD:73584",
         "CP:593065",
         "1.0"
        ],
        [
         "3",
         "CD:160518",
         "CP:601739",
         "0.25"
        ],
        [
         "4",
         "CD:151208",
         "CP:614512",
         "1.0"
        ]
       ],
       "shape": {
        "columns": 3,
        "rows": 5
       }
      },
      "text/html": [
       "<div>\n",
       "<style scoped>\n",
       "    .dataframe tbody tr th:only-of-type {\n",
       "        vertical-align: middle;\n",
       "    }\n",
       "\n",
       "    .dataframe tbody tr th {\n",
       "        vertical-align: top;\n",
       "    }\n",
       "\n",
       "    .dataframe thead th {\n",
       "        text-align: right;\n",
       "    }\n",
       "</style>\n",
       "<table border=\"1\" class=\"dataframe\">\n",
       "  <thead>\n",
       "    <tr style=\"text-align: right;\">\n",
       "      <th></th>\n",
       "      <th>from</th>\n",
       "      <th>to</th>\n",
       "      <th>weight</th>\n",
       "    </tr>\n",
       "  </thead>\n",
       "  <tbody>\n",
       "    <tr>\n",
       "      <th>0</th>\n",
       "      <td>CD:160655</td>\n",
       "      <td>CP:538196</td>\n",
       "      <td>1.00</td>\n",
       "    </tr>\n",
       "    <tr>\n",
       "      <th>1</th>\n",
       "      <td>CD:141488</td>\n",
       "      <td>CP:559138</td>\n",
       "      <td>1.00</td>\n",
       "    </tr>\n",
       "    <tr>\n",
       "      <th>2</th>\n",
       "      <td>CD:73584</td>\n",
       "      <td>CP:593065</td>\n",
       "      <td>1.00</td>\n",
       "    </tr>\n",
       "    <tr>\n",
       "      <th>3</th>\n",
       "      <td>CD:160518</td>\n",
       "      <td>CP:601739</td>\n",
       "      <td>0.25</td>\n",
       "    </tr>\n",
       "    <tr>\n",
       "      <th>4</th>\n",
       "      <td>CD:151208</td>\n",
       "      <td>CP:614512</td>\n",
       "      <td>1.00</td>\n",
       "    </tr>\n",
       "  </tbody>\n",
       "</table>\n",
       "</div>"
      ],
      "text/plain": [
       "        from         to  weight\n",
       "0  CD:160655  CP:538196    1.00\n",
       "1  CD:141488  CP:559138    1.00\n",
       "2   CD:73584  CP:593065    1.00\n",
       "3  CD:160518  CP:601739    0.25\n",
       "4  CD:151208  CP:614512    1.00"
      ]
     },
     "execution_count": 29,
     "metadata": {},
     "output_type": "execute_result"
    }
   ],
   "source": [
    "edge_df = edges_weighted_df.rename(columns={'source': 'from', 'target': 'to'})\n",
    "edge_df.head()"
   ]
  },
  {
   "cell_type": "code",
   "execution_count": 30,
   "id": "e50c4765",
   "metadata": {},
   "outputs": [
    {
     "data": {
      "application/vnd.microsoft.datawrangler.viewer.v0+json": {
       "columns": [
        {
         "name": "index",
         "rawType": "int64",
         "type": "integer"
        },
        {
         "name": "name",
         "rawType": "object",
         "type": "string"
        },
        {
         "name": "label",
         "rawType": "object",
         "type": "string"
        },
        {
         "name": "partido",
         "rawType": "object",
         "type": "unknown"
        },
        {
         "name": "type",
         "rawType": "object",
         "type": "string"
        },
        {
         "name": "score",
         "rawType": "float64",
         "type": "float"
        }
       ],
       "ref": "697eebe5-56de-40ba-b9f8-58715a707b9a",
       "rows": [
        [
         "0",
         "CP:2187087",
         "PL 5029/2019",
         null,
         "Proposicao",
         "1.0"
        ],
        [
         "1",
         "CP:2190408",
         "PL 2/2019",
         null,
         "Proposicao",
         "0.25"
        ],
        [
         "2",
         "CP:2190417",
         "PL 10/2019",
         null,
         "Proposicao",
         "0.25"
        ],
        [
         "3",
         "CP:2190423",
         "PL 15/2019",
         null,
         "Proposicao",
         "0.0"
        ],
        [
         "4",
         "CP:2190450",
         "PL 21/2019",
         null,
         "Proposicao",
         "0.25"
        ]
       ],
       "shape": {
        "columns": 5,
        "rows": 5
       }
      },
      "text/html": [
       "<div>\n",
       "<style scoped>\n",
       "    .dataframe tbody tr th:only-of-type {\n",
       "        vertical-align: middle;\n",
       "    }\n",
       "\n",
       "    .dataframe tbody tr th {\n",
       "        vertical-align: top;\n",
       "    }\n",
       "\n",
       "    .dataframe thead th {\n",
       "        text-align: right;\n",
       "    }\n",
       "</style>\n",
       "<table border=\"1\" class=\"dataframe\">\n",
       "  <thead>\n",
       "    <tr style=\"text-align: right;\">\n",
       "      <th></th>\n",
       "      <th>name</th>\n",
       "      <th>label</th>\n",
       "      <th>partido</th>\n",
       "      <th>type</th>\n",
       "      <th>score</th>\n",
       "    </tr>\n",
       "  </thead>\n",
       "  <tbody>\n",
       "    <tr>\n",
       "      <th>0</th>\n",
       "      <td>CP:2187087</td>\n",
       "      <td>PL 5029/2019</td>\n",
       "      <td>None</td>\n",
       "      <td>Proposicao</td>\n",
       "      <td>1.00</td>\n",
       "    </tr>\n",
       "    <tr>\n",
       "      <th>1</th>\n",
       "      <td>CP:2190408</td>\n",
       "      <td>PL 2/2019</td>\n",
       "      <td>None</td>\n",
       "      <td>Proposicao</td>\n",
       "      <td>0.25</td>\n",
       "    </tr>\n",
       "    <tr>\n",
       "      <th>2</th>\n",
       "      <td>CP:2190417</td>\n",
       "      <td>PL 10/2019</td>\n",
       "      <td>None</td>\n",
       "      <td>Proposicao</td>\n",
       "      <td>0.25</td>\n",
       "    </tr>\n",
       "    <tr>\n",
       "      <th>3</th>\n",
       "      <td>CP:2190423</td>\n",
       "      <td>PL 15/2019</td>\n",
       "      <td>None</td>\n",
       "      <td>Proposicao</td>\n",
       "      <td>0.00</td>\n",
       "    </tr>\n",
       "    <tr>\n",
       "      <th>4</th>\n",
       "      <td>CP:2190450</td>\n",
       "      <td>PL 21/2019</td>\n",
       "      <td>None</td>\n",
       "      <td>Proposicao</td>\n",
       "      <td>0.25</td>\n",
       "    </tr>\n",
       "  </tbody>\n",
       "</table>\n",
       "</div>"
      ],
      "text/plain": [
       "         name         label partido        type  score\n",
       "0  CP:2187087  PL 5029/2019    None  Proposicao   1.00\n",
       "1  CP:2190408     PL 2/2019    None  Proposicao   0.25\n",
       "2  CP:2190417    PL 10/2019    None  Proposicao   0.25\n",
       "3  CP:2190423    PL 15/2019    None  Proposicao   0.00\n",
       "4  CP:2190450    PL 21/2019    None  Proposicao   0.25"
      ]
     },
     "execution_count": 30,
     "metadata": {},
     "output_type": "execute_result"
    }
   ],
   "source": [
    "node_df = nodes_scored_df.reset_index().rename(columns={'tag': 'name'})\n",
    "node_df.head()"
   ]
  },
  {
   "cell_type": "code",
   "execution_count": 31,
   "id": "92dc4aea",
   "metadata": {},
   "outputs": [
    {
     "data": {
      "application/vnd.microsoft.datawrangler.viewer.v0+json": {
       "columns": [
        {
         "name": "index",
         "rawType": "int64",
         "type": "integer"
        },
        {
         "name": "from",
         "rawType": "object",
         "type": "string"
        },
        {
         "name": "to",
         "rawType": "object",
         "type": "string"
        },
        {
         "name": "weight",
         "rawType": "float64",
         "type": "float"
        }
       ],
       "ref": "ab2a58ef-b50f-4956-bced-eb3915d590fa",
       "rows": [],
       "shape": {
        "columns": 3,
        "rows": 0
       }
      },
      "text/html": [
       "<div>\n",
       "<style scoped>\n",
       "    .dataframe tbody tr th:only-of-type {\n",
       "        vertical-align: middle;\n",
       "    }\n",
       "\n",
       "    .dataframe tbody tr th {\n",
       "        vertical-align: top;\n",
       "    }\n",
       "\n",
       "    .dataframe thead th {\n",
       "        text-align: right;\n",
       "    }\n",
       "</style>\n",
       "<table border=\"1\" class=\"dataframe\">\n",
       "  <thead>\n",
       "    <tr style=\"text-align: right;\">\n",
       "      <th></th>\n",
       "      <th>from</th>\n",
       "      <th>to</th>\n",
       "      <th>weight</th>\n",
       "    </tr>\n",
       "  </thead>\n",
       "  <tbody>\n",
       "  </tbody>\n",
       "</table>\n",
       "</div>"
      ],
      "text/plain": [
       "Empty DataFrame\n",
       "Columns: [from, to, weight]\n",
       "Index: []"
      ]
     },
     "execution_count": 31,
     "metadata": {},
     "output_type": "execute_result"
    }
   ],
   "source": [
    "edge_df[edge_df['weight'].isna()]"
   ]
  },
  {
   "cell_type": "code",
   "execution_count": 32,
   "id": "3db5d949",
   "metadata": {},
   "outputs": [],
   "source": [
    "node_df, edge_df = prune_graph(node_df, edge_df)"
   ]
  },
  {
   "cell_type": "code",
   "execution_count": 33,
   "id": "fdbf3db6",
   "metadata": {},
   "outputs": [],
   "source": [
    "# Finalmente, a partir deste ponto não existe mais diferença entre um órgão ou ente (nomes diferentes para a mesma coisa)\n",
    "node_df.loc[node_df['type'] == \"Ente\", 'type'] = 'Orgao'"
   ]
  },
  {
   "cell_type": "code",
   "execution_count": 34,
   "id": "b7dee27d",
   "metadata": {},
   "outputs": [
    {
     "data": {
      "application/vnd.microsoft.datawrangler.viewer.v0+json": {
       "columns": [
        {
         "name": "type",
         "rawType": "object",
         "type": "string"
        },
        {
         "name": "count",
         "rawType": "int64",
         "type": "integer"
        }
       ],
       "ref": "512ee6b3-7b85-4fcc-bddb-76075646e5e0",
       "rows": [
        [
         "Proposicao",
         "27046"
        ],
        [
         "Processo",
         "1113"
        ],
        [
         "Deputado",
         "916"
        ],
        [
         "Senador",
         "114"
        ],
        [
         "Orgao",
         "46"
        ]
       ],
       "shape": {
        "columns": 1,
        "rows": 5
       }
      },
      "text/plain": [
       "type\n",
       "Proposicao    27046\n",
       "Processo       1113\n",
       "Deputado        916\n",
       "Senador         114\n",
       "Orgao            46\n",
       "Name: count, dtype: int64"
      ]
     },
     "execution_count": 34,
     "metadata": {},
     "output_type": "execute_result"
    }
   ],
   "source": [
    "node_df.value_counts('type')"
   ]
  },
  {
   "cell_type": "code",
   "execution_count": 35,
   "id": "307ddf61",
   "metadata": {},
   "outputs": [
    {
     "data": {
      "application/vnd.microsoft.datawrangler.viewer.v0+json": {
       "columns": [
        {
         "name": "bigtype",
         "rawType": "object",
         "type": "string"
        },
        {
         "name": "count",
         "rawType": "int64",
         "type": "integer"
        }
       ],
       "ref": "f5e86920-0990-488c-ae8d-d065b9f99241",
       "rows": [
        [
         "bill",
         "28159"
        ],
        [
         "author",
         "1076"
        ]
       ],
       "shape": {
        "columns": 1,
        "rows": 2
       }
      },
      "text/plain": [
       "bigtype\n",
       "bill      28159\n",
       "author     1076\n",
       "Name: count, dtype: int64"
      ]
     },
     "execution_count": 35,
     "metadata": {},
     "output_type": "execute_result"
    }
   ],
   "source": [
    "type_to_bigtype = {\n",
    "    'Proposicao': 'bill',\n",
    "    'Processo': 'bill',\n",
    "    'Orgao': 'author',\n",
    "    'Deputado': 'author',\n",
    "    'Senador': 'author',\n",
    "}\n",
    "\n",
    "node_df['bigtype'] = node_df['type'].map(type_to_bigtype)\n",
    "node_df.value_counts('bigtype')"
   ]
  },
  {
   "cell_type": "markdown",
   "id": "8f915762",
   "metadata": {},
   "source": [
    "# Análises"
   ]
  },
  {
   "cell_type": "markdown",
   "id": "f3867101",
   "metadata": {},
   "source": [
    "## Escore médio por autor (mais simples)"
   ]
  },
  {
   "cell_type": "code",
   "execution_count": 36,
   "id": "f9ecc5be",
   "metadata": {},
   "outputs": [
    {
     "data": {
      "application/vnd.microsoft.datawrangler.viewer.v0+json": {
       "columns": [
        {
         "name": "author",
         "rawType": "object",
         "type": "string"
        },
        {
         "name": "mean_score",
         "rawType": "float64",
         "type": "float"
        }
       ],
       "ref": "3d2361b0-bb45-40a6-bf7f-8785d3300301",
       "rows": [
        [
         "CD:100689",
         "0.25"
        ],
        [
         "CD:103758",
         "0.23214285714285715"
        ],
        [
         "CD:104552",
         "0.23529411764705882"
        ],
        [
         "CD:105534",
         "0.25"
        ],
        [
         "CD:107283",
         "0.2727272727272727"
        ],
        [
         "CD:107970",
         "0.17857142857142858"
        ],
        [
         "CD:108338",
         "0.24285714285714285"
        ],
        [
         "CD:109429",
         "0.20075757575757575"
        ],
        [
         "CD:112437",
         "0.25"
        ],
        [
         "CD:115200",
         "0.25"
        ],
        [
         "CD:115746",
         "0.25"
        ],
        [
         "CD:116379",
         "0.23076923076923078"
        ],
        [
         "CD:121948",
         "0.2261904761904762"
        ],
        [
         "CD:122158",
         "0.3046875"
        ],
        [
         "CD:122195",
         "0.1796875"
        ],
        [
         "CD:122466",
         "0.25"
        ],
        [
         "CD:122974",
         "0.2633333333333333"
        ],
        [
         "CD:123086",
         "0.10714285714285714"
        ],
        [
         "CD:123756",
         "0.2"
        ],
        [
         "CD:128760",
         "0.16666666666666666"
        ],
        [
         "CD:129618",
         "0.5"
        ],
        [
         "CD:130398",
         "0.25"
        ],
        [
         "CD:131085",
         "1.0"
        ],
        [
         "CD:132504",
         "0.2516025641025641"
        ],
        [
         "CD:133439",
         "0.25"
        ],
        [
         "CD:133810",
         "0.22794117647058823"
        ],
        [
         "CD:133968",
         "0.20522388059701493"
        ],
        [
         "CD:134812",
         "0.2767857142857143"
        ],
        [
         "CD:135054",
         "0.75"
        ],
        [
         "CD:136811",
         "0.23076923076923078"
        ],
        [
         "CD:137070",
         "0.24"
        ],
        [
         "CD:138286",
         "0.19642857142857142"
        ],
        [
         "CD:139285",
         "0.24289772727272727"
        ],
        [
         "CD:141335",
         "0.2700892857142857"
        ],
        [
         "CD:141372",
         "0.2857142857142857"
        ],
        [
         "CD:141383",
         "0.25"
        ],
        [
         "CD:141386",
         "1.0"
        ],
        [
         "CD:141391",
         "0.25"
        ],
        [
         "CD:141398",
         "0.26851851851851855"
        ],
        [
         "CD:141401",
         "0.21306818181818182"
        ],
        [
         "CD:141405",
         "0.23809523809523808"
        ],
        [
         "CD:141408",
         "0.19480519480519481"
        ],
        [
         "CD:141411",
         "0.22321428571428573"
        ],
        [
         "CD:141417",
         "0.1875"
        ],
        [
         "CD:141421",
         "0.22448979591836735"
        ],
        [
         "CD:141422",
         "0.45714285714285713"
        ],
        [
         "CD:141427",
         "0.25"
        ],
        [
         "CD:141428",
         "0.23076923076923078"
        ],
        [
         "CD:141431",
         "0.25"
        ],
        [
         "CD:141434",
         "0.32142857142857145"
        ]
       ],
       "shape": {
        "columns": 1,
        "rows": 1076
       }
      },
      "text/html": [
       "<div>\n",
       "<style scoped>\n",
       "    .dataframe tbody tr th:only-of-type {\n",
       "        vertical-align: middle;\n",
       "    }\n",
       "\n",
       "    .dataframe tbody tr th {\n",
       "        vertical-align: top;\n",
       "    }\n",
       "\n",
       "    .dataframe thead th {\n",
       "        text-align: right;\n",
       "    }\n",
       "</style>\n",
       "<table border=\"1\" class=\"dataframe\">\n",
       "  <thead>\n",
       "    <tr style=\"text-align: right;\">\n",
       "      <th></th>\n",
       "      <th>mean_score</th>\n",
       "    </tr>\n",
       "    <tr>\n",
       "      <th>author</th>\n",
       "      <th></th>\n",
       "    </tr>\n",
       "  </thead>\n",
       "  <tbody>\n",
       "    <tr>\n",
       "      <th>CD:100689</th>\n",
       "      <td>0.250000</td>\n",
       "    </tr>\n",
       "    <tr>\n",
       "      <th>CD:103758</th>\n",
       "      <td>0.232143</td>\n",
       "    </tr>\n",
       "    <tr>\n",
       "      <th>CD:104552</th>\n",
       "      <td>0.235294</td>\n",
       "    </tr>\n",
       "    <tr>\n",
       "      <th>CD:105534</th>\n",
       "      <td>0.250000</td>\n",
       "    </tr>\n",
       "    <tr>\n",
       "      <th>CD:107283</th>\n",
       "      <td>0.272727</td>\n",
       "    </tr>\n",
       "    <tr>\n",
       "      <th>...</th>\n",
       "      <td>...</td>\n",
       "    </tr>\n",
       "    <tr>\n",
       "      <th>SS:751</th>\n",
       "      <td>0.350000</td>\n",
       "    </tr>\n",
       "    <tr>\n",
       "      <th>SS:825</th>\n",
       "      <td>0.337054</td>\n",
       "    </tr>\n",
       "    <tr>\n",
       "      <th>SS:878</th>\n",
       "      <td>0.250000</td>\n",
       "    </tr>\n",
       "    <tr>\n",
       "      <th>SS:90</th>\n",
       "      <td>0.273438</td>\n",
       "    </tr>\n",
       "    <tr>\n",
       "      <th>SS:945</th>\n",
       "      <td>0.274390</td>\n",
       "    </tr>\n",
       "  </tbody>\n",
       "</table>\n",
       "<p>1076 rows × 1 columns</p>\n",
       "</div>"
      ],
      "text/plain": [
       "           mean_score\n",
       "author               \n",
       "CD:100689    0.250000\n",
       "CD:103758    0.232143\n",
       "CD:104552    0.235294\n",
       "CD:105534    0.250000\n",
       "CD:107283    0.272727\n",
       "...               ...\n",
       "SS:751       0.350000\n",
       "SS:825       0.337054\n",
       "SS:878       0.250000\n",
       "SS:90        0.273438\n",
       "SS:945       0.274390\n",
       "\n",
       "[1076 rows x 1 columns]"
      ]
     },
     "execution_count": 36,
     "metadata": {},
     "output_type": "execute_result"
    }
   ],
   "source": [
    "author_mean_scores = (edge_df.groupby('from', as_index=False)['weight'].mean().rename(\n",
    "    columns={'from': 'author', 'weight': 'mean_score'}  # type: ignore\n",
    ").set_index('author', drop=True))\n",
    "author_mean_scores"
   ]
  },
  {
   "cell_type": "code",
   "execution_count": 37,
   "id": "130d5d59",
   "metadata": {},
   "outputs": [],
   "source": [
    "author_bill_counts = edge_df['from'].value_counts().rename_axis('name').reset_index(name='from_count').set_index('name', drop=True)"
   ]
  },
  {
   "cell_type": "code",
   "execution_count": 38,
   "id": "0dd4f909",
   "metadata": {},
   "outputs": [
    {
     "data": {
      "application/vnd.microsoft.datawrangler.viewer.v0+json": {
       "columns": [
        {
         "name": "name",
         "rawType": "object",
         "type": "string"
        },
        {
         "name": "label",
         "rawType": "object",
         "type": "string"
        },
        {
         "name": "partido",
         "rawType": "object",
         "type": "unknown"
        },
        {
         "name": "type",
         "rawType": "object",
         "type": "string"
        },
        {
         "name": "bigtype",
         "rawType": "object",
         "type": "string"
        },
        {
         "name": "mean_score",
         "rawType": "float64",
         "type": "float"
        },
        {
         "name": "from_count",
         "rawType": "int64",
         "type": "integer"
        }
       ],
       "ref": "9f2b2692-c134-4b17-a915-f1512c3ea19a",
       "rows": [
        [
         "CD:66828",
         "FAUSTO RUY PINATO",
         "PP/SP",
         "Deputado",
         "author",
         "0.2413793103448276",
         "58"
        ],
        [
         "CD:73463",
         "OSMAR JOSÉ SERRAGLIO",
         "PP/PR",
         "Deputado",
         "author",
         "0.25",
         "2"
        ],
        [
         "CD:73472",
         "GERVÁSIO JOSÉ DA SILVA",
         "PSDB/SC",
         "Deputado",
         "author",
         "0.25",
         "1"
        ],
        [
         "CD:73486",
         "DARCI POMPEO DE MATTOS",
         "PDT/RS",
         "Deputado",
         "author",
         "0.20566037735849058",
         "265"
        ],
        [
         "CD:73545",
         "EUSTÁQUIO LUCIANO ZICA",
         "PT/SP",
         "Deputado",
         "author",
         "1.0",
         "1"
        ],
        [
         "CD:74047",
         "PAULO RUBEM SANTIAGO FERREIRA",
         "PDT/PE",
         "Deputado",
         "author",
         "1.0",
         "1"
        ],
        [
         "CD:74137",
         "LUIZ EDUARDO RODRIGUES GREENHALGH",
         "PT/SP",
         "Deputado",
         "author",
         "1.0",
         "1"
        ],
        [
         "CD:74218",
         "WALTER DE FREITAS PINHEIRO",
         "PT/BA",
         "Deputado",
         "author",
         "1.0",
         "1"
        ],
        [
         "CD:74376",
         "VANDER LUIZ DOS SANTOS LOUBET",
         "PT/MS",
         "Deputado",
         "author",
         "0.262",
         "125"
        ],
        [
         "CD:74491",
         "JOSÉ NAZARENO CARDEAL FONTELES",
         "PT/PI",
         "Deputado",
         "author",
         "1.0",
         "1"
        ],
        [
         "CD:122974",
         "PEDRO LUCAS ANDRADE FERNANDES RIBEIRO",
         "UNIÃO/MA",
         "Deputado",
         "author",
         "0.2633333333333333",
         "75"
        ],
        [
         "CD:133439",
         "ANDRÉ PEIXOTO FIGUEIREDO LIMA",
         "PDT/CE",
         "Deputado",
         "author",
         "0.25",
         "148"
        ],
        [
         "CD:133810",
         "MARCELO PIRES MORAES",
         "PL/RS",
         "Deputado",
         "author",
         "0.22794117647058823",
         "34"
        ],
        [
         "CD:141480",
         "LÁZARO BOTELHO MARTINS",
         "PP/TO",
         "Deputado",
         "author",
         "0.25",
         "13"
        ],
        [
         "CD:152610",
         "BENEDITO ROBERTO ALVES FERREIRA",
         "PRB/SP",
         "Deputado",
         "author",
         "0.28",
         "25"
        ],
        [
         "CD:160511",
         "ALESSANDRO LUCCIOLA MOLON",
         "PSB/RJ",
         "Deputado",
         "author",
         "0.24157303370786518",
         "89"
        ],
        [
         "CD:160527",
         "AGUINALDO VELLOSO BORGES RIBEIRO",
         "PP/PB",
         "Deputado",
         "author",
         "0.42857142857142855",
         "7"
        ],
        [
         "CD:160535",
         "DIONILSO MATEUS MARCON",
         "PT/RS",
         "Deputado",
         "author",
         "0.2540983606557377",
         "183"
        ],
        [
         "CD:160552",
         "DANRLEI DE DEUS HINTERHOLZ",
         "PSD/RS",
         "Deputado",
         "author",
         "0.2647058823529412",
         "17"
        ],
        [
         "CD:160558",
         "PAULO ROBERTO FREIRE DA COSTA",
         "PL/SP",
         "Deputado",
         "author",
         "0.25",
         "13"
        ],
        [
         "CD:160575",
         "ÉRIKA JUCÁ KOKAY",
         "PT/DF",
         "Deputado",
         "author",
         "0.26228070175438595",
         "285"
        ],
        [
         "CD:160591",
         "VINICIUS DE AZEVEDO GURGEL",
         "PL/AP",
         "Deputado",
         "author",
         "0.21428571428571427",
         "7"
        ],
        [
         "CD:160641",
         "MARCIVANIA DO SOCORRO DA ROCHA FLEXA",
         "PCdoB/AP",
         "Deputado",
         "author",
         "0.3068181818181818",
         "44"
        ],
        [
         "CD:168175",
         "JOSE SIMPLICIO ALVES DE ARAUJO",
         "SOLIDARIEDADE/MA",
         "Deputado",
         "author",
         "0.25",
         "1"
        ],
        [
         "CD:178829",
         "JOSE AUGUSTO ROSA",
         "PL/SP",
         "Deputado",
         "author",
         "0.210431654676259",
         "139"
        ],
        [
         "CD:178882",
         "ANDRE LUIZ CARVALHO RIBEIRO",
         "PP/MA",
         "Deputado",
         "author",
         "0.29545454545454547",
         "11"
        ],
        [
         "CD:178888",
         "CARLOS VICTOR GUTERRES MENDES",
         "MDB/MA",
         "Deputado",
         "author",
         "0.25",
         "4"
        ],
        [
         "CD:178895",
         "MISAEL ARTUR FERREIRA VARELLA",
         "PSD/MG",
         "Deputado",
         "author",
         "0.2857142857142857",
         "7"
        ],
        [
         "CD:178981",
         "HERCULANO CASTILHO PASSOS JUNIOR",
         "MDB/SP",
         "Deputado",
         "author",
         "0.21153846153846154",
         "13"
        ],
        [
         "CD:179001",
         "MARCIO DELLA VALLE BIOLCHI",
         "MDB/RS",
         "Deputado",
         "author",
         "0.17857142857142858",
         "7"
        ],
        [
         "CD:191923",
         "FLÁVIO RODRIGUES NOGUEIRA",
         "PT/PI",
         "Deputado",
         "author",
         "0.25806451612903225",
         "62"
        ],
        [
         "CD:204351",
         "LUIZ ALBERTO OVANDO",
         "PP/MS",
         "Deputado",
         "author",
         "0.25",
         "39"
        ],
        [
         "CD:204377",
         "PAULA MORENO PARO BELMONTE",
         "CIDADANIA/DF",
         "Deputado",
         "author",
         "0.26875",
         "160"
        ],
        [
         "CD:204389",
         "ELIAS VAZ DE ANDRADE",
         "PSB/GO",
         "Deputado",
         "author",
         "0.20121951219512196",
         "41"
        ],
        [
         "CD:204414",
         "JOSE AROLDO SOUZA MARTINS",
         "PRB/PR",
         "Deputado",
         "author",
         "0.23148148148148148",
         "27"
        ],
        [
         "CD:204416",
         "UBIRATAN ANTUNES SANDERSON",
         "PL/RS",
         "Deputado",
         "author",
         "0.22556390977443608",
         "133"
        ],
        [
         "CD:204462",
         "CHRISTINE NOGUEIRA DOS REIS TONIETTO",
         "PL/RJ",
         "Deputado",
         "author",
         "0.21333333333333335",
         "75"
        ],
        [
         "CD:204468",
         "JOENIA BATISTA DE CARVALHO",
         "REDE/RR",
         "Deputado",
         "author",
         "0.3333333333333333",
         "45"
        ],
        [
         "CD:204474",
         "JUAREZ ALVES DA COSTA",
         "MDB/MT",
         "Deputado",
         "author",
         "0.25",
         "10"
        ],
        [
         "CD:204518",
         "FREDERICO DE CASTRO ESCALEIRA",
         "PATRIOTA/MG",
         "Deputado",
         "author",
         "0.3113207547169811",
         "53"
        ],
        [
         "CD:204521",
         "PAULO SERGIO ABOU ANNI",
         "PSL/SP",
         "Deputado",
         "author",
         "0.225",
         "40"
        ],
        [
         "CD:204526",
         "LUIZ PHILIPPE DE ORLEANS BRAGANÇA",
         "PL/SP",
         "Deputado",
         "author",
         "0.22666666666666666",
         "150"
        ],
        [
         "CD:204537",
         "ENRICO VAN BLARCUM DE GRAAFF MISASI",
         "MDB/SP",
         "Deputado",
         "author",
         "0.3695652173913043",
         "23"
        ],
        [
         "CD:204573",
         "OTTO ROBERTO MENDONÇA DE ALENCAR FILHO",
         "PSD/BA",
         "Deputado",
         "author",
         "0.23161764705882354",
         "68"
        ],
        [
         "CD:212625",
         "ANTONIO ELIZABETH GONÇALO DE SOUSA",
         "PODE/MA",
         "Deputado",
         "author",
         "0.21428571428571427",
         "14"
        ],
        [
         "CD:216198",
         "NORMA PETERMANN PEREIRA",
         "PSDB/SC",
         "Deputado",
         "author",
         "0.5",
         "1"
        ],
        [
         "CD:220602",
         "DIMAS DE PAIVA GADELHA JUNIOR",
         "PT/RJ",
         "Deputado",
         "author",
         "0.21428571428571427",
         "14"
        ],
        [
         "CD:220605",
         "EDUARDO CARVALHO BANDEIRA DE MELLO",
         "PSB/RJ",
         "Deputado",
         "author",
         "0.275",
         "20"
        ],
        [
         "CD:220621",
         "EVANDRO GONÇALVES DA SILVA JÚNIOR",
         "PL/RN",
         "Deputado",
         "author",
         "0.19",
         "50"
        ],
        [
         "CD:220628",
         "MAURICIO LUIZ DE SOUZA",
         "PL/MG",
         "Deputado",
         "author",
         "0.2196969696969697",
         "33"
        ]
       ],
       "shape": {
        "columns": 6,
        "rows": 1076
       }
      },
      "text/html": [
       "<div>\n",
       "<style scoped>\n",
       "    .dataframe tbody tr th:only-of-type {\n",
       "        vertical-align: middle;\n",
       "    }\n",
       "\n",
       "    .dataframe tbody tr th {\n",
       "        vertical-align: top;\n",
       "    }\n",
       "\n",
       "    .dataframe thead th {\n",
       "        text-align: right;\n",
       "    }\n",
       "</style>\n",
       "<table border=\"1\" class=\"dataframe\">\n",
       "  <thead>\n",
       "    <tr style=\"text-align: right;\">\n",
       "      <th></th>\n",
       "      <th>label</th>\n",
       "      <th>partido</th>\n",
       "      <th>type</th>\n",
       "      <th>bigtype</th>\n",
       "      <th>mean_score</th>\n",
       "      <th>from_count</th>\n",
       "    </tr>\n",
       "    <tr>\n",
       "      <th>name</th>\n",
       "      <th></th>\n",
       "      <th></th>\n",
       "      <th></th>\n",
       "      <th></th>\n",
       "      <th></th>\n",
       "      <th></th>\n",
       "    </tr>\n",
       "  </thead>\n",
       "  <tbody>\n",
       "    <tr>\n",
       "      <th>CD:66828</th>\n",
       "      <td>FAUSTO RUY PINATO</td>\n",
       "      <td>PP/SP</td>\n",
       "      <td>Deputado</td>\n",
       "      <td>author</td>\n",
       "      <td>0.241379</td>\n",
       "      <td>58</td>\n",
       "    </tr>\n",
       "    <tr>\n",
       "      <th>CD:73463</th>\n",
       "      <td>OSMAR JOSÉ SERRAGLIO</td>\n",
       "      <td>PP/PR</td>\n",
       "      <td>Deputado</td>\n",
       "      <td>author</td>\n",
       "      <td>0.250000</td>\n",
       "      <td>2</td>\n",
       "    </tr>\n",
       "    <tr>\n",
       "      <th>CD:73472</th>\n",
       "      <td>GERVÁSIO JOSÉ DA SILVA</td>\n",
       "      <td>PSDB/SC</td>\n",
       "      <td>Deputado</td>\n",
       "      <td>author</td>\n",
       "      <td>0.250000</td>\n",
       "      <td>1</td>\n",
       "    </tr>\n",
       "    <tr>\n",
       "      <th>CD:73486</th>\n",
       "      <td>DARCI POMPEO DE MATTOS</td>\n",
       "      <td>PDT/RS</td>\n",
       "      <td>Deputado</td>\n",
       "      <td>author</td>\n",
       "      <td>0.205660</td>\n",
       "      <td>265</td>\n",
       "    </tr>\n",
       "    <tr>\n",
       "      <th>CD:73545</th>\n",
       "      <td>EUSTÁQUIO LUCIANO ZICA</td>\n",
       "      <td>PT/SP</td>\n",
       "      <td>Deputado</td>\n",
       "      <td>author</td>\n",
       "      <td>1.000000</td>\n",
       "      <td>1</td>\n",
       "    </tr>\n",
       "    <tr>\n",
       "      <th>...</th>\n",
       "      <td>...</td>\n",
       "      <td>...</td>\n",
       "      <td>...</td>\n",
       "      <td>...</td>\n",
       "      <td>...</td>\n",
       "      <td>...</td>\n",
       "    </tr>\n",
       "    <tr>\n",
       "      <th>SE:7352398</th>\n",
       "      <td>CPI DA PANDEMIA</td>\n",
       "      <td>None</td>\n",
       "      <td>Orgao</td>\n",
       "      <td>author</td>\n",
       "      <td>0.550000</td>\n",
       "      <td>5</td>\n",
       "    </tr>\n",
       "    <tr>\n",
       "      <th>SE:55226</th>\n",
       "      <td>COMISSÃO DIRETORA</td>\n",
       "      <td>None</td>\n",
       "      <td>Orgao</td>\n",
       "      <td>author</td>\n",
       "      <td>0.750000</td>\n",
       "      <td>2</td>\n",
       "    </tr>\n",
       "    <tr>\n",
       "      <th>SE:3947422</th>\n",
       "      <td>COMISSÃO DE DIREITOS HUMANOS E LEGISLAÇÃO PART...</td>\n",
       "      <td>None</td>\n",
       "      <td>Orgao</td>\n",
       "      <td>author</td>\n",
       "      <td>0.375000</td>\n",
       "      <td>6</td>\n",
       "    </tr>\n",
       "    <tr>\n",
       "      <th>SE:3927825</th>\n",
       "      <td>COMISSÃO DE MEIO AMBIENTE</td>\n",
       "      <td>None</td>\n",
       "      <td>Orgao</td>\n",
       "      <td>author</td>\n",
       "      <td>0.750000</td>\n",
       "      <td>2</td>\n",
       "    </tr>\n",
       "    <tr>\n",
       "      <th>SE:7352682</th>\n",
       "      <td>FORUM NACIONAL DE COMITÊS HIDROGRÁFICAS BRASIL</td>\n",
       "      <td>None</td>\n",
       "      <td>Orgao</td>\n",
       "      <td>author</td>\n",
       "      <td>0.250000</td>\n",
       "      <td>1</td>\n",
       "    </tr>\n",
       "  </tbody>\n",
       "</table>\n",
       "<p>1076 rows × 6 columns</p>\n",
       "</div>"
      ],
      "text/plain": [
       "                                                        label  partido  \\\n",
       "name                                                                     \n",
       "CD:66828                                    FAUSTO RUY PINATO    PP/SP   \n",
       "CD:73463                                 OSMAR JOSÉ SERRAGLIO    PP/PR   \n",
       "CD:73472                               GERVÁSIO JOSÉ DA SILVA  PSDB/SC   \n",
       "CD:73486                               DARCI POMPEO DE MATTOS   PDT/RS   \n",
       "CD:73545                               EUSTÁQUIO LUCIANO ZICA    PT/SP   \n",
       "...                                                       ...      ...   \n",
       "SE:7352398                                    CPI DA PANDEMIA     None   \n",
       "SE:55226                                    COMISSÃO DIRETORA     None   \n",
       "SE:3947422  COMISSÃO DE DIREITOS HUMANOS E LEGISLAÇÃO PART...     None   \n",
       "SE:3927825                          COMISSÃO DE MEIO AMBIENTE     None   \n",
       "SE:7352682     FORUM NACIONAL DE COMITÊS HIDROGRÁFICAS BRASIL     None   \n",
       "\n",
       "                type bigtype  mean_score  from_count  \n",
       "name                                                  \n",
       "CD:66828    Deputado  author    0.241379          58  \n",
       "CD:73463    Deputado  author    0.250000           2  \n",
       "CD:73472    Deputado  author    0.250000           1  \n",
       "CD:73486    Deputado  author    0.205660         265  \n",
       "CD:73545    Deputado  author    1.000000           1  \n",
       "...              ...     ...         ...         ...  \n",
       "SE:7352398     Orgao  author    0.550000           5  \n",
       "SE:55226       Orgao  author    0.750000           2  \n",
       "SE:3947422     Orgao  author    0.375000           6  \n",
       "SE:3927825     Orgao  author    0.750000           2  \n",
       "SE:7352682     Orgao  author    0.250000           1  \n",
       "\n",
       "[1076 rows x 6 columns]"
      ]
     },
     "execution_count": 38,
     "metadata": {},
     "output_type": "execute_result"
    }
   ],
   "source": [
    "author_performance_df = node_df.join(author_mean_scores, on=\"name\", how=\"inner\").drop(\"score\", axis=1).join(author_bill_counts, on=\"name\", how=\"inner\").set_index('name', drop=True)\n",
    "author_performance_df"
   ]
  },
  {
   "cell_type": "code",
   "execution_count": 39,
   "id": "8996d144",
   "metadata": {},
   "outputs": [
    {
     "data": {
      "application/vnd.microsoft.datawrangler.viewer.v0+json": {
       "columns": [
        {
         "name": "name",
         "rawType": "object",
         "type": "string"
        },
        {
         "name": "label",
         "rawType": "object",
         "type": "string"
        },
        {
         "name": "partido",
         "rawType": "object",
         "type": "string"
        },
        {
         "name": "type",
         "rawType": "object",
         "type": "string"
        },
        {
         "name": "bigtype",
         "rawType": "object",
         "type": "string"
        },
        {
         "name": "mean_score",
         "rawType": "float64",
         "type": "float"
        },
        {
         "name": "from_count",
         "rawType": "int64",
         "type": "integer"
        }
       ],
       "ref": "677059c3-2e88-4bcb-a640-b9e7c99620e2",
       "rows": [
        [
         "CD:131085",
         "OLAVO BILAC PEREIRA PINTO",
         "UDN/MG",
         "Deputado",
         "author",
         "1.0",
         "1"
        ],
        [
         "CD:73454",
         "JOÃO BATISTA DOS SANTOS",
         "PT/MS",
         "Deputado",
         "author",
         "1.0",
         "1"
        ],
        [
         "CD:74145",
         "JOSÉ EDUARDO VIEIRA RIBEIRO",
         "PT/BA",
         "Deputado",
         "author",
         "1.0",
         "1"
        ],
        [
         "CD:74780",
         "IARA BERNARDI",
         "PT/SP",
         "Deputado",
         "author",
         "1.0",
         "1"
        ],
        [
         "CD:160644",
         "ESMERINO NERI BATISTA FILHO",
         "PT/PA",
         "Deputado",
         "author",
         "1.0",
         "1"
        ],
        [
         "CD:74391",
         "CLÁUDIO ANTÔNIO VIGNATTI",
         "PT/SC",
         "Deputado",
         "author",
         "1.0",
         "1"
        ],
        [
         "CD:74162",
         "IRINY NICOLAU CORRES LOPES",
         "PT/ES",
         "Deputado",
         "author",
         "1.0",
         "1"
        ],
        [
         "CD:74031",
         "JOÃO ALFREDO TELLES MELO",
         "PSOL/CE",
         "Deputado",
         "author",
         "1.0",
         "1"
        ],
        [
         "CD:74047",
         "PAULO RUBEM SANTIAGO FERREIRA",
         "PDT/PE",
         "Deputado",
         "author",
         "1.0",
         "1"
        ],
        [
         "CD:74037",
         "MARIA DE FÁTIMA BEZERRA",
         "PT/RN",
         "Deputado",
         "author",
         "1.0",
         "1"
        ],
        [
         "CD:74491",
         "JOSÉ NAZARENO CARDEAL FONTELES",
         "PT/PI",
         "Deputado",
         "author",
         "1.0",
         "1"
        ],
        [
         "CD:74274",
         "JOSÉ EDUARDO MARTINS CARDOZO",
         "PT/SP",
         "Deputado",
         "author",
         "1.0",
         "1"
        ],
        [
         "CD:74153",
         "IVO JOSÉ DA SILVA",
         "PT/MG",
         "Deputado",
         "author",
         "1.0",
         "1"
        ],
        [
         "CD:74133",
         "LUIZ ALBERTO SILVA DOS SANTOS",
         "PT/BA",
         "Deputado",
         "author",
         "1.0",
         "1"
        ],
        [
         "CD:195143",
         "ANDRÉ AUGUSTO CASTRO DO AMARAL FILHO",
         "PROS/PB",
         "Deputado",
         "author",
         "1.0",
         "1"
        ],
        [
         "CD:74665",
         "JAIME MARTINS FILHO",
         "PROS/MG",
         "Deputado",
         "author",
         "1.0",
         "1"
        ],
        [
         "CD:178834",
         "ADALBERTO SOUZA GALVÃO",
         "PSB/BA",
         "Deputado",
         "author",
         "1.0",
         "1"
        ],
        [
         "CD:74474",
         "CARLOS EDUARDO CINTRA DA COSTA PEREIRA",
         "PDT/PE",
         "Deputado",
         "author",
         "1.0",
         "1"
        ],
        [
         "CD:74389",
         "MAURO GUIMARÃES PASSOS",
         "PT/SC",
         "Deputado",
         "author",
         "1.0",
         "1"
        ],
        [
         "CD:141386",
         "ANTÔNIO EUDES XAVIER",
         "PT/CE",
         "Deputado",
         "author",
         "1.0",
         "1"
        ],
        [
         "CD:73545",
         "EUSTÁQUIO LUCIANO ZICA",
         "PT/SP",
         "Deputado",
         "author",
         "1.0",
         "1"
        ],
        [
         "CD:74137",
         "LUIZ EDUARDO RODRIGUES GREENHALGH",
         "PT/SP",
         "Deputado",
         "author",
         "1.0",
         "1"
        ],
        [
         "CD:74218",
         "WALTER DE FREITAS PINHEIRO",
         "PT/BA",
         "Deputado",
         "author",
         "1.0",
         "1"
        ],
        [
         "CD:74693",
         "RODRIGO FELINTO IBARRA EPITÁCIO MAIA",
         "DEM/RJ",
         "Deputado",
         "author",
         "0.875",
         "2"
        ],
        [
         "CD:135054",
         "CRISTIANO DUTRA VALE",
         "PR/PA",
         "Deputado",
         "author",
         "0.75",
         "1"
        ],
        [
         "CD:215042",
         "RICARDO CORREA DE BARROS",
         "PSC/RJ",
         "Deputado",
         "author",
         "0.75",
         "1"
        ],
        [
         "CD:178901",
         "TEREZA CRISTINA CORREA DA COSTA DIAS",
         "DEM/MS",
         "Deputado",
         "author",
         "0.6388888888888888",
         "9"
        ],
        [
         "CD:73584",
         "ANTONIO CARLOS DE MENDES THAME",
         "PV/SP",
         "Deputado",
         "author",
         "0.625",
         "2"
        ],
        [
         "CD:73474",
         "LUCI TERESINHA KOSWOSKI CHOINACKI",
         "PT/SC",
         "Deputado",
         "author",
         "0.625",
         "2"
        ],
        [
         "CD:73653",
         "WELLINGTON ANTONIO FAGUNDES",
         "PR/MT",
         "Deputado",
         "author",
         "0.5777777777777777",
         "45"
        ],
        [
         "CD:160541",
         "ARTHUR CÉSAR PEREIRA DE LIRA",
         "PP/AL",
         "Deputado",
         "author",
         "0.5555555555555556",
         "9"
        ],
        [
         "CD:160645",
         "LUIZ CARLOS GOMES DOS SANTOS JUNIOR",
         "PSDB/AP",
         "Deputado",
         "author",
         "0.5",
         "2"
        ],
        [
         "CD:178905",
         "FABIO PAULINO GARCIA",
         "UNIÃO/MT",
         "Deputado",
         "author",
         "0.5",
         "5"
        ],
        [
         "CD:216198",
         "NORMA PETERMANN PEREIRA",
         "PSDB/SC",
         "Deputado",
         "author",
         "0.5",
         "1"
        ],
        [
         "CD:129618",
         "MARIA GORETE PEREIRA",
         "PR/CE",
         "Deputado",
         "author",
         "0.5",
         "1"
        ],
        [
         "CD:204438",
         "SERGIO TOLEDO DE ALBUQUERQUE",
         "PR/AL",
         "Deputado",
         "author",
         "0.5",
         "3"
        ],
        [
         "CD:160509",
         "JORGINHO DOS SANTOS MELLO",
         "PR/SC",
         "Deputado",
         "author",
         "0.483695652173913",
         "46"
        ],
        [
         "CD:204430",
         "MARGARETE DE CASTRO COELHO",
         "PP/PI",
         "Deputado",
         "author",
         "0.46621621621621623",
         "37"
        ],
        [
         "CD:160649",
         "ESPERIDIÃO AMIN HELOU FILHO",
         "PP/SC",
         "Deputado",
         "author",
         "0.4642857142857143",
         "63"
        ],
        [
         "CD:141422",
         "EFRAIM DE ARAÚJO MORAIS FILHO",
         "DEM/PB",
         "Deputado",
         "author",
         "0.45714285714285713",
         "35"
        ],
        [
         "CD:216545",
         "FRANCISCO ANTONIO LOPES DE PAULA BEZERRA",
         "PDT/CE",
         "Deputado",
         "author",
         "0.4375",
         "4"
        ],
        [
         "CD:160565",
         "MARA CRISTINA GABRILLI",
         "PSDB/SP",
         "Deputado",
         "author",
         "0.4351851851851852",
         "54"
        ],
        [
         "CD:160527",
         "AGUINALDO VELLOSO BORGES RIBEIRO",
         "PP/PB",
         "Deputado",
         "author",
         "0.42857142857142855",
         "7"
        ],
        [
         "CD:204506",
         "MARCOS ANTONIO PEREIRA",
         "REPUBLICANOS/SP",
         "Deputado",
         "author",
         "0.4270833333333333",
         "24"
        ],
        [
         "CD:204552",
         "EDUARDO SALIM BRAIDE",
         "PODE/MA",
         "Deputado",
         "author",
         "0.4166666666666667",
         "12"
        ],
        [
         "CD:93083",
         "CARLOS FELIPE VAZQUEZ DE SOUZA LEÃO",
         "PP/BA",
         "Deputado",
         "author",
         "0.4166666666666667",
         "12"
        ],
        [
         "CD:204486",
         "CARLOS MAURO BENEVIDES FILHO",
         "PDT/CE",
         "Deputado",
         "author",
         "0.4107142857142857",
         "14"
        ],
        [
         "CD:160621",
         "SANDRO ALEX CRUZ DE OLIVEIRA",
         "PSD/PR",
         "Deputado",
         "author",
         "0.4",
         "5"
        ],
        [
         "CD:160597",
         "ROMARIO DE SOUZA FARIA",
         "PSB/RJ",
         "Deputado",
         "author",
         "0.3991228070175439",
         "57"
        ],
        [
         "CD:204354",
         "FLÁVIA CAROLINA PÉRES",
         "PR/DF",
         "Deputado",
         "author",
         "0.3942307692307692",
         "26"
        ]
       ],
       "shape": {
        "columns": 6,
        "rows": 916
       }
      },
      "text/html": [
       "<div>\n",
       "<style scoped>\n",
       "    .dataframe tbody tr th:only-of-type {\n",
       "        vertical-align: middle;\n",
       "    }\n",
       "\n",
       "    .dataframe tbody tr th {\n",
       "        vertical-align: top;\n",
       "    }\n",
       "\n",
       "    .dataframe thead th {\n",
       "        text-align: right;\n",
       "    }\n",
       "</style>\n",
       "<table border=\"1\" class=\"dataframe\">\n",
       "  <thead>\n",
       "    <tr style=\"text-align: right;\">\n",
       "      <th></th>\n",
       "      <th>label</th>\n",
       "      <th>partido</th>\n",
       "      <th>type</th>\n",
       "      <th>bigtype</th>\n",
       "      <th>mean_score</th>\n",
       "      <th>from_count</th>\n",
       "    </tr>\n",
       "    <tr>\n",
       "      <th>name</th>\n",
       "      <th></th>\n",
       "      <th></th>\n",
       "      <th></th>\n",
       "      <th></th>\n",
       "      <th></th>\n",
       "      <th></th>\n",
       "    </tr>\n",
       "  </thead>\n",
       "  <tbody>\n",
       "    <tr>\n",
       "      <th>CD:131085</th>\n",
       "      <td>OLAVO BILAC PEREIRA PINTO</td>\n",
       "      <td>UDN/MG</td>\n",
       "      <td>Deputado</td>\n",
       "      <td>author</td>\n",
       "      <td>1.000000</td>\n",
       "      <td>1</td>\n",
       "    </tr>\n",
       "    <tr>\n",
       "      <th>CD:73454</th>\n",
       "      <td>JOÃO BATISTA DOS SANTOS</td>\n",
       "      <td>PT/MS</td>\n",
       "      <td>Deputado</td>\n",
       "      <td>author</td>\n",
       "      <td>1.000000</td>\n",
       "      <td>1</td>\n",
       "    </tr>\n",
       "    <tr>\n",
       "      <th>CD:74145</th>\n",
       "      <td>JOSÉ EDUARDO VIEIRA RIBEIRO</td>\n",
       "      <td>PT/BA</td>\n",
       "      <td>Deputado</td>\n",
       "      <td>author</td>\n",
       "      <td>1.000000</td>\n",
       "      <td>1</td>\n",
       "    </tr>\n",
       "    <tr>\n",
       "      <th>CD:74780</th>\n",
       "      <td>IARA BERNARDI</td>\n",
       "      <td>PT/SP</td>\n",
       "      <td>Deputado</td>\n",
       "      <td>author</td>\n",
       "      <td>1.000000</td>\n",
       "      <td>1</td>\n",
       "    </tr>\n",
       "    <tr>\n",
       "      <th>CD:160644</th>\n",
       "      <td>ESMERINO NERI BATISTA FILHO</td>\n",
       "      <td>PT/PA</td>\n",
       "      <td>Deputado</td>\n",
       "      <td>author</td>\n",
       "      <td>1.000000</td>\n",
       "      <td>1</td>\n",
       "    </tr>\n",
       "    <tr>\n",
       "      <th>...</th>\n",
       "      <td>...</td>\n",
       "      <td>...</td>\n",
       "      <td>...</td>\n",
       "      <td>...</td>\n",
       "      <td>...</td>\n",
       "      <td>...</td>\n",
       "    </tr>\n",
       "    <tr>\n",
       "      <th>CD:222429</th>\n",
       "      <td>LUIS CARLOS GOMES DA SILVA</td>\n",
       "      <td>REPUBLICANOS/RJ</td>\n",
       "      <td>Deputado</td>\n",
       "      <td>author</td>\n",
       "      <td>0.083333</td>\n",
       "      <td>3</td>\n",
       "    </tr>\n",
       "    <tr>\n",
       "      <th>CD:141518</th>\n",
       "      <td>PAULO PEREIRA DA SILVA</td>\n",
       "      <td>SOLIDARIEDADE/SP</td>\n",
       "      <td>Deputado</td>\n",
       "      <td>author</td>\n",
       "      <td>0.083333</td>\n",
       "      <td>3</td>\n",
       "    </tr>\n",
       "    <tr>\n",
       "      <th>CD:220661</th>\n",
       "      <td>MATHEUS SOARES NORONHA</td>\n",
       "      <td>PL/CE</td>\n",
       "      <td>Deputado</td>\n",
       "      <td>author</td>\n",
       "      <td>0.000000</td>\n",
       "      <td>1</td>\n",
       "    </tr>\n",
       "    <tr>\n",
       "      <th>CD:74212</th>\n",
       "      <td>ANÍBAL FERREIRA GOMES</td>\n",
       "      <td>DEM/CE</td>\n",
       "      <td>Deputado</td>\n",
       "      <td>author</td>\n",
       "      <td>0.000000</td>\n",
       "      <td>1</td>\n",
       "    </tr>\n",
       "    <tr>\n",
       "      <th>CD:141870</th>\n",
       "      <td>VILSON LUIZ COVATTI</td>\n",
       "      <td>PP**/RS</td>\n",
       "      <td>Deputado</td>\n",
       "      <td>author</td>\n",
       "      <td>0.000000</td>\n",
       "      <td>1</td>\n",
       "    </tr>\n",
       "  </tbody>\n",
       "</table>\n",
       "<p>916 rows × 6 columns</p>\n",
       "</div>"
      ],
      "text/plain": [
       "                                 label           partido      type bigtype  \\\n",
       "name                                                                         \n",
       "CD:131085    OLAVO BILAC PEREIRA PINTO            UDN/MG  Deputado  author   \n",
       "CD:73454       JOÃO BATISTA DOS SANTOS             PT/MS  Deputado  author   \n",
       "CD:74145   JOSÉ EDUARDO VIEIRA RIBEIRO             PT/BA  Deputado  author   \n",
       "CD:74780                 IARA BERNARDI             PT/SP  Deputado  author   \n",
       "CD:160644  ESMERINO NERI BATISTA FILHO             PT/PA  Deputado  author   \n",
       "...                                ...               ...       ...     ...   \n",
       "CD:222429   LUIS CARLOS GOMES DA SILVA   REPUBLICANOS/RJ  Deputado  author   \n",
       "CD:141518       PAULO PEREIRA DA SILVA  SOLIDARIEDADE/SP  Deputado  author   \n",
       "CD:220661       MATHEUS SOARES NORONHA             PL/CE  Deputado  author   \n",
       "CD:74212         ANÍBAL FERREIRA GOMES            DEM/CE  Deputado  author   \n",
       "CD:141870          VILSON LUIZ COVATTI           PP**/RS  Deputado  author   \n",
       "\n",
       "           mean_score  from_count  \n",
       "name                               \n",
       "CD:131085    1.000000           1  \n",
       "CD:73454     1.000000           1  \n",
       "CD:74145     1.000000           1  \n",
       "CD:74780     1.000000           1  \n",
       "CD:160644    1.000000           1  \n",
       "...               ...         ...  \n",
       "CD:222429    0.083333           3  \n",
       "CD:141518    0.083333           3  \n",
       "CD:220661    0.000000           1  \n",
       "CD:74212     0.000000           1  \n",
       "CD:141870    0.000000           1  \n",
       "\n",
       "[916 rows x 6 columns]"
      ]
     },
     "execution_count": 39,
     "metadata": {},
     "output_type": "execute_result"
    }
   ],
   "source": [
    "# \"Melhores\" deputados\n",
    "author_performance_df[author_performance_df['type'].eq(\"Deputado\")].sort_values(\"mean_score\", ascending=False)"
   ]
  },
  {
   "cell_type": "code",
   "execution_count": 40,
   "id": "6b4dcb5c",
   "metadata": {},
   "outputs": [
    {
     "data": {
      "application/vnd.microsoft.datawrangler.viewer.v0+json": {
       "columns": [
        {
         "name": "name",
         "rawType": "object",
         "type": "string"
        },
        {
         "name": "label",
         "rawType": "object",
         "type": "string"
        },
        {
         "name": "partido",
         "rawType": "object",
         "type": "string"
        },
        {
         "name": "type",
         "rawType": "object",
         "type": "string"
        },
        {
         "name": "bigtype",
         "rawType": "object",
         "type": "string"
        },
        {
         "name": "mean_score",
         "rawType": "float64",
         "type": "float"
        },
        {
         "name": "from_count",
         "rawType": "int64",
         "type": "integer"
        }
       ],
       "ref": "2b750f5d-6c0f-46cc-ae73-0245d18dd1aa",
       "rows": [
        [
         "SS:5996",
         "MARCIO DIEGO FERNANDES TAVARES DE ALBUQUERQUE",
         "PP/PB",
         "Senador",
         "author",
         "0.75",
         "1"
        ],
        [
         "SS:6351",
         "JANAINA CARLA FARIAS",
         "PT/CE",
         "Senador",
         "author",
         "0.75",
         "5"
        ],
        [
         "SS:611",
         "FRANCISCO FEITOSA DE ALBUQUERQUE LIMA",
         "DEM/CE",
         "Senador",
         "author",
         "0.75",
         "1"
        ],
        [
         "SS:5906",
         "EUDOCIA MARIA HOLANDA DE ARAUJO CALDAS",
         "PL/AL",
         "Senador",
         "author",
         "0.75",
         "1"
        ],
        [
         "SS:5917",
         "FERNANDO ANTONIO CAMINHA DUEIRE",
         "MDB/PE",
         "Senador",
         "author",
         "0.75",
         "4"
        ],
        [
         "SS:5913",
         "CICERO RAFAEL TENORIO DA SILVA",
         "MDB/AL",
         "Senador",
         "author",
         "0.75",
         "1"
        ],
        [
         "SS:6338",
         "MARIA TERESA LEITÃO DE MELO",
         "PT/PE",
         "Senador",
         "author",
         "0.75",
         "5"
        ],
        [
         "SS:6362",
         "MAURO CARVALHO JUNIOR",
         "UNIÃO/MT",
         "Senador",
         "author",
         "0.75",
         "2"
        ],
        [
         "SS:6350",
         "AUGUSTA BRITO DE PAULA",
         "PT/CE",
         "Senador",
         "author",
         "0.75",
         "3"
        ],
        [
         "SS:6345",
         "FERNANDO LOPES DE FARIAS",
         "MDB/AL",
         "Senador",
         "author",
         "0.75",
         "1"
        ],
        [
         "SS:4605",
         "FLÁVIO DINO DE CASTRO E COSTA",
         "PSB/MA",
         "Senador",
         "author",
         "0.75",
         "2"
        ],
        [
         "SS:6335",
         "DAMARES REGINA ALVES",
         "REPUBLICANOS/DF",
         "Senador",
         "author",
         "0.6875",
         "8"
        ],
        [
         "SS:6304",
         "MARGARETH GETTERT BUSETTI",
         "PP/MT",
         "Senador",
         "author",
         "0.6730769230769231",
         "13"
        ],
        [
         "SS:6331",
         "SERGIO FERNANDO MORO",
         "UNIÃO/PR",
         "Senador",
         "author",
         "0.6666666666666666",
         "6"
        ],
        [
         "SS:6010",
         "IVETE MARLI APPEL DA SILVEIRA",
         "MDB/SC",
         "Senador",
         "author",
         "0.6428571428571429",
         "7"
        ],
        [
         "SS:6009",
         "MARCOS CESAR PONTES",
         "PL/SP",
         "Senador",
         "author",
         "0.6375",
         "20"
        ],
        [
         "SS:5936",
         "CARLOS FRANCISCO PORTINHO",
         "PL/RJ",
         "Senador",
         "author",
         "0.6309523809523809",
         "21"
        ],
        [
         "SS:4694",
         "ROGÉRIO SIMONETTI MARINHO",
         "PL/RN",
         "Senador",
         "author",
         "0.625",
         "2"
        ],
        [
         "SS:3830",
         "DAVID SAMUEL ALCOLUMBRE TOBELEM",
         "UNIÃO/AP",
         "Senador",
         "author",
         "0.5681818181818182",
         "11"
        ],
        [
         "SS:6341",
         "ANTONIO HAMILTON MARTINS MOURÃO",
         "REPUBLICANOS/RS",
         "Senador",
         "author",
         "0.5625",
         "8"
        ],
        [
         "SS:6008",
         "ALEXANDRE LUIZ GIORDANO",
         "MDB/SP",
         "Senador",
         "author",
         "0.5555555555555556",
         "9"
        ],
        [
         "SS:5998",
         "DANIELLA VELLOSO BORGES RIBEIRO",
         "PP/PB",
         "Senador",
         "author",
         "0.5384615384615384",
         "26"
        ],
        [
         "SS:5732",
         "RODRIGO OTAVIO SOARES PACHECO",
         "PSD/MG",
         "Senador",
         "author",
         "0.5135135135135135",
         "37"
        ],
        [
         "SS:6340",
         "JAIME MAXIMINO BAGATTOLI",
         "PL/RO",
         "Senador",
         "author",
         "0.5",
         "7"
        ],
        [
         "SS:6342",
         "JORGE SEIF JÚNIOR",
         "PL/SC",
         "Senador",
         "author",
         "0.5",
         "8"
        ],
        [
         "SS:5898",
         "ELIANE E SILVA NOGUEIRA LIMA",
         "PP/PI",
         "Senador",
         "author",
         "0.5",
         "5"
        ],
        [
         "SS:6369",
         "ANTÔNIA JUSSARA GOMES ALVES SOUSA LIMA",
         "PSD/PI",
         "Senador",
         "author",
         "0.5",
         "3"
        ],
        [
         "SS:345",
         "FLÁVIO JOSÉ ARNS",
         "PSB/PR",
         "Senador",
         "author",
         "0.4935064935064935",
         "77"
        ],
        [
         "SS:5985",
         "NELSON TRAD FILHO",
         "PSD/MS",
         "Senador",
         "author",
         "0.4692982456140351",
         "57"
        ],
        [
         "SS:5523",
         "OTTO ROBERTO MENDONÇA DE ALENCAR",
         "PSD/BA",
         "Senador",
         "author",
         "0.46875",
         "32"
        ],
        [
         "SS:5385",
         "IRAJÁ SILVESTRE FILHO",
         "PSD/TO",
         "Senador",
         "author",
         "0.4673913043478261",
         "23"
        ],
        [
         "SS:5967",
         "ANGELO MARIO CORONEL DE AZEVEDO MARTINS",
         "PSD/BA",
         "Senador",
         "author",
         "0.4625",
         "40"
        ],
        [
         "SS:470",
         "FRANCISCO DE ASSIS RODRIGUES",
         "PSB/RR",
         "Senador",
         "author",
         "0.45930232558139533",
         "43"
        ],
        [
         "SS:5748",
         "VENEZIANO VITAL DO RÊGO SEGUNDO NETO",
         "MDB/PB",
         "Senador",
         "author",
         "0.45625",
         "80"
        ],
        [
         "SS:5894",
         "FLÁVIO NANTES BOLSONARO",
         "PL/RJ",
         "Senador",
         "author",
         "0.45588235294117646",
         "17"
        ],
        [
         "SS:5926",
         "LUIZ CANTUÁRIA BARRETO",
         "PSD/AP",
         "Senador",
         "author",
         "0.4527027027027027",
         "37"
        ],
        [
         "SS:6005",
         "JOSE WILSON SIQUEIRA CAMPOS",
         "DEM/TO",
         "Senador",
         "author",
         "0.45",
         "5"
        ],
        [
         "SS:4994",
         "CARLOS EDUARDO DE SOUZA BRAGA",
         "MDB/AM",
         "Senador",
         "author",
         "0.44285714285714284",
         "35"
        ],
        [
         "SS:6027",
         "ANTÔNIO MECIAS PEREIRA DE JESUS",
         "REPUBLICANOS/RR",
         "Senador",
         "author",
         "0.44",
         "50"
        ],
        [
         "SS:5070",
         "WILDER PEDRO DE MORAIS",
         "PL/GO",
         "Senador",
         "author",
         "0.4375",
         "4"
        ],
        [
         "SS:151",
         "LUIZ OSVALDO PASTORE",
         "MDB/ES",
         "Senador",
         "author",
         "0.4375",
         "4"
        ],
        [
         "SS:4531",
         "JAYME VERÍSSIMO DE CAMPOS",
         "UNIÃO/MT",
         "Senador",
         "author",
         "0.43478260869565216",
         "46"
        ],
        [
         "SS:3777",
         "CARLOS EDUARDO TORRES GOMES",
         "PL/TO",
         "Senador",
         "author",
         "0.4305555555555556",
         "36"
        ],
        [
         "SS:5899",
         "VANDERLAN VIEIRA CARDOSO",
         "PSD/GO",
         "Senador",
         "author",
         "0.4230769230769231",
         "26"
        ],
        [
         "SS:6295",
         "CARLOS HENRIQUE BAQUETA FÁVARO",
         "PSD/MT",
         "Senador",
         "author",
         "0.4230769230769231",
         "13"
        ],
        [
         "SS:4610",
         "ALEXANDRE SILVEIRA DE OLIVEIRA",
         "PSD/MG",
         "Senador",
         "author",
         "0.4166666666666667",
         "6"
        ],
        [
         "SS:5281",
         "OZANILDA GONDIM VITAL DO REGO",
         "MDB/PB",
         "Senador",
         "author",
         "0.4166666666666667",
         "21"
        ],
        [
         "SS:1186",
         "LUIS CARLOS HEINZE",
         "PP/RS",
         "Senador",
         "author",
         "0.4166666666666667",
         "39"
        ],
        [
         "SS:5953",
         "FABIANO CONTARATO",
         "PT/ES",
         "Senador",
         "author",
         "0.4166666666666667",
         "63"
        ],
        [
         "SS:5942",
         "MARCOS RIBEIRO DO VAL",
         "PODEMOS/ES",
         "Senador",
         "author",
         "0.4069767441860465",
         "43"
        ]
       ],
       "shape": {
        "columns": 6,
        "rows": 114
       }
      },
      "text/html": [
       "<div>\n",
       "<style scoped>\n",
       "    .dataframe tbody tr th:only-of-type {\n",
       "        vertical-align: middle;\n",
       "    }\n",
       "\n",
       "    .dataframe tbody tr th {\n",
       "        vertical-align: top;\n",
       "    }\n",
       "\n",
       "    .dataframe thead th {\n",
       "        text-align: right;\n",
       "    }\n",
       "</style>\n",
       "<table border=\"1\" class=\"dataframe\">\n",
       "  <thead>\n",
       "    <tr style=\"text-align: right;\">\n",
       "      <th></th>\n",
       "      <th>label</th>\n",
       "      <th>partido</th>\n",
       "      <th>type</th>\n",
       "      <th>bigtype</th>\n",
       "      <th>mean_score</th>\n",
       "      <th>from_count</th>\n",
       "    </tr>\n",
       "    <tr>\n",
       "      <th>name</th>\n",
       "      <th></th>\n",
       "      <th></th>\n",
       "      <th></th>\n",
       "      <th></th>\n",
       "      <th></th>\n",
       "      <th></th>\n",
       "    </tr>\n",
       "  </thead>\n",
       "  <tbody>\n",
       "    <tr>\n",
       "      <th>SS:5996</th>\n",
       "      <td>MARCIO DIEGO FERNANDES TAVARES DE ALBUQUERQUE</td>\n",
       "      <td>PP/PB</td>\n",
       "      <td>Senador</td>\n",
       "      <td>author</td>\n",
       "      <td>0.750000</td>\n",
       "      <td>1</td>\n",
       "    </tr>\n",
       "    <tr>\n",
       "      <th>SS:6351</th>\n",
       "      <td>JANAINA CARLA FARIAS</td>\n",
       "      <td>PT/CE</td>\n",
       "      <td>Senador</td>\n",
       "      <td>author</td>\n",
       "      <td>0.750000</td>\n",
       "      <td>5</td>\n",
       "    </tr>\n",
       "    <tr>\n",
       "      <th>SS:611</th>\n",
       "      <td>FRANCISCO FEITOSA DE ALBUQUERQUE LIMA</td>\n",
       "      <td>DEM/CE</td>\n",
       "      <td>Senador</td>\n",
       "      <td>author</td>\n",
       "      <td>0.750000</td>\n",
       "      <td>1</td>\n",
       "    </tr>\n",
       "    <tr>\n",
       "      <th>SS:5906</th>\n",
       "      <td>EUDOCIA MARIA HOLANDA DE ARAUJO CALDAS</td>\n",
       "      <td>PL/AL</td>\n",
       "      <td>Senador</td>\n",
       "      <td>author</td>\n",
       "      <td>0.750000</td>\n",
       "      <td>1</td>\n",
       "    </tr>\n",
       "    <tr>\n",
       "      <th>SS:5917</th>\n",
       "      <td>FERNANDO ANTONIO CAMINHA DUEIRE</td>\n",
       "      <td>MDB/PE</td>\n",
       "      <td>Senador</td>\n",
       "      <td>author</td>\n",
       "      <td>0.750000</td>\n",
       "      <td>4</td>\n",
       "    </tr>\n",
       "    <tr>\n",
       "      <th>...</th>\n",
       "      <td>...</td>\n",
       "      <td>...</td>\n",
       "      <td>...</td>\n",
       "      <td>...</td>\n",
       "      <td>...</td>\n",
       "      <td>...</td>\n",
       "    </tr>\n",
       "    <tr>\n",
       "      <th>SS:6337</th>\n",
       "      <td>CLEITON GONTIJO DE AZEVEDO</td>\n",
       "      <td>REPUBLICANOS/MG</td>\n",
       "      <td>Senador</td>\n",
       "      <td>author</td>\n",
       "      <td>0.250000</td>\n",
       "      <td>11</td>\n",
       "    </tr>\n",
       "    <tr>\n",
       "      <th>SS:374</th>\n",
       "      <td>PAULO ROBERTO GALVÃO DA ROCHA</td>\n",
       "      <td>PT/PA</td>\n",
       "      <td>Senador</td>\n",
       "      <td>author</td>\n",
       "      <td>0.241935</td>\n",
       "      <td>62</td>\n",
       "    </tr>\n",
       "    <tr>\n",
       "      <th>SS:677</th>\n",
       "      <td>ROBERTO COELHO ROCHA</td>\n",
       "      <td>PTB/MA</td>\n",
       "      <td>Senador</td>\n",
       "      <td>author</td>\n",
       "      <td>0.238889</td>\n",
       "      <td>45</td>\n",
       "    </tr>\n",
       "    <tr>\n",
       "      <th>SS:5008</th>\n",
       "      <td>HUMBERTO SÉRGIO COSTA LIMA</td>\n",
       "      <td>PT/PE</td>\n",
       "      <td>Senador</td>\n",
       "      <td>author</td>\n",
       "      <td>0.222727</td>\n",
       "      <td>55</td>\n",
       "    </tr>\n",
       "    <tr>\n",
       "      <th>SS:2331</th>\n",
       "      <td>ROSILDA DE FREITAS</td>\n",
       "      <td>MDB/ES</td>\n",
       "      <td>Senador</td>\n",
       "      <td>author</td>\n",
       "      <td>0.185279</td>\n",
       "      <td>197</td>\n",
       "    </tr>\n",
       "  </tbody>\n",
       "</table>\n",
       "<p>114 rows × 6 columns</p>\n",
       "</div>"
      ],
      "text/plain": [
       "                                                 label          partido  \\\n",
       "name                                                                      \n",
       "SS:5996  MARCIO DIEGO FERNANDES TAVARES DE ALBUQUERQUE            PP/PB   \n",
       "SS:6351                           JANAINA CARLA FARIAS            PT/CE   \n",
       "SS:611           FRANCISCO FEITOSA DE ALBUQUERQUE LIMA           DEM/CE   \n",
       "SS:5906         EUDOCIA MARIA HOLANDA DE ARAUJO CALDAS            PL/AL   \n",
       "SS:5917                FERNANDO ANTONIO CAMINHA DUEIRE           MDB/PE   \n",
       "...                                                ...              ...   \n",
       "SS:6337                     CLEITON GONTIJO DE AZEVEDO  REPUBLICANOS/MG   \n",
       "SS:374                   PAULO ROBERTO GALVÃO DA ROCHA            PT/PA   \n",
       "SS:677                            ROBERTO COELHO ROCHA           PTB/MA   \n",
       "SS:5008                     HUMBERTO SÉRGIO COSTA LIMA            PT/PE   \n",
       "SS:2331                             ROSILDA DE FREITAS           MDB/ES   \n",
       "\n",
       "            type bigtype  mean_score  from_count  \n",
       "name                                              \n",
       "SS:5996  Senador  author    0.750000           1  \n",
       "SS:6351  Senador  author    0.750000           5  \n",
       "SS:611   Senador  author    0.750000           1  \n",
       "SS:5906  Senador  author    0.750000           1  \n",
       "SS:5917  Senador  author    0.750000           4  \n",
       "...          ...     ...         ...         ...  \n",
       "SS:6337  Senador  author    0.250000          11  \n",
       "SS:374   Senador  author    0.241935          62  \n",
       "SS:677   Senador  author    0.238889          45  \n",
       "SS:5008  Senador  author    0.222727          55  \n",
       "SS:2331  Senador  author    0.185279         197  \n",
       "\n",
       "[114 rows x 6 columns]"
      ]
     },
     "execution_count": 40,
     "metadata": {},
     "output_type": "execute_result"
    }
   ],
   "source": [
    "# \"Melhores\" senadores\n",
    "author_performance_df[author_performance_df['type'].eq(\"Senador\")].sort_values(\"mean_score\", ascending=False)"
   ]
  },
  {
   "cell_type": "code",
   "execution_count": 41,
   "id": "5539cc2f",
   "metadata": {},
   "outputs": [
    {
     "data": {
      "application/vnd.microsoft.datawrangler.viewer.v0+json": {
       "columns": [
        {
         "name": "name",
         "rawType": "object",
         "type": "string"
        },
        {
         "name": "label",
         "rawType": "object",
         "type": "string"
        },
        {
         "name": "partido",
         "rawType": "object",
         "type": "unknown"
        },
        {
         "name": "type",
         "rawType": "object",
         "type": "string"
        },
        {
         "name": "bigtype",
         "rawType": "object",
         "type": "string"
        },
        {
         "name": "mean_score",
         "rawType": "float64",
         "type": "float"
        },
        {
         "name": "from_count",
         "rawType": "int64",
         "type": "integer"
        }
       ],
       "ref": "bad778b0-ffe5-4cc3-a7fd-81faa752a9f8",
       "rows": [
        [
         "CO:4",
         "MESA DIRETORA DA CÂMARA DOS DEPUTADOS",
         null,
         "Orgao",
         "author",
         "1.0",
         "2"
        ],
        [
         "CO:6066",
         "COMISSÃO DE TURISMO",
         null,
         "Orgao",
         "author",
         "1.0",
         "1"
        ],
        [
         "CO:538490",
         "COMISSÃO ESPECIAL DESTINADA A ACOMPANHAR AS AÇÕES DE COMBATE AO CÂNCER NO BRASIL",
         null,
         "Orgao",
         "author",
         "1.0",
         "1"
        ],
        [
         "CO:100292",
         "CÂMARA DOS DEPUTADOS",
         null,
         "Orgao",
         "author",
         "0.953551912568306",
         "366"
        ],
        [
         "CO:101347",
         "PROCURADORIA-GERAL DA REPÚBLICA",
         null,
         "Orgao",
         "author",
         "0.95",
         "5"
        ],
        [
         "CO:57",
         "MINISTÉRIO PÚBLICO DA UNIÃO",
         null,
         "Orgao",
         "author",
         "0.9166666666666666",
         "9"
        ],
        [
         "CO:81",
         "SUPERIOR TRIBUNAL DE JUSTIÇA",
         null,
         "Orgao",
         "author",
         "0.9",
         "5"
        ],
        [
         "CO:101131",
         "DEFENSORIA PÚBLICA DA UNIÃO",
         null,
         "Orgao",
         "author",
         "0.85",
         "10"
        ],
        [
         "CO:382",
         "TRIBUNAL DE JUSTIÇA DO DISTRITO FEDERAL E DOS TERRITÓRIOS",
         null,
         "Orgao",
         "author",
         "0.8333333333333334",
         "9"
        ],
        [
         "CO:80",
         "SUPREMO TRIBUNAL FEDERAL",
         null,
         "Orgao",
         "author",
         "0.7777777777777778",
         "9"
        ],
        [
         "CO:78",
         "SENADO FEDERAL",
         null,
         "Orgao",
         "author",
         "0.7513982102908278",
         "894"
        ],
        [
         "CO:101772",
         "MPF - PGR - PROCURADORIA GERAL DA REPÚBLICA",
         null,
         "Orgao",
         "author",
         "0.75",
         "4"
        ],
        [
         "SE:55226",
         "COMISSÃO DIRETORA",
         null,
         "Orgao",
         "author",
         "0.75",
         "2"
        ],
        [
         "SE:3927825",
         "COMISSÃO DE MEIO AMBIENTE",
         null,
         "Orgao",
         "author",
         "0.75",
         "2"
        ],
        [
         "CO:79",
         "SENADO FEDERAL (COMISSÃO MISTA - ART 142 E 143 DO REGIMENTO COMUM)",
         null,
         "Orgao",
         "author",
         "0.75",
         "1"
        ],
        [
         "CO:253",
         "PODER EXECUTIVO",
         null,
         "Orgao",
         "author",
         "0.7286184210526315",
         "1368"
        ],
        [
         "CO:275",
         "TRIBUNAL SUPERIOR DO TRABALHO",
         null,
         "Orgao",
         "author",
         "0.625",
         "2"
        ],
        [
         "CO:277",
         "TRIBUNAL SUPERIOR ELEITORAL",
         null,
         "Orgao",
         "author",
         "0.625",
         "2"
        ],
        [
         "CO:82",
         "TRIBUNAL DE CONTAS DA UNIÃO",
         null,
         "Orgao",
         "author",
         "0.625",
         "4"
        ],
        [
         "SE:7352398",
         "CPI DA PANDEMIA",
         null,
         "Orgao",
         "author",
         "0.55",
         "5"
        ],
        [
         "SE:3947422",
         "COMISSÃO DE DIREITOS HUMANOS E LEGISLAÇÃO PARTICIPATIVA",
         null,
         "Orgao",
         "author",
         "0.375",
         "6"
        ],
        [
         "CO:101582",
         "TRIBUNAL DE CONTAS DA UNIÃO",
         null,
         "Orgao",
         "author",
         "0.375",
         "2"
        ],
        [
         "CO:2014",
         "COMISSÃO DE SAÚDE",
         null,
         "Orgao",
         "author",
         "0.25",
         "8"
        ],
        [
         "CO:102648",
         "COMISSÃO PARLAMENTAR MISTA DE INQUÉRITO DOS ATOS DE 8 DE JANEIRO DE 2023",
         null,
         "Orgao",
         "author",
         "0.25",
         "2"
        ],
        [
         "CO:5503",
         "COMISSÃO DE SEGURANÇA PÚBLICA E COMBATE AO CRIME ORGANIZADO",
         null,
         "Orgao",
         "author",
         "0.25",
         "2"
        ],
        [
         "CO:2016",
         "COMISSÃO DE VIAÇÃO E TRANSPORTES",
         null,
         "Orgao",
         "author",
         "0.25",
         "1"
        ],
        [
         "CO:2001",
         "COMISSÃO DE AGRICULTURA, PECUÁRIA, ABASTECIMENTO E DESENVOLVIMENTO RURAL",
         null,
         "Orgao",
         "author",
         "0.25",
         "1"
        ],
        [
         "CO:539461",
         "COMISSÃO PARLAMENTAR DE INQUÉRITO DESTINADA A INVESTIGAR INDÍCIOS DE OPERAÇÕES FRAUDULENTAS SOFISTICADAS NA GESTÃO DE DIVERSAS EMPRESAS DE SERVIÇOS FINANCEIROS QUE PROMETEM GERAR PATRIMÔNIO POR MEIO DE GESTÃO DE CRIPTOMOEDAS, COM DIVULGAÇÃO DE INFORMAÇÕES FALSAS SOBRE PROJETOS OU SERVIÇOS E PROMESSA DE RENTABILIDADE ANORMALMENTE ALTA OU GARANTIDA E INEXISTÊNCIA DE TAXAS, MAS CONSTITUINDO-SE EM SISTEMA DE REMUNERAÇÃO ALIMENTADO PELA ENTRADA DE NOVOS PARTICIPANTES (O QUE TEM TRAZIDO PREJUÍZOS VULTOSOS AOS INVESTIDORES E A TODA A SOCIEDADE, ENTRE OS ANOS DE 2019 E 2022)",
         null,
         "Orgao",
         "author",
         "0.25",
         "4"
        ],
        [
         "CO:539384",
         "COMISSÃO DA AMAZÔNIA E DOS POVOS ORIGINÁRIOS E TRADICIONAIS",
         null,
         "Orgao",
         "author",
         "0.25",
         "2"
        ],
        [
         "CO:539419",
         "COMISSÃO ESPECIAL PARA ESTUDO, AVALIAÇÃO E ACOMPANHAMENTO DAS INICIATIVAS E MEDIDAS ADOTADAS PARA TRANSIÇÃO ENERGÉTICA - FONTES RENOVÁVEIS E PRODUÇÃO DE HIDROGÊNIO VERDE NO BRASIL",
         null,
         "Orgao",
         "author",
         "0.25",
         "1"
        ],
        [
         "SE:7352682",
         "FORUM NACIONAL DE COMITÊS HIDROGRÁFICAS BRASIL",
         null,
         "Orgao",
         "author",
         "0.25",
         "1"
        ],
        [
         "CO:101798",
         "INICIATIVA POPULAR",
         null,
         "Orgao",
         "author",
         "0.25",
         "1"
        ],
        [
         "CO:539426",
         "COMISSÃO PARLAMENTAR DE INQUÉRITO DESTINADA A INVESTIGAR AS INCONSISTÊNCIAS DA ORDEM DE 20 BILHÕES DE REAIS DETECTADAS EM LANÇAMENTOS CONTÁBEIS DA EMPRESA AMERICANAS S.A. REALIZADOS NO EXERCÍCIO DE 2022 E EM EXERCÍCIOS ANTERIORES",
         null,
         "Orgao",
         "author",
         "0.25",
         "4"
        ],
        [
         "CO:5438",
         "COMISSÃO DE LEGISLAÇÃO PARTICIPATIVA",
         null,
         "Orgao",
         "author",
         "0.22560975609756098",
         "41"
        ],
        [
         "CO:2003",
         "COMISSÃO DE CONSTITUIÇÃO E JUSTIÇA E DE CIDADANIA",
         null,
         "Orgao",
         "author",
         "0.125",
         "6"
        ],
        [
         "CO:102638",
         "COMISSÃO MISTA DA MPV 1172/2023",
         null,
         "Orgao",
         "author",
         "0.0",
         "1"
        ],
        [
         "CO:102594",
         "COMISSÃO MISTA DA MPV 1147/2022",
         null,
         "Orgao",
         "author",
         "0.0",
         "1"
        ],
        [
         "CO:102639",
         "COMISSÃO MISTA DA MPV 1173/2023",
         null,
         "Orgao",
         "author",
         "0.0",
         "1"
        ],
        [
         "CO:102840",
         "COMISSÃO MISTA DA MPV 1202/2023",
         null,
         "Orgao",
         "author",
         "0.0",
         "1"
        ],
        [
         "CO:102642",
         "COMISSÃO MISTA DA MPV 1174/2023",
         null,
         "Orgao",
         "author",
         "0.0",
         "1"
        ],
        [
         "CO:102210",
         "COMISSÃO MISTA DA MPV 898/2019",
         null,
         "Orgao",
         "author",
         "0.0",
         "1"
        ],
        [
         "CO:102211",
         "COMISSÃO MISTA DA MPV 899/2019",
         null,
         "Orgao",
         "author",
         "0.0",
         "1"
        ],
        [
         "CO:102601",
         "COMISSÃO MISTA DA MPV 1154/2023",
         null,
         "Orgao",
         "author",
         "0.0",
         "1"
        ],
        [
         "CO:102636",
         "COMISSÃO MISTA DA MPV 1170/2023",
         null,
         "Orgao",
         "author",
         "0.0",
         "1"
        ],
        [
         "CO:102220",
         "COMISSÃO MISTA DA MPV 905/2019",
         null,
         "Orgao",
         "author",
         "0.0",
         "1"
        ],
        [
         "CO:102212",
         "COMISSÃO MISTA DA MPV 900/2019",
         null,
         "Orgao",
         "author",
         "0.0",
         "1"
        ]
       ],
       "shape": {
        "columns": 6,
        "rows": 46
       }
      },
      "text/html": [
       "<div>\n",
       "<style scoped>\n",
       "    .dataframe tbody tr th:only-of-type {\n",
       "        vertical-align: middle;\n",
       "    }\n",
       "\n",
       "    .dataframe tbody tr th {\n",
       "        vertical-align: top;\n",
       "    }\n",
       "\n",
       "    .dataframe thead th {\n",
       "        text-align: right;\n",
       "    }\n",
       "</style>\n",
       "<table border=\"1\" class=\"dataframe\">\n",
       "  <thead>\n",
       "    <tr style=\"text-align: right;\">\n",
       "      <th></th>\n",
       "      <th>label</th>\n",
       "      <th>partido</th>\n",
       "      <th>type</th>\n",
       "      <th>bigtype</th>\n",
       "      <th>mean_score</th>\n",
       "      <th>from_count</th>\n",
       "    </tr>\n",
       "    <tr>\n",
       "      <th>name</th>\n",
       "      <th></th>\n",
       "      <th></th>\n",
       "      <th></th>\n",
       "      <th></th>\n",
       "      <th></th>\n",
       "      <th></th>\n",
       "    </tr>\n",
       "  </thead>\n",
       "  <tbody>\n",
       "    <tr>\n",
       "      <th>CO:4</th>\n",
       "      <td>MESA DIRETORA DA CÂMARA DOS DEPUTADOS</td>\n",
       "      <td>None</td>\n",
       "      <td>Orgao</td>\n",
       "      <td>author</td>\n",
       "      <td>1.000000</td>\n",
       "      <td>2</td>\n",
       "    </tr>\n",
       "    <tr>\n",
       "      <th>CO:6066</th>\n",
       "      <td>COMISSÃO DE TURISMO</td>\n",
       "      <td>None</td>\n",
       "      <td>Orgao</td>\n",
       "      <td>author</td>\n",
       "      <td>1.000000</td>\n",
       "      <td>1</td>\n",
       "    </tr>\n",
       "    <tr>\n",
       "      <th>CO:538490</th>\n",
       "      <td>COMISSÃO ESPECIAL DESTINADA A ACOMPANHAR AS AÇ...</td>\n",
       "      <td>None</td>\n",
       "      <td>Orgao</td>\n",
       "      <td>author</td>\n",
       "      <td>1.000000</td>\n",
       "      <td>1</td>\n",
       "    </tr>\n",
       "    <tr>\n",
       "      <th>CO:100292</th>\n",
       "      <td>CÂMARA DOS DEPUTADOS</td>\n",
       "      <td>None</td>\n",
       "      <td>Orgao</td>\n",
       "      <td>author</td>\n",
       "      <td>0.953552</td>\n",
       "      <td>366</td>\n",
       "    </tr>\n",
       "    <tr>\n",
       "      <th>CO:101347</th>\n",
       "      <td>PROCURADORIA-GERAL DA REPÚBLICA</td>\n",
       "      <td>None</td>\n",
       "      <td>Orgao</td>\n",
       "      <td>author</td>\n",
       "      <td>0.950000</td>\n",
       "      <td>5</td>\n",
       "    </tr>\n",
       "    <tr>\n",
       "      <th>CO:57</th>\n",
       "      <td>MINISTÉRIO PÚBLICO DA UNIÃO</td>\n",
       "      <td>None</td>\n",
       "      <td>Orgao</td>\n",
       "      <td>author</td>\n",
       "      <td>0.916667</td>\n",
       "      <td>9</td>\n",
       "    </tr>\n",
       "    <tr>\n",
       "      <th>CO:81</th>\n",
       "      <td>SUPERIOR TRIBUNAL DE JUSTIÇA</td>\n",
       "      <td>None</td>\n",
       "      <td>Orgao</td>\n",
       "      <td>author</td>\n",
       "      <td>0.900000</td>\n",
       "      <td>5</td>\n",
       "    </tr>\n",
       "    <tr>\n",
       "      <th>CO:101131</th>\n",
       "      <td>DEFENSORIA PÚBLICA DA UNIÃO</td>\n",
       "      <td>None</td>\n",
       "      <td>Orgao</td>\n",
       "      <td>author</td>\n",
       "      <td>0.850000</td>\n",
       "      <td>10</td>\n",
       "    </tr>\n",
       "    <tr>\n",
       "      <th>CO:382</th>\n",
       "      <td>TRIBUNAL DE JUSTIÇA DO DISTRITO FEDERAL E DOS ...</td>\n",
       "      <td>None</td>\n",
       "      <td>Orgao</td>\n",
       "      <td>author</td>\n",
       "      <td>0.833333</td>\n",
       "      <td>9</td>\n",
       "    </tr>\n",
       "    <tr>\n",
       "      <th>CO:80</th>\n",
       "      <td>SUPREMO TRIBUNAL FEDERAL</td>\n",
       "      <td>None</td>\n",
       "      <td>Orgao</td>\n",
       "      <td>author</td>\n",
       "      <td>0.777778</td>\n",
       "      <td>9</td>\n",
       "    </tr>\n",
       "    <tr>\n",
       "      <th>CO:78</th>\n",
       "      <td>SENADO FEDERAL</td>\n",
       "      <td>None</td>\n",
       "      <td>Orgao</td>\n",
       "      <td>author</td>\n",
       "      <td>0.751398</td>\n",
       "      <td>894</td>\n",
       "    </tr>\n",
       "    <tr>\n",
       "      <th>CO:101772</th>\n",
       "      <td>MPF - PGR - PROCURADORIA GERAL DA REPÚBLICA</td>\n",
       "      <td>None</td>\n",
       "      <td>Orgao</td>\n",
       "      <td>author</td>\n",
       "      <td>0.750000</td>\n",
       "      <td>4</td>\n",
       "    </tr>\n",
       "    <tr>\n",
       "      <th>SE:55226</th>\n",
       "      <td>COMISSÃO DIRETORA</td>\n",
       "      <td>None</td>\n",
       "      <td>Orgao</td>\n",
       "      <td>author</td>\n",
       "      <td>0.750000</td>\n",
       "      <td>2</td>\n",
       "    </tr>\n",
       "    <tr>\n",
       "      <th>SE:3927825</th>\n",
       "      <td>COMISSÃO DE MEIO AMBIENTE</td>\n",
       "      <td>None</td>\n",
       "      <td>Orgao</td>\n",
       "      <td>author</td>\n",
       "      <td>0.750000</td>\n",
       "      <td>2</td>\n",
       "    </tr>\n",
       "    <tr>\n",
       "      <th>CO:79</th>\n",
       "      <td>SENADO FEDERAL (COMISSÃO MISTA - ART 142 E 143...</td>\n",
       "      <td>None</td>\n",
       "      <td>Orgao</td>\n",
       "      <td>author</td>\n",
       "      <td>0.750000</td>\n",
       "      <td>1</td>\n",
       "    </tr>\n",
       "    <tr>\n",
       "      <th>CO:253</th>\n",
       "      <td>PODER EXECUTIVO</td>\n",
       "      <td>None</td>\n",
       "      <td>Orgao</td>\n",
       "      <td>author</td>\n",
       "      <td>0.728618</td>\n",
       "      <td>1368</td>\n",
       "    </tr>\n",
       "    <tr>\n",
       "      <th>CO:275</th>\n",
       "      <td>TRIBUNAL SUPERIOR DO TRABALHO</td>\n",
       "      <td>None</td>\n",
       "      <td>Orgao</td>\n",
       "      <td>author</td>\n",
       "      <td>0.625000</td>\n",
       "      <td>2</td>\n",
       "    </tr>\n",
       "    <tr>\n",
       "      <th>CO:277</th>\n",
       "      <td>TRIBUNAL SUPERIOR ELEITORAL</td>\n",
       "      <td>None</td>\n",
       "      <td>Orgao</td>\n",
       "      <td>author</td>\n",
       "      <td>0.625000</td>\n",
       "      <td>2</td>\n",
       "    </tr>\n",
       "    <tr>\n",
       "      <th>CO:82</th>\n",
       "      <td>TRIBUNAL DE CONTAS DA UNIÃO</td>\n",
       "      <td>None</td>\n",
       "      <td>Orgao</td>\n",
       "      <td>author</td>\n",
       "      <td>0.625000</td>\n",
       "      <td>4</td>\n",
       "    </tr>\n",
       "    <tr>\n",
       "      <th>SE:7352398</th>\n",
       "      <td>CPI DA PANDEMIA</td>\n",
       "      <td>None</td>\n",
       "      <td>Orgao</td>\n",
       "      <td>author</td>\n",
       "      <td>0.550000</td>\n",
       "      <td>5</td>\n",
       "    </tr>\n",
       "    <tr>\n",
       "      <th>SE:3947422</th>\n",
       "      <td>COMISSÃO DE DIREITOS HUMANOS E LEGISLAÇÃO PART...</td>\n",
       "      <td>None</td>\n",
       "      <td>Orgao</td>\n",
       "      <td>author</td>\n",
       "      <td>0.375000</td>\n",
       "      <td>6</td>\n",
       "    </tr>\n",
       "    <tr>\n",
       "      <th>CO:101582</th>\n",
       "      <td>TRIBUNAL DE CONTAS DA UNIÃO</td>\n",
       "      <td>None</td>\n",
       "      <td>Orgao</td>\n",
       "      <td>author</td>\n",
       "      <td>0.375000</td>\n",
       "      <td>2</td>\n",
       "    </tr>\n",
       "    <tr>\n",
       "      <th>CO:2014</th>\n",
       "      <td>COMISSÃO DE SAÚDE</td>\n",
       "      <td>None</td>\n",
       "      <td>Orgao</td>\n",
       "      <td>author</td>\n",
       "      <td>0.250000</td>\n",
       "      <td>8</td>\n",
       "    </tr>\n",
       "    <tr>\n",
       "      <th>CO:102648</th>\n",
       "      <td>COMISSÃO PARLAMENTAR MISTA DE INQUÉRITO DOS AT...</td>\n",
       "      <td>None</td>\n",
       "      <td>Orgao</td>\n",
       "      <td>author</td>\n",
       "      <td>0.250000</td>\n",
       "      <td>2</td>\n",
       "    </tr>\n",
       "    <tr>\n",
       "      <th>CO:5503</th>\n",
       "      <td>COMISSÃO DE SEGURANÇA PÚBLICA E COMBATE AO CRI...</td>\n",
       "      <td>None</td>\n",
       "      <td>Orgao</td>\n",
       "      <td>author</td>\n",
       "      <td>0.250000</td>\n",
       "      <td>2</td>\n",
       "    </tr>\n",
       "    <tr>\n",
       "      <th>CO:2016</th>\n",
       "      <td>COMISSÃO DE VIAÇÃO E TRANSPORTES</td>\n",
       "      <td>None</td>\n",
       "      <td>Orgao</td>\n",
       "      <td>author</td>\n",
       "      <td>0.250000</td>\n",
       "      <td>1</td>\n",
       "    </tr>\n",
       "    <tr>\n",
       "      <th>CO:2001</th>\n",
       "      <td>COMISSÃO DE AGRICULTURA, PECUÁRIA, ABASTECIMEN...</td>\n",
       "      <td>None</td>\n",
       "      <td>Orgao</td>\n",
       "      <td>author</td>\n",
       "      <td>0.250000</td>\n",
       "      <td>1</td>\n",
       "    </tr>\n",
       "    <tr>\n",
       "      <th>CO:539461</th>\n",
       "      <td>COMISSÃO PARLAMENTAR DE INQUÉRITO DESTINADA A ...</td>\n",
       "      <td>None</td>\n",
       "      <td>Orgao</td>\n",
       "      <td>author</td>\n",
       "      <td>0.250000</td>\n",
       "      <td>4</td>\n",
       "    </tr>\n",
       "    <tr>\n",
       "      <th>CO:539384</th>\n",
       "      <td>COMISSÃO DA AMAZÔNIA E DOS POVOS ORIGINÁRIOS E...</td>\n",
       "      <td>None</td>\n",
       "      <td>Orgao</td>\n",
       "      <td>author</td>\n",
       "      <td>0.250000</td>\n",
       "      <td>2</td>\n",
       "    </tr>\n",
       "    <tr>\n",
       "      <th>CO:539419</th>\n",
       "      <td>COMISSÃO ESPECIAL PARA ESTUDO, AVALIAÇÃO E ACO...</td>\n",
       "      <td>None</td>\n",
       "      <td>Orgao</td>\n",
       "      <td>author</td>\n",
       "      <td>0.250000</td>\n",
       "      <td>1</td>\n",
       "    </tr>\n",
       "    <tr>\n",
       "      <th>SE:7352682</th>\n",
       "      <td>FORUM NACIONAL DE COMITÊS HIDROGRÁFICAS BRASIL</td>\n",
       "      <td>None</td>\n",
       "      <td>Orgao</td>\n",
       "      <td>author</td>\n",
       "      <td>0.250000</td>\n",
       "      <td>1</td>\n",
       "    </tr>\n",
       "    <tr>\n",
       "      <th>CO:101798</th>\n",
       "      <td>INICIATIVA POPULAR</td>\n",
       "      <td>None</td>\n",
       "      <td>Orgao</td>\n",
       "      <td>author</td>\n",
       "      <td>0.250000</td>\n",
       "      <td>1</td>\n",
       "    </tr>\n",
       "    <tr>\n",
       "      <th>CO:539426</th>\n",
       "      <td>COMISSÃO PARLAMENTAR DE INQUÉRITO DESTINADA A ...</td>\n",
       "      <td>None</td>\n",
       "      <td>Orgao</td>\n",
       "      <td>author</td>\n",
       "      <td>0.250000</td>\n",
       "      <td>4</td>\n",
       "    </tr>\n",
       "    <tr>\n",
       "      <th>CO:5438</th>\n",
       "      <td>COMISSÃO DE LEGISLAÇÃO PARTICIPATIVA</td>\n",
       "      <td>None</td>\n",
       "      <td>Orgao</td>\n",
       "      <td>author</td>\n",
       "      <td>0.225610</td>\n",
       "      <td>41</td>\n",
       "    </tr>\n",
       "    <tr>\n",
       "      <th>CO:2003</th>\n",
       "      <td>COMISSÃO DE CONSTITUIÇÃO E JUSTIÇA E DE CIDADANIA</td>\n",
       "      <td>None</td>\n",
       "      <td>Orgao</td>\n",
       "      <td>author</td>\n",
       "      <td>0.125000</td>\n",
       "      <td>6</td>\n",
       "    </tr>\n",
       "    <tr>\n",
       "      <th>CO:102638</th>\n",
       "      <td>COMISSÃO MISTA DA MPV 1172/2023</td>\n",
       "      <td>None</td>\n",
       "      <td>Orgao</td>\n",
       "      <td>author</td>\n",
       "      <td>0.000000</td>\n",
       "      <td>1</td>\n",
       "    </tr>\n",
       "    <tr>\n",
       "      <th>CO:102594</th>\n",
       "      <td>COMISSÃO MISTA DA MPV 1147/2022</td>\n",
       "      <td>None</td>\n",
       "      <td>Orgao</td>\n",
       "      <td>author</td>\n",
       "      <td>0.000000</td>\n",
       "      <td>1</td>\n",
       "    </tr>\n",
       "    <tr>\n",
       "      <th>CO:102639</th>\n",
       "      <td>COMISSÃO MISTA DA MPV 1173/2023</td>\n",
       "      <td>None</td>\n",
       "      <td>Orgao</td>\n",
       "      <td>author</td>\n",
       "      <td>0.000000</td>\n",
       "      <td>1</td>\n",
       "    </tr>\n",
       "    <tr>\n",
       "      <th>CO:102840</th>\n",
       "      <td>COMISSÃO MISTA DA MPV 1202/2023</td>\n",
       "      <td>None</td>\n",
       "      <td>Orgao</td>\n",
       "      <td>author</td>\n",
       "      <td>0.000000</td>\n",
       "      <td>1</td>\n",
       "    </tr>\n",
       "    <tr>\n",
       "      <th>CO:102642</th>\n",
       "      <td>COMISSÃO MISTA DA MPV 1174/2023</td>\n",
       "      <td>None</td>\n",
       "      <td>Orgao</td>\n",
       "      <td>author</td>\n",
       "      <td>0.000000</td>\n",
       "      <td>1</td>\n",
       "    </tr>\n",
       "    <tr>\n",
       "      <th>CO:102210</th>\n",
       "      <td>COMISSÃO MISTA DA MPV 898/2019</td>\n",
       "      <td>None</td>\n",
       "      <td>Orgao</td>\n",
       "      <td>author</td>\n",
       "      <td>0.000000</td>\n",
       "      <td>1</td>\n",
       "    </tr>\n",
       "    <tr>\n",
       "      <th>CO:102211</th>\n",
       "      <td>COMISSÃO MISTA DA MPV 899/2019</td>\n",
       "      <td>None</td>\n",
       "      <td>Orgao</td>\n",
       "      <td>author</td>\n",
       "      <td>0.000000</td>\n",
       "      <td>1</td>\n",
       "    </tr>\n",
       "    <tr>\n",
       "      <th>CO:102601</th>\n",
       "      <td>COMISSÃO MISTA DA MPV 1154/2023</td>\n",
       "      <td>None</td>\n",
       "      <td>Orgao</td>\n",
       "      <td>author</td>\n",
       "      <td>0.000000</td>\n",
       "      <td>1</td>\n",
       "    </tr>\n",
       "    <tr>\n",
       "      <th>CO:102636</th>\n",
       "      <td>COMISSÃO MISTA DA MPV 1170/2023</td>\n",
       "      <td>None</td>\n",
       "      <td>Orgao</td>\n",
       "      <td>author</td>\n",
       "      <td>0.000000</td>\n",
       "      <td>1</td>\n",
       "    </tr>\n",
       "    <tr>\n",
       "      <th>CO:102220</th>\n",
       "      <td>COMISSÃO MISTA DA MPV 905/2019</td>\n",
       "      <td>None</td>\n",
       "      <td>Orgao</td>\n",
       "      <td>author</td>\n",
       "      <td>0.000000</td>\n",
       "      <td>1</td>\n",
       "    </tr>\n",
       "    <tr>\n",
       "      <th>CO:102212</th>\n",
       "      <td>COMISSÃO MISTA DA MPV 900/2019</td>\n",
       "      <td>None</td>\n",
       "      <td>Orgao</td>\n",
       "      <td>author</td>\n",
       "      <td>0.000000</td>\n",
       "      <td>1</td>\n",
       "    </tr>\n",
       "  </tbody>\n",
       "</table>\n",
       "</div>"
      ],
      "text/plain": [
       "                                                        label partido   type  \\\n",
       "name                                                                           \n",
       "CO:4                    MESA DIRETORA DA CÂMARA DOS DEPUTADOS    None  Orgao   \n",
       "CO:6066                                   COMISSÃO DE TURISMO    None  Orgao   \n",
       "CO:538490   COMISSÃO ESPECIAL DESTINADA A ACOMPANHAR AS AÇ...    None  Orgao   \n",
       "CO:100292                                CÂMARA DOS DEPUTADOS    None  Orgao   \n",
       "CO:101347                     PROCURADORIA-GERAL DA REPÚBLICA    None  Orgao   \n",
       "CO:57                             MINISTÉRIO PÚBLICO DA UNIÃO    None  Orgao   \n",
       "CO:81                            SUPERIOR TRIBUNAL DE JUSTIÇA    None  Orgao   \n",
       "CO:101131                         DEFENSORIA PÚBLICA DA UNIÃO    None  Orgao   \n",
       "CO:382      TRIBUNAL DE JUSTIÇA DO DISTRITO FEDERAL E DOS ...    None  Orgao   \n",
       "CO:80                                SUPREMO TRIBUNAL FEDERAL    None  Orgao   \n",
       "CO:78                                          SENADO FEDERAL    None  Orgao   \n",
       "CO:101772         MPF - PGR - PROCURADORIA GERAL DA REPÚBLICA    None  Orgao   \n",
       "SE:55226                                    COMISSÃO DIRETORA    None  Orgao   \n",
       "SE:3927825                          COMISSÃO DE MEIO AMBIENTE    None  Orgao   \n",
       "CO:79       SENADO FEDERAL (COMISSÃO MISTA - ART 142 E 143...    None  Orgao   \n",
       "CO:253                                        PODER EXECUTIVO    None  Orgao   \n",
       "CO:275                          TRIBUNAL SUPERIOR DO TRABALHO    None  Orgao   \n",
       "CO:277                            TRIBUNAL SUPERIOR ELEITORAL    None  Orgao   \n",
       "CO:82                             TRIBUNAL DE CONTAS DA UNIÃO    None  Orgao   \n",
       "SE:7352398                                    CPI DA PANDEMIA    None  Orgao   \n",
       "SE:3947422  COMISSÃO DE DIREITOS HUMANOS E LEGISLAÇÃO PART...    None  Orgao   \n",
       "CO:101582                         TRIBUNAL DE CONTAS DA UNIÃO    None  Orgao   \n",
       "CO:2014                                     COMISSÃO DE SAÚDE    None  Orgao   \n",
       "CO:102648   COMISSÃO PARLAMENTAR MISTA DE INQUÉRITO DOS AT...    None  Orgao   \n",
       "CO:5503     COMISSÃO DE SEGURANÇA PÚBLICA E COMBATE AO CRI...    None  Orgao   \n",
       "CO:2016                      COMISSÃO DE VIAÇÃO E TRANSPORTES    None  Orgao   \n",
       "CO:2001     COMISSÃO DE AGRICULTURA, PECUÁRIA, ABASTECIMEN...    None  Orgao   \n",
       "CO:539461   COMISSÃO PARLAMENTAR DE INQUÉRITO DESTINADA A ...    None  Orgao   \n",
       "CO:539384   COMISSÃO DA AMAZÔNIA E DOS POVOS ORIGINÁRIOS E...    None  Orgao   \n",
       "CO:539419   COMISSÃO ESPECIAL PARA ESTUDO, AVALIAÇÃO E ACO...    None  Orgao   \n",
       "SE:7352682     FORUM NACIONAL DE COMITÊS HIDROGRÁFICAS BRASIL    None  Orgao   \n",
       "CO:101798                                  INICIATIVA POPULAR    None  Orgao   \n",
       "CO:539426   COMISSÃO PARLAMENTAR DE INQUÉRITO DESTINADA A ...    None  Orgao   \n",
       "CO:5438                  COMISSÃO DE LEGISLAÇÃO PARTICIPATIVA    None  Orgao   \n",
       "CO:2003     COMISSÃO DE CONSTITUIÇÃO E JUSTIÇA E DE CIDADANIA    None  Orgao   \n",
       "CO:102638                     COMISSÃO MISTA DA MPV 1172/2023    None  Orgao   \n",
       "CO:102594                     COMISSÃO MISTA DA MPV 1147/2022    None  Orgao   \n",
       "CO:102639                     COMISSÃO MISTA DA MPV 1173/2023    None  Orgao   \n",
       "CO:102840                     COMISSÃO MISTA DA MPV 1202/2023    None  Orgao   \n",
       "CO:102642                     COMISSÃO MISTA DA MPV 1174/2023    None  Orgao   \n",
       "CO:102210                      COMISSÃO MISTA DA MPV 898/2019    None  Orgao   \n",
       "CO:102211                      COMISSÃO MISTA DA MPV 899/2019    None  Orgao   \n",
       "CO:102601                     COMISSÃO MISTA DA MPV 1154/2023    None  Orgao   \n",
       "CO:102636                     COMISSÃO MISTA DA MPV 1170/2023    None  Orgao   \n",
       "CO:102220                      COMISSÃO MISTA DA MPV 905/2019    None  Orgao   \n",
       "CO:102212                      COMISSÃO MISTA DA MPV 900/2019    None  Orgao   \n",
       "\n",
       "           bigtype  mean_score  from_count  \n",
       "name                                        \n",
       "CO:4        author    1.000000           2  \n",
       "CO:6066     author    1.000000           1  \n",
       "CO:538490   author    1.000000           1  \n",
       "CO:100292   author    0.953552         366  \n",
       "CO:101347   author    0.950000           5  \n",
       "CO:57       author    0.916667           9  \n",
       "CO:81       author    0.900000           5  \n",
       "CO:101131   author    0.850000          10  \n",
       "CO:382      author    0.833333           9  \n",
       "CO:80       author    0.777778           9  \n",
       "CO:78       author    0.751398         894  \n",
       "CO:101772   author    0.750000           4  \n",
       "SE:55226    author    0.750000           2  \n",
       "SE:3927825  author    0.750000           2  \n",
       "CO:79       author    0.750000           1  \n",
       "CO:253      author    0.728618        1368  \n",
       "CO:275      author    0.625000           2  \n",
       "CO:277      author    0.625000           2  \n",
       "CO:82       author    0.625000           4  \n",
       "SE:7352398  author    0.550000           5  \n",
       "SE:3947422  author    0.375000           6  \n",
       "CO:101582   author    0.375000           2  \n",
       "CO:2014     author    0.250000           8  \n",
       "CO:102648   author    0.250000           2  \n",
       "CO:5503     author    0.250000           2  \n",
       "CO:2016     author    0.250000           1  \n",
       "CO:2001     author    0.250000           1  \n",
       "CO:539461   author    0.250000           4  \n",
       "CO:539384   author    0.250000           2  \n",
       "CO:539419   author    0.250000           1  \n",
       "SE:7352682  author    0.250000           1  \n",
       "CO:101798   author    0.250000           1  \n",
       "CO:539426   author    0.250000           4  \n",
       "CO:5438     author    0.225610          41  \n",
       "CO:2003     author    0.125000           6  \n",
       "CO:102638   author    0.000000           1  \n",
       "CO:102594   author    0.000000           1  \n",
       "CO:102639   author    0.000000           1  \n",
       "CO:102840   author    0.000000           1  \n",
       "CO:102642   author    0.000000           1  \n",
       "CO:102210   author    0.000000           1  \n",
       "CO:102211   author    0.000000           1  \n",
       "CO:102601   author    0.000000           1  \n",
       "CO:102636   author    0.000000           1  \n",
       "CO:102220   author    0.000000           1  \n",
       "CO:102212   author    0.000000           1  "
      ]
     },
     "execution_count": 41,
     "metadata": {},
     "output_type": "execute_result"
    }
   ],
   "source": [
    "# \"Melhores\" órgãos ou entes\n",
    "author_performance_df[author_performance_df['type'].eq(\"Orgao\")].sort_values(\"mean_score\", ascending=False)"
   ]
  },
  {
   "cell_type": "markdown",
   "id": "2b12cd93",
   "metadata": {},
   "source": [
    "Vemos que acabam sendo privilegiados parlamentares/órgãos que participaram de poucos projetos bem-sucedidos. Vamos penalizar por número de tentativas."
   ]
  },
  {
   "cell_type": "code",
   "execution_count": 42,
   "id": "938e5b8b",
   "metadata": {},
   "outputs": [
    {
     "data": {
      "text/plain": [
       "{'Deputado': np.float64(47.43886462882096),\n",
       " 'Orgao': np.float64(60.73913043478261),\n",
       " 'Senador': np.float64(31.526315789473685)}"
      ]
     },
     "execution_count": 42,
     "metadata": {},
     "output_type": "execute_result"
    }
   ],
   "source": [
    "means_by_type = {\n",
    "    t: author_performance_df[author_performance_df['type'].eq(t)]['from_count'].mean()\n",
    "    for t in author_performance_df['type'].unique()\n",
    "}\n",
    "means_by_type"
   ]
  },
  {
   "cell_type": "code",
   "execution_count": 43,
   "id": "bafcba73",
   "metadata": {},
   "outputs": [],
   "source": [
    "author_performance_df['concave_score'] = (\n",
    "    author_performance_df['mean_score']\n",
    "    * author_performance_df['from_count'] / (author_performance_df['from_count'] + author_performance_df['type'].apply(lambda v: means_by_type[v])))"
   ]
  },
  {
   "cell_type": "code",
   "execution_count": 44,
   "id": "4236d68b",
   "metadata": {},
   "outputs": [
    {
     "data": {
      "application/vnd.microsoft.datawrangler.viewer.v0+json": {
       "columns": [
        {
         "name": "name",
         "rawType": "object",
         "type": "string"
        },
        {
         "name": "label",
         "rawType": "object",
         "type": "string"
        },
        {
         "name": "partido",
         "rawType": "object",
         "type": "string"
        },
        {
         "name": "type",
         "rawType": "object",
         "type": "string"
        },
        {
         "name": "bigtype",
         "rawType": "object",
         "type": "string"
        },
        {
         "name": "mean_score",
         "rawType": "float64",
         "type": "float"
        },
        {
         "name": "from_count",
         "rawType": "int64",
         "type": "integer"
        },
        {
         "name": "concave_score",
         "rawType": "float64",
         "type": "float"
        }
       ],
       "ref": "1101e6e9-e800-40ad-894c-55e338bafb18",
       "rows": [
        [
         "CD:73653",
         "WELLINGTON ANTONIO FAGUNDES",
         "PR/MT",
         "Deputado",
         "author",
         "0.5777777777777777",
         "45",
         "0.28126697687601854"
        ],
        [
         "CD:160649",
         "ESPERIDIÃO AMIN HELOU FILHO",
         "PP/SC",
         "Deputado",
         "author",
         "0.4642857142857143",
         "63",
         "0.2648524149384156"
        ],
        [
         "CD:141470",
         "JOSÉ NOBRE GUIMARÃES",
         "PT/CE",
         "Deputado",
         "author",
         "0.2872727272727273",
         "275",
         "0.24500768569242332"
        ],
        [
         "CD:74398",
         "MARIA DO ROSÁRIO NUNES",
         "PT/RS",
         "Deputado",
         "author",
         "0.29260089686098656",
         "223",
         "0.24127449318187322"
        ],
        [
         "CD:160509",
         "JORGINHO DOS SANTOS MELLO",
         "PR/SC",
         "Deputado",
         "author",
         "0.483695652173913",
         "46",
         "0.2381236125715621"
        ],
        [
         "CD:204503",
         "ALEXANDRE ROCHA SANTOS PADILHA",
         "PT/SP",
         "Deputado",
         "author",
         "0.29473684210526313",
         "190",
         "0.2358501843729022"
        ],
        [
         "CD:160565",
         "MARA CRISTINA GABRILLI",
         "PSDB/SP",
         "Deputado",
         "author",
         "0.4351851851851852",
         "54",
         "0.23166663079274197"
        ],
        [
         "CD:73701",
         "BENEDITA SOUZA DA SILVA SAMPAIO",
         "PT/RJ",
         "Deputado",
         "author",
         "0.2887700534759358",
         "187",
         "0.23033723561789277"
        ],
        [
         "CD:160575",
         "ÉRIKA JUCÁ KOKAY",
         "PT/DF",
         "Deputado",
         "author",
         "0.26228070175438595",
         "285",
         "0.22485337291553098"
        ],
        [
         "CD:204467",
         "ROSA NEIDE SANDES DE ALMEIDA",
         "PT/MT",
         "Deputado",
         "author",
         "0.2702127659574468",
         "235",
         "0.2248274156017842"
        ],
        [
         "CD:204534",
         "TABATA CLAUDIA AMARAL DE PONTES",
         "PSB/SP",
         "Deputado",
         "author",
         "0.27184466019417475",
         "206",
         "0.22096058582812836"
        ],
        [
         "CD:204412",
         "ZACARIAS CALIL HAMU",
         "UNIÃO/GO",
         "Deputado",
         "author",
         "0.3333333333333333",
         "93",
         "0.2207366179008411"
        ],
        [
         "CD:81297",
         "SORAYA DE SOUZA MANNATO",
         "PSL/ES",
         "Deputado",
         "author",
         "0.270935960591133",
         "203",
         "0.2196144758982049"
        ],
        [
         "CD:178857",
         "JORGE JOSE SANTOS PEREIRA SOLLA",
         "PT/BA",
         "Deputado",
         "author",
         "0.267688679245283",
         "212",
         "0.21874132112469805"
        ],
        [
         "CD:178956",
         "MARIANA FONSECA RIBEIRO CARVALHO DE MORAES",
         "PSDB/RO",
         "Deputado",
         "author",
         "0.3713235294117647",
         "68",
         "0.21873049497834351"
        ],
        [
         "CD:160597",
         "ROMARIO DE SOUZA FARIA",
         "PSB/RJ",
         "Deputado",
         "author",
         "0.3991228070175439",
         "57",
         "0.21783078627725627"
        ],
        [
         "CD:204428",
         "MARÍLIA VALENÇA ROCHA ARRAES DE ALENCAR",
         "PT/PE",
         "Deputado",
         "author",
         "0.2776073619631902",
         "163",
         "0.21502682063892262"
        ],
        [
         "CD:178925",
         "REJANE RIBEIRO SOUSA DIAS",
         "PT/PI",
         "Deputado",
         "author",
         "0.24404761904761904",
         "336",
         "0.2138541696324346"
        ],
        [
         "CD:204528",
         "ADRIANA MIGUEL VENTURA",
         "NOVO/SP",
         "Deputado",
         "author",
         "0.25938967136150237",
         "213",
         "0.2121419169859408"
        ],
        [
         "CD:204495",
         "AIRTON LUIZ FALEIRO",
         "PT/PA",
         "Deputado",
         "author",
         "0.2692307692307692",
         "169",
         "0.21022102512887247"
        ],
        [
         "CD:204377",
         "PAULA MORENO PARO BELMONTE",
         "CIDADANIA/DF",
         "Deputado",
         "author",
         "0.26875",
         "160",
         "0.20728998915869357"
        ],
        [
         "CD:160556",
         "JOÃO CARLOS SIQUEIRA",
         "PT/MG",
         "Deputado",
         "author",
         "0.2689873417721519",
         "158",
         "0.20687419625681522"
        ],
        [
         "CD:178866",
         "LUIZIANNE DE OLIVEIRA LINS",
         "PT/CE",
         "Deputado",
         "author",
         "0.2689873417721519",
         "158",
         "0.20687419625681522"
        ],
        [
         "CD:204535",
         "SAMIA DE SOUZA BOMFIM",
         "PSOL/SP",
         "Deputado",
         "author",
         "0.25785340314136124",
         "191",
         "0.20655189780687694"
        ],
        [
         "CD:204501",
         "ALENCAR SANTANA BRAGA",
         "PT/SP",
         "Deputado",
         "author",
         "0.2670807453416149",
         "161",
         "0.2062955009689415"
        ],
        [
         "CD:107283",
         "GLEISI HELENA HOFFMANN",
         "PT/PR",
         "Deputado",
         "author",
         "0.2727272727272727",
         "143",
         "0.20479013081711972"
        ],
        [
         "CD:204450",
         "LUIZ ANTONIO DE SOUZA TEIXEIRA JÚNIOR",
         "PP/RJ",
         "Deputado",
         "author",
         "0.35384615384615387",
         "65",
         "0.2045556051808843"
        ],
        [
         "CD:141488",
         "LUIZ PAULO TEIXEIRA FERREIRA",
         "PT/SP",
         "Deputado",
         "author",
         "0.2467391304347826",
         "230",
         "0.20454956833796342"
        ],
        [
         "CD:204430",
         "MARGARETE DE CASTRO COELHO",
         "PP/PI",
         "Deputado",
         "author",
         "0.46621621621621623",
         "37",
         "0.20428981459933285"
        ],
        [
         "CD:160639",
         "MARIA AUXILIADORA SEABRA REZENDE",
         "DEM/TO",
         "Deputado",
         "author",
         "0.3867924528301887",
         "53",
         "0.20410425860307382"
        ],
        [
         "CD:204453",
         "NATÁLIA BASTOS BONAVIDES",
         "PT/RN",
         "Deputado",
         "author",
         "0.2682119205298013",
         "151",
         "0.20409308466743686"
        ],
        [
         "CD:204426",
         "JOSÉ CARLOS VERAS DOS SANTOS",
         "PT/PE",
         "Deputado",
         "author",
         "0.2554347826086957",
         "184",
         "0.20307738752252383"
        ],
        [
         "CD:74159",
         "ODAIR JOSÉ DA CUNHA",
         "PT/MG",
         "Deputado",
         "author",
         "0.3484848484848485",
         "66",
         "0.20275238186892502"
        ],
        [
         "CD:160604",
         "PEDRO FRANCISCO UCZAI",
         "PT/SC",
         "Deputado",
         "author",
         "0.24879807692307693",
         "208",
         "0.202592507115932"
        ],
        [
         "CD:204572",
         "ALBERTO BARROS CAVALCANTE NETO",
         "PL/AM",
         "Deputado",
         "author",
         "0.23529411764705882",
         "289",
         "0.20211695838119528"
        ],
        [
         "CD:74057",
         "ALICE MAZZUCO PORTUGAL",
         "PCdoB/BA",
         "Deputado",
         "author",
         "0.29245283018867924",
         "106",
         "0.20203486303806473"
        ],
        [
         "CD:164360",
         "CARMEN EMÍLIA BONFÁ ZANOTTO",
         "CIDADANIA/SC",
         "Deputado",
         "author",
         "0.26936619718309857",
         "142",
         "0.20191210539054663"
        ],
        [
         "CD:160535",
         "DIONILSO MATEUS MARCON",
         "PT/RS",
         "Deputado",
         "author",
         "0.2540983606557377",
         "183",
         "0.20178887825584368"
        ],
        [
         "CD:160538",
         "ELVINO JOSÉ BOHN GASS",
         "PT/RS",
         "Deputado",
         "author",
         "0.2817796610169492",
         "118",
         "0.20098058624011825"
        ],
        [
         "CD:160508",
         "AFONSO BANDEIRA FLORENCE",
         "PT/BA",
         "Deputado",
         "author",
         "0.2727272727272727",
         "132",
         "0.2006254334838105"
        ],
        [
         "CD:178970",
         "JOAO SOMARIVA DANIEL",
         "PT/SE",
         "Deputado",
         "author",
         "0.23648648648648649",
         "259",
         "0.199876735851342"
        ],
        [
         "CD:204383",
         "ISRAEL MATOS BATISTA",
         "PSB/DF",
         "Deputado",
         "author",
         "0.3061797752808989",
         "89",
         "0.19972315127462437"
        ],
        [
         "CD:204370",
         "CELIO ALVES DE MOURA",
         "PT/TO",
         "Deputado",
         "author",
         "0.25949367088607594",
         "158",
         "0.19957275403598643"
        ],
        [
         "CD:160598",
         "FLÁVIA CARREIRO ALBUQUERQUE MORAIS",
         "PDT/GO",
         "Deputado",
         "author",
         "0.2734375",
         "128",
         "0.19949969508780227"
        ],
        [
         "CD:204407",
         "FERNANDA MELCHIONNA E SILVA",
         "PSOL/RS",
         "Deputado",
         "author",
         "0.25",
         "184",
         "0.19875659204332116"
        ],
        [
         "CD:74784",
         "LUIZA ERUNDINA DE SOUSA",
         "PSOL/SP",
         "Deputado",
         "author",
         "0.26851851851851855",
         "135",
         "0.19869669806240056"
        ],
        [
         "CD:204366",
         "RODRIGO COELHO",
         "PSB/SC",
         "Deputado",
         "author",
         "0.3409090909090909",
         "66",
         "0.1983447213935136"
        ],
        [
         "CD:178986",
         "NILTO IGNACIO TATTO",
         "PT/SP",
         "Deputado",
         "author",
         "0.23517786561264822",
         "253",
         "0.19804361886904892"
        ],
        [
         "CD:160610",
         "VALMIR CARLOS DA ASSUNÇÃO",
         "PT/BA",
         "Deputado",
         "author",
         "0.24615384615384617",
         "195",
         "0.19798805803470915"
        ],
        [
         "CD:160569",
         "WALDENOR ALVES PEREIRA FILHO",
         "PT/BA",
         "Deputado",
         "author",
         "0.2621527777777778",
         "144",
         "0.19719088949463384"
        ]
       ],
       "shape": {
        "columns": 7,
        "rows": 916
       }
      },
      "text/html": [
       "<div>\n",
       "<style scoped>\n",
       "    .dataframe tbody tr th:only-of-type {\n",
       "        vertical-align: middle;\n",
       "    }\n",
       "\n",
       "    .dataframe tbody tr th {\n",
       "        vertical-align: top;\n",
       "    }\n",
       "\n",
       "    .dataframe thead th {\n",
       "        text-align: right;\n",
       "    }\n",
       "</style>\n",
       "<table border=\"1\" class=\"dataframe\">\n",
       "  <thead>\n",
       "    <tr style=\"text-align: right;\">\n",
       "      <th></th>\n",
       "      <th>label</th>\n",
       "      <th>partido</th>\n",
       "      <th>type</th>\n",
       "      <th>bigtype</th>\n",
       "      <th>mean_score</th>\n",
       "      <th>from_count</th>\n",
       "      <th>concave_score</th>\n",
       "    </tr>\n",
       "    <tr>\n",
       "      <th>name</th>\n",
       "      <th></th>\n",
       "      <th></th>\n",
       "      <th></th>\n",
       "      <th></th>\n",
       "      <th></th>\n",
       "      <th></th>\n",
       "      <th></th>\n",
       "    </tr>\n",
       "  </thead>\n",
       "  <tbody>\n",
       "    <tr>\n",
       "      <th>CD:73653</th>\n",
       "      <td>WELLINGTON ANTONIO FAGUNDES</td>\n",
       "      <td>PR/MT</td>\n",
       "      <td>Deputado</td>\n",
       "      <td>author</td>\n",
       "      <td>0.577778</td>\n",
       "      <td>45</td>\n",
       "      <td>0.281267</td>\n",
       "    </tr>\n",
       "    <tr>\n",
       "      <th>CD:160649</th>\n",
       "      <td>ESPERIDIÃO AMIN HELOU FILHO</td>\n",
       "      <td>PP/SC</td>\n",
       "      <td>Deputado</td>\n",
       "      <td>author</td>\n",
       "      <td>0.464286</td>\n",
       "      <td>63</td>\n",
       "      <td>0.264852</td>\n",
       "    </tr>\n",
       "    <tr>\n",
       "      <th>CD:141470</th>\n",
       "      <td>JOSÉ NOBRE GUIMARÃES</td>\n",
       "      <td>PT/CE</td>\n",
       "      <td>Deputado</td>\n",
       "      <td>author</td>\n",
       "      <td>0.287273</td>\n",
       "      <td>275</td>\n",
       "      <td>0.245008</td>\n",
       "    </tr>\n",
       "    <tr>\n",
       "      <th>CD:74398</th>\n",
       "      <td>MARIA DO ROSÁRIO NUNES</td>\n",
       "      <td>PT/RS</td>\n",
       "      <td>Deputado</td>\n",
       "      <td>author</td>\n",
       "      <td>0.292601</td>\n",
       "      <td>223</td>\n",
       "      <td>0.241274</td>\n",
       "    </tr>\n",
       "    <tr>\n",
       "      <th>CD:160509</th>\n",
       "      <td>JORGINHO DOS SANTOS MELLO</td>\n",
       "      <td>PR/SC</td>\n",
       "      <td>Deputado</td>\n",
       "      <td>author</td>\n",
       "      <td>0.483696</td>\n",
       "      <td>46</td>\n",
       "      <td>0.238124</td>\n",
       "    </tr>\n",
       "    <tr>\n",
       "      <th>...</th>\n",
       "      <td>...</td>\n",
       "      <td>...</td>\n",
       "      <td>...</td>\n",
       "      <td>...</td>\n",
       "      <td>...</td>\n",
       "      <td>...</td>\n",
       "      <td>...</td>\n",
       "    </tr>\n",
       "    <tr>\n",
       "      <th>CD:141518</th>\n",
       "      <td>PAULO PEREIRA DA SILVA</td>\n",
       "      <td>SOLIDARIEDADE/SP</td>\n",
       "      <td>Deputado</td>\n",
       "      <td>author</td>\n",
       "      <td>0.083333</td>\n",
       "      <td>3</td>\n",
       "      <td>0.004956</td>\n",
       "    </tr>\n",
       "    <tr>\n",
       "      <th>CD:214477</th>\n",
       "      <td>RENATO ANDRADE QUEIROZ</td>\n",
       "      <td>MDB/RR</td>\n",
       "      <td>Deputado</td>\n",
       "      <td>author</td>\n",
       "      <td>0.083333</td>\n",
       "      <td>3</td>\n",
       "      <td>0.004956</td>\n",
       "    </tr>\n",
       "    <tr>\n",
       "      <th>CD:220661</th>\n",
       "      <td>MATHEUS SOARES NORONHA</td>\n",
       "      <td>PL/CE</td>\n",
       "      <td>Deputado</td>\n",
       "      <td>author</td>\n",
       "      <td>0.000000</td>\n",
       "      <td>1</td>\n",
       "      <td>0.000000</td>\n",
       "    </tr>\n",
       "    <tr>\n",
       "      <th>CD:141870</th>\n",
       "      <td>VILSON LUIZ COVATTI</td>\n",
       "      <td>PP**/RS</td>\n",
       "      <td>Deputado</td>\n",
       "      <td>author</td>\n",
       "      <td>0.000000</td>\n",
       "      <td>1</td>\n",
       "      <td>0.000000</td>\n",
       "    </tr>\n",
       "    <tr>\n",
       "      <th>CD:74212</th>\n",
       "      <td>ANÍBAL FERREIRA GOMES</td>\n",
       "      <td>DEM/CE</td>\n",
       "      <td>Deputado</td>\n",
       "      <td>author</td>\n",
       "      <td>0.000000</td>\n",
       "      <td>1</td>\n",
       "      <td>0.000000</td>\n",
       "    </tr>\n",
       "  </tbody>\n",
       "</table>\n",
       "<p>916 rows × 7 columns</p>\n",
       "</div>"
      ],
      "text/plain": [
       "                                 label           partido      type bigtype  \\\n",
       "name                                                                         \n",
       "CD:73653   WELLINGTON ANTONIO FAGUNDES             PR/MT  Deputado  author   \n",
       "CD:160649  ESPERIDIÃO AMIN HELOU FILHO             PP/SC  Deputado  author   \n",
       "CD:141470         JOSÉ NOBRE GUIMARÃES             PT/CE  Deputado  author   \n",
       "CD:74398        MARIA DO ROSÁRIO NUNES             PT/RS  Deputado  author   \n",
       "CD:160509    JORGINHO DOS SANTOS MELLO             PR/SC  Deputado  author   \n",
       "...                                ...               ...       ...     ...   \n",
       "CD:141518       PAULO PEREIRA DA SILVA  SOLIDARIEDADE/SP  Deputado  author   \n",
       "CD:214477       RENATO ANDRADE QUEIROZ            MDB/RR  Deputado  author   \n",
       "CD:220661       MATHEUS SOARES NORONHA             PL/CE  Deputado  author   \n",
       "CD:141870          VILSON LUIZ COVATTI           PP**/RS  Deputado  author   \n",
       "CD:74212         ANÍBAL FERREIRA GOMES            DEM/CE  Deputado  author   \n",
       "\n",
       "           mean_score  from_count  concave_score  \n",
       "name                                              \n",
       "CD:73653     0.577778          45       0.281267  \n",
       "CD:160649    0.464286          63       0.264852  \n",
       "CD:141470    0.287273         275       0.245008  \n",
       "CD:74398     0.292601         223       0.241274  \n",
       "CD:160509    0.483696          46       0.238124  \n",
       "...               ...         ...            ...  \n",
       "CD:141518    0.083333           3       0.004956  \n",
       "CD:214477    0.083333           3       0.004956  \n",
       "CD:220661    0.000000           1       0.000000  \n",
       "CD:141870    0.000000           1       0.000000  \n",
       "CD:74212     0.000000           1       0.000000  \n",
       "\n",
       "[916 rows x 7 columns]"
      ]
     },
     "execution_count": 44,
     "metadata": {},
     "output_type": "execute_result"
    }
   ],
   "source": [
    "# \"Melhores\" deputados\n",
    "author_performance_df[author_performance_df['type'].eq(\"Deputado\")].sort_values(\"concave_score\", ascending=False)"
   ]
  },
  {
   "cell_type": "code",
   "execution_count": 45,
   "id": "408a5ad5",
   "metadata": {},
   "outputs": [
    {
     "data": {
      "application/vnd.microsoft.datawrangler.viewer.v0+json": {
       "columns": [
        {
         "name": "name",
         "rawType": "object",
         "type": "string"
        },
        {
         "name": "label",
         "rawType": "object",
         "type": "string"
        },
        {
         "name": "partido",
         "rawType": "object",
         "type": "string"
        },
        {
         "name": "type",
         "rawType": "object",
         "type": "string"
        },
        {
         "name": "bigtype",
         "rawType": "object",
         "type": "string"
        },
        {
         "name": "mean_score",
         "rawType": "float64",
         "type": "float"
        },
        {
         "name": "from_count",
         "rawType": "int64",
         "type": "integer"
        },
        {
         "name": "concave_score",
         "rawType": "float64",
         "type": "float"
        }
       ],
       "ref": "cfe923be-e2eb-48f6-b31b-457007e98244",
       "rows": [
        [
         "SS:345",
         "FLÁVIO JOSÉ ARNS",
         "PSB/PR",
         "Senador",
         "author",
         "0.4935064935064935",
         "77",
         "0.3501454898157129"
        ],
        [
         "SS:5748",
         "VENEZIANO VITAL DO RÊGO SEGUNDO NETO",
         "MDB/PB",
         "Senador",
         "author",
         "0.45625",
         "80",
         "0.3272770174610665"
        ],
        [
         "SS:5985",
         "NELSON TRAD FILHO",
         "PSD/MS",
         "Senador",
         "author",
         "0.4692982456140351",
         "57",
         "0.30217003567181927"
        ],
        [
         "SS:5895",
         "JORGE KAJURU REIS DA COSTA NASSER",
         "PSB/GO",
         "Senador",
         "author",
         "0.3987341772151899",
         "79",
         "0.285"
        ],
        [
         "SS:5953",
         "FABIANO CONTARATO",
         "PT/ES",
         "Senador",
         "author",
         "0.4166666666666667",
         "63",
         "0.27770044543429845"
        ],
        [
         "SS:5732",
         "RODRIGO OTAVIO SOARES PACHECO",
         "PSD/MG",
         "Senador",
         "author",
         "0.5135135135135135",
         "37",
         "0.2772657450076805"
        ],
        [
         "SS:6027",
         "ANTÔNIO MECIAS PEREIRA DE JESUS",
         "REPUBLICANOS/RR",
         "Senador",
         "author",
         "0.44",
         "50",
         "0.26985151710781147"
        ],
        [
         "SS:470",
         "FRANCISCO DE ASSIS RODRIGUES",
         "PSB/RR",
         "Senador",
         "author",
         "0.45930232558139533",
         "43",
         "0.2650070621468927"
        ],
        [
         "SS:5979",
         "LEILA GOMES DE BARROS RÊGO",
         "PDT/DF",
         "Senador",
         "author",
         "0.3880597014925373",
         "67",
         "0.2638888888888889"
        ],
        [
         "SS:825",
         "PAULO RENATO PAIM",
         "PT/RS",
         "Senador",
         "author",
         "0.33705357142857145",
         "112",
         "0.263017968463513"
        ],
        [
         "SS:5967",
         "ANGELO MARIO CORONEL DE AZEVEDO MARTINS",
         "PSD/BA",
         "Senador",
         "author",
         "0.4625",
         "40",
         "0.2586460632818249"
        ],
        [
         "SS:4531",
         "JAYME VERÍSSIMO DE CAMPOS",
         "UNIÃO/MT",
         "Senador",
         "author",
         "0.43478260869565216",
         "46",
         "0.25797691785471827"
        ],
        [
         "SS:5936",
         "CARLOS FRANCISCO PORTINHO",
         "PL/RJ",
         "Senador",
         "author",
         "0.6309523809523809",
         "21",
         "0.2522545090180361"
        ],
        [
         "SS:5982",
         "ALESSANDRO VIEIRA",
         "MDB/SE",
         "Senador",
         "author",
         "0.38114754098360654",
         "61",
         "0.25127986348122866"
        ],
        [
         "SS:475",
         "CONFÚCIO AIRES MOURA",
         "MDB/RO",
         "Senador",
         "author",
         "0.3607142857142857",
         "70",
         "0.2487039917055469"
        ],
        [
         "SS:5502",
         "FRANCISCO PLÍNIO VALÉRIO TOMAZ",
         "PSDB/AM",
         "Senador",
         "author",
         "0.37109375",
         "64",
         "0.24862258953168043"
        ],
        [
         "SS:4770",
         "IZALCI LUCAS FERREIRA",
         "PL/DF",
         "Senador",
         "author",
         "0.373015873015873",
         "63",
         "0.24860801781737193"
        ],
        [
         "SS:6009",
         "MARCOS CESAR PONTES",
         "PL/SP",
         "Senador",
         "author",
         "0.6375",
         "20",
         "0.24744637385086823"
        ],
        [
         "SS:5926",
         "LUIZ CANTUÁRIA BARRETO",
         "PSD/AP",
         "Senador",
         "author",
         "0.4527027027027027",
         "37",
         "0.244431643625192"
        ],
        [
         "SS:5998",
         "DANIELLA VELLOSO BORGES RIBEIRO",
         "PP/PB",
         "Senador",
         "author",
         "0.5384615384615384",
         "26",
         "0.24336688014638608"
        ],
        [
         "SS:5783",
         "ZENAIDE MAIA CALADO PEREIRA DOS SANTOS",
         "PSD/RN",
         "Senador",
         "author",
         "0.37280701754385964",
         "57",
         "0.24004161712247324"
        ],
        [
         "SS:3806",
         "JOSÉ DA CRUZ MARINHO",
         "PODEMOS/PA",
         "Senador",
         "author",
         "0.3872549019607843",
         "51",
         "0.2393176020408163"
        ],
        [
         "SS:5523",
         "OTTO ROBERTO MENDONÇA DE ALENCAR",
         "PSD/BA",
         "Senador",
         "author",
         "0.46875",
         "32",
         "0.23612261806130902"
        ],
        [
         "SS:5942",
         "MARCOS RIBEIRO DO VAL",
         "PODEMOS/ES",
         "Senador",
         "author",
         "0.4069767441860465",
         "43",
         "0.23481638418079095"
        ],
        [
         "SS:5990",
         "CARLOS ALBERTO DIAS VIANA",
         "PODEMOS/MG",
         "Senador",
         "author",
         "0.38",
         "50",
         "0.23305358295674627"
        ],
        [
         "SS:4994",
         "CARLOS EDUARDO DE SOUZA BRAGA",
         "MDB/AM",
         "Senador",
         "author",
         "0.44285714285714284",
         "35",
         "0.23299050632911392"
        ],
        [
         "SS:5959",
         "EANN STYVENSON VALENTIM MENDES",
         "PSDB/RN",
         "Senador",
         "author",
         "0.36574074074074076",
         "54",
         "0.23092307692307693"
        ],
        [
         "SS:1186",
         "LUIS CARLOS HEINZE",
         "PP/RS",
         "Senador",
         "author",
         "0.4166666666666667",
         "39",
         "0.23041044776119401"
        ],
        [
         "SS:5976",
         "LUIS EDUARDO GRANGEIRO GIRÃO",
         "NOVO/CE",
         "Senador",
         "author",
         "0.37254901960784315",
         "51",
         "0.2302295918367347"
        ],
        [
         "SS:3777",
         "CARLOS EDUARDO TORRES GOMES",
         "PL/TO",
         "Senador",
         "author",
         "0.4305555555555556",
         "36",
         "0.22954014029618083"
        ],
        [
         "SS:5411",
         "WEVERTON ROCHA MARQUES DE SOUSA",
         "PDT/MA",
         "Senador",
         "author",
         "0.35909090909090907",
         "55",
         "0.22825425790754258"
        ],
        [
         "SS:5905",
         "RODRIGO SANTOS CUNHA",
         "PODEMOS/AL",
         "Senador",
         "author",
         "0.39285714285714285",
         "35",
         "0.20668512658227847"
        ],
        [
         "SS:945",
         "ALVARO FERNANDES DIAS",
         "PODEMOS/PR",
         "Senador",
         "author",
         "0.27439024390243905",
         "82",
         "0.19819193324061196"
        ],
        [
         "SS:5385",
         "IRAJÁ SILVESTRE FILHO",
         "PSD/TO",
         "Senador",
         "author",
         "0.4673913043478261",
         "23",
         "0.19715250965250966"
        ],
        [
         "SS:6304",
         "MARGARETH GETTERT BUSETTI",
         "PP/MT",
         "Senador",
         "author",
         "0.6730769230769231",
         "13",
         "0.19651300236406619"
        ],
        [
         "SS:5529",
         "ANTONIO AUGUSTO JUNHO ANASTASIA",
         "PSD/MG",
         "Senador",
         "author",
         "0.3475609756097561",
         "41",
         "0.19648040638606673"
        ],
        [
         "SS:5527",
         "SIMONE NASSAR TEBET",
         "MDB/MS",
         "Senador",
         "author",
         "0.3392857142857143",
         "42",
         "0.1938081603435934"
        ],
        [
         "SS:5899",
         "VANDERLAN VIEIRA CARDOSO",
         "PSD/GO",
         "Senador",
         "author",
         "0.4230769230769231",
         "26",
         "0.19121683440073192"
        ],
        [
         "SS:5012",
         "RANDOLPH FREDERICH RODRIGUES ALVES",
         "PT/AP",
         "Senador",
         "author",
         "0.2668918918918919",
         "74",
         "0.1871571072319202"
        ],
        [
         "SS:1249",
         "KÁTIA REGINA DE ABREU",
         "PP/TO",
         "Senador",
         "author",
         "0.3072916666666667",
         "48",
         "0.18547319655857047"
        ],
        [
         "SS:5585",
         "LUIZ CARLOS DO CARMO",
         "PSC/GO",
         "Senador",
         "author",
         "0.32142857142857145",
         "42",
         "0.18360773085182536"
        ],
        [
         "SS:5533",
         "LASIER COSTA MARTINS",
         "PODEMOS/RS",
         "Senador",
         "author",
         "0.2640845070422535",
         "71",
         "0.18287987679671458"
        ],
        [
         "SS:581",
         "JAQUES WAGNER",
         "PT/BA",
         "Senador",
         "author",
         "0.27419354838709675",
         "62",
         "0.18176702307259426"
        ],
        [
         "SS:4981",
         "ACIR MARCOS GURGACZ",
         "PDT/RO",
         "Senador",
         "author",
         "0.29411764705882354",
         "51",
         "0.18176020408163265"
        ],
        [
         "SS:5627",
         "JEAN PAUL TERRA PRATES",
         "PT/RN",
         "Senador",
         "author",
         "0.2807017543859649",
         "57",
         "0.1807372175980975"
        ],
        [
         "SS:5718",
         "ELIZIANE PEREIRA GAMA MELO",
         "PSD/MA",
         "Senador",
         "author",
         "0.30434782608695654",
         "46",
         "0.18058384249830278"
        ],
        [
         "SS:5540",
         "FERNANDO BEZERRA DE SOUZA COELHO",
         "MDB/PE",
         "Senador",
         "author",
         "0.34285714285714286",
         "35",
         "0.18037974683544303"
        ],
        [
         "SS:742",
         "MARCELO COSTA E CASTRO",
         "MDB/PI",
         "Senador",
         "author",
         "0.34285714285714286",
         "35",
         "0.18037974683544303"
        ],
        [
         "SS:5422",
         "MARCOS ROGÉRIO DA SILVA BRITO",
         "PL/RO",
         "Senador",
         "author",
         "0.36666666666666664",
         "30",
         "0.1787852865697177"
        ],
        [
         "SS:5988",
         "SORAYA VIEIRA THRONICKE",
         "PODEMOS/MS",
         "Senador",
         "author",
         "0.375",
         "28",
         "0.17639257294429708"
        ]
       ],
       "shape": {
        "columns": 7,
        "rows": 114
       }
      },
      "text/html": [
       "<div>\n",
       "<style scoped>\n",
       "    .dataframe tbody tr th:only-of-type {\n",
       "        vertical-align: middle;\n",
       "    }\n",
       "\n",
       "    .dataframe tbody tr th {\n",
       "        vertical-align: top;\n",
       "    }\n",
       "\n",
       "    .dataframe thead th {\n",
       "        text-align: right;\n",
       "    }\n",
       "</style>\n",
       "<table border=\"1\" class=\"dataframe\">\n",
       "  <thead>\n",
       "    <tr style=\"text-align: right;\">\n",
       "      <th></th>\n",
       "      <th>label</th>\n",
       "      <th>partido</th>\n",
       "      <th>type</th>\n",
       "      <th>bigtype</th>\n",
       "      <th>mean_score</th>\n",
       "      <th>from_count</th>\n",
       "      <th>concave_score</th>\n",
       "    </tr>\n",
       "    <tr>\n",
       "      <th>name</th>\n",
       "      <th></th>\n",
       "      <th></th>\n",
       "      <th></th>\n",
       "      <th></th>\n",
       "      <th></th>\n",
       "      <th></th>\n",
       "      <th></th>\n",
       "    </tr>\n",
       "  </thead>\n",
       "  <tbody>\n",
       "    <tr>\n",
       "      <th>SS:345</th>\n",
       "      <td>FLÁVIO JOSÉ ARNS</td>\n",
       "      <td>PSB/PR</td>\n",
       "      <td>Senador</td>\n",
       "      <td>author</td>\n",
       "      <td>0.493506</td>\n",
       "      <td>77</td>\n",
       "      <td>0.350145</td>\n",
       "    </tr>\n",
       "    <tr>\n",
       "      <th>SS:5748</th>\n",
       "      <td>VENEZIANO VITAL DO RÊGO SEGUNDO NETO</td>\n",
       "      <td>MDB/PB</td>\n",
       "      <td>Senador</td>\n",
       "      <td>author</td>\n",
       "      <td>0.456250</td>\n",
       "      <td>80</td>\n",
       "      <td>0.327277</td>\n",
       "    </tr>\n",
       "    <tr>\n",
       "      <th>SS:5985</th>\n",
       "      <td>NELSON TRAD FILHO</td>\n",
       "      <td>PSD/MS</td>\n",
       "      <td>Senador</td>\n",
       "      <td>author</td>\n",
       "      <td>0.469298</td>\n",
       "      <td>57</td>\n",
       "      <td>0.302170</td>\n",
       "    </tr>\n",
       "    <tr>\n",
       "      <th>SS:5895</th>\n",
       "      <td>JORGE KAJURU REIS DA COSTA NASSER</td>\n",
       "      <td>PSB/GO</td>\n",
       "      <td>Senador</td>\n",
       "      <td>author</td>\n",
       "      <td>0.398734</td>\n",
       "      <td>79</td>\n",
       "      <td>0.285000</td>\n",
       "    </tr>\n",
       "    <tr>\n",
       "      <th>SS:5953</th>\n",
       "      <td>FABIANO CONTARATO</td>\n",
       "      <td>PT/ES</td>\n",
       "      <td>Senador</td>\n",
       "      <td>author</td>\n",
       "      <td>0.416667</td>\n",
       "      <td>63</td>\n",
       "      <td>0.277700</td>\n",
       "    </tr>\n",
       "    <tr>\n",
       "      <th>...</th>\n",
       "      <td>...</td>\n",
       "      <td>...</td>\n",
       "      <td>...</td>\n",
       "      <td>...</td>\n",
       "      <td>...</td>\n",
       "      <td>...</td>\n",
       "      <td>...</td>\n",
       "    </tr>\n",
       "    <tr>\n",
       "      <th>SS:5906</th>\n",
       "      <td>EUDOCIA MARIA HOLANDA DE ARAUJO CALDAS</td>\n",
       "      <td>PL/AL</td>\n",
       "      <td>Senador</td>\n",
       "      <td>author</td>\n",
       "      <td>0.750000</td>\n",
       "      <td>1</td>\n",
       "      <td>0.023058</td>\n",
       "    </tr>\n",
       "    <tr>\n",
       "      <th>SS:5913</th>\n",
       "      <td>CICERO RAFAEL TENORIO DA SILVA</td>\n",
       "      <td>MDB/AL</td>\n",
       "      <td>Senador</td>\n",
       "      <td>author</td>\n",
       "      <td>0.750000</td>\n",
       "      <td>1</td>\n",
       "      <td>0.023058</td>\n",
       "    </tr>\n",
       "    <tr>\n",
       "      <th>SS:6363</th>\n",
       "      <td>ROSANA TEREZA MARTINELLI</td>\n",
       "      <td>PL/MT</td>\n",
       "      <td>Senador</td>\n",
       "      <td>author</td>\n",
       "      <td>0.250000</td>\n",
       "      <td>1</td>\n",
       "      <td>0.007686</td>\n",
       "    </tr>\n",
       "    <tr>\n",
       "      <th>SS:5927</th>\n",
       "      <td>PAULO JOSÉ DE BRITO SILVA ALBUQUERQUE</td>\n",
       "      <td>PSD/AP</td>\n",
       "      <td>Senador</td>\n",
       "      <td>author</td>\n",
       "      <td>0.250000</td>\n",
       "      <td>1</td>\n",
       "      <td>0.007686</td>\n",
       "    </tr>\n",
       "    <tr>\n",
       "      <th>SS:5971</th>\n",
       "      <td>PRISCO RODRIGUES BEZERRA</td>\n",
       "      <td>PDT/CE</td>\n",
       "      <td>Senador</td>\n",
       "      <td>author</td>\n",
       "      <td>0.250000</td>\n",
       "      <td>1</td>\n",
       "      <td>0.007686</td>\n",
       "    </tr>\n",
       "  </tbody>\n",
       "</table>\n",
       "<p>114 rows × 7 columns</p>\n",
       "</div>"
      ],
      "text/plain": [
       "                                          label partido     type bigtype  \\\n",
       "name                                                                       \n",
       "SS:345                         FLÁVIO JOSÉ ARNS  PSB/PR  Senador  author   \n",
       "SS:5748    VENEZIANO VITAL DO RÊGO SEGUNDO NETO  MDB/PB  Senador  author   \n",
       "SS:5985                       NELSON TRAD FILHO  PSD/MS  Senador  author   \n",
       "SS:5895       JORGE KAJURU REIS DA COSTA NASSER  PSB/GO  Senador  author   \n",
       "SS:5953                       FABIANO CONTARATO   PT/ES  Senador  author   \n",
       "...                                         ...     ...      ...     ...   \n",
       "SS:5906  EUDOCIA MARIA HOLANDA DE ARAUJO CALDAS   PL/AL  Senador  author   \n",
       "SS:5913          CICERO RAFAEL TENORIO DA SILVA  MDB/AL  Senador  author   \n",
       "SS:6363                ROSANA TEREZA MARTINELLI   PL/MT  Senador  author   \n",
       "SS:5927   PAULO JOSÉ DE BRITO SILVA ALBUQUERQUE  PSD/AP  Senador  author   \n",
       "SS:5971                PRISCO RODRIGUES BEZERRA  PDT/CE  Senador  author   \n",
       "\n",
       "         mean_score  from_count  concave_score  \n",
       "name                                            \n",
       "SS:345     0.493506          77       0.350145  \n",
       "SS:5748    0.456250          80       0.327277  \n",
       "SS:5985    0.469298          57       0.302170  \n",
       "SS:5895    0.398734          79       0.285000  \n",
       "SS:5953    0.416667          63       0.277700  \n",
       "...             ...         ...            ...  \n",
       "SS:5906    0.750000           1       0.023058  \n",
       "SS:5913    0.750000           1       0.023058  \n",
       "SS:6363    0.250000           1       0.007686  \n",
       "SS:5927    0.250000           1       0.007686  \n",
       "SS:5971    0.250000           1       0.007686  \n",
       "\n",
       "[114 rows x 7 columns]"
      ]
     },
     "execution_count": 45,
     "metadata": {},
     "output_type": "execute_result"
    }
   ],
   "source": [
    "# \"Melhores\" senadores\n",
    "author_performance_df[author_performance_df['type'].eq(\"Senador\")].sort_values(\"concave_score\", ascending=False)"
   ]
  },
  {
   "cell_type": "code",
   "execution_count": 46,
   "id": "0e83c01f",
   "metadata": {},
   "outputs": [
    {
     "data": {
      "application/vnd.microsoft.datawrangler.viewer.v0+json": {
       "columns": [
        {
         "name": "name",
         "rawType": "object",
         "type": "string"
        },
        {
         "name": "label",
         "rawType": "object",
         "type": "string"
        },
        {
         "name": "partido",
         "rawType": "object",
         "type": "unknown"
        },
        {
         "name": "type",
         "rawType": "object",
         "type": "string"
        },
        {
         "name": "bigtype",
         "rawType": "object",
         "type": "string"
        },
        {
         "name": "mean_score",
         "rawType": "float64",
         "type": "float"
        },
        {
         "name": "from_count",
         "rawType": "int64",
         "type": "integer"
        },
        {
         "name": "concave_score",
         "rawType": "float64",
         "type": "float"
        }
       ],
       "ref": "51c223f7-8cda-4c84-a4d8-b553fe82c98b",
       "rows": [
        [
         "CO:100292",
         "CÂMARA DOS DEPUTADOS",
         null,
         "Orgao",
         "author",
         "0.953551912568306",
         "366",
         "0.8178298522669384"
        ],
        [
         "CO:78",
         "SENADO FEDERAL",
         null,
         "Orgao",
         "author",
         "0.7513982102908278",
         "894",
         "0.7035953367639692"
        ],
        [
         "CO:253",
         "PODER EXECUTIVO",
         null,
         "Orgao",
         "author",
         "0.7286184210526315",
         "1368",
         "0.697643102766197"
        ],
        [
         "CO:101131",
         "DEFENSORIA PÚBLICA DA UNIÃO",
         null,
         "Orgao",
         "author",
         "0.85",
         "10",
         "0.12015980331899201"
        ],
        [
         "CO:57",
         "MINISTÉRIO PÚBLICO DA UNIÃO",
         null,
         "Orgao",
         "author",
         "0.9166666666666666",
         "9",
         "0.11829800498753117"
        ],
        [
         "CO:382",
         "TRIBUNAL DE JUSTIÇA DO DISTRITO FEDERAL E DOS TERRITÓRIOS",
         null,
         "Orgao",
         "author",
         "0.8333333333333334",
         "9",
         "0.10754364089775562"
        ],
        [
         "CO:80",
         "SUPREMO TRIBUNAL FEDERAL",
         null,
         "Orgao",
         "author",
         "0.7777777777777778",
         "9",
         "0.10037406483790523"
        ],
        [
         "CO:5438",
         "COMISSÃO DE LEGISLAÇÃO PARTICIPATIVA",
         null,
         "Orgao",
         "author",
         "0.22560975609756098",
         "41",
         "0.09091880341880341"
        ],
        [
         "CO:101347",
         "PROCURADORIA-GERAL DA REPÚBLICA",
         null,
         "Orgao",
         "author",
         "0.95",
         "5",
         "0.072255291005291"
        ],
        [
         "CO:81",
         "SUPERIOR TRIBUNAL DE JUSTIÇA",
         null,
         "Orgao",
         "author",
         "0.9",
         "5",
         "0.06845238095238095"
        ],
        [
         "CO:101772",
         "MPF - PGR - PROCURADORIA GERAL DA REPÚBLICA",
         null,
         "Orgao",
         "author",
         "0.75",
         "4",
         "0.04633982538616521"
        ],
        [
         "SE:7352398",
         "CPI DA PANDEMIA",
         null,
         "Orgao",
         "author",
         "0.55",
         "5",
         "0.04183201058201058"
        ],
        [
         "CO:82",
         "TRIBUNAL DE CONTAS DA UNIÃO",
         null,
         "Orgao",
         "author",
         "0.625",
         "4",
         "0.038616521155137674"
        ],
        [
         "SE:3947422",
         "COMISSÃO DE DIREITOS HUMANOS E LEGISLAÇÃO PARTICIPATIVA",
         null,
         "Orgao",
         "author",
         "0.375",
         "6",
         "0.03371335504885994"
        ],
        [
         "CO:4",
         "MESA DIRETORA DA CÂMARA DOS DEPUTADOS",
         null,
         "Orgao",
         "author",
         "1.0",
         "2",
         "0.03187803187803188"
        ],
        [
         "CO:2014",
         "COMISSÃO DE SAÚDE",
         null,
         "Orgao",
         "author",
         "0.25",
         "8",
         "0.0290955091714105"
        ],
        [
         "SE:3927825",
         "COMISSÃO DE MEIO AMBIENTE",
         null,
         "Orgao",
         "author",
         "0.75",
         "2",
         "0.02390852390852391"
        ],
        [
         "SE:55226",
         "COMISSÃO DIRETORA",
         null,
         "Orgao",
         "author",
         "0.75",
         "2",
         "0.02390852390852391"
        ],
        [
         "CO:277",
         "TRIBUNAL SUPERIOR ELEITORAL",
         null,
         "Orgao",
         "author",
         "0.625",
         "2",
         "0.019923769923769923"
        ],
        [
         "CO:275",
         "TRIBUNAL SUPERIOR DO TRABALHO",
         null,
         "Orgao",
         "author",
         "0.625",
         "2",
         "0.019923769923769923"
        ],
        [
         "CO:538490",
         "COMISSÃO ESPECIAL DESTINADA A ACOMPANHAR AS AÇÕES DE COMBATE AO CÂNCER NO BRASIL",
         null,
         "Orgao",
         "author",
         "1.0",
         "1",
         "0.01619718309859155"
        ],
        [
         "CO:6066",
         "COMISSÃO DE TURISMO",
         null,
         "Orgao",
         "author",
         "1.0",
         "1",
         "0.01619718309859155"
        ],
        [
         "CO:539426",
         "COMISSÃO PARLAMENTAR DE INQUÉRITO DESTINADA A INVESTIGAR AS INCONSISTÊNCIAS DA ORDEM DE 20 BILHÕES DE REAIS DETECTADAS EM LANÇAMENTOS CONTÁBEIS DA EMPRESA AMERICANAS S.A. REALIZADOS NO EXERCÍCIO DE 2022 E EM EXERCÍCIOS ANTERIORES",
         null,
         "Orgao",
         "author",
         "0.25",
         "4",
         "0.01544660846205507"
        ],
        [
         "CO:539461",
         "COMISSÃO PARLAMENTAR DE INQUÉRITO DESTINADA A INVESTIGAR INDÍCIOS DE OPERAÇÕES FRAUDULENTAS SOFISTICADAS NA GESTÃO DE DIVERSAS EMPRESAS DE SERVIÇOS FINANCEIROS QUE PROMETEM GERAR PATRIMÔNIO POR MEIO DE GESTÃO DE CRIPTOMOEDAS, COM DIVULGAÇÃO DE INFORMAÇÕES FALSAS SOBRE PROJETOS OU SERVIÇOS E PROMESSA DE RENTABILIDADE ANORMALMENTE ALTA OU GARANTIDA E INEXISTÊNCIA DE TAXAS, MAS CONSTITUINDO-SE EM SISTEMA DE REMUNERAÇÃO ALIMENTADO PELA ENTRADA DE NOVOS PARTICIPANTES (O QUE TEM TRAZIDO PREJUÍZOS VULTOSOS AOS INVESTIDORES E A TODA A SOCIEDADE, ENTRE OS ANOS DE 2019 E 2022)",
         null,
         "Orgao",
         "author",
         "0.25",
         "4",
         "0.01544660846205507"
        ],
        [
         "CO:79",
         "SENADO FEDERAL (COMISSÃO MISTA - ART 142 E 143 DO REGIMENTO COMUM)",
         null,
         "Orgao",
         "author",
         "0.75",
         "1",
         "0.012147887323943661"
        ],
        [
         "CO:101582",
         "TRIBUNAL DE CONTAS DA UNIÃO",
         null,
         "Orgao",
         "author",
         "0.375",
         "2",
         "0.011954261954261955"
        ],
        [
         "CO:2003",
         "COMISSÃO DE CONSTITUIÇÃO E JUSTIÇA E DE CIDADANIA",
         null,
         "Orgao",
         "author",
         "0.125",
         "6",
         "0.011237785016286644"
        ],
        [
         "CO:102648",
         "COMISSÃO PARLAMENTAR MISTA DE INQUÉRITO DOS ATOS DE 8 DE JANEIRO DE 2023",
         null,
         "Orgao",
         "author",
         "0.25",
         "2",
         "0.00796950796950797"
        ],
        [
         "CO:5503",
         "COMISSÃO DE SEGURANÇA PÚBLICA E COMBATE AO CRIME ORGANIZADO",
         null,
         "Orgao",
         "author",
         "0.25",
         "2",
         "0.00796950796950797"
        ],
        [
         "CO:539384",
         "COMISSÃO DA AMAZÔNIA E DOS POVOS ORIGINÁRIOS E TRADICIONAIS",
         null,
         "Orgao",
         "author",
         "0.25",
         "2",
         "0.00796950796950797"
        ],
        [
         "CO:2001",
         "COMISSÃO DE AGRICULTURA, PECUÁRIA, ABASTECIMENTO E DESENVOLVIMENTO RURAL",
         null,
         "Orgao",
         "author",
         "0.25",
         "1",
         "0.004049295774647887"
        ],
        [
         "CO:101798",
         "INICIATIVA POPULAR",
         null,
         "Orgao",
         "author",
         "0.25",
         "1",
         "0.004049295774647887"
        ],
        [
         "SE:7352682",
         "FORUM NACIONAL DE COMITÊS HIDROGRÁFICAS BRASIL",
         null,
         "Orgao",
         "author",
         "0.25",
         "1",
         "0.004049295774647887"
        ],
        [
         "CO:2016",
         "COMISSÃO DE VIAÇÃO E TRANSPORTES",
         null,
         "Orgao",
         "author",
         "0.25",
         "1",
         "0.004049295774647887"
        ],
        [
         "CO:539419",
         "COMISSÃO ESPECIAL PARA ESTUDO, AVALIAÇÃO E ACOMPANHAMENTO DAS INICIATIVAS E MEDIDAS ADOTADAS PARA TRANSIÇÃO ENERGÉTICA - FONTES RENOVÁVEIS E PRODUÇÃO DE HIDROGÊNIO VERDE NO BRASIL",
         null,
         "Orgao",
         "author",
         "0.25",
         "1",
         "0.004049295774647887"
        ],
        [
         "CO:102638",
         "COMISSÃO MISTA DA MPV 1172/2023",
         null,
         "Orgao",
         "author",
         "0.0",
         "1",
         "0.0"
        ],
        [
         "CO:102594",
         "COMISSÃO MISTA DA MPV 1147/2022",
         null,
         "Orgao",
         "author",
         "0.0",
         "1",
         "0.0"
        ],
        [
         "CO:102639",
         "COMISSÃO MISTA DA MPV 1173/2023",
         null,
         "Orgao",
         "author",
         "0.0",
         "1",
         "0.0"
        ],
        [
         "CO:102840",
         "COMISSÃO MISTA DA MPV 1202/2023",
         null,
         "Orgao",
         "author",
         "0.0",
         "1",
         "0.0"
        ],
        [
         "CO:102642",
         "COMISSÃO MISTA DA MPV 1174/2023",
         null,
         "Orgao",
         "author",
         "0.0",
         "1",
         "0.0"
        ],
        [
         "CO:102210",
         "COMISSÃO MISTA DA MPV 898/2019",
         null,
         "Orgao",
         "author",
         "0.0",
         "1",
         "0.0"
        ],
        [
         "CO:102211",
         "COMISSÃO MISTA DA MPV 899/2019",
         null,
         "Orgao",
         "author",
         "0.0",
         "1",
         "0.0"
        ],
        [
         "CO:102601",
         "COMISSÃO MISTA DA MPV 1154/2023",
         null,
         "Orgao",
         "author",
         "0.0",
         "1",
         "0.0"
        ],
        [
         "CO:102636",
         "COMISSÃO MISTA DA MPV 1170/2023",
         null,
         "Orgao",
         "author",
         "0.0",
         "1",
         "0.0"
        ],
        [
         "CO:102220",
         "COMISSÃO MISTA DA MPV 905/2019",
         null,
         "Orgao",
         "author",
         "0.0",
         "1",
         "0.0"
        ],
        [
         "CO:102212",
         "COMISSÃO MISTA DA MPV 900/2019",
         null,
         "Orgao",
         "author",
         "0.0",
         "1",
         "0.0"
        ]
       ],
       "shape": {
        "columns": 7,
        "rows": 46
       }
      },
      "text/html": [
       "<div>\n",
       "<style scoped>\n",
       "    .dataframe tbody tr th:only-of-type {\n",
       "        vertical-align: middle;\n",
       "    }\n",
       "\n",
       "    .dataframe tbody tr th {\n",
       "        vertical-align: top;\n",
       "    }\n",
       "\n",
       "    .dataframe thead th {\n",
       "        text-align: right;\n",
       "    }\n",
       "</style>\n",
       "<table border=\"1\" class=\"dataframe\">\n",
       "  <thead>\n",
       "    <tr style=\"text-align: right;\">\n",
       "      <th></th>\n",
       "      <th>label</th>\n",
       "      <th>partido</th>\n",
       "      <th>type</th>\n",
       "      <th>bigtype</th>\n",
       "      <th>mean_score</th>\n",
       "      <th>from_count</th>\n",
       "      <th>concave_score</th>\n",
       "    </tr>\n",
       "    <tr>\n",
       "      <th>name</th>\n",
       "      <th></th>\n",
       "      <th></th>\n",
       "      <th></th>\n",
       "      <th></th>\n",
       "      <th></th>\n",
       "      <th></th>\n",
       "      <th></th>\n",
       "    </tr>\n",
       "  </thead>\n",
       "  <tbody>\n",
       "    <tr>\n",
       "      <th>CO:100292</th>\n",
       "      <td>CÂMARA DOS DEPUTADOS</td>\n",
       "      <td>None</td>\n",
       "      <td>Orgao</td>\n",
       "      <td>author</td>\n",
       "      <td>0.953552</td>\n",
       "      <td>366</td>\n",
       "      <td>0.817830</td>\n",
       "    </tr>\n",
       "    <tr>\n",
       "      <th>CO:78</th>\n",
       "      <td>SENADO FEDERAL</td>\n",
       "      <td>None</td>\n",
       "      <td>Orgao</td>\n",
       "      <td>author</td>\n",
       "      <td>0.751398</td>\n",
       "      <td>894</td>\n",
       "      <td>0.703595</td>\n",
       "    </tr>\n",
       "    <tr>\n",
       "      <th>CO:253</th>\n",
       "      <td>PODER EXECUTIVO</td>\n",
       "      <td>None</td>\n",
       "      <td>Orgao</td>\n",
       "      <td>author</td>\n",
       "      <td>0.728618</td>\n",
       "      <td>1368</td>\n",
       "      <td>0.697643</td>\n",
       "    </tr>\n",
       "    <tr>\n",
       "      <th>CO:101131</th>\n",
       "      <td>DEFENSORIA PÚBLICA DA UNIÃO</td>\n",
       "      <td>None</td>\n",
       "      <td>Orgao</td>\n",
       "      <td>author</td>\n",
       "      <td>0.850000</td>\n",
       "      <td>10</td>\n",
       "      <td>0.120160</td>\n",
       "    </tr>\n",
       "    <tr>\n",
       "      <th>CO:57</th>\n",
       "      <td>MINISTÉRIO PÚBLICO DA UNIÃO</td>\n",
       "      <td>None</td>\n",
       "      <td>Orgao</td>\n",
       "      <td>author</td>\n",
       "      <td>0.916667</td>\n",
       "      <td>9</td>\n",
       "      <td>0.118298</td>\n",
       "    </tr>\n",
       "    <tr>\n",
       "      <th>CO:382</th>\n",
       "      <td>TRIBUNAL DE JUSTIÇA DO DISTRITO FEDERAL E DOS ...</td>\n",
       "      <td>None</td>\n",
       "      <td>Orgao</td>\n",
       "      <td>author</td>\n",
       "      <td>0.833333</td>\n",
       "      <td>9</td>\n",
       "      <td>0.107544</td>\n",
       "    </tr>\n",
       "    <tr>\n",
       "      <th>CO:80</th>\n",
       "      <td>SUPREMO TRIBUNAL FEDERAL</td>\n",
       "      <td>None</td>\n",
       "      <td>Orgao</td>\n",
       "      <td>author</td>\n",
       "      <td>0.777778</td>\n",
       "      <td>9</td>\n",
       "      <td>0.100374</td>\n",
       "    </tr>\n",
       "    <tr>\n",
       "      <th>CO:5438</th>\n",
       "      <td>COMISSÃO DE LEGISLAÇÃO PARTICIPATIVA</td>\n",
       "      <td>None</td>\n",
       "      <td>Orgao</td>\n",
       "      <td>author</td>\n",
       "      <td>0.225610</td>\n",
       "      <td>41</td>\n",
       "      <td>0.090919</td>\n",
       "    </tr>\n",
       "    <tr>\n",
       "      <th>CO:101347</th>\n",
       "      <td>PROCURADORIA-GERAL DA REPÚBLICA</td>\n",
       "      <td>None</td>\n",
       "      <td>Orgao</td>\n",
       "      <td>author</td>\n",
       "      <td>0.950000</td>\n",
       "      <td>5</td>\n",
       "      <td>0.072255</td>\n",
       "    </tr>\n",
       "    <tr>\n",
       "      <th>CO:81</th>\n",
       "      <td>SUPERIOR TRIBUNAL DE JUSTIÇA</td>\n",
       "      <td>None</td>\n",
       "      <td>Orgao</td>\n",
       "      <td>author</td>\n",
       "      <td>0.900000</td>\n",
       "      <td>5</td>\n",
       "      <td>0.068452</td>\n",
       "    </tr>\n",
       "    <tr>\n",
       "      <th>CO:101772</th>\n",
       "      <td>MPF - PGR - PROCURADORIA GERAL DA REPÚBLICA</td>\n",
       "      <td>None</td>\n",
       "      <td>Orgao</td>\n",
       "      <td>author</td>\n",
       "      <td>0.750000</td>\n",
       "      <td>4</td>\n",
       "      <td>0.046340</td>\n",
       "    </tr>\n",
       "    <tr>\n",
       "      <th>SE:7352398</th>\n",
       "      <td>CPI DA PANDEMIA</td>\n",
       "      <td>None</td>\n",
       "      <td>Orgao</td>\n",
       "      <td>author</td>\n",
       "      <td>0.550000</td>\n",
       "      <td>5</td>\n",
       "      <td>0.041832</td>\n",
       "    </tr>\n",
       "    <tr>\n",
       "      <th>CO:82</th>\n",
       "      <td>TRIBUNAL DE CONTAS DA UNIÃO</td>\n",
       "      <td>None</td>\n",
       "      <td>Orgao</td>\n",
       "      <td>author</td>\n",
       "      <td>0.625000</td>\n",
       "      <td>4</td>\n",
       "      <td>0.038617</td>\n",
       "    </tr>\n",
       "    <tr>\n",
       "      <th>SE:3947422</th>\n",
       "      <td>COMISSÃO DE DIREITOS HUMANOS E LEGISLAÇÃO PART...</td>\n",
       "      <td>None</td>\n",
       "      <td>Orgao</td>\n",
       "      <td>author</td>\n",
       "      <td>0.375000</td>\n",
       "      <td>6</td>\n",
       "      <td>0.033713</td>\n",
       "    </tr>\n",
       "    <tr>\n",
       "      <th>CO:4</th>\n",
       "      <td>MESA DIRETORA DA CÂMARA DOS DEPUTADOS</td>\n",
       "      <td>None</td>\n",
       "      <td>Orgao</td>\n",
       "      <td>author</td>\n",
       "      <td>1.000000</td>\n",
       "      <td>2</td>\n",
       "      <td>0.031878</td>\n",
       "    </tr>\n",
       "    <tr>\n",
       "      <th>CO:2014</th>\n",
       "      <td>COMISSÃO DE SAÚDE</td>\n",
       "      <td>None</td>\n",
       "      <td>Orgao</td>\n",
       "      <td>author</td>\n",
       "      <td>0.250000</td>\n",
       "      <td>8</td>\n",
       "      <td>0.029096</td>\n",
       "    </tr>\n",
       "    <tr>\n",
       "      <th>SE:3927825</th>\n",
       "      <td>COMISSÃO DE MEIO AMBIENTE</td>\n",
       "      <td>None</td>\n",
       "      <td>Orgao</td>\n",
       "      <td>author</td>\n",
       "      <td>0.750000</td>\n",
       "      <td>2</td>\n",
       "      <td>0.023909</td>\n",
       "    </tr>\n",
       "    <tr>\n",
       "      <th>SE:55226</th>\n",
       "      <td>COMISSÃO DIRETORA</td>\n",
       "      <td>None</td>\n",
       "      <td>Orgao</td>\n",
       "      <td>author</td>\n",
       "      <td>0.750000</td>\n",
       "      <td>2</td>\n",
       "      <td>0.023909</td>\n",
       "    </tr>\n",
       "    <tr>\n",
       "      <th>CO:277</th>\n",
       "      <td>TRIBUNAL SUPERIOR ELEITORAL</td>\n",
       "      <td>None</td>\n",
       "      <td>Orgao</td>\n",
       "      <td>author</td>\n",
       "      <td>0.625000</td>\n",
       "      <td>2</td>\n",
       "      <td>0.019924</td>\n",
       "    </tr>\n",
       "    <tr>\n",
       "      <th>CO:275</th>\n",
       "      <td>TRIBUNAL SUPERIOR DO TRABALHO</td>\n",
       "      <td>None</td>\n",
       "      <td>Orgao</td>\n",
       "      <td>author</td>\n",
       "      <td>0.625000</td>\n",
       "      <td>2</td>\n",
       "      <td>0.019924</td>\n",
       "    </tr>\n",
       "    <tr>\n",
       "      <th>CO:538490</th>\n",
       "      <td>COMISSÃO ESPECIAL DESTINADA A ACOMPANHAR AS AÇ...</td>\n",
       "      <td>None</td>\n",
       "      <td>Orgao</td>\n",
       "      <td>author</td>\n",
       "      <td>1.000000</td>\n",
       "      <td>1</td>\n",
       "      <td>0.016197</td>\n",
       "    </tr>\n",
       "    <tr>\n",
       "      <th>CO:6066</th>\n",
       "      <td>COMISSÃO DE TURISMO</td>\n",
       "      <td>None</td>\n",
       "      <td>Orgao</td>\n",
       "      <td>author</td>\n",
       "      <td>1.000000</td>\n",
       "      <td>1</td>\n",
       "      <td>0.016197</td>\n",
       "    </tr>\n",
       "    <tr>\n",
       "      <th>CO:539426</th>\n",
       "      <td>COMISSÃO PARLAMENTAR DE INQUÉRITO DESTINADA A ...</td>\n",
       "      <td>None</td>\n",
       "      <td>Orgao</td>\n",
       "      <td>author</td>\n",
       "      <td>0.250000</td>\n",
       "      <td>4</td>\n",
       "      <td>0.015447</td>\n",
       "    </tr>\n",
       "    <tr>\n",
       "      <th>CO:539461</th>\n",
       "      <td>COMISSÃO PARLAMENTAR DE INQUÉRITO DESTINADA A ...</td>\n",
       "      <td>None</td>\n",
       "      <td>Orgao</td>\n",
       "      <td>author</td>\n",
       "      <td>0.250000</td>\n",
       "      <td>4</td>\n",
       "      <td>0.015447</td>\n",
       "    </tr>\n",
       "    <tr>\n",
       "      <th>CO:79</th>\n",
       "      <td>SENADO FEDERAL (COMISSÃO MISTA - ART 142 E 143...</td>\n",
       "      <td>None</td>\n",
       "      <td>Orgao</td>\n",
       "      <td>author</td>\n",
       "      <td>0.750000</td>\n",
       "      <td>1</td>\n",
       "      <td>0.012148</td>\n",
       "    </tr>\n",
       "    <tr>\n",
       "      <th>CO:101582</th>\n",
       "      <td>TRIBUNAL DE CONTAS DA UNIÃO</td>\n",
       "      <td>None</td>\n",
       "      <td>Orgao</td>\n",
       "      <td>author</td>\n",
       "      <td>0.375000</td>\n",
       "      <td>2</td>\n",
       "      <td>0.011954</td>\n",
       "    </tr>\n",
       "    <tr>\n",
       "      <th>CO:2003</th>\n",
       "      <td>COMISSÃO DE CONSTITUIÇÃO E JUSTIÇA E DE CIDADANIA</td>\n",
       "      <td>None</td>\n",
       "      <td>Orgao</td>\n",
       "      <td>author</td>\n",
       "      <td>0.125000</td>\n",
       "      <td>6</td>\n",
       "      <td>0.011238</td>\n",
       "    </tr>\n",
       "    <tr>\n",
       "      <th>CO:102648</th>\n",
       "      <td>COMISSÃO PARLAMENTAR MISTA DE INQUÉRITO DOS AT...</td>\n",
       "      <td>None</td>\n",
       "      <td>Orgao</td>\n",
       "      <td>author</td>\n",
       "      <td>0.250000</td>\n",
       "      <td>2</td>\n",
       "      <td>0.007970</td>\n",
       "    </tr>\n",
       "    <tr>\n",
       "      <th>CO:5503</th>\n",
       "      <td>COMISSÃO DE SEGURANÇA PÚBLICA E COMBATE AO CRI...</td>\n",
       "      <td>None</td>\n",
       "      <td>Orgao</td>\n",
       "      <td>author</td>\n",
       "      <td>0.250000</td>\n",
       "      <td>2</td>\n",
       "      <td>0.007970</td>\n",
       "    </tr>\n",
       "    <tr>\n",
       "      <th>CO:539384</th>\n",
       "      <td>COMISSÃO DA AMAZÔNIA E DOS POVOS ORIGINÁRIOS E...</td>\n",
       "      <td>None</td>\n",
       "      <td>Orgao</td>\n",
       "      <td>author</td>\n",
       "      <td>0.250000</td>\n",
       "      <td>2</td>\n",
       "      <td>0.007970</td>\n",
       "    </tr>\n",
       "    <tr>\n",
       "      <th>CO:2001</th>\n",
       "      <td>COMISSÃO DE AGRICULTURA, PECUÁRIA, ABASTECIMEN...</td>\n",
       "      <td>None</td>\n",
       "      <td>Orgao</td>\n",
       "      <td>author</td>\n",
       "      <td>0.250000</td>\n",
       "      <td>1</td>\n",
       "      <td>0.004049</td>\n",
       "    </tr>\n",
       "    <tr>\n",
       "      <th>CO:101798</th>\n",
       "      <td>INICIATIVA POPULAR</td>\n",
       "      <td>None</td>\n",
       "      <td>Orgao</td>\n",
       "      <td>author</td>\n",
       "      <td>0.250000</td>\n",
       "      <td>1</td>\n",
       "      <td>0.004049</td>\n",
       "    </tr>\n",
       "    <tr>\n",
       "      <th>SE:7352682</th>\n",
       "      <td>FORUM NACIONAL DE COMITÊS HIDROGRÁFICAS BRASIL</td>\n",
       "      <td>None</td>\n",
       "      <td>Orgao</td>\n",
       "      <td>author</td>\n",
       "      <td>0.250000</td>\n",
       "      <td>1</td>\n",
       "      <td>0.004049</td>\n",
       "    </tr>\n",
       "    <tr>\n",
       "      <th>CO:2016</th>\n",
       "      <td>COMISSÃO DE VIAÇÃO E TRANSPORTES</td>\n",
       "      <td>None</td>\n",
       "      <td>Orgao</td>\n",
       "      <td>author</td>\n",
       "      <td>0.250000</td>\n",
       "      <td>1</td>\n",
       "      <td>0.004049</td>\n",
       "    </tr>\n",
       "    <tr>\n",
       "      <th>CO:539419</th>\n",
       "      <td>COMISSÃO ESPECIAL PARA ESTUDO, AVALIAÇÃO E ACO...</td>\n",
       "      <td>None</td>\n",
       "      <td>Orgao</td>\n",
       "      <td>author</td>\n",
       "      <td>0.250000</td>\n",
       "      <td>1</td>\n",
       "      <td>0.004049</td>\n",
       "    </tr>\n",
       "    <tr>\n",
       "      <th>CO:102638</th>\n",
       "      <td>COMISSÃO MISTA DA MPV 1172/2023</td>\n",
       "      <td>None</td>\n",
       "      <td>Orgao</td>\n",
       "      <td>author</td>\n",
       "      <td>0.000000</td>\n",
       "      <td>1</td>\n",
       "      <td>0.000000</td>\n",
       "    </tr>\n",
       "    <tr>\n",
       "      <th>CO:102594</th>\n",
       "      <td>COMISSÃO MISTA DA MPV 1147/2022</td>\n",
       "      <td>None</td>\n",
       "      <td>Orgao</td>\n",
       "      <td>author</td>\n",
       "      <td>0.000000</td>\n",
       "      <td>1</td>\n",
       "      <td>0.000000</td>\n",
       "    </tr>\n",
       "    <tr>\n",
       "      <th>CO:102639</th>\n",
       "      <td>COMISSÃO MISTA DA MPV 1173/2023</td>\n",
       "      <td>None</td>\n",
       "      <td>Orgao</td>\n",
       "      <td>author</td>\n",
       "      <td>0.000000</td>\n",
       "      <td>1</td>\n",
       "      <td>0.000000</td>\n",
       "    </tr>\n",
       "    <tr>\n",
       "      <th>CO:102840</th>\n",
       "      <td>COMISSÃO MISTA DA MPV 1202/2023</td>\n",
       "      <td>None</td>\n",
       "      <td>Orgao</td>\n",
       "      <td>author</td>\n",
       "      <td>0.000000</td>\n",
       "      <td>1</td>\n",
       "      <td>0.000000</td>\n",
       "    </tr>\n",
       "    <tr>\n",
       "      <th>CO:102642</th>\n",
       "      <td>COMISSÃO MISTA DA MPV 1174/2023</td>\n",
       "      <td>None</td>\n",
       "      <td>Orgao</td>\n",
       "      <td>author</td>\n",
       "      <td>0.000000</td>\n",
       "      <td>1</td>\n",
       "      <td>0.000000</td>\n",
       "    </tr>\n",
       "    <tr>\n",
       "      <th>CO:102210</th>\n",
       "      <td>COMISSÃO MISTA DA MPV 898/2019</td>\n",
       "      <td>None</td>\n",
       "      <td>Orgao</td>\n",
       "      <td>author</td>\n",
       "      <td>0.000000</td>\n",
       "      <td>1</td>\n",
       "      <td>0.000000</td>\n",
       "    </tr>\n",
       "    <tr>\n",
       "      <th>CO:102211</th>\n",
       "      <td>COMISSÃO MISTA DA MPV 899/2019</td>\n",
       "      <td>None</td>\n",
       "      <td>Orgao</td>\n",
       "      <td>author</td>\n",
       "      <td>0.000000</td>\n",
       "      <td>1</td>\n",
       "      <td>0.000000</td>\n",
       "    </tr>\n",
       "    <tr>\n",
       "      <th>CO:102601</th>\n",
       "      <td>COMISSÃO MISTA DA MPV 1154/2023</td>\n",
       "      <td>None</td>\n",
       "      <td>Orgao</td>\n",
       "      <td>author</td>\n",
       "      <td>0.000000</td>\n",
       "      <td>1</td>\n",
       "      <td>0.000000</td>\n",
       "    </tr>\n",
       "    <tr>\n",
       "      <th>CO:102636</th>\n",
       "      <td>COMISSÃO MISTA DA MPV 1170/2023</td>\n",
       "      <td>None</td>\n",
       "      <td>Orgao</td>\n",
       "      <td>author</td>\n",
       "      <td>0.000000</td>\n",
       "      <td>1</td>\n",
       "      <td>0.000000</td>\n",
       "    </tr>\n",
       "    <tr>\n",
       "      <th>CO:102220</th>\n",
       "      <td>COMISSÃO MISTA DA MPV 905/2019</td>\n",
       "      <td>None</td>\n",
       "      <td>Orgao</td>\n",
       "      <td>author</td>\n",
       "      <td>0.000000</td>\n",
       "      <td>1</td>\n",
       "      <td>0.000000</td>\n",
       "    </tr>\n",
       "    <tr>\n",
       "      <th>CO:102212</th>\n",
       "      <td>COMISSÃO MISTA DA MPV 900/2019</td>\n",
       "      <td>None</td>\n",
       "      <td>Orgao</td>\n",
       "      <td>author</td>\n",
       "      <td>0.000000</td>\n",
       "      <td>1</td>\n",
       "      <td>0.000000</td>\n",
       "    </tr>\n",
       "  </tbody>\n",
       "</table>\n",
       "</div>"
      ],
      "text/plain": [
       "                                                        label partido   type  \\\n",
       "name                                                                           \n",
       "CO:100292                                CÂMARA DOS DEPUTADOS    None  Orgao   \n",
       "CO:78                                          SENADO FEDERAL    None  Orgao   \n",
       "CO:253                                        PODER EXECUTIVO    None  Orgao   \n",
       "CO:101131                         DEFENSORIA PÚBLICA DA UNIÃO    None  Orgao   \n",
       "CO:57                             MINISTÉRIO PÚBLICO DA UNIÃO    None  Orgao   \n",
       "CO:382      TRIBUNAL DE JUSTIÇA DO DISTRITO FEDERAL E DOS ...    None  Orgao   \n",
       "CO:80                                SUPREMO TRIBUNAL FEDERAL    None  Orgao   \n",
       "CO:5438                  COMISSÃO DE LEGISLAÇÃO PARTICIPATIVA    None  Orgao   \n",
       "CO:101347                     PROCURADORIA-GERAL DA REPÚBLICA    None  Orgao   \n",
       "CO:81                            SUPERIOR TRIBUNAL DE JUSTIÇA    None  Orgao   \n",
       "CO:101772         MPF - PGR - PROCURADORIA GERAL DA REPÚBLICA    None  Orgao   \n",
       "SE:7352398                                    CPI DA PANDEMIA    None  Orgao   \n",
       "CO:82                             TRIBUNAL DE CONTAS DA UNIÃO    None  Orgao   \n",
       "SE:3947422  COMISSÃO DE DIREITOS HUMANOS E LEGISLAÇÃO PART...    None  Orgao   \n",
       "CO:4                    MESA DIRETORA DA CÂMARA DOS DEPUTADOS    None  Orgao   \n",
       "CO:2014                                     COMISSÃO DE SAÚDE    None  Orgao   \n",
       "SE:3927825                          COMISSÃO DE MEIO AMBIENTE    None  Orgao   \n",
       "SE:55226                                    COMISSÃO DIRETORA    None  Orgao   \n",
       "CO:277                            TRIBUNAL SUPERIOR ELEITORAL    None  Orgao   \n",
       "CO:275                          TRIBUNAL SUPERIOR DO TRABALHO    None  Orgao   \n",
       "CO:538490   COMISSÃO ESPECIAL DESTINADA A ACOMPANHAR AS AÇ...    None  Orgao   \n",
       "CO:6066                                   COMISSÃO DE TURISMO    None  Orgao   \n",
       "CO:539426   COMISSÃO PARLAMENTAR DE INQUÉRITO DESTINADA A ...    None  Orgao   \n",
       "CO:539461   COMISSÃO PARLAMENTAR DE INQUÉRITO DESTINADA A ...    None  Orgao   \n",
       "CO:79       SENADO FEDERAL (COMISSÃO MISTA - ART 142 E 143...    None  Orgao   \n",
       "CO:101582                         TRIBUNAL DE CONTAS DA UNIÃO    None  Orgao   \n",
       "CO:2003     COMISSÃO DE CONSTITUIÇÃO E JUSTIÇA E DE CIDADANIA    None  Orgao   \n",
       "CO:102648   COMISSÃO PARLAMENTAR MISTA DE INQUÉRITO DOS AT...    None  Orgao   \n",
       "CO:5503     COMISSÃO DE SEGURANÇA PÚBLICA E COMBATE AO CRI...    None  Orgao   \n",
       "CO:539384   COMISSÃO DA AMAZÔNIA E DOS POVOS ORIGINÁRIOS E...    None  Orgao   \n",
       "CO:2001     COMISSÃO DE AGRICULTURA, PECUÁRIA, ABASTECIMEN...    None  Orgao   \n",
       "CO:101798                                  INICIATIVA POPULAR    None  Orgao   \n",
       "SE:7352682     FORUM NACIONAL DE COMITÊS HIDROGRÁFICAS BRASIL    None  Orgao   \n",
       "CO:2016                      COMISSÃO DE VIAÇÃO E TRANSPORTES    None  Orgao   \n",
       "CO:539419   COMISSÃO ESPECIAL PARA ESTUDO, AVALIAÇÃO E ACO...    None  Orgao   \n",
       "CO:102638                     COMISSÃO MISTA DA MPV 1172/2023    None  Orgao   \n",
       "CO:102594                     COMISSÃO MISTA DA MPV 1147/2022    None  Orgao   \n",
       "CO:102639                     COMISSÃO MISTA DA MPV 1173/2023    None  Orgao   \n",
       "CO:102840                     COMISSÃO MISTA DA MPV 1202/2023    None  Orgao   \n",
       "CO:102642                     COMISSÃO MISTA DA MPV 1174/2023    None  Orgao   \n",
       "CO:102210                      COMISSÃO MISTA DA MPV 898/2019    None  Orgao   \n",
       "CO:102211                      COMISSÃO MISTA DA MPV 899/2019    None  Orgao   \n",
       "CO:102601                     COMISSÃO MISTA DA MPV 1154/2023    None  Orgao   \n",
       "CO:102636                     COMISSÃO MISTA DA MPV 1170/2023    None  Orgao   \n",
       "CO:102220                      COMISSÃO MISTA DA MPV 905/2019    None  Orgao   \n",
       "CO:102212                      COMISSÃO MISTA DA MPV 900/2019    None  Orgao   \n",
       "\n",
       "           bigtype  mean_score  from_count  concave_score  \n",
       "name                                                       \n",
       "CO:100292   author    0.953552         366       0.817830  \n",
       "CO:78       author    0.751398         894       0.703595  \n",
       "CO:253      author    0.728618        1368       0.697643  \n",
       "CO:101131   author    0.850000          10       0.120160  \n",
       "CO:57       author    0.916667           9       0.118298  \n",
       "CO:382      author    0.833333           9       0.107544  \n",
       "CO:80       author    0.777778           9       0.100374  \n",
       "CO:5438     author    0.225610          41       0.090919  \n",
       "CO:101347   author    0.950000           5       0.072255  \n",
       "CO:81       author    0.900000           5       0.068452  \n",
       "CO:101772   author    0.750000           4       0.046340  \n",
       "SE:7352398  author    0.550000           5       0.041832  \n",
       "CO:82       author    0.625000           4       0.038617  \n",
       "SE:3947422  author    0.375000           6       0.033713  \n",
       "CO:4        author    1.000000           2       0.031878  \n",
       "CO:2014     author    0.250000           8       0.029096  \n",
       "SE:3927825  author    0.750000           2       0.023909  \n",
       "SE:55226    author    0.750000           2       0.023909  \n",
       "CO:277      author    0.625000           2       0.019924  \n",
       "CO:275      author    0.625000           2       0.019924  \n",
       "CO:538490   author    1.000000           1       0.016197  \n",
       "CO:6066     author    1.000000           1       0.016197  \n",
       "CO:539426   author    0.250000           4       0.015447  \n",
       "CO:539461   author    0.250000           4       0.015447  \n",
       "CO:79       author    0.750000           1       0.012148  \n",
       "CO:101582   author    0.375000           2       0.011954  \n",
       "CO:2003     author    0.125000           6       0.011238  \n",
       "CO:102648   author    0.250000           2       0.007970  \n",
       "CO:5503     author    0.250000           2       0.007970  \n",
       "CO:539384   author    0.250000           2       0.007970  \n",
       "CO:2001     author    0.250000           1       0.004049  \n",
       "CO:101798   author    0.250000           1       0.004049  \n",
       "SE:7352682  author    0.250000           1       0.004049  \n",
       "CO:2016     author    0.250000           1       0.004049  \n",
       "CO:539419   author    0.250000           1       0.004049  \n",
       "CO:102638   author    0.000000           1       0.000000  \n",
       "CO:102594   author    0.000000           1       0.000000  \n",
       "CO:102639   author    0.000000           1       0.000000  \n",
       "CO:102840   author    0.000000           1       0.000000  \n",
       "CO:102642   author    0.000000           1       0.000000  \n",
       "CO:102210   author    0.000000           1       0.000000  \n",
       "CO:102211   author    0.000000           1       0.000000  \n",
       "CO:102601   author    0.000000           1       0.000000  \n",
       "CO:102636   author    0.000000           1       0.000000  \n",
       "CO:102220   author    0.000000           1       0.000000  \n",
       "CO:102212   author    0.000000           1       0.000000  "
      ]
     },
     "execution_count": 46,
     "metadata": {},
     "output_type": "execute_result"
    }
   ],
   "source": [
    "# \"Melhores\" orgaos\n",
    "author_performance_df[author_performance_df['type'].eq(\"Orgao\")].sort_values(\"concave_score\", ascending=False)"
   ]
  },
  {
   "cell_type": "markdown",
   "id": "9f2352d1",
   "metadata": {},
   "source": [
    "Tudo isso é subjetivo e depende da nossa definição de sucesso, é claro. Vamos tentar uma abordagem por grafo.\n",
    "Vamos verificar a centralidade por autovetores, usando o score das proposições como pesos nas arestas."
   ]
  },
  {
   "cell_type": "code",
   "execution_count": 47,
   "id": "d0594386",
   "metadata": {},
   "outputs": [],
   "source": [
    "\n",
    "g = build_graph(node_df, edge_df)\n"
   ]
  },
  {
   "cell_type": "markdown",
   "id": "dc1183be",
   "metadata": {},
   "source": [
    "Agora, centralidade por autovetores só funciona com grafos conexos. Vamos avaliar os componentes conectados."
   ]
  },
  {
   "cell_type": "code",
   "execution_count": 48,
   "id": "ddce05ec",
   "metadata": {},
   "outputs": [
    {
     "data": {
      "application/vnd.microsoft.datawrangler.viewer.v0+json": {
       "columns": [
        {
         "name": "index",
         "rawType": "int64",
         "type": "integer"
        },
        {
         "name": "name",
         "rawType": "object",
         "type": "string"
        },
        {
         "name": "label",
         "rawType": "object",
         "type": "string"
        },
        {
         "name": "partido",
         "rawType": "object",
         "type": "unknown"
        },
        {
         "name": "type",
         "rawType": "object",
         "type": "string"
        },
        {
         "name": "score",
         "rawType": "float64",
         "type": "float"
        },
        {
         "name": "bigtype",
         "rawType": "object",
         "type": "string"
        }
       ],
       "ref": "855940d2-4404-44eb-b835-6695646e65a6",
       "rows": [
        [
         "0",
         "CP:2187087",
         "PL 5029/2019",
         null,
         "Proposicao",
         "1.0",
         "bill"
        ],
        [
         "1",
         "CP:2190408",
         "PL 2/2019",
         null,
         "Proposicao",
         "0.25",
         "bill"
        ],
        [
         "2",
         "CP:2190417",
         "PL 10/2019",
         null,
         "Proposicao",
         "0.25",
         "bill"
        ],
        [
         "3",
         "CP:2190423",
         "PL 15/2019",
         null,
         "Proposicao",
         "0.0",
         "bill"
        ],
        [
         "4",
         "CP:2190450",
         "PL 21/2019",
         null,
         "Proposicao",
         "0.25",
         "bill"
        ],
        [
         "5",
         "CP:2190462",
         "PL 32/2019",
         null,
         "Proposicao",
         "0.25",
         "bill"
        ],
        [
         "6",
         "CP:2190472",
         "PL 39/2019",
         null,
         "Proposicao",
         "0.25",
         "bill"
        ],
        [
         "7",
         "CP:2190495",
         "PL 62/2019",
         null,
         "Proposicao",
         "0.25",
         "bill"
        ],
        [
         "8",
         "CP:2190519",
         "PL 76/2019",
         null,
         "Proposicao",
         "0.25",
         "bill"
        ],
        [
         "9",
         "CP:2190532",
         "PL 89/2019",
         null,
         "Proposicao",
         "0.25",
         "bill"
        ],
        [
         "10",
         "CP:2190556",
         "PLP 6/2019",
         null,
         "Proposicao",
         "0.25",
         "bill"
        ],
        [
         "11",
         "CP:2190579",
         "PL 119/2019",
         null,
         "Proposicao",
         "0.25",
         "bill"
        ],
        [
         "12",
         "CP:2190585",
         "PL 123/2019",
         null,
         "Proposicao",
         "1.0",
         "bill"
        ],
        [
         "13",
         "CP:2190590",
         "PL 127/2019",
         null,
         "Proposicao",
         "0.25",
         "bill"
        ],
        [
         "14",
         "CP:2190598",
         "PL 130/2019",
         null,
         "Proposicao",
         "1.0",
         "bill"
        ],
        [
         "15",
         "CP:2190603",
         "PL 135/2019",
         null,
         "Proposicao",
         "0.25",
         "bill"
        ],
        [
         "16",
         "CP:2190619",
         "PL 146/2019",
         null,
         "Proposicao",
         "0.25",
         "bill"
        ],
        [
         "17",
         "CP:2190651",
         "PL 164/2019",
         null,
         "Proposicao",
         "0.25",
         "bill"
        ],
        [
         "18",
         "CP:2190661",
         "PL 171/2019",
         null,
         "Proposicao",
         "0.25",
         "bill"
        ],
        [
         "19",
         "CP:2190692",
         "PL 185/2019",
         null,
         "Proposicao",
         "0.25",
         "bill"
        ],
        [
         "20",
         "CP:2190701",
         "PL 192/2019",
         null,
         "Proposicao",
         "0.0",
         "bill"
        ],
        [
         "21",
         "CP:2190718",
         "PL 207/2019",
         null,
         "Proposicao",
         "0.0",
         "bill"
        ],
        [
         "22",
         "CP:2190726",
         "PL 197/2019",
         null,
         "Proposicao",
         "0.25",
         "bill"
        ],
        [
         "23",
         "CP:2190729",
         "PL 213/2019",
         null,
         "Proposicao",
         "0.25",
         "bill"
        ],
        [
         "24",
         "CP:2190740",
         "PL 215/2019",
         null,
         "Proposicao",
         "0.25",
         "bill"
        ],
        [
         "25",
         "CP:2190743",
         "PL 234/2019",
         null,
         "Proposicao",
         "0.25",
         "bill"
        ],
        [
         "26",
         "CP:2190745",
         "PL 216/2019",
         null,
         "Proposicao",
         "0.25",
         "bill"
        ],
        [
         "27",
         "CP:2190748",
         "PL 217/2019",
         null,
         "Proposicao",
         "0.25",
         "bill"
        ],
        [
         "28",
         "CP:2190752",
         "PL 246/2019",
         null,
         "Proposicao",
         "0.25",
         "bill"
        ],
        [
         "29",
         "CP:2190756",
         "PL 249/2019",
         null,
         "Proposicao",
         "0.0",
         "bill"
        ],
        [
         "30",
         "CP:2190776",
         "PL 237/2019",
         null,
         "Proposicao",
         "0.25",
         "bill"
        ],
        [
         "31",
         "CP:2190781",
         "PL 290/2019",
         null,
         "Proposicao",
         "0.25",
         "bill"
        ],
        [
         "32",
         "CP:2190799",
         "PL 297/2019",
         null,
         "Proposicao",
         "0.25",
         "bill"
        ],
        [
         "33",
         "CP:2190871",
         "PL 275/2019",
         null,
         "Proposicao",
         "0.25",
         "bill"
        ],
        [
         "34",
         "CP:2190876",
         "PL 326/2019",
         null,
         "Proposicao",
         "0.0",
         "bill"
        ],
        [
         "35",
         "CP:2190899",
         "PL 343/2019",
         null,
         "Proposicao",
         "0.0",
         "bill"
        ],
        [
         "36",
         "CP:2190908",
         "PL 351/2019",
         null,
         "Proposicao",
         "0.5",
         "bill"
        ],
        [
         "37",
         "CP:2190911",
         "PL 347/2019",
         null,
         "Proposicao",
         "0.25",
         "bill"
        ],
        [
         "38",
         "CP:2190918",
         "PL 353/2019",
         null,
         "Proposicao",
         "0.25",
         "bill"
        ],
        [
         "39",
         "CP:2190984",
         "PL 362/2019",
         null,
         "Proposicao",
         "0.25",
         "bill"
        ],
        [
         "40",
         "CP:2190988",
         "PL 366/2019",
         null,
         "Proposicao",
         "0.25",
         "bill"
        ],
        [
         "41",
         "CP:2190994",
         "PL 371/2019",
         null,
         "Proposicao",
         "0.25",
         "bill"
        ],
        [
         "42",
         "CP:2191010",
         "PL 373/2019",
         null,
         "Proposicao",
         "0.25",
         "bill"
        ],
        [
         "43",
         "CP:2191030",
         "PLP 9/2019",
         null,
         "Proposicao",
         "0.0",
         "bill"
        ],
        [
         "44",
         "CP:2191045",
         "PL 379/2019",
         null,
         "Proposicao",
         "0.0",
         "bill"
        ],
        [
         "45",
         "CP:2191047",
         "PL 381/2019",
         null,
         "Proposicao",
         "0.0",
         "bill"
        ],
        [
         "46",
         "CP:2191088",
         "PL 418/2019",
         null,
         "Proposicao",
         "0.0",
         "bill"
        ],
        [
         "47",
         "CP:2191093",
         "PL 423/2019",
         null,
         "Proposicao",
         "0.25",
         "bill"
        ],
        [
         "48",
         "CP:2191094",
         "PL 424/2019",
         null,
         "Proposicao",
         "0.25",
         "bill"
        ],
        [
         "49",
         "CP:2191116",
         "PL 443/2019",
         null,
         "Proposicao",
         "0.25",
         "bill"
        ]
       ],
       "shape": {
        "columns": 6,
        "rows": 29235
       }
      },
      "text/html": [
       "<div>\n",
       "<style scoped>\n",
       "    .dataframe tbody tr th:only-of-type {\n",
       "        vertical-align: middle;\n",
       "    }\n",
       "\n",
       "    .dataframe tbody tr th {\n",
       "        vertical-align: top;\n",
       "    }\n",
       "\n",
       "    .dataframe thead th {\n",
       "        text-align: right;\n",
       "    }\n",
       "</style>\n",
       "<table border=\"1\" class=\"dataframe\">\n",
       "  <thead>\n",
       "    <tr style=\"text-align: right;\">\n",
       "      <th></th>\n",
       "      <th>name</th>\n",
       "      <th>label</th>\n",
       "      <th>partido</th>\n",
       "      <th>type</th>\n",
       "      <th>score</th>\n",
       "      <th>bigtype</th>\n",
       "    </tr>\n",
       "  </thead>\n",
       "  <tbody>\n",
       "    <tr>\n",
       "      <th>0</th>\n",
       "      <td>CP:2187087</td>\n",
       "      <td>PL 5029/2019</td>\n",
       "      <td>None</td>\n",
       "      <td>Proposicao</td>\n",
       "      <td>1.00</td>\n",
       "      <td>bill</td>\n",
       "    </tr>\n",
       "    <tr>\n",
       "      <th>1</th>\n",
       "      <td>CP:2190408</td>\n",
       "      <td>PL 2/2019</td>\n",
       "      <td>None</td>\n",
       "      <td>Proposicao</td>\n",
       "      <td>0.25</td>\n",
       "      <td>bill</td>\n",
       "    </tr>\n",
       "    <tr>\n",
       "      <th>2</th>\n",
       "      <td>CP:2190417</td>\n",
       "      <td>PL 10/2019</td>\n",
       "      <td>None</td>\n",
       "      <td>Proposicao</td>\n",
       "      <td>0.25</td>\n",
       "      <td>bill</td>\n",
       "    </tr>\n",
       "    <tr>\n",
       "      <th>3</th>\n",
       "      <td>CP:2190423</td>\n",
       "      <td>PL 15/2019</td>\n",
       "      <td>None</td>\n",
       "      <td>Proposicao</td>\n",
       "      <td>0.00</td>\n",
       "      <td>bill</td>\n",
       "    </tr>\n",
       "    <tr>\n",
       "      <th>4</th>\n",
       "      <td>CP:2190450</td>\n",
       "      <td>PL 21/2019</td>\n",
       "      <td>None</td>\n",
       "      <td>Proposicao</td>\n",
       "      <td>0.25</td>\n",
       "      <td>bill</td>\n",
       "    </tr>\n",
       "    <tr>\n",
       "      <th>...</th>\n",
       "      <td>...</td>\n",
       "      <td>...</td>\n",
       "      <td>...</td>\n",
       "      <td>...</td>\n",
       "      <td>...</td>\n",
       "      <td>...</td>\n",
       "    </tr>\n",
       "    <tr>\n",
       "      <th>29230</th>\n",
       "      <td>SE:7352398</td>\n",
       "      <td>CPI DA PANDEMIA</td>\n",
       "      <td>None</td>\n",
       "      <td>Orgao</td>\n",
       "      <td>NaN</td>\n",
       "      <td>author</td>\n",
       "    </tr>\n",
       "    <tr>\n",
       "      <th>29231</th>\n",
       "      <td>SE:55226</td>\n",
       "      <td>COMISSÃO DIRETORA</td>\n",
       "      <td>None</td>\n",
       "      <td>Orgao</td>\n",
       "      <td>NaN</td>\n",
       "      <td>author</td>\n",
       "    </tr>\n",
       "    <tr>\n",
       "      <th>29232</th>\n",
       "      <td>SE:3947422</td>\n",
       "      <td>COMISSÃO DE DIREITOS HUMANOS E LEGISLAÇÃO PART...</td>\n",
       "      <td>None</td>\n",
       "      <td>Orgao</td>\n",
       "      <td>NaN</td>\n",
       "      <td>author</td>\n",
       "    </tr>\n",
       "    <tr>\n",
       "      <th>29233</th>\n",
       "      <td>SE:3927825</td>\n",
       "      <td>COMISSÃO DE MEIO AMBIENTE</td>\n",
       "      <td>None</td>\n",
       "      <td>Orgao</td>\n",
       "      <td>NaN</td>\n",
       "      <td>author</td>\n",
       "    </tr>\n",
       "    <tr>\n",
       "      <th>29234</th>\n",
       "      <td>SE:7352682</td>\n",
       "      <td>FORUM NACIONAL DE COMITÊS HIDROGRÁFICAS BRASIL</td>\n",
       "      <td>None</td>\n",
       "      <td>Orgao</td>\n",
       "      <td>NaN</td>\n",
       "      <td>author</td>\n",
       "    </tr>\n",
       "  </tbody>\n",
       "</table>\n",
       "<p>29235 rows × 6 columns</p>\n",
       "</div>"
      ],
      "text/plain": [
       "             name                                              label partido  \\\n",
       "0      CP:2187087                                       PL 5029/2019    None   \n",
       "1      CP:2190408                                          PL 2/2019    None   \n",
       "2      CP:2190417                                         PL 10/2019    None   \n",
       "3      CP:2190423                                         PL 15/2019    None   \n",
       "4      CP:2190450                                         PL 21/2019    None   \n",
       "...           ...                                                ...     ...   \n",
       "29230  SE:7352398                                    CPI DA PANDEMIA    None   \n",
       "29231    SE:55226                                  COMISSÃO DIRETORA    None   \n",
       "29232  SE:3947422  COMISSÃO DE DIREITOS HUMANOS E LEGISLAÇÃO PART...    None   \n",
       "29233  SE:3927825                          COMISSÃO DE MEIO AMBIENTE    None   \n",
       "29234  SE:7352682     FORUM NACIONAL DE COMITÊS HIDROGRÁFICAS BRASIL    None   \n",
       "\n",
       "             type  score bigtype  \n",
       "0      Proposicao   1.00    bill  \n",
       "1      Proposicao   0.25    bill  \n",
       "2      Proposicao   0.25    bill  \n",
       "3      Proposicao   0.00    bill  \n",
       "4      Proposicao   0.25    bill  \n",
       "...           ...    ...     ...  \n",
       "29230       Orgao    NaN  author  \n",
       "29231       Orgao    NaN  author  \n",
       "29232       Orgao    NaN  author  \n",
       "29233       Orgao    NaN  author  \n",
       "29234       Orgao    NaN  author  \n",
       "\n",
       "[29235 rows x 6 columns]"
      ]
     },
     "execution_count": 48,
     "metadata": {},
     "output_type": "execute_result"
    }
   ],
   "source": [
    "node_df"
   ]
  },
  {
   "cell_type": "code",
   "execution_count": null,
   "id": "9a3c8398",
   "metadata": {},
   "outputs": [],
   "source": []
  },
  {
   "cell_type": "code",
   "execution_count": 49,
   "id": "ba9fd57b",
   "metadata": {},
   "outputs": [],
   "source": [
    "ccs = g.connected_components(\"weak\")\n",
    "\n",
    "\n",
    "node_cc_df = node_df.copy().set_index('name', drop=True)\n",
    "node_cc_df['cc_index'] = -1\n",
    "for i, cc in enumerate(ccs):\n",
    "    node_cc_df.loc[g.vs[cc]['name'], 'cc_index'] = i"
   ]
  },
  {
   "cell_type": "code",
   "execution_count": 50,
   "id": "a5eaf5b5",
   "metadata": {},
   "outputs": [
    {
     "data": {
      "application/vnd.microsoft.datawrangler.viewer.v0+json": {
       "columns": [
        {
         "name": "cc_index",
         "rawType": "int64",
         "type": "integer"
        },
        {
         "name": "size",
         "rawType": "int64",
         "type": "integer"
        },
        {
         "name": "fraction",
         "rawType": "float64",
         "type": "float"
        },
        {
         "name": "type_counts",
         "rawType": "object",
         "type": "unknown"
        },
        {
         "name": "bigtype_counts",
         "rawType": "object",
         "type": "unknown"
        }
       ],
       "ref": "d27694f7-8ce2-488a-990e-5ca54ee95062",
       "rows": [
        [
         "0",
         "27680",
         "0.9468103300838037",
         "{'Proposicao': 25596, 'Processo': 1113, 'Deputado': 848, 'Senador': 114, 'Orgao': 9}",
         "{'bill': 26709, 'author': 971}"
        ],
        [
         "5",
         "757",
         "0.025893620660167607",
         "{'Proposicao': 755, 'Orgao': 2}",
         "{'bill': 755, 'author': 2}"
        ],
        [
         "6",
         "60",
         "0.002052334530528476",
         "{'Proposicao': 59, 'Deputado': 1}",
         "{'bill': 59, 'author': 1}"
        ],
        [
         "62",
         "45",
         "0.0015392508978963571",
         "{'Proposicao': 44, 'Deputado': 1}",
         "{'bill': 44, 'author': 1}"
        ],
        [
         "13",
         "42",
         "0.0014366341713699332",
         "{'Proposicao': 41, 'Orgao': 1}",
         "{'bill': 41, 'author': 1}"
        ],
        [
         "39",
         "33",
         "0.001128783991790662",
         "{'Proposicao': 32, 'Deputado': 1}",
         "{'bill': 32, 'author': 1}"
        ],
        [
         "29",
         "31",
         "0.001060372840773046",
         "{'Proposicao': 30, 'Deputado': 1}",
         "{'bill': 30, 'author': 1}"
        ],
        [
         "21",
         "30",
         "0.001026167265264238",
         "{'Proposicao': 29, 'Deputado': 1}",
         "{'bill': 29, 'author': 1}"
        ],
        [
         "12",
         "29",
         "0.00099196168975543",
         "{'Proposicao': 28, 'Deputado': 1}",
         "{'bill': 28, 'author': 1}"
        ],
        [
         "10",
         "25",
         "0.0008551393877201984",
         "{'Proposicao': 24, 'Deputado': 1}",
         "{'bill': 24, 'author': 1}"
        ],
        [
         "14",
         "22",
         "0.0007525226611937746",
         "{'Proposicao': 21, 'Deputado': 1}",
         "{'bill': 21, 'author': 1}"
        ],
        [
         "27",
         "18",
         "0.0006157003591585428",
         "{'Proposicao': 17, 'Deputado': 1}",
         "{'bill': 17, 'author': 1}"
        ],
        [
         "53",
         "17",
         "0.000581494783649735",
         "{'Proposicao': 16, 'Deputado': 1}",
         "{'bill': 16, 'author': 1}"
        ],
        [
         "59",
         "17",
         "0.000581494783649735",
         "{'Proposicao': 16, 'Deputado': 1}",
         "{'bill': 16, 'author': 1}"
        ],
        [
         "4",
         "16",
         "0.000547289208140927",
         "{'Proposicao': 15, 'Deputado': 1}",
         "{'bill': 15, 'author': 1}"
        ],
        [
         "16",
         "15",
         "0.000513083632632119",
         "{'Proposicao': 14, 'Deputado': 1}",
         "{'bill': 14, 'author': 1}"
        ],
        [
         "25",
         "15",
         "0.000513083632632119",
         "{'Proposicao': 14, 'Deputado': 1}",
         "{'bill': 14, 'author': 1}"
        ],
        [
         "58",
         "13",
         "0.0004446724816145032",
         "{'Proposicao': 12, 'Deputado': 1}",
         "{'bill': 12, 'author': 1}"
        ],
        [
         "52",
         "12",
         "0.0004104669061056952",
         "{'Proposicao': 11, 'Deputado': 1}",
         "{'bill': 11, 'author': 1}"
        ],
        [
         "9",
         "12",
         "0.0004104669061056952",
         "{'Proposicao': 11, 'Deputado': 1}",
         "{'bill': 11, 'author': 1}"
        ],
        [
         "38",
         "11",
         "0.0003762613305968873",
         "{'Proposicao': 10, 'Deputado': 1}",
         "{'bill': 10, 'author': 1}"
        ],
        [
         "60",
         "11",
         "0.0003762613305968873",
         "{'Proposicao': 10, 'Deputado': 1}",
         "{'bill': 10, 'author': 1}"
        ],
        [
         "65",
         "10",
         "0.0003420557550880794",
         "{'Proposicao': 9, 'Deputado': 1}",
         "{'bill': 9, 'author': 1}"
        ],
        [
         "18",
         "9",
         "0.0003078501795792714",
         "{'Proposicao': 8, 'Orgao': 1}",
         "{'bill': 8, 'author': 1}"
        ],
        [
         "7",
         "9",
         "0.0003078501795792714",
         "{'Proposicao': 8, 'Deputado': 1}",
         "{'bill': 8, 'author': 1}"
        ],
        [
         "8",
         "9",
         "0.0003078501795792714",
         "{'Proposicao': 8, 'Deputado': 1}",
         "{'bill': 8, 'author': 1}"
        ],
        [
         "84",
         "9",
         "0.0003078501795792714",
         "{'Proposicao': 8, 'Deputado': 1}",
         "{'bill': 8, 'author': 1}"
        ],
        [
         "86",
         "9",
         "0.0003078501795792714",
         "{'Proposicao': 8, 'Deputado': 1}",
         "{'bill': 8, 'author': 1}"
        ],
        [
         "89",
         "8",
         "0.0002736446040704635",
         "{'Proposicao': 7, 'Deputado': 1}",
         "{'bill': 7, 'author': 1}"
        ],
        [
         "48",
         "7",
         "0.00023943902856165555",
         "{'Proposicao': 6, 'Orgao': 1}",
         "{'bill': 6, 'author': 1}"
        ],
        [
         "61",
         "7",
         "0.00023943902856165555",
         "{'Proposicao': 6, 'Deputado': 1}",
         "{'bill': 6, 'author': 1}"
        ],
        [
         "54",
         "7",
         "0.00023943902856165555",
         "{'Proposicao': 6, 'Orgao': 1}",
         "{'bill': 6, 'author': 1}"
        ],
        [
         "43",
         "7",
         "0.00023943902856165555",
         "{'Proposicao': 6, 'Orgao': 1}",
         "{'bill': 6, 'author': 1}"
        ],
        [
         "34",
         "7",
         "0.00023943902856165555",
         "{'Proposicao': 6, 'Orgao': 1}",
         "{'bill': 6, 'author': 1}"
        ],
        [
         "15",
         "7",
         "0.00023943902856165555",
         "{'Proposicao': 5, 'Orgao': 2}",
         "{'bill': 5, 'author': 2}"
        ],
        [
         "88",
         "7",
         "0.00023943902856165555",
         "{'Proposicao': 6, 'Deputado': 1}",
         "{'bill': 6, 'author': 1}"
        ],
        [
         "94",
         "7",
         "0.00023943902856165555",
         "{'Proposicao': 6, 'Deputado': 1}",
         "{'bill': 6, 'author': 1}"
        ],
        [
         "101",
         "7",
         "0.00023943902856165555",
         "{'Proposicao': 6, 'Deputado': 1}",
         "{'bill': 6, 'author': 1}"
        ],
        [
         "72",
         "7",
         "0.00023943902856165555",
         "{'Proposicao': 6, 'Deputado': 1}",
         "{'bill': 6, 'author': 1}"
        ],
        [
         "92",
         "7",
         "0.00023943902856165555",
         "{'Proposicao': 6, 'Deputado': 1}",
         "{'bill': 6, 'author': 1}"
        ],
        [
         "26",
         "6",
         "0.0002052334530528476",
         "{'Proposicao': 5, 'Orgao': 1}",
         "{'bill': 5, 'author': 1}"
        ],
        [
         "51",
         "6",
         "0.0002052334530528476",
         "{'Proposicao': 4, 'Orgao': 2}",
         "{'bill': 4, 'author': 2}"
        ],
        [
         "73",
         "6",
         "0.0002052334530528476",
         "{'Proposicao': 5, 'Deputado': 1}",
         "{'bill': 5, 'author': 1}"
        ],
        [
         "30",
         "5",
         "0.0001710278775440397",
         "{'Proposicao': 4, 'Deputado': 1}",
         "{'bill': 4, 'author': 1}"
        ],
        [
         "42",
         "5",
         "0.0001710278775440397",
         "{'Proposicao': 4, 'Deputado': 1}",
         "{'bill': 4, 'author': 1}"
        ],
        [
         "90",
         "5",
         "0.0001710278775440397",
         "{'Proposicao': 4, 'Deputado': 1}",
         "{'bill': 4, 'author': 1}"
        ],
        [
         "76",
         "5",
         "0.0001710278775440397",
         "{'Proposicao': 4, 'Orgao': 1}",
         "{'bill': 4, 'author': 1}"
        ],
        [
         "100",
         "5",
         "0.0001710278775440397",
         "{'Proposicao': 4, 'Deputado': 1}",
         "{'bill': 4, 'author': 1}"
        ],
        [
         "50",
         "5",
         "0.0001710278775440397",
         "{'Proposicao': 3, 'Orgao': 2}",
         "{'bill': 3, 'author': 2}"
        ],
        [
         "75",
         "5",
         "0.0001710278775440397",
         "{'Proposicao': 4, 'Orgao': 1}",
         "{'bill': 4, 'author': 1}"
        ]
       ],
       "shape": {
        "columns": 4,
        "rows": 102
       }
      },
      "text/html": [
       "<div>\n",
       "<style scoped>\n",
       "    .dataframe tbody tr th:only-of-type {\n",
       "        vertical-align: middle;\n",
       "    }\n",
       "\n",
       "    .dataframe tbody tr th {\n",
       "        vertical-align: top;\n",
       "    }\n",
       "\n",
       "    .dataframe thead th {\n",
       "        text-align: right;\n",
       "    }\n",
       "</style>\n",
       "<table border=\"1\" class=\"dataframe\">\n",
       "  <thead>\n",
       "    <tr style=\"text-align: right;\">\n",
       "      <th></th>\n",
       "      <th>size</th>\n",
       "      <th>fraction</th>\n",
       "      <th>type_counts</th>\n",
       "      <th>bigtype_counts</th>\n",
       "    </tr>\n",
       "    <tr>\n",
       "      <th>cc_index</th>\n",
       "      <th></th>\n",
       "      <th></th>\n",
       "      <th></th>\n",
       "      <th></th>\n",
       "    </tr>\n",
       "  </thead>\n",
       "  <tbody>\n",
       "    <tr>\n",
       "      <th>0</th>\n",
       "      <td>27680</td>\n",
       "      <td>0.946810</td>\n",
       "      <td>{'Proposicao': 25596, 'Processo': 1113, 'Deput...</td>\n",
       "      <td>{'bill': 26709, 'author': 971}</td>\n",
       "    </tr>\n",
       "    <tr>\n",
       "      <th>5</th>\n",
       "      <td>757</td>\n",
       "      <td>0.025894</td>\n",
       "      <td>{'Proposicao': 755, 'Orgao': 2}</td>\n",
       "      <td>{'bill': 755, 'author': 2}</td>\n",
       "    </tr>\n",
       "    <tr>\n",
       "      <th>6</th>\n",
       "      <td>60</td>\n",
       "      <td>0.002052</td>\n",
       "      <td>{'Proposicao': 59, 'Deputado': 1}</td>\n",
       "      <td>{'bill': 59, 'author': 1}</td>\n",
       "    </tr>\n",
       "    <tr>\n",
       "      <th>62</th>\n",
       "      <td>45</td>\n",
       "      <td>0.001539</td>\n",
       "      <td>{'Proposicao': 44, 'Deputado': 1}</td>\n",
       "      <td>{'bill': 44, 'author': 1}</td>\n",
       "    </tr>\n",
       "    <tr>\n",
       "      <th>13</th>\n",
       "      <td>42</td>\n",
       "      <td>0.001437</td>\n",
       "      <td>{'Proposicao': 41, 'Orgao': 1}</td>\n",
       "      <td>{'bill': 41, 'author': 1}</td>\n",
       "    </tr>\n",
       "    <tr>\n",
       "      <th>...</th>\n",
       "      <td>...</td>\n",
       "      <td>...</td>\n",
       "      <td>...</td>\n",
       "      <td>...</td>\n",
       "    </tr>\n",
       "    <tr>\n",
       "      <th>81</th>\n",
       "      <td>2</td>\n",
       "      <td>0.000068</td>\n",
       "      <td>{'Proposicao': 1, 'Deputado': 1}</td>\n",
       "      <td>{'bill': 1, 'author': 1}</td>\n",
       "    </tr>\n",
       "    <tr>\n",
       "      <th>70</th>\n",
       "      <td>2</td>\n",
       "      <td>0.000068</td>\n",
       "      <td>{'Proposicao': 1, 'Orgao': 1}</td>\n",
       "      <td>{'bill': 1, 'author': 1}</td>\n",
       "    </tr>\n",
       "    <tr>\n",
       "      <th>93</th>\n",
       "      <td>2</td>\n",
       "      <td>0.000068</td>\n",
       "      <td>{'Proposicao': 1, 'Deputado': 1}</td>\n",
       "      <td>{'bill': 1, 'author': 1}</td>\n",
       "    </tr>\n",
       "    <tr>\n",
       "      <th>87</th>\n",
       "      <td>2</td>\n",
       "      <td>0.000068</td>\n",
       "      <td>{'Proposicao': 1, 'Orgao': 1}</td>\n",
       "      <td>{'bill': 1, 'author': 1}</td>\n",
       "    </tr>\n",
       "    <tr>\n",
       "      <th>91</th>\n",
       "      <td>2</td>\n",
       "      <td>0.000068</td>\n",
       "      <td>{'Proposicao': 1, 'Orgao': 1}</td>\n",
       "      <td>{'bill': 1, 'author': 1}</td>\n",
       "    </tr>\n",
       "  </tbody>\n",
       "</table>\n",
       "<p>102 rows × 4 columns</p>\n",
       "</div>"
      ],
      "text/plain": [
       "           size  fraction                                        type_counts  \\\n",
       "cc_index                                                                       \n",
       "0         27680  0.946810  {'Proposicao': 25596, 'Processo': 1113, 'Deput...   \n",
       "5           757  0.025894                    {'Proposicao': 755, 'Orgao': 2}   \n",
       "6            60  0.002052                  {'Proposicao': 59, 'Deputado': 1}   \n",
       "62           45  0.001539                  {'Proposicao': 44, 'Deputado': 1}   \n",
       "13           42  0.001437                     {'Proposicao': 41, 'Orgao': 1}   \n",
       "...         ...       ...                                                ...   \n",
       "81            2  0.000068                   {'Proposicao': 1, 'Deputado': 1}   \n",
       "70            2  0.000068                      {'Proposicao': 1, 'Orgao': 1}   \n",
       "93            2  0.000068                   {'Proposicao': 1, 'Deputado': 1}   \n",
       "87            2  0.000068                      {'Proposicao': 1, 'Orgao': 1}   \n",
       "91            2  0.000068                      {'Proposicao': 1, 'Orgao': 1}   \n",
       "\n",
       "                          bigtype_counts  \n",
       "cc_index                                  \n",
       "0         {'bill': 26709, 'author': 971}  \n",
       "5             {'bill': 755, 'author': 2}  \n",
       "6              {'bill': 59, 'author': 1}  \n",
       "62             {'bill': 44, 'author': 1}  \n",
       "13             {'bill': 41, 'author': 1}  \n",
       "...                                  ...  \n",
       "81              {'bill': 1, 'author': 1}  \n",
       "70              {'bill': 1, 'author': 1}  \n",
       "93              {'bill': 1, 'author': 1}  \n",
       "87              {'bill': 1, 'author': 1}  \n",
       "91              {'bill': 1, 'author': 1}  \n",
       "\n",
       "[102 rows x 4 columns]"
      ]
     },
     "execution_count": 50,
     "metadata": {},
     "output_type": "execute_result"
    }
   ],
   "source": [
    "cc_summary_df = node_cc_df.groupby('cc_index').agg(\n",
    "    size=('cc_index', 'size'),\n",
    "    type_counts=('type', lambda x: x.value_counts().to_dict()),\n",
    "    bigtype_counts=('bigtype', lambda x: x.value_counts().to_dict())\n",
    ").sort_values('size', ascending=False)\n",
    "cc_summary_df.insert(1, 'fraction', cc_summary_df['size'] / len(node_cc_df))\n",
    "cc_summary_df"
   ]
  },
  {
   "cell_type": "markdown",
   "id": "fd1da03a",
   "metadata": {},
   "source": [
    "Vemos algumas coisas interessantes aí:\n",
    "\n",
    "* Um subgrafo conexo majoritário (94.7% dos vértices) ligando deputados, senadores, órgãos e proposições\n",
    "* Vários subgrafos pequenos ligando poucos deputados ou órgãos e poucas proposições.\n",
    "\n",
    "Vamos primeiro olhar para alguns grafos isolados."
   ]
  },
  {
   "cell_type": "code",
   "execution_count": 51,
   "id": "f88cbe23",
   "metadata": {},
   "outputs": [],
   "source": [
    "node_cc_df['bill_type'] = node_cc_df.apply(\n",
    "    lambda row: row['label'].split()[0] if row['bigtype'] == \"bill\" else None,\n",
    "    axis=1,\n",
    ")"
   ]
  },
  {
   "cell_type": "code",
   "execution_count": 52,
   "id": "76d42bc5",
   "metadata": {},
   "outputs": [
    {
     "data": {
      "application/vnd.microsoft.datawrangler.viewer.v0+json": {
       "columns": [
        {
         "name": "name",
         "rawType": "object",
         "type": "string"
        },
        {
         "name": "label",
         "rawType": "object",
         "type": "string"
        },
        {
         "name": "partido",
         "rawType": "object",
         "type": "unknown"
        },
        {
         "name": "type",
         "rawType": "object",
         "type": "string"
        },
        {
         "name": "score",
         "rawType": "float64",
         "type": "float"
        },
        {
         "name": "bigtype",
         "rawType": "object",
         "type": "string"
        },
        {
         "name": "cc_index",
         "rawType": "int64",
         "type": "integer"
        },
        {
         "name": "bill_type",
         "rawType": "object",
         "type": "string"
        }
       ],
       "ref": "f76ac972-0473-462d-b407-5c40f6f2f2b4",
       "rows": [
        [
         "CP:2187087",
         "PL 5029/2019",
         null,
         "Proposicao",
         "1.0",
         "bill",
         "0",
         "PL"
        ],
        [
         "CP:2190408",
         "PL 2/2019",
         null,
         "Proposicao",
         "0.25",
         "bill",
         "0",
         "PL"
        ],
        [
         "CP:2190417",
         "PL 10/2019",
         null,
         "Proposicao",
         "0.25",
         "bill",
         "0",
         "PL"
        ],
        [
         "CP:2190423",
         "PL 15/2019",
         null,
         "Proposicao",
         "0.0",
         "bill",
         "0",
         "PL"
        ],
        [
         "CP:2190450",
         "PL 21/2019",
         null,
         "Proposicao",
         "0.25",
         "bill",
         "0",
         "PL"
        ],
        [
         "CP:2190462",
         "PL 32/2019",
         null,
         "Proposicao",
         "0.25",
         "bill",
         "0",
         "PL"
        ],
        [
         "CP:2190472",
         "PL 39/2019",
         null,
         "Proposicao",
         "0.25",
         "bill",
         "0",
         "PL"
        ],
        [
         "CP:2190495",
         "PL 62/2019",
         null,
         "Proposicao",
         "0.25",
         "bill",
         "0",
         "PL"
        ],
        [
         "CP:2190519",
         "PL 76/2019",
         null,
         "Proposicao",
         "0.25",
         "bill",
         "0",
         "PL"
        ],
        [
         "CP:2190532",
         "PL 89/2019",
         null,
         "Proposicao",
         "0.25",
         "bill",
         "0",
         "PL"
        ],
        [
         "CP:2190556",
         "PLP 6/2019",
         null,
         "Proposicao",
         "0.25",
         "bill",
         "0",
         "PLP"
        ],
        [
         "CP:2190579",
         "PL 119/2019",
         null,
         "Proposicao",
         "0.25",
         "bill",
         "0",
         "PL"
        ],
        [
         "CP:2190585",
         "PL 123/2019",
         null,
         "Proposicao",
         "1.0",
         "bill",
         "0",
         "PL"
        ],
        [
         "CP:2190590",
         "PL 127/2019",
         null,
         "Proposicao",
         "0.25",
         "bill",
         "0",
         "PL"
        ],
        [
         "CP:2190598",
         "PL 130/2019",
         null,
         "Proposicao",
         "1.0",
         "bill",
         "0",
         "PL"
        ],
        [
         "CP:2190603",
         "PL 135/2019",
         null,
         "Proposicao",
         "0.25",
         "bill",
         "0",
         "PL"
        ],
        [
         "CP:2190619",
         "PL 146/2019",
         null,
         "Proposicao",
         "0.25",
         "bill",
         "0",
         "PL"
        ],
        [
         "CP:2190651",
         "PL 164/2019",
         null,
         "Proposicao",
         "0.25",
         "bill",
         "0",
         "PL"
        ],
        [
         "CP:2190661",
         "PL 171/2019",
         null,
         "Proposicao",
         "0.25",
         "bill",
         "0",
         "PL"
        ],
        [
         "CP:2190692",
         "PL 185/2019",
         null,
         "Proposicao",
         "0.25",
         "bill",
         "0",
         "PL"
        ],
        [
         "CP:2190701",
         "PL 192/2019",
         null,
         "Proposicao",
         "0.0",
         "bill",
         "0",
         "PL"
        ],
        [
         "CP:2190718",
         "PL 207/2019",
         null,
         "Proposicao",
         "0.0",
         "bill",
         "0",
         "PL"
        ],
        [
         "CP:2190726",
         "PL 197/2019",
         null,
         "Proposicao",
         "0.25",
         "bill",
         "0",
         "PL"
        ],
        [
         "CP:2190729",
         "PL 213/2019",
         null,
         "Proposicao",
         "0.25",
         "bill",
         "0",
         "PL"
        ],
        [
         "CP:2190740",
         "PL 215/2019",
         null,
         "Proposicao",
         "0.25",
         "bill",
         "0",
         "PL"
        ],
        [
         "CP:2190743",
         "PL 234/2019",
         null,
         "Proposicao",
         "0.25",
         "bill",
         "0",
         "PL"
        ],
        [
         "CP:2190745",
         "PL 216/2019",
         null,
         "Proposicao",
         "0.25",
         "bill",
         "0",
         "PL"
        ],
        [
         "CP:2190748",
         "PL 217/2019",
         null,
         "Proposicao",
         "0.25",
         "bill",
         "0",
         "PL"
        ],
        [
         "CP:2190752",
         "PL 246/2019",
         null,
         "Proposicao",
         "0.25",
         "bill",
         "0",
         "PL"
        ],
        [
         "CP:2190756",
         "PL 249/2019",
         null,
         "Proposicao",
         "0.0",
         "bill",
         "0",
         "PL"
        ],
        [
         "CP:2190776",
         "PL 237/2019",
         null,
         "Proposicao",
         "0.25",
         "bill",
         "0",
         "PL"
        ],
        [
         "CP:2190781",
         "PL 290/2019",
         null,
         "Proposicao",
         "0.25",
         "bill",
         "0",
         "PL"
        ],
        [
         "CP:2190799",
         "PL 297/2019",
         null,
         "Proposicao",
         "0.25",
         "bill",
         "0",
         "PL"
        ],
        [
         "CP:2190871",
         "PL 275/2019",
         null,
         "Proposicao",
         "0.25",
         "bill",
         "0",
         "PL"
        ],
        [
         "CP:2190876",
         "PL 326/2019",
         null,
         "Proposicao",
         "0.0",
         "bill",
         "0",
         "PL"
        ],
        [
         "CP:2190899",
         "PL 343/2019",
         null,
         "Proposicao",
         "0.0",
         "bill",
         "0",
         "PL"
        ],
        [
         "CP:2190908",
         "PL 351/2019",
         null,
         "Proposicao",
         "0.5",
         "bill",
         "0",
         "PL"
        ],
        [
         "CP:2190911",
         "PL 347/2019",
         null,
         "Proposicao",
         "0.25",
         "bill",
         "0",
         "PL"
        ],
        [
         "CP:2190918",
         "PL 353/2019",
         null,
         "Proposicao",
         "0.25",
         "bill",
         "0",
         "PL"
        ],
        [
         "CP:2190984",
         "PL 362/2019",
         null,
         "Proposicao",
         "0.25",
         "bill",
         "0",
         "PL"
        ],
        [
         "CP:2190988",
         "PL 366/2019",
         null,
         "Proposicao",
         "0.25",
         "bill",
         "0",
         "PL"
        ],
        [
         "CP:2190994",
         "PL 371/2019",
         null,
         "Proposicao",
         "0.25",
         "bill",
         "0",
         "PL"
        ],
        [
         "CP:2191010",
         "PL 373/2019",
         null,
         "Proposicao",
         "0.25",
         "bill",
         "0",
         "PL"
        ],
        [
         "CP:2191030",
         "PLP 9/2019",
         null,
         "Proposicao",
         "0.0",
         "bill",
         "0",
         "PLP"
        ],
        [
         "CP:2191045",
         "PL 379/2019",
         null,
         "Proposicao",
         "0.0",
         "bill",
         "0",
         "PL"
        ],
        [
         "CP:2191047",
         "PL 381/2019",
         null,
         "Proposicao",
         "0.0",
         "bill",
         "0",
         "PL"
        ],
        [
         "CP:2191088",
         "PL 418/2019",
         null,
         "Proposicao",
         "0.0",
         "bill",
         "0",
         "PL"
        ],
        [
         "CP:2191093",
         "PL 423/2019",
         null,
         "Proposicao",
         "0.25",
         "bill",
         "0",
         "PL"
        ],
        [
         "CP:2191094",
         "PL 424/2019",
         null,
         "Proposicao",
         "0.25",
         "bill",
         "0",
         "PL"
        ],
        [
         "CP:2191116",
         "PL 443/2019",
         null,
         "Proposicao",
         "0.25",
         "bill",
         "0",
         "PL"
        ]
       ],
       "shape": {
        "columns": 7,
        "rows": 28159
       }
      },
      "text/html": [
       "<div>\n",
       "<style scoped>\n",
       "    .dataframe tbody tr th:only-of-type {\n",
       "        vertical-align: middle;\n",
       "    }\n",
       "\n",
       "    .dataframe tbody tr th {\n",
       "        vertical-align: top;\n",
       "    }\n",
       "\n",
       "    .dataframe thead th {\n",
       "        text-align: right;\n",
       "    }\n",
       "</style>\n",
       "<table border=\"1\" class=\"dataframe\">\n",
       "  <thead>\n",
       "    <tr style=\"text-align: right;\">\n",
       "      <th></th>\n",
       "      <th>label</th>\n",
       "      <th>partido</th>\n",
       "      <th>type</th>\n",
       "      <th>score</th>\n",
       "      <th>bigtype</th>\n",
       "      <th>cc_index</th>\n",
       "      <th>bill_type</th>\n",
       "    </tr>\n",
       "    <tr>\n",
       "      <th>name</th>\n",
       "      <th></th>\n",
       "      <th></th>\n",
       "      <th></th>\n",
       "      <th></th>\n",
       "      <th></th>\n",
       "      <th></th>\n",
       "      <th></th>\n",
       "    </tr>\n",
       "  </thead>\n",
       "  <tbody>\n",
       "    <tr>\n",
       "      <th>CP:2187087</th>\n",
       "      <td>PL 5029/2019</td>\n",
       "      <td>None</td>\n",
       "      <td>Proposicao</td>\n",
       "      <td>1.00</td>\n",
       "      <td>bill</td>\n",
       "      <td>0</td>\n",
       "      <td>PL</td>\n",
       "    </tr>\n",
       "    <tr>\n",
       "      <th>CP:2190408</th>\n",
       "      <td>PL 2/2019</td>\n",
       "      <td>None</td>\n",
       "      <td>Proposicao</td>\n",
       "      <td>0.25</td>\n",
       "      <td>bill</td>\n",
       "      <td>0</td>\n",
       "      <td>PL</td>\n",
       "    </tr>\n",
       "    <tr>\n",
       "      <th>CP:2190417</th>\n",
       "      <td>PL 10/2019</td>\n",
       "      <td>None</td>\n",
       "      <td>Proposicao</td>\n",
       "      <td>0.25</td>\n",
       "      <td>bill</td>\n",
       "      <td>0</td>\n",
       "      <td>PL</td>\n",
       "    </tr>\n",
       "    <tr>\n",
       "      <th>CP:2190423</th>\n",
       "      <td>PL 15/2019</td>\n",
       "      <td>None</td>\n",
       "      <td>Proposicao</td>\n",
       "      <td>0.00</td>\n",
       "      <td>bill</td>\n",
       "      <td>0</td>\n",
       "      <td>PL</td>\n",
       "    </tr>\n",
       "    <tr>\n",
       "      <th>CP:2190450</th>\n",
       "      <td>PL 21/2019</td>\n",
       "      <td>None</td>\n",
       "      <td>Proposicao</td>\n",
       "      <td>0.25</td>\n",
       "      <td>bill</td>\n",
       "      <td>0</td>\n",
       "      <td>PL</td>\n",
       "    </tr>\n",
       "    <tr>\n",
       "      <th>...</th>\n",
       "      <td>...</td>\n",
       "      <td>...</td>\n",
       "      <td>...</td>\n",
       "      <td>...</td>\n",
       "      <td>...</td>\n",
       "      <td>...</td>\n",
       "      <td>...</td>\n",
       "    </tr>\n",
       "    <tr>\n",
       "      <th>SP:8753534</th>\n",
       "      <td>PLP 207/2024</td>\n",
       "      <td>None</td>\n",
       "      <td>Processo</td>\n",
       "      <td>0.00</td>\n",
       "      <td>bill</td>\n",
       "      <td>0</td>\n",
       "      <td>PLP</td>\n",
       "    </tr>\n",
       "    <tr>\n",
       "      <th>SP:8757436</th>\n",
       "      <td>PL 4629/2024</td>\n",
       "      <td>None</td>\n",
       "      <td>Processo</td>\n",
       "      <td>0.00</td>\n",
       "      <td>bill</td>\n",
       "      <td>0</td>\n",
       "      <td>PL</td>\n",
       "    </tr>\n",
       "    <tr>\n",
       "      <th>SP:8769092</th>\n",
       "      <td>PL 4813/2024</td>\n",
       "      <td>None</td>\n",
       "      <td>Processo</td>\n",
       "      <td>0.00</td>\n",
       "      <td>bill</td>\n",
       "      <td>0</td>\n",
       "      <td>PL</td>\n",
       "    </tr>\n",
       "    <tr>\n",
       "      <th>SP:8771203</th>\n",
       "      <td>PL 4833/2024</td>\n",
       "      <td>None</td>\n",
       "      <td>Processo</td>\n",
       "      <td>0.00</td>\n",
       "      <td>bill</td>\n",
       "      <td>0</td>\n",
       "      <td>PL</td>\n",
       "    </tr>\n",
       "    <tr>\n",
       "      <th>SP:8776633</th>\n",
       "      <td>PL 4919/2024</td>\n",
       "      <td>None</td>\n",
       "      <td>Processo</td>\n",
       "      <td>0.00</td>\n",
       "      <td>bill</td>\n",
       "      <td>0</td>\n",
       "      <td>PL</td>\n",
       "    </tr>\n",
       "  </tbody>\n",
       "</table>\n",
       "<p>28159 rows × 7 columns</p>\n",
       "</div>"
      ],
      "text/plain": [
       "                   label partido        type  score bigtype  cc_index  \\\n",
       "name                                                                    \n",
       "CP:2187087  PL 5029/2019    None  Proposicao   1.00    bill         0   \n",
       "CP:2190408     PL 2/2019    None  Proposicao   0.25    bill         0   \n",
       "CP:2190417    PL 10/2019    None  Proposicao   0.25    bill         0   \n",
       "CP:2190423    PL 15/2019    None  Proposicao   0.00    bill         0   \n",
       "CP:2190450    PL 21/2019    None  Proposicao   0.25    bill         0   \n",
       "...                  ...     ...         ...    ...     ...       ...   \n",
       "SP:8753534  PLP 207/2024    None    Processo   0.00    bill         0   \n",
       "SP:8757436  PL 4629/2024    None    Processo   0.00    bill         0   \n",
       "SP:8769092  PL 4813/2024    None    Processo   0.00    bill         0   \n",
       "SP:8771203  PL 4833/2024    None    Processo   0.00    bill         0   \n",
       "SP:8776633  PL 4919/2024    None    Processo   0.00    bill         0   \n",
       "\n",
       "           bill_type  \n",
       "name                  \n",
       "CP:2187087        PL  \n",
       "CP:2190408        PL  \n",
       "CP:2190417        PL  \n",
       "CP:2190423        PL  \n",
       "CP:2190450        PL  \n",
       "...              ...  \n",
       "SP:8753534       PLP  \n",
       "SP:8757436        PL  \n",
       "SP:8769092        PL  \n",
       "SP:8771203        PL  \n",
       "SP:8776633        PL  \n",
       "\n",
       "[28159 rows x 7 columns]"
      ]
     },
     "execution_count": 52,
     "metadata": {},
     "output_type": "execute_result"
    }
   ],
   "source": [
    "node_cc_df[node_cc_df['bigtype'].eq('bill')]"
   ]
  },
  {
   "cell_type": "markdown",
   "id": "fe12f17e",
   "metadata": {},
   "source": [
    "**Projetos do Poder Executivo**"
   ]
  },
  {
   "cell_type": "code",
   "execution_count": 53,
   "id": "c045fc02",
   "metadata": {},
   "outputs": [],
   "source": [
    "CC_INDEX_EXEC = 5"
   ]
  },
  {
   "cell_type": "code",
   "execution_count": 54,
   "id": "d0cc1ff3",
   "metadata": {},
   "outputs": [
    {
     "data": {
      "application/vnd.microsoft.datawrangler.viewer.v0+json": {
       "columns": [
        {
         "name": "name",
         "rawType": "object",
         "type": "string"
        },
        {
         "name": "label",
         "rawType": "object",
         "type": "string"
        },
        {
         "name": "partido",
         "rawType": "object",
         "type": "unknown"
        },
        {
         "name": "type",
         "rawType": "object",
         "type": "string"
        },
        {
         "name": "score",
         "rawType": "float64",
         "type": "float"
        },
        {
         "name": "bigtype",
         "rawType": "object",
         "type": "string"
        },
        {
         "name": "cc_index",
         "rawType": "int64",
         "type": "integer"
        },
        {
         "name": "bill_type",
         "rawType": "object",
         "type": "unknown"
        }
       ],
       "ref": "b0d3e59c-e105-41d9-b4d2-4e877fd22788",
       "rows": [
        [
         "CO:253",
         "PODER EXECUTIVO",
         null,
         "Orgao",
         null,
         "author",
         "5",
         null
        ],
        [
         "SE:7352682",
         "FORUM NACIONAL DE COMITÊS HIDROGRÁFICAS BRASIL",
         null,
         "Orgao",
         null,
         "author",
         "5",
         null
        ]
       ],
       "shape": {
        "columns": 7,
        "rows": 2
       }
      },
      "text/html": [
       "<div>\n",
       "<style scoped>\n",
       "    .dataframe tbody tr th:only-of-type {\n",
       "        vertical-align: middle;\n",
       "    }\n",
       "\n",
       "    .dataframe tbody tr th {\n",
       "        vertical-align: top;\n",
       "    }\n",
       "\n",
       "    .dataframe thead th {\n",
       "        text-align: right;\n",
       "    }\n",
       "</style>\n",
       "<table border=\"1\" class=\"dataframe\">\n",
       "  <thead>\n",
       "    <tr style=\"text-align: right;\">\n",
       "      <th></th>\n",
       "      <th>label</th>\n",
       "      <th>partido</th>\n",
       "      <th>type</th>\n",
       "      <th>score</th>\n",
       "      <th>bigtype</th>\n",
       "      <th>cc_index</th>\n",
       "      <th>bill_type</th>\n",
       "    </tr>\n",
       "    <tr>\n",
       "      <th>name</th>\n",
       "      <th></th>\n",
       "      <th></th>\n",
       "      <th></th>\n",
       "      <th></th>\n",
       "      <th></th>\n",
       "      <th></th>\n",
       "      <th></th>\n",
       "    </tr>\n",
       "  </thead>\n",
       "  <tbody>\n",
       "    <tr>\n",
       "      <th>CO:253</th>\n",
       "      <td>PODER EXECUTIVO</td>\n",
       "      <td>None</td>\n",
       "      <td>Orgao</td>\n",
       "      <td>NaN</td>\n",
       "      <td>author</td>\n",
       "      <td>5</td>\n",
       "      <td>None</td>\n",
       "    </tr>\n",
       "    <tr>\n",
       "      <th>SE:7352682</th>\n",
       "      <td>FORUM NACIONAL DE COMITÊS HIDROGRÁFICAS BRASIL</td>\n",
       "      <td>None</td>\n",
       "      <td>Orgao</td>\n",
       "      <td>NaN</td>\n",
       "      <td>author</td>\n",
       "      <td>5</td>\n",
       "      <td>None</td>\n",
       "    </tr>\n",
       "  </tbody>\n",
       "</table>\n",
       "</div>"
      ],
      "text/plain": [
       "                                                     label partido   type  \\\n",
       "name                                                                        \n",
       "CO:253                                     PODER EXECUTIVO    None  Orgao   \n",
       "SE:7352682  FORUM NACIONAL DE COMITÊS HIDROGRÁFICAS BRASIL    None  Orgao   \n",
       "\n",
       "            score bigtype  cc_index bill_type  \n",
       "name                                           \n",
       "CO:253        NaN  author         5      None  \n",
       "SE:7352682    NaN  author         5      None  "
      ]
     },
     "execution_count": 54,
     "metadata": {},
     "output_type": "execute_result"
    }
   ],
   "source": [
    "node_cc_df[(node_cc_df['cc_index'].eq(CC_INDEX_EXEC))&(node_cc_df['bigtype'].eq('author'))]"
   ]
  },
  {
   "cell_type": "code",
   "execution_count": 55,
   "id": "b0fe099b",
   "metadata": {},
   "outputs": [
    {
     "data": {
      "application/vnd.microsoft.datawrangler.viewer.v0+json": {
       "columns": [
        {
         "name": "bill_type",
         "rawType": "object",
         "type": "string"
        },
        {
         "name": "count",
         "rawType": "int64",
         "type": "integer"
        }
       ],
       "ref": "5a3fef24-7236-4616-b141-5b7e0985fc5d",
       "rows": [
        [
         "MPV",
         "400"
        ],
        [
         "PLN",
         "210"
        ],
        [
         "PL",
         "123"
        ],
        [
         "PLP",
         "18"
        ],
        [
         "PEC",
         "4"
        ]
       ],
       "shape": {
        "columns": 1,
        "rows": 5
       }
      },
      "text/plain": [
       "bill_type\n",
       "MPV    400\n",
       "PLN    210\n",
       "PL     123\n",
       "PLP     18\n",
       "PEC      4\n",
       "Name: count, dtype: int64"
      ]
     },
     "execution_count": 55,
     "metadata": {},
     "output_type": "execute_result"
    }
   ],
   "source": [
    "node_cc_df[(node_cc_df['cc_index'].eq(CC_INDEX_EXEC))&(node_cc_df['bigtype'].eq('bill'))].value_counts('bill_type')"
   ]
  },
  {
   "cell_type": "code",
   "execution_count": 56,
   "id": "d5ea0657",
   "metadata": {},
   "outputs": [
    {
     "data": {
      "application/vnd.microsoft.datawrangler.viewer.v0+json": {
       "columns": [
        {
         "name": "score",
         "rawType": "float64",
         "type": "float"
        },
        {
         "name": "count",
         "rawType": "int64",
         "type": "integer"
        }
       ],
       "ref": "796154b6-f692-49f5-abd4-07bc2d8a8af8",
       "rows": [
        [
         "1.0",
         "311"
        ],
        [
         "0.75",
         "206"
        ],
        [
         "0.25",
         "137"
        ],
        [
         "0.0",
         "77"
        ],
        [
         "0.5",
         "24"
        ]
       ],
       "shape": {
        "columns": 1,
        "rows": 5
       }
      },
      "text/plain": [
       "score\n",
       "1.00    311\n",
       "0.75    206\n",
       "0.25    137\n",
       "0.00     77\n",
       "0.50     24\n",
       "Name: count, dtype: int64"
      ]
     },
     "execution_count": 56,
     "metadata": {},
     "output_type": "execute_result"
    }
   ],
   "source": [
    "node_cc_df[(node_cc_df['cc_index'].eq(CC_INDEX_EXEC))&(node_cc_df['bigtype'].eq('bill'))].value_counts('score')"
   ]
  },
  {
   "cell_type": "markdown",
   "id": "ded95d2f",
   "metadata": {},
   "source": [
    "Outro subgrafo interessante é o da Comissão de Legislação Participativa"
   ]
  },
  {
   "cell_type": "code",
   "execution_count": 57,
   "id": "995989d6",
   "metadata": {},
   "outputs": [],
   "source": [
    "CC_INDEX_CLP = 13"
   ]
  },
  {
   "cell_type": "code",
   "execution_count": 58,
   "id": "22d198a6",
   "metadata": {},
   "outputs": [
    {
     "data": {
      "application/vnd.microsoft.datawrangler.viewer.v0+json": {
       "columns": [
        {
         "name": "name",
         "rawType": "object",
         "type": "string"
        },
        {
         "name": "label",
         "rawType": "object",
         "type": "string"
        },
        {
         "name": "partido",
         "rawType": "object",
         "type": "unknown"
        },
        {
         "name": "type",
         "rawType": "object",
         "type": "string"
        },
        {
         "name": "score",
         "rawType": "float64",
         "type": "float"
        },
        {
         "name": "bigtype",
         "rawType": "object",
         "type": "string"
        },
        {
         "name": "cc_index",
         "rawType": "int64",
         "type": "integer"
        },
        {
         "name": "bill_type",
         "rawType": "object",
         "type": "unknown"
        }
       ],
       "ref": "178d1d9c-c8c4-4ae0-ac7d-fc6140bcc941",
       "rows": [
        [
         "CO:5438",
         "COMISSÃO DE LEGISLAÇÃO PARTICIPATIVA",
         null,
         "Orgao",
         null,
         "author",
         "13",
         null
        ]
       ],
       "shape": {
        "columns": 7,
        "rows": 1
       }
      },
      "text/html": [
       "<div>\n",
       "<style scoped>\n",
       "    .dataframe tbody tr th:only-of-type {\n",
       "        vertical-align: middle;\n",
       "    }\n",
       "\n",
       "    .dataframe tbody tr th {\n",
       "        vertical-align: top;\n",
       "    }\n",
       "\n",
       "    .dataframe thead th {\n",
       "        text-align: right;\n",
       "    }\n",
       "</style>\n",
       "<table border=\"1\" class=\"dataframe\">\n",
       "  <thead>\n",
       "    <tr style=\"text-align: right;\">\n",
       "      <th></th>\n",
       "      <th>label</th>\n",
       "      <th>partido</th>\n",
       "      <th>type</th>\n",
       "      <th>score</th>\n",
       "      <th>bigtype</th>\n",
       "      <th>cc_index</th>\n",
       "      <th>bill_type</th>\n",
       "    </tr>\n",
       "    <tr>\n",
       "      <th>name</th>\n",
       "      <th></th>\n",
       "      <th></th>\n",
       "      <th></th>\n",
       "      <th></th>\n",
       "      <th></th>\n",
       "      <th></th>\n",
       "      <th></th>\n",
       "    </tr>\n",
       "  </thead>\n",
       "  <tbody>\n",
       "    <tr>\n",
       "      <th>CO:5438</th>\n",
       "      <td>COMISSÃO DE LEGISLAÇÃO PARTICIPATIVA</td>\n",
       "      <td>None</td>\n",
       "      <td>Orgao</td>\n",
       "      <td>NaN</td>\n",
       "      <td>author</td>\n",
       "      <td>13</td>\n",
       "      <td>None</td>\n",
       "    </tr>\n",
       "  </tbody>\n",
       "</table>\n",
       "</div>"
      ],
      "text/plain": [
       "                                        label partido   type  score bigtype  \\\n",
       "name                                                                          \n",
       "CO:5438  COMISSÃO DE LEGISLAÇÃO PARTICIPATIVA    None  Orgao    NaN  author   \n",
       "\n",
       "         cc_index bill_type  \n",
       "name                         \n",
       "CO:5438        13      None  "
      ]
     },
     "execution_count": 58,
     "metadata": {},
     "output_type": "execute_result"
    }
   ],
   "source": [
    "node_cc_df[(node_cc_df['cc_index'].eq(CC_INDEX_CLP))&(node_cc_df['bigtype'].eq('author'))]"
   ]
  },
  {
   "cell_type": "code",
   "execution_count": 59,
   "id": "183babf0",
   "metadata": {},
   "outputs": [
    {
     "data": {
      "application/vnd.microsoft.datawrangler.viewer.v0+json": {
       "columns": [
        {
         "name": "bill_type",
         "rawType": "object",
         "type": "string"
        },
        {
         "name": "count",
         "rawType": "int64",
         "type": "integer"
        }
       ],
       "ref": "06fd26b5-cb79-47d2-8a6f-d1e4eee9fc31",
       "rows": [
        [
         "PL",
         "39"
        ],
        [
         "PLP",
         "2"
        ]
       ],
       "shape": {
        "columns": 1,
        "rows": 2
       }
      },
      "text/plain": [
       "bill_type\n",
       "PL     39\n",
       "PLP     2\n",
       "Name: count, dtype: int64"
      ]
     },
     "execution_count": 59,
     "metadata": {},
     "output_type": "execute_result"
    }
   ],
   "source": [
    "node_cc_df[(node_cc_df['cc_index'].eq(CC_INDEX_CLP))&(node_cc_df['bigtype'].eq('bill'))].value_counts('bill_type')"
   ]
  },
  {
   "cell_type": "code",
   "execution_count": 60,
   "id": "9b976602",
   "metadata": {},
   "outputs": [
    {
     "data": {
      "application/vnd.microsoft.datawrangler.viewer.v0+json": {
       "columns": [
        {
         "name": "score",
         "rawType": "float64",
         "type": "float"
        },
        {
         "name": "count",
         "rawType": "int64",
         "type": "integer"
        }
       ],
       "ref": "bccba655-38b6-4e07-9da0-8697ef4ff841",
       "rows": [
        [
         "0.25",
         "37"
        ],
        [
         "0.0",
         "4"
        ]
       ],
       "shape": {
        "columns": 1,
        "rows": 2
       }
      },
      "text/plain": [
       "score\n",
       "0.25    37\n",
       "0.00     4\n",
       "Name: count, dtype: int64"
      ]
     },
     "execution_count": 60,
     "metadata": {},
     "output_type": "execute_result"
    }
   ],
   "source": [
    "node_cc_df[(node_cc_df['cc_index'].eq(CC_INDEX_CLP))&(node_cc_df['bigtype'].eq('bill'))].value_counts('score')"
   ]
  },
  {
   "cell_type": "markdown",
   "id": "938fe9aa",
   "metadata": {},
   "source": [
    "Ou seja, nenhuma surpresa aí.\n",
    "\n",
    "Vejamos quem são os parlamentares campeões em propor projetos de lei sem colaborar com mais ninguém."
   ]
  },
  {
   "cell_type": "code",
   "execution_count": 61,
   "id": "f73bf7f2",
   "metadata": {},
   "outputs": [
    {
     "data": {
      "application/vnd.microsoft.datawrangler.viewer.v0+json": {
       "columns": [
        {
         "name": "index",
         "rawType": "object",
         "type": "string"
        },
        {
         "name": "label",
         "rawType": "object",
         "type": "string"
        },
        {
         "name": "partido",
         "rawType": "object",
         "type": "string"
        },
        {
         "name": "type",
         "rawType": "object",
         "type": "string"
        },
        {
         "name": "desempenho_medio",
         "rawType": "float64",
         "type": "float"
        },
        {
         "name": "n_proposicoes",
         "rawType": "int64",
         "type": "integer"
        }
       ],
       "ref": "14300ecf-10cd-4df2-9b61-606c7a9704cd",
       "rows": [
        [
         "CD:204397",
         "EMERSON MIGUEL PETRIV",
         "PROS/PR",
         "Deputado",
         "0.2",
         "59"
        ],
        [
         "CD:220653",
         "FÁBIO EDUARDO DE OLIVEIRA TERUEL",
         "MDB/SP",
         "Deputado",
         "0.21",
         "44"
        ],
        [
         "CD:122195",
         "LEONARDO DE MELO GADELHA",
         "PODE/PB",
         "Deputado",
         "0.18",
         "32"
        ],
        [
         "CD:213856",
         "FRANCISCO DEUZINHO DE OLIVEIRA FILHO",
         "PROS/CE",
         "Deputado",
         "0.22",
         "30"
        ],
        [
         "CD:204564",
         "ANDERSON MACHADO DE JESUS",
         "DEM/BA",
         "Deputado",
         "0.21",
         "29"
        ],
        [
         "CD:178948",
         "CARLOS ALBERTO DE SOUSA ROSADO SEGUNDO",
         "PP/RN",
         "Deputado",
         "0.21",
         "28"
        ],
        [
         "CD:204446",
         "JOZIEL FERREIRA CARLOS",
         "PSL/RJ",
         "Deputado",
         "0.2",
         "24"
        ],
        [
         "CD:121948",
         "ADRIANO ANTÔNIO AVELAR",
         "PP/GO",
         "Deputado",
         "0.23",
         "21"
        ],
        [
         "CD:160552",
         "DANRLEI DE DEUS HINTERHOLZ",
         "PSD/RS",
         "Deputado",
         "0.26",
         "17"
        ],
        [
         "CD:214865",
         "JOCEVAL RODRIGUES DOS SANTOS",
         "CIDADANIA/BA",
         "Deputado",
         "0.25",
         "16"
        ],
        [
         "CD:220577",
         "JOSÉ AUGUSTO PUPPIO REIS JÚNIOR",
         "MDB/AP",
         "Deputado",
         "0.23",
         "16"
        ],
        [
         "CD:204447",
         "FLORDELIS DOS SANTOS DE SOUZA",
         "PSD/RJ",
         "Deputado",
         "0.22",
         "15"
        ],
        [
         "CD:212625",
         "ANTONIO ELIZABETH GONÇALO DE SOUSA",
         "PODE/MA",
         "Deputado",
         "0.21",
         "14"
        ],
        [
         "CD:92699",
         "FERNANDO MONTEIRO DE ALBUQUERQUE",
         "PP/PE",
         "Deputado",
         "0.23",
         "14"
        ],
        [
         "CD:220681",
         "FÁBIO HENRIQUE DIAS DE  MACEDO",
         "PODE/MA",
         "Deputado",
         "0.23",
         "12"
        ],
        [
         "CD:211866",
         "FABIANO GALLETTI TOLENTINO",
         "CIDADANIA/MG",
         "Deputado",
         "0.16",
         "11"
        ],
        [
         "CD:219599",
         "FRANCISCO ALEXANDRE FILHO",
         "PODE/SP",
         "Deputado",
         "0.16",
         "11"
        ],
        [
         "CD:220585",
         "FRANCISCO EMERSON ASSIS DE LUCENA",
         "PP/PB",
         "Deputado",
         "0.18",
         "10"
        ],
        [
         "CD:215045",
         "PEDRO AUGUSTO PALARETI",
         "PSD/RJ",
         "Deputado",
         "0.22",
         "10"
        ],
        [
         "CD:225730",
         "ANA PAULA BRANDÃO DA SILVA FARIAS",
         "PDT/CE",
         "Deputado",
         "0.25",
         "9"
        ],
        [
         "CD:100689",
         "OSMARILDO ALVES DE SOUSA",
         "REPUBLICANOS/GO",
         "Deputado",
         "0.25",
         "8"
        ],
        [
         "CD:115200",
         "ROBERTO RANIERY DE AQUINO PAULINO",
         "REPUBLICANOS/PB",
         "Deputado",
         "0.25",
         "8"
        ],
        [
         "CD:160532",
         "ADRIANO ELI CORRÊA",
         "DEM/SP",
         "Deputado",
         "0.19",
         "8"
        ],
        [
         "CD:204385",
         "JOSÉ VALDEVAN DE JESUS SANTOS",
         "PSC/SE",
         "Deputado",
         "0.16",
         "8"
        ],
        [
         "CD:182146",
         "WOLMER DE AZEVEDO ARAUJO",
         "PATRIOTA/MA",
         "Deputado",
         "0.21",
         "7"
        ],
        [
         "CD:226410",
         "MÁRCIO AURÉLIO CORRÊA",
         "MDB/GO",
         "Deputado",
         "0.25",
         "6"
        ],
        [
         "CD:228797",
         "JÚLIO DA SILVA OLIVEIRA",
         "PP/TO",
         "Deputado",
         "0.21",
         "6"
        ],
        [
         "CD:73806",
         "ROSEANA SARNEY MURAD",
         "MDB/MA",
         "Deputado",
         "0.21",
         "6"
        ],
        [
         "CD:223398",
         "ULISSES SUAID PORTO GUIMARÃES BORGES",
         "MDB/MG",
         "Deputado",
         "0.25",
         "6"
        ],
        [
         "CD:227323",
         "LUCIANO RODRIGUES SEIDEL",
         "PL/MA",
         "Deputado",
         "0.21",
         "6"
        ],
        [
         "CD:229585",
         "ELISANGELA DOS SANTOS ARAUJO",
         "PT/BA",
         "Deputado",
         "0.21",
         "6"
        ],
        [
         "CD:225727",
         "ANA FLÁVIA RODRIGUES RAMIRO",
         "MDB/MT",
         "Deputado",
         "0.25",
         "5"
        ],
        [
         "CD:214445",
         "NILSON FRANCISCO STAINSACK",
         "PP/SC",
         "Deputado",
         "0.25",
         "4"
        ],
        [
         "CD:217036",
         "HENRIQUE STEIN SCIASCIO",
         "PRB/SP",
         "Deputado",
         "0.12",
         "4"
        ],
        [
         "CD:230177",
         "TADEU MAGELA DE OLIVEIRA",
         "PL/CE",
         "Deputado",
         "0.25",
         "4"
        ],
        [
         "CD:216544",
         "PAULO VICENTE CALEFFI",
         "PSD/RS",
         "Deputado",
         "0.25",
         "4"
        ],
        [
         "CD:227800",
         "DUARTE EUSTÁQUIO GONÇALVES JUNIOR",
         "REPUBLICANOS/MG",
         "Deputado",
         "0.19",
         "4"
        ],
        [
         "CD:112437",
         "JOÃO MARCELO SANTOS SOUZA",
         "MDB/MA",
         "Deputado",
         "0.25",
         "3"
        ],
        [
         "CD:73808",
         "SÉRGIO LUÍS LACERDA BRITO",
         "PSD/BA",
         "Deputado",
         "0.17",
         "3"
        ],
        [
         "CD:141487",
         "LUIZ FERNANDO RAMOS FARIA",
         "PSD/MG",
         "Deputado",
         "0.17",
         "3"
        ],
        [
         "CD:226553",
         "FRANCISCA ELIANE BRAZ DE CARVALHO",
         "PSD/CE",
         "Deputado",
         "0.25",
         "3"
        ],
        [
         "CD:229069",
         "SAMUEL ALVES BARRETO",
         "PP/SE",
         "Deputado",
         "0.25",
         "3"
        ],
        [
         "CD:195866",
         "FRANCISCO VAIDON OLIVEIRA",
         "UNIÃO/CE",
         "Deputado",
         "0.17",
         "3"
        ],
        [
         "CD:229432",
         "LUIZ FERNANDO CARDOSO",
         "MDB/SC",
         "Deputado",
         "0.25",
         "2"
        ],
        [
         "CD:74254",
         "LEONARDO CARNEIRO MONTEIRO PICCIANI",
         "MDB/RJ",
         "Deputado",
         "0.25",
         "2"
        ],
        [
         "CD:227275",
         "TACILLA MARIANA CARVALHO SILVA",
         "REPUBLICANOS/MA",
         "Deputado",
         "0.25",
         "2"
        ],
        [
         "CD:227324",
         "HENRIQUE CESAR FERREIRA DE MELO LIMA JUNIOR",
         "PL/MA",
         "Deputado",
         "0.25",
         "2"
        ],
        [
         "CD:212749",
         "MARCUS WELBER GOMES DA SILVA",
         "PR/RJ",
         "Deputado",
         "0.12",
         "2"
        ],
        [
         "CD:228272",
         "DELIO PINHEIRO NETO",
         "PDT/MG",
         "Deputado",
         "0.25",
         "2"
        ],
        [
         "CD:73584",
         "ANTONIO CARLOS DE MENDES THAME",
         "PV/SP",
         "Deputado",
         "0.62",
         "2"
        ]
       ],
       "shape": {
        "columns": 5,
        "rows": 68
       }
      },
      "text/html": [
       "<div>\n",
       "<style scoped>\n",
       "    .dataframe tbody tr th:only-of-type {\n",
       "        vertical-align: middle;\n",
       "    }\n",
       "\n",
       "    .dataframe tbody tr th {\n",
       "        vertical-align: top;\n",
       "    }\n",
       "\n",
       "    .dataframe thead th {\n",
       "        text-align: right;\n",
       "    }\n",
       "</style>\n",
       "<table border=\"1\" class=\"dataframe\">\n",
       "  <thead>\n",
       "    <tr style=\"text-align: right;\">\n",
       "      <th></th>\n",
       "      <th>label</th>\n",
       "      <th>partido</th>\n",
       "      <th>type</th>\n",
       "      <th>desempenho_medio</th>\n",
       "      <th>n_proposicoes</th>\n",
       "    </tr>\n",
       "  </thead>\n",
       "  <tbody>\n",
       "    <tr>\n",
       "      <th>CD:204397</th>\n",
       "      <td>EMERSON MIGUEL PETRIV</td>\n",
       "      <td>PROS/PR</td>\n",
       "      <td>Deputado</td>\n",
       "      <td>0.20</td>\n",
       "      <td>59</td>\n",
       "    </tr>\n",
       "    <tr>\n",
       "      <th>CD:220653</th>\n",
       "      <td>FÁBIO EDUARDO DE OLIVEIRA TERUEL</td>\n",
       "      <td>MDB/SP</td>\n",
       "      <td>Deputado</td>\n",
       "      <td>0.21</td>\n",
       "      <td>44</td>\n",
       "    </tr>\n",
       "    <tr>\n",
       "      <th>CD:122195</th>\n",
       "      <td>LEONARDO DE MELO GADELHA</td>\n",
       "      <td>PODE/PB</td>\n",
       "      <td>Deputado</td>\n",
       "      <td>0.18</td>\n",
       "      <td>32</td>\n",
       "    </tr>\n",
       "    <tr>\n",
       "      <th>CD:213856</th>\n",
       "      <td>FRANCISCO DEUZINHO DE OLIVEIRA FILHO</td>\n",
       "      <td>PROS/CE</td>\n",
       "      <td>Deputado</td>\n",
       "      <td>0.22</td>\n",
       "      <td>30</td>\n",
       "    </tr>\n",
       "    <tr>\n",
       "      <th>CD:204564</th>\n",
       "      <td>ANDERSON MACHADO DE JESUS</td>\n",
       "      <td>DEM/BA</td>\n",
       "      <td>Deputado</td>\n",
       "      <td>0.21</td>\n",
       "      <td>29</td>\n",
       "    </tr>\n",
       "    <tr>\n",
       "      <th>...</th>\n",
       "      <td>...</td>\n",
       "      <td>...</td>\n",
       "      <td>...</td>\n",
       "      <td>...</td>\n",
       "      <td>...</td>\n",
       "    </tr>\n",
       "    <tr>\n",
       "      <th>CD:213854</th>\n",
       "      <td>AGRIPINO RODRIGUES GOMES MAGALHÃES</td>\n",
       "      <td>UNIÃO/CE</td>\n",
       "      <td>Deputado</td>\n",
       "      <td>0.25</td>\n",
       "      <td>1</td>\n",
       "    </tr>\n",
       "    <tr>\n",
       "      <th>CD:74570</th>\n",
       "      <td>JUTAHY MAGALHÃES JÚNIOR</td>\n",
       "      <td>PSDB/BA</td>\n",
       "      <td>Deputado</td>\n",
       "      <td>0.25</td>\n",
       "      <td>1</td>\n",
       "    </tr>\n",
       "    <tr>\n",
       "      <th>CD:74124</th>\n",
       "      <td>MARÇAL GONÇALVES LEITE FILHO</td>\n",
       "      <td>PMDB/MS</td>\n",
       "      <td>Deputado</td>\n",
       "      <td>0.25</td>\n",
       "      <td>1</td>\n",
       "    </tr>\n",
       "    <tr>\n",
       "      <th>CD:105534</th>\n",
       "      <td>ALEXANDRE BRITO DE FIGUEIREDO</td>\n",
       "      <td>MDB/SE</td>\n",
       "      <td>Deputado</td>\n",
       "      <td>0.25</td>\n",
       "      <td>1</td>\n",
       "    </tr>\n",
       "    <tr>\n",
       "      <th>CD:218245</th>\n",
       "      <td>JORIELSON BRITO NASCIMENTO</td>\n",
       "      <td>PR/AP</td>\n",
       "      <td>Deputado</td>\n",
       "      <td>0.25</td>\n",
       "      <td>1</td>\n",
       "    </tr>\n",
       "  </tbody>\n",
       "</table>\n",
       "<p>68 rows × 5 columns</p>\n",
       "</div>"
      ],
      "text/plain": [
       "                                          label   partido      type  \\\n",
       "CD:204397                 EMERSON MIGUEL PETRIV   PROS/PR  Deputado   \n",
       "CD:220653      FÁBIO EDUARDO DE OLIVEIRA TERUEL    MDB/SP  Deputado   \n",
       "CD:122195              LEONARDO DE MELO GADELHA   PODE/PB  Deputado   \n",
       "CD:213856  FRANCISCO DEUZINHO DE OLIVEIRA FILHO   PROS/CE  Deputado   \n",
       "CD:204564             ANDERSON MACHADO DE JESUS    DEM/BA  Deputado   \n",
       "...                                         ...       ...       ...   \n",
       "CD:213854    AGRIPINO RODRIGUES GOMES MAGALHÃES  UNIÃO/CE  Deputado   \n",
       "CD:74570                JUTAHY MAGALHÃES JÚNIOR   PSDB/BA  Deputado   \n",
       "CD:74124           MARÇAL GONÇALVES LEITE FILHO   PMDB/MS  Deputado   \n",
       "CD:105534         ALEXANDRE BRITO DE FIGUEIREDO    MDB/SE  Deputado   \n",
       "CD:218245            JORIELSON BRITO NASCIMENTO     PR/AP  Deputado   \n",
       "\n",
       "           desempenho_medio  n_proposicoes  \n",
       "CD:204397              0.20             59  \n",
       "CD:220653              0.21             44  \n",
       "CD:122195              0.18             32  \n",
       "CD:213856              0.22             30  \n",
       "CD:204564              0.21             29  \n",
       "...                     ...            ...  \n",
       "CD:213854              0.25              1  \n",
       "CD:74570               0.25              1  \n",
       "CD:74124               0.25              1  \n",
       "CD:105534              0.25              1  \n",
       "CD:218245              0.25              1  \n",
       "\n",
       "[68 rows x 5 columns]"
      ]
     },
     "execution_count": 61,
     "metadata": {},
     "output_type": "execute_result"
    }
   ],
   "source": [
    "def filter_isolates(tcounts: dict):\n",
    "    return len(tcounts) == 2 and (\n",
    "        tcounts.get('Deputado', 0) == 1\n",
    "        or tcounts.get('Senador', 0) == 1\n",
    "    )\n",
    "    \n",
    "\n",
    "\n",
    "isolates_df = node_cc_df[\n",
    "    (node_cc_df['cc_index'].isin(cc_summary_df[cc_summary_df['type_counts'].apply(filter_isolates)].index))\n",
    "    & (node_cc_df['bigtype'].eq('author'))\n",
    "].join(edge_df.groupby('from').agg({'weight': 'mean', 'to': 'count'}), how=\"inner\")[[\n",
    "    'label', 'partido', 'type', 'weight', 'to',\n",
    "]].rename(columns={'weight': 'desempenho_medio', 'to': 'n_proposicoes'}).sort_values('n_proposicoes', ascending=False)\n",
    "isolates_df['desempenho_medio'] = round(isolates_df['desempenho_medio'], 2)\n",
    "isolates_df\n"
   ]
  },
  {
   "cell_type": "markdown",
   "id": "5661bf1e",
   "metadata": {},
   "source": [
    "Vamos extrair alguns dados do grande grupo conexo agora."
   ]
  },
  {
   "cell_type": "code",
   "execution_count": 62,
   "id": "04b03434",
   "metadata": {},
   "outputs": [
    {
     "data": {
      "application/vnd.microsoft.datawrangler.viewer.v0+json": {
       "columns": [
        {
         "name": "name",
         "rawType": "object",
         "type": "string"
        },
        {
         "name": "label",
         "rawType": "object",
         "type": "string"
        },
        {
         "name": "partido",
         "rawType": "object",
         "type": "unknown"
        },
        {
         "name": "type",
         "rawType": "object",
         "type": "string"
        },
        {
         "name": "score",
         "rawType": "float64",
         "type": "float"
        },
        {
         "name": "bigtype",
         "rawType": "object",
         "type": "string"
        },
        {
         "name": "bill_type",
         "rawType": "object",
         "type": "unknown"
        }
       ],
       "ref": "58a383d3-bb7e-42f8-8f15-728e95f7c86e",
       "rows": [
        [
         "CP:2187087",
         "PL 5029/2019",
         null,
         "Proposicao",
         "1.0",
         "bill",
         "PL"
        ],
        [
         "CP:2190408",
         "PL 2/2019",
         null,
         "Proposicao",
         "0.25",
         "bill",
         "PL"
        ],
        [
         "CP:2190417",
         "PL 10/2019",
         null,
         "Proposicao",
         "0.25",
         "bill",
         "PL"
        ],
        [
         "CP:2190423",
         "PL 15/2019",
         null,
         "Proposicao",
         "0.0",
         "bill",
         "PL"
        ],
        [
         "CP:2190450",
         "PL 21/2019",
         null,
         "Proposicao",
         "0.25",
         "bill",
         "PL"
        ],
        [
         "CP:2190462",
         "PL 32/2019",
         null,
         "Proposicao",
         "0.25",
         "bill",
         "PL"
        ],
        [
         "CP:2190472",
         "PL 39/2019",
         null,
         "Proposicao",
         "0.25",
         "bill",
         "PL"
        ],
        [
         "CP:2190495",
         "PL 62/2019",
         null,
         "Proposicao",
         "0.25",
         "bill",
         "PL"
        ],
        [
         "CP:2190519",
         "PL 76/2019",
         null,
         "Proposicao",
         "0.25",
         "bill",
         "PL"
        ],
        [
         "CP:2190532",
         "PL 89/2019",
         null,
         "Proposicao",
         "0.25",
         "bill",
         "PL"
        ],
        [
         "CP:2190556",
         "PLP 6/2019",
         null,
         "Proposicao",
         "0.25",
         "bill",
         "PLP"
        ],
        [
         "CP:2190579",
         "PL 119/2019",
         null,
         "Proposicao",
         "0.25",
         "bill",
         "PL"
        ],
        [
         "CP:2190585",
         "PL 123/2019",
         null,
         "Proposicao",
         "1.0",
         "bill",
         "PL"
        ],
        [
         "CP:2190590",
         "PL 127/2019",
         null,
         "Proposicao",
         "0.25",
         "bill",
         "PL"
        ],
        [
         "CP:2190598",
         "PL 130/2019",
         null,
         "Proposicao",
         "1.0",
         "bill",
         "PL"
        ],
        [
         "CP:2190603",
         "PL 135/2019",
         null,
         "Proposicao",
         "0.25",
         "bill",
         "PL"
        ],
        [
         "CP:2190619",
         "PL 146/2019",
         null,
         "Proposicao",
         "0.25",
         "bill",
         "PL"
        ],
        [
         "CP:2190651",
         "PL 164/2019",
         null,
         "Proposicao",
         "0.25",
         "bill",
         "PL"
        ],
        [
         "CP:2190661",
         "PL 171/2019",
         null,
         "Proposicao",
         "0.25",
         "bill",
         "PL"
        ],
        [
         "CP:2190692",
         "PL 185/2019",
         null,
         "Proposicao",
         "0.25",
         "bill",
         "PL"
        ],
        [
         "CP:2190701",
         "PL 192/2019",
         null,
         "Proposicao",
         "0.0",
         "bill",
         "PL"
        ],
        [
         "CP:2190718",
         "PL 207/2019",
         null,
         "Proposicao",
         "0.0",
         "bill",
         "PL"
        ],
        [
         "CP:2190726",
         "PL 197/2019",
         null,
         "Proposicao",
         "0.25",
         "bill",
         "PL"
        ],
        [
         "CP:2190729",
         "PL 213/2019",
         null,
         "Proposicao",
         "0.25",
         "bill",
         "PL"
        ],
        [
         "CP:2190740",
         "PL 215/2019",
         null,
         "Proposicao",
         "0.25",
         "bill",
         "PL"
        ],
        [
         "CP:2190743",
         "PL 234/2019",
         null,
         "Proposicao",
         "0.25",
         "bill",
         "PL"
        ],
        [
         "CP:2190745",
         "PL 216/2019",
         null,
         "Proposicao",
         "0.25",
         "bill",
         "PL"
        ],
        [
         "CP:2190748",
         "PL 217/2019",
         null,
         "Proposicao",
         "0.25",
         "bill",
         "PL"
        ],
        [
         "CP:2190752",
         "PL 246/2019",
         null,
         "Proposicao",
         "0.25",
         "bill",
         "PL"
        ],
        [
         "CP:2190756",
         "PL 249/2019",
         null,
         "Proposicao",
         "0.0",
         "bill",
         "PL"
        ],
        [
         "CP:2190776",
         "PL 237/2019",
         null,
         "Proposicao",
         "0.25",
         "bill",
         "PL"
        ],
        [
         "CP:2190781",
         "PL 290/2019",
         null,
         "Proposicao",
         "0.25",
         "bill",
         "PL"
        ],
        [
         "CP:2190799",
         "PL 297/2019",
         null,
         "Proposicao",
         "0.25",
         "bill",
         "PL"
        ],
        [
         "CP:2190871",
         "PL 275/2019",
         null,
         "Proposicao",
         "0.25",
         "bill",
         "PL"
        ],
        [
         "CP:2190876",
         "PL 326/2019",
         null,
         "Proposicao",
         "0.0",
         "bill",
         "PL"
        ],
        [
         "CP:2190899",
         "PL 343/2019",
         null,
         "Proposicao",
         "0.0",
         "bill",
         "PL"
        ],
        [
         "CP:2190908",
         "PL 351/2019",
         null,
         "Proposicao",
         "0.5",
         "bill",
         "PL"
        ],
        [
         "CP:2190911",
         "PL 347/2019",
         null,
         "Proposicao",
         "0.25",
         "bill",
         "PL"
        ],
        [
         "CP:2190918",
         "PL 353/2019",
         null,
         "Proposicao",
         "0.25",
         "bill",
         "PL"
        ],
        [
         "CP:2190984",
         "PL 362/2019",
         null,
         "Proposicao",
         "0.25",
         "bill",
         "PL"
        ],
        [
         "CP:2190988",
         "PL 366/2019",
         null,
         "Proposicao",
         "0.25",
         "bill",
         "PL"
        ],
        [
         "CP:2190994",
         "PL 371/2019",
         null,
         "Proposicao",
         "0.25",
         "bill",
         "PL"
        ],
        [
         "CP:2191010",
         "PL 373/2019",
         null,
         "Proposicao",
         "0.25",
         "bill",
         "PL"
        ],
        [
         "CP:2191030",
         "PLP 9/2019",
         null,
         "Proposicao",
         "0.0",
         "bill",
         "PLP"
        ],
        [
         "CP:2191045",
         "PL 379/2019",
         null,
         "Proposicao",
         "0.0",
         "bill",
         "PL"
        ],
        [
         "CP:2191047",
         "PL 381/2019",
         null,
         "Proposicao",
         "0.0",
         "bill",
         "PL"
        ],
        [
         "CP:2191088",
         "PL 418/2019",
         null,
         "Proposicao",
         "0.0",
         "bill",
         "PL"
        ],
        [
         "CP:2191093",
         "PL 423/2019",
         null,
         "Proposicao",
         "0.25",
         "bill",
         "PL"
        ],
        [
         "CP:2191094",
         "PL 424/2019",
         null,
         "Proposicao",
         "0.25",
         "bill",
         "PL"
        ],
        [
         "CP:2191116",
         "PL 443/2019",
         null,
         "Proposicao",
         "0.25",
         "bill",
         "PL"
        ]
       ],
       "shape": {
        "columns": 6,
        "rows": 27680
       }
      },
      "text/html": [
       "<div>\n",
       "<style scoped>\n",
       "    .dataframe tbody tr th:only-of-type {\n",
       "        vertical-align: middle;\n",
       "    }\n",
       "\n",
       "    .dataframe tbody tr th {\n",
       "        vertical-align: top;\n",
       "    }\n",
       "\n",
       "    .dataframe thead th {\n",
       "        text-align: right;\n",
       "    }\n",
       "</style>\n",
       "<table border=\"1\" class=\"dataframe\">\n",
       "  <thead>\n",
       "    <tr style=\"text-align: right;\">\n",
       "      <th></th>\n",
       "      <th>label</th>\n",
       "      <th>partido</th>\n",
       "      <th>type</th>\n",
       "      <th>score</th>\n",
       "      <th>bigtype</th>\n",
       "      <th>bill_type</th>\n",
       "    </tr>\n",
       "    <tr>\n",
       "      <th>name</th>\n",
       "      <th></th>\n",
       "      <th></th>\n",
       "      <th></th>\n",
       "      <th></th>\n",
       "      <th></th>\n",
       "      <th></th>\n",
       "    </tr>\n",
       "  </thead>\n",
       "  <tbody>\n",
       "    <tr>\n",
       "      <th>CP:2187087</th>\n",
       "      <td>PL 5029/2019</td>\n",
       "      <td>None</td>\n",
       "      <td>Proposicao</td>\n",
       "      <td>1.00</td>\n",
       "      <td>bill</td>\n",
       "      <td>PL</td>\n",
       "    </tr>\n",
       "    <tr>\n",
       "      <th>CP:2190408</th>\n",
       "      <td>PL 2/2019</td>\n",
       "      <td>None</td>\n",
       "      <td>Proposicao</td>\n",
       "      <td>0.25</td>\n",
       "      <td>bill</td>\n",
       "      <td>PL</td>\n",
       "    </tr>\n",
       "    <tr>\n",
       "      <th>CP:2190417</th>\n",
       "      <td>PL 10/2019</td>\n",
       "      <td>None</td>\n",
       "      <td>Proposicao</td>\n",
       "      <td>0.25</td>\n",
       "      <td>bill</td>\n",
       "      <td>PL</td>\n",
       "    </tr>\n",
       "    <tr>\n",
       "      <th>CP:2190423</th>\n",
       "      <td>PL 15/2019</td>\n",
       "      <td>None</td>\n",
       "      <td>Proposicao</td>\n",
       "      <td>0.00</td>\n",
       "      <td>bill</td>\n",
       "      <td>PL</td>\n",
       "    </tr>\n",
       "    <tr>\n",
       "      <th>CP:2190450</th>\n",
       "      <td>PL 21/2019</td>\n",
       "      <td>None</td>\n",
       "      <td>Proposicao</td>\n",
       "      <td>0.25</td>\n",
       "      <td>bill</td>\n",
       "      <td>PL</td>\n",
       "    </tr>\n",
       "    <tr>\n",
       "      <th>...</th>\n",
       "      <td>...</td>\n",
       "      <td>...</td>\n",
       "      <td>...</td>\n",
       "      <td>...</td>\n",
       "      <td>...</td>\n",
       "      <td>...</td>\n",
       "    </tr>\n",
       "    <tr>\n",
       "      <th>SS:6295</th>\n",
       "      <td>CARLOS HENRIQUE BAQUETA FÁVARO</td>\n",
       "      <td>PSD/MT</td>\n",
       "      <td>Senador</td>\n",
       "      <td>NaN</td>\n",
       "      <td>author</td>\n",
       "      <td>None</td>\n",
       "    </tr>\n",
       "    <tr>\n",
       "      <th>SE:7352398</th>\n",
       "      <td>CPI DA PANDEMIA</td>\n",
       "      <td>None</td>\n",
       "      <td>Orgao</td>\n",
       "      <td>NaN</td>\n",
       "      <td>author</td>\n",
       "      <td>None</td>\n",
       "    </tr>\n",
       "    <tr>\n",
       "      <th>SE:55226</th>\n",
       "      <td>COMISSÃO DIRETORA</td>\n",
       "      <td>None</td>\n",
       "      <td>Orgao</td>\n",
       "      <td>NaN</td>\n",
       "      <td>author</td>\n",
       "      <td>None</td>\n",
       "    </tr>\n",
       "    <tr>\n",
       "      <th>SE:3947422</th>\n",
       "      <td>COMISSÃO DE DIREITOS HUMANOS E LEGISLAÇÃO PART...</td>\n",
       "      <td>None</td>\n",
       "      <td>Orgao</td>\n",
       "      <td>NaN</td>\n",
       "      <td>author</td>\n",
       "      <td>None</td>\n",
       "    </tr>\n",
       "    <tr>\n",
       "      <th>SE:3927825</th>\n",
       "      <td>COMISSÃO DE MEIO AMBIENTE</td>\n",
       "      <td>None</td>\n",
       "      <td>Orgao</td>\n",
       "      <td>NaN</td>\n",
       "      <td>author</td>\n",
       "      <td>None</td>\n",
       "    </tr>\n",
       "  </tbody>\n",
       "</table>\n",
       "<p>27680 rows × 6 columns</p>\n",
       "</div>"
      ],
      "text/plain": [
       "                                                        label partido  \\\n",
       "name                                                                    \n",
       "CP:2187087                                       PL 5029/2019    None   \n",
       "CP:2190408                                          PL 2/2019    None   \n",
       "CP:2190417                                         PL 10/2019    None   \n",
       "CP:2190423                                         PL 15/2019    None   \n",
       "CP:2190450                                         PL 21/2019    None   \n",
       "...                                                       ...     ...   \n",
       "SS:6295                        CARLOS HENRIQUE BAQUETA FÁVARO  PSD/MT   \n",
       "SE:7352398                                    CPI DA PANDEMIA    None   \n",
       "SE:55226                                    COMISSÃO DIRETORA    None   \n",
       "SE:3947422  COMISSÃO DE DIREITOS HUMANOS E LEGISLAÇÃO PART...    None   \n",
       "SE:3927825                          COMISSÃO DE MEIO AMBIENTE    None   \n",
       "\n",
       "                  type  score bigtype bill_type  \n",
       "name                                             \n",
       "CP:2187087  Proposicao   1.00    bill        PL  \n",
       "CP:2190408  Proposicao   0.25    bill        PL  \n",
       "CP:2190417  Proposicao   0.25    bill        PL  \n",
       "CP:2190423  Proposicao   0.00    bill        PL  \n",
       "CP:2190450  Proposicao   0.25    bill        PL  \n",
       "...                ...    ...     ...       ...  \n",
       "SS:6295        Senador    NaN  author      None  \n",
       "SE:7352398       Orgao    NaN  author      None  \n",
       "SE:55226         Orgao    NaN  author      None  \n",
       "SE:3947422       Orgao    NaN  author      None  \n",
       "SE:3927825       Orgao    NaN  author      None  \n",
       "\n",
       "[27680 rows x 6 columns]"
      ]
     },
     "execution_count": 62,
     "metadata": {},
     "output_type": "execute_result"
    }
   ],
   "source": [
    "node_main_df = node_cc_df[node_cc_df['cc_index'].eq(0)].drop('cc_index', axis=1).copy()\n",
    "node_main_df"
   ]
  },
  {
   "cell_type": "code",
   "execution_count": 172,
   "id": "e9f22126",
   "metadata": {},
   "outputs": [],
   "source": [
    "node_main_df, edge_main_df = prune_graph(node_main_df.reset_index(), edge_df)"
   ]
  },
  {
   "cell_type": "code",
   "execution_count": 175,
   "id": "32123b06",
   "metadata": {},
   "outputs": [
    {
     "data": {
      "text/plain": [
       "((27686, 7), (47749, 3))"
      ]
     },
     "execution_count": 175,
     "metadata": {},
     "output_type": "execute_result"
    }
   ],
   "source": [
    "node_main_df.shape, edge_main_df.shape"
   ]
  },
  {
   "cell_type": "code",
   "execution_count": 181,
   "id": "43c246c5",
   "metadata": {},
   "outputs": [],
   "source": [
    "node_main_df['partido'] = node_main_df['partido'].str.replace(\"S/Partido\", \"Sem Partido\")"
   ]
  },
  {
   "cell_type": "code",
   "execution_count": null,
   "id": "3276c8c4",
   "metadata": {},
   "outputs": [],
   "source": []
  },
  {
   "cell_type": "code",
   "execution_count": null,
   "id": "ba3828dd",
   "metadata": {},
   "outputs": [],
   "source": []
  },
  {
   "cell_type": "code",
   "execution_count": 183,
   "id": "29393b33",
   "metadata": {},
   "outputs": [
    {
     "data": {
      "application/vnd.microsoft.datawrangler.viewer.v0+json": {
       "columns": [
        {
         "name": "index",
         "rawType": "int64",
         "type": "integer"
        },
        {
         "name": "name",
         "rawType": "object",
         "type": "string"
        },
        {
         "name": "label",
         "rawType": "object",
         "type": "string"
        },
        {
         "name": "partido",
         "rawType": "object",
         "type": "unknown"
        },
        {
         "name": "type",
         "rawType": "object",
         "type": "string"
        },
        {
         "name": "score",
         "rawType": "float64",
         "type": "float"
        },
        {
         "name": "bigtype",
         "rawType": "object",
         "type": "string"
        },
        {
         "name": "bill_type",
         "rawType": "object",
         "type": "unknown"
        },
        {
         "name": "sigla_partido",
         "rawType": "object",
         "type": "unknown"
        },
        {
         "name": "uf",
         "rawType": "object",
         "type": "unknown"
        }
       ],
       "ref": "29ba6f42-af6d-40cd-8df4-b69c01d1ff38",
       "rows": [
        [
         "0",
         "CP:2187087",
         "PL 5029/2019",
         null,
         "Proposicao",
         "1.0",
         "bill",
         "PL",
         null,
         null
        ],
        [
         "1",
         "CP:2190408",
         "PL 2/2019",
         null,
         "Proposicao",
         "0.25",
         "bill",
         "PL",
         null,
         null
        ],
        [
         "2",
         "CP:2190417",
         "PL 10/2019",
         null,
         "Proposicao",
         "0.25",
         "bill",
         "PL",
         null,
         null
        ],
        [
         "3",
         "CP:2190423",
         "PL 15/2019",
         null,
         "Proposicao",
         "0.0",
         "bill",
         "PL",
         null,
         null
        ],
        [
         "4",
         "CP:2190450",
         "PL 21/2019",
         null,
         "Proposicao",
         "0.25",
         "bill",
         "PL",
         null,
         null
        ],
        [
         "5",
         "CP:2190462",
         "PL 32/2019",
         null,
         "Proposicao",
         "0.25",
         "bill",
         "PL",
         null,
         null
        ],
        [
         "6",
         "CP:2190472",
         "PL 39/2019",
         null,
         "Proposicao",
         "0.25",
         "bill",
         "PL",
         null,
         null
        ],
        [
         "7",
         "CP:2190495",
         "PL 62/2019",
         null,
         "Proposicao",
         "0.25",
         "bill",
         "PL",
         null,
         null
        ],
        [
         "8",
         "CP:2190519",
         "PL 76/2019",
         null,
         "Proposicao",
         "0.25",
         "bill",
         "PL",
         null,
         null
        ],
        [
         "9",
         "CP:2190532",
         "PL 89/2019",
         null,
         "Proposicao",
         "0.25",
         "bill",
         "PL",
         null,
         null
        ],
        [
         "10",
         "CP:2190556",
         "PLP 6/2019",
         null,
         "Proposicao",
         "0.25",
         "bill",
         "PLP",
         null,
         null
        ],
        [
         "11",
         "CP:2190579",
         "PL 119/2019",
         null,
         "Proposicao",
         "0.25",
         "bill",
         "PL",
         null,
         null
        ],
        [
         "12",
         "CP:2190585",
         "PL 123/2019",
         null,
         "Proposicao",
         "1.0",
         "bill",
         "PL",
         null,
         null
        ],
        [
         "13",
         "CP:2190590",
         "PL 127/2019",
         null,
         "Proposicao",
         "0.25",
         "bill",
         "PL",
         null,
         null
        ],
        [
         "14",
         "CP:2190598",
         "PL 130/2019",
         null,
         "Proposicao",
         "1.0",
         "bill",
         "PL",
         null,
         null
        ],
        [
         "15",
         "CP:2190603",
         "PL 135/2019",
         null,
         "Proposicao",
         "0.25",
         "bill",
         "PL",
         null,
         null
        ],
        [
         "16",
         "CP:2190619",
         "PL 146/2019",
         null,
         "Proposicao",
         "0.25",
         "bill",
         "PL",
         null,
         null
        ],
        [
         "17",
         "CP:2190651",
         "PL 164/2019",
         null,
         "Proposicao",
         "0.25",
         "bill",
         "PL",
         null,
         null
        ],
        [
         "18",
         "CP:2190661",
         "PL 171/2019",
         null,
         "Proposicao",
         "0.25",
         "bill",
         "PL",
         null,
         null
        ],
        [
         "19",
         "CP:2190692",
         "PL 185/2019",
         null,
         "Proposicao",
         "0.25",
         "bill",
         "PL",
         null,
         null
        ],
        [
         "20",
         "CP:2190701",
         "PL 192/2019",
         null,
         "Proposicao",
         "0.0",
         "bill",
         "PL",
         null,
         null
        ],
        [
         "21",
         "CP:2190718",
         "PL 207/2019",
         null,
         "Proposicao",
         "0.0",
         "bill",
         "PL",
         null,
         null
        ],
        [
         "22",
         "CP:2190726",
         "PL 197/2019",
         null,
         "Proposicao",
         "0.25",
         "bill",
         "PL",
         null,
         null
        ],
        [
         "23",
         "CP:2190729",
         "PL 213/2019",
         null,
         "Proposicao",
         "0.25",
         "bill",
         "PL",
         null,
         null
        ],
        [
         "24",
         "CP:2190740",
         "PL 215/2019",
         null,
         "Proposicao",
         "0.25",
         "bill",
         "PL",
         null,
         null
        ],
        [
         "25",
         "CP:2190743",
         "PL 234/2019",
         null,
         "Proposicao",
         "0.25",
         "bill",
         "PL",
         null,
         null
        ],
        [
         "26",
         "CP:2190745",
         "PL 216/2019",
         null,
         "Proposicao",
         "0.25",
         "bill",
         "PL",
         null,
         null
        ],
        [
         "27",
         "CP:2190748",
         "PL 217/2019",
         null,
         "Proposicao",
         "0.25",
         "bill",
         "PL",
         null,
         null
        ],
        [
         "28",
         "CP:2190752",
         "PL 246/2019",
         null,
         "Proposicao",
         "0.25",
         "bill",
         "PL",
         null,
         null
        ],
        [
         "29",
         "CP:2190756",
         "PL 249/2019",
         null,
         "Proposicao",
         "0.0",
         "bill",
         "PL",
         null,
         null
        ],
        [
         "30",
         "CP:2190776",
         "PL 237/2019",
         null,
         "Proposicao",
         "0.25",
         "bill",
         "PL",
         null,
         null
        ],
        [
         "31",
         "CP:2190781",
         "PL 290/2019",
         null,
         "Proposicao",
         "0.25",
         "bill",
         "PL",
         null,
         null
        ],
        [
         "32",
         "CP:2190799",
         "PL 297/2019",
         null,
         "Proposicao",
         "0.25",
         "bill",
         "PL",
         null,
         null
        ],
        [
         "33",
         "CP:2190871",
         "PL 275/2019",
         null,
         "Proposicao",
         "0.25",
         "bill",
         "PL",
         null,
         null
        ],
        [
         "34",
         "CP:2190876",
         "PL 326/2019",
         null,
         "Proposicao",
         "0.0",
         "bill",
         "PL",
         null,
         null
        ],
        [
         "35",
         "CP:2190899",
         "PL 343/2019",
         null,
         "Proposicao",
         "0.0",
         "bill",
         "PL",
         null,
         null
        ],
        [
         "36",
         "CP:2190908",
         "PL 351/2019",
         null,
         "Proposicao",
         "0.5",
         "bill",
         "PL",
         null,
         null
        ],
        [
         "37",
         "CP:2190911",
         "PL 347/2019",
         null,
         "Proposicao",
         "0.25",
         "bill",
         "PL",
         null,
         null
        ],
        [
         "38",
         "CP:2190918",
         "PL 353/2019",
         null,
         "Proposicao",
         "0.25",
         "bill",
         "PL",
         null,
         null
        ],
        [
         "39",
         "CP:2190984",
         "PL 362/2019",
         null,
         "Proposicao",
         "0.25",
         "bill",
         "PL",
         null,
         null
        ],
        [
         "40",
         "CP:2190988",
         "PL 366/2019",
         null,
         "Proposicao",
         "0.25",
         "bill",
         "PL",
         null,
         null
        ],
        [
         "41",
         "CP:2190994",
         "PL 371/2019",
         null,
         "Proposicao",
         "0.25",
         "bill",
         "PL",
         null,
         null
        ],
        [
         "42",
         "CP:2191010",
         "PL 373/2019",
         null,
         "Proposicao",
         "0.25",
         "bill",
         "PL",
         null,
         null
        ],
        [
         "43",
         "CP:2191030",
         "PLP 9/2019",
         null,
         "Proposicao",
         "0.0",
         "bill",
         "PLP",
         null,
         null
        ],
        [
         "44",
         "CP:2191045",
         "PL 379/2019",
         null,
         "Proposicao",
         "0.0",
         "bill",
         "PL",
         null,
         null
        ],
        [
         "45",
         "CP:2191047",
         "PL 381/2019",
         null,
         "Proposicao",
         "0.0",
         "bill",
         "PL",
         null,
         null
        ],
        [
         "46",
         "CP:2191088",
         "PL 418/2019",
         null,
         "Proposicao",
         "0.0",
         "bill",
         "PL",
         null,
         null
        ],
        [
         "47",
         "CP:2191093",
         "PL 423/2019",
         null,
         "Proposicao",
         "0.25",
         "bill",
         "PL",
         null,
         null
        ],
        [
         "48",
         "CP:2191094",
         "PL 424/2019",
         null,
         "Proposicao",
         "0.25",
         "bill",
         "PL",
         null,
         null
        ],
        [
         "49",
         "CP:2191116",
         "PL 443/2019",
         null,
         "Proposicao",
         "0.25",
         "bill",
         "PL",
         null,
         null
        ]
       ],
       "shape": {
        "columns": 9,
        "rows": 27686
       }
      },
      "text/html": [
       "<div>\n",
       "<style scoped>\n",
       "    .dataframe tbody tr th:only-of-type {\n",
       "        vertical-align: middle;\n",
       "    }\n",
       "\n",
       "    .dataframe tbody tr th {\n",
       "        vertical-align: top;\n",
       "    }\n",
       "\n",
       "    .dataframe thead th {\n",
       "        text-align: right;\n",
       "    }\n",
       "</style>\n",
       "<table border=\"1\" class=\"dataframe\">\n",
       "  <thead>\n",
       "    <tr style=\"text-align: right;\">\n",
       "      <th></th>\n",
       "      <th>name</th>\n",
       "      <th>label</th>\n",
       "      <th>partido</th>\n",
       "      <th>type</th>\n",
       "      <th>score</th>\n",
       "      <th>bigtype</th>\n",
       "      <th>bill_type</th>\n",
       "      <th>sigla_partido</th>\n",
       "      <th>uf</th>\n",
       "    </tr>\n",
       "  </thead>\n",
       "  <tbody>\n",
       "    <tr>\n",
       "      <th>0</th>\n",
       "      <td>CP:2187087</td>\n",
       "      <td>PL 5029/2019</td>\n",
       "      <td>None</td>\n",
       "      <td>Proposicao</td>\n",
       "      <td>1.00</td>\n",
       "      <td>bill</td>\n",
       "      <td>PL</td>\n",
       "      <td>None</td>\n",
       "      <td>None</td>\n",
       "    </tr>\n",
       "    <tr>\n",
       "      <th>1</th>\n",
       "      <td>CP:2190408</td>\n",
       "      <td>PL 2/2019</td>\n",
       "      <td>None</td>\n",
       "      <td>Proposicao</td>\n",
       "      <td>0.25</td>\n",
       "      <td>bill</td>\n",
       "      <td>PL</td>\n",
       "      <td>None</td>\n",
       "      <td>None</td>\n",
       "    </tr>\n",
       "    <tr>\n",
       "      <th>2</th>\n",
       "      <td>CP:2190417</td>\n",
       "      <td>PL 10/2019</td>\n",
       "      <td>None</td>\n",
       "      <td>Proposicao</td>\n",
       "      <td>0.25</td>\n",
       "      <td>bill</td>\n",
       "      <td>PL</td>\n",
       "      <td>None</td>\n",
       "      <td>None</td>\n",
       "    </tr>\n",
       "    <tr>\n",
       "      <th>3</th>\n",
       "      <td>CP:2190423</td>\n",
       "      <td>PL 15/2019</td>\n",
       "      <td>None</td>\n",
       "      <td>Proposicao</td>\n",
       "      <td>0.00</td>\n",
       "      <td>bill</td>\n",
       "      <td>PL</td>\n",
       "      <td>None</td>\n",
       "      <td>None</td>\n",
       "    </tr>\n",
       "    <tr>\n",
       "      <th>4</th>\n",
       "      <td>CP:2190450</td>\n",
       "      <td>PL 21/2019</td>\n",
       "      <td>None</td>\n",
       "      <td>Proposicao</td>\n",
       "      <td>0.25</td>\n",
       "      <td>bill</td>\n",
       "      <td>PL</td>\n",
       "      <td>None</td>\n",
       "      <td>None</td>\n",
       "    </tr>\n",
       "    <tr>\n",
       "      <th>...</th>\n",
       "      <td>...</td>\n",
       "      <td>...</td>\n",
       "      <td>...</td>\n",
       "      <td>...</td>\n",
       "      <td>...</td>\n",
       "      <td>...</td>\n",
       "      <td>...</td>\n",
       "      <td>...</td>\n",
       "      <td>...</td>\n",
       "    </tr>\n",
       "    <tr>\n",
       "      <th>27681</th>\n",
       "      <td>SS:6295</td>\n",
       "      <td>Carlos Fávaro</td>\n",
       "      <td>PSD/MT</td>\n",
       "      <td>Senador</td>\n",
       "      <td>0.00</td>\n",
       "      <td>author</td>\n",
       "      <td>None</td>\n",
       "      <td>PSD</td>\n",
       "      <td>MT</td>\n",
       "    </tr>\n",
       "    <tr>\n",
       "      <th>27682</th>\n",
       "      <td>SE:7352398</td>\n",
       "      <td>CPI da Pandemia</td>\n",
       "      <td>None</td>\n",
       "      <td>Orgao</td>\n",
       "      <td>0.00</td>\n",
       "      <td>author</td>\n",
       "      <td>None</td>\n",
       "      <td>None</td>\n",
       "      <td>None</td>\n",
       "    </tr>\n",
       "    <tr>\n",
       "      <th>27683</th>\n",
       "      <td>SE:55226</td>\n",
       "      <td>Comissão Diretora</td>\n",
       "      <td>None</td>\n",
       "      <td>Orgao</td>\n",
       "      <td>0.00</td>\n",
       "      <td>author</td>\n",
       "      <td>None</td>\n",
       "      <td>None</td>\n",
       "      <td>None</td>\n",
       "    </tr>\n",
       "    <tr>\n",
       "      <th>27684</th>\n",
       "      <td>SE:3947422</td>\n",
       "      <td>Comissão de Direitos Humanos e Legislação Part...</td>\n",
       "      <td>None</td>\n",
       "      <td>Orgao</td>\n",
       "      <td>0.00</td>\n",
       "      <td>author</td>\n",
       "      <td>None</td>\n",
       "      <td>None</td>\n",
       "      <td>None</td>\n",
       "    </tr>\n",
       "    <tr>\n",
       "      <th>27685</th>\n",
       "      <td>SE:3927825</td>\n",
       "      <td>Comissão de Meio Ambiente</td>\n",
       "      <td>None</td>\n",
       "      <td>Orgao</td>\n",
       "      <td>0.00</td>\n",
       "      <td>author</td>\n",
       "      <td>None</td>\n",
       "      <td>None</td>\n",
       "      <td>None</td>\n",
       "    </tr>\n",
       "  </tbody>\n",
       "</table>\n",
       "<p>27686 rows × 9 columns</p>\n",
       "</div>"
      ],
      "text/plain": [
       "             name                                              label partido  \\\n",
       "0      CP:2187087                                       PL 5029/2019    None   \n",
       "1      CP:2190408                                          PL 2/2019    None   \n",
       "2      CP:2190417                                         PL 10/2019    None   \n",
       "3      CP:2190423                                         PL 15/2019    None   \n",
       "4      CP:2190450                                         PL 21/2019    None   \n",
       "...           ...                                                ...     ...   \n",
       "27681     SS:6295                                      Carlos Fávaro  PSD/MT   \n",
       "27682  SE:7352398                                    CPI da Pandemia    None   \n",
       "27683    SE:55226                                  Comissão Diretora    None   \n",
       "27684  SE:3947422  Comissão de Direitos Humanos e Legislação Part...    None   \n",
       "27685  SE:3927825                          Comissão de Meio Ambiente    None   \n",
       "\n",
       "             type  score bigtype bill_type sigla_partido    uf  \n",
       "0      Proposicao   1.00    bill        PL          None  None  \n",
       "1      Proposicao   0.25    bill        PL          None  None  \n",
       "2      Proposicao   0.25    bill        PL          None  None  \n",
       "3      Proposicao   0.00    bill        PL          None  None  \n",
       "4      Proposicao   0.25    bill        PL          None  None  \n",
       "...           ...    ...     ...       ...           ...   ...  \n",
       "27681     Senador   0.00  author      None           PSD    MT  \n",
       "27682       Orgao   0.00  author      None          None  None  \n",
       "27683       Orgao   0.00  author      None          None  None  \n",
       "27684       Orgao   0.00  author      None          None  None  \n",
       "27685       Orgao   0.00  author      None          None  None  \n",
       "\n",
       "[27686 rows x 9 columns]"
      ]
     },
     "execution_count": 183,
     "metadata": {},
     "output_type": "execute_result"
    }
   ],
   "source": [
    "node_main_df[['sigla_partido', 'uf']] = node_main_df['partido'].str.split('/', expand=True)\n",
    "node_main_df['sigla_partido'] = node_main_df['sigla_partido'].str.strip()\n",
    "node_main_df['uf'] = node_main_df['uf'].str.strip()\n",
    "node_main_df"
   ]
  },
  {
   "cell_type": "code",
   "execution_count": 184,
   "id": "24752f92",
   "metadata": {},
   "outputs": [
    {
     "data": {
      "application/vnd.microsoft.datawrangler.viewer.v0+json": {
       "columns": [
        {
         "name": "type",
         "rawType": "object",
         "type": "string"
        },
        {
         "name": "count",
         "rawType": "int64",
         "type": "integer"
        }
       ],
       "ref": "afbb6c4a-9061-4ff3-8477-2388c89ac325",
       "rows": [
        [
         "Proposicao",
         "25590"
        ],
        [
         "Processo",
         "1113"
        ],
        [
         "Deputado",
         "845"
        ],
        [
         "Senador",
         "129"
        ],
        [
         "Orgao",
         "9"
        ]
       ],
       "shape": {
        "columns": 1,
        "rows": 5
       }
      },
      "text/plain": [
       "type\n",
       "Proposicao    25590\n",
       "Processo       1113\n",
       "Deputado        845\n",
       "Senador         129\n",
       "Orgao             9\n",
       "Name: count, dtype: int64"
      ]
     },
     "execution_count": 184,
     "metadata": {},
     "output_type": "execute_result"
    }
   ],
   "source": [
    "node_main_df.value_counts('type')"
   ]
  },
  {
   "cell_type": "code",
   "execution_count": 185,
   "id": "e2d70f85",
   "metadata": {},
   "outputs": [
    {
     "data": {
      "application/vnd.microsoft.datawrangler.viewer.v0+json": {
       "columns": [
        {
         "name": "sigla_partido",
         "rawType": "object",
         "type": "string"
        },
        {
         "name": "count",
         "rawType": "int64",
         "type": "integer"
        }
       ],
       "ref": "6770629e-b1ae-4cce-864a-00f0ad76f597",
       "rows": [
        [
         "PL",
         "125"
        ],
        [
         "PT",
         "120"
        ],
        [
         "PSD",
         "88"
        ],
        [
         "MDB",
         "87"
        ],
        [
         "UNIÃO",
         "84"
        ],
        [
         "PP",
         "82"
        ],
        [
         "REPUBLICANOS",
         "51"
        ],
        [
         "PSB",
         "49"
        ],
        [
         "PSDB",
         "43"
        ],
        [
         "PDT",
         "37"
        ],
        [
         "PSL",
         "32"
        ],
        [
         "PODE",
         "23"
        ],
        [
         "PSOL",
         "19"
        ],
        [
         "DEM",
         "14"
        ],
        [
         "PR",
         "13"
        ],
        [
         "AVANTE",
         "11"
        ],
        [
         "SOLIDARIEDADE",
         "10"
        ],
        [
         "PRB",
         "10"
        ],
        [
         "NOVO",
         "10"
        ],
        [
         "PCdoB",
         "9"
        ],
        [
         "PODEMOS",
         "8"
        ],
        [
         "CIDADANIA",
         "7"
        ],
        [
         "PSC",
         "7"
        ],
        [
         "PV",
         "6"
        ],
        [
         "PATRIOTA",
         "6"
        ],
        [
         "PTB",
         "6"
        ],
        [
         "PROS",
         "5"
        ],
        [
         "PHS",
         "2"
        ],
        [
         "REDE",
         "2"
        ],
        [
         "UDN",
         "2"
        ],
        [
         "PMDB",
         "2"
        ],
        [
         "PP**",
         "1"
        ],
        [
         "PPS",
         "1"
        ],
        [
         "PATRI",
         "1"
        ],
        [
         "Sem Partido",
         "1"
        ]
       ],
       "shape": {
        "columns": 1,
        "rows": 35
       }
      },
      "text/plain": [
       "sigla_partido\n",
       "PL               125\n",
       "PT               120\n",
       "PSD               88\n",
       "MDB               87\n",
       "UNIÃO             84\n",
       "PP                82\n",
       "REPUBLICANOS      51\n",
       "PSB               49\n",
       "PSDB              43\n",
       "PDT               37\n",
       "PSL               32\n",
       "PODE              23\n",
       "PSOL              19\n",
       "DEM               14\n",
       "PR                13\n",
       "AVANTE            11\n",
       "SOLIDARIEDADE     10\n",
       "PRB               10\n",
       "NOVO              10\n",
       "PCdoB              9\n",
       "PODEMOS            8\n",
       "CIDADANIA          7\n",
       "PSC                7\n",
       "PV                 6\n",
       "PATRIOTA           6\n",
       "PTB                6\n",
       "PROS               5\n",
       "PHS                2\n",
       "REDE               2\n",
       "UDN                2\n",
       "PMDB               2\n",
       "PP**               1\n",
       "PPS                1\n",
       "PATRI              1\n",
       "Sem Partido        1\n",
       "Name: count, dtype: int64"
      ]
     },
     "execution_count": 185,
     "metadata": {},
     "output_type": "execute_result"
    }
   ],
   "source": [
    "node_main_df.value_counts('sigla_partido')"
   ]
  },
  {
   "cell_type": "code",
   "execution_count": 186,
   "id": "f6dd6d03",
   "metadata": {},
   "outputs": [
    {
     "data": {
      "application/vnd.microsoft.datawrangler.viewer.v0+json": {
       "columns": [
        {
         "name": "uf",
         "rawType": "object",
         "type": "string"
        },
        {
         "name": "count",
         "rawType": "int64",
         "type": "integer"
        }
       ],
       "ref": "62e1fb27-119e-4246-94c6-f0e0e78662f4",
       "rows": [
        [
         "SP",
         "119"
        ],
        [
         "MG",
         "82"
        ],
        [
         "RJ",
         "81"
        ],
        [
         "BA",
         "58"
        ],
        [
         "PR",
         "55"
        ],
        [
         "RS",
         "49"
        ],
        [
         "CE",
         "48"
        ],
        [
         "PE",
         "44"
        ],
        [
         "SC",
         "36"
        ],
        [
         "MA",
         "32"
        ],
        [
         "PA",
         "31"
        ],
        [
         "GO",
         "28"
        ],
        [
         "ES",
         "25"
        ],
        [
         "PB",
         "25"
        ],
        [
         "MT",
         "24"
        ],
        [
         "AC",
         "24"
        ],
        [
         "PI",
         "24"
        ],
        [
         "AL",
         "23"
        ],
        [
         "TO",
         "21"
        ],
        [
         "RR",
         "20"
        ],
        [
         "SE",
         "19"
        ],
        [
         "DF",
         "18"
        ],
        [
         "AP",
         "18"
        ],
        [
         "RN",
         "18"
        ],
        [
         "MS",
         "18"
        ],
        [
         "RO",
         "18"
        ],
        [
         "AM",
         "16"
        ]
       ],
       "shape": {
        "columns": 1,
        "rows": 27
       }
      },
      "text/plain": [
       "uf\n",
       "SP    119\n",
       "MG     82\n",
       "RJ     81\n",
       "BA     58\n",
       "PR     55\n",
       "RS     49\n",
       "CE     48\n",
       "PE     44\n",
       "SC     36\n",
       "MA     32\n",
       "PA     31\n",
       "GO     28\n",
       "ES     25\n",
       "PB     25\n",
       "MT     24\n",
       "AC     24\n",
       "PI     24\n",
       "AL     23\n",
       "TO     21\n",
       "RR     20\n",
       "SE     19\n",
       "DF     18\n",
       "AP     18\n",
       "RN     18\n",
       "MS     18\n",
       "RO     18\n",
       "AM     16\n",
       "Name: count, dtype: int64"
      ]
     },
     "execution_count": 186,
     "metadata": {},
     "output_type": "execute_result"
    }
   ],
   "source": [
    "node_main_df.value_counts('uf')"
   ]
  },
  {
   "cell_type": "code",
   "execution_count": 188,
   "id": "37d7cb06",
   "metadata": {},
   "outputs": [
    {
     "data": {
      "application/vnd.microsoft.datawrangler.viewer.v0+json": {
       "columns": [
        {
         "name": "index",
         "rawType": "int64",
         "type": "integer"
        },
        {
         "name": "name",
         "rawType": "object",
         "type": "string"
        },
        {
         "name": "label",
         "rawType": "object",
         "type": "string"
        },
        {
         "name": "partido",
         "rawType": "object",
         "type": "unknown"
        },
        {
         "name": "type",
         "rawType": "object",
         "type": "string"
        },
        {
         "name": "score",
         "rawType": "float64",
         "type": "float"
        },
        {
         "name": "bigtype",
         "rawType": "object",
         "type": "string"
        },
        {
         "name": "bill_type",
         "rawType": "object",
         "type": "unknown"
        },
        {
         "name": "sigla_partido",
         "rawType": "object",
         "type": "unknown"
        },
        {
         "name": "uf",
         "rawType": "object",
         "type": "unknown"
        }
       ],
       "ref": "5da2f075-ac5e-48ce-b000-003afc1c596a",
       "rows": [
        [
         "25590",
         "CD:66828",
         "FAUSTO RUY PINATO",
         "PP/SP",
         "Deputado",
         "0.0",
         "author",
         null,
         "PP",
         "SP"
        ],
        [
         "25591",
         "CD:73463",
         "OSMAR JOSÉ SERRAGLIO",
         "PP/PR",
         "Deputado",
         "0.0",
         "author",
         null,
         "PP",
         "PR"
        ],
        [
         "25592",
         "CD:73472",
         "GERVÁSIO JOSÉ DA SILVA",
         "PSDB/SC",
         "Deputado",
         "0.0",
         "author",
         null,
         "PSDB",
         "SC"
        ],
        [
         "25593",
         "CD:73486",
         "DARCI POMPEO DE MATTOS",
         "PDT/RS",
         "Deputado",
         "0.0",
         "author",
         null,
         "PDT",
         "RS"
        ],
        [
         "25594",
         "CD:73545",
         "EUSTÁQUIO LUCIANO ZICA",
         "PT/SP",
         "Deputado",
         "0.0",
         "author",
         null,
         "PT",
         "SP"
        ],
        [
         "25595",
         "CD:74047",
         "PAULO RUBEM SANTIAGO FERREIRA",
         "PDT/PE",
         "Deputado",
         "0.0",
         "author",
         null,
         "PDT",
         "PE"
        ],
        [
         "25596",
         "CD:74137",
         "LUIZ EDUARDO RODRIGUES GREENHALGH",
         "PT/SP",
         "Deputado",
         "0.0",
         "author",
         null,
         "PT",
         "SP"
        ],
        [
         "25597",
         "CD:74218",
         "WALTER DE FREITAS PINHEIRO",
         "PT/BA",
         "Deputado",
         "0.0",
         "author",
         null,
         "PT",
         "BA"
        ],
        [
         "25598",
         "CD:74376",
         "VANDER LUIZ DOS SANTOS LOUBET",
         "PT/MS",
         "Deputado",
         "0.0",
         "author",
         null,
         "PT",
         "MS"
        ],
        [
         "25599",
         "CD:74491",
         "JOSÉ NAZARENO CARDEAL FONTELES",
         "PT/PI",
         "Deputado",
         "0.0",
         "author",
         null,
         "PT",
         "PI"
        ],
        [
         "25600",
         "CD:122974",
         "PEDRO LUCAS ANDRADE FERNANDES RIBEIRO",
         "UNIÃO/MA",
         "Deputado",
         "0.0",
         "author",
         null,
         "UNIÃO",
         "MA"
        ],
        [
         "25601",
         "CD:133439",
         "ANDRÉ PEIXOTO FIGUEIREDO LIMA",
         "PDT/CE",
         "Deputado",
         "0.0",
         "author",
         null,
         "PDT",
         "CE"
        ],
        [
         "25602",
         "CD:133810",
         "MARCELO PIRES MORAES",
         "PL/RS",
         "Deputado",
         "0.0",
         "author",
         null,
         "PL",
         "RS"
        ],
        [
         "25603",
         "CD:141480",
         "LÁZARO BOTELHO MARTINS",
         "PP/TO",
         "Deputado",
         "0.0",
         "author",
         null,
         "PP",
         "TO"
        ],
        [
         "25604",
         "CD:152610",
         "BENEDITO ROBERTO ALVES FERREIRA",
         "PRB/SP",
         "Deputado",
         "0.0",
         "author",
         null,
         "PRB",
         "SP"
        ],
        [
         "25605",
         "CD:160511",
         "ALESSANDRO LUCCIOLA MOLON",
         "PSB/RJ",
         "Deputado",
         "0.0",
         "author",
         null,
         "PSB",
         "RJ"
        ],
        [
         "25606",
         "CD:160527",
         "AGUINALDO VELLOSO BORGES RIBEIRO",
         "PP/PB",
         "Deputado",
         "0.0",
         "author",
         null,
         "PP",
         "PB"
        ],
        [
         "25607",
         "CD:160535",
         "DIONILSO MATEUS MARCON",
         "PT/RS",
         "Deputado",
         "0.0",
         "author",
         null,
         "PT",
         "RS"
        ],
        [
         "25608",
         "CD:160558",
         "PAULO ROBERTO FREIRE DA COSTA",
         "PL/SP",
         "Deputado",
         "0.0",
         "author",
         null,
         "PL",
         "SP"
        ],
        [
         "25609",
         "CD:160575",
         "ÉRIKA JUCÁ KOKAY",
         "PT/DF",
         "Deputado",
         "0.0",
         "author",
         null,
         "PT",
         "DF"
        ],
        [
         "25610",
         "CD:160591",
         "VINICIUS DE AZEVEDO GURGEL",
         "PL/AP",
         "Deputado",
         "0.0",
         "author",
         null,
         "PL",
         "AP"
        ],
        [
         "25611",
         "CD:160641",
         "MARCIVANIA DO SOCORRO DA ROCHA FLEXA",
         "PCdoB/AP",
         "Deputado",
         "0.0",
         "author",
         null,
         "PCdoB",
         "AP"
        ],
        [
         "25612",
         "CD:178829",
         "JOSE AUGUSTO ROSA",
         "PL/SP",
         "Deputado",
         "0.0",
         "author",
         null,
         "PL",
         "SP"
        ],
        [
         "25613",
         "CD:178882",
         "ANDRE LUIZ CARVALHO RIBEIRO",
         "PP/MA",
         "Deputado",
         "0.0",
         "author",
         null,
         "PP",
         "MA"
        ],
        [
         "25614",
         "CD:178888",
         "CARLOS VICTOR GUTERRES MENDES",
         "MDB/MA",
         "Deputado",
         "0.0",
         "author",
         null,
         "MDB",
         "MA"
        ],
        [
         "25615",
         "CD:178895",
         "MISAEL ARTUR FERREIRA VARELLA",
         "PSD/MG",
         "Deputado",
         "0.0",
         "author",
         null,
         "PSD",
         "MG"
        ],
        [
         "25616",
         "CD:178981",
         "HERCULANO CASTILHO PASSOS JUNIOR",
         "MDB/SP",
         "Deputado",
         "0.0",
         "author",
         null,
         "MDB",
         "SP"
        ],
        [
         "25617",
         "CD:179001",
         "MARCIO DELLA VALLE BIOLCHI",
         "MDB/RS",
         "Deputado",
         "0.0",
         "author",
         null,
         "MDB",
         "RS"
        ],
        [
         "25618",
         "CD:191923",
         "FLÁVIO RODRIGUES NOGUEIRA",
         "PT/PI",
         "Deputado",
         "0.0",
         "author",
         null,
         "PT",
         "PI"
        ],
        [
         "25619",
         "CD:204351",
         "LUIZ ALBERTO OVANDO",
         "PP/MS",
         "Deputado",
         "0.0",
         "author",
         null,
         "PP",
         "MS"
        ],
        [
         "25620",
         "CD:204377",
         "PAULA MORENO PARO BELMONTE",
         "CIDADANIA/DF",
         "Deputado",
         "0.0",
         "author",
         null,
         "CIDADANIA",
         "DF"
        ],
        [
         "25621",
         "CD:204389",
         "ELIAS VAZ DE ANDRADE",
         "PSB/GO",
         "Deputado",
         "0.0",
         "author",
         null,
         "PSB",
         "GO"
        ],
        [
         "25622",
         "CD:204414",
         "JOSE AROLDO SOUZA MARTINS",
         "PRB/PR",
         "Deputado",
         "0.0",
         "author",
         null,
         "PRB",
         "PR"
        ],
        [
         "25623",
         "CD:204416",
         "UBIRATAN ANTUNES SANDERSON",
         "PL/RS",
         "Deputado",
         "0.0",
         "author",
         null,
         "PL",
         "RS"
        ],
        [
         "25624",
         "CD:204462",
         "CHRISTINE NOGUEIRA DOS REIS TONIETTO",
         "PL/RJ",
         "Deputado",
         "0.0",
         "author",
         null,
         "PL",
         "RJ"
        ],
        [
         "25625",
         "CD:204468",
         "JOENIA BATISTA DE CARVALHO",
         "REDE/RR",
         "Deputado",
         "0.0",
         "author",
         null,
         "REDE",
         "RR"
        ],
        [
         "25626",
         "CD:204474",
         "JUAREZ ALVES DA COSTA",
         "MDB/MT",
         "Deputado",
         "0.0",
         "author",
         null,
         "MDB",
         "MT"
        ],
        [
         "25627",
         "CD:204518",
         "FREDERICO DE CASTRO ESCALEIRA",
         "PATRIOTA/MG",
         "Deputado",
         "0.0",
         "author",
         null,
         "PATRIOTA",
         "MG"
        ],
        [
         "25628",
         "CD:204521",
         "PAULO SERGIO ABOU ANNI",
         "PSL/SP",
         "Deputado",
         "0.0",
         "author",
         null,
         "PSL",
         "SP"
        ],
        [
         "25629",
         "CD:204526",
         "LUIZ PHILIPPE DE ORLEANS BRAGANÇA",
         "PL/SP",
         "Deputado",
         "0.0",
         "author",
         null,
         "PL",
         "SP"
        ],
        [
         "25630",
         "CD:204537",
         "ENRICO VAN BLARCUM DE GRAAFF MISASI",
         "MDB/SP",
         "Deputado",
         "0.0",
         "author",
         null,
         "MDB",
         "SP"
        ],
        [
         "25631",
         "CD:204573",
         "OTTO ROBERTO MENDONÇA DE ALENCAR FILHO",
         "PSD/BA",
         "Deputado",
         "0.0",
         "author",
         null,
         "PSD",
         "BA"
        ],
        [
         "25632",
         "CD:216198",
         "NORMA PETERMANN PEREIRA",
         "PSDB/SC",
         "Deputado",
         "0.0",
         "author",
         null,
         "PSDB",
         "SC"
        ],
        [
         "25633",
         "CD:220602",
         "DIMAS DE PAIVA GADELHA JUNIOR",
         "PT/RJ",
         "Deputado",
         "0.0",
         "author",
         null,
         "PT",
         "RJ"
        ],
        [
         "25634",
         "CD:220605",
         "EDUARDO CARVALHO BANDEIRA DE MELLO",
         "PSB/RJ",
         "Deputado",
         "0.0",
         "author",
         null,
         "PSB",
         "RJ"
        ],
        [
         "25635",
         "CD:220621",
         "EVANDRO GONÇALVES DA SILVA JÚNIOR",
         "PL/RN",
         "Deputado",
         "0.0",
         "author",
         null,
         "PL",
         "RN"
        ],
        [
         "25636",
         "CD:220628",
         "MAURICIO LUIZ DE SOUZA",
         "PL/MG",
         "Deputado",
         "0.0",
         "author",
         null,
         "PL",
         "MG"
        ],
        [
         "25637",
         "CD:220634",
         "MARCELO DE LIMA FERNANDES",
         "SOLIDARIEDADE/SP",
         "Deputado",
         "0.0",
         "author",
         null,
         "SOLIDARIEDADE",
         "SP"
        ],
        [
         "25638",
         "CD:220670",
         "IZA PAULA DE DEUS E MELLO ALBUQUERQUE ARRUDA",
         "MDB/PE",
         "Deputado",
         "0.0",
         "author",
         null,
         "MDB",
         "PE"
        ],
        [
         "25639",
         "CD:220673",
         "LENILDO MENDES DOS SANTOS SERTÃO",
         "PL/PA",
         "Deputado",
         "0.0",
         "author",
         null,
         "PL",
         "PA"
        ]
       ],
       "shape": {
        "columns": 9,
        "rows": 983
       }
      },
      "text/html": [
       "<div>\n",
       "<style scoped>\n",
       "    .dataframe tbody tr th:only-of-type {\n",
       "        vertical-align: middle;\n",
       "    }\n",
       "\n",
       "    .dataframe tbody tr th {\n",
       "        vertical-align: top;\n",
       "    }\n",
       "\n",
       "    .dataframe thead th {\n",
       "        text-align: right;\n",
       "    }\n",
       "</style>\n",
       "<table border=\"1\" class=\"dataframe\">\n",
       "  <thead>\n",
       "    <tr style=\"text-align: right;\">\n",
       "      <th></th>\n",
       "      <th>name</th>\n",
       "      <th>label</th>\n",
       "      <th>partido</th>\n",
       "      <th>type</th>\n",
       "      <th>score</th>\n",
       "      <th>bigtype</th>\n",
       "      <th>bill_type</th>\n",
       "      <th>sigla_partido</th>\n",
       "      <th>uf</th>\n",
       "    </tr>\n",
       "  </thead>\n",
       "  <tbody>\n",
       "    <tr>\n",
       "      <th>25590</th>\n",
       "      <td>CD:66828</td>\n",
       "      <td>FAUSTO RUY PINATO</td>\n",
       "      <td>PP/SP</td>\n",
       "      <td>Deputado</td>\n",
       "      <td>0.0</td>\n",
       "      <td>author</td>\n",
       "      <td>None</td>\n",
       "      <td>PP</td>\n",
       "      <td>SP</td>\n",
       "    </tr>\n",
       "    <tr>\n",
       "      <th>25591</th>\n",
       "      <td>CD:73463</td>\n",
       "      <td>OSMAR JOSÉ SERRAGLIO</td>\n",
       "      <td>PP/PR</td>\n",
       "      <td>Deputado</td>\n",
       "      <td>0.0</td>\n",
       "      <td>author</td>\n",
       "      <td>None</td>\n",
       "      <td>PP</td>\n",
       "      <td>PR</td>\n",
       "    </tr>\n",
       "    <tr>\n",
       "      <th>25592</th>\n",
       "      <td>CD:73472</td>\n",
       "      <td>GERVÁSIO JOSÉ DA SILVA</td>\n",
       "      <td>PSDB/SC</td>\n",
       "      <td>Deputado</td>\n",
       "      <td>0.0</td>\n",
       "      <td>author</td>\n",
       "      <td>None</td>\n",
       "      <td>PSDB</td>\n",
       "      <td>SC</td>\n",
       "    </tr>\n",
       "    <tr>\n",
       "      <th>25593</th>\n",
       "      <td>CD:73486</td>\n",
       "      <td>DARCI POMPEO DE MATTOS</td>\n",
       "      <td>PDT/RS</td>\n",
       "      <td>Deputado</td>\n",
       "      <td>0.0</td>\n",
       "      <td>author</td>\n",
       "      <td>None</td>\n",
       "      <td>PDT</td>\n",
       "      <td>RS</td>\n",
       "    </tr>\n",
       "    <tr>\n",
       "      <th>25594</th>\n",
       "      <td>CD:73545</td>\n",
       "      <td>EUSTÁQUIO LUCIANO ZICA</td>\n",
       "      <td>PT/SP</td>\n",
       "      <td>Deputado</td>\n",
       "      <td>0.0</td>\n",
       "      <td>author</td>\n",
       "      <td>None</td>\n",
       "      <td>PT</td>\n",
       "      <td>SP</td>\n",
       "    </tr>\n",
       "    <tr>\n",
       "      <th>...</th>\n",
       "      <td>...</td>\n",
       "      <td>...</td>\n",
       "      <td>...</td>\n",
       "      <td>...</td>\n",
       "      <td>...</td>\n",
       "      <td>...</td>\n",
       "      <td>...</td>\n",
       "      <td>...</td>\n",
       "      <td>...</td>\n",
       "    </tr>\n",
       "    <tr>\n",
       "      <th>27681</th>\n",
       "      <td>SS:6295</td>\n",
       "      <td>Carlos Fávaro</td>\n",
       "      <td>PSD/MT</td>\n",
       "      <td>Senador</td>\n",
       "      <td>0.0</td>\n",
       "      <td>author</td>\n",
       "      <td>None</td>\n",
       "      <td>PSD</td>\n",
       "      <td>MT</td>\n",
       "    </tr>\n",
       "    <tr>\n",
       "      <th>27682</th>\n",
       "      <td>SE:7352398</td>\n",
       "      <td>CPI da Pandemia</td>\n",
       "      <td>None</td>\n",
       "      <td>Orgao</td>\n",
       "      <td>0.0</td>\n",
       "      <td>author</td>\n",
       "      <td>None</td>\n",
       "      <td>None</td>\n",
       "      <td>None</td>\n",
       "    </tr>\n",
       "    <tr>\n",
       "      <th>27683</th>\n",
       "      <td>SE:55226</td>\n",
       "      <td>Comissão Diretora</td>\n",
       "      <td>None</td>\n",
       "      <td>Orgao</td>\n",
       "      <td>0.0</td>\n",
       "      <td>author</td>\n",
       "      <td>None</td>\n",
       "      <td>None</td>\n",
       "      <td>None</td>\n",
       "    </tr>\n",
       "    <tr>\n",
       "      <th>27684</th>\n",
       "      <td>SE:3947422</td>\n",
       "      <td>Comissão de Direitos Humanos e Legislação Part...</td>\n",
       "      <td>None</td>\n",
       "      <td>Orgao</td>\n",
       "      <td>0.0</td>\n",
       "      <td>author</td>\n",
       "      <td>None</td>\n",
       "      <td>None</td>\n",
       "      <td>None</td>\n",
       "    </tr>\n",
       "    <tr>\n",
       "      <th>27685</th>\n",
       "      <td>SE:3927825</td>\n",
       "      <td>Comissão de Meio Ambiente</td>\n",
       "      <td>None</td>\n",
       "      <td>Orgao</td>\n",
       "      <td>0.0</td>\n",
       "      <td>author</td>\n",
       "      <td>None</td>\n",
       "      <td>None</td>\n",
       "      <td>None</td>\n",
       "    </tr>\n",
       "  </tbody>\n",
       "</table>\n",
       "<p>983 rows × 9 columns</p>\n",
       "</div>"
      ],
      "text/plain": [
       "             name                                              label  partido  \\\n",
       "25590    CD:66828                                  FAUSTO RUY PINATO    PP/SP   \n",
       "25591    CD:73463                               OSMAR JOSÉ SERRAGLIO    PP/PR   \n",
       "25592    CD:73472                             GERVÁSIO JOSÉ DA SILVA  PSDB/SC   \n",
       "25593    CD:73486                             DARCI POMPEO DE MATTOS   PDT/RS   \n",
       "25594    CD:73545                             EUSTÁQUIO LUCIANO ZICA    PT/SP   \n",
       "...           ...                                                ...      ...   \n",
       "27681     SS:6295                                      Carlos Fávaro   PSD/MT   \n",
       "27682  SE:7352398                                    CPI da Pandemia     None   \n",
       "27683    SE:55226                                  Comissão Diretora     None   \n",
       "27684  SE:3947422  Comissão de Direitos Humanos e Legislação Part...     None   \n",
       "27685  SE:3927825                          Comissão de Meio Ambiente     None   \n",
       "\n",
       "           type  score bigtype bill_type sigla_partido    uf  \n",
       "25590  Deputado    0.0  author      None            PP    SP  \n",
       "25591  Deputado    0.0  author      None            PP    PR  \n",
       "25592  Deputado    0.0  author      None          PSDB    SC  \n",
       "25593  Deputado    0.0  author      None           PDT    RS  \n",
       "25594  Deputado    0.0  author      None            PT    SP  \n",
       "...         ...    ...     ...       ...           ...   ...  \n",
       "27681   Senador    0.0  author      None           PSD    MT  \n",
       "27682     Orgao    0.0  author      None          None  None  \n",
       "27683     Orgao    0.0  author      None          None  None  \n",
       "27684     Orgao    0.0  author      None          None  None  \n",
       "27685     Orgao    0.0  author      None          None  None  \n",
       "\n",
       "[983 rows x 9 columns]"
      ]
     },
     "execution_count": 188,
     "metadata": {},
     "output_type": "execute_result"
    }
   ],
   "source": [
    "node_main_df[node_main_df['bigtype'].eq('author')]"
   ]
  },
  {
   "cell_type": "code",
   "execution_count": 168,
   "id": "73786b7f",
   "metadata": {},
   "outputs": [],
   "source": [
    "# Get the largest connected component\n",
    "components = g.connected_components(mode=\"weak\")\n",
    "largest_cc = max(components, key=len)\n",
    "\n",
    "# Create subgraph from the largest component\n",
    "sub_g = g.subgraph(largest_cc)"
   ]
  },
  {
   "cell_type": "code",
   "execution_count": 169,
   "id": "05d0bd6b",
   "metadata": {},
   "outputs": [
    {
     "data": {
      "text/plain": [
       "<igraph.Graph at 0x7f42e789ed50>"
      ]
     },
     "execution_count": 169,
     "metadata": {},
     "output_type": "execute_result"
    }
   ],
   "source": [
    "sub_g"
   ]
  },
  {
   "cell_type": "code",
   "execution_count": 57,
   "id": "7848bd05",
   "metadata": {},
   "outputs": [],
   "source": [
    "vertex_metrics = get_metrics(g)\n",
    "top10_deps_eigen = top_n(vertex_metrics, \"pagerank\", 10, node_types=[\"Deputado\"])\n",
    "top10_sens_eigen = top_n(vertex_metrics, \"pagerank\", 10, node_types=[\"Senador\"])\n",
    "top10_orgs_eigen = top_n(vertex_metrics, \"pagerank\", 10, node_types=[\"Orgao\"])\n"
   ]
  },
  {
   "cell_type": "code",
   "execution_count": 58,
   "id": "81f80170",
   "metadata": {},
   "outputs": [
    {
     "data": {
      "application/vnd.microsoft.datawrangler.viewer.v0+json": {
       "columns": [
        {
         "name": "index",
         "rawType": "int64",
         "type": "integer"
        },
        {
         "name": "id",
         "rawType": "object",
         "type": "string"
        },
        {
         "name": "type",
         "rawType": "object",
         "type": "string"
        },
        {
         "name": "label",
         "rawType": "object",
         "type": "string"
        },
        {
         "name": "degree",
         "rawType": "int64",
         "type": "integer"
        },
        {
         "name": "pagerank",
         "rawType": "float64",
         "type": "float"
        },
        {
         "name": "component_id",
         "rawType": "int64",
         "type": "integer"
        }
       ],
       "ref": "8acbd7e0-dcf6-4230-bde6-1d5abbe28de6",
       "rows": [
        [
         "0",
         "CD:204544",
         "Deputado",
         "ALEXANDRE FROTA DE ANDRADE",
         "672",
         "0.00873967877020141",
         "0"
        ],
        [
         "1",
         "CD:204391",
         "Deputado",
         "JOSÉ NELTO LAGARES DAS MERCEZ",
         "312",
         "0.004279852783343481",
         "0"
        ],
        [
         "2",
         "CD:141401",
         "Deputado",
         "CARLOS GOMES BEZERRA",
         "264",
         "0.004035439214811564",
         "0"
        ],
        [
         "3",
         "CD:204488",
         "Deputado",
         "CELIO STUDART BARBOSA",
         "299",
         "0.0035481395815647764",
         "0"
        ],
        [
         "4",
         "CD:204572",
         "Deputado",
         "ALBERTO BARROS CAVALCANTE NETO",
         "289",
         "0.003365649044418286",
         "0"
        ],
        [
         "5",
         "CD:160548",
         "Deputado",
         "JONAS DONIZETTE FERREIRA",
         "232",
         "0.0033032486551842865",
         "0"
        ],
        [
         "6",
         "CD:204472",
         "Deputado",
         "JOSE ANTONIO DOS SANTOS MEDEIROS",
         "264",
         "0.003041071089975193",
         "0"
        ],
        [
         "7",
         "CD:204536",
         "Deputado",
         "KIM PATROCA KATAGUIRI",
         "289",
         "0.0030069391685185755",
         "0"
        ],
        [
         "8",
         "CD:73486",
         "Deputado",
         "DARCI POMPEO DE MATTOS",
         "265",
         "0.002966658092933886",
         "0"
        ],
        [
         "9",
         "CD:204457",
         "Deputado",
         "ROGERIO TEIXEIRA JUNIOR",
         "172",
         "0.0025053448453974214",
         "0"
        ]
       ],
       "shape": {
        "columns": 6,
        "rows": 10
       }
      },
      "text/html": [
       "<div>\n",
       "<style scoped>\n",
       "    .dataframe tbody tr th:only-of-type {\n",
       "        vertical-align: middle;\n",
       "    }\n",
       "\n",
       "    .dataframe tbody tr th {\n",
       "        vertical-align: top;\n",
       "    }\n",
       "\n",
       "    .dataframe thead th {\n",
       "        text-align: right;\n",
       "    }\n",
       "</style>\n",
       "<table border=\"1\" class=\"dataframe\">\n",
       "  <thead>\n",
       "    <tr style=\"text-align: right;\">\n",
       "      <th></th>\n",
       "      <th>id</th>\n",
       "      <th>type</th>\n",
       "      <th>label</th>\n",
       "      <th>degree</th>\n",
       "      <th>pagerank</th>\n",
       "      <th>component_id</th>\n",
       "    </tr>\n",
       "  </thead>\n",
       "  <tbody>\n",
       "    <tr>\n",
       "      <th>0</th>\n",
       "      <td>CD:204544</td>\n",
       "      <td>Deputado</td>\n",
       "      <td>ALEXANDRE FROTA DE ANDRADE</td>\n",
       "      <td>672</td>\n",
       "      <td>0.008740</td>\n",
       "      <td>0</td>\n",
       "    </tr>\n",
       "    <tr>\n",
       "      <th>1</th>\n",
       "      <td>CD:204391</td>\n",
       "      <td>Deputado</td>\n",
       "      <td>JOSÉ NELTO LAGARES DAS MERCEZ</td>\n",
       "      <td>312</td>\n",
       "      <td>0.004280</td>\n",
       "      <td>0</td>\n",
       "    </tr>\n",
       "    <tr>\n",
       "      <th>2</th>\n",
       "      <td>CD:141401</td>\n",
       "      <td>Deputado</td>\n",
       "      <td>CARLOS GOMES BEZERRA</td>\n",
       "      <td>264</td>\n",
       "      <td>0.004035</td>\n",
       "      <td>0</td>\n",
       "    </tr>\n",
       "    <tr>\n",
       "      <th>3</th>\n",
       "      <td>CD:204488</td>\n",
       "      <td>Deputado</td>\n",
       "      <td>CELIO STUDART BARBOSA</td>\n",
       "      <td>299</td>\n",
       "      <td>0.003548</td>\n",
       "      <td>0</td>\n",
       "    </tr>\n",
       "    <tr>\n",
       "      <th>4</th>\n",
       "      <td>CD:204572</td>\n",
       "      <td>Deputado</td>\n",
       "      <td>ALBERTO BARROS CAVALCANTE NETO</td>\n",
       "      <td>289</td>\n",
       "      <td>0.003366</td>\n",
       "      <td>0</td>\n",
       "    </tr>\n",
       "    <tr>\n",
       "      <th>5</th>\n",
       "      <td>CD:160548</td>\n",
       "      <td>Deputado</td>\n",
       "      <td>JONAS DONIZETTE FERREIRA</td>\n",
       "      <td>232</td>\n",
       "      <td>0.003303</td>\n",
       "      <td>0</td>\n",
       "    </tr>\n",
       "    <tr>\n",
       "      <th>6</th>\n",
       "      <td>CD:204472</td>\n",
       "      <td>Deputado</td>\n",
       "      <td>JOSE ANTONIO DOS SANTOS MEDEIROS</td>\n",
       "      <td>264</td>\n",
       "      <td>0.003041</td>\n",
       "      <td>0</td>\n",
       "    </tr>\n",
       "    <tr>\n",
       "      <th>7</th>\n",
       "      <td>CD:204536</td>\n",
       "      <td>Deputado</td>\n",
       "      <td>KIM PATROCA KATAGUIRI</td>\n",
       "      <td>289</td>\n",
       "      <td>0.003007</td>\n",
       "      <td>0</td>\n",
       "    </tr>\n",
       "    <tr>\n",
       "      <th>8</th>\n",
       "      <td>CD:73486</td>\n",
       "      <td>Deputado</td>\n",
       "      <td>DARCI POMPEO DE MATTOS</td>\n",
       "      <td>265</td>\n",
       "      <td>0.002967</td>\n",
       "      <td>0</td>\n",
       "    </tr>\n",
       "    <tr>\n",
       "      <th>9</th>\n",
       "      <td>CD:204457</td>\n",
       "      <td>Deputado</td>\n",
       "      <td>ROGERIO TEIXEIRA JUNIOR</td>\n",
       "      <td>172</td>\n",
       "      <td>0.002505</td>\n",
       "      <td>0</td>\n",
       "    </tr>\n",
       "  </tbody>\n",
       "</table>\n",
       "</div>"
      ],
      "text/plain": [
       "          id      type                             label  degree  pagerank  \\\n",
       "0  CD:204544  Deputado        ALEXANDRE FROTA DE ANDRADE     672  0.008740   \n",
       "1  CD:204391  Deputado     JOSÉ NELTO LAGARES DAS MERCEZ     312  0.004280   \n",
       "2  CD:141401  Deputado              CARLOS GOMES BEZERRA     264  0.004035   \n",
       "3  CD:204488  Deputado             CELIO STUDART BARBOSA     299  0.003548   \n",
       "4  CD:204572  Deputado    ALBERTO BARROS CAVALCANTE NETO     289  0.003366   \n",
       "5  CD:160548  Deputado          JONAS DONIZETTE FERREIRA     232  0.003303   \n",
       "6  CD:204472  Deputado  JOSE ANTONIO DOS SANTOS MEDEIROS     264  0.003041   \n",
       "7  CD:204536  Deputado             KIM PATROCA KATAGUIRI     289  0.003007   \n",
       "8   CD:73486  Deputado            DARCI POMPEO DE MATTOS     265  0.002967   \n",
       "9  CD:204457  Deputado           ROGERIO TEIXEIRA JUNIOR     172  0.002505   \n",
       "\n",
       "   component_id  \n",
       "0             0  \n",
       "1             0  \n",
       "2             0  \n",
       "3             0  \n",
       "4             0  \n",
       "5             0  \n",
       "6             0  \n",
       "7             0  \n",
       "8             0  \n",
       "9             0  "
      ]
     },
     "execution_count": 58,
     "metadata": {},
     "output_type": "execute_result"
    }
   ],
   "source": [
    "top10_deps_eigen"
   ]
  },
  {
   "cell_type": "code",
   "execution_count": 59,
   "id": "25852676",
   "metadata": {},
   "outputs": [
    {
     "data": {
      "application/vnd.microsoft.datawrangler.viewer.v0+json": {
       "columns": [
        {
         "name": "index",
         "rawType": "int64",
         "type": "integer"
        },
        {
         "name": "id",
         "rawType": "object",
         "type": "string"
        },
        {
         "name": "type",
         "rawType": "object",
         "type": "string"
        },
        {
         "name": "label",
         "rawType": "object",
         "type": "string"
        },
        {
         "name": "degree",
         "rawType": "int64",
         "type": "integer"
        },
        {
         "name": "pagerank",
         "rawType": "float64",
         "type": "float"
        },
        {
         "name": "component_id",
         "rawType": "int64",
         "type": "integer"
        }
       ],
       "ref": "abbe6f39-a4ff-4e6a-906a-92a82c956bc3",
       "rows": [
        [
         "0",
         "SS:2331",
         "Senador",
         "Rose de Freitas",
         "197",
         "0.0009235440920811883",
         "0"
        ],
        [
         "1",
         "SS:825",
         "Senador",
         "Paulo Paim",
         "112",
         "0.0005509739362947366",
         "0"
        ],
        [
         "2",
         "SS:345",
         "Senador",
         "Flávio Arns",
         "77",
         "0.0005026958876675864",
         "0"
        ],
        [
         "3",
         "SS:5748",
         "Senador",
         "Veneziano Vital do Rêgo",
         "80",
         "0.0004907805263477791",
         "0"
        ],
        [
         "4",
         "SS:5895",
         "Senador",
         "Jorge Kajuru",
         "79",
         "0.00044498330980644545",
         "0"
        ],
        [
         "5",
         "SS:945",
         "Senador",
         "Alvaro Dias",
         "82",
         "0.00039231525936337584",
         "0"
        ],
        [
         "6",
         "SS:5352",
         "Senador",
         "Rogério Carvalho",
         "96",
         "0.000389202131930256",
         "0"
        ],
        [
         "7",
         "SS:5012",
         "Senador",
         "Randolfe Rodrigues",
         "74",
         "0.000352362353924581",
         "0"
        ],
        [
         "8",
         "SS:4981",
         "Senador",
         "Acir Gurgacz",
         "51",
         "0.0003447536608105798",
         "0"
        ],
        [
         "9",
         "SS:22",
         "Senador",
         "Esperidião Amin",
         "62",
         "0.000336703557758709",
         "0"
        ]
       ],
       "shape": {
        "columns": 6,
        "rows": 10
       }
      },
      "text/html": [
       "<div>\n",
       "<style scoped>\n",
       "    .dataframe tbody tr th:only-of-type {\n",
       "        vertical-align: middle;\n",
       "    }\n",
       "\n",
       "    .dataframe tbody tr th {\n",
       "        vertical-align: top;\n",
       "    }\n",
       "\n",
       "    .dataframe thead th {\n",
       "        text-align: right;\n",
       "    }\n",
       "</style>\n",
       "<table border=\"1\" class=\"dataframe\">\n",
       "  <thead>\n",
       "    <tr style=\"text-align: right;\">\n",
       "      <th></th>\n",
       "      <th>id</th>\n",
       "      <th>type</th>\n",
       "      <th>label</th>\n",
       "      <th>degree</th>\n",
       "      <th>pagerank</th>\n",
       "      <th>component_id</th>\n",
       "    </tr>\n",
       "  </thead>\n",
       "  <tbody>\n",
       "    <tr>\n",
       "      <th>0</th>\n",
       "      <td>SS:2331</td>\n",
       "      <td>Senador</td>\n",
       "      <td>Rose de Freitas</td>\n",
       "      <td>197</td>\n",
       "      <td>0.000924</td>\n",
       "      <td>0</td>\n",
       "    </tr>\n",
       "    <tr>\n",
       "      <th>1</th>\n",
       "      <td>SS:825</td>\n",
       "      <td>Senador</td>\n",
       "      <td>Paulo Paim</td>\n",
       "      <td>112</td>\n",
       "      <td>0.000551</td>\n",
       "      <td>0</td>\n",
       "    </tr>\n",
       "    <tr>\n",
       "      <th>2</th>\n",
       "      <td>SS:345</td>\n",
       "      <td>Senador</td>\n",
       "      <td>Flávio Arns</td>\n",
       "      <td>77</td>\n",
       "      <td>0.000503</td>\n",
       "      <td>0</td>\n",
       "    </tr>\n",
       "    <tr>\n",
       "      <th>3</th>\n",
       "      <td>SS:5748</td>\n",
       "      <td>Senador</td>\n",
       "      <td>Veneziano Vital do Rêgo</td>\n",
       "      <td>80</td>\n",
       "      <td>0.000491</td>\n",
       "      <td>0</td>\n",
       "    </tr>\n",
       "    <tr>\n",
       "      <th>4</th>\n",
       "      <td>SS:5895</td>\n",
       "      <td>Senador</td>\n",
       "      <td>Jorge Kajuru</td>\n",
       "      <td>79</td>\n",
       "      <td>0.000445</td>\n",
       "      <td>0</td>\n",
       "    </tr>\n",
       "    <tr>\n",
       "      <th>5</th>\n",
       "      <td>SS:945</td>\n",
       "      <td>Senador</td>\n",
       "      <td>Alvaro Dias</td>\n",
       "      <td>82</td>\n",
       "      <td>0.000392</td>\n",
       "      <td>0</td>\n",
       "    </tr>\n",
       "    <tr>\n",
       "      <th>6</th>\n",
       "      <td>SS:5352</td>\n",
       "      <td>Senador</td>\n",
       "      <td>Rogério Carvalho</td>\n",
       "      <td>96</td>\n",
       "      <td>0.000389</td>\n",
       "      <td>0</td>\n",
       "    </tr>\n",
       "    <tr>\n",
       "      <th>7</th>\n",
       "      <td>SS:5012</td>\n",
       "      <td>Senador</td>\n",
       "      <td>Randolfe Rodrigues</td>\n",
       "      <td>74</td>\n",
       "      <td>0.000352</td>\n",
       "      <td>0</td>\n",
       "    </tr>\n",
       "    <tr>\n",
       "      <th>8</th>\n",
       "      <td>SS:4981</td>\n",
       "      <td>Senador</td>\n",
       "      <td>Acir Gurgacz</td>\n",
       "      <td>51</td>\n",
       "      <td>0.000345</td>\n",
       "      <td>0</td>\n",
       "    </tr>\n",
       "    <tr>\n",
       "      <th>9</th>\n",
       "      <td>SS:22</td>\n",
       "      <td>Senador</td>\n",
       "      <td>Esperidião Amin</td>\n",
       "      <td>62</td>\n",
       "      <td>0.000337</td>\n",
       "      <td>0</td>\n",
       "    </tr>\n",
       "  </tbody>\n",
       "</table>\n",
       "</div>"
      ],
      "text/plain": [
       "        id     type                    label  degree  pagerank  component_id\n",
       "0  SS:2331  Senador          Rose de Freitas     197  0.000924             0\n",
       "1   SS:825  Senador               Paulo Paim     112  0.000551             0\n",
       "2   SS:345  Senador              Flávio Arns      77  0.000503             0\n",
       "3  SS:5748  Senador  Veneziano Vital do Rêgo      80  0.000491             0\n",
       "4  SS:5895  Senador             Jorge Kajuru      79  0.000445             0\n",
       "5   SS:945  Senador              Alvaro Dias      82  0.000392             0\n",
       "6  SS:5352  Senador         Rogério Carvalho      96  0.000389             0\n",
       "7  SS:5012  Senador       Randolfe Rodrigues      74  0.000352             0\n",
       "8  SS:4981  Senador             Acir Gurgacz      51  0.000345             0\n",
       "9    SS:22  Senador          Esperidião Amin      62  0.000337             0"
      ]
     },
     "execution_count": 59,
     "metadata": {},
     "output_type": "execute_result"
    }
   ],
   "source": [
    "top10_sens_eigen"
   ]
  },
  {
   "cell_type": "code",
   "execution_count": 60,
   "id": "5ebff360",
   "metadata": {},
   "outputs": [
    {
     "data": {
      "application/vnd.microsoft.datawrangler.viewer.v0+json": {
       "columns": [
        {
         "name": "index",
         "rawType": "int64",
         "type": "integer"
        },
        {
         "name": "id",
         "rawType": "object",
         "type": "string"
        },
        {
         "name": "type",
         "rawType": "object",
         "type": "string"
        },
        {
         "name": "label",
         "rawType": "object",
         "type": "string"
        },
        {
         "name": "degree",
         "rawType": "int64",
         "type": "integer"
        },
        {
         "name": "pagerank",
         "rawType": "float64",
         "type": "float"
        },
        {
         "name": "component_id",
         "rawType": "int64",
         "type": "integer"
        }
       ],
       "ref": "738cb812-d8e2-4588-8c86-509c5839f910",
       "rows": [
        [
         "0",
         "CO:253",
         "Orgao",
         "Poder Executivo",
         "1368",
         "0.012505208654596395",
         "6"
        ],
        [
         "1",
         "CO:78",
         "Orgao",
         "Senado Federal",
         "894",
         "0.0095966492669575",
         "0"
        ],
        [
         "2",
         "CO:100292",
         "Orgao",
         "CÂMARA DOS DEPUTADOS",
         "366",
         "0.008301609815687103",
         "0"
        ],
        [
         "3",
         "CO:5438",
         "Orgao",
         "Comissão de Legislação Participativa",
         "41",
         "0.0007025532071753995",
         "14"
        ],
        [
         "4",
         "CO:2014",
         "Orgao",
         "Comissão de Saúde",
         "8",
         "0.00016887257368162922",
         "19"
        ],
        [
         "5",
         "CO:382",
         "Orgao",
         "Tribunal de Justiça do Distrito Federal e dos Territórios",
         "9",
         "0.00013206701275102445",
         "36"
        ],
        [
         "6",
         "CO:101131",
         "Orgao",
         "Defensoria Pública da União",
         "10",
         "0.00013206701275102442",
         "45"
        ],
        [
         "7",
         "CO:80",
         "Orgao",
         "Supremo Tribunal Federal",
         "9",
         "0.00013206701275102442",
         "56"
        ],
        [
         "8",
         "CO:57",
         "Orgao",
         "MINISTÉRIO PÚBLICO DA UNIÃO",
         "9",
         "0.000113664232285722",
         "27"
        ],
        [
         "9",
         "CO:539426",
         "Orgao",
         "Comissão Parlamentar de Inquérito destinada a investigar as inconsistências da ordem de 20 bilhões de reais detectadas em lançamentos contábeis da empresa Americanas S.A. realizados no exercício de 2022 e em exercícios anteriores",
         "4",
         "9.526145182041957e-05",
         "78"
        ]
       ],
       "shape": {
        "columns": 6,
        "rows": 10
       }
      },
      "text/html": [
       "<div>\n",
       "<style scoped>\n",
       "    .dataframe tbody tr th:only-of-type {\n",
       "        vertical-align: middle;\n",
       "    }\n",
       "\n",
       "    .dataframe tbody tr th {\n",
       "        vertical-align: top;\n",
       "    }\n",
       "\n",
       "    .dataframe thead th {\n",
       "        text-align: right;\n",
       "    }\n",
       "</style>\n",
       "<table border=\"1\" class=\"dataframe\">\n",
       "  <thead>\n",
       "    <tr style=\"text-align: right;\">\n",
       "      <th></th>\n",
       "      <th>id</th>\n",
       "      <th>type</th>\n",
       "      <th>label</th>\n",
       "      <th>degree</th>\n",
       "      <th>pagerank</th>\n",
       "      <th>component_id</th>\n",
       "    </tr>\n",
       "  </thead>\n",
       "  <tbody>\n",
       "    <tr>\n",
       "      <th>0</th>\n",
       "      <td>CO:253</td>\n",
       "      <td>Orgao</td>\n",
       "      <td>Poder Executivo</td>\n",
       "      <td>1368</td>\n",
       "      <td>0.012505</td>\n",
       "      <td>6</td>\n",
       "    </tr>\n",
       "    <tr>\n",
       "      <th>1</th>\n",
       "      <td>CO:78</td>\n",
       "      <td>Orgao</td>\n",
       "      <td>Senado Federal</td>\n",
       "      <td>894</td>\n",
       "      <td>0.009597</td>\n",
       "      <td>0</td>\n",
       "    </tr>\n",
       "    <tr>\n",
       "      <th>2</th>\n",
       "      <td>CO:100292</td>\n",
       "      <td>Orgao</td>\n",
       "      <td>CÂMARA DOS DEPUTADOS</td>\n",
       "      <td>366</td>\n",
       "      <td>0.008302</td>\n",
       "      <td>0</td>\n",
       "    </tr>\n",
       "    <tr>\n",
       "      <th>3</th>\n",
       "      <td>CO:5438</td>\n",
       "      <td>Orgao</td>\n",
       "      <td>Comissão de Legislação Participativa</td>\n",
       "      <td>41</td>\n",
       "      <td>0.000703</td>\n",
       "      <td>14</td>\n",
       "    </tr>\n",
       "    <tr>\n",
       "      <th>4</th>\n",
       "      <td>CO:2014</td>\n",
       "      <td>Orgao</td>\n",
       "      <td>Comissão de Saúde</td>\n",
       "      <td>8</td>\n",
       "      <td>0.000169</td>\n",
       "      <td>19</td>\n",
       "    </tr>\n",
       "    <tr>\n",
       "      <th>5</th>\n",
       "      <td>CO:382</td>\n",
       "      <td>Orgao</td>\n",
       "      <td>Tribunal de Justiça do Distrito Federal e dos ...</td>\n",
       "      <td>9</td>\n",
       "      <td>0.000132</td>\n",
       "      <td>36</td>\n",
       "    </tr>\n",
       "    <tr>\n",
       "      <th>6</th>\n",
       "      <td>CO:101131</td>\n",
       "      <td>Orgao</td>\n",
       "      <td>Defensoria Pública da União</td>\n",
       "      <td>10</td>\n",
       "      <td>0.000132</td>\n",
       "      <td>45</td>\n",
       "    </tr>\n",
       "    <tr>\n",
       "      <th>7</th>\n",
       "      <td>CO:80</td>\n",
       "      <td>Orgao</td>\n",
       "      <td>Supremo Tribunal Federal</td>\n",
       "      <td>9</td>\n",
       "      <td>0.000132</td>\n",
       "      <td>56</td>\n",
       "    </tr>\n",
       "    <tr>\n",
       "      <th>8</th>\n",
       "      <td>CO:57</td>\n",
       "      <td>Orgao</td>\n",
       "      <td>MINISTÉRIO PÚBLICO DA UNIÃO</td>\n",
       "      <td>9</td>\n",
       "      <td>0.000114</td>\n",
       "      <td>27</td>\n",
       "    </tr>\n",
       "    <tr>\n",
       "      <th>9</th>\n",
       "      <td>CO:539426</td>\n",
       "      <td>Orgao</td>\n",
       "      <td>Comissão Parlamentar de Inquérito destinada a ...</td>\n",
       "      <td>4</td>\n",
       "      <td>0.000095</td>\n",
       "      <td>78</td>\n",
       "    </tr>\n",
       "  </tbody>\n",
       "</table>\n",
       "</div>"
      ],
      "text/plain": [
       "          id   type                                              label  \\\n",
       "0     CO:253  Orgao                                    Poder Executivo   \n",
       "1      CO:78  Orgao                                     Senado Federal   \n",
       "2  CO:100292  Orgao                               CÂMARA DOS DEPUTADOS   \n",
       "3    CO:5438  Orgao               Comissão de Legislação Participativa   \n",
       "4    CO:2014  Orgao                                  Comissão de Saúde   \n",
       "5     CO:382  Orgao  Tribunal de Justiça do Distrito Federal e dos ...   \n",
       "6  CO:101131  Orgao                        Defensoria Pública da União   \n",
       "7      CO:80  Orgao                           Supremo Tribunal Federal   \n",
       "8      CO:57  Orgao                        MINISTÉRIO PÚBLICO DA UNIÃO   \n",
       "9  CO:539426  Orgao  Comissão Parlamentar de Inquérito destinada a ...   \n",
       "\n",
       "   degree  pagerank  component_id  \n",
       "0    1368  0.012505             6  \n",
       "1     894  0.009597             0  \n",
       "2     366  0.008302             0  \n",
       "3      41  0.000703            14  \n",
       "4       8  0.000169            19  \n",
       "5       9  0.000132            36  \n",
       "6      10  0.000132            45  \n",
       "7       9  0.000132            56  \n",
       "8       9  0.000114            27  \n",
       "9       4  0.000095            78  "
      ]
     },
     "execution_count": 60,
     "metadata": {},
     "output_type": "execute_result"
    }
   ],
   "source": [
    "top10_orgs_eigen"
   ]
  },
  {
   "cell_type": "markdown",
   "id": "0a754285",
   "metadata": {},
   "source": [
    "## Análises por tipo de proposição\n",
    "\n",
    "Entendemos que PLs, PECs e MPs têm naturezas muito diferentes e faria mais sentido analisá-las em separado"
   ]
  },
  {
   "cell_type": "code",
   "execution_count": 61,
   "id": "00442573",
   "metadata": {},
   "outputs": [
    {
     "data": {
      "application/vnd.microsoft.datawrangler.viewer.v0+json": {
       "columns": [
        {
         "name": "index",
         "rawType": "int64",
         "type": "integer"
        },
        {
         "name": "name",
         "rawType": "object",
         "type": "string"
        },
        {
         "name": "label",
         "rawType": "object",
         "type": "string"
        },
        {
         "name": "partido",
         "rawType": "object",
         "type": "unknown"
        },
        {
         "name": "type",
         "rawType": "object",
         "type": "string"
        },
        {
         "name": "score",
         "rawType": "float64",
         "type": "float"
        },
        {
         "name": "bigtype",
         "rawType": "object",
         "type": "string"
        }
       ],
       "ref": "f83e1ed5-2d5a-4d92-805c-6be4cbf8ead7",
       "rows": [
        [
         "0",
         "CP:2187087",
         "PL 5029/2019",
         null,
         "Proposicao",
         "1.0",
         "bill"
        ],
        [
         "1",
         "CP:2190408",
         "PL 2/2019",
         null,
         "Proposicao",
         "0.25",
         "bill"
        ],
        [
         "2",
         "CP:2190417",
         "PL 10/2019",
         null,
         "Proposicao",
         "0.25",
         "bill"
        ],
        [
         "3",
         "CP:2190423",
         "PL 15/2019",
         null,
         "Proposicao",
         "0.0",
         "bill"
        ],
        [
         "4",
         "CP:2190450",
         "PL 21/2019",
         null,
         "Proposicao",
         "0.25",
         "bill"
        ],
        [
         "5",
         "CP:2190462",
         "PL 32/2019",
         null,
         "Proposicao",
         "0.25",
         "bill"
        ],
        [
         "6",
         "CP:2190472",
         "PL 39/2019",
         null,
         "Proposicao",
         "0.25",
         "bill"
        ],
        [
         "7",
         "CP:2190495",
         "PL 62/2019",
         null,
         "Proposicao",
         "0.25",
         "bill"
        ],
        [
         "8",
         "CP:2190519",
         "PL 76/2019",
         null,
         "Proposicao",
         "0.25",
         "bill"
        ],
        [
         "9",
         "CP:2190532",
         "PL 89/2019",
         null,
         "Proposicao",
         "0.25",
         "bill"
        ],
        [
         "10",
         "CP:2190556",
         "PLP 6/2019",
         null,
         "Proposicao",
         "0.25",
         "bill"
        ],
        [
         "11",
         "CP:2190579",
         "PL 119/2019",
         null,
         "Proposicao",
         "0.25",
         "bill"
        ],
        [
         "12",
         "CP:2190585",
         "PL 123/2019",
         null,
         "Proposicao",
         "1.0",
         "bill"
        ],
        [
         "13",
         "CP:2190590",
         "PL 127/2019",
         null,
         "Proposicao",
         "0.25",
         "bill"
        ],
        [
         "14",
         "CP:2190598",
         "PL 130/2019",
         null,
         "Proposicao",
         "1.0",
         "bill"
        ],
        [
         "15",
         "CP:2190603",
         "PL 135/2019",
         null,
         "Proposicao",
         "0.25",
         "bill"
        ],
        [
         "16",
         "CP:2190619",
         "PL 146/2019",
         null,
         "Proposicao",
         "0.25",
         "bill"
        ],
        [
         "17",
         "CP:2190651",
         "PL 164/2019",
         null,
         "Proposicao",
         "0.25",
         "bill"
        ],
        [
         "18",
         "CP:2190661",
         "PL 171/2019",
         null,
         "Proposicao",
         "0.25",
         "bill"
        ],
        [
         "19",
         "CP:2190692",
         "PL 185/2019",
         null,
         "Proposicao",
         "0.25",
         "bill"
        ],
        [
         "20",
         "CP:2190701",
         "PL 192/2019",
         null,
         "Proposicao",
         "0.0",
         "bill"
        ],
        [
         "21",
         "CP:2190718",
         "PL 207/2019",
         null,
         "Proposicao",
         "0.0",
         "bill"
        ],
        [
         "22",
         "CP:2190726",
         "PL 197/2019",
         null,
         "Proposicao",
         "0.25",
         "bill"
        ],
        [
         "23",
         "CP:2190729",
         "PL 213/2019",
         null,
         "Proposicao",
         "0.25",
         "bill"
        ],
        [
         "24",
         "CP:2190740",
         "PL 215/2019",
         null,
         "Proposicao",
         "0.25",
         "bill"
        ],
        [
         "25",
         "CP:2190743",
         "PL 234/2019",
         null,
         "Proposicao",
         "0.25",
         "bill"
        ],
        [
         "26",
         "CP:2190745",
         "PL 216/2019",
         null,
         "Proposicao",
         "0.25",
         "bill"
        ],
        [
         "27",
         "CP:2190748",
         "PL 217/2019",
         null,
         "Proposicao",
         "0.25",
         "bill"
        ],
        [
         "28",
         "CP:2190752",
         "PL 246/2019",
         null,
         "Proposicao",
         "0.25",
         "bill"
        ],
        [
         "29",
         "CP:2190756",
         "PL 249/2019",
         null,
         "Proposicao",
         "0.0",
         "bill"
        ],
        [
         "30",
         "CP:2190776",
         "PL 237/2019",
         null,
         "Proposicao",
         "0.25",
         "bill"
        ],
        [
         "31",
         "CP:2190781",
         "PL 290/2019",
         null,
         "Proposicao",
         "0.25",
         "bill"
        ],
        [
         "32",
         "CP:2190799",
         "PL 297/2019",
         null,
         "Proposicao",
         "0.25",
         "bill"
        ],
        [
         "33",
         "CP:2190871",
         "PL 275/2019",
         null,
         "Proposicao",
         "0.25",
         "bill"
        ],
        [
         "34",
         "CP:2190876",
         "PL 326/2019",
         null,
         "Proposicao",
         "0.0",
         "bill"
        ],
        [
         "35",
         "CP:2190899",
         "PL 343/2019",
         null,
         "Proposicao",
         "0.0",
         "bill"
        ],
        [
         "36",
         "CP:2190908",
         "PL 351/2019",
         null,
         "Proposicao",
         "0.5",
         "bill"
        ],
        [
         "37",
         "CP:2190911",
         "PL 347/2019",
         null,
         "Proposicao",
         "0.25",
         "bill"
        ],
        [
         "38",
         "CP:2190918",
         "PL 353/2019",
         null,
         "Proposicao",
         "0.25",
         "bill"
        ],
        [
         "39",
         "CP:2190984",
         "PL 362/2019",
         null,
         "Proposicao",
         "0.25",
         "bill"
        ],
        [
         "40",
         "CP:2190988",
         "PL 366/2019",
         null,
         "Proposicao",
         "0.25",
         "bill"
        ],
        [
         "41",
         "CP:2190994",
         "PL 371/2019",
         null,
         "Proposicao",
         "0.25",
         "bill"
        ],
        [
         "42",
         "CP:2191010",
         "PL 373/2019",
         null,
         "Proposicao",
         "0.25",
         "bill"
        ],
        [
         "43",
         "CP:2191030",
         "PLP 9/2019",
         null,
         "Proposicao",
         "0.0",
         "bill"
        ],
        [
         "44",
         "CP:2191045",
         "PL 379/2019",
         null,
         "Proposicao",
         "0.0",
         "bill"
        ],
        [
         "45",
         "CP:2191047",
         "PL 381/2019",
         null,
         "Proposicao",
         "0.0",
         "bill"
        ],
        [
         "46",
         "CP:2191088",
         "PL 418/2019",
         null,
         "Proposicao",
         "0.0",
         "bill"
        ],
        [
         "47",
         "CP:2191093",
         "PL 423/2019",
         null,
         "Proposicao",
         "0.25",
         "bill"
        ],
        [
         "48",
         "CP:2191094",
         "PL 424/2019",
         null,
         "Proposicao",
         "0.25",
         "bill"
        ],
        [
         "49",
         "CP:2191116",
         "PL 443/2019",
         null,
         "Proposicao",
         "0.25",
         "bill"
        ]
       ],
       "shape": {
        "columns": 6,
        "rows": 28629
       }
      },
      "text/html": [
       "<div>\n",
       "<style scoped>\n",
       "    .dataframe tbody tr th:only-of-type {\n",
       "        vertical-align: middle;\n",
       "    }\n",
       "\n",
       "    .dataframe tbody tr th {\n",
       "        vertical-align: top;\n",
       "    }\n",
       "\n",
       "    .dataframe thead th {\n",
       "        text-align: right;\n",
       "    }\n",
       "</style>\n",
       "<table border=\"1\" class=\"dataframe\">\n",
       "  <thead>\n",
       "    <tr style=\"text-align: right;\">\n",
       "      <th></th>\n",
       "      <th>name</th>\n",
       "      <th>label</th>\n",
       "      <th>partido</th>\n",
       "      <th>type</th>\n",
       "      <th>score</th>\n",
       "      <th>bigtype</th>\n",
       "    </tr>\n",
       "  </thead>\n",
       "  <tbody>\n",
       "    <tr>\n",
       "      <th>0</th>\n",
       "      <td>CP:2187087</td>\n",
       "      <td>PL 5029/2019</td>\n",
       "      <td>None</td>\n",
       "      <td>Proposicao</td>\n",
       "      <td>1.00</td>\n",
       "      <td>bill</td>\n",
       "    </tr>\n",
       "    <tr>\n",
       "      <th>1</th>\n",
       "      <td>CP:2190408</td>\n",
       "      <td>PL 2/2019</td>\n",
       "      <td>None</td>\n",
       "      <td>Proposicao</td>\n",
       "      <td>0.25</td>\n",
       "      <td>bill</td>\n",
       "    </tr>\n",
       "    <tr>\n",
       "      <th>2</th>\n",
       "      <td>CP:2190417</td>\n",
       "      <td>PL 10/2019</td>\n",
       "      <td>None</td>\n",
       "      <td>Proposicao</td>\n",
       "      <td>0.25</td>\n",
       "      <td>bill</td>\n",
       "    </tr>\n",
       "    <tr>\n",
       "      <th>3</th>\n",
       "      <td>CP:2190423</td>\n",
       "      <td>PL 15/2019</td>\n",
       "      <td>None</td>\n",
       "      <td>Proposicao</td>\n",
       "      <td>0.00</td>\n",
       "      <td>bill</td>\n",
       "    </tr>\n",
       "    <tr>\n",
       "      <th>4</th>\n",
       "      <td>CP:2190450</td>\n",
       "      <td>PL 21/2019</td>\n",
       "      <td>None</td>\n",
       "      <td>Proposicao</td>\n",
       "      <td>0.25</td>\n",
       "      <td>bill</td>\n",
       "    </tr>\n",
       "    <tr>\n",
       "      <th>...</th>\n",
       "      <td>...</td>\n",
       "      <td>...</td>\n",
       "      <td>...</td>\n",
       "      <td>...</td>\n",
       "      <td>...</td>\n",
       "      <td>...</td>\n",
       "    </tr>\n",
       "    <tr>\n",
       "      <th>29244</th>\n",
       "      <td>SS:6295</td>\n",
       "      <td>Carlos Fávaro</td>\n",
       "      <td>PSD/MT</td>\n",
       "      <td>Senador</td>\n",
       "      <td>0.00</td>\n",
       "      <td>author</td>\n",
       "    </tr>\n",
       "    <tr>\n",
       "      <th>29245</th>\n",
       "      <td>SE:7352398</td>\n",
       "      <td>CPI da Pandemia</td>\n",
       "      <td>None</td>\n",
       "      <td>Orgao</td>\n",
       "      <td>0.00</td>\n",
       "      <td>author</td>\n",
       "    </tr>\n",
       "    <tr>\n",
       "      <th>29246</th>\n",
       "      <td>SE:55226</td>\n",
       "      <td>Comissão Diretora</td>\n",
       "      <td>None</td>\n",
       "      <td>Orgao</td>\n",
       "      <td>0.00</td>\n",
       "      <td>author</td>\n",
       "    </tr>\n",
       "    <tr>\n",
       "      <th>29247</th>\n",
       "      <td>SE:3947422</td>\n",
       "      <td>Comissão de Direitos Humanos e Legislação Part...</td>\n",
       "      <td>None</td>\n",
       "      <td>Orgao</td>\n",
       "      <td>0.00</td>\n",
       "      <td>author</td>\n",
       "    </tr>\n",
       "    <tr>\n",
       "      <th>29248</th>\n",
       "      <td>SE:3927825</td>\n",
       "      <td>Comissão de Meio Ambiente</td>\n",
       "      <td>None</td>\n",
       "      <td>Orgao</td>\n",
       "      <td>0.00</td>\n",
       "      <td>author</td>\n",
       "    </tr>\n",
       "  </tbody>\n",
       "</table>\n",
       "<p>28629 rows × 6 columns</p>\n",
       "</div>"
      ],
      "text/plain": [
       "             name                                              label partido  \\\n",
       "0      CP:2187087                                       PL 5029/2019    None   \n",
       "1      CP:2190408                                          PL 2/2019    None   \n",
       "2      CP:2190417                                         PL 10/2019    None   \n",
       "3      CP:2190423                                         PL 15/2019    None   \n",
       "4      CP:2190450                                         PL 21/2019    None   \n",
       "...           ...                                                ...     ...   \n",
       "29244     SS:6295                                      Carlos Fávaro  PSD/MT   \n",
       "29245  SE:7352398                                    CPI da Pandemia    None   \n",
       "29246    SE:55226                                  Comissão Diretora    None   \n",
       "29247  SE:3947422  Comissão de Direitos Humanos e Legislação Part...    None   \n",
       "29248  SE:3927825                          Comissão de Meio Ambiente    None   \n",
       "\n",
       "             type  score bigtype  \n",
       "0      Proposicao   1.00    bill  \n",
       "1      Proposicao   0.25    bill  \n",
       "2      Proposicao   0.25    bill  \n",
       "3      Proposicao   0.00    bill  \n",
       "4      Proposicao   0.25    bill  \n",
       "...           ...    ...     ...  \n",
       "29244     Senador   0.00  author  \n",
       "29245       Orgao   0.00  author  \n",
       "29246       Orgao   0.00  author  \n",
       "29247       Orgao   0.00  author  \n",
       "29248       Orgao   0.00  author  \n",
       "\n",
       "[28629 rows x 6 columns]"
      ]
     },
     "execution_count": 61,
     "metadata": {},
     "output_type": "execute_result"
    }
   ],
   "source": [
    "pl_node_df = node_df[(node_df['label'].str.startswith(\"PL\"))|(node_df['bigtype'].ne('bill'))].copy()\n",
    "pl_node_df, pl_edge_df = prune_graph(pl_node_df, edge_df.copy())\n",
    "pl_node_df\n"
   ]
  },
  {
   "cell_type": "code",
   "execution_count": 62,
   "id": "49ec0510",
   "metadata": {},
   "outputs": [],
   "source": [
    "pl_g = build_graph(pl_node_df, pl_edge_df)\n",
    "pl_vertex_metrics = get_metrics(pl_g)\n",
    "top10_deps_eigen = top_n(pl_vertex_metrics, \"pagerank\", 10, node_types=[\"Deputado\"])\n",
    "top10_sens_eigen = top_n(pl_vertex_metrics, \"pagerank\", 10, node_types=[\"Senador\"])\n",
    "top10_orgs_eigen = top_n(pl_vertex_metrics, \"pagerank\", 10, node_types=[\"Orgao\"])"
   ]
  },
  {
   "cell_type": "code",
   "execution_count": 63,
   "id": "a4120b83",
   "metadata": {},
   "outputs": [
    {
     "data": {
      "application/vnd.microsoft.datawrangler.viewer.v0+json": {
       "columns": [
        {
         "name": "index",
         "rawType": "int64",
         "type": "integer"
        },
        {
         "name": "id",
         "rawType": "object",
         "type": "string"
        },
        {
         "name": "type",
         "rawType": "object",
         "type": "string"
        },
        {
         "name": "label",
         "rawType": "object",
         "type": "string"
        },
        {
         "name": "degree",
         "rawType": "int64",
         "type": "integer"
        },
        {
         "name": "pagerank",
         "rawType": "float64",
         "type": "float"
        },
        {
         "name": "component_id",
         "rawType": "int64",
         "type": "integer"
        }
       ],
       "ref": "63015548-5cce-4ca8-9f39-ae40188e1baa",
       "rows": [
        [
         "0",
         "CD:204544",
         "Deputado",
         "ALEXANDRE FROTA DE ANDRADE",
         "672",
         "0.008955907687552929",
         "0"
        ],
        [
         "1",
         "CD:204391",
         "Deputado",
         "JOSÉ NELTO LAGARES DAS MERCEZ",
         "308",
         "0.004429466126001937",
         "0"
        ],
        [
         "2",
         "CD:141401",
         "Deputado",
         "CARLOS GOMES BEZERRA",
         "264",
         "0.004131670470245519",
         "0"
        ],
        [
         "3",
         "CD:204488",
         "Deputado",
         "CELIO STUDART BARBOSA",
         "296",
         "0.00366331741643366",
         "0"
        ],
        [
         "4",
         "CD:204572",
         "Deputado",
         "ALBERTO BARROS CAVALCANTE NETO",
         "279",
         "0.0034620636530377316",
         "0"
        ],
        [
         "5",
         "CD:160548",
         "Deputado",
         "JONAS DONIZETTE FERREIRA",
         "232",
         "0.003388208284998597",
         "0"
        ],
        [
         "6",
         "CD:204472",
         "Deputado",
         "JOSE ANTONIO DOS SANTOS MEDEIROS",
         "256",
         "0.0031671896566424986",
         "0"
        ],
        [
         "7",
         "CD:204536",
         "Deputado",
         "KIM PATROCA KATAGUIRI",
         "278",
         "0.0030907935983661293",
         "0"
        ],
        [
         "8",
         "CD:73486",
         "Deputado",
         "DARCI POMPEO DE MATTOS",
         "262",
         "0.003075192523491258",
         "0"
        ],
        [
         "9",
         "CD:204457",
         "Deputado",
         "ROGERIO TEIXEIRA JUNIOR",
         "169",
         "0.00264688456294786",
         "0"
        ]
       ],
       "shape": {
        "columns": 6,
        "rows": 10
       }
      },
      "text/html": [
       "<div>\n",
       "<style scoped>\n",
       "    .dataframe tbody tr th:only-of-type {\n",
       "        vertical-align: middle;\n",
       "    }\n",
       "\n",
       "    .dataframe tbody tr th {\n",
       "        vertical-align: top;\n",
       "    }\n",
       "\n",
       "    .dataframe thead th {\n",
       "        text-align: right;\n",
       "    }\n",
       "</style>\n",
       "<table border=\"1\" class=\"dataframe\">\n",
       "  <thead>\n",
       "    <tr style=\"text-align: right;\">\n",
       "      <th></th>\n",
       "      <th>id</th>\n",
       "      <th>type</th>\n",
       "      <th>label</th>\n",
       "      <th>degree</th>\n",
       "      <th>pagerank</th>\n",
       "      <th>component_id</th>\n",
       "    </tr>\n",
       "  </thead>\n",
       "  <tbody>\n",
       "    <tr>\n",
       "      <th>0</th>\n",
       "      <td>CD:204544</td>\n",
       "      <td>Deputado</td>\n",
       "      <td>ALEXANDRE FROTA DE ANDRADE</td>\n",
       "      <td>672</td>\n",
       "      <td>0.008956</td>\n",
       "      <td>0</td>\n",
       "    </tr>\n",
       "    <tr>\n",
       "      <th>1</th>\n",
       "      <td>CD:204391</td>\n",
       "      <td>Deputado</td>\n",
       "      <td>JOSÉ NELTO LAGARES DAS MERCEZ</td>\n",
       "      <td>308</td>\n",
       "      <td>0.004429</td>\n",
       "      <td>0</td>\n",
       "    </tr>\n",
       "    <tr>\n",
       "      <th>2</th>\n",
       "      <td>CD:141401</td>\n",
       "      <td>Deputado</td>\n",
       "      <td>CARLOS GOMES BEZERRA</td>\n",
       "      <td>264</td>\n",
       "      <td>0.004132</td>\n",
       "      <td>0</td>\n",
       "    </tr>\n",
       "    <tr>\n",
       "      <th>3</th>\n",
       "      <td>CD:204488</td>\n",
       "      <td>Deputado</td>\n",
       "      <td>CELIO STUDART BARBOSA</td>\n",
       "      <td>296</td>\n",
       "      <td>0.003663</td>\n",
       "      <td>0</td>\n",
       "    </tr>\n",
       "    <tr>\n",
       "      <th>4</th>\n",
       "      <td>CD:204572</td>\n",
       "      <td>Deputado</td>\n",
       "      <td>ALBERTO BARROS CAVALCANTE NETO</td>\n",
       "      <td>279</td>\n",
       "      <td>0.003462</td>\n",
       "      <td>0</td>\n",
       "    </tr>\n",
       "    <tr>\n",
       "      <th>5</th>\n",
       "      <td>CD:160548</td>\n",
       "      <td>Deputado</td>\n",
       "      <td>JONAS DONIZETTE FERREIRA</td>\n",
       "      <td>232</td>\n",
       "      <td>0.003388</td>\n",
       "      <td>0</td>\n",
       "    </tr>\n",
       "    <tr>\n",
       "      <th>6</th>\n",
       "      <td>CD:204472</td>\n",
       "      <td>Deputado</td>\n",
       "      <td>JOSE ANTONIO DOS SANTOS MEDEIROS</td>\n",
       "      <td>256</td>\n",
       "      <td>0.003167</td>\n",
       "      <td>0</td>\n",
       "    </tr>\n",
       "    <tr>\n",
       "      <th>7</th>\n",
       "      <td>CD:204536</td>\n",
       "      <td>Deputado</td>\n",
       "      <td>KIM PATROCA KATAGUIRI</td>\n",
       "      <td>278</td>\n",
       "      <td>0.003091</td>\n",
       "      <td>0</td>\n",
       "    </tr>\n",
       "    <tr>\n",
       "      <th>8</th>\n",
       "      <td>CD:73486</td>\n",
       "      <td>Deputado</td>\n",
       "      <td>DARCI POMPEO DE MATTOS</td>\n",
       "      <td>262</td>\n",
       "      <td>0.003075</td>\n",
       "      <td>0</td>\n",
       "    </tr>\n",
       "    <tr>\n",
       "      <th>9</th>\n",
       "      <td>CD:204457</td>\n",
       "      <td>Deputado</td>\n",
       "      <td>ROGERIO TEIXEIRA JUNIOR</td>\n",
       "      <td>169</td>\n",
       "      <td>0.002647</td>\n",
       "      <td>0</td>\n",
       "    </tr>\n",
       "  </tbody>\n",
       "</table>\n",
       "</div>"
      ],
      "text/plain": [
       "          id      type                             label  degree  pagerank  \\\n",
       "0  CD:204544  Deputado        ALEXANDRE FROTA DE ANDRADE     672  0.008956   \n",
       "1  CD:204391  Deputado     JOSÉ NELTO LAGARES DAS MERCEZ     308  0.004429   \n",
       "2  CD:141401  Deputado              CARLOS GOMES BEZERRA     264  0.004132   \n",
       "3  CD:204488  Deputado             CELIO STUDART BARBOSA     296  0.003663   \n",
       "4  CD:204572  Deputado    ALBERTO BARROS CAVALCANTE NETO     279  0.003462   \n",
       "5  CD:160548  Deputado          JONAS DONIZETTE FERREIRA     232  0.003388   \n",
       "6  CD:204472  Deputado  JOSE ANTONIO DOS SANTOS MEDEIROS     256  0.003167   \n",
       "7  CD:204536  Deputado             KIM PATROCA KATAGUIRI     278  0.003091   \n",
       "8   CD:73486  Deputado            DARCI POMPEO DE MATTOS     262  0.003075   \n",
       "9  CD:204457  Deputado           ROGERIO TEIXEIRA JUNIOR     169  0.002647   \n",
       "\n",
       "   component_id  \n",
       "0             0  \n",
       "1             0  \n",
       "2             0  \n",
       "3             0  \n",
       "4             0  \n",
       "5             0  \n",
       "6             0  \n",
       "7             0  \n",
       "8             0  \n",
       "9             0  "
      ]
     },
     "execution_count": 63,
     "metadata": {},
     "output_type": "execute_result"
    }
   ],
   "source": [
    "top10_deps_eigen"
   ]
  },
  {
   "cell_type": "code",
   "execution_count": 64,
   "id": "b730198c",
   "metadata": {},
   "outputs": [
    {
     "data": {
      "application/vnd.microsoft.datawrangler.viewer.v0+json": {
       "columns": [
        {
         "name": "index",
         "rawType": "int64",
         "type": "integer"
        },
        {
         "name": "id",
         "rawType": "object",
         "type": "string"
        },
        {
         "name": "type",
         "rawType": "object",
         "type": "string"
        },
        {
         "name": "label",
         "rawType": "object",
         "type": "string"
        },
        {
         "name": "degree",
         "rawType": "int64",
         "type": "integer"
        },
        {
         "name": "pagerank",
         "rawType": "float64",
         "type": "float"
        },
        {
         "name": "component_id",
         "rawType": "int64",
         "type": "integer"
        }
       ],
       "ref": "7c8d2bdf-6992-4f1c-8fb3-a7568acce126",
       "rows": [
        [
         "0",
         "SS:2331",
         "Senador",
         "Rose de Freitas",
         "163",
         "0.0010751999264019204",
         "10"
        ],
        [
         "1",
         "SS:825",
         "Senador",
         "Paulo Paim",
         "65",
         "0.000513354004639164",
         "10"
        ],
        [
         "2",
         "SS:345",
         "Senador",
         "Flávio Arns",
         "43",
         "0.00047021703995801876",
         "10"
        ],
        [
         "3",
         "SS:4981",
         "Senador",
         "Acir Gurgacz",
         "29",
         "0.0004559601791335076",
         "10"
        ],
        [
         "4",
         "SS:5748",
         "Senador",
         "Veneziano Vital do Rêgo",
         "46",
         "0.00045387042175346504",
         "10"
        ],
        [
         "5",
         "SS:5352",
         "Senador",
         "Rogério Carvalho",
         "73",
         "0.00042816871740837325",
         "10"
        ],
        [
         "6",
         "SS:945",
         "Senador",
         "Alvaro Dias",
         "43",
         "0.00041325133092271567",
         "10"
        ],
        [
         "7",
         "SS:5895",
         "Senador",
         "Jorge Kajuru",
         "37",
         "0.0003736918278082306",
         "10"
        ],
        [
         "8",
         "SS:5012",
         "Senador",
         "Randolfe Rodrigues",
         "47",
         "0.00035173833209788043",
         "10"
        ],
        [
         "9",
         "SS:5376",
         "Senador",
         "Mara Gabrilli",
         "35",
         "0.00032849042008753824",
         "10"
        ]
       ],
       "shape": {
        "columns": 6,
        "rows": 10
       }
      },
      "text/html": [
       "<div>\n",
       "<style scoped>\n",
       "    .dataframe tbody tr th:only-of-type {\n",
       "        vertical-align: middle;\n",
       "    }\n",
       "\n",
       "    .dataframe tbody tr th {\n",
       "        vertical-align: top;\n",
       "    }\n",
       "\n",
       "    .dataframe thead th {\n",
       "        text-align: right;\n",
       "    }\n",
       "</style>\n",
       "<table border=\"1\" class=\"dataframe\">\n",
       "  <thead>\n",
       "    <tr style=\"text-align: right;\">\n",
       "      <th></th>\n",
       "      <th>id</th>\n",
       "      <th>type</th>\n",
       "      <th>label</th>\n",
       "      <th>degree</th>\n",
       "      <th>pagerank</th>\n",
       "      <th>component_id</th>\n",
       "    </tr>\n",
       "  </thead>\n",
       "  <tbody>\n",
       "    <tr>\n",
       "      <th>0</th>\n",
       "      <td>SS:2331</td>\n",
       "      <td>Senador</td>\n",
       "      <td>Rose de Freitas</td>\n",
       "      <td>163</td>\n",
       "      <td>0.001075</td>\n",
       "      <td>10</td>\n",
       "    </tr>\n",
       "    <tr>\n",
       "      <th>1</th>\n",
       "      <td>SS:825</td>\n",
       "      <td>Senador</td>\n",
       "      <td>Paulo Paim</td>\n",
       "      <td>65</td>\n",
       "      <td>0.000513</td>\n",
       "      <td>10</td>\n",
       "    </tr>\n",
       "    <tr>\n",
       "      <th>2</th>\n",
       "      <td>SS:345</td>\n",
       "      <td>Senador</td>\n",
       "      <td>Flávio Arns</td>\n",
       "      <td>43</td>\n",
       "      <td>0.000470</td>\n",
       "      <td>10</td>\n",
       "    </tr>\n",
       "    <tr>\n",
       "      <th>3</th>\n",
       "      <td>SS:4981</td>\n",
       "      <td>Senador</td>\n",
       "      <td>Acir Gurgacz</td>\n",
       "      <td>29</td>\n",
       "      <td>0.000456</td>\n",
       "      <td>10</td>\n",
       "    </tr>\n",
       "    <tr>\n",
       "      <th>4</th>\n",
       "      <td>SS:5748</td>\n",
       "      <td>Senador</td>\n",
       "      <td>Veneziano Vital do Rêgo</td>\n",
       "      <td>46</td>\n",
       "      <td>0.000454</td>\n",
       "      <td>10</td>\n",
       "    </tr>\n",
       "    <tr>\n",
       "      <th>5</th>\n",
       "      <td>SS:5352</td>\n",
       "      <td>Senador</td>\n",
       "      <td>Rogério Carvalho</td>\n",
       "      <td>73</td>\n",
       "      <td>0.000428</td>\n",
       "      <td>10</td>\n",
       "    </tr>\n",
       "    <tr>\n",
       "      <th>6</th>\n",
       "      <td>SS:945</td>\n",
       "      <td>Senador</td>\n",
       "      <td>Alvaro Dias</td>\n",
       "      <td>43</td>\n",
       "      <td>0.000413</td>\n",
       "      <td>10</td>\n",
       "    </tr>\n",
       "    <tr>\n",
       "      <th>7</th>\n",
       "      <td>SS:5895</td>\n",
       "      <td>Senador</td>\n",
       "      <td>Jorge Kajuru</td>\n",
       "      <td>37</td>\n",
       "      <td>0.000374</td>\n",
       "      <td>10</td>\n",
       "    </tr>\n",
       "    <tr>\n",
       "      <th>8</th>\n",
       "      <td>SS:5012</td>\n",
       "      <td>Senador</td>\n",
       "      <td>Randolfe Rodrigues</td>\n",
       "      <td>47</td>\n",
       "      <td>0.000352</td>\n",
       "      <td>10</td>\n",
       "    </tr>\n",
       "    <tr>\n",
       "      <th>9</th>\n",
       "      <td>SS:5376</td>\n",
       "      <td>Senador</td>\n",
       "      <td>Mara Gabrilli</td>\n",
       "      <td>35</td>\n",
       "      <td>0.000328</td>\n",
       "      <td>10</td>\n",
       "    </tr>\n",
       "  </tbody>\n",
       "</table>\n",
       "</div>"
      ],
      "text/plain": [
       "        id     type                    label  degree  pagerank  component_id\n",
       "0  SS:2331  Senador          Rose de Freitas     163  0.001075            10\n",
       "1   SS:825  Senador               Paulo Paim      65  0.000513            10\n",
       "2   SS:345  Senador              Flávio Arns      43  0.000470            10\n",
       "3  SS:4981  Senador             Acir Gurgacz      29  0.000456            10\n",
       "4  SS:5748  Senador  Veneziano Vital do Rêgo      46  0.000454            10\n",
       "5  SS:5352  Senador         Rogério Carvalho      73  0.000428            10\n",
       "6   SS:945  Senador              Alvaro Dias      43  0.000413            10\n",
       "7  SS:5895  Senador             Jorge Kajuru      37  0.000374            10\n",
       "8  SS:5012  Senador       Randolfe Rodrigues      47  0.000352            10\n",
       "9  SS:5376  Senador            Mara Gabrilli      35  0.000328            10"
      ]
     },
     "execution_count": 64,
     "metadata": {},
     "output_type": "execute_result"
    }
   ],
   "source": [
    "top10_sens_eigen"
   ]
  },
  {
   "cell_type": "code",
   "execution_count": 65,
   "id": "3e1284d3",
   "metadata": {},
   "outputs": [
    {
     "data": {
      "application/vnd.microsoft.datawrangler.viewer.v0+json": {
       "columns": [
        {
         "name": "index",
         "rawType": "int64",
         "type": "integer"
        },
        {
         "name": "id",
         "rawType": "object",
         "type": "string"
        },
        {
         "name": "type",
         "rawType": "object",
         "type": "string"
        },
        {
         "name": "label",
         "rawType": "object",
         "type": "string"
        },
        {
         "name": "degree",
         "rawType": "int64",
         "type": "integer"
        },
        {
         "name": "pagerank",
         "rawType": "float64",
         "type": "float"
        },
        {
         "name": "component_id",
         "rawType": "int64",
         "type": "integer"
        }
       ],
       "ref": "615be5b5-7135-4740-bb7e-3b2fca18b666",
       "rows": [
        [
         "0",
         "CO:78",
         "Orgao",
         "Senado Federal",
         "856",
         "0.01201546289346169",
         "10"
        ],
        [
         "1",
         "CO:100292",
         "Orgao",
         "CÂMARA DOS DEPUTADOS",
         "359",
         "0.008650077242660951",
         "0"
        ],
        [
         "2",
         "CO:253",
         "Orgao",
         "Poder Executivo",
         "600",
         "0.005842693267750423",
         "9"
        ],
        [
         "3",
         "CO:5438",
         "Orgao",
         "Comissão de Legislação Participativa",
         "41",
         "0.0007191177566414082",
         "24"
        ],
        [
         "4",
         "CO:2014",
         "Orgao",
         "Comissão de Saúde",
         "8",
         "0.00017285419111875974",
         "30"
        ],
        [
         "5",
         "CO:101131",
         "Orgao",
         "Defensoria Pública da União",
         "10",
         "0.00013518084177237025",
         "69"
        ],
        [
         "6",
         "CO:382",
         "Orgao",
         "Tribunal de Justiça do Distrito Federal e dos Territórios",
         "9",
         "0.00013518084177237025",
         "55"
        ],
        [
         "7",
         "CO:80",
         "Orgao",
         "Supremo Tribunal Federal",
         "9",
         "0.00013518084177237022",
         "83"
        ],
        [
         "8",
         "CO:57",
         "Orgao",
         "MINISTÉRIO PÚBLICO DA UNIÃO",
         "9",
         "0.00011634416709917548",
         "39"
        ],
        [
         "9",
         "CO:539426",
         "Orgao",
         "Comissão Parlamentar de Inquérito destinada a investigar as inconsistências da ordem de 20 bilhões de reais detectadas em lançamentos contábeis da empresa Americanas S.A. realizados no exercício de 2022 e em exercícios anteriores",
         "4",
         "9.75074924259807e-05",
         "128"
        ]
       ],
       "shape": {
        "columns": 6,
        "rows": 10
       }
      },
      "text/html": [
       "<div>\n",
       "<style scoped>\n",
       "    .dataframe tbody tr th:only-of-type {\n",
       "        vertical-align: middle;\n",
       "    }\n",
       "\n",
       "    .dataframe tbody tr th {\n",
       "        vertical-align: top;\n",
       "    }\n",
       "\n",
       "    .dataframe thead th {\n",
       "        text-align: right;\n",
       "    }\n",
       "</style>\n",
       "<table border=\"1\" class=\"dataframe\">\n",
       "  <thead>\n",
       "    <tr style=\"text-align: right;\">\n",
       "      <th></th>\n",
       "      <th>id</th>\n",
       "      <th>type</th>\n",
       "      <th>label</th>\n",
       "      <th>degree</th>\n",
       "      <th>pagerank</th>\n",
       "      <th>component_id</th>\n",
       "    </tr>\n",
       "  </thead>\n",
       "  <tbody>\n",
       "    <tr>\n",
       "      <th>0</th>\n",
       "      <td>CO:78</td>\n",
       "      <td>Orgao</td>\n",
       "      <td>Senado Federal</td>\n",
       "      <td>856</td>\n",
       "      <td>0.012015</td>\n",
       "      <td>10</td>\n",
       "    </tr>\n",
       "    <tr>\n",
       "      <th>1</th>\n",
       "      <td>CO:100292</td>\n",
       "      <td>Orgao</td>\n",
       "      <td>CÂMARA DOS DEPUTADOS</td>\n",
       "      <td>359</td>\n",
       "      <td>0.008650</td>\n",
       "      <td>0</td>\n",
       "    </tr>\n",
       "    <tr>\n",
       "      <th>2</th>\n",
       "      <td>CO:253</td>\n",
       "      <td>Orgao</td>\n",
       "      <td>Poder Executivo</td>\n",
       "      <td>600</td>\n",
       "      <td>0.005843</td>\n",
       "      <td>9</td>\n",
       "    </tr>\n",
       "    <tr>\n",
       "      <th>3</th>\n",
       "      <td>CO:5438</td>\n",
       "      <td>Orgao</td>\n",
       "      <td>Comissão de Legislação Participativa</td>\n",
       "      <td>41</td>\n",
       "      <td>0.000719</td>\n",
       "      <td>24</td>\n",
       "    </tr>\n",
       "    <tr>\n",
       "      <th>4</th>\n",
       "      <td>CO:2014</td>\n",
       "      <td>Orgao</td>\n",
       "      <td>Comissão de Saúde</td>\n",
       "      <td>8</td>\n",
       "      <td>0.000173</td>\n",
       "      <td>30</td>\n",
       "    </tr>\n",
       "    <tr>\n",
       "      <th>5</th>\n",
       "      <td>CO:101131</td>\n",
       "      <td>Orgao</td>\n",
       "      <td>Defensoria Pública da União</td>\n",
       "      <td>10</td>\n",
       "      <td>0.000135</td>\n",
       "      <td>69</td>\n",
       "    </tr>\n",
       "    <tr>\n",
       "      <th>6</th>\n",
       "      <td>CO:382</td>\n",
       "      <td>Orgao</td>\n",
       "      <td>Tribunal de Justiça do Distrito Federal e dos ...</td>\n",
       "      <td>9</td>\n",
       "      <td>0.000135</td>\n",
       "      <td>55</td>\n",
       "    </tr>\n",
       "    <tr>\n",
       "      <th>7</th>\n",
       "      <td>CO:80</td>\n",
       "      <td>Orgao</td>\n",
       "      <td>Supremo Tribunal Federal</td>\n",
       "      <td>9</td>\n",
       "      <td>0.000135</td>\n",
       "      <td>83</td>\n",
       "    </tr>\n",
       "    <tr>\n",
       "      <th>8</th>\n",
       "      <td>CO:57</td>\n",
       "      <td>Orgao</td>\n",
       "      <td>MINISTÉRIO PÚBLICO DA UNIÃO</td>\n",
       "      <td>9</td>\n",
       "      <td>0.000116</td>\n",
       "      <td>39</td>\n",
       "    </tr>\n",
       "    <tr>\n",
       "      <th>9</th>\n",
       "      <td>CO:539426</td>\n",
       "      <td>Orgao</td>\n",
       "      <td>Comissão Parlamentar de Inquérito destinada a ...</td>\n",
       "      <td>4</td>\n",
       "      <td>0.000098</td>\n",
       "      <td>128</td>\n",
       "    </tr>\n",
       "  </tbody>\n",
       "</table>\n",
       "</div>"
      ],
      "text/plain": [
       "          id   type                                              label  \\\n",
       "0      CO:78  Orgao                                     Senado Federal   \n",
       "1  CO:100292  Orgao                               CÂMARA DOS DEPUTADOS   \n",
       "2     CO:253  Orgao                                    Poder Executivo   \n",
       "3    CO:5438  Orgao               Comissão de Legislação Participativa   \n",
       "4    CO:2014  Orgao                                  Comissão de Saúde   \n",
       "5  CO:101131  Orgao                        Defensoria Pública da União   \n",
       "6     CO:382  Orgao  Tribunal de Justiça do Distrito Federal e dos ...   \n",
       "7      CO:80  Orgao                           Supremo Tribunal Federal   \n",
       "8      CO:57  Orgao                        MINISTÉRIO PÚBLICO DA UNIÃO   \n",
       "9  CO:539426  Orgao  Comissão Parlamentar de Inquérito destinada a ...   \n",
       "\n",
       "   degree  pagerank  component_id  \n",
       "0     856  0.012015            10  \n",
       "1     359  0.008650             0  \n",
       "2     600  0.005843             9  \n",
       "3      41  0.000719            24  \n",
       "4       8  0.000173            30  \n",
       "5      10  0.000135            69  \n",
       "6       9  0.000135            55  \n",
       "7       9  0.000135            83  \n",
       "8       9  0.000116            39  \n",
       "9       4  0.000098           128  "
      ]
     },
     "execution_count": 65,
     "metadata": {},
     "output_type": "execute_result"
    }
   ],
   "source": [
    "top10_orgs_eigen"
   ]
  },
  {
   "cell_type": "code",
   "execution_count": 66,
   "id": "4d4f9e1c",
   "metadata": {},
   "outputs": [],
   "source": [
    "pec_node_df = node_df[(node_df['label'].str.startswith(\"PEC\"))|(node_df['bigtype'].ne('bill'))].copy()\n",
    "pec_node_df, pec_edge_df = prune_graph(pec_node_df, edge_df.copy())\n",
    "pec_g = build_graph(pec_node_df, pec_edge_df)\n",
    "pec_vertex_metrics = get_metrics(pec_g)\n",
    "top10_deps_eigen = top_n(pec_vertex_metrics, \"pagerank\", 10, node_types=[\"Deputado\"])\n",
    "top10_sens_eigen = top_n(pec_vertex_metrics, \"pagerank\", 10, node_types=[\"Senador\"])\n",
    "top10_orgs_eigen = top_n(pec_vertex_metrics, \"pagerank\", 10, node_types=[\"Orgao\"])"
   ]
  },
  {
   "cell_type": "code",
   "execution_count": 67,
   "id": "c4609b7d",
   "metadata": {},
   "outputs": [
    {
     "data": {
      "application/vnd.microsoft.datawrangler.viewer.v0+json": {
       "columns": [
        {
         "name": "index",
         "rawType": "int64",
         "type": "integer"
        },
        {
         "name": "id",
         "rawType": "object",
         "type": "string"
        },
        {
         "name": "type",
         "rawType": "object",
         "type": "string"
        },
        {
         "name": "label",
         "rawType": "object",
         "type": "string"
        },
        {
         "name": "degree",
         "rawType": "int64",
         "type": "integer"
        },
        {
         "name": "pagerank",
         "rawType": "float64",
         "type": "float"
        },
        {
         "name": "component_id",
         "rawType": "int64",
         "type": "integer"
        }
       ],
       "ref": "402e9255-9339-4fc3-b3b9-20854c699a4b",
       "rows": [
        [
         "0",
         "CD:204374",
         "Deputado",
         "BEATRIZ KICIS TORRENTS DE SORDI",
         "11",
         "0.0023796735205747653",
         "0"
        ],
        [
         "1",
         "CD:204473",
         "Deputado",
         "ELIÉSER GIRÃO MONTEIRO FILHO",
         "14",
         "0.00214349212068769",
         "0"
        ],
        [
         "2",
         "CD:178947",
         "Deputado",
         "SOSTENES SILVA CAVALCANTE",
         "12",
         "0.0020314064742509223",
         "0"
        ],
        [
         "3",
         "CD:204507",
         "Deputado",
         "CARLA ZAMBELLI SALGADO DE OLIVEIRA",
         "11",
         "0.0019398116532583706",
         "0"
        ],
        [
         "4",
         "CD:204378",
         "Deputado",
         "JOÃO CHRISÓSTOMO DE MOURA",
         "12",
         "0.0018243938441601928",
         "0"
        ],
        [
         "5",
         "CD:204410",
         "Deputado",
         "LUISA CANZIANI DOS SANTOS SILVEIRA",
         "10",
         "0.0017846463616184858",
         "0"
        ],
        [
         "6",
         "CD:204388",
         "Deputado",
         "ALCIBIO MESQUITA BIBO NUNES",
         "9",
         "0.0016679041799135962",
         "0"
        ],
        [
         "7",
         "CD:74161",
         "Deputado",
         "REGINALDO LÁZARO DE OLIVEIRA LOPES",
         "9",
         "0.0016410303263254358",
         "0"
        ],
        [
         "8",
         "CD:204549",
         "Deputado",
         "ANTONIO JOSE AGUIAR ALBUQUERQUE",
         "8",
         "0.0016031062464005295",
         "0"
        ],
        [
         "9",
         "CD:160674",
         "Deputado",
         "HUGO MOTTA WANDERLEY DA NÓBREGA",
         "6",
         "0.0015860151897822727",
         "0"
        ]
       ],
       "shape": {
        "columns": 6,
        "rows": 10
       }
      },
      "text/html": [
       "<div>\n",
       "<style scoped>\n",
       "    .dataframe tbody tr th:only-of-type {\n",
       "        vertical-align: middle;\n",
       "    }\n",
       "\n",
       "    .dataframe tbody tr th {\n",
       "        vertical-align: top;\n",
       "    }\n",
       "\n",
       "    .dataframe thead th {\n",
       "        text-align: right;\n",
       "    }\n",
       "</style>\n",
       "<table border=\"1\" class=\"dataframe\">\n",
       "  <thead>\n",
       "    <tr style=\"text-align: right;\">\n",
       "      <th></th>\n",
       "      <th>id</th>\n",
       "      <th>type</th>\n",
       "      <th>label</th>\n",
       "      <th>degree</th>\n",
       "      <th>pagerank</th>\n",
       "      <th>component_id</th>\n",
       "    </tr>\n",
       "  </thead>\n",
       "  <tbody>\n",
       "    <tr>\n",
       "      <th>0</th>\n",
       "      <td>CD:204374</td>\n",
       "      <td>Deputado</td>\n",
       "      <td>BEATRIZ KICIS TORRENTS DE SORDI</td>\n",
       "      <td>11</td>\n",
       "      <td>0.002380</td>\n",
       "      <td>0</td>\n",
       "    </tr>\n",
       "    <tr>\n",
       "      <th>1</th>\n",
       "      <td>CD:204473</td>\n",
       "      <td>Deputado</td>\n",
       "      <td>ELIÉSER GIRÃO MONTEIRO FILHO</td>\n",
       "      <td>14</td>\n",
       "      <td>0.002143</td>\n",
       "      <td>0</td>\n",
       "    </tr>\n",
       "    <tr>\n",
       "      <th>2</th>\n",
       "      <td>CD:178947</td>\n",
       "      <td>Deputado</td>\n",
       "      <td>SOSTENES SILVA CAVALCANTE</td>\n",
       "      <td>12</td>\n",
       "      <td>0.002031</td>\n",
       "      <td>0</td>\n",
       "    </tr>\n",
       "    <tr>\n",
       "      <th>3</th>\n",
       "      <td>CD:204507</td>\n",
       "      <td>Deputado</td>\n",
       "      <td>CARLA ZAMBELLI SALGADO DE OLIVEIRA</td>\n",
       "      <td>11</td>\n",
       "      <td>0.001940</td>\n",
       "      <td>0</td>\n",
       "    </tr>\n",
       "    <tr>\n",
       "      <th>4</th>\n",
       "      <td>CD:204378</td>\n",
       "      <td>Deputado</td>\n",
       "      <td>JOÃO CHRISÓSTOMO DE MOURA</td>\n",
       "      <td>12</td>\n",
       "      <td>0.001824</td>\n",
       "      <td>0</td>\n",
       "    </tr>\n",
       "    <tr>\n",
       "      <th>5</th>\n",
       "      <td>CD:204410</td>\n",
       "      <td>Deputado</td>\n",
       "      <td>LUISA CANZIANI DOS SANTOS SILVEIRA</td>\n",
       "      <td>10</td>\n",
       "      <td>0.001785</td>\n",
       "      <td>0</td>\n",
       "    </tr>\n",
       "    <tr>\n",
       "      <th>6</th>\n",
       "      <td>CD:204388</td>\n",
       "      <td>Deputado</td>\n",
       "      <td>ALCIBIO MESQUITA BIBO NUNES</td>\n",
       "      <td>9</td>\n",
       "      <td>0.001668</td>\n",
       "      <td>0</td>\n",
       "    </tr>\n",
       "    <tr>\n",
       "      <th>7</th>\n",
       "      <td>CD:74161</td>\n",
       "      <td>Deputado</td>\n",
       "      <td>REGINALDO LÁZARO DE OLIVEIRA LOPES</td>\n",
       "      <td>9</td>\n",
       "      <td>0.001641</td>\n",
       "      <td>0</td>\n",
       "    </tr>\n",
       "    <tr>\n",
       "      <th>8</th>\n",
       "      <td>CD:204549</td>\n",
       "      <td>Deputado</td>\n",
       "      <td>ANTONIO JOSE AGUIAR ALBUQUERQUE</td>\n",
       "      <td>8</td>\n",
       "      <td>0.001603</td>\n",
       "      <td>0</td>\n",
       "    </tr>\n",
       "    <tr>\n",
       "      <th>9</th>\n",
       "      <td>CD:160674</td>\n",
       "      <td>Deputado</td>\n",
       "      <td>HUGO MOTTA WANDERLEY DA NÓBREGA</td>\n",
       "      <td>6</td>\n",
       "      <td>0.001586</td>\n",
       "      <td>0</td>\n",
       "    </tr>\n",
       "  </tbody>\n",
       "</table>\n",
       "</div>"
      ],
      "text/plain": [
       "          id      type                               label  degree  pagerank  \\\n",
       "0  CD:204374  Deputado     BEATRIZ KICIS TORRENTS DE SORDI      11  0.002380   \n",
       "1  CD:204473  Deputado        ELIÉSER GIRÃO MONTEIRO FILHO      14  0.002143   \n",
       "2  CD:178947  Deputado           SOSTENES SILVA CAVALCANTE      12  0.002031   \n",
       "3  CD:204507  Deputado  CARLA ZAMBELLI SALGADO DE OLIVEIRA      11  0.001940   \n",
       "4  CD:204378  Deputado           JOÃO CHRISÓSTOMO DE MOURA      12  0.001824   \n",
       "5  CD:204410  Deputado  LUISA CANZIANI DOS SANTOS SILVEIRA      10  0.001785   \n",
       "6  CD:204388  Deputado         ALCIBIO MESQUITA BIBO NUNES       9  0.001668   \n",
       "7   CD:74161  Deputado  REGINALDO LÁZARO DE OLIVEIRA LOPES       9  0.001641   \n",
       "8  CD:204549  Deputado     ANTONIO JOSE AGUIAR ALBUQUERQUE       8  0.001603   \n",
       "9  CD:160674  Deputado     HUGO MOTTA WANDERLEY DA NÓBREGA       6  0.001586   \n",
       "\n",
       "   component_id  \n",
       "0             0  \n",
       "1             0  \n",
       "2             0  \n",
       "3             0  \n",
       "4             0  \n",
       "5             0  \n",
       "6             0  \n",
       "7             0  \n",
       "8             0  \n",
       "9             0  "
      ]
     },
     "execution_count": 67,
     "metadata": {},
     "output_type": "execute_result"
    }
   ],
   "source": [
    "top10_deps_eigen"
   ]
  },
  {
   "cell_type": "code",
   "execution_count": 68,
   "id": "81ada462",
   "metadata": {},
   "outputs": [
    {
     "data": {
      "application/vnd.microsoft.datawrangler.viewer.v0+json": {
       "columns": [
        {
         "name": "index",
         "rawType": "int64",
         "type": "integer"
        },
        {
         "name": "id",
         "rawType": "object",
         "type": "string"
        },
        {
         "name": "type",
         "rawType": "object",
         "type": "string"
        },
        {
         "name": "label",
         "rawType": "object",
         "type": "string"
        },
        {
         "name": "degree",
         "rawType": "int64",
         "type": "integer"
        },
        {
         "name": "pagerank",
         "rawType": "float64",
         "type": "float"
        },
        {
         "name": "component_id",
         "rawType": "int64",
         "type": "integer"
        }
       ],
       "ref": "c9aa0a68-27a6-4e21-9584-6ace372783bd",
       "rows": [
        [
         "0",
         "SS:5502",
         "Senador",
         "Plínio Valério",
         "53",
         "0.0021543308344862764",
         "0"
        ],
        [
         "1",
         "SS:5985",
         "Senador",
         "Nelsinho Trad",
         "42",
         "0.0018893335139359647",
         "0"
        ],
        [
         "2",
         "SS:22",
         "Senador",
         "Esperidião Amin",
         "39",
         "0.0018128471336511776",
         "0"
        ],
        [
         "3",
         "SS:5895",
         "Senador",
         "Jorge Kajuru",
         "42",
         "0.0017459053346218075",
         "0"
        ],
        [
         "4",
         "SS:825",
         "Senador",
         "Paulo Paim",
         "47",
         "0.0017061787119103434",
         "0"
        ],
        [
         "5",
         "SS:6027",
         "Senador",
         "Mecias de Jesus",
         "32",
         "0.0015485032874867698",
         "0"
        ],
        [
         "6",
         "SS:5533",
         "Senador",
         "Lasier Martins",
         "38",
         "0.0015098856353286537",
         "0"
        ],
        [
         "7",
         "SS:5926",
         "Senador",
         "Lucas Barreto",
         "32",
         "0.0014869797531380658",
         "0"
        ],
        [
         "8",
         "SS:3806",
         "Senador",
         "Zequinha Marinho",
         "32",
         "0.0014703558307593274",
         "0"
        ],
        [
         "9",
         "SS:5982",
         "Senador",
         "Alessandro Vieira",
         "34",
         "0.0014399782881460263",
         "0"
        ]
       ],
       "shape": {
        "columns": 6,
        "rows": 10
       }
      },
      "text/html": [
       "<div>\n",
       "<style scoped>\n",
       "    .dataframe tbody tr th:only-of-type {\n",
       "        vertical-align: middle;\n",
       "    }\n",
       "\n",
       "    .dataframe tbody tr th {\n",
       "        vertical-align: top;\n",
       "    }\n",
       "\n",
       "    .dataframe thead th {\n",
       "        text-align: right;\n",
       "    }\n",
       "</style>\n",
       "<table border=\"1\" class=\"dataframe\">\n",
       "  <thead>\n",
       "    <tr style=\"text-align: right;\">\n",
       "      <th></th>\n",
       "      <th>id</th>\n",
       "      <th>type</th>\n",
       "      <th>label</th>\n",
       "      <th>degree</th>\n",
       "      <th>pagerank</th>\n",
       "      <th>component_id</th>\n",
       "    </tr>\n",
       "  </thead>\n",
       "  <tbody>\n",
       "    <tr>\n",
       "      <th>0</th>\n",
       "      <td>SS:5502</td>\n",
       "      <td>Senador</td>\n",
       "      <td>Plínio Valério</td>\n",
       "      <td>53</td>\n",
       "      <td>0.002154</td>\n",
       "      <td>0</td>\n",
       "    </tr>\n",
       "    <tr>\n",
       "      <th>1</th>\n",
       "      <td>SS:5985</td>\n",
       "      <td>Senador</td>\n",
       "      <td>Nelsinho Trad</td>\n",
       "      <td>42</td>\n",
       "      <td>0.001889</td>\n",
       "      <td>0</td>\n",
       "    </tr>\n",
       "    <tr>\n",
       "      <th>2</th>\n",
       "      <td>SS:22</td>\n",
       "      <td>Senador</td>\n",
       "      <td>Esperidião Amin</td>\n",
       "      <td>39</td>\n",
       "      <td>0.001813</td>\n",
       "      <td>0</td>\n",
       "    </tr>\n",
       "    <tr>\n",
       "      <th>3</th>\n",
       "      <td>SS:5895</td>\n",
       "      <td>Senador</td>\n",
       "      <td>Jorge Kajuru</td>\n",
       "      <td>42</td>\n",
       "      <td>0.001746</td>\n",
       "      <td>0</td>\n",
       "    </tr>\n",
       "    <tr>\n",
       "      <th>4</th>\n",
       "      <td>SS:825</td>\n",
       "      <td>Senador</td>\n",
       "      <td>Paulo Paim</td>\n",
       "      <td>47</td>\n",
       "      <td>0.001706</td>\n",
       "      <td>0</td>\n",
       "    </tr>\n",
       "    <tr>\n",
       "      <th>5</th>\n",
       "      <td>SS:6027</td>\n",
       "      <td>Senador</td>\n",
       "      <td>Mecias de Jesus</td>\n",
       "      <td>32</td>\n",
       "      <td>0.001549</td>\n",
       "      <td>0</td>\n",
       "    </tr>\n",
       "    <tr>\n",
       "      <th>6</th>\n",
       "      <td>SS:5533</td>\n",
       "      <td>Senador</td>\n",
       "      <td>Lasier Martins</td>\n",
       "      <td>38</td>\n",
       "      <td>0.001510</td>\n",
       "      <td>0</td>\n",
       "    </tr>\n",
       "    <tr>\n",
       "      <th>7</th>\n",
       "      <td>SS:5926</td>\n",
       "      <td>Senador</td>\n",
       "      <td>Lucas Barreto</td>\n",
       "      <td>32</td>\n",
       "      <td>0.001487</td>\n",
       "      <td>0</td>\n",
       "    </tr>\n",
       "    <tr>\n",
       "      <th>8</th>\n",
       "      <td>SS:3806</td>\n",
       "      <td>Senador</td>\n",
       "      <td>Zequinha Marinho</td>\n",
       "      <td>32</td>\n",
       "      <td>0.001470</td>\n",
       "      <td>0</td>\n",
       "    </tr>\n",
       "    <tr>\n",
       "      <th>9</th>\n",
       "      <td>SS:5982</td>\n",
       "      <td>Senador</td>\n",
       "      <td>Alessandro Vieira</td>\n",
       "      <td>34</td>\n",
       "      <td>0.001440</td>\n",
       "      <td>0</td>\n",
       "    </tr>\n",
       "  </tbody>\n",
       "</table>\n",
       "</div>"
      ],
      "text/plain": [
       "        id     type              label  degree  pagerank  component_id\n",
       "0  SS:5502  Senador     Plínio Valério      53  0.002154             0\n",
       "1  SS:5985  Senador      Nelsinho Trad      42  0.001889             0\n",
       "2    SS:22  Senador    Esperidião Amin      39  0.001813             0\n",
       "3  SS:5895  Senador       Jorge Kajuru      42  0.001746             0\n",
       "4   SS:825  Senador         Paulo Paim      47  0.001706             0\n",
       "5  SS:6027  Senador    Mecias de Jesus      32  0.001549             0\n",
       "6  SS:5533  Senador     Lasier Martins      38  0.001510             0\n",
       "7  SS:5926  Senador      Lucas Barreto      32  0.001487             0\n",
       "8  SS:3806  Senador   Zequinha Marinho      32  0.001470             0\n",
       "9  SS:5982  Senador  Alessandro Vieira      34  0.001440             0"
      ]
     },
     "execution_count": 68,
     "metadata": {},
     "output_type": "execute_result"
    }
   ],
   "source": [
    "top10_sens_eigen"
   ]
  },
  {
   "cell_type": "code",
   "execution_count": 69,
   "id": "f3e48bd0",
   "metadata": {},
   "outputs": [
    {
     "data": {
      "application/vnd.microsoft.datawrangler.viewer.v0+json": {
       "columns": [
        {
         "name": "index",
         "rawType": "int64",
         "type": "integer"
        },
        {
         "name": "id",
         "rawType": "object",
         "type": "string"
        },
        {
         "name": "type",
         "rawType": "object",
         "type": "string"
        },
        {
         "name": "label",
         "rawType": "object",
         "type": "string"
        },
        {
         "name": "degree",
         "rawType": "int64",
         "type": "integer"
        },
        {
         "name": "pagerank",
         "rawType": "float64",
         "type": "float"
        },
        {
         "name": "component_id",
         "rawType": "int64",
         "type": "integer"
        }
       ],
       "ref": "5be38ac2-bb64-4d42-9b18-58c3d29958cb",
       "rows": [
        [
         "0",
         "CO:78",
         "Orgao",
         "Senado Federal",
         "38",
         "0.006607192803365738",
         "0"
        ],
        [
         "1",
         "CO:100292",
         "Orgao",
         "CÂMARA DOS DEPUTADOS",
         "7",
         "0.0028553609627847993",
         "0"
        ],
        [
         "2",
         "CO:253",
         "Orgao",
         "Poder Executivo",
         "5",
         "0.002499215445151639",
         "3"
        ]
       ],
       "shape": {
        "columns": 6,
        "rows": 3
       }
      },
      "text/html": [
       "<div>\n",
       "<style scoped>\n",
       "    .dataframe tbody tr th:only-of-type {\n",
       "        vertical-align: middle;\n",
       "    }\n",
       "\n",
       "    .dataframe tbody tr th {\n",
       "        vertical-align: top;\n",
       "    }\n",
       "\n",
       "    .dataframe thead th {\n",
       "        text-align: right;\n",
       "    }\n",
       "</style>\n",
       "<table border=\"1\" class=\"dataframe\">\n",
       "  <thead>\n",
       "    <tr style=\"text-align: right;\">\n",
       "      <th></th>\n",
       "      <th>id</th>\n",
       "      <th>type</th>\n",
       "      <th>label</th>\n",
       "      <th>degree</th>\n",
       "      <th>pagerank</th>\n",
       "      <th>component_id</th>\n",
       "    </tr>\n",
       "  </thead>\n",
       "  <tbody>\n",
       "    <tr>\n",
       "      <th>0</th>\n",
       "      <td>CO:78</td>\n",
       "      <td>Orgao</td>\n",
       "      <td>Senado Federal</td>\n",
       "      <td>38</td>\n",
       "      <td>0.006607</td>\n",
       "      <td>0</td>\n",
       "    </tr>\n",
       "    <tr>\n",
       "      <th>1</th>\n",
       "      <td>CO:100292</td>\n",
       "      <td>Orgao</td>\n",
       "      <td>CÂMARA DOS DEPUTADOS</td>\n",
       "      <td>7</td>\n",
       "      <td>0.002855</td>\n",
       "      <td>0</td>\n",
       "    </tr>\n",
       "    <tr>\n",
       "      <th>2</th>\n",
       "      <td>CO:253</td>\n",
       "      <td>Orgao</td>\n",
       "      <td>Poder Executivo</td>\n",
       "      <td>5</td>\n",
       "      <td>0.002499</td>\n",
       "      <td>3</td>\n",
       "    </tr>\n",
       "  </tbody>\n",
       "</table>\n",
       "</div>"
      ],
      "text/plain": [
       "          id   type                 label  degree  pagerank  component_id\n",
       "0      CO:78  Orgao        Senado Federal      38  0.006607             0\n",
       "1  CO:100292  Orgao  CÂMARA DOS DEPUTADOS       7  0.002855             0\n",
       "2     CO:253  Orgao       Poder Executivo       5  0.002499             3"
      ]
     },
     "execution_count": 69,
     "metadata": {},
     "output_type": "execute_result"
    }
   ],
   "source": [
    "top10_orgs_eigen"
   ]
  },
  {
   "cell_type": "markdown",
   "id": "0045591a",
   "metadata": {},
   "source": [
    "(para medidas provisórias, é claro, esta análise não cabe, pois a autoria é sempre do Poder Executivo)"
   ]
  },
  {
   "cell_type": "markdown",
   "id": "e083bf0f",
   "metadata": {},
   "source": [
    "## Análise por casa legislativa"
   ]
  },
  {
   "cell_type": "code",
   "execution_count": 70,
   "id": "0b6d075b",
   "metadata": {},
   "outputs": [],
   "source": [
    "dep_node_df = node_df[(node_df['name'].str.startswith(\"CD:\"))|(node_df['bigtype'].ne('author'))].copy()\n",
    "dep_node_df, dep_edge_df = prune_graph(dep_node_df, edge_df.copy())\n",
    "dep_g = build_graph(dep_node_df, dep_edge_df)\n",
    "dep_vertex_metrics = get_metrics(dep_g)\n",
    "top10_deps_eigen = top_n(dep_vertex_metrics, \"pagerank\", 10, node_types=[\"Deputado\"])"
   ]
  },
  {
   "cell_type": "code",
   "execution_count": 71,
   "id": "173cd3e6",
   "metadata": {},
   "outputs": [
    {
     "data": {
      "application/vnd.microsoft.datawrangler.viewer.v0+json": {
       "columns": [
        {
         "name": "index",
         "rawType": "int64",
         "type": "integer"
        },
        {
         "name": "id",
         "rawType": "object",
         "type": "string"
        },
        {
         "name": "type",
         "rawType": "object",
         "type": "string"
        },
        {
         "name": "label",
         "rawType": "object",
         "type": "string"
        },
        {
         "name": "degree",
         "rawType": "int64",
         "type": "integer"
        },
        {
         "name": "pagerank",
         "rawType": "float64",
         "type": "float"
        },
        {
         "name": "component_id",
         "rawType": "int64",
         "type": "integer"
        }
       ],
       "ref": "38b3fb3d-cf88-48bc-b727-f5ec0dfa6344",
       "rows": [
        [
         "0",
         "CD:204544",
         "Deputado",
         "ALEXANDRE FROTA DE ANDRADE",
         "672",
         "0.009732566107261914",
         "0"
        ],
        [
         "1",
         "CD:204391",
         "Deputado",
         "JOSÉ NELTO LAGARES DAS MERCEZ",
         "312",
         "0.004772299690727287",
         "0"
        ],
        [
         "2",
         "CD:141401",
         "Deputado",
         "CARLOS GOMES BEZERRA",
         "264",
         "0.004569237374533339",
         "9"
        ],
        [
         "3",
         "CD:204488",
         "Deputado",
         "CELIO STUDART BARBOSA",
         "299",
         "0.0040084929929932985",
         "0"
        ],
        [
         "4",
         "CD:204572",
         "Deputado",
         "ALBERTO BARROS CAVALCANTE NETO",
         "289",
         "0.0039660606903730465",
         "0"
        ],
        [
         "5",
         "CD:160548",
         "Deputado",
         "JONAS DONIZETTE FERREIRA",
         "232",
         "0.003742368761980217",
         "0"
        ],
        [
         "6",
         "CD:204536",
         "Deputado",
         "KIM PATROCA KATAGUIRI",
         "289",
         "0.0034366595936865725",
         "0"
        ],
        [
         "7",
         "CD:204472",
         "Deputado",
         "JOSE ANTONIO DOS SANTOS MEDEIROS",
         "264",
         "0.003395651035407384",
         "0"
        ],
        [
         "8",
         "CD:73486",
         "Deputado",
         "DARCI POMPEO DE MATTOS",
         "265",
         "0.0033245604595768434",
         "0"
        ],
        [
         "9",
         "CD:204457",
         "Deputado",
         "ROGERIO TEIXEIRA JUNIOR",
         "172",
         "0.002791132319245809",
         "0"
        ]
       ],
       "shape": {
        "columns": 6,
        "rows": 10
       }
      },
      "text/html": [
       "<div>\n",
       "<style scoped>\n",
       "    .dataframe tbody tr th:only-of-type {\n",
       "        vertical-align: middle;\n",
       "    }\n",
       "\n",
       "    .dataframe tbody tr th {\n",
       "        vertical-align: top;\n",
       "    }\n",
       "\n",
       "    .dataframe thead th {\n",
       "        text-align: right;\n",
       "    }\n",
       "</style>\n",
       "<table border=\"1\" class=\"dataframe\">\n",
       "  <thead>\n",
       "    <tr style=\"text-align: right;\">\n",
       "      <th></th>\n",
       "      <th>id</th>\n",
       "      <th>type</th>\n",
       "      <th>label</th>\n",
       "      <th>degree</th>\n",
       "      <th>pagerank</th>\n",
       "      <th>component_id</th>\n",
       "    </tr>\n",
       "  </thead>\n",
       "  <tbody>\n",
       "    <tr>\n",
       "      <th>0</th>\n",
       "      <td>CD:204544</td>\n",
       "      <td>Deputado</td>\n",
       "      <td>ALEXANDRE FROTA DE ANDRADE</td>\n",
       "      <td>672</td>\n",
       "      <td>0.009733</td>\n",
       "      <td>0</td>\n",
       "    </tr>\n",
       "    <tr>\n",
       "      <th>1</th>\n",
       "      <td>CD:204391</td>\n",
       "      <td>Deputado</td>\n",
       "      <td>JOSÉ NELTO LAGARES DAS MERCEZ</td>\n",
       "      <td>312</td>\n",
       "      <td>0.004772</td>\n",
       "      <td>0</td>\n",
       "    </tr>\n",
       "    <tr>\n",
       "      <th>2</th>\n",
       "      <td>CD:141401</td>\n",
       "      <td>Deputado</td>\n",
       "      <td>CARLOS GOMES BEZERRA</td>\n",
       "      <td>264</td>\n",
       "      <td>0.004569</td>\n",
       "      <td>9</td>\n",
       "    </tr>\n",
       "    <tr>\n",
       "      <th>3</th>\n",
       "      <td>CD:204488</td>\n",
       "      <td>Deputado</td>\n",
       "      <td>CELIO STUDART BARBOSA</td>\n",
       "      <td>299</td>\n",
       "      <td>0.004008</td>\n",
       "      <td>0</td>\n",
       "    </tr>\n",
       "    <tr>\n",
       "      <th>4</th>\n",
       "      <td>CD:204572</td>\n",
       "      <td>Deputado</td>\n",
       "      <td>ALBERTO BARROS CAVALCANTE NETO</td>\n",
       "      <td>289</td>\n",
       "      <td>0.003966</td>\n",
       "      <td>0</td>\n",
       "    </tr>\n",
       "    <tr>\n",
       "      <th>5</th>\n",
       "      <td>CD:160548</td>\n",
       "      <td>Deputado</td>\n",
       "      <td>JONAS DONIZETTE FERREIRA</td>\n",
       "      <td>232</td>\n",
       "      <td>0.003742</td>\n",
       "      <td>0</td>\n",
       "    </tr>\n",
       "    <tr>\n",
       "      <th>6</th>\n",
       "      <td>CD:204536</td>\n",
       "      <td>Deputado</td>\n",
       "      <td>KIM PATROCA KATAGUIRI</td>\n",
       "      <td>289</td>\n",
       "      <td>0.003437</td>\n",
       "      <td>0</td>\n",
       "    </tr>\n",
       "    <tr>\n",
       "      <th>7</th>\n",
       "      <td>CD:204472</td>\n",
       "      <td>Deputado</td>\n",
       "      <td>JOSE ANTONIO DOS SANTOS MEDEIROS</td>\n",
       "      <td>264</td>\n",
       "      <td>0.003396</td>\n",
       "      <td>0</td>\n",
       "    </tr>\n",
       "    <tr>\n",
       "      <th>8</th>\n",
       "      <td>CD:73486</td>\n",
       "      <td>Deputado</td>\n",
       "      <td>DARCI POMPEO DE MATTOS</td>\n",
       "      <td>265</td>\n",
       "      <td>0.003325</td>\n",
       "      <td>0</td>\n",
       "    </tr>\n",
       "    <tr>\n",
       "      <th>9</th>\n",
       "      <td>CD:204457</td>\n",
       "      <td>Deputado</td>\n",
       "      <td>ROGERIO TEIXEIRA JUNIOR</td>\n",
       "      <td>172</td>\n",
       "      <td>0.002791</td>\n",
       "      <td>0</td>\n",
       "    </tr>\n",
       "  </tbody>\n",
       "</table>\n",
       "</div>"
      ],
      "text/plain": [
       "          id      type                             label  degree  pagerank  \\\n",
       "0  CD:204544  Deputado        ALEXANDRE FROTA DE ANDRADE     672  0.009733   \n",
       "1  CD:204391  Deputado     JOSÉ NELTO LAGARES DAS MERCEZ     312  0.004772   \n",
       "2  CD:141401  Deputado              CARLOS GOMES BEZERRA     264  0.004569   \n",
       "3  CD:204488  Deputado             CELIO STUDART BARBOSA     299  0.004008   \n",
       "4  CD:204572  Deputado    ALBERTO BARROS CAVALCANTE NETO     289  0.003966   \n",
       "5  CD:160548  Deputado          JONAS DONIZETTE FERREIRA     232  0.003742   \n",
       "6  CD:204536  Deputado             KIM PATROCA KATAGUIRI     289  0.003437   \n",
       "7  CD:204472  Deputado  JOSE ANTONIO DOS SANTOS MEDEIROS     264  0.003396   \n",
       "8   CD:73486  Deputado            DARCI POMPEO DE MATTOS     265  0.003325   \n",
       "9  CD:204457  Deputado           ROGERIO TEIXEIRA JUNIOR     172  0.002791   \n",
       "\n",
       "   component_id  \n",
       "0             0  \n",
       "1             0  \n",
       "2             9  \n",
       "3             0  \n",
       "4             0  \n",
       "5             0  \n",
       "6             0  \n",
       "7             0  \n",
       "8             0  \n",
       "9             0  "
      ]
     },
     "execution_count": 71,
     "metadata": {},
     "output_type": "execute_result"
    }
   ],
   "source": [
    "top10_deps_eigen"
   ]
  },
  {
   "cell_type": "code",
   "execution_count": 72,
   "id": "ef156d9d",
   "metadata": {},
   "outputs": [],
   "source": [
    "sen_node_df = node_df[(node_df['name'].str.startswith(\"SS:\"))|(node_df['bigtype'].ne('author'))].copy()\n",
    "sen_node_df, sen_edge_df = prune_graph(sen_node_df, edge_df.copy())\n",
    "sen_g = build_graph(sen_node_df, sen_edge_df)\n",
    "sen_vertex_metrics = get_metrics(sen_g)\n",
    "top10_sens_eigen = top_n(sen_vertex_metrics, \"pagerank\", 10, node_types=[\"Senador\"])"
   ]
  },
  {
   "cell_type": "code",
   "execution_count": 73,
   "id": "91fb06df",
   "metadata": {},
   "outputs": [
    {
     "data": {
      "application/vnd.microsoft.datawrangler.viewer.v0+json": {
       "columns": [
        {
         "name": "index",
         "rawType": "int64",
         "type": "integer"
        },
        {
         "name": "id",
         "rawType": "object",
         "type": "string"
        },
        {
         "name": "type",
         "rawType": "object",
         "type": "string"
        },
        {
         "name": "label",
         "rawType": "object",
         "type": "string"
        },
        {
         "name": "degree",
         "rawType": "int64",
         "type": "integer"
        },
        {
         "name": "pagerank",
         "rawType": "float64",
         "type": "float"
        },
        {
         "name": "component_id",
         "rawType": "int64",
         "type": "integer"
        }
       ],
       "ref": "5d6c5dfd-2f7a-4592-bfba-102481f88118",
       "rows": [
        [
         "0",
         "SS:2331",
         "Senador",
         "Rose de Freitas",
         "197",
         "0.019373759804595662",
         "0"
        ],
        [
         "1",
         "SS:825",
         "Senador",
         "Paulo Paim",
         "112",
         "0.01199232790653105",
         "0"
        ],
        [
         "2",
         "SS:345",
         "Senador",
         "Flávio Arns",
         "77",
         "0.011871128335115923",
         "0"
        ],
        [
         "3",
         "SS:5748",
         "Senador",
         "Veneziano Vital do Rêgo",
         "80",
         "0.011522435114865299",
         "0"
        ],
        [
         "4",
         "SS:5895",
         "Senador",
         "Jorge Kajuru",
         "79",
         "0.009662014540002277",
         "0"
        ],
        [
         "5",
         "SS:5352",
         "Senador",
         "Rogério Carvalho",
         "96",
         "0.00824497203114806",
         "0"
        ],
        [
         "6",
         "SS:945",
         "Senador",
         "Alvaro Dias",
         "82",
         "0.007871646650661463",
         "0"
        ],
        [
         "7",
         "SS:5012",
         "Senador",
         "Randolfe Rodrigues",
         "74",
         "0.00758322877211625",
         "0"
        ],
        [
         "8",
         "SS:5953",
         "Senador",
         "Fabiano Contarato",
         "63",
         "0.00749987049826106",
         "0"
        ],
        [
         "9",
         "SS:5376",
         "Senador",
         "Mara Gabrilli",
         "52",
         "0.007495907424512642",
         "0"
        ]
       ],
       "shape": {
        "columns": 6,
        "rows": 10
       }
      },
      "text/html": [
       "<div>\n",
       "<style scoped>\n",
       "    .dataframe tbody tr th:only-of-type {\n",
       "        vertical-align: middle;\n",
       "    }\n",
       "\n",
       "    .dataframe tbody tr th {\n",
       "        vertical-align: top;\n",
       "    }\n",
       "\n",
       "    .dataframe thead th {\n",
       "        text-align: right;\n",
       "    }\n",
       "</style>\n",
       "<table border=\"1\" class=\"dataframe\">\n",
       "  <thead>\n",
       "    <tr style=\"text-align: right;\">\n",
       "      <th></th>\n",
       "      <th>id</th>\n",
       "      <th>type</th>\n",
       "      <th>label</th>\n",
       "      <th>degree</th>\n",
       "      <th>pagerank</th>\n",
       "      <th>component_id</th>\n",
       "    </tr>\n",
       "  </thead>\n",
       "  <tbody>\n",
       "    <tr>\n",
       "      <th>0</th>\n",
       "      <td>SS:2331</td>\n",
       "      <td>Senador</td>\n",
       "      <td>Rose de Freitas</td>\n",
       "      <td>197</td>\n",
       "      <td>0.019374</td>\n",
       "      <td>0</td>\n",
       "    </tr>\n",
       "    <tr>\n",
       "      <th>1</th>\n",
       "      <td>SS:825</td>\n",
       "      <td>Senador</td>\n",
       "      <td>Paulo Paim</td>\n",
       "      <td>112</td>\n",
       "      <td>0.011992</td>\n",
       "      <td>0</td>\n",
       "    </tr>\n",
       "    <tr>\n",
       "      <th>2</th>\n",
       "      <td>SS:345</td>\n",
       "      <td>Senador</td>\n",
       "      <td>Flávio Arns</td>\n",
       "      <td>77</td>\n",
       "      <td>0.011871</td>\n",
       "      <td>0</td>\n",
       "    </tr>\n",
       "    <tr>\n",
       "      <th>3</th>\n",
       "      <td>SS:5748</td>\n",
       "      <td>Senador</td>\n",
       "      <td>Veneziano Vital do Rêgo</td>\n",
       "      <td>80</td>\n",
       "      <td>0.011522</td>\n",
       "      <td>0</td>\n",
       "    </tr>\n",
       "    <tr>\n",
       "      <th>4</th>\n",
       "      <td>SS:5895</td>\n",
       "      <td>Senador</td>\n",
       "      <td>Jorge Kajuru</td>\n",
       "      <td>79</td>\n",
       "      <td>0.009662</td>\n",
       "      <td>0</td>\n",
       "    </tr>\n",
       "    <tr>\n",
       "      <th>5</th>\n",
       "      <td>SS:5352</td>\n",
       "      <td>Senador</td>\n",
       "      <td>Rogério Carvalho</td>\n",
       "      <td>96</td>\n",
       "      <td>0.008245</td>\n",
       "      <td>0</td>\n",
       "    </tr>\n",
       "    <tr>\n",
       "      <th>6</th>\n",
       "      <td>SS:945</td>\n",
       "      <td>Senador</td>\n",
       "      <td>Alvaro Dias</td>\n",
       "      <td>82</td>\n",
       "      <td>0.007872</td>\n",
       "      <td>0</td>\n",
       "    </tr>\n",
       "    <tr>\n",
       "      <th>7</th>\n",
       "      <td>SS:5012</td>\n",
       "      <td>Senador</td>\n",
       "      <td>Randolfe Rodrigues</td>\n",
       "      <td>74</td>\n",
       "      <td>0.007583</td>\n",
       "      <td>0</td>\n",
       "    </tr>\n",
       "    <tr>\n",
       "      <th>8</th>\n",
       "      <td>SS:5953</td>\n",
       "      <td>Senador</td>\n",
       "      <td>Fabiano Contarato</td>\n",
       "      <td>63</td>\n",
       "      <td>0.007500</td>\n",
       "      <td>0</td>\n",
       "    </tr>\n",
       "    <tr>\n",
       "      <th>9</th>\n",
       "      <td>SS:5376</td>\n",
       "      <td>Senador</td>\n",
       "      <td>Mara Gabrilli</td>\n",
       "      <td>52</td>\n",
       "      <td>0.007496</td>\n",
       "      <td>0</td>\n",
       "    </tr>\n",
       "  </tbody>\n",
       "</table>\n",
       "</div>"
      ],
      "text/plain": [
       "        id     type                    label  degree  pagerank  component_id\n",
       "0  SS:2331  Senador          Rose de Freitas     197  0.019374             0\n",
       "1   SS:825  Senador               Paulo Paim     112  0.011992             0\n",
       "2   SS:345  Senador              Flávio Arns      77  0.011871             0\n",
       "3  SS:5748  Senador  Veneziano Vital do Rêgo      80  0.011522             0\n",
       "4  SS:5895  Senador             Jorge Kajuru      79  0.009662             0\n",
       "5  SS:5352  Senador         Rogério Carvalho      96  0.008245             0\n",
       "6   SS:945  Senador              Alvaro Dias      82  0.007872             0\n",
       "7  SS:5012  Senador       Randolfe Rodrigues      74  0.007583             0\n",
       "8  SS:5953  Senador        Fabiano Contarato      63  0.007500             0\n",
       "9  SS:5376  Senador            Mara Gabrilli      52  0.007496             0"
      ]
     },
     "execution_count": 73,
     "metadata": {},
     "output_type": "execute_result"
    }
   ],
   "source": [
    "top10_sens_eigen"
   ]
  },
  {
   "cell_type": "markdown",
   "id": "a5983f33",
   "metadata": {},
   "source": [
    "# Análise por comunidade"
   ]
  },
  {
   "cell_type": "markdown",
   "id": "ee132626",
   "metadata": {},
   "source": [
    "Faremos duas projeções bipartites. A primeira será pela multiplicidade de arestas, sem considerar o score."
   ]
  },
  {
   "cell_type": "code",
   "execution_count": 74,
   "id": "0c57e013",
   "metadata": {},
   "outputs": [
    {
     "name": "stdout",
     "output_type": "stream",
     "text": [
      "Community method used: leiden\n"
     ]
    },
    {
     "data": {
      "text/plain": [
       "0.2814232169063646"
      ]
     },
     "execution_count": 74,
     "metadata": {},
     "output_type": "execute_result"
    }
   ],
   "source": [
    "g.vs['bigtype_bool'] = [t == 'author' for t in g.vs['bigtype']]\n",
    "g_bill, g_auth = g.bipartite_projection(\n",
    "    types='bigtype_bool',\n",
    "    multiplicity=True,  # o peso reflete o número de arestas paralelas\n",
    ")\n",
    "\n",
    "cl = get_community(g_auth)\n",
    "cl.modularity"
   ]
  },
  {
   "cell_type": "markdown",
   "id": "da53c1bb",
   "metadata": {},
   "source": [
    "As indicações abaixo, portanto, indicamos os parlamentares e órgãos que estão *mais* conectados."
   ]
  },
  {
   "cell_type": "code",
   "execution_count": 75,
   "id": "4a93b465",
   "metadata": {},
   "outputs": [],
   "source": [
    "vertex_metrics = get_metrics(g_auth)\n",
    "top10_deps_eigen = top_n(vertex_metrics, \"pagerank\", 10, node_types=[\"Deputado\"])\n",
    "top10_sens_eigen = top_n(vertex_metrics, \"pagerank\", 10, node_types=[\"Senador\"])\n",
    "top10_orgs_eigen = top_n(vertex_metrics, \"pagerank\", 10, node_types=[\"Orgao\"])"
   ]
  },
  {
   "cell_type": "code",
   "execution_count": 76,
   "id": "aaa05905",
   "metadata": {},
   "outputs": [
    {
     "data": {
      "application/vnd.microsoft.datawrangler.viewer.v0+json": {
       "columns": [
        {
         "name": "index",
         "rawType": "int64",
         "type": "integer"
        },
        {
         "name": "id",
         "rawType": "object",
         "type": "string"
        },
        {
         "name": "type",
         "rawType": "object",
         "type": "string"
        },
        {
         "name": "label",
         "rawType": "object",
         "type": "string"
        },
        {
         "name": "degree",
         "rawType": "int64",
         "type": "integer"
        },
        {
         "name": "pagerank",
         "rawType": "float64",
         "type": "float"
        },
        {
         "name": "component_id",
         "rawType": "int64",
         "type": "integer"
        }
       ],
       "ref": "39bea897-0b90-4c4f-96fe-667128e9564e",
       "rows": [
        [
         "0",
         "CD:160575",
         "Deputado",
         "ÉRIKA JUCÁ KOKAY",
         "576",
         "0.005733421145263642",
         "0"
        ],
        [
         "1",
         "CD:178970",
         "Deputado",
         "JOAO SOMARIVA DANIEL",
         "529",
         "0.0053658146612949095",
         "0"
        ],
        [
         "2",
         "CD:178857",
         "Deputado",
         "JORGE JOSE SANTOS PEREIRA SOLLA",
         "514",
         "0.005277837451237752",
         "0"
        ],
        [
         "3",
         "CD:204467",
         "Deputado",
         "ROSA NEIDE SANDES DE ALMEIDA",
         "350",
         "0.005266486179978543",
         "0"
        ],
        [
         "4",
         "CD:73701",
         "Deputado",
         "BENEDITA SOUZA DA SILVA SAMPAIO",
         "516",
         "0.005023271837789712",
         "0"
        ],
        [
         "5",
         "CD:204480",
         "Deputado",
         "ROGÉRIO CORREIA DE MOURA BAPTISTA",
         "499",
         "0.005010492032058953",
         "0"
        ],
        [
         "6",
         "CD:74398",
         "Deputado",
         "MARIA DO ROSÁRIO NUNES",
         "440",
         "0.004960282927689249",
         "0"
        ],
        [
         "7",
         "CD:74160",
         "Deputado",
         "PATRUS ANANIAS DE SOUZA",
         "401",
         "0.004948957812726229",
         "0"
        ],
        [
         "8",
         "CD:160535",
         "Deputado",
         "DIONILSO MATEUS MARCON",
         "384",
         "0.0049484767037678516",
         "0"
        ],
        [
         "9",
         "CD:178986",
         "Deputado",
         "NILTO IGNACIO TATTO",
         "352",
         "0.004900359263650642",
         "0"
        ]
       ],
       "shape": {
        "columns": 6,
        "rows": 10
       }
      },
      "text/html": [
       "<div>\n",
       "<style scoped>\n",
       "    .dataframe tbody tr th:only-of-type {\n",
       "        vertical-align: middle;\n",
       "    }\n",
       "\n",
       "    .dataframe tbody tr th {\n",
       "        vertical-align: top;\n",
       "    }\n",
       "\n",
       "    .dataframe thead th {\n",
       "        text-align: right;\n",
       "    }\n",
       "</style>\n",
       "<table border=\"1\" class=\"dataframe\">\n",
       "  <thead>\n",
       "    <tr style=\"text-align: right;\">\n",
       "      <th></th>\n",
       "      <th>id</th>\n",
       "      <th>type</th>\n",
       "      <th>label</th>\n",
       "      <th>degree</th>\n",
       "      <th>pagerank</th>\n",
       "      <th>component_id</th>\n",
       "    </tr>\n",
       "  </thead>\n",
       "  <tbody>\n",
       "    <tr>\n",
       "      <th>0</th>\n",
       "      <td>CD:160575</td>\n",
       "      <td>Deputado</td>\n",
       "      <td>ÉRIKA JUCÁ KOKAY</td>\n",
       "      <td>576</td>\n",
       "      <td>0.005733</td>\n",
       "      <td>0</td>\n",
       "    </tr>\n",
       "    <tr>\n",
       "      <th>1</th>\n",
       "      <td>CD:178970</td>\n",
       "      <td>Deputado</td>\n",
       "      <td>JOAO SOMARIVA DANIEL</td>\n",
       "      <td>529</td>\n",
       "      <td>0.005366</td>\n",
       "      <td>0</td>\n",
       "    </tr>\n",
       "    <tr>\n",
       "      <th>2</th>\n",
       "      <td>CD:178857</td>\n",
       "      <td>Deputado</td>\n",
       "      <td>JORGE JOSE SANTOS PEREIRA SOLLA</td>\n",
       "      <td>514</td>\n",
       "      <td>0.005278</td>\n",
       "      <td>0</td>\n",
       "    </tr>\n",
       "    <tr>\n",
       "      <th>3</th>\n",
       "      <td>CD:204467</td>\n",
       "      <td>Deputado</td>\n",
       "      <td>ROSA NEIDE SANDES DE ALMEIDA</td>\n",
       "      <td>350</td>\n",
       "      <td>0.005266</td>\n",
       "      <td>0</td>\n",
       "    </tr>\n",
       "    <tr>\n",
       "      <th>4</th>\n",
       "      <td>CD:73701</td>\n",
       "      <td>Deputado</td>\n",
       "      <td>BENEDITA SOUZA DA SILVA SAMPAIO</td>\n",
       "      <td>516</td>\n",
       "      <td>0.005023</td>\n",
       "      <td>0</td>\n",
       "    </tr>\n",
       "    <tr>\n",
       "      <th>5</th>\n",
       "      <td>CD:204480</td>\n",
       "      <td>Deputado</td>\n",
       "      <td>ROGÉRIO CORREIA DE MOURA BAPTISTA</td>\n",
       "      <td>499</td>\n",
       "      <td>0.005010</td>\n",
       "      <td>0</td>\n",
       "    </tr>\n",
       "    <tr>\n",
       "      <th>6</th>\n",
       "      <td>CD:74398</td>\n",
       "      <td>Deputado</td>\n",
       "      <td>MARIA DO ROSÁRIO NUNES</td>\n",
       "      <td>440</td>\n",
       "      <td>0.004960</td>\n",
       "      <td>0</td>\n",
       "    </tr>\n",
       "    <tr>\n",
       "      <th>7</th>\n",
       "      <td>CD:74160</td>\n",
       "      <td>Deputado</td>\n",
       "      <td>PATRUS ANANIAS DE SOUZA</td>\n",
       "      <td>401</td>\n",
       "      <td>0.004949</td>\n",
       "      <td>0</td>\n",
       "    </tr>\n",
       "    <tr>\n",
       "      <th>8</th>\n",
       "      <td>CD:160535</td>\n",
       "      <td>Deputado</td>\n",
       "      <td>DIONILSO MATEUS MARCON</td>\n",
       "      <td>384</td>\n",
       "      <td>0.004948</td>\n",
       "      <td>0</td>\n",
       "    </tr>\n",
       "    <tr>\n",
       "      <th>9</th>\n",
       "      <td>CD:178986</td>\n",
       "      <td>Deputado</td>\n",
       "      <td>NILTO IGNACIO TATTO</td>\n",
       "      <td>352</td>\n",
       "      <td>0.004900</td>\n",
       "      <td>0</td>\n",
       "    </tr>\n",
       "  </tbody>\n",
       "</table>\n",
       "</div>"
      ],
      "text/plain": [
       "          id      type                              label  degree  pagerank  \\\n",
       "0  CD:160575  Deputado                   ÉRIKA JUCÁ KOKAY     576  0.005733   \n",
       "1  CD:178970  Deputado               JOAO SOMARIVA DANIEL     529  0.005366   \n",
       "2  CD:178857  Deputado    JORGE JOSE SANTOS PEREIRA SOLLA     514  0.005278   \n",
       "3  CD:204467  Deputado       ROSA NEIDE SANDES DE ALMEIDA     350  0.005266   \n",
       "4   CD:73701  Deputado    BENEDITA SOUZA DA SILVA SAMPAIO     516  0.005023   \n",
       "5  CD:204480  Deputado  ROGÉRIO CORREIA DE MOURA BAPTISTA     499  0.005010   \n",
       "6   CD:74398  Deputado             MARIA DO ROSÁRIO NUNES     440  0.004960   \n",
       "7   CD:74160  Deputado            PATRUS ANANIAS DE SOUZA     401  0.004949   \n",
       "8  CD:160535  Deputado             DIONILSO MATEUS MARCON     384  0.004948   \n",
       "9  CD:178986  Deputado                NILTO IGNACIO TATTO     352  0.004900   \n",
       "\n",
       "   component_id  \n",
       "0             0  \n",
       "1             0  \n",
       "2             0  \n",
       "3             0  \n",
       "4             0  \n",
       "5             0  \n",
       "6             0  \n",
       "7             0  \n",
       "8             0  \n",
       "9             0  "
      ]
     },
     "execution_count": 76,
     "metadata": {},
     "output_type": "execute_result"
    }
   ],
   "source": [
    "top10_deps_eigen"
   ]
  },
  {
   "cell_type": "code",
   "execution_count": 77,
   "id": "caf8d027",
   "metadata": {},
   "outputs": [
    {
     "data": {
      "application/vnd.microsoft.datawrangler.viewer.v0+json": {
       "columns": [
        {
         "name": "index",
         "rawType": "int64",
         "type": "integer"
        },
        {
         "name": "id",
         "rawType": "object",
         "type": "string"
        },
        {
         "name": "type",
         "rawType": "object",
         "type": "string"
        },
        {
         "name": "label",
         "rawType": "object",
         "type": "string"
        },
        {
         "name": "degree",
         "rawType": "int64",
         "type": "integer"
        },
        {
         "name": "pagerank",
         "rawType": "float64",
         "type": "float"
        },
        {
         "name": "component_id",
         "rawType": "int64",
         "type": "integer"
        }
       ],
       "ref": "8c76aedd-231a-4975-b282-3a251d2c3ee8",
       "rows": [
        [
         "0",
         "SS:5502",
         "Senador",
         "Plínio Valério",
         "120",
         "0.0028040530519172126",
         "0"
        ],
        [
         "1",
         "SS:825",
         "Senador",
         "Paulo Paim",
         "106",
         "0.0025158324928049648",
         "0"
        ],
        [
         "2",
         "SS:5985",
         "Senador",
         "Nelsinho Trad",
         "115",
         "0.002340909192134303",
         "0"
        ],
        [
         "3",
         "SS:22",
         "Senador",
         "Esperidião Amin",
         "119",
         "0.0022884870117530695",
         "0"
        ],
        [
         "4",
         "SS:5895",
         "Senador",
         "Jorge Kajuru",
         "112",
         "0.0022318972533569162",
         "0"
        ],
        [
         "5",
         "SS:4770",
         "Senador",
         "Izalci Lucas",
         "114",
         "0.002084141996690028",
         "0"
        ],
        [
         "6",
         "SS:945",
         "Senador",
         "Alvaro Dias",
         "94",
         "0.00202804873430611",
         "0"
        ],
        [
         "7",
         "SS:5979",
         "Senador",
         "Leila Barros",
         "106",
         "0.0020141629812105797",
         "0"
        ],
        [
         "8",
         "SS:5533",
         "Senador",
         "Lasier Martins",
         "93",
         "0.001964307649522596",
         "0"
        ],
        [
         "9",
         "SS:5959",
         "Senador",
         "Styvenson Valentim",
         "112",
         "0.0019563447410651255",
         "0"
        ]
       ],
       "shape": {
        "columns": 6,
        "rows": 10
       }
      },
      "text/html": [
       "<div>\n",
       "<style scoped>\n",
       "    .dataframe tbody tr th:only-of-type {\n",
       "        vertical-align: middle;\n",
       "    }\n",
       "\n",
       "    .dataframe tbody tr th {\n",
       "        vertical-align: top;\n",
       "    }\n",
       "\n",
       "    .dataframe thead th {\n",
       "        text-align: right;\n",
       "    }\n",
       "</style>\n",
       "<table border=\"1\" class=\"dataframe\">\n",
       "  <thead>\n",
       "    <tr style=\"text-align: right;\">\n",
       "      <th></th>\n",
       "      <th>id</th>\n",
       "      <th>type</th>\n",
       "      <th>label</th>\n",
       "      <th>degree</th>\n",
       "      <th>pagerank</th>\n",
       "      <th>component_id</th>\n",
       "    </tr>\n",
       "  </thead>\n",
       "  <tbody>\n",
       "    <tr>\n",
       "      <th>0</th>\n",
       "      <td>SS:5502</td>\n",
       "      <td>Senador</td>\n",
       "      <td>Plínio Valério</td>\n",
       "      <td>120</td>\n",
       "      <td>0.002804</td>\n",
       "      <td>0</td>\n",
       "    </tr>\n",
       "    <tr>\n",
       "      <th>1</th>\n",
       "      <td>SS:825</td>\n",
       "      <td>Senador</td>\n",
       "      <td>Paulo Paim</td>\n",
       "      <td>106</td>\n",
       "      <td>0.002516</td>\n",
       "      <td>0</td>\n",
       "    </tr>\n",
       "    <tr>\n",
       "      <th>2</th>\n",
       "      <td>SS:5985</td>\n",
       "      <td>Senador</td>\n",
       "      <td>Nelsinho Trad</td>\n",
       "      <td>115</td>\n",
       "      <td>0.002341</td>\n",
       "      <td>0</td>\n",
       "    </tr>\n",
       "    <tr>\n",
       "      <th>3</th>\n",
       "      <td>SS:22</td>\n",
       "      <td>Senador</td>\n",
       "      <td>Esperidião Amin</td>\n",
       "      <td>119</td>\n",
       "      <td>0.002288</td>\n",
       "      <td>0</td>\n",
       "    </tr>\n",
       "    <tr>\n",
       "      <th>4</th>\n",
       "      <td>SS:5895</td>\n",
       "      <td>Senador</td>\n",
       "      <td>Jorge Kajuru</td>\n",
       "      <td>112</td>\n",
       "      <td>0.002232</td>\n",
       "      <td>0</td>\n",
       "    </tr>\n",
       "    <tr>\n",
       "      <th>5</th>\n",
       "      <td>SS:4770</td>\n",
       "      <td>Senador</td>\n",
       "      <td>Izalci Lucas</td>\n",
       "      <td>114</td>\n",
       "      <td>0.002084</td>\n",
       "      <td>0</td>\n",
       "    </tr>\n",
       "    <tr>\n",
       "      <th>6</th>\n",
       "      <td>SS:945</td>\n",
       "      <td>Senador</td>\n",
       "      <td>Alvaro Dias</td>\n",
       "      <td>94</td>\n",
       "      <td>0.002028</td>\n",
       "      <td>0</td>\n",
       "    </tr>\n",
       "    <tr>\n",
       "      <th>7</th>\n",
       "      <td>SS:5979</td>\n",
       "      <td>Senador</td>\n",
       "      <td>Leila Barros</td>\n",
       "      <td>106</td>\n",
       "      <td>0.002014</td>\n",
       "      <td>0</td>\n",
       "    </tr>\n",
       "    <tr>\n",
       "      <th>8</th>\n",
       "      <td>SS:5533</td>\n",
       "      <td>Senador</td>\n",
       "      <td>Lasier Martins</td>\n",
       "      <td>93</td>\n",
       "      <td>0.001964</td>\n",
       "      <td>0</td>\n",
       "    </tr>\n",
       "    <tr>\n",
       "      <th>9</th>\n",
       "      <td>SS:5959</td>\n",
       "      <td>Senador</td>\n",
       "      <td>Styvenson Valentim</td>\n",
       "      <td>112</td>\n",
       "      <td>0.001956</td>\n",
       "      <td>0</td>\n",
       "    </tr>\n",
       "  </tbody>\n",
       "</table>\n",
       "</div>"
      ],
      "text/plain": [
       "        id     type               label  degree  pagerank  component_id\n",
       "0  SS:5502  Senador      Plínio Valério     120  0.002804             0\n",
       "1   SS:825  Senador          Paulo Paim     106  0.002516             0\n",
       "2  SS:5985  Senador       Nelsinho Trad     115  0.002341             0\n",
       "3    SS:22  Senador     Esperidião Amin     119  0.002288             0\n",
       "4  SS:5895  Senador        Jorge Kajuru     112  0.002232             0\n",
       "5  SS:4770  Senador        Izalci Lucas     114  0.002084             0\n",
       "6   SS:945  Senador         Alvaro Dias      94  0.002028             0\n",
       "7  SS:5979  Senador        Leila Barros     106  0.002014             0\n",
       "8  SS:5533  Senador      Lasier Martins      93  0.001964             0\n",
       "9  SS:5959  Senador  Styvenson Valentim     112  0.001956             0"
      ]
     },
     "execution_count": 77,
     "metadata": {},
     "output_type": "execute_result"
    }
   ],
   "source": [
    "top10_sens_eigen"
   ]
  },
  {
   "cell_type": "code",
   "execution_count": 78,
   "id": "bf9b9a90",
   "metadata": {},
   "outputs": [
    {
     "data": {
      "application/vnd.microsoft.datawrangler.viewer.v0+json": {
       "columns": [
        {
         "name": "index",
         "rawType": "int64",
         "type": "integer"
        },
        {
         "name": "id",
         "rawType": "object",
         "type": "string"
        },
        {
         "name": "type",
         "rawType": "object",
         "type": "string"
        },
        {
         "name": "label",
         "rawType": "object",
         "type": "string"
        },
        {
         "name": "degree",
         "rawType": "int64",
         "type": "integer"
        },
        {
         "name": "pagerank",
         "rawType": "float64",
         "type": "float"
        },
        {
         "name": "component_id",
         "rawType": "int64",
         "type": "integer"
        }
       ],
       "ref": "1a5e3bd8-d9eb-46b8-be15-5d4a792e819a",
       "rows": [
        [
         "0",
         "CO:78",
         "Orgao",
         "Senado Federal",
         "143",
         "0.004106185926275082",
         "0"
        ],
        [
         "1",
         "CO:100292",
         "Orgao",
         "CÂMARA DOS DEPUTADOS",
         "484",
         "0.0031213233624021865",
         "0"
        ],
        [
         "2",
         "CO:101347",
         "Orgao",
         "Procuradoria-Geral da República",
         "1",
         "0.0009940357852896754",
         "16"
        ],
        [
         "3",
         "CO:82",
         "Orgao",
         "Tribunal de Contas da União",
         "1",
         "0.0009940357852896754",
         "53"
        ],
        [
         "4",
         "CO:275",
         "Orgao",
         "Tribunal Superior do Trabalho",
         "1",
         "0.0009940357852896754",
         "52"
        ],
        [
         "5",
         "CO:253",
         "Orgao",
         "Poder Executivo",
         "1",
         "0.0009940357852896754",
         "6"
        ],
        [
         "6",
         "CO:101772",
         "Orgao",
         "MPF - PGR - Procuradoria Geral da República",
         "1",
         "0.000994035785288916",
         "16"
        ],
        [
         "7",
         "CO:101582",
         "Orgao",
         "Tribunal de Contas da União",
         "1",
         "0.000994035785288916",
         "53"
        ],
        [
         "8",
         "SE:7352682",
         "Orgao",
         "Forum Nacional de Comitês Hidrográficas Brasil",
         "1",
         "0.000994035785288916",
         "6"
        ],
        [
         "9",
         "CO:277",
         "Orgao",
         "Tribunal Superior Eleitoral",
         "1",
         "0.000994035785288916",
         "52"
        ]
       ],
       "shape": {
        "columns": 6,
        "rows": 10
       }
      },
      "text/html": [
       "<div>\n",
       "<style scoped>\n",
       "    .dataframe tbody tr th:only-of-type {\n",
       "        vertical-align: middle;\n",
       "    }\n",
       "\n",
       "    .dataframe tbody tr th {\n",
       "        vertical-align: top;\n",
       "    }\n",
       "\n",
       "    .dataframe thead th {\n",
       "        text-align: right;\n",
       "    }\n",
       "</style>\n",
       "<table border=\"1\" class=\"dataframe\">\n",
       "  <thead>\n",
       "    <tr style=\"text-align: right;\">\n",
       "      <th></th>\n",
       "      <th>id</th>\n",
       "      <th>type</th>\n",
       "      <th>label</th>\n",
       "      <th>degree</th>\n",
       "      <th>pagerank</th>\n",
       "      <th>component_id</th>\n",
       "    </tr>\n",
       "  </thead>\n",
       "  <tbody>\n",
       "    <tr>\n",
       "      <th>0</th>\n",
       "      <td>CO:78</td>\n",
       "      <td>Orgao</td>\n",
       "      <td>Senado Federal</td>\n",
       "      <td>143</td>\n",
       "      <td>0.004106</td>\n",
       "      <td>0</td>\n",
       "    </tr>\n",
       "    <tr>\n",
       "      <th>1</th>\n",
       "      <td>CO:100292</td>\n",
       "      <td>Orgao</td>\n",
       "      <td>CÂMARA DOS DEPUTADOS</td>\n",
       "      <td>484</td>\n",
       "      <td>0.003121</td>\n",
       "      <td>0</td>\n",
       "    </tr>\n",
       "    <tr>\n",
       "      <th>2</th>\n",
       "      <td>CO:101347</td>\n",
       "      <td>Orgao</td>\n",
       "      <td>Procuradoria-Geral da República</td>\n",
       "      <td>1</td>\n",
       "      <td>0.000994</td>\n",
       "      <td>16</td>\n",
       "    </tr>\n",
       "    <tr>\n",
       "      <th>3</th>\n",
       "      <td>CO:82</td>\n",
       "      <td>Orgao</td>\n",
       "      <td>Tribunal de Contas da União</td>\n",
       "      <td>1</td>\n",
       "      <td>0.000994</td>\n",
       "      <td>53</td>\n",
       "    </tr>\n",
       "    <tr>\n",
       "      <th>4</th>\n",
       "      <td>CO:275</td>\n",
       "      <td>Orgao</td>\n",
       "      <td>Tribunal Superior do Trabalho</td>\n",
       "      <td>1</td>\n",
       "      <td>0.000994</td>\n",
       "      <td>52</td>\n",
       "    </tr>\n",
       "    <tr>\n",
       "      <th>5</th>\n",
       "      <td>CO:253</td>\n",
       "      <td>Orgao</td>\n",
       "      <td>Poder Executivo</td>\n",
       "      <td>1</td>\n",
       "      <td>0.000994</td>\n",
       "      <td>6</td>\n",
       "    </tr>\n",
       "    <tr>\n",
       "      <th>6</th>\n",
       "      <td>CO:101772</td>\n",
       "      <td>Orgao</td>\n",
       "      <td>MPF - PGR - Procuradoria Geral da República</td>\n",
       "      <td>1</td>\n",
       "      <td>0.000994</td>\n",
       "      <td>16</td>\n",
       "    </tr>\n",
       "    <tr>\n",
       "      <th>7</th>\n",
       "      <td>CO:101582</td>\n",
       "      <td>Orgao</td>\n",
       "      <td>Tribunal de Contas da União</td>\n",
       "      <td>1</td>\n",
       "      <td>0.000994</td>\n",
       "      <td>53</td>\n",
       "    </tr>\n",
       "    <tr>\n",
       "      <th>8</th>\n",
       "      <td>SE:7352682</td>\n",
       "      <td>Orgao</td>\n",
       "      <td>Forum Nacional de Comitês Hidrográficas Brasil</td>\n",
       "      <td>1</td>\n",
       "      <td>0.000994</td>\n",
       "      <td>6</td>\n",
       "    </tr>\n",
       "    <tr>\n",
       "      <th>9</th>\n",
       "      <td>CO:277</td>\n",
       "      <td>Orgao</td>\n",
       "      <td>Tribunal Superior Eleitoral</td>\n",
       "      <td>1</td>\n",
       "      <td>0.000994</td>\n",
       "      <td>52</td>\n",
       "    </tr>\n",
       "  </tbody>\n",
       "</table>\n",
       "</div>"
      ],
      "text/plain": [
       "           id   type                                           label  degree  \\\n",
       "0       CO:78  Orgao                                  Senado Federal     143   \n",
       "1   CO:100292  Orgao                            CÂMARA DOS DEPUTADOS     484   \n",
       "2   CO:101347  Orgao                 Procuradoria-Geral da República       1   \n",
       "3       CO:82  Orgao                     Tribunal de Contas da União       1   \n",
       "4      CO:275  Orgao                   Tribunal Superior do Trabalho       1   \n",
       "5      CO:253  Orgao                                 Poder Executivo       1   \n",
       "6   CO:101772  Orgao     MPF - PGR - Procuradoria Geral da República       1   \n",
       "7   CO:101582  Orgao                     Tribunal de Contas da União       1   \n",
       "8  SE:7352682  Orgao  Forum Nacional de Comitês Hidrográficas Brasil       1   \n",
       "9      CO:277  Orgao                     Tribunal Superior Eleitoral       1   \n",
       "\n",
       "   pagerank  component_id  \n",
       "0  0.004106             0  \n",
       "1  0.003121             0  \n",
       "2  0.000994            16  \n",
       "3  0.000994            53  \n",
       "4  0.000994            52  \n",
       "5  0.000994             6  \n",
       "6  0.000994            16  \n",
       "7  0.000994            53  \n",
       "8  0.000994             6  \n",
       "9  0.000994            52  "
      ]
     },
     "execution_count": 78,
     "metadata": {},
     "output_type": "execute_result"
    }
   ],
   "source": [
    "top10_orgs_eigen"
   ]
  },
  {
   "cell_type": "markdown",
   "id": "6e8c4908",
   "metadata": {},
   "source": [
    "Em seguida, fazemos uma projeção bipartite levando em consideração a soma dos scores em proposições autoradas."
   ]
  },
  {
   "cell_type": "code",
   "execution_count": 79,
   "id": "bbf814e2",
   "metadata": {},
   "outputs": [],
   "source": [
    "from itertools import combinations\n",
    "import pandas as pd\n",
    "import igraph as ig\n",
    "\n",
    "def author_projection_sum_scores(edges_df: pd.DataFrame, nodes_df: pd.DataFrame) -> ig.Graph:\n",
    "    # keep only author→bill edges with a bill score in 'weight'\n",
    "    df = edges_df[['from','to','weight']].copy()\n",
    "    df['from'] = df['from'].astype(str)\n",
    "    df['to'] = df['to'].astype(str)\n",
    "    df['weight'] = df['weight'].astype(float)\n",
    "\n",
    "    # authors per bill + that bill's score (assumed constant within bill)\n",
    "    per_bill = (df.groupby('to', sort=False)\n",
    "                  .agg(authors=('from', lambda s: sorted(pd.unique(s))),\n",
    "                       score=('weight', 'first'))\n",
    "                  .reset_index())\n",
    "\n",
    "    # accumulate pair weights across bills\n",
    "    pair_rows: list[tuple[str, str, float]] = []\n",
    "    for _, row in per_bill.iterrows():\n",
    "        authors = row['authors']\n",
    "        if len(authors) >= 2:\n",
    "            s = float(row['score'])\n",
    "            for a, b in combinations(authors, 2):\n",
    "                pair_rows.append((a, b, s))\n",
    "\n",
    "    authors_all = pd.Index(pd.unique(df['from'])).tolist()\n",
    "\n",
    "    if not pair_rows:\n",
    "        g_auth = ig.Graph()\n",
    "        g_auth.add_vertices(authors_all)\n",
    "        g_auth.vs['name'] = authors_all\n",
    "    else:\n",
    "        pair_df = (pd.DataFrame(pair_rows, columns=['a','b','w'])\n",
    "                     .groupby(['a','b'], as_index=False)['w'].sum())  # consolidate in pandas\n",
    "\n",
    "        name_to_vid = {name: i for i, name in enumerate(authors_all)}\n",
    "        edges = [(name_to_vid[a], name_to_vid[b]) for a, b in pair_df[['a','b']].itertuples(index=False)]\n",
    "        weights = pair_df['w'].to_numpy().tolist()\n",
    "\n",
    "        g_auth = ig.Graph(n=len(authors_all), edges=edges, directed=False)\n",
    "        g_auth.es['weight'] = weights\n",
    "\n",
    "        # belt-and-suspenders: remove any accidental multis and sum weights\n",
    "        g_auth.simplify(multiple=True, loops=True, combine_edges={'weight': 'sum'})\n",
    "\n",
    "    # attach vertex attrs (use reindex to avoid KeyErrors and keep order)\n",
    "    ndx = nodes_df.set_index('name')\n",
    "    g_auth.vs['name'] = authors_all\n",
    "    for col in ('label', 'partido', 'score', 'type'):\n",
    "        g_auth.vs[col] = ndx.reindex(authors_all)[col].tolist()\n",
    "\n",
    "    return g_auth\n"
   ]
  },
  {
   "cell_type": "code",
   "execution_count": 80,
   "id": "4bb86d54",
   "metadata": {},
   "outputs": [],
   "source": [
    "auth_score_g = author_projection_sum_scores(edge_df, node_df)"
   ]
  },
  {
   "cell_type": "code",
   "execution_count": 81,
   "id": "08674270",
   "metadata": {},
   "outputs": [
    {
     "data": {
      "text/plain": [
       "1091"
      ]
     },
     "execution_count": 81,
     "metadata": {},
     "output_type": "execute_result"
    }
   ],
   "source": [
    "g_auth.vcount()"
   ]
  },
  {
   "cell_type": "code",
   "execution_count": 82,
   "id": "4183e7bf",
   "metadata": {},
   "outputs": [
    {
     "data": {
      "text/plain": [
       "107016"
      ]
     },
     "execution_count": 82,
     "metadata": {},
     "output_type": "execute_result"
    }
   ],
   "source": [
    "g_auth.ecount()"
   ]
  },
  {
   "cell_type": "code",
   "execution_count": 83,
   "id": "2532af3f",
   "metadata": {},
   "outputs": [
    {
     "data": {
      "text/plain": [
       "107016"
      ]
     },
     "execution_count": 83,
     "metadata": {},
     "output_type": "execute_result"
    }
   ],
   "source": [
    "auth_score_g.ecount()"
   ]
  },
  {
   "cell_type": "code",
   "execution_count": 84,
   "id": "b4134d47",
   "metadata": {},
   "outputs": [
    {
     "name": "stdout",
     "output_type": "stream",
     "text": [
      "Community method used: leiden\n"
     ]
    }
   ],
   "source": [
    "cl = get_community(auth_score_g)"
   ]
  },
  {
   "cell_type": "code",
   "execution_count": 85,
   "id": "1e51bb9d",
   "metadata": {},
   "outputs": [
    {
     "data": {
      "text/plain": [
       "0.28142433099362807"
      ]
     },
     "execution_count": 85,
     "metadata": {},
     "output_type": "execute_result"
    }
   ],
   "source": [
    "cl.modularity"
   ]
  },
  {
   "cell_type": "code",
   "execution_count": 86,
   "id": "8c3ef242",
   "metadata": {},
   "outputs": [],
   "source": [
    "vertex_metrics = get_metrics(auth_score_g)\n",
    "top10_deps_eigen = top_n(vertex_metrics, \"pagerank\", 10, node_types=[\"Deputado\"])\n",
    "top10_sens_eigen = top_n(vertex_metrics, \"pagerank\", 10, node_types=[\"Senador\"])\n",
    "top10_orgs_eigen = top_n(vertex_metrics, \"pagerank\", 10, node_types=[\"Orgao\"])"
   ]
  },
  {
   "cell_type": "code",
   "execution_count": 87,
   "id": "fd430a4f",
   "metadata": {},
   "outputs": [
    {
     "data": {
      "application/vnd.microsoft.datawrangler.viewer.v0+json": {
       "columns": [
        {
         "name": "index",
         "rawType": "int64",
         "type": "integer"
        },
        {
         "name": "id",
         "rawType": "object",
         "type": "string"
        },
        {
         "name": "type",
         "rawType": "object",
         "type": "string"
        },
        {
         "name": "label",
         "rawType": "object",
         "type": "string"
        },
        {
         "name": "degree",
         "rawType": "int64",
         "type": "integer"
        },
        {
         "name": "pagerank",
         "rawType": "float64",
         "type": "float"
        },
        {
         "name": "component_id",
         "rawType": "int64",
         "type": "integer"
        }
       ],
       "ref": "b85b834d-5e8c-4575-a07a-62ff0462028a",
       "rows": [
        [
         "0",
         "CD:160575",
         "Deputado",
         "ÉRIKA JUCÁ KOKAY",
         "576",
         "0.005810170591787327",
         "0"
        ],
        [
         "1",
         "CD:204467",
         "Deputado",
         "ROSA NEIDE SANDES DE ALMEIDA",
         "350",
         "0.0054118572077090765",
         "0"
        ],
        [
         "2",
         "CD:73701",
         "Deputado",
         "BENEDITA SOUZA DA SILVA SAMPAIO",
         "516",
         "0.00524860012831021",
         "0"
        ],
        [
         "3",
         "CD:178857",
         "Deputado",
         "JORGE JOSE SANTOS PEREIRA SOLLA",
         "514",
         "0.00522558848970902",
         "0"
        ],
        [
         "4",
         "CD:178970",
         "Deputado",
         "JOAO SOMARIVA DANIEL",
         "529",
         "0.005198900795060685",
         "0"
        ],
        [
         "5",
         "CD:74398",
         "Deputado",
         "MARIA DO ROSÁRIO NUNES",
         "440",
         "0.005134648418664112",
         "0"
        ],
        [
         "6",
         "CD:204480",
         "Deputado",
         "ROGÉRIO CORREIA DE MOURA BAPTISTA",
         "499",
         "0.004823451179917398",
         "0"
        ],
        [
         "7",
         "CD:141470",
         "Deputado",
         "JOSÉ NOBRE GUIMARÃES",
         "385",
         "0.004774981584700188",
         "0"
        ],
        [
         "8",
         "CD:74160",
         "Deputado",
         "PATRUS ANANIAS DE SOUZA",
         "401",
         "0.00470401158906695",
         "0"
        ],
        [
         "9",
         "CD:160535",
         "Deputado",
         "DIONILSO MATEUS MARCON",
         "384",
         "0.004690568385152756",
         "0"
        ]
       ],
       "shape": {
        "columns": 6,
        "rows": 10
       }
      },
      "text/html": [
       "<div>\n",
       "<style scoped>\n",
       "    .dataframe tbody tr th:only-of-type {\n",
       "        vertical-align: middle;\n",
       "    }\n",
       "\n",
       "    .dataframe tbody tr th {\n",
       "        vertical-align: top;\n",
       "    }\n",
       "\n",
       "    .dataframe thead th {\n",
       "        text-align: right;\n",
       "    }\n",
       "</style>\n",
       "<table border=\"1\" class=\"dataframe\">\n",
       "  <thead>\n",
       "    <tr style=\"text-align: right;\">\n",
       "      <th></th>\n",
       "      <th>id</th>\n",
       "      <th>type</th>\n",
       "      <th>label</th>\n",
       "      <th>degree</th>\n",
       "      <th>pagerank</th>\n",
       "      <th>component_id</th>\n",
       "    </tr>\n",
       "  </thead>\n",
       "  <tbody>\n",
       "    <tr>\n",
       "      <th>0</th>\n",
       "      <td>CD:160575</td>\n",
       "      <td>Deputado</td>\n",
       "      <td>ÉRIKA JUCÁ KOKAY</td>\n",
       "      <td>576</td>\n",
       "      <td>0.005810</td>\n",
       "      <td>0</td>\n",
       "    </tr>\n",
       "    <tr>\n",
       "      <th>1</th>\n",
       "      <td>CD:204467</td>\n",
       "      <td>Deputado</td>\n",
       "      <td>ROSA NEIDE SANDES DE ALMEIDA</td>\n",
       "      <td>350</td>\n",
       "      <td>0.005412</td>\n",
       "      <td>0</td>\n",
       "    </tr>\n",
       "    <tr>\n",
       "      <th>2</th>\n",
       "      <td>CD:73701</td>\n",
       "      <td>Deputado</td>\n",
       "      <td>BENEDITA SOUZA DA SILVA SAMPAIO</td>\n",
       "      <td>516</td>\n",
       "      <td>0.005249</td>\n",
       "      <td>0</td>\n",
       "    </tr>\n",
       "    <tr>\n",
       "      <th>3</th>\n",
       "      <td>CD:178857</td>\n",
       "      <td>Deputado</td>\n",
       "      <td>JORGE JOSE SANTOS PEREIRA SOLLA</td>\n",
       "      <td>514</td>\n",
       "      <td>0.005226</td>\n",
       "      <td>0</td>\n",
       "    </tr>\n",
       "    <tr>\n",
       "      <th>4</th>\n",
       "      <td>CD:178970</td>\n",
       "      <td>Deputado</td>\n",
       "      <td>JOAO SOMARIVA DANIEL</td>\n",
       "      <td>529</td>\n",
       "      <td>0.005199</td>\n",
       "      <td>0</td>\n",
       "    </tr>\n",
       "    <tr>\n",
       "      <th>5</th>\n",
       "      <td>CD:74398</td>\n",
       "      <td>Deputado</td>\n",
       "      <td>MARIA DO ROSÁRIO NUNES</td>\n",
       "      <td>440</td>\n",
       "      <td>0.005135</td>\n",
       "      <td>0</td>\n",
       "    </tr>\n",
       "    <tr>\n",
       "      <th>6</th>\n",
       "      <td>CD:204480</td>\n",
       "      <td>Deputado</td>\n",
       "      <td>ROGÉRIO CORREIA DE MOURA BAPTISTA</td>\n",
       "      <td>499</td>\n",
       "      <td>0.004823</td>\n",
       "      <td>0</td>\n",
       "    </tr>\n",
       "    <tr>\n",
       "      <th>7</th>\n",
       "      <td>CD:141470</td>\n",
       "      <td>Deputado</td>\n",
       "      <td>JOSÉ NOBRE GUIMARÃES</td>\n",
       "      <td>385</td>\n",
       "      <td>0.004775</td>\n",
       "      <td>0</td>\n",
       "    </tr>\n",
       "    <tr>\n",
       "      <th>8</th>\n",
       "      <td>CD:74160</td>\n",
       "      <td>Deputado</td>\n",
       "      <td>PATRUS ANANIAS DE SOUZA</td>\n",
       "      <td>401</td>\n",
       "      <td>0.004704</td>\n",
       "      <td>0</td>\n",
       "    </tr>\n",
       "    <tr>\n",
       "      <th>9</th>\n",
       "      <td>CD:160535</td>\n",
       "      <td>Deputado</td>\n",
       "      <td>DIONILSO MATEUS MARCON</td>\n",
       "      <td>384</td>\n",
       "      <td>0.004691</td>\n",
       "      <td>0</td>\n",
       "    </tr>\n",
       "  </tbody>\n",
       "</table>\n",
       "</div>"
      ],
      "text/plain": [
       "          id      type                              label  degree  pagerank  \\\n",
       "0  CD:160575  Deputado                   ÉRIKA JUCÁ KOKAY     576  0.005810   \n",
       "1  CD:204467  Deputado       ROSA NEIDE SANDES DE ALMEIDA     350  0.005412   \n",
       "2   CD:73701  Deputado    BENEDITA SOUZA DA SILVA SAMPAIO     516  0.005249   \n",
       "3  CD:178857  Deputado    JORGE JOSE SANTOS PEREIRA SOLLA     514  0.005226   \n",
       "4  CD:178970  Deputado               JOAO SOMARIVA DANIEL     529  0.005199   \n",
       "5   CD:74398  Deputado             MARIA DO ROSÁRIO NUNES     440  0.005135   \n",
       "6  CD:204480  Deputado  ROGÉRIO CORREIA DE MOURA BAPTISTA     499  0.004823   \n",
       "7  CD:141470  Deputado               JOSÉ NOBRE GUIMARÃES     385  0.004775   \n",
       "8   CD:74160  Deputado            PATRUS ANANIAS DE SOUZA     401  0.004704   \n",
       "9  CD:160535  Deputado             DIONILSO MATEUS MARCON     384  0.004691   \n",
       "\n",
       "   component_id  \n",
       "0             0  \n",
       "1             0  \n",
       "2             0  \n",
       "3             0  \n",
       "4             0  \n",
       "5             0  \n",
       "6             0  \n",
       "7             0  \n",
       "8             0  \n",
       "9             0  "
      ]
     },
     "execution_count": 87,
     "metadata": {},
     "output_type": "execute_result"
    }
   ],
   "source": [
    "top10_deps_eigen"
   ]
  },
  {
   "cell_type": "code",
   "execution_count": 88,
   "id": "ccdbfaf0",
   "metadata": {},
   "outputs": [
    {
     "data": {
      "application/vnd.microsoft.datawrangler.viewer.v0+json": {
       "columns": [
        {
         "name": "index",
         "rawType": "int64",
         "type": "integer"
        },
        {
         "name": "id",
         "rawType": "object",
         "type": "string"
        },
        {
         "name": "type",
         "rawType": "object",
         "type": "string"
        },
        {
         "name": "label",
         "rawType": "object",
         "type": "string"
        },
        {
         "name": "degree",
         "rawType": "int64",
         "type": "integer"
        },
        {
         "name": "pagerank",
         "rawType": "float64",
         "type": "float"
        },
        {
         "name": "component_id",
         "rawType": "int64",
         "type": "integer"
        }
       ],
       "ref": "0d46ce83-6008-477a-9a5f-4fc404c04a5e",
       "rows": [
        [
         "0",
         "SS:5502",
         "Senador",
         "Plínio Valério",
         "120",
         "0.0027369916758078045",
         "0"
        ],
        [
         "1",
         "SS:5985",
         "Senador",
         "Nelsinho Trad",
         "115",
         "0.0025003710800348008",
         "0"
        ],
        [
         "2",
         "SS:22",
         "Senador",
         "Esperidião Amin",
         "119",
         "0.0024805924988400966",
         "0"
        ],
        [
         "3",
         "SS:825",
         "Senador",
         "Paulo Paim",
         "106",
         "0.002289000805908876",
         "0"
        ],
        [
         "4",
         "SS:5895",
         "Senador",
         "Jorge Kajuru",
         "112",
         "0.002285565629785263",
         "0"
        ],
        [
         "5",
         "SS:6027",
         "Senador",
         "Mecias de Jesus",
         "116",
         "0.0020412406280382323",
         "0"
        ],
        [
         "6",
         "SS:345",
         "Senador",
         "Flávio Arns",
         "110",
         "0.00196353000451502",
         "0"
        ],
        [
         "7",
         "SS:5748",
         "Senador",
         "Veneziano Vital do Rêgo",
         "111",
         "0.00193089915160577",
         "0"
        ],
        [
         "8",
         "SS:470",
         "Senador",
         "Chico Rodrigues",
         "117",
         "0.0019010402274754726",
         "0"
        ],
        [
         "9",
         "SS:3806",
         "Senador",
         "Zequinha Marinho",
         "114",
         "0.001861140187680224",
         "0"
        ]
       ],
       "shape": {
        "columns": 6,
        "rows": 10
       }
      },
      "text/html": [
       "<div>\n",
       "<style scoped>\n",
       "    .dataframe tbody tr th:only-of-type {\n",
       "        vertical-align: middle;\n",
       "    }\n",
       "\n",
       "    .dataframe tbody tr th {\n",
       "        vertical-align: top;\n",
       "    }\n",
       "\n",
       "    .dataframe thead th {\n",
       "        text-align: right;\n",
       "    }\n",
       "</style>\n",
       "<table border=\"1\" class=\"dataframe\">\n",
       "  <thead>\n",
       "    <tr style=\"text-align: right;\">\n",
       "      <th></th>\n",
       "      <th>id</th>\n",
       "      <th>type</th>\n",
       "      <th>label</th>\n",
       "      <th>degree</th>\n",
       "      <th>pagerank</th>\n",
       "      <th>component_id</th>\n",
       "    </tr>\n",
       "  </thead>\n",
       "  <tbody>\n",
       "    <tr>\n",
       "      <th>0</th>\n",
       "      <td>SS:5502</td>\n",
       "      <td>Senador</td>\n",
       "      <td>Plínio Valério</td>\n",
       "      <td>120</td>\n",
       "      <td>0.002737</td>\n",
       "      <td>0</td>\n",
       "    </tr>\n",
       "    <tr>\n",
       "      <th>1</th>\n",
       "      <td>SS:5985</td>\n",
       "      <td>Senador</td>\n",
       "      <td>Nelsinho Trad</td>\n",
       "      <td>115</td>\n",
       "      <td>0.002500</td>\n",
       "      <td>0</td>\n",
       "    </tr>\n",
       "    <tr>\n",
       "      <th>2</th>\n",
       "      <td>SS:22</td>\n",
       "      <td>Senador</td>\n",
       "      <td>Esperidião Amin</td>\n",
       "      <td>119</td>\n",
       "      <td>0.002481</td>\n",
       "      <td>0</td>\n",
       "    </tr>\n",
       "    <tr>\n",
       "      <th>3</th>\n",
       "      <td>SS:825</td>\n",
       "      <td>Senador</td>\n",
       "      <td>Paulo Paim</td>\n",
       "      <td>106</td>\n",
       "      <td>0.002289</td>\n",
       "      <td>0</td>\n",
       "    </tr>\n",
       "    <tr>\n",
       "      <th>4</th>\n",
       "      <td>SS:5895</td>\n",
       "      <td>Senador</td>\n",
       "      <td>Jorge Kajuru</td>\n",
       "      <td>112</td>\n",
       "      <td>0.002286</td>\n",
       "      <td>0</td>\n",
       "    </tr>\n",
       "    <tr>\n",
       "      <th>5</th>\n",
       "      <td>SS:6027</td>\n",
       "      <td>Senador</td>\n",
       "      <td>Mecias de Jesus</td>\n",
       "      <td>116</td>\n",
       "      <td>0.002041</td>\n",
       "      <td>0</td>\n",
       "    </tr>\n",
       "    <tr>\n",
       "      <th>6</th>\n",
       "      <td>SS:345</td>\n",
       "      <td>Senador</td>\n",
       "      <td>Flávio Arns</td>\n",
       "      <td>110</td>\n",
       "      <td>0.001964</td>\n",
       "      <td>0</td>\n",
       "    </tr>\n",
       "    <tr>\n",
       "      <th>7</th>\n",
       "      <td>SS:5748</td>\n",
       "      <td>Senador</td>\n",
       "      <td>Veneziano Vital do Rêgo</td>\n",
       "      <td>111</td>\n",
       "      <td>0.001931</td>\n",
       "      <td>0</td>\n",
       "    </tr>\n",
       "    <tr>\n",
       "      <th>8</th>\n",
       "      <td>SS:470</td>\n",
       "      <td>Senador</td>\n",
       "      <td>Chico Rodrigues</td>\n",
       "      <td>117</td>\n",
       "      <td>0.001901</td>\n",
       "      <td>0</td>\n",
       "    </tr>\n",
       "    <tr>\n",
       "      <th>9</th>\n",
       "      <td>SS:3806</td>\n",
       "      <td>Senador</td>\n",
       "      <td>Zequinha Marinho</td>\n",
       "      <td>114</td>\n",
       "      <td>0.001861</td>\n",
       "      <td>0</td>\n",
       "    </tr>\n",
       "  </tbody>\n",
       "</table>\n",
       "</div>"
      ],
      "text/plain": [
       "        id     type                    label  degree  pagerank  component_id\n",
       "0  SS:5502  Senador           Plínio Valério     120  0.002737             0\n",
       "1  SS:5985  Senador            Nelsinho Trad     115  0.002500             0\n",
       "2    SS:22  Senador          Esperidião Amin     119  0.002481             0\n",
       "3   SS:825  Senador               Paulo Paim     106  0.002289             0\n",
       "4  SS:5895  Senador             Jorge Kajuru     112  0.002286             0\n",
       "5  SS:6027  Senador          Mecias de Jesus     116  0.002041             0\n",
       "6   SS:345  Senador              Flávio Arns     110  0.001964             0\n",
       "7  SS:5748  Senador  Veneziano Vital do Rêgo     111  0.001931             0\n",
       "8   SS:470  Senador          Chico Rodrigues     117  0.001901             0\n",
       "9  SS:3806  Senador         Zequinha Marinho     114  0.001861             0"
      ]
     },
     "execution_count": 88,
     "metadata": {},
     "output_type": "execute_result"
    }
   ],
   "source": [
    "top10_sens_eigen"
   ]
  },
  {
   "cell_type": "code",
   "execution_count": 89,
   "id": "2c72f588",
   "metadata": {},
   "outputs": [
    {
     "data": {
      "application/vnd.microsoft.datawrangler.viewer.v0+json": {
       "columns": [
        {
         "name": "index",
         "rawType": "int64",
         "type": "integer"
        },
        {
         "name": "id",
         "rawType": "object",
         "type": "string"
        },
        {
         "name": "type",
         "rawType": "object",
         "type": "string"
        },
        {
         "name": "label",
         "rawType": "object",
         "type": "string"
        },
        {
         "name": "degree",
         "rawType": "int64",
         "type": "integer"
        },
        {
         "name": "pagerank",
         "rawType": "float64",
         "type": "float"
        },
        {
         "name": "component_id",
         "rawType": "int64",
         "type": "integer"
        }
       ],
       "ref": "71a4ffdf-65f0-4dcc-accc-f13c63ac5e97",
       "rows": [
        [
         "0",
         "CO:100292",
         "Orgao",
         "CÂMARA DOS DEPUTADOS",
         "484",
         "0.007889795076847419",
         "0"
        ],
        [
         "1",
         "CO:78",
         "Orgao",
         "Senado Federal",
         "143",
         "0.00598236884370745",
         "0"
        ],
        [
         "2",
         "CO:101347",
         "Orgao",
         "Procuradoria-Geral da República",
         "1",
         "0.0010050756319428646",
         "16"
        ],
        [
         "3",
         "CO:82",
         "Orgao",
         "Tribunal de Contas da União",
         "1",
         "0.0010050756319428646",
         "53"
        ],
        [
         "4",
         "CO:275",
         "Orgao",
         "Tribunal Superior do Trabalho",
         "1",
         "0.0010050756319428646",
         "52"
        ],
        [
         "5",
         "CO:253",
         "Orgao",
         "Poder Executivo",
         "1",
         "0.0010050756319428646",
         "6"
        ],
        [
         "6",
         "CO:101772",
         "Orgao",
         "MPF - PGR - Procuradoria Geral da República",
         "1",
         "0.0010050756319420965",
         "16"
        ],
        [
         "7",
         "CO:101582",
         "Orgao",
         "Tribunal de Contas da União",
         "1",
         "0.0010050756319420965",
         "53"
        ],
        [
         "8",
         "SE:7352682",
         "Orgao",
         "Forum Nacional de Comitês Hidrográficas Brasil",
         "1",
         "0.0010050756319420965",
         "6"
        ],
        [
         "9",
         "CO:277",
         "Orgao",
         "Tribunal Superior Eleitoral",
         "1",
         "0.0010050756319420965",
         "52"
        ]
       ],
       "shape": {
        "columns": 6,
        "rows": 10
       }
      },
      "text/html": [
       "<div>\n",
       "<style scoped>\n",
       "    .dataframe tbody tr th:only-of-type {\n",
       "        vertical-align: middle;\n",
       "    }\n",
       "\n",
       "    .dataframe tbody tr th {\n",
       "        vertical-align: top;\n",
       "    }\n",
       "\n",
       "    .dataframe thead th {\n",
       "        text-align: right;\n",
       "    }\n",
       "</style>\n",
       "<table border=\"1\" class=\"dataframe\">\n",
       "  <thead>\n",
       "    <tr style=\"text-align: right;\">\n",
       "      <th></th>\n",
       "      <th>id</th>\n",
       "      <th>type</th>\n",
       "      <th>label</th>\n",
       "      <th>degree</th>\n",
       "      <th>pagerank</th>\n",
       "      <th>component_id</th>\n",
       "    </tr>\n",
       "  </thead>\n",
       "  <tbody>\n",
       "    <tr>\n",
       "      <th>0</th>\n",
       "      <td>CO:100292</td>\n",
       "      <td>Orgao</td>\n",
       "      <td>CÂMARA DOS DEPUTADOS</td>\n",
       "      <td>484</td>\n",
       "      <td>0.007890</td>\n",
       "      <td>0</td>\n",
       "    </tr>\n",
       "    <tr>\n",
       "      <th>1</th>\n",
       "      <td>CO:78</td>\n",
       "      <td>Orgao</td>\n",
       "      <td>Senado Federal</td>\n",
       "      <td>143</td>\n",
       "      <td>0.005982</td>\n",
       "      <td>0</td>\n",
       "    </tr>\n",
       "    <tr>\n",
       "      <th>2</th>\n",
       "      <td>CO:101347</td>\n",
       "      <td>Orgao</td>\n",
       "      <td>Procuradoria-Geral da República</td>\n",
       "      <td>1</td>\n",
       "      <td>0.001005</td>\n",
       "      <td>16</td>\n",
       "    </tr>\n",
       "    <tr>\n",
       "      <th>3</th>\n",
       "      <td>CO:82</td>\n",
       "      <td>Orgao</td>\n",
       "      <td>Tribunal de Contas da União</td>\n",
       "      <td>1</td>\n",
       "      <td>0.001005</td>\n",
       "      <td>53</td>\n",
       "    </tr>\n",
       "    <tr>\n",
       "      <th>4</th>\n",
       "      <td>CO:275</td>\n",
       "      <td>Orgao</td>\n",
       "      <td>Tribunal Superior do Trabalho</td>\n",
       "      <td>1</td>\n",
       "      <td>0.001005</td>\n",
       "      <td>52</td>\n",
       "    </tr>\n",
       "    <tr>\n",
       "      <th>5</th>\n",
       "      <td>CO:253</td>\n",
       "      <td>Orgao</td>\n",
       "      <td>Poder Executivo</td>\n",
       "      <td>1</td>\n",
       "      <td>0.001005</td>\n",
       "      <td>6</td>\n",
       "    </tr>\n",
       "    <tr>\n",
       "      <th>6</th>\n",
       "      <td>CO:101772</td>\n",
       "      <td>Orgao</td>\n",
       "      <td>MPF - PGR - Procuradoria Geral da República</td>\n",
       "      <td>1</td>\n",
       "      <td>0.001005</td>\n",
       "      <td>16</td>\n",
       "    </tr>\n",
       "    <tr>\n",
       "      <th>7</th>\n",
       "      <td>CO:101582</td>\n",
       "      <td>Orgao</td>\n",
       "      <td>Tribunal de Contas da União</td>\n",
       "      <td>1</td>\n",
       "      <td>0.001005</td>\n",
       "      <td>53</td>\n",
       "    </tr>\n",
       "    <tr>\n",
       "      <th>8</th>\n",
       "      <td>SE:7352682</td>\n",
       "      <td>Orgao</td>\n",
       "      <td>Forum Nacional de Comitês Hidrográficas Brasil</td>\n",
       "      <td>1</td>\n",
       "      <td>0.001005</td>\n",
       "      <td>6</td>\n",
       "    </tr>\n",
       "    <tr>\n",
       "      <th>9</th>\n",
       "      <td>CO:277</td>\n",
       "      <td>Orgao</td>\n",
       "      <td>Tribunal Superior Eleitoral</td>\n",
       "      <td>1</td>\n",
       "      <td>0.001005</td>\n",
       "      <td>52</td>\n",
       "    </tr>\n",
       "  </tbody>\n",
       "</table>\n",
       "</div>"
      ],
      "text/plain": [
       "           id   type                                           label  degree  \\\n",
       "0   CO:100292  Orgao                            CÂMARA DOS DEPUTADOS     484   \n",
       "1       CO:78  Orgao                                  Senado Federal     143   \n",
       "2   CO:101347  Orgao                 Procuradoria-Geral da República       1   \n",
       "3       CO:82  Orgao                     Tribunal de Contas da União       1   \n",
       "4      CO:275  Orgao                   Tribunal Superior do Trabalho       1   \n",
       "5      CO:253  Orgao                                 Poder Executivo       1   \n",
       "6   CO:101772  Orgao     MPF - PGR - Procuradoria Geral da República       1   \n",
       "7   CO:101582  Orgao                     Tribunal de Contas da União       1   \n",
       "8  SE:7352682  Orgao  Forum Nacional de Comitês Hidrográficas Brasil       1   \n",
       "9      CO:277  Orgao                     Tribunal Superior Eleitoral       1   \n",
       "\n",
       "   pagerank  component_id  \n",
       "0  0.007890             0  \n",
       "1  0.005982             0  \n",
       "2  0.001005            16  \n",
       "3  0.001005            53  \n",
       "4  0.001005            52  \n",
       "5  0.001005             6  \n",
       "6  0.001005            16  \n",
       "7  0.001005            53  \n",
       "8  0.001005             6  \n",
       "9  0.001005            52  "
      ]
     },
     "execution_count": 89,
     "metadata": {},
     "output_type": "execute_result"
    }
   ],
   "source": [
    "top10_orgs_eigen"
   ]
  },
  {
   "cell_type": "code",
   "execution_count": 90,
   "id": "764d81c0",
   "metadata": {},
   "outputs": [
    {
     "data": {
      "application/vnd.microsoft.datawrangler.viewer.v0+json": {
       "columns": [
        {
         "name": "index",
         "rawType": "int64",
         "type": "integer"
        },
        {
         "name": "name",
         "rawType": "object",
         "type": "string"
        },
        {
         "name": "label",
         "rawType": "object",
         "type": "string"
        },
        {
         "name": "partido",
         "rawType": "object",
         "type": "unknown"
        },
        {
         "name": "type",
         "rawType": "object",
         "type": "string"
        },
        {
         "name": "score",
         "rawType": "float64",
         "type": "float"
        },
        {
         "name": "bigtype",
         "rawType": "object",
         "type": "string"
        }
       ],
       "ref": "509d59c6-70ea-445f-960f-6dcdf2e82b52",
       "rows": [
        [
         "0",
         "CP:2187087",
         "PL 5029/2019",
         null,
         "Proposicao",
         "1.0",
         "bill"
        ],
        [
         "1",
         "CP:2190408",
         "PL 2/2019",
         null,
         "Proposicao",
         "0.25",
         "bill"
        ],
        [
         "2",
         "CP:2190417",
         "PL 10/2019",
         null,
         "Proposicao",
         "0.25",
         "bill"
        ],
        [
         "3",
         "CP:2190423",
         "PL 15/2019",
         null,
         "Proposicao",
         "0.0",
         "bill"
        ],
        [
         "4",
         "CP:2190450",
         "PL 21/2019",
         null,
         "Proposicao",
         "0.25",
         "bill"
        ],
        [
         "5",
         "CP:2190462",
         "PL 32/2019",
         null,
         "Proposicao",
         "0.25",
         "bill"
        ],
        [
         "6",
         "CP:2190472",
         "PL 39/2019",
         null,
         "Proposicao",
         "0.25",
         "bill"
        ],
        [
         "7",
         "CP:2190495",
         "PL 62/2019",
         null,
         "Proposicao",
         "0.25",
         "bill"
        ],
        [
         "8",
         "CP:2190519",
         "PL 76/2019",
         null,
         "Proposicao",
         "0.25",
         "bill"
        ],
        [
         "9",
         "CP:2190532",
         "PL 89/2019",
         null,
         "Proposicao",
         "0.25",
         "bill"
        ],
        [
         "10",
         "CP:2190556",
         "PLP 6/2019",
         null,
         "Proposicao",
         "0.25",
         "bill"
        ],
        [
         "11",
         "CP:2190579",
         "PL 119/2019",
         null,
         "Proposicao",
         "0.25",
         "bill"
        ],
        [
         "12",
         "CP:2190585",
         "PL 123/2019",
         null,
         "Proposicao",
         "1.0",
         "bill"
        ],
        [
         "13",
         "CP:2190590",
         "PL 127/2019",
         null,
         "Proposicao",
         "0.25",
         "bill"
        ],
        [
         "14",
         "CP:2190598",
         "PL 130/2019",
         null,
         "Proposicao",
         "1.0",
         "bill"
        ],
        [
         "15",
         "CP:2190603",
         "PL 135/2019",
         null,
         "Proposicao",
         "0.25",
         "bill"
        ],
        [
         "16",
         "CP:2190619",
         "PL 146/2019",
         null,
         "Proposicao",
         "0.25",
         "bill"
        ],
        [
         "17",
         "CP:2190651",
         "PL 164/2019",
         null,
         "Proposicao",
         "0.25",
         "bill"
        ],
        [
         "18",
         "CP:2190661",
         "PL 171/2019",
         null,
         "Proposicao",
         "0.25",
         "bill"
        ],
        [
         "19",
         "CP:2190692",
         "PL 185/2019",
         null,
         "Proposicao",
         "0.25",
         "bill"
        ],
        [
         "20",
         "CP:2190701",
         "PL 192/2019",
         null,
         "Proposicao",
         "0.0",
         "bill"
        ],
        [
         "21",
         "CP:2190718",
         "PL 207/2019",
         null,
         "Proposicao",
         "0.0",
         "bill"
        ],
        [
         "22",
         "CP:2190726",
         "PL 197/2019",
         null,
         "Proposicao",
         "0.25",
         "bill"
        ],
        [
         "23",
         "CP:2190729",
         "PL 213/2019",
         null,
         "Proposicao",
         "0.25",
         "bill"
        ],
        [
         "24",
         "CP:2190740",
         "PL 215/2019",
         null,
         "Proposicao",
         "0.25",
         "bill"
        ],
        [
         "25",
         "CP:2190743",
         "PL 234/2019",
         null,
         "Proposicao",
         "0.25",
         "bill"
        ],
        [
         "26",
         "CP:2190745",
         "PL 216/2019",
         null,
         "Proposicao",
         "0.25",
         "bill"
        ],
        [
         "27",
         "CP:2190748",
         "PL 217/2019",
         null,
         "Proposicao",
         "0.25",
         "bill"
        ],
        [
         "28",
         "CP:2190752",
         "PL 246/2019",
         null,
         "Proposicao",
         "0.25",
         "bill"
        ],
        [
         "29",
         "CP:2190756",
         "PL 249/2019",
         null,
         "Proposicao",
         "0.0",
         "bill"
        ],
        [
         "30",
         "CP:2190776",
         "PL 237/2019",
         null,
         "Proposicao",
         "0.25",
         "bill"
        ],
        [
         "31",
         "CP:2190781",
         "PL 290/2019",
         null,
         "Proposicao",
         "0.25",
         "bill"
        ],
        [
         "32",
         "CP:2190799",
         "PL 297/2019",
         null,
         "Proposicao",
         "0.25",
         "bill"
        ],
        [
         "33",
         "CP:2190871",
         "PL 275/2019",
         null,
         "Proposicao",
         "0.25",
         "bill"
        ],
        [
         "34",
         "CP:2190876",
         "PL 326/2019",
         null,
         "Proposicao",
         "0.0",
         "bill"
        ],
        [
         "35",
         "CP:2190899",
         "PL 343/2019",
         null,
         "Proposicao",
         "0.0",
         "bill"
        ],
        [
         "36",
         "CP:2190908",
         "PL 351/2019",
         null,
         "Proposicao",
         "0.5",
         "bill"
        ],
        [
         "37",
         "CP:2190911",
         "PL 347/2019",
         null,
         "Proposicao",
         "0.25",
         "bill"
        ],
        [
         "38",
         "CP:2190918",
         "PL 353/2019",
         null,
         "Proposicao",
         "0.25",
         "bill"
        ],
        [
         "39",
         "CP:2190984",
         "PL 362/2019",
         null,
         "Proposicao",
         "0.25",
         "bill"
        ],
        [
         "40",
         "CP:2190988",
         "PL 366/2019",
         null,
         "Proposicao",
         "0.25",
         "bill"
        ],
        [
         "41",
         "CP:2190994",
         "PL 371/2019",
         null,
         "Proposicao",
         "0.25",
         "bill"
        ],
        [
         "42",
         "CP:2191010",
         "PL 373/2019",
         null,
         "Proposicao",
         "0.25",
         "bill"
        ],
        [
         "43",
         "CP:2191030",
         "PLP 9/2019",
         null,
         "Proposicao",
         "0.0",
         "bill"
        ],
        [
         "44",
         "CP:2191045",
         "PL 379/2019",
         null,
         "Proposicao",
         "0.0",
         "bill"
        ],
        [
         "45",
         "CP:2191047",
         "PL 381/2019",
         null,
         "Proposicao",
         "0.0",
         "bill"
        ],
        [
         "46",
         "CP:2191088",
         "PL 418/2019",
         null,
         "Proposicao",
         "0.0",
         "bill"
        ],
        [
         "47",
         "CP:2191093",
         "PL 423/2019",
         null,
         "Proposicao",
         "0.25",
         "bill"
        ],
        [
         "48",
         "CP:2191094",
         "PL 424/2019",
         null,
         "Proposicao",
         "0.25",
         "bill"
        ],
        [
         "49",
         "CP:2191116",
         "PL 443/2019",
         null,
         "Proposicao",
         "0.25",
         "bill"
        ]
       ],
       "shape": {
        "columns": 6,
        "rows": 29250
       }
      },
      "text/html": [
       "<div>\n",
       "<style scoped>\n",
       "    .dataframe tbody tr th:only-of-type {\n",
       "        vertical-align: middle;\n",
       "    }\n",
       "\n",
       "    .dataframe tbody tr th {\n",
       "        vertical-align: top;\n",
       "    }\n",
       "\n",
       "    .dataframe thead th {\n",
       "        text-align: right;\n",
       "    }\n",
       "</style>\n",
       "<table border=\"1\" class=\"dataframe\">\n",
       "  <thead>\n",
       "    <tr style=\"text-align: right;\">\n",
       "      <th></th>\n",
       "      <th>name</th>\n",
       "      <th>label</th>\n",
       "      <th>partido</th>\n",
       "      <th>type</th>\n",
       "      <th>score</th>\n",
       "      <th>bigtype</th>\n",
       "    </tr>\n",
       "  </thead>\n",
       "  <tbody>\n",
       "    <tr>\n",
       "      <th>0</th>\n",
       "      <td>CP:2187087</td>\n",
       "      <td>PL 5029/2019</td>\n",
       "      <td>None</td>\n",
       "      <td>Proposicao</td>\n",
       "      <td>1.00</td>\n",
       "      <td>bill</td>\n",
       "    </tr>\n",
       "    <tr>\n",
       "      <th>1</th>\n",
       "      <td>CP:2190408</td>\n",
       "      <td>PL 2/2019</td>\n",
       "      <td>None</td>\n",
       "      <td>Proposicao</td>\n",
       "      <td>0.25</td>\n",
       "      <td>bill</td>\n",
       "    </tr>\n",
       "    <tr>\n",
       "      <th>2</th>\n",
       "      <td>CP:2190417</td>\n",
       "      <td>PL 10/2019</td>\n",
       "      <td>None</td>\n",
       "      <td>Proposicao</td>\n",
       "      <td>0.25</td>\n",
       "      <td>bill</td>\n",
       "    </tr>\n",
       "    <tr>\n",
       "      <th>3</th>\n",
       "      <td>CP:2190423</td>\n",
       "      <td>PL 15/2019</td>\n",
       "      <td>None</td>\n",
       "      <td>Proposicao</td>\n",
       "      <td>0.00</td>\n",
       "      <td>bill</td>\n",
       "    </tr>\n",
       "    <tr>\n",
       "      <th>4</th>\n",
       "      <td>CP:2190450</td>\n",
       "      <td>PL 21/2019</td>\n",
       "      <td>None</td>\n",
       "      <td>Proposicao</td>\n",
       "      <td>0.25</td>\n",
       "      <td>bill</td>\n",
       "    </tr>\n",
       "    <tr>\n",
       "      <th>...</th>\n",
       "      <td>...</td>\n",
       "      <td>...</td>\n",
       "      <td>...</td>\n",
       "      <td>...</td>\n",
       "      <td>...</td>\n",
       "      <td>...</td>\n",
       "    </tr>\n",
       "    <tr>\n",
       "      <th>29245</th>\n",
       "      <td>SE:7352398</td>\n",
       "      <td>CPI da Pandemia</td>\n",
       "      <td>None</td>\n",
       "      <td>Orgao</td>\n",
       "      <td>0.00</td>\n",
       "      <td>author</td>\n",
       "    </tr>\n",
       "    <tr>\n",
       "      <th>29246</th>\n",
       "      <td>SE:55226</td>\n",
       "      <td>Comissão Diretora</td>\n",
       "      <td>None</td>\n",
       "      <td>Orgao</td>\n",
       "      <td>0.00</td>\n",
       "      <td>author</td>\n",
       "    </tr>\n",
       "    <tr>\n",
       "      <th>29247</th>\n",
       "      <td>SE:3947422</td>\n",
       "      <td>Comissão de Direitos Humanos e Legislação Part...</td>\n",
       "      <td>None</td>\n",
       "      <td>Orgao</td>\n",
       "      <td>0.00</td>\n",
       "      <td>author</td>\n",
       "    </tr>\n",
       "    <tr>\n",
       "      <th>29248</th>\n",
       "      <td>SE:3927825</td>\n",
       "      <td>Comissão de Meio Ambiente</td>\n",
       "      <td>None</td>\n",
       "      <td>Orgao</td>\n",
       "      <td>0.00</td>\n",
       "      <td>author</td>\n",
       "    </tr>\n",
       "    <tr>\n",
       "      <th>29249</th>\n",
       "      <td>SE:7352682</td>\n",
       "      <td>Forum Nacional de Comitês Hidrográficas Brasil</td>\n",
       "      <td>None</td>\n",
       "      <td>Orgao</td>\n",
       "      <td>0.00</td>\n",
       "      <td>author</td>\n",
       "    </tr>\n",
       "  </tbody>\n",
       "</table>\n",
       "<p>29250 rows × 6 columns</p>\n",
       "</div>"
      ],
      "text/plain": [
       "             name                                              label partido  \\\n",
       "0      CP:2187087                                       PL 5029/2019    None   \n",
       "1      CP:2190408                                          PL 2/2019    None   \n",
       "2      CP:2190417                                         PL 10/2019    None   \n",
       "3      CP:2190423                                         PL 15/2019    None   \n",
       "4      CP:2190450                                         PL 21/2019    None   \n",
       "...           ...                                                ...     ...   \n",
       "29245  SE:7352398                                    CPI da Pandemia    None   \n",
       "29246    SE:55226                                  Comissão Diretora    None   \n",
       "29247  SE:3947422  Comissão de Direitos Humanos e Legislação Part...    None   \n",
       "29248  SE:3927825                          Comissão de Meio Ambiente    None   \n",
       "29249  SE:7352682     Forum Nacional de Comitês Hidrográficas Brasil    None   \n",
       "\n",
       "             type  score bigtype  \n",
       "0      Proposicao   1.00    bill  \n",
       "1      Proposicao   0.25    bill  \n",
       "2      Proposicao   0.25    bill  \n",
       "3      Proposicao   0.00    bill  \n",
       "4      Proposicao   0.25    bill  \n",
       "...           ...    ...     ...  \n",
       "29245       Orgao   0.00  author  \n",
       "29246       Orgao   0.00  author  \n",
       "29247       Orgao   0.00  author  \n",
       "29248       Orgao   0.00  author  \n",
       "29249       Orgao   0.00  author  \n",
       "\n",
       "[29250 rows x 6 columns]"
      ]
     },
     "execution_count": 90,
     "metadata": {},
     "output_type": "execute_result"
    }
   ],
   "source": [
    "node_df"
   ]
  },
  {
   "cell_type": "code",
   "execution_count": null,
   "id": "8dca936e",
   "metadata": {},
   "outputs": [],
   "source": []
  },
  {
   "cell_type": "code",
   "execution_count": 91,
   "id": "e50cc5bd",
   "metadata": {},
   "outputs": [
    {
     "data": {
      "application/vnd.microsoft.datawrangler.viewer.v0+json": {
       "columns": [
        {
         "name": "index",
         "rawType": "int64",
         "type": "integer"
        },
        {
         "name": "name",
         "rawType": "object",
         "type": "string"
        },
        {
         "name": "label",
         "rawType": "object",
         "type": "string"
        },
        {
         "name": "partido",
         "rawType": "object",
         "type": "unknown"
        },
        {
         "name": "type",
         "rawType": "object",
         "type": "string"
        },
        {
         "name": "score",
         "rawType": "float64",
         "type": "float"
        },
        {
         "name": "bigtype",
         "rawType": "object",
         "type": "string"
        }
       ],
       "ref": "62495417-3dc8-445f-8f5e-03c36c060e16",
       "rows": [
        [
         "0",
         "CP:2187087",
         "PL 5029/2019",
         null,
         "Proposicao",
         "1.0",
         "bill"
        ],
        [
         "1",
         "CP:2190408",
         "PL 2/2019",
         null,
         "Proposicao",
         "0.25",
         "bill"
        ],
        [
         "2",
         "CP:2190417",
         "PL 10/2019",
         null,
         "Proposicao",
         "0.25",
         "bill"
        ],
        [
         "3",
         "CP:2190423",
         "PL 15/2019",
         null,
         "Proposicao",
         "0.0",
         "bill"
        ],
        [
         "4",
         "CP:2190450",
         "PL 21/2019",
         null,
         "Proposicao",
         "0.25",
         "bill"
        ],
        [
         "5",
         "CP:2190462",
         "PL 32/2019",
         null,
         "Proposicao",
         "0.25",
         "bill"
        ],
        [
         "6",
         "CP:2190472",
         "PL 39/2019",
         null,
         "Proposicao",
         "0.25",
         "bill"
        ],
        [
         "7",
         "CP:2190495",
         "PL 62/2019",
         null,
         "Proposicao",
         "0.25",
         "bill"
        ],
        [
         "8",
         "CP:2190519",
         "PL 76/2019",
         null,
         "Proposicao",
         "0.25",
         "bill"
        ],
        [
         "9",
         "CP:2190532",
         "PL 89/2019",
         null,
         "Proposicao",
         "0.25",
         "bill"
        ],
        [
         "10",
         "CP:2190556",
         "PLP 6/2019",
         null,
         "Proposicao",
         "0.25",
         "bill"
        ],
        [
         "11",
         "CP:2190579",
         "PL 119/2019",
         null,
         "Proposicao",
         "0.25",
         "bill"
        ],
        [
         "12",
         "CP:2190585",
         "PL 123/2019",
         null,
         "Proposicao",
         "1.0",
         "bill"
        ],
        [
         "13",
         "CP:2190590",
         "PL 127/2019",
         null,
         "Proposicao",
         "0.25",
         "bill"
        ],
        [
         "14",
         "CP:2190598",
         "PL 130/2019",
         null,
         "Proposicao",
         "1.0",
         "bill"
        ],
        [
         "15",
         "CP:2190603",
         "PL 135/2019",
         null,
         "Proposicao",
         "0.25",
         "bill"
        ],
        [
         "16",
         "CP:2190619",
         "PL 146/2019",
         null,
         "Proposicao",
         "0.25",
         "bill"
        ],
        [
         "17",
         "CP:2190651",
         "PL 164/2019",
         null,
         "Proposicao",
         "0.25",
         "bill"
        ],
        [
         "18",
         "CP:2190661",
         "PL 171/2019",
         null,
         "Proposicao",
         "0.25",
         "bill"
        ],
        [
         "19",
         "CP:2190692",
         "PL 185/2019",
         null,
         "Proposicao",
         "0.25",
         "bill"
        ],
        [
         "20",
         "CP:2190701",
         "PL 192/2019",
         null,
         "Proposicao",
         "0.0",
         "bill"
        ],
        [
         "21",
         "CP:2190718",
         "PL 207/2019",
         null,
         "Proposicao",
         "0.0",
         "bill"
        ],
        [
         "22",
         "CP:2190726",
         "PL 197/2019",
         null,
         "Proposicao",
         "0.25",
         "bill"
        ],
        [
         "23",
         "CP:2190729",
         "PL 213/2019",
         null,
         "Proposicao",
         "0.25",
         "bill"
        ],
        [
         "24",
         "CP:2190740",
         "PL 215/2019",
         null,
         "Proposicao",
         "0.25",
         "bill"
        ],
        [
         "25",
         "CP:2190743",
         "PL 234/2019",
         null,
         "Proposicao",
         "0.25",
         "bill"
        ],
        [
         "26",
         "CP:2190745",
         "PL 216/2019",
         null,
         "Proposicao",
         "0.25",
         "bill"
        ],
        [
         "27",
         "CP:2190748",
         "PL 217/2019",
         null,
         "Proposicao",
         "0.25",
         "bill"
        ],
        [
         "28",
         "CP:2190752",
         "PL 246/2019",
         null,
         "Proposicao",
         "0.25",
         "bill"
        ],
        [
         "29",
         "CP:2190756",
         "PL 249/2019",
         null,
         "Proposicao",
         "0.0",
         "bill"
        ],
        [
         "30",
         "CP:2190776",
         "PL 237/2019",
         null,
         "Proposicao",
         "0.25",
         "bill"
        ],
        [
         "31",
         "CP:2190781",
         "PL 290/2019",
         null,
         "Proposicao",
         "0.25",
         "bill"
        ],
        [
         "32",
         "CP:2190799",
         "PL 297/2019",
         null,
         "Proposicao",
         "0.25",
         "bill"
        ],
        [
         "33",
         "CP:2190871",
         "PL 275/2019",
         null,
         "Proposicao",
         "0.25",
         "bill"
        ],
        [
         "34",
         "CP:2190876",
         "PL 326/2019",
         null,
         "Proposicao",
         "0.0",
         "bill"
        ],
        [
         "35",
         "CP:2190899",
         "PL 343/2019",
         null,
         "Proposicao",
         "0.0",
         "bill"
        ],
        [
         "36",
         "CP:2190908",
         "PL 351/2019",
         null,
         "Proposicao",
         "0.5",
         "bill"
        ],
        [
         "37",
         "CP:2190911",
         "PL 347/2019",
         null,
         "Proposicao",
         "0.25",
         "bill"
        ],
        [
         "38",
         "CP:2190918",
         "PL 353/2019",
         null,
         "Proposicao",
         "0.25",
         "bill"
        ],
        [
         "39",
         "CP:2190984",
         "PL 362/2019",
         null,
         "Proposicao",
         "0.25",
         "bill"
        ],
        [
         "40",
         "CP:2190988",
         "PL 366/2019",
         null,
         "Proposicao",
         "0.25",
         "bill"
        ],
        [
         "41",
         "CP:2190994",
         "PL 371/2019",
         null,
         "Proposicao",
         "0.25",
         "bill"
        ],
        [
         "42",
         "CP:2191010",
         "PL 373/2019",
         null,
         "Proposicao",
         "0.25",
         "bill"
        ],
        [
         "43",
         "CP:2191030",
         "PLP 9/2019",
         null,
         "Proposicao",
         "0.0",
         "bill"
        ],
        [
         "44",
         "CP:2191045",
         "PL 379/2019",
         null,
         "Proposicao",
         "0.0",
         "bill"
        ],
        [
         "45",
         "CP:2191047",
         "PL 381/2019",
         null,
         "Proposicao",
         "0.0",
         "bill"
        ],
        [
         "46",
         "CP:2191088",
         "PL 418/2019",
         null,
         "Proposicao",
         "0.0",
         "bill"
        ],
        [
         "47",
         "CP:2191093",
         "PL 423/2019",
         null,
         "Proposicao",
         "0.25",
         "bill"
        ],
        [
         "48",
         "CP:2191094",
         "PL 424/2019",
         null,
         "Proposicao",
         "0.25",
         "bill"
        ],
        [
         "49",
         "CP:2191116",
         "PL 443/2019",
         null,
         "Proposicao",
         "0.25",
         "bill"
        ]
       ],
       "shape": {
        "columns": 6,
        "rows": 29250
       }
      },
      "text/html": [
       "<div>\n",
       "<style scoped>\n",
       "    .dataframe tbody tr th:only-of-type {\n",
       "        vertical-align: middle;\n",
       "    }\n",
       "\n",
       "    .dataframe tbody tr th {\n",
       "        vertical-align: top;\n",
       "    }\n",
       "\n",
       "    .dataframe thead th {\n",
       "        text-align: right;\n",
       "    }\n",
       "</style>\n",
       "<table border=\"1\" class=\"dataframe\">\n",
       "  <thead>\n",
       "    <tr style=\"text-align: right;\">\n",
       "      <th></th>\n",
       "      <th>name</th>\n",
       "      <th>label</th>\n",
       "      <th>partido</th>\n",
       "      <th>type</th>\n",
       "      <th>score</th>\n",
       "      <th>bigtype</th>\n",
       "    </tr>\n",
       "  </thead>\n",
       "  <tbody>\n",
       "    <tr>\n",
       "      <th>0</th>\n",
       "      <td>CP:2187087</td>\n",
       "      <td>PL 5029/2019</td>\n",
       "      <td>None</td>\n",
       "      <td>Proposicao</td>\n",
       "      <td>1.00</td>\n",
       "      <td>bill</td>\n",
       "    </tr>\n",
       "    <tr>\n",
       "      <th>1</th>\n",
       "      <td>CP:2190408</td>\n",
       "      <td>PL 2/2019</td>\n",
       "      <td>None</td>\n",
       "      <td>Proposicao</td>\n",
       "      <td>0.25</td>\n",
       "      <td>bill</td>\n",
       "    </tr>\n",
       "    <tr>\n",
       "      <th>2</th>\n",
       "      <td>CP:2190417</td>\n",
       "      <td>PL 10/2019</td>\n",
       "      <td>None</td>\n",
       "      <td>Proposicao</td>\n",
       "      <td>0.25</td>\n",
       "      <td>bill</td>\n",
       "    </tr>\n",
       "    <tr>\n",
       "      <th>3</th>\n",
       "      <td>CP:2190423</td>\n",
       "      <td>PL 15/2019</td>\n",
       "      <td>None</td>\n",
       "      <td>Proposicao</td>\n",
       "      <td>0.00</td>\n",
       "      <td>bill</td>\n",
       "    </tr>\n",
       "    <tr>\n",
       "      <th>4</th>\n",
       "      <td>CP:2190450</td>\n",
       "      <td>PL 21/2019</td>\n",
       "      <td>None</td>\n",
       "      <td>Proposicao</td>\n",
       "      <td>0.25</td>\n",
       "      <td>bill</td>\n",
       "    </tr>\n",
       "    <tr>\n",
       "      <th>...</th>\n",
       "      <td>...</td>\n",
       "      <td>...</td>\n",
       "      <td>...</td>\n",
       "      <td>...</td>\n",
       "      <td>...</td>\n",
       "      <td>...</td>\n",
       "    </tr>\n",
       "    <tr>\n",
       "      <th>29245</th>\n",
       "      <td>SE:7352398</td>\n",
       "      <td>CPI da Pandemia</td>\n",
       "      <td>None</td>\n",
       "      <td>Orgao</td>\n",
       "      <td>0.00</td>\n",
       "      <td>author</td>\n",
       "    </tr>\n",
       "    <tr>\n",
       "      <th>29246</th>\n",
       "      <td>SE:55226</td>\n",
       "      <td>Comissão Diretora</td>\n",
       "      <td>None</td>\n",
       "      <td>Orgao</td>\n",
       "      <td>0.00</td>\n",
       "      <td>author</td>\n",
       "    </tr>\n",
       "    <tr>\n",
       "      <th>29247</th>\n",
       "      <td>SE:3947422</td>\n",
       "      <td>Comissão de Direitos Humanos e Legislação Part...</td>\n",
       "      <td>None</td>\n",
       "      <td>Orgao</td>\n",
       "      <td>0.00</td>\n",
       "      <td>author</td>\n",
       "    </tr>\n",
       "    <tr>\n",
       "      <th>29248</th>\n",
       "      <td>SE:3927825</td>\n",
       "      <td>Comissão de Meio Ambiente</td>\n",
       "      <td>None</td>\n",
       "      <td>Orgao</td>\n",
       "      <td>0.00</td>\n",
       "      <td>author</td>\n",
       "    </tr>\n",
       "    <tr>\n",
       "      <th>29249</th>\n",
       "      <td>SE:7352682</td>\n",
       "      <td>Forum Nacional de Comitês Hidrográficas Brasil</td>\n",
       "      <td>None</td>\n",
       "      <td>Orgao</td>\n",
       "      <td>0.00</td>\n",
       "      <td>author</td>\n",
       "    </tr>\n",
       "  </tbody>\n",
       "</table>\n",
       "<p>29250 rows × 6 columns</p>\n",
       "</div>"
      ],
      "text/plain": [
       "             name                                              label partido  \\\n",
       "0      CP:2187087                                       PL 5029/2019    None   \n",
       "1      CP:2190408                                          PL 2/2019    None   \n",
       "2      CP:2190417                                         PL 10/2019    None   \n",
       "3      CP:2190423                                         PL 15/2019    None   \n",
       "4      CP:2190450                                         PL 21/2019    None   \n",
       "...           ...                                                ...     ...   \n",
       "29245  SE:7352398                                    CPI da Pandemia    None   \n",
       "29246    SE:55226                                  Comissão Diretora    None   \n",
       "29247  SE:3947422  Comissão de Direitos Humanos e Legislação Part...    None   \n",
       "29248  SE:3927825                          Comissão de Meio Ambiente    None   \n",
       "29249  SE:7352682     Forum Nacional de Comitês Hidrográficas Brasil    None   \n",
       "\n",
       "             type  score bigtype  \n",
       "0      Proposicao   1.00    bill  \n",
       "1      Proposicao   0.25    bill  \n",
       "2      Proposicao   0.25    bill  \n",
       "3      Proposicao   0.00    bill  \n",
       "4      Proposicao   0.25    bill  \n",
       "...           ...    ...     ...  \n",
       "29245       Orgao   0.00  author  \n",
       "29246       Orgao   0.00  author  \n",
       "29247       Orgao   0.00  author  \n",
       "29248       Orgao   0.00  author  \n",
       "29249       Orgao   0.00  author  \n",
       "\n",
       "[29250 rows x 6 columns]"
      ]
     },
     "execution_count": 91,
     "metadata": {},
     "output_type": "execute_result"
    }
   ],
   "source": [
    "node_df"
   ]
  },
  {
   "cell_type": "code",
   "execution_count": 92,
   "id": "48c71d6a",
   "metadata": {},
   "outputs": [
    {
     "data": {
      "text/plain": [
       "((21780, 6), (36049, 3))"
      ]
     },
     "execution_count": 92,
     "metadata": {},
     "output_type": "execute_result"
    }
   ],
   "source": [
    "house_node_df = node_df[\n",
    "    (node_df['name'].str.startswith('CD:'))|(node_df['bigtype'].eq('bill')&node_df['score'] >= 0.5)\n",
    "]\n",
    "house_node_df, house_edge_df = prune_graph(house_node_df, edge_df)\n",
    "house_node_df.shape, house_edge_df.shape"
   ]
  },
  {
   "cell_type": "code",
   "execution_count": 93,
   "id": "1dbb98e6",
   "metadata": {},
   "outputs": [],
   "source": [
    "g = build_graph(house_node_df, house_edge_df)"
   ]
  },
  {
   "cell_type": "code",
   "execution_count": 94,
   "id": "6b9fddec",
   "metadata": {},
   "outputs": [
    {
     "name": "stderr",
     "output_type": "stream",
     "text": [
      "/tmp/ipykernel_2264343/3219112988.py:105: MatplotlibDeprecationWarning: The get_cmap function was deprecated in Matplotlib 3.7 and will be removed in 3.11. Use ``matplotlib.colormaps[name]`` or ``matplotlib.colormaps.get_cmap()`` or ``pyplot.get_cmap()`` instead.\n",
      "  palette = plt.cm.get_cmap('tab10', len(uniq_types))\n"
     ]
    },
    {
     "data": {
      "image/png": "[encoded data removed]",
      "text/plain": [
       "<Figure size 1000x1000 with 1 Axes>"
      ]
     },
     "metadata": {},
     "output_type": "display_data"
    }
   ],
   "source": [
    "view_graph(g)"
   ]
  },
  {
   "cell_type": "code",
   "execution_count": null,
   "id": "272305b8",
   "metadata": {},
   "outputs": [],
   "source": []
  },
  {
   "cell_type": "code",
   "execution_count": null,
   "id": "3804033a",
   "metadata": {},
   "outputs": [],
   "source": []
  }
 ],
 "metadata": {
  "kernelspec": {
   "display_name": "venv",
   "language": "python",
   "name": "python3"
  },
  "language_info": {
   "codemirror_mode": {
    "name": "ipython",
    "version": 3
   },
   "file_extension": ".py",
   "mimetype": "text/x-python",
   "name": "python",
   "nbconvert_exporter": "python",
   "pygments_lexer": "ipython3",
   "version": "3.13.7"
  }
 },
 "nbformat": 4,
 "nbformat_minor": 5
}
