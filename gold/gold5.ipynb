{
 "cells": [
  {
   "cell_type": "code",
   "execution_count": 1,
   "id": "ccbfb5dc",
   "metadata": {},
   "outputs": [],
   "source": [
    "import os\n",
    "\n",
    "from pathlib import Path\n",
    "\n",
    "import duckdb\n",
    "import igraph as ig\n",
    "import pandas as pd\n",
    "\n",
    "from event import Event\n",
    "\n",
    "from dotenv import load_dotenv\n",
    "\n",
    "load_dotenv()\n",
    "\n",
    "PROJECT_DIR = Path(\"~/tramita\").expanduser()\n",
    "DB_PATH = PROJECT_DIR / os.getenv(\"SILVER_DUCKDB_PATH\", \"\")\n",
    "OUT_DIR = PROJECT_DIR / \"data\" / \"gold\"\n",
    "OUT_DIR.mkdir(exist_ok=True)\n",
    "\n",
    "NODES_PATH_PARQUET = OUT_DIR / \"nodes.parquet\"\n",
    "EDGES_PATH_PARQUET = OUT_DIR / \"edges.parquet\"\n",
    "NODES_PATH_CSV = OUT_DIR / \"nodes.csv\"\n",
    "EDGES_PATH_CSV = OUT_DIR / \"edges.csv\""
   ]
  },
  {
   "cell_type": "code",
   "execution_count": null,
   "id": "e4161af0",
   "metadata": {},
   "outputs": [],
   "source": [
    "with duckdb.connect(DB_PATH, read_only=True) as con:"
   ]
  }
 ],
 "metadata": {
  "kernelspec": {
   "display_name": "venv",
   "language": "python",
   "name": "python3"
  },
  "language_info": {
   "codemirror_mode": {
    "name": "ipython",
    "version": 3
   },
   "file_extension": ".py",
   "mimetype": "text/x-python",
   "name": "python",
   "nbconvert_exporter": "python",
   "pygments_lexer": "ipython3",
   "version": "3.13.7"
  }
 },
 "nbformat": 4,
 "nbformat_minor": 5
}
