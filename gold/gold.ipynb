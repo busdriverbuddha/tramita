{
 "cells": [
  {
   "cell_type": "markdown",
   "id": "19b877db",
   "metadata": {},
   "source": [
    "# 1. Preparação\n",
    "\n",
    "## 1.1. Imports"
   ]
  },
  {
   "cell_type": "code",
   "execution_count": 1,
   "id": "7da1a7a7",
   "metadata": {},
   "outputs": [],
   "source": [
    "import os\n",
    "\n",
    "from pathlib import Path\n",
    "\n",
    "import duckdb\n",
    "import igraph as ig\n",
    "import pandas as pd\n",
    "\n",
    "from event import Event\n",
    "\n",
    "from dotenv import load_dotenv\n",
    "\n",
    "load_dotenv()\n",
    "\n",
    "PROJECT_DIR = Path(\"~/tramita\").expanduser()\n",
    "DB_PATH = PROJECT_DIR / os.getenv(\"SILVER_DUCKDB_PATH\", \"\")\n",
    "OUT_DIR = PROJECT_DIR / \"data\" / \"gold\"\n",
    "OUT_DIR.mkdir(exist_ok=True)\n",
    "ACCESS_DIR = OUT_DIR / \"accessory_data\"\n",
    "ACCESS_DIR.mkdir(exist_ok=True)\n",
    "\n",
    "NODES_PATH_PARQUET = OUT_DIR / \"nodes.parquet\"\n",
    "EDGES_PATH_PARQUET = OUT_DIR / \"edges.parquet\"\n",
    "NODES_PATH_CSV = OUT_DIR / \"nodes.csv\"\n",
    "EDGES_PATH_CSV = OUT_DIR / \"edges.csv\""
   ]
  },
  {
   "cell_type": "markdown",
   "id": "567c61b7",
   "metadata": {},
   "source": [
    "## 1.2. Construção de nós e arestas\n",
    "\n",
    "### 1.2.1. Leitura do banco de dados\n",
    "\n",
    "Aqui vamos consumir do banco de dados que construímos na fase silver, com alguns ajustes e correções para montar os grafos."
   ]
  },
  {
   "cell_type": "code",
   "execution_count": 2,
   "id": "1f305b24",
   "metadata": {},
   "outputs": [],
   "source": [
    "with duckdb.connect(DB_PATH, read_only=True) as con:\n",
    "\n",
    "    house_props_df = con.execute(\"SELECT * FROM proposicoes_camara\").df().set_index('id_proposicao', drop=True)\n",
    "    house_autores_df = con.execute(\"SELECT * FROM autores_camara\").df().set_index('id_autor', drop=True)\n",
    "    house_deputados_df = con.execute(\"SELECT * FROM deputados_camara\").df().set_index('id_deputado', drop=True)\n",
    "    house_orgaos_df = con.execute(\"SELECT * FROM orgaos_camara\").df().set_index('id_orgao', drop=True)\n",
    "    house_partidos_df = con.execute(\"SELECT * FROM partidos_camara\").df()\n",
    "    house_partidos_membros_df = con.execute(\"SELECT * FROM partidos_membros_camara\").df()\n",
    "\n",
    "    senate_procs_df = con.execute(\"SELECT * FROM processo_senado\").df().set_index('id_processo', drop=True)\n",
    "    senate_autores_df = con.execute(\"SELECT * FROM autoria_iniciativa_senado\").df().set_index('id_autoria_iniciativa', drop=True)\n",
    "    senate_parlamentares_df = con.execute(\"SELECT * FROM parlamentar_senado\").df().set_index('codigo_parlamentar', drop=True)\n",
    "    senate_entes_df = con.execute(\"SELECT * FROM ente_senado\").df().set_index('id_ente', drop=True)\n",
    "    \n",
    "    bill_match_df = con.execute(\"SELECT * FROM correspondencia_proposicoes_processo\").df()\n",
    "\n",
    "senate_parlamentares_df['tag'] = 'SS:' + senate_parlamentares_df.index.astype(str)\n"
   ]
  },
  {
   "cell_type": "markdown",
   "id": "026a0866",
   "metadata": {},
   "source": [
    "### 1.2.2. Filtragem \n",
    "\n",
    "Removemos da tabela de autorias as que não têm proposições ou processos listados"
   ]
  },
  {
   "cell_type": "code",
   "execution_count": 3,
   "id": "5c093ba0",
   "metadata": {},
   "outputs": [],
   "source": [
    "house_autores_df = house_autores_df[house_autores_df['id_proposicao'].isin(house_props_df.index)].copy()\n",
    "senate_autores_df = senate_autores_df[senate_autores_df['id_processo'].isin(senate_procs_df.index)].copy()"
   ]
  },
  {
   "cell_type": "markdown",
   "id": "53be2f0e",
   "metadata": {},
   "source": [
    "Da mesma forma, podemos eliminar deputados e órgãos e senadores não contemplados nas autorias"
   ]
  },
  {
   "cell_type": "code",
   "execution_count": 4,
   "id": "df88feb7",
   "metadata": {},
   "outputs": [],
   "source": [
    "house_deputados_df = house_deputados_df[house_deputados_df.index.isin(\n",
    "    house_autores_df[house_autores_df['tipo_autor'] == 'deputados']['id_deputado_ou_orgao'].unique()\n",
    ")].copy()\n",
    "\n",
    "\n",
    "house_orgaos_df = house_orgaos_df[house_orgaos_df.index.isin(\n",
    "    house_autores_df[house_autores_df['tipo_autor'] == 'orgaos']['id_deputado_ou_orgao'].unique()\n",
    ")].copy()\n",
    "\n",
    "senate_parlamentares_df = senate_parlamentares_df[senate_parlamentares_df.index.isin(\n",
    "    senate_autores_df['codigo_parlamentar'].unique()\n",
    ")].copy()"
   ]
  },
  {
   "cell_type": "markdown",
   "id": "ad6aa055",
   "metadata": {},
   "source": [
    "Alguns entes listados como autorias no Senado não têm registro no mesmo banco de dados."
   ]
  },
  {
   "cell_type": "code",
   "execution_count": 5,
   "id": "1b3e27c6",
   "metadata": {},
   "outputs": [
    {
     "data": {
      "application/vnd.microsoft.datawrangler.viewer.v0+json": {
       "columns": [
        {
         "name": "id_autoria_iniciativa",
         "rawType": "int64",
         "type": "integer"
        },
        {
         "name": "ente",
         "rawType": "object",
         "type": "string"
        },
        {
         "name": "sigla_tipo",
         "rawType": "object",
         "type": "string"
        },
        {
         "name": "descricao_tipo",
         "rawType": "object",
         "type": "string"
        }
       ],
       "ref": "419fcdd7-1043-46b0-b651-35c8c6e3aee5",
       "rows": [
        [
         "7773",
         "Superior Tribunal de Justiça",
         "TRIBUNAL_SUPERIOR",
         "TRIBUNAL_SUPERIOR"
        ],
        [
         "7845",
         "Procuradoria-Geral da República",
         "PROCURADOR_GERAL",
         "PROCURADOR_GERAL"
        ],
        [
         "19297",
         "Ministério Público da União",
         "MINISTERIO_PUBLICO_UNIAO",
         "MINISTERIO_PUBLICO_UNIAO"
        ],
        [
         "20162",
         "Comissão de Turismo",
         "COMISSAO_CAMARA",
         "COMISSAO_CAMARA"
        ],
        [
         "21463",
         "Defensoria Pública da União",
         "DEFENSOR_GERAL",
         "DEFENSOR_GERAL"
        ],
        [
         "25416",
         "Comissão especial destinada a acompanhar as ações de combate ao câncer no Brasil",
         "COMISSAO_CAMARA",
         "COMISSAO_CAMARA"
        ]
       ],
       "shape": {
        "columns": 3,
        "rows": 6
       }
      },
      "text/html": [
       "<div>\n",
       "<style scoped>\n",
       "    .dataframe tbody tr th:only-of-type {\n",
       "        vertical-align: middle;\n",
       "    }\n",
       "\n",
       "    .dataframe tbody tr th {\n",
       "        vertical-align: top;\n",
       "    }\n",
       "\n",
       "    .dataframe thead th {\n",
       "        text-align: right;\n",
       "    }\n",
       "</style>\n",
       "<table border=\"1\" class=\"dataframe\">\n",
       "  <thead>\n",
       "    <tr style=\"text-align: right;\">\n",
       "      <th></th>\n",
       "      <th>ente</th>\n",
       "      <th>sigla_tipo</th>\n",
       "      <th>descricao_tipo</th>\n",
       "    </tr>\n",
       "    <tr>\n",
       "      <th>id_autoria_iniciativa</th>\n",
       "      <th></th>\n",
       "      <th></th>\n",
       "      <th></th>\n",
       "    </tr>\n",
       "  </thead>\n",
       "  <tbody>\n",
       "    <tr>\n",
       "      <th>7773</th>\n",
       "      <td>Superior Tribunal de Justiça</td>\n",
       "      <td>TRIBUNAL_SUPERIOR</td>\n",
       "      <td>TRIBUNAL_SUPERIOR</td>\n",
       "    </tr>\n",
       "    <tr>\n",
       "      <th>7845</th>\n",
       "      <td>Procuradoria-Geral da República</td>\n",
       "      <td>PROCURADOR_GERAL</td>\n",
       "      <td>PROCURADOR_GERAL</td>\n",
       "    </tr>\n",
       "    <tr>\n",
       "      <th>19297</th>\n",
       "      <td>Ministério Público da União</td>\n",
       "      <td>MINISTERIO_PUBLICO_UNIAO</td>\n",
       "      <td>MINISTERIO_PUBLICO_UNIAO</td>\n",
       "    </tr>\n",
       "    <tr>\n",
       "      <th>20162</th>\n",
       "      <td>Comissão de Turismo</td>\n",
       "      <td>COMISSAO_CAMARA</td>\n",
       "      <td>COMISSAO_CAMARA</td>\n",
       "    </tr>\n",
       "    <tr>\n",
       "      <th>21463</th>\n",
       "      <td>Defensoria Pública da União</td>\n",
       "      <td>DEFENSOR_GERAL</td>\n",
       "      <td>DEFENSOR_GERAL</td>\n",
       "    </tr>\n",
       "    <tr>\n",
       "      <th>25416</th>\n",
       "      <td>Comissão especial destinada a acompanhar as aç...</td>\n",
       "      <td>COMISSAO_CAMARA</td>\n",
       "      <td>COMISSAO_CAMARA</td>\n",
       "    </tr>\n",
       "  </tbody>\n",
       "</table>\n",
       "</div>"
      ],
      "text/plain": [
       "                                                                    ente  \\\n",
       "id_autoria_iniciativa                                                      \n",
       "7773                                        Superior Tribunal de Justiça   \n",
       "7845                                     Procuradoria-Geral da República   \n",
       "19297                                        Ministério Público da União   \n",
       "20162                                                Comissão de Turismo   \n",
       "21463                                        Defensoria Pública da União   \n",
       "25416                  Comissão especial destinada a acompanhar as aç...   \n",
       "\n",
       "                                     sigla_tipo            descricao_tipo  \n",
       "id_autoria_iniciativa                                                      \n",
       "7773                          TRIBUNAL_SUPERIOR         TRIBUNAL_SUPERIOR  \n",
       "7845                           PROCURADOR_GERAL          PROCURADOR_GERAL  \n",
       "19297                  MINISTERIO_PUBLICO_UNIAO  MINISTERIO_PUBLICO_UNIAO  \n",
       "20162                           COMISSAO_CAMARA           COMISSAO_CAMARA  \n",
       "21463                            DEFENSOR_GERAL            DEFENSOR_GERAL  \n",
       "25416                           COMISSAO_CAMARA           COMISSAO_CAMARA  "
      ]
     },
     "execution_count": 5,
     "metadata": {},
     "output_type": "execute_result"
    }
   ],
   "source": [
    "missing_entes_df = senate_autores_df[\n",
    "    senate_autores_df['sigla_ente'].isnull()\n",
    "][['ente', 'sigla_tipo', 'descricao_tipo']].drop_duplicates()\n",
    "missing_entes_df"
   ]
  },
  {
   "cell_type": "markdown",
   "id": "0a0fa755",
   "metadata": {},
   "source": [
    "Alguns são apenas comissões da Câmara. Vamos substituir pelo ente da Câmara na base do Senado."
   ]
  },
  {
   "cell_type": "code",
   "execution_count": 6,
   "id": "901db373",
   "metadata": {},
   "outputs": [
    {
     "data": {
      "application/vnd.microsoft.datawrangler.viewer.v0+json": {
       "columns": [
        {
         "name": "id_autoria_iniciativa",
         "rawType": "int64",
         "type": "integer"
        },
        {
         "name": "ente",
         "rawType": "object",
         "type": "string"
        },
        {
         "name": "sigla_tipo",
         "rawType": "object",
         "type": "string"
        },
        {
         "name": "descricao_tipo",
         "rawType": "object",
         "type": "string"
        }
       ],
       "ref": "e2266715-fffe-406c-9209-9643e711dc5c",
       "rows": [
        [
         "20162",
         "Comissão de Turismo",
         "COMISSAO_CAMARA",
         "COMISSAO_CAMARA"
        ],
        [
         "25416",
         "Comissão especial destinada a acompanhar as ações de combate ao câncer no Brasil",
         "COMISSAO_CAMARA",
         "COMISSAO_CAMARA"
        ]
       ],
       "shape": {
        "columns": 3,
        "rows": 2
       }
      },
      "text/html": [
       "<div>\n",
       "<style scoped>\n",
       "    .dataframe tbody tr th:only-of-type {\n",
       "        vertical-align: middle;\n",
       "    }\n",
       "\n",
       "    .dataframe tbody tr th {\n",
       "        vertical-align: top;\n",
       "    }\n",
       "\n",
       "    .dataframe thead th {\n",
       "        text-align: right;\n",
       "    }\n",
       "</style>\n",
       "<table border=\"1\" class=\"dataframe\">\n",
       "  <thead>\n",
       "    <tr style=\"text-align: right;\">\n",
       "      <th></th>\n",
       "      <th>ente</th>\n",
       "      <th>sigla_tipo</th>\n",
       "      <th>descricao_tipo</th>\n",
       "    </tr>\n",
       "    <tr>\n",
       "      <th>id_autoria_iniciativa</th>\n",
       "      <th></th>\n",
       "      <th></th>\n",
       "      <th></th>\n",
       "    </tr>\n",
       "  </thead>\n",
       "  <tbody>\n",
       "    <tr>\n",
       "      <th>20162</th>\n",
       "      <td>Comissão de Turismo</td>\n",
       "      <td>COMISSAO_CAMARA</td>\n",
       "      <td>COMISSAO_CAMARA</td>\n",
       "    </tr>\n",
       "    <tr>\n",
       "      <th>25416</th>\n",
       "      <td>Comissão especial destinada a acompanhar as aç...</td>\n",
       "      <td>COMISSAO_CAMARA</td>\n",
       "      <td>COMISSAO_CAMARA</td>\n",
       "    </tr>\n",
       "  </tbody>\n",
       "</table>\n",
       "</div>"
      ],
      "text/plain": [
       "                                                                    ente  \\\n",
       "id_autoria_iniciativa                                                      \n",
       "20162                                                Comissão de Turismo   \n",
       "25416                  Comissão especial destinada a acompanhar as aç...   \n",
       "\n",
       "                            sigla_tipo   descricao_tipo  \n",
       "id_autoria_iniciativa                                    \n",
       "20162                  COMISSAO_CAMARA  COMISSAO_CAMARA  \n",
       "25416                  COMISSAO_CAMARA  COMISSAO_CAMARA  "
      ]
     },
     "execution_count": 6,
     "metadata": {},
     "output_type": "execute_result"
    }
   ],
   "source": [
    "house_entes_in_senate = missing_entes_df[missing_entes_df['sigla_tipo'] == \"COMISSAO_CAMARA\"]\n",
    "house_entes_in_senate"
   ]
  },
  {
   "cell_type": "code",
   "execution_count": 7,
   "id": "9cffea12",
   "metadata": {},
   "outputs": [
    {
     "data": {
      "application/vnd.microsoft.datawrangler.viewer.v0+json": {
       "columns": [
        {
         "name": "index",
         "rawType": "object",
         "type": "string"
        },
        {
         "name": "2",
         "rawType": "object",
         "type": "unknown"
        }
       ],
       "ref": "2d299fb0-ef7c-4832-bfcd-93dfd5cce36b",
       "rows": [
        [
         "sigla",
         "CD"
        ],
        [
         "nome",
         "Câmara dos Deputados"
        ],
        [
         "casa",
         "CD"
        ],
        [
         "sigla_tipo",
         "CASA_LEGISLATIVA"
        ],
        [
         "descricao_tipo",
         "Casa Legislativa"
        ],
        [
         "data_inicio",
         "1960-01-01 00:00:00"
        ],
        [
         "data_fim",
         null
        ],
        [
         "tag",
         "SE:2"
        ]
       ],
       "shape": {
        "columns": 1,
        "rows": 8
       }
      },
      "text/plain": [
       "sigla                               CD\n",
       "nome              Câmara dos Deputados\n",
       "casa                                CD\n",
       "sigla_tipo            CASA_LEGISLATIVA\n",
       "descricao_tipo        Casa Legislativa\n",
       "data_inicio        1960-01-01 00:00:00\n",
       "data_fim                           NaT\n",
       "tag                               SE:2\n",
       "Name: 2, dtype: object"
      ]
     },
     "execution_count": 7,
     "metadata": {},
     "output_type": "execute_result"
    }
   ],
   "source": [
    "senate_entes_df.loc[2]"
   ]
  },
  {
   "cell_type": "code",
   "execution_count": 8,
   "id": "8392bce6",
   "metadata": {},
   "outputs": [],
   "source": [
    "for index, row in senate_autores_df[senate_autores_df['sigla_tipo'] == \"COMISSAO_CAMARA\"].iterrows():\n",
    "    senate_autores_df.at[index, 'ente'] = \"Câmara dos Deputados\"\n",
    "    senate_autores_df.at[index, 'sigla_ente'] = \"CD\"\n",
    "    senate_autores_df.at[index, 'sigla_tipo'] = \"CASA_LEGISLATIVA\""
   ]
  },
  {
   "cell_type": "markdown",
   "id": "87c94fec",
   "metadata": {},
   "source": [
    "Vamos criar pseudo-entradas para outros entes relevantes."
   ]
  },
  {
   "cell_type": "code",
   "execution_count": 9,
   "id": "90d8e3a4",
   "metadata": {},
   "outputs": [
    {
     "name": "stderr",
     "output_type": "stream",
     "text": [
      "/tmp/ipykernel_2671683/1782294366.py:34: FutureWarning: The behavior of DataFrame concatenation with empty or all-NA entries is deprecated. In a future version, this will no longer exclude empty or all-NA columns when determining the result dtypes. To retain the old behavior, exclude the relevant entries before the concat operation.\n",
      "  senate_entes_df = pd.concat([senate_entes_df, new_df], axis=0)\n"
     ]
    }
   ],
   "source": [
    "nomes_e_siglas = {\n",
    "    'Superior Tribunal de Justiça': '_STJ', \n",
    "    'Procuradoria-Geral da República': '_PGR',\n",
    "    'Ministério Público da União': '_MPU',\n",
    "    'Defensoria Pública da União': '_DPU',\n",
    "}\n",
    "# para cada uma das autorias faltantes, vamos criar novas linhas em senate_entes_df\n",
    "# preservando id_ente como índice\n",
    "k = 0\n",
    "new_rows = []\n",
    "new_index = []\n",
    "for idx, row in missing_entes_df.iterrows():\n",
    "    sigla = nomes_e_siglas.get(row['ente'])\n",
    "    new_id = 9999990 + k\n",
    "    new_row = {\n",
    "        'sigla': sigla,\n",
    "        'nome': row['ente'],\n",
    "        'casa': None,\n",
    "        'sigla_tipo': row['sigla_tipo'],\n",
    "        'descricao_tipo': row['descricao_tipo'],\n",
    "        'data_inicio': None,\n",
    "        'data_fim': None,\n",
    "        'tag': f'SE:{new_id}'\n",
    "    }\n",
    "    new_rows.append(new_row)\n",
    "    new_index.append(new_id)\n",
    "    k += 1\n",
    "\n",
    "if new_rows:\n",
    "    new_df = pd.DataFrame(new_rows, index=new_index)\n",
    "    # manter o nome do índice (esperado: 'id_ente')\n",
    "    new_df.index.name = senate_entes_df.index.name\n",
    "    # concatenar preservando os índices\n",
    "    senate_entes_df = pd.concat([senate_entes_df, new_df], axis=0)"
   ]
  },
  {
   "cell_type": "markdown",
   "id": "2a89b320",
   "metadata": {},
   "source": [
    "Como a tabela de autorias do Senado lista os entes por sigla e não por id, agora preenchemos isso naquela."
   ]
  },
  {
   "cell_type": "code",
   "execution_count": 10,
   "id": "addc01b0",
   "metadata": {},
   "outputs": [],
   "source": [
    "for index, row in missing_entes_df.iterrows():\n",
    "    sigla = nomes_e_siglas.get(row['ente'])\n",
    "    senate_autores_df.loc[\n",
    "        (senate_autores_df['ente'] == row['ente']) &\n",
    "        (senate_autores_df['sigla_ente'].isnull()),\n",
    "        'sigla_ente'\n",
    "    ] = sigla"
   ]
  },
  {
   "cell_type": "markdown",
   "id": "7db9118c",
   "metadata": {},
   "source": [
    "Agora fazemos o caminho inverso. Mantemos em senate_entes_df somente o que aparece em senate_autores_df. Ou seja, somente onde senate_entes_df.sigla está em senate_autores_df.sigla_ente"
   ]
  },
  {
   "cell_type": "code",
   "execution_count": 11,
   "id": "597bfe7b",
   "metadata": {},
   "outputs": [],
   "source": [
    "\n",
    "senate_entes_df = senate_entes_df[senate_entes_df['sigla'].isin(\n",
    "    senate_autores_df['sigla_ente'].unique()\n",
    ")]\n",
    "\n",
    "# Se houver duplicadas em sigla_ente, mantemos a primeira ocorrência\n",
    "senate_entes_df = senate_entes_df.drop_duplicates(subset=['sigla'], keep='first')"
   ]
  },
  {
   "cell_type": "markdown",
   "id": "76df14d1",
   "metadata": {},
   "source": [
    "Finalmente, criamos a coluna id_ente em senate_autores_df a partir de sigla_ente usando senate_entes_lookup_df"
   ]
  },
  {
   "cell_type": "code",
   "execution_count": 12,
   "id": "9cde23c3",
   "metadata": {},
   "outputs": [
    {
     "data": {
      "application/vnd.microsoft.datawrangler.viewer.v0+json": {
       "columns": [
        {
         "name": "sigla",
         "rawType": "object",
         "type": "string"
        },
        {
         "name": "id_ente",
         "rawType": "int64",
         "type": "integer"
        }
       ],
       "ref": "dd5378d0-ff6e-4663-bcab-62439a0eb2ec",
       "rows": [
        [
         "CPIPANDEMIA",
         "7352398"
        ],
        [
         "CDIR",
         "55226"
        ],
        [
         "CDH",
         "3947422"
        ],
        [
         "CMA",
         "3927825"
        ],
        [
         "CD",
         "2"
        ],
        [
         "CBHS",
         "7352682"
        ],
        [
         "PR",
         "55126"
        ],
        [
         "SF",
         "1"
        ],
        [
         "STF",
         "5282726"
        ],
        [
         "TCU",
         "7352253"
        ],
        [
         "TST",
         "7351348"
        ],
        [
         "TJDFT",
         "55143"
        ],
        [
         "_STJ",
         "9999990"
        ],
        [
         "_PGR",
         "9999991"
        ],
        [
         "_MPU",
         "9999992"
        ],
        [
         "_DPU",
         "9999994"
        ]
       ],
       "shape": {
        "columns": 1,
        "rows": 16
       }
      },
      "text/html": [
       "<div>\n",
       "<style scoped>\n",
       "    .dataframe tbody tr th:only-of-type {\n",
       "        vertical-align: middle;\n",
       "    }\n",
       "\n",
       "    .dataframe tbody tr th {\n",
       "        vertical-align: top;\n",
       "    }\n",
       "\n",
       "    .dataframe thead th {\n",
       "        text-align: right;\n",
       "    }\n",
       "</style>\n",
       "<table border=\"1\" class=\"dataframe\">\n",
       "  <thead>\n",
       "    <tr style=\"text-align: right;\">\n",
       "      <th></th>\n",
       "      <th>id_ente</th>\n",
       "    </tr>\n",
       "    <tr>\n",
       "      <th>sigla</th>\n",
       "      <th></th>\n",
       "    </tr>\n",
       "  </thead>\n",
       "  <tbody>\n",
       "    <tr>\n",
       "      <th>CPIPANDEMIA</th>\n",
       "      <td>7352398</td>\n",
       "    </tr>\n",
       "    <tr>\n",
       "      <th>CDIR</th>\n",
       "      <td>55226</td>\n",
       "    </tr>\n",
       "    <tr>\n",
       "      <th>CDH</th>\n",
       "      <td>3947422</td>\n",
       "    </tr>\n",
       "    <tr>\n",
       "      <th>CMA</th>\n",
       "      <td>3927825</td>\n",
       "    </tr>\n",
       "    <tr>\n",
       "      <th>CD</th>\n",
       "      <td>2</td>\n",
       "    </tr>\n",
       "    <tr>\n",
       "      <th>CBHS</th>\n",
       "      <td>7352682</td>\n",
       "    </tr>\n",
       "    <tr>\n",
       "      <th>PR</th>\n",
       "      <td>55126</td>\n",
       "    </tr>\n",
       "    <tr>\n",
       "      <th>SF</th>\n",
       "      <td>1</td>\n",
       "    </tr>\n",
       "    <tr>\n",
       "      <th>STF</th>\n",
       "      <td>5282726</td>\n",
       "    </tr>\n",
       "    <tr>\n",
       "      <th>TCU</th>\n",
       "      <td>7352253</td>\n",
       "    </tr>\n",
       "    <tr>\n",
       "      <th>TST</th>\n",
       "      <td>7351348</td>\n",
       "    </tr>\n",
       "    <tr>\n",
       "      <th>TJDFT</th>\n",
       "      <td>55143</td>\n",
       "    </tr>\n",
       "    <tr>\n",
       "      <th>_STJ</th>\n",
       "      <td>9999990</td>\n",
       "    </tr>\n",
       "    <tr>\n",
       "      <th>_PGR</th>\n",
       "      <td>9999991</td>\n",
       "    </tr>\n",
       "    <tr>\n",
       "      <th>_MPU</th>\n",
       "      <td>9999992</td>\n",
       "    </tr>\n",
       "    <tr>\n",
       "      <th>_DPU</th>\n",
       "      <td>9999994</td>\n",
       "    </tr>\n",
       "  </tbody>\n",
       "</table>\n",
       "</div>"
      ],
      "text/plain": [
       "             id_ente\n",
       "sigla               \n",
       "CPIPANDEMIA  7352398\n",
       "CDIR           55226\n",
       "CDH          3947422\n",
       "CMA          3927825\n",
       "CD                 2\n",
       "CBHS         7352682\n",
       "PR             55126\n",
       "SF                 1\n",
       "STF          5282726\n",
       "TCU          7352253\n",
       "TST          7351348\n",
       "TJDFT          55143\n",
       "_STJ         9999990\n",
       "_PGR         9999991\n",
       "_MPU         9999992\n",
       "_DPU         9999994"
      ]
     },
     "execution_count": 12,
     "metadata": {},
     "output_type": "execute_result"
    }
   ],
   "source": [
    "senate_entes_lookup_df = senate_entes_df[['sigla']].copy()\n",
    "senate_entes_lookup_df['id_ente'] = senate_entes_lookup_df.index\n",
    "senate_entes_lookup_df.set_index('sigla', drop=True, inplace=True)\n",
    "senate_entes_lookup_df"
   ]
  },
  {
   "cell_type": "code",
   "execution_count": 13,
   "id": "1e76fa91",
   "metadata": {},
   "outputs": [],
   "source": [
    "senate_autores_df['id_ente'] = senate_autores_df['sigla_ente'].map(senate_entes_lookup_df['id_ente'])"
   ]
  },
  {
   "cell_type": "markdown",
   "id": "294bb000",
   "metadata": {},
   "source": [
    "### 1.2.3. Consolidação de órgaos e entes\n",
    "\n",
    "Tentamos fazer uma correspondência entre os órgãos da Câmara e os entes do Senado"
   ]
  },
  {
   "cell_type": "code",
   "execution_count": 14,
   "id": "ad6e9a78",
   "metadata": {},
   "outputs": [
    {
     "data": {
      "application/vnd.microsoft.datawrangler.viewer.v0+json": {
       "columns": [
        {
         "name": "index",
         "rawType": "int64",
         "type": "integer"
        },
        {
         "name": "id_ente",
         "rawType": "int64",
         "type": "integer"
        },
        {
         "name": "id_orgao",
         "rawType": "int64",
         "type": "integer"
        }
       ],
       "ref": "7d4bcc46-2b35-439f-b760-9278590eb3b7",
       "rows": [
        [
         "0",
         "2",
         "100292"
        ],
        [
         "1",
         "1",
         "78"
        ],
        [
         "2",
         "55126",
         "60"
        ],
        [
         "3",
         "55126",
         "253"
        ],
        [
         "4",
         "5282726",
         "80"
        ],
        [
         "5",
         "9999990",
         "81"
        ],
        [
         "6",
         "7351348",
         "277"
        ],
        [
         "7",
         "7352253",
         "82"
        ],
        [
         "8",
         "55143",
         "382"
        ],
        [
         "9",
         "9999991",
         "101347"
        ],
        [
         "10",
         "9999992",
         "57"
        ],
        [
         "11",
         "9999994",
         "101131"
        ]
       ],
       "shape": {
        "columns": 2,
        "rows": 12
       }
      },
      "text/html": [
       "<div>\n",
       "<style scoped>\n",
       "    .dataframe tbody tr th:only-of-type {\n",
       "        vertical-align: middle;\n",
       "    }\n",
       "\n",
       "    .dataframe tbody tr th {\n",
       "        vertical-align: top;\n",
       "    }\n",
       "\n",
       "    .dataframe thead th {\n",
       "        text-align: right;\n",
       "    }\n",
       "</style>\n",
       "<table border=\"1\" class=\"dataframe\">\n",
       "  <thead>\n",
       "    <tr style=\"text-align: right;\">\n",
       "      <th></th>\n",
       "      <th>id_ente</th>\n",
       "      <th>id_orgao</th>\n",
       "    </tr>\n",
       "  </thead>\n",
       "  <tbody>\n",
       "    <tr>\n",
       "      <th>0</th>\n",
       "      <td>2</td>\n",
       "      <td>100292</td>\n",
       "    </tr>\n",
       "    <tr>\n",
       "      <th>1</th>\n",
       "      <td>1</td>\n",
       "      <td>78</td>\n",
       "    </tr>\n",
       "    <tr>\n",
       "      <th>2</th>\n",
       "      <td>55126</td>\n",
       "      <td>60</td>\n",
       "    </tr>\n",
       "    <tr>\n",
       "      <th>3</th>\n",
       "      <td>55126</td>\n",
       "      <td>253</td>\n",
       "    </tr>\n",
       "    <tr>\n",
       "      <th>4</th>\n",
       "      <td>5282726</td>\n",
       "      <td>80</td>\n",
       "    </tr>\n",
       "    <tr>\n",
       "      <th>5</th>\n",
       "      <td>9999990</td>\n",
       "      <td>81</td>\n",
       "    </tr>\n",
       "    <tr>\n",
       "      <th>6</th>\n",
       "      <td>7351348</td>\n",
       "      <td>277</td>\n",
       "    </tr>\n",
       "    <tr>\n",
       "      <th>7</th>\n",
       "      <td>7352253</td>\n",
       "      <td>82</td>\n",
       "    </tr>\n",
       "    <tr>\n",
       "      <th>8</th>\n",
       "      <td>55143</td>\n",
       "      <td>382</td>\n",
       "    </tr>\n",
       "    <tr>\n",
       "      <th>9</th>\n",
       "      <td>9999991</td>\n",
       "      <td>101347</td>\n",
       "    </tr>\n",
       "    <tr>\n",
       "      <th>10</th>\n",
       "      <td>9999992</td>\n",
       "      <td>57</td>\n",
       "    </tr>\n",
       "    <tr>\n",
       "      <th>11</th>\n",
       "      <td>9999994</td>\n",
       "      <td>101131</td>\n",
       "    </tr>\n",
       "  </tbody>\n",
       "</table>\n",
       "</div>"
      ],
      "text/plain": [
       "    id_ente  id_orgao\n",
       "0         2    100292\n",
       "1         1        78\n",
       "2     55126        60\n",
       "3     55126       253\n",
       "4   5282726        80\n",
       "5   9999990        81\n",
       "6   7351348       277\n",
       "7   7352253        82\n",
       "8     55143       382\n",
       "9   9999991    101347\n",
       "10  9999992        57\n",
       "11  9999994    101131"
      ]
     },
     "execution_count": 14,
     "metadata": {},
     "output_type": "execute_result"
    }
   ],
   "source": [
    "entity_match_df = pd.DataFrame([\n",
    "    {\"id_ente\": 2, \"id_orgao\": 100292},  # Câmara\n",
    "    {\"id_ente\": 1, \"id_orgao\": 78},  # Senado\n",
    "    {\"id_ente\": 55126, \"id_orgao\": 60},  # Presidência\n",
    "    {\"id_ente\": 55126, \"id_orgao\": 253},  # Poder Executivo - depois vamos consolidar com presidência\n",
    "    {\"id_ente\": 5282726, \"id_orgao\": 80},  # STF\n",
    "    {\"id_ente\": 9999990, \"id_orgao\": 81},  # STJ\n",
    "    {\"id_ente\": 7351348, \"id_orgao\": 277},  # TSE\n",
    "    {\"id_ente\": 7352253, \"id_orgao\": 82},  # TCU\n",
    "    {\"id_ente\": 55143, \"id_orgao\": 382},  # TJDFT\n",
    "    {\"id_ente\": 9999991, \"id_orgao\": 101347},  # PGR\n",
    "    {\"id_ente\": 9999992, \"id_orgao\": 57},  # MPU\n",
    "    {\"id_ente\": 9999994, \"id_orgao\": 101131},  # DPU\n",
    "])\n",
    "entity_match_df"
   ]
  },
  {
   "cell_type": "markdown",
   "id": "c3901dcb",
   "metadata": {},
   "source": [
    "Verificamos."
   ]
  },
  {
   "cell_type": "code",
   "execution_count": 15,
   "id": "3320abe9",
   "metadata": {},
   "outputs": [
    {
     "data": {
      "application/vnd.microsoft.datawrangler.viewer.v0+json": {
       "columns": [
        {
         "name": "index",
         "rawType": "int64",
         "type": "integer"
        },
        {
         "name": "id_ente",
         "rawType": "int64",
         "type": "integer"
        },
        {
         "name": "id_orgao",
         "rawType": "int64",
         "type": "integer"
        },
        {
         "name": "nome_camara",
         "rawType": "object",
         "type": "string"
        },
        {
         "name": "nome_senado",
         "rawType": "object",
         "type": "string"
        }
       ],
       "ref": "f2a4810e-1151-493e-8383-b5430555031a",
       "rows": [
        [
         "0",
         "2",
         "100292",
         "CÂMARA DOS DEPUTADOS",
         "Câmara dos Deputados"
        ],
        [
         "1",
         "1",
         "78",
         "Senado Federal",
         "Senado Federal"
        ],
        [
         "2",
         "55126",
         "60",
         "Presidência da República",
         "Presidência da República"
        ],
        [
         "3",
         "55126",
         "253",
         "Poder Executivo",
         "Presidência da República"
        ],
        [
         "4",
         "5282726",
         "80",
         "Supremo Tribunal Federal",
         "Supremo Tribunal Federal"
        ],
        [
         "5",
         "9999990",
         "81",
         "Superior Tribunal de Justiça",
         "Superior Tribunal de Justiça"
        ],
        [
         "6",
         "7351348",
         "277",
         "Tribunal Superior Eleitoral",
         "Tribunal Superior Eleitoral"
        ],
        [
         "7",
         "7352253",
         "82",
         "Tribunal de Contas da União",
         "TCU"
        ],
        [
         "8",
         "55143",
         "382",
         "Tribunal de Justiça do Distrito Federal e dos Territórios",
         "Tribunal de Justiça do Distrito Federal e Territórios"
        ],
        [
         "9",
         "9999991",
         "101347",
         "Procuradoria-Geral da República",
         "Procuradoria-Geral da República"
        ],
        [
         "10",
         "9999992",
         "57",
         "MINISTÉRIO PÚBLICO DA UNIÃO",
         "Ministério Público da União"
        ],
        [
         "11",
         "9999994",
         "101131",
         "Defensoria Pública da União",
         "Defensoria Pública da União"
        ]
       ],
       "shape": {
        "columns": 4,
        "rows": 12
       }
      },
      "text/html": [
       "<div>\n",
       "<style scoped>\n",
       "    .dataframe tbody tr th:only-of-type {\n",
       "        vertical-align: middle;\n",
       "    }\n",
       "\n",
       "    .dataframe tbody tr th {\n",
       "        vertical-align: top;\n",
       "    }\n",
       "\n",
       "    .dataframe thead th {\n",
       "        text-align: right;\n",
       "    }\n",
       "</style>\n",
       "<table border=\"1\" class=\"dataframe\">\n",
       "  <thead>\n",
       "    <tr style=\"text-align: right;\">\n",
       "      <th></th>\n",
       "      <th>id_ente</th>\n",
       "      <th>id_orgao</th>\n",
       "      <th>nome_camara</th>\n",
       "      <th>nome_senado</th>\n",
       "    </tr>\n",
       "  </thead>\n",
       "  <tbody>\n",
       "    <tr>\n",
       "      <th>0</th>\n",
       "      <td>2</td>\n",
       "      <td>100292</td>\n",
       "      <td>CÂMARA DOS DEPUTADOS</td>\n",
       "      <td>Câmara dos Deputados</td>\n",
       "    </tr>\n",
       "    <tr>\n",
       "      <th>1</th>\n",
       "      <td>1</td>\n",
       "      <td>78</td>\n",
       "      <td>Senado Federal</td>\n",
       "      <td>Senado Federal</td>\n",
       "    </tr>\n",
       "    <tr>\n",
       "      <th>2</th>\n",
       "      <td>55126</td>\n",
       "      <td>60</td>\n",
       "      <td>Presidência da República</td>\n",
       "      <td>Presidência da República</td>\n",
       "    </tr>\n",
       "    <tr>\n",
       "      <th>3</th>\n",
       "      <td>55126</td>\n",
       "      <td>253</td>\n",
       "      <td>Poder Executivo</td>\n",
       "      <td>Presidência da República</td>\n",
       "    </tr>\n",
       "    <tr>\n",
       "      <th>4</th>\n",
       "      <td>5282726</td>\n",
       "      <td>80</td>\n",
       "      <td>Supremo Tribunal Federal</td>\n",
       "      <td>Supremo Tribunal Federal</td>\n",
       "    </tr>\n",
       "    <tr>\n",
       "      <th>5</th>\n",
       "      <td>9999990</td>\n",
       "      <td>81</td>\n",
       "      <td>Superior Tribunal de Justiça</td>\n",
       "      <td>Superior Tribunal de Justiça</td>\n",
       "    </tr>\n",
       "    <tr>\n",
       "      <th>6</th>\n",
       "      <td>7351348</td>\n",
       "      <td>277</td>\n",
       "      <td>Tribunal Superior Eleitoral</td>\n",
       "      <td>Tribunal Superior Eleitoral</td>\n",
       "    </tr>\n",
       "    <tr>\n",
       "      <th>7</th>\n",
       "      <td>7352253</td>\n",
       "      <td>82</td>\n",
       "      <td>Tribunal de Contas da União</td>\n",
       "      <td>TCU</td>\n",
       "    </tr>\n",
       "    <tr>\n",
       "      <th>8</th>\n",
       "      <td>55143</td>\n",
       "      <td>382</td>\n",
       "      <td>Tribunal de Justiça do Distrito Federal e dos ...</td>\n",
       "      <td>Tribunal de Justiça do Distrito Federal e Terr...</td>\n",
       "    </tr>\n",
       "    <tr>\n",
       "      <th>9</th>\n",
       "      <td>9999991</td>\n",
       "      <td>101347</td>\n",
       "      <td>Procuradoria-Geral da República</td>\n",
       "      <td>Procuradoria-Geral da República</td>\n",
       "    </tr>\n",
       "    <tr>\n",
       "      <th>10</th>\n",
       "      <td>9999992</td>\n",
       "      <td>57</td>\n",
       "      <td>MINISTÉRIO PÚBLICO DA UNIÃO</td>\n",
       "      <td>Ministério Público da União</td>\n",
       "    </tr>\n",
       "    <tr>\n",
       "      <th>11</th>\n",
       "      <td>9999994</td>\n",
       "      <td>101131</td>\n",
       "      <td>Defensoria Pública da União</td>\n",
       "      <td>Defensoria Pública da União</td>\n",
       "    </tr>\n",
       "  </tbody>\n",
       "</table>\n",
       "</div>"
      ],
      "text/plain": [
       "    id_ente  id_orgao                                        nome_camara  \\\n",
       "0         2    100292                               CÂMARA DOS DEPUTADOS   \n",
       "1         1        78                                     Senado Federal   \n",
       "2     55126        60                           Presidência da República   \n",
       "3     55126       253                                    Poder Executivo   \n",
       "4   5282726        80                           Supremo Tribunal Federal   \n",
       "5   9999990        81                       Superior Tribunal de Justiça   \n",
       "6   7351348       277                        Tribunal Superior Eleitoral   \n",
       "7   7352253        82                        Tribunal de Contas da União   \n",
       "8     55143       382  Tribunal de Justiça do Distrito Federal e dos ...   \n",
       "9   9999991    101347                    Procuradoria-Geral da República   \n",
       "10  9999992        57                        MINISTÉRIO PÚBLICO DA UNIÃO   \n",
       "11  9999994    101131                        Defensoria Pública da União   \n",
       "\n",
       "                                          nome_senado  \n",
       "0                                Câmara dos Deputados  \n",
       "1                                      Senado Federal  \n",
       "2                            Presidência da República  \n",
       "3                            Presidência da República  \n",
       "4                            Supremo Tribunal Federal  \n",
       "5                        Superior Tribunal de Justiça  \n",
       "6                         Tribunal Superior Eleitoral  \n",
       "7                                                 TCU  \n",
       "8   Tribunal de Justiça do Distrito Federal e Terr...  \n",
       "9                     Procuradoria-Geral da República  \n",
       "10                        Ministério Público da União  \n",
       "11                        Defensoria Pública da União  "
      ]
     },
     "execution_count": 15,
     "metadata": {},
     "output_type": "execute_result"
    }
   ],
   "source": [
    "entity_match_df.join(house_orgaos_df['nome'], on=\"id_orgao\").join(senate_entes_df['nome'], on=\"id_ente\", lsuffix=\"_camara\", rsuffix=\"_senado\")"
   ]
  },
  {
   "cell_type": "markdown",
   "id": "cf7f04ce",
   "metadata": {},
   "source": [
    "Normalizamos."
   ]
  },
  {
   "cell_type": "code",
   "execution_count": 16,
   "id": "cf907df4",
   "metadata": {},
   "outputs": [
    {
     "data": {
      "application/vnd.microsoft.datawrangler.viewer.v0+json": {
       "columns": [
        {
         "name": "index",
         "rawType": "int64",
         "type": "integer"
        },
        {
         "name": "ente_tag",
         "rawType": "object",
         "type": "string"
        },
        {
         "name": "orgao_tag",
         "rawType": "object",
         "type": "string"
        },
        {
         "name": "nome",
         "rawType": "object",
         "type": "string"
        }
       ],
       "ref": "29755056-a075-4983-bd89-ab5858586362",
       "rows": [
        [
         "0",
         "SE:2",
         "CO:100292",
         "CÂMARA DOS DEPUTADOS"
        ],
        [
         "1",
         "SE:1",
         "CO:78",
         "Senado Federal"
        ],
        [
         "2",
         "SE:55126",
         "CO:60",
         "Presidência da República"
        ],
        [
         "3",
         "SE:55126",
         "CO:253",
         "Poder Executivo"
        ],
        [
         "4",
         "SE:5282726",
         "CO:80",
         "Supremo Tribunal Federal"
        ],
        [
         "5",
         "SE:9999990",
         "CO:81",
         "Superior Tribunal de Justiça"
        ],
        [
         "6",
         "SE:7351348",
         "CO:277",
         "Tribunal Superior Eleitoral"
        ],
        [
         "7",
         "SE:7352253",
         "CO:82",
         "Tribunal de Contas da União"
        ],
        [
         "8",
         "SE:55143",
         "CO:382",
         "Tribunal de Justiça do Distrito Federal e dos Territórios"
        ],
        [
         "9",
         "SE:9999991",
         "CO:101347",
         "Procuradoria-Geral da República"
        ],
        [
         "10",
         "SE:9999992",
         "CO:57",
         "MINISTÉRIO PÚBLICO DA UNIÃO"
        ],
        [
         "11",
         "SE:9999994",
         "CO:101131",
         "Defensoria Pública da União"
        ]
       ],
       "shape": {
        "columns": 3,
        "rows": 12
       }
      },
      "text/html": [
       "<div>\n",
       "<style scoped>\n",
       "    .dataframe tbody tr th:only-of-type {\n",
       "        vertical-align: middle;\n",
       "    }\n",
       "\n",
       "    .dataframe tbody tr th {\n",
       "        vertical-align: top;\n",
       "    }\n",
       "\n",
       "    .dataframe thead th {\n",
       "        text-align: right;\n",
       "    }\n",
       "</style>\n",
       "<table border=\"1\" class=\"dataframe\">\n",
       "  <thead>\n",
       "    <tr style=\"text-align: right;\">\n",
       "      <th></th>\n",
       "      <th>ente_tag</th>\n",
       "      <th>orgao_tag</th>\n",
       "      <th>nome</th>\n",
       "    </tr>\n",
       "  </thead>\n",
       "  <tbody>\n",
       "    <tr>\n",
       "      <th>0</th>\n",
       "      <td>SE:2</td>\n",
       "      <td>CO:100292</td>\n",
       "      <td>CÂMARA DOS DEPUTADOS</td>\n",
       "    </tr>\n",
       "    <tr>\n",
       "      <th>1</th>\n",
       "      <td>SE:1</td>\n",
       "      <td>CO:78</td>\n",
       "      <td>Senado Federal</td>\n",
       "    </tr>\n",
       "    <tr>\n",
       "      <th>2</th>\n",
       "      <td>SE:55126</td>\n",
       "      <td>CO:60</td>\n",
       "      <td>Presidência da República</td>\n",
       "    </tr>\n",
       "    <tr>\n",
       "      <th>3</th>\n",
       "      <td>SE:55126</td>\n",
       "      <td>CO:253</td>\n",
       "      <td>Poder Executivo</td>\n",
       "    </tr>\n",
       "    <tr>\n",
       "      <th>4</th>\n",
       "      <td>SE:5282726</td>\n",
       "      <td>CO:80</td>\n",
       "      <td>Supremo Tribunal Federal</td>\n",
       "    </tr>\n",
       "    <tr>\n",
       "      <th>5</th>\n",
       "      <td>SE:9999990</td>\n",
       "      <td>CO:81</td>\n",
       "      <td>Superior Tribunal de Justiça</td>\n",
       "    </tr>\n",
       "    <tr>\n",
       "      <th>6</th>\n",
       "      <td>SE:7351348</td>\n",
       "      <td>CO:277</td>\n",
       "      <td>Tribunal Superior Eleitoral</td>\n",
       "    </tr>\n",
       "    <tr>\n",
       "      <th>7</th>\n",
       "      <td>SE:7352253</td>\n",
       "      <td>CO:82</td>\n",
       "      <td>Tribunal de Contas da União</td>\n",
       "    </tr>\n",
       "    <tr>\n",
       "      <th>8</th>\n",
       "      <td>SE:55143</td>\n",
       "      <td>CO:382</td>\n",
       "      <td>Tribunal de Justiça do Distrito Federal e dos ...</td>\n",
       "    </tr>\n",
       "    <tr>\n",
       "      <th>9</th>\n",
       "      <td>SE:9999991</td>\n",
       "      <td>CO:101347</td>\n",
       "      <td>Procuradoria-Geral da República</td>\n",
       "    </tr>\n",
       "    <tr>\n",
       "      <th>10</th>\n",
       "      <td>SE:9999992</td>\n",
       "      <td>CO:57</td>\n",
       "      <td>MINISTÉRIO PÚBLICO DA UNIÃO</td>\n",
       "    </tr>\n",
       "    <tr>\n",
       "      <th>11</th>\n",
       "      <td>SE:9999994</td>\n",
       "      <td>CO:101131</td>\n",
       "      <td>Defensoria Pública da União</td>\n",
       "    </tr>\n",
       "  </tbody>\n",
       "</table>\n",
       "</div>"
      ],
      "text/plain": [
       "      ente_tag  orgao_tag                                               nome\n",
       "0         SE:2  CO:100292                               CÂMARA DOS DEPUTADOS\n",
       "1         SE:1      CO:78                                     Senado Federal\n",
       "2     SE:55126      CO:60                           Presidência da República\n",
       "3     SE:55126     CO:253                                    Poder Executivo\n",
       "4   SE:5282726      CO:80                           Supremo Tribunal Federal\n",
       "5   SE:9999990      CO:81                       Superior Tribunal de Justiça\n",
       "6   SE:7351348     CO:277                        Tribunal Superior Eleitoral\n",
       "7   SE:7352253      CO:82                        Tribunal de Contas da União\n",
       "8     SE:55143     CO:382  Tribunal de Justiça do Distrito Federal e dos ...\n",
       "9   SE:9999991  CO:101347                    Procuradoria-Geral da República\n",
       "10  SE:9999992      CO:57                        MINISTÉRIO PÚBLICO DA UNIÃO\n",
       "11  SE:9999994  CO:101131                        Defensoria Pública da União"
      ]
     },
     "execution_count": 16,
     "metadata": {},
     "output_type": "execute_result"
    }
   ],
   "source": [
    "entity_match_df['ente_tag'] = \"SE:\" + entity_match_df['id_ente'].astype(str)\n",
    "entity_match_df['orgao_tag'] = \"CO:\" + entity_match_df['id_orgao'].astype(str)\n",
    "entity_match_df = entity_match_df.join(house_orgaos_df['nome'], on=\"id_orgao\")\n",
    "entity_match_df = entity_match_df.drop(['id_ente', 'id_orgao'], axis=1)\n",
    "entity_match_df"
   ]
  },
  {
   "cell_type": "markdown",
   "id": "8a525208",
   "metadata": {},
   "source": [
    "Renomeamos as colunas e fundimos o Poder Executivo e a Presidência da República na Câmara"
   ]
  },
  {
   "cell_type": "code",
   "execution_count": 17,
   "id": "89c69071",
   "metadata": {},
   "outputs": [
    {
     "data": {
      "application/vnd.microsoft.datawrangler.viewer.v0+json": {
       "columns": [
        {
         "name": "index",
         "rawType": "int64",
         "type": "integer"
        },
        {
         "name": "source",
         "rawType": "object",
         "type": "string"
        },
        {
         "name": "target",
         "rawType": "object",
         "type": "string"
        }
       ],
       "ref": "e32b932b-b867-4aee-a126-d3b7cc6c5fa2",
       "rows": [
        [
         "0",
         "SE:2",
         "CO:100292"
        ],
        [
         "1",
         "SE:1",
         "CO:78"
        ],
        [
         "2",
         "SE:55126",
         "CO:60"
        ],
        [
         "3",
         "SE:55126",
         "CO:253"
        ],
        [
         "4",
         "SE:5282726",
         "CO:80"
        ],
        [
         "5",
         "SE:9999990",
         "CO:81"
        ],
        [
         "6",
         "SE:7351348",
         "CO:277"
        ],
        [
         "7",
         "SE:7352253",
         "CO:82"
        ],
        [
         "8",
         "SE:55143",
         "CO:382"
        ],
        [
         "9",
         "SE:9999991",
         "CO:101347"
        ],
        [
         "10",
         "SE:9999992",
         "CO:57"
        ],
        [
         "11",
         "SE:9999994",
         "CO:101131"
        ],
        [
         "0",
         "CO:60",
         "CO:253"
        ]
       ],
       "shape": {
        "columns": 2,
        "rows": 13
       }
      },
      "text/html": [
       "<div>\n",
       "<style scoped>\n",
       "    .dataframe tbody tr th:only-of-type {\n",
       "        vertical-align: middle;\n",
       "    }\n",
       "\n",
       "    .dataframe tbody tr th {\n",
       "        vertical-align: top;\n",
       "    }\n",
       "\n",
       "    .dataframe thead th {\n",
       "        text-align: right;\n",
       "    }\n",
       "</style>\n",
       "<table border=\"1\" class=\"dataframe\">\n",
       "  <thead>\n",
       "    <tr style=\"text-align: right;\">\n",
       "      <th></th>\n",
       "      <th>source</th>\n",
       "      <th>target</th>\n",
       "    </tr>\n",
       "  </thead>\n",
       "  <tbody>\n",
       "    <tr>\n",
       "      <th>0</th>\n",
       "      <td>SE:2</td>\n",
       "      <td>CO:100292</td>\n",
       "    </tr>\n",
       "    <tr>\n",
       "      <th>1</th>\n",
       "      <td>SE:1</td>\n",
       "      <td>CO:78</td>\n",
       "    </tr>\n",
       "    <tr>\n",
       "      <th>2</th>\n",
       "      <td>SE:55126</td>\n",
       "      <td>CO:60</td>\n",
       "    </tr>\n",
       "    <tr>\n",
       "      <th>3</th>\n",
       "      <td>SE:55126</td>\n",
       "      <td>CO:253</td>\n",
       "    </tr>\n",
       "    <tr>\n",
       "      <th>4</th>\n",
       "      <td>SE:5282726</td>\n",
       "      <td>CO:80</td>\n",
       "    </tr>\n",
       "    <tr>\n",
       "      <th>5</th>\n",
       "      <td>SE:9999990</td>\n",
       "      <td>CO:81</td>\n",
       "    </tr>\n",
       "    <tr>\n",
       "      <th>6</th>\n",
       "      <td>SE:7351348</td>\n",
       "      <td>CO:277</td>\n",
       "    </tr>\n",
       "    <tr>\n",
       "      <th>7</th>\n",
       "      <td>SE:7352253</td>\n",
       "      <td>CO:82</td>\n",
       "    </tr>\n",
       "    <tr>\n",
       "      <th>8</th>\n",
       "      <td>SE:55143</td>\n",
       "      <td>CO:382</td>\n",
       "    </tr>\n",
       "    <tr>\n",
       "      <th>9</th>\n",
       "      <td>SE:9999991</td>\n",
       "      <td>CO:101347</td>\n",
       "    </tr>\n",
       "    <tr>\n",
       "      <th>10</th>\n",
       "      <td>SE:9999992</td>\n",
       "      <td>CO:57</td>\n",
       "    </tr>\n",
       "    <tr>\n",
       "      <th>11</th>\n",
       "      <td>SE:9999994</td>\n",
       "      <td>CO:101131</td>\n",
       "    </tr>\n",
       "    <tr>\n",
       "      <th>0</th>\n",
       "      <td>CO:60</td>\n",
       "      <td>CO:253</td>\n",
       "    </tr>\n",
       "  </tbody>\n",
       "</table>\n",
       "</div>"
      ],
      "text/plain": [
       "        source     target\n",
       "0         SE:2  CO:100292\n",
       "1         SE:1      CO:78\n",
       "2     SE:55126      CO:60\n",
       "3     SE:55126     CO:253\n",
       "4   SE:5282726      CO:80\n",
       "5   SE:9999990      CO:81\n",
       "6   SE:7351348     CO:277\n",
       "7   SE:7352253      CO:82\n",
       "8     SE:55143     CO:382\n",
       "9   SE:9999991  CO:101347\n",
       "10  SE:9999992      CO:57\n",
       "11  SE:9999994  CO:101131\n",
       "0        CO:60     CO:253"
      ]
     },
     "execution_count": 17,
     "metadata": {},
     "output_type": "execute_result"
    }
   ],
   "source": [
    "entity_match_df = entity_match_df.drop('nome', axis=1).rename(columns={'ente_tag': 'source', 'orgao_tag': 'target'})\n",
    "entity_match_df = pd.concat([\n",
    "    entity_match_df,\n",
    "    pd.DataFrame([{\n",
    "        'source': 'CO:60',  # Presidência da República\n",
    "        'target': 'CO:253',  # Poder Executivo\n",
    "    }])\n",
    "])\n",
    "entity_match_df"
   ]
  },
  {
   "cell_type": "markdown",
   "id": "d0fff3bb",
   "metadata": {},
   "source": [
    "### 1.2.4. Extração do partido dos parlamentares\n",
    "\n",
    "Enquanto no Senado, o partido e a UF já vêm junto com os detalhes de cada parlamentar, na Câmara essa informação deve ser buscada indiretamente. Por algum motivo não conseguimos a totalidade das informações na fase Bronze e Prata, então fazemos agora."
   ]
  },
  {
   "cell_type": "code",
   "execution_count": 18,
   "id": "9b56be8b",
   "metadata": {},
   "outputs": [
    {
     "data": {
      "application/vnd.microsoft.datawrangler.viewer.v0+json": {
       "columns": [
        {
         "name": "id_deputado",
         "rawType": "int64",
         "type": "integer"
        },
        {
         "name": "nome_civil",
         "rawType": "object",
         "type": "string"
        },
        {
         "name": "uri",
         "rawType": "object",
         "type": "string"
        },
        {
         "name": "year_snapshot",
         "rawType": "int64",
         "type": "integer"
        },
        {
         "name": "rn",
         "rawType": "int64",
         "type": "integer"
        },
        {
         "name": "tag",
         "rawType": "object",
         "type": "string"
        },
        {
         "name": "id_partido",
         "rawType": "float64",
         "type": "float"
        }
       ],
       "ref": "16856660-12f3-43e3-a096-98dc2fac1c16",
       "rows": [
        [
         "66828",
         "FAUSTO RUY PINATO",
         "https://dadosabertos.camara.leg.br/api/v2/deputados/66828",
         "2020",
         "1",
         "CD:66828",
         "37903.0"
        ],
        [
         "73463",
         "OSMAR JOSÉ SERRAGLIO",
         "https://dadosabertos.camara.leg.br/api/v2/deputados/73463",
         "2020",
         "1",
         "CD:73463",
         null
        ],
        [
         "73472",
         "GERVÁSIO JOSÉ DA SILVA",
         "https://dadosabertos.camara.leg.br/api/v2/deputados/73472",
         "2020",
         "1",
         "CD:73472",
         null
        ],
        [
         "73486",
         "DARCI POMPEO DE MATTOS",
         "https://dadosabertos.camara.leg.br/api/v2/deputados/73486",
         "2020",
         "1",
         "CD:73486",
         "36786.0"
        ],
        [
         "73545",
         "EUSTÁQUIO LUCIANO ZICA",
         "https://dadosabertos.camara.leg.br/api/v2/deputados/73545",
         "2021",
         "1",
         "CD:73545",
         null
        ],
        [
         "74047",
         "PAULO RUBEM SANTIAGO FERREIRA",
         "https://dadosabertos.camara.leg.br/api/v2/deputados/74047",
         "2020",
         "1",
         "CD:74047",
         null
        ],
        [
         "74137",
         "LUIZ EDUARDO RODRIGUES GREENHALGH",
         "https://dadosabertos.camara.leg.br/api/v2/deputados/74137",
         "2020",
         "1",
         "CD:74137",
         null
        ],
        [
         "74218",
         "WALTER DE FREITAS PINHEIRO",
         "https://dadosabertos.camara.leg.br/api/v2/deputados/74218",
         "2022",
         "1",
         "CD:74218",
         null
        ],
        [
         "74376",
         "VANDER LUIZ DOS SANTOS LOUBET",
         "https://dadosabertos.camara.leg.br/api/v2/deputados/74376",
         "2020",
         "1",
         "CD:74376",
         "36844.0"
        ],
        [
         "74491",
         "JOSÉ NAZARENO CARDEAL FONTELES",
         "https://dadosabertos.camara.leg.br/api/v2/deputados/74491",
         "2020",
         "1",
         "CD:74491",
         null
        ],
        [
         "122974",
         "PEDRO LUCAS ANDRADE FERNANDES RIBEIRO",
         "https://dadosabertos.camara.leg.br/api/v2/deputados/122974",
         "2020",
         "1",
         "CD:122974",
         "38009.0"
        ],
        [
         "133439",
         "ANDRÉ PEIXOTO FIGUEIREDO LIMA",
         "https://dadosabertos.camara.leg.br/api/v2/deputados/133439",
         "2020",
         "1",
         "CD:133439",
         "36786.0"
        ],
        [
         "133810",
         "MARCELO PIRES MORAES",
         "https://dadosabertos.camara.leg.br/api/v2/deputados/133810",
         "2020",
         "1",
         "CD:133810",
         "37906.0"
        ],
        [
         "141480",
         "LÁZARO BOTELHO MARTINS",
         "https://dadosabertos.camara.leg.br/api/v2/deputados/141480",
         "2020",
         "1",
         "CD:141480",
         "37903.0"
        ],
        [
         "152610",
         "BENEDITO ROBERTO ALVES FERREIRA",
         "https://dadosabertos.camara.leg.br/api/v2/deputados/152610",
         "2020",
         "1",
         "CD:152610",
         null
        ],
        [
         "160511",
         "ALESSANDRO LUCCIOLA MOLON",
         "https://dadosabertos.camara.leg.br/api/v2/deputados/160511",
         "2020",
         "1",
         "CD:160511",
         null
        ],
        [
         "160527",
         "AGUINALDO VELLOSO BORGES RIBEIRO",
         "https://dadosabertos.camara.leg.br/api/v2/deputados/160527",
         "2020",
         "1",
         "CD:160527",
         "37903.0"
        ],
        [
         "160535",
         "DIONILSO MATEUS MARCON",
         "https://dadosabertos.camara.leg.br/api/v2/deputados/160535",
         "2020",
         "1",
         "CD:160535",
         "36844.0"
        ],
        [
         "160552",
         "DANRLEI DE DEUS HINTERHOLZ",
         "https://dadosabertos.camara.leg.br/api/v2/deputados/160552",
         "2020",
         "1",
         "CD:160552",
         "36834.0"
        ],
        [
         "160558",
         "PAULO ROBERTO FREIRE DA COSTA",
         "https://dadosabertos.camara.leg.br/api/v2/deputados/160558",
         "2020",
         "1",
         "CD:160558",
         "37906.0"
        ],
        [
         "160575",
         "ÉRIKA JUCÁ KOKAY",
         "https://dadosabertos.camara.leg.br/api/v2/deputados/160575",
         "2020",
         "1",
         "CD:160575",
         "36844.0"
        ],
        [
         "160591",
         "VINICIUS DE AZEVEDO GURGEL",
         "https://dadosabertos.camara.leg.br/api/v2/deputados/160591",
         "2020",
         "1",
         "CD:160591",
         "37906.0"
        ],
        [
         "160641",
         "MARCIVANIA DO SOCORRO DA ROCHA FLEXA",
         "https://dadosabertos.camara.leg.br/api/v2/deputados/160641",
         "2020",
         "1",
         "CD:160641",
         "36779.0"
        ],
        [
         "168175",
         "JOSE SIMPLICIO ALVES DE ARAUJO",
         "https://dadosabertos.camara.leg.br/api/v2/deputados/168175",
         "2021",
         "1",
         "CD:168175",
         null
        ],
        [
         "178829",
         "JOSE AUGUSTO ROSA",
         "https://dadosabertos.camara.leg.br/api/v2/deputados/178829",
         "2020",
         "1",
         "CD:178829",
         "37906.0"
        ],
        [
         "178882",
         "ANDRE LUIZ CARVALHO RIBEIRO",
         "https://dadosabertos.camara.leg.br/api/v2/deputados/178882",
         "2020",
         "1",
         "CD:178882",
         "37903.0"
        ],
        [
         "178888",
         "CARLOS VICTOR GUTERRES MENDES",
         "https://dadosabertos.camara.leg.br/api/v2/deputados/178888",
         "2020",
         "1",
         "CD:178888",
         null
        ],
        [
         "178895",
         "MISAEL ARTUR FERREIRA VARELLA",
         "https://dadosabertos.camara.leg.br/api/v2/deputados/178895",
         "2020",
         "1",
         "CD:178895",
         "36834.0"
        ],
        [
         "178981",
         "HERCULANO CASTILHO PASSOS JUNIOR",
         "https://dadosabertos.camara.leg.br/api/v2/deputados/178981",
         "2020",
         "1",
         "CD:178981",
         null
        ],
        [
         "179001",
         "MARCIO DELLA VALLE BIOLCHI",
         "https://dadosabertos.camara.leg.br/api/v2/deputados/179001",
         "2020",
         "1",
         "CD:179001",
         "36899.0"
        ],
        [
         "191923",
         "FLÁVIO RODRIGUES NOGUEIRA",
         "https://dadosabertos.camara.leg.br/api/v2/deputados/191923",
         "2020",
         "1",
         "CD:191923",
         "36844.0"
        ],
        [
         "204351",
         "LUIZ ALBERTO OVANDO",
         "https://dadosabertos.camara.leg.br/api/v2/deputados/204351",
         "2020",
         "1",
         "CD:204351",
         "37903.0"
        ],
        [
         "204377",
         "PAULA MORENO PARO BELMONTE",
         "https://dadosabertos.camara.leg.br/api/v2/deputados/204377",
         "2020",
         "1",
         "CD:204377",
         null
        ],
        [
         "204389",
         "ELIAS VAZ DE ANDRADE",
         "https://dadosabertos.camara.leg.br/api/v2/deputados/204389",
         "2020",
         "1",
         "CD:204389",
         null
        ],
        [
         "204414",
         "JOSE AROLDO SOUZA MARTINS",
         "https://dadosabertos.camara.leg.br/api/v2/deputados/204414",
         "2020",
         "1",
         "CD:204414",
         null
        ],
        [
         "204416",
         "UBIRATAN ANTUNES SANDERSON",
         "https://dadosabertos.camara.leg.br/api/v2/deputados/204416",
         "2020",
         "1",
         "CD:204416",
         "37906.0"
        ],
        [
         "204462",
         "CHRISTINE NOGUEIRA DOS REIS TONIETTO",
         "https://dadosabertos.camara.leg.br/api/v2/deputados/204462",
         "2020",
         "1",
         "CD:204462",
         "37906.0"
        ],
        [
         "204468",
         "JOENIA BATISTA DE CARVALHO",
         "https://dadosabertos.camara.leg.br/api/v2/deputados/204468",
         "2020",
         "1",
         "CD:204468",
         null
        ],
        [
         "204474",
         "JUAREZ ALVES DA COSTA",
         "https://dadosabertos.camara.leg.br/api/v2/deputados/204474",
         "2020",
         "1",
         "CD:204474",
         "36899.0"
        ],
        [
         "204518",
         "FREDERICO DE CASTRO ESCALEIRA",
         "https://dadosabertos.camara.leg.br/api/v2/deputados/204518",
         "2020",
         "1",
         "CD:204518",
         "38010.0"
        ],
        [
         "204521",
         "PAULO SERGIO ABOU ANNI",
         "https://dadosabertos.camara.leg.br/api/v2/deputados/204521",
         "2020",
         "1",
         "CD:204521",
         null
        ],
        [
         "204526",
         "LUIZ PHILIPPE DE ORLEANS BRAGANÇA",
         "https://dadosabertos.camara.leg.br/api/v2/deputados/204526",
         "2020",
         "1",
         "CD:204526",
         "37906.0"
        ],
        [
         "204537",
         "ENRICO VAN BLARCUM DE GRAAFF MISASI",
         "https://dadosabertos.camara.leg.br/api/v2/deputados/204537",
         "2020",
         "1",
         "CD:204537",
         null
        ],
        [
         "204573",
         "OTTO ROBERTO MENDONÇA DE ALENCAR FILHO",
         "https://dadosabertos.camara.leg.br/api/v2/deputados/204573",
         "2020",
         "1",
         "CD:204573",
         "36834.0"
        ],
        [
         "212625",
         "ANTONIO ELIZABETH GONÇALO DE SOUSA",
         "https://dadosabertos.camara.leg.br/api/v2/deputados/212625",
         "2020",
         "1",
         "CD:212625",
         "36896.0"
        ],
        [
         "216198",
         "NORMA PETERMANN PEREIRA",
         "https://dadosabertos.camara.leg.br/api/v2/deputados/216198",
         "2021",
         "1",
         "CD:216198",
         null
        ],
        [
         "220602",
         "DIMAS DE PAIVA GADELHA JUNIOR",
         "https://dadosabertos.camara.leg.br/api/v2/deputados/220602",
         "2023",
         "1",
         "CD:220602",
         "36844.0"
        ],
        [
         "220605",
         "EDUARDO CARVALHO BANDEIRA DE MELLO",
         "https://dadosabertos.camara.leg.br/api/v2/deputados/220605",
         "2023",
         "1",
         "CD:220605",
         "36832.0"
        ],
        [
         "220621",
         "EVANDRO GONÇALVES DA SILVA JÚNIOR",
         "https://dadosabertos.camara.leg.br/api/v2/deputados/220621",
         "2023",
         "1",
         "CD:220621",
         "37906.0"
        ],
        [
         "220628",
         "MAURICIO LUIZ DE SOUZA",
         "https://dadosabertos.camara.leg.br/api/v2/deputados/220628",
         "2023",
         "1",
         "CD:220628",
         "37906.0"
        ]
       ],
       "shape": {
        "columns": 6,
        "rows": 919
       }
      },
      "text/html": [
       "<div>\n",
       "<style scoped>\n",
       "    .dataframe tbody tr th:only-of-type {\n",
       "        vertical-align: middle;\n",
       "    }\n",
       "\n",
       "    .dataframe tbody tr th {\n",
       "        vertical-align: top;\n",
       "    }\n",
       "\n",
       "    .dataframe thead th {\n",
       "        text-align: right;\n",
       "    }\n",
       "</style>\n",
       "<table border=\"1\" class=\"dataframe\">\n",
       "  <thead>\n",
       "    <tr style=\"text-align: right;\">\n",
       "      <th></th>\n",
       "      <th>nome_civil</th>\n",
       "      <th>uri</th>\n",
       "      <th>year_snapshot</th>\n",
       "      <th>rn</th>\n",
       "      <th>tag</th>\n",
       "      <th>id_partido</th>\n",
       "    </tr>\n",
       "    <tr>\n",
       "      <th>id_deputado</th>\n",
       "      <th></th>\n",
       "      <th></th>\n",
       "      <th></th>\n",
       "      <th></th>\n",
       "      <th></th>\n",
       "      <th></th>\n",
       "    </tr>\n",
       "  </thead>\n",
       "  <tbody>\n",
       "    <tr>\n",
       "      <th>66828</th>\n",
       "      <td>FAUSTO RUY PINATO</td>\n",
       "      <td>https://dadosabertos.camara.leg.br/api/v2/depu...</td>\n",
       "      <td>2020</td>\n",
       "      <td>1</td>\n",
       "      <td>CD:66828</td>\n",
       "      <td>37903.0</td>\n",
       "    </tr>\n",
       "    <tr>\n",
       "      <th>73463</th>\n",
       "      <td>OSMAR JOSÉ SERRAGLIO</td>\n",
       "      <td>https://dadosabertos.camara.leg.br/api/v2/depu...</td>\n",
       "      <td>2020</td>\n",
       "      <td>1</td>\n",
       "      <td>CD:73463</td>\n",
       "      <td>NaN</td>\n",
       "    </tr>\n",
       "    <tr>\n",
       "      <th>73472</th>\n",
       "      <td>GERVÁSIO JOSÉ DA SILVA</td>\n",
       "      <td>https://dadosabertos.camara.leg.br/api/v2/depu...</td>\n",
       "      <td>2020</td>\n",
       "      <td>1</td>\n",
       "      <td>CD:73472</td>\n",
       "      <td>NaN</td>\n",
       "    </tr>\n",
       "    <tr>\n",
       "      <th>73486</th>\n",
       "      <td>DARCI POMPEO DE MATTOS</td>\n",
       "      <td>https://dadosabertos.camara.leg.br/api/v2/depu...</td>\n",
       "      <td>2020</td>\n",
       "      <td>1</td>\n",
       "      <td>CD:73486</td>\n",
       "      <td>36786.0</td>\n",
       "    </tr>\n",
       "    <tr>\n",
       "      <th>73545</th>\n",
       "      <td>EUSTÁQUIO LUCIANO ZICA</td>\n",
       "      <td>https://dadosabertos.camara.leg.br/api/v2/depu...</td>\n",
       "      <td>2021</td>\n",
       "      <td>1</td>\n",
       "      <td>CD:73545</td>\n",
       "      <td>NaN</td>\n",
       "    </tr>\n",
       "    <tr>\n",
       "      <th>...</th>\n",
       "      <td>...</td>\n",
       "      <td>...</td>\n",
       "      <td>...</td>\n",
       "      <td>...</td>\n",
       "      <td>...</td>\n",
       "      <td>...</td>\n",
       "    </tr>\n",
       "    <tr>\n",
       "      <th>220638</th>\n",
       "      <td>ANTONIO CARLOS RODRIGUES</td>\n",
       "      <td>https://dadosabertos.camara.leg.br/api/v2/depu...</td>\n",
       "      <td>2023</td>\n",
       "      <td>1</td>\n",
       "      <td>CD:220638</td>\n",
       "      <td>37906.0</td>\n",
       "    </tr>\n",
       "    <tr>\n",
       "      <th>220663</th>\n",
       "      <td>JOSÉ ERIBERTO MEDEIROS DE OLIVEIRA</td>\n",
       "      <td>https://dadosabertos.camara.leg.br/api/v2/depu...</td>\n",
       "      <td>2023</td>\n",
       "      <td>1</td>\n",
       "      <td>CD:220663</td>\n",
       "      <td>36832.0</td>\n",
       "    </tr>\n",
       "    <tr>\n",
       "      <th>220684</th>\n",
       "      <td>SEBASTIÃO HENRIQUE DE MEDEIROS</td>\n",
       "      <td>https://dadosabertos.camara.leg.br/api/v2/depu...</td>\n",
       "      <td>2023</td>\n",
       "      <td>1</td>\n",
       "      <td>CD:220684</td>\n",
       "      <td>37903.0</td>\n",
       "    </tr>\n",
       "    <tr>\n",
       "      <th>220688</th>\n",
       "      <td>FRANCISCO DE ASSIS DE OLIVEIRA COSTA</td>\n",
       "      <td>https://dadosabertos.camara.leg.br/api/v2/depu...</td>\n",
       "      <td>2023</td>\n",
       "      <td>1</td>\n",
       "      <td>CD:220688</td>\n",
       "      <td>36844.0</td>\n",
       "    </tr>\n",
       "    <tr>\n",
       "      <th>220713</th>\n",
       "      <td>SAULLO VELAME VIANNA</td>\n",
       "      <td>https://dadosabertos.camara.leg.br/api/v2/depu...</td>\n",
       "      <td>2023</td>\n",
       "      <td>1</td>\n",
       "      <td>CD:220713</td>\n",
       "      <td>38009.0</td>\n",
       "    </tr>\n",
       "  </tbody>\n",
       "</table>\n",
       "<p>919 rows × 6 columns</p>\n",
       "</div>"
      ],
      "text/plain": [
       "                                       nome_civil  \\\n",
       "id_deputado                                         \n",
       "66828                           FAUSTO RUY PINATO   \n",
       "73463                        OSMAR JOSÉ SERRAGLIO   \n",
       "73472                      GERVÁSIO JOSÉ DA SILVA   \n",
       "73486                      DARCI POMPEO DE MATTOS   \n",
       "73545                      EUSTÁQUIO LUCIANO ZICA   \n",
       "...                                           ...   \n",
       "220638                   ANTONIO CARLOS RODRIGUES   \n",
       "220663         JOSÉ ERIBERTO MEDEIROS DE OLIVEIRA   \n",
       "220684             SEBASTIÃO HENRIQUE DE MEDEIROS   \n",
       "220688       FRANCISCO DE ASSIS DE OLIVEIRA COSTA   \n",
       "220713                       SAULLO VELAME VIANNA   \n",
       "\n",
       "                                                           uri  year_snapshot  \\\n",
       "id_deputado                                                                     \n",
       "66828        https://dadosabertos.camara.leg.br/api/v2/depu...           2020   \n",
       "73463        https://dadosabertos.camara.leg.br/api/v2/depu...           2020   \n",
       "73472        https://dadosabertos.camara.leg.br/api/v2/depu...           2020   \n",
       "73486        https://dadosabertos.camara.leg.br/api/v2/depu...           2020   \n",
       "73545        https://dadosabertos.camara.leg.br/api/v2/depu...           2021   \n",
       "...                                                        ...            ...   \n",
       "220638       https://dadosabertos.camara.leg.br/api/v2/depu...           2023   \n",
       "220663       https://dadosabertos.camara.leg.br/api/v2/depu...           2023   \n",
       "220684       https://dadosabertos.camara.leg.br/api/v2/depu...           2023   \n",
       "220688       https://dadosabertos.camara.leg.br/api/v2/depu...           2023   \n",
       "220713       https://dadosabertos.camara.leg.br/api/v2/depu...           2023   \n",
       "\n",
       "             rn        tag  id_partido  \n",
       "id_deputado                             \n",
       "66828         1   CD:66828     37903.0  \n",
       "73463         1   CD:73463         NaN  \n",
       "73472         1   CD:73472         NaN  \n",
       "73486         1   CD:73486     36786.0  \n",
       "73545         1   CD:73545         NaN  \n",
       "...          ..        ...         ...  \n",
       "220638        1  CD:220638     37906.0  \n",
       "220663        1  CD:220663     36832.0  \n",
       "220684        1  CD:220684     37903.0  \n",
       "220688        1  CD:220688     36844.0  \n",
       "220713        1  CD:220713     38009.0  \n",
       "\n",
       "[919 rows x 6 columns]"
      ]
     },
     "execution_count": 18,
     "metadata": {},
     "output_type": "execute_result"
    }
   ],
   "source": [
    "house_deputados_df.join(house_partidos_membros_df.drop_duplicates('id_deputado', keep='last').set_index('id_deputado', drop=True)[['id_partido']], on=\"id_deputado\")"
   ]
  },
  {
   "cell_type": "markdown",
   "id": "d9511376",
   "metadata": {},
   "source": [
    "Este foi o código usado para baixar as informações:"
   ]
  },
  {
   "cell_type": "code",
   "execution_count": 19,
   "id": "1c4c98f6",
   "metadata": {},
   "outputs": [],
   "source": [
    "# Não temos dados suficientes. Temos que buscar na API\n",
    "\n",
    "# import httpx\n",
    "# import asyncio\n",
    "# import re\n",
    "\n",
    "# response = httpx.get(\"https://dadosabertos.camara.leg.br/api/v2/partidos/\", params={'dataInicio': '2019-01-01', 'dataFim': '2025-01-01', 'itens': '100'})\n",
    "# data = response.json()\n",
    "\n",
    "# pids = [d['id'] for d in data['dados']]\n",
    "\n",
    "\n",
    "# pat = re.compile(r\"&pagina=(\\d+)&\")\n",
    "\n",
    "# async def get_membros(sem, client, id_partido):\n",
    "#     async with sem:\n",
    "#         all_data = []\n",
    "#         print(id_partido)\n",
    "#         for retry in range(10):\n",
    "#             try:\n",
    "#                 response = await client.get(\n",
    "#                     f\"https://dadosabertos.camara.leg.br/api/v2/partidos/{id_partido}/membros\",\n",
    "#                     params={'dataInicio': '2019-01-01', 'dataFim': '2025-01-01', 'itens': '15'}\n",
    "#                 )\n",
    "#                 response.raise_for_status()\n",
    "#                 data = response.json()\n",
    "#                 all_data.extend(data['dados'])\n",
    "#                 for link in data.get('links', []):\n",
    "#                     if link.get('rel', '') == 'last':\n",
    "#                         n_pages = int(pat.findall(link['href'])[0])\n",
    "#                         break\n",
    "#                 else:\n",
    "#                     return all_data\n",
    "#                 for page in range(2, n_pages + 1):\n",
    "#                     response = await client.get(\n",
    "#                         f\"https://dadosabertos.camara.leg.br/api/v2/partidos/{id_partido}/membros\",\n",
    "#                         params={'dataInicio': '2019-01-01', 'dataFim': '2025-01-01', 'itens': '15', 'pagina': page}\n",
    "#                     )\n",
    "#                     response.raise_for_status()\n",
    "#                     data = response.json()\n",
    "#                     all_data.extend(data['dados'])\n",
    "#                 return all_data\n",
    "#             except Exception as e:\n",
    "#                 print(e)\n",
    "#                 print(f\"Retrying {id_partido}...\")\n",
    "#                 await asyncio.sleep(4)\n",
    "    \n",
    "# sem = asyncio.Semaphore(4)\n",
    "# async with httpx.AsyncClient() as client:\n",
    "#     tasks = [get_membros(sem, client, ip) for ip in pids]\n",
    "#     result = await asyncio.gather(*tasks)\n",
    "# partido_rows = []\n",
    "# for r in result:\n",
    "#     partido_rows.extend(r)\n",
    "    \n",
    "# partido_df = pd.DataFrame(partido_rows)\n",
    "# partido_df = partido_df.sort_values('idLegislatura').drop_duplicates('id', keep='last').copy()\n",
    "# partido_df['partido'] = partido_df['siglaPartido'] + \"/\" + partido_df['siglaUf']\n",
    "# partido_df.to_pickle(ACCESS_DIR / \"partidos_membros_camara.pkl\")"
   ]
  },
  {
   "cell_type": "code",
   "execution_count": 20,
   "id": "dd23d2bc",
   "metadata": {},
   "outputs": [],
   "source": [
    "partido_df = pd.read_pickle(ACCESS_DIR / \"partidos_membros_camara.pkl\")"
   ]
  },
  {
   "cell_type": "code",
   "execution_count": 21,
   "id": "b842dbc6",
   "metadata": {},
   "outputs": [],
   "source": [
    "house_deputados_df = house_deputados_df.join(partido_df.set_index('id', drop=True)[['partido']], on=\"id_deputado\")"
   ]
  },
  {
   "cell_type": "markdown",
   "id": "95e6c520",
   "metadata": {},
   "source": [
    "Mesmo assim, vemos que alguns ficaram faltando."
   ]
  },
  {
   "cell_type": "code",
   "execution_count": 22,
   "id": "ecda39d8",
   "metadata": {},
   "outputs": [
    {
     "data": {
      "application/vnd.microsoft.datawrangler.viewer.v0+json": {
       "columns": [
        {
         "name": "partido",
         "rawType": "object",
         "type": "unknown"
        },
        {
         "name": "count",
         "rawType": "int64",
         "type": "integer"
        }
       ],
       "ref": "6d2bed64-42b6-4c5d-90f4-6b7e4ef5bfcf",
       "rows": [
        [
         null,
         "40"
        ],
        [
         "PL/SP",
         "17"
        ],
        [
         "PT/SP",
         "14"
        ],
        [
         "PL/RJ",
         "12"
        ],
        [
         "PSD/RJ",
         "12"
        ],
        [
         "PL/MG",
         "12"
        ],
        [
         "PT/MG",
         "11"
        ],
        [
         "PSD/PR",
         "11"
        ],
        [
         "PSB/PE",
         "10"
        ],
        [
         "PT/BA",
         "10"
        ],
        [
         "PSL/RJ",
         "9"
        ],
        [
         "PSDB/SP",
         "9"
        ],
        [
         "PDT/CE",
         "9"
        ],
        [
         "MDB/PA",
         "9"
        ],
        [
         "UNIÃO/RJ",
         "8"
        ],
        [
         "PP/PR",
         "8"
        ],
        [
         "PL/CE",
         "8"
        ],
        [
         "PL/MA",
         "8"
        ],
        [
         "UNIÃO/CE",
         "8"
        ],
        [
         "PSD/BA",
         "8"
        ],
        [
         "PT/RS",
         "8"
        ],
        [
         "MDB/SP",
         "7"
        ],
        [
         "PSL/SP",
         "7"
        ],
        [
         "PL/SC",
         "7"
        ],
        [
         "UNIÃO/SP",
         "7"
        ],
        [
         "PODE/SP",
         "7"
        ],
        [
         "PP/SP",
         "7"
        ],
        [
         "PSOL/RJ",
         "7"
        ],
        [
         "AVANTE/MG",
         "6"
        ],
        [
         "MDB/SC",
         "6"
        ],
        [
         "UNIÃO/BA",
         "6"
        ],
        [
         "MDB/MT",
         "6"
        ],
        [
         "UNIÃO/PR",
         "6"
        ],
        [
         "REPUBLICANOS/SP",
         "6"
        ],
        [
         "PSD/SP",
         "6"
        ],
        [
         "PT/PI",
         "6"
        ],
        [
         "PSOL/SP",
         "6"
        ],
        [
         "PP/BA",
         "6"
        ],
        [
         "PT/PR",
         "6"
        ],
        [
         "PP/RJ",
         "5"
        ],
        [
         "PP/PE",
         "5"
        ],
        [
         "PSDB/MS",
         "5"
        ],
        [
         "PSD/MG",
         "5"
        ],
        [
         "MDB/MG",
         "5"
        ],
        [
         "PL/MT",
         "5"
        ],
        [
         "MDB/RS",
         "5"
        ],
        [
         "PT/RJ",
         "5"
        ],
        [
         "UNIÃO/RO",
         "5"
        ],
        [
         "PL/RS",
         "5"
        ],
        [
         "MDB/MA",
         "5"
        ]
       ],
       "shape": {
        "columns": 1,
        "rows": 337
       }
      },
      "text/plain": [
       "partido\n",
       "NaN             40\n",
       "PL/SP           17\n",
       "PT/SP           14\n",
       "PL/RJ           12\n",
       "PSD/RJ          12\n",
       "                ..\n",
       "UNIÃO/SC         1\n",
       "CIDADANIA/BA     1\n",
       "CIDADANIA/AM     1\n",
       "UNIÃO/TO         1\n",
       "AVANTE/AP        1\n",
       "Name: count, Length: 337, dtype: int64"
      ]
     },
     "execution_count": 22,
     "metadata": {},
     "output_type": "execute_result"
    }
   ],
   "source": [
    "house_deputados_df.value_counts('partido', dropna=False)"
   ]
  },
  {
   "cell_type": "code",
   "execution_count": 23,
   "id": "0d908e7a",
   "metadata": {},
   "outputs": [
    {
     "data": {
      "text/plain": [
       "Index([ 73472,  73545,  74047,  74137,  74218,  74491,  73454, 141548, 160568,\n",
       "        74162,  74474, 178940,  74389,  74496,  74750, 141386,  73474,  74037,\n",
       "        73940,  74284, 160623,  74133,  74153,  74780,  74145,  73653,  73764,\n",
       "        73588,  74391, 131085, 141870, 160597, 160644, 195143,  74274,  74581,\n",
       "       130398, 160586,  74031,  74124],\n",
       "      dtype='int64', name='id_deputado')"
      ]
     },
     "execution_count": 23,
     "metadata": {},
     "output_type": "execute_result"
    }
   ],
   "source": [
    "no_party_deputado_ids = house_deputados_df[house_deputados_df['partido'].isna()].index\n",
    "no_party_deputado_ids"
   ]
  },
  {
   "cell_type": "markdown",
   "id": "6c394fdc",
   "metadata": {},
   "source": [
    "Podemos obter isso da API da Câmara com o endpoint de históricos"
   ]
  },
  {
   "cell_type": "code",
   "execution_count": 24,
   "id": "4e72fb46",
   "metadata": {},
   "outputs": [],
   "source": [
    "# import httpx\n",
    "# import asyncio\n",
    "\n",
    "# sem = asyncio.Semaphore(4)\n",
    "\n",
    "# async def get_historico_deputado(client, sem, id_deputado):\n",
    "#     async with sem:\n",
    "#         print(id_deputado)\n",
    "#         for retry in range(10):\n",
    "#             try:\n",
    "#                 response = await client.get(f\"https://dadosabertos.camara.leg.br/api/v2/deputados/{id_deputado}/historico/\")\n",
    "#                 response.raise_for_status()\n",
    "#                 return response.json()\n",
    "#             except Exception as e:\n",
    "#                 print(\"Exception:\", e)\n",
    "#                 print(f\"Retrying {id_deputado}, {retry + 1}/10...\")\n",
    "#                 await asyncio.sleep(5)\n",
    "            \n",
    "# async with httpx.AsyncClient() as client:\n",
    "#     tasks = [get_historico_deputado(client, sem, id) for id in no_party_deputado_ids]\n",
    "#     result = await asyncio.gather(*tasks)\n",
    "# historico_deputados_rows = []\n",
    "# for r in result:\n",
    "#     historico_deputados_rows.extend(r['dados'])\n",
    "# historico_deputados_df = pd.DataFrame(historico_deputados_rows)\n",
    "# historico_deputados_df = historico_deputados_df.sort_values('dataHora')\n",
    "# historico_deputados_df.to_pickle(ACCESS_DIR / \"historico_deputados_camara.pkl\")"
   ]
  },
  {
   "cell_type": "code",
   "execution_count": 25,
   "id": "c57bd9ca",
   "metadata": {},
   "outputs": [],
   "source": [
    "historico_deputados_df = pd.read_pickle(ACCESS_DIR / \"historico_deputados_camara.pkl\")"
   ]
  },
  {
   "cell_type": "code",
   "execution_count": 26,
   "id": "39a312e1",
   "metadata": {},
   "outputs": [
    {
     "data": {
      "application/vnd.microsoft.datawrangler.viewer.v0+json": {
       "columns": [
        {
         "name": "id",
         "rawType": "int64",
         "type": "integer"
        },
        {
         "name": "siglaPartido",
         "rawType": "object",
         "type": "string"
        },
        {
         "name": "siglaUf",
         "rawType": "object",
         "type": "string"
        },
        {
         "name": "partido",
         "rawType": "object",
         "type": "string"
        }
       ],
       "ref": "4e8f5280-eb48-4ec7-b574-01ee570a3fda",
       "rows": [
        [
         "130398",
         "UDN",
         "RN",
         "UDN/RN"
        ],
        [
         "131085",
         "UDN",
         "MG",
         "UDN/MG"
        ],
        [
         "74496",
         "PT",
         "SP",
         "PT/SP"
        ],
        [
         "74153",
         "PT",
         "MG",
         "PT/MG"
        ],
        [
         "73545",
         "PT",
         "SP",
         "PT/SP"
        ],
        [
         "74389",
         "PT",
         "SC",
         "PT/SC"
        ],
        [
         "74137",
         "PT",
         "SP",
         "PT/SP"
        ],
        [
         "74031",
         "PSOL",
         "CE",
         "PSOL/CE"
        ],
        [
         "73454",
         "PT",
         "MS",
         "PT/MS"
        ],
        [
         "74274",
         "PT",
         "SP",
         "PT/SP"
        ],
        [
         "73472",
         "PSDB",
         "SC",
         "PSDB/SC"
        ],
        [
         "74218",
         "PT",
         "BA",
         "PT/BA"
        ],
        [
         "74391",
         "PT",
         "SC",
         "PT/SC"
        ],
        [
         "74581",
         "PT",
         "MG",
         "PT/MG"
        ],
        [
         "74491",
         "PT",
         "PI",
         "PT/PI"
        ],
        [
         "74145",
         "PT",
         "BA",
         "PT/BA"
        ],
        [
         "141548",
         "PDT",
         "ES",
         "PDT/ES"
        ],
        [
         "160623",
         "PMDB",
         "AL",
         "PMDB/AL"
        ],
        [
         "74284",
         "PSB",
         "SP",
         "PSB/SP"
        ],
        [
         "141870",
         "PP**",
         "RS",
         "PP**/RS"
        ],
        [
         "160597",
         "PSB",
         "RJ",
         "PSB/RJ"
        ],
        [
         "160644",
         "PT",
         "PA",
         "PT/PA"
        ],
        [
         "73653",
         "PR",
         "MT",
         "PR/MT"
        ],
        [
         "74162",
         "PT",
         "ES",
         "PT/ES"
        ],
        [
         "160568",
         "PT",
         "SE",
         "PT/SE"
        ],
        [
         "73940",
         "PV",
         "AC",
         "PV/AC"
        ],
        [
         "141386",
         "PT",
         "CE",
         "PT/CE"
        ],
        [
         "73474",
         "PT",
         "SC",
         "PT/SC"
        ],
        [
         "74037",
         "PT",
         "RN",
         "PT/RN"
        ],
        [
         "74780",
         "PT",
         "SP",
         "PT/SP"
        ],
        [
         "160586",
         "PSDB",
         "SP",
         "PSDB/SP"
        ],
        [
         "74133",
         "PT",
         "BA",
         "PT/BA"
        ],
        [
         "74047",
         "PDT",
         "PE",
         "PDT/PE"
        ],
        [
         "74750",
         "PMDB",
         "MG",
         "PMDB/MG"
        ],
        [
         "73764",
         "DEM",
         "PR",
         "DEM/PR"
        ],
        [
         "178940",
         "PR",
         "RJ",
         "PR/RJ"
        ],
        [
         "74474",
         "PDT",
         "PE",
         "PDT/PE"
        ],
        [
         "73588",
         "MDB",
         "CE",
         "MDB/CE"
        ],
        [
         "74124",
         "PMDB",
         "MS",
         "PMDB/MS"
        ],
        [
         "195143",
         "PROS",
         "PB",
         "PROS/PB"
        ]
       ],
       "shape": {
        "columns": 3,
        "rows": 40
       }
      },
      "text/html": [
       "<div>\n",
       "<style scoped>\n",
       "    .dataframe tbody tr th:only-of-type {\n",
       "        vertical-align: middle;\n",
       "    }\n",
       "\n",
       "    .dataframe tbody tr th {\n",
       "        vertical-align: top;\n",
       "    }\n",
       "\n",
       "    .dataframe thead th {\n",
       "        text-align: right;\n",
       "    }\n",
       "</style>\n",
       "<table border=\"1\" class=\"dataframe\">\n",
       "  <thead>\n",
       "    <tr style=\"text-align: right;\">\n",
       "      <th></th>\n",
       "      <th>siglaPartido</th>\n",
       "      <th>siglaUf</th>\n",
       "      <th>partido</th>\n",
       "    </tr>\n",
       "    <tr>\n",
       "      <th>id</th>\n",
       "      <th></th>\n",
       "      <th></th>\n",
       "      <th></th>\n",
       "    </tr>\n",
       "  </thead>\n",
       "  <tbody>\n",
       "    <tr>\n",
       "      <th>130398</th>\n",
       "      <td>UDN</td>\n",
       "      <td>RN</td>\n",
       "      <td>UDN/RN</td>\n",
       "    </tr>\n",
       "    <tr>\n",
       "      <th>131085</th>\n",
       "      <td>UDN</td>\n",
       "      <td>MG</td>\n",
       "      <td>UDN/MG</td>\n",
       "    </tr>\n",
       "    <tr>\n",
       "      <th>74496</th>\n",
       "      <td>PT</td>\n",
       "      <td>SP</td>\n",
       "      <td>PT/SP</td>\n",
       "    </tr>\n",
       "    <tr>\n",
       "      <th>74153</th>\n",
       "      <td>PT</td>\n",
       "      <td>MG</td>\n",
       "      <td>PT/MG</td>\n",
       "    </tr>\n",
       "    <tr>\n",
       "      <th>73545</th>\n",
       "      <td>PT</td>\n",
       "      <td>SP</td>\n",
       "      <td>PT/SP</td>\n",
       "    </tr>\n",
       "    <tr>\n",
       "      <th>74389</th>\n",
       "      <td>PT</td>\n",
       "      <td>SC</td>\n",
       "      <td>PT/SC</td>\n",
       "    </tr>\n",
       "    <tr>\n",
       "      <th>74137</th>\n",
       "      <td>PT</td>\n",
       "      <td>SP</td>\n",
       "      <td>PT/SP</td>\n",
       "    </tr>\n",
       "    <tr>\n",
       "      <th>74031</th>\n",
       "      <td>PSOL</td>\n",
       "      <td>CE</td>\n",
       "      <td>PSOL/CE</td>\n",
       "    </tr>\n",
       "    <tr>\n",
       "      <th>73454</th>\n",
       "      <td>PT</td>\n",
       "      <td>MS</td>\n",
       "      <td>PT/MS</td>\n",
       "    </tr>\n",
       "    <tr>\n",
       "      <th>74274</th>\n",
       "      <td>PT</td>\n",
       "      <td>SP</td>\n",
       "      <td>PT/SP</td>\n",
       "    </tr>\n",
       "    <tr>\n",
       "      <th>73472</th>\n",
       "      <td>PSDB</td>\n",
       "      <td>SC</td>\n",
       "      <td>PSDB/SC</td>\n",
       "    </tr>\n",
       "    <tr>\n",
       "      <th>74218</th>\n",
       "      <td>PT</td>\n",
       "      <td>BA</td>\n",
       "      <td>PT/BA</td>\n",
       "    </tr>\n",
       "    <tr>\n",
       "      <th>74391</th>\n",
       "      <td>PT</td>\n",
       "      <td>SC</td>\n",
       "      <td>PT/SC</td>\n",
       "    </tr>\n",
       "    <tr>\n",
       "      <th>74581</th>\n",
       "      <td>PT</td>\n",
       "      <td>MG</td>\n",
       "      <td>PT/MG</td>\n",
       "    </tr>\n",
       "    <tr>\n",
       "      <th>74491</th>\n",
       "      <td>PT</td>\n",
       "      <td>PI</td>\n",
       "      <td>PT/PI</td>\n",
       "    </tr>\n",
       "    <tr>\n",
       "      <th>74145</th>\n",
       "      <td>PT</td>\n",
       "      <td>BA</td>\n",
       "      <td>PT/BA</td>\n",
       "    </tr>\n",
       "    <tr>\n",
       "      <th>141548</th>\n",
       "      <td>PDT</td>\n",
       "      <td>ES</td>\n",
       "      <td>PDT/ES</td>\n",
       "    </tr>\n",
       "    <tr>\n",
       "      <th>160623</th>\n",
       "      <td>PMDB</td>\n",
       "      <td>AL</td>\n",
       "      <td>PMDB/AL</td>\n",
       "    </tr>\n",
       "    <tr>\n",
       "      <th>74284</th>\n",
       "      <td>PSB</td>\n",
       "      <td>SP</td>\n",
       "      <td>PSB/SP</td>\n",
       "    </tr>\n",
       "    <tr>\n",
       "      <th>141870</th>\n",
       "      <td>PP**</td>\n",
       "      <td>RS</td>\n",
       "      <td>PP**/RS</td>\n",
       "    </tr>\n",
       "    <tr>\n",
       "      <th>160597</th>\n",
       "      <td>PSB</td>\n",
       "      <td>RJ</td>\n",
       "      <td>PSB/RJ</td>\n",
       "    </tr>\n",
       "    <tr>\n",
       "      <th>160644</th>\n",
       "      <td>PT</td>\n",
       "      <td>PA</td>\n",
       "      <td>PT/PA</td>\n",
       "    </tr>\n",
       "    <tr>\n",
       "      <th>73653</th>\n",
       "      <td>PR</td>\n",
       "      <td>MT</td>\n",
       "      <td>PR/MT</td>\n",
       "    </tr>\n",
       "    <tr>\n",
       "      <th>74162</th>\n",
       "      <td>PT</td>\n",
       "      <td>ES</td>\n",
       "      <td>PT/ES</td>\n",
       "    </tr>\n",
       "    <tr>\n",
       "      <th>160568</th>\n",
       "      <td>PT</td>\n",
       "      <td>SE</td>\n",
       "      <td>PT/SE</td>\n",
       "    </tr>\n",
       "    <tr>\n",
       "      <th>73940</th>\n",
       "      <td>PV</td>\n",
       "      <td>AC</td>\n",
       "      <td>PV/AC</td>\n",
       "    </tr>\n",
       "    <tr>\n",
       "      <th>141386</th>\n",
       "      <td>PT</td>\n",
       "      <td>CE</td>\n",
       "      <td>PT/CE</td>\n",
       "    </tr>\n",
       "    <tr>\n",
       "      <th>73474</th>\n",
       "      <td>PT</td>\n",
       "      <td>SC</td>\n",
       "      <td>PT/SC</td>\n",
       "    </tr>\n",
       "    <tr>\n",
       "      <th>74037</th>\n",
       "      <td>PT</td>\n",
       "      <td>RN</td>\n",
       "      <td>PT/RN</td>\n",
       "    </tr>\n",
       "    <tr>\n",
       "      <th>74780</th>\n",
       "      <td>PT</td>\n",
       "      <td>SP</td>\n",
       "      <td>PT/SP</td>\n",
       "    </tr>\n",
       "    <tr>\n",
       "      <th>160586</th>\n",
       "      <td>PSDB</td>\n",
       "      <td>SP</td>\n",
       "      <td>PSDB/SP</td>\n",
       "    </tr>\n",
       "    <tr>\n",
       "      <th>74133</th>\n",
       "      <td>PT</td>\n",
       "      <td>BA</td>\n",
       "      <td>PT/BA</td>\n",
       "    </tr>\n",
       "    <tr>\n",
       "      <th>74047</th>\n",
       "      <td>PDT</td>\n",
       "      <td>PE</td>\n",
       "      <td>PDT/PE</td>\n",
       "    </tr>\n",
       "    <tr>\n",
       "      <th>74750</th>\n",
       "      <td>PMDB</td>\n",
       "      <td>MG</td>\n",
       "      <td>PMDB/MG</td>\n",
       "    </tr>\n",
       "    <tr>\n",
       "      <th>73764</th>\n",
       "      <td>DEM</td>\n",
       "      <td>PR</td>\n",
       "      <td>DEM/PR</td>\n",
       "    </tr>\n",
       "    <tr>\n",
       "      <th>178940</th>\n",
       "      <td>PR</td>\n",
       "      <td>RJ</td>\n",
       "      <td>PR/RJ</td>\n",
       "    </tr>\n",
       "    <tr>\n",
       "      <th>74474</th>\n",
       "      <td>PDT</td>\n",
       "      <td>PE</td>\n",
       "      <td>PDT/PE</td>\n",
       "    </tr>\n",
       "    <tr>\n",
       "      <th>73588</th>\n",
       "      <td>MDB</td>\n",
       "      <td>CE</td>\n",
       "      <td>MDB/CE</td>\n",
       "    </tr>\n",
       "    <tr>\n",
       "      <th>74124</th>\n",
       "      <td>PMDB</td>\n",
       "      <td>MS</td>\n",
       "      <td>PMDB/MS</td>\n",
       "    </tr>\n",
       "    <tr>\n",
       "      <th>195143</th>\n",
       "      <td>PROS</td>\n",
       "      <td>PB</td>\n",
       "      <td>PROS/PB</td>\n",
       "    </tr>\n",
       "  </tbody>\n",
       "</table>\n",
       "</div>"
      ],
      "text/plain": [
       "       siglaPartido siglaUf  partido\n",
       "id                                  \n",
       "130398          UDN      RN   UDN/RN\n",
       "131085          UDN      MG   UDN/MG\n",
       "74496            PT      SP    PT/SP\n",
       "74153            PT      MG    PT/MG\n",
       "73545            PT      SP    PT/SP\n",
       "74389            PT      SC    PT/SC\n",
       "74137            PT      SP    PT/SP\n",
       "74031          PSOL      CE  PSOL/CE\n",
       "73454            PT      MS    PT/MS\n",
       "74274            PT      SP    PT/SP\n",
       "73472          PSDB      SC  PSDB/SC\n",
       "74218            PT      BA    PT/BA\n",
       "74391            PT      SC    PT/SC\n",
       "74581            PT      MG    PT/MG\n",
       "74491            PT      PI    PT/PI\n",
       "74145            PT      BA    PT/BA\n",
       "141548          PDT      ES   PDT/ES\n",
       "160623         PMDB      AL  PMDB/AL\n",
       "74284           PSB      SP   PSB/SP\n",
       "141870         PP**      RS  PP**/RS\n",
       "160597          PSB      RJ   PSB/RJ\n",
       "160644           PT      PA    PT/PA\n",
       "73653            PR      MT    PR/MT\n",
       "74162            PT      ES    PT/ES\n",
       "160568           PT      SE    PT/SE\n",
       "73940            PV      AC    PV/AC\n",
       "141386           PT      CE    PT/CE\n",
       "73474            PT      SC    PT/SC\n",
       "74037            PT      RN    PT/RN\n",
       "74780            PT      SP    PT/SP\n",
       "160586         PSDB      SP  PSDB/SP\n",
       "74133            PT      BA    PT/BA\n",
       "74047           PDT      PE   PDT/PE\n",
       "74750          PMDB      MG  PMDB/MG\n",
       "73764           DEM      PR   DEM/PR\n",
       "178940           PR      RJ    PR/RJ\n",
       "74474           PDT      PE   PDT/PE\n",
       "73588           MDB      CE   MDB/CE\n",
       "74124          PMDB      MS  PMDB/MS\n",
       "195143         PROS      PB  PROS/PB"
      ]
     },
     "execution_count": 26,
     "metadata": {},
     "output_type": "execute_result"
    }
   ],
   "source": [
    "house_partido_lookup_df = historico_deputados_df.drop_duplicates(\"id\", keep=\"last\").set_index('id', drop=True)[['siglaPartido', 'siglaUf']]\n",
    "house_partido_lookup_df['partido'] = house_partido_lookup_df['siglaPartido'] + \"/\" + house_partido_lookup_df['siglaUf']\n",
    "house_partido_lookup_df"
   ]
  },
  {
   "cell_type": "code",
   "execution_count": 27,
   "id": "fc28b447",
   "metadata": {},
   "outputs": [],
   "source": [
    "for index, row in house_deputados_df.iterrows():\n",
    "    if pd.isna(row['partido']):\n",
    "        house_deputados_df.at[index, 'partido'] = house_partido_lookup_df.loc[index, 'partido']"
   ]
  },
  {
   "cell_type": "code",
   "execution_count": 28,
   "id": "1ac10cdf",
   "metadata": {},
   "outputs": [],
   "source": [
    "senate_parlamentares_df['partido'] = senate_parlamentares_df['sigla_partido'] + \"/\" + senate_parlamentares_df['uf_parlamentar']"
   ]
  },
  {
   "cell_type": "code",
   "execution_count": 29,
   "id": "1de69d0d",
   "metadata": {},
   "outputs": [],
   "source": [
    "senator_no_party_ids = senate_parlamentares_df[senate_parlamentares_df['partido'].isna()].index"
   ]
  },
  {
   "cell_type": "markdown",
   "id": "0d40daef",
   "metadata": {},
   "source": [
    "Para obter os partidos e UFs que faltam dos senadores, precisamos consultar a API para o endpoint dos mandatos, o que não fizemos na fase bronze"
   ]
  },
  {
   "cell_type": "code",
   "execution_count": 30,
   "id": "1a4605f0",
   "metadata": {},
   "outputs": [],
   "source": [
    "# import httpx\n",
    "# import asyncio\n",
    "\n",
    "# sen_ids = senator_no_party_ids\n",
    "\n",
    "# results = []\n",
    "\n",
    "# async def get_mandato(client, sen_id):\n",
    "#     response = await client.get(f\"https://legis.senado.leg.br/dadosabertos/senador/{sen_id}/mandatos.json\")\n",
    "#     return response.json()\n",
    "# async with httpx.AsyncClient() as client:\n",
    "#     for i in range(0, len(sen_ids), 5):\n",
    "#         tasks = [get_mandato(client, sid) for sid in sen_ids[i:i+5]]\n",
    "#         result = await asyncio.gather(*tasks)\n",
    "#         results.extend(result)\n",
    "#         await asyncio.sleep(2)\n",
    "    \n",
    "# ids_and_parties = []\n",
    "# for i, r in enumerate(results):\n",
    "#     cod_parlamentar = r['MandatoParlamentar']['Parlamentar']['Codigo']\n",
    "#     mandatos = r['MandatoParlamentar']['Parlamentar']['Mandatos']['Mandato']\n",
    "#     mandatos = sorted(mandatos, key=lambda v: v['PrimeiraLegislaturaDoMandato']['DataFim'])\n",
    "#     ultimo_mandato = mandatos[-1]\n",
    "#     uf = ultimo_mandato['UfParlamentar']\n",
    "#     try:\n",
    "#         partido = ultimo_mandato['Partidos']['Partido'][0]['Sigla']\n",
    "#     except KeyError:\n",
    "#         try:\n",
    "#             partido = ultimo_mandato['Partidos']['Partido']['Sigla']\n",
    "#         except KeyError:\n",
    "#             partido = \"<AUSENTE>\"\n",
    "#     ids_and_parties.append({\n",
    "#         'cod_parlamentar': cod_parlamentar,\n",
    "#         'partido': partido,\n",
    "#         'uf': uf,\n",
    "#     })\n",
    "# senate_ids_and_parties_df = pd.DataFrame(ids_and_parties)\n",
    "# senate_ids_and_parties_df['cod_parlamentar'] = senate_ids_and_parties_df['cod_parlamentar'].astype(int)\n",
    "# senate_ids_and_parties_df = senate_ids_and_parties_df.set_index('cod_parlamentar', drop=True)\n",
    "\n",
    "# # # O único que ficou faltando foi o Tasso Jereissati, que é membro do PSDB desde 1988\n",
    "\n",
    "# senate_ids_and_parties_df.at[3396, 'partido'] = \"PSDB\"\n",
    "# senate_ids_and_parties_df.at[3396, 'uf'] = \"CE\"\n",
    "# senate_ids_and_parties_df.to_pickle(ACCESS_DIR / \"senate_ids_and_parties_df.pkl\")"
   ]
  },
  {
   "cell_type": "code",
   "execution_count": 31,
   "id": "baa91070",
   "metadata": {},
   "outputs": [
    {
     "data": {
      "application/vnd.microsoft.datawrangler.viewer.v0+json": {
       "columns": [
        {
         "name": "cod_parlamentar",
         "rawType": "int64",
         "type": "integer"
        },
        {
         "name": "partido",
         "rawType": "object",
         "type": "string"
        },
        {
         "name": "uf",
         "rawType": "object",
         "type": "string"
        }
       ],
       "ref": "b414bde4-43f7-4dc5-b6ff-573a1aaef21e",
       "rows": [
        [
         "5537",
         "PSB",
         "SC"
        ],
        [
         "5639",
         "PP",
         "TO"
        ],
        [
         "5996",
         "PP",
         "PB"
        ],
        [
         "1023",
         "PP",
         "SE"
        ],
        [
         "5585",
         "PSC",
         "GO"
        ],
        [
         "6363",
         "PL",
         "MT"
        ],
        [
         "151",
         "MDB",
         "ES"
        ],
        [
         "2331",
         "MDB",
         "ES"
        ],
        [
         "5927",
         "PSD",
         "AP"
        ],
        [
         "5529",
         "PSD",
         "MG"
        ],
        [
         "5533",
         "PODEMOS",
         "RS"
        ],
        [
         "6351",
         "PT",
         "CE"
        ],
        [
         "5236",
         "S/Partido",
         "DF"
        ],
        [
         "5666",
         "PSL",
         "SP"
        ],
        [
         "6005",
         "DEM",
         "TO"
        ],
        [
         "945",
         "PODEMOS",
         "PR"
        ],
        [
         "3396",
         "PSDB",
         "CE"
        ],
        [
         "5281",
         "MDB",
         "PB"
        ],
        [
         "90",
         "PSDB",
         "SP"
        ],
        [
         "611",
         "DEM",
         "CE"
        ],
        [
         "5350",
         "PL",
         "SC"
        ],
        [
         "4981",
         "PDT",
         "RO"
        ],
        [
         "5627",
         "PT",
         "RN"
        ],
        [
         "5972",
         "PDT",
         "CE"
        ],
        [
         "5527",
         "MDB",
         "MS"
        ],
        [
         "5535",
         "PROS",
         "RR"
        ],
        [
         "5557",
         "PP",
         "AC"
        ],
        [
         "5561",
         "PROS",
         "AL"
        ],
        [
         "5905",
         "PODEMOS",
         "AL"
        ],
        [
         "5929",
         "PODEMOS",
         "MT"
        ],
        [
         "4525",
         "PTB",
         "AL"
        ],
        [
         "5740",
         "UNIÃO",
         "MT"
        ],
        [
         "6362",
         "UNIÃO",
         "MT"
        ],
        [
         "1249",
         "PP",
         "TO"
        ],
        [
         "4610",
         "PSD",
         "MG"
        ],
        [
         "5531",
         "PP",
         "PI"
        ],
        [
         "374",
         "PT",
         "PA"
        ],
        [
         "4545",
         "MDB",
         "PE"
        ],
        [
         "5540",
         "MDB",
         "PE"
        ],
        [
         "5898",
         "PP",
         "PI"
        ],
        [
         "5971",
         "PDT",
         "CE"
        ],
        [
         "5913",
         "MDB",
         "AL"
        ],
        [
         "677",
         "PTB",
         "MA"
        ],
        [
         "3361",
         "MDB",
         "PB"
        ],
        [
         "4605",
         "PSB",
         "MA"
        ],
        [
         "751",
         "PSD",
         "RJ"
        ],
        [
         "878",
         "PSDB",
         "SP"
        ],
        [
         "5899",
         "PSD",
         "GO"
        ],
        [
         "6295",
         "PSD",
         "MT"
        ]
       ],
       "shape": {
        "columns": 2,
        "rows": 49
       }
      },
      "text/html": [
       "<div>\n",
       "<style scoped>\n",
       "    .dataframe tbody tr th:only-of-type {\n",
       "        vertical-align: middle;\n",
       "    }\n",
       "\n",
       "    .dataframe tbody tr th {\n",
       "        vertical-align: top;\n",
       "    }\n",
       "\n",
       "    .dataframe thead th {\n",
       "        text-align: right;\n",
       "    }\n",
       "</style>\n",
       "<table border=\"1\" class=\"dataframe\">\n",
       "  <thead>\n",
       "    <tr style=\"text-align: right;\">\n",
       "      <th></th>\n",
       "      <th>partido</th>\n",
       "      <th>uf</th>\n",
       "    </tr>\n",
       "    <tr>\n",
       "      <th>cod_parlamentar</th>\n",
       "      <th></th>\n",
       "      <th></th>\n",
       "    </tr>\n",
       "  </thead>\n",
       "  <tbody>\n",
       "    <tr>\n",
       "      <th>5537</th>\n",
       "      <td>PSB</td>\n",
       "      <td>SC</td>\n",
       "    </tr>\n",
       "    <tr>\n",
       "      <th>5639</th>\n",
       "      <td>PP</td>\n",
       "      <td>TO</td>\n",
       "    </tr>\n",
       "    <tr>\n",
       "      <th>5996</th>\n",
       "      <td>PP</td>\n",
       "      <td>PB</td>\n",
       "    </tr>\n",
       "    <tr>\n",
       "      <th>1023</th>\n",
       "      <td>PP</td>\n",
       "      <td>SE</td>\n",
       "    </tr>\n",
       "    <tr>\n",
       "      <th>5585</th>\n",
       "      <td>PSC</td>\n",
       "      <td>GO</td>\n",
       "    </tr>\n",
       "    <tr>\n",
       "      <th>6363</th>\n",
       "      <td>PL</td>\n",
       "      <td>MT</td>\n",
       "    </tr>\n",
       "    <tr>\n",
       "      <th>151</th>\n",
       "      <td>MDB</td>\n",
       "      <td>ES</td>\n",
       "    </tr>\n",
       "    <tr>\n",
       "      <th>2331</th>\n",
       "      <td>MDB</td>\n",
       "      <td>ES</td>\n",
       "    </tr>\n",
       "    <tr>\n",
       "      <th>5927</th>\n",
       "      <td>PSD</td>\n",
       "      <td>AP</td>\n",
       "    </tr>\n",
       "    <tr>\n",
       "      <th>5529</th>\n",
       "      <td>PSD</td>\n",
       "      <td>MG</td>\n",
       "    </tr>\n",
       "    <tr>\n",
       "      <th>5533</th>\n",
       "      <td>PODEMOS</td>\n",
       "      <td>RS</td>\n",
       "    </tr>\n",
       "    <tr>\n",
       "      <th>6351</th>\n",
       "      <td>PT</td>\n",
       "      <td>CE</td>\n",
       "    </tr>\n",
       "    <tr>\n",
       "      <th>5236</th>\n",
       "      <td>S/Partido</td>\n",
       "      <td>DF</td>\n",
       "    </tr>\n",
       "    <tr>\n",
       "      <th>5666</th>\n",
       "      <td>PSL</td>\n",
       "      <td>SP</td>\n",
       "    </tr>\n",
       "    <tr>\n",
       "      <th>6005</th>\n",
       "      <td>DEM</td>\n",
       "      <td>TO</td>\n",
       "    </tr>\n",
       "    <tr>\n",
       "      <th>945</th>\n",
       "      <td>PODEMOS</td>\n",
       "      <td>PR</td>\n",
       "    </tr>\n",
       "    <tr>\n",
       "      <th>3396</th>\n",
       "      <td>PSDB</td>\n",
       "      <td>CE</td>\n",
       "    </tr>\n",
       "    <tr>\n",
       "      <th>5281</th>\n",
       "      <td>MDB</td>\n",
       "      <td>PB</td>\n",
       "    </tr>\n",
       "    <tr>\n",
       "      <th>90</th>\n",
       "      <td>PSDB</td>\n",
       "      <td>SP</td>\n",
       "    </tr>\n",
       "    <tr>\n",
       "      <th>611</th>\n",
       "      <td>DEM</td>\n",
       "      <td>CE</td>\n",
       "    </tr>\n",
       "    <tr>\n",
       "      <th>5350</th>\n",
       "      <td>PL</td>\n",
       "      <td>SC</td>\n",
       "    </tr>\n",
       "    <tr>\n",
       "      <th>4981</th>\n",
       "      <td>PDT</td>\n",
       "      <td>RO</td>\n",
       "    </tr>\n",
       "    <tr>\n",
       "      <th>5627</th>\n",
       "      <td>PT</td>\n",
       "      <td>RN</td>\n",
       "    </tr>\n",
       "    <tr>\n",
       "      <th>5972</th>\n",
       "      <td>PDT</td>\n",
       "      <td>CE</td>\n",
       "    </tr>\n",
       "    <tr>\n",
       "      <th>5527</th>\n",
       "      <td>MDB</td>\n",
       "      <td>MS</td>\n",
       "    </tr>\n",
       "    <tr>\n",
       "      <th>5535</th>\n",
       "      <td>PROS</td>\n",
       "      <td>RR</td>\n",
       "    </tr>\n",
       "    <tr>\n",
       "      <th>5557</th>\n",
       "      <td>PP</td>\n",
       "      <td>AC</td>\n",
       "    </tr>\n",
       "    <tr>\n",
       "      <th>5561</th>\n",
       "      <td>PROS</td>\n",
       "      <td>AL</td>\n",
       "    </tr>\n",
       "    <tr>\n",
       "      <th>5905</th>\n",
       "      <td>PODEMOS</td>\n",
       "      <td>AL</td>\n",
       "    </tr>\n",
       "    <tr>\n",
       "      <th>5929</th>\n",
       "      <td>PODEMOS</td>\n",
       "      <td>MT</td>\n",
       "    </tr>\n",
       "    <tr>\n",
       "      <th>4525</th>\n",
       "      <td>PTB</td>\n",
       "      <td>AL</td>\n",
       "    </tr>\n",
       "    <tr>\n",
       "      <th>5740</th>\n",
       "      <td>UNIÃO</td>\n",
       "      <td>MT</td>\n",
       "    </tr>\n",
       "    <tr>\n",
       "      <th>6362</th>\n",
       "      <td>UNIÃO</td>\n",
       "      <td>MT</td>\n",
       "    </tr>\n",
       "    <tr>\n",
       "      <th>1249</th>\n",
       "      <td>PP</td>\n",
       "      <td>TO</td>\n",
       "    </tr>\n",
       "    <tr>\n",
       "      <th>4610</th>\n",
       "      <td>PSD</td>\n",
       "      <td>MG</td>\n",
       "    </tr>\n",
       "    <tr>\n",
       "      <th>5531</th>\n",
       "      <td>PP</td>\n",
       "      <td>PI</td>\n",
       "    </tr>\n",
       "    <tr>\n",
       "      <th>374</th>\n",
       "      <td>PT</td>\n",
       "      <td>PA</td>\n",
       "    </tr>\n",
       "    <tr>\n",
       "      <th>4545</th>\n",
       "      <td>MDB</td>\n",
       "      <td>PE</td>\n",
       "    </tr>\n",
       "    <tr>\n",
       "      <th>5540</th>\n",
       "      <td>MDB</td>\n",
       "      <td>PE</td>\n",
       "    </tr>\n",
       "    <tr>\n",
       "      <th>5898</th>\n",
       "      <td>PP</td>\n",
       "      <td>PI</td>\n",
       "    </tr>\n",
       "    <tr>\n",
       "      <th>5971</th>\n",
       "      <td>PDT</td>\n",
       "      <td>CE</td>\n",
       "    </tr>\n",
       "    <tr>\n",
       "      <th>5913</th>\n",
       "      <td>MDB</td>\n",
       "      <td>AL</td>\n",
       "    </tr>\n",
       "    <tr>\n",
       "      <th>677</th>\n",
       "      <td>PTB</td>\n",
       "      <td>MA</td>\n",
       "    </tr>\n",
       "    <tr>\n",
       "      <th>3361</th>\n",
       "      <td>MDB</td>\n",
       "      <td>PB</td>\n",
       "    </tr>\n",
       "    <tr>\n",
       "      <th>4605</th>\n",
       "      <td>PSB</td>\n",
       "      <td>MA</td>\n",
       "    </tr>\n",
       "    <tr>\n",
       "      <th>751</th>\n",
       "      <td>PSD</td>\n",
       "      <td>RJ</td>\n",
       "    </tr>\n",
       "    <tr>\n",
       "      <th>878</th>\n",
       "      <td>PSDB</td>\n",
       "      <td>SP</td>\n",
       "    </tr>\n",
       "    <tr>\n",
       "      <th>5899</th>\n",
       "      <td>PSD</td>\n",
       "      <td>GO</td>\n",
       "    </tr>\n",
       "    <tr>\n",
       "      <th>6295</th>\n",
       "      <td>PSD</td>\n",
       "      <td>MT</td>\n",
       "    </tr>\n",
       "  </tbody>\n",
       "</table>\n",
       "</div>"
      ],
      "text/plain": [
       "                   partido  uf\n",
       "cod_parlamentar               \n",
       "5537                   PSB  SC\n",
       "5639                    PP  TO\n",
       "5996                    PP  PB\n",
       "1023                    PP  SE\n",
       "5585                   PSC  GO\n",
       "6363                    PL  MT\n",
       "151                    MDB  ES\n",
       "2331                   MDB  ES\n",
       "5927                   PSD  AP\n",
       "5529                   PSD  MG\n",
       "5533               PODEMOS  RS\n",
       "6351                    PT  CE\n",
       "5236             S/Partido  DF\n",
       "5666                   PSL  SP\n",
       "6005                   DEM  TO\n",
       "945                PODEMOS  PR\n",
       "3396                  PSDB  CE\n",
       "5281                   MDB  PB\n",
       "90                    PSDB  SP\n",
       "611                    DEM  CE\n",
       "5350                    PL  SC\n",
       "4981                   PDT  RO\n",
       "5627                    PT  RN\n",
       "5972                   PDT  CE\n",
       "5527                   MDB  MS\n",
       "5535                  PROS  RR\n",
       "5557                    PP  AC\n",
       "5561                  PROS  AL\n",
       "5905               PODEMOS  AL\n",
       "5929               PODEMOS  MT\n",
       "4525                   PTB  AL\n",
       "5740                 UNIÃO  MT\n",
       "6362                 UNIÃO  MT\n",
       "1249                    PP  TO\n",
       "4610                   PSD  MG\n",
       "5531                    PP  PI\n",
       "374                     PT  PA\n",
       "4545                   MDB  PE\n",
       "5540                   MDB  PE\n",
       "5898                    PP  PI\n",
       "5971                   PDT  CE\n",
       "5913                   MDB  AL\n",
       "677                    PTB  MA\n",
       "3361                   MDB  PB\n",
       "4605                   PSB  MA\n",
       "751                    PSD  RJ\n",
       "878                   PSDB  SP\n",
       "5899                   PSD  GO\n",
       "6295                   PSD  MT"
      ]
     },
     "execution_count": 31,
     "metadata": {},
     "output_type": "execute_result"
    }
   ],
   "source": [
    "senate_ids_and_parties_df = pd.read_pickle(ACCESS_DIR / \"senate_ids_and_parties_df.pkl\")\n",
    "senate_ids_and_parties_df\n"
   ]
  },
  {
   "cell_type": "code",
   "execution_count": 32,
   "id": "f8e4b556",
   "metadata": {},
   "outputs": [],
   "source": [
    "for index, row in senate_parlamentares_df[senate_parlamentares_df['partido'].isna()].iterrows():\n",
    "    partido = senate_ids_and_parties_df.loc[index, 'partido']\n",
    "    uf = senate_ids_and_parties_df.loc[index, 'uf']\n",
    "    senate_parlamentares_df.at[index, 'sigla_partido'] = partido\n",
    "    senate_parlamentares_df.at[index, 'uf_parlamentar'] = uf\n",
    "    senate_parlamentares_df.at[index, 'partido'] = partido + \"/\" + uf\n",
    "    "
   ]
  },
  {
   "cell_type": "code",
   "execution_count": 33,
   "id": "d0431f70",
   "metadata": {},
   "outputs": [],
   "source": [
    "with duckdb.connect(DB_PATH, read_only=True) as con:\n",
    "    house_blocos_df = con.execute(\"SELECT * FROM blocos_camara\").df().set_index('id_bloco', drop=True)\n",
    "    house_blocos_partidos_df = con.execute(\"SELECT * FROM blocos_partidos_camara\").df()\n",
    "    house_partidos_df = con.execute(\"SELECT * FROM partidos_camara\").df().set_index('id_partido', drop=True)\n",
    "    "
   ]
  },
  {
   "cell_type": "code",
   "execution_count": 34,
   "id": "eceb4d26",
   "metadata": {},
   "outputs": [
    {
     "data": {
      "application/vnd.microsoft.datawrangler.viewer.v0+json": {
       "columns": [
        {
         "name": "id_bloco",
         "rawType": "int64",
         "type": "integer"
        },
        {
         "name": "nome",
         "rawType": "object",
         "type": "string"
        },
        {
         "name": "id_legislatura",
         "rawType": "int64",
         "type": "integer"
        },
        {
         "name": "uri",
         "rawType": "object",
         "type": "string"
        },
        {
         "name": "year_snapshot",
         "rawType": "int64",
         "type": "integer"
        },
        {
         "name": "rn",
         "rawType": "int64",
         "type": "integer"
        }
       ],
       "ref": "1c3bbebe-a718-4fc4-9d5f-54c2c6f26f83",
       "rows": [
        [
         "586",
         "Federação PSOL REDE",
         "57",
         "https://dadosabertos.camara.leg.br/api/v2/blocos/586",
         "0",
         "1"
        ],
        [
         "585",
         "Federação PSDB CIDADANIA",
         "57",
         "https://dadosabertos.camara.leg.br/api/v2/blocos/585",
         "0",
         "1"
        ],
        [
         "590",
         "AVANTE, SOLIDARIEDADE, PRD",
         "57",
         "https://dadosabertos.camara.leg.br/api/v2/blocos/590",
         "0",
         "1"
        ],
        [
         "584",
         "Federação Brasil da Esperança - Fe Brasil",
         "57",
         "https://dadosabertos.camara.leg.br/api/v2/blocos/584",
         "0",
         "1"
        ],
        [
         "589",
         "PL, UNIÃO, PP, PSD, REPUBLICANOS, MDB, Federação PSDB CIDADANIA, PODE",
         "57",
         "https://dadosabertos.camara.leg.br/api/v2/blocos/589",
         "0",
         "1"
        ]
       ],
       "shape": {
        "columns": 5,
        "rows": 5
       }
      },
      "text/html": [
       "<div>\n",
       "<style scoped>\n",
       "    .dataframe tbody tr th:only-of-type {\n",
       "        vertical-align: middle;\n",
       "    }\n",
       "\n",
       "    .dataframe tbody tr th {\n",
       "        vertical-align: top;\n",
       "    }\n",
       "\n",
       "    .dataframe thead th {\n",
       "        text-align: right;\n",
       "    }\n",
       "</style>\n",
       "<table border=\"1\" class=\"dataframe\">\n",
       "  <thead>\n",
       "    <tr style=\"text-align: right;\">\n",
       "      <th></th>\n",
       "      <th>nome</th>\n",
       "      <th>id_legislatura</th>\n",
       "      <th>uri</th>\n",
       "      <th>year_snapshot</th>\n",
       "      <th>rn</th>\n",
       "    </tr>\n",
       "    <tr>\n",
       "      <th>id_bloco</th>\n",
       "      <th></th>\n",
       "      <th></th>\n",
       "      <th></th>\n",
       "      <th></th>\n",
       "      <th></th>\n",
       "    </tr>\n",
       "  </thead>\n",
       "  <tbody>\n",
       "    <tr>\n",
       "      <th>586</th>\n",
       "      <td>Federação PSOL REDE</td>\n",
       "      <td>57</td>\n",
       "      <td>https://dadosabertos.camara.leg.br/api/v2/bloc...</td>\n",
       "      <td>0</td>\n",
       "      <td>1</td>\n",
       "    </tr>\n",
       "    <tr>\n",
       "      <th>585</th>\n",
       "      <td>Federação PSDB CIDADANIA</td>\n",
       "      <td>57</td>\n",
       "      <td>https://dadosabertos.camara.leg.br/api/v2/bloc...</td>\n",
       "      <td>0</td>\n",
       "      <td>1</td>\n",
       "    </tr>\n",
       "    <tr>\n",
       "      <th>590</th>\n",
       "      <td>AVANTE, SOLIDARIEDADE, PRD</td>\n",
       "      <td>57</td>\n",
       "      <td>https://dadosabertos.camara.leg.br/api/v2/bloc...</td>\n",
       "      <td>0</td>\n",
       "      <td>1</td>\n",
       "    </tr>\n",
       "    <tr>\n",
       "      <th>584</th>\n",
       "      <td>Federação Brasil da Esperança - Fe Brasil</td>\n",
       "      <td>57</td>\n",
       "      <td>https://dadosabertos.camara.leg.br/api/v2/bloc...</td>\n",
       "      <td>0</td>\n",
       "      <td>1</td>\n",
       "    </tr>\n",
       "    <tr>\n",
       "      <th>589</th>\n",
       "      <td>PL, UNIÃO, PP, PSD, REPUBLICANOS, MDB, Federaç...</td>\n",
       "      <td>57</td>\n",
       "      <td>https://dadosabertos.camara.leg.br/api/v2/bloc...</td>\n",
       "      <td>0</td>\n",
       "      <td>1</td>\n",
       "    </tr>\n",
       "  </tbody>\n",
       "</table>\n",
       "</div>"
      ],
      "text/plain": [
       "                                                       nome  id_legislatura  \\\n",
       "id_bloco                                                                      \n",
       "586                                     Federação PSOL REDE              57   \n",
       "585                                Federação PSDB CIDADANIA              57   \n",
       "590                              AVANTE, SOLIDARIEDADE, PRD              57   \n",
       "584               Federação Brasil da Esperança - Fe Brasil              57   \n",
       "589       PL, UNIÃO, PP, PSD, REPUBLICANOS, MDB, Federaç...              57   \n",
       "\n",
       "                                                        uri  year_snapshot  rn  \n",
       "id_bloco                                                                        \n",
       "586       https://dadosabertos.camara.leg.br/api/v2/bloc...              0   1  \n",
       "585       https://dadosabertos.camara.leg.br/api/v2/bloc...              0   1  \n",
       "590       https://dadosabertos.camara.leg.br/api/v2/bloc...              0   1  \n",
       "584       https://dadosabertos.camara.leg.br/api/v2/bloc...              0   1  \n",
       "589       https://dadosabertos.camara.leg.br/api/v2/bloc...              0   1  "
      ]
     },
     "execution_count": 34,
     "metadata": {},
     "output_type": "execute_result"
    }
   ],
   "source": [
    "house_blocos_df"
   ]
  },
  {
   "cell_type": "code",
   "execution_count": 35,
   "id": "a2e1fc32",
   "metadata": {},
   "outputs": [
    {
     "data": {
      "application/vnd.microsoft.datawrangler.viewer.v0+json": {
       "columns": [
        {
         "name": "id_partido",
         "rawType": "int64",
         "type": "integer"
        },
        {
         "name": "nome",
         "rawType": "object",
         "type": "string"
        },
        {
         "name": "sigla",
         "rawType": "object",
         "type": "string"
        },
        {
         "name": "uri",
         "rawType": "object",
         "type": "string"
        },
        {
         "name": "year_snapshot",
         "rawType": "int64",
         "type": "integer"
        },
        {
         "name": "rn",
         "rawType": "int64",
         "type": "integer"
        }
       ],
       "ref": "081dcb24-159c-4adf-b477-9ef8c87d7467",
       "rows": [
        [
         "36851",
         "Partido Verde",
         "PV",
         "https://dadosabertos.camara.leg.br/api/v2/partidos/36851",
         "0",
         "1"
        ],
        [
         "37906",
         "Partido Liberal",
         "PL",
         "https://dadosabertos.camara.leg.br/api/v2/partidos/37906",
         "0",
         "1"
        ],
        [
         "36834",
         "Partido Social Democrático",
         "PSD",
         "https://dadosabertos.camara.leg.br/api/v2/partidos/36834",
         "0",
         "1"
        ],
        [
         "38009",
         "União Brasil",
         "UNIÃO",
         "https://dadosabertos.camara.leg.br/api/v2/partidos/38009",
         "0",
         "1"
        ],
        [
         "36835",
         "Partido da Social Democracia Brasileira",
         "PSDB",
         "https://dadosabertos.camara.leg.br/api/v2/partidos/36835",
         "0",
         "1"
        ],
        [
         "37901",
         "Partido Novo",
         "NOVO",
         "https://dadosabertos.camara.leg.br/api/v2/partidos/37901",
         "0",
         "1"
        ],
        [
         "38010",
         "Partido Renovação Democrática",
         "PRD",
         "https://dadosabertos.camara.leg.br/api/v2/partidos/38010",
         "0",
         "1"
        ],
        [
         "36779",
         "Partido Comunista do Brasil",
         "PCdoB",
         "https://dadosabertos.camara.leg.br/api/v2/partidos/36779",
         "0",
         "1"
        ],
        [
         "36899",
         "Movimento Democrático Brasileiro",
         "MDB",
         "https://dadosabertos.camara.leg.br/api/v2/partidos/36899",
         "0",
         "1"
        ],
        [
         "37908",
         "Republicanos",
         "REPUBLICANOS",
         "https://dadosabertos.camara.leg.br/api/v2/partidos/37908",
         "0",
         "1"
        ],
        [
         "36886",
         "Rede Sustentabilidade",
         "REDE",
         "https://dadosabertos.camara.leg.br/api/v2/partidos/36886",
         "0",
         "1"
        ],
        [
         "36832",
         "Partido Socialista Brasileiro",
         "PSB",
         "https://dadosabertos.camara.leg.br/api/v2/partidos/36832",
         "0",
         "1"
        ],
        [
         "37905",
         "Cidadania",
         "CIDADANIA",
         "https://dadosabertos.camara.leg.br/api/v2/partidos/37905",
         "0",
         "1"
        ],
        [
         "36839",
         "Partido Socialismo e Liberdade",
         "PSOL",
         "https://dadosabertos.camara.leg.br/api/v2/partidos/36839",
         "0",
         "1"
        ],
        [
         "36786",
         "Partido Democrático Trabalhista",
         "PDT",
         "https://dadosabertos.camara.leg.br/api/v2/partidos/36786",
         "0",
         "1"
        ],
        [
         "36896",
         "Podemos",
         "PODE",
         "https://dadosabertos.camara.leg.br/api/v2/partidos/36896",
         "0",
         "1"
        ],
        [
         "36844",
         "Partido dos Trabalhadores",
         "PT",
         "https://dadosabertos.camara.leg.br/api/v2/partidos/36844",
         "0",
         "1"
        ],
        [
         "36898",
         "Avante",
         "AVANTE",
         "https://dadosabertos.camara.leg.br/api/v2/partidos/36898",
         "0",
         "1"
        ],
        [
         "37903",
         "Progressistas",
         "PP",
         "https://dadosabertos.camara.leg.br/api/v2/partidos/37903",
         "0",
         "1"
        ],
        [
         "37904",
         "Solidariedade",
         "SOLIDARIEDADE",
         "https://dadosabertos.camara.leg.br/api/v2/partidos/37904",
         "0",
         "1"
        ]
       ],
       "shape": {
        "columns": 5,
        "rows": 20
       }
      },
      "text/html": [
       "<div>\n",
       "<style scoped>\n",
       "    .dataframe tbody tr th:only-of-type {\n",
       "        vertical-align: middle;\n",
       "    }\n",
       "\n",
       "    .dataframe tbody tr th {\n",
       "        vertical-align: top;\n",
       "    }\n",
       "\n",
       "    .dataframe thead th {\n",
       "        text-align: right;\n",
       "    }\n",
       "</style>\n",
       "<table border=\"1\" class=\"dataframe\">\n",
       "  <thead>\n",
       "    <tr style=\"text-align: right;\">\n",
       "      <th></th>\n",
       "      <th>nome</th>\n",
       "      <th>sigla</th>\n",
       "      <th>uri</th>\n",
       "      <th>year_snapshot</th>\n",
       "      <th>rn</th>\n",
       "    </tr>\n",
       "    <tr>\n",
       "      <th>id_partido</th>\n",
       "      <th></th>\n",
       "      <th></th>\n",
       "      <th></th>\n",
       "      <th></th>\n",
       "      <th></th>\n",
       "    </tr>\n",
       "  </thead>\n",
       "  <tbody>\n",
       "    <tr>\n",
       "      <th>36851</th>\n",
       "      <td>Partido Verde</td>\n",
       "      <td>PV</td>\n",
       "      <td>https://dadosabertos.camara.leg.br/api/v2/part...</td>\n",
       "      <td>0</td>\n",
       "      <td>1</td>\n",
       "    </tr>\n",
       "    <tr>\n",
       "      <th>37906</th>\n",
       "      <td>Partido Liberal</td>\n",
       "      <td>PL</td>\n",
       "      <td>https://dadosabertos.camara.leg.br/api/v2/part...</td>\n",
       "      <td>0</td>\n",
       "      <td>1</td>\n",
       "    </tr>\n",
       "    <tr>\n",
       "      <th>36834</th>\n",
       "      <td>Partido Social Democrático</td>\n",
       "      <td>PSD</td>\n",
       "      <td>https://dadosabertos.camara.leg.br/api/v2/part...</td>\n",
       "      <td>0</td>\n",
       "      <td>1</td>\n",
       "    </tr>\n",
       "    <tr>\n",
       "      <th>38009</th>\n",
       "      <td>União Brasil</td>\n",
       "      <td>UNIÃO</td>\n",
       "      <td>https://dadosabertos.camara.leg.br/api/v2/part...</td>\n",
       "      <td>0</td>\n",
       "      <td>1</td>\n",
       "    </tr>\n",
       "    <tr>\n",
       "      <th>36835</th>\n",
       "      <td>Partido da Social Democracia Brasileira</td>\n",
       "      <td>PSDB</td>\n",
       "      <td>https://dadosabertos.camara.leg.br/api/v2/part...</td>\n",
       "      <td>0</td>\n",
       "      <td>1</td>\n",
       "    </tr>\n",
       "    <tr>\n",
       "      <th>37901</th>\n",
       "      <td>Partido Novo</td>\n",
       "      <td>NOVO</td>\n",
       "      <td>https://dadosabertos.camara.leg.br/api/v2/part...</td>\n",
       "      <td>0</td>\n",
       "      <td>1</td>\n",
       "    </tr>\n",
       "    <tr>\n",
       "      <th>38010</th>\n",
       "      <td>Partido Renovação Democrática</td>\n",
       "      <td>PRD</td>\n",
       "      <td>https://dadosabertos.camara.leg.br/api/v2/part...</td>\n",
       "      <td>0</td>\n",
       "      <td>1</td>\n",
       "    </tr>\n",
       "    <tr>\n",
       "      <th>36779</th>\n",
       "      <td>Partido Comunista do Brasil</td>\n",
       "      <td>PCdoB</td>\n",
       "      <td>https://dadosabertos.camara.leg.br/api/v2/part...</td>\n",
       "      <td>0</td>\n",
       "      <td>1</td>\n",
       "    </tr>\n",
       "    <tr>\n",
       "      <th>36899</th>\n",
       "      <td>Movimento Democrático Brasileiro</td>\n",
       "      <td>MDB</td>\n",
       "      <td>https://dadosabertos.camara.leg.br/api/v2/part...</td>\n",
       "      <td>0</td>\n",
       "      <td>1</td>\n",
       "    </tr>\n",
       "    <tr>\n",
       "      <th>37908</th>\n",
       "      <td>Republicanos</td>\n",
       "      <td>REPUBLICANOS</td>\n",
       "      <td>https://dadosabertos.camara.leg.br/api/v2/part...</td>\n",
       "      <td>0</td>\n",
       "      <td>1</td>\n",
       "    </tr>\n",
       "    <tr>\n",
       "      <th>36886</th>\n",
       "      <td>Rede Sustentabilidade</td>\n",
       "      <td>REDE</td>\n",
       "      <td>https://dadosabertos.camara.leg.br/api/v2/part...</td>\n",
       "      <td>0</td>\n",
       "      <td>1</td>\n",
       "    </tr>\n",
       "    <tr>\n",
       "      <th>36832</th>\n",
       "      <td>Partido Socialista Brasileiro</td>\n",
       "      <td>PSB</td>\n",
       "      <td>https://dadosabertos.camara.leg.br/api/v2/part...</td>\n",
       "      <td>0</td>\n",
       "      <td>1</td>\n",
       "    </tr>\n",
       "    <tr>\n",
       "      <th>37905</th>\n",
       "      <td>Cidadania</td>\n",
       "      <td>CIDADANIA</td>\n",
       "      <td>https://dadosabertos.camara.leg.br/api/v2/part...</td>\n",
       "      <td>0</td>\n",
       "      <td>1</td>\n",
       "    </tr>\n",
       "    <tr>\n",
       "      <th>36839</th>\n",
       "      <td>Partido Socialismo e Liberdade</td>\n",
       "      <td>PSOL</td>\n",
       "      <td>https://dadosabertos.camara.leg.br/api/v2/part...</td>\n",
       "      <td>0</td>\n",
       "      <td>1</td>\n",
       "    </tr>\n",
       "    <tr>\n",
       "      <th>36786</th>\n",
       "      <td>Partido Democrático Trabalhista</td>\n",
       "      <td>PDT</td>\n",
       "      <td>https://dadosabertos.camara.leg.br/api/v2/part...</td>\n",
       "      <td>0</td>\n",
       "      <td>1</td>\n",
       "    </tr>\n",
       "    <tr>\n",
       "      <th>36896</th>\n",
       "      <td>Podemos</td>\n",
       "      <td>PODE</td>\n",
       "      <td>https://dadosabertos.camara.leg.br/api/v2/part...</td>\n",
       "      <td>0</td>\n",
       "      <td>1</td>\n",
       "    </tr>\n",
       "    <tr>\n",
       "      <th>36844</th>\n",
       "      <td>Partido dos Trabalhadores</td>\n",
       "      <td>PT</td>\n",
       "      <td>https://dadosabertos.camara.leg.br/api/v2/part...</td>\n",
       "      <td>0</td>\n",
       "      <td>1</td>\n",
       "    </tr>\n",
       "    <tr>\n",
       "      <th>36898</th>\n",
       "      <td>Avante</td>\n",
       "      <td>AVANTE</td>\n",
       "      <td>https://dadosabertos.camara.leg.br/api/v2/part...</td>\n",
       "      <td>0</td>\n",
       "      <td>1</td>\n",
       "    </tr>\n",
       "    <tr>\n",
       "      <th>37903</th>\n",
       "      <td>Progressistas</td>\n",
       "      <td>PP</td>\n",
       "      <td>https://dadosabertos.camara.leg.br/api/v2/part...</td>\n",
       "      <td>0</td>\n",
       "      <td>1</td>\n",
       "    </tr>\n",
       "    <tr>\n",
       "      <th>37904</th>\n",
       "      <td>Solidariedade</td>\n",
       "      <td>SOLIDARIEDADE</td>\n",
       "      <td>https://dadosabertos.camara.leg.br/api/v2/part...</td>\n",
       "      <td>0</td>\n",
       "      <td>1</td>\n",
       "    </tr>\n",
       "  </tbody>\n",
       "</table>\n",
       "</div>"
      ],
      "text/plain": [
       "                                               nome          sigla  \\\n",
       "id_partido                                                           \n",
       "36851                                 Partido Verde             PV   \n",
       "37906                               Partido Liberal             PL   \n",
       "36834                    Partido Social Democrático            PSD   \n",
       "38009                                  União Brasil          UNIÃO   \n",
       "36835       Partido da Social Democracia Brasileira           PSDB   \n",
       "37901                                  Partido Novo           NOVO   \n",
       "38010                 Partido Renovação Democrática            PRD   \n",
       "36779                   Partido Comunista do Brasil          PCdoB   \n",
       "36899              Movimento Democrático Brasileiro            MDB   \n",
       "37908                                  Republicanos   REPUBLICANOS   \n",
       "36886                         Rede Sustentabilidade           REDE   \n",
       "36832                 Partido Socialista Brasileiro            PSB   \n",
       "37905                                     Cidadania      CIDADANIA   \n",
       "36839                Partido Socialismo e Liberdade           PSOL   \n",
       "36786               Partido Democrático Trabalhista            PDT   \n",
       "36896                                       Podemos           PODE   \n",
       "36844                     Partido dos Trabalhadores             PT   \n",
       "36898                                        Avante         AVANTE   \n",
       "37903                                 Progressistas             PP   \n",
       "37904                                 Solidariedade  SOLIDARIEDADE   \n",
       "\n",
       "                                                          uri  year_snapshot  \\\n",
       "id_partido                                                                     \n",
       "36851       https://dadosabertos.camara.leg.br/api/v2/part...              0   \n",
       "37906       https://dadosabertos.camara.leg.br/api/v2/part...              0   \n",
       "36834       https://dadosabertos.camara.leg.br/api/v2/part...              0   \n",
       "38009       https://dadosabertos.camara.leg.br/api/v2/part...              0   \n",
       "36835       https://dadosabertos.camara.leg.br/api/v2/part...              0   \n",
       "37901       https://dadosabertos.camara.leg.br/api/v2/part...              0   \n",
       "38010       https://dadosabertos.camara.leg.br/api/v2/part...              0   \n",
       "36779       https://dadosabertos.camara.leg.br/api/v2/part...              0   \n",
       "36899       https://dadosabertos.camara.leg.br/api/v2/part...              0   \n",
       "37908       https://dadosabertos.camara.leg.br/api/v2/part...              0   \n",
       "36886       https://dadosabertos.camara.leg.br/api/v2/part...              0   \n",
       "36832       https://dadosabertos.camara.leg.br/api/v2/part...              0   \n",
       "37905       https://dadosabertos.camara.leg.br/api/v2/part...              0   \n",
       "36839       https://dadosabertos.camara.leg.br/api/v2/part...              0   \n",
       "36786       https://dadosabertos.camara.leg.br/api/v2/part...              0   \n",
       "36896       https://dadosabertos.camara.leg.br/api/v2/part...              0   \n",
       "36844       https://dadosabertos.camara.leg.br/api/v2/part...              0   \n",
       "36898       https://dadosabertos.camara.leg.br/api/v2/part...              0   \n",
       "37903       https://dadosabertos.camara.leg.br/api/v2/part...              0   \n",
       "37904       https://dadosabertos.camara.leg.br/api/v2/part...              0   \n",
       "\n",
       "            rn  \n",
       "id_partido      \n",
       "36851        1  \n",
       "37906        1  \n",
       "36834        1  \n",
       "38009        1  \n",
       "36835        1  \n",
       "37901        1  \n",
       "38010        1  \n",
       "36779        1  \n",
       "36899        1  \n",
       "37908        1  \n",
       "36886        1  \n",
       "36832        1  \n",
       "37905        1  \n",
       "36839        1  \n",
       "36786        1  \n",
       "36896        1  \n",
       "36844        1  \n",
       "36898        1  \n",
       "37903        1  \n",
       "37904        1  "
      ]
     },
     "execution_count": 35,
     "metadata": {},
     "output_type": "execute_result"
    }
   ],
   "source": [
    "house_partidos_df"
   ]
  },
  {
   "cell_type": "code",
   "execution_count": 36,
   "id": "a3629d47",
   "metadata": {},
   "outputs": [
    {
     "data": {
      "application/vnd.microsoft.datawrangler.viewer.v0+json": {
       "columns": [
        {
         "name": "index",
         "rawType": "int64",
         "type": "integer"
        },
        {
         "name": "id_bloco_partido",
         "rawType": "int64",
         "type": "integer"
        },
        {
         "name": "id_bloco",
         "rawType": "int64",
         "type": "integer"
        },
        {
         "name": "id_partido",
         "rawType": "int64",
         "type": "integer"
        },
        {
         "name": "year_snapshot",
         "rawType": "int64",
         "type": "integer"
        },
        {
         "name": "nome_bloco",
         "rawType": "object",
         "type": "string"
        },
        {
         "name": "id_legislatura",
         "rawType": "int64",
         "type": "integer"
        },
        {
         "name": "nome",
         "rawType": "object",
         "type": "string"
        },
        {
         "name": "sigla",
         "rawType": "object",
         "type": "string"
        }
       ],
       "ref": "c42dd4ab-7261-4fa8-b6ac-bb1d233f9a09",
       "rows": [
        [
         "0",
         "1",
         "584",
         "36851",
         "2020",
         "Federação Brasil da Esperança - Fe Brasil",
         "57",
         "Partido Verde",
         "PV"
        ],
        [
         "1",
         "2",
         "585",
         "36835",
         "2020",
         "Federação PSDB CIDADANIA",
         "57",
         "Partido da Social Democracia Brasileira",
         "PSDB"
        ],
        [
         "2",
         "3",
         "586",
         "36886",
         "2020",
         "Federação PSOL REDE",
         "57",
         "Rede Sustentabilidade",
         "REDE"
        ],
        [
         "3",
         "4",
         "589",
         "38009",
         "2020",
         "PL, UNIÃO, PP, PSD, REPUBLICANOS, MDB, Federação PSDB CIDADANIA, PODE",
         "57",
         "União Brasil",
         "UNIÃO"
        ],
        [
         "4",
         "5",
         "590",
         "37904",
         "2020",
         "AVANTE, SOLIDARIEDADE, PRD",
         "57",
         "Solidariedade",
         "SOLIDARIEDADE"
        ],
        [
         "5",
         "6",
         "584",
         "36844",
         "2020",
         "Federação Brasil da Esperança - Fe Brasil",
         "57",
         "Partido dos Trabalhadores",
         "PT"
        ],
        [
         "6",
         "7",
         "585",
         "37905",
         "2020",
         "Federação PSDB CIDADANIA",
         "57",
         "Cidadania",
         "CIDADANIA"
        ],
        [
         "7",
         "8",
         "586",
         "36839",
         "2020",
         "Federação PSOL REDE",
         "57",
         "Partido Socialismo e Liberdade",
         "PSOL"
        ],
        [
         "8",
         "9",
         "589",
         "37904",
         "2020",
         "PL, UNIÃO, PP, PSD, REPUBLICANOS, MDB, Federação PSDB CIDADANIA, PODE",
         "57",
         "Solidariedade",
         "SOLIDARIEDADE"
        ],
        [
         "9",
         "10",
         "590",
         "38010",
         "2020",
         "AVANTE, SOLIDARIEDADE, PRD",
         "57",
         "Partido Renovação Democrática",
         "PRD"
        ],
        [
         "10",
         "11",
         "584",
         "36779",
         "2020",
         "Federação Brasil da Esperança - Fe Brasil",
         "57",
         "Partido Comunista do Brasil",
         "PCdoB"
        ],
        [
         "11",
         "12",
         "589",
         "37908",
         "2020",
         "PL, UNIÃO, PP, PSD, REPUBLICANOS, MDB, Federação PSDB CIDADANIA, PODE",
         "57",
         "Republicanos",
         "REPUBLICANOS"
        ],
        [
         "12",
         "13",
         "590",
         "36898",
         "2020",
         "AVANTE, SOLIDARIEDADE, PRD",
         "57",
         "Avante",
         "AVANTE"
        ],
        [
         "13",
         "14",
         "589",
         "36834",
         "2020",
         "PL, UNIÃO, PP, PSD, REPUBLICANOS, MDB, Federação PSDB CIDADANIA, PODE",
         "57",
         "Partido Social Democrático",
         "PSD"
        ],
        [
         "14",
         "15",
         "589",
         "36832",
         "2020",
         "PL, UNIÃO, PP, PSD, REPUBLICANOS, MDB, Federação PSDB CIDADANIA, PODE",
         "57",
         "Partido Socialista Brasileiro",
         "PSB"
        ],
        [
         "15",
         "16",
         "589",
         "38010",
         "2020",
         "PL, UNIÃO, PP, PSD, REPUBLICANOS, MDB, Federação PSDB CIDADANIA, PODE",
         "57",
         "Partido Renovação Democrática",
         "PRD"
        ],
        [
         "16",
         "17",
         "589",
         "37903",
         "2020",
         "PL, UNIÃO, PP, PSD, REPUBLICANOS, MDB, Federação PSDB CIDADANIA, PODE",
         "57",
         "Progressistas",
         "PP"
        ],
        [
         "17",
         "18",
         "589",
         "36896",
         "2020",
         "PL, UNIÃO, PP, PSD, REPUBLICANOS, MDB, Federação PSDB CIDADANIA, PODE",
         "57",
         "Podemos",
         "PODE"
        ],
        [
         "18",
         "19",
         "589",
         "37906",
         "2020",
         "PL, UNIÃO, PP, PSD, REPUBLICANOS, MDB, Federação PSDB CIDADANIA, PODE",
         "57",
         "Partido Liberal",
         "PL"
        ],
        [
         "19",
         "20",
         "589",
         "36786",
         "2020",
         "PL, UNIÃO, PP, PSD, REPUBLICANOS, MDB, Federação PSDB CIDADANIA, PODE",
         "57",
         "Partido Democrático Trabalhista",
         "PDT"
        ],
        [
         "20",
         "21",
         "589",
         "36899",
         "2020",
         "PL, UNIÃO, PP, PSD, REPUBLICANOS, MDB, Federação PSDB CIDADANIA, PODE",
         "57",
         "Movimento Democrático Brasileiro",
         "MDB"
        ],
        [
         "21",
         "22",
         "589",
         "36898",
         "2020",
         "PL, UNIÃO, PP, PSD, REPUBLICANOS, MDB, Federação PSDB CIDADANIA, PODE",
         "57",
         "Avante",
         "AVANTE"
        ]
       ],
       "shape": {
        "columns": 8,
        "rows": 22
       }
      },
      "text/html": [
       "<div>\n",
       "<style scoped>\n",
       "    .dataframe tbody tr th:only-of-type {\n",
       "        vertical-align: middle;\n",
       "    }\n",
       "\n",
       "    .dataframe tbody tr th {\n",
       "        vertical-align: top;\n",
       "    }\n",
       "\n",
       "    .dataframe thead th {\n",
       "        text-align: right;\n",
       "    }\n",
       "</style>\n",
       "<table border=\"1\" class=\"dataframe\">\n",
       "  <thead>\n",
       "    <tr style=\"text-align: right;\">\n",
       "      <th></th>\n",
       "      <th>id_bloco_partido</th>\n",
       "      <th>id_bloco</th>\n",
       "      <th>id_partido</th>\n",
       "      <th>year_snapshot</th>\n",
       "      <th>nome_bloco</th>\n",
       "      <th>id_legislatura</th>\n",
       "      <th>nome</th>\n",
       "      <th>sigla</th>\n",
       "    </tr>\n",
       "  </thead>\n",
       "  <tbody>\n",
       "    <tr>\n",
       "      <th>0</th>\n",
       "      <td>1</td>\n",
       "      <td>584</td>\n",
       "      <td>36851</td>\n",
       "      <td>2020</td>\n",
       "      <td>Federação Brasil da Esperança - Fe Brasil</td>\n",
       "      <td>57</td>\n",
       "      <td>Partido Verde</td>\n",
       "      <td>PV</td>\n",
       "    </tr>\n",
       "    <tr>\n",
       "      <th>1</th>\n",
       "      <td>2</td>\n",
       "      <td>585</td>\n",
       "      <td>36835</td>\n",
       "      <td>2020</td>\n",
       "      <td>Federação PSDB CIDADANIA</td>\n",
       "      <td>57</td>\n",
       "      <td>Partido da Social Democracia Brasileira</td>\n",
       "      <td>PSDB</td>\n",
       "    </tr>\n",
       "    <tr>\n",
       "      <th>2</th>\n",
       "      <td>3</td>\n",
       "      <td>586</td>\n",
       "      <td>36886</td>\n",
       "      <td>2020</td>\n",
       "      <td>Federação PSOL REDE</td>\n",
       "      <td>57</td>\n",
       "      <td>Rede Sustentabilidade</td>\n",
       "      <td>REDE</td>\n",
       "    </tr>\n",
       "    <tr>\n",
       "      <th>3</th>\n",
       "      <td>4</td>\n",
       "      <td>589</td>\n",
       "      <td>38009</td>\n",
       "      <td>2020</td>\n",
       "      <td>PL, UNIÃO, PP, PSD, REPUBLICANOS, MDB, Federaç...</td>\n",
       "      <td>57</td>\n",
       "      <td>União Brasil</td>\n",
       "      <td>UNIÃO</td>\n",
       "    </tr>\n",
       "    <tr>\n",
       "      <th>4</th>\n",
       "      <td>5</td>\n",
       "      <td>590</td>\n",
       "      <td>37904</td>\n",
       "      <td>2020</td>\n",
       "      <td>AVANTE, SOLIDARIEDADE, PRD</td>\n",
       "      <td>57</td>\n",
       "      <td>Solidariedade</td>\n",
       "      <td>SOLIDARIEDADE</td>\n",
       "    </tr>\n",
       "    <tr>\n",
       "      <th>5</th>\n",
       "      <td>6</td>\n",
       "      <td>584</td>\n",
       "      <td>36844</td>\n",
       "      <td>2020</td>\n",
       "      <td>Federação Brasil da Esperança - Fe Brasil</td>\n",
       "      <td>57</td>\n",
       "      <td>Partido dos Trabalhadores</td>\n",
       "      <td>PT</td>\n",
       "    </tr>\n",
       "    <tr>\n",
       "      <th>6</th>\n",
       "      <td>7</td>\n",
       "      <td>585</td>\n",
       "      <td>37905</td>\n",
       "      <td>2020</td>\n",
       "      <td>Federação PSDB CIDADANIA</td>\n",
       "      <td>57</td>\n",
       "      <td>Cidadania</td>\n",
       "      <td>CIDADANIA</td>\n",
       "    </tr>\n",
       "    <tr>\n",
       "      <th>7</th>\n",
       "      <td>8</td>\n",
       "      <td>586</td>\n",
       "      <td>36839</td>\n",
       "      <td>2020</td>\n",
       "      <td>Federação PSOL REDE</td>\n",
       "      <td>57</td>\n",
       "      <td>Partido Socialismo e Liberdade</td>\n",
       "      <td>PSOL</td>\n",
       "    </tr>\n",
       "    <tr>\n",
       "      <th>8</th>\n",
       "      <td>9</td>\n",
       "      <td>589</td>\n",
       "      <td>37904</td>\n",
       "      <td>2020</td>\n",
       "      <td>PL, UNIÃO, PP, PSD, REPUBLICANOS, MDB, Federaç...</td>\n",
       "      <td>57</td>\n",
       "      <td>Solidariedade</td>\n",
       "      <td>SOLIDARIEDADE</td>\n",
       "    </tr>\n",
       "    <tr>\n",
       "      <th>9</th>\n",
       "      <td>10</td>\n",
       "      <td>590</td>\n",
       "      <td>38010</td>\n",
       "      <td>2020</td>\n",
       "      <td>AVANTE, SOLIDARIEDADE, PRD</td>\n",
       "      <td>57</td>\n",
       "      <td>Partido Renovação Democrática</td>\n",
       "      <td>PRD</td>\n",
       "    </tr>\n",
       "    <tr>\n",
       "      <th>10</th>\n",
       "      <td>11</td>\n",
       "      <td>584</td>\n",
       "      <td>36779</td>\n",
       "      <td>2020</td>\n",
       "      <td>Federação Brasil da Esperança - Fe Brasil</td>\n",
       "      <td>57</td>\n",
       "      <td>Partido Comunista do Brasil</td>\n",
       "      <td>PCdoB</td>\n",
       "    </tr>\n",
       "    <tr>\n",
       "      <th>11</th>\n",
       "      <td>12</td>\n",
       "      <td>589</td>\n",
       "      <td>37908</td>\n",
       "      <td>2020</td>\n",
       "      <td>PL, UNIÃO, PP, PSD, REPUBLICANOS, MDB, Federaç...</td>\n",
       "      <td>57</td>\n",
       "      <td>Republicanos</td>\n",
       "      <td>REPUBLICANOS</td>\n",
       "    </tr>\n",
       "    <tr>\n",
       "      <th>12</th>\n",
       "      <td>13</td>\n",
       "      <td>590</td>\n",
       "      <td>36898</td>\n",
       "      <td>2020</td>\n",
       "      <td>AVANTE, SOLIDARIEDADE, PRD</td>\n",
       "      <td>57</td>\n",
       "      <td>Avante</td>\n",
       "      <td>AVANTE</td>\n",
       "    </tr>\n",
       "    <tr>\n",
       "      <th>13</th>\n",
       "      <td>14</td>\n",
       "      <td>589</td>\n",
       "      <td>36834</td>\n",
       "      <td>2020</td>\n",
       "      <td>PL, UNIÃO, PP, PSD, REPUBLICANOS, MDB, Federaç...</td>\n",
       "      <td>57</td>\n",
       "      <td>Partido Social Democrático</td>\n",
       "      <td>PSD</td>\n",
       "    </tr>\n",
       "    <tr>\n",
       "      <th>14</th>\n",
       "      <td>15</td>\n",
       "      <td>589</td>\n",
       "      <td>36832</td>\n",
       "      <td>2020</td>\n",
       "      <td>PL, UNIÃO, PP, PSD, REPUBLICANOS, MDB, Federaç...</td>\n",
       "      <td>57</td>\n",
       "      <td>Partido Socialista Brasileiro</td>\n",
       "      <td>PSB</td>\n",
       "    </tr>\n",
       "    <tr>\n",
       "      <th>15</th>\n",
       "      <td>16</td>\n",
       "      <td>589</td>\n",
       "      <td>38010</td>\n",
       "      <td>2020</td>\n",
       "      <td>PL, UNIÃO, PP, PSD, REPUBLICANOS, MDB, Federaç...</td>\n",
       "      <td>57</td>\n",
       "      <td>Partido Renovação Democrática</td>\n",
       "      <td>PRD</td>\n",
       "    </tr>\n",
       "    <tr>\n",
       "      <th>16</th>\n",
       "      <td>17</td>\n",
       "      <td>589</td>\n",
       "      <td>37903</td>\n",
       "      <td>2020</td>\n",
       "      <td>PL, UNIÃO, PP, PSD, REPUBLICANOS, MDB, Federaç...</td>\n",
       "      <td>57</td>\n",
       "      <td>Progressistas</td>\n",
       "      <td>PP</td>\n",
       "    </tr>\n",
       "    <tr>\n",
       "      <th>17</th>\n",
       "      <td>18</td>\n",
       "      <td>589</td>\n",
       "      <td>36896</td>\n",
       "      <td>2020</td>\n",
       "      <td>PL, UNIÃO, PP, PSD, REPUBLICANOS, MDB, Federaç...</td>\n",
       "      <td>57</td>\n",
       "      <td>Podemos</td>\n",
       "      <td>PODE</td>\n",
       "    </tr>\n",
       "    <tr>\n",
       "      <th>18</th>\n",
       "      <td>19</td>\n",
       "      <td>589</td>\n",
       "      <td>37906</td>\n",
       "      <td>2020</td>\n",
       "      <td>PL, UNIÃO, PP, PSD, REPUBLICANOS, MDB, Federaç...</td>\n",
       "      <td>57</td>\n",
       "      <td>Partido Liberal</td>\n",
       "      <td>PL</td>\n",
       "    </tr>\n",
       "    <tr>\n",
       "      <th>19</th>\n",
       "      <td>20</td>\n",
       "      <td>589</td>\n",
       "      <td>36786</td>\n",
       "      <td>2020</td>\n",
       "      <td>PL, UNIÃO, PP, PSD, REPUBLICANOS, MDB, Federaç...</td>\n",
       "      <td>57</td>\n",
       "      <td>Partido Democrático Trabalhista</td>\n",
       "      <td>PDT</td>\n",
       "    </tr>\n",
       "    <tr>\n",
       "      <th>20</th>\n",
       "      <td>21</td>\n",
       "      <td>589</td>\n",
       "      <td>36899</td>\n",
       "      <td>2020</td>\n",
       "      <td>PL, UNIÃO, PP, PSD, REPUBLICANOS, MDB, Federaç...</td>\n",
       "      <td>57</td>\n",
       "      <td>Movimento Democrático Brasileiro</td>\n",
       "      <td>MDB</td>\n",
       "    </tr>\n",
       "    <tr>\n",
       "      <th>21</th>\n",
       "      <td>22</td>\n",
       "      <td>589</td>\n",
       "      <td>36898</td>\n",
       "      <td>2020</td>\n",
       "      <td>PL, UNIÃO, PP, PSD, REPUBLICANOS, MDB, Federaç...</td>\n",
       "      <td>57</td>\n",
       "      <td>Avante</td>\n",
       "      <td>AVANTE</td>\n",
       "    </tr>\n",
       "  </tbody>\n",
       "</table>\n",
       "</div>"
      ],
      "text/plain": [
       "    id_bloco_partido  id_bloco  id_partido  year_snapshot  \\\n",
       "0                  1       584       36851           2020   \n",
       "1                  2       585       36835           2020   \n",
       "2                  3       586       36886           2020   \n",
       "3                  4       589       38009           2020   \n",
       "4                  5       590       37904           2020   \n",
       "5                  6       584       36844           2020   \n",
       "6                  7       585       37905           2020   \n",
       "7                  8       586       36839           2020   \n",
       "8                  9       589       37904           2020   \n",
       "9                 10       590       38010           2020   \n",
       "10                11       584       36779           2020   \n",
       "11                12       589       37908           2020   \n",
       "12                13       590       36898           2020   \n",
       "13                14       589       36834           2020   \n",
       "14                15       589       36832           2020   \n",
       "15                16       589       38010           2020   \n",
       "16                17       589       37903           2020   \n",
       "17                18       589       36896           2020   \n",
       "18                19       589       37906           2020   \n",
       "19                20       589       36786           2020   \n",
       "20                21       589       36899           2020   \n",
       "21                22       589       36898           2020   \n",
       "\n",
       "                                           nome_bloco  id_legislatura  \\\n",
       "0           Federação Brasil da Esperança - Fe Brasil              57   \n",
       "1                            Federação PSDB CIDADANIA              57   \n",
       "2                                 Federação PSOL REDE              57   \n",
       "3   PL, UNIÃO, PP, PSD, REPUBLICANOS, MDB, Federaç...              57   \n",
       "4                          AVANTE, SOLIDARIEDADE, PRD              57   \n",
       "5           Federação Brasil da Esperança - Fe Brasil              57   \n",
       "6                            Federação PSDB CIDADANIA              57   \n",
       "7                                 Federação PSOL REDE              57   \n",
       "8   PL, UNIÃO, PP, PSD, REPUBLICANOS, MDB, Federaç...              57   \n",
       "9                          AVANTE, SOLIDARIEDADE, PRD              57   \n",
       "10          Federação Brasil da Esperança - Fe Brasil              57   \n",
       "11  PL, UNIÃO, PP, PSD, REPUBLICANOS, MDB, Federaç...              57   \n",
       "12                         AVANTE, SOLIDARIEDADE, PRD              57   \n",
       "13  PL, UNIÃO, PP, PSD, REPUBLICANOS, MDB, Federaç...              57   \n",
       "14  PL, UNIÃO, PP, PSD, REPUBLICANOS, MDB, Federaç...              57   \n",
       "15  PL, UNIÃO, PP, PSD, REPUBLICANOS, MDB, Federaç...              57   \n",
       "16  PL, UNIÃO, PP, PSD, REPUBLICANOS, MDB, Federaç...              57   \n",
       "17  PL, UNIÃO, PP, PSD, REPUBLICANOS, MDB, Federaç...              57   \n",
       "18  PL, UNIÃO, PP, PSD, REPUBLICANOS, MDB, Federaç...              57   \n",
       "19  PL, UNIÃO, PP, PSD, REPUBLICANOS, MDB, Federaç...              57   \n",
       "20  PL, UNIÃO, PP, PSD, REPUBLICANOS, MDB, Federaç...              57   \n",
       "21  PL, UNIÃO, PP, PSD, REPUBLICANOS, MDB, Federaç...              57   \n",
       "\n",
       "                                       nome          sigla  \n",
       "0                             Partido Verde             PV  \n",
       "1   Partido da Social Democracia Brasileira           PSDB  \n",
       "2                     Rede Sustentabilidade           REDE  \n",
       "3                              União Brasil          UNIÃO  \n",
       "4                             Solidariedade  SOLIDARIEDADE  \n",
       "5                 Partido dos Trabalhadores             PT  \n",
       "6                                 Cidadania      CIDADANIA  \n",
       "7            Partido Socialismo e Liberdade           PSOL  \n",
       "8                             Solidariedade  SOLIDARIEDADE  \n",
       "9             Partido Renovação Democrática            PRD  \n",
       "10              Partido Comunista do Brasil          PCdoB  \n",
       "11                             Republicanos   REPUBLICANOS  \n",
       "12                                   Avante         AVANTE  \n",
       "13               Partido Social Democrático            PSD  \n",
       "14            Partido Socialista Brasileiro            PSB  \n",
       "15            Partido Renovação Democrática            PRD  \n",
       "16                            Progressistas             PP  \n",
       "17                                  Podemos           PODE  \n",
       "18                          Partido Liberal             PL  \n",
       "19          Partido Democrático Trabalhista            PDT  \n",
       "20         Movimento Democrático Brasileiro            MDB  \n",
       "21                                   Avante         AVANTE  "
      ]
     },
     "execution_count": 36,
     "metadata": {},
     "output_type": "execute_result"
    }
   ],
   "source": [
    "df = house_blocos_partidos_df.join(house_blocos_df[['nome', 'id_legislatura']], on=\"id_bloco\").join(house_partidos_df[['nome', 'sigla']], on=\"id_partido\", lsuffix=\"_bloco\")\n",
    "df"
   ]
  },
  {
   "cell_type": "markdown",
   "id": "54c5782f",
   "metadata": {},
   "source": [
    "### 1.2.5. Execução da construção.\n",
    "\n",
    "Agora que temos os dados necessários, criamos e registramos os nós e arestas.\n",
    "\n",
    "**Nós:**"
   ]
  },
  {
   "cell_type": "code",
   "execution_count": 37,
   "id": "2b8de8ad",
   "metadata": {},
   "outputs": [],
   "source": [
    "nodes_df = pd.concat([\n",
    "    house_props_df[[\"prop_tag\", \"prop_label\"]].rename(columns={\"prop_tag\": \"tag\", \"prop_label\": \"label\"}),\n",
    "    house_deputados_df[[\"tag\", \"nome_civil\", \"partido\"]].rename(columns={\"nome_civil\": \"label\"}),\n",
    "    house_orgaos_df[[\"tag\", \"nome\"]].rename(columns={\"nome\": \"label\"}),\n",
    "    senate_procs_df[[\"tag\", \"identificacao\"]].rename(columns={\"identificacao\": \"label\"}),\n",
    "    senate_parlamentares_df[[\"tag\", \"nome_completo\", \"partido\"]].rename(columns={\"nome_completo\": \"label\"}),\n",
    "    senate_entes_df[[\"tag\", \"nome\"]].rename(columns={\"nome\": \"label\"}),\n",
    "], ignore_index=True).drop_duplicates().reset_index(drop=True)\n",
    "nodes_df['label'] = nodes_df['label'].str.upper()\n",
    "def get_node_type(tag: str) -> str:\n",
    "    prefix = tag[:3]\n",
    "    match prefix:\n",
    "        case 'CP:':\n",
    "            return 'Proposicao'\n",
    "        case 'CD:':\n",
    "            return 'Deputado'\n",
    "        case 'CO:':\n",
    "            return 'Orgao'\n",
    "        case 'SP:':\n",
    "            return 'Processo'\n",
    "        case 'SS:':\n",
    "            return 'Senador'\n",
    "        case 'SE:':\n",
    "            return 'Ente'\n",
    "        case _:\n",
    "            return 'Unknown'\n",
    "    \n",
    "nodes_df['type'] = nodes_df['tag'].apply(get_node_type)\n"
   ]
  },
  {
   "cell_type": "markdown",
   "id": "41e44377",
   "metadata": {},
   "source": [
    "**Arestas:**"
   ]
  },
  {
   "cell_type": "code",
   "execution_count": 38,
   "id": "cba22922",
   "metadata": {},
   "outputs": [],
   "source": [
    "def get_senate_auth_tag(row):\n",
    "    if row['sigla_ente'] == 'SF' and not pd.isna(row['codigo_parlamentar']):\n",
    "        return f\"SS:{row['codigo_parlamentar']}\"\n",
    "    else:\n",
    "        return f\"SE:{row['id_ente']}\"\n",
    "        \n",
    "senate_autores_df['proc_tag'] = senate_autores_df['id_processo'].apply(lambda x: f\"SP:{x}\")\n",
    "senate_autores_df['auth_tag'] = senate_autores_df.apply(get_senate_auth_tag, axis=1)\n"
   ]
  },
  {
   "cell_type": "code",
   "execution_count": 39,
   "id": "17edc294",
   "metadata": {},
   "outputs": [],
   "source": [
    "house_edges_df = house_autores_df[house_autores_df['proponente']].copy()\n",
    "house_edges_df['prop_label'] = 'CP:' + house_edges_df['id_proposicao'].astype(str)\n",
    "house_edges_df['auth_label'] = house_edges_df.apply(\n",
    "    lambda row: f\"CD:{row['id_deputado_ou_orgao']}\" if row['tipo_autor'] == 'deputados' else f\"CO:{row['id_deputado_ou_orgao']}\",\n",
    "    axis=1\n",
    ")\n",
    "house_edges_df = house_edges_df[['auth_label', 'prop_label']].rename(columns={'auth_label': 'source', 'prop_label': 'target'})"
   ]
  },
  {
   "cell_type": "code",
   "execution_count": 40,
   "id": "a666afeb",
   "metadata": {},
   "outputs": [
    {
     "data": {
      "application/vnd.microsoft.datawrangler.viewer.v0+json": {
       "columns": [
        {
         "name": "id_autoria_iniciativa",
         "rawType": "int64",
         "type": "integer"
        },
        {
         "name": "source",
         "rawType": "object",
         "type": "string"
        },
        {
         "name": "target",
         "rawType": "object",
         "type": "string"
        }
       ],
       "ref": "06de3a5e-d59a-49cb-b1e6-2db7b9f82713",
       "rows": [
        [
         "1955",
         "SS:5627",
         "SP:7711601"
        ],
        [
         "1956",
         "SS:5411",
         "SP:7711690"
        ],
        [
         "1957",
         "SS:5976",
         "SP:7712043"
        ],
        [
         "1958",
         "SS:945",
         "SP:7714029"
        ],
        [
         "1959",
         "SS:945",
         "SP:7714041"
        ],
        [
         "1960",
         "SS:945",
         "SP:7714045"
        ],
        [
         "1961",
         "SS:945",
         "SP:7714051"
        ],
        [
         "1962",
         "SS:945",
         "SP:7714055"
        ],
        [
         "1963",
         "SS:945",
         "SP:7714145"
        ],
        [
         "1964",
         "SS:945",
         "SP:7714257"
        ],
        [
         "1965",
         "SS:945",
         "SP:7714289"
        ],
        [
         "1966",
         "SS:945",
         "SP:7714331"
        ],
        [
         "1967",
         "SS:5502",
         "SP:7716769"
        ],
        [
         "1970",
         "SS:5535",
         "SP:7717143"
        ],
        [
         "1971",
         "SS:5585",
         "SP:7717212"
        ],
        [
         "1972",
         "SS:5533",
         "SP:7717273"
        ],
        [
         "1974",
         "SS:5533",
         "SP:7717363"
        ],
        [
         "1975",
         "SS:1023",
         "SP:7717393"
        ],
        [
         "1976",
         "SS:5979",
         "SP:7717482"
        ],
        [
         "1977",
         "SS:5748",
         "SP:7717575"
        ],
        [
         "1978",
         "SS:5411",
         "SP:7717638"
        ],
        [
         "1979",
         "SS:5411",
         "SP:7717728"
        ],
        [
         "1980",
         "SS:5350",
         "SP:7717925"
        ],
        [
         "1981",
         "SS:5411",
         "SP:7717992"
        ],
        [
         "1982",
         "SS:5411",
         "SP:7718047"
        ],
        [
         "1983",
         "SS:5529",
         "SP:7718136"
        ],
        [
         "1984",
         "SS:5529",
         "SP:7718146"
        ],
        [
         "1985",
         "SS:22",
         "SP:7718161"
        ],
        [
         "1986",
         "SS:5748",
         "SP:7718211"
        ],
        [
         "1987",
         "SS:5748",
         "SP:7718246"
        ],
        [
         "1989",
         "SS:470",
         "SP:7718337"
        ],
        [
         "1990",
         "SS:470",
         "SP:7718388"
        ],
        [
         "1991",
         "SS:470",
         "SP:7718407"
        ],
        [
         "1992",
         "SS:470",
         "SP:7718409"
        ],
        [
         "2000",
         "SS:5942",
         "SP:7719550"
        ],
        [
         "2003",
         "SS:5748",
         "SP:7719637"
        ],
        [
         "2006",
         "SS:22",
         "SP:7720308"
        ],
        [
         "2007",
         "SS:5540",
         "SP:7720504"
        ],
        [
         "2009",
         "SS:5540",
         "SP:7720552"
        ],
        [
         "2010",
         "SS:5959",
         "SP:7720966"
        ],
        [
         "2015",
         "SS:475",
         "SP:7721220"
        ],
        [
         "2017",
         "SS:5533",
         "SP:7721775"
        ],
        [
         "2020",
         "SS:5008",
         "SP:7722552"
        ],
        [
         "2021",
         "SS:5953",
         "SP:7722625"
        ],
        [
         "2022",
         "SS:945",
         "SP:7722704"
        ],
        [
         "2023",
         "SS:5502",
         "SP:7722721"
        ],
        [
         "2024",
         "SS:5376",
         "SP:7722758"
        ],
        [
         "2025",
         "SS:5376",
         "SP:7722819"
        ],
        [
         "2026",
         "SS:5376",
         "SP:7722927"
        ],
        [
         "2027",
         "SS:5376",
         "SP:7722957"
        ]
       ],
       "shape": {
        "columns": 2,
        "rows": 5003
       }
      },
      "text/html": [
       "<div>\n",
       "<style scoped>\n",
       "    .dataframe tbody tr th:only-of-type {\n",
       "        vertical-align: middle;\n",
       "    }\n",
       "\n",
       "    .dataframe tbody tr th {\n",
       "        vertical-align: top;\n",
       "    }\n",
       "\n",
       "    .dataframe thead th {\n",
       "        text-align: right;\n",
       "    }\n",
       "</style>\n",
       "<table border=\"1\" class=\"dataframe\">\n",
       "  <thead>\n",
       "    <tr style=\"text-align: right;\">\n",
       "      <th></th>\n",
       "      <th>source</th>\n",
       "      <th>target</th>\n",
       "    </tr>\n",
       "    <tr>\n",
       "      <th>id_autoria_iniciativa</th>\n",
       "      <th></th>\n",
       "      <th></th>\n",
       "    </tr>\n",
       "  </thead>\n",
       "  <tbody>\n",
       "    <tr>\n",
       "      <th>1955</th>\n",
       "      <td>SS:5627</td>\n",
       "      <td>SP:7711601</td>\n",
       "    </tr>\n",
       "    <tr>\n",
       "      <th>1956</th>\n",
       "      <td>SS:5411</td>\n",
       "      <td>SP:7711690</td>\n",
       "    </tr>\n",
       "    <tr>\n",
       "      <th>1957</th>\n",
       "      <td>SS:5976</td>\n",
       "      <td>SP:7712043</td>\n",
       "    </tr>\n",
       "    <tr>\n",
       "      <th>1958</th>\n",
       "      <td>SS:945</td>\n",
       "      <td>SP:7714029</td>\n",
       "    </tr>\n",
       "    <tr>\n",
       "      <th>1959</th>\n",
       "      <td>SS:945</td>\n",
       "      <td>SP:7714041</td>\n",
       "    </tr>\n",
       "    <tr>\n",
       "      <th>...</th>\n",
       "      <td>...</td>\n",
       "      <td>...</td>\n",
       "    </tr>\n",
       "    <tr>\n",
       "      <th>35695</th>\n",
       "      <td>SS:6335</td>\n",
       "      <td>SP:8730961</td>\n",
       "    </tr>\n",
       "    <tr>\n",
       "      <th>35705</th>\n",
       "      <td>SS:5502</td>\n",
       "      <td>SP:8730961</td>\n",
       "    </tr>\n",
       "    <tr>\n",
       "      <th>35715</th>\n",
       "      <td>SS:6341</td>\n",
       "      <td>SP:8730961</td>\n",
       "    </tr>\n",
       "    <tr>\n",
       "      <th>35725</th>\n",
       "      <td>SS:6009</td>\n",
       "      <td>SP:8730961</td>\n",
       "    </tr>\n",
       "    <tr>\n",
       "      <th>35731</th>\n",
       "      <td>SS:6027</td>\n",
       "      <td>SP:8730961</td>\n",
       "    </tr>\n",
       "  </tbody>\n",
       "</table>\n",
       "<p>5003 rows × 2 columns</p>\n",
       "</div>"
      ],
      "text/plain": [
       "                        source      target\n",
       "id_autoria_iniciativa                     \n",
       "1955                   SS:5627  SP:7711601\n",
       "1956                   SS:5411  SP:7711690\n",
       "1957                   SS:5976  SP:7712043\n",
       "1958                    SS:945  SP:7714029\n",
       "1959                    SS:945  SP:7714041\n",
       "...                        ...         ...\n",
       "35695                  SS:6335  SP:8730961\n",
       "35705                  SS:5502  SP:8730961\n",
       "35715                  SS:6341  SP:8730961\n",
       "35725                  SS:6009  SP:8730961\n",
       "35731                  SS:6027  SP:8730961\n",
       "\n",
       "[5003 rows x 2 columns]"
      ]
     },
     "execution_count": 40,
     "metadata": {},
     "output_type": "execute_result"
    }
   ],
   "source": [
    "senate_edges_df = senate_autores_df.copy()\n",
    "senate_edges_df.rename(columns={'auth_tag': 'source', 'proc_tag': 'target'}, inplace=True)\n",
    "senate_edges_df = senate_edges_df[['source', 'target']]\n",
    "senate_edges_df"
   ]
  },
  {
   "cell_type": "code",
   "execution_count": 41,
   "id": "99741381",
   "metadata": {},
   "outputs": [
    {
     "data": {
      "application/vnd.microsoft.datawrangler.viewer.v0+json": {
       "columns": [
        {
         "name": "index",
         "rawType": "int64",
         "type": "integer"
        },
        {
         "name": "source",
         "rawType": "object",
         "type": "string"
        },
        {
         "name": "target",
         "rawType": "object",
         "type": "string"
        },
        {
         "name": "etype",
         "rawType": "object",
         "type": "string"
        }
       ],
       "ref": "8fe223a8-021a-4876-a3b4-f965e2b0cf29",
       "rows": [
        [
         "0",
         "CD:160655",
         "CP:538196",
         "autoria"
        ],
        [
         "1",
         "CD:141488",
         "CP:559138",
         "autoria"
        ],
        [
         "2",
         "CD:73584",
         "CP:593065",
         "autoria"
        ],
        [
         "3",
         "CD:160518",
         "CP:601739",
         "autoria"
        ],
        [
         "4",
         "CD:151208",
         "CP:614512",
         "autoria"
        ],
        [
         "5",
         "CD:73466",
         "CP:946475",
         "autoria"
        ],
        [
         "6",
         "CD:178862",
         "CP:1301128",
         "autoria"
        ],
        [
         "7",
         "CD:74570",
         "CP:1555295",
         "autoria"
        ],
        [
         "8",
         "CD:160512",
         "CP:1555470",
         "autoria"
        ],
        [
         "9",
         "CD:160565",
         "CP:2074843",
         "autoria"
        ],
        [
         "10",
         "CD:178866",
         "CP:2075821",
         "autoria"
        ],
        [
         "11",
         "CD:141383",
         "CP:2077498",
         "autoria"
        ],
        [
         "12",
         "CD:160621",
         "CP:2092056",
         "autoria"
        ],
        [
         "13",
         "CD:178956",
         "CP:2116186",
         "autoria"
        ],
        [
         "14",
         "CD:177282",
         "CP:2142126",
         "autoria"
        ],
        [
         "15",
         "CD:160653",
         "CP:2184458",
         "autoria"
        ],
        [
         "16",
         "CD:204488",
         "CP:538196",
         "autoria"
        ],
        [
         "17",
         "CD:74047",
         "CP:559138",
         "autoria"
        ],
        [
         "18",
         "CD:160655",
         "CP:601739",
         "autoria"
        ],
        [
         "19",
         "CD:178834",
         "CP:1301128",
         "autoria"
        ],
        [
         "20",
         "CD:160556",
         "CP:559138",
         "autoria"
        ],
        [
         "21",
         "CD:160644",
         "CP:559138",
         "autoria"
        ],
        [
         "22",
         "CD:74784",
         "CP:559138",
         "autoria"
        ],
        [
         "23",
         "CD:74037",
         "CP:559138",
         "autoria"
        ],
        [
         "24",
         "CD:141386",
         "CP:559138",
         "autoria"
        ],
        [
         "25",
         "CD:160538",
         "CP:559138",
         "autoria"
        ],
        [
         "26",
         "CD:178879",
         "CP:2187087",
         "autoria"
        ],
        [
         "27",
         "CD:204553",
         "CP:2190408",
         "autoria"
        ],
        [
         "28",
         "CD:204546",
         "CP:2190417",
         "autoria"
        ],
        [
         "29",
         "CD:204532",
         "CP:2190423",
         "autoria"
        ],
        [
         "30",
         "CD:160518",
         "CP:2190450",
         "autoria"
        ],
        [
         "31",
         "CD:204381",
         "CP:2190462",
         "autoria"
        ],
        [
         "32",
         "CD:204536",
         "CP:2190472",
         "autoria"
        ],
        [
         "33",
         "CD:204494",
         "CP:2190495",
         "autoria"
        ],
        [
         "34",
         "CD:204530",
         "CP:2190519",
         "autoria"
        ],
        [
         "35",
         "CD:204530",
         "CP:2190532",
         "autoria"
        ],
        [
         "36",
         "CD:205535",
         "CP:2190556",
         "autoria"
        ],
        [
         "37",
         "CD:178989",
         "CP:2190579",
         "autoria"
        ],
        [
         "38",
         "CD:178989",
         "CP:2190585",
         "autoria"
        ],
        [
         "39",
         "CD:178989",
         "CP:2190590",
         "autoria"
        ],
        [
         "40",
         "CD:178989",
         "CP:2190598",
         "autoria"
        ],
        [
         "41",
         "CD:178989",
         "CP:2190603",
         "autoria"
        ],
        [
         "42",
         "CD:178989",
         "CP:2190619",
         "autoria"
        ],
        [
         "43",
         "CD:204391",
         "CP:2190651",
         "autoria"
        ],
        [
         "44",
         "CD:204391",
         "CP:2190661",
         "autoria"
        ],
        [
         "45",
         "CD:204508",
         "CP:2190692",
         "autoria"
        ],
        [
         "46",
         "CD:160653",
         "CP:2190701",
         "autoria"
        ],
        [
         "47",
         "CD:160653",
         "CP:2190718",
         "autoria"
        ],
        [
         "48",
         "CD:160653",
         "CP:2190726",
         "autoria"
        ],
        [
         "49",
         "CD:160653",
         "CP:2190729",
         "autoria"
        ]
       ],
       "shape": {
        "columns": 3,
        "rows": 49842
       }
      },
      "text/html": [
       "<div>\n",
       "<style scoped>\n",
       "    .dataframe tbody tr th:only-of-type {\n",
       "        vertical-align: middle;\n",
       "    }\n",
       "\n",
       "    .dataframe tbody tr th {\n",
       "        vertical-align: top;\n",
       "    }\n",
       "\n",
       "    .dataframe thead th {\n",
       "        text-align: right;\n",
       "    }\n",
       "</style>\n",
       "<table border=\"1\" class=\"dataframe\">\n",
       "  <thead>\n",
       "    <tr style=\"text-align: right;\">\n",
       "      <th></th>\n",
       "      <th>source</th>\n",
       "      <th>target</th>\n",
       "      <th>etype</th>\n",
       "    </tr>\n",
       "  </thead>\n",
       "  <tbody>\n",
       "    <tr>\n",
       "      <th>0</th>\n",
       "      <td>CD:160655</td>\n",
       "      <td>CP:538196</td>\n",
       "      <td>autoria</td>\n",
       "    </tr>\n",
       "    <tr>\n",
       "      <th>1</th>\n",
       "      <td>CD:141488</td>\n",
       "      <td>CP:559138</td>\n",
       "      <td>autoria</td>\n",
       "    </tr>\n",
       "    <tr>\n",
       "      <th>2</th>\n",
       "      <td>CD:73584</td>\n",
       "      <td>CP:593065</td>\n",
       "      <td>autoria</td>\n",
       "    </tr>\n",
       "    <tr>\n",
       "      <th>3</th>\n",
       "      <td>CD:160518</td>\n",
       "      <td>CP:601739</td>\n",
       "      <td>autoria</td>\n",
       "    </tr>\n",
       "    <tr>\n",
       "      <th>4</th>\n",
       "      <td>CD:151208</td>\n",
       "      <td>CP:614512</td>\n",
       "      <td>autoria</td>\n",
       "    </tr>\n",
       "    <tr>\n",
       "      <th>...</th>\n",
       "      <td>...</td>\n",
       "      <td>...</td>\n",
       "      <td>...</td>\n",
       "    </tr>\n",
       "    <tr>\n",
       "      <th>49837</th>\n",
       "      <td>SS:6335</td>\n",
       "      <td>SP:8730961</td>\n",
       "      <td>autoria</td>\n",
       "    </tr>\n",
       "    <tr>\n",
       "      <th>49838</th>\n",
       "      <td>SS:5502</td>\n",
       "      <td>SP:8730961</td>\n",
       "      <td>autoria</td>\n",
       "    </tr>\n",
       "    <tr>\n",
       "      <th>49839</th>\n",
       "      <td>SS:6341</td>\n",
       "      <td>SP:8730961</td>\n",
       "      <td>autoria</td>\n",
       "    </tr>\n",
       "    <tr>\n",
       "      <th>49840</th>\n",
       "      <td>SS:6009</td>\n",
       "      <td>SP:8730961</td>\n",
       "      <td>autoria</td>\n",
       "    </tr>\n",
       "    <tr>\n",
       "      <th>49841</th>\n",
       "      <td>SS:6027</td>\n",
       "      <td>SP:8730961</td>\n",
       "      <td>autoria</td>\n",
       "    </tr>\n",
       "  </tbody>\n",
       "</table>\n",
       "<p>49842 rows × 3 columns</p>\n",
       "</div>"
      ],
      "text/plain": [
       "          source      target    etype\n",
       "0      CD:160655   CP:538196  autoria\n",
       "1      CD:141488   CP:559138  autoria\n",
       "2       CD:73584   CP:593065  autoria\n",
       "3      CD:160518   CP:601739  autoria\n",
       "4      CD:151208   CP:614512  autoria\n",
       "...          ...         ...      ...\n",
       "49837    SS:6335  SP:8730961  autoria\n",
       "49838    SS:5502  SP:8730961  autoria\n",
       "49839    SS:6341  SP:8730961  autoria\n",
       "49840    SS:6009  SP:8730961  autoria\n",
       "49841    SS:6027  SP:8730961  autoria\n",
       "\n",
       "[49842 rows x 3 columns]"
      ]
     },
     "execution_count": 41,
     "metadata": {},
     "output_type": "execute_result"
    }
   ],
   "source": [
    "edges_df = pd.concat([house_edges_df, senate_edges_df], ignore_index=True)\n",
    "edges_df['etype'] = 'autoria'\n",
    "edges_df"
   ]
  },
  {
   "cell_type": "code",
   "execution_count": 42,
   "id": "6ad9e564",
   "metadata": {},
   "outputs": [
    {
     "data": {
      "application/vnd.microsoft.datawrangler.viewer.v0+json": {
       "columns": [
        {
         "name": "index",
         "rawType": "int64",
         "type": "integer"
        },
        {
         "name": "tag",
         "rawType": "object",
         "type": "string"
        },
        {
         "name": "label",
         "rawType": "object",
         "type": "string"
        },
        {
         "name": "partido",
         "rawType": "object",
         "type": "unknown"
        },
        {
         "name": "type",
         "rawType": "object",
         "type": "string"
        }
       ],
       "ref": "8afdaf8f-78ae-44c6-9b65-ee7f17cd2801",
       "rows": [
        [
         "0",
         "CP:2187087",
         "PL 5029/2019",
         null,
         "Proposicao"
        ],
        [
         "1",
         "CP:2190408",
         "PL 2/2019",
         null,
         "Proposicao"
        ],
        [
         "2",
         "CP:2190417",
         "PL 10/2019",
         null,
         "Proposicao"
        ],
        [
         "3",
         "CP:2190423",
         "PL 15/2019",
         null,
         "Proposicao"
        ],
        [
         "4",
         "CP:2190450",
         "PL 21/2019",
         null,
         "Proposicao"
        ],
        [
         "5",
         "CP:2190462",
         "PL 32/2019",
         null,
         "Proposicao"
        ],
        [
         "6",
         "CP:2190472",
         "PL 39/2019",
         null,
         "Proposicao"
        ],
        [
         "7",
         "CP:2190495",
         "PL 62/2019",
         null,
         "Proposicao"
        ],
        [
         "8",
         "CP:2190519",
         "PL 76/2019",
         null,
         "Proposicao"
        ],
        [
         "9",
         "CP:2190532",
         "PL 89/2019",
         null,
         "Proposicao"
        ],
        [
         "10",
         "CP:2190556",
         "PLP 6/2019",
         null,
         "Proposicao"
        ],
        [
         "11",
         "CP:2190579",
         "PL 119/2019",
         null,
         "Proposicao"
        ],
        [
         "12",
         "CP:2190585",
         "PL 123/2019",
         null,
         "Proposicao"
        ],
        [
         "13",
         "CP:2190590",
         "PL 127/2019",
         null,
         "Proposicao"
        ],
        [
         "14",
         "CP:2190598",
         "PL 130/2019",
         null,
         "Proposicao"
        ],
        [
         "15",
         "CP:2190603",
         "PL 135/2019",
         null,
         "Proposicao"
        ],
        [
         "16",
         "CP:2190619",
         "PL 146/2019",
         null,
         "Proposicao"
        ],
        [
         "17",
         "CP:2190651",
         "PL 164/2019",
         null,
         "Proposicao"
        ],
        [
         "18",
         "CP:2190661",
         "PL 171/2019",
         null,
         "Proposicao"
        ],
        [
         "19",
         "CP:2190692",
         "PL 185/2019",
         null,
         "Proposicao"
        ],
        [
         "20",
         "CP:2190701",
         "PL 192/2019",
         null,
         "Proposicao"
        ],
        [
         "21",
         "CP:2190718",
         "PL 207/2019",
         null,
         "Proposicao"
        ],
        [
         "22",
         "CP:2190726",
         "PL 197/2019",
         null,
         "Proposicao"
        ],
        [
         "23",
         "CP:2190729",
         "PL 213/2019",
         null,
         "Proposicao"
        ],
        [
         "24",
         "CP:2190740",
         "PL 215/2019",
         null,
         "Proposicao"
        ],
        [
         "25",
         "CP:2190743",
         "PL 234/2019",
         null,
         "Proposicao"
        ],
        [
         "26",
         "CP:2190745",
         "PL 216/2019",
         null,
         "Proposicao"
        ],
        [
         "27",
         "CP:2190748",
         "PL 217/2019",
         null,
         "Proposicao"
        ],
        [
         "28",
         "CP:2190752",
         "PL 246/2019",
         null,
         "Proposicao"
        ],
        [
         "29",
         "CP:2190756",
         "PL 249/2019",
         null,
         "Proposicao"
        ],
        [
         "30",
         "CP:2190776",
         "PL 237/2019",
         null,
         "Proposicao"
        ],
        [
         "31",
         "CP:2190781",
         "PL 290/2019",
         null,
         "Proposicao"
        ],
        [
         "32",
         "CP:2190799",
         "PL 297/2019",
         null,
         "Proposicao"
        ],
        [
         "33",
         "CP:2190871",
         "PL 275/2019",
         null,
         "Proposicao"
        ],
        [
         "34",
         "CP:2190876",
         "PL 326/2019",
         null,
         "Proposicao"
        ],
        [
         "35",
         "CP:2190899",
         "PL 343/2019",
         null,
         "Proposicao"
        ],
        [
         "36",
         "CP:2190908",
         "PL 351/2019",
         null,
         "Proposicao"
        ],
        [
         "37",
         "CP:2190911",
         "PL 347/2019",
         null,
         "Proposicao"
        ],
        [
         "38",
         "CP:2190918",
         "PL 353/2019",
         null,
         "Proposicao"
        ],
        [
         "39",
         "CP:2190984",
         "PL 362/2019",
         null,
         "Proposicao"
        ],
        [
         "40",
         "CP:2190988",
         "PL 366/2019",
         null,
         "Proposicao"
        ],
        [
         "41",
         "CP:2190994",
         "PL 371/2019",
         null,
         "Proposicao"
        ],
        [
         "42",
         "CP:2191010",
         "PL 373/2019",
         null,
         "Proposicao"
        ],
        [
         "43",
         "CP:2191030",
         "PLP 9/2019",
         null,
         "Proposicao"
        ],
        [
         "44",
         "CP:2191045",
         "PL 379/2019",
         null,
         "Proposicao"
        ],
        [
         "45",
         "CP:2191047",
         "PL 381/2019",
         null,
         "Proposicao"
        ],
        [
         "46",
         "CP:2191088",
         "PL 418/2019",
         null,
         "Proposicao"
        ],
        [
         "47",
         "CP:2191093",
         "PL 423/2019",
         null,
         "Proposicao"
        ],
        [
         "48",
         "CP:2191094",
         "PL 424/2019",
         null,
         "Proposicao"
        ],
        [
         "49",
         "CP:2191116",
         "PL 443/2019",
         null,
         "Proposicao"
        ]
       ],
       "shape": {
        "columns": 4,
        "rows": 30944
       }
      },
      "text/html": [
       "<div>\n",
       "<style scoped>\n",
       "    .dataframe tbody tr th:only-of-type {\n",
       "        vertical-align: middle;\n",
       "    }\n",
       "\n",
       "    .dataframe tbody tr th {\n",
       "        vertical-align: top;\n",
       "    }\n",
       "\n",
       "    .dataframe thead th {\n",
       "        text-align: right;\n",
       "    }\n",
       "</style>\n",
       "<table border=\"1\" class=\"dataframe\">\n",
       "  <thead>\n",
       "    <tr style=\"text-align: right;\">\n",
       "      <th></th>\n",
       "      <th>tag</th>\n",
       "      <th>label</th>\n",
       "      <th>partido</th>\n",
       "      <th>type</th>\n",
       "    </tr>\n",
       "  </thead>\n",
       "  <tbody>\n",
       "    <tr>\n",
       "      <th>0</th>\n",
       "      <td>CP:2187087</td>\n",
       "      <td>PL 5029/2019</td>\n",
       "      <td>NaN</td>\n",
       "      <td>Proposicao</td>\n",
       "    </tr>\n",
       "    <tr>\n",
       "      <th>1</th>\n",
       "      <td>CP:2190408</td>\n",
       "      <td>PL 2/2019</td>\n",
       "      <td>NaN</td>\n",
       "      <td>Proposicao</td>\n",
       "    </tr>\n",
       "    <tr>\n",
       "      <th>2</th>\n",
       "      <td>CP:2190417</td>\n",
       "      <td>PL 10/2019</td>\n",
       "      <td>NaN</td>\n",
       "      <td>Proposicao</td>\n",
       "    </tr>\n",
       "    <tr>\n",
       "      <th>3</th>\n",
       "      <td>CP:2190423</td>\n",
       "      <td>PL 15/2019</td>\n",
       "      <td>NaN</td>\n",
       "      <td>Proposicao</td>\n",
       "    </tr>\n",
       "    <tr>\n",
       "      <th>4</th>\n",
       "      <td>CP:2190450</td>\n",
       "      <td>PL 21/2019</td>\n",
       "      <td>NaN</td>\n",
       "      <td>Proposicao</td>\n",
       "    </tr>\n",
       "    <tr>\n",
       "      <th>...</th>\n",
       "      <td>...</td>\n",
       "      <td>...</td>\n",
       "      <td>...</td>\n",
       "      <td>...</td>\n",
       "    </tr>\n",
       "    <tr>\n",
       "      <th>30939</th>\n",
       "      <td>SE:55143</td>\n",
       "      <td>TRIBUNAL DE JUSTIÇA DO DISTRITO FEDERAL E TERR...</td>\n",
       "      <td>NaN</td>\n",
       "      <td>Ente</td>\n",
       "    </tr>\n",
       "    <tr>\n",
       "      <th>30940</th>\n",
       "      <td>SE:9999990</td>\n",
       "      <td>SUPERIOR TRIBUNAL DE JUSTIÇA</td>\n",
       "      <td>NaN</td>\n",
       "      <td>Ente</td>\n",
       "    </tr>\n",
       "    <tr>\n",
       "      <th>30941</th>\n",
       "      <td>SE:9999991</td>\n",
       "      <td>PROCURADORIA-GERAL DA REPÚBLICA</td>\n",
       "      <td>NaN</td>\n",
       "      <td>Ente</td>\n",
       "    </tr>\n",
       "    <tr>\n",
       "      <th>30942</th>\n",
       "      <td>SE:9999992</td>\n",
       "      <td>MINISTÉRIO PÚBLICO DA UNIÃO</td>\n",
       "      <td>NaN</td>\n",
       "      <td>Ente</td>\n",
       "    </tr>\n",
       "    <tr>\n",
       "      <th>30943</th>\n",
       "      <td>SE:9999994</td>\n",
       "      <td>DEFENSORIA PÚBLICA DA UNIÃO</td>\n",
       "      <td>NaN</td>\n",
       "      <td>Ente</td>\n",
       "    </tr>\n",
       "  </tbody>\n",
       "</table>\n",
       "<p>30944 rows × 4 columns</p>\n",
       "</div>"
      ],
      "text/plain": [
       "              tag                                              label partido  \\\n",
       "0      CP:2187087                                       PL 5029/2019     NaN   \n",
       "1      CP:2190408                                          PL 2/2019     NaN   \n",
       "2      CP:2190417                                         PL 10/2019     NaN   \n",
       "3      CP:2190423                                         PL 15/2019     NaN   \n",
       "4      CP:2190450                                         PL 21/2019     NaN   \n",
       "...           ...                                                ...     ...   \n",
       "30939    SE:55143  TRIBUNAL DE JUSTIÇA DO DISTRITO FEDERAL E TERR...     NaN   \n",
       "30940  SE:9999990                       SUPERIOR TRIBUNAL DE JUSTIÇA     NaN   \n",
       "30941  SE:9999991                    PROCURADORIA-GERAL DA REPÚBLICA     NaN   \n",
       "30942  SE:9999992                        MINISTÉRIO PÚBLICO DA UNIÃO     NaN   \n",
       "30943  SE:9999994                        DEFENSORIA PÚBLICA DA UNIÃO     NaN   \n",
       "\n",
       "             type  \n",
       "0      Proposicao  \n",
       "1      Proposicao  \n",
       "2      Proposicao  \n",
       "3      Proposicao  \n",
       "4      Proposicao  \n",
       "...           ...  \n",
       "30939        Ente  \n",
       "30940        Ente  \n",
       "30941        Ente  \n",
       "30942        Ente  \n",
       "30943        Ente  \n",
       "\n",
       "[30944 rows x 4 columns]"
      ]
     },
     "execution_count": 42,
     "metadata": {},
     "output_type": "execute_result"
    }
   ],
   "source": [
    "nodes_df"
   ]
  },
  {
   "cell_type": "markdown",
   "id": "baffb4dc",
   "metadata": {},
   "source": [
    "Criamos também arestas de correspondência entre projetos de lei da Câmara e do Senado"
   ]
  },
  {
   "cell_type": "code",
   "execution_count": 43,
   "id": "5553c5ca",
   "metadata": {},
   "outputs": [
    {
     "data": {
      "application/vnd.microsoft.datawrangler.viewer.v0+json": {
       "columns": [
        {
         "name": "index",
         "rawType": "int64",
         "type": "integer"
        },
        {
         "name": "id_proposicao_camara",
         "rawType": "int64",
         "type": "integer"
        },
        {
         "name": "id_processo_senado",
         "rawType": "int64",
         "type": "integer"
        },
        {
         "name": "identificacao",
         "rawType": "object",
         "type": "string"
        },
        {
         "name": "house_tag",
         "rawType": "object",
         "type": "string"
        },
        {
         "name": "senate_tag",
         "rawType": "object",
         "type": "string"
        }
       ],
       "ref": "9c305630-aab1-41fd-bd73-0076e0d77976",
       "rows": [
        [
         "0",
         "2190585",
         "8006262",
         "PL 123/2019",
         "CP:2190585",
         "SP:8006262"
        ],
        [
         "1",
         "2190598",
         "8311169",
         "PL 130/2019",
         "CP:2190598",
         "SP:8311169"
        ],
        [
         "2",
         "2191635",
         "8074610",
         "PL 610/2019",
         "CP:2191635",
         "SP:8074610"
        ],
        [
         "3",
         "2192978",
         "7858383",
         "PL 1095/2019",
         "CP:2192978",
         "SP:7858383"
        ],
        [
         "4",
         "2193223",
         "8070435",
         "PL 1177/2019",
         "CP:2193223",
         "SP:8070435"
        ],
        [
         "5",
         "2193438",
         "8135478",
         "PL 1269/2019",
         "CP:2193438",
         "SP:8135478"
        ],
        [
         "6",
         "2193767",
         "8011990",
         "PL 1422/2019",
         "CP:2193767",
         "SP:8011990"
        ],
        [
         "7",
         "2194013",
         "8070419",
         "PL 1501/2019",
         "CP:2194013",
         "SP:8070419"
        ],
        [
         "8",
         "2195031",
         "7827537",
         "PL 1679/2019",
         "CP:2195031",
         "SP:7827537"
        ],
        [
         "9",
         "2195665",
         "8072151",
         "PL 1802/2019",
         "CP:2195665",
         "SP:8072151"
        ],
        [
         "10",
         "2196157",
         "8088975",
         "PL 1901/2019",
         "CP:2196157",
         "SP:8088975"
        ],
        [
         "11",
         "2196339",
         "8072142",
         "PL 1931/2019",
         "CP:2196339",
         "SP:8072142"
        ],
        [
         "12",
         "2196833",
         "8503515",
         "PEC 45/2019",
         "CP:2196833",
         "SP:8503515"
        ],
        [
         "13",
         "2196991",
         "8085910",
         "PL 2077/2019",
         "CP:2196991",
         "SP:8085910"
        ],
        [
         "14",
         "2198967",
         "8072134",
         "PL 2458/2019",
         "CP:2198967",
         "SP:8072134"
        ],
        [
         "15",
         "2199009",
         "8086088",
         "PL 2466/2019",
         "CP:2199009",
         "SP:8086088"
        ],
        [
         "16",
         "2199161",
         "8330427",
         "PL 2497/2019",
         "CP:2199161",
         "SP:8330427"
        ],
        [
         "17",
         "2199303",
         "8090240",
         "PL 2522/2019",
         "CP:2199303",
         "SP:8090240"
        ],
        [
         "18",
         "2203087",
         "8331579",
         "PL 2839/2019",
         "CP:2203087",
         "SP:8331579"
        ],
        [
         "19",
         "2205645",
         "8009455",
         "PLP 146/2019",
         "CP:2205645",
         "SP:8009455"
        ],
        [
         "20",
         "2206203",
         "7933657",
         "PL 3267/2019",
         "CP:2206203",
         "SP:7933657"
        ],
        [
         "21",
         "2206395",
         "7898334",
         "PLP 149/2019",
         "CP:2206395",
         "SP:7898334"
        ],
        [
         "22",
         "2210127",
         "8524448",
         "PL 3811/2019",
         "CP:2210127",
         "SP:8524448"
        ],
        [
         "23",
         "2213200",
         "7858216",
         "PL 4162/2019",
         "CP:2213200",
         "SP:7858216"
        ],
        [
         "24",
         "2218900",
         "7798748",
         "MPV 894/2019",
         "CP:2218900",
         "SP:7798748"
        ],
        [
         "25",
         "2219196",
         "7799345",
         "MPV 895/2019",
         "CP:2219196",
         "SP:7799345"
        ],
        [
         "26",
         "2219197",
         "7799351",
         "MPV 896/2019",
         "CP:2219197",
         "SP:7799351"
        ],
        [
         "27",
         "2219676",
         "8130527",
         "PL 4968/2019",
         "CP:2219676",
         "SP:8130527"
        ],
        [
         "28",
         "2219786",
         "8659165",
         "PL 4987/2019",
         "CP:2219786",
         "SP:8659165"
        ],
        [
         "29",
         "2221373",
         "8524464",
         "PL 5177/2019",
         "CP:2221373",
         "SP:8524464"
        ],
        [
         "30",
         "2222884",
         "7818071",
         "MPV 897/2019",
         "CP:2222884",
         "SP:7818071"
        ],
        [
         "31",
         "2223951",
         "8177225",
         "PL 5385/2019",
         "CP:2223951",
         "SP:8177225"
        ],
        [
         "32",
         "2224067",
         "8021932",
         "PL 5387/2019",
         "CP:2224067",
         "SP:8021932"
        ],
        [
         "33",
         "2224225",
         "7876769",
         "PLP 232/2019",
         "CP:2224225",
         "SP:7876769"
        ],
        [
         "34",
         "2225435",
         "7825138",
         "MPV 898/2019",
         "CP:2225435",
         "SP:7825138"
        ],
        [
         "35",
         "2225778",
         "7826311",
         "MPV 899/2019",
         "CP:2225778",
         "SP:7826311"
        ],
        [
         "36",
         "2225928",
         "7826788",
         "MPV 900/2019",
         "CP:2225928",
         "SP:7826788"
        ],
        [
         "37",
         "2225989",
         "7826910",
         "MPV 901/2019",
         "CP:2225989",
         "SP:7826910"
        ],
        [
         "38",
         "2228151",
         "8128175",
         "PL 5829/2019",
         "CP:2228151",
         "SP:8128175"
        ],
        [
         "39",
         "2228675",
         "7834037",
         "MPV 902/2019",
         "CP:2228675",
         "SP:7834037"
        ],
        [
         "40",
         "2228978",
         "7982557",
         "PL 5919/2019",
         "CP:2228978",
         "SP:7982557"
        ],
        [
         "41",
         "2229043",
         "7834698",
         "MPV 903/2019",
         "CP:2229043",
         "SP:7834698"
        ],
        [
         "42",
         "2229306",
         "7835297",
         "MPV 904/2019",
         "CP:2229306",
         "SP:7835297"
        ],
        [
         "43",
         "2229308",
         "7835306",
         "MPV 905/2019",
         "CP:2229308",
         "SP:7835306"
        ],
        [
         "44",
         "2229504",
         "7982667",
         "PL 5977/2019",
         "CP:2229504",
         "SP:7982667"
        ],
        [
         "45",
         "2229968",
         "7838916",
         "MPV 906/2019",
         "CP:2229968",
         "SP:7838916"
        ],
        [
         "46",
         "2230815",
         "7846031",
         "MPV 907/2019",
         "CP:2230815",
         "SP:7846031"
        ],
        [
         "47",
         "2231391",
         "7846987",
         "MPV 908/2019",
         "CP:2231391",
         "SP:7846987"
        ],
        [
         "48",
         "2231851",
         "8659249",
         "PL 6279/2019",
         "CP:2231851",
         "SP:8659249"
        ],
        [
         "49",
         "2231998",
         "8564592",
         "PL 6294/2019",
         "CP:2231998",
         "SP:8564592"
        ]
       ],
       "shape": {
        "columns": 5,
        "rows": 1676
       }
      },
      "text/html": [
       "<div>\n",
       "<style scoped>\n",
       "    .dataframe tbody tr th:only-of-type {\n",
       "        vertical-align: middle;\n",
       "    }\n",
       "\n",
       "    .dataframe tbody tr th {\n",
       "        vertical-align: top;\n",
       "    }\n",
       "\n",
       "    .dataframe thead th {\n",
       "        text-align: right;\n",
       "    }\n",
       "</style>\n",
       "<table border=\"1\" class=\"dataframe\">\n",
       "  <thead>\n",
       "    <tr style=\"text-align: right;\">\n",
       "      <th></th>\n",
       "      <th>id_proposicao_camara</th>\n",
       "      <th>id_processo_senado</th>\n",
       "      <th>identificacao</th>\n",
       "      <th>house_tag</th>\n",
       "      <th>senate_tag</th>\n",
       "    </tr>\n",
       "  </thead>\n",
       "  <tbody>\n",
       "    <tr>\n",
       "      <th>0</th>\n",
       "      <td>2190585</td>\n",
       "      <td>8006262</td>\n",
       "      <td>PL 123/2019</td>\n",
       "      <td>CP:2190585</td>\n",
       "      <td>SP:8006262</td>\n",
       "    </tr>\n",
       "    <tr>\n",
       "      <th>1</th>\n",
       "      <td>2190598</td>\n",
       "      <td>8311169</td>\n",
       "      <td>PL 130/2019</td>\n",
       "      <td>CP:2190598</td>\n",
       "      <td>SP:8311169</td>\n",
       "    </tr>\n",
       "    <tr>\n",
       "      <th>2</th>\n",
       "      <td>2191635</td>\n",
       "      <td>8074610</td>\n",
       "      <td>PL 610/2019</td>\n",
       "      <td>CP:2191635</td>\n",
       "      <td>SP:8074610</td>\n",
       "    </tr>\n",
       "    <tr>\n",
       "      <th>3</th>\n",
       "      <td>2192978</td>\n",
       "      <td>7858383</td>\n",
       "      <td>PL 1095/2019</td>\n",
       "      <td>CP:2192978</td>\n",
       "      <td>SP:7858383</td>\n",
       "    </tr>\n",
       "    <tr>\n",
       "      <th>4</th>\n",
       "      <td>2193223</td>\n",
       "      <td>8070435</td>\n",
       "      <td>PL 1177/2019</td>\n",
       "      <td>CP:2193223</td>\n",
       "      <td>SP:8070435</td>\n",
       "    </tr>\n",
       "    <tr>\n",
       "      <th>...</th>\n",
       "      <td>...</td>\n",
       "      <td>...</td>\n",
       "      <td>...</td>\n",
       "      <td>...</td>\n",
       "      <td>...</td>\n",
       "    </tr>\n",
       "    <tr>\n",
       "      <th>1671</th>\n",
       "      <td>2345499</td>\n",
       "      <td>8272922</td>\n",
       "      <td>PL 1604/2022</td>\n",
       "      <td>CP:2345499</td>\n",
       "      <td>SP:8272922</td>\n",
       "    </tr>\n",
       "    <tr>\n",
       "      <th>1672</th>\n",
       "      <td>2345500</td>\n",
       "      <td>7872006</td>\n",
       "      <td>PL 509/2020</td>\n",
       "      <td>CP:2345500</td>\n",
       "      <td>SP:7872006</td>\n",
       "    </tr>\n",
       "    <tr>\n",
       "      <th>1673</th>\n",
       "      <td>2345555</td>\n",
       "      <td>8356901</td>\n",
       "      <td>MPV 1158/2023</td>\n",
       "      <td>CP:2345555</td>\n",
       "      <td>SP:8356901</td>\n",
       "    </tr>\n",
       "    <tr>\n",
       "      <th>1674</th>\n",
       "      <td>2345556</td>\n",
       "      <td>8356907</td>\n",
       "      <td>MPV 1159/2023</td>\n",
       "      <td>CP:2345556</td>\n",
       "      <td>SP:8356907</td>\n",
       "    </tr>\n",
       "    <tr>\n",
       "      <th>1675</th>\n",
       "      <td>2345557</td>\n",
       "      <td>8356913</td>\n",
       "      <td>MPV 1160/2023</td>\n",
       "      <td>CP:2345557</td>\n",
       "      <td>SP:8356913</td>\n",
       "    </tr>\n",
       "  </tbody>\n",
       "</table>\n",
       "<p>1676 rows × 5 columns</p>\n",
       "</div>"
      ],
      "text/plain": [
       "      id_proposicao_camara  id_processo_senado  identificacao   house_tag  \\\n",
       "0                  2190585             8006262    PL 123/2019  CP:2190585   \n",
       "1                  2190598             8311169    PL 130/2019  CP:2190598   \n",
       "2                  2191635             8074610    PL 610/2019  CP:2191635   \n",
       "3                  2192978             7858383   PL 1095/2019  CP:2192978   \n",
       "4                  2193223             8070435   PL 1177/2019  CP:2193223   \n",
       "...                    ...                 ...            ...         ...   \n",
       "1671               2345499             8272922   PL 1604/2022  CP:2345499   \n",
       "1672               2345500             7872006    PL 509/2020  CP:2345500   \n",
       "1673               2345555             8356901  MPV 1158/2023  CP:2345555   \n",
       "1674               2345556             8356907  MPV 1159/2023  CP:2345556   \n",
       "1675               2345557             8356913  MPV 1160/2023  CP:2345557   \n",
       "\n",
       "      senate_tag  \n",
       "0     SP:8006262  \n",
       "1     SP:8311169  \n",
       "2     SP:8074610  \n",
       "3     SP:7858383  \n",
       "4     SP:8070435  \n",
       "...          ...  \n",
       "1671  SP:8272922  \n",
       "1672  SP:7872006  \n",
       "1673  SP:8356901  \n",
       "1674  SP:8356907  \n",
       "1675  SP:8356913  \n",
       "\n",
       "[1676 rows x 5 columns]"
      ]
     },
     "execution_count": 43,
     "metadata": {},
     "output_type": "execute_result"
    }
   ],
   "source": [
    "bill_match_df['house_tag'] = 'CP:' + bill_match_df['id_proposicao_camara'].astype(str)\n",
    "bill_match_df['senate_tag'] = 'SP:' + bill_match_df['id_processo_senado'].astype(str)\n",
    "bill_match_df\n"
   ]
  },
  {
   "cell_type": "code",
   "execution_count": 44,
   "id": "91759acc",
   "metadata": {},
   "outputs": [
    {
     "data": {
      "application/vnd.microsoft.datawrangler.viewer.v0+json": {
       "columns": [
        {
         "name": "index",
         "rawType": "int64",
         "type": "integer"
        },
        {
         "name": "id_proposicao_camara",
         "rawType": "int64",
         "type": "integer"
        },
        {
         "name": "id_processo_senado",
         "rawType": "int64",
         "type": "integer"
        },
        {
         "name": "identificacao",
         "rawType": "object",
         "type": "string"
        },
        {
         "name": "house_tag",
         "rawType": "object",
         "type": "string"
        },
        {
         "name": "senate_tag",
         "rawType": "object",
         "type": "string"
        }
       ],
       "ref": "9325b8e1-1695-4fee-b611-3a08713b03dd",
       "rows": [
        [
         "0",
         "2190585",
         "8006262",
         "PL 123/2019",
         "CP:2190585",
         "SP:8006262"
        ],
        [
         "1",
         "2190598",
         "8311169",
         "PL 130/2019",
         "CP:2190598",
         "SP:8311169"
        ],
        [
         "2",
         "2191635",
         "8074610",
         "PL 610/2019",
         "CP:2191635",
         "SP:8074610"
        ],
        [
         "3",
         "2192978",
         "7858383",
         "PL 1095/2019",
         "CP:2192978",
         "SP:7858383"
        ],
        [
         "4",
         "2193223",
         "8070435",
         "PL 1177/2019",
         "CP:2193223",
         "SP:8070435"
        ],
        [
         "5",
         "2193438",
         "8135478",
         "PL 1269/2019",
         "CP:2193438",
         "SP:8135478"
        ],
        [
         "6",
         "2193767",
         "8011990",
         "PL 1422/2019",
         "CP:2193767",
         "SP:8011990"
        ],
        [
         "7",
         "2194013",
         "8070419",
         "PL 1501/2019",
         "CP:2194013",
         "SP:8070419"
        ],
        [
         "8",
         "2195031",
         "7827537",
         "PL 1679/2019",
         "CP:2195031",
         "SP:7827537"
        ],
        [
         "9",
         "2195665",
         "8072151",
         "PL 1802/2019",
         "CP:2195665",
         "SP:8072151"
        ],
        [
         "10",
         "2196157",
         "8088975",
         "PL 1901/2019",
         "CP:2196157",
         "SP:8088975"
        ],
        [
         "11",
         "2196339",
         "8072142",
         "PL 1931/2019",
         "CP:2196339",
         "SP:8072142"
        ],
        [
         "12",
         "2196833",
         "8503515",
         "PEC 45/2019",
         "CP:2196833",
         "SP:8503515"
        ],
        [
         "13",
         "2196991",
         "8085910",
         "PL 2077/2019",
         "CP:2196991",
         "SP:8085910"
        ],
        [
         "14",
         "2198967",
         "8072134",
         "PL 2458/2019",
         "CP:2198967",
         "SP:8072134"
        ],
        [
         "15",
         "2199009",
         "8086088",
         "PL 2466/2019",
         "CP:2199009",
         "SP:8086088"
        ],
        [
         "16",
         "2199161",
         "8330427",
         "PL 2497/2019",
         "CP:2199161",
         "SP:8330427"
        ],
        [
         "17",
         "2199303",
         "8090240",
         "PL 2522/2019",
         "CP:2199303",
         "SP:8090240"
        ],
        [
         "18",
         "2203087",
         "8331579",
         "PL 2839/2019",
         "CP:2203087",
         "SP:8331579"
        ],
        [
         "19",
         "2205645",
         "8009455",
         "PLP 146/2019",
         "CP:2205645",
         "SP:8009455"
        ],
        [
         "20",
         "2206203",
         "7933657",
         "PL 3267/2019",
         "CP:2206203",
         "SP:7933657"
        ],
        [
         "21",
         "2206395",
         "7898334",
         "PLP 149/2019",
         "CP:2206395",
         "SP:7898334"
        ],
        [
         "22",
         "2210127",
         "8524448",
         "PL 3811/2019",
         "CP:2210127",
         "SP:8524448"
        ],
        [
         "23",
         "2213200",
         "7858216",
         "PL 4162/2019",
         "CP:2213200",
         "SP:7858216"
        ],
        [
         "24",
         "2218900",
         "7798748",
         "MPV 894/2019",
         "CP:2218900",
         "SP:7798748"
        ],
        [
         "25",
         "2219196",
         "7799345",
         "MPV 895/2019",
         "CP:2219196",
         "SP:7799345"
        ],
        [
         "26",
         "2219197",
         "7799351",
         "MPV 896/2019",
         "CP:2219197",
         "SP:7799351"
        ],
        [
         "27",
         "2219676",
         "8130527",
         "PL 4968/2019",
         "CP:2219676",
         "SP:8130527"
        ],
        [
         "28",
         "2219786",
         "8659165",
         "PL 4987/2019",
         "CP:2219786",
         "SP:8659165"
        ],
        [
         "29",
         "2221373",
         "8524464",
         "PL 5177/2019",
         "CP:2221373",
         "SP:8524464"
        ],
        [
         "30",
         "2222884",
         "7818071",
         "MPV 897/2019",
         "CP:2222884",
         "SP:7818071"
        ],
        [
         "31",
         "2223951",
         "8177225",
         "PL 5385/2019",
         "CP:2223951",
         "SP:8177225"
        ],
        [
         "32",
         "2224067",
         "8021932",
         "PL 5387/2019",
         "CP:2224067",
         "SP:8021932"
        ],
        [
         "33",
         "2224225",
         "7876769",
         "PLP 232/2019",
         "CP:2224225",
         "SP:7876769"
        ],
        [
         "34",
         "2225435",
         "7825138",
         "MPV 898/2019",
         "CP:2225435",
         "SP:7825138"
        ],
        [
         "35",
         "2225778",
         "7826311",
         "MPV 899/2019",
         "CP:2225778",
         "SP:7826311"
        ],
        [
         "36",
         "2225928",
         "7826788",
         "MPV 900/2019",
         "CP:2225928",
         "SP:7826788"
        ],
        [
         "37",
         "2225989",
         "7826910",
         "MPV 901/2019",
         "CP:2225989",
         "SP:7826910"
        ],
        [
         "38",
         "2228151",
         "8128175",
         "PL 5829/2019",
         "CP:2228151",
         "SP:8128175"
        ],
        [
         "39",
         "2228675",
         "7834037",
         "MPV 902/2019",
         "CP:2228675",
         "SP:7834037"
        ],
        [
         "40",
         "2228978",
         "7982557",
         "PL 5919/2019",
         "CP:2228978",
         "SP:7982557"
        ],
        [
         "41",
         "2229043",
         "7834698",
         "MPV 903/2019",
         "CP:2229043",
         "SP:7834698"
        ],
        [
         "42",
         "2229306",
         "7835297",
         "MPV 904/2019",
         "CP:2229306",
         "SP:7835297"
        ],
        [
         "43",
         "2229308",
         "7835306",
         "MPV 905/2019",
         "CP:2229308",
         "SP:7835306"
        ],
        [
         "44",
         "2229504",
         "7982667",
         "PL 5977/2019",
         "CP:2229504",
         "SP:7982667"
        ],
        [
         "45",
         "2229968",
         "7838916",
         "MPV 906/2019",
         "CP:2229968",
         "SP:7838916"
        ],
        [
         "46",
         "2230815",
         "7846031",
         "MPV 907/2019",
         "CP:2230815",
         "SP:7846031"
        ],
        [
         "47",
         "2231391",
         "7846987",
         "MPV 908/2019",
         "CP:2231391",
         "SP:7846987"
        ],
        [
         "48",
         "2231851",
         "8659249",
         "PL 6279/2019",
         "CP:2231851",
         "SP:8659249"
        ],
        [
         "49",
         "2231998",
         "8564592",
         "PL 6294/2019",
         "CP:2231998",
         "SP:8564592"
        ]
       ],
       "shape": {
        "columns": 5,
        "rows": 1676
       }
      },
      "text/html": [
       "<div>\n",
       "<style scoped>\n",
       "    .dataframe tbody tr th:only-of-type {\n",
       "        vertical-align: middle;\n",
       "    }\n",
       "\n",
       "    .dataframe tbody tr th {\n",
       "        vertical-align: top;\n",
       "    }\n",
       "\n",
       "    .dataframe thead th {\n",
       "        text-align: right;\n",
       "    }\n",
       "</style>\n",
       "<table border=\"1\" class=\"dataframe\">\n",
       "  <thead>\n",
       "    <tr style=\"text-align: right;\">\n",
       "      <th></th>\n",
       "      <th>id_proposicao_camara</th>\n",
       "      <th>id_processo_senado</th>\n",
       "      <th>identificacao</th>\n",
       "      <th>house_tag</th>\n",
       "      <th>senate_tag</th>\n",
       "    </tr>\n",
       "  </thead>\n",
       "  <tbody>\n",
       "    <tr>\n",
       "      <th>0</th>\n",
       "      <td>2190585</td>\n",
       "      <td>8006262</td>\n",
       "      <td>PL 123/2019</td>\n",
       "      <td>CP:2190585</td>\n",
       "      <td>SP:8006262</td>\n",
       "    </tr>\n",
       "    <tr>\n",
       "      <th>1</th>\n",
       "      <td>2190598</td>\n",
       "      <td>8311169</td>\n",
       "      <td>PL 130/2019</td>\n",
       "      <td>CP:2190598</td>\n",
       "      <td>SP:8311169</td>\n",
       "    </tr>\n",
       "    <tr>\n",
       "      <th>2</th>\n",
       "      <td>2191635</td>\n",
       "      <td>8074610</td>\n",
       "      <td>PL 610/2019</td>\n",
       "      <td>CP:2191635</td>\n",
       "      <td>SP:8074610</td>\n",
       "    </tr>\n",
       "    <tr>\n",
       "      <th>3</th>\n",
       "      <td>2192978</td>\n",
       "      <td>7858383</td>\n",
       "      <td>PL 1095/2019</td>\n",
       "      <td>CP:2192978</td>\n",
       "      <td>SP:7858383</td>\n",
       "    </tr>\n",
       "    <tr>\n",
       "      <th>4</th>\n",
       "      <td>2193223</td>\n",
       "      <td>8070435</td>\n",
       "      <td>PL 1177/2019</td>\n",
       "      <td>CP:2193223</td>\n",
       "      <td>SP:8070435</td>\n",
       "    </tr>\n",
       "    <tr>\n",
       "      <th>...</th>\n",
       "      <td>...</td>\n",
       "      <td>...</td>\n",
       "      <td>...</td>\n",
       "      <td>...</td>\n",
       "      <td>...</td>\n",
       "    </tr>\n",
       "    <tr>\n",
       "      <th>1671</th>\n",
       "      <td>2345499</td>\n",
       "      <td>8272922</td>\n",
       "      <td>PL 1604/2022</td>\n",
       "      <td>CP:2345499</td>\n",
       "      <td>SP:8272922</td>\n",
       "    </tr>\n",
       "    <tr>\n",
       "      <th>1672</th>\n",
       "      <td>2345500</td>\n",
       "      <td>7872006</td>\n",
       "      <td>PL 509/2020</td>\n",
       "      <td>CP:2345500</td>\n",
       "      <td>SP:7872006</td>\n",
       "    </tr>\n",
       "    <tr>\n",
       "      <th>1673</th>\n",
       "      <td>2345555</td>\n",
       "      <td>8356901</td>\n",
       "      <td>MPV 1158/2023</td>\n",
       "      <td>CP:2345555</td>\n",
       "      <td>SP:8356901</td>\n",
       "    </tr>\n",
       "    <tr>\n",
       "      <th>1674</th>\n",
       "      <td>2345556</td>\n",
       "      <td>8356907</td>\n",
       "      <td>MPV 1159/2023</td>\n",
       "      <td>CP:2345556</td>\n",
       "      <td>SP:8356907</td>\n",
       "    </tr>\n",
       "    <tr>\n",
       "      <th>1675</th>\n",
       "      <td>2345557</td>\n",
       "      <td>8356913</td>\n",
       "      <td>MPV 1160/2023</td>\n",
       "      <td>CP:2345557</td>\n",
       "      <td>SP:8356913</td>\n",
       "    </tr>\n",
       "  </tbody>\n",
       "</table>\n",
       "<p>1676 rows × 5 columns</p>\n",
       "</div>"
      ],
      "text/plain": [
       "      id_proposicao_camara  id_processo_senado  identificacao   house_tag  \\\n",
       "0                  2190585             8006262    PL 123/2019  CP:2190585   \n",
       "1                  2190598             8311169    PL 130/2019  CP:2190598   \n",
       "2                  2191635             8074610    PL 610/2019  CP:2191635   \n",
       "3                  2192978             7858383   PL 1095/2019  CP:2192978   \n",
       "4                  2193223             8070435   PL 1177/2019  CP:2193223   \n",
       "...                    ...                 ...            ...         ...   \n",
       "1671               2345499             8272922   PL 1604/2022  CP:2345499   \n",
       "1672               2345500             7872006    PL 509/2020  CP:2345500   \n",
       "1673               2345555             8356901  MPV 1158/2023  CP:2345555   \n",
       "1674               2345556             8356907  MPV 1159/2023  CP:2345556   \n",
       "1675               2345557             8356913  MPV 1160/2023  CP:2345557   \n",
       "\n",
       "      senate_tag  \n",
       "0     SP:8006262  \n",
       "1     SP:8311169  \n",
       "2     SP:8074610  \n",
       "3     SP:7858383  \n",
       "4     SP:8070435  \n",
       "...          ...  \n",
       "1671  SP:8272922  \n",
       "1672  SP:7872006  \n",
       "1673  SP:8356901  \n",
       "1674  SP:8356907  \n",
       "1675  SP:8356913  \n",
       "\n",
       "[1676 rows x 5 columns]"
      ]
     },
     "execution_count": 44,
     "metadata": {},
     "output_type": "execute_result"
    }
   ],
   "source": [
    "common_labels = set(nodes_df[nodes_df['type'] == 'Proposicao']['label']).intersection(set(nodes_df[nodes_df['type'] == 'Processo']['label']))\n",
    "filtered_bill_match_df = bill_match_df[bill_match_df['identificacao'].isin(common_labels)]\n",
    "filtered_bill_match_df"
   ]
  },
  {
   "cell_type": "code",
   "execution_count": 45,
   "id": "69789a3c",
   "metadata": {},
   "outputs": [
    {
     "data": {
      "application/vnd.microsoft.datawrangler.viewer.v0+json": {
       "columns": [
        {
         "name": "index",
         "rawType": "int64",
         "type": "integer"
        },
        {
         "name": "source",
         "rawType": "object",
         "type": "string"
        },
        {
         "name": "target",
         "rawType": "object",
         "type": "string"
        },
        {
         "name": "etype",
         "rawType": "object",
         "type": "string"
        }
       ],
       "ref": "280368ef-f0cd-4f11-bb65-c9fd6b976cd2",
       "rows": [
        [
         "0",
         "CP:2190585",
         "SP:8006262",
         "correspondencia"
        ],
        [
         "1",
         "CP:2190598",
         "SP:8311169",
         "correspondencia"
        ],
        [
         "2",
         "CP:2191635",
         "SP:8074610",
         "correspondencia"
        ],
        [
         "3",
         "CP:2192978",
         "SP:7858383",
         "correspondencia"
        ],
        [
         "4",
         "CP:2193223",
         "SP:8070435",
         "correspondencia"
        ],
        [
         "5",
         "CP:2193438",
         "SP:8135478",
         "correspondencia"
        ],
        [
         "6",
         "CP:2193767",
         "SP:8011990",
         "correspondencia"
        ],
        [
         "7",
         "CP:2194013",
         "SP:8070419",
         "correspondencia"
        ],
        [
         "8",
         "CP:2195031",
         "SP:7827537",
         "correspondencia"
        ],
        [
         "9",
         "CP:2195665",
         "SP:8072151",
         "correspondencia"
        ],
        [
         "10",
         "CP:2196157",
         "SP:8088975",
         "correspondencia"
        ],
        [
         "11",
         "CP:2196339",
         "SP:8072142",
         "correspondencia"
        ],
        [
         "12",
         "CP:2196833",
         "SP:8503515",
         "correspondencia"
        ],
        [
         "13",
         "CP:2196991",
         "SP:8085910",
         "correspondencia"
        ],
        [
         "14",
         "CP:2198967",
         "SP:8072134",
         "correspondencia"
        ],
        [
         "15",
         "CP:2199009",
         "SP:8086088",
         "correspondencia"
        ],
        [
         "16",
         "CP:2199161",
         "SP:8330427",
         "correspondencia"
        ],
        [
         "17",
         "CP:2199303",
         "SP:8090240",
         "correspondencia"
        ],
        [
         "18",
         "CP:2203087",
         "SP:8331579",
         "correspondencia"
        ],
        [
         "19",
         "CP:2205645",
         "SP:8009455",
         "correspondencia"
        ],
        [
         "20",
         "CP:2206203",
         "SP:7933657",
         "correspondencia"
        ],
        [
         "21",
         "CP:2206395",
         "SP:7898334",
         "correspondencia"
        ],
        [
         "22",
         "CP:2210127",
         "SP:8524448",
         "correspondencia"
        ],
        [
         "23",
         "CP:2213200",
         "SP:7858216",
         "correspondencia"
        ],
        [
         "24",
         "CP:2218900",
         "SP:7798748",
         "correspondencia"
        ],
        [
         "25",
         "CP:2219196",
         "SP:7799345",
         "correspondencia"
        ],
        [
         "26",
         "CP:2219197",
         "SP:7799351",
         "correspondencia"
        ],
        [
         "27",
         "CP:2219676",
         "SP:8130527",
         "correspondencia"
        ],
        [
         "28",
         "CP:2219786",
         "SP:8659165",
         "correspondencia"
        ],
        [
         "29",
         "CP:2221373",
         "SP:8524464",
         "correspondencia"
        ],
        [
         "30",
         "CP:2222884",
         "SP:7818071",
         "correspondencia"
        ],
        [
         "31",
         "CP:2223951",
         "SP:8177225",
         "correspondencia"
        ],
        [
         "32",
         "CP:2224067",
         "SP:8021932",
         "correspondencia"
        ],
        [
         "33",
         "CP:2224225",
         "SP:7876769",
         "correspondencia"
        ],
        [
         "34",
         "CP:2225435",
         "SP:7825138",
         "correspondencia"
        ],
        [
         "35",
         "CP:2225778",
         "SP:7826311",
         "correspondencia"
        ],
        [
         "36",
         "CP:2225928",
         "SP:7826788",
         "correspondencia"
        ],
        [
         "37",
         "CP:2225989",
         "SP:7826910",
         "correspondencia"
        ],
        [
         "38",
         "CP:2228151",
         "SP:8128175",
         "correspondencia"
        ],
        [
         "39",
         "CP:2228675",
         "SP:7834037",
         "correspondencia"
        ],
        [
         "40",
         "CP:2228978",
         "SP:7982557",
         "correspondencia"
        ],
        [
         "41",
         "CP:2229043",
         "SP:7834698",
         "correspondencia"
        ],
        [
         "42",
         "CP:2229306",
         "SP:7835297",
         "correspondencia"
        ],
        [
         "43",
         "CP:2229308",
         "SP:7835306",
         "correspondencia"
        ],
        [
         "44",
         "CP:2229504",
         "SP:7982667",
         "correspondencia"
        ],
        [
         "45",
         "CP:2229968",
         "SP:7838916",
         "correspondencia"
        ],
        [
         "46",
         "CP:2230815",
         "SP:7846031",
         "correspondencia"
        ],
        [
         "47",
         "CP:2231391",
         "SP:7846987",
         "correspondencia"
        ],
        [
         "48",
         "CP:2231851",
         "SP:8659249",
         "correspondencia"
        ],
        [
         "49",
         "CP:2231998",
         "SP:8564592",
         "correspondencia"
        ]
       ],
       "shape": {
        "columns": 3,
        "rows": 1676
       }
      },
      "text/html": [
       "<div>\n",
       "<style scoped>\n",
       "    .dataframe tbody tr th:only-of-type {\n",
       "        vertical-align: middle;\n",
       "    }\n",
       "\n",
       "    .dataframe tbody tr th {\n",
       "        vertical-align: top;\n",
       "    }\n",
       "\n",
       "    .dataframe thead th {\n",
       "        text-align: right;\n",
       "    }\n",
       "</style>\n",
       "<table border=\"1\" class=\"dataframe\">\n",
       "  <thead>\n",
       "    <tr style=\"text-align: right;\">\n",
       "      <th></th>\n",
       "      <th>source</th>\n",
       "      <th>target</th>\n",
       "      <th>etype</th>\n",
       "    </tr>\n",
       "  </thead>\n",
       "  <tbody>\n",
       "    <tr>\n",
       "      <th>0</th>\n",
       "      <td>CP:2190585</td>\n",
       "      <td>SP:8006262</td>\n",
       "      <td>correspondencia</td>\n",
       "    </tr>\n",
       "    <tr>\n",
       "      <th>1</th>\n",
       "      <td>CP:2190598</td>\n",
       "      <td>SP:8311169</td>\n",
       "      <td>correspondencia</td>\n",
       "    </tr>\n",
       "    <tr>\n",
       "      <th>2</th>\n",
       "      <td>CP:2191635</td>\n",
       "      <td>SP:8074610</td>\n",
       "      <td>correspondencia</td>\n",
       "    </tr>\n",
       "    <tr>\n",
       "      <th>3</th>\n",
       "      <td>CP:2192978</td>\n",
       "      <td>SP:7858383</td>\n",
       "      <td>correspondencia</td>\n",
       "    </tr>\n",
       "    <tr>\n",
       "      <th>4</th>\n",
       "      <td>CP:2193223</td>\n",
       "      <td>SP:8070435</td>\n",
       "      <td>correspondencia</td>\n",
       "    </tr>\n",
       "    <tr>\n",
       "      <th>...</th>\n",
       "      <td>...</td>\n",
       "      <td>...</td>\n",
       "      <td>...</td>\n",
       "    </tr>\n",
       "    <tr>\n",
       "      <th>1671</th>\n",
       "      <td>CP:2345499</td>\n",
       "      <td>SP:8272922</td>\n",
       "      <td>correspondencia</td>\n",
       "    </tr>\n",
       "    <tr>\n",
       "      <th>1672</th>\n",
       "      <td>CP:2345500</td>\n",
       "      <td>SP:7872006</td>\n",
       "      <td>correspondencia</td>\n",
       "    </tr>\n",
       "    <tr>\n",
       "      <th>1673</th>\n",
       "      <td>CP:2345555</td>\n",
       "      <td>SP:8356901</td>\n",
       "      <td>correspondencia</td>\n",
       "    </tr>\n",
       "    <tr>\n",
       "      <th>1674</th>\n",
       "      <td>CP:2345556</td>\n",
       "      <td>SP:8356907</td>\n",
       "      <td>correspondencia</td>\n",
       "    </tr>\n",
       "    <tr>\n",
       "      <th>1675</th>\n",
       "      <td>CP:2345557</td>\n",
       "      <td>SP:8356913</td>\n",
       "      <td>correspondencia</td>\n",
       "    </tr>\n",
       "  </tbody>\n",
       "</table>\n",
       "<p>1676 rows × 3 columns</p>\n",
       "</div>"
      ],
      "text/plain": [
       "          source      target            etype\n",
       "0     CP:2190585  SP:8006262  correspondencia\n",
       "1     CP:2190598  SP:8311169  correspondencia\n",
       "2     CP:2191635  SP:8074610  correspondencia\n",
       "3     CP:2192978  SP:7858383  correspondencia\n",
       "4     CP:2193223  SP:8070435  correspondencia\n",
       "...          ...         ...              ...\n",
       "1671  CP:2345499  SP:8272922  correspondencia\n",
       "1672  CP:2345500  SP:7872006  correspondencia\n",
       "1673  CP:2345555  SP:8356901  correspondencia\n",
       "1674  CP:2345556  SP:8356907  correspondencia\n",
       "1675  CP:2345557  SP:8356913  correspondencia\n",
       "\n",
       "[1676 rows x 3 columns]"
      ]
     },
     "execution_count": 45,
     "metadata": {},
     "output_type": "execute_result"
    }
   ],
   "source": [
    "filtered_bill_match_df = filtered_bill_match_df[['house_tag', 'senate_tag']].rename(columns={'house_tag': 'source', 'senate_tag': 'target'})\n",
    "filtered_bill_match_df['etype'] = 'correspondencia'\n",
    "filtered_bill_match_df"
   ]
  },
  {
   "cell_type": "markdown",
   "id": "d24c68cf",
   "metadata": {},
   "source": [
    "Acrescentamos um caso especial, das duas fases da PEC 10/2020"
   ]
  },
  {
   "cell_type": "code",
   "execution_count": 46,
   "id": "7e495e32",
   "metadata": {},
   "outputs": [],
   "source": [
    "filtered_bill_match_df = pd.concat([\n",
    "    filtered_bill_match_df,\n",
    "    pd.DataFrame([{'source': 'CP:2242583', 'target': 'CP:2249946', 'etype': 'correspondencia'}])\n",
    "])"
   ]
  },
  {
   "cell_type": "markdown",
   "id": "c054e234",
   "metadata": {},
   "source": [
    "Agora fazemos o mesmo para órgãos (Câmara) e entes (Senado)"
   ]
  },
  {
   "cell_type": "code",
   "execution_count": 47,
   "id": "6c785064",
   "metadata": {},
   "outputs": [],
   "source": [
    "\n",
    "entity_match_df['etype'] = 'correspondencia'\n"
   ]
  },
  {
   "cell_type": "code",
   "execution_count": 48,
   "id": "95377227",
   "metadata": {},
   "outputs": [
    {
     "data": {
      "application/vnd.microsoft.datawrangler.viewer.v0+json": {
       "columns": [
        {
         "name": "index",
         "rawType": "int64",
         "type": "integer"
        },
        {
         "name": "source",
         "rawType": "object",
         "type": "string"
        },
        {
         "name": "target",
         "rawType": "object",
         "type": "string"
        },
        {
         "name": "etype",
         "rawType": "object",
         "type": "string"
        }
       ],
       "ref": "0ad5b1dd-f06f-402a-ae1d-e4653c3e9c7e",
       "rows": [
        [
         "0",
         "SE:2",
         "CO:100292",
         "correspondencia"
        ],
        [
         "1",
         "SE:1",
         "CO:78",
         "correspondencia"
        ],
        [
         "2",
         "SE:55126",
         "CO:60",
         "correspondencia"
        ],
        [
         "3",
         "SE:55126",
         "CO:253",
         "correspondencia"
        ],
        [
         "4",
         "SE:5282726",
         "CO:80",
         "correspondencia"
        ],
        [
         "5",
         "SE:9999990",
         "CO:81",
         "correspondencia"
        ],
        [
         "6",
         "SE:7351348",
         "CO:277",
         "correspondencia"
        ],
        [
         "7",
         "SE:7352253",
         "CO:82",
         "correspondencia"
        ],
        [
         "8",
         "SE:55143",
         "CO:382",
         "correspondencia"
        ],
        [
         "9",
         "SE:9999991",
         "CO:101347",
         "correspondencia"
        ],
        [
         "10",
         "SE:9999992",
         "CO:57",
         "correspondencia"
        ],
        [
         "11",
         "SE:9999994",
         "CO:101131",
         "correspondencia"
        ],
        [
         "0",
         "CO:60",
         "CO:253",
         "correspondencia"
        ]
       ],
       "shape": {
        "columns": 3,
        "rows": 13
       }
      },
      "text/html": [
       "<div>\n",
       "<style scoped>\n",
       "    .dataframe tbody tr th:only-of-type {\n",
       "        vertical-align: middle;\n",
       "    }\n",
       "\n",
       "    .dataframe tbody tr th {\n",
       "        vertical-align: top;\n",
       "    }\n",
       "\n",
       "    .dataframe thead th {\n",
       "        text-align: right;\n",
       "    }\n",
       "</style>\n",
       "<table border=\"1\" class=\"dataframe\">\n",
       "  <thead>\n",
       "    <tr style=\"text-align: right;\">\n",
       "      <th></th>\n",
       "      <th>source</th>\n",
       "      <th>target</th>\n",
       "      <th>etype</th>\n",
       "    </tr>\n",
       "  </thead>\n",
       "  <tbody>\n",
       "    <tr>\n",
       "      <th>0</th>\n",
       "      <td>SE:2</td>\n",
       "      <td>CO:100292</td>\n",
       "      <td>correspondencia</td>\n",
       "    </tr>\n",
       "    <tr>\n",
       "      <th>1</th>\n",
       "      <td>SE:1</td>\n",
       "      <td>CO:78</td>\n",
       "      <td>correspondencia</td>\n",
       "    </tr>\n",
       "    <tr>\n",
       "      <th>2</th>\n",
       "      <td>SE:55126</td>\n",
       "      <td>CO:60</td>\n",
       "      <td>correspondencia</td>\n",
       "    </tr>\n",
       "    <tr>\n",
       "      <th>3</th>\n",
       "      <td>SE:55126</td>\n",
       "      <td>CO:253</td>\n",
       "      <td>correspondencia</td>\n",
       "    </tr>\n",
       "    <tr>\n",
       "      <th>4</th>\n",
       "      <td>SE:5282726</td>\n",
       "      <td>CO:80</td>\n",
       "      <td>correspondencia</td>\n",
       "    </tr>\n",
       "    <tr>\n",
       "      <th>5</th>\n",
       "      <td>SE:9999990</td>\n",
       "      <td>CO:81</td>\n",
       "      <td>correspondencia</td>\n",
       "    </tr>\n",
       "    <tr>\n",
       "      <th>6</th>\n",
       "      <td>SE:7351348</td>\n",
       "      <td>CO:277</td>\n",
       "      <td>correspondencia</td>\n",
       "    </tr>\n",
       "    <tr>\n",
       "      <th>7</th>\n",
       "      <td>SE:7352253</td>\n",
       "      <td>CO:82</td>\n",
       "      <td>correspondencia</td>\n",
       "    </tr>\n",
       "    <tr>\n",
       "      <th>8</th>\n",
       "      <td>SE:55143</td>\n",
       "      <td>CO:382</td>\n",
       "      <td>correspondencia</td>\n",
       "    </tr>\n",
       "    <tr>\n",
       "      <th>9</th>\n",
       "      <td>SE:9999991</td>\n",
       "      <td>CO:101347</td>\n",
       "      <td>correspondencia</td>\n",
       "    </tr>\n",
       "    <tr>\n",
       "      <th>10</th>\n",
       "      <td>SE:9999992</td>\n",
       "      <td>CO:57</td>\n",
       "      <td>correspondencia</td>\n",
       "    </tr>\n",
       "    <tr>\n",
       "      <th>11</th>\n",
       "      <td>SE:9999994</td>\n",
       "      <td>CO:101131</td>\n",
       "      <td>correspondencia</td>\n",
       "    </tr>\n",
       "    <tr>\n",
       "      <th>0</th>\n",
       "      <td>CO:60</td>\n",
       "      <td>CO:253</td>\n",
       "      <td>correspondencia</td>\n",
       "    </tr>\n",
       "  </tbody>\n",
       "</table>\n",
       "</div>"
      ],
      "text/plain": [
       "        source     target            etype\n",
       "0         SE:2  CO:100292  correspondencia\n",
       "1         SE:1      CO:78  correspondencia\n",
       "2     SE:55126      CO:60  correspondencia\n",
       "3     SE:55126     CO:253  correspondencia\n",
       "4   SE:5282726      CO:80  correspondencia\n",
       "5   SE:9999990      CO:81  correspondencia\n",
       "6   SE:7351348     CO:277  correspondencia\n",
       "7   SE:7352253      CO:82  correspondencia\n",
       "8     SE:55143     CO:382  correspondencia\n",
       "9   SE:9999991  CO:101347  correspondencia\n",
       "10  SE:9999992      CO:57  correspondencia\n",
       "11  SE:9999994  CO:101131  correspondencia\n",
       "0        CO:60     CO:253  correspondencia"
      ]
     },
     "execution_count": 48,
     "metadata": {},
     "output_type": "execute_result"
    }
   ],
   "source": [
    "entity_match_df"
   ]
  },
  {
   "cell_type": "markdown",
   "id": "a619a79e",
   "metadata": {},
   "source": [
    "Precisamos também encontrar deputados que viraram senadores e vice-versa"
   ]
  },
  {
   "cell_type": "code",
   "execution_count": 49,
   "id": "8ccfd343",
   "metadata": {},
   "outputs": [
    {
     "data": {
      "application/vnd.microsoft.datawrangler.viewer.v0+json": {
       "columns": [
        {
         "name": "index",
         "rawType": "int64",
         "type": "integer"
        },
        {
         "name": "tag",
         "rawType": "object",
         "type": "string"
        },
        {
         "name": "label",
         "rawType": "object",
         "type": "string"
        },
        {
         "name": "partido",
         "rawType": "object",
         "type": "string"
        },
        {
         "name": "type",
         "rawType": "object",
         "type": "string"
        }
       ],
       "ref": "53dc7a25-f60e-4467-a5f3-5442d5f23294",
       "rows": [
        [
         "27051",
         "CD:66828",
         "FAUSTO RUY PINATO",
         "PP/SP",
         "Deputado"
        ],
        [
         "27052",
         "CD:73463",
         "OSMAR JOSÉ SERRAGLIO",
         "PP/PR",
         "Deputado"
        ],
        [
         "27053",
         "CD:73472",
         "GERVÁSIO JOSÉ DA SILVA",
         "PSDB/SC",
         "Deputado"
        ],
        [
         "27054",
         "CD:73486",
         "DARCI POMPEO DE MATTOS",
         "PDT/RS",
         "Deputado"
        ],
        [
         "27055",
         "CD:73545",
         "EUSTÁQUIO LUCIANO ZICA",
         "PT/SP",
         "Deputado"
        ],
        [
         "27056",
         "CD:74047",
         "PAULO RUBEM SANTIAGO FERREIRA",
         "PDT/PE",
         "Deputado"
        ],
        [
         "27057",
         "CD:74137",
         "LUIZ EDUARDO RODRIGUES GREENHALGH",
         "PT/SP",
         "Deputado"
        ],
        [
         "27058",
         "CD:74218",
         "WALTER DE FREITAS PINHEIRO",
         "PT/BA",
         "Deputado"
        ],
        [
         "27059",
         "CD:74376",
         "VANDER LUIZ DOS SANTOS LOUBET",
         "PT/MS",
         "Deputado"
        ],
        [
         "27060",
         "CD:74491",
         "JOSÉ NAZARENO CARDEAL FONTELES",
         "PT/PI",
         "Deputado"
        ],
        [
         "27061",
         "CD:122974",
         "PEDRO LUCAS ANDRADE FERNANDES RIBEIRO",
         "UNIÃO/MA",
         "Deputado"
        ],
        [
         "27062",
         "CD:133439",
         "ANDRÉ PEIXOTO FIGUEIREDO LIMA",
         "PDT/CE",
         "Deputado"
        ],
        [
         "27063",
         "CD:133810",
         "MARCELO PIRES MORAES",
         "PL/RS",
         "Deputado"
        ],
        [
         "27064",
         "CD:141480",
         "LÁZARO BOTELHO MARTINS",
         "PP/TO",
         "Deputado"
        ],
        [
         "27065",
         "CD:152610",
         "BENEDITO ROBERTO ALVES FERREIRA",
         "PRB/SP",
         "Deputado"
        ],
        [
         "27066",
         "CD:160511",
         "ALESSANDRO LUCCIOLA MOLON",
         "PSB/RJ",
         "Deputado"
        ],
        [
         "27067",
         "CD:160527",
         "AGUINALDO VELLOSO BORGES RIBEIRO",
         "PP/PB",
         "Deputado"
        ],
        [
         "27068",
         "CD:160535",
         "DIONILSO MATEUS MARCON",
         "PT/RS",
         "Deputado"
        ],
        [
         "27069",
         "CD:160552",
         "DANRLEI DE DEUS HINTERHOLZ",
         "PSD/RS",
         "Deputado"
        ],
        [
         "27070",
         "CD:160558",
         "PAULO ROBERTO FREIRE DA COSTA",
         "PL/SP",
         "Deputado"
        ],
        [
         "27071",
         "CD:160575",
         "ÉRIKA JUCÁ KOKAY",
         "PT/DF",
         "Deputado"
        ],
        [
         "27072",
         "CD:160591",
         "VINICIUS DE AZEVEDO GURGEL",
         "PL/AP",
         "Deputado"
        ],
        [
         "27073",
         "CD:160641",
         "MARCIVANIA DO SOCORRO DA ROCHA FLEXA",
         "PCdoB/AP",
         "Deputado"
        ],
        [
         "27074",
         "CD:168175",
         "JOSE SIMPLICIO ALVES DE ARAUJO",
         "SOLIDARIEDADE/MA",
         "Deputado"
        ],
        [
         "27075",
         "CD:178829",
         "JOSE AUGUSTO ROSA",
         "PL/SP",
         "Deputado"
        ],
        [
         "27076",
         "CD:178882",
         "ANDRE LUIZ CARVALHO RIBEIRO",
         "PP/MA",
         "Deputado"
        ],
        [
         "27077",
         "CD:178888",
         "CARLOS VICTOR GUTERRES MENDES",
         "MDB/MA",
         "Deputado"
        ],
        [
         "27078",
         "CD:178895",
         "MISAEL ARTUR FERREIRA VARELLA",
         "PSD/MG",
         "Deputado"
        ],
        [
         "27079",
         "CD:178981",
         "HERCULANO CASTILHO PASSOS JUNIOR",
         "MDB/SP",
         "Deputado"
        ],
        [
         "27080",
         "CD:179001",
         "MARCIO DELLA VALLE BIOLCHI",
         "MDB/RS",
         "Deputado"
        ],
        [
         "27081",
         "CD:191923",
         "FLÁVIO RODRIGUES NOGUEIRA",
         "PT/PI",
         "Deputado"
        ],
        [
         "27082",
         "CD:204351",
         "LUIZ ALBERTO OVANDO",
         "PP/MS",
         "Deputado"
        ],
        [
         "27083",
         "CD:204377",
         "PAULA MORENO PARO BELMONTE",
         "CIDADANIA/DF",
         "Deputado"
        ],
        [
         "27084",
         "CD:204389",
         "ELIAS VAZ DE ANDRADE",
         "PSB/GO",
         "Deputado"
        ],
        [
         "27085",
         "CD:204414",
         "JOSE AROLDO SOUZA MARTINS",
         "PRB/PR",
         "Deputado"
        ],
        [
         "27086",
         "CD:204416",
         "UBIRATAN ANTUNES SANDERSON",
         "PL/RS",
         "Deputado"
        ],
        [
         "27087",
         "CD:204462",
         "CHRISTINE NOGUEIRA DOS REIS TONIETTO",
         "PL/RJ",
         "Deputado"
        ],
        [
         "27088",
         "CD:204468",
         "JOENIA BATISTA DE CARVALHO",
         "REDE/RR",
         "Deputado"
        ],
        [
         "27089",
         "CD:204474",
         "JUAREZ ALVES DA COSTA",
         "MDB/MT",
         "Deputado"
        ],
        [
         "27090",
         "CD:204518",
         "FREDERICO DE CASTRO ESCALEIRA",
         "PATRIOTA/MG",
         "Deputado"
        ],
        [
         "27091",
         "CD:204521",
         "PAULO SERGIO ABOU ANNI",
         "PSL/SP",
         "Deputado"
        ],
        [
         "27092",
         "CD:204526",
         "LUIZ PHILIPPE DE ORLEANS BRAGANÇA",
         "PL/SP",
         "Deputado"
        ],
        [
         "27093",
         "CD:204537",
         "ENRICO VAN BLARCUM DE GRAAFF MISASI",
         "MDB/SP",
         "Deputado"
        ],
        [
         "27094",
         "CD:204573",
         "OTTO ROBERTO MENDONÇA DE ALENCAR FILHO",
         "PSD/BA",
         "Deputado"
        ],
        [
         "27095",
         "CD:212625",
         "ANTONIO ELIZABETH GONÇALO DE SOUSA",
         "PODE/MA",
         "Deputado"
        ],
        [
         "27096",
         "CD:216198",
         "NORMA PETERMANN PEREIRA",
         "PSDB/SC",
         "Deputado"
        ],
        [
         "27097",
         "CD:220602",
         "DIMAS DE PAIVA GADELHA JUNIOR",
         "PT/RJ",
         "Deputado"
        ],
        [
         "27098",
         "CD:220605",
         "EDUARDO CARVALHO BANDEIRA DE MELLO",
         "PSB/RJ",
         "Deputado"
        ],
        [
         "27099",
         "CD:220621",
         "EVANDRO GONÇALVES DA SILVA JÚNIOR",
         "PL/RN",
         "Deputado"
        ],
        [
         "27100",
         "CD:220628",
         "MAURICIO LUIZ DE SOUZA",
         "PL/MG",
         "Deputado"
        ]
       ],
       "shape": {
        "columns": 4,
        "rows": 1048
       }
      },
      "text/html": [
       "<div>\n",
       "<style scoped>\n",
       "    .dataframe tbody tr th:only-of-type {\n",
       "        vertical-align: middle;\n",
       "    }\n",
       "\n",
       "    .dataframe tbody tr th {\n",
       "        vertical-align: top;\n",
       "    }\n",
       "\n",
       "    .dataframe thead th {\n",
       "        text-align: right;\n",
       "    }\n",
       "</style>\n",
       "<table border=\"1\" class=\"dataframe\">\n",
       "  <thead>\n",
       "    <tr style=\"text-align: right;\">\n",
       "      <th></th>\n",
       "      <th>tag</th>\n",
       "      <th>label</th>\n",
       "      <th>partido</th>\n",
       "      <th>type</th>\n",
       "    </tr>\n",
       "  </thead>\n",
       "  <tbody>\n",
       "    <tr>\n",
       "      <th>27051</th>\n",
       "      <td>CD:66828</td>\n",
       "      <td>FAUSTO RUY PINATO</td>\n",
       "      <td>PP/SP</td>\n",
       "      <td>Deputado</td>\n",
       "    </tr>\n",
       "    <tr>\n",
       "      <th>27052</th>\n",
       "      <td>CD:73463</td>\n",
       "      <td>OSMAR JOSÉ SERRAGLIO</td>\n",
       "      <td>PP/PR</td>\n",
       "      <td>Deputado</td>\n",
       "    </tr>\n",
       "    <tr>\n",
       "      <th>27053</th>\n",
       "      <td>CD:73472</td>\n",
       "      <td>GERVÁSIO JOSÉ DA SILVA</td>\n",
       "      <td>PSDB/SC</td>\n",
       "      <td>Deputado</td>\n",
       "    </tr>\n",
       "    <tr>\n",
       "      <th>27054</th>\n",
       "      <td>CD:73486</td>\n",
       "      <td>DARCI POMPEO DE MATTOS</td>\n",
       "      <td>PDT/RS</td>\n",
       "      <td>Deputado</td>\n",
       "    </tr>\n",
       "    <tr>\n",
       "      <th>27055</th>\n",
       "      <td>CD:73545</td>\n",
       "      <td>EUSTÁQUIO LUCIANO ZICA</td>\n",
       "      <td>PT/SP</td>\n",
       "      <td>Deputado</td>\n",
       "    </tr>\n",
       "    <tr>\n",
       "      <th>...</th>\n",
       "      <td>...</td>\n",
       "      <td>...</td>\n",
       "      <td>...</td>\n",
       "      <td>...</td>\n",
       "    </tr>\n",
       "    <tr>\n",
       "      <th>30923</th>\n",
       "      <td>SS:5902</td>\n",
       "      <td>EDUARDO OVÍDIO BORGES DE VELLOSO VIANNA</td>\n",
       "      <td>UNIÃO/AC</td>\n",
       "      <td>Senador</td>\n",
       "    </tr>\n",
       "    <tr>\n",
       "      <th>30924</th>\n",
       "      <td>SS:5936</td>\n",
       "      <td>CARLOS FRANCISCO PORTINHO</td>\n",
       "      <td>PL/RJ</td>\n",
       "      <td>Senador</td>\n",
       "    </tr>\n",
       "    <tr>\n",
       "      <th>30925</th>\n",
       "      <td>SS:5959</td>\n",
       "      <td>EANN STYVENSON VALENTIM MENDES</td>\n",
       "      <td>PSDB/RN</td>\n",
       "      <td>Senador</td>\n",
       "    </tr>\n",
       "    <tr>\n",
       "      <th>30926</th>\n",
       "      <td>SS:6008</td>\n",
       "      <td>ALEXANDRE LUIZ GIORDANO</td>\n",
       "      <td>MDB/SP</td>\n",
       "      <td>Senador</td>\n",
       "    </tr>\n",
       "    <tr>\n",
       "      <th>30927</th>\n",
       "      <td>SS:6295</td>\n",
       "      <td>CARLOS HENRIQUE BAQUETA FÁVARO</td>\n",
       "      <td>PSD/MT</td>\n",
       "      <td>Senador</td>\n",
       "    </tr>\n",
       "  </tbody>\n",
       "</table>\n",
       "<p>1048 rows × 4 columns</p>\n",
       "</div>"
      ],
      "text/plain": [
       "            tag                                    label   partido      type\n",
       "27051  CD:66828                        FAUSTO RUY PINATO     PP/SP  Deputado\n",
       "27052  CD:73463                     OSMAR JOSÉ SERRAGLIO     PP/PR  Deputado\n",
       "27053  CD:73472                   GERVÁSIO JOSÉ DA SILVA   PSDB/SC  Deputado\n",
       "27054  CD:73486                   DARCI POMPEO DE MATTOS    PDT/RS  Deputado\n",
       "27055  CD:73545                   EUSTÁQUIO LUCIANO ZICA     PT/SP  Deputado\n",
       "...         ...                                      ...       ...       ...\n",
       "30923   SS:5902  EDUARDO OVÍDIO BORGES DE VELLOSO VIANNA  UNIÃO/AC   Senador\n",
       "30924   SS:5936                CARLOS FRANCISCO PORTINHO     PL/RJ   Senador\n",
       "30925   SS:5959           EANN STYVENSON VALENTIM MENDES   PSDB/RN   Senador\n",
       "30926   SS:6008                  ALEXANDRE LUIZ GIORDANO    MDB/SP   Senador\n",
       "30927   SS:6295           CARLOS HENRIQUE BAQUETA FÁVARO    PSD/MT   Senador\n",
       "\n",
       "[1048 rows x 4 columns]"
      ]
     },
     "execution_count": 49,
     "metadata": {},
     "output_type": "execute_result"
    }
   ],
   "source": [
    "nodes_df[nodes_df['type'].isin(('Deputado', 'Senador'))]"
   ]
  },
  {
   "cell_type": "code",
   "execution_count": 50,
   "id": "ac42f6e0",
   "metadata": {},
   "outputs": [],
   "source": [
    "import Levenshtein as lv\n",
    "\n",
    "def score_similarity(s1: str, s2: str) -> float:\n",
    "    distance = lv.distance(s1, s2)\n",
    "    return (1 - distance / max(len(s1), len(s2)))"
   ]
  },
  {
   "cell_type": "code",
   "execution_count": 51,
   "id": "c53c5843",
   "metadata": {},
   "outputs": [],
   "source": [
    "sim_rows = []\n",
    "sen_labels = nodes_df[nodes_df['type'].eq('Senador')]['label'].values\n",
    "sen_tags = nodes_df[nodes_df['type'].eq('Senador')]['tag'].values\n",
    "\n",
    "dep_labels = nodes_df[nodes_df['type'].eq('Deputado')]['label'].values\n",
    "dep_tags = nodes_df[nodes_df['type'].eq('Deputado')]['tag'].values\n",
    "\n",
    "for sl, st in zip(sen_labels, sen_tags):\n",
    "    for dl, dt in zip(dep_labels, dep_tags):\n",
    "        sim_rows.append({\n",
    "            'sen_label': sl,\n",
    "            'sen_tag': st,\n",
    "            'dep_label': dl,\n",
    "            'dep_tag': dt,\n",
    "            'sim_score': score_similarity(sl, dl),\n",
    "        })"
   ]
  },
  {
   "cell_type": "code",
   "execution_count": null,
   "id": "21a396c4",
   "metadata": {},
   "outputs": [],
   "source": []
  },
  {
   "cell_type": "code",
   "execution_count": 52,
   "id": "ff851e59",
   "metadata": {},
   "outputs": [
    {
     "data": {
      "application/vnd.microsoft.datawrangler.viewer.v0+json": {
       "columns": [
        {
         "name": "index",
         "rawType": "int64",
         "type": "integer"
        },
        {
         "name": "sen_label",
         "rawType": "object",
         "type": "string"
        },
        {
         "name": "sen_tag",
         "rawType": "object",
         "type": "string"
        },
        {
         "name": "dep_label",
         "rawType": "object",
         "type": "string"
        },
        {
         "name": "dep_tag",
         "rawType": "object",
         "type": "string"
        },
        {
         "name": "sim_score",
         "rawType": "float64",
         "type": "float"
        }
       ],
       "ref": "f3e7846c-6848-4db6-8ac2-aba4013579c4",
       "rows": [
        [
         "103758",
         "ESPERIDIÃO AMIN HELOU FILHO",
         "SS:22",
         "ESPERIDIÃO AMIN HELOU FILHO",
         "CD:160649",
         "1.0"
        ],
        [
         "71067",
         "EFRAIM DE ARAÚJO MORAIS FILHO",
         "SS:4642",
         "EFRAIM DE ARAÚJO MORAIS FILHO",
         "CD:141422",
         "1.0"
        ],
        [
         "11465",
         "MARIA AUXILIADORA SEABRA REZENDE",
         "SS:5386",
         "MARIA AUXILIADORA SEABRA REZENDE",
         "CD:160639",
         "1.0"
        ],
        [
         "30400",
         "MARA CRISTINA GABRILLI",
         "SS:5376",
         "MARA CRISTINA GABRILLI",
         "CD:160565",
         "1.0"
        ],
        [
         "92393",
         "JOSÉ ROBERTO OLIVEIRA FARO",
         "SS:4639",
         "JOSÉ ROBERTO OLIVEIRA FARO",
         "CD:141335",
         "1.0"
        ],
        [
         "65878",
         "TEREZA CRISTINA CORREA DA COSTA DIAS",
         "SS:5736",
         "TEREZA CRISTINA CORREA DA COSTA DIAS",
         "CD:178901",
         "1.0"
        ],
        [
         "79926",
         "FABIO PAULINO GARCIA",
         "SS:5740",
         "FABIO PAULINO GARCIA",
         "CD:178905",
         "1.0"
        ],
        [
         "43264",
         "JORGINHO DOS SANTOS MELLO",
         "SS:5350",
         "JORGINHO DOS SANTOS MELLO",
         "CD:160509",
         "1.0"
        ],
        [
         "54295",
         "ROGÉRIO CARVALHO SANTOS",
         "SS:5352",
         "ROGÉRIO CARVALHO SANTOS",
         "CD:160568",
         "1.0"
        ],
        [
         "61274",
         "ROMARIO DE SOUZA FARIA",
         "SS:5322",
         "ROMARIO DE SOUZA FARIA",
         "CD:160597",
         "1.0"
        ],
        [
         "22594",
         "WELLINGTON ANTONIO FAGUNDES",
         "SS:1173",
         "WELLINGTON ANTONIO FAGUNDES",
         "CD:73653",
         "1.0"
        ],
        [
         "112789",
         "ALAN RICK MIRANDA",
         "SS:5672",
         "ALAN RICK MIRANDA",
         "CD:178836",
         "1.0"
        ],
        [
         "114756",
         "EDUARDO OVÍDIO BORGES DE VELLOSO VIANNA",
         "SS:5902",
         "EDUARDO OVÍDIO BORGES DE VELLOSO VIANNA",
         "CD:220589",
         "1.0"
        ],
        [
         "66722",
         "HIRAN MANUEL GONÇALVES DA SILVA",
         "SS:5793",
         "HIRAN MANUEL GONCALVES DA SILVA",
         "CD:178959",
         "0.967741935483871"
        ],
        [
         "723",
         "LAÉRCIO JOSÉ DE OLIVEIRA",
         "SS:4811",
         "LAERCIO JOSÉ DE OLIVEIRA",
         "CD:151208",
         "0.9583333333333334"
        ],
        [
         "85857",
         "JOSÉ RENAN VASCONCELOS CALHEIROS",
         "SS:70",
         "JOSÉ RENAN VASCONCELOS CALHEIROS FILHO",
         "CD:160623",
         "0.8421052631578947"
        ],
        [
         "19342",
         "OTTO ROBERTO MENDONÇA DE ALENCAR",
         "SS:5523",
         "OTTO ROBERTO MENDONÇA DE ALENCAR FILHO",
         "CD:204573",
         "0.8421052631578947"
        ],
        [
         "94402",
         "FERNANDO BEZERRA DE SOUZA COELHO",
         "SS:5540",
         "FERNANDO BEZERRA DE SOUZA COELHO FILHO",
         "CD:141431",
         "0.8421052631578947"
        ],
        [
         "47804",
         "DANIELLA VELLOSO BORGES RIBEIRO",
         "SS:5998",
         "AGUINALDO VELLOSO BORGES RIBEIRO",
         "CD:160527",
         "0.78125"
        ],
        [
         "59402",
         "CARLOS ALBERTO DIAS VIANA",
         "SS:5990",
         "CARLOS ALBERTO DA CUNHA",
         "CD:220649",
         "0.76"
        ],
        [
         "67695",
         "FLÁVIO NANTES BOLSONARO",
         "SS:5894",
         "EDUARDO NANTES BOLSONARO",
         "CD:92346",
         "0.75"
        ],
        [
         "43942",
         "JORGINHO DOS SANTOS MELLO",
         "SS:5350",
         "JOSIVALDO DOS SANTOS MELO",
         "CD:215043",
         "0.72"
        ],
        [
         "85832",
         "JOSÉ RENAN VASCONCELOS CALHEIROS",
         "SS:70",
         "RENILDO VASCONCELOS CALHEIROS",
         "CD:73801",
         "0.71875"
        ],
        [
         "81046",
         "CID FERREIRA GOMES",
         "SS:5973",
         "ANÍBAL FERREIRA GOMES",
         "CD:74212",
         "0.7142857142857143"
        ],
        [
         "12042",
         "LUIZ CARLOS DO CARMO",
         "SS:5585",
         "LUIZ CARLOS MOTTA",
         "CD:204485",
         "0.7"
        ],
        [
         "90081",
         "PAULO ROBERTO GALVÃO DA ROCHA",
         "SS:374",
         "PAULO ROBERTO FREIRE DA COSTA",
         "CD:160558",
         "0.6896551724137931"
        ],
        [
         "60925",
         "ROMARIO DE SOUZA FARIA",
         "SS:5322",
         "RICARDO DE SOUZA COSTA",
         "CD:211649",
         "0.6818181818181819"
        ],
        [
         "605",
         "LAÉRCIO JOSÉ DE OLIVEIRA",
         "SS:4811",
         "EUNÍCIO LOPES DE OLIVEIRA",
         "CD:74454",
         "0.6799999999999999"
        ],
        [
         "63215",
         "TELMÁRIO MOTA DE OLIVEIRA",
         "SS:5535",
         "LAERCIO JOSÉ DE OLIVEIRA",
         "CD:151208",
         "0.6799999999999999"
        ],
        [
         "59623",
         "CARLOS ALBERTO DIAS VIANA",
         "SS:5990",
         "CARLOS ALBERTO RICHA",
         "CD:220683",
         "0.6799999999999999"
        ],
        [
         "59657",
         "CARLOS ALBERTO DIAS VIANA",
         "SS:5990",
         "CARLOS ALBERTO CHIODINI",
         "CD:204361",
         "0.6799999999999999"
        ],
        [
         "12060",
         "LUIZ CARLOS DO CARMO",
         "SS:5585",
         "LUIZ CARLOS JORGE HAULY",
         "CD:73778",
         "0.6521739130434783"
        ],
        [
         "63097",
         "TELMÁRIO MOTA DE OLIVEIRA",
         "SS:5535",
         "EUNÍCIO LOPES DE OLIVEIRA",
         "CD:74454",
         "0.64"
        ],
        [
         "110409",
         "AROLDE DE OLIVEIRA",
         "SS:751",
         "WALDIR SOARES DE OLIVEIRA",
         "CD:164359",
         "0.64"
        ],
        [
         "49749",
         "MAGNO PEREIRA MALTA",
         "SS:631",
         "PAULO PEREIRA DA SILVA",
         "CD:141518",
         "0.6363636363636364"
        ],
        [
         "88352",
         "ALEXANDRE SILVEIRA DE OLIVEIRA",
         "SS:4610",
         "RONALDO NOGUEIRA DE OLIVEIRA",
         "CD:163321",
         "0.6333333333333333"
        ],
        [
         "118450",
         "CARLOS HENRIQUE BAQUETA FÁVARO",
         "SS:6295",
         "CARLOS HENRIQUE FOCESI SAMPAIO",
         "CD:74262",
         "0.6333333333333333"
        ],
        [
         "35261",
         "JOSE WILSON SIQUEIRA CAMPOS",
         "SS:6005",
         "JOSEILDO RIBEIRO RAMOS",
         "CD:209189",
         "0.6296296296296297"
        ],
        [
         "113902",
         "VANDERLAN VIEIRA CARDOSO",
         "SS:5899",
         "DANIEL VIEIRA RAMOS",
         "CD:220571",
         "0.625"
        ],
        [
         "58467",
         "ALESSANDRO VIEIRA",
         "SS:5982",
         "ALESSANDRA SILVA RIBEIRO",
         "CD:204545",
         "0.625"
        ],
        [
         "111003",
         "AROLDE DE OLIVEIRA",
         "SS:751",
         "LAERCIO JOSÉ DE OLIVEIRA",
         "CD:151208",
         "0.625"
        ],
        [
         "87003",
         "FRANCISCO DE ASSIS RODRIGUES",
         "SS:470",
         "FRANCISCO DE ASSIS CARVALHO GONÇALVES",
         "CD:159237",
         "0.6216216216216216"
        ],
        [
         "64275",
         "MAILZA ASSIS DA SILVA",
         "SS:5557",
         "SILVYE ALVES DA SILVA",
         "CD:220569",
         "0.6190476190476191"
        ],
        [
         "85019",
         "MAURO CARVALHO JUNIOR",
         "SS:6362",
         "MARIO PALUMBO JUNIOR",
         "CD:220652",
         "0.6190476190476191"
        ],
        [
         "3245",
         "MARCOS RIBEIRO DO VAL",
         "SS:5942",
         "MAURO RIBEIRO LOPES",
         "CD:74749",
         "0.6190476190476191"
        ],
        [
         "89656",
         "ELMANO FÉRRER DE ALMEIDA",
         "SS:5531",
         "FELÍCIO LATERÇA DE ALMEIDA",
         "CD:204477",
         "0.6153846153846154"
        ],
        [
         "4830",
         "ANTÔNIO MECIAS PEREIRA DE JESUS",
         "SS:6027",
         "JOHNATHAN PEREIRA DE JESUS",
         "CD:160531",
         "0.6129032258064516"
        ],
        [
         "17556",
         "LUIS CARLOS HEINZE",
         "SS:1186",
         "LUIZ CARLOS MOTTA",
         "CD:204485",
         "0.6111111111111112"
        ],
        [
         "87303",
         "FRANCISCO DE ASSIS RODRIGUES",
         "SS:470",
         "FRANCISCO DE ASSIS DE OLIVEIRA COSTA",
         "CD:220688",
         "0.6111111111111112"
        ],
        [
         "84622",
         "MAURO CARVALHO JUNIOR",
         "SS:6362",
         "ROGÉRIO CARVALHO SANTOS",
         "CD:160568",
         "0.6086956521739131"
        ]
       ],
       "shape": {
        "columns": 5,
        "rows": 118551
       }
      },
      "text/html": [
       "<div>\n",
       "<style scoped>\n",
       "    .dataframe tbody tr th:only-of-type {\n",
       "        vertical-align: middle;\n",
       "    }\n",
       "\n",
       "    .dataframe tbody tr th {\n",
       "        vertical-align: top;\n",
       "    }\n",
       "\n",
       "    .dataframe thead th {\n",
       "        text-align: right;\n",
       "    }\n",
       "</style>\n",
       "<table border=\"1\" class=\"dataframe\">\n",
       "  <thead>\n",
       "    <tr style=\"text-align: right;\">\n",
       "      <th></th>\n",
       "      <th>sen_label</th>\n",
       "      <th>sen_tag</th>\n",
       "      <th>dep_label</th>\n",
       "      <th>dep_tag</th>\n",
       "      <th>sim_score</th>\n",
       "    </tr>\n",
       "  </thead>\n",
       "  <tbody>\n",
       "    <tr>\n",
       "      <th>103758</th>\n",
       "      <td>ESPERIDIÃO AMIN HELOU FILHO</td>\n",
       "      <td>SS:22</td>\n",
       "      <td>ESPERIDIÃO AMIN HELOU FILHO</td>\n",
       "      <td>CD:160649</td>\n",
       "      <td>1.0</td>\n",
       "    </tr>\n",
       "    <tr>\n",
       "      <th>71067</th>\n",
       "      <td>EFRAIM DE ARAÚJO MORAIS FILHO</td>\n",
       "      <td>SS:4642</td>\n",
       "      <td>EFRAIM DE ARAÚJO MORAIS FILHO</td>\n",
       "      <td>CD:141422</td>\n",
       "      <td>1.0</td>\n",
       "    </tr>\n",
       "    <tr>\n",
       "      <th>11465</th>\n",
       "      <td>MARIA AUXILIADORA SEABRA REZENDE</td>\n",
       "      <td>SS:5386</td>\n",
       "      <td>MARIA AUXILIADORA SEABRA REZENDE</td>\n",
       "      <td>CD:160639</td>\n",
       "      <td>1.0</td>\n",
       "    </tr>\n",
       "    <tr>\n",
       "      <th>30400</th>\n",
       "      <td>MARA CRISTINA GABRILLI</td>\n",
       "      <td>SS:5376</td>\n",
       "      <td>MARA CRISTINA GABRILLI</td>\n",
       "      <td>CD:160565</td>\n",
       "      <td>1.0</td>\n",
       "    </tr>\n",
       "    <tr>\n",
       "      <th>92393</th>\n",
       "      <td>JOSÉ ROBERTO OLIVEIRA FARO</td>\n",
       "      <td>SS:4639</td>\n",
       "      <td>JOSÉ ROBERTO OLIVEIRA FARO</td>\n",
       "      <td>CD:141335</td>\n",
       "      <td>1.0</td>\n",
       "    </tr>\n",
       "    <tr>\n",
       "      <th>...</th>\n",
       "      <td>...</td>\n",
       "      <td>...</td>\n",
       "      <td>...</td>\n",
       "      <td>...</td>\n",
       "      <td>...</td>\n",
       "    </tr>\n",
       "    <tr>\n",
       "      <th>28018</th>\n",
       "      <td>ORIOVISTO GUIMARAES</td>\n",
       "      <td>SS:5924</td>\n",
       "      <td>NEY LEPREVOST NETO</td>\n",
       "      <td>CD:204384</td>\n",
       "      <td>0.0</td>\n",
       "    </tr>\n",
       "    <tr>\n",
       "      <th>28389</th>\n",
       "      <td>ORIOVISTO GUIMARAES</td>\n",
       "      <td>SS:5924</td>\n",
       "      <td>JUTAHY MAGALHÃES JÚNIOR</td>\n",
       "      <td>CD:74570</td>\n",
       "      <td>0.0</td>\n",
       "    </tr>\n",
       "    <tr>\n",
       "      <th>27965</th>\n",
       "      <td>ORIOVISTO GUIMARAES</td>\n",
       "      <td>SS:5924</td>\n",
       "      <td>DANIEL PIRES COELHO</td>\n",
       "      <td>CD:178916</td>\n",
       "      <td>0.0</td>\n",
       "    </tr>\n",
       "    <tr>\n",
       "      <th>52352</th>\n",
       "      <td>ACIR MARCOS GURGACZ</td>\n",
       "      <td>SS:4981</td>\n",
       "      <td>MILTON VIEIRA PINTO</td>\n",
       "      <td>CD:154178</td>\n",
       "      <td>0.0</td>\n",
       "    </tr>\n",
       "    <tr>\n",
       "      <th>6528</th>\n",
       "      <td>JORGE SEIF JÚNIOR</td>\n",
       "      <td>SS:6342</td>\n",
       "      <td>LUIZ CARLOS MOTTA</td>\n",
       "      <td>CD:204485</td>\n",
       "      <td>0.0</td>\n",
       "    </tr>\n",
       "  </tbody>\n",
       "</table>\n",
       "<p>118551 rows × 5 columns</p>\n",
       "</div>"
      ],
      "text/plain": [
       "                               sen_label  sen_tag  \\\n",
       "103758       ESPERIDIÃO AMIN HELOU FILHO    SS:22   \n",
       "71067      EFRAIM DE ARAÚJO MORAIS FILHO  SS:4642   \n",
       "11465   MARIA AUXILIADORA SEABRA REZENDE  SS:5386   \n",
       "30400             MARA CRISTINA GABRILLI  SS:5376   \n",
       "92393         JOSÉ ROBERTO OLIVEIRA FARO  SS:4639   \n",
       "...                                  ...      ...   \n",
       "28018                ORIOVISTO GUIMARAES  SS:5924   \n",
       "28389                ORIOVISTO GUIMARAES  SS:5924   \n",
       "27965                ORIOVISTO GUIMARAES  SS:5924   \n",
       "52352                ACIR MARCOS GURGACZ  SS:4981   \n",
       "6528                   JORGE SEIF JÚNIOR  SS:6342   \n",
       "\n",
       "                               dep_label    dep_tag  sim_score  \n",
       "103758       ESPERIDIÃO AMIN HELOU FILHO  CD:160649        1.0  \n",
       "71067      EFRAIM DE ARAÚJO MORAIS FILHO  CD:141422        1.0  \n",
       "11465   MARIA AUXILIADORA SEABRA REZENDE  CD:160639        1.0  \n",
       "30400             MARA CRISTINA GABRILLI  CD:160565        1.0  \n",
       "92393         JOSÉ ROBERTO OLIVEIRA FARO  CD:141335        1.0  \n",
       "...                                  ...        ...        ...  \n",
       "28018                 NEY LEPREVOST NETO  CD:204384        0.0  \n",
       "28389            JUTAHY MAGALHÃES JÚNIOR   CD:74570        0.0  \n",
       "27965                DANIEL PIRES COELHO  CD:178916        0.0  \n",
       "52352                MILTON VIEIRA PINTO  CD:154178        0.0  \n",
       "6528                   LUIZ CARLOS MOTTA  CD:204485        0.0  \n",
       "\n",
       "[118551 rows x 5 columns]"
      ]
     },
     "execution_count": 52,
     "metadata": {},
     "output_type": "execute_result"
    }
   ],
   "source": [
    "sim_df = pd.DataFrame(sim_rows).sort_values('sim_score', ascending=False)\n",
    "sim_df"
   ]
  },
  {
   "cell_type": "markdown",
   "id": "deb1459c",
   "metadata": {},
   "source": [
    "Vamos considerar apenas os que tiveram similaridade de 0.95 ou mais, como mostram os dados."
   ]
  },
  {
   "cell_type": "code",
   "execution_count": 53,
   "id": "f3902a2c",
   "metadata": {},
   "outputs": [
    {
     "data": {
      "application/vnd.microsoft.datawrangler.viewer.v0+json": {
       "columns": [
        {
         "name": "index",
         "rawType": "int64",
         "type": "integer"
        },
        {
         "name": "source",
         "rawType": "object",
         "type": "string"
        },
        {
         "name": "target",
         "rawType": "object",
         "type": "string"
        },
        {
         "name": "etype",
         "rawType": "object",
         "type": "string"
        }
       ],
       "ref": "33fc085f-9a53-44bf-8450-a352b58e7bce",
       "rows": [
        [
         "0",
         "CD:160655",
         "CP:538196",
         "autoria"
        ],
        [
         "1",
         "CD:141488",
         "CP:559138",
         "autoria"
        ],
        [
         "2",
         "CD:73584",
         "CP:593065",
         "autoria"
        ],
        [
         "3",
         "CD:160518",
         "CP:601739",
         "autoria"
        ],
        [
         "4",
         "CD:151208",
         "CP:614512",
         "autoria"
        ],
        [
         "5",
         "CD:73466",
         "CP:946475",
         "autoria"
        ],
        [
         "6",
         "CD:178862",
         "CP:1301128",
         "autoria"
        ],
        [
         "7",
         "CD:74570",
         "CP:1555295",
         "autoria"
        ],
        [
         "8",
         "CD:160512",
         "CP:1555470",
         "autoria"
        ],
        [
         "9",
         "CD:160565",
         "CP:2074843",
         "autoria"
        ],
        [
         "10",
         "CD:178866",
         "CP:2075821",
         "autoria"
        ],
        [
         "11",
         "CD:141383",
         "CP:2077498",
         "autoria"
        ],
        [
         "12",
         "CD:160621",
         "CP:2092056",
         "autoria"
        ],
        [
         "13",
         "CD:178956",
         "CP:2116186",
         "autoria"
        ],
        [
         "14",
         "CD:177282",
         "CP:2142126",
         "autoria"
        ],
        [
         "15",
         "CD:160653",
         "CP:2184458",
         "autoria"
        ],
        [
         "16",
         "CD:204488",
         "CP:538196",
         "autoria"
        ],
        [
         "17",
         "CD:74047",
         "CP:559138",
         "autoria"
        ],
        [
         "18",
         "CD:160655",
         "CP:601739",
         "autoria"
        ],
        [
         "19",
         "CD:178834",
         "CP:1301128",
         "autoria"
        ],
        [
         "20",
         "CD:160556",
         "CP:559138",
         "autoria"
        ],
        [
         "21",
         "CD:160644",
         "CP:559138",
         "autoria"
        ],
        [
         "22",
         "CD:74784",
         "CP:559138",
         "autoria"
        ],
        [
         "23",
         "CD:74037",
         "CP:559138",
         "autoria"
        ],
        [
         "24",
         "CD:141386",
         "CP:559138",
         "autoria"
        ],
        [
         "25",
         "CD:160538",
         "CP:559138",
         "autoria"
        ],
        [
         "26",
         "CD:178879",
         "CP:2187087",
         "autoria"
        ],
        [
         "27",
         "CD:204553",
         "CP:2190408",
         "autoria"
        ],
        [
         "28",
         "CD:204546",
         "CP:2190417",
         "autoria"
        ],
        [
         "29",
         "CD:204532",
         "CP:2190423",
         "autoria"
        ],
        [
         "30",
         "CD:160518",
         "CP:2190450",
         "autoria"
        ],
        [
         "31",
         "CD:204381",
         "CP:2190462",
         "autoria"
        ],
        [
         "32",
         "CD:204536",
         "CP:2190472",
         "autoria"
        ],
        [
         "33",
         "CD:204494",
         "CP:2190495",
         "autoria"
        ],
        [
         "34",
         "CD:204530",
         "CP:2190519",
         "autoria"
        ],
        [
         "35",
         "CD:204530",
         "CP:2190532",
         "autoria"
        ],
        [
         "36",
         "CD:205535",
         "CP:2190556",
         "autoria"
        ],
        [
         "37",
         "CD:178989",
         "CP:2190579",
         "autoria"
        ],
        [
         "38",
         "CD:178989",
         "CP:2190585",
         "autoria"
        ],
        [
         "39",
         "CD:178989",
         "CP:2190590",
         "autoria"
        ],
        [
         "40",
         "CD:178989",
         "CP:2190598",
         "autoria"
        ],
        [
         "41",
         "CD:178989",
         "CP:2190603",
         "autoria"
        ],
        [
         "42",
         "CD:178989",
         "CP:2190619",
         "autoria"
        ],
        [
         "43",
         "CD:204391",
         "CP:2190651",
         "autoria"
        ],
        [
         "44",
         "CD:204391",
         "CP:2190661",
         "autoria"
        ],
        [
         "45",
         "CD:204508",
         "CP:2190692",
         "autoria"
        ],
        [
         "46",
         "CD:160653",
         "CP:2190701",
         "autoria"
        ],
        [
         "47",
         "CD:160653",
         "CP:2190718",
         "autoria"
        ],
        [
         "48",
         "CD:160653",
         "CP:2190726",
         "autoria"
        ],
        [
         "49",
         "CD:160653",
         "CP:2190729",
         "autoria"
        ]
       ],
       "shape": {
        "columns": 3,
        "rows": 49842
       }
      },
      "text/html": [
       "<div>\n",
       "<style scoped>\n",
       "    .dataframe tbody tr th:only-of-type {\n",
       "        vertical-align: middle;\n",
       "    }\n",
       "\n",
       "    .dataframe tbody tr th {\n",
       "        vertical-align: top;\n",
       "    }\n",
       "\n",
       "    .dataframe thead th {\n",
       "        text-align: right;\n",
       "    }\n",
       "</style>\n",
       "<table border=\"1\" class=\"dataframe\">\n",
       "  <thead>\n",
       "    <tr style=\"text-align: right;\">\n",
       "      <th></th>\n",
       "      <th>source</th>\n",
       "      <th>target</th>\n",
       "      <th>etype</th>\n",
       "    </tr>\n",
       "  </thead>\n",
       "  <tbody>\n",
       "    <tr>\n",
       "      <th>0</th>\n",
       "      <td>CD:160655</td>\n",
       "      <td>CP:538196</td>\n",
       "      <td>autoria</td>\n",
       "    </tr>\n",
       "    <tr>\n",
       "      <th>1</th>\n",
       "      <td>CD:141488</td>\n",
       "      <td>CP:559138</td>\n",
       "      <td>autoria</td>\n",
       "    </tr>\n",
       "    <tr>\n",
       "      <th>2</th>\n",
       "      <td>CD:73584</td>\n",
       "      <td>CP:593065</td>\n",
       "      <td>autoria</td>\n",
       "    </tr>\n",
       "    <tr>\n",
       "      <th>3</th>\n",
       "      <td>CD:160518</td>\n",
       "      <td>CP:601739</td>\n",
       "      <td>autoria</td>\n",
       "    </tr>\n",
       "    <tr>\n",
       "      <th>4</th>\n",
       "      <td>CD:151208</td>\n",
       "      <td>CP:614512</td>\n",
       "      <td>autoria</td>\n",
       "    </tr>\n",
       "    <tr>\n",
       "      <th>...</th>\n",
       "      <td>...</td>\n",
       "      <td>...</td>\n",
       "      <td>...</td>\n",
       "    </tr>\n",
       "    <tr>\n",
       "      <th>49837</th>\n",
       "      <td>SS:6335</td>\n",
       "      <td>SP:8730961</td>\n",
       "      <td>autoria</td>\n",
       "    </tr>\n",
       "    <tr>\n",
       "      <th>49838</th>\n",
       "      <td>SS:5502</td>\n",
       "      <td>SP:8730961</td>\n",
       "      <td>autoria</td>\n",
       "    </tr>\n",
       "    <tr>\n",
       "      <th>49839</th>\n",
       "      <td>SS:6341</td>\n",
       "      <td>SP:8730961</td>\n",
       "      <td>autoria</td>\n",
       "    </tr>\n",
       "    <tr>\n",
       "      <th>49840</th>\n",
       "      <td>SS:6009</td>\n",
       "      <td>SP:8730961</td>\n",
       "      <td>autoria</td>\n",
       "    </tr>\n",
       "    <tr>\n",
       "      <th>49841</th>\n",
       "      <td>SS:6027</td>\n",
       "      <td>SP:8730961</td>\n",
       "      <td>autoria</td>\n",
       "    </tr>\n",
       "  </tbody>\n",
       "</table>\n",
       "<p>49842 rows × 3 columns</p>\n",
       "</div>"
      ],
      "text/plain": [
       "          source      target    etype\n",
       "0      CD:160655   CP:538196  autoria\n",
       "1      CD:141488   CP:559138  autoria\n",
       "2       CD:73584   CP:593065  autoria\n",
       "3      CD:160518   CP:601739  autoria\n",
       "4      CD:151208   CP:614512  autoria\n",
       "...          ...         ...      ...\n",
       "49837    SS:6335  SP:8730961  autoria\n",
       "49838    SS:5502  SP:8730961  autoria\n",
       "49839    SS:6341  SP:8730961  autoria\n",
       "49840    SS:6009  SP:8730961  autoria\n",
       "49841    SS:6027  SP:8730961  autoria\n",
       "\n",
       "[49842 rows x 3 columns]"
      ]
     },
     "execution_count": 53,
     "metadata": {},
     "output_type": "execute_result"
    }
   ],
   "source": [
    "edges_df"
   ]
  },
  {
   "cell_type": "code",
   "execution_count": 54,
   "id": "df9fe89e",
   "metadata": {},
   "outputs": [
    {
     "data": {
      "application/vnd.microsoft.datawrangler.viewer.v0+json": {
       "columns": [
        {
         "name": "index",
         "rawType": "int64",
         "type": "integer"
        },
        {
         "name": "source",
         "rawType": "object",
         "type": "string"
        },
        {
         "name": "target",
         "rawType": "object",
         "type": "string"
        },
        {
         "name": "etype",
         "rawType": "object",
         "type": "string"
        }
       ],
       "ref": "c7b9f3ea-0ea4-4bdb-a2f3-366239cbb83a",
       "rows": [
        [
         "0",
         "SS:22",
         "CD:160649",
         "correspondencia"
        ],
        [
         "1",
         "SS:4642",
         "CD:141422",
         "correspondencia"
        ],
        [
         "2",
         "SS:5386",
         "CD:160639",
         "correspondencia"
        ],
        [
         "3",
         "SS:5376",
         "CD:160565",
         "correspondencia"
        ],
        [
         "4",
         "SS:4639",
         "CD:141335",
         "correspondencia"
        ],
        [
         "5",
         "SS:5736",
         "CD:178901",
         "correspondencia"
        ],
        [
         "6",
         "SS:5740",
         "CD:178905",
         "correspondencia"
        ],
        [
         "7",
         "SS:5350",
         "CD:160509",
         "correspondencia"
        ],
        [
         "8",
         "SS:5352",
         "CD:160568",
         "correspondencia"
        ],
        [
         "9",
         "SS:5322",
         "CD:160597",
         "correspondencia"
        ],
        [
         "10",
         "SS:1173",
         "CD:73653",
         "correspondencia"
        ],
        [
         "11",
         "SS:5672",
         "CD:178836",
         "correspondencia"
        ],
        [
         "12",
         "SS:5902",
         "CD:220589",
         "correspondencia"
        ],
        [
         "13",
         "SS:5793",
         "CD:178959",
         "correspondencia"
        ],
        [
         "14",
         "SS:4811",
         "CD:151208",
         "correspondencia"
        ]
       ],
       "shape": {
        "columns": 3,
        "rows": 15
       }
      },
      "text/html": [
       "<div>\n",
       "<style scoped>\n",
       "    .dataframe tbody tr th:only-of-type {\n",
       "        vertical-align: middle;\n",
       "    }\n",
       "\n",
       "    .dataframe tbody tr th {\n",
       "        vertical-align: top;\n",
       "    }\n",
       "\n",
       "    .dataframe thead th {\n",
       "        text-align: right;\n",
       "    }\n",
       "</style>\n",
       "<table border=\"1\" class=\"dataframe\">\n",
       "  <thead>\n",
       "    <tr style=\"text-align: right;\">\n",
       "      <th></th>\n",
       "      <th>source</th>\n",
       "      <th>target</th>\n",
       "      <th>etype</th>\n",
       "    </tr>\n",
       "  </thead>\n",
       "  <tbody>\n",
       "    <tr>\n",
       "      <th>0</th>\n",
       "      <td>SS:22</td>\n",
       "      <td>CD:160649</td>\n",
       "      <td>correspondencia</td>\n",
       "    </tr>\n",
       "    <tr>\n",
       "      <th>1</th>\n",
       "      <td>SS:4642</td>\n",
       "      <td>CD:141422</td>\n",
       "      <td>correspondencia</td>\n",
       "    </tr>\n",
       "    <tr>\n",
       "      <th>2</th>\n",
       "      <td>SS:5386</td>\n",
       "      <td>CD:160639</td>\n",
       "      <td>correspondencia</td>\n",
       "    </tr>\n",
       "    <tr>\n",
       "      <th>3</th>\n",
       "      <td>SS:5376</td>\n",
       "      <td>CD:160565</td>\n",
       "      <td>correspondencia</td>\n",
       "    </tr>\n",
       "    <tr>\n",
       "      <th>4</th>\n",
       "      <td>SS:4639</td>\n",
       "      <td>CD:141335</td>\n",
       "      <td>correspondencia</td>\n",
       "    </tr>\n",
       "    <tr>\n",
       "      <th>5</th>\n",
       "      <td>SS:5736</td>\n",
       "      <td>CD:178901</td>\n",
       "      <td>correspondencia</td>\n",
       "    </tr>\n",
       "    <tr>\n",
       "      <th>6</th>\n",
       "      <td>SS:5740</td>\n",
       "      <td>CD:178905</td>\n",
       "      <td>correspondencia</td>\n",
       "    </tr>\n",
       "    <tr>\n",
       "      <th>7</th>\n",
       "      <td>SS:5350</td>\n",
       "      <td>CD:160509</td>\n",
       "      <td>correspondencia</td>\n",
       "    </tr>\n",
       "    <tr>\n",
       "      <th>8</th>\n",
       "      <td>SS:5352</td>\n",
       "      <td>CD:160568</td>\n",
       "      <td>correspondencia</td>\n",
       "    </tr>\n",
       "    <tr>\n",
       "      <th>9</th>\n",
       "      <td>SS:5322</td>\n",
       "      <td>CD:160597</td>\n",
       "      <td>correspondencia</td>\n",
       "    </tr>\n",
       "    <tr>\n",
       "      <th>10</th>\n",
       "      <td>SS:1173</td>\n",
       "      <td>CD:73653</td>\n",
       "      <td>correspondencia</td>\n",
       "    </tr>\n",
       "    <tr>\n",
       "      <th>11</th>\n",
       "      <td>SS:5672</td>\n",
       "      <td>CD:178836</td>\n",
       "      <td>correspondencia</td>\n",
       "    </tr>\n",
       "    <tr>\n",
       "      <th>12</th>\n",
       "      <td>SS:5902</td>\n",
       "      <td>CD:220589</td>\n",
       "      <td>correspondencia</td>\n",
       "    </tr>\n",
       "    <tr>\n",
       "      <th>13</th>\n",
       "      <td>SS:5793</td>\n",
       "      <td>CD:178959</td>\n",
       "      <td>correspondencia</td>\n",
       "    </tr>\n",
       "    <tr>\n",
       "      <th>14</th>\n",
       "      <td>SS:4811</td>\n",
       "      <td>CD:151208</td>\n",
       "      <td>correspondencia</td>\n",
       "    </tr>\n",
       "  </tbody>\n",
       "</table>\n",
       "</div>"
      ],
      "text/plain": [
       "     source     target            etype\n",
       "0     SS:22  CD:160649  correspondencia\n",
       "1   SS:4642  CD:141422  correspondencia\n",
       "2   SS:5386  CD:160639  correspondencia\n",
       "3   SS:5376  CD:160565  correspondencia\n",
       "4   SS:4639  CD:141335  correspondencia\n",
       "5   SS:5736  CD:178901  correspondencia\n",
       "6   SS:5740  CD:178905  correspondencia\n",
       "7   SS:5350  CD:160509  correspondencia\n",
       "8   SS:5352  CD:160568  correspondencia\n",
       "9   SS:5322  CD:160597  correspondencia\n",
       "10  SS:1173   CD:73653  correspondencia\n",
       "11  SS:5672  CD:178836  correspondencia\n",
       "12  SS:5902  CD:220589  correspondencia\n",
       "13  SS:5793  CD:178959  correspondencia\n",
       "14  SS:4811  CD:151208  correspondencia"
      ]
     },
     "execution_count": 54,
     "metadata": {},
     "output_type": "execute_result"
    }
   ],
   "source": [
    "congressperson_match_rows = []\n",
    "\n",
    "for index, row in sim_df[sim_df['sim_score'] >= 0.95].iterrows():\n",
    "    congressperson_match_rows.append({\n",
    "        'source': row['sen_tag'],\n",
    "        'target': row['dep_tag'],\n",
    "        'etype': 'correspondencia'\n",
    "    })\n",
    "    \n",
    "congressperson_match_df = pd.DataFrame(congressperson_match_rows)\n",
    "congressperson_match_df"
   ]
  },
  {
   "cell_type": "markdown",
   "id": "66f4388e",
   "metadata": {},
   "source": [
    "Agora, não sabemos quais deputados viraram senadores e quais senadores viraram deputados. Na dúvida, vamos privilegiar o mais recente. Como são só 15 casos, vamos verificar manualmente."
   ]
  },
  {
   "cell_type": "code",
   "execution_count": 55,
   "id": "e7fee81f",
   "metadata": {},
   "outputs": [
    {
     "data": {
      "application/vnd.microsoft.datawrangler.viewer.v0+json": {
       "columns": [
        {
         "name": "index",
         "rawType": "int64",
         "type": "integer"
        },
        {
         "name": "tag",
         "rawType": "object",
         "type": "string"
        },
        {
         "name": "label",
         "rawType": "object",
         "type": "string"
        },
        {
         "name": "partido",
         "rawType": "object",
         "type": "string"
        },
        {
         "name": "type",
         "rawType": "object",
         "type": "string"
        },
        {
         "name": "target",
         "rawType": "object",
         "type": "string"
        }
       ],
       "ref": "691a5513-22a0-415b-be91-14332d56bd67",
       "rows": [
        [
         "30911",
         "SS:22",
         "ESPERIDIÃO AMIN HELOU FILHO",
         "PP/SC",
         "Senador",
         "CD:160649"
        ],
        [
         "30876",
         "SS:4642",
         "EFRAIM DE ARAÚJO MORAIS FILHO",
         "UNIÃO/PB",
         "Senador",
         "CD:141422"
        ],
        [
         "30811",
         "SS:5386",
         "MARIA AUXILIADORA SEABRA REZENDE",
         "UNIÃO/TO",
         "Senador",
         "CD:160639"
        ],
        [
         "30832",
         "SS:5376",
         "MARA CRISTINA GABRILLI",
         "PSD/SP",
         "Senador",
         "CD:160565"
        ],
        [
         "30899",
         "SS:4639",
         "JOSÉ ROBERTO OLIVEIRA FARO",
         "PT/PA",
         "Senador",
         "CD:141335"
        ],
        [
         "30870",
         "SS:5736",
         "TEREZA CRISTINA CORREA DA COSTA DIAS",
         "PP/MS",
         "Senador",
         "CD:178901"
        ],
        [
         "30885",
         "SS:5740",
         "FABIO PAULINO GARCIA",
         "UNIÃO/MT",
         "Senador",
         "CD:178905"
        ],
        [
         "30846",
         "SS:5350",
         "JORGINHO DOS SANTOS MELLO",
         "PL/SC",
         "Senador",
         "CD:160509"
        ],
        [
         "30858",
         "SS:5352",
         "ROGÉRIO CARVALHO SANTOS",
         "PT/SE",
         "Senador",
         "CD:160568"
        ],
        [
         "30865",
         "SS:5322",
         "ROMARIO DE SOUZA FARIA",
         "PL/RJ",
         "Senador",
         "CD:160597"
        ],
        [
         "30823",
         "SS:1173",
         "WELLINGTON ANTONIO FAGUNDES",
         "PL/MT",
         "Senador",
         "CD:73653"
        ],
        [
         "30921",
         "SS:5672",
         "ALAN RICK MIRANDA",
         "UNIÃO/AC",
         "Senador",
         "CD:178836"
        ],
        [
         "30923",
         "SS:5902",
         "EDUARDO OVÍDIO BORGES DE VELLOSO VIANNA",
         "UNIÃO/AC",
         "Senador",
         "CD:220589"
        ],
        [
         "30871",
         "SS:5793",
         "HIRAN MANUEL GONÇALVES DA SILVA",
         "PP/RR",
         "Senador",
         "CD:178959"
        ],
        [
         "30799",
         "SS:4811",
         "LAÉRCIO JOSÉ DE OLIVEIRA",
         "PP/SE",
         "Senador",
         "CD:151208"
        ]
       ],
       "shape": {
        "columns": 5,
        "rows": 15
       }
      },
      "text/html": [
       "<div>\n",
       "<style scoped>\n",
       "    .dataframe tbody tr th:only-of-type {\n",
       "        vertical-align: middle;\n",
       "    }\n",
       "\n",
       "    .dataframe tbody tr th {\n",
       "        vertical-align: top;\n",
       "    }\n",
       "\n",
       "    .dataframe thead th {\n",
       "        text-align: right;\n",
       "    }\n",
       "</style>\n",
       "<table border=\"1\" class=\"dataframe\">\n",
       "  <thead>\n",
       "    <tr style=\"text-align: right;\">\n",
       "      <th></th>\n",
       "      <th>tag</th>\n",
       "      <th>label</th>\n",
       "      <th>partido</th>\n",
       "      <th>type</th>\n",
       "      <th>target</th>\n",
       "    </tr>\n",
       "  </thead>\n",
       "  <tbody>\n",
       "    <tr>\n",
       "      <th>30911</th>\n",
       "      <td>SS:22</td>\n",
       "      <td>ESPERIDIÃO AMIN HELOU FILHO</td>\n",
       "      <td>PP/SC</td>\n",
       "      <td>Senador</td>\n",
       "      <td>CD:160649</td>\n",
       "    </tr>\n",
       "    <tr>\n",
       "      <th>30876</th>\n",
       "      <td>SS:4642</td>\n",
       "      <td>EFRAIM DE ARAÚJO MORAIS FILHO</td>\n",
       "      <td>UNIÃO/PB</td>\n",
       "      <td>Senador</td>\n",
       "      <td>CD:141422</td>\n",
       "    </tr>\n",
       "    <tr>\n",
       "      <th>30811</th>\n",
       "      <td>SS:5386</td>\n",
       "      <td>MARIA AUXILIADORA SEABRA REZENDE</td>\n",
       "      <td>UNIÃO/TO</td>\n",
       "      <td>Senador</td>\n",
       "      <td>CD:160639</td>\n",
       "    </tr>\n",
       "    <tr>\n",
       "      <th>30832</th>\n",
       "      <td>SS:5376</td>\n",
       "      <td>MARA CRISTINA GABRILLI</td>\n",
       "      <td>PSD/SP</td>\n",
       "      <td>Senador</td>\n",
       "      <td>CD:160565</td>\n",
       "    </tr>\n",
       "    <tr>\n",
       "      <th>30899</th>\n",
       "      <td>SS:4639</td>\n",
       "      <td>JOSÉ ROBERTO OLIVEIRA FARO</td>\n",
       "      <td>PT/PA</td>\n",
       "      <td>Senador</td>\n",
       "      <td>CD:141335</td>\n",
       "    </tr>\n",
       "    <tr>\n",
       "      <th>30870</th>\n",
       "      <td>SS:5736</td>\n",
       "      <td>TEREZA CRISTINA CORREA DA COSTA DIAS</td>\n",
       "      <td>PP/MS</td>\n",
       "      <td>Senador</td>\n",
       "      <td>CD:178901</td>\n",
       "    </tr>\n",
       "    <tr>\n",
       "      <th>30885</th>\n",
       "      <td>SS:5740</td>\n",
       "      <td>FABIO PAULINO GARCIA</td>\n",
       "      <td>UNIÃO/MT</td>\n",
       "      <td>Senador</td>\n",
       "      <td>CD:178905</td>\n",
       "    </tr>\n",
       "    <tr>\n",
       "      <th>30846</th>\n",
       "      <td>SS:5350</td>\n",
       "      <td>JORGINHO DOS SANTOS MELLO</td>\n",
       "      <td>PL/SC</td>\n",
       "      <td>Senador</td>\n",
       "      <td>CD:160509</td>\n",
       "    </tr>\n",
       "    <tr>\n",
       "      <th>30858</th>\n",
       "      <td>SS:5352</td>\n",
       "      <td>ROGÉRIO CARVALHO SANTOS</td>\n",
       "      <td>PT/SE</td>\n",
       "      <td>Senador</td>\n",
       "      <td>CD:160568</td>\n",
       "    </tr>\n",
       "    <tr>\n",
       "      <th>30865</th>\n",
       "      <td>SS:5322</td>\n",
       "      <td>ROMARIO DE SOUZA FARIA</td>\n",
       "      <td>PL/RJ</td>\n",
       "      <td>Senador</td>\n",
       "      <td>CD:160597</td>\n",
       "    </tr>\n",
       "    <tr>\n",
       "      <th>30823</th>\n",
       "      <td>SS:1173</td>\n",
       "      <td>WELLINGTON ANTONIO FAGUNDES</td>\n",
       "      <td>PL/MT</td>\n",
       "      <td>Senador</td>\n",
       "      <td>CD:73653</td>\n",
       "    </tr>\n",
       "    <tr>\n",
       "      <th>30921</th>\n",
       "      <td>SS:5672</td>\n",
       "      <td>ALAN RICK MIRANDA</td>\n",
       "      <td>UNIÃO/AC</td>\n",
       "      <td>Senador</td>\n",
       "      <td>CD:178836</td>\n",
       "    </tr>\n",
       "    <tr>\n",
       "      <th>30923</th>\n",
       "      <td>SS:5902</td>\n",
       "      <td>EDUARDO OVÍDIO BORGES DE VELLOSO VIANNA</td>\n",
       "      <td>UNIÃO/AC</td>\n",
       "      <td>Senador</td>\n",
       "      <td>CD:220589</td>\n",
       "    </tr>\n",
       "    <tr>\n",
       "      <th>30871</th>\n",
       "      <td>SS:5793</td>\n",
       "      <td>HIRAN MANUEL GONÇALVES DA SILVA</td>\n",
       "      <td>PP/RR</td>\n",
       "      <td>Senador</td>\n",
       "      <td>CD:178959</td>\n",
       "    </tr>\n",
       "    <tr>\n",
       "      <th>30799</th>\n",
       "      <td>SS:4811</td>\n",
       "      <td>LAÉRCIO JOSÉ DE OLIVEIRA</td>\n",
       "      <td>PP/SE</td>\n",
       "      <td>Senador</td>\n",
       "      <td>CD:151208</td>\n",
       "    </tr>\n",
       "  </tbody>\n",
       "</table>\n",
       "</div>"
      ],
      "text/plain": [
       "           tag                                    label   partido     type  \\\n",
       "30911    SS:22              ESPERIDIÃO AMIN HELOU FILHO     PP/SC  Senador   \n",
       "30876  SS:4642            EFRAIM DE ARAÚJO MORAIS FILHO  UNIÃO/PB  Senador   \n",
       "30811  SS:5386         MARIA AUXILIADORA SEABRA REZENDE  UNIÃO/TO  Senador   \n",
       "30832  SS:5376                   MARA CRISTINA GABRILLI    PSD/SP  Senador   \n",
       "30899  SS:4639               JOSÉ ROBERTO OLIVEIRA FARO     PT/PA  Senador   \n",
       "30870  SS:5736     TEREZA CRISTINA CORREA DA COSTA DIAS     PP/MS  Senador   \n",
       "30885  SS:5740                     FABIO PAULINO GARCIA  UNIÃO/MT  Senador   \n",
       "30846  SS:5350                JORGINHO DOS SANTOS MELLO     PL/SC  Senador   \n",
       "30858  SS:5352                  ROGÉRIO CARVALHO SANTOS     PT/SE  Senador   \n",
       "30865  SS:5322                   ROMARIO DE SOUZA FARIA     PL/RJ  Senador   \n",
       "30823  SS:1173              WELLINGTON ANTONIO FAGUNDES     PL/MT  Senador   \n",
       "30921  SS:5672                        ALAN RICK MIRANDA  UNIÃO/AC  Senador   \n",
       "30923  SS:5902  EDUARDO OVÍDIO BORGES DE VELLOSO VIANNA  UNIÃO/AC  Senador   \n",
       "30871  SS:5793          HIRAN MANUEL GONÇALVES DA SILVA     PP/RR  Senador   \n",
       "30799  SS:4811                 LAÉRCIO JOSÉ DE OLIVEIRA     PP/SE  Senador   \n",
       "\n",
       "          target  \n",
       "30911  CD:160649  \n",
       "30876  CD:141422  \n",
       "30811  CD:160639  \n",
       "30832  CD:160565  \n",
       "30899  CD:141335  \n",
       "30870  CD:178901  \n",
       "30885  CD:178905  \n",
       "30846  CD:160509  \n",
       "30858  CD:160568  \n",
       "30865  CD:160597  \n",
       "30823   CD:73653  \n",
       "30921  CD:178836  \n",
       "30923  CD:220589  \n",
       "30871  CD:178959  \n",
       "30799  CD:151208  "
      ]
     },
     "execution_count": 55,
     "metadata": {},
     "output_type": "execute_result"
    }
   ],
   "source": [
    "nodes_df.join(\n",
    "    congressperson_match_df.set_index('source')[['target']],\n",
    "    on=\"tag\",\n",
    "    how=\"right\"\n",
    ")"
   ]
  },
  {
   "cell_type": "code",
   "execution_count": 56,
   "id": "558c2d76",
   "metadata": {},
   "outputs": [
    {
     "data": {
      "application/vnd.microsoft.datawrangler.viewer.v0+json": {
       "columns": [
        {
         "name": "index",
         "rawType": "int64",
         "type": "integer"
        },
        {
         "name": "source",
         "rawType": "object",
         "type": "string"
        },
        {
         "name": "target",
         "rawType": "object",
         "type": "string"
        },
        {
         "name": "etype",
         "rawType": "object",
         "type": "string"
        }
       ],
       "ref": "0064dece-e649-4e17-ab87-a4f1c1c8015d",
       "rows": [
        [
         "6",
         "SS:5740",
         "CD:178905",
         "correspondencia"
        ],
        [
         "12",
         "SS:5902",
         "CD:220589",
         "correspondencia"
        ]
       ],
       "shape": {
        "columns": 3,
        "rows": 2
       }
      },
      "text/html": [
       "<div>\n",
       "<style scoped>\n",
       "    .dataframe tbody tr th:only-of-type {\n",
       "        vertical-align: middle;\n",
       "    }\n",
       "\n",
       "    .dataframe tbody tr th {\n",
       "        vertical-align: top;\n",
       "    }\n",
       "\n",
       "    .dataframe thead th {\n",
       "        text-align: right;\n",
       "    }\n",
       "</style>\n",
       "<table border=\"1\" class=\"dataframe\">\n",
       "  <thead>\n",
       "    <tr style=\"text-align: right;\">\n",
       "      <th></th>\n",
       "      <th>source</th>\n",
       "      <th>target</th>\n",
       "      <th>etype</th>\n",
       "    </tr>\n",
       "  </thead>\n",
       "  <tbody>\n",
       "    <tr>\n",
       "      <th>6</th>\n",
       "      <td>SS:5740</td>\n",
       "      <td>CD:178905</td>\n",
       "      <td>correspondencia</td>\n",
       "    </tr>\n",
       "    <tr>\n",
       "      <th>12</th>\n",
       "      <td>SS:5902</td>\n",
       "      <td>CD:220589</td>\n",
       "      <td>correspondencia</td>\n",
       "    </tr>\n",
       "  </tbody>\n",
       "</table>\n",
       "</div>"
      ],
      "text/plain": [
       "     source     target            etype\n",
       "6   SS:5740  CD:178905  correspondencia\n",
       "12  SS:5902  CD:220589  correspondencia"
      ]
     },
     "execution_count": 56,
     "metadata": {},
     "output_type": "execute_result"
    }
   ],
   "source": [
    "# Convencionamos que 'source' será mantido e 'target' será suprimido. Assim, precisamos inverter quando um senador virou deputado.\n",
    "\n",
    "row_swaps = [\n",
    "    'SS:5740',  # Fábio Garcia, foi senador por 4 meses em 2022 por afastamento do titular\n",
    "    'SS:5902',  # Eduardo Velloso, foi senador por 5 meses em 2022 por afastamento do titular   \n",
    "]\n",
    "\n",
    "\n",
    "congressperson_match_df[congressperson_match_df['source'].isin(row_swaps)]"
   ]
  },
  {
   "cell_type": "code",
   "execution_count": 57,
   "id": "7b4b1040",
   "metadata": {},
   "outputs": [],
   "source": [
    "\n",
    "for swap_tag in row_swaps:\n",
    "    mask = (congressperson_match_df['etype'] == 'correspondencia') & (congressperson_match_df['source'] == swap_tag)\n",
    "    congressperson_match_df.loc[mask, ['source', 'target']] = congressperson_match_df.loc[mask, ['target', 'source']].values\n"
   ]
  },
  {
   "cell_type": "code",
   "execution_count": 58,
   "id": "7a8824ac",
   "metadata": {},
   "outputs": [
    {
     "data": {
      "application/vnd.microsoft.datawrangler.viewer.v0+json": {
       "columns": [
        {
         "name": "index",
         "rawType": "int64",
         "type": "integer"
        },
        {
         "name": "source",
         "rawType": "object",
         "type": "string"
        },
        {
         "name": "target",
         "rawType": "object",
         "type": "string"
        },
        {
         "name": "etype",
         "rawType": "object",
         "type": "string"
        }
       ],
       "ref": "82649195-d4af-4531-bbcf-fff40858ad9e",
       "rows": [
        [
         "6",
         "CD:178905",
         "SS:5740",
         "correspondencia"
        ],
        [
         "12",
         "CD:220589",
         "SS:5902",
         "correspondencia"
        ]
       ],
       "shape": {
        "columns": 3,
        "rows": 2
       }
      },
      "text/html": [
       "<div>\n",
       "<style scoped>\n",
       "    .dataframe tbody tr th:only-of-type {\n",
       "        vertical-align: middle;\n",
       "    }\n",
       "\n",
       "    .dataframe tbody tr th {\n",
       "        vertical-align: top;\n",
       "    }\n",
       "\n",
       "    .dataframe thead th {\n",
       "        text-align: right;\n",
       "    }\n",
       "</style>\n",
       "<table border=\"1\" class=\"dataframe\">\n",
       "  <thead>\n",
       "    <tr style=\"text-align: right;\">\n",
       "      <th></th>\n",
       "      <th>source</th>\n",
       "      <th>target</th>\n",
       "      <th>etype</th>\n",
       "    </tr>\n",
       "  </thead>\n",
       "  <tbody>\n",
       "    <tr>\n",
       "      <th>6</th>\n",
       "      <td>CD:178905</td>\n",
       "      <td>SS:5740</td>\n",
       "      <td>correspondencia</td>\n",
       "    </tr>\n",
       "    <tr>\n",
       "      <th>12</th>\n",
       "      <td>CD:220589</td>\n",
       "      <td>SS:5902</td>\n",
       "      <td>correspondencia</td>\n",
       "    </tr>\n",
       "  </tbody>\n",
       "</table>\n",
       "</div>"
      ],
      "text/plain": [
       "       source   target            etype\n",
       "6   CD:178905  SS:5740  correspondencia\n",
       "12  CD:220589  SS:5902  correspondencia"
      ]
     },
     "execution_count": 58,
     "metadata": {},
     "output_type": "execute_result"
    }
   ],
   "source": [
    "congressperson_match_df[congressperson_match_df['target'].isin(row_swaps)]"
   ]
  },
  {
   "cell_type": "code",
   "execution_count": 59,
   "id": "7adea69d",
   "metadata": {},
   "outputs": [
    {
     "data": {
      "application/vnd.microsoft.datawrangler.viewer.v0+json": {
       "columns": [
        {
         "name": "index",
         "rawType": "int64",
         "type": "integer"
        },
        {
         "name": "source",
         "rawType": "object",
         "type": "string"
        },
        {
         "name": "target",
         "rawType": "object",
         "type": "string"
        },
        {
         "name": "etype",
         "rawType": "object",
         "type": "string"
        }
       ],
       "ref": "01dbb3ce-a7d4-4019-a76e-a109115d197d",
       "rows": [
        [
         "0",
         "CD:160655",
         "CP:538196",
         "autoria"
        ],
        [
         "1",
         "CD:141488",
         "CP:559138",
         "autoria"
        ],
        [
         "2",
         "CD:73584",
         "CP:593065",
         "autoria"
        ],
        [
         "3",
         "CD:160518",
         "CP:601739",
         "autoria"
        ],
        [
         "4",
         "CD:151208",
         "CP:614512",
         "autoria"
        ],
        [
         "5",
         "CD:73466",
         "CP:946475",
         "autoria"
        ],
        [
         "6",
         "CD:178862",
         "CP:1301128",
         "autoria"
        ],
        [
         "7",
         "CD:74570",
         "CP:1555295",
         "autoria"
        ],
        [
         "8",
         "CD:160512",
         "CP:1555470",
         "autoria"
        ],
        [
         "9",
         "CD:160565",
         "CP:2074843",
         "autoria"
        ],
        [
         "10",
         "CD:178866",
         "CP:2075821",
         "autoria"
        ],
        [
         "11",
         "CD:141383",
         "CP:2077498",
         "autoria"
        ],
        [
         "12",
         "CD:160621",
         "CP:2092056",
         "autoria"
        ],
        [
         "13",
         "CD:178956",
         "CP:2116186",
         "autoria"
        ],
        [
         "14",
         "CD:177282",
         "CP:2142126",
         "autoria"
        ],
        [
         "15",
         "CD:160653",
         "CP:2184458",
         "autoria"
        ],
        [
         "16",
         "CD:204488",
         "CP:538196",
         "autoria"
        ],
        [
         "17",
         "CD:74047",
         "CP:559138",
         "autoria"
        ],
        [
         "18",
         "CD:160655",
         "CP:601739",
         "autoria"
        ],
        [
         "19",
         "CD:178834",
         "CP:1301128",
         "autoria"
        ],
        [
         "20",
         "CD:160556",
         "CP:559138",
         "autoria"
        ],
        [
         "21",
         "CD:160644",
         "CP:559138",
         "autoria"
        ],
        [
         "22",
         "CD:74784",
         "CP:559138",
         "autoria"
        ],
        [
         "23",
         "CD:74037",
         "CP:559138",
         "autoria"
        ],
        [
         "24",
         "CD:141386",
         "CP:559138",
         "autoria"
        ],
        [
         "25",
         "CD:160538",
         "CP:559138",
         "autoria"
        ],
        [
         "26",
         "CD:178879",
         "CP:2187087",
         "autoria"
        ],
        [
         "27",
         "CD:204553",
         "CP:2190408",
         "autoria"
        ],
        [
         "28",
         "CD:204546",
         "CP:2190417",
         "autoria"
        ],
        [
         "29",
         "CD:204532",
         "CP:2190423",
         "autoria"
        ],
        [
         "30",
         "CD:160518",
         "CP:2190450",
         "autoria"
        ],
        [
         "31",
         "CD:204381",
         "CP:2190462",
         "autoria"
        ],
        [
         "32",
         "CD:204536",
         "CP:2190472",
         "autoria"
        ],
        [
         "33",
         "CD:204494",
         "CP:2190495",
         "autoria"
        ],
        [
         "34",
         "CD:204530",
         "CP:2190519",
         "autoria"
        ],
        [
         "35",
         "CD:204530",
         "CP:2190532",
         "autoria"
        ],
        [
         "36",
         "CD:205535",
         "CP:2190556",
         "autoria"
        ],
        [
         "37",
         "CD:178989",
         "CP:2190579",
         "autoria"
        ],
        [
         "38",
         "CD:178989",
         "CP:2190585",
         "autoria"
        ],
        [
         "39",
         "CD:178989",
         "CP:2190590",
         "autoria"
        ],
        [
         "40",
         "CD:178989",
         "CP:2190598",
         "autoria"
        ],
        [
         "41",
         "CD:178989",
         "CP:2190603",
         "autoria"
        ],
        [
         "42",
         "CD:178989",
         "CP:2190619",
         "autoria"
        ],
        [
         "43",
         "CD:204391",
         "CP:2190651",
         "autoria"
        ],
        [
         "44",
         "CD:204391",
         "CP:2190661",
         "autoria"
        ],
        [
         "45",
         "CD:204508",
         "CP:2190692",
         "autoria"
        ],
        [
         "46",
         "CD:160653",
         "CP:2190701",
         "autoria"
        ],
        [
         "47",
         "CD:160653",
         "CP:2190718",
         "autoria"
        ],
        [
         "48",
         "CD:160653",
         "CP:2190726",
         "autoria"
        ],
        [
         "49",
         "CD:160653",
         "CP:2190729",
         "autoria"
        ]
       ],
       "shape": {
        "columns": 3,
        "rows": 51547
       }
      },
      "text/html": [
       "<div>\n",
       "<style scoped>\n",
       "    .dataframe tbody tr th:only-of-type {\n",
       "        vertical-align: middle;\n",
       "    }\n",
       "\n",
       "    .dataframe tbody tr th {\n",
       "        vertical-align: top;\n",
       "    }\n",
       "\n",
       "    .dataframe thead th {\n",
       "        text-align: right;\n",
       "    }\n",
       "</style>\n",
       "<table border=\"1\" class=\"dataframe\">\n",
       "  <thead>\n",
       "    <tr style=\"text-align: right;\">\n",
       "      <th></th>\n",
       "      <th>source</th>\n",
       "      <th>target</th>\n",
       "      <th>etype</th>\n",
       "    </tr>\n",
       "  </thead>\n",
       "  <tbody>\n",
       "    <tr>\n",
       "      <th>0</th>\n",
       "      <td>CD:160655</td>\n",
       "      <td>CP:538196</td>\n",
       "      <td>autoria</td>\n",
       "    </tr>\n",
       "    <tr>\n",
       "      <th>1</th>\n",
       "      <td>CD:141488</td>\n",
       "      <td>CP:559138</td>\n",
       "      <td>autoria</td>\n",
       "    </tr>\n",
       "    <tr>\n",
       "      <th>2</th>\n",
       "      <td>CD:73584</td>\n",
       "      <td>CP:593065</td>\n",
       "      <td>autoria</td>\n",
       "    </tr>\n",
       "    <tr>\n",
       "      <th>3</th>\n",
       "      <td>CD:160518</td>\n",
       "      <td>CP:601739</td>\n",
       "      <td>autoria</td>\n",
       "    </tr>\n",
       "    <tr>\n",
       "      <th>4</th>\n",
       "      <td>CD:151208</td>\n",
       "      <td>CP:614512</td>\n",
       "      <td>autoria</td>\n",
       "    </tr>\n",
       "    <tr>\n",
       "      <th>...</th>\n",
       "      <td>...</td>\n",
       "      <td>...</td>\n",
       "      <td>...</td>\n",
       "    </tr>\n",
       "    <tr>\n",
       "      <th>51542</th>\n",
       "      <td>SS:1173</td>\n",
       "      <td>CD:73653</td>\n",
       "      <td>correspondencia</td>\n",
       "    </tr>\n",
       "    <tr>\n",
       "      <th>51543</th>\n",
       "      <td>SS:5672</td>\n",
       "      <td>CD:178836</td>\n",
       "      <td>correspondencia</td>\n",
       "    </tr>\n",
       "    <tr>\n",
       "      <th>51544</th>\n",
       "      <td>CD:220589</td>\n",
       "      <td>SS:5902</td>\n",
       "      <td>correspondencia</td>\n",
       "    </tr>\n",
       "    <tr>\n",
       "      <th>51545</th>\n",
       "      <td>SS:5793</td>\n",
       "      <td>CD:178959</td>\n",
       "      <td>correspondencia</td>\n",
       "    </tr>\n",
       "    <tr>\n",
       "      <th>51546</th>\n",
       "      <td>SS:4811</td>\n",
       "      <td>CD:151208</td>\n",
       "      <td>correspondencia</td>\n",
       "    </tr>\n",
       "  </tbody>\n",
       "</table>\n",
       "<p>51547 rows × 3 columns</p>\n",
       "</div>"
      ],
      "text/plain": [
       "          source     target            etype\n",
       "0      CD:160655  CP:538196          autoria\n",
       "1      CD:141488  CP:559138          autoria\n",
       "2       CD:73584  CP:593065          autoria\n",
       "3      CD:160518  CP:601739          autoria\n",
       "4      CD:151208  CP:614512          autoria\n",
       "...          ...        ...              ...\n",
       "51542    SS:1173   CD:73653  correspondencia\n",
       "51543    SS:5672  CD:178836  correspondencia\n",
       "51544  CD:220589    SS:5902  correspondencia\n",
       "51545    SS:5793  CD:178959  correspondencia\n",
       "51546    SS:4811  CD:151208  correspondencia\n",
       "\n",
       "[51547 rows x 3 columns]"
      ]
     },
     "execution_count": 59,
     "metadata": {},
     "output_type": "execute_result"
    }
   ],
   "source": [
    "edges_df = pd.concat([edges_df, filtered_bill_match_df, entity_match_df, congressperson_match_df], ignore_index=True)\n",
    "edges_df"
   ]
  },
  {
   "cell_type": "code",
   "execution_count": 60,
   "id": "1200a84e",
   "metadata": {},
   "outputs": [],
   "source": [
    "edges_df.to_parquet(EDGES_PATH_PARQUET, index=False)\n",
    "edges_df.to_csv(EDGES_PATH_CSV, index=False)"
   ]
  },
  {
   "cell_type": "code",
   "execution_count": 61,
   "id": "58a106ca",
   "metadata": {},
   "outputs": [],
   "source": [
    "# fazemos uma última checagem para descobrir vértices órfãos\n",
    "\n",
    "nodes_df = nodes_df[nodes_df['tag'].isin(edges_df['source']) | nodes_df['tag'].isin(edges_df['target'])]"
   ]
  },
  {
   "cell_type": "code",
   "execution_count": 62,
   "id": "0b087f51",
   "metadata": {},
   "outputs": [],
   "source": [
    "\n",
    "nodes_df.to_parquet(NODES_PATH_PARQUET, index=False)\n",
    "nodes_df.to_csv(NODES_PATH_CSV, index=False)"
   ]
  },
  {
   "cell_type": "code",
   "execution_count": 63,
   "id": "eabb50db",
   "metadata": {},
   "outputs": [
    {
     "data": {
      "text/plain": [
       "((30938, 4), (51547, 3))"
      ]
     },
     "execution_count": 63,
     "metadata": {},
     "output_type": "execute_result"
    }
   ],
   "source": [
    "nodes_df.shape, edges_df.shape"
   ]
  },
  {
   "cell_type": "code",
   "execution_count": null,
   "id": "e411dd4b",
   "metadata": {},
   "outputs": [],
   "source": []
  },
  {
   "cell_type": "code",
   "execution_count": null,
   "id": "a110f34d",
   "metadata": {},
   "outputs": [],
   "source": []
  }
 ],
 "metadata": {
  "kernelspec": {
   "display_name": "venv",
   "language": "python",
   "name": "python3"
  },
  "language_info": {
   "codemirror_mode": {
    "name": "ipython",
    "version": 3
   },
   "file_extension": ".py",
   "mimetype": "text/x-python",
   "name": "python",
   "nbconvert_exporter": "python",
   "pygments_lexer": "ipython3",
   "version": "3.13.7"
  }
 },
 "nbformat": 4,
 "nbformat_minor": 5
}
