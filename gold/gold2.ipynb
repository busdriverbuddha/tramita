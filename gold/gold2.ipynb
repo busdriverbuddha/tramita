{
 "cells": [
  {
   "cell_type": "markdown",
   "id": "19b877db",
   "metadata": {},
   "source": [
    "# 2. Análise inicial\n",
    "\n",
    "## 2.1. Imports"
   ]
  },
  {
   "cell_type": "code",
   "execution_count": 1,
   "id": "7da1a7a7",
   "metadata": {},
   "outputs": [],
   "source": [
    "import os\n",
    "\n",
    "from pathlib import Path\n",
    "\n",
    "import duckdb\n",
    "import igraph as ig\n",
    "import pandas as pd\n",
    "\n",
    "from event import Event\n",
    "\n",
    "from dotenv import load_dotenv\n",
    "\n",
    "load_dotenv()\n",
    "\n",
    "PROJECT_DIR = Path(\"~/tramita\").expanduser()\n",
    "DB_PATH = PROJECT_DIR / os.getenv(\"SILVER_DUCKDB_PATH\", \"\")\n",
    "OUT_DIR = PROJECT_DIR / \"data\" / \"gold\"\n",
    "OUT_DIR.mkdir(exist_ok=True)\n",
    "ACCESS_DIR = OUT_DIR / \"accessory_data\"\n",
    "ACCESS_DIR.mkdir(exist_ok=True)\n",
    "\n",
    "NODES_PATH_PARQUET = OUT_DIR / \"nodes.parquet\"\n",
    "EDGES_PATH_PARQUET = OUT_DIR / \"edges.parquet\"\n",
    "NODES_PATH_CSV = OUT_DIR / \"nodes.csv\"\n",
    "EDGES_PATH_CSV = OUT_DIR / \"edges.csv\""
   ]
  },
  {
   "cell_type": "markdown",
   "id": "4c519a8c",
   "metadata": {},
   "source": [
    "## 2.1. Instanciamento do grafo"
   ]
  },
  {
   "cell_type": "code",
   "execution_count": 2,
   "id": "f71a9579",
   "metadata": {},
   "outputs": [
    {
     "data": {
      "application/vnd.microsoft.datawrangler.viewer.v0+json": {
       "columns": [
        {
         "name": "index",
         "rawType": "int64",
         "type": "integer"
        },
        {
         "name": "from",
         "rawType": "object",
         "type": "string"
        },
        {
         "name": "to",
         "rawType": "object",
         "type": "string"
        },
        {
         "name": "etype",
         "rawType": "object",
         "type": "string"
        }
       ],
       "ref": "cc513740-65c9-4178-a166-48059248c9ba",
       "rows": [
        [
         "0",
         "CD:160655",
         "CP:538196",
         "autoria"
        ],
        [
         "1",
         "CD:141488",
         "CP:559138",
         "autoria"
        ],
        [
         "2",
         "CD:73584",
         "CP:593065",
         "autoria"
        ],
        [
         "3",
         "CD:160518",
         "CP:601739",
         "autoria"
        ],
        [
         "4",
         "CD:151208",
         "CP:614512",
         "autoria"
        ]
       ],
       "shape": {
        "columns": 3,
        "rows": 5
       }
      },
      "text/html": [
       "<div>\n",
       "<style scoped>\n",
       "    .dataframe tbody tr th:only-of-type {\n",
       "        vertical-align: middle;\n",
       "    }\n",
       "\n",
       "    .dataframe tbody tr th {\n",
       "        vertical-align: top;\n",
       "    }\n",
       "\n",
       "    .dataframe thead th {\n",
       "        text-align: right;\n",
       "    }\n",
       "</style>\n",
       "<table border=\"1\" class=\"dataframe\">\n",
       "  <thead>\n",
       "    <tr style=\"text-align: right;\">\n",
       "      <th></th>\n",
       "      <th>from</th>\n",
       "      <th>to</th>\n",
       "      <th>etype</th>\n",
       "    </tr>\n",
       "  </thead>\n",
       "  <tbody>\n",
       "    <tr>\n",
       "      <th>0</th>\n",
       "      <td>CD:160655</td>\n",
       "      <td>CP:538196</td>\n",
       "      <td>autoria</td>\n",
       "    </tr>\n",
       "    <tr>\n",
       "      <th>1</th>\n",
       "      <td>CD:141488</td>\n",
       "      <td>CP:559138</td>\n",
       "      <td>autoria</td>\n",
       "    </tr>\n",
       "    <tr>\n",
       "      <th>2</th>\n",
       "      <td>CD:73584</td>\n",
       "      <td>CP:593065</td>\n",
       "      <td>autoria</td>\n",
       "    </tr>\n",
       "    <tr>\n",
       "      <th>3</th>\n",
       "      <td>CD:160518</td>\n",
       "      <td>CP:601739</td>\n",
       "      <td>autoria</td>\n",
       "    </tr>\n",
       "    <tr>\n",
       "      <th>4</th>\n",
       "      <td>CD:151208</td>\n",
       "      <td>CP:614512</td>\n",
       "      <td>autoria</td>\n",
       "    </tr>\n",
       "  </tbody>\n",
       "</table>\n",
       "</div>"
      ],
      "text/plain": [
       "        from         to    etype\n",
       "0  CD:160655  CP:538196  autoria\n",
       "1  CD:141488  CP:559138  autoria\n",
       "2   CD:73584  CP:593065  autoria\n",
       "3  CD:160518  CP:601739  autoria\n",
       "4  CD:151208  CP:614512  autoria"
      ]
     },
     "execution_count": 2,
     "metadata": {},
     "output_type": "execute_result"
    }
   ],
   "source": [
    "edges_df = pd.read_csv(EDGES_PATH_CSV)\n",
    "edges_df = edges_df.rename(columns={'source': 'from', 'target': 'to'})\n",
    "edges_df.head()"
   ]
  },
  {
   "cell_type": "code",
   "execution_count": 3,
   "id": "f2d09115",
   "metadata": {},
   "outputs": [
    {
     "data": {
      "application/vnd.microsoft.datawrangler.viewer.v0+json": {
       "columns": [
        {
         "name": "index",
         "rawType": "int64",
         "type": "integer"
        },
        {
         "name": "name",
         "rawType": "object",
         "type": "string"
        },
        {
         "name": "label",
         "rawType": "object",
         "type": "string"
        },
        {
         "name": "partido",
         "rawType": "object",
         "type": "unknown"
        },
        {
         "name": "type",
         "rawType": "object",
         "type": "string"
        }
       ],
       "ref": "0aa5c24c-a47f-4c67-aa4d-c0b91c82a901",
       "rows": [
        [
         "0",
         "CP:2187087",
         "PL 5029/2019",
         null,
         "Proposicao"
        ],
        [
         "1",
         "CP:2190408",
         "PL 2/2019",
         null,
         "Proposicao"
        ],
        [
         "2",
         "CP:2190417",
         "PL 10/2019",
         null,
         "Proposicao"
        ],
        [
         "3",
         "CP:2190423",
         "PL 15/2019",
         null,
         "Proposicao"
        ],
        [
         "4",
         "CP:2190450",
         "PL 21/2019",
         null,
         "Proposicao"
        ]
       ],
       "shape": {
        "columns": 4,
        "rows": 5
       }
      },
      "text/html": [
       "<div>\n",
       "<style scoped>\n",
       "    .dataframe tbody tr th:only-of-type {\n",
       "        vertical-align: middle;\n",
       "    }\n",
       "\n",
       "    .dataframe tbody tr th {\n",
       "        vertical-align: top;\n",
       "    }\n",
       "\n",
       "    .dataframe thead th {\n",
       "        text-align: right;\n",
       "    }\n",
       "</style>\n",
       "<table border=\"1\" class=\"dataframe\">\n",
       "  <thead>\n",
       "    <tr style=\"text-align: right;\">\n",
       "      <th></th>\n",
       "      <th>name</th>\n",
       "      <th>label</th>\n",
       "      <th>partido</th>\n",
       "      <th>type</th>\n",
       "    </tr>\n",
       "  </thead>\n",
       "  <tbody>\n",
       "    <tr>\n",
       "      <th>0</th>\n",
       "      <td>CP:2187087</td>\n",
       "      <td>PL 5029/2019</td>\n",
       "      <td>NaN</td>\n",
       "      <td>Proposicao</td>\n",
       "    </tr>\n",
       "    <tr>\n",
       "      <th>1</th>\n",
       "      <td>CP:2190408</td>\n",
       "      <td>PL 2/2019</td>\n",
       "      <td>NaN</td>\n",
       "      <td>Proposicao</td>\n",
       "    </tr>\n",
       "    <tr>\n",
       "      <th>2</th>\n",
       "      <td>CP:2190417</td>\n",
       "      <td>PL 10/2019</td>\n",
       "      <td>NaN</td>\n",
       "      <td>Proposicao</td>\n",
       "    </tr>\n",
       "    <tr>\n",
       "      <th>3</th>\n",
       "      <td>CP:2190423</td>\n",
       "      <td>PL 15/2019</td>\n",
       "      <td>NaN</td>\n",
       "      <td>Proposicao</td>\n",
       "    </tr>\n",
       "    <tr>\n",
       "      <th>4</th>\n",
       "      <td>CP:2190450</td>\n",
       "      <td>PL 21/2019</td>\n",
       "      <td>NaN</td>\n",
       "      <td>Proposicao</td>\n",
       "    </tr>\n",
       "  </tbody>\n",
       "</table>\n",
       "</div>"
      ],
      "text/plain": [
       "         name         label partido        type\n",
       "0  CP:2187087  PL 5029/2019     NaN  Proposicao\n",
       "1  CP:2190408     PL 2/2019     NaN  Proposicao\n",
       "2  CP:2190417    PL 10/2019     NaN  Proposicao\n",
       "3  CP:2190423    PL 15/2019     NaN  Proposicao\n",
       "4  CP:2190450    PL 21/2019     NaN  Proposicao"
      ]
     },
     "execution_count": 3,
     "metadata": {},
     "output_type": "execute_result"
    }
   ],
   "source": [
    "\n",
    "nodes_df = pd.read_csv(NODES_PATH_CSV)\n",
    "nodes_df = nodes_df.rename(columns={\"tag\": \"name\"})\n",
    "nodes_df.head()"
   ]
  },
  {
   "cell_type": "code",
   "execution_count": 4,
   "id": "745ff965",
   "metadata": {},
   "outputs": [],
   "source": [
    "edge_tuples = list(zip(edges_df['from'], edges_df['to']))\n",
    "g = ig.Graph.TupleList(\n",
    "    edge_tuples,\n",
    "    directed=False,\n",
    "    vertex_name_attr=\"name\"\n",
    ")"
   ]
  },
  {
   "cell_type": "code",
   "execution_count": 5,
   "id": "f20d2b88",
   "metadata": {},
   "outputs": [],
   "source": [
    "for col in nodes_df.columns:\n",
    "    if col != \"name\":\n",
    "        g.vs[col] = nodes_df.set_index(\"name\").loc[g.vs[\"name\"], col].tolist()"
   ]
  },
  {
   "cell_type": "code",
   "execution_count": 6,
   "id": "8bdd7d82",
   "metadata": {},
   "outputs": [],
   "source": [
    "for col in edges_df.columns:\n",
    "    if col not in (\"from\", \"to\"):\n",
    "        g.es[col] = edges_df[col].tolist()"
   ]
  },
  {
   "cell_type": "code",
   "execution_count": 7,
   "id": "9ecdf093",
   "metadata": {},
   "outputs": [
    {
     "name": "stdout",
     "output_type": "stream",
     "text": [
      "IGRAPH UN-T 30938 51532 -- \n",
      "+ attr: label (v), name (v), partido (v), type (v), etype (e)\n"
     ]
    }
   ],
   "source": [
    "print(g.summary())"
   ]
  },
  {
   "cell_type": "code",
   "execution_count": 8,
   "id": "da59a514",
   "metadata": {},
   "outputs": [
    {
     "name": "stdout",
     "output_type": "stream",
     "text": [
      "|V| = 30938\n",
      "|E| = 51532\n",
      "Densidade: 0.00010768037550001651\n",
      "105 componentes conexos.\n"
     ]
    },
    {
     "data": {
      "application/vnd.microsoft.datawrangler.viewer.v0+json": {
       "columns": [
        {
         "name": "index",
         "rawType": "int64",
         "type": "integer"
        },
        {
         "name": "component_id",
         "rawType": "int64",
         "type": "integer"
        },
        {
         "name": "size",
         "rawType": "int64",
         "type": "integer"
        }
       ],
       "ref": "a6bfd3b1-ba50-4faf-8436-bcf07e69f12e",
       "rows": [
        [
         "0",
         "0",
         "28726"
        ],
        [
         "1",
         "6",
         "1374"
        ],
        [
         "2",
         "7",
         "60"
        ],
        [
         "3",
         "65",
         "45"
        ],
        [
         "4",
         "14",
         "42"
        ],
        [
         "5",
         "41",
         "33"
        ],
        [
         "6",
         "30",
         "31"
        ],
        [
         "7",
         "22",
         "30"
        ],
        [
         "8",
         "13",
         "29"
        ],
        [
         "9",
         "11",
         "25"
        ],
        [
         "10",
         "15",
         "22"
        ],
        [
         "11",
         "28",
         "18"
        ],
        [
         "12",
         "61",
         "17"
        ],
        [
         "13",
         "55",
         "17"
        ],
        [
         "14",
         "5",
         "16"
        ],
        [
         "15",
         "26",
         "15"
        ],
        [
         "16",
         "17",
         "15"
        ],
        [
         "17",
         "60",
         "13"
        ],
        [
         "18",
         "16",
         "12"
        ],
        [
         "19",
         "54",
         "12"
        ],
        [
         "20",
         "45",
         "12"
        ],
        [
         "21",
         "10",
         "12"
        ],
        [
         "22",
         "40",
         "11"
        ],
        [
         "23",
         "36",
         "11"
        ],
        [
         "24",
         "27",
         "11"
        ],
        [
         "25",
         "56",
         "11"
        ],
        [
         "26",
         "62",
         "11"
        ],
        [
         "27",
         "68",
         "10"
        ],
        [
         "28",
         "8",
         "9"
        ],
        [
         "29",
         "87",
         "9"
        ],
        [
         "30",
         "53",
         "9"
        ],
        [
         "31",
         "19",
         "9"
        ],
        [
         "32",
         "89",
         "9"
        ],
        [
         "33",
         "9",
         "9"
        ],
        [
         "34",
         "92",
         "8"
        ],
        [
         "35",
         "64",
         "7"
        ],
        [
         "36",
         "50",
         "7"
        ],
        [
         "37",
         "12",
         "7"
        ],
        [
         "38",
         "91",
         "7"
        ],
        [
         "39",
         "97",
         "7"
        ],
        [
         "40",
         "104",
         "7"
        ],
        [
         "41",
         "75",
         "7"
        ],
        [
         "42",
         "52",
         "7"
        ],
        [
         "43",
         "95",
         "7"
        ],
        [
         "44",
         "76",
         "6"
        ],
        [
         "45",
         "79",
         "5"
        ],
        [
         "46",
         "103",
         "5"
        ],
        [
         "47",
         "31",
         "5"
        ],
        [
         "48",
         "93",
         "5"
        ],
        [
         "49",
         "44",
         "5"
        ]
       ],
       "shape": {
        "columns": 2,
        "rows": 105
       }
      },
      "text/html": [
       "<div>\n",
       "<style scoped>\n",
       "    .dataframe tbody tr th:only-of-type {\n",
       "        vertical-align: middle;\n",
       "    }\n",
       "\n",
       "    .dataframe tbody tr th {\n",
       "        vertical-align: top;\n",
       "    }\n",
       "\n",
       "    .dataframe thead th {\n",
       "        text-align: right;\n",
       "    }\n",
       "</style>\n",
       "<table border=\"1\" class=\"dataframe\">\n",
       "  <thead>\n",
       "    <tr style=\"text-align: right;\">\n",
       "      <th></th>\n",
       "      <th>component_id</th>\n",
       "      <th>size</th>\n",
       "    </tr>\n",
       "  </thead>\n",
       "  <tbody>\n",
       "    <tr>\n",
       "      <th>0</th>\n",
       "      <td>0</td>\n",
       "      <td>28726</td>\n",
       "    </tr>\n",
       "    <tr>\n",
       "      <th>1</th>\n",
       "      <td>6</td>\n",
       "      <td>1374</td>\n",
       "    </tr>\n",
       "    <tr>\n",
       "      <th>2</th>\n",
       "      <td>7</td>\n",
       "      <td>60</td>\n",
       "    </tr>\n",
       "    <tr>\n",
       "      <th>3</th>\n",
       "      <td>65</td>\n",
       "      <td>45</td>\n",
       "    </tr>\n",
       "    <tr>\n",
       "      <th>4</th>\n",
       "      <td>14</td>\n",
       "      <td>42</td>\n",
       "    </tr>\n",
       "    <tr>\n",
       "      <th>...</th>\n",
       "      <td>...</td>\n",
       "      <td>...</td>\n",
       "    </tr>\n",
       "    <tr>\n",
       "      <th>100</th>\n",
       "      <td>84</td>\n",
       "      <td>2</td>\n",
       "    </tr>\n",
       "    <tr>\n",
       "      <th>101</th>\n",
       "      <td>73</td>\n",
       "      <td>2</td>\n",
       "    </tr>\n",
       "    <tr>\n",
       "      <th>102</th>\n",
       "      <td>96</td>\n",
       "      <td>2</td>\n",
       "    </tr>\n",
       "    <tr>\n",
       "      <th>103</th>\n",
       "      <td>90</td>\n",
       "      <td>2</td>\n",
       "    </tr>\n",
       "    <tr>\n",
       "      <th>104</th>\n",
       "      <td>94</td>\n",
       "      <td>2</td>\n",
       "    </tr>\n",
       "  </tbody>\n",
       "</table>\n",
       "<p>105 rows × 2 columns</p>\n",
       "</div>"
      ],
      "text/plain": [
       "     component_id   size\n",
       "0               0  28726\n",
       "1               6   1374\n",
       "2               7     60\n",
       "3              65     45\n",
       "4              14     42\n",
       "..            ...    ...\n",
       "100            84      2\n",
       "101            73      2\n",
       "102            96      2\n",
       "103            90      2\n",
       "104            94      2\n",
       "\n",
       "[105 rows x 2 columns]"
      ]
     },
     "execution_count": 8,
     "metadata": {},
     "output_type": "execute_result"
    }
   ],
   "source": [
    "summary = g.summary()\n",
    "vcount, ecount = g.vcount(), g.ecount()\n",
    "density = g.density()\n",
    "components = g.components()\n",
    "component_sizes = pd.Series([len(c) for c in components], name=\"size\").to_frame()\n",
    "component_sizes[\"component_id\"] = component_sizes.index\n",
    "component_sizes = component_sizes[[\"component_id\",\"size\"]].sort_values(\"size\", ascending=False).reset_index(drop=True)\n",
    "\n",
    "print(f\"|V| = {vcount}\")\n",
    "print(f\"|E| = {ecount}\")\n",
    "print(f\"Densidade: {density}\")\n",
    "print(f\"{len(components)} componentes conexos.\")\n",
    "component_sizes"
   ]
  },
  {
   "cell_type": "code",
   "execution_count": 9,
   "id": "9e1eb624",
   "metadata": {},
   "outputs": [],
   "source": [
    "comp_id_map = {}\n",
    "for cid, comp in enumerate(components):\n",
    "    for vid in comp:\n",
    "        comp_id_map[vid] = cid\n",
    "        \n",
    "degree_all   = g.degree()\n",
    "eigenvector  = g.eigenvector_centrality()\n",
    "community_method = None\n",
    "cl = g.community_leiden(objective_function=\"modularity\")\n",
    "membership = cl.membership\n",
    "vertex_metrics = pd.DataFrame({\n",
    "    \"id\":                 g.vs[\"name\"],\n",
    "    \"type\":               g.vs[\"type\"],\n",
    "    \"label\": g.vs[\"label\"],\n",
    "    \"degree\":             degree_all,\n",
    "    \"eigenvector\":        eigenvector,\n",
    "    \"community_id\":       membership,\n",
    "    \"component_id\":       [comp_id_map[i] for i in range(vcount)],\n",
    "})"
   ]
  },
  {
   "cell_type": "code",
   "execution_count": 10,
   "id": "b27d3813",
   "metadata": {},
   "outputs": [],
   "source": [
    "def top_n(df: pd.DataFrame, col: str, n: int = 10, node_types: list | None = None) -> pd.DataFrame:\n",
    "    sub = df if node_types is None else df[df[\"type\"].isin(node_types)]\n",
    "    return sub.sort_values(col, ascending=False).head(n).reset_index(drop=True)\n"
   ]
  },
  {
   "cell_type": "code",
   "execution_count": 11,
   "id": "ca9432eb",
   "metadata": {},
   "outputs": [],
   "source": [
    "top10_deps_eigen = top_n(vertex_metrics, \"eigenvector\", 10, node_types=[\"Deputado\"])\n",
    "top10_sens_eigen = top_n(vertex_metrics, \"eigenvector\", 10, node_types=[\"Senador\"])\n",
    "top10_orgs_eigen = top_n(vertex_metrics, \"eigenvector\", 10, node_types=[\"Orgao\"])\n",
    "top10_ents_eigen = top_n(vertex_metrics, \"eigenvector\", 10, node_types=[\"Ente\"])\n"
   ]
  },
  {
   "cell_type": "code",
   "execution_count": 12,
   "id": "b434c6df",
   "metadata": {},
   "outputs": [
    {
     "data": {
      "application/vnd.microsoft.datawrangler.viewer.v0+json": {
       "columns": [
        {
         "name": "index",
         "rawType": "int64",
         "type": "integer"
        },
        {
         "name": "id",
         "rawType": "object",
         "type": "string"
        },
        {
         "name": "type",
         "rawType": "object",
         "type": "string"
        },
        {
         "name": "label",
         "rawType": "object",
         "type": "string"
        },
        {
         "name": "degree",
         "rawType": "int64",
         "type": "integer"
        },
        {
         "name": "eigenvector",
         "rawType": "float64",
         "type": "float"
        },
        {
         "name": "community_id",
         "rawType": "int64",
         "type": "integer"
        },
        {
         "name": "component_id",
         "rawType": "int64",
         "type": "integer"
        }
       ],
       "ref": "49bc7f31-e5f5-4fe6-a0ca-be3d3a79aa5d",
       "rows": [
        [
         "0",
         "CD:204467",
         "Deputado",
         "ROSA NEIDE SANDES DE ALMEIDA",
         "235",
         "1.0",
         "2",
         "0"
        ],
        [
         "1",
         "CD:178970",
         "Deputado",
         "JOAO SOMARIVA DANIEL",
         "259",
         "0.9909903689864333",
         "2",
         "0"
        ],
        [
         "2",
         "CD:178986",
         "Deputado",
         "NILTO IGNACIO TATTO",
         "253",
         "0.9864013387045286",
         "2",
         "0"
        ],
        [
         "3",
         "CD:74160",
         "Deputado",
         "PATRUS ANANIAS DE SOUZA",
         "199",
         "0.9838843346711701",
         "2",
         "0"
        ],
        [
         "4",
         "CD:160535",
         "Deputado",
         "DIONILSO MATEUS MARCON",
         "183",
         "0.9778333159851506",
         "2",
         "0"
        ],
        [
         "5",
         "CD:204393",
         "Deputado",
         "ANTONIO RIBEIRO",
         "202",
         "0.9537566596278589",
         "2",
         "0"
        ],
        [
         "6",
         "CD:160610",
         "Deputado",
         "VALMIR CARLOS DA ASSUNÇÃO",
         "195",
         "0.9505996565994143",
         "2",
         "0"
        ],
        [
         "7",
         "CD:204555",
         "Deputado",
         "JOSÉ RICARDO WENDLING",
         "186",
         "0.9446895430594068",
         "2",
         "0"
        ],
        [
         "8",
         "CD:204480",
         "Deputado",
         "ROGÉRIO CORREIA DE MOURA BAPTISTA",
         "191",
         "0.9381105632201105",
         "2",
         "0"
        ],
        [
         "9",
         "CD:204370",
         "Deputado",
         "CELIO ALVES DE MOURA",
         "158",
         "0.9272759180184912",
         "2",
         "0"
        ]
       ],
       "shape": {
        "columns": 7,
        "rows": 10
       }
      },
      "text/html": [
       "<div>\n",
       "<style scoped>\n",
       "    .dataframe tbody tr th:only-of-type {\n",
       "        vertical-align: middle;\n",
       "    }\n",
       "\n",
       "    .dataframe tbody tr th {\n",
       "        vertical-align: top;\n",
       "    }\n",
       "\n",
       "    .dataframe thead th {\n",
       "        text-align: right;\n",
       "    }\n",
       "</style>\n",
       "<table border=\"1\" class=\"dataframe\">\n",
       "  <thead>\n",
       "    <tr style=\"text-align: right;\">\n",
       "      <th></th>\n",
       "      <th>id</th>\n",
       "      <th>type</th>\n",
       "      <th>label</th>\n",
       "      <th>degree</th>\n",
       "      <th>eigenvector</th>\n",
       "      <th>community_id</th>\n",
       "      <th>component_id</th>\n",
       "    </tr>\n",
       "  </thead>\n",
       "  <tbody>\n",
       "    <tr>\n",
       "      <th>0</th>\n",
       "      <td>CD:204467</td>\n",
       "      <td>Deputado</td>\n",
       "      <td>ROSA NEIDE SANDES DE ALMEIDA</td>\n",
       "      <td>235</td>\n",
       "      <td>1.000000</td>\n",
       "      <td>2</td>\n",
       "      <td>0</td>\n",
       "    </tr>\n",
       "    <tr>\n",
       "      <th>1</th>\n",
       "      <td>CD:178970</td>\n",
       "      <td>Deputado</td>\n",
       "      <td>JOAO SOMARIVA DANIEL</td>\n",
       "      <td>259</td>\n",
       "      <td>0.990990</td>\n",
       "      <td>2</td>\n",
       "      <td>0</td>\n",
       "    </tr>\n",
       "    <tr>\n",
       "      <th>2</th>\n",
       "      <td>CD:178986</td>\n",
       "      <td>Deputado</td>\n",
       "      <td>NILTO IGNACIO TATTO</td>\n",
       "      <td>253</td>\n",
       "      <td>0.986401</td>\n",
       "      <td>2</td>\n",
       "      <td>0</td>\n",
       "    </tr>\n",
       "    <tr>\n",
       "      <th>3</th>\n",
       "      <td>CD:74160</td>\n",
       "      <td>Deputado</td>\n",
       "      <td>PATRUS ANANIAS DE SOUZA</td>\n",
       "      <td>199</td>\n",
       "      <td>0.983884</td>\n",
       "      <td>2</td>\n",
       "      <td>0</td>\n",
       "    </tr>\n",
       "    <tr>\n",
       "      <th>4</th>\n",
       "      <td>CD:160535</td>\n",
       "      <td>Deputado</td>\n",
       "      <td>DIONILSO MATEUS MARCON</td>\n",
       "      <td>183</td>\n",
       "      <td>0.977833</td>\n",
       "      <td>2</td>\n",
       "      <td>0</td>\n",
       "    </tr>\n",
       "    <tr>\n",
       "      <th>5</th>\n",
       "      <td>CD:204393</td>\n",
       "      <td>Deputado</td>\n",
       "      <td>ANTONIO RIBEIRO</td>\n",
       "      <td>202</td>\n",
       "      <td>0.953757</td>\n",
       "      <td>2</td>\n",
       "      <td>0</td>\n",
       "    </tr>\n",
       "    <tr>\n",
       "      <th>6</th>\n",
       "      <td>CD:160610</td>\n",
       "      <td>Deputado</td>\n",
       "      <td>VALMIR CARLOS DA ASSUNÇÃO</td>\n",
       "      <td>195</td>\n",
       "      <td>0.950600</td>\n",
       "      <td>2</td>\n",
       "      <td>0</td>\n",
       "    </tr>\n",
       "    <tr>\n",
       "      <th>7</th>\n",
       "      <td>CD:204555</td>\n",
       "      <td>Deputado</td>\n",
       "      <td>JOSÉ RICARDO WENDLING</td>\n",
       "      <td>186</td>\n",
       "      <td>0.944690</td>\n",
       "      <td>2</td>\n",
       "      <td>0</td>\n",
       "    </tr>\n",
       "    <tr>\n",
       "      <th>8</th>\n",
       "      <td>CD:204480</td>\n",
       "      <td>Deputado</td>\n",
       "      <td>ROGÉRIO CORREIA DE MOURA BAPTISTA</td>\n",
       "      <td>191</td>\n",
       "      <td>0.938111</td>\n",
       "      <td>2</td>\n",
       "      <td>0</td>\n",
       "    </tr>\n",
       "    <tr>\n",
       "      <th>9</th>\n",
       "      <td>CD:204370</td>\n",
       "      <td>Deputado</td>\n",
       "      <td>CELIO ALVES DE MOURA</td>\n",
       "      <td>158</td>\n",
       "      <td>0.927276</td>\n",
       "      <td>2</td>\n",
       "      <td>0</td>\n",
       "    </tr>\n",
       "  </tbody>\n",
       "</table>\n",
       "</div>"
      ],
      "text/plain": [
       "          id      type                              label  degree  \\\n",
       "0  CD:204467  Deputado       ROSA NEIDE SANDES DE ALMEIDA     235   \n",
       "1  CD:178970  Deputado               JOAO SOMARIVA DANIEL     259   \n",
       "2  CD:178986  Deputado                NILTO IGNACIO TATTO     253   \n",
       "3   CD:74160  Deputado            PATRUS ANANIAS DE SOUZA     199   \n",
       "4  CD:160535  Deputado             DIONILSO MATEUS MARCON     183   \n",
       "5  CD:204393  Deputado                    ANTONIO RIBEIRO     202   \n",
       "6  CD:160610  Deputado          VALMIR CARLOS DA ASSUNÇÃO     195   \n",
       "7  CD:204555  Deputado              JOSÉ RICARDO WENDLING     186   \n",
       "8  CD:204480  Deputado  ROGÉRIO CORREIA DE MOURA BAPTISTA     191   \n",
       "9  CD:204370  Deputado               CELIO ALVES DE MOURA     158   \n",
       "\n",
       "   eigenvector  community_id  component_id  \n",
       "0     1.000000             2             0  \n",
       "1     0.990990             2             0  \n",
       "2     0.986401             2             0  \n",
       "3     0.983884             2             0  \n",
       "4     0.977833             2             0  \n",
       "5     0.953757             2             0  \n",
       "6     0.950600             2             0  \n",
       "7     0.944690             2             0  \n",
       "8     0.938111             2             0  \n",
       "9     0.927276             2             0  "
      ]
     },
     "execution_count": 12,
     "metadata": {},
     "output_type": "execute_result"
    }
   ],
   "source": [
    "top10_deps_eigen"
   ]
  },
  {
   "cell_type": "code",
   "execution_count": 13,
   "id": "3c8df9b4",
   "metadata": {},
   "outputs": [
    {
     "data": {
      "application/vnd.microsoft.datawrangler.viewer.v0+json": {
       "columns": [
        {
         "name": "index",
         "rawType": "int64",
         "type": "integer"
        },
        {
         "name": "id",
         "rawType": "object",
         "type": "string"
        },
        {
         "name": "type",
         "rawType": "object",
         "type": "string"
        },
        {
         "name": "label",
         "rawType": "object",
         "type": "string"
        },
        {
         "name": "degree",
         "rawType": "int64",
         "type": "integer"
        },
        {
         "name": "eigenvector",
         "rawType": "float64",
         "type": "float"
        },
        {
         "name": "community_id",
         "rawType": "int64",
         "type": "integer"
        },
        {
         "name": "component_id",
         "rawType": "int64",
         "type": "integer"
        }
       ],
       "ref": "b574ef90-adf5-4e60-b60c-651f0a4b0275",
       "rows": [
        [
         "0",
         "SS:345",
         "Senador",
         "Flávio Arns",
         "77",
         "5.360080760060052e-10",
         "62",
         "0"
        ],
        [
         "1",
         "SS:5748",
         "Senador",
         "Veneziano Vital do Rêgo",
         "80",
         "5.005303328250173e-10",
         "62",
         "0"
        ],
        [
         "2",
         "SS:825",
         "Senador",
         "Paulo Paim",
         "112",
         "4.554664781246153e-10",
         "62",
         "0"
        ],
        [
         "3",
         "SS:5895",
         "Senador",
         "Jorge Kajuru",
         "79",
         "4.0822258413226603e-10",
         "62",
         "0"
        ],
        [
         "4",
         "SS:22",
         "Senador",
         "Esperidião Amin",
         "62",
         "3.7102629447407846e-10",
         "62",
         "0"
        ],
        [
         "5",
         "SS:5985",
         "Senador",
         "Nelsinho Trad",
         "57",
         "3.6195701971747467e-10",
         "62",
         "0"
        ],
        [
         "6",
         "SS:5979",
         "Senador",
         "Leila Barros",
         "67",
         "3.5585660965735656e-10",
         "62",
         "0"
        ],
        [
         "7",
         "SS:1173",
         "Senador",
         "Wellington Fagundes",
         "44",
         "3.553413321375777e-10",
         "62",
         "0"
        ],
        [
         "8",
         "SS:5953",
         "Senador",
         "Fabiano Contarato",
         "63",
         "3.498571792628436e-10",
         "62",
         "0"
        ],
        [
         "9",
         "SS:475",
         "Senador",
         "Confúcio Moura",
         "70",
         "3.220067154539829e-10",
         "62",
         "0"
        ]
       ],
       "shape": {
        "columns": 7,
        "rows": 10
       }
      },
      "text/html": [
       "<div>\n",
       "<style scoped>\n",
       "    .dataframe tbody tr th:only-of-type {\n",
       "        vertical-align: middle;\n",
       "    }\n",
       "\n",
       "    .dataframe tbody tr th {\n",
       "        vertical-align: top;\n",
       "    }\n",
       "\n",
       "    .dataframe thead th {\n",
       "        text-align: right;\n",
       "    }\n",
       "</style>\n",
       "<table border=\"1\" class=\"dataframe\">\n",
       "  <thead>\n",
       "    <tr style=\"text-align: right;\">\n",
       "      <th></th>\n",
       "      <th>id</th>\n",
       "      <th>type</th>\n",
       "      <th>label</th>\n",
       "      <th>degree</th>\n",
       "      <th>eigenvector</th>\n",
       "      <th>community_id</th>\n",
       "      <th>component_id</th>\n",
       "    </tr>\n",
       "  </thead>\n",
       "  <tbody>\n",
       "    <tr>\n",
       "      <th>0</th>\n",
       "      <td>SS:345</td>\n",
       "      <td>Senador</td>\n",
       "      <td>Flávio Arns</td>\n",
       "      <td>77</td>\n",
       "      <td>5.360081e-10</td>\n",
       "      <td>62</td>\n",
       "      <td>0</td>\n",
       "    </tr>\n",
       "    <tr>\n",
       "      <th>1</th>\n",
       "      <td>SS:5748</td>\n",
       "      <td>Senador</td>\n",
       "      <td>Veneziano Vital do Rêgo</td>\n",
       "      <td>80</td>\n",
       "      <td>5.005303e-10</td>\n",
       "      <td>62</td>\n",
       "      <td>0</td>\n",
       "    </tr>\n",
       "    <tr>\n",
       "      <th>2</th>\n",
       "      <td>SS:825</td>\n",
       "      <td>Senador</td>\n",
       "      <td>Paulo Paim</td>\n",
       "      <td>112</td>\n",
       "      <td>4.554665e-10</td>\n",
       "      <td>62</td>\n",
       "      <td>0</td>\n",
       "    </tr>\n",
       "    <tr>\n",
       "      <th>3</th>\n",
       "      <td>SS:5895</td>\n",
       "      <td>Senador</td>\n",
       "      <td>Jorge Kajuru</td>\n",
       "      <td>79</td>\n",
       "      <td>4.082226e-10</td>\n",
       "      <td>62</td>\n",
       "      <td>0</td>\n",
       "    </tr>\n",
       "    <tr>\n",
       "      <th>4</th>\n",
       "      <td>SS:22</td>\n",
       "      <td>Senador</td>\n",
       "      <td>Esperidião Amin</td>\n",
       "      <td>62</td>\n",
       "      <td>3.710263e-10</td>\n",
       "      <td>62</td>\n",
       "      <td>0</td>\n",
       "    </tr>\n",
       "    <tr>\n",
       "      <th>5</th>\n",
       "      <td>SS:5985</td>\n",
       "      <td>Senador</td>\n",
       "      <td>Nelsinho Trad</td>\n",
       "      <td>57</td>\n",
       "      <td>3.619570e-10</td>\n",
       "      <td>62</td>\n",
       "      <td>0</td>\n",
       "    </tr>\n",
       "    <tr>\n",
       "      <th>6</th>\n",
       "      <td>SS:5979</td>\n",
       "      <td>Senador</td>\n",
       "      <td>Leila Barros</td>\n",
       "      <td>67</td>\n",
       "      <td>3.558566e-10</td>\n",
       "      <td>62</td>\n",
       "      <td>0</td>\n",
       "    </tr>\n",
       "    <tr>\n",
       "      <th>7</th>\n",
       "      <td>SS:1173</td>\n",
       "      <td>Senador</td>\n",
       "      <td>Wellington Fagundes</td>\n",
       "      <td>44</td>\n",
       "      <td>3.553413e-10</td>\n",
       "      <td>62</td>\n",
       "      <td>0</td>\n",
       "    </tr>\n",
       "    <tr>\n",
       "      <th>8</th>\n",
       "      <td>SS:5953</td>\n",
       "      <td>Senador</td>\n",
       "      <td>Fabiano Contarato</td>\n",
       "      <td>63</td>\n",
       "      <td>3.498572e-10</td>\n",
       "      <td>62</td>\n",
       "      <td>0</td>\n",
       "    </tr>\n",
       "    <tr>\n",
       "      <th>9</th>\n",
       "      <td>SS:475</td>\n",
       "      <td>Senador</td>\n",
       "      <td>Confúcio Moura</td>\n",
       "      <td>70</td>\n",
       "      <td>3.220067e-10</td>\n",
       "      <td>62</td>\n",
       "      <td>0</td>\n",
       "    </tr>\n",
       "  </tbody>\n",
       "</table>\n",
       "</div>"
      ],
      "text/plain": [
       "        id     type                    label  degree   eigenvector  \\\n",
       "0   SS:345  Senador              Flávio Arns      77  5.360081e-10   \n",
       "1  SS:5748  Senador  Veneziano Vital do Rêgo      80  5.005303e-10   \n",
       "2   SS:825  Senador               Paulo Paim     112  4.554665e-10   \n",
       "3  SS:5895  Senador             Jorge Kajuru      79  4.082226e-10   \n",
       "4    SS:22  Senador          Esperidião Amin      62  3.710263e-10   \n",
       "5  SS:5985  Senador            Nelsinho Trad      57  3.619570e-10   \n",
       "6  SS:5979  Senador             Leila Barros      67  3.558566e-10   \n",
       "7  SS:1173  Senador      Wellington Fagundes      44  3.553413e-10   \n",
       "8  SS:5953  Senador        Fabiano Contarato      63  3.498572e-10   \n",
       "9   SS:475  Senador           Confúcio Moura      70  3.220067e-10   \n",
       "\n",
       "   community_id  component_id  \n",
       "0            62             0  \n",
       "1            62             0  \n",
       "2            62             0  \n",
       "3            62             0  \n",
       "4            62             0  \n",
       "5            62             0  \n",
       "6            62             0  \n",
       "7            62             0  \n",
       "8            62             0  \n",
       "9            62             0  "
      ]
     },
     "execution_count": 13,
     "metadata": {},
     "output_type": "execute_result"
    }
   ],
   "source": [
    "top10_sens_eigen"
   ]
  },
  {
   "cell_type": "code",
   "execution_count": 14,
   "id": "9d59d9c3",
   "metadata": {},
   "outputs": [
    {
     "data": {
      "application/vnd.microsoft.datawrangler.viewer.v0+json": {
       "columns": [
        {
         "name": "index",
         "rawType": "int64",
         "type": "integer"
        },
        {
         "name": "id",
         "rawType": "object",
         "type": "string"
        },
        {
         "name": "type",
         "rawType": "object",
         "type": "string"
        },
        {
         "name": "label",
         "rawType": "object",
         "type": "string"
        },
        {
         "name": "degree",
         "rawType": "int64",
         "type": "integer"
        },
        {
         "name": "eigenvector",
         "rawType": "float64",
         "type": "float"
        },
        {
         "name": "community_id",
         "rawType": "int64",
         "type": "integer"
        },
        {
         "name": "component_id",
         "rawType": "int64",
         "type": "integer"
        }
       ],
       "ref": "887841e2-2c0e-44f0-9156-da42d9afd4d4",
       "rows": [
        [
         "0",
         "CO:100292",
         "Orgao",
         "CÂMARA DOS DEPUTADOS",
         "2",
         "2.0188564310011772e-05",
         "7",
         "0"
        ],
        [
         "1",
         "CO:78",
         "Orgao",
         "Senado Federal",
         "894",
         "3.588246352433623e-06",
         "62",
         "0"
        ],
        [
         "2",
         "CO:4",
         "Orgao",
         "Mesa Diretora da Câmara dos Deputados",
         "2",
         "8.684608094730881e-09",
         "7",
         "0"
        ],
        [
         "3",
         "CO:6066",
         "Orgao",
         "Comissão de Turismo",
         "1",
         "4.341370072957339e-09",
         "7",
         "0"
        ],
        [
         "4",
         "CO:538490",
         "Orgao",
         "Comissão especial destinada a acompanhar as ações de combate ao câncer no Brasil",
         "1",
         "4.341370072949889e-09",
         "7",
         "0"
        ],
        [
         "5",
         "CO:2014",
         "Orgao",
         "Comissão de Saúde",
         "8",
         "0.0",
         "93",
         "19"
        ],
        [
         "6",
         "CO:81",
         "Orgao",
         "Superior Tribunal de Justiça",
         "4",
         "0.0",
         "81",
         "12"
        ],
        [
         "7",
         "CO:5438",
         "Orgao",
         "Comissão de Legislação Participativa",
         "41",
         "0.0",
         "83",
         "14"
        ],
        [
         "8",
         "CO:101347",
         "Orgao",
         "Procuradoria-Geral da República",
         "2",
         "0.0",
         "88",
         "16"
        ],
        [
         "9",
         "CO:253",
         "Orgao",
         "Poder Executivo",
         "591",
         "0.0",
         "61",
         "6"
        ]
       ],
       "shape": {
        "columns": 7,
        "rows": 10
       }
      },
      "text/html": [
       "<div>\n",
       "<style scoped>\n",
       "    .dataframe tbody tr th:only-of-type {\n",
       "        vertical-align: middle;\n",
       "    }\n",
       "\n",
       "    .dataframe tbody tr th {\n",
       "        vertical-align: top;\n",
       "    }\n",
       "\n",
       "    .dataframe thead th {\n",
       "        text-align: right;\n",
       "    }\n",
       "</style>\n",
       "<table border=\"1\" class=\"dataframe\">\n",
       "  <thead>\n",
       "    <tr style=\"text-align: right;\">\n",
       "      <th></th>\n",
       "      <th>id</th>\n",
       "      <th>type</th>\n",
       "      <th>label</th>\n",
       "      <th>degree</th>\n",
       "      <th>eigenvector</th>\n",
       "      <th>community_id</th>\n",
       "      <th>component_id</th>\n",
       "    </tr>\n",
       "  </thead>\n",
       "  <tbody>\n",
       "    <tr>\n",
       "      <th>0</th>\n",
       "      <td>CO:100292</td>\n",
       "      <td>Orgao</td>\n",
       "      <td>CÂMARA DOS DEPUTADOS</td>\n",
       "      <td>2</td>\n",
       "      <td>2.018856e-05</td>\n",
       "      <td>7</td>\n",
       "      <td>0</td>\n",
       "    </tr>\n",
       "    <tr>\n",
       "      <th>1</th>\n",
       "      <td>CO:78</td>\n",
       "      <td>Orgao</td>\n",
       "      <td>Senado Federal</td>\n",
       "      <td>894</td>\n",
       "      <td>3.588246e-06</td>\n",
       "      <td>62</td>\n",
       "      <td>0</td>\n",
       "    </tr>\n",
       "    <tr>\n",
       "      <th>2</th>\n",
       "      <td>CO:4</td>\n",
       "      <td>Orgao</td>\n",
       "      <td>Mesa Diretora da Câmara dos Deputados</td>\n",
       "      <td>2</td>\n",
       "      <td>8.684608e-09</td>\n",
       "      <td>7</td>\n",
       "      <td>0</td>\n",
       "    </tr>\n",
       "    <tr>\n",
       "      <th>3</th>\n",
       "      <td>CO:6066</td>\n",
       "      <td>Orgao</td>\n",
       "      <td>Comissão de Turismo</td>\n",
       "      <td>1</td>\n",
       "      <td>4.341370e-09</td>\n",
       "      <td>7</td>\n",
       "      <td>0</td>\n",
       "    </tr>\n",
       "    <tr>\n",
       "      <th>4</th>\n",
       "      <td>CO:538490</td>\n",
       "      <td>Orgao</td>\n",
       "      <td>Comissão especial destinada a acompanhar as aç...</td>\n",
       "      <td>1</td>\n",
       "      <td>4.341370e-09</td>\n",
       "      <td>7</td>\n",
       "      <td>0</td>\n",
       "    </tr>\n",
       "    <tr>\n",
       "      <th>5</th>\n",
       "      <td>CO:2014</td>\n",
       "      <td>Orgao</td>\n",
       "      <td>Comissão de Saúde</td>\n",
       "      <td>8</td>\n",
       "      <td>0.000000e+00</td>\n",
       "      <td>93</td>\n",
       "      <td>19</td>\n",
       "    </tr>\n",
       "    <tr>\n",
       "      <th>6</th>\n",
       "      <td>CO:81</td>\n",
       "      <td>Orgao</td>\n",
       "      <td>Superior Tribunal de Justiça</td>\n",
       "      <td>4</td>\n",
       "      <td>0.000000e+00</td>\n",
       "      <td>81</td>\n",
       "      <td>12</td>\n",
       "    </tr>\n",
       "    <tr>\n",
       "      <th>7</th>\n",
       "      <td>CO:5438</td>\n",
       "      <td>Orgao</td>\n",
       "      <td>Comissão de Legislação Participativa</td>\n",
       "      <td>41</td>\n",
       "      <td>0.000000e+00</td>\n",
       "      <td>83</td>\n",
       "      <td>14</td>\n",
       "    </tr>\n",
       "    <tr>\n",
       "      <th>8</th>\n",
       "      <td>CO:101347</td>\n",
       "      <td>Orgao</td>\n",
       "      <td>Procuradoria-Geral da República</td>\n",
       "      <td>2</td>\n",
       "      <td>0.000000e+00</td>\n",
       "      <td>88</td>\n",
       "      <td>16</td>\n",
       "    </tr>\n",
       "    <tr>\n",
       "      <th>9</th>\n",
       "      <td>CO:253</td>\n",
       "      <td>Orgao</td>\n",
       "      <td>Poder Executivo</td>\n",
       "      <td>591</td>\n",
       "      <td>0.000000e+00</td>\n",
       "      <td>61</td>\n",
       "      <td>6</td>\n",
       "    </tr>\n",
       "  </tbody>\n",
       "</table>\n",
       "</div>"
      ],
      "text/plain": [
       "          id   type                                              label  \\\n",
       "0  CO:100292  Orgao                               CÂMARA DOS DEPUTADOS   \n",
       "1      CO:78  Orgao                                     Senado Federal   \n",
       "2       CO:4  Orgao              Mesa Diretora da Câmara dos Deputados   \n",
       "3    CO:6066  Orgao                                Comissão de Turismo   \n",
       "4  CO:538490  Orgao  Comissão especial destinada a acompanhar as aç...   \n",
       "5    CO:2014  Orgao                                  Comissão de Saúde   \n",
       "6      CO:81  Orgao                       Superior Tribunal de Justiça   \n",
       "7    CO:5438  Orgao               Comissão de Legislação Participativa   \n",
       "8  CO:101347  Orgao                    Procuradoria-Geral da República   \n",
       "9     CO:253  Orgao                                    Poder Executivo   \n",
       "\n",
       "   degree   eigenvector  community_id  component_id  \n",
       "0       2  2.018856e-05             7             0  \n",
       "1     894  3.588246e-06            62             0  \n",
       "2       2  8.684608e-09             7             0  \n",
       "3       1  4.341370e-09             7             0  \n",
       "4       1  4.341370e-09             7             0  \n",
       "5       8  0.000000e+00            93            19  \n",
       "6       4  0.000000e+00            81            12  \n",
       "7      41  0.000000e+00            83            14  \n",
       "8       2  0.000000e+00            88            16  \n",
       "9     591  0.000000e+00            61             6  "
      ]
     },
     "execution_count": 14,
     "metadata": {},
     "output_type": "execute_result"
    }
   ],
   "source": [
    "top10_orgs_eigen"
   ]
  },
  {
   "cell_type": "code",
   "execution_count": 15,
   "id": "048b7d26",
   "metadata": {},
   "outputs": [
    {
     "data": {
      "application/vnd.microsoft.datawrangler.viewer.v0+json": {
       "columns": [
        {
         "name": "index",
         "rawType": "int64",
         "type": "integer"
        },
        {
         "name": "id",
         "rawType": "object",
         "type": "string"
        },
        {
         "name": "type",
         "rawType": "object",
         "type": "string"
        },
        {
         "name": "label",
         "rawType": "object",
         "type": "string"
        },
        {
         "name": "degree",
         "rawType": "int64",
         "type": "integer"
        },
        {
         "name": "eigenvector",
         "rawType": "float64",
         "type": "float"
        },
        {
         "name": "community_id",
         "rawType": "int64",
         "type": "integer"
        },
        {
         "name": "component_id",
         "rawType": "int64",
         "type": "integer"
        }
       ],
       "ref": "d280426c-2c16-4efa-9121-6a7ee443eafb",
       "rows": [
        [
         "0",
         "SE:2",
         "Ente",
         "Câmara dos Deputados",
         "366",
         "0.0013765692647067212",
         "7",
         "0"
        ],
        [
         "1",
         "SE:1",
         "Ente",
         "Senado Federal",
         "2",
         "5.263601503849592e-08",
         "62",
         "0"
        ],
        [
         "2",
         "SE:7352398",
         "Ente",
         "CPI da Pandemia",
         "5",
         "3.397862183532711e-11",
         "62",
         "0"
        ],
        [
         "3",
         "SE:3947422",
         "Ente",
         "Comissão de Direitos Humanos e Legislação Participativa",
         "6",
         "2.265728349135118e-11",
         "62",
         "0"
        ],
        [
         "4",
         "SE:55226",
         "Ente",
         "Comissão Diretora",
         "2",
         "2.2637800049880922e-11",
         "62",
         "0"
        ],
        [
         "5",
         "SE:3927825",
         "Ente",
         "Comissão de Meio Ambiente",
         "2",
         "2.2637799959298722e-11",
         "62",
         "0"
        ],
        [
         "6",
         "SE:9999990",
         "Ente",
         "Superior Tribunal de Justiça",
         "3",
         "0.0",
         "81",
         "12"
        ],
        [
         "7",
         "SE:55126",
         "Ente",
         "Presidência da República",
         "615",
         "0.0",
         "61",
         "6"
        ],
        [
         "8",
         "SE:55143",
         "Ente",
         "Tribunal de Justiça do Distrito Federal e Territórios",
         "4",
         "0.0",
         "115",
         "36"
        ],
        [
         "9",
         "SE:7352682",
         "Ente",
         "Forum Nacional de Comitês Hidrográficas Brasil",
         "1",
         "0.0",
         "61",
         "6"
        ]
       ],
       "shape": {
        "columns": 7,
        "rows": 10
       }
      },
      "text/html": [
       "<div>\n",
       "<style scoped>\n",
       "    .dataframe tbody tr th:only-of-type {\n",
       "        vertical-align: middle;\n",
       "    }\n",
       "\n",
       "    .dataframe tbody tr th {\n",
       "        vertical-align: top;\n",
       "    }\n",
       "\n",
       "    .dataframe thead th {\n",
       "        text-align: right;\n",
       "    }\n",
       "</style>\n",
       "<table border=\"1\" class=\"dataframe\">\n",
       "  <thead>\n",
       "    <tr style=\"text-align: right;\">\n",
       "      <th></th>\n",
       "      <th>id</th>\n",
       "      <th>type</th>\n",
       "      <th>label</th>\n",
       "      <th>degree</th>\n",
       "      <th>eigenvector</th>\n",
       "      <th>community_id</th>\n",
       "      <th>component_id</th>\n",
       "    </tr>\n",
       "  </thead>\n",
       "  <tbody>\n",
       "    <tr>\n",
       "      <th>0</th>\n",
       "      <td>SE:2</td>\n",
       "      <td>Ente</td>\n",
       "      <td>Câmara dos Deputados</td>\n",
       "      <td>366</td>\n",
       "      <td>1.376569e-03</td>\n",
       "      <td>7</td>\n",
       "      <td>0</td>\n",
       "    </tr>\n",
       "    <tr>\n",
       "      <th>1</th>\n",
       "      <td>SE:1</td>\n",
       "      <td>Ente</td>\n",
       "      <td>Senado Federal</td>\n",
       "      <td>2</td>\n",
       "      <td>5.263602e-08</td>\n",
       "      <td>62</td>\n",
       "      <td>0</td>\n",
       "    </tr>\n",
       "    <tr>\n",
       "      <th>2</th>\n",
       "      <td>SE:7352398</td>\n",
       "      <td>Ente</td>\n",
       "      <td>CPI da Pandemia</td>\n",
       "      <td>5</td>\n",
       "      <td>3.397862e-11</td>\n",
       "      <td>62</td>\n",
       "      <td>0</td>\n",
       "    </tr>\n",
       "    <tr>\n",
       "      <th>3</th>\n",
       "      <td>SE:3947422</td>\n",
       "      <td>Ente</td>\n",
       "      <td>Comissão de Direitos Humanos e Legislação Part...</td>\n",
       "      <td>6</td>\n",
       "      <td>2.265728e-11</td>\n",
       "      <td>62</td>\n",
       "      <td>0</td>\n",
       "    </tr>\n",
       "    <tr>\n",
       "      <th>4</th>\n",
       "      <td>SE:55226</td>\n",
       "      <td>Ente</td>\n",
       "      <td>Comissão Diretora</td>\n",
       "      <td>2</td>\n",
       "      <td>2.263780e-11</td>\n",
       "      <td>62</td>\n",
       "      <td>0</td>\n",
       "    </tr>\n",
       "    <tr>\n",
       "      <th>5</th>\n",
       "      <td>SE:3927825</td>\n",
       "      <td>Ente</td>\n",
       "      <td>Comissão de Meio Ambiente</td>\n",
       "      <td>2</td>\n",
       "      <td>2.263780e-11</td>\n",
       "      <td>62</td>\n",
       "      <td>0</td>\n",
       "    </tr>\n",
       "    <tr>\n",
       "      <th>6</th>\n",
       "      <td>SE:9999990</td>\n",
       "      <td>Ente</td>\n",
       "      <td>Superior Tribunal de Justiça</td>\n",
       "      <td>3</td>\n",
       "      <td>0.000000e+00</td>\n",
       "      <td>81</td>\n",
       "      <td>12</td>\n",
       "    </tr>\n",
       "    <tr>\n",
       "      <th>7</th>\n",
       "      <td>SE:55126</td>\n",
       "      <td>Ente</td>\n",
       "      <td>Presidência da República</td>\n",
       "      <td>615</td>\n",
       "      <td>0.000000e+00</td>\n",
       "      <td>61</td>\n",
       "      <td>6</td>\n",
       "    </tr>\n",
       "    <tr>\n",
       "      <th>8</th>\n",
       "      <td>SE:55143</td>\n",
       "      <td>Ente</td>\n",
       "      <td>Tribunal de Justiça do Distrito Federal e Terr...</td>\n",
       "      <td>4</td>\n",
       "      <td>0.000000e+00</td>\n",
       "      <td>115</td>\n",
       "      <td>36</td>\n",
       "    </tr>\n",
       "    <tr>\n",
       "      <th>9</th>\n",
       "      <td>SE:7352682</td>\n",
       "      <td>Ente</td>\n",
       "      <td>Forum Nacional de Comitês Hidrográficas Brasil</td>\n",
       "      <td>1</td>\n",
       "      <td>0.000000e+00</td>\n",
       "      <td>61</td>\n",
       "      <td>6</td>\n",
       "    </tr>\n",
       "  </tbody>\n",
       "</table>\n",
       "</div>"
      ],
      "text/plain": [
       "           id  type                                              label  \\\n",
       "0        SE:2  Ente                               Câmara dos Deputados   \n",
       "1        SE:1  Ente                                     Senado Federal   \n",
       "2  SE:7352398  Ente                                    CPI da Pandemia   \n",
       "3  SE:3947422  Ente  Comissão de Direitos Humanos e Legislação Part...   \n",
       "4    SE:55226  Ente                                  Comissão Diretora   \n",
       "5  SE:3927825  Ente                          Comissão de Meio Ambiente   \n",
       "6  SE:9999990  Ente                       Superior Tribunal de Justiça   \n",
       "7    SE:55126  Ente                           Presidência da República   \n",
       "8    SE:55143  Ente  Tribunal de Justiça do Distrito Federal e Terr...   \n",
       "9  SE:7352682  Ente     Forum Nacional de Comitês Hidrográficas Brasil   \n",
       "\n",
       "   degree   eigenvector  community_id  component_id  \n",
       "0     366  1.376569e-03             7             0  \n",
       "1       2  5.263602e-08            62             0  \n",
       "2       5  3.397862e-11            62             0  \n",
       "3       6  2.265728e-11            62             0  \n",
       "4       2  2.263780e-11            62             0  \n",
       "5       2  2.263780e-11            62             0  \n",
       "6       3  0.000000e+00            81            12  \n",
       "7     615  0.000000e+00            61             6  \n",
       "8       4  0.000000e+00           115            36  \n",
       "9       1  0.000000e+00            61             6  "
      ]
     },
     "execution_count": 15,
     "metadata": {},
     "output_type": "execute_result"
    }
   ],
   "source": [
    "top10_ents_eigen"
   ]
  }
 ],
 "metadata": {
  "kernelspec": {
   "display_name": "venv",
   "language": "python",
   "name": "python3"
  },
  "language_info": {
   "codemirror_mode": {
    "name": "ipython",
    "version": 3
   },
   "file_extension": ".py",
   "mimetype": "text/x-python",
   "name": "python",
   "nbconvert_exporter": "python",
   "pygments_lexer": "ipython3",
   "version": "3.13.7"
  }
 },
 "nbformat": 4,
 "nbformat_minor": 5
}
