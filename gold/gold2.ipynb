{
 "cells": [
  {
   "cell_type": "markdown",
   "id": "19b877db",
   "metadata": {},
   "source": [
    "# 2. Análise inicial\n",
    "\n",
    "## 2.1. Imports"
   ]
  },
  {
   "cell_type": "code",
   "execution_count": 1,
   "id": "7da1a7a7",
   "metadata": {},
   "outputs": [],
   "source": [
    "import os\n",
    "\n",
    "from pathlib import Path\n",
    "\n",
    "import duckdb\n",
    "import igraph as ig\n",
    "import pandas as pd\n",
    "\n",
    "from event import Event\n",
    "\n",
    "from dotenv import load_dotenv\n",
    "\n",
    "load_dotenv()\n",
    "\n",
    "PROJECT_DIR = Path(\"~/tramita\").expanduser()\n",
    "DB_PATH = PROJECT_DIR / os.getenv(\"SILVER_DUCKDB_PATH\", \"\")\n",
    "OUT_DIR = PROJECT_DIR / \"data\" / \"gold\"\n",
    "OUT_DIR.mkdir(exist_ok=True)\n",
    "ACCESS_DIR = OUT_DIR / \"accessory_data\"\n",
    "ACCESS_DIR.mkdir(exist_ok=True)\n",
    "\n",
    "NODES_PATH_PARQUET = OUT_DIR / \"nodes.parquet\"\n",
    "EDGES_PATH_PARQUET = OUT_DIR / \"edges.parquet\"\n",
    "NODES_PATH_CSV = OUT_DIR / \"nodes.csv\"\n",
    "EDGES_PATH_CSV = OUT_DIR / \"edges.csv\""
   ]
  },
  {
   "cell_type": "markdown",
   "id": "4c519a8c",
   "metadata": {},
   "source": [
    "## 2.1. Instanciamento do grafo"
   ]
  },
  {
   "cell_type": "code",
   "execution_count": 2,
   "id": "f71a9579",
   "metadata": {},
   "outputs": [
    {
     "data": {
      "application/vnd.microsoft.datawrangler.viewer.v0+json": {
       "columns": [
        {
         "name": "index",
         "rawType": "int64",
         "type": "integer"
        },
        {
         "name": "from",
         "rawType": "object",
         "type": "string"
        },
        {
         "name": "to",
         "rawType": "object",
         "type": "string"
        },
        {
         "name": "etype",
         "rawType": "object",
         "type": "string"
        }
       ],
       "ref": "b214e396-3759-4583-9a95-08665070eced",
       "rows": [
        [
         "0",
         "CD:160655",
         "CP:538196",
         "autoria"
        ],
        [
         "1",
         "CD:141488",
         "CP:559138",
         "autoria"
        ],
        [
         "2",
         "CD:73584",
         "CP:593065",
         "autoria"
        ],
        [
         "3",
         "CD:160518",
         "CP:601739",
         "autoria"
        ],
        [
         "4",
         "CD:151208",
         "CP:614512",
         "autoria"
        ]
       ],
       "shape": {
        "columns": 3,
        "rows": 5
       }
      },
      "text/html": [
       "<div>\n",
       "<style scoped>\n",
       "    .dataframe tbody tr th:only-of-type {\n",
       "        vertical-align: middle;\n",
       "    }\n",
       "\n",
       "    .dataframe tbody tr th {\n",
       "        vertical-align: top;\n",
       "    }\n",
       "\n",
       "    .dataframe thead th {\n",
       "        text-align: right;\n",
       "    }\n",
       "</style>\n",
       "<table border=\"1\" class=\"dataframe\">\n",
       "  <thead>\n",
       "    <tr style=\"text-align: right;\">\n",
       "      <th></th>\n",
       "      <th>from</th>\n",
       "      <th>to</th>\n",
       "      <th>etype</th>\n",
       "    </tr>\n",
       "  </thead>\n",
       "  <tbody>\n",
       "    <tr>\n",
       "      <th>0</th>\n",
       "      <td>CD:160655</td>\n",
       "      <td>CP:538196</td>\n",
       "      <td>autoria</td>\n",
       "    </tr>\n",
       "    <tr>\n",
       "      <th>1</th>\n",
       "      <td>CD:141488</td>\n",
       "      <td>CP:559138</td>\n",
       "      <td>autoria</td>\n",
       "    </tr>\n",
       "    <tr>\n",
       "      <th>2</th>\n",
       "      <td>CD:73584</td>\n",
       "      <td>CP:593065</td>\n",
       "      <td>autoria</td>\n",
       "    </tr>\n",
       "    <tr>\n",
       "      <th>3</th>\n",
       "      <td>CD:160518</td>\n",
       "      <td>CP:601739</td>\n",
       "      <td>autoria</td>\n",
       "    </tr>\n",
       "    <tr>\n",
       "      <th>4</th>\n",
       "      <td>CD:151208</td>\n",
       "      <td>CP:614512</td>\n",
       "      <td>autoria</td>\n",
       "    </tr>\n",
       "  </tbody>\n",
       "</table>\n",
       "</div>"
      ],
      "text/plain": [
       "        from         to    etype\n",
       "0  CD:160655  CP:538196  autoria\n",
       "1  CD:141488  CP:559138  autoria\n",
       "2   CD:73584  CP:593065  autoria\n",
       "3  CD:160518  CP:601739  autoria\n",
       "4  CD:151208  CP:614512  autoria"
      ]
     },
     "execution_count": 2,
     "metadata": {},
     "output_type": "execute_result"
    }
   ],
   "source": [
    "edges_df = pd.read_csv(EDGES_PATH_CSV)\n",
    "edges_df = edges_df.rename(columns={'source': 'from', 'target': 'to'})\n",
    "edges_df.head()"
   ]
  },
  {
   "cell_type": "code",
   "execution_count": 3,
   "id": "f2d09115",
   "metadata": {},
   "outputs": [
    {
     "data": {
      "application/vnd.microsoft.datawrangler.viewer.v0+json": {
       "columns": [
        {
         "name": "index",
         "rawType": "int64",
         "type": "integer"
        },
        {
         "name": "name",
         "rawType": "object",
         "type": "string"
        },
        {
         "name": "label",
         "rawType": "object",
         "type": "string"
        },
        {
         "name": "partido",
         "rawType": "object",
         "type": "unknown"
        },
        {
         "name": "type",
         "rawType": "object",
         "type": "string"
        }
       ],
       "ref": "342f78ed-e0f5-4c32-9ed2-6293fece6101",
       "rows": [
        [
         "0",
         "CP:2187087",
         "PL 5029/2019",
         null,
         "Proposicao"
        ],
        [
         "1",
         "CP:2190408",
         "PL 2/2019",
         null,
         "Proposicao"
        ],
        [
         "2",
         "CP:2190417",
         "PL 10/2019",
         null,
         "Proposicao"
        ],
        [
         "3",
         "CP:2190423",
         "PL 15/2019",
         null,
         "Proposicao"
        ],
        [
         "4",
         "CP:2190450",
         "PL 21/2019",
         null,
         "Proposicao"
        ]
       ],
       "shape": {
        "columns": 4,
        "rows": 5
       }
      },
      "text/html": [
       "<div>\n",
       "<style scoped>\n",
       "    .dataframe tbody tr th:only-of-type {\n",
       "        vertical-align: middle;\n",
       "    }\n",
       "\n",
       "    .dataframe tbody tr th {\n",
       "        vertical-align: top;\n",
       "    }\n",
       "\n",
       "    .dataframe thead th {\n",
       "        text-align: right;\n",
       "    }\n",
       "</style>\n",
       "<table border=\"1\" class=\"dataframe\">\n",
       "  <thead>\n",
       "    <tr style=\"text-align: right;\">\n",
       "      <th></th>\n",
       "      <th>name</th>\n",
       "      <th>label</th>\n",
       "      <th>partido</th>\n",
       "      <th>type</th>\n",
       "    </tr>\n",
       "  </thead>\n",
       "  <tbody>\n",
       "    <tr>\n",
       "      <th>0</th>\n",
       "      <td>CP:2187087</td>\n",
       "      <td>PL 5029/2019</td>\n",
       "      <td>NaN</td>\n",
       "      <td>Proposicao</td>\n",
       "    </tr>\n",
       "    <tr>\n",
       "      <th>1</th>\n",
       "      <td>CP:2190408</td>\n",
       "      <td>PL 2/2019</td>\n",
       "      <td>NaN</td>\n",
       "      <td>Proposicao</td>\n",
       "    </tr>\n",
       "    <tr>\n",
       "      <th>2</th>\n",
       "      <td>CP:2190417</td>\n",
       "      <td>PL 10/2019</td>\n",
       "      <td>NaN</td>\n",
       "      <td>Proposicao</td>\n",
       "    </tr>\n",
       "    <tr>\n",
       "      <th>3</th>\n",
       "      <td>CP:2190423</td>\n",
       "      <td>PL 15/2019</td>\n",
       "      <td>NaN</td>\n",
       "      <td>Proposicao</td>\n",
       "    </tr>\n",
       "    <tr>\n",
       "      <th>4</th>\n",
       "      <td>CP:2190450</td>\n",
       "      <td>PL 21/2019</td>\n",
       "      <td>NaN</td>\n",
       "      <td>Proposicao</td>\n",
       "    </tr>\n",
       "  </tbody>\n",
       "</table>\n",
       "</div>"
      ],
      "text/plain": [
       "         name         label partido        type\n",
       "0  CP:2187087  PL 5029/2019     NaN  Proposicao\n",
       "1  CP:2190408     PL 2/2019     NaN  Proposicao\n",
       "2  CP:2190417    PL 10/2019     NaN  Proposicao\n",
       "3  CP:2190423    PL 15/2019     NaN  Proposicao\n",
       "4  CP:2190450    PL 21/2019     NaN  Proposicao"
      ]
     },
     "execution_count": 3,
     "metadata": {},
     "output_type": "execute_result"
    }
   ],
   "source": [
    "\n",
    "nodes_df = pd.read_csv(NODES_PATH_CSV)\n",
    "nodes_df = nodes_df.rename(columns={\"tag\": \"name\"})\n",
    "nodes_df.head()"
   ]
  },
  {
   "cell_type": "code",
   "execution_count": 4,
   "id": "745ff965",
   "metadata": {},
   "outputs": [],
   "source": [
    "edge_tuples = list(zip(edges_df['from'], edges_df['to']))\n",
    "g = ig.Graph.TupleList(\n",
    "    edge_tuples,\n",
    "    directed=False,\n",
    "    vertex_name_attr=\"name\"\n",
    ")"
   ]
  },
  {
   "cell_type": "code",
   "execution_count": 5,
   "id": "f20d2b88",
   "metadata": {},
   "outputs": [],
   "source": [
    "for col in nodes_df.columns:\n",
    "    if col != \"name\":\n",
    "        g.vs[col] = nodes_df.set_index(\"name\").loc[g.vs[\"name\"], col].tolist()"
   ]
  },
  {
   "cell_type": "code",
   "execution_count": 6,
   "id": "8bdd7d82",
   "metadata": {},
   "outputs": [],
   "source": [
    "for col in edges_df.columns:\n",
    "    if col not in (\"from\", \"to\"):\n",
    "        g.es[col] = edges_df[col].tolist()"
   ]
  },
  {
   "cell_type": "code",
   "execution_count": 7,
   "id": "9ecdf093",
   "metadata": {},
   "outputs": [
    {
     "name": "stdout",
     "output_type": "stream",
     "text": [
      "IGRAPH UN-T 30938 51547 -- \n",
      "+ attr: label (v), name (v), partido (v), type (v), etype (e)\n"
     ]
    }
   ],
   "source": [
    "print(g.summary())"
   ]
  },
  {
   "cell_type": "code",
   "execution_count": 8,
   "id": "da59a514",
   "metadata": {},
   "outputs": [
    {
     "name": "stdout",
     "output_type": "stream",
     "text": [
      "|V| = 30938\n",
      "|E| = 51547\n",
      "Densidade: 0.00010771171924045933\n",
      "102 componentes conexos.\n"
     ]
    },
    {
     "data": {
      "application/vnd.microsoft.datawrangler.viewer.v0+json": {
       "columns": [
        {
         "name": "index",
         "rawType": "int64",
         "type": "integer"
        },
        {
         "name": "component_id",
         "rawType": "int64",
         "type": "integer"
        },
        {
         "name": "size",
         "rawType": "int64",
         "type": "integer"
        }
       ],
       "ref": "c0cb0421-2962-4b28-920d-4c6e8d405ab8",
       "rows": [
        [
         "0",
         "0",
         "28735"
        ],
        [
         "1",
         "5",
         "1374"
        ],
        [
         "2",
         "6",
         "60"
        ],
        [
         "3",
         "62",
         "45"
        ],
        [
         "4",
         "13",
         "42"
        ],
        [
         "5",
         "39",
         "33"
        ],
        [
         "6",
         "29",
         "31"
        ],
        [
         "7",
         "21",
         "30"
        ],
        [
         "8",
         "12",
         "29"
        ],
        [
         "9",
         "10",
         "25"
        ],
        [
         "10",
         "14",
         "22"
        ],
        [
         "11",
         "27",
         "18"
        ],
        [
         "12",
         "53",
         "17"
        ],
        [
         "13",
         "59",
         "17"
        ],
        [
         "14",
         "4",
         "16"
        ],
        [
         "15",
         "16",
         "15"
        ],
        [
         "16",
         "25",
         "15"
        ],
        [
         "17",
         "58",
         "13"
        ],
        [
         "18",
         "9",
         "12"
        ],
        [
         "19",
         "43",
         "12"
        ],
        [
         "20",
         "52",
         "12"
        ],
        [
         "21",
         "15",
         "12"
        ],
        [
         "22",
         "38",
         "11"
        ],
        [
         "23",
         "26",
         "11"
        ],
        [
         "24",
         "34",
         "11"
        ],
        [
         "25",
         "54",
         "11"
        ],
        [
         "26",
         "60",
         "11"
        ],
        [
         "27",
         "65",
         "10"
        ],
        [
         "28",
         "51",
         "9"
        ],
        [
         "29",
         "86",
         "9"
        ],
        [
         "30",
         "8",
         "9"
        ],
        [
         "31",
         "18",
         "9"
        ],
        [
         "32",
         "84",
         "9"
        ],
        [
         "33",
         "7",
         "9"
        ],
        [
         "34",
         "89",
         "8"
        ],
        [
         "35",
         "48",
         "7"
        ],
        [
         "36",
         "11",
         "7"
        ],
        [
         "37",
         "101",
         "7"
        ],
        [
         "38",
         "72",
         "7"
        ],
        [
         "39",
         "94",
         "7"
        ],
        [
         "40",
         "88",
         "7"
        ],
        [
         "41",
         "92",
         "7"
        ],
        [
         "42",
         "50",
         "7"
        ],
        [
         "43",
         "61",
         "7"
        ],
        [
         "44",
         "73",
         "6"
        ],
        [
         "45",
         "30",
         "5"
        ],
        [
         "46",
         "42",
         "5"
        ],
        [
         "47",
         "100",
         "5"
        ],
        [
         "48",
         "90",
         "5"
        ],
        [
         "49",
         "75",
         "5"
        ]
       ],
       "shape": {
        "columns": 2,
        "rows": 102
       }
      },
      "text/html": [
       "<div>\n",
       "<style scoped>\n",
       "    .dataframe tbody tr th:only-of-type {\n",
       "        vertical-align: middle;\n",
       "    }\n",
       "\n",
       "    .dataframe tbody tr th {\n",
       "        vertical-align: top;\n",
       "    }\n",
       "\n",
       "    .dataframe thead th {\n",
       "        text-align: right;\n",
       "    }\n",
       "</style>\n",
       "<table border=\"1\" class=\"dataframe\">\n",
       "  <thead>\n",
       "    <tr style=\"text-align: right;\">\n",
       "      <th></th>\n",
       "      <th>component_id</th>\n",
       "      <th>size</th>\n",
       "    </tr>\n",
       "  </thead>\n",
       "  <tbody>\n",
       "    <tr>\n",
       "      <th>0</th>\n",
       "      <td>0</td>\n",
       "      <td>28735</td>\n",
       "    </tr>\n",
       "    <tr>\n",
       "      <th>1</th>\n",
       "      <td>5</td>\n",
       "      <td>1374</td>\n",
       "    </tr>\n",
       "    <tr>\n",
       "      <th>2</th>\n",
       "      <td>6</td>\n",
       "      <td>60</td>\n",
       "    </tr>\n",
       "    <tr>\n",
       "      <th>3</th>\n",
       "      <td>62</td>\n",
       "      <td>45</td>\n",
       "    </tr>\n",
       "    <tr>\n",
       "      <th>4</th>\n",
       "      <td>13</td>\n",
       "      <td>42</td>\n",
       "    </tr>\n",
       "    <tr>\n",
       "      <th>...</th>\n",
       "      <td>...</td>\n",
       "      <td>...</td>\n",
       "    </tr>\n",
       "    <tr>\n",
       "      <th>97</th>\n",
       "      <td>81</td>\n",
       "      <td>2</td>\n",
       "    </tr>\n",
       "    <tr>\n",
       "      <th>98</th>\n",
       "      <td>70</td>\n",
       "      <td>2</td>\n",
       "    </tr>\n",
       "    <tr>\n",
       "      <th>99</th>\n",
       "      <td>93</td>\n",
       "      <td>2</td>\n",
       "    </tr>\n",
       "    <tr>\n",
       "      <th>100</th>\n",
       "      <td>87</td>\n",
       "      <td>2</td>\n",
       "    </tr>\n",
       "    <tr>\n",
       "      <th>101</th>\n",
       "      <td>91</td>\n",
       "      <td>2</td>\n",
       "    </tr>\n",
       "  </tbody>\n",
       "</table>\n",
       "<p>102 rows × 2 columns</p>\n",
       "</div>"
      ],
      "text/plain": [
       "     component_id   size\n",
       "0               0  28735\n",
       "1               5   1374\n",
       "2               6     60\n",
       "3              62     45\n",
       "4              13     42\n",
       "..            ...    ...\n",
       "97             81      2\n",
       "98             70      2\n",
       "99             93      2\n",
       "100            87      2\n",
       "101            91      2\n",
       "\n",
       "[102 rows x 2 columns]"
      ]
     },
     "execution_count": 8,
     "metadata": {},
     "output_type": "execute_result"
    }
   ],
   "source": [
    "summary = g.summary()\n",
    "vcount, ecount = g.vcount(), g.ecount()\n",
    "density = g.density()\n",
    "components = g.components()\n",
    "component_sizes = pd.Series([len(c) for c in components], name=\"size\").to_frame()\n",
    "component_sizes[\"component_id\"] = component_sizes.index\n",
    "component_sizes = component_sizes[[\"component_id\",\"size\"]].sort_values(\"size\", ascending=False).reset_index(drop=True)\n",
    "\n",
    "print(f\"|V| = {vcount}\")\n",
    "print(f\"|E| = {ecount}\")\n",
    "print(f\"Densidade: {density}\")\n",
    "print(f\"{len(components)} componentes conexos.\")\n",
    "component_sizes"
   ]
  },
  {
   "cell_type": "code",
   "execution_count": 9,
   "id": "9e1eb624",
   "metadata": {},
   "outputs": [
    {
     "name": "stderr",
     "output_type": "stream",
     "text": [
      "/tmp/ipykernel_2671796/1384051773.py:7: RuntimeWarning: Some eigenvector centralities are nearly zero, indicating that the graph may not be (strongly) connected. Eigenvector centrality is not meaningful for disconnected graphs. Location: src/centrality/eigenvector.c:102\n",
      "  eigenvector  = g.eigenvector_centrality()\n"
     ]
    }
   ],
   "source": [
    "comp_id_map = {}\n",
    "for cid, comp in enumerate(components):\n",
    "    for vid in comp:\n",
    "        comp_id_map[vid] = cid\n",
    "        \n",
    "degree_all   = g.degree()\n",
    "eigenvector  = g.eigenvector_centrality()\n",
    "community_method = None\n",
    "cl = g.community_leiden(objective_function=\"modularity\")\n",
    "membership = cl.membership\n",
    "vertex_metrics = pd.DataFrame({\n",
    "    \"id\":                 g.vs[\"name\"],\n",
    "    \"type\":               g.vs[\"type\"],\n",
    "    \"label\": g.vs[\"label\"],\n",
    "    \"degree\":             degree_all,\n",
    "    \"eigenvector\":        eigenvector,\n",
    "    \"community_id\":       membership,\n",
    "    \"component_id\":       [comp_id_map[i] for i in range(vcount)],\n",
    "})"
   ]
  },
  {
   "cell_type": "code",
   "execution_count": 10,
   "id": "b27d3813",
   "metadata": {},
   "outputs": [],
   "source": [
    "def top_n(df: pd.DataFrame, col: str, n: int = 10, node_types: list | None = None) -> pd.DataFrame:\n",
    "    sub = df if node_types is None else df[df[\"type\"].isin(node_types)]\n",
    "    return sub.sort_values(col, ascending=False).head(n).reset_index(drop=True)\n"
   ]
  },
  {
   "cell_type": "code",
   "execution_count": 11,
   "id": "ca9432eb",
   "metadata": {},
   "outputs": [],
   "source": [
    "top10_deps_eigen = top_n(vertex_metrics, \"eigenvector\", 10, node_types=[\"Deputado\"])\n",
    "top10_sens_eigen = top_n(vertex_metrics, \"eigenvector\", 10, node_types=[\"Senador\"])\n",
    "top10_orgs_eigen = top_n(vertex_metrics, \"eigenvector\", 10, node_types=[\"Orgao\"])\n",
    "top10_ents_eigen = top_n(vertex_metrics, \"eigenvector\", 10, node_types=[\"Ente\"])\n"
   ]
  },
  {
   "cell_type": "code",
   "execution_count": 12,
   "id": "b434c6df",
   "metadata": {},
   "outputs": [
    {
     "data": {
      "application/vnd.microsoft.datawrangler.viewer.v0+json": {
       "columns": [
        {
         "name": "index",
         "rawType": "int64",
         "type": "integer"
        },
        {
         "name": "id",
         "rawType": "object",
         "type": "string"
        },
        {
         "name": "type",
         "rawType": "object",
         "type": "string"
        },
        {
         "name": "label",
         "rawType": "object",
         "type": "string"
        },
        {
         "name": "degree",
         "rawType": "int64",
         "type": "integer"
        },
        {
         "name": "eigenvector",
         "rawType": "float64",
         "type": "float"
        },
        {
         "name": "community_id",
         "rawType": "int64",
         "type": "integer"
        },
        {
         "name": "component_id",
         "rawType": "int64",
         "type": "integer"
        }
       ],
       "ref": "81f2a0b4-0420-4953-91eb-4a9e8be801c5",
       "rows": [
        [
         "0",
         "CD:204467",
         "Deputado",
         "ROSA NEIDE SANDES DE ALMEIDA",
         "235",
         "1.0",
         "2",
         "0"
        ],
        [
         "1",
         "CD:178970",
         "Deputado",
         "JOAO SOMARIVA DANIEL",
         "259",
         "0.9909904641866102",
         "2",
         "0"
        ],
        [
         "2",
         "CD:178986",
         "Deputado",
         "NILTO IGNACIO TATTO",
         "253",
         "0.9864013410444961",
         "2",
         "0"
        ],
        [
         "3",
         "CD:74160",
         "Deputado",
         "PATRUS ANANIAS DE SOUZA",
         "199",
         "0.9838843842624769",
         "2",
         "0"
        ],
        [
         "4",
         "CD:160535",
         "Deputado",
         "DIONILSO MATEUS MARCON",
         "183",
         "0.9778334598578785",
         "2",
         "0"
        ],
        [
         "5",
         "CD:204393",
         "Deputado",
         "ANTONIO RIBEIRO",
         "202",
         "0.9537567528273091",
         "2",
         "0"
        ],
        [
         "6",
         "CD:160610",
         "Deputado",
         "VALMIR CARLOS DA ASSUNÇÃO",
         "195",
         "0.9505998974055782",
         "2",
         "0"
        ],
        [
         "7",
         "CD:204555",
         "Deputado",
         "JOSÉ RICARDO WENDLING",
         "186",
         "0.9446894947098156",
         "2",
         "0"
        ],
        [
         "8",
         "CD:204480",
         "Deputado",
         "ROGÉRIO CORREIA DE MOURA BAPTISTA",
         "191",
         "0.9381105399750996",
         "2",
         "0"
        ],
        [
         "9",
         "CD:204370",
         "Deputado",
         "CELIO ALVES DE MOURA",
         "158",
         "0.9272761745184628",
         "2",
         "0"
        ]
       ],
       "shape": {
        "columns": 7,
        "rows": 10
       }
      },
      "text/html": [
       "<div>\n",
       "<style scoped>\n",
       "    .dataframe tbody tr th:only-of-type {\n",
       "        vertical-align: middle;\n",
       "    }\n",
       "\n",
       "    .dataframe tbody tr th {\n",
       "        vertical-align: top;\n",
       "    }\n",
       "\n",
       "    .dataframe thead th {\n",
       "        text-align: right;\n",
       "    }\n",
       "</style>\n",
       "<table border=\"1\" class=\"dataframe\">\n",
       "  <thead>\n",
       "    <tr style=\"text-align: right;\">\n",
       "      <th></th>\n",
       "      <th>id</th>\n",
       "      <th>type</th>\n",
       "      <th>label</th>\n",
       "      <th>degree</th>\n",
       "      <th>eigenvector</th>\n",
       "      <th>community_id</th>\n",
       "      <th>component_id</th>\n",
       "    </tr>\n",
       "  </thead>\n",
       "  <tbody>\n",
       "    <tr>\n",
       "      <th>0</th>\n",
       "      <td>CD:204467</td>\n",
       "      <td>Deputado</td>\n",
       "      <td>ROSA NEIDE SANDES DE ALMEIDA</td>\n",
       "      <td>235</td>\n",
       "      <td>1.000000</td>\n",
       "      <td>2</td>\n",
       "      <td>0</td>\n",
       "    </tr>\n",
       "    <tr>\n",
       "      <th>1</th>\n",
       "      <td>CD:178970</td>\n",
       "      <td>Deputado</td>\n",
       "      <td>JOAO SOMARIVA DANIEL</td>\n",
       "      <td>259</td>\n",
       "      <td>0.990990</td>\n",
       "      <td>2</td>\n",
       "      <td>0</td>\n",
       "    </tr>\n",
       "    <tr>\n",
       "      <th>2</th>\n",
       "      <td>CD:178986</td>\n",
       "      <td>Deputado</td>\n",
       "      <td>NILTO IGNACIO TATTO</td>\n",
       "      <td>253</td>\n",
       "      <td>0.986401</td>\n",
       "      <td>2</td>\n",
       "      <td>0</td>\n",
       "    </tr>\n",
       "    <tr>\n",
       "      <th>3</th>\n",
       "      <td>CD:74160</td>\n",
       "      <td>Deputado</td>\n",
       "      <td>PATRUS ANANIAS DE SOUZA</td>\n",
       "      <td>199</td>\n",
       "      <td>0.983884</td>\n",
       "      <td>2</td>\n",
       "      <td>0</td>\n",
       "    </tr>\n",
       "    <tr>\n",
       "      <th>4</th>\n",
       "      <td>CD:160535</td>\n",
       "      <td>Deputado</td>\n",
       "      <td>DIONILSO MATEUS MARCON</td>\n",
       "      <td>183</td>\n",
       "      <td>0.977833</td>\n",
       "      <td>2</td>\n",
       "      <td>0</td>\n",
       "    </tr>\n",
       "    <tr>\n",
       "      <th>5</th>\n",
       "      <td>CD:204393</td>\n",
       "      <td>Deputado</td>\n",
       "      <td>ANTONIO RIBEIRO</td>\n",
       "      <td>202</td>\n",
       "      <td>0.953757</td>\n",
       "      <td>2</td>\n",
       "      <td>0</td>\n",
       "    </tr>\n",
       "    <tr>\n",
       "      <th>6</th>\n",
       "      <td>CD:160610</td>\n",
       "      <td>Deputado</td>\n",
       "      <td>VALMIR CARLOS DA ASSUNÇÃO</td>\n",
       "      <td>195</td>\n",
       "      <td>0.950600</td>\n",
       "      <td>2</td>\n",
       "      <td>0</td>\n",
       "    </tr>\n",
       "    <tr>\n",
       "      <th>7</th>\n",
       "      <td>CD:204555</td>\n",
       "      <td>Deputado</td>\n",
       "      <td>JOSÉ RICARDO WENDLING</td>\n",
       "      <td>186</td>\n",
       "      <td>0.944689</td>\n",
       "      <td>2</td>\n",
       "      <td>0</td>\n",
       "    </tr>\n",
       "    <tr>\n",
       "      <th>8</th>\n",
       "      <td>CD:204480</td>\n",
       "      <td>Deputado</td>\n",
       "      <td>ROGÉRIO CORREIA DE MOURA BAPTISTA</td>\n",
       "      <td>191</td>\n",
       "      <td>0.938111</td>\n",
       "      <td>2</td>\n",
       "      <td>0</td>\n",
       "    </tr>\n",
       "    <tr>\n",
       "      <th>9</th>\n",
       "      <td>CD:204370</td>\n",
       "      <td>Deputado</td>\n",
       "      <td>CELIO ALVES DE MOURA</td>\n",
       "      <td>158</td>\n",
       "      <td>0.927276</td>\n",
       "      <td>2</td>\n",
       "      <td>0</td>\n",
       "    </tr>\n",
       "  </tbody>\n",
       "</table>\n",
       "</div>"
      ],
      "text/plain": [
       "          id      type                              label  degree  \\\n",
       "0  CD:204467  Deputado       ROSA NEIDE SANDES DE ALMEIDA     235   \n",
       "1  CD:178970  Deputado               JOAO SOMARIVA DANIEL     259   \n",
       "2  CD:178986  Deputado                NILTO IGNACIO TATTO     253   \n",
       "3   CD:74160  Deputado            PATRUS ANANIAS DE SOUZA     199   \n",
       "4  CD:160535  Deputado             DIONILSO MATEUS MARCON     183   \n",
       "5  CD:204393  Deputado                    ANTONIO RIBEIRO     202   \n",
       "6  CD:160610  Deputado          VALMIR CARLOS DA ASSUNÇÃO     195   \n",
       "7  CD:204555  Deputado              JOSÉ RICARDO WENDLING     186   \n",
       "8  CD:204480  Deputado  ROGÉRIO CORREIA DE MOURA BAPTISTA     191   \n",
       "9  CD:204370  Deputado               CELIO ALVES DE MOURA     158   \n",
       "\n",
       "   eigenvector  community_id  component_id  \n",
       "0     1.000000             2             0  \n",
       "1     0.990990             2             0  \n",
       "2     0.986401             2             0  \n",
       "3     0.983884             2             0  \n",
       "4     0.977833             2             0  \n",
       "5     0.953757             2             0  \n",
       "6     0.950600             2             0  \n",
       "7     0.944689             2             0  \n",
       "8     0.938111             2             0  \n",
       "9     0.927276             2             0  "
      ]
     },
     "execution_count": 12,
     "metadata": {},
     "output_type": "execute_result"
    }
   ],
   "source": [
    "top10_deps_eigen"
   ]
  },
  {
   "cell_type": "code",
   "execution_count": 13,
   "id": "3c8df9b4",
   "metadata": {},
   "outputs": [
    {
     "data": {
      "application/vnd.microsoft.datawrangler.viewer.v0+json": {
       "columns": [
        {
         "name": "index",
         "rawType": "int64",
         "type": "integer"
        },
        {
         "name": "id",
         "rawType": "object",
         "type": "string"
        },
        {
         "name": "type",
         "rawType": "object",
         "type": "string"
        },
        {
         "name": "label",
         "rawType": "object",
         "type": "string"
        },
        {
         "name": "degree",
         "rawType": "int64",
         "type": "integer"
        },
        {
         "name": "eigenvector",
         "rawType": "float64",
         "type": "float"
        },
        {
         "name": "community_id",
         "rawType": "int64",
         "type": "integer"
        },
        {
         "name": "component_id",
         "rawType": "int64",
         "type": "integer"
        }
       ],
       "ref": "ead028de-a3af-457c-becb-e4dbb25d3ada",
       "rows": [
        [
         "0",
         "SS:4639",
         "Senador",
         "JOSÉ ROBERTO OLIVEIRA FARO",
         "3",
         "0.010630028580813659",
         "14",
         "0"
        ],
        [
         "1",
         "SS:5386",
         "Senador",
         "MARIA AUXILIADORA SEABRA REZENDE",
         "4",
         "0.0003877722653164569",
         "14",
         "0"
        ],
        [
         "2",
         "SS:5672",
         "Senador",
         "ALAN RICK MIRANDA",
         "9",
         "0.00021271809670158606",
         "14",
         "0"
        ],
        [
         "3",
         "SS:5793",
         "Senador",
         "HIRAN MANUEL GONÇALVES DA SILVA",
         "3",
         "0.00016101782412208617",
         "14",
         "0"
        ],
        [
         "4",
         "SS:5352",
         "Senador",
         "ROGÉRIO CARVALHO SANTOS",
         "97",
         "0.00010724266004877905",
         "14",
         "0"
        ],
        [
         "5",
         "SS:5902",
         "Senador",
         "EDUARDO OVÍDIO BORGES DE VELLOSO VIANNA",
         "3",
         "6.709858802207247e-05",
         "14",
         "0"
        ],
        [
         "6",
         "SS:4642",
         "Senador",
         "EFRAIM DE ARAÚJO MORAIS FILHO",
         "8",
         "2.823873770469498e-05",
         "14",
         "0"
        ],
        [
         "7",
         "SS:5736",
         "Senador",
         "TEREZA CRISTINA CORREA DA COSTA DIAS",
         "8",
         "4.85649395704974e-06",
         "14",
         "0"
        ],
        [
         "8",
         "SS:5502",
         "Senador",
         "FRANCISCO PLÍNIO VALÉRIO TOMAZ",
         "64",
         "3.5479923779271275e-06",
         "14",
         "0"
        ],
        [
         "9",
         "SS:4770",
         "Senador",
         "IZALCI LUCAS FERREIRA",
         "63",
         "3.3688269146306375e-06",
         "14",
         "0"
        ]
       ],
       "shape": {
        "columns": 7,
        "rows": 10
       }
      },
      "text/html": [
       "<div>\n",
       "<style scoped>\n",
       "    .dataframe tbody tr th:only-of-type {\n",
       "        vertical-align: middle;\n",
       "    }\n",
       "\n",
       "    .dataframe tbody tr th {\n",
       "        vertical-align: top;\n",
       "    }\n",
       "\n",
       "    .dataframe thead th {\n",
       "        text-align: right;\n",
       "    }\n",
       "</style>\n",
       "<table border=\"1\" class=\"dataframe\">\n",
       "  <thead>\n",
       "    <tr style=\"text-align: right;\">\n",
       "      <th></th>\n",
       "      <th>id</th>\n",
       "      <th>type</th>\n",
       "      <th>label</th>\n",
       "      <th>degree</th>\n",
       "      <th>eigenvector</th>\n",
       "      <th>community_id</th>\n",
       "      <th>component_id</th>\n",
       "    </tr>\n",
       "  </thead>\n",
       "  <tbody>\n",
       "    <tr>\n",
       "      <th>0</th>\n",
       "      <td>SS:4639</td>\n",
       "      <td>Senador</td>\n",
       "      <td>JOSÉ ROBERTO OLIVEIRA FARO</td>\n",
       "      <td>3</td>\n",
       "      <td>0.010630</td>\n",
       "      <td>14</td>\n",
       "      <td>0</td>\n",
       "    </tr>\n",
       "    <tr>\n",
       "      <th>1</th>\n",
       "      <td>SS:5386</td>\n",
       "      <td>Senador</td>\n",
       "      <td>MARIA AUXILIADORA SEABRA REZENDE</td>\n",
       "      <td>4</td>\n",
       "      <td>0.000388</td>\n",
       "      <td>14</td>\n",
       "      <td>0</td>\n",
       "    </tr>\n",
       "    <tr>\n",
       "      <th>2</th>\n",
       "      <td>SS:5672</td>\n",
       "      <td>Senador</td>\n",
       "      <td>ALAN RICK MIRANDA</td>\n",
       "      <td>9</td>\n",
       "      <td>0.000213</td>\n",
       "      <td>14</td>\n",
       "      <td>0</td>\n",
       "    </tr>\n",
       "    <tr>\n",
       "      <th>3</th>\n",
       "      <td>SS:5793</td>\n",
       "      <td>Senador</td>\n",
       "      <td>HIRAN MANUEL GONÇALVES DA SILVA</td>\n",
       "      <td>3</td>\n",
       "      <td>0.000161</td>\n",
       "      <td>14</td>\n",
       "      <td>0</td>\n",
       "    </tr>\n",
       "    <tr>\n",
       "      <th>4</th>\n",
       "      <td>SS:5352</td>\n",
       "      <td>Senador</td>\n",
       "      <td>ROGÉRIO CARVALHO SANTOS</td>\n",
       "      <td>97</td>\n",
       "      <td>0.000107</td>\n",
       "      <td>14</td>\n",
       "      <td>0</td>\n",
       "    </tr>\n",
       "    <tr>\n",
       "      <th>5</th>\n",
       "      <td>SS:5902</td>\n",
       "      <td>Senador</td>\n",
       "      <td>EDUARDO OVÍDIO BORGES DE VELLOSO VIANNA</td>\n",
       "      <td>3</td>\n",
       "      <td>0.000067</td>\n",
       "      <td>14</td>\n",
       "      <td>0</td>\n",
       "    </tr>\n",
       "    <tr>\n",
       "      <th>6</th>\n",
       "      <td>SS:4642</td>\n",
       "      <td>Senador</td>\n",
       "      <td>EFRAIM DE ARAÚJO MORAIS FILHO</td>\n",
       "      <td>8</td>\n",
       "      <td>0.000028</td>\n",
       "      <td>14</td>\n",
       "      <td>0</td>\n",
       "    </tr>\n",
       "    <tr>\n",
       "      <th>7</th>\n",
       "      <td>SS:5736</td>\n",
       "      <td>Senador</td>\n",
       "      <td>TEREZA CRISTINA CORREA DA COSTA DIAS</td>\n",
       "      <td>8</td>\n",
       "      <td>0.000005</td>\n",
       "      <td>14</td>\n",
       "      <td>0</td>\n",
       "    </tr>\n",
       "    <tr>\n",
       "      <th>8</th>\n",
       "      <td>SS:5502</td>\n",
       "      <td>Senador</td>\n",
       "      <td>FRANCISCO PLÍNIO VALÉRIO TOMAZ</td>\n",
       "      <td>64</td>\n",
       "      <td>0.000004</td>\n",
       "      <td>14</td>\n",
       "      <td>0</td>\n",
       "    </tr>\n",
       "    <tr>\n",
       "      <th>9</th>\n",
       "      <td>SS:4770</td>\n",
       "      <td>Senador</td>\n",
       "      <td>IZALCI LUCAS FERREIRA</td>\n",
       "      <td>63</td>\n",
       "      <td>0.000003</td>\n",
       "      <td>14</td>\n",
       "      <td>0</td>\n",
       "    </tr>\n",
       "  </tbody>\n",
       "</table>\n",
       "</div>"
      ],
      "text/plain": [
       "        id     type                                    label  degree  \\\n",
       "0  SS:4639  Senador               JOSÉ ROBERTO OLIVEIRA FARO       3   \n",
       "1  SS:5386  Senador         MARIA AUXILIADORA SEABRA REZENDE       4   \n",
       "2  SS:5672  Senador                        ALAN RICK MIRANDA       9   \n",
       "3  SS:5793  Senador          HIRAN MANUEL GONÇALVES DA SILVA       3   \n",
       "4  SS:5352  Senador                  ROGÉRIO CARVALHO SANTOS      97   \n",
       "5  SS:5902  Senador  EDUARDO OVÍDIO BORGES DE VELLOSO VIANNA       3   \n",
       "6  SS:4642  Senador            EFRAIM DE ARAÚJO MORAIS FILHO       8   \n",
       "7  SS:5736  Senador     TEREZA CRISTINA CORREA DA COSTA DIAS       8   \n",
       "8  SS:5502  Senador           FRANCISCO PLÍNIO VALÉRIO TOMAZ      64   \n",
       "9  SS:4770  Senador                    IZALCI LUCAS FERREIRA      63   \n",
       "\n",
       "   eigenvector  community_id  component_id  \n",
       "0     0.010630            14             0  \n",
       "1     0.000388            14             0  \n",
       "2     0.000213            14             0  \n",
       "3     0.000161            14             0  \n",
       "4     0.000107            14             0  \n",
       "5     0.000067            14             0  \n",
       "6     0.000028            14             0  \n",
       "7     0.000005            14             0  \n",
       "8     0.000004            14             0  \n",
       "9     0.000003            14             0  "
      ]
     },
     "execution_count": 13,
     "metadata": {},
     "output_type": "execute_result"
    }
   ],
   "source": [
    "top10_sens_eigen"
   ]
  },
  {
   "cell_type": "code",
   "execution_count": 14,
   "id": "9d59d9c3",
   "metadata": {},
   "outputs": [
    {
     "data": {
      "application/vnd.microsoft.datawrangler.viewer.v0+json": {
       "columns": [
        {
         "name": "index",
         "rawType": "int64",
         "type": "integer"
        },
        {
         "name": "id",
         "rawType": "object",
         "type": "string"
        },
        {
         "name": "type",
         "rawType": "object",
         "type": "string"
        },
        {
         "name": "label",
         "rawType": "object",
         "type": "string"
        },
        {
         "name": "degree",
         "rawType": "int64",
         "type": "integer"
        },
        {
         "name": "eigenvector",
         "rawType": "float64",
         "type": "float"
        },
        {
         "name": "community_id",
         "rawType": "int64",
         "type": "integer"
        },
        {
         "name": "component_id",
         "rawType": "int64",
         "type": "integer"
        }
       ],
       "ref": "cfcda284-b3a6-4032-a85b-c21ea16011db",
       "rows": [
        [
         "0",
         "CO:100292",
         "Orgao",
         "CÂMARA DOS DEPUTADOS",
         "2",
         "2.0188461114918032e-05",
         "1",
         "0"
        ],
        [
         "1",
         "CO:78",
         "Orgao",
         "SENADO FEDERAL",
         "894",
         "3.6951245507913663e-06",
         "14",
         "0"
        ],
        [
         "2",
         "CO:4",
         "Orgao",
         "MESA DIRETORA DA CÂMARA DOS DEPUTADOS",
         "2",
         "8.684531973270694e-09",
         "1",
         "0"
        ],
        [
         "3",
         "CO:538490",
         "Orgao",
         "COMISSÃO ESPECIAL DESTINADA A ACOMPANHAR AS AÇÕES DE COMBATE AO CÂNCER NO BRASIL",
         "1",
         "4.3413320239244875e-09",
         "1",
         "0"
        ],
        [
         "4",
         "CO:6066",
         "Orgao",
         "COMISSÃO DE TURISMO",
         "1",
         "4.341332023911236e-09",
         "1",
         "0"
        ],
        [
         "5",
         "CO:2014",
         "Orgao",
         "COMISSÃO DE SAÚDE",
         "8",
         "0.0",
         "106",
         "18"
        ],
        [
         "6",
         "CO:81",
         "Orgao",
         "SUPERIOR TRIBUNAL DE JUSTIÇA",
         "4",
         "0.0",
         "92",
         "11"
        ],
        [
         "7",
         "CO:5438",
         "Orgao",
         "COMISSÃO DE LEGISLAÇÃO PARTICIPATIVA",
         "41",
         "0.0",
         "95",
         "13"
        ],
        [
         "8",
         "CO:101347",
         "Orgao",
         "PROCURADORIA-GERAL DA REPÚBLICA",
         "2",
         "0.0",
         "99",
         "15"
        ],
        [
         "9",
         "CO:253",
         "Orgao",
         "PODER EXECUTIVO",
         "591",
         "0.0",
         "62",
         "5"
        ]
       ],
       "shape": {
        "columns": 7,
        "rows": 10
       }
      },
      "text/html": [
       "<div>\n",
       "<style scoped>\n",
       "    .dataframe tbody tr th:only-of-type {\n",
       "        vertical-align: middle;\n",
       "    }\n",
       "\n",
       "    .dataframe tbody tr th {\n",
       "        vertical-align: top;\n",
       "    }\n",
       "\n",
       "    .dataframe thead th {\n",
       "        text-align: right;\n",
       "    }\n",
       "</style>\n",
       "<table border=\"1\" class=\"dataframe\">\n",
       "  <thead>\n",
       "    <tr style=\"text-align: right;\">\n",
       "      <th></th>\n",
       "      <th>id</th>\n",
       "      <th>type</th>\n",
       "      <th>label</th>\n",
       "      <th>degree</th>\n",
       "      <th>eigenvector</th>\n",
       "      <th>community_id</th>\n",
       "      <th>component_id</th>\n",
       "    </tr>\n",
       "  </thead>\n",
       "  <tbody>\n",
       "    <tr>\n",
       "      <th>0</th>\n",
       "      <td>CO:100292</td>\n",
       "      <td>Orgao</td>\n",
       "      <td>CÂMARA DOS DEPUTADOS</td>\n",
       "      <td>2</td>\n",
       "      <td>2.018846e-05</td>\n",
       "      <td>1</td>\n",
       "      <td>0</td>\n",
       "    </tr>\n",
       "    <tr>\n",
       "      <th>1</th>\n",
       "      <td>CO:78</td>\n",
       "      <td>Orgao</td>\n",
       "      <td>SENADO FEDERAL</td>\n",
       "      <td>894</td>\n",
       "      <td>3.695125e-06</td>\n",
       "      <td>14</td>\n",
       "      <td>0</td>\n",
       "    </tr>\n",
       "    <tr>\n",
       "      <th>2</th>\n",
       "      <td>CO:4</td>\n",
       "      <td>Orgao</td>\n",
       "      <td>MESA DIRETORA DA CÂMARA DOS DEPUTADOS</td>\n",
       "      <td>2</td>\n",
       "      <td>8.684532e-09</td>\n",
       "      <td>1</td>\n",
       "      <td>0</td>\n",
       "    </tr>\n",
       "    <tr>\n",
       "      <th>3</th>\n",
       "      <td>CO:538490</td>\n",
       "      <td>Orgao</td>\n",
       "      <td>COMISSÃO ESPECIAL DESTINADA A ACOMPANHAR AS AÇ...</td>\n",
       "      <td>1</td>\n",
       "      <td>4.341332e-09</td>\n",
       "      <td>1</td>\n",
       "      <td>0</td>\n",
       "    </tr>\n",
       "    <tr>\n",
       "      <th>4</th>\n",
       "      <td>CO:6066</td>\n",
       "      <td>Orgao</td>\n",
       "      <td>COMISSÃO DE TURISMO</td>\n",
       "      <td>1</td>\n",
       "      <td>4.341332e-09</td>\n",
       "      <td>1</td>\n",
       "      <td>0</td>\n",
       "    </tr>\n",
       "    <tr>\n",
       "      <th>5</th>\n",
       "      <td>CO:2014</td>\n",
       "      <td>Orgao</td>\n",
       "      <td>COMISSÃO DE SAÚDE</td>\n",
       "      <td>8</td>\n",
       "      <td>0.000000e+00</td>\n",
       "      <td>106</td>\n",
       "      <td>18</td>\n",
       "    </tr>\n",
       "    <tr>\n",
       "      <th>6</th>\n",
       "      <td>CO:81</td>\n",
       "      <td>Orgao</td>\n",
       "      <td>SUPERIOR TRIBUNAL DE JUSTIÇA</td>\n",
       "      <td>4</td>\n",
       "      <td>0.000000e+00</td>\n",
       "      <td>92</td>\n",
       "      <td>11</td>\n",
       "    </tr>\n",
       "    <tr>\n",
       "      <th>7</th>\n",
       "      <td>CO:5438</td>\n",
       "      <td>Orgao</td>\n",
       "      <td>COMISSÃO DE LEGISLAÇÃO PARTICIPATIVA</td>\n",
       "      <td>41</td>\n",
       "      <td>0.000000e+00</td>\n",
       "      <td>95</td>\n",
       "      <td>13</td>\n",
       "    </tr>\n",
       "    <tr>\n",
       "      <th>8</th>\n",
       "      <td>CO:101347</td>\n",
       "      <td>Orgao</td>\n",
       "      <td>PROCURADORIA-GERAL DA REPÚBLICA</td>\n",
       "      <td>2</td>\n",
       "      <td>0.000000e+00</td>\n",
       "      <td>99</td>\n",
       "      <td>15</td>\n",
       "    </tr>\n",
       "    <tr>\n",
       "      <th>9</th>\n",
       "      <td>CO:253</td>\n",
       "      <td>Orgao</td>\n",
       "      <td>PODER EXECUTIVO</td>\n",
       "      <td>591</td>\n",
       "      <td>0.000000e+00</td>\n",
       "      <td>62</td>\n",
       "      <td>5</td>\n",
       "    </tr>\n",
       "  </tbody>\n",
       "</table>\n",
       "</div>"
      ],
      "text/plain": [
       "          id   type                                              label  \\\n",
       "0  CO:100292  Orgao                               CÂMARA DOS DEPUTADOS   \n",
       "1      CO:78  Orgao                                     SENADO FEDERAL   \n",
       "2       CO:4  Orgao              MESA DIRETORA DA CÂMARA DOS DEPUTADOS   \n",
       "3  CO:538490  Orgao  COMISSÃO ESPECIAL DESTINADA A ACOMPANHAR AS AÇ...   \n",
       "4    CO:6066  Orgao                                COMISSÃO DE TURISMO   \n",
       "5    CO:2014  Orgao                                  COMISSÃO DE SAÚDE   \n",
       "6      CO:81  Orgao                       SUPERIOR TRIBUNAL DE JUSTIÇA   \n",
       "7    CO:5438  Orgao               COMISSÃO DE LEGISLAÇÃO PARTICIPATIVA   \n",
       "8  CO:101347  Orgao                    PROCURADORIA-GERAL DA REPÚBLICA   \n",
       "9     CO:253  Orgao                                    PODER EXECUTIVO   \n",
       "\n",
       "   degree   eigenvector  community_id  component_id  \n",
       "0       2  2.018846e-05             1             0  \n",
       "1     894  3.695125e-06            14             0  \n",
       "2       2  8.684532e-09             1             0  \n",
       "3       1  4.341332e-09             1             0  \n",
       "4       1  4.341332e-09             1             0  \n",
       "5       8  0.000000e+00           106            18  \n",
       "6       4  0.000000e+00            92            11  \n",
       "7      41  0.000000e+00            95            13  \n",
       "8       2  0.000000e+00            99            15  \n",
       "9     591  0.000000e+00            62             5  "
      ]
     },
     "execution_count": 14,
     "metadata": {},
     "output_type": "execute_result"
    }
   ],
   "source": [
    "top10_orgs_eigen"
   ]
  },
  {
   "cell_type": "code",
   "execution_count": 15,
   "id": "048b7d26",
   "metadata": {},
   "outputs": [
    {
     "data": {
      "application/vnd.microsoft.datawrangler.viewer.v0+json": {
       "columns": [
        {
         "name": "index",
         "rawType": "int64",
         "type": "integer"
        },
        {
         "name": "id",
         "rawType": "object",
         "type": "string"
        },
        {
         "name": "type",
         "rawType": "object",
         "type": "string"
        },
        {
         "name": "label",
         "rawType": "object",
         "type": "string"
        },
        {
         "name": "degree",
         "rawType": "int64",
         "type": "integer"
        },
        {
         "name": "eigenvector",
         "rawType": "float64",
         "type": "float"
        },
        {
         "name": "community_id",
         "rawType": "int64",
         "type": "integer"
        },
        {
         "name": "component_id",
         "rawType": "int64",
         "type": "integer"
        }
       ],
       "ref": "bee668cb-a661-4fd8-860f-605652b3a934",
       "rows": [
        [
         "0",
         "SE:2",
         "Ente",
         "CÂMARA DOS DEPUTADOS",
         "366",
         "0.0013765647407987345",
         "1",
         "0"
        ],
        [
         "1",
         "SE:1",
         "Ente",
         "SENADO FEDERAL",
         "2",
         "5.420370688199685e-08",
         "14",
         "0"
        ],
        [
         "2",
         "SE:7352398",
         "Ente",
         "CPI DA PANDEMIA",
         "5",
         "3.499044138129496e-11",
         "14",
         "0"
        ],
        [
         "3",
         "SE:3947422",
         "Ente",
         "COMISSÃO DE DIREITOS HUMANOS E LEGISLAÇÃO PARTICIPATIVA",
         "6",
         "2.3331953823393665e-11",
         "14",
         "0"
        ],
        [
         "4",
         "SE:3927825",
         "Ente",
         "COMISSÃO DE MEIO AMBIENTE",
         "2",
         "2.3311921989273745e-11",
         "14",
         "0"
        ],
        [
         "5",
         "SE:55226",
         "Ente",
         "COMISSÃO DIRETORA",
         "2",
         "2.3311921950080376e-11",
         "14",
         "0"
        ],
        [
         "6",
         "SE:9999990",
         "Ente",
         "SUPERIOR TRIBUNAL DE JUSTIÇA",
         "3",
         "0.0",
         "92",
         "11"
        ],
        [
         "7",
         "SE:55126",
         "Ente",
         "PRESIDÊNCIA DA REPÚBLICA",
         "615",
         "0.0",
         "62",
         "5"
        ],
        [
         "8",
         "SE:55143",
         "Ente",
         "TRIBUNAL DE JUSTIÇA DO DISTRITO FEDERAL E TERRITÓRIOS",
         "4",
         "0.0",
         "137",
         "34"
        ],
        [
         "9",
         "SE:7352682",
         "Ente",
         "FORUM NACIONAL DE COMITÊS HIDROGRÁFICAS BRASIL",
         "1",
         "0.0",
         "62",
         "5"
        ]
       ],
       "shape": {
        "columns": 7,
        "rows": 10
       }
      },
      "text/html": [
       "<div>\n",
       "<style scoped>\n",
       "    .dataframe tbody tr th:only-of-type {\n",
       "        vertical-align: middle;\n",
       "    }\n",
       "\n",
       "    .dataframe tbody tr th {\n",
       "        vertical-align: top;\n",
       "    }\n",
       "\n",
       "    .dataframe thead th {\n",
       "        text-align: right;\n",
       "    }\n",
       "</style>\n",
       "<table border=\"1\" class=\"dataframe\">\n",
       "  <thead>\n",
       "    <tr style=\"text-align: right;\">\n",
       "      <th></th>\n",
       "      <th>id</th>\n",
       "      <th>type</th>\n",
       "      <th>label</th>\n",
       "      <th>degree</th>\n",
       "      <th>eigenvector</th>\n",
       "      <th>community_id</th>\n",
       "      <th>component_id</th>\n",
       "    </tr>\n",
       "  </thead>\n",
       "  <tbody>\n",
       "    <tr>\n",
       "      <th>0</th>\n",
       "      <td>SE:2</td>\n",
       "      <td>Ente</td>\n",
       "      <td>CÂMARA DOS DEPUTADOS</td>\n",
       "      <td>366</td>\n",
       "      <td>1.376565e-03</td>\n",
       "      <td>1</td>\n",
       "      <td>0</td>\n",
       "    </tr>\n",
       "    <tr>\n",
       "      <th>1</th>\n",
       "      <td>SE:1</td>\n",
       "      <td>Ente</td>\n",
       "      <td>SENADO FEDERAL</td>\n",
       "      <td>2</td>\n",
       "      <td>5.420371e-08</td>\n",
       "      <td>14</td>\n",
       "      <td>0</td>\n",
       "    </tr>\n",
       "    <tr>\n",
       "      <th>2</th>\n",
       "      <td>SE:7352398</td>\n",
       "      <td>Ente</td>\n",
       "      <td>CPI DA PANDEMIA</td>\n",
       "      <td>5</td>\n",
       "      <td>3.499044e-11</td>\n",
       "      <td>14</td>\n",
       "      <td>0</td>\n",
       "    </tr>\n",
       "    <tr>\n",
       "      <th>3</th>\n",
       "      <td>SE:3947422</td>\n",
       "      <td>Ente</td>\n",
       "      <td>COMISSÃO DE DIREITOS HUMANOS E LEGISLAÇÃO PART...</td>\n",
       "      <td>6</td>\n",
       "      <td>2.333195e-11</td>\n",
       "      <td>14</td>\n",
       "      <td>0</td>\n",
       "    </tr>\n",
       "    <tr>\n",
       "      <th>4</th>\n",
       "      <td>SE:3927825</td>\n",
       "      <td>Ente</td>\n",
       "      <td>COMISSÃO DE MEIO AMBIENTE</td>\n",
       "      <td>2</td>\n",
       "      <td>2.331192e-11</td>\n",
       "      <td>14</td>\n",
       "      <td>0</td>\n",
       "    </tr>\n",
       "    <tr>\n",
       "      <th>5</th>\n",
       "      <td>SE:55226</td>\n",
       "      <td>Ente</td>\n",
       "      <td>COMISSÃO DIRETORA</td>\n",
       "      <td>2</td>\n",
       "      <td>2.331192e-11</td>\n",
       "      <td>14</td>\n",
       "      <td>0</td>\n",
       "    </tr>\n",
       "    <tr>\n",
       "      <th>6</th>\n",
       "      <td>SE:9999990</td>\n",
       "      <td>Ente</td>\n",
       "      <td>SUPERIOR TRIBUNAL DE JUSTIÇA</td>\n",
       "      <td>3</td>\n",
       "      <td>0.000000e+00</td>\n",
       "      <td>92</td>\n",
       "      <td>11</td>\n",
       "    </tr>\n",
       "    <tr>\n",
       "      <th>7</th>\n",
       "      <td>SE:55126</td>\n",
       "      <td>Ente</td>\n",
       "      <td>PRESIDÊNCIA DA REPÚBLICA</td>\n",
       "      <td>615</td>\n",
       "      <td>0.000000e+00</td>\n",
       "      <td>62</td>\n",
       "      <td>5</td>\n",
       "    </tr>\n",
       "    <tr>\n",
       "      <th>8</th>\n",
       "      <td>SE:55143</td>\n",
       "      <td>Ente</td>\n",
       "      <td>TRIBUNAL DE JUSTIÇA DO DISTRITO FEDERAL E TERR...</td>\n",
       "      <td>4</td>\n",
       "      <td>0.000000e+00</td>\n",
       "      <td>137</td>\n",
       "      <td>34</td>\n",
       "    </tr>\n",
       "    <tr>\n",
       "      <th>9</th>\n",
       "      <td>SE:7352682</td>\n",
       "      <td>Ente</td>\n",
       "      <td>FORUM NACIONAL DE COMITÊS HIDROGRÁFICAS BRASIL</td>\n",
       "      <td>1</td>\n",
       "      <td>0.000000e+00</td>\n",
       "      <td>62</td>\n",
       "      <td>5</td>\n",
       "    </tr>\n",
       "  </tbody>\n",
       "</table>\n",
       "</div>"
      ],
      "text/plain": [
       "           id  type                                              label  \\\n",
       "0        SE:2  Ente                               CÂMARA DOS DEPUTADOS   \n",
       "1        SE:1  Ente                                     SENADO FEDERAL   \n",
       "2  SE:7352398  Ente                                    CPI DA PANDEMIA   \n",
       "3  SE:3947422  Ente  COMISSÃO DE DIREITOS HUMANOS E LEGISLAÇÃO PART...   \n",
       "4  SE:3927825  Ente                          COMISSÃO DE MEIO AMBIENTE   \n",
       "5    SE:55226  Ente                                  COMISSÃO DIRETORA   \n",
       "6  SE:9999990  Ente                       SUPERIOR TRIBUNAL DE JUSTIÇA   \n",
       "7    SE:55126  Ente                           PRESIDÊNCIA DA REPÚBLICA   \n",
       "8    SE:55143  Ente  TRIBUNAL DE JUSTIÇA DO DISTRITO FEDERAL E TERR...   \n",
       "9  SE:7352682  Ente     FORUM NACIONAL DE COMITÊS HIDROGRÁFICAS BRASIL   \n",
       "\n",
       "   degree   eigenvector  community_id  component_id  \n",
       "0     366  1.376565e-03             1             0  \n",
       "1       2  5.420371e-08            14             0  \n",
       "2       5  3.499044e-11            14             0  \n",
       "3       6  2.333195e-11            14             0  \n",
       "4       2  2.331192e-11            14             0  \n",
       "5       2  2.331192e-11            14             0  \n",
       "6       3  0.000000e+00            92            11  \n",
       "7     615  0.000000e+00            62             5  \n",
       "8       4  0.000000e+00           137            34  \n",
       "9       1  0.000000e+00            62             5  "
      ]
     },
     "execution_count": 15,
     "metadata": {},
     "output_type": "execute_result"
    }
   ],
   "source": [
    "top10_ents_eigen"
   ]
  }
 ],
 "metadata": {
  "kernelspec": {
   "display_name": "venv",
   "language": "python",
   "name": "python3"
  },
  "language_info": {
   "codemirror_mode": {
    "name": "ipython",
    "version": 3
   },
   "file_extension": ".py",
   "mimetype": "text/x-python",
   "name": "python",
   "nbconvert_exporter": "python",
   "pygments_lexer": "ipython3",
   "version": "3.13.7"
  }
 },
 "nbformat": 4,
 "nbformat_minor": 5
}
