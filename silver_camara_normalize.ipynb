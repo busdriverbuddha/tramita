{
 "cells": [
  {
   "cell_type": "code",
   "execution_count": 4,
   "id": "fa4d4682",
   "metadata": {},
   "outputs": [
    {
     "name": "stdout",
     "output_type": "stream",
     "text": [
      "The sql extension is already loaded. To reload it, use:\n",
      "  %reload_ext sql\n"
     ]
    }
   ],
   "source": [
    "import os\n",
    "import duckdb\n",
    "\n",
    "from pathlib import Path\n",
    "\n",
    "%load_ext sql\n",
    "\n",
    "from dotenv import load_dotenv\n",
    "\n",
    "load_dotenv()\n",
    "\n",
    "DB_PATH = Path(os.getenv(\"SILVER_DUCKDB_PATH\", \"\"))\n",
    "DB_PATH.parent.mkdir(parents=True, exist_ok=True)\n",
    "\n",
    "TMP_DIR = \"/tmp/duckdb_tmp\"  # make sure it exists\n",
    "\n",
    "conn = duckdb.connect(DB_PATH)\n",
    "\n",
    "conn.execute(f\"SET temp_directory='{TMP_DIR}'\")\n",
    "conn.execute(\"SET memory_limit='50GB'\")\n",
    "conn.execute(\"SET threads=1\")\n",
    "conn.execute(\"SET preserve_insertion_order=false\")\n",
    "\n",
    "%sql conn --alias duck"
   ]
  },
  {
   "cell_type": "markdown",
   "id": "7a64156c",
   "metadata": {},
   "source": [
    "# Normalização de PKs"
   ]
  },
  {
   "cell_type": "code",
   "execution_count": 7,
   "id": "44722596",
   "metadata": {
    "vscode": {
     "languageId": "sql"
    }
   },
   "outputs": [
    {
     "data": {
      "text/html": [
       "<span style=\"None\">Running query in &#x27;duck&#x27;</span>"
      ],
      "text/plain": [
       "Running query in 'duck'"
      ]
     },
     "metadata": {},
     "output_type": "display_data"
    },
    {
     "data": {
      "text/html": [
       "<table>\n",
       "    <thead>\n",
       "        <tr>\n",
       "            <th>Success</th>\n",
       "        </tr>\n",
       "    </thead>\n",
       "    <tbody>\n",
       "    </tbody>\n",
       "</table>"
      ],
      "text/plain": [
       "+---------+\n",
       "| Success |\n",
       "+---------+\n",
       "+---------+"
      ]
     },
     "execution_count": 7,
     "metadata": {},
     "output_type": "execute_result"
    }
   ],
   "source": [
    "%%sql\n",
    "CREATE TABLE blocos_camara_dedup AS\n",
    "SELECT *\n",
    "FROM (\n",
    "    SELECT *,\n",
    "           ROW_NUMBER() OVER (PARTITION BY id_bloco ORDER BY year_snapshot DESC) AS rn\n",
    "    FROM blocos_camara\n",
    ")\n",
    "WHERE rn = 1;\n",
    "\n",
    "DROP TABLE blocos_camara;\n",
    "ALTER TABLE blocos_camara_dedup RENAME TO blocos_camara;"
   ]
  },
  {
   "cell_type": "code",
   "execution_count": 8,
   "id": "31d53c6f",
   "metadata": {
    "vscode": {
     "languageId": "sql"
    }
   },
   "outputs": [
    {
     "data": {
      "text/html": [
       "<span style=\"None\">Running query in &#x27;duck&#x27;</span>"
      ],
      "text/plain": [
       "Running query in 'duck'"
      ]
     },
     "metadata": {},
     "output_type": "display_data"
    },
    {
     "data": {
      "text/html": [
       "<table>\n",
       "    <thead>\n",
       "        <tr>\n",
       "            <th>Success</th>\n",
       "        </tr>\n",
       "    </thead>\n",
       "    <tbody>\n",
       "    </tbody>\n",
       "</table>"
      ],
      "text/plain": [
       "+---------+\n",
       "| Success |\n",
       "+---------+\n",
       "+---------+"
      ]
     },
     "execution_count": 8,
     "metadata": {},
     "output_type": "execute_result"
    }
   ],
   "source": [
    "%%sql\n",
    "ALTER TABLE blocos_camara\n",
    "    ALTER COLUMN id_bloco TYPE BIGINT;\n",
    "\n",
    "ALTER TABLE blocos_camara\n",
    "    ADD CONSTRAINT pk_blocos PRIMARY KEY (id_bloco);"
   ]
  },
  {
   "cell_type": "code",
   "execution_count": 9,
   "id": "c6913b59",
   "metadata": {
    "vscode": {
     "languageId": "sql"
    }
   },
   "outputs": [
    {
     "data": {
      "text/html": [
       "<span style=\"None\">Running query in &#x27;duck&#x27;</span>"
      ],
      "text/plain": [
       "Running query in 'duck'"
      ]
     },
     "metadata": {},
     "output_type": "display_data"
    },
    {
     "data": {
      "text/html": [
       "<table>\n",
       "    <thead>\n",
       "        <tr>\n",
       "            <th>Success</th>\n",
       "        </tr>\n",
       "    </thead>\n",
       "    <tbody>\n",
       "    </tbody>\n",
       "</table>"
      ],
      "text/plain": [
       "+---------+\n",
       "| Success |\n",
       "+---------+\n",
       "+---------+"
      ]
     },
     "execution_count": 9,
     "metadata": {},
     "output_type": "execute_result"
    }
   ],
   "source": [
    "%%sql\n",
    "CREATE TABLE deputados_camara_dedup AS\n",
    "SELECT *\n",
    "FROM (\n",
    "    SELECT *,\n",
    "           ROW_NUMBER() OVER (PARTITION BY id_deputado ORDER BY year_snapshot DESC) AS rn\n",
    "    FROM deputados_camara\n",
    ")\n",
    "WHERE rn = 1;\n",
    "\n",
    "DROP TABLE deputados_camara;\n",
    "ALTER TABLE deputados_camara_dedup RENAME TO deputados_camara;\n"
   ]
  },
  {
   "cell_type": "code",
   "execution_count": 10,
   "id": "8ca75f32",
   "metadata": {
    "vscode": {
     "languageId": "sql"
    }
   },
   "outputs": [
    {
     "data": {
      "text/html": [
       "<span style=\"None\">Running query in &#x27;duck&#x27;</span>"
      ],
      "text/plain": [
       "Running query in 'duck'"
      ]
     },
     "metadata": {},
     "output_type": "display_data"
    },
    {
     "data": {
      "text/html": [
       "<table>\n",
       "    <thead>\n",
       "        <tr>\n",
       "            <th>Success</th>\n",
       "        </tr>\n",
       "    </thead>\n",
       "    <tbody>\n",
       "    </tbody>\n",
       "</table>"
      ],
      "text/plain": [
       "+---------+\n",
       "| Success |\n",
       "+---------+\n",
       "+---------+"
      ]
     },
     "execution_count": 10,
     "metadata": {},
     "output_type": "execute_result"
    }
   ],
   "source": [
    "%%sql\n",
    "ALTER TABLE deputados_camara\n",
    "    ALTER COLUMN id_deputado TYPE BIGINT;\n",
    "\n",
    "ALTER TABLE deputados_camara\n",
    "    ADD CONSTRAINT pk_deputados PRIMARY KEY (id_deputado);"
   ]
  },
  {
   "cell_type": "code",
   "execution_count": 11,
   "id": "02e50eeb",
   "metadata": {
    "vscode": {
     "languageId": "sql"
    }
   },
   "outputs": [
    {
     "data": {
      "text/html": [
       "<span style=\"None\">Running query in &#x27;duck&#x27;</span>"
      ],
      "text/plain": [
       "Running query in 'duck'"
      ]
     },
     "metadata": {},
     "output_type": "display_data"
    },
    {
     "data": {
      "text/html": [
       "<table>\n",
       "    <thead>\n",
       "        <tr>\n",
       "            <th>Success</th>\n",
       "        </tr>\n",
       "    </thead>\n",
       "    <tbody>\n",
       "    </tbody>\n",
       "</table>"
      ],
      "text/plain": [
       "+---------+\n",
       "| Success |\n",
       "+---------+\n",
       "+---------+"
      ]
     },
     "execution_count": 11,
     "metadata": {},
     "output_type": "execute_result"
    }
   ],
   "source": [
    "%%sql\n",
    "CREATE TABLE eventos_camara_dedup AS\n",
    "SELECT *\n",
    "FROM (\n",
    "    SELECT *,\n",
    "           ROW_NUMBER() OVER (PARTITION BY id_evento ORDER BY year_snapshot DESC) AS rn\n",
    "    FROM eventos_camara\n",
    ")\n",
    "WHERE rn = 1;\n",
    "\n",
    "DROP TABLE eventos_camara;\n",
    "ALTER TABLE eventos_camara_dedup RENAME TO eventos_camara;"
   ]
  },
  {
   "cell_type": "code",
   "execution_count": 12,
   "id": "e0fa267b",
   "metadata": {
    "vscode": {
     "languageId": "sql"
    }
   },
   "outputs": [
    {
     "data": {
      "text/html": [
       "<span style=\"None\">Running query in &#x27;duck&#x27;</span>"
      ],
      "text/plain": [
       "Running query in 'duck'"
      ]
     },
     "metadata": {},
     "output_type": "display_data"
    },
    {
     "data": {
      "text/html": [
       "<table>\n",
       "    <thead>\n",
       "        <tr>\n",
       "            <th>Success</th>\n",
       "        </tr>\n",
       "    </thead>\n",
       "    <tbody>\n",
       "    </tbody>\n",
       "</table>"
      ],
      "text/plain": [
       "+---------+\n",
       "| Success |\n",
       "+---------+\n",
       "+---------+"
      ]
     },
     "execution_count": 12,
     "metadata": {},
     "output_type": "execute_result"
    }
   ],
   "source": [
    "%%sql\n",
    "ALTER TABLE eventos_camara\n",
    "    ALTER COLUMN id_evento TYPE BIGINT;\n",
    "\n",
    "ALTER TABLE eventos_camara\n",
    "    ADD CONSTRAINT pk_eventos PRIMARY KEY (id_evento);"
   ]
  },
  {
   "cell_type": "code",
   "execution_count": 13,
   "id": "163523fe",
   "metadata": {
    "vscode": {
     "languageId": "sql"
    }
   },
   "outputs": [
    {
     "data": {
      "text/html": [
       "<span style=\"None\">Running query in &#x27;duck&#x27;</span>"
      ],
      "text/plain": [
       "Running query in 'duck'"
      ]
     },
     "metadata": {},
     "output_type": "display_data"
    },
    {
     "data": {
      "text/html": [
       "<table>\n",
       "    <thead>\n",
       "        <tr>\n",
       "            <th>Success</th>\n",
       "        </tr>\n",
       "    </thead>\n",
       "    <tbody>\n",
       "    </tbody>\n",
       "</table>"
      ],
      "text/plain": [
       "+---------+\n",
       "| Success |\n",
       "+---------+\n",
       "+---------+"
      ]
     },
     "execution_count": 13,
     "metadata": {},
     "output_type": "execute_result"
    }
   ],
   "source": [
    "%%sql\n",
    "CREATE TABLE frentes_camara_dedup AS\n",
    "SELECT *\n",
    "FROM (\n",
    "    SELECT *,\n",
    "           ROW_NUMBER() OVER (PARTITION BY id_frente ORDER BY year_snapshot DESC) AS rn\n",
    "    FROM frentes_camara\n",
    ")\n",
    "WHERE rn = 1;\n",
    "\n",
    "DROP TABLE frentes_camara;\n",
    "ALTER TABLE frentes_camara_dedup RENAME TO frentes_camara;"
   ]
  },
  {
   "cell_type": "code",
   "execution_count": 14,
   "id": "b1e83c0d",
   "metadata": {
    "vscode": {
     "languageId": "sql"
    }
   },
   "outputs": [
    {
     "data": {
      "text/html": [
       "<span style=\"None\">Running query in &#x27;duck&#x27;</span>"
      ],
      "text/plain": [
       "Running query in 'duck'"
      ]
     },
     "metadata": {},
     "output_type": "display_data"
    },
    {
     "data": {
      "text/html": [
       "<table>\n",
       "    <thead>\n",
       "        <tr>\n",
       "            <th>Success</th>\n",
       "        </tr>\n",
       "    </thead>\n",
       "    <tbody>\n",
       "    </tbody>\n",
       "</table>"
      ],
      "text/plain": [
       "+---------+\n",
       "| Success |\n",
       "+---------+\n",
       "+---------+"
      ]
     },
     "execution_count": 14,
     "metadata": {},
     "output_type": "execute_result"
    }
   ],
   "source": [
    "%%sql\n",
    "ALTER TABLE frentes_camara\n",
    "    ALTER COLUMN id_frente TYPE BIGINT;\n",
    "\n",
    "ALTER TABLE frentes_camara\n",
    "    ADD CONSTRAINT pk_frentes PRIMARY KEY (id_frente);"
   ]
  },
  {
   "cell_type": "code",
   "execution_count": 16,
   "id": "4bc1042e",
   "metadata": {
    "vscode": {
     "languageId": "sql"
    }
   },
   "outputs": [
    {
     "data": {
      "text/html": [
       "<span style=\"None\">Running query in &#x27;duck&#x27;</span>"
      ],
      "text/plain": [
       "Running query in 'duck'"
      ]
     },
     "metadata": {},
     "output_type": "display_data"
    },
    {
     "data": {
      "text/html": [
       "<table>\n",
       "    <thead>\n",
       "        <tr>\n",
       "            <th>Success</th>\n",
       "        </tr>\n",
       "    </thead>\n",
       "    <tbody>\n",
       "    </tbody>\n",
       "</table>"
      ],
      "text/plain": [
       "+---------+\n",
       "| Success |\n",
       "+---------+\n",
       "+---------+"
      ]
     },
     "execution_count": 16,
     "metadata": {},
     "output_type": "execute_result"
    }
   ],
   "source": [
    "%%sql\n",
    "CREATE TABLE legislaturas_camara_dedup AS\n",
    "SELECT *\n",
    "FROM (\n",
    "    SELECT *,\n",
    "           ROW_NUMBER() OVER (PARTITION BY id_legislatura ORDER BY year_snapshot DESC) AS rn\n",
    "    FROM legislaturas_camara\n",
    ")\n",
    "WHERE rn = 1;\n",
    "\n",
    "DROP TABLE legislaturas_camara;\n",
    "ALTER TABLE legislaturas_camara_dedup RENAME TO legislaturas_camara;"
   ]
  },
  {
   "cell_type": "code",
   "execution_count": 17,
   "id": "06ea033d",
   "metadata": {
    "vscode": {
     "languageId": "sql"
    }
   },
   "outputs": [
    {
     "data": {
      "text/html": [
       "<span style=\"None\">Running query in &#x27;duck&#x27;</span>"
      ],
      "text/plain": [
       "Running query in 'duck'"
      ]
     },
     "metadata": {},
     "output_type": "display_data"
    },
    {
     "data": {
      "text/html": [
       "<table>\n",
       "    <thead>\n",
       "        <tr>\n",
       "            <th>Success</th>\n",
       "        </tr>\n",
       "    </thead>\n",
       "    <tbody>\n",
       "    </tbody>\n",
       "</table>"
      ],
      "text/plain": [
       "+---------+\n",
       "| Success |\n",
       "+---------+\n",
       "+---------+"
      ]
     },
     "execution_count": 17,
     "metadata": {},
     "output_type": "execute_result"
    }
   ],
   "source": [
    "%%sql\n",
    "ALTER TABLE legislaturas_camara\n",
    "    ALTER COLUMN id_legislatura TYPE BIGINT;\n",
    "\n",
    "ALTER TABLE legislaturas_camara\n",
    "    ADD CONSTRAINT pk_legislaturas PRIMARY KEY (id_legislatura);"
   ]
  },
  {
   "cell_type": "code",
   "execution_count": null,
   "id": "83bec0ed",
   "metadata": {
    "vscode": {
     "languageId": "sql"
    }
   },
   "outputs": [
    {
     "data": {
      "text/html": [
       "<span style=\"None\">Running query in &#x27;duck&#x27;</span>"
      ],
      "text/plain": [
       "Running query in 'duck'"
      ]
     },
     "metadata": {},
     "output_type": "display_data"
    },
    {
     "data": {
      "text/html": [
       "<table>\n",
       "    <thead>\n",
       "        <tr>\n",
       "            <th>Success</th>\n",
       "        </tr>\n",
       "    </thead>\n",
       "    <tbody>\n",
       "    </tbody>\n",
       "</table>"
      ],
      "text/plain": [
       "+---------+\n",
       "| Success |\n",
       "+---------+\n",
       "+---------+"
      ]
     },
     "execution_count": 22,
     "metadata": {},
     "output_type": "execute_result"
    }
   ],
   "source": [
    "%%sql\n",
    "CREATE TABLE orgaos_camara_dedup AS\n",
    "SELECT *\n",
    "FROM (\n",
    "    SELECT *,\n",
    "           ROW_NUMBER() OVER (PARTITION BY id_orgao ORDER BY year_snapshot DESC) AS rn\n",
    "    FROM orgaos_camara\n",
    ")\n",
    "WHERE rn = 1;\n",
    "\n",
    "DROP TABLE orgaos_camara;\n",
    "ALTER TABLE orgaos_camara_dedup RENAME TO orgaos_camara;"
   ]
  },
  {
   "cell_type": "code",
   "execution_count": null,
   "id": "271d8c2e",
   "metadata": {
    "vscode": {
     "languageId": "sql"
    }
   },
   "outputs": [
    {
     "data": {
      "text/html": [
       "<span style=\"None\">Running query in &#x27;duck&#x27;</span>"
      ],
      "text/plain": [
       "Running query in 'duck'"
      ]
     },
     "metadata": {},
     "output_type": "display_data"
    },
    {
     "name": "stderr",
     "output_type": "stream",
     "text": [
      "RuntimeError: Catalog Error: an index with that name already exists for this table: PRIMARY_orgaos_camara_id_orgao\n"
     ]
    }
   ],
   "source": [
    "%%sql\n",
    "ALTER TABLE orgaos_camara\n",
    "    ALTER COLUMN id_orgao TYPE BIGINT;\n",
    "\n",
    "ALTER TABLE orgaos_camara\n",
    "    ADD CONSTRAINT pk_orgaos PRIMARY KEY (id_orgao);"
   ]
  },
  {
   "cell_type": "code",
   "execution_count": 25,
   "id": "39b4ffad",
   "metadata": {
    "vscode": {
     "languageId": "sql"
    }
   },
   "outputs": [
    {
     "data": {
      "text/html": [
       "<span style=\"None\">Running query in &#x27;duck&#x27;</span>"
      ],
      "text/plain": [
       "Running query in 'duck'"
      ]
     },
     "metadata": {},
     "output_type": "display_data"
    },
    {
     "data": {
      "text/html": [
       "<table>\n",
       "    <thead>\n",
       "        <tr>\n",
       "            <th>Success</th>\n",
       "        </tr>\n",
       "    </thead>\n",
       "    <tbody>\n",
       "    </tbody>\n",
       "</table>"
      ],
      "text/plain": [
       "+---------+\n",
       "| Success |\n",
       "+---------+\n",
       "+---------+"
      ]
     },
     "execution_count": 25,
     "metadata": {},
     "output_type": "execute_result"
    }
   ],
   "source": [
    "\n",
    "\n",
    "%%sql\n",
    "CREATE TABLE partidos_camara_dedup AS\n",
    "SELECT *\n",
    "FROM (\n",
    "    SELECT *,\n",
    "           ROW_NUMBER() OVER (PARTITION BY id_partido ORDER BY year_snapshot DESC) AS rn\n",
    "    FROM partidos_camara\n",
    ")\n",
    "WHERE rn = 1;\n",
    "\n",
    "DROP TABLE partidos_camara;\n",
    "ALTER TABLE partidos_camara_dedup RENAME TO partidos_camara;"
   ]
  },
  {
   "cell_type": "code",
   "execution_count": 26,
   "id": "c03a4404",
   "metadata": {
    "vscode": {
     "languageId": "sql"
    }
   },
   "outputs": [
    {
     "data": {
      "text/html": [
       "<span style=\"None\">Running query in &#x27;duck&#x27;</span>"
      ],
      "text/plain": [
       "Running query in 'duck'"
      ]
     },
     "metadata": {},
     "output_type": "display_data"
    },
    {
     "data": {
      "text/html": [
       "<table>\n",
       "    <thead>\n",
       "        <tr>\n",
       "            <th>Success</th>\n",
       "        </tr>\n",
       "    </thead>\n",
       "    <tbody>\n",
       "    </tbody>\n",
       "</table>"
      ],
      "text/plain": [
       "+---------+\n",
       "| Success |\n",
       "+---------+\n",
       "+---------+"
      ]
     },
     "execution_count": 26,
     "metadata": {},
     "output_type": "execute_result"
    }
   ],
   "source": [
    "%%sql\n",
    "ALTER TABLE partidos_camara\n",
    "    ALTER COLUMN id_partido TYPE BIGINT;\n",
    "\n",
    "ALTER TABLE partidos_camara\n",
    "    ADD CONSTRAINT pk_partidos PRIMARY KEY (id_partido);"
   ]
  },
  {
   "cell_type": "code",
   "execution_count": 27,
   "id": "7905d629",
   "metadata": {
    "vscode": {
     "languageId": "sql"
    }
   },
   "outputs": [
    {
     "data": {
      "text/html": [
       "<span style=\"None\">Running query in &#x27;duck&#x27;</span>"
      ],
      "text/plain": [
       "Running query in 'duck'"
      ]
     },
     "metadata": {},
     "output_type": "display_data"
    },
    {
     "data": {
      "text/html": [
       "<table>\n",
       "    <thead>\n",
       "        <tr>\n",
       "            <th>Success</th>\n",
       "        </tr>\n",
       "    </thead>\n",
       "    <tbody>\n",
       "    </tbody>\n",
       "</table>"
      ],
      "text/plain": [
       "+---------+\n",
       "| Success |\n",
       "+---------+\n",
       "+---------+"
      ]
     },
     "execution_count": 27,
     "metadata": {},
     "output_type": "execute_result"
    }
   ],
   "source": [
    "%%sql\n",
    "ALTER TABLE proposicoes_camara\n",
    "    ALTER COLUMN id_proposicao TYPE BIGINT;\n",
    "\n",
    "ALTER TABLE proposicoes_camara\n",
    "    ADD CONSTRAINT pk_proposicoes PRIMARY KEY (id_proposicao);"
   ]
  },
  {
   "cell_type": "code",
   "execution_count": 28,
   "id": "9df9ff62",
   "metadata": {
    "vscode": {
     "languageId": "sql"
    }
   },
   "outputs": [
    {
     "data": {
      "text/html": [
       "<span style=\"None\">Running query in &#x27;duck&#x27;</span>"
      ],
      "text/plain": [
       "Running query in 'duck'"
      ]
     },
     "metadata": {},
     "output_type": "display_data"
    },
    {
     "data": {
      "text/html": [
       "<table>\n",
       "    <thead>\n",
       "        <tr>\n",
       "            <th>Success</th>\n",
       "        </tr>\n",
       "    </thead>\n",
       "    <tbody>\n",
       "    </tbody>\n",
       "</table>"
      ],
      "text/plain": [
       "+---------+\n",
       "| Success |\n",
       "+---------+\n",
       "+---------+"
      ]
     },
     "execution_count": 28,
     "metadata": {},
     "output_type": "execute_result"
    }
   ],
   "source": [
    "%%sql\n",
    "ALTER TABLE temas_camara\n",
    "    ALTER COLUMN id_tema TYPE BIGINT;\n",
    "\n",
    "ALTER TABLE temas_camara\n",
    "    ADD CONSTRAINT pk_temas PRIMARY KEY (id_tema);\n"
   ]
  },
  {
   "cell_type": "code",
   "execution_count": 29,
   "id": "eb21e79e",
   "metadata": {
    "vscode": {
     "languageId": "sql"
    }
   },
   "outputs": [
    {
     "data": {
      "text/html": [
       "<span style=\"None\">Running query in &#x27;duck&#x27;</span>"
      ],
      "text/plain": [
       "Running query in 'duck'"
      ]
     },
     "metadata": {},
     "output_type": "display_data"
    },
    {
     "data": {
      "text/html": [
       "<table>\n",
       "    <thead>\n",
       "        <tr>\n",
       "            <th>Success</th>\n",
       "        </tr>\n",
       "    </thead>\n",
       "    <tbody>\n",
       "    </tbody>\n",
       "</table>"
      ],
      "text/plain": [
       "+---------+\n",
       "| Success |\n",
       "+---------+\n",
       "+---------+"
      ]
     },
     "execution_count": 29,
     "metadata": {},
     "output_type": "execute_result"
    }
   ],
   "source": [
    "%%sql\n",
    "ALTER TABLE autores_camara\n",
    "    ALTER COLUMN id_proposicao TYPE BIGINT;\n",
    "\n",
    "ALTER TABLE autores_camara\n",
    "    ALTER COLUMN ordem_assinatura TYPE INTEGER;"
   ]
  },
  {
   "cell_type": "code",
   "execution_count": 30,
   "id": "7dc6baea",
   "metadata": {
    "vscode": {
     "languageId": "sql"
    }
   },
   "outputs": [
    {
     "data": {
      "text/html": [
       "<span style=\"None\">Running query in &#x27;duck&#x27;</span>"
      ],
      "text/plain": [
       "Running query in 'duck'"
      ]
     },
     "metadata": {},
     "output_type": "display_data"
    },
    {
     "data": {
      "text/html": [
       "<table>\n",
       "    <thead>\n",
       "        <tr>\n",
       "            <th>Success</th>\n",
       "        </tr>\n",
       "    </thead>\n",
       "    <tbody>\n",
       "    </tbody>\n",
       "</table>"
      ],
      "text/plain": [
       "+---------+\n",
       "| Success |\n",
       "+---------+\n",
       "+---------+"
      ]
     },
     "execution_count": 30,
     "metadata": {},
     "output_type": "execute_result"
    }
   ],
   "source": [
    "%%sql\n",
    "ALTER TABLE autores_camara\n",
    "    ADD CONSTRAINT pk_autores PRIMARY KEY (id_autor);\n"
   ]
  },
  {
   "cell_type": "code",
   "execution_count": 31,
   "id": "34f7f8d6",
   "metadata": {
    "vscode": {
     "languageId": "sql"
    }
   },
   "outputs": [
    {
     "data": {
      "text/html": [
       "<span style=\"None\">Running query in &#x27;duck&#x27;</span>"
      ],
      "text/plain": [
       "Running query in 'duck'"
      ]
     },
     "metadata": {},
     "output_type": "display_data"
    },
    {
     "data": {
      "text/html": [
       "<table>\n",
       "    <thead>\n",
       "        <tr>\n",
       "            <th>Success</th>\n",
       "        </tr>\n",
       "    </thead>\n",
       "    <tbody>\n",
       "    </tbody>\n",
       "</table>"
      ],
      "text/plain": [
       "+---------+\n",
       "| Success |\n",
       "+---------+\n",
       "+---------+"
      ]
     },
     "execution_count": 31,
     "metadata": {},
     "output_type": "execute_result"
    }
   ],
   "source": [
    "%%sql\n",
    "ALTER TABLE orientacoes_camara\n",
    "    ALTER COLUMN id_orientacao TYPE BIGINT;\n",
    "\n",
    "ALTER TABLE orientacoes_camara\n",
    "    ADD CONSTRAINT pk_orientacoes\n",
    "    PRIMARY KEY (id_orientacao);"
   ]
  },
  {
   "cell_type": "code",
   "execution_count": 33,
   "id": "77a8810f",
   "metadata": {
    "vscode": {
     "languageId": "sql"
    }
   },
   "outputs": [
    {
     "data": {
      "text/html": [
       "<span style=\"None\">Running query in &#x27;duck&#x27;</span>"
      ],
      "text/plain": [
       "Running query in 'duck'"
      ]
     },
     "metadata": {},
     "output_type": "display_data"
    },
    {
     "data": {
      "text/html": [
       "<table>\n",
       "    <thead>\n",
       "        <tr>\n",
       "            <th>Success</th>\n",
       "        </tr>\n",
       "    </thead>\n",
       "    <tbody>\n",
       "    </tbody>\n",
       "</table>"
      ],
      "text/plain": [
       "+---------+\n",
       "| Success |\n",
       "+---------+\n",
       "+---------+"
      ]
     },
     "execution_count": 33,
     "metadata": {},
     "output_type": "execute_result"
    }
   ],
   "source": [
    "%%sql\n",
    "ALTER TABLE tramitacoes_camara\n",
    "    ALTER COLUMN id_tramitacao TYPE BIGINT;\n",
    "\n",
    "ALTER TABLE tramitacoes_camara\n",
    "    ADD CONSTRAINT pk_tramitacoes\n",
    "    PRIMARY KEY (id_tramitacao);"
   ]
  },
  {
   "cell_type": "code",
   "execution_count": 35,
   "id": "54b61469",
   "metadata": {
    "vscode": {
     "languageId": "sql"
    }
   },
   "outputs": [
    {
     "data": {
      "text/html": [
       "<span style=\"None\">Running query in &#x27;duck&#x27;</span>"
      ],
      "text/plain": [
       "Running query in 'duck'"
      ]
     },
     "metadata": {},
     "output_type": "display_data"
    },
    {
     "data": {
      "text/html": [
       "<table>\n",
       "    <thead>\n",
       "        <tr>\n",
       "            <th>Success</th>\n",
       "        </tr>\n",
       "    </thead>\n",
       "    <tbody>\n",
       "    </tbody>\n",
       "</table>"
      ],
      "text/plain": [
       "+---------+\n",
       "| Success |\n",
       "+---------+\n",
       "+---------+"
      ]
     },
     "execution_count": 35,
     "metadata": {},
     "output_type": "execute_result"
    }
   ],
   "source": [
    "%%sql\n",
    "CREATE TABLE votacoes_camara_dedup AS\n",
    "SELECT *\n",
    "FROM (\n",
    "    SELECT *,\n",
    "           ROW_NUMBER() OVER (PARTITION BY id_votacao ORDER BY year_snapshot DESC) AS rn\n",
    "    FROM votacoes_camara\n",
    ")\n",
    "WHERE rn = 1;\n",
    "\n",
    "DROP TABLE votacoes_camara;\n",
    "ALTER TABLE votacoes_camara_dedup RENAME TO votacoes_camara;\n",
    "\n",
    "ALTER TABLE votacoes_camara\n",
    "    ALTER COLUMN id_votacao TYPE TEXT;\n",
    "\n",
    "ALTER TABLE votacoes_camara\n",
    "    ADD CONSTRAINT pk_votacoes\n",
    "    PRIMARY KEY (id_votacao);"
   ]
  },
  {
   "cell_type": "code",
   "execution_count": 36,
   "id": "75ab91b9",
   "metadata": {
    "vscode": {
     "languageId": "sql"
    }
   },
   "outputs": [
    {
     "data": {
      "text/html": [
       "<span style=\"None\">Running query in &#x27;duck&#x27;</span>"
      ],
      "text/plain": [
       "Running query in 'duck'"
      ]
     },
     "metadata": {},
     "output_type": "display_data"
    },
    {
     "data": {
      "text/html": [
       "<table>\n",
       "    <thead>\n",
       "        <tr>\n",
       "            <th>Success</th>\n",
       "        </tr>\n",
       "    </thead>\n",
       "    <tbody>\n",
       "    </tbody>\n",
       "</table>"
      ],
      "text/plain": [
       "+---------+\n",
       "| Success |\n",
       "+---------+\n",
       "+---------+"
      ]
     },
     "execution_count": 36,
     "metadata": {},
     "output_type": "execute_result"
    }
   ],
   "source": [
    "%%sql\n",
    "ALTER TABLE blocos_partidos_camara\n",
    "    ALTER COLUMN id_bloco_partido TYPE BIGINT;\n",
    "\n",
    "ALTER TABLE blocos_partidos_camara\n",
    "    ADD CONSTRAINT pk_bloco_partido\n",
    "    PRIMARY KEY (id_bloco_partido);"
   ]
  },
  {
   "cell_type": "code",
   "execution_count": 37,
   "id": "8ed37336",
   "metadata": {
    "vscode": {
     "languageId": "sql"
    }
   },
   "outputs": [
    {
     "data": {
      "text/html": [
       "<span style=\"None\">Running query in &#x27;duck&#x27;</span>"
      ],
      "text/plain": [
       "Running query in 'duck'"
      ]
     },
     "metadata": {},
     "output_type": "display_data"
    },
    {
     "data": {
      "text/html": [
       "<table>\n",
       "    <thead>\n",
       "        <tr>\n",
       "            <th>Success</th>\n",
       "        </tr>\n",
       "    </thead>\n",
       "    <tbody>\n",
       "    </tbody>\n",
       "</table>"
      ],
      "text/plain": [
       "+---------+\n",
       "| Success |\n",
       "+---------+\n",
       "+---------+"
      ]
     },
     "execution_count": 37,
     "metadata": {},
     "output_type": "execute_result"
    }
   ],
   "source": [
    "%%sql\n",
    "ALTER TABLE deputados_frentes_camara\n",
    "    ALTER COLUMN id_deputado_frente TYPE BIGINT;\n",
    "\n",
    "ALTER TABLE deputados_frentes_camara\n",
    "    ADD CONSTRAINT pk_deputado_frente\n",
    "    PRIMARY KEY (id_deputado_frente);"
   ]
  },
  {
   "cell_type": "code",
   "execution_count": 38,
   "id": "708acb91",
   "metadata": {
    "vscode": {
     "languageId": "sql"
    }
   },
   "outputs": [
    {
     "data": {
      "text/html": [
       "<span style=\"None\">Running query in &#x27;duck&#x27;</span>"
      ],
      "text/plain": [
       "Running query in 'duck'"
      ]
     },
     "metadata": {},
     "output_type": "display_data"
    },
    {
     "data": {
      "text/html": [
       "<table>\n",
       "    <thead>\n",
       "        <tr>\n",
       "            <th>Success</th>\n",
       "        </tr>\n",
       "    </thead>\n",
       "    <tbody>\n",
       "    </tbody>\n",
       "</table>"
      ],
      "text/plain": [
       "+---------+\n",
       "| Success |\n",
       "+---------+\n",
       "+---------+"
      ]
     },
     "execution_count": 38,
     "metadata": {},
     "output_type": "execute_result"
    }
   ],
   "source": [
    "%%sql\n",
    "ALTER TABLE deputados_historico_camara\n",
    "    ALTER COLUMN id_deputado_historico TYPE BIGINT;\n",
    "\n",
    "ALTER TABLE deputados_historico_camara\n",
    "    ADD CONSTRAINT pk_deputado_historico\n",
    "    PRIMARY KEY (id_deputado_historico);"
   ]
  },
  {
   "cell_type": "code",
   "execution_count": 39,
   "id": "d90bc6be",
   "metadata": {
    "vscode": {
     "languageId": "sql"
    }
   },
   "outputs": [
    {
     "data": {
      "text/html": [
       "<span style=\"None\">Running query in &#x27;duck&#x27;</span>"
      ],
      "text/plain": [
       "Running query in 'duck'"
      ]
     },
     "metadata": {},
     "output_type": "display_data"
    },
    {
     "data": {
      "text/html": [
       "<table>\n",
       "    <thead>\n",
       "        <tr>\n",
       "            <th>Success</th>\n",
       "        </tr>\n",
       "    </thead>\n",
       "    <tbody>\n",
       "    </tbody>\n",
       "</table>"
      ],
      "text/plain": [
       "+---------+\n",
       "| Success |\n",
       "+---------+\n",
       "+---------+"
      ]
     },
     "execution_count": 39,
     "metadata": {},
     "output_type": "execute_result"
    }
   ],
   "source": [
    "%%sql\n",
    "ALTER TABLE deputados_orgaos_camara\n",
    "    ALTER COLUMN id_deputado_orgao TYPE BIGINT;\n",
    "\n",
    "ALTER TABLE deputados_orgaos_camara\n",
    "    ADD CONSTRAINT pk_deputado_orgao\n",
    "    PRIMARY KEY (id_deputado_orgao);"
   ]
  },
  {
   "cell_type": "code",
   "execution_count": 40,
   "id": "ccad748a",
   "metadata": {
    "vscode": {
     "languageId": "sql"
    }
   },
   "outputs": [
    {
     "data": {
      "text/html": [
       "<span style=\"None\">Running query in &#x27;duck&#x27;</span>"
      ],
      "text/plain": [
       "Running query in 'duck'"
      ]
     },
     "metadata": {},
     "output_type": "display_data"
    },
    {
     "data": {
      "text/html": [
       "<table>\n",
       "    <thead>\n",
       "        <tr>\n",
       "            <th>Success</th>\n",
       "        </tr>\n",
       "    </thead>\n",
       "    <tbody>\n",
       "    </tbody>\n",
       "</table>"
      ],
      "text/plain": [
       "+---------+\n",
       "| Success |\n",
       "+---------+\n",
       "+---------+"
      ]
     },
     "execution_count": 40,
     "metadata": {},
     "output_type": "execute_result"
    }
   ],
   "source": [
    "%%sql\n",
    "ALTER TABLE eventos_orgaos_camara\n",
    "    ALTER COLUMN id_evento_orgao TYPE BIGINT;\n",
    "\n",
    "ALTER TABLE eventos_orgaos_camara\n",
    "    ADD CONSTRAINT pk_evento_orgao\n",
    "    PRIMARY KEY (id_evento_orgao);"
   ]
  },
  {
   "cell_type": "code",
   "execution_count": 41,
   "id": "fb98281d",
   "metadata": {
    "vscode": {
     "languageId": "sql"
    }
   },
   "outputs": [
    {
     "data": {
      "text/html": [
       "<span style=\"None\">Running query in &#x27;duck&#x27;</span>"
      ],
      "text/plain": [
       "Running query in 'duck'"
      ]
     },
     "metadata": {},
     "output_type": "display_data"
    },
    {
     "data": {
      "text/html": [
       "<table>\n",
       "    <thead>\n",
       "        <tr>\n",
       "            <th>Success</th>\n",
       "        </tr>\n",
       "    </thead>\n",
       "    <tbody>\n",
       "    </tbody>\n",
       "</table>"
      ],
      "text/plain": [
       "+---------+\n",
       "| Success |\n",
       "+---------+\n",
       "+---------+"
      ]
     },
     "execution_count": 41,
     "metadata": {},
     "output_type": "execute_result"
    }
   ],
   "source": [
    "%%sql\n",
    "ALTER TABLE partidos_lideres_camara\n",
    "    ALTER COLUMN id_partido_lider TYPE BIGINT;\n",
    "\n",
    "ALTER TABLE partidos_lideres_camara\n",
    "    ADD CONSTRAINT pk_partido_lider\n",
    "    PRIMARY KEY (id_partido_lider);"
   ]
  },
  {
   "cell_type": "code",
   "execution_count": 42,
   "id": "d3500c36",
   "metadata": {
    "vscode": {
     "languageId": "sql"
    }
   },
   "outputs": [
    {
     "data": {
      "text/html": [
       "<span style=\"None\">Running query in &#x27;duck&#x27;</span>"
      ],
      "text/plain": [
       "Running query in 'duck'"
      ]
     },
     "metadata": {},
     "output_type": "display_data"
    },
    {
     "data": {
      "text/html": [
       "<table>\n",
       "    <thead>\n",
       "        <tr>\n",
       "            <th>Success</th>\n",
       "        </tr>\n",
       "    </thead>\n",
       "    <tbody>\n",
       "    </tbody>\n",
       "</table>"
      ],
      "text/plain": [
       "+---------+\n",
       "| Success |\n",
       "+---------+\n",
       "+---------+"
      ]
     },
     "execution_count": 42,
     "metadata": {},
     "output_type": "execute_result"
    }
   ],
   "source": [
    "%%sql\n",
    "ALTER TABLE partidos_membros_camara\n",
    "    ALTER COLUMN id_partido_membro TYPE BIGINT;\n",
    "\n",
    "ALTER TABLE partidos_membros_camara\n",
    "    ADD CONSTRAINT pk_partido_membro\n",
    "    PRIMARY KEY (id_partido_membro);"
   ]
  },
  {
   "cell_type": "markdown",
   "id": "d3fde3cb",
   "metadata": {},
   "source": [
    "# Deduplicação de tabelas relacionais"
   ]
  },
  {
   "cell_type": "code",
   "execution_count": 43,
   "id": "2ae7484f",
   "metadata": {
    "vscode": {
     "languageId": "sql"
    }
   },
   "outputs": [
    {
     "data": {
      "text/html": [
       "<span style=\"None\">Running query in &#x27;duck&#x27;</span>"
      ],
      "text/plain": [
       "Running query in 'duck'"
      ]
     },
     "metadata": {},
     "output_type": "display_data"
    },
    {
     "data": {
      "text/html": [
       "<table>\n",
       "    <thead>\n",
       "        <tr>\n",
       "            <th>id_orientacao</th>\n",
       "            <th>id_votacao</th>\n",
       "            <th>sigla_partido_bloco</th>\n",
       "            <th>orientacao_voto</th>\n",
       "            <th>cod_partido_bloco</th>\n",
       "            <th>cod_tipo_lideranca</th>\n",
       "            <th>uri_partido_bloco</th>\n",
       "            <th>year_snapshot</th>\n",
       "        </tr>\n",
       "    </thead>\n",
       "    <tbody>\n",
       "        <tr>\n",
       "            <td>40598</td>\n",
       "            <td>2322436-12</td>\n",
       "            <td>AVANTE</td>\n",
       "            <td>Sim</td>\n",
       "            <td>36898</td>\n",
       "            <td>P</td>\n",
       "            <td><a href=https://dadosabertos.camara.leg.br/api/v2/partidos/36898>https://dadosabertos.camara.leg.br/api/v2/partidos/36898</a></td>\n",
       "            <td>2021</td>\n",
       "        </tr>\n",
       "        <tr>\n",
       "            <td>47965</td>\n",
       "            <td>2322436-12</td>\n",
       "            <td>AVANTE</td>\n",
       "            <td>Sim</td>\n",
       "            <td>36898</td>\n",
       "            <td>P</td>\n",
       "            <td><a href=https://dadosabertos.camara.leg.br/api/v2/partidos/36898>https://dadosabertos.camara.leg.br/api/v2/partidos/36898</a></td>\n",
       "            <td>2022</td>\n",
       "        </tr>\n",
       "        <tr>\n",
       "            <td>48244</td>\n",
       "            <td>2322436-12</td>\n",
       "            <td>CIDADANIA</td>\n",
       "            <td>Sim</td>\n",
       "            <td>37905</td>\n",
       "            <td>P</td>\n",
       "            <td><a href=https://dadosabertos.camara.leg.br/api/v2/partidos/37905>https://dadosabertos.camara.leg.br/api/v2/partidos/37905</a></td>\n",
       "            <td>2022</td>\n",
       "        </tr>\n",
       "        <tr>\n",
       "            <td>40914</td>\n",
       "            <td>2322436-12</td>\n",
       "            <td>CIDADANIA</td>\n",
       "            <td>Sim</td>\n",
       "            <td>37905</td>\n",
       "            <td>P</td>\n",
       "            <td><a href=https://dadosabertos.camara.leg.br/api/v2/partidos/37905>https://dadosabertos.camara.leg.br/api/v2/partidos/37905</a></td>\n",
       "            <td>2021</td>\n",
       "        </tr>\n",
       "        <tr>\n",
       "            <td>49055</td>\n",
       "            <td>2322436-12</td>\n",
       "            <td>Governo</td>\n",
       "            <td></td>\n",
       "            <td>None</td>\n",
       "            <td>B</td>\n",
       "            <td>None</td>\n",
       "            <td>2022</td>\n",
       "        </tr>\n",
       "        <tr>\n",
       "            <td>41857</td>\n",
       "            <td>2322436-12</td>\n",
       "            <td>Governo</td>\n",
       "            <td></td>\n",
       "            <td>None</td>\n",
       "            <td>B</td>\n",
       "            <td>None</td>\n",
       "            <td>2021</td>\n",
       "        </tr>\n",
       "        <tr>\n",
       "            <td>41229</td>\n",
       "            <td>2322436-12</td>\n",
       "            <td>MDB</td>\n",
       "            <td>Sim</td>\n",
       "            <td>36899</td>\n",
       "            <td>P</td>\n",
       "            <td><a href=https://dadosabertos.camara.leg.br/api/v2/partidos/36899>https://dadosabertos.camara.leg.br/api/v2/partidos/36899</a></td>\n",
       "            <td>2021</td>\n",
       "        </tr>\n",
       "        <tr>\n",
       "            <td>48518</td>\n",
       "            <td>2322436-12</td>\n",
       "            <td>MDB</td>\n",
       "            <td>Sim</td>\n",
       "            <td>36899</td>\n",
       "            <td>P</td>\n",
       "            <td><a href=https://dadosabertos.camara.leg.br/api/v2/partidos/36899>https://dadosabertos.camara.leg.br/api/v2/partidos/36899</a></td>\n",
       "            <td>2022</td>\n",
       "        </tr>\n",
       "        <tr>\n",
       "            <td>38682</td>\n",
       "            <td>2322436-12</td>\n",
       "            <td>Maioria</td>\n",
       "            <td>Sim</td>\n",
       "            <td>None</td>\n",
       "            <td>B</td>\n",
       "            <td>None</td>\n",
       "            <td>2021</td>\n",
       "        </tr>\n",
       "        <tr>\n",
       "            <td>46116</td>\n",
       "            <td>2322436-12</td>\n",
       "            <td>Maioria</td>\n",
       "            <td>Sim</td>\n",
       "            <td>None</td>\n",
       "            <td>B</td>\n",
       "            <td>None</td>\n",
       "            <td>2022</td>\n",
       "        </tr>\n",
       "    </tbody>\n",
       "</table>\n",
       "<span style=\"font-style:italic;text-align:center;\">Truncated to <a href=\"https://jupysql.ploomber.io/en/latest/api/configuration.html#displaylimit\">displaylimit</a> of 10.</span>"
      ],
      "text/plain": [
       "+---------------+------------+---------------------+-----------------+-------------------+--------------------+-------------------------------------------------------------------------------------------------------------------------------+---------------+\n",
       "| id_orientacao | id_votacao | sigla_partido_bloco | orientacao_voto | cod_partido_bloco | cod_tipo_lideranca |                                                       uri_partido_bloco                                                       | year_snapshot |\n",
       "+---------------+------------+---------------------+-----------------+-------------------+--------------------+-------------------------------------------------------------------------------------------------------------------------------+---------------+\n",
       "|     40598     | 2322436-12 |        AVANTE       |       Sim       |       36898       |         P          | <a href=https://dadosabertos.camara.leg.br/api/v2/partidos/36898>https://dadosabertos.camara.leg.br/api/v2/partidos/36898</a> |      2021     |\n",
       "|     47965     | 2322436-12 |        AVANTE       |       Sim       |       36898       |         P          | <a href=https://dadosabertos.camara.leg.br/api/v2/partidos/36898>https://dadosabertos.camara.leg.br/api/v2/partidos/36898</a> |      2022     |\n",
       "|     48244     | 2322436-12 |      CIDADANIA      |       Sim       |       37905       |         P          | <a href=https://dadosabertos.camara.leg.br/api/v2/partidos/37905>https://dadosabertos.camara.leg.br/api/v2/partidos/37905</a> |      2022     |\n",
       "|     40914     | 2322436-12 |      CIDADANIA      |       Sim       |       37905       |         P          | <a href=https://dadosabertos.camara.leg.br/api/v2/partidos/37905>https://dadosabertos.camara.leg.br/api/v2/partidos/37905</a> |      2021     |\n",
       "|     49055     | 2322436-12 |       Governo       |                 |        None       |         B          |                                                              None                                                             |      2022     |\n",
       "|     41857     | 2322436-12 |       Governo       |                 |        None       |         B          |                                                              None                                                             |      2021     |\n",
       "|     41229     | 2322436-12 |         MDB         |       Sim       |       36899       |         P          | <a href=https://dadosabertos.camara.leg.br/api/v2/partidos/36899>https://dadosabertos.camara.leg.br/api/v2/partidos/36899</a> |      2021     |\n",
       "|     48518     | 2322436-12 |         MDB         |       Sim       |       36899       |         P          | <a href=https://dadosabertos.camara.leg.br/api/v2/partidos/36899>https://dadosabertos.camara.leg.br/api/v2/partidos/36899</a> |      2022     |\n",
       "|     38682     | 2322436-12 |       Maioria       |       Sim       |        None       |         B          |                                                              None                                                             |      2021     |\n",
       "|     46116     | 2322436-12 |       Maioria       |       Sim       |        None       |         B          |                                                              None                                                             |      2022     |\n",
       "+---------------+------------+---------------------+-----------------+-------------------+--------------------+-------------------------------------------------------------------------------------------------------------------------------+---------------+\n",
       "Truncated to displaylimit of 10."
      ]
     },
     "execution_count": 43,
     "metadata": {},
     "output_type": "execute_result"
    }
   ],
   "source": [
    "%%sql\n",
    "SELECT a.*\n",
    "FROM orientacoes_camara a\n",
    "JOIN (\n",
    "    SELECT sigla_partido_bloco, id_votacao\n",
    "    FROM orientacoes_camara\n",
    "    GROUP BY sigla_partido_bloco, id_votacao\n",
    "    HAVING COUNT(*) > 1\n",
    ") dups\n",
    "ON  a.sigla_partido_bloco = dups.sigla_partido_bloco\n",
    "AND a.id_votacao = dups.id_votacao\n",
    "ORDER BY a.id_votacao, a.sigla_partido_bloco;\n"
   ]
  },
  {
   "cell_type": "code",
   "execution_count": 44,
   "id": "20c8fd9f",
   "metadata": {
    "vscode": {
     "languageId": "sql"
    }
   },
   "outputs": [
    {
     "data": {
      "text/html": [
       "<span style=\"None\">Running query in &#x27;duck&#x27;</span>"
      ],
      "text/plain": [
       "Running query in 'duck'"
      ]
     },
     "metadata": {},
     "output_type": "display_data"
    },
    {
     "data": {
      "text/html": [
       "<table>\n",
       "    <thead>\n",
       "        <tr>\n",
       "            <th>total_duplicadas</th>\n",
       "        </tr>\n",
       "    </thead>\n",
       "    <tbody>\n",
       "        <tr>\n",
       "            <td>27</td>\n",
       "        </tr>\n",
       "    </tbody>\n",
       "</table>"
      ],
      "text/plain": [
       "+------------------+\n",
       "| total_duplicadas |\n",
       "+------------------+\n",
       "|        27        |\n",
       "+------------------+"
      ]
     },
     "execution_count": 44,
     "metadata": {},
     "output_type": "execute_result"
    }
   ],
   "source": [
    "%%sql\n",
    "SELECT SUM(c) AS total_duplicadas\n",
    "FROM (\n",
    "    SELECT COUNT(*) - 1 AS c\n",
    "    FROM orientacoes_camara\n",
    "    GROUP BY id_votacao, sigla_partido_bloco\n",
    "    HAVING COUNT(*) > 1\n",
    ") t;"
   ]
  },
  {
   "cell_type": "code",
   "execution_count": 45,
   "id": "cd5bce6b",
   "metadata": {
    "vscode": {
     "languageId": "sql"
    }
   },
   "outputs": [
    {
     "data": {
      "text/html": [
       "<span style=\"None\">Running query in &#x27;duck&#x27;</span>"
      ],
      "text/plain": [
       "Running query in 'duck'"
      ]
     },
     "metadata": {},
     "output_type": "display_data"
    },
    {
     "data": {
      "text/html": [
       "<table>\n",
       "    <thead>\n",
       "        <tr>\n",
       "            <th>count_star()</th>\n",
       "        </tr>\n",
       "    </thead>\n",
       "    <tbody>\n",
       "        <tr>\n",
       "            <td>59769</td>\n",
       "        </tr>\n",
       "    </tbody>\n",
       "</table>"
      ],
      "text/plain": [
       "+--------------+\n",
       "| count_star() |\n",
       "+--------------+\n",
       "|    59769     |\n",
       "+--------------+"
      ]
     },
     "execution_count": 45,
     "metadata": {},
     "output_type": "execute_result"
    }
   ],
   "source": [
    "%%sql\n",
    "SELECT COUNT(*) FROM orientacoes_camara;"
   ]
  },
  {
   "cell_type": "code",
   "execution_count": 46,
   "id": "c8f89818",
   "metadata": {
    "vscode": {
     "languageId": "sql"
    }
   },
   "outputs": [
    {
     "data": {
      "text/html": [
       "<span style=\"None\">Running query in &#x27;duck&#x27;</span>"
      ],
      "text/plain": [
       "Running query in 'duck'"
      ]
     },
     "metadata": {},
     "output_type": "display_data"
    },
    {
     "data": {
      "text/html": [
       "<table>\n",
       "    <thead>\n",
       "        <tr>\n",
       "            <th>Count</th>\n",
       "        </tr>\n",
       "    </thead>\n",
       "    <tbody>\n",
       "        <tr>\n",
       "            <td>27</td>\n",
       "        </tr>\n",
       "    </tbody>\n",
       "</table>"
      ],
      "text/plain": [
       "+-------+\n",
       "| Count |\n",
       "+-------+\n",
       "|   27  |\n",
       "+-------+"
      ]
     },
     "execution_count": 46,
     "metadata": {},
     "output_type": "execute_result"
    }
   ],
   "source": [
    "%%sql\n",
    "DELETE FROM orientacoes_camara\n",
    "WHERE rowid IN (\n",
    "    SELECT rowid\n",
    "    FROM (\n",
    "        SELECT \n",
    "            rowid,\n",
    "            ROW_NUMBER() OVER (\n",
    "                PARTITION BY id_votacao, sigla_partido_bloco \n",
    "                ORDER BY rowid\n",
    "            ) AS rn\n",
    "        FROM orientacoes_camara\n",
    "    ) t\n",
    "    WHERE rn > 1\n",
    ");\n"
   ]
  },
  {
   "cell_type": "code",
   "execution_count": 47,
   "id": "b114c92c",
   "metadata": {
    "vscode": {
     "languageId": "sql"
    }
   },
   "outputs": [
    {
     "data": {
      "text/html": [
       "<span style=\"None\">Running query in &#x27;duck&#x27;</span>"
      ],
      "text/plain": [
       "Running query in 'duck'"
      ]
     },
     "metadata": {},
     "output_type": "display_data"
    },
    {
     "data": {
      "text/html": [
       "<table>\n",
       "    <thead>\n",
       "        <tr>\n",
       "            <th>count_star()</th>\n",
       "        </tr>\n",
       "    </thead>\n",
       "    <tbody>\n",
       "        <tr>\n",
       "            <td>59742</td>\n",
       "        </tr>\n",
       "    </tbody>\n",
       "</table>"
      ],
      "text/plain": [
       "+--------------+\n",
       "| count_star() |\n",
       "+--------------+\n",
       "|    59742     |\n",
       "+--------------+"
      ]
     },
     "execution_count": 47,
     "metadata": {},
     "output_type": "execute_result"
    }
   ],
   "source": [
    "%%sql\n",
    "SELECT COUNT(*) FROM orientacoes_camara;"
   ]
  },
  {
   "cell_type": "code",
   "execution_count": 48,
   "id": "c79c0d20",
   "metadata": {
    "vscode": {
     "languageId": "sql"
    }
   },
   "outputs": [
    {
     "data": {
      "text/html": [
       "<span style=\"None\">Running query in &#x27;duck&#x27;</span>"
      ],
      "text/plain": [
       "Running query in 'duck'"
      ]
     },
     "metadata": {},
     "output_type": "display_data"
    },
    {
     "data": {
      "text/html": [
       "<table>\n",
       "    <thead>\n",
       "        <tr>\n",
       "            <th>id_tramitacao</th>\n",
       "            <th>id_proposicao</th>\n",
       "            <th>ambito</th>\n",
       "            <th>apreciacao</th>\n",
       "            <th>cod_situacao</th>\n",
       "            <th>cod_tipo_tramitacao</th>\n",
       "            <th>data_hora</th>\n",
       "            <th>descricao_situacao</th>\n",
       "            <th>descricao_tramitacao</th>\n",
       "            <th>despacho</th>\n",
       "            <th>regime</th>\n",
       "            <th>sequencia</th>\n",
       "            <th>sigla_orgao</th>\n",
       "            <th>uri_orgao</th>\n",
       "            <th>uri_ultimo_relator</th>\n",
       "            <th>year_snapshot</th>\n",
       "        </tr>\n",
       "    </thead>\n",
       "    <tbody>\n",
       "        <tr>\n",
       "            <td>769040</td>\n",
       "            <td>15508</td>\n",
       "            <td>Regimental</td>\n",
       "            <td>Proposição Sujeita à Apreciação Conclusiva pelas Comissões - Art. 24 II</td>\n",
       "            <td>923</td>\n",
       "            <td>504</td>\n",
       "            <td>2012-04-02 11:11:00</td>\n",
       "            <td>Arquivada</td>\n",
       "            <td>Notificação de Apensação</td>\n",
       "            <td>Apense-se a este(a) o(a) PL-3440/2012.</td>\n",
       "            <td>Ordinário (Art. 151, III, RICD)</td>\n",
       "            <td>112</td>\n",
       "            <td>MESA</td>\n",
       "            <td><a href=https://dadosabertos.camara.leg.br/api/v2/orgaos/4>https://dadosabertos.camara.leg.br/api/v2/orgaos/4</a></td>\n",
       "            <td><a href=https://dadosabertos.camara.leg.br/api/v2/deputados/74039>https://dadosabertos.camara.leg.br/api/v2/deputados/74039</a></td>\n",
       "            <td>2024</td>\n",
       "        </tr>\n",
       "        <tr>\n",
       "            <td>769097</td>\n",
       "            <td>15508</td>\n",
       "            <td>Regimental</td>\n",
       "            <td>Proposição Sujeita à Apreciação Conclusiva pelas Comissões - Art. 24 II</td>\n",
       "            <td>923</td>\n",
       "            <td>504</td>\n",
       "            <td>2012-04-02 11:08:00</td>\n",
       "            <td>Arquivada</td>\n",
       "            <td>Notificação de Apensação</td>\n",
       "            <td>Apense-se a este(a) o(a) PL-3440/2012.</td>\n",
       "            <td>Ordinário (Art. 151, III, RICD)</td>\n",
       "            <td>112</td>\n",
       "            <td>MESA</td>\n",
       "            <td><a href=https://dadosabertos.camara.leg.br/api/v2/orgaos/4>https://dadosabertos.camara.leg.br/api/v2/orgaos/4</a></td>\n",
       "            <td><a href=https://dadosabertos.camara.leg.br/api/v2/deputados/74039>https://dadosabertos.camara.leg.br/api/v2/deputados/74039</a></td>\n",
       "            <td>2024</td>\n",
       "        </tr>\n",
       "        <tr>\n",
       "            <td>584271</td>\n",
       "            <td>47622</td>\n",
       "            <td>Regimental</td>\n",
       "            <td>Proposição Sujeita à Apreciação do Plenário</td>\n",
       "            <td>None</td>\n",
       "            <td>5</td>\n",
       "            <td>2015-03-30 18:46:00</td>\n",
       "            <td>None</td>\n",
       "            <td>Não Informado</td>\n",
       "            <td>Matéria não apreciada em face do encerramento da Sessão.</td>\n",
       "            <td>Urgência (Art. 155, RICD)</td>\n",
       "            <td>16</td>\n",
       "            <td>PLEN</td>\n",
       "            <td><a href=https://dadosabertos.camara.leg.br/api/v2/orgaos/180>https://dadosabertos.camara.leg.br/api/v2/orgaos/180</a></td>\n",
       "            <td>None</td>\n",
       "            <td>2023</td>\n",
       "        </tr>\n",
       "        <tr>\n",
       "            <td>586099</td>\n",
       "            <td>47622</td>\n",
       "            <td>Regimental</td>\n",
       "            <td>Proposição Sujeita à Apreciação do Plenário</td>\n",
       "            <td>None</td>\n",
       "            <td>5</td>\n",
       "            <td>2015-03-26 09:00:00</td>\n",
       "            <td>None</td>\n",
       "            <td>Não Informado</td>\n",
       "            <td>Matéria não apreciada em face do encerramento da Sessão.</td>\n",
       "            <td>Urgência (Art. 155, RICD)</td>\n",
       "            <td>16</td>\n",
       "            <td>PLEN</td>\n",
       "            <td><a href=https://dadosabertos.camara.leg.br/api/v2/orgaos/180>https://dadosabertos.camara.leg.br/api/v2/orgaos/180</a></td>\n",
       "            <td>None</td>\n",
       "            <td>2023</td>\n",
       "        </tr>\n",
       "        <tr>\n",
       "            <td>67160</td>\n",
       "            <td>332450</td>\n",
       "            <td>Regimental</td>\n",
       "            <td>Proposição Sujeita à Apreciação do Plenário</td>\n",
       "            <td>902</td>\n",
       "            <td>100</td>\n",
       "            <td>2006-08-09 17:25:00</td>\n",
       "            <td>Aguardando Criação de Comissão Temporária</td>\n",
       "            <td>Apresentação de Proposição</td>\n",
       "            <td>Apresentação do PL 7419/2006, do Senado Federal - Luiz Pontes, que \"altera a Lei nº 9.656, de 3 de junho de 1998, que dispõe sobre os planos e seguros privados de assistência à saúde.\"</td>\n",
       "            <td>Urgência (Art. 155, RICD)</td>\n",
       "            <td>1</td>\n",
       "            <td>PLEN</td>\n",
       "            <td><a href=https://dadosabertos.camara.leg.br/api/v2/orgaos/180>https://dadosabertos.camara.leg.br/api/v2/orgaos/180</a></td>\n",
       "            <td>None</td>\n",
       "            <td>2020</td>\n",
       "        </tr>\n",
       "        <tr>\n",
       "            <td>67157</td>\n",
       "            <td>332450</td>\n",
       "            <td>Regimental</td>\n",
       "            <td>Proposição Sujeita à Apreciação do Plenário</td>\n",
       "            <td>924</td>\n",
       "            <td>100</td>\n",
       "            <td>2006-08-09 17:25:00</td>\n",
       "            <td>Pronta para Pauta</td>\n",
       "            <td>Apresentação de Proposição</td>\n",
       "            <td>Apresentação do PL 7419/2006, do Senado Federal - Luiz Pontes, que \"altera a Lei nº 9.656, de 3 de junho de 1998, que dispõe sobre os planos e seguros privados de assistência à saúde.\"</td>\n",
       "            <td>Urgência (Art. 155, RICD)</td>\n",
       "            <td>1</td>\n",
       "            <td>PLEN</td>\n",
       "            <td><a href=https://dadosabertos.camara.leg.br/api/v2/orgaos/180>https://dadosabertos.camara.leg.br/api/v2/orgaos/180</a></td>\n",
       "            <td>None</td>\n",
       "            <td>2020</td>\n",
       "        </tr>\n",
       "        <tr>\n",
       "            <td>67067</td>\n",
       "            <td>332450</td>\n",
       "            <td>Regimental</td>\n",
       "            <td>Proposição Sujeita à Apreciação do Plenário</td>\n",
       "            <td>902</td>\n",
       "            <td>194</td>\n",
       "            <td>2011-10-04 00:00:00</td>\n",
       "            <td>Aguardando Criação de Comissão Temporária</td>\n",
       "            <td>Apresentação de Requerimento</td>\n",
       "            <td>Apresentação do Requerimento de Apensação n. 3395/2011, pelo Deputado Bruno Araújo (PSDB-PE), que: \"Requer a apensação do Projeto de Lei 7419, de 2006, ao Projeto de Lei 4076, de 2001\".</td>\n",
       "            <td>Urgência (Art. 155, RICD)</td>\n",
       "            <td>40</td>\n",
       "            <td>PLEN</td>\n",
       "            <td><a href=https://dadosabertos.camara.leg.br/api/v2/orgaos/180>https://dadosabertos.camara.leg.br/api/v2/orgaos/180</a></td>\n",
       "            <td><a href=https://dadosabertos.camara.leg.br/api/v2/deputados/74173>https://dadosabertos.camara.leg.br/api/v2/deputados/74173</a></td>\n",
       "            <td>2020</td>\n",
       "        </tr>\n",
       "        <tr>\n",
       "            <td>67062</td>\n",
       "            <td>332450</td>\n",
       "            <td>Regimental</td>\n",
       "            <td>Proposição Sujeita à Apreciação do Plenário</td>\n",
       "            <td>924</td>\n",
       "            <td>194</td>\n",
       "            <td>2011-10-04 00:00:00</td>\n",
       "            <td>Pronta para Pauta</td>\n",
       "            <td>Apresentação de Requerimento</td>\n",
       "            <td>Apresentação do Requerimento de Apensação n. 3395/2011, pelo Deputado Bruno Araújo (PSDB-PE), que: \"Requer a apensação do Projeto de Lei 7419, de 2006, ao Projeto de Lei 4076, de 2001\".</td>\n",
       "            <td>Urgência (Art. 155, RICD)</td>\n",
       "            <td>40</td>\n",
       "            <td>PLEN</td>\n",
       "            <td><a href=https://dadosabertos.camara.leg.br/api/v2/orgaos/180>https://dadosabertos.camara.leg.br/api/v2/orgaos/180</a></td>\n",
       "            <td><a href=https://dadosabertos.camara.leg.br/api/v2/deputados/74173>https://dadosabertos.camara.leg.br/api/v2/deputados/74173</a></td>\n",
       "            <td>2020</td>\n",
       "        </tr>\n",
       "        <tr>\n",
       "            <td>67057</td>\n",
       "            <td>332450</td>\n",
       "            <td>Regimental</td>\n",
       "            <td>Proposição Sujeita à Apreciação do Plenário</td>\n",
       "            <td>902</td>\n",
       "            <td>194</td>\n",
       "            <td>2011-10-04 00:00:00</td>\n",
       "            <td>Aguardando Criação de Comissão Temporária</td>\n",
       "            <td>Apresentação de Requerimento</td>\n",
       "            <td>Apresentação do Requerimento de Apensação n. 3397/2011, pelo Deputado Bruno Araújo (PSDB-PE), que: \"Requer a apensação do Projeto de Lei 7419, de 2006, ao Projeto de Lei 4076, de 2001.\".</td>\n",
       "            <td>Urgência (Art. 155, RICD)</td>\n",
       "            <td>41</td>\n",
       "            <td>PLEN</td>\n",
       "            <td><a href=https://dadosabertos.camara.leg.br/api/v2/orgaos/180>https://dadosabertos.camara.leg.br/api/v2/orgaos/180</a></td>\n",
       "            <td><a href=https://dadosabertos.camara.leg.br/api/v2/deputados/74173>https://dadosabertos.camara.leg.br/api/v2/deputados/74173</a></td>\n",
       "            <td>2020</td>\n",
       "        </tr>\n",
       "        <tr>\n",
       "            <td>67052</td>\n",
       "            <td>332450</td>\n",
       "            <td>Regimental</td>\n",
       "            <td>Proposição Sujeita à Apreciação do Plenário</td>\n",
       "            <td>924</td>\n",
       "            <td>194</td>\n",
       "            <td>2011-10-04 00:00:00</td>\n",
       "            <td>Pronta para Pauta</td>\n",
       "            <td>Apresentação de Requerimento</td>\n",
       "            <td>Apresentação do Requerimento de Apensação n. 3397/2011, pelo Deputado Bruno Araújo (PSDB-PE), que: \"Requer a apensação do Projeto de Lei 7419, de 2006, ao Projeto de Lei 4076, de 2001.\".</td>\n",
       "            <td>Urgência (Art. 155, RICD)</td>\n",
       "            <td>41</td>\n",
       "            <td>PLEN</td>\n",
       "            <td><a href=https://dadosabertos.camara.leg.br/api/v2/orgaos/180>https://dadosabertos.camara.leg.br/api/v2/orgaos/180</a></td>\n",
       "            <td><a href=https://dadosabertos.camara.leg.br/api/v2/deputados/74173>https://dadosabertos.camara.leg.br/api/v2/deputados/74173</a></td>\n",
       "            <td>2020</td>\n",
       "        </tr>\n",
       "    </tbody>\n",
       "</table>\n",
       "<span style=\"font-style:italic;text-align:center;\">Truncated to <a href=\"https://jupysql.ploomber.io/en/latest/api/configuration.html#displaylimit\">displaylimit</a> of 10.</span>"
      ],
      "text/plain": [
       "+---------------+---------------+------------+-------------------------------------------------------------------------+--------------+---------------------+---------------------+-------------------------------------------+------------------------------+--------------------------------------------------------------------------------------------------------------------------------------------------------------------------------------------+---------------------------------+-----------+-------------+-----------------------------------------------------------------------------------------------------------------------+---------------------------------------------------------------------------------------------------------------------------------+---------------+\n",
       "| id_tramitacao | id_proposicao |   ambito   |                                apreciacao                               | cod_situacao | cod_tipo_tramitacao |      data_hora      |             descricao_situacao            |     descricao_tramitacao     |                                                                                          despacho                                                                                          |              regime             | sequencia | sigla_orgao |                                                       uri_orgao                                                       |                                                        uri_ultimo_relator                                                       | year_snapshot |\n",
       "+---------------+---------------+------------+-------------------------------------------------------------------------+--------------+---------------------+---------------------+-------------------------------------------+------------------------------+--------------------------------------------------------------------------------------------------------------------------------------------------------------------------------------------+---------------------------------+-----------+-------------+-----------------------------------------------------------------------------------------------------------------------+---------------------------------------------------------------------------------------------------------------------------------+---------------+\n",
       "|     769040    |     15508     | Regimental | Proposição Sujeita à Apreciação Conclusiva pelas Comissões - Art. 24 II |     923      |         504         | 2012-04-02 11:11:00 |                 Arquivada                 |   Notificação de Apensação   |                                                                           Apense-se a este(a) o(a) PL-3440/2012.                                                                           | Ordinário (Art. 151, III, RICD) |    112    |     MESA    |   <a href=https://dadosabertos.camara.leg.br/api/v2/orgaos/4>https://dadosabertos.camara.leg.br/api/v2/orgaos/4</a>   | <a href=https://dadosabertos.camara.leg.br/api/v2/deputados/74039>https://dadosabertos.camara.leg.br/api/v2/deputados/74039</a> |      2024     |\n",
       "|     769097    |     15508     | Regimental | Proposição Sujeita à Apreciação Conclusiva pelas Comissões - Art. 24 II |     923      |         504         | 2012-04-02 11:08:00 |                 Arquivada                 |   Notificação de Apensação   |                                                                           Apense-se a este(a) o(a) PL-3440/2012.                                                                           | Ordinário (Art. 151, III, RICD) |    112    |     MESA    |   <a href=https://dadosabertos.camara.leg.br/api/v2/orgaos/4>https://dadosabertos.camara.leg.br/api/v2/orgaos/4</a>   | <a href=https://dadosabertos.camara.leg.br/api/v2/deputados/74039>https://dadosabertos.camara.leg.br/api/v2/deputados/74039</a> |      2024     |\n",
       "|     584271    |     47622     | Regimental |               Proposição Sujeita à Apreciação do Plenário               |     None     |          5          | 2015-03-30 18:46:00 |                    None                   |        Não Informado         |                                                                  Matéria não apreciada em face do encerramento da Sessão.                                                                  |    Urgência (Art. 155, RICD)    |     16    |     PLEN    | <a href=https://dadosabertos.camara.leg.br/api/v2/orgaos/180>https://dadosabertos.camara.leg.br/api/v2/orgaos/180</a> |                                                               None                                                              |      2023     |\n",
       "|     586099    |     47622     | Regimental |               Proposição Sujeita à Apreciação do Plenário               |     None     |          5          | 2015-03-26 09:00:00 |                    None                   |        Não Informado         |                                                                  Matéria não apreciada em face do encerramento da Sessão.                                                                  |    Urgência (Art. 155, RICD)    |     16    |     PLEN    | <a href=https://dadosabertos.camara.leg.br/api/v2/orgaos/180>https://dadosabertos.camara.leg.br/api/v2/orgaos/180</a> |                                                               None                                                              |      2023     |\n",
       "|     67160     |     332450    | Regimental |               Proposição Sujeita à Apreciação do Plenário               |     902      |         100         | 2006-08-09 17:25:00 | Aguardando Criação de Comissão Temporária |  Apresentação de Proposição  |  Apresentação do PL 7419/2006, do Senado Federal - Luiz Pontes, que \"altera a Lei nº 9.656, de 3 de junho de 1998, que dispõe sobre os planos e seguros privados de assistência à saúde.\"  |    Urgência (Art. 155, RICD)    |     1     |     PLEN    | <a href=https://dadosabertos.camara.leg.br/api/v2/orgaos/180>https://dadosabertos.camara.leg.br/api/v2/orgaos/180</a> |                                                               None                                                              |      2020     |\n",
       "|     67157     |     332450    | Regimental |               Proposição Sujeita à Apreciação do Plenário               |     924      |         100         | 2006-08-09 17:25:00 |             Pronta para Pauta             |  Apresentação de Proposição  |  Apresentação do PL 7419/2006, do Senado Federal - Luiz Pontes, que \"altera a Lei nº 9.656, de 3 de junho de 1998, que dispõe sobre os planos e seguros privados de assistência à saúde.\"  |    Urgência (Art. 155, RICD)    |     1     |     PLEN    | <a href=https://dadosabertos.camara.leg.br/api/v2/orgaos/180>https://dadosabertos.camara.leg.br/api/v2/orgaos/180</a> |                                                               None                                                              |      2020     |\n",
       "|     67067     |     332450    | Regimental |               Proposição Sujeita à Apreciação do Plenário               |     902      |         194         | 2011-10-04 00:00:00 | Aguardando Criação de Comissão Temporária | Apresentação de Requerimento | Apresentação do Requerimento de Apensação n. 3395/2011, pelo Deputado Bruno Araújo (PSDB-PE), que: \"Requer a apensação do Projeto de Lei 7419, de 2006, ao Projeto de Lei 4076, de 2001\".  |    Urgência (Art. 155, RICD)    |     40    |     PLEN    | <a href=https://dadosabertos.camara.leg.br/api/v2/orgaos/180>https://dadosabertos.camara.leg.br/api/v2/orgaos/180</a> | <a href=https://dadosabertos.camara.leg.br/api/v2/deputados/74173>https://dadosabertos.camara.leg.br/api/v2/deputados/74173</a> |      2020     |\n",
       "|     67062     |     332450    | Regimental |               Proposição Sujeita à Apreciação do Plenário               |     924      |         194         | 2011-10-04 00:00:00 |             Pronta para Pauta             | Apresentação de Requerimento | Apresentação do Requerimento de Apensação n. 3395/2011, pelo Deputado Bruno Araújo (PSDB-PE), que: \"Requer a apensação do Projeto de Lei 7419, de 2006, ao Projeto de Lei 4076, de 2001\".  |    Urgência (Art. 155, RICD)    |     40    |     PLEN    | <a href=https://dadosabertos.camara.leg.br/api/v2/orgaos/180>https://dadosabertos.camara.leg.br/api/v2/orgaos/180</a> | <a href=https://dadosabertos.camara.leg.br/api/v2/deputados/74173>https://dadosabertos.camara.leg.br/api/v2/deputados/74173</a> |      2020     |\n",
       "|     67057     |     332450    | Regimental |               Proposição Sujeita à Apreciação do Plenário               |     902      |         194         | 2011-10-04 00:00:00 | Aguardando Criação de Comissão Temporária | Apresentação de Requerimento | Apresentação do Requerimento de Apensação n. 3397/2011, pelo Deputado Bruno Araújo (PSDB-PE), que: \"Requer a apensação do Projeto de Lei 7419, de 2006, ao Projeto de Lei 4076, de 2001.\". |    Urgência (Art. 155, RICD)    |     41    |     PLEN    | <a href=https://dadosabertos.camara.leg.br/api/v2/orgaos/180>https://dadosabertos.camara.leg.br/api/v2/orgaos/180</a> | <a href=https://dadosabertos.camara.leg.br/api/v2/deputados/74173>https://dadosabertos.camara.leg.br/api/v2/deputados/74173</a> |      2020     |\n",
       "|     67052     |     332450    | Regimental |               Proposição Sujeita à Apreciação do Plenário               |     924      |         194         | 2011-10-04 00:00:00 |             Pronta para Pauta             | Apresentação de Requerimento | Apresentação do Requerimento de Apensação n. 3397/2011, pelo Deputado Bruno Araújo (PSDB-PE), que: \"Requer a apensação do Projeto de Lei 7419, de 2006, ao Projeto de Lei 4076, de 2001.\". |    Urgência (Art. 155, RICD)    |     41    |     PLEN    | <a href=https://dadosabertos.camara.leg.br/api/v2/orgaos/180>https://dadosabertos.camara.leg.br/api/v2/orgaos/180</a> | <a href=https://dadosabertos.camara.leg.br/api/v2/deputados/74173>https://dadosabertos.camara.leg.br/api/v2/deputados/74173</a> |      2020     |\n",
       "+---------------+---------------+------------+-------------------------------------------------------------------------+--------------+---------------------+---------------------+-------------------------------------------+------------------------------+--------------------------------------------------------------------------------------------------------------------------------------------------------------------------------------------+---------------------------------+-----------+-------------+-----------------------------------------------------------------------------------------------------------------------+---------------------------------------------------------------------------------------------------------------------------------+---------------+\n",
       "Truncated to displaylimit of 10."
      ]
     },
     "execution_count": 48,
     "metadata": {},
     "output_type": "execute_result"
    }
   ],
   "source": [
    "%%sql\n",
    "SELECT a.*\n",
    "FROM tramitacoes_camara a\n",
    "JOIN (\n",
    "    SELECT id_proposicao, despacho, sequencia\n",
    "    FROM tramitacoes_camara\n",
    "    GROUP BY id_proposicao, despacho, sequencia\n",
    "    HAVING COUNT(*) > 1\n",
    ") dups\n",
    "ON  a.id_proposicao = dups.id_proposicao\n",
    "AND a.sequencia = dups.sequencia\n",
    "AND a.despacho = dups.despacho\n",
    "ORDER BY a.id_proposicao, a.sequencia, a.despacho;\n"
   ]
  },
  {
   "cell_type": "code",
   "execution_count": 49,
   "id": "c4a7f04e",
   "metadata": {
    "vscode": {
     "languageId": "sql"
    }
   },
   "outputs": [
    {
     "data": {
      "text/html": [
       "<span style=\"None\">Running query in &#x27;duck&#x27;</span>"
      ],
      "text/plain": [
       "Running query in 'duck'"
      ]
     },
     "metadata": {},
     "output_type": "display_data"
    },
    {
     "data": {
      "text/html": [
       "<table>\n",
       "    <thead>\n",
       "        <tr>\n",
       "            <th>total_duplicadas</th>\n",
       "        </tr>\n",
       "    </thead>\n",
       "    <tbody>\n",
       "        <tr>\n",
       "            <td>762</td>\n",
       "        </tr>\n",
       "    </tbody>\n",
       "</table>"
      ],
      "text/plain": [
       "+------------------+\n",
       "| total_duplicadas |\n",
       "+------------------+\n",
       "|       762        |\n",
       "+------------------+"
      ]
     },
     "execution_count": 49,
     "metadata": {},
     "output_type": "execute_result"
    }
   ],
   "source": [
    "%%sql\n",
    "SELECT SUM(c) AS total_duplicadas\n",
    "FROM (\n",
    "    SELECT COUNT(*) - 1 AS c\n",
    "    FROM tramitacoes_camara\n",
    "    GROUP BY id_proposicao, despacho, sequencia\n",
    "    HAVING COUNT(*) > 1\n",
    ") t;"
   ]
  },
  {
   "cell_type": "code",
   "execution_count": 50,
   "id": "2848aa53",
   "metadata": {
    "vscode": {
     "languageId": "sql"
    }
   },
   "outputs": [
    {
     "data": {
      "text/html": [
       "<span style=\"None\">Running query in &#x27;duck&#x27;</span>"
      ],
      "text/plain": [
       "Running query in 'duck'"
      ]
     },
     "metadata": {},
     "output_type": "display_data"
    },
    {
     "data": {
      "text/html": [
       "<table>\n",
       "    <thead>\n",
       "        <tr>\n",
       "            <th>Count</th>\n",
       "        </tr>\n",
       "    </thead>\n",
       "    <tbody>\n",
       "        <tr>\n",
       "            <td>762</td>\n",
       "        </tr>\n",
       "    </tbody>\n",
       "</table>"
      ],
      "text/plain": [
       "+-------+\n",
       "| Count |\n",
       "+-------+\n",
       "|  762  |\n",
       "+-------+"
      ]
     },
     "execution_count": 50,
     "metadata": {},
     "output_type": "execute_result"
    }
   ],
   "source": [
    "%%sql\n",
    "DELETE FROM tramitacoes_camara\n",
    "WHERE rowid IN (\n",
    "    SELECT rowid\n",
    "    FROM (\n",
    "        SELECT \n",
    "            rowid,\n",
    "            ROW_NUMBER() OVER (\n",
    "                PARTITION BY id_proposicao, despacho, sequencia \n",
    "                ORDER BY rowid\n",
    "            ) AS rn\n",
    "        FROM tramitacoes_camara\n",
    "    ) t\n",
    "    WHERE rn > 1\n",
    ");\n"
   ]
  },
  {
   "cell_type": "code",
   "execution_count": 51,
   "id": "e62b52dd",
   "metadata": {
    "vscode": {
     "languageId": "sql"
    }
   },
   "outputs": [
    {
     "data": {
      "text/html": [
       "<span style=\"None\">Running query in &#x27;duck&#x27;</span>"
      ],
      "text/plain": [
       "Running query in 'duck'"
      ]
     },
     "metadata": {},
     "output_type": "display_data"
    },
    {
     "data": {
      "text/html": [
       "<table>\n",
       "    <thead>\n",
       "        <tr>\n",
       "            <th>id_voto</th>\n",
       "            <th>id_votacao</th>\n",
       "            <th>id_deputado</th>\n",
       "            <th>tipo_voto</th>\n",
       "            <th>data_hora</th>\n",
       "            <th>year_snapshot</th>\n",
       "        </tr>\n",
       "    </thead>\n",
       "    <tbody>\n",
       "        <tr>\n",
       "            <td>719568</td>\n",
       "            <td>2322436-12</td>\n",
       "            <td>68720</td>\n",
       "            <td>Sim</td>\n",
       "            <td>2022-05-24 20:46:51</td>\n",
       "            <td>2021</td>\n",
       "        </tr>\n",
       "        <tr>\n",
       "            <td>719569</td>\n",
       "            <td>2322436-12</td>\n",
       "            <td>68720</td>\n",
       "            <td>Sim</td>\n",
       "            <td>2022-05-24 20:46:51</td>\n",
       "            <td>2022</td>\n",
       "        </tr>\n",
       "        <tr>\n",
       "            <td>719570</td>\n",
       "            <td>2322436-12</td>\n",
       "            <td>69871</td>\n",
       "            <td>Sim</td>\n",
       "            <td>2022-05-24 20:45:44</td>\n",
       "            <td>2021</td>\n",
       "        </tr>\n",
       "        <tr>\n",
       "            <td>719571</td>\n",
       "            <td>2322436-12</td>\n",
       "            <td>69871</td>\n",
       "            <td>Sim</td>\n",
       "            <td>2022-05-24 20:45:44</td>\n",
       "            <td>2022</td>\n",
       "        </tr>\n",
       "        <tr>\n",
       "            <td>719572</td>\n",
       "            <td>2322436-12</td>\n",
       "            <td>72442</td>\n",
       "            <td>Sim</td>\n",
       "            <td>2022-05-24 20:46:25</td>\n",
       "            <td>2021</td>\n",
       "        </tr>\n",
       "        <tr>\n",
       "            <td>719573</td>\n",
       "            <td>2322436-12</td>\n",
       "            <td>72442</td>\n",
       "            <td>Sim</td>\n",
       "            <td>2022-05-24 20:46:25</td>\n",
       "            <td>2022</td>\n",
       "        </tr>\n",
       "        <tr>\n",
       "            <td>719574</td>\n",
       "            <td>2322436-12</td>\n",
       "            <td>73433</td>\n",
       "            <td>Sim</td>\n",
       "            <td>2022-05-24 20:46:34</td>\n",
       "            <td>2021</td>\n",
       "        </tr>\n",
       "        <tr>\n",
       "            <td>719575</td>\n",
       "            <td>2322436-12</td>\n",
       "            <td>73433</td>\n",
       "            <td>Sim</td>\n",
       "            <td>2022-05-24 20:46:34</td>\n",
       "            <td>2022</td>\n",
       "        </tr>\n",
       "        <tr>\n",
       "            <td>719576</td>\n",
       "            <td>2322436-12</td>\n",
       "            <td>73441</td>\n",
       "            <td>Sim</td>\n",
       "            <td>2022-05-24 20:46:57</td>\n",
       "            <td>2021</td>\n",
       "        </tr>\n",
       "        <tr>\n",
       "            <td>719577</td>\n",
       "            <td>2322436-12</td>\n",
       "            <td>73441</td>\n",
       "            <td>Sim</td>\n",
       "            <td>2022-05-24 20:46:57</td>\n",
       "            <td>2022</td>\n",
       "        </tr>\n",
       "    </tbody>\n",
       "</table>\n",
       "<span style=\"font-style:italic;text-align:center;\">Truncated to <a href=\"https://jupysql.ploomber.io/en/latest/api/configuration.html#displaylimit\">displaylimit</a> of 10.</span>"
      ],
      "text/plain": [
       "+---------+------------+-------------+-----------+---------------------+---------------+\n",
       "| id_voto | id_votacao | id_deputado | tipo_voto |      data_hora      | year_snapshot |\n",
       "+---------+------------+-------------+-----------+---------------------+---------------+\n",
       "|  719568 | 2322436-12 |    68720    |    Sim    | 2022-05-24 20:46:51 |      2021     |\n",
       "|  719569 | 2322436-12 |    68720    |    Sim    | 2022-05-24 20:46:51 |      2022     |\n",
       "|  719570 | 2322436-12 |    69871    |    Sim    | 2022-05-24 20:45:44 |      2021     |\n",
       "|  719571 | 2322436-12 |    69871    |    Sim    | 2022-05-24 20:45:44 |      2022     |\n",
       "|  719572 | 2322436-12 |    72442    |    Sim    | 2022-05-24 20:46:25 |      2021     |\n",
       "|  719573 | 2322436-12 |    72442    |    Sim    | 2022-05-24 20:46:25 |      2022     |\n",
       "|  719574 | 2322436-12 |    73433    |    Sim    | 2022-05-24 20:46:34 |      2021     |\n",
       "|  719575 | 2322436-12 |    73433    |    Sim    | 2022-05-24 20:46:34 |      2022     |\n",
       "|  719576 | 2322436-12 |    73441    |    Sim    | 2022-05-24 20:46:57 |      2021     |\n",
       "|  719577 | 2322436-12 |    73441    |    Sim    | 2022-05-24 20:46:57 |      2022     |\n",
       "+---------+------------+-------------+-----------+---------------------+---------------+\n",
       "Truncated to displaylimit of 10."
      ]
     },
     "execution_count": 51,
     "metadata": {},
     "output_type": "execute_result"
    }
   ],
   "source": [
    "%%sql\n",
    "SELECT a.*\n",
    "FROM votos_camara a\n",
    "JOIN (\n",
    "    SELECT id_votacao, id_deputado, data_hora\n",
    "    FROM votos_camara\n",
    "    GROUP BY id_votacao, id_deputado, data_hora\n",
    "    HAVING COUNT(*) > 1\n",
    ") dups\n",
    "ON  a.id_deputado = dups.id_deputado\n",
    "AND a.id_votacao = dups.id_votacao\n",
    "AND a.data_hora = dups.data_hora\n",
    "ORDER BY a.id_deputado, a.id_votacao;"
   ]
  },
  {
   "cell_type": "code",
   "execution_count": 52,
   "id": "21d2ac57",
   "metadata": {
    "vscode": {
     "languageId": "sql"
    }
   },
   "outputs": [
    {
     "data": {
      "text/html": [
       "<span style=\"None\">Running query in &#x27;duck&#x27;</span>"
      ],
      "text/plain": [
       "Running query in 'duck'"
      ]
     },
     "metadata": {},
     "output_type": "display_data"
    },
    {
     "data": {
      "text/html": [
       "<table>\n",
       "    <thead>\n",
       "        <tr>\n",
       "            <th>total_duplicadas</th>\n",
       "        </tr>\n",
       "    </thead>\n",
       "    <tbody>\n",
       "        <tr>\n",
       "            <td>380</td>\n",
       "        </tr>\n",
       "    </tbody>\n",
       "</table>"
      ],
      "text/plain": [
       "+------------------+\n",
       "| total_duplicadas |\n",
       "+------------------+\n",
       "|       380        |\n",
       "+------------------+"
      ]
     },
     "execution_count": 52,
     "metadata": {},
     "output_type": "execute_result"
    }
   ],
   "source": [
    "%%sql\n",
    "SELECT SUM(c) AS total_duplicadas\n",
    "FROM (\n",
    "    SELECT COUNT(*) - 1 AS c\n",
    "    FROM votos_camara\n",
    "    GROUP BY id_votacao, id_deputado, data_hora\n",
    "    HAVING COUNT(*) > 1\n",
    ") t;"
   ]
  },
  {
   "cell_type": "code",
   "execution_count": 53,
   "id": "2237f666",
   "metadata": {
    "vscode": {
     "languageId": "sql"
    }
   },
   "outputs": [
    {
     "data": {
      "text/html": [
       "<span style=\"None\">Running query in &#x27;duck&#x27;</span>"
      ],
      "text/plain": [
       "Running query in 'duck'"
      ]
     },
     "metadata": {},
     "output_type": "display_data"
    },
    {
     "data": {
      "text/html": [
       "<table>\n",
       "    <thead>\n",
       "        <tr>\n",
       "            <th>Count</th>\n",
       "        </tr>\n",
       "    </thead>\n",
       "    <tbody>\n",
       "        <tr>\n",
       "            <td>380</td>\n",
       "        </tr>\n",
       "    </tbody>\n",
       "</table>"
      ],
      "text/plain": [
       "+-------+\n",
       "| Count |\n",
       "+-------+\n",
       "|  380  |\n",
       "+-------+"
      ]
     },
     "execution_count": 53,
     "metadata": {},
     "output_type": "execute_result"
    }
   ],
   "source": [
    "%%sql\n",
    "DELETE FROM votos_camara\n",
    "WHERE rowid IN (\n",
    "    SELECT rowid\n",
    "    FROM (\n",
    "        SELECT \n",
    "            rowid,\n",
    "            ROW_NUMBER() OVER (\n",
    "                PARTITION BY id_votacao, id_deputado, data_hora\n",
    "                ORDER BY rowid\n",
    "            ) AS rn\n",
    "        FROM votos_camara\n",
    "    ) t\n",
    "    WHERE rn > 1\n",
    ");"
   ]
  },
  {
   "cell_type": "code",
   "execution_count": 54,
   "id": "3d720726",
   "metadata": {
    "vscode": {
     "languageId": "sql"
    }
   },
   "outputs": [
    {
     "data": {
      "text/html": [
       "<span style=\"None\">Running query in &#x27;duck&#x27;</span>"
      ],
      "text/plain": [
       "Running query in 'duck'"
      ]
     },
     "metadata": {},
     "output_type": "display_data"
    },
    {
     "data": {
      "text/html": [
       "<table>\n",
       "    <thead>\n",
       "        <tr>\n",
       "            <th>id_deputado_frente</th>\n",
       "            <th>id_deputado</th>\n",
       "            <th>id_frente</th>\n",
       "            <th>year_snapshot</th>\n",
       "        </tr>\n",
       "    </thead>\n",
       "    <tbody>\n",
       "        <tr>\n",
       "            <td>1449</td>\n",
       "            <td>74141</td>\n",
       "            <td>350</td>\n",
       "            <td>2020</td>\n",
       "        </tr>\n",
       "        <tr>\n",
       "            <td>1939</td>\n",
       "            <td>74141</td>\n",
       "            <td>350</td>\n",
       "            <td>2021</td>\n",
       "        </tr>\n",
       "        <tr>\n",
       "            <td>522</td>\n",
       "            <td>74141</td>\n",
       "            <td>351</td>\n",
       "            <td>2021</td>\n",
       "        </tr>\n",
       "        <tr>\n",
       "            <td>28</td>\n",
       "            <td>74141</td>\n",
       "            <td>351</td>\n",
       "            <td>2020</td>\n",
       "        </tr>\n",
       "        <tr>\n",
       "            <td>747</td>\n",
       "            <td>74141</td>\n",
       "            <td>353</td>\n",
       "            <td>2020</td>\n",
       "        </tr>\n",
       "        <tr>\n",
       "            <td>1238</td>\n",
       "            <td>74141</td>\n",
       "            <td>353</td>\n",
       "            <td>2021</td>\n",
       "        </tr>\n",
       "        <tr>\n",
       "            <td>3524</td>\n",
       "            <td>74141</td>\n",
       "            <td>354</td>\n",
       "            <td>2020</td>\n",
       "        </tr>\n",
       "        <tr>\n",
       "            <td>4009</td>\n",
       "            <td>74141</td>\n",
       "            <td>354</td>\n",
       "            <td>2021</td>\n",
       "        </tr>\n",
       "        <tr>\n",
       "            <td>2837</td>\n",
       "            <td>74141</td>\n",
       "            <td>355</td>\n",
       "            <td>2020</td>\n",
       "        </tr>\n",
       "        <tr>\n",
       "            <td>3324</td>\n",
       "            <td>74141</td>\n",
       "            <td>355</td>\n",
       "            <td>2021</td>\n",
       "        </tr>\n",
       "    </tbody>\n",
       "</table>\n",
       "<span style=\"font-style:italic;text-align:center;\">Truncated to <a href=\"https://jupysql.ploomber.io/en/latest/api/configuration.html#displaylimit\">displaylimit</a> of 10.</span>"
      ],
      "text/plain": [
       "+--------------------+-------------+-----------+---------------+\n",
       "| id_deputado_frente | id_deputado | id_frente | year_snapshot |\n",
       "+--------------------+-------------+-----------+---------------+\n",
       "|        1449        |    74141    |    350    |      2020     |\n",
       "|        1939        |    74141    |    350    |      2021     |\n",
       "|        522         |    74141    |    351    |      2021     |\n",
       "|         28         |    74141    |    351    |      2020     |\n",
       "|        747         |    74141    |    353    |      2020     |\n",
       "|        1238        |    74141    |    353    |      2021     |\n",
       "|        3524        |    74141    |    354    |      2020     |\n",
       "|        4009        |    74141    |    354    |      2021     |\n",
       "|        2837        |    74141    |    355    |      2020     |\n",
       "|        3324        |    74141    |    355    |      2021     |\n",
       "+--------------------+-------------+-----------+---------------+\n",
       "Truncated to displaylimit of 10."
      ]
     },
     "execution_count": 54,
     "metadata": {},
     "output_type": "execute_result"
    }
   ],
   "source": [
    "%%sql\n",
    "SELECT a.*\n",
    "FROM deputados_frentes_camara a\n",
    "JOIN (\n",
    "    SELECT id_deputado, id_frente\n",
    "    FROM deputados_frentes_camara\n",
    "    GROUP BY id_deputado, id_frente\n",
    "    HAVING COUNT(*) > 1\n",
    ") dups\n",
    "ON  a.id_deputado = dups.id_deputado\n",
    "AND a.id_frente = dups.id_frente\n",
    "ORDER BY a.id_deputado, a.id_frente;"
   ]
  },
  {
   "cell_type": "code",
   "execution_count": 55,
   "id": "3288f429",
   "metadata": {
    "vscode": {
     "languageId": "sql"
    }
   },
   "outputs": [
    {
     "data": {
      "text/html": [
       "<span style=\"None\">Running query in &#x27;duck&#x27;</span>"
      ],
      "text/plain": [
       "Running query in 'duck'"
      ]
     },
     "metadata": {},
     "output_type": "display_data"
    },
    {
     "data": {
      "text/html": [
       "<table>\n",
       "    <thead>\n",
       "        <tr>\n",
       "            <th>total_duplicadas</th>\n",
       "        </tr>\n",
       "    </thead>\n",
       "    <tbody>\n",
       "        <tr>\n",
       "            <td>3299</td>\n",
       "        </tr>\n",
       "    </tbody>\n",
       "</table>"
      ],
      "text/plain": [
       "+------------------+\n",
       "| total_duplicadas |\n",
       "+------------------+\n",
       "|       3299       |\n",
       "+------------------+"
      ]
     },
     "execution_count": 55,
     "metadata": {},
     "output_type": "execute_result"
    }
   ],
   "source": [
    "%%sql\n",
    "SELECT SUM(c) AS total_duplicadas\n",
    "FROM (\n",
    "    SELECT COUNT(*) - 1 AS c\n",
    "    FROM deputados_frentes_camara\n",
    "    GROUP BY id_deputado, id_frente\n",
    "    HAVING COUNT(*) > 1\n",
    ") t;"
   ]
  },
  {
   "cell_type": "code",
   "execution_count": 56,
   "id": "2f5dc81b",
   "metadata": {
    "vscode": {
     "languageId": "sql"
    }
   },
   "outputs": [
    {
     "data": {
      "text/html": [
       "<span style=\"None\">Running query in &#x27;duck&#x27;</span>"
      ],
      "text/plain": [
       "Running query in 'duck'"
      ]
     },
     "metadata": {},
     "output_type": "display_data"
    },
    {
     "data": {
      "text/html": [
       "<table>\n",
       "    <thead>\n",
       "        <tr>\n",
       "            <th>Count</th>\n",
       "        </tr>\n",
       "    </thead>\n",
       "    <tbody>\n",
       "        <tr>\n",
       "            <td>3299</td>\n",
       "        </tr>\n",
       "    </tbody>\n",
       "</table>"
      ],
      "text/plain": [
       "+-------+\n",
       "| Count |\n",
       "+-------+\n",
       "|  3299 |\n",
       "+-------+"
      ]
     },
     "execution_count": 56,
     "metadata": {},
     "output_type": "execute_result"
    }
   ],
   "source": [
    "%%sql\n",
    "DELETE FROM deputados_frentes_camara\n",
    "WHERE rowid IN (\n",
    "    SELECT rowid\n",
    "    FROM (\n",
    "        SELECT \n",
    "            rowid,\n",
    "            ROW_NUMBER() OVER (\n",
    "                PARTITION BY id_deputado, id_frente\n",
    "                ORDER BY rowid\n",
    "            ) AS rn\n",
    "        FROM deputados_frentes_camara\n",
    "    ) t\n",
    "    WHERE rn > 1\n",
    ");"
   ]
  },
  {
   "cell_type": "code",
   "execution_count": 57,
   "id": "53ea6ea1",
   "metadata": {
    "vscode": {
     "languageId": "sql"
    }
   },
   "outputs": [
    {
     "data": {
      "text/html": [
       "<span style=\"None\">Running query in &#x27;duck&#x27;</span>"
      ],
      "text/plain": [
       "Running query in 'duck'"
      ]
     },
     "metadata": {},
     "output_type": "display_data"
    },
    {
     "data": {
      "text/html": [
       "<table>\n",
       "    <thead>\n",
       "        <tr>\n",
       "            <th>id_pauta</th>\n",
       "            <th>id_evento</th>\n",
       "            <th>cod_regime</th>\n",
       "            <th>ordem</th>\n",
       "            <th>id_proposicao</th>\n",
       "            <th>id_relator</th>\n",
       "            <th>year_snapshot</th>\n",
       "        </tr>\n",
       "    </thead>\n",
       "    <tbody>\n",
       "        <tr>\n",
       "            <td>80</td>\n",
       "            <td>59265</td>\n",
       "            <td>21.0</td>\n",
       "            <td>14</td>\n",
       "            <td>2236343</td>\n",
       "            <td>164360</td>\n",
       "            <td>2020</td>\n",
       "        </tr>\n",
       "        <tr>\n",
       "            <td>81</td>\n",
       "            <td>59265</td>\n",
       "            <td>21.0</td>\n",
       "            <td>14</td>\n",
       "            <td>2236343</td>\n",
       "            <td>164360</td>\n",
       "            <td>2020</td>\n",
       "        </tr>\n",
       "        <tr>\n",
       "            <td>82</td>\n",
       "            <td>59265</td>\n",
       "            <td>21.0</td>\n",
       "            <td>14</td>\n",
       "            <td>2236343</td>\n",
       "            <td>164360</td>\n",
       "            <td>2020</td>\n",
       "        </tr>\n",
       "        <tr>\n",
       "            <td>90</td>\n",
       "            <td>59275</td>\n",
       "            <td>15.0</td>\n",
       "            <td>1</td>\n",
       "            <td>2236326</td>\n",
       "            <td>204556</td>\n",
       "            <td>2020</td>\n",
       "        </tr>\n",
       "        <tr>\n",
       "            <td>91</td>\n",
       "            <td>59275</td>\n",
       "            <td>15.0</td>\n",
       "            <td>1</td>\n",
       "            <td>2236326</td>\n",
       "            <td>204556</td>\n",
       "            <td>2020</td>\n",
       "        </tr>\n",
       "        <tr>\n",
       "            <td>115</td>\n",
       "            <td>59290</td>\n",
       "            <td>100.0</td>\n",
       "            <td>12</td>\n",
       "            <td>2222884</td>\n",
       "            <td>None</td>\n",
       "            <td>2020</td>\n",
       "        </tr>\n",
       "        <tr>\n",
       "            <td>116</td>\n",
       "            <td>59290</td>\n",
       "            <td>100.0</td>\n",
       "            <td>12</td>\n",
       "            <td>2222884</td>\n",
       "            <td>None</td>\n",
       "            <td>2020</td>\n",
       "        </tr>\n",
       "        <tr>\n",
       "            <td>117</td>\n",
       "            <td>59290</td>\n",
       "            <td>100.0</td>\n",
       "            <td>12</td>\n",
       "            <td>2222884</td>\n",
       "            <td>None</td>\n",
       "            <td>2020</td>\n",
       "        </tr>\n",
       "        <tr>\n",
       "            <td>118</td>\n",
       "            <td>59290</td>\n",
       "            <td>100.0</td>\n",
       "            <td>12</td>\n",
       "            <td>2222884</td>\n",
       "            <td>None</td>\n",
       "            <td>2020</td>\n",
       "        </tr>\n",
       "        <tr>\n",
       "            <td>121</td>\n",
       "            <td>59298</td>\n",
       "            <td>100.0</td>\n",
       "            <td>1</td>\n",
       "            <td>2222884</td>\n",
       "            <td>None</td>\n",
       "            <td>2020</td>\n",
       "        </tr>\n",
       "    </tbody>\n",
       "</table>\n",
       "<span style=\"font-style:italic;text-align:center;\">Truncated to <a href=\"https://jupysql.ploomber.io/en/latest/api/configuration.html#displaylimit\">displaylimit</a> of 10.</span>"
      ],
      "text/plain": [
       "+----------+-----------+------------+-------+---------------+------------+---------------+\n",
       "| id_pauta | id_evento | cod_regime | ordem | id_proposicao | id_relator | year_snapshot |\n",
       "+----------+-----------+------------+-------+---------------+------------+---------------+\n",
       "|    80    |   59265   |    21.0    |   14  |    2236343    |   164360   |      2020     |\n",
       "|    81    |   59265   |    21.0    |   14  |    2236343    |   164360   |      2020     |\n",
       "|    82    |   59265   |    21.0    |   14  |    2236343    |   164360   |      2020     |\n",
       "|    90    |   59275   |    15.0    |   1   |    2236326    |   204556   |      2020     |\n",
       "|    91    |   59275   |    15.0    |   1   |    2236326    |   204556   |      2020     |\n",
       "|   115    |   59290   |   100.0    |   12  |    2222884    |    None    |      2020     |\n",
       "|   116    |   59290   |   100.0    |   12  |    2222884    |    None    |      2020     |\n",
       "|   117    |   59290   |   100.0    |   12  |    2222884    |    None    |      2020     |\n",
       "|   118    |   59290   |   100.0    |   12  |    2222884    |    None    |      2020     |\n",
       "|   121    |   59298   |   100.0    |   1   |    2222884    |    None    |      2020     |\n",
       "+----------+-----------+------------+-------+---------------+------------+---------------+\n",
       "Truncated to displaylimit of 10."
      ]
     },
     "execution_count": 57,
     "metadata": {},
     "output_type": "execute_result"
    }
   ],
   "source": [
    "%%sql\n",
    "SELECT a.*\n",
    "FROM eventos_pauta_camara a\n",
    "JOIN (\n",
    "    SELECT id_evento, ordem\n",
    "    FROM eventos_pauta_camara\n",
    "    GROUP BY id_evento, ordem\n",
    "    HAVING COUNT(*) > 1\n",
    ") dups\n",
    "ON  a.id_evento = dups.id_evento\n",
    "AND a.ordem = dups.ordem\n",
    "ORDER BY a.id_evento, a.ordem;"
   ]
  },
  {
   "cell_type": "code",
   "execution_count": 58,
   "id": "dfea3f2e",
   "metadata": {
    "vscode": {
     "languageId": "sql"
    }
   },
   "outputs": [
    {
     "data": {
      "text/html": [
       "<span style=\"None\">Running query in &#x27;duck&#x27;</span>"
      ],
      "text/plain": [
       "Running query in 'duck'"
      ]
     },
     "metadata": {},
     "output_type": "display_data"
    },
    {
     "data": {
      "text/html": [
       "<table>\n",
       "    <thead>\n",
       "        <tr>\n",
       "            <th>total_duplicadas</th>\n",
       "        </tr>\n",
       "    </thead>\n",
       "    <tbody>\n",
       "        <tr>\n",
       "            <td>4060</td>\n",
       "        </tr>\n",
       "    </tbody>\n",
       "</table>"
      ],
      "text/plain": [
       "+------------------+\n",
       "| total_duplicadas |\n",
       "+------------------+\n",
       "|       4060       |\n",
       "+------------------+"
      ]
     },
     "execution_count": 58,
     "metadata": {},
     "output_type": "execute_result"
    }
   ],
   "source": [
    "%%sql\n",
    "SELECT SUM(c) AS total_duplicadas\n",
    "FROM (\n",
    "    SELECT COUNT(*) - 1 AS c\n",
    "    FROM eventos_pauta_camara\n",
    "    GROUP BY id_evento, ordem, id_proposicao\n",
    "    HAVING COUNT(*) > 1\n",
    ") t;"
   ]
  },
  {
   "cell_type": "code",
   "execution_count": 59,
   "id": "9ce9b4c5",
   "metadata": {
    "vscode": {
     "languageId": "sql"
    }
   },
   "outputs": [
    {
     "data": {
      "text/html": [
       "<span style=\"None\">Running query in &#x27;duck&#x27;</span>"
      ],
      "text/plain": [
       "Running query in 'duck'"
      ]
     },
     "metadata": {},
     "output_type": "display_data"
    },
    {
     "data": {
      "text/html": [
       "<table>\n",
       "    <thead>\n",
       "        <tr>\n",
       "            <th>Count</th>\n",
       "        </tr>\n",
       "    </thead>\n",
       "    <tbody>\n",
       "        <tr>\n",
       "            <td>4060</td>\n",
       "        </tr>\n",
       "    </tbody>\n",
       "</table>"
      ],
      "text/plain": [
       "+-------+\n",
       "| Count |\n",
       "+-------+\n",
       "|  4060 |\n",
       "+-------+"
      ]
     },
     "execution_count": 59,
     "metadata": {},
     "output_type": "execute_result"
    }
   ],
   "source": [
    "%%sql\n",
    "DELETE FROM eventos_pauta_camara\n",
    "WHERE rowid IN (\n",
    "    SELECT rowid\n",
    "    FROM (\n",
    "        SELECT \n",
    "            rowid,\n",
    "            ROW_NUMBER() OVER (\n",
    "                PARTITION BY id_evento, ordem, id_proposicao\n",
    "                ORDER BY rowid\n",
    "            ) AS rn\n",
    "        FROM eventos_pauta_camara\n",
    "    ) t\n",
    "    WHERE rn > 1\n",
    ");"
   ]
  },
  {
   "cell_type": "code",
   "execution_count": null,
   "id": "dcbabb87",
   "metadata": {},
   "outputs": [],
   "source": []
  },
  {
   "cell_type": "code",
   "execution_count": null,
   "id": "cba3969a",
   "metadata": {},
   "outputs": [],
   "source": []
  }
 ],
 "metadata": {
  "kernelspec": {
   "display_name": "venv",
   "language": "python",
   "name": "python3"
  },
  "language_info": {
   "codemirror_mode": {
    "name": "ipython",
    "version": 3
   },
   "file_extension": ".py",
   "mimetype": "text/x-python",
   "name": "python",
   "nbconvert_exporter": "python",
   "pygments_lexer": "ipython3",
   "version": "3.13.7"
  }
 },
 "nbformat": 4,
 "nbformat_minor": 5
}
