{
 "cells": [
  {
   "cell_type": "markdown",
   "id": "c16aca1b",
   "metadata": {},
   "source": [
    "# Pipeline prata: Câmara dos Deputados\n",
    "\n",
    "Este notebook extrai os dados da fase bronze e popula uma base de dados DuckDB com estes normalizados e deduplicados (ainda sem regularização de chaves estrangeiras)"
   ]
  },
  {
   "cell_type": "markdown",
   "id": "501c8124",
   "metadata": {},
   "source": [
    "# 1. Preparação"
   ]
  },
  {
   "cell_type": "markdown",
   "id": "c6e093d4",
   "metadata": {},
   "source": [
    "## 1.1. Imports"
   ]
  },
  {
   "cell_type": "code",
   "execution_count": 206,
   "id": "46d826b0",
   "metadata": {},
   "outputs": [
    {
     "name": "stdout",
     "output_type": "stream",
     "text": [
      "The sql extension is already loaded. To reload it, use:\n",
      "  %reload_ext sql\n"
     ]
    }
   ],
   "source": [
    "import json\n",
    "import os\n",
    "import tempfile\n",
    "\n",
    "from glob import glob\n",
    "from pathlib import Path\n",
    "\n",
    "import duckdb\n",
    "import pandas as pd\n",
    "import pyarrow as pa\n",
    "import pyarrow.dataset as ds\n",
    "import pyarrow.parquet as pq\n",
    "\n",
    "from dotenv import load_dotenv\n",
    "\n",
    "%load_ext sql\n",
    "\n",
    "load_dotenv()\n",
    "\n",
    "DB_PATH = Path(os.getenv(\"SILVER_DUCKDB_PATH\", \"\"))\n",
    "DB_PATH.parent.mkdir(parents=True, exist_ok=True)\n",
    "\n",
    "TMP_DIR = \"/tmp/duckdb_tmp\"  # make sure it exists\n",
    "\n",
    "conn = duckdb.connect(DB_PATH)\n",
    "\n",
    "conn.execute(f\"SET temp_directory='{TMP_DIR}'\")\n",
    "conn.execute(\"SET memory_limit='50GB'\")\n",
    "conn.execute(\"SET threads=1\")\n",
    "conn.execute(\"SET preserve_insertion_order=false\")\n",
    "\n",
    "%sql conn --alias duck"
   ]
  },
  {
   "cell_type": "markdown",
   "id": "99b0881b",
   "metadata": {},
   "source": [
    "## 1.2 Macros SQL"
   ]
  },
  {
   "cell_type": "code",
   "execution_count": 207,
   "id": "c608c67e",
   "metadata": {
    "vscode": {
     "languageId": "sql"
    }
   },
   "outputs": [
    {
     "data": {
      "text/html": [
       "<span style=\"None\">Running query in &#x27;duck&#x27;</span>"
      ],
      "text/plain": [
       "Running query in 'duck'"
      ]
     },
     "metadata": {},
     "output_type": "display_data"
    },
    {
     "data": {
      "text/html": [
       "<table>\n",
       "    <thead>\n",
       "        <tr>\n",
       "            <th>Count</th>\n",
       "        </tr>\n",
       "    </thead>\n",
       "    <tbody>\n",
       "    </tbody>\n",
       "</table>"
      ],
      "text/plain": [
       "+-------+\n",
       "| Count |\n",
       "+-------+\n",
       "+-------+"
      ]
     },
     "execution_count": 207,
     "metadata": {},
     "output_type": "execute_result"
    }
   ],
   "source": [
    "%%sql\n",
    "\n",
    "CREATE OR REPLACE MACRO jget1(j, p) AS json_extract_string(j, p);"
   ]
  },
  {
   "cell_type": "markdown",
   "id": "b818c99a",
   "metadata": {
    "vscode": {
     "languageId": "sql"
    }
   },
   "source": [
    "# 2. Extração inicial\n",
    "\n",
    "## 2.1 Modelos dimensionais"
   ]
  },
  {
   "cell_type": "markdown",
   "id": "aaffada4",
   "metadata": {},
   "source": [
    "### 2.1.1 Blocos"
   ]
  },
  {
   "cell_type": "code",
   "execution_count": 208,
   "id": "99212e25",
   "metadata": {
    "vscode": {
     "languageId": "sql"
    }
   },
   "outputs": [
    {
     "data": {
      "text/html": [
       "<span style=\"None\">Running query in &#x27;duck&#x27;</span>"
      ],
      "text/plain": [
       "Running query in 'duck'"
      ]
     },
     "metadata": {},
     "output_type": "display_data"
    },
    {
     "data": {
      "text/html": [
       "<table>\n",
       "    <thead>\n",
       "        <tr>\n",
       "            <th>n</th>\n",
       "        </tr>\n",
       "    </thead>\n",
       "    <tbody>\n",
       "        <tr>\n",
       "            <td>10</td>\n",
       "        </tr>\n",
       "    </tbody>\n",
       "</table>"
      ],
      "text/plain": [
       "+----+\n",
       "| n  |\n",
       "+----+\n",
       "| 10 |\n",
       "+----+"
      ]
     },
     "execution_count": 208,
     "metadata": {},
     "output_type": "execute_result"
    }
   ],
   "source": [
    "%%sql\n",
    "CREATE OR REPLACE VIEW bronze_camara_blocos AS\n",
    "SELECT * FROM parquet_scan(\"data/bronze/snapshots/bronze-2020-2024-v2/camara/blocos/details/year=*/part-*.parquet\")\n",
    "WHERE source = 'camara' AND entity = 'blocos';\n",
    "\n",
    "SELECT COUNT(*) AS n FROM bronze_camara_blocos;\n"
   ]
  },
  {
   "cell_type": "code",
   "execution_count": 209,
   "id": "3075c538",
   "metadata": {
    "vscode": {
     "languageId": "sql"
    }
   },
   "outputs": [
    {
     "data": {
      "text/html": [
       "<span style=\"None\">Running query in &#x27;duck&#x27;</span>"
      ],
      "text/plain": [
       "Running query in 'duck'"
      ]
     },
     "metadata": {},
     "output_type": "display_data"
    },
    {
     "data": {
      "text/html": [
       "<table>\n",
       "    <thead>\n",
       "        <tr>\n",
       "            <th>Success</th>\n",
       "        </tr>\n",
       "    </thead>\n",
       "    <tbody>\n",
       "    </tbody>\n",
       "</table>"
      ],
      "text/plain": [
       "+---------+\n",
       "| Success |\n",
       "+---------+\n",
       "+---------+"
      ]
     },
     "execution_count": 209,
     "metadata": {},
     "output_type": "execute_result"
    }
   ],
   "source": [
    "%%sql\n",
    "DROP TABLE IF EXISTS blocos_camara;\n",
    "CREATE TABLE blocos_camara AS\n",
    "WITH base AS (\n",
    "    SELECT TRY_CAST(payload_json AS JSON) as j, year\n",
    "    FROM bronze_camara_blocos\n",
    ")\n",
    "SELECT\n",
    "    CAST(jget1(j, '$.dados.id') AS BIGINT) AS id_bloco,\n",
    "    jget1(j, '$.dados.nome') AS nome,\n",
    "    CAST(jget1(j, '$.dados.idLegislatura') AS BIGINT) AS id_legislatura,\n",
    "    jget1(j, '$.dados.uri') AS uri,\n",
    "    year AS year_snapshot\n",
    "FROM base\n",
    "WHERE jget1(j, '$.dados.id') IS NOT NULL;\n",
    "DROP VIEW IF EXISTS bronze_camara_blocos;"
   ]
  },
  {
   "cell_type": "markdown",
   "id": "39c1043f",
   "metadata": {},
   "source": [
    "### 2.1.2 Deputados"
   ]
  },
  {
   "cell_type": "code",
   "execution_count": 210,
   "id": "7e7514f4",
   "metadata": {
    "vscode": {
     "languageId": "sql"
    }
   },
   "outputs": [
    {
     "data": {
      "text/html": [
       "<span style=\"None\">Running query in &#x27;duck&#x27;</span>"
      ],
      "text/plain": [
       "Running query in 'duck'"
      ]
     },
     "metadata": {},
     "output_type": "display_data"
    },
    {
     "data": {
      "text/html": [
       "<table>\n",
       "    <thead>\n",
       "        <tr>\n",
       "            <th>n</th>\n",
       "        </tr>\n",
       "    </thead>\n",
       "    <tbody>\n",
       "        <tr>\n",
       "            <td>5970</td>\n",
       "        </tr>\n",
       "    </tbody>\n",
       "</table>"
      ],
      "text/plain": [
       "+------+\n",
       "|  n   |\n",
       "+------+\n",
       "| 5970 |\n",
       "+------+"
      ]
     },
     "execution_count": 210,
     "metadata": {},
     "output_type": "execute_result"
    }
   ],
   "source": [
    "%%sql\n",
    "CREATE OR REPLACE VIEW bronze_camara_deputados AS\n",
    "SELECT * FROM parquet_scan(\"data/bronze/snapshots/bronze-2020-2024-v2/camara/deputados/details/year=*/part-*.parquet\")\n",
    "WHERE source = 'camara' AND entity = 'deputados';\n",
    "\n",
    "SELECT COUNT(*) AS n FROM bronze_camara_deputados;"
   ]
  },
  {
   "cell_type": "code",
   "execution_count": 211,
   "id": "ad86ee43",
   "metadata": {
    "vscode": {
     "languageId": "sql"
    }
   },
   "outputs": [
    {
     "data": {
      "text/html": [
       "<span style=\"None\">Running query in &#x27;duck&#x27;</span>"
      ],
      "text/plain": [
       "Running query in 'duck'"
      ]
     },
     "metadata": {},
     "output_type": "display_data"
    },
    {
     "data": {
      "text/html": [
       "<table>\n",
       "    <thead>\n",
       "        <tr>\n",
       "            <th>Success</th>\n",
       "        </tr>\n",
       "    </thead>\n",
       "    <tbody>\n",
       "    </tbody>\n",
       "</table>"
      ],
      "text/plain": [
       "+---------+\n",
       "| Success |\n",
       "+---------+\n",
       "+---------+"
      ]
     },
     "execution_count": 211,
     "metadata": {},
     "output_type": "execute_result"
    }
   ],
   "source": [
    "%%sql\n",
    "DROP TABLE IF EXISTS deputados_camara;\n",
    "CREATE TABLE deputados_camara AS\n",
    "WITH base AS (\n",
    "    SELECT TRY_CAST(payload_json AS JSON) as j, year\n",
    "    FROM bronze_camara_deputados\n",
    ")\n",
    "SELECT\n",
    "    CAST(jget1(j, '$.dados.id') AS BIGINT) AS id_deputado,\n",
    "    jget1(j, '$.dados.nomeCivil') AS nome_civil,\n",
    "    jget1(j, '$.dados.uri') AS uri,\n",
    "    year AS year_snapshot\n",
    "FROM base\n",
    "WHERE jget1(j, '$.dados.id') IS NOT NULL;\n",
    "DROP VIEW IF EXISTS bronze_camara_deputados;"
   ]
  },
  {
   "cell_type": "markdown",
   "id": "44ced7ec",
   "metadata": {
    "vscode": {
     "languageId": "sql"
    }
   },
   "source": [
    "### 2.1.3 Eventos"
   ]
  },
  {
   "cell_type": "code",
   "execution_count": 212,
   "id": "8c916ab0",
   "metadata": {
    "vscode": {
     "languageId": "sql"
    }
   },
   "outputs": [
    {
     "data": {
      "text/html": [
       "<span style=\"None\">Running query in &#x27;duck&#x27;</span>"
      ],
      "text/plain": [
       "Running query in 'duck'"
      ]
     },
     "metadata": {},
     "output_type": "display_data"
    },
    {
     "data": {
      "text/html": [
       "<table>\n",
       "    <thead>\n",
       "        <tr>\n",
       "            <th>n</th>\n",
       "        </tr>\n",
       "    </thead>\n",
       "    <tbody>\n",
       "        <tr>\n",
       "            <td>23518</td>\n",
       "        </tr>\n",
       "    </tbody>\n",
       "</table>"
      ],
      "text/plain": [
       "+-------+\n",
       "|   n   |\n",
       "+-------+\n",
       "| 23518 |\n",
       "+-------+"
      ]
     },
     "execution_count": 212,
     "metadata": {},
     "output_type": "execute_result"
    }
   ],
   "source": [
    "%%sql\n",
    "CREATE OR REPLACE VIEW bronze_camara_eventos AS\n",
    "SELECT * FROM parquet_scan(\"data/bronze/snapshots/bronze-2020-2024-v2/camara/eventos/details/year=*/part-*.parquet\")\n",
    "WHERE source = 'camara' AND entity = 'eventos';\n",
    "\n",
    "SELECT COUNT(*) AS n FROM bronze_camara_eventos;"
   ]
  },
  {
   "cell_type": "code",
   "execution_count": 213,
   "id": "0e765b73",
   "metadata": {
    "vscode": {
     "languageId": "sql"
    }
   },
   "outputs": [
    {
     "data": {
      "text/html": [
       "<span style=\"None\">Running query in &#x27;duck&#x27;</span>"
      ],
      "text/plain": [
       "Running query in 'duck'"
      ]
     },
     "metadata": {},
     "output_type": "display_data"
    },
    {
     "data": {
      "text/html": [
       "<table>\n",
       "    <thead>\n",
       "        <tr>\n",
       "            <th>Success</th>\n",
       "        </tr>\n",
       "    </thead>\n",
       "    <tbody>\n",
       "    </tbody>\n",
       "</table>"
      ],
      "text/plain": [
       "+---------+\n",
       "| Success |\n",
       "+---------+\n",
       "+---------+"
      ]
     },
     "execution_count": 213,
     "metadata": {},
     "output_type": "execute_result"
    }
   ],
   "source": [
    "\n",
    "%%sql\n",
    "DROP TABLE IF EXISTS eventos_camara;\n",
    "CREATE TABLE eventos_camara AS\n",
    "WITH base AS (\n",
    "    SELECT TRY_CAST(payload_json AS JSON) as j, year\n",
    "    FROM bronze_camara_eventos\n",
    ")\n",
    "SELECT\n",
    "    CAST(jget1(j, '$.dados.id') AS BIGINT) AS id_evento,\n",
    "    CAST(jget1(j, '$.dados.dataHoraInicio') AS DATETIME) AS data_hora_inicio,\n",
    "    CAST(jget1(j, '$.dados.dataHoraFim') AS DATETIME) AS data_hora_fim,\n",
    "    jget1(j, '$.dados.descricao') AS descricao,\n",
    "    jget1(j, '$.dados.descricaoTipo') AS descricao_tipo,\n",
    "    jget1(j, '$.dados.fases') AS fases,  -- é sempre null mas deixei por precaução\n",
    "    jget1(j, '$.dados.uri') AS uri,\n",
    "    year AS year_snapshot\n",
    "FROM base\n",
    "WHERE jget1(j, '$.dados.id') IS NOT NULL;\n",
    "DROP VIEW IF EXISTS bronze_camara_eventos;"
   ]
  },
  {
   "cell_type": "markdown",
   "id": "4b8ff15c",
   "metadata": {
    "vscode": {
     "languageId": "sql"
    }
   },
   "source": [
    "### 2.1.4 Frentes"
   ]
  },
  {
   "cell_type": "code",
   "execution_count": 214,
   "id": "9f42c185",
   "metadata": {
    "vscode": {
     "languageId": "sql"
    }
   },
   "outputs": [
    {
     "data": {
      "text/html": [
       "<span style=\"None\">Running query in &#x27;duck&#x27;</span>"
      ],
      "text/plain": [
       "Running query in 'duck'"
      ]
     },
     "metadata": {},
     "output_type": "display_data"
    },
    {
     "data": {
      "text/html": [
       "<table>\n",
       "    <thead>\n",
       "        <tr>\n",
       "            <th>n</th>\n",
       "        </tr>\n",
       "    </thead>\n",
       "    <tbody>\n",
       "        <tr>\n",
       "            <td>2518</td>\n",
       "        </tr>\n",
       "    </tbody>\n",
       "</table>"
      ],
      "text/plain": [
       "+------+\n",
       "|  n   |\n",
       "+------+\n",
       "| 2518 |\n",
       "+------+"
      ]
     },
     "execution_count": 214,
     "metadata": {},
     "output_type": "execute_result"
    }
   ],
   "source": [
    "%%sql\n",
    "CREATE OR REPLACE VIEW bronze_camara_frentes AS\n",
    "SELECT * FROM parquet_scan(\"data/bronze/snapshots/bronze-2020-2024-v2/camara/frentes/details/year=*/part-*.parquet\")\n",
    "WHERE source = 'camara' AND entity = 'frentes';\n",
    "\n",
    "SELECT COUNT(*) AS n FROM bronze_camara_frentes;"
   ]
  },
  {
   "cell_type": "code",
   "execution_count": 215,
   "id": "439f4d46",
   "metadata": {
    "vscode": {
     "languageId": "sql"
    }
   },
   "outputs": [
    {
     "data": {
      "text/html": [
       "<span style=\"None\">Running query in &#x27;duck&#x27;</span>"
      ],
      "text/plain": [
       "Running query in 'duck'"
      ]
     },
     "metadata": {},
     "output_type": "display_data"
    },
    {
     "data": {
      "text/html": [
       "<table>\n",
       "    <thead>\n",
       "        <tr>\n",
       "            <th>Success</th>\n",
       "        </tr>\n",
       "    </thead>\n",
       "    <tbody>\n",
       "    </tbody>\n",
       "</table>"
      ],
      "text/plain": [
       "+---------+\n",
       "| Success |\n",
       "+---------+\n",
       "+---------+"
      ]
     },
     "execution_count": 215,
     "metadata": {},
     "output_type": "execute_result"
    }
   ],
   "source": [
    "%%sql\n",
    "DROP TABLE IF EXISTS frentes_camara;\n",
    "CREATE TABLE frentes_camara AS\n",
    "WITH base AS (\n",
    "    SELECT TRY_CAST(payload_json AS JSON) as j, year\n",
    "    FROM bronze_camara_frentes\n",
    ")\n",
    "SELECT\n",
    "    CAST(jget1(j, '$.dados.id') AS BIGINT) AS id_frente,\n",
    "    CAST(jget1(j, '$.dados.coordenador.id') AS BIGINT) AS id_deputado_coordenador,\n",
    "    CAST(jget1(j, '$.dados.idLegislatura') AS BIGINT) AS id_legislatura,\n",
    "    jget1(j, '$.dados.titulo') AS titulo,\n",
    "    jget1(j, '$.dados.uri') AS uri,\n",
    "    year AS year_snapshot\n",
    "FROM base\n",
    "WHERE jget1(j, '$.dados.id') IS NOT NULL;\n",
    "DROP VIEW IF EXISTS bronze_camara_frentes;"
   ]
  },
  {
   "cell_type": "markdown",
   "id": "1d93a68c",
   "metadata": {},
   "source": [
    "### 2.1.5 Legislaturas"
   ]
  },
  {
   "cell_type": "code",
   "execution_count": 216,
   "id": "51a1c395",
   "metadata": {
    "vscode": {
     "languageId": "sql"
    }
   },
   "outputs": [
    {
     "data": {
      "text/html": [
       "<span style=\"None\">Running query in &#x27;duck&#x27;</span>"
      ],
      "text/plain": [
       "Running query in 'duck'"
      ]
     },
     "metadata": {},
     "output_type": "display_data"
    },
    {
     "data": {
      "text/html": [
       "<table>\n",
       "    <thead>\n",
       "        <tr>\n",
       "            <th>n</th>\n",
       "        </tr>\n",
       "    </thead>\n",
       "    <tbody>\n",
       "        <tr>\n",
       "            <td>114</td>\n",
       "        </tr>\n",
       "    </tbody>\n",
       "</table>"
      ],
      "text/plain": [
       "+-----+\n",
       "|  n  |\n",
       "+-----+\n",
       "| 114 |\n",
       "+-----+"
      ]
     },
     "execution_count": 216,
     "metadata": {},
     "output_type": "execute_result"
    }
   ],
   "source": [
    "%%sql\n",
    "CREATE OR REPLACE VIEW bronze_camara_legislaturas AS\n",
    "SELECT * FROM parquet_scan(\"data/bronze/snapshots/bronze-2020-2024-v2/camara/legislaturas/details/year=*/part-*.parquet\")\n",
    "WHERE source = 'camara' AND entity = 'legislaturas';\n",
    "\n",
    "SELECT COUNT(*) AS n FROM bronze_camara_legislaturas;"
   ]
  },
  {
   "cell_type": "code",
   "execution_count": 217,
   "id": "3fe36b09",
   "metadata": {
    "vscode": {
     "languageId": "sql"
    }
   },
   "outputs": [
    {
     "data": {
      "text/html": [
       "<span style=\"None\">Running query in &#x27;duck&#x27;</span>"
      ],
      "text/plain": [
       "Running query in 'duck'"
      ]
     },
     "metadata": {},
     "output_type": "display_data"
    },
    {
     "data": {
      "text/html": [
       "<table>\n",
       "    <thead>\n",
       "        <tr>\n",
       "            <th>Success</th>\n",
       "        </tr>\n",
       "    </thead>\n",
       "    <tbody>\n",
       "    </tbody>\n",
       "</table>"
      ],
      "text/plain": [
       "+---------+\n",
       "| Success |\n",
       "+---------+\n",
       "+---------+"
      ]
     },
     "execution_count": 217,
     "metadata": {},
     "output_type": "execute_result"
    }
   ],
   "source": [
    "\n",
    "%%sql\n",
    "DROP TABLE IF EXISTS legislaturas_camara;\n",
    "CREATE TABLE legislaturas_camara AS\n",
    "WITH base AS (\n",
    "    SELECT TRY_CAST(payload_json AS JSON) as j, year\n",
    "    FROM bronze_camara_legislaturas\n",
    ")\n",
    "SELECT\n",
    "    CAST(jget1(j, '$.dados.id') AS BIGINT) AS id_legislatura,\n",
    "    CAST(jget1(j, '$.dados.dataInicio') AS DATE) AS data_inicio,\n",
    "    CAST(jget1(j, '$.dados.dataFim') AS DATE) AS data_fim,\n",
    "    jget1(j, '$.dados.uri') AS uri,\n",
    "    year AS year_snapshot\n",
    "FROM base\n",
    "WHERE jget1(j, '$.dados.id') IS NOT NULL;\n",
    "DROP VIEW IF EXISTS bronze_camara_legislaturas;\n"
   ]
  },
  {
   "cell_type": "markdown",
   "id": "0888c924",
   "metadata": {
    "vscode": {
     "languageId": "sql"
    }
   },
   "source": [
    "### 2.1.6 Órgaos"
   ]
  },
  {
   "cell_type": "code",
   "execution_count": 218,
   "id": "8adb0ac6",
   "metadata": {
    "vscode": {
     "languageId": "sql"
    }
   },
   "outputs": [
    {
     "data": {
      "text/html": [
       "<span style=\"None\">Running query in &#x27;duck&#x27;</span>"
      ],
      "text/plain": [
       "Running query in 'duck'"
      ]
     },
     "metadata": {},
     "output_type": "display_data"
    },
    {
     "data": {
      "text/html": [
       "<table>\n",
       "    <thead>\n",
       "        <tr>\n",
       "            <th>n</th>\n",
       "        </tr>\n",
       "    </thead>\n",
       "    <tbody>\n",
       "        <tr>\n",
       "            <td>2087</td>\n",
       "        </tr>\n",
       "    </tbody>\n",
       "</table>"
      ],
      "text/plain": [
       "+------+\n",
       "|  n   |\n",
       "+------+\n",
       "| 2087 |\n",
       "+------+"
      ]
     },
     "execution_count": 218,
     "metadata": {},
     "output_type": "execute_result"
    }
   ],
   "source": [
    "%%sql\n",
    "CREATE OR REPLACE VIEW bronze_camara_orgaos AS\n",
    "SELECT * FROM parquet_scan(\"data/bronze/snapshots/bronze-2020-2024-v2/camara/orgaos/details/year=*/part-*.parquet\")\n",
    "WHERE source = 'camara' AND entity = 'orgaos';\n",
    "\n",
    "SELECT COUNT(*) AS n FROM bronze_camara_orgaos;\n"
   ]
  },
  {
   "cell_type": "code",
   "execution_count": 219,
   "id": "f731785e",
   "metadata": {
    "vscode": {
     "languageId": "sql"
    }
   },
   "outputs": [
    {
     "data": {
      "text/html": [
       "<span style=\"None\">Running query in &#x27;duck&#x27;</span>"
      ],
      "text/plain": [
       "Running query in 'duck'"
      ]
     },
     "metadata": {},
     "output_type": "display_data"
    },
    {
     "data": {
      "text/html": [
       "<table>\n",
       "    <thead>\n",
       "        <tr>\n",
       "            <th>Success</th>\n",
       "        </tr>\n",
       "    </thead>\n",
       "    <tbody>\n",
       "    </tbody>\n",
       "</table>"
      ],
      "text/plain": [
       "+---------+\n",
       "| Success |\n",
       "+---------+\n",
       "+---------+"
      ]
     },
     "execution_count": 219,
     "metadata": {},
     "output_type": "execute_result"
    }
   ],
   "source": [
    "%%sql\n",
    "DROP TABLE IF EXISTS orgaos_camara;\n",
    "CREATE TABLE orgaos_camara AS\n",
    "WITH base AS (\n",
    "    SELECT TRY_CAST(payload_json AS JSON) as j, year\n",
    "    FROM bronze_camara_orgaos\n",
    ")\n",
    "SELECT\n",
    "    CAST(jget1(j, '$.dados.id') AS BIGINT) AS id_orgao,\n",
    "    jget1(j, '$.dados.nome') AS nome,\n",
    "    CAST(jget1(j, '$.dados.codTipoOrgao') AS BIGINT) AS cod_tipo_orgao,\n",
    "    jget1(j, '$.dados.uri') AS uri,\n",
    "    year AS year_snapshot\n",
    "FROM base\n",
    "WHERE jget1(j, '$.dados.id') IS NOT NULL;\n",
    "DROP VIEW IF EXISTS bronze_camara_orgaos;\n"
   ]
  },
  {
   "cell_type": "markdown",
   "id": "8a0a3981",
   "metadata": {},
   "source": [
    "### 2.1.7 Partidos"
   ]
  },
  {
   "cell_type": "code",
   "execution_count": 220,
   "id": "01449b6c",
   "metadata": {
    "vscode": {
     "languageId": "sql"
    }
   },
   "outputs": [
    {
     "data": {
      "text/html": [
       "<span style=\"None\">Running query in &#x27;duck&#x27;</span>"
      ],
      "text/plain": [
       "Running query in 'duck'"
      ]
     },
     "metadata": {},
     "output_type": "display_data"
    },
    {
     "data": {
      "text/html": [
       "<table>\n",
       "    <thead>\n",
       "        <tr>\n",
       "            <th>n</th>\n",
       "        </tr>\n",
       "    </thead>\n",
       "    <tbody>\n",
       "        <tr>\n",
       "            <td>40</td>\n",
       "        </tr>\n",
       "    </tbody>\n",
       "</table>"
      ],
      "text/plain": [
       "+----+\n",
       "| n  |\n",
       "+----+\n",
       "| 40 |\n",
       "+----+"
      ]
     },
     "execution_count": 220,
     "metadata": {},
     "output_type": "execute_result"
    }
   ],
   "source": [
    "%%sql\n",
    "CREATE OR REPLACE VIEW bronze_camara_partidos AS\n",
    "SELECT * FROM parquet_scan(\"data/bronze/snapshots/bronze-2020-2024-v2/camara/partidos/details/year=*/part-*.parquet\")\n",
    "WHERE source = 'camara' AND entity = 'partidos';\n",
    "\n",
    "SELECT COUNT(*) AS n FROM bronze_camara_partidos;"
   ]
  },
  {
   "cell_type": "code",
   "execution_count": 221,
   "id": "4783cf5c",
   "metadata": {
    "vscode": {
     "languageId": "sql"
    }
   },
   "outputs": [
    {
     "data": {
      "text/html": [
       "<span style=\"None\">Running query in &#x27;duck&#x27;</span>"
      ],
      "text/plain": [
       "Running query in 'duck'"
      ]
     },
     "metadata": {},
     "output_type": "display_data"
    },
    {
     "data": {
      "text/html": [
       "<table>\n",
       "    <thead>\n",
       "        <tr>\n",
       "            <th>Success</th>\n",
       "        </tr>\n",
       "    </thead>\n",
       "    <tbody>\n",
       "    </tbody>\n",
       "</table>"
      ],
      "text/plain": [
       "+---------+\n",
       "| Success |\n",
       "+---------+\n",
       "+---------+"
      ]
     },
     "execution_count": 221,
     "metadata": {},
     "output_type": "execute_result"
    }
   ],
   "source": [
    "%%sql\n",
    "DROP TABLE IF EXISTS partidos_camara;\n",
    "CREATE TABLE partidos_camara AS\n",
    "WITH base AS (\n",
    "    SELECT TRY_CAST(payload_json AS JSON) as j, year\n",
    "    FROM bronze_camara_partidos\n",
    ")\n",
    "SELECT\n",
    "    CAST(jget1(j, '$.dados.id') AS BIGINT) AS id_partido,\n",
    "    jget1(j, '$.dados.nome') AS nome,\n",
    "    jget1(j, '$.dados.sigla') AS sigla,\n",
    "    jget1(j, '$.dados.uri') AS uri,\n",
    "    year AS year_snapshot\n",
    "FROM base\n",
    "WHERE jget1(j, '$.dados.id') IS NOT NULL;\n",
    "DROP VIEW IF EXISTS bronze_camara_partidos;\n"
   ]
  },
  {
   "cell_type": "markdown",
   "id": "48ca84b5",
   "metadata": {},
   "source": [
    "### 2.1.8 Proposições"
   ]
  },
  {
   "cell_type": "code",
   "execution_count": 222,
   "id": "9383f12a",
   "metadata": {
    "vscode": {
     "languageId": "sql"
    }
   },
   "outputs": [
    {
     "data": {
      "text/html": [
       "<span style=\"None\">Running query in &#x27;duck&#x27;</span>"
      ],
      "text/plain": [
       "Running query in 'duck'"
      ]
     },
     "metadata": {},
     "output_type": "display_data"
    },
    {
     "data": {
      "text/html": [
       "<table>\n",
       "    <thead>\n",
       "        <tr>\n",
       "            <th>n</th>\n",
       "        </tr>\n",
       "    </thead>\n",
       "    <tbody>\n",
       "        <tr>\n",
       "            <td>81140</td>\n",
       "        </tr>\n",
       "    </tbody>\n",
       "</table>"
      ],
      "text/plain": [
       "+-------+\n",
       "|   n   |\n",
       "+-------+\n",
       "| 81140 |\n",
       "+-------+"
      ]
     },
     "execution_count": 222,
     "metadata": {},
     "output_type": "execute_result"
    }
   ],
   "source": [
    "%%sql\n",
    "CREATE OR REPLACE VIEW bronze_camara_proposicoes AS\n",
    "SELECT * FROM parquet_scan(\"data/bronze/snapshots/bronze-2020-2024-v2/camara/proposicoes/details/year=*/part-*.parquet\")\n",
    "WHERE source = 'camara' AND entity = 'proposicoes';\n",
    "\n",
    "SELECT COUNT(*) AS n FROM bronze_camara_proposicoes;\n"
   ]
  },
  {
   "cell_type": "code",
   "execution_count": 223,
   "id": "43986065",
   "metadata": {
    "vscode": {
     "languageId": "sql"
    }
   },
   "outputs": [
    {
     "data": {
      "text/html": [
       "<span style=\"None\">Running query in &#x27;duck&#x27;</span>"
      ],
      "text/plain": [
       "Running query in 'duck'"
      ]
     },
     "metadata": {},
     "output_type": "display_data"
    },
    {
     "data": {
      "text/html": [
       "<table>\n",
       "    <thead>\n",
       "        <tr>\n",
       "            <th>Success</th>\n",
       "        </tr>\n",
       "    </thead>\n",
       "    <tbody>\n",
       "    </tbody>\n",
       "</table>"
      ],
      "text/plain": [
       "+---------+\n",
       "| Success |\n",
       "+---------+\n",
       "+---------+"
      ]
     },
     "execution_count": 223,
     "metadata": {},
     "output_type": "execute_result"
    }
   ],
   "source": [
    "%%sql\n",
    "DROP TABLE IF EXISTS proposicoes_camara;\n",
    "CREATE TABLE proposicoes_camara AS\n",
    "WITH base AS (\n",
    "    SELECT TRY_CAST(payload_json AS JSON) as j, year\n",
    "    FROM bronze_camara_proposicoes\n",
    ")\n",
    "SELECT\n",
    "    CAST(jget1(j, '$.dados.id') AS BIGINT) AS id_proposicao,\n",
    "    jget1(j, '$.dados.siglaTipo') as sigla_tipo,\n",
    "    CAST(jget1(j, '$.dados.numero') AS INTEGER) AS numero,\n",
    "    CAST(jget1(j, '$.dados.ano') AS INTEGER) AS ano,\n",
    "    jget1(j, '$.dados.ementa') AS ementa,\n",
    "    jget1(j, '$.dados.uri') AS uri,\n",
    "    year AS year_snapshot\n",
    "FROM base\n",
    "WHERE jget1(j, '$.dados.id') IS NOT NULL;\n",
    "DROP VIEW IF EXISTS bronze_camara_proposicoes;"
   ]
  },
  {
   "cell_type": "markdown",
   "id": "6484034d",
   "metadata": {},
   "source": [
    "### 2.1.9 Temas"
   ]
  },
  {
   "cell_type": "code",
   "execution_count": 224,
   "id": "fe3c450a",
   "metadata": {
    "vscode": {
     "languageId": "sql"
    }
   },
   "outputs": [
    {
     "data": {
      "text/html": [
       "<span style=\"None\">Running query in &#x27;duck&#x27;</span>"
      ],
      "text/plain": [
       "Running query in 'duck'"
      ]
     },
     "metadata": {},
     "output_type": "display_data"
    },
    {
     "data": {
      "text/html": [
       "<table>\n",
       "    <thead>\n",
       "        <tr>\n",
       "            <th>n</th>\n",
       "        </tr>\n",
       "    </thead>\n",
       "    <tbody>\n",
       "        <tr>\n",
       "            <td>81140</td>\n",
       "        </tr>\n",
       "    </tbody>\n",
       "</table>"
      ],
      "text/plain": [
       "+-------+\n",
       "|   n   |\n",
       "+-------+\n",
       "| 81140 |\n",
       "+-------+"
      ]
     },
     "execution_count": 224,
     "metadata": {},
     "output_type": "execute_result"
    }
   ],
   "source": [
    "%%sql\n",
    "CREATE OR REPLACE VIEW bronze_camara_temas AS\n",
    "SELECT * FROM parquet_scan(\"data/bronze/snapshots/bronze-2020-2024-v2/camara/temas/year=*/part-*.parquet\")\n",
    "WHERE source = 'camara' AND entity = 'temas';\n",
    "\n",
    "SELECT COUNT(*) AS n FROM bronze_camara_temas;"
   ]
  },
  {
   "cell_type": "code",
   "execution_count": 225,
   "id": "2d0ffd20",
   "metadata": {
    "vscode": {
     "languageId": "sql"
    }
   },
   "outputs": [
    {
     "data": {
      "text/html": [
       "<span style=\"None\">Running query in &#x27;duck&#x27;</span>"
      ],
      "text/plain": [
       "Running query in 'duck'"
      ]
     },
     "metadata": {},
     "output_type": "display_data"
    },
    {
     "data": {
      "text/html": [
       "<table>\n",
       "    <thead>\n",
       "        <tr>\n",
       "            <th>Success</th>\n",
       "        </tr>\n",
       "    </thead>\n",
       "    <tbody>\n",
       "    </tbody>\n",
       "</table>"
      ],
      "text/plain": [
       "+---------+\n",
       "| Success |\n",
       "+---------+\n",
       "+---------+"
      ]
     },
     "execution_count": 225,
     "metadata": {},
     "output_type": "execute_result"
    }
   ],
   "source": [
    "%%sql\n",
    "DROP TABLE IF EXISTS temas_camara;\n",
    "CREATE TABLE temas_camara AS\n",
    "WITH base AS (\n",
    "    SELECT TRY_CAST(payload_json AS JSON) as j, year\n",
    "    FROM bronze_camara_temas\n",
    "),\n",
    "exploded as (\n",
    "    SELECT\n",
    "        CAST(jget1(elem.value, '$.codTema') AS BIGINT) AS id_tema,\n",
    "        jget1(elem.value, '$.tema') AS descricao,\n",
    "    FROM base\n",
    "    CROSS JOIN json_each(json_extract(j, '$.dados')) AS elem\n",
    ")\n",
    "SELECT\n",
    "    id_tema,\n",
    "    max(descricao) as descricao,\n",
    "FROM exploded\n",
    "WHERE id_tema IS NOT NULL\n",
    "GROUP BY id_tema\n",
    "ORDER BY id_tema;\n",
    "DROP VIEW IF EXISTS bronze_camara_temas;"
   ]
  },
  {
   "cell_type": "markdown",
   "id": "b6d1b13e",
   "metadata": {},
   "source": [
    "## 2.2 Modelos factuais"
   ]
  },
  {
   "cell_type": "markdown",
   "id": "6b76c3b4",
   "metadata": {},
   "source": [
    "### 2.2.1 Autores"
   ]
  },
  {
   "cell_type": "code",
   "execution_count": 226,
   "id": "15afab2b",
   "metadata": {
    "vscode": {
     "languageId": "sql"
    }
   },
   "outputs": [
    {
     "data": {
      "text/html": [
       "<span style=\"None\">Running query in &#x27;duck&#x27;</span>"
      ],
      "text/plain": [
       "Running query in 'duck'"
      ]
     },
     "metadata": {},
     "output_type": "display_data"
    },
    {
     "data": {
      "text/html": [
       "<table>\n",
       "    <thead>\n",
       "        <tr>\n",
       "            <th>n</th>\n",
       "        </tr>\n",
       "    </thead>\n",
       "    <tbody>\n",
       "        <tr>\n",
       "            <td>81140</td>\n",
       "        </tr>\n",
       "    </tbody>\n",
       "</table>"
      ],
      "text/plain": [
       "+-------+\n",
       "|   n   |\n",
       "+-------+\n",
       "| 81140 |\n",
       "+-------+"
      ]
     },
     "execution_count": 226,
     "metadata": {},
     "output_type": "execute_result"
    }
   ],
   "source": [
    "%%sql\n",
    "CREATE OR REPLACE VIEW bronze_camara_autores AS\n",
    "SELECT * FROM parquet_scan(\"data/bronze/snapshots/bronze-2020-2024-v2/camara/autores/year=*/part-*.parquet\")\n",
    "WHERE source = 'camara' AND entity = 'autores';\n",
    "\n",
    "SELECT COUNT(*) AS n FROM bronze_camara_autores;"
   ]
  },
  {
   "cell_type": "code",
   "execution_count": 227,
   "id": "79cedc05",
   "metadata": {
    "vscode": {
     "languageId": "sql"
    }
   },
   "outputs": [
    {
     "data": {
      "text/html": [
       "<span style=\"None\">Running query in &#x27;duck&#x27;</span>"
      ],
      "text/plain": [
       "Running query in 'duck'"
      ]
     },
     "metadata": {},
     "output_type": "display_data"
    },
    {
     "data": {
      "text/html": [
       "<table>\n",
       "    <thead>\n",
       "        <tr>\n",
       "            <th>Success</th>\n",
       "        </tr>\n",
       "    </thead>\n",
       "    <tbody>\n",
       "    </tbody>\n",
       "</table>"
      ],
      "text/plain": [
       "+---------+\n",
       "| Success |\n",
       "+---------+\n",
       "+---------+"
      ]
     },
     "execution_count": 227,
     "metadata": {},
     "output_type": "execute_result"
    }
   ],
   "source": [
    "%%sql\n",
    "DROP TABLE IF EXISTS autores_camara;\n",
    "CREATE TABLE autores_camara AS\n",
    "WITH base AS (\n",
    "    SELECT TRY_CAST(payload_json AS JSON) AS j,\n",
    "    year,\n",
    "    id AS id_proposicao,\n",
    "    FROM bronze_camara_autores\n",
    "),\n",
    "exploded AS (\n",
    "    SELECT\n",
    "        CAST(jget1(elem.value, '$.codTipo') AS BIGINT)        AS cod_tipo,\n",
    "        jget1(elem.value, '$.uri')                           AS uri,\n",
    "        CAST(jget1(elem.value, '$.ordemAssinatura') AS INT)  AS ordem_assinatura,\n",
    "        CAST(jget1(elem.value, '$.proponente') AS BOOLEAN)   AS proponente,\n",
    "        CAST(b.id_proposicao AS BIGINT)                      AS id_proposicao,\n",
    "        b.year\n",
    "    FROM base b\n",
    "    CROSS JOIN json_each(b.j, '$.dados') AS elem\n",
    "),\n",
    "numbered AS (\n",
    "    SELECT\n",
    "        ROW_NUMBER() OVER () AS id_autor,   -- surrogate key\n",
    "        cod_tipo,\n",
    "        uri,\n",
    "        ordem_assinatura,\n",
    "        proponente,\n",
    "        id_proposicao,\n",
    "        year\n",
    "    FROM exploded\n",
    ")\n",
    "SELECT *\n",
    "FROM numbered;\n",
    "DROP VIEW IF EXISTS bronze_camara_autores;"
   ]
  },
  {
   "cell_type": "markdown",
   "id": "43c798a1",
   "metadata": {},
   "source": [
    "### 2.2.2 Orientações"
   ]
  },
  {
   "cell_type": "code",
   "execution_count": 228,
   "id": "51766938",
   "metadata": {
    "vscode": {
     "languageId": "sql"
    }
   },
   "outputs": [
    {
     "data": {
      "text/html": [
       "<span style=\"None\">Running query in &#x27;duck&#x27;</span>"
      ],
      "text/plain": [
       "Running query in 'duck'"
      ]
     },
     "metadata": {},
     "output_type": "display_data"
    },
    {
     "data": {
      "text/html": [
       "<table>\n",
       "    <thead>\n",
       "        <tr>\n",
       "            <th>n</th>\n",
       "        </tr>\n",
       "    </thead>\n",
       "    <tbody>\n",
       "        <tr>\n",
       "            <td>38525</td>\n",
       "        </tr>\n",
       "    </tbody>\n",
       "</table>"
      ],
      "text/plain": [
       "+-------+\n",
       "|   n   |\n",
       "+-------+\n",
       "| 38525 |\n",
       "+-------+"
      ]
     },
     "execution_count": 228,
     "metadata": {},
     "output_type": "execute_result"
    }
   ],
   "source": [
    "%%sql\n",
    "CREATE OR REPLACE VIEW bronze_camara_orientacoes AS\n",
    "SELECT * FROM parquet_scan(\"data/bronze/snapshots/bronze-2020-2024-v2/camara/orientacoes/year=*/part-*.parquet\")\n",
    "WHERE source = 'camara' AND entity = 'orientacoes';\n",
    "\n",
    "SELECT COUNT(*) AS n FROM bronze_camara_orientacoes;"
   ]
  },
  {
   "cell_type": "code",
   "execution_count": 229,
   "id": "7a77b43b",
   "metadata": {
    "vscode": {
     "languageId": "sql"
    }
   },
   "outputs": [
    {
     "data": {
      "text/html": [
       "<span style=\"None\">Running query in &#x27;duck&#x27;</span>"
      ],
      "text/plain": [
       "Running query in 'duck'"
      ]
     },
     "metadata": {},
     "output_type": "display_data"
    },
    {
     "data": {
      "text/html": [
       "<table>\n",
       "    <thead>\n",
       "        <tr>\n",
       "            <th>Success</th>\n",
       "        </tr>\n",
       "    </thead>\n",
       "    <tbody>\n",
       "    </tbody>\n",
       "</table>"
      ],
      "text/plain": [
       "+---------+\n",
       "| Success |\n",
       "+---------+\n",
       "+---------+"
      ]
     },
     "execution_count": 229,
     "metadata": {},
     "output_type": "execute_result"
    }
   ],
   "source": [
    "%%sql\n",
    "DROP TABLE IF EXISTS orientacoes_camara;\n",
    "\n",
    "CREATE TABLE orientacoes_camara AS\n",
    "WITH base AS (\n",
    "  SELECT\n",
    "    TRY_CAST(payload_json AS JSON) AS j,\n",
    "    year AS year_snapshot,\n",
    "    id AS id_votacao\n",
    "  FROM bronze_camara_orientacoes\n",
    "),\n",
    "exploded AS (\n",
    "  SELECT\n",
    "    CAST(json_extract_string(e.value, '$.codPartidoBloco') AS BIGINT) AS cod_partido_bloco,\n",
    "    json_extract_string(e.value, '$.codTipoLideranca') AS cod_tipo_lideranca,\n",
    "    json_extract_string(e.value, '$.orientacaoVoto') AS orientacao_voto,\n",
    "    json_extract_string(e.value, '$.siglaPartidoBloco') AS sigla_partido_bloco,\n",
    "    json_extract_string(e.value, '$.uriPartidoBloco') AS uri_partido_bloco,\n",
    "    b.id_votacao,\n",
    "    b.year_snapshot\n",
    "  FROM base b\n",
    "  CROSS JOIN json_each(b.j, '$.dados') AS e\n",
    "),\n",
    "numbered AS (\n",
    "    SELECT\n",
    "        ROW_NUMBER() OVER () AS id_orientacao,\n",
    "        id_votacao,\n",
    "        sigla_partido_bloco,\n",
    "        orientacao_voto,\n",
    "        cod_partido_bloco,\n",
    "        cod_tipo_lideranca,\n",
    "        uri_partido_bloco,\n",
    "        year_snapshot\n",
    "    FROM exploded\n",
    ")\n",
    "SELECT *\n",
    "FROM numbered;\n",
    "DROP VIEW IF EXISTS bronze_camara_orientacoes;\n"
   ]
  },
  {
   "cell_type": "markdown",
   "id": "e28c4815",
   "metadata": {},
   "source": [
    "### 2.2.3 Tramitações"
   ]
  },
  {
   "cell_type": "code",
   "execution_count": 230,
   "id": "4eda57fa",
   "metadata": {
    "vscode": {
     "languageId": "sql"
    }
   },
   "outputs": [
    {
     "data": {
      "text/html": [
       "<span style=\"None\">Running query in &#x27;duck&#x27;</span>"
      ],
      "text/plain": [
       "Running query in 'duck'"
      ]
     },
     "metadata": {},
     "output_type": "display_data"
    },
    {
     "data": {
      "text/html": [
       "<table>\n",
       "    <thead>\n",
       "        <tr>\n",
       "            <th>Success</th>\n",
       "        </tr>\n",
       "    </thead>\n",
       "    <tbody>\n",
       "    </tbody>\n",
       "</table>"
      ],
      "text/plain": [
       "+---------+\n",
       "| Success |\n",
       "+---------+\n",
       "+---------+"
      ]
     },
     "execution_count": 230,
     "metadata": {},
     "output_type": "execute_result"
    }
   ],
   "source": [
    "%%sql\n",
    "-- View over the Parquet snapshot\n",
    "CREATE OR REPLACE VIEW bronze_camara_tramitacoes AS\n",
    "SELECT *\n",
    "FROM parquet_scan('data/bronze/snapshots/bronze-2020-2024-v2/camara/tramitacoes/year=*/part-*.parquet')\n",
    "WHERE source = 'camara' AND entity = 'tramitacoes';\n",
    "\n",
    "-- Materialize exploded tramitacoes\n",
    "DROP TABLE IF EXISTS tramitacoes_camara;\n",
    "\n",
    "CREATE TABLE tramitacoes_camara AS\n",
    "WITH base AS (\n",
    "  SELECT\n",
    "    TRY_CAST(payload_json AS JSON) AS j,\n",
    "    year AS year_snapshot,\n",
    "    id   AS id_proposicao\n",
    "  FROM bronze_camara_tramitacoes\n",
    "),\n",
    "exploded AS (\n",
    "  SELECT\n",
    "    CAST(b.id_proposicao AS BIGINT)                                        AS id_proposicao,\n",
    "    json_extract_string(e.value, '$.ambito')                               AS ambito,\n",
    "    json_extract_string(e.value, '$.apreciacao')                           AS apreciacao,\n",
    "    json_extract_string(e.value, '$.codSituacao')                          AS cod_situacao,\n",
    "    json_extract_string(e.value, '$.codTipoTramitacao')                    AS cod_tipo_tramitacao,\n",
    "    CAST(json_extract_string(e.value, '$.dataHora') AS TIMESTAMP)          AS data_hora,\n",
    "    json_extract_string(e.value, '$.descricaoSituacao')                    AS descricao_situacao,\n",
    "    json_extract_string(e.value, '$.descricaoTramitacao')                  AS descricao_tramitacao,\n",
    "    json_extract_string(e.value, '$.despacho')                             AS despacho,\n",
    "    json_extract_string(e.value, '$.regime')                               AS regime,\n",
    "    CAST(json_extract_string(e.value, '$.sequencia') AS INTEGER)           AS sequencia,\n",
    "    json_extract_string(e.value, '$.siglaOrgao')                           AS sigla_orgao,\n",
    "    json_extract_string(e.value, '$.uriOrgao')                             AS uri_orgao,\n",
    "    json_extract_string(e.value, '$.uriUltimoRelator')                     AS uri_ultimo_relator,\n",
    "    b.year_snapshot                                                         AS year_snapshot\n",
    "  FROM base b\n",
    "  CROSS JOIN json_each(b.j, '$.dados') AS e\n",
    "),\n",
    "numbered AS (\n",
    "    SELECT\n",
    "        ROW_NUMBER() OVER () AS id_tramitacao,\n",
    "        id_proposicao,\n",
    "        ambito,\n",
    "        apreciacao,\n",
    "        cod_situacao,\n",
    "        cod_tipo_tramitacao,\n",
    "        data_hora,\n",
    "        descricao_situacao,\n",
    "        descricao_tramitacao,\n",
    "        despacho,\n",
    "        regime,\n",
    "        sequencia,\n",
    "        sigla_orgao,\n",
    "        uri_orgao,\n",
    "        uri_ultimo_relator,\n",
    "        year_snapshot\n",
    "    FROM exploded\n",
    ")\n",
    "SELECT *\n",
    "FROM numbered;\n",
    "\n",
    "\n",
    "DROP VIEW IF EXISTS bronze_camara_tramitacoes;\n"
   ]
  },
  {
   "cell_type": "markdown",
   "id": "7125db42",
   "metadata": {},
   "source": [
    "### 2.2.4 Votações"
   ]
  },
  {
   "cell_type": "code",
   "execution_count": 231,
   "id": "588917c6",
   "metadata": {
    "vscode": {
     "languageId": "sql"
    }
   },
   "outputs": [
    {
     "data": {
      "text/html": [
       "<span style=\"None\">Running query in &#x27;duck&#x27;</span>"
      ],
      "text/plain": [
       "Running query in 'duck'"
      ]
     },
     "metadata": {},
     "output_type": "display_data"
    },
    {
     "data": {
      "text/html": [
       "<table>\n",
       "    <thead>\n",
       "        <tr>\n",
       "            <th>n</th>\n",
       "        </tr>\n",
       "    </thead>\n",
       "    <tbody>\n",
       "        <tr>\n",
       "            <td>81140</td>\n",
       "        </tr>\n",
       "    </tbody>\n",
       "</table>"
      ],
      "text/plain": [
       "+-------+\n",
       "|   n   |\n",
       "+-------+\n",
       "| 81140 |\n",
       "+-------+"
      ]
     },
     "execution_count": 231,
     "metadata": {},
     "output_type": "execute_result"
    }
   ],
   "source": [
    "%%sql\n",
    "CREATE OR REPLACE VIEW bronze_camara_votacoes AS\n",
    "SELECT * FROM parquet_scan(\"data/bronze/snapshots/bronze-2020-2024-v2/camara/votacoes/year=*/part-*.parquet\")\n",
    "WHERE source = 'camara' AND entity = 'votacoes';\n",
    "\n",
    "SELECT COUNT(*) AS n FROM bronze_camara_votacoes;"
   ]
  },
  {
   "cell_type": "code",
   "execution_count": 232,
   "id": "1d6abafd",
   "metadata": {
    "vscode": {
     "languageId": "sql"
    }
   },
   "outputs": [
    {
     "data": {
      "text/html": [
       "<span style=\"None\">Running query in &#x27;duck&#x27;</span>"
      ],
      "text/plain": [
       "Running query in 'duck'"
      ]
     },
     "metadata": {},
     "output_type": "display_data"
    },
    {
     "data": {
      "text/html": [
       "<table>\n",
       "    <thead>\n",
       "        <tr>\n",
       "            <th>Count</th>\n",
       "        </tr>\n",
       "    </thead>\n",
       "    <tbody>\n",
       "        <tr>\n",
       "            <td>38712</td>\n",
       "        </tr>\n",
       "    </tbody>\n",
       "</table>"
      ],
      "text/plain": [
       "+-------+\n",
       "| Count |\n",
       "+-------+\n",
       "| 38712 |\n",
       "+-------+"
      ]
     },
     "execution_count": 232,
     "metadata": {},
     "output_type": "execute_result"
    }
   ],
   "source": [
    "%%sql\n",
    "DROP TABLE IF EXISTS votacoes_camara;\n",
    "\n",
    "CREATE TABLE votacoes_camara AS\n",
    "WITH base AS (\n",
    "  SELECT\n",
    "    TRY_CAST(payload_json AS JSON) AS j,\n",
    "    year as year_snapshot,\n",
    "    id AS id_proposicao\n",
    "  FROM bronze_camara_votacoes\n",
    "),\n",
    "exploded AS (\n",
    "  SELECT\n",
    "    CAST(json_extract_string(e.value, '$.aprovacao') AS BOOLEAN) AS aprovacao,\n",
    "    CAST(json_extract_string(e.value, '$.data') AS DATE) AS data,\n",
    "    json_extract_string(e.value, '$.descricao') AS descricao,\n",
    "    json_extract_string(e.value, '$.id') AS id_votacao, -- como text mesmo, por conta do hífen\n",
    "    json_extract_string(e.value, '$.uri') AS uri,\n",
    "    json_extract_string(e.value, '$.uriEvento') AS uri_evento,\n",
    "    json_extract_string(e.value, '$.uriOrgao') AS uri_orgao,\n",
    "    CAST(b.id_proposicao AS BIGINT) AS id_proposicao,\n",
    "    b.year_snapshot\n",
    "  FROM base b\n",
    "  CROSS JOIN json_each(b.j, '$.dados') AS e\n",
    ")\n",
    "SELECT\n",
    "    id_votacao,\n",
    "    id_proposicao,\n",
    "    data,\n",
    "    descricao,\n",
    "    aprovacao,\n",
    "    uri_evento,\n",
    "    uri_orgao,\n",
    "    uri,\n",
    "    year_snapshot,\n",
    "FROM exploded;\n"
   ]
  },
  {
   "cell_type": "markdown",
   "id": "bc2e8783",
   "metadata": {},
   "source": [
    "### 2.2.5 Votos"
   ]
  },
  {
   "cell_type": "code",
   "execution_count": 233,
   "id": "ec372881",
   "metadata": {},
   "outputs": [],
   "source": [
    "with tempfile.NamedTemporaryFile() as tf:\n",
    "    paths = glob(\"data/bronze/snapshots/bronze-2020-2024-v2/camara/votos/year=*/part-*.parquet\")\n",
    "    table = pq.read_table(paths)\n",
    "    df = table.to_pandas()\n",
    "\n",
    "    exploded_rows = []\n",
    "    for _, row in df.iterrows():\n",
    "        payload = json.loads(row[\"payload_json\"])\n",
    "        for item in payload[\"dados\"]:\n",
    "            exploded_rows.append({\n",
    "                \"id_votacao\": row[\"id\"],\n",
    "                \"id_deputado\": item[\"deputado_\"][\"id\"],\n",
    "                \"tipo_voto\": item[\"tipoVoto\"],\n",
    "                \"data_hora\": item[\"dataRegistroVoto\"],\n",
    "                \"year_snapshot\": row[\"year\"],\n",
    "            })\n",
    "\n",
    "    exploded_df = pd.DataFrame(exploded_rows)\n",
    "    exploded_df.to_csv(tf.name, index=False)\n",
    "\n",
    "    conn.execute(\"\"\"\n",
    "        DROP TABLE IF EXISTS votos_camara;\n",
    "\n",
    "        -- Create table with PK declared up-front\n",
    "        CREATE TABLE votos_camara (\n",
    "            id_voto BIGINT PRIMARY KEY,\n",
    "            id_votacao TEXT,\n",
    "            id_deputado BIGINT,\n",
    "            tipo_voto TEXT,\n",
    "            data_hora TIMESTAMP,\n",
    "            year_snapshot INTEGER\n",
    "        );\n",
    "\n",
    "        -- Deterministic incremental ID via ROW_NUMBER with ORDER BY\n",
    "        INSERT INTO votos_camara\n",
    "        SELECT\n",
    "            ROW_NUMBER() OVER (ORDER BY id_votacao, id_deputado, data_hora, year_snapshot) AS id_voto,\n",
    "            CAST(id_votacao AS TEXT)                           AS id_votacao,\n",
    "            CAST(id_deputado AS BIGINT)                        AS id_deputado,\n",
    "            CAST(tipo_voto AS TEXT)                            AS tipo_voto,\n",
    "            CAST(data_hora AS TIMESTAMP)                       AS data_hora,\n",
    "            CAST(year_snapshot AS INTEGER)                     AS year_snapshot\n",
    "        FROM read_csv_auto($path, HEADER=TRUE);\n",
    "    \"\"\", {\"path\": tf.name})\n"
   ]
  },
  {
   "cell_type": "markdown",
   "id": "50f240c4",
   "metadata": {},
   "source": [
    "## 2.3 Outras relações entre tabelas"
   ]
  },
  {
   "cell_type": "markdown",
   "id": "a9b7d8e5",
   "metadata": {},
   "source": [
    "### 2.3.1 Blocos e partidos"
   ]
  },
  {
   "cell_type": "code",
   "execution_count": 234,
   "id": "f01b0b99",
   "metadata": {
    "vscode": {
     "languageId": "sql"
    }
   },
   "outputs": [
    {
     "data": {
      "text/html": [
       "<span style=\"None\">Running query in &#x27;duck&#x27;</span>"
      ],
      "text/plain": [
       "Running query in 'duck'"
      ]
     },
     "metadata": {},
     "output_type": "display_data"
    },
    {
     "data": {
      "text/html": [
       "<table>\n",
       "    <thead>\n",
       "        <tr>\n",
       "            <th>n</th>\n",
       "        </tr>\n",
       "    </thead>\n",
       "    <tbody>\n",
       "        <tr>\n",
       "            <td>5</td>\n",
       "        </tr>\n",
       "    </tbody>\n",
       "</table>"
      ],
      "text/plain": [
       "+---+\n",
       "| n |\n",
       "+---+\n",
       "| 5 |\n",
       "+---+"
      ]
     },
     "execution_count": 234,
     "metadata": {},
     "output_type": "execute_result"
    }
   ],
   "source": [
    "%%sql\n",
    "CREATE OR REPLACE VIEW bronze_camara_blocos_partidos AS\n",
    "SELECT * FROM parquet_scan(\"data/bronze/snapshots/bronze-2020-2024-v2/camara/blocos/partidos/year=*/part-*.parquet\")\n",
    "WHERE source = 'camara' AND entity = 'blocos/partidos';\n",
    "\n",
    "SELECT COUNT(*) AS n FROM bronze_camara_blocos_partidos;"
   ]
  },
  {
   "cell_type": "code",
   "execution_count": 235,
   "id": "c704af71",
   "metadata": {
    "vscode": {
     "languageId": "sql"
    }
   },
   "outputs": [
    {
     "data": {
      "text/html": [
       "<span style=\"None\">Running query in &#x27;duck&#x27;</span>"
      ],
      "text/plain": [
       "Running query in 'duck'"
      ]
     },
     "metadata": {},
     "output_type": "display_data"
    },
    {
     "data": {
      "text/html": [
       "<table>\n",
       "    <thead>\n",
       "        <tr>\n",
       "            <th>Count</th>\n",
       "        </tr>\n",
       "    </thead>\n",
       "    <tbody>\n",
       "        <tr>\n",
       "            <td>22</td>\n",
       "        </tr>\n",
       "    </tbody>\n",
       "</table>"
      ],
      "text/plain": [
       "+-------+\n",
       "| Count |\n",
       "+-------+\n",
       "|   22  |\n",
       "+-------+"
      ]
     },
     "execution_count": 235,
     "metadata": {},
     "output_type": "execute_result"
    }
   ],
   "source": [
    "%%sql\n",
    "DROP TABLE IF EXISTS blocos_partidos_camara;\n",
    "\n",
    "CREATE TABLE blocos_partidos_camara AS\n",
    "WITH base AS (\n",
    "  SELECT\n",
    "    TRY_CAST(payload_json AS JSON) AS j,\n",
    "    year AS year_snapshot,\n",
    "    id AS id_bloco\n",
    "  FROM bronze_camara_blocos_partidos\n",
    "),\n",
    "exploded AS (\n",
    "  SELECT\n",
    "    CAST(json_extract_string(e.value, '$.id') AS BIGINT) AS id_partido,\n",
    "    CAST(b.id_bloco AS BIGINT) AS id_bloco,\n",
    "    b.year_snapshot\n",
    "  FROM base b\n",
    "  CROSS JOIN json_each(b.j, '$.dados') AS e\n",
    "),\n",
    "numbered AS (\n",
    "    SELECT\n",
    "        ROW_NUMBER() OVER () AS id_bloco_partido,\n",
    "        id_bloco,\n",
    "        id_partido,\n",
    "        year_snapshot\n",
    "    FROM exploded\n",
    ")\n",
    "SELECT *\n",
    "FROM numbered;\n"
   ]
  },
  {
   "cell_type": "markdown",
   "id": "15fc58b5",
   "metadata": {
    "vscode": {
     "languageId": "sql"
    }
   },
   "source": [
    "### 2.3.2 Deputados e frentes"
   ]
  },
  {
   "cell_type": "code",
   "execution_count": 236,
   "id": "f07afd0f",
   "metadata": {
    "vscode": {
     "languageId": "sql"
    }
   },
   "outputs": [
    {
     "data": {
      "text/html": [
       "<span style=\"None\">Running query in &#x27;duck&#x27;</span>"
      ],
      "text/plain": [
       "Running query in 'duck'"
      ]
     },
     "metadata": {},
     "output_type": "display_data"
    },
    {
     "data": {
      "text/html": [
       "<table>\n",
       "    <thead>\n",
       "        <tr>\n",
       "            <th>n</th>\n",
       "        </tr>\n",
       "    </thead>\n",
       "    <tbody>\n",
       "        <tr>\n",
       "            <td>1435</td>\n",
       "        </tr>\n",
       "    </tbody>\n",
       "</table>"
      ],
      "text/plain": [
       "+------+\n",
       "|  n   |\n",
       "+------+\n",
       "| 1435 |\n",
       "+------+"
      ]
     },
     "execution_count": 236,
     "metadata": {},
     "output_type": "execute_result"
    }
   ],
   "source": [
    "%%sql\n",
    "CREATE OR REPLACE VIEW bronze_camara_deputados_frentes AS\n",
    "SELECT * FROM parquet_scan(\"data/bronze/snapshots/bronze-2020-2024-v2/camara/deputados/frentes/year=*/part-*.parquet\")\n",
    "WHERE source = 'camara' AND entity = 'deputados/frentes';\n",
    "\n",
    "SELECT COUNT(*) AS n FROM bronze_camara_deputados_frentes;"
   ]
  },
  {
   "cell_type": "code",
   "execution_count": 237,
   "id": "bea1b706",
   "metadata": {
    "vscode": {
     "languageId": "sql"
    }
   },
   "outputs": [
    {
     "data": {
      "text/html": [
       "<span style=\"None\">Running query in &#x27;duck&#x27;</span>"
      ],
      "text/plain": [
       "Running query in 'duck'"
      ]
     },
     "metadata": {},
     "output_type": "display_data"
    },
    {
     "data": {
      "text/html": [
       "<table>\n",
       "    <thead>\n",
       "        <tr>\n",
       "            <th>Count</th>\n",
       "        </tr>\n",
       "    </thead>\n",
       "    <tbody>\n",
       "        <tr>\n",
       "            <td>146271</td>\n",
       "        </tr>\n",
       "    </tbody>\n",
       "</table>"
      ],
      "text/plain": [
       "+--------+\n",
       "| Count  |\n",
       "+--------+\n",
       "| 146271 |\n",
       "+--------+"
      ]
     },
     "execution_count": 237,
     "metadata": {},
     "output_type": "execute_result"
    }
   ],
   "source": [
    "%%sql\n",
    "DROP TABLE IF EXISTS deputados_frentes_camara;\n",
    "\n",
    "CREATE TABLE deputados_frentes_camara AS\n",
    "WITH base AS (\n",
    "  SELECT\n",
    "    TRY_CAST(payload_json AS JSON) AS j,\n",
    "    year AS year_snapshot,\n",
    "    id AS id_deputado\n",
    "  FROM bronze_camara_deputados_frentes\n",
    "),\n",
    "exploded AS (\n",
    "  SELECT\n",
    "    CAST(json_extract_string(e.value, '$.id') AS BIGINT) AS id_frente,\n",
    "    CAST(b.id_deputado AS BIGINT) AS id_deputado,\n",
    "    b.year_snapshot\n",
    "  FROM base b\n",
    "  CROSS JOIN json_each(b.j, '$.dados') AS e\n",
    "),\n",
    "numbered AS (\n",
    "    SELECT\n",
    "        ROW_NUMBER() OVER () AS id_deputado_frente,\n",
    "        id_deputado,\n",
    "        id_frente,\n",
    "        year_snapshot\n",
    "    FROM exploded\n",
    ")\n",
    "SELECT *\n",
    "FROM numbered;"
   ]
  },
  {
   "cell_type": "markdown",
   "id": "c15e2656",
   "metadata": {},
   "source": [
    "### 2.3.3 Deputados e histórico"
   ]
  },
  {
   "cell_type": "code",
   "execution_count": 238,
   "id": "f18b01d9",
   "metadata": {
    "vscode": {
     "languageId": "sql"
    }
   },
   "outputs": [
    {
     "data": {
      "text/html": [
       "<span style=\"None\">Running query in &#x27;duck&#x27;</span>"
      ],
      "text/plain": [
       "Running query in 'duck'"
      ]
     },
     "metadata": {},
     "output_type": "display_data"
    },
    {
     "data": {
      "text/html": [
       "<table>\n",
       "    <thead>\n",
       "        <tr>\n",
       "            <th>n</th>\n",
       "        </tr>\n",
       "    </thead>\n",
       "    <tbody>\n",
       "        <tr>\n",
       "            <td>512</td>\n",
       "        </tr>\n",
       "    </tbody>\n",
       "</table>"
      ],
      "text/plain": [
       "+-----+\n",
       "|  n  |\n",
       "+-----+\n",
       "| 512 |\n",
       "+-----+"
      ]
     },
     "execution_count": 238,
     "metadata": {},
     "output_type": "execute_result"
    }
   ],
   "source": [
    "%%sql\n",
    "CREATE OR REPLACE VIEW bronze_camara_deputados_historico AS\n",
    "SELECT * FROM parquet_scan(\"data/bronze/snapshots/bronze-2020-2024-v2/camara/deputados/historico/year=*/part-*.parquet\")\n",
    "WHERE source = 'camara' AND entity = 'deputados/historico';\n",
    "\n",
    "SELECT COUNT(*) AS n FROM bronze_camara_deputados_historico;"
   ]
  },
  {
   "cell_type": "code",
   "execution_count": 239,
   "id": "983ceb35",
   "metadata": {
    "vscode": {
     "languageId": "sql"
    }
   },
   "outputs": [
    {
     "data": {
      "text/html": [
       "<span style=\"None\">Running query in &#x27;duck&#x27;</span>"
      ],
      "text/plain": [
       "Running query in 'duck'"
      ]
     },
     "metadata": {},
     "output_type": "display_data"
    },
    {
     "data": {
      "text/html": [
       "<table>\n",
       "    <thead>\n",
       "        <tr>\n",
       "            <th>Count</th>\n",
       "        </tr>\n",
       "    </thead>\n",
       "    <tbody>\n",
       "        <tr>\n",
       "            <td>4507</td>\n",
       "        </tr>\n",
       "    </tbody>\n",
       "</table>"
      ],
      "text/plain": [
       "+-------+\n",
       "| Count |\n",
       "+-------+\n",
       "|  4507 |\n",
       "+-------+"
      ]
     },
     "execution_count": 239,
     "metadata": {},
     "output_type": "execute_result"
    }
   ],
   "source": [
    "%%sql\n",
    "DROP TABLE IF EXISTS deputados_historico_camara;\n",
    "\n",
    "CREATE TABLE deputados_historico_camara AS\n",
    "WITH base AS (\n",
    "  SELECT\n",
    "    TRY_CAST(payload_json AS JSON) AS j,\n",
    "    year AS year_snapshot,\n",
    "    id AS id_deputado\n",
    "  FROM bronze_camara_deputados_historico\n",
    "),\n",
    "exploded AS (\n",
    "  SELECT\n",
    "    json_extract_string(e.value, '$.condicaoEleitoral') AS condicao_eleitoral,\n",
    "    CAST(json_extract_string(e.value, '$.dataHora') AS DATETIME) AS data_hora,\n",
    "    json_extract_string(e.value, '$.descricaoStatus') AS descricao_status,\n",
    "    CAST(json_extract_string(e.value, '$.idLegislatura') AS BIGINT) AS id_legislatura,\n",
    "    json_extract_string(e.value, '$.situacao') AS situacao,\n",
    "    CAST(b.id_deputado AS BIGINT) AS id_deputado,\n",
    "    b.year_snapshot\n",
    "  FROM base b\n",
    "  CROSS JOIN json_each(b.j, '$.dados') AS e\n",
    "),\n",
    "numbered AS (\n",
    "    SELECT\n",
    "        ROW_NUMBER() OVER () AS id_deputado_historico,\n",
    "        id_deputado,\n",
    "        id_legislatura,\n",
    "        data_hora,\n",
    "        condicao_eleitoral,\n",
    "        descricao_status,\n",
    "        year_snapshot\n",
    "    FROM exploded\n",
    ")\n",
    "SELECT *\n",
    "FROM numbered;\n"
   ]
  },
  {
   "cell_type": "markdown",
   "id": "c122094e",
   "metadata": {},
   "source": [
    "### 2.3.4 Deputados e órgãos"
   ]
  },
  {
   "cell_type": "code",
   "execution_count": 240,
   "id": "1d8d62dc",
   "metadata": {
    "vscode": {
     "languageId": "sql"
    }
   },
   "outputs": [
    {
     "data": {
      "text/html": [
       "<span style=\"None\">Running query in &#x27;duck&#x27;</span>"
      ],
      "text/plain": [
       "Running query in 'duck'"
      ]
     },
     "metadata": {},
     "output_type": "display_data"
    },
    {
     "data": {
      "text/html": [
       "<table>\n",
       "    <thead>\n",
       "        <tr>\n",
       "            <th>n</th>\n",
       "        </tr>\n",
       "    </thead>\n",
       "    <tbody>\n",
       "        <tr>\n",
       "            <td>512</td>\n",
       "        </tr>\n",
       "    </tbody>\n",
       "</table>"
      ],
      "text/plain": [
       "+-----+\n",
       "|  n  |\n",
       "+-----+\n",
       "| 512 |\n",
       "+-----+"
      ]
     },
     "execution_count": 240,
     "metadata": {},
     "output_type": "execute_result"
    }
   ],
   "source": [
    "%%sql\n",
    "CREATE OR REPLACE VIEW bronze_camara_deputados_orgaos AS\n",
    "SELECT * FROM parquet_scan(\"data/bronze/snapshots/bronze-2020-2024-v2/camara/deputados/orgaos/year=*/part-*.parquet\")\n",
    "WHERE source = 'camara' AND entity = 'deputados/orgaos';\n",
    "\n",
    "SELECT COUNT(*) AS n FROM bronze_camara_deputados_orgaos;"
   ]
  },
  {
   "cell_type": "code",
   "execution_count": 241,
   "id": "0c614437",
   "metadata": {
    "vscode": {
     "languageId": "sql"
    }
   },
   "outputs": [
    {
     "data": {
      "text/html": [
       "<span style=\"None\">Running query in &#x27;duck&#x27;</span>"
      ],
      "text/plain": [
       "Running query in 'duck'"
      ]
     },
     "metadata": {},
     "output_type": "display_data"
    },
    {
     "data": {
      "text/html": [
       "<table>\n",
       "    <thead>\n",
       "        <tr>\n",
       "            <th>Count</th>\n",
       "        </tr>\n",
       "    </thead>\n",
       "    <tbody>\n",
       "        <tr>\n",
       "            <td>3462</td>\n",
       "        </tr>\n",
       "    </tbody>\n",
       "</table>"
      ],
      "text/plain": [
       "+-------+\n",
       "| Count |\n",
       "+-------+\n",
       "|  3462 |\n",
       "+-------+"
      ]
     },
     "execution_count": 241,
     "metadata": {},
     "output_type": "execute_result"
    }
   ],
   "source": [
    "%%sql\n",
    "DROP TABLE IF EXISTS deputados_orgaos_camara;\n",
    "\n",
    "CREATE TABLE deputados_orgaos_camara AS\n",
    "WITH base AS (\n",
    "  SELECT\n",
    "    TRY_CAST(payload_json AS JSON) AS j,\n",
    "    year AS year_snapshot,\n",
    "    id AS id_deputado\n",
    "  FROM bronze_camara_deputados_orgaos\n",
    "),\n",
    "exploded AS (\n",
    "  SELECT\n",
    "    CAST(json_extract_string(e.value, '$.idOrgao') AS INTEGER) AS id_orgao,\n",
    "    CAST(json_extract_string(e.value, '$.codTitulo') AS INTEGER) AS cod_titulo,\n",
    "    CAST(json_extract_string(e.value, '$.dataInicio') AS DATETIME) AS data_inicio,\n",
    "    CAST(json_extract_string(e.value, '$.dataFim') AS DATETIME) AS data_fim,\n",
    "    CAST(b.id_deputado AS BIGINT) AS id_deputado,\n",
    "    b.year_snapshot\n",
    "  FROM base b\n",
    "  CROSS JOIN json_each(b.j, '$.dados') AS e\n",
    "),\n",
    "numbered AS (\n",
    "    SELECT\n",
    "        ROW_NUMBER() OVER () AS id_deputado_orgao,\n",
    "        id_deputado,\n",
    "        id_orgao,\n",
    "        cod_titulo,\n",
    "        data_inicio,\n",
    "        data_fim,\n",
    "        year_snapshot\n",
    "    FROM exploded\n",
    ")\n",
    "SELECT *\n",
    "FROM numbered;"
   ]
  },
  {
   "cell_type": "markdown",
   "id": "63c77b36",
   "metadata": {},
   "source": [
    "### 2.3.5 Eventos e órgaos"
   ]
  },
  {
   "cell_type": "code",
   "execution_count": 242,
   "id": "bc2d239d",
   "metadata": {
    "vscode": {
     "languageId": "sql"
    }
   },
   "outputs": [
    {
     "data": {
      "text/html": [
       "<span style=\"None\">Running query in &#x27;duck&#x27;</span>"
      ],
      "text/plain": [
       "Running query in 'duck'"
      ]
     },
     "metadata": {},
     "output_type": "display_data"
    },
    {
     "data": {
      "text/html": [
       "<table>\n",
       "    <thead>\n",
       "        <tr>\n",
       "            <th>n</th>\n",
       "        </tr>\n",
       "    </thead>\n",
       "    <tbody>\n",
       "        <tr>\n",
       "            <td>11759</td>\n",
       "        </tr>\n",
       "    </tbody>\n",
       "</table>"
      ],
      "text/plain": [
       "+-------+\n",
       "|   n   |\n",
       "+-------+\n",
       "| 11759 |\n",
       "+-------+"
      ]
     },
     "execution_count": 242,
     "metadata": {},
     "output_type": "execute_result"
    }
   ],
   "source": [
    "%%sql\n",
    "CREATE OR REPLACE VIEW bronze_camara_eventos_orgaos AS\n",
    "SELECT * FROM parquet_scan(\"data/bronze/snapshots/bronze-2020-2024-v2/camara/eventos/orgaos/year=*/part-*.parquet\")\n",
    "WHERE source = 'camara' AND entity = 'eventos/orgaos';\n",
    "\n",
    "SELECT COUNT(*) AS n FROM bronze_camara_eventos_orgaos;"
   ]
  },
  {
   "cell_type": "code",
   "execution_count": 243,
   "id": "6397d364",
   "metadata": {
    "vscode": {
     "languageId": "sql"
    }
   },
   "outputs": [
    {
     "data": {
      "text/html": [
       "<span style=\"None\">Running query in &#x27;duck&#x27;</span>"
      ],
      "text/plain": [
       "Running query in 'duck'"
      ]
     },
     "metadata": {},
     "output_type": "display_data"
    },
    {
     "data": {
      "text/html": [
       "<table>\n",
       "    <thead>\n",
       "        <tr>\n",
       "            <th>Count</th>\n",
       "        </tr>\n",
       "    </thead>\n",
       "    <tbody>\n",
       "        <tr>\n",
       "            <td>12118</td>\n",
       "        </tr>\n",
       "    </tbody>\n",
       "</table>"
      ],
      "text/plain": [
       "+-------+\n",
       "| Count |\n",
       "+-------+\n",
       "| 12118 |\n",
       "+-------+"
      ]
     },
     "execution_count": 243,
     "metadata": {},
     "output_type": "execute_result"
    }
   ],
   "source": [
    "%%sql\n",
    "DROP TABLE IF EXISTS eventos_orgaos_camara;\n",
    "\n",
    "CREATE TABLE eventos_orgaos_camara AS\n",
    "WITH base AS (\n",
    "  SELECT\n",
    "    TRY_CAST(payload_json AS JSON) AS j,\n",
    "    year AS year_snapshot,\n",
    "    id AS id_evento\n",
    "  FROM bronze_camara_eventos_orgaos\n",
    "),\n",
    "exploded AS (\n",
    "  SELECT\n",
    "    CAST(b.id_evento AS BIGINT) AS id_evento,\n",
    "    CAST(json_extract_string(e.value, '$.id') AS INTEGER) AS id_orgao,\n",
    "    b.year_snapshot\n",
    "  FROM base b\n",
    "  CROSS JOIN json_each(b.j, '$.dados') AS e\n",
    "),\n",
    "numbered AS (\n",
    "    SELECT \n",
    "        ROW_NUMBER() OVER () AS id_evento_orgao,\n",
    "        id_evento, id_orgao, year_snapshot\n",
    "    FROM exploded\n",
    ")\n",
    "SELECT * FROM numbered;"
   ]
  },
  {
   "cell_type": "markdown",
   "id": "905e9a8f",
   "metadata": {},
   "source": [
    "### 2.3.6 Eventos e pautas"
   ]
  },
  {
   "cell_type": "code",
   "execution_count": 244,
   "id": "b94e1ca8",
   "metadata": {
    "vscode": {
     "languageId": "sql"
    }
   },
   "outputs": [
    {
     "data": {
      "text/html": [
       "<span style=\"None\">Running query in &#x27;duck&#x27;</span>"
      ],
      "text/plain": [
       "Running query in 'duck'"
      ]
     },
     "metadata": {},
     "output_type": "display_data"
    },
    {
     "data": {
      "text/html": [
       "<table>\n",
       "    <thead>\n",
       "        <tr>\n",
       "            <th>n</th>\n",
       "        </tr>\n",
       "    </thead>\n",
       "    <tbody>\n",
       "        <tr>\n",
       "            <td>11759</td>\n",
       "        </tr>\n",
       "    </tbody>\n",
       "</table>"
      ],
      "text/plain": [
       "+-------+\n",
       "|   n   |\n",
       "+-------+\n",
       "| 11759 |\n",
       "+-------+"
      ]
     },
     "execution_count": 244,
     "metadata": {},
     "output_type": "execute_result"
    }
   ],
   "source": [
    "%%sql\n",
    "CREATE OR REPLACE VIEW bronze_camara_eventos_pauta AS\n",
    "SELECT * FROM parquet_scan(\"data/bronze/snapshots/bronze-2020-2024-v2/camara/eventos/pauta/year=*/part-*.parquet\")\n",
    "WHERE source = 'camara' AND entity = 'eventos/pauta';\n",
    "\n",
    "SELECT COUNT(*) AS n FROM bronze_camara_eventos_pauta;"
   ]
  },
  {
   "cell_type": "code",
   "execution_count": 245,
   "id": "60ac73d6",
   "metadata": {},
   "outputs": [],
   "source": [
    "with tempfile.NamedTemporaryFile() as tf:\n",
    "    paths = glob(\"data/bronze/snapshots/bronze-2020-2024-v2/camara/eventos/pauta/year=*/part-*.parquet\")\n",
    "    table = pq.read_table(paths)\n",
    "    df = table.to_pandas()\n",
    "\n",
    "    exploded_rows = []\n",
    "    for _, row in df.iterrows():\n",
    "        payload = json.loads(row[\"payload_json\"])\n",
    "        for item in payload[\"dados\"]:\n",
    "            exploded_rows.append({\n",
    "                \"id_evento\": row[\"id\"],\n",
    "                \"cod_regime\": item.get(\"codRegime\"),\n",
    "                \"ordem\": item.get(\"ordem\"),\n",
    "                \"id_proposicao\": (item.get(\"proposicao_\", {}) or {}).get(\"id\"),\n",
    "                \"id_relator\": (item.get(\"relator\") or {}).get(\"id\") if item.get(\"relator\") else None,\n",
    "                \"year_snapshot\": row[\"year\"],\n",
    "            })\n",
    "\n",
    "    exploded_df = pd.DataFrame(exploded_rows)\n",
    "    exploded_df.to_csv(tf.name, index=False)\n",
    "\n",
    "    conn.execute(\"\"\"\n",
    "        DROP TABLE IF EXISTS eventos_pauta_camara;\n",
    "\n",
    "        -- Create table with surrogate PK\n",
    "        CREATE TABLE eventos_pauta_camara (\n",
    "            id_pauta BIGINT PRIMARY KEY,\n",
    "            id_evento BIGINT,\n",
    "            cod_regime TEXT,\n",
    "            ordem INTEGER,\n",
    "            id_proposicao BIGINT,\n",
    "            id_relator BIGINT,\n",
    "            year_snapshot INTEGER\n",
    "        );\n",
    "\n",
    "        -- Deterministic incremental ID via ROW_NUMBER\n",
    "        INSERT INTO eventos_pauta_camara\n",
    "        SELECT\n",
    "            ROW_NUMBER() OVER (\n",
    "                ORDER BY\n",
    "                    CAST(id_evento AS BIGINT),\n",
    "                    CAST(ordem AS INTEGER),\n",
    "                    CAST(id_proposicao AS BIGINT),\n",
    "                    COALESCE(TRY_CAST(id_relator AS BIGINT), -1),\n",
    "                    CAST(year_snapshot AS INTEGER)\n",
    "            ) AS id_pauta,\n",
    "            CAST(id_evento AS BIGINT)                     AS id_evento,\n",
    "            CAST(cod_regime AS TEXT)                      AS cod_regime,\n",
    "            CAST(ordem AS INTEGER)                        AS ordem,\n",
    "            CAST(id_proposicao AS BIGINT)                 AS id_proposicao,\n",
    "            TRY_CAST(id_relator AS BIGINT)                AS id_relator,   -- stays NULL if absent\n",
    "            CAST(year_snapshot AS INTEGER)                AS year_snapshot\n",
    "        FROM read_csv_auto($path, HEADER=TRUE);\n",
    "    \"\"\", {\"path\": tf.name})\n"
   ]
  },
  {
   "cell_type": "markdown",
   "id": "a78e400b",
   "metadata": {},
   "source": [
    "### 2.3.7 Legislaturas e líderes"
   ]
  },
  {
   "cell_type": "code",
   "execution_count": 246,
   "id": "f5243c4f",
   "metadata": {},
   "outputs": [],
   "source": [
    "with tempfile.NamedTemporaryFile() as tf:\n",
    "    paths = glob(\"data/bronze/snapshots/bronze-2020-2024-v2/camara/legislaturas/lideres/year=*/part-*.parquet\")\n",
    "    table = pq.read_table(paths)\n",
    "    df = table.to_pandas()\n",
    "\n",
    "    exploded_rows = []\n",
    "    for _, row in df.iterrows():\n",
    "        payload = json.loads(row[\"payload_json\"])\n",
    "        for item in payload[\"dados\"]:\n",
    "            exploded_rows.append({\n",
    "                \"id_legislatura\": row[\"id\"],\n",
    "                \"nome_bancada\": item[\"bancada\"][\"nome\"],\n",
    "                \"tipo_bancada\": item[\"bancada\"][\"tipo\"],\n",
    "                \"uri_bancada\": item[\"bancada\"][\"uri\"],\n",
    "                \"data_inicio\": item[\"dataInicio\"],\n",
    "                \"data_fim\": item[\"dataFim\"],\n",
    "                \"id_deputado\": item[\"parlamentar\"][\"id\"],\n",
    "                \"titulo\": item[\"titulo\"],\n",
    "                \"year_snapshot\": row[\"year\"],\n",
    "            })\n",
    "\n",
    "    exploded_df = pd.DataFrame(exploded_rows)\n",
    "    exploded_df.to_csv(tf.name, index=False)\n",
    "\n",
    "    conn.execute(\"\"\"\n",
    "        DROP TABLE IF EXISTS legislaturas_lideres_camara;\n",
    "\n",
    "        -- Create with surrogate PK\n",
    "        CREATE TABLE legislaturas_lideres_camara (\n",
    "            id_lider BIGINT PRIMARY KEY,\n",
    "            id_legislatura BIGINT,\n",
    "            nome_bancada TEXT,\n",
    "            tipo_bancada TEXT,\n",
    "            uri_bancada TEXT,\n",
    "            data_inicio TIMESTAMP,\n",
    "            data_fim TIMESTAMP,\n",
    "            id_deputado BIGINT,\n",
    "            titulo TEXT,\n",
    "            year_snapshot INTEGER\n",
    "        );\n",
    "\n",
    "        -- Insert with deterministic incremental ID\n",
    "        INSERT INTO legislaturas_lideres_camara\n",
    "        SELECT\n",
    "            ROW_NUMBER() OVER (\n",
    "                ORDER BY\n",
    "                    CAST(id_legislatura AS BIGINT),\n",
    "                    COALESCE(nome_bancada, ''),\n",
    "                    COALESCE(tipo_bancada, ''),\n",
    "                    COALESCE(id_deputado, -1),\n",
    "                    CAST(year_snapshot AS INTEGER)\n",
    "            ) AS id_lider,\n",
    "            CAST(id_legislatura AS BIGINT)         AS id_legislatura,\n",
    "            CAST(nome_bancada AS TEXT)             AS nome_bancada,\n",
    "            CAST(tipo_bancada AS TEXT)             AS tipo_bancada,\n",
    "            CAST(uri_bancada AS TEXT)              AS uri_bancada,\n",
    "            CAST(data_inicio AS TIMESTAMP)         AS data_inicio,\n",
    "            CAST(data_fim AS TIMESTAMP)            AS data_fim,\n",
    "            CAST(id_deputado AS BIGINT)            AS id_deputado,\n",
    "            CAST(titulo AS TEXT)                   AS titulo,\n",
    "            CAST(year_snapshot AS INTEGER)         AS year_snapshot\n",
    "        FROM read_csv_auto($path, HEADER=TRUE);\n",
    "    \"\"\", {\"path\": tf.name})\n"
   ]
  },
  {
   "cell_type": "markdown",
   "id": "d5a068da",
   "metadata": {},
   "source": [
    "### 2.3.8 Legislaturas e mesa"
   ]
  },
  {
   "cell_type": "code",
   "execution_count": 247,
   "id": "9b10be4f",
   "metadata": {
    "vscode": {
     "languageId": "sql"
    }
   },
   "outputs": [
    {
     "data": {
      "text/html": [
       "<span style=\"None\">Running query in &#x27;duck&#x27;</span>"
      ],
      "text/plain": [
       "Running query in 'duck'"
      ]
     },
     "metadata": {},
     "output_type": "display_data"
    },
    {
     "data": {
      "text/html": [
       "<table>\n",
       "    <thead>\n",
       "        <tr>\n",
       "            <th>n</th>\n",
       "        </tr>\n",
       "    </thead>\n",
       "    <tbody>\n",
       "        <tr>\n",
       "            <td>57</td>\n",
       "        </tr>\n",
       "    </tbody>\n",
       "</table>"
      ],
      "text/plain": [
       "+----+\n",
       "| n  |\n",
       "+----+\n",
       "| 57 |\n",
       "+----+"
      ]
     },
     "execution_count": 247,
     "metadata": {},
     "output_type": "execute_result"
    }
   ],
   "source": [
    "\n",
    "%%sql\n",
    "CREATE OR REPLACE VIEW bronze_camara_legislaturas_mesa AS\n",
    "SELECT * FROM parquet_scan(\"data/bronze/snapshots/bronze-2020-2024-v2/camara/legislaturas/mesa/year=*/part-*.parquet\")\n",
    "WHERE source = 'camara' AND entity = 'legislaturas/mesa';\n",
    "\n",
    "SELECT COUNT(*) AS n FROM bronze_camara_legislaturas_mesa;"
   ]
  },
  {
   "cell_type": "code",
   "execution_count": 248,
   "id": "576823df",
   "metadata": {
    "vscode": {
     "languageId": "sql"
    }
   },
   "outputs": [
    {
     "data": {
      "text/html": [
       "<span style=\"None\">Running query in &#x27;duck&#x27;</span>"
      ],
      "text/plain": [
       "Running query in 'duck'"
      ]
     },
     "metadata": {},
     "output_type": "display_data"
    },
    {
     "data": {
      "text/html": [
       "<table>\n",
       "    <thead>\n",
       "        <tr>\n",
       "            <th>Count</th>\n",
       "        </tr>\n",
       "    </thead>\n",
       "    <tbody>\n",
       "        <tr>\n",
       "            <td>144</td>\n",
       "        </tr>\n",
       "    </tbody>\n",
       "</table>"
      ],
      "text/plain": [
       "+-------+\n",
       "| Count |\n",
       "+-------+\n",
       "|  144  |\n",
       "+-------+"
      ]
     },
     "execution_count": 248,
     "metadata": {},
     "output_type": "execute_result"
    }
   ],
   "source": [
    "\n",
    "%%sql\n",
    "DROP TABLE IF EXISTS legislaturas_mesa_camara;\n",
    "CREATE TABLE legislaturas_mesa_camara AS\n",
    "WITH base AS (\n",
    "    SELECT TRY_CAST(payload_json AS JSON) as j, \n",
    "    year AS year_snapshot,\n",
    "    id AS id_legislatura,\n",
    "    FROM bronze_camara_legislaturas_mesa\n",
    "),\n",
    "exploded as (\n",
    "    SELECT\n",
    "        CAST(base.id_legislatura AS BIGINT) AS id_legislatura,\n",
    "        -- id\n",
    "        CAST(jget1(elem.value, '$.id') AS BIGINT) AS id_deputado,\n",
    "        -- codTitulo\n",
    "        jget1(elem.value, '$.codTitulo') AS cod_titulo,\n",
    "        -- dataInicio\n",
    "        CAST(jget1(elem.value, '$.dataInicio') AS DATE) AS data_inicio,\n",
    "        -- dataFim\n",
    "        CAST(jget1(elem.value, '$.dataFim') AS DATE) AS data_fim,\n",
    "        year_snapshot,\n",
    "    FROM base\n",
    "    CROSS JOIN json_each(json_extract(j, '$.dados')) AS elem\n",
    "),\n",
    "numbered AS (\n",
    "    SELECT\n",
    "        ROW_NUMBER() OVER () AS id_legislatura_mesa,\n",
    "        id_legislatura,\n",
    "        id_deputado,\n",
    "        cod_titulo,\n",
    "        data_inicio,\n",
    "        data_fim,\n",
    "        year_snapshot\n",
    "    FROM exploded\n",
    ")\n",
    "SELECT *\n",
    "FROM numbered\n",
    "WHERE id_legislatura IS NOT NULL AND id_deputado IS NOT NULL\n",
    "ORDER BY id_legislatura, cod_titulo;\n",
    "\n",
    "\n"
   ]
  },
  {
   "cell_type": "markdown",
   "id": "0f6288ad",
   "metadata": {},
   "source": [
    "### 2.3.9 Partidos e líderes"
   ]
  },
  {
   "cell_type": "code",
   "execution_count": 249,
   "id": "089dad94",
   "metadata": {
    "vscode": {
     "languageId": "sql"
    }
   },
   "outputs": [
    {
     "data": {
      "text/html": [
       "<span style=\"None\">Running query in &#x27;duck&#x27;</span>"
      ],
      "text/plain": [
       "Running query in 'duck'"
      ]
     },
     "metadata": {},
     "output_type": "display_data"
    },
    {
     "data": {
      "text/html": [
       "<table>\n",
       "    <thead>\n",
       "        <tr>\n",
       "            <th>n</th>\n",
       "        </tr>\n",
       "    </thead>\n",
       "    <tbody>\n",
       "        <tr>\n",
       "            <td>20</td>\n",
       "        </tr>\n",
       "    </tbody>\n",
       "</table>"
      ],
      "text/plain": [
       "+----+\n",
       "| n  |\n",
       "+----+\n",
       "| 20 |\n",
       "+----+"
      ]
     },
     "execution_count": 249,
     "metadata": {},
     "output_type": "execute_result"
    }
   ],
   "source": [
    "%%sql\n",
    "CREATE OR REPLACE VIEW bronze_partidos_lideres AS\n",
    "SELECT * FROM parquet_scan(\"data/bronze/snapshots/bronze-2020-2024-v2/camara/partidos/lideres/year=*/part-*.parquet\")\n",
    "WHERE source = 'camara' AND entity = 'partidos/lideres';\n",
    "\n",
    "SELECT COUNT(*) AS n FROM bronze_partidos_lideres;\n"
   ]
  },
  {
   "cell_type": "code",
   "execution_count": 250,
   "id": "95d70577",
   "metadata": {
    "vscode": {
     "languageId": "sql"
    }
   },
   "outputs": [
    {
     "data": {
      "text/html": [
       "<span style=\"None\">Running query in &#x27;duck&#x27;</span>"
      ],
      "text/plain": [
       "Running query in 'duck'"
      ]
     },
     "metadata": {},
     "output_type": "display_data"
    },
    {
     "data": {
      "text/html": [
       "<table>\n",
       "    <thead>\n",
       "        <tr>\n",
       "            <th>Success</th>\n",
       "        </tr>\n",
       "    </thead>\n",
       "    <tbody>\n",
       "    </tbody>\n",
       "</table>"
      ],
      "text/plain": [
       "+---------+\n",
       "| Success |\n",
       "+---------+\n",
       "+---------+"
      ]
     },
     "execution_count": 250,
     "metadata": {},
     "output_type": "execute_result"
    }
   ],
   "source": [
    "%%sql\n",
    "DROP TABLE IF EXISTS partidos_lideres_camara;\n",
    "\n",
    "CREATE TABLE partidos_lideres_camara AS\n",
    "WITH base AS (\n",
    "  SELECT\n",
    "    TRY_CAST(payload_json AS JSON) AS j,\n",
    "    year AS year_snapshot,\n",
    "    id AS id_partido,\n",
    "  FROM bronze_partidos_lideres\n",
    "),\n",
    "exploded AS (\n",
    "  SELECT\n",
    "    CAST(b.id_partido AS BIGINT) AS id_partido,\n",
    "      -- codTitulo\n",
    "    json_extract_string(e.value, '$.codTitulo') AS cod_titulo,\n",
    "    -- dataInicio\n",
    "    CAST(json_extract_string(e.value, '$.dataInicio') AS DATE) AS data_inicio,\n",
    "    -- dataFim\n",
    "    CAST(json_extract_string(e.value, '$.dataFim') AS DATE) AS data_fim,\n",
    "    -- id (deputado)\n",
    "    CAST(json_extract_string(e.value, '$.id') AS BIGINT) AS id_deputado,\n",
    "    -- year\n",
    "    b.year_snapshot,\n",
    "  FROM base b\n",
    "  CROSS JOIN json_each(b.j, '$.dados') AS e\n",
    "),\n",
    "numbered AS (\n",
    "    SELECT\n",
    "        ROW_NUMBER() OVER () AS id_partido_lider,\n",
    "        id_partido,\n",
    "        cod_titulo,\n",
    "        data_inicio,\n",
    "        data_fim,\n",
    "        id_deputado,\n",
    "        year_snapshot\n",
    "    FROM exploded\n",
    ")\n",
    "SELECT *\n",
    "FROM numbered;\n",
    "DROP VIEW IF EXISTS bronze_partidos_lideres;"
   ]
  },
  {
   "cell_type": "markdown",
   "id": "902efc54",
   "metadata": {},
   "source": [
    "### 2.3.10 Partidos e membros"
   ]
  },
  {
   "cell_type": "code",
   "execution_count": 251,
   "id": "f0648192",
   "metadata": {
    "vscode": {
     "languageId": "sql"
    }
   },
   "outputs": [
    {
     "data": {
      "text/html": [
       "<span style=\"None\">Running query in &#x27;duck&#x27;</span>"
      ],
      "text/plain": [
       "Running query in 'duck'"
      ]
     },
     "metadata": {},
     "output_type": "display_data"
    },
    {
     "data": {
      "text/html": [
       "<table>\n",
       "    <thead>\n",
       "        <tr>\n",
       "            <th>n</th>\n",
       "        </tr>\n",
       "    </thead>\n",
       "    <tbody>\n",
       "        <tr>\n",
       "            <td>20</td>\n",
       "        </tr>\n",
       "    </tbody>\n",
       "</table>"
      ],
      "text/plain": [
       "+----+\n",
       "| n  |\n",
       "+----+\n",
       "| 20 |\n",
       "+----+"
      ]
     },
     "execution_count": 251,
     "metadata": {},
     "output_type": "execute_result"
    }
   ],
   "source": [
    "%%sql\n",
    "CREATE OR REPLACE VIEW bronze_partidos_membros AS\n",
    "SELECT * FROM parquet_scan(\"data/bronze/snapshots/bronze-2020-2024-v2/camara/partidos/membros/year=*/part-*.parquet\")\n",
    "WHERE source = 'camara' AND entity = 'partidos/membros';\n",
    "\n",
    "SELECT COUNT(*) AS n FROM bronze_partidos_membros;"
   ]
  },
  {
   "cell_type": "code",
   "execution_count": 252,
   "id": "e7441d27",
   "metadata": {
    "vscode": {
     "languageId": "sql"
    }
   },
   "outputs": [
    {
     "data": {
      "text/html": [
       "<span style=\"None\">Running query in &#x27;duck&#x27;</span>"
      ],
      "text/plain": [
       "Running query in 'duck'"
      ]
     },
     "metadata": {},
     "output_type": "display_data"
    },
    {
     "data": {
      "text/html": [
       "<table>\n",
       "    <thead>\n",
       "        <tr>\n",
       "            <th>Success</th>\n",
       "        </tr>\n",
       "    </thead>\n",
       "    <tbody>\n",
       "    </tbody>\n",
       "</table>"
      ],
      "text/plain": [
       "+---------+\n",
       "| Success |\n",
       "+---------+\n",
       "+---------+"
      ]
     },
     "execution_count": 252,
     "metadata": {},
     "output_type": "execute_result"
    }
   ],
   "source": [
    "%%sql\n",
    "DROP TABLE IF EXISTS partidos_membros_camara;\n",
    "\n",
    "CREATE TABLE partidos_membros_camara AS\n",
    "WITH base AS (\n",
    "  SELECT\n",
    "    TRY_CAST(payload_json AS JSON) AS j,\n",
    "    year AS year_snapshot,\n",
    "    id AS id_partido,\n",
    "  FROM bronze_partidos_membros\n",
    "),\n",
    "exploded AS (\n",
    "  SELECT\n",
    "    CAST(b.id_partido AS BIGINT) AS id_partido,\n",
    "    CAST(json_extract_string(e.value, '$.id') AS BIGINT) AS id_deputado,\n",
    "    CAST(json_extract_string(e.value, '$.id_legislatura') AS INTEGER) AS id_legislatura,\n",
    "    b.year_snapshot,\n",
    "  FROM base b\n",
    "  CROSS JOIN json_each(b.j, '$.dados') AS e\n",
    "),\n",
    "numbered AS (\n",
    "    SELECT\n",
    "        ROW_NUMBER() OVER () AS id_partido_membro,\n",
    "        id_partido,\n",
    "        id_deputado,\n",
    "        id_legislatura,\n",
    "        year_snapshot\n",
    "    FROM exploded\n",
    ")\n",
    "SELECT *\n",
    "FROM numbered;\n",
    "DROP VIEW IF EXISTS bronze_partidos_membros;"
   ]
  },
  {
   "cell_type": "markdown",
   "id": "7a64156c",
   "metadata": {},
   "source": [
    "# 3. Regularização\n",
    "\n",
    "## 3.1. Normalização de PKs\n",
    "\n",
    "Aqui vamos determinar as chaves primárias (PK) de cada tabela, deduplicando onde necessário."
   ]
  },
  {
   "cell_type": "markdown",
   "id": "a057371e",
   "metadata": {},
   "source": [
    "### 3.1.2 Blocos"
   ]
  },
  {
   "cell_type": "code",
   "execution_count": 253,
   "id": "44722596",
   "metadata": {
    "vscode": {
     "languageId": "sql"
    }
   },
   "outputs": [
    {
     "data": {
      "text/html": [
       "<span style=\"None\">Running query in &#x27;duck&#x27;</span>"
      ],
      "text/plain": [
       "Running query in 'duck'"
      ]
     },
     "metadata": {},
     "output_type": "display_data"
    },
    {
     "data": {
      "text/html": [
       "<table>\n",
       "    <thead>\n",
       "        <tr>\n",
       "            <th>Success</th>\n",
       "        </tr>\n",
       "    </thead>\n",
       "    <tbody>\n",
       "    </tbody>\n",
       "</table>"
      ],
      "text/plain": [
       "+---------+\n",
       "| Success |\n",
       "+---------+\n",
       "+---------+"
      ]
     },
     "execution_count": 253,
     "metadata": {},
     "output_type": "execute_result"
    }
   ],
   "source": [
    "%%sql\n",
    "CREATE TABLE blocos_camara_dedup AS\n",
    "SELECT *\n",
    "FROM (\n",
    "    SELECT *,\n",
    "           ROW_NUMBER() OVER (PARTITION BY id_bloco ORDER BY year_snapshot DESC) AS rn\n",
    "    FROM blocos_camara\n",
    ")\n",
    "WHERE rn = 1;\n",
    "\n",
    "DROP TABLE blocos_camara;\n",
    "ALTER TABLE blocos_camara_dedup RENAME TO blocos_camara;"
   ]
  },
  {
   "cell_type": "code",
   "execution_count": 254,
   "id": "31d53c6f",
   "metadata": {
    "vscode": {
     "languageId": "sql"
    }
   },
   "outputs": [
    {
     "data": {
      "text/html": [
       "<span style=\"None\">Running query in &#x27;duck&#x27;</span>"
      ],
      "text/plain": [
       "Running query in 'duck'"
      ]
     },
     "metadata": {},
     "output_type": "display_data"
    },
    {
     "data": {
      "text/html": [
       "<table>\n",
       "    <thead>\n",
       "        <tr>\n",
       "            <th>Success</th>\n",
       "        </tr>\n",
       "    </thead>\n",
       "    <tbody>\n",
       "    </tbody>\n",
       "</table>"
      ],
      "text/plain": [
       "+---------+\n",
       "| Success |\n",
       "+---------+\n",
       "+---------+"
      ]
     },
     "execution_count": 254,
     "metadata": {},
     "output_type": "execute_result"
    }
   ],
   "source": [
    "%%sql\n",
    "ALTER TABLE blocos_camara\n",
    "    ALTER COLUMN id_bloco TYPE BIGINT;\n",
    "\n",
    "ALTER TABLE blocos_camara\n",
    "    ADD CONSTRAINT pk_blocos PRIMARY KEY (id_bloco);"
   ]
  },
  {
   "cell_type": "markdown",
   "id": "d307eba0",
   "metadata": {},
   "source": [
    "### 3.1.3 Deputados"
   ]
  },
  {
   "cell_type": "code",
   "execution_count": 255,
   "id": "c6913b59",
   "metadata": {
    "vscode": {
     "languageId": "sql"
    }
   },
   "outputs": [
    {
     "data": {
      "text/html": [
       "<span style=\"None\">Running query in &#x27;duck&#x27;</span>"
      ],
      "text/plain": [
       "Running query in 'duck'"
      ]
     },
     "metadata": {},
     "output_type": "display_data"
    },
    {
     "data": {
      "text/html": [
       "<table>\n",
       "    <thead>\n",
       "        <tr>\n",
       "            <th>Success</th>\n",
       "        </tr>\n",
       "    </thead>\n",
       "    <tbody>\n",
       "    </tbody>\n",
       "</table>"
      ],
      "text/plain": [
       "+---------+\n",
       "| Success |\n",
       "+---------+\n",
       "+---------+"
      ]
     },
     "execution_count": 255,
     "metadata": {},
     "output_type": "execute_result"
    }
   ],
   "source": [
    "%%sql\n",
    "CREATE TABLE deputados_camara_dedup AS\n",
    "SELECT *\n",
    "FROM (\n",
    "    SELECT *,\n",
    "           ROW_NUMBER() OVER (PARTITION BY id_deputado ORDER BY year_snapshot DESC) AS rn\n",
    "    FROM deputados_camara\n",
    ")\n",
    "WHERE rn = 1;\n",
    "\n",
    "DROP TABLE deputados_camara;\n",
    "ALTER TABLE deputados_camara_dedup RENAME TO deputados_camara;\n"
   ]
  },
  {
   "cell_type": "code",
   "execution_count": 256,
   "id": "8ca75f32",
   "metadata": {
    "vscode": {
     "languageId": "sql"
    }
   },
   "outputs": [
    {
     "data": {
      "text/html": [
       "<span style=\"None\">Running query in &#x27;duck&#x27;</span>"
      ],
      "text/plain": [
       "Running query in 'duck'"
      ]
     },
     "metadata": {},
     "output_type": "display_data"
    },
    {
     "data": {
      "text/html": [
       "<table>\n",
       "    <thead>\n",
       "        <tr>\n",
       "            <th>Success</th>\n",
       "        </tr>\n",
       "    </thead>\n",
       "    <tbody>\n",
       "    </tbody>\n",
       "</table>"
      ],
      "text/plain": [
       "+---------+\n",
       "| Success |\n",
       "+---------+\n",
       "+---------+"
      ]
     },
     "execution_count": 256,
     "metadata": {},
     "output_type": "execute_result"
    }
   ],
   "source": [
    "%%sql\n",
    "ALTER TABLE deputados_camara\n",
    "    ALTER COLUMN id_deputado TYPE BIGINT;\n",
    "\n",
    "ALTER TABLE deputados_camara\n",
    "    ADD CONSTRAINT pk_deputados PRIMARY KEY (id_deputado);"
   ]
  },
  {
   "cell_type": "markdown",
   "id": "bfffa111",
   "metadata": {
    "vscode": {
     "languageId": "sql"
    }
   },
   "source": [
    "### 3.1.4 Eventos"
   ]
  },
  {
   "cell_type": "code",
   "execution_count": 257,
   "id": "02e50eeb",
   "metadata": {
    "vscode": {
     "languageId": "sql"
    }
   },
   "outputs": [
    {
     "data": {
      "text/html": [
       "<span style=\"None\">Running query in &#x27;duck&#x27;</span>"
      ],
      "text/plain": [
       "Running query in 'duck'"
      ]
     },
     "metadata": {},
     "output_type": "display_data"
    },
    {
     "data": {
      "text/html": [
       "<table>\n",
       "    <thead>\n",
       "        <tr>\n",
       "            <th>Success</th>\n",
       "        </tr>\n",
       "    </thead>\n",
       "    <tbody>\n",
       "    </tbody>\n",
       "</table>"
      ],
      "text/plain": [
       "+---------+\n",
       "| Success |\n",
       "+---------+\n",
       "+---------+"
      ]
     },
     "execution_count": 257,
     "metadata": {},
     "output_type": "execute_result"
    }
   ],
   "source": [
    "%%sql\n",
    "CREATE TABLE eventos_camara_dedup AS\n",
    "SELECT *\n",
    "FROM (\n",
    "    SELECT *,\n",
    "           ROW_NUMBER() OVER (PARTITION BY id_evento ORDER BY year_snapshot DESC) AS rn\n",
    "    FROM eventos_camara\n",
    ")\n",
    "WHERE rn = 1;\n",
    "\n",
    "DROP TABLE eventos_camara;\n",
    "ALTER TABLE eventos_camara_dedup RENAME TO eventos_camara;"
   ]
  },
  {
   "cell_type": "code",
   "execution_count": 258,
   "id": "e0fa267b",
   "metadata": {
    "vscode": {
     "languageId": "sql"
    }
   },
   "outputs": [
    {
     "data": {
      "text/html": [
       "<span style=\"None\">Running query in &#x27;duck&#x27;</span>"
      ],
      "text/plain": [
       "Running query in 'duck'"
      ]
     },
     "metadata": {},
     "output_type": "display_data"
    },
    {
     "data": {
      "text/html": [
       "<table>\n",
       "    <thead>\n",
       "        <tr>\n",
       "            <th>Success</th>\n",
       "        </tr>\n",
       "    </thead>\n",
       "    <tbody>\n",
       "    </tbody>\n",
       "</table>"
      ],
      "text/plain": [
       "+---------+\n",
       "| Success |\n",
       "+---------+\n",
       "+---------+"
      ]
     },
     "execution_count": 258,
     "metadata": {},
     "output_type": "execute_result"
    }
   ],
   "source": [
    "%%sql\n",
    "ALTER TABLE eventos_camara\n",
    "    ALTER COLUMN id_evento TYPE BIGINT;\n",
    "\n",
    "ALTER TABLE eventos_camara\n",
    "    ADD CONSTRAINT pk_eventos PRIMARY KEY (id_evento);"
   ]
  },
  {
   "cell_type": "markdown",
   "id": "e19b3ea9",
   "metadata": {},
   "source": [
    "### 3.1.5 Frentes"
   ]
  },
  {
   "cell_type": "code",
   "execution_count": 259,
   "id": "163523fe",
   "metadata": {
    "vscode": {
     "languageId": "sql"
    }
   },
   "outputs": [
    {
     "data": {
      "text/html": [
       "<span style=\"None\">Running query in &#x27;duck&#x27;</span>"
      ],
      "text/plain": [
       "Running query in 'duck'"
      ]
     },
     "metadata": {},
     "output_type": "display_data"
    },
    {
     "data": {
      "text/html": [
       "<table>\n",
       "    <thead>\n",
       "        <tr>\n",
       "            <th>Success</th>\n",
       "        </tr>\n",
       "    </thead>\n",
       "    <tbody>\n",
       "    </tbody>\n",
       "</table>"
      ],
      "text/plain": [
       "+---------+\n",
       "| Success |\n",
       "+---------+\n",
       "+---------+"
      ]
     },
     "execution_count": 259,
     "metadata": {},
     "output_type": "execute_result"
    }
   ],
   "source": [
    "%%sql\n",
    "CREATE TABLE frentes_camara_dedup AS\n",
    "SELECT *\n",
    "FROM (\n",
    "    SELECT *,\n",
    "           ROW_NUMBER() OVER (PARTITION BY id_frente ORDER BY year_snapshot DESC) AS rn\n",
    "    FROM frentes_camara\n",
    ")\n",
    "WHERE rn = 1;\n",
    "\n",
    "DROP TABLE frentes_camara;\n",
    "ALTER TABLE frentes_camara_dedup RENAME TO frentes_camara;"
   ]
  },
  {
   "cell_type": "code",
   "execution_count": 260,
   "id": "b1e83c0d",
   "metadata": {
    "vscode": {
     "languageId": "sql"
    }
   },
   "outputs": [
    {
     "data": {
      "text/html": [
       "<span style=\"None\">Running query in &#x27;duck&#x27;</span>"
      ],
      "text/plain": [
       "Running query in 'duck'"
      ]
     },
     "metadata": {},
     "output_type": "display_data"
    },
    {
     "data": {
      "text/html": [
       "<table>\n",
       "    <thead>\n",
       "        <tr>\n",
       "            <th>Success</th>\n",
       "        </tr>\n",
       "    </thead>\n",
       "    <tbody>\n",
       "    </tbody>\n",
       "</table>"
      ],
      "text/plain": [
       "+---------+\n",
       "| Success |\n",
       "+---------+\n",
       "+---------+"
      ]
     },
     "execution_count": 260,
     "metadata": {},
     "output_type": "execute_result"
    }
   ],
   "source": [
    "%%sql\n",
    "ALTER TABLE frentes_camara\n",
    "    ALTER COLUMN id_frente TYPE BIGINT;\n",
    "\n",
    "ALTER TABLE frentes_camara\n",
    "    ADD CONSTRAINT pk_frentes PRIMARY KEY (id_frente);"
   ]
  },
  {
   "cell_type": "markdown",
   "id": "ed086baa",
   "metadata": {},
   "source": [
    "### 3.1.6 Legislaturas"
   ]
  },
  {
   "cell_type": "code",
   "execution_count": 261,
   "id": "4bc1042e",
   "metadata": {
    "vscode": {
     "languageId": "sql"
    }
   },
   "outputs": [
    {
     "data": {
      "text/html": [
       "<span style=\"None\">Running query in &#x27;duck&#x27;</span>"
      ],
      "text/plain": [
       "Running query in 'duck'"
      ]
     },
     "metadata": {},
     "output_type": "display_data"
    },
    {
     "data": {
      "text/html": [
       "<table>\n",
       "    <thead>\n",
       "        <tr>\n",
       "            <th>Success</th>\n",
       "        </tr>\n",
       "    </thead>\n",
       "    <tbody>\n",
       "    </tbody>\n",
       "</table>"
      ],
      "text/plain": [
       "+---------+\n",
       "| Success |\n",
       "+---------+\n",
       "+---------+"
      ]
     },
     "execution_count": 261,
     "metadata": {},
     "output_type": "execute_result"
    }
   ],
   "source": [
    "%%sql\n",
    "CREATE TABLE legislaturas_camara_dedup AS\n",
    "SELECT *\n",
    "FROM (\n",
    "    SELECT *,\n",
    "           ROW_NUMBER() OVER (PARTITION BY id_legislatura ORDER BY year_snapshot DESC) AS rn\n",
    "    FROM legislaturas_camara\n",
    ")\n",
    "WHERE rn = 1;\n",
    "\n",
    "DROP TABLE legislaturas_camara;\n",
    "ALTER TABLE legislaturas_camara_dedup RENAME TO legislaturas_camara;"
   ]
  },
  {
   "cell_type": "code",
   "execution_count": 262,
   "id": "06ea033d",
   "metadata": {
    "vscode": {
     "languageId": "sql"
    }
   },
   "outputs": [
    {
     "data": {
      "text/html": [
       "<span style=\"None\">Running query in &#x27;duck&#x27;</span>"
      ],
      "text/plain": [
       "Running query in 'duck'"
      ]
     },
     "metadata": {},
     "output_type": "display_data"
    },
    {
     "data": {
      "text/html": [
       "<table>\n",
       "    <thead>\n",
       "        <tr>\n",
       "            <th>Success</th>\n",
       "        </tr>\n",
       "    </thead>\n",
       "    <tbody>\n",
       "    </tbody>\n",
       "</table>"
      ],
      "text/plain": [
       "+---------+\n",
       "| Success |\n",
       "+---------+\n",
       "+---------+"
      ]
     },
     "execution_count": 262,
     "metadata": {},
     "output_type": "execute_result"
    }
   ],
   "source": [
    "%%sql\n",
    "ALTER TABLE legislaturas_camara\n",
    "    ALTER COLUMN id_legislatura TYPE BIGINT;\n",
    "\n",
    "ALTER TABLE legislaturas_camara\n",
    "    ADD CONSTRAINT pk_legislaturas PRIMARY KEY (id_legislatura);"
   ]
  },
  {
   "cell_type": "markdown",
   "id": "5b245a42",
   "metadata": {},
   "source": [
    "### 3.1.7 Órgãos"
   ]
  },
  {
   "cell_type": "code",
   "execution_count": 263,
   "id": "83bec0ed",
   "metadata": {
    "vscode": {
     "languageId": "sql"
    }
   },
   "outputs": [
    {
     "data": {
      "text/html": [
       "<span style=\"None\">Running query in &#x27;duck&#x27;</span>"
      ],
      "text/plain": [
       "Running query in 'duck'"
      ]
     },
     "metadata": {},
     "output_type": "display_data"
    },
    {
     "data": {
      "text/html": [
       "<table>\n",
       "    <thead>\n",
       "        <tr>\n",
       "            <th>Success</th>\n",
       "        </tr>\n",
       "    </thead>\n",
       "    <tbody>\n",
       "    </tbody>\n",
       "</table>"
      ],
      "text/plain": [
       "+---------+\n",
       "| Success |\n",
       "+---------+\n",
       "+---------+"
      ]
     },
     "execution_count": 263,
     "metadata": {},
     "output_type": "execute_result"
    }
   ],
   "source": [
    "%%sql\n",
    "CREATE TABLE orgaos_camara_dedup AS\n",
    "SELECT *\n",
    "FROM (\n",
    "    SELECT *,\n",
    "           ROW_NUMBER() OVER (PARTITION BY id_orgao ORDER BY year_snapshot DESC) AS rn\n",
    "    FROM orgaos_camara\n",
    ")\n",
    "WHERE rn = 1;\n",
    "\n",
    "DROP TABLE orgaos_camara;\n",
    "ALTER TABLE orgaos_camara_dedup RENAME TO orgaos_camara;"
   ]
  },
  {
   "cell_type": "code",
   "execution_count": 264,
   "id": "271d8c2e",
   "metadata": {
    "vscode": {
     "languageId": "sql"
    }
   },
   "outputs": [
    {
     "data": {
      "text/html": [
       "<span style=\"None\">Running query in &#x27;duck&#x27;</span>"
      ],
      "text/plain": [
       "Running query in 'duck'"
      ]
     },
     "metadata": {},
     "output_type": "display_data"
    },
    {
     "data": {
      "text/html": [
       "<table>\n",
       "    <thead>\n",
       "        <tr>\n",
       "            <th>Success</th>\n",
       "        </tr>\n",
       "    </thead>\n",
       "    <tbody>\n",
       "    </tbody>\n",
       "</table>"
      ],
      "text/plain": [
       "+---------+\n",
       "| Success |\n",
       "+---------+\n",
       "+---------+"
      ]
     },
     "execution_count": 264,
     "metadata": {},
     "output_type": "execute_result"
    }
   ],
   "source": [
    "%%sql\n",
    "ALTER TABLE orgaos_camara\n",
    "    ALTER COLUMN id_orgao TYPE BIGINT;\n",
    "\n",
    "ALTER TABLE orgaos_camara\n",
    "    ADD CONSTRAINT pk_orgaos PRIMARY KEY (id_orgao);"
   ]
  },
  {
   "cell_type": "markdown",
   "id": "1bd0dd9c",
   "metadata": {
    "vscode": {
     "languageId": "sql"
    }
   },
   "source": [
    "### 3.1.8 Partidos"
   ]
  },
  {
   "cell_type": "code",
   "execution_count": 265,
   "id": "39b4ffad",
   "metadata": {
    "vscode": {
     "languageId": "sql"
    }
   },
   "outputs": [
    {
     "data": {
      "text/html": [
       "<span style=\"None\">Running query in &#x27;duck&#x27;</span>"
      ],
      "text/plain": [
       "Running query in 'duck'"
      ]
     },
     "metadata": {},
     "output_type": "display_data"
    },
    {
     "data": {
      "text/html": [
       "<table>\n",
       "    <thead>\n",
       "        <tr>\n",
       "            <th>Success</th>\n",
       "        </tr>\n",
       "    </thead>\n",
       "    <tbody>\n",
       "    </tbody>\n",
       "</table>"
      ],
      "text/plain": [
       "+---------+\n",
       "| Success |\n",
       "+---------+\n",
       "+---------+"
      ]
     },
     "execution_count": 265,
     "metadata": {},
     "output_type": "execute_result"
    }
   ],
   "source": [
    "\n",
    "\n",
    "%%sql\n",
    "CREATE TABLE partidos_camara_dedup AS\n",
    "SELECT *\n",
    "FROM (\n",
    "    SELECT *,\n",
    "           ROW_NUMBER() OVER (PARTITION BY id_partido ORDER BY year_snapshot DESC) AS rn\n",
    "    FROM partidos_camara\n",
    ")\n",
    "WHERE rn = 1;\n",
    "\n",
    "DROP TABLE partidos_camara;\n",
    "ALTER TABLE partidos_camara_dedup RENAME TO partidos_camara;"
   ]
  },
  {
   "cell_type": "code",
   "execution_count": 266,
   "id": "c03a4404",
   "metadata": {
    "vscode": {
     "languageId": "sql"
    }
   },
   "outputs": [
    {
     "data": {
      "text/html": [
       "<span style=\"None\">Running query in &#x27;duck&#x27;</span>"
      ],
      "text/plain": [
       "Running query in 'duck'"
      ]
     },
     "metadata": {},
     "output_type": "display_data"
    },
    {
     "data": {
      "text/html": [
       "<table>\n",
       "    <thead>\n",
       "        <tr>\n",
       "            <th>Success</th>\n",
       "        </tr>\n",
       "    </thead>\n",
       "    <tbody>\n",
       "    </tbody>\n",
       "</table>"
      ],
      "text/plain": [
       "+---------+\n",
       "| Success |\n",
       "+---------+\n",
       "+---------+"
      ]
     },
     "execution_count": 266,
     "metadata": {},
     "output_type": "execute_result"
    }
   ],
   "source": [
    "%%sql\n",
    "ALTER TABLE partidos_camara\n",
    "    ALTER COLUMN id_partido TYPE BIGINT;\n",
    "\n",
    "ALTER TABLE partidos_camara\n",
    "    ADD CONSTRAINT pk_partidos PRIMARY KEY (id_partido);"
   ]
  },
  {
   "cell_type": "markdown",
   "id": "95ebc9b7",
   "metadata": {},
   "source": [
    "### 3.1.9 Proposições"
   ]
  },
  {
   "cell_type": "code",
   "execution_count": 267,
   "id": "7905d629",
   "metadata": {
    "vscode": {
     "languageId": "sql"
    }
   },
   "outputs": [
    {
     "data": {
      "text/html": [
       "<span style=\"None\">Running query in &#x27;duck&#x27;</span>"
      ],
      "text/plain": [
       "Running query in 'duck'"
      ]
     },
     "metadata": {},
     "output_type": "display_data"
    },
    {
     "data": {
      "text/html": [
       "<table>\n",
       "    <thead>\n",
       "        <tr>\n",
       "            <th>Success</th>\n",
       "        </tr>\n",
       "    </thead>\n",
       "    <tbody>\n",
       "    </tbody>\n",
       "</table>"
      ],
      "text/plain": [
       "+---------+\n",
       "| Success |\n",
       "+---------+\n",
       "+---------+"
      ]
     },
     "execution_count": 267,
     "metadata": {},
     "output_type": "execute_result"
    }
   ],
   "source": [
    "%%sql\n",
    "ALTER TABLE proposicoes_camara\n",
    "    ALTER COLUMN id_proposicao TYPE BIGINT;\n",
    "\n",
    "ALTER TABLE proposicoes_camara\n",
    "    ADD CONSTRAINT pk_proposicoes PRIMARY KEY (id_proposicao);"
   ]
  },
  {
   "cell_type": "markdown",
   "id": "a629ed49",
   "metadata": {
    "vscode": {
     "languageId": "sql"
    }
   },
   "source": [
    "### 3.1.10 Temas"
   ]
  },
  {
   "cell_type": "code",
   "execution_count": 268,
   "id": "9df9ff62",
   "metadata": {
    "vscode": {
     "languageId": "sql"
    }
   },
   "outputs": [
    {
     "data": {
      "text/html": [
       "<span style=\"None\">Running query in &#x27;duck&#x27;</span>"
      ],
      "text/plain": [
       "Running query in 'duck'"
      ]
     },
     "metadata": {},
     "output_type": "display_data"
    },
    {
     "data": {
      "text/html": [
       "<table>\n",
       "    <thead>\n",
       "        <tr>\n",
       "            <th>Success</th>\n",
       "        </tr>\n",
       "    </thead>\n",
       "    <tbody>\n",
       "    </tbody>\n",
       "</table>"
      ],
      "text/plain": [
       "+---------+\n",
       "| Success |\n",
       "+---------+\n",
       "+---------+"
      ]
     },
     "execution_count": 268,
     "metadata": {},
     "output_type": "execute_result"
    }
   ],
   "source": [
    "%%sql\n",
    "ALTER TABLE temas_camara\n",
    "    ALTER COLUMN id_tema TYPE BIGINT;\n",
    "\n",
    "ALTER TABLE temas_camara\n",
    "    ADD CONSTRAINT pk_temas PRIMARY KEY (id_tema);\n"
   ]
  },
  {
   "cell_type": "markdown",
   "id": "aadc0257",
   "metadata": {},
   "source": [
    "### 3.1.11 Autores"
   ]
  },
  {
   "cell_type": "code",
   "execution_count": 269,
   "id": "eb21e79e",
   "metadata": {
    "vscode": {
     "languageId": "sql"
    }
   },
   "outputs": [
    {
     "data": {
      "text/html": [
       "<span style=\"None\">Running query in &#x27;duck&#x27;</span>"
      ],
      "text/plain": [
       "Running query in 'duck'"
      ]
     },
     "metadata": {},
     "output_type": "display_data"
    },
    {
     "data": {
      "text/html": [
       "<table>\n",
       "    <thead>\n",
       "        <tr>\n",
       "            <th>Success</th>\n",
       "        </tr>\n",
       "    </thead>\n",
       "    <tbody>\n",
       "    </tbody>\n",
       "</table>"
      ],
      "text/plain": [
       "+---------+\n",
       "| Success |\n",
       "+---------+\n",
       "+---------+"
      ]
     },
     "execution_count": 269,
     "metadata": {},
     "output_type": "execute_result"
    }
   ],
   "source": [
    "%%sql\n",
    "ALTER TABLE autores_camara\n",
    "    ALTER COLUMN id_proposicao TYPE BIGINT;\n",
    "\n",
    "ALTER TABLE autores_camara\n",
    "    ALTER COLUMN ordem_assinatura TYPE INTEGER;"
   ]
  },
  {
   "cell_type": "code",
   "execution_count": 270,
   "id": "7dc6baea",
   "metadata": {
    "vscode": {
     "languageId": "sql"
    }
   },
   "outputs": [
    {
     "data": {
      "text/html": [
       "<span style=\"None\">Running query in &#x27;duck&#x27;</span>"
      ],
      "text/plain": [
       "Running query in 'duck'"
      ]
     },
     "metadata": {},
     "output_type": "display_data"
    },
    {
     "data": {
      "text/html": [
       "<table>\n",
       "    <thead>\n",
       "        <tr>\n",
       "            <th>Success</th>\n",
       "        </tr>\n",
       "    </thead>\n",
       "    <tbody>\n",
       "    </tbody>\n",
       "</table>"
      ],
      "text/plain": [
       "+---------+\n",
       "| Success |\n",
       "+---------+\n",
       "+---------+"
      ]
     },
     "execution_count": 270,
     "metadata": {},
     "output_type": "execute_result"
    }
   ],
   "source": [
    "%%sql\n",
    "ALTER TABLE autores_camara\n",
    "    ADD CONSTRAINT pk_autores PRIMARY KEY (id_autor);\n"
   ]
  },
  {
   "cell_type": "markdown",
   "id": "75674a6a",
   "metadata": {},
   "source": [
    "### 3.1.12 Orientações"
   ]
  },
  {
   "cell_type": "code",
   "execution_count": 271,
   "id": "34f7f8d6",
   "metadata": {
    "vscode": {
     "languageId": "sql"
    }
   },
   "outputs": [
    {
     "data": {
      "text/html": [
       "<span style=\"None\">Running query in &#x27;duck&#x27;</span>"
      ],
      "text/plain": [
       "Running query in 'duck'"
      ]
     },
     "metadata": {},
     "output_type": "display_data"
    },
    {
     "data": {
      "text/html": [
       "<table>\n",
       "    <thead>\n",
       "        <tr>\n",
       "            <th>Success</th>\n",
       "        </tr>\n",
       "    </thead>\n",
       "    <tbody>\n",
       "    </tbody>\n",
       "</table>"
      ],
      "text/plain": [
       "+---------+\n",
       "| Success |\n",
       "+---------+\n",
       "+---------+"
      ]
     },
     "execution_count": 271,
     "metadata": {},
     "output_type": "execute_result"
    }
   ],
   "source": [
    "%%sql\n",
    "ALTER TABLE orientacoes_camara\n",
    "    ALTER COLUMN id_orientacao TYPE BIGINT;\n",
    "\n",
    "ALTER TABLE orientacoes_camara\n",
    "    ADD CONSTRAINT pk_orientacoes\n",
    "    PRIMARY KEY (id_orientacao);"
   ]
  },
  {
   "cell_type": "markdown",
   "id": "a15ccc42",
   "metadata": {},
   "source": [
    "### 3.1.13 Tramitações"
   ]
  },
  {
   "cell_type": "code",
   "execution_count": 272,
   "id": "77a8810f",
   "metadata": {
    "vscode": {
     "languageId": "sql"
    }
   },
   "outputs": [
    {
     "data": {
      "text/html": [
       "<span style=\"None\">Running query in &#x27;duck&#x27;</span>"
      ],
      "text/plain": [
       "Running query in 'duck'"
      ]
     },
     "metadata": {},
     "output_type": "display_data"
    },
    {
     "data": {
      "text/html": [
       "<table>\n",
       "    <thead>\n",
       "        <tr>\n",
       "            <th>Success</th>\n",
       "        </tr>\n",
       "    </thead>\n",
       "    <tbody>\n",
       "    </tbody>\n",
       "</table>"
      ],
      "text/plain": [
       "+---------+\n",
       "| Success |\n",
       "+---------+\n",
       "+---------+"
      ]
     },
     "execution_count": 272,
     "metadata": {},
     "output_type": "execute_result"
    }
   ],
   "source": [
    "%%sql\n",
    "ALTER TABLE tramitacoes_camara\n",
    "    ALTER COLUMN id_tramitacao TYPE BIGINT;\n",
    "\n",
    "ALTER TABLE tramitacoes_camara\n",
    "    ADD CONSTRAINT pk_tramitacoes\n",
    "    PRIMARY KEY (id_tramitacao);"
   ]
  },
  {
   "cell_type": "markdown",
   "id": "0cf93def",
   "metadata": {},
   "source": [
    "### 3.1.14 Votações"
   ]
  },
  {
   "cell_type": "code",
   "execution_count": 273,
   "id": "54b61469",
   "metadata": {
    "vscode": {
     "languageId": "sql"
    }
   },
   "outputs": [
    {
     "data": {
      "text/html": [
       "<span style=\"None\">Running query in &#x27;duck&#x27;</span>"
      ],
      "text/plain": [
       "Running query in 'duck'"
      ]
     },
     "metadata": {},
     "output_type": "display_data"
    },
    {
     "data": {
      "text/html": [
       "<table>\n",
       "    <thead>\n",
       "        <tr>\n",
       "            <th>Success</th>\n",
       "        </tr>\n",
       "    </thead>\n",
       "    <tbody>\n",
       "    </tbody>\n",
       "</table>"
      ],
      "text/plain": [
       "+---------+\n",
       "| Success |\n",
       "+---------+\n",
       "+---------+"
      ]
     },
     "execution_count": 273,
     "metadata": {},
     "output_type": "execute_result"
    }
   ],
   "source": [
    "%%sql\n",
    "CREATE TABLE votacoes_camara_dedup AS\n",
    "SELECT *\n",
    "FROM (\n",
    "    SELECT *,\n",
    "           ROW_NUMBER() OVER (PARTITION BY id_votacao ORDER BY year_snapshot DESC) AS rn\n",
    "    FROM votacoes_camara\n",
    ")\n",
    "WHERE rn = 1;\n",
    "\n",
    "DROP TABLE votacoes_camara;\n",
    "ALTER TABLE votacoes_camara_dedup RENAME TO votacoes_camara;\n",
    "\n",
    "ALTER TABLE votacoes_camara\n",
    "    ALTER COLUMN id_votacao TYPE TEXT;\n",
    "\n",
    "ALTER TABLE votacoes_camara\n",
    "    ADD CONSTRAINT pk_votacoes\n",
    "    PRIMARY KEY (id_votacao);"
   ]
  },
  {
   "cell_type": "markdown",
   "id": "a95eea15",
   "metadata": {
    "vscode": {
     "languageId": "sql"
    }
   },
   "source": [
    "### 3.1.15 Blocos e partidos"
   ]
  },
  {
   "cell_type": "code",
   "execution_count": 274,
   "id": "75ab91b9",
   "metadata": {
    "vscode": {
     "languageId": "sql"
    }
   },
   "outputs": [
    {
     "data": {
      "text/html": [
       "<span style=\"None\">Running query in &#x27;duck&#x27;</span>"
      ],
      "text/plain": [
       "Running query in 'duck'"
      ]
     },
     "metadata": {},
     "output_type": "display_data"
    },
    {
     "data": {
      "text/html": [
       "<table>\n",
       "    <thead>\n",
       "        <tr>\n",
       "            <th>Success</th>\n",
       "        </tr>\n",
       "    </thead>\n",
       "    <tbody>\n",
       "    </tbody>\n",
       "</table>"
      ],
      "text/plain": [
       "+---------+\n",
       "| Success |\n",
       "+---------+\n",
       "+---------+"
      ]
     },
     "execution_count": 274,
     "metadata": {},
     "output_type": "execute_result"
    }
   ],
   "source": [
    "%%sql\n",
    "ALTER TABLE blocos_partidos_camara\n",
    "    ALTER COLUMN id_bloco_partido TYPE BIGINT;\n",
    "\n",
    "ALTER TABLE blocos_partidos_camara\n",
    "    ADD CONSTRAINT pk_bloco_partido\n",
    "    PRIMARY KEY (id_bloco_partido);"
   ]
  },
  {
   "cell_type": "markdown",
   "id": "8552cfa9",
   "metadata": {},
   "source": [
    "### 3.1.16 Deputados e frentes"
   ]
  },
  {
   "cell_type": "code",
   "execution_count": 275,
   "id": "8ed37336",
   "metadata": {
    "vscode": {
     "languageId": "sql"
    }
   },
   "outputs": [
    {
     "data": {
      "text/html": [
       "<span style=\"None\">Running query in &#x27;duck&#x27;</span>"
      ],
      "text/plain": [
       "Running query in 'duck'"
      ]
     },
     "metadata": {},
     "output_type": "display_data"
    },
    {
     "data": {
      "text/html": [
       "<table>\n",
       "    <thead>\n",
       "        <tr>\n",
       "            <th>Success</th>\n",
       "        </tr>\n",
       "    </thead>\n",
       "    <tbody>\n",
       "    </tbody>\n",
       "</table>"
      ],
      "text/plain": [
       "+---------+\n",
       "| Success |\n",
       "+---------+\n",
       "+---------+"
      ]
     },
     "execution_count": 275,
     "metadata": {},
     "output_type": "execute_result"
    }
   ],
   "source": [
    "%%sql\n",
    "ALTER TABLE deputados_frentes_camara\n",
    "    ALTER COLUMN id_deputado_frente TYPE BIGINT;\n",
    "\n",
    "ALTER TABLE deputados_frentes_camara\n",
    "    ADD CONSTRAINT pk_deputado_frente\n",
    "    PRIMARY KEY (id_deputado_frente);"
   ]
  },
  {
   "cell_type": "markdown",
   "id": "3a382431",
   "metadata": {},
   "source": [
    "### 3.1.17 Histórico de deputados"
   ]
  },
  {
   "cell_type": "code",
   "execution_count": 276,
   "id": "708acb91",
   "metadata": {
    "vscode": {
     "languageId": "sql"
    }
   },
   "outputs": [
    {
     "data": {
      "text/html": [
       "<span style=\"None\">Running query in &#x27;duck&#x27;</span>"
      ],
      "text/plain": [
       "Running query in 'duck'"
      ]
     },
     "metadata": {},
     "output_type": "display_data"
    },
    {
     "data": {
      "text/html": [
       "<table>\n",
       "    <thead>\n",
       "        <tr>\n",
       "            <th>Success</th>\n",
       "        </tr>\n",
       "    </thead>\n",
       "    <tbody>\n",
       "    </tbody>\n",
       "</table>"
      ],
      "text/plain": [
       "+---------+\n",
       "| Success |\n",
       "+---------+\n",
       "+---------+"
      ]
     },
     "execution_count": 276,
     "metadata": {},
     "output_type": "execute_result"
    }
   ],
   "source": [
    "%%sql\n",
    "ALTER TABLE deputados_historico_camara\n",
    "    ALTER COLUMN id_deputado_historico TYPE BIGINT;\n",
    "\n",
    "ALTER TABLE deputados_historico_camara\n",
    "    ADD CONSTRAINT pk_deputado_historico\n",
    "    PRIMARY KEY (id_deputado_historico);"
   ]
  },
  {
   "cell_type": "markdown",
   "id": "492bd3e8",
   "metadata": {},
   "source": [
    "### 3.1.18 Deputados e órgãos"
   ]
  },
  {
   "cell_type": "code",
   "execution_count": 277,
   "id": "d90bc6be",
   "metadata": {
    "vscode": {
     "languageId": "sql"
    }
   },
   "outputs": [
    {
     "data": {
      "text/html": [
       "<span style=\"None\">Running query in &#x27;duck&#x27;</span>"
      ],
      "text/plain": [
       "Running query in 'duck'"
      ]
     },
     "metadata": {},
     "output_type": "display_data"
    },
    {
     "data": {
      "text/html": [
       "<table>\n",
       "    <thead>\n",
       "        <tr>\n",
       "            <th>Success</th>\n",
       "        </tr>\n",
       "    </thead>\n",
       "    <tbody>\n",
       "    </tbody>\n",
       "</table>"
      ],
      "text/plain": [
       "+---------+\n",
       "| Success |\n",
       "+---------+\n",
       "+---------+"
      ]
     },
     "execution_count": 277,
     "metadata": {},
     "output_type": "execute_result"
    }
   ],
   "source": [
    "%%sql\n",
    "ALTER TABLE deputados_orgaos_camara\n",
    "    ALTER COLUMN id_deputado_orgao TYPE BIGINT;\n",
    "\n",
    "ALTER TABLE deputados_orgaos_camara\n",
    "    ADD CONSTRAINT pk_deputado_orgao\n",
    "    PRIMARY KEY (id_deputado_orgao);"
   ]
  },
  {
   "cell_type": "markdown",
   "id": "959570b6",
   "metadata": {},
   "source": [
    "### 3.1.19 Eventos e órgãos"
   ]
  },
  {
   "cell_type": "code",
   "execution_count": 278,
   "id": "ccad748a",
   "metadata": {
    "vscode": {
     "languageId": "sql"
    }
   },
   "outputs": [
    {
     "data": {
      "text/html": [
       "<span style=\"None\">Running query in &#x27;duck&#x27;</span>"
      ],
      "text/plain": [
       "Running query in 'duck'"
      ]
     },
     "metadata": {},
     "output_type": "display_data"
    },
    {
     "data": {
      "text/html": [
       "<table>\n",
       "    <thead>\n",
       "        <tr>\n",
       "            <th>Success</th>\n",
       "        </tr>\n",
       "    </thead>\n",
       "    <tbody>\n",
       "    </tbody>\n",
       "</table>"
      ],
      "text/plain": [
       "+---------+\n",
       "| Success |\n",
       "+---------+\n",
       "+---------+"
      ]
     },
     "execution_count": 278,
     "metadata": {},
     "output_type": "execute_result"
    }
   ],
   "source": [
    "%%sql\n",
    "ALTER TABLE eventos_orgaos_camara\n",
    "    ALTER COLUMN id_evento_orgao TYPE BIGINT;\n",
    "\n",
    "ALTER TABLE eventos_orgaos_camara\n",
    "    ADD CONSTRAINT pk_evento_orgao\n",
    "    PRIMARY KEY (id_evento_orgao);"
   ]
  },
  {
   "cell_type": "markdown",
   "id": "195f2fe2",
   "metadata": {},
   "source": [
    "### 3.1.20 Partidos e líderes"
   ]
  },
  {
   "cell_type": "code",
   "execution_count": 279,
   "id": "fb98281d",
   "metadata": {
    "vscode": {
     "languageId": "sql"
    }
   },
   "outputs": [
    {
     "data": {
      "text/html": [
       "<span style=\"None\">Running query in &#x27;duck&#x27;</span>"
      ],
      "text/plain": [
       "Running query in 'duck'"
      ]
     },
     "metadata": {},
     "output_type": "display_data"
    },
    {
     "data": {
      "text/html": [
       "<table>\n",
       "    <thead>\n",
       "        <tr>\n",
       "            <th>Success</th>\n",
       "        </tr>\n",
       "    </thead>\n",
       "    <tbody>\n",
       "    </tbody>\n",
       "</table>"
      ],
      "text/plain": [
       "+---------+\n",
       "| Success |\n",
       "+---------+\n",
       "+---------+"
      ]
     },
     "execution_count": 279,
     "metadata": {},
     "output_type": "execute_result"
    }
   ],
   "source": [
    "%%sql\n",
    "ALTER TABLE partidos_lideres_camara\n",
    "    ALTER COLUMN id_partido_lider TYPE BIGINT;\n",
    "\n",
    "ALTER TABLE partidos_lideres_camara\n",
    "    ADD CONSTRAINT pk_partido_lider\n",
    "    PRIMARY KEY (id_partido_lider);"
   ]
  },
  {
   "cell_type": "markdown",
   "id": "cdc990ce",
   "metadata": {},
   "source": [
    "### 3.1.21 Partidos e membros"
   ]
  },
  {
   "cell_type": "code",
   "execution_count": 280,
   "id": "d3500c36",
   "metadata": {
    "vscode": {
     "languageId": "sql"
    }
   },
   "outputs": [
    {
     "data": {
      "text/html": [
       "<span style=\"None\">Running query in &#x27;duck&#x27;</span>"
      ],
      "text/plain": [
       "Running query in 'duck'"
      ]
     },
     "metadata": {},
     "output_type": "display_data"
    },
    {
     "data": {
      "text/html": [
       "<table>\n",
       "    <thead>\n",
       "        <tr>\n",
       "            <th>Success</th>\n",
       "        </tr>\n",
       "    </thead>\n",
       "    <tbody>\n",
       "    </tbody>\n",
       "</table>"
      ],
      "text/plain": [
       "+---------+\n",
       "| Success |\n",
       "+---------+\n",
       "+---------+"
      ]
     },
     "execution_count": 280,
     "metadata": {},
     "output_type": "execute_result"
    }
   ],
   "source": [
    "%%sql\n",
    "ALTER TABLE partidos_membros_camara\n",
    "    ALTER COLUMN id_partido_membro TYPE BIGINT;\n",
    "\n",
    "ALTER TABLE partidos_membros_camara\n",
    "    ADD CONSTRAINT pk_partido_membro\n",
    "    PRIMARY KEY (id_partido_membro);"
   ]
  },
  {
   "cell_type": "markdown",
   "id": "d3fde3cb",
   "metadata": {},
   "source": [
    "## 3.2 Deduplicação de tabelas relacionais"
   ]
  },
  {
   "cell_type": "markdown",
   "id": "755e4109",
   "metadata": {
    "vscode": {
     "languageId": "sql"
    }
   },
   "source": [
    "### 3.2.1 Orientações"
   ]
  },
  {
   "cell_type": "code",
   "execution_count": 281,
   "id": "2ae7484f",
   "metadata": {
    "vscode": {
     "languageId": "sql"
    }
   },
   "outputs": [
    {
     "data": {
      "text/html": [
       "<span style=\"None\">Running query in &#x27;duck&#x27;</span>"
      ],
      "text/plain": [
       "Running query in 'duck'"
      ]
     },
     "metadata": {},
     "output_type": "display_data"
    },
    {
     "data": {
      "text/html": [
       "<table>\n",
       "    <thead>\n",
       "        <tr>\n",
       "            <th>id_orientacao</th>\n",
       "            <th>id_votacao</th>\n",
       "            <th>sigla_partido_bloco</th>\n",
       "            <th>orientacao_voto</th>\n",
       "            <th>cod_partido_bloco</th>\n",
       "            <th>cod_tipo_lideranca</th>\n",
       "            <th>uri_partido_bloco</th>\n",
       "            <th>year_snapshot</th>\n",
       "        </tr>\n",
       "    </thead>\n",
       "    <tbody>\n",
       "        <tr>\n",
       "            <td>40598</td>\n",
       "            <td>2322436-12</td>\n",
       "            <td>AVANTE</td>\n",
       "            <td>Sim</td>\n",
       "            <td>36898</td>\n",
       "            <td>P</td>\n",
       "            <td><a href=https://dadosabertos.camara.leg.br/api/v2/partidos/36898>https://dadosabertos.camara.leg.br/api/v2/partidos/36898</a></td>\n",
       "            <td>2021</td>\n",
       "        </tr>\n",
       "        <tr>\n",
       "            <td>47965</td>\n",
       "            <td>2322436-12</td>\n",
       "            <td>AVANTE</td>\n",
       "            <td>Sim</td>\n",
       "            <td>36898</td>\n",
       "            <td>P</td>\n",
       "            <td><a href=https://dadosabertos.camara.leg.br/api/v2/partidos/36898>https://dadosabertos.camara.leg.br/api/v2/partidos/36898</a></td>\n",
       "            <td>2022</td>\n",
       "        </tr>\n",
       "        <tr>\n",
       "            <td>48244</td>\n",
       "            <td>2322436-12</td>\n",
       "            <td>CIDADANIA</td>\n",
       "            <td>Sim</td>\n",
       "            <td>37905</td>\n",
       "            <td>P</td>\n",
       "            <td><a href=https://dadosabertos.camara.leg.br/api/v2/partidos/37905>https://dadosabertos.camara.leg.br/api/v2/partidos/37905</a></td>\n",
       "            <td>2022</td>\n",
       "        </tr>\n",
       "        <tr>\n",
       "            <td>40914</td>\n",
       "            <td>2322436-12</td>\n",
       "            <td>CIDADANIA</td>\n",
       "            <td>Sim</td>\n",
       "            <td>37905</td>\n",
       "            <td>P</td>\n",
       "            <td><a href=https://dadosabertos.camara.leg.br/api/v2/partidos/37905>https://dadosabertos.camara.leg.br/api/v2/partidos/37905</a></td>\n",
       "            <td>2021</td>\n",
       "        </tr>\n",
       "        <tr>\n",
       "            <td>49055</td>\n",
       "            <td>2322436-12</td>\n",
       "            <td>Governo</td>\n",
       "            <td></td>\n",
       "            <td>None</td>\n",
       "            <td>B</td>\n",
       "            <td>None</td>\n",
       "            <td>2022</td>\n",
       "        </tr>\n",
       "        <tr>\n",
       "            <td>41857</td>\n",
       "            <td>2322436-12</td>\n",
       "            <td>Governo</td>\n",
       "            <td></td>\n",
       "            <td>None</td>\n",
       "            <td>B</td>\n",
       "            <td>None</td>\n",
       "            <td>2021</td>\n",
       "        </tr>\n",
       "        <tr>\n",
       "            <td>41229</td>\n",
       "            <td>2322436-12</td>\n",
       "            <td>MDB</td>\n",
       "            <td>Sim</td>\n",
       "            <td>36899</td>\n",
       "            <td>P</td>\n",
       "            <td><a href=https://dadosabertos.camara.leg.br/api/v2/partidos/36899>https://dadosabertos.camara.leg.br/api/v2/partidos/36899</a></td>\n",
       "            <td>2021</td>\n",
       "        </tr>\n",
       "        <tr>\n",
       "            <td>48518</td>\n",
       "            <td>2322436-12</td>\n",
       "            <td>MDB</td>\n",
       "            <td>Sim</td>\n",
       "            <td>36899</td>\n",
       "            <td>P</td>\n",
       "            <td><a href=https://dadosabertos.camara.leg.br/api/v2/partidos/36899>https://dadosabertos.camara.leg.br/api/v2/partidos/36899</a></td>\n",
       "            <td>2022</td>\n",
       "        </tr>\n",
       "        <tr>\n",
       "            <td>38682</td>\n",
       "            <td>2322436-12</td>\n",
       "            <td>Maioria</td>\n",
       "            <td>Sim</td>\n",
       "            <td>None</td>\n",
       "            <td>B</td>\n",
       "            <td>None</td>\n",
       "            <td>2021</td>\n",
       "        </tr>\n",
       "        <tr>\n",
       "            <td>46116</td>\n",
       "            <td>2322436-12</td>\n",
       "            <td>Maioria</td>\n",
       "            <td>Sim</td>\n",
       "            <td>None</td>\n",
       "            <td>B</td>\n",
       "            <td>None</td>\n",
       "            <td>2022</td>\n",
       "        </tr>\n",
       "    </tbody>\n",
       "</table>\n",
       "<span style=\"font-style:italic;text-align:center;\">Truncated to <a href=\"https://jupysql.ploomber.io/en/latest/api/configuration.html#displaylimit\">displaylimit</a> of 10.</span>"
      ],
      "text/plain": [
       "+---------------+------------+---------------------+-----------------+-------------------+--------------------+-------------------------------------------------------------------------------------------------------------------------------+---------------+\n",
       "| id_orientacao | id_votacao | sigla_partido_bloco | orientacao_voto | cod_partido_bloco | cod_tipo_lideranca |                                                       uri_partido_bloco                                                       | year_snapshot |\n",
       "+---------------+------------+---------------------+-----------------+-------------------+--------------------+-------------------------------------------------------------------------------------------------------------------------------+---------------+\n",
       "|     40598     | 2322436-12 |        AVANTE       |       Sim       |       36898       |         P          | <a href=https://dadosabertos.camara.leg.br/api/v2/partidos/36898>https://dadosabertos.camara.leg.br/api/v2/partidos/36898</a> |      2021     |\n",
       "|     47965     | 2322436-12 |        AVANTE       |       Sim       |       36898       |         P          | <a href=https://dadosabertos.camara.leg.br/api/v2/partidos/36898>https://dadosabertos.camara.leg.br/api/v2/partidos/36898</a> |      2022     |\n",
       "|     48244     | 2322436-12 |      CIDADANIA      |       Sim       |       37905       |         P          | <a href=https://dadosabertos.camara.leg.br/api/v2/partidos/37905>https://dadosabertos.camara.leg.br/api/v2/partidos/37905</a> |      2022     |\n",
       "|     40914     | 2322436-12 |      CIDADANIA      |       Sim       |       37905       |         P          | <a href=https://dadosabertos.camara.leg.br/api/v2/partidos/37905>https://dadosabertos.camara.leg.br/api/v2/partidos/37905</a> |      2021     |\n",
       "|     49055     | 2322436-12 |       Governo       |                 |        None       |         B          |                                                              None                                                             |      2022     |\n",
       "|     41857     | 2322436-12 |       Governo       |                 |        None       |         B          |                                                              None                                                             |      2021     |\n",
       "|     41229     | 2322436-12 |         MDB         |       Sim       |       36899       |         P          | <a href=https://dadosabertos.camara.leg.br/api/v2/partidos/36899>https://dadosabertos.camara.leg.br/api/v2/partidos/36899</a> |      2021     |\n",
       "|     48518     | 2322436-12 |         MDB         |       Sim       |       36899       |         P          | <a href=https://dadosabertos.camara.leg.br/api/v2/partidos/36899>https://dadosabertos.camara.leg.br/api/v2/partidos/36899</a> |      2022     |\n",
       "|     38682     | 2322436-12 |       Maioria       |       Sim       |        None       |         B          |                                                              None                                                             |      2021     |\n",
       "|     46116     | 2322436-12 |       Maioria       |       Sim       |        None       |         B          |                                                              None                                                             |      2022     |\n",
       "+---------------+------------+---------------------+-----------------+-------------------+--------------------+-------------------------------------------------------------------------------------------------------------------------------+---------------+\n",
       "Truncated to displaylimit of 10."
      ]
     },
     "execution_count": 281,
     "metadata": {},
     "output_type": "execute_result"
    }
   ],
   "source": [
    "%%sql\n",
    "SELECT a.*\n",
    "FROM orientacoes_camara a\n",
    "JOIN (\n",
    "    SELECT sigla_partido_bloco, id_votacao\n",
    "    FROM orientacoes_camara\n",
    "    GROUP BY sigla_partido_bloco, id_votacao\n",
    "    HAVING COUNT(*) > 1\n",
    ") dups\n",
    "ON  a.sigla_partido_bloco = dups.sigla_partido_bloco\n",
    "AND a.id_votacao = dups.id_votacao\n",
    "ORDER BY a.id_votacao, a.sigla_partido_bloco;\n"
   ]
  },
  {
   "cell_type": "code",
   "execution_count": 282,
   "id": "20c8fd9f",
   "metadata": {
    "vscode": {
     "languageId": "sql"
    }
   },
   "outputs": [
    {
     "data": {
      "text/html": [
       "<span style=\"None\">Running query in &#x27;duck&#x27;</span>"
      ],
      "text/plain": [
       "Running query in 'duck'"
      ]
     },
     "metadata": {},
     "output_type": "display_data"
    },
    {
     "data": {
      "text/html": [
       "<table>\n",
       "    <thead>\n",
       "        <tr>\n",
       "            <th>total_duplicadas</th>\n",
       "        </tr>\n",
       "    </thead>\n",
       "    <tbody>\n",
       "        <tr>\n",
       "            <td>27</td>\n",
       "        </tr>\n",
       "    </tbody>\n",
       "</table>"
      ],
      "text/plain": [
       "+------------------+\n",
       "| total_duplicadas |\n",
       "+------------------+\n",
       "|        27        |\n",
       "+------------------+"
      ]
     },
     "execution_count": 282,
     "metadata": {},
     "output_type": "execute_result"
    }
   ],
   "source": [
    "%%sql\n",
    "SELECT SUM(c) AS total_duplicadas\n",
    "FROM (\n",
    "    SELECT COUNT(*) - 1 AS c\n",
    "    FROM orientacoes_camara\n",
    "    GROUP BY id_votacao, sigla_partido_bloco\n",
    "    HAVING COUNT(*) > 1\n",
    ") t;"
   ]
  },
  {
   "cell_type": "code",
   "execution_count": 283,
   "id": "cd5bce6b",
   "metadata": {
    "vscode": {
     "languageId": "sql"
    }
   },
   "outputs": [
    {
     "data": {
      "text/html": [
       "<span style=\"None\">Running query in &#x27;duck&#x27;</span>"
      ],
      "text/plain": [
       "Running query in 'duck'"
      ]
     },
     "metadata": {},
     "output_type": "display_data"
    },
    {
     "data": {
      "text/html": [
       "<table>\n",
       "    <thead>\n",
       "        <tr>\n",
       "            <th>count_star()</th>\n",
       "        </tr>\n",
       "    </thead>\n",
       "    <tbody>\n",
       "        <tr>\n",
       "            <td>59769</td>\n",
       "        </tr>\n",
       "    </tbody>\n",
       "</table>"
      ],
      "text/plain": [
       "+--------------+\n",
       "| count_star() |\n",
       "+--------------+\n",
       "|    59769     |\n",
       "+--------------+"
      ]
     },
     "execution_count": 283,
     "metadata": {},
     "output_type": "execute_result"
    }
   ],
   "source": [
    "%%sql\n",
    "SELECT COUNT(*) FROM orientacoes_camara;"
   ]
  },
  {
   "cell_type": "code",
   "execution_count": 284,
   "id": "c8f89818",
   "metadata": {
    "vscode": {
     "languageId": "sql"
    }
   },
   "outputs": [
    {
     "data": {
      "text/html": [
       "<span style=\"None\">Running query in &#x27;duck&#x27;</span>"
      ],
      "text/plain": [
       "Running query in 'duck'"
      ]
     },
     "metadata": {},
     "output_type": "display_data"
    },
    {
     "data": {
      "text/html": [
       "<table>\n",
       "    <thead>\n",
       "        <tr>\n",
       "            <th>Count</th>\n",
       "        </tr>\n",
       "    </thead>\n",
       "    <tbody>\n",
       "        <tr>\n",
       "            <td>27</td>\n",
       "        </tr>\n",
       "    </tbody>\n",
       "</table>"
      ],
      "text/plain": [
       "+-------+\n",
       "| Count |\n",
       "+-------+\n",
       "|   27  |\n",
       "+-------+"
      ]
     },
     "execution_count": 284,
     "metadata": {},
     "output_type": "execute_result"
    }
   ],
   "source": [
    "%%sql\n",
    "DELETE FROM orientacoes_camara\n",
    "WHERE rowid IN (\n",
    "    SELECT rowid\n",
    "    FROM (\n",
    "        SELECT \n",
    "            rowid,\n",
    "            ROW_NUMBER() OVER (\n",
    "                PARTITION BY id_votacao, sigla_partido_bloco \n",
    "                ORDER BY rowid\n",
    "            ) AS rn\n",
    "        FROM orientacoes_camara\n",
    "    ) t\n",
    "    WHERE rn > 1\n",
    ");\n"
   ]
  },
  {
   "cell_type": "code",
   "execution_count": 285,
   "id": "b114c92c",
   "metadata": {
    "vscode": {
     "languageId": "sql"
    }
   },
   "outputs": [
    {
     "data": {
      "text/html": [
       "<span style=\"None\">Running query in &#x27;duck&#x27;</span>"
      ],
      "text/plain": [
       "Running query in 'duck'"
      ]
     },
     "metadata": {},
     "output_type": "display_data"
    },
    {
     "data": {
      "text/html": [
       "<table>\n",
       "    <thead>\n",
       "        <tr>\n",
       "            <th>count_star()</th>\n",
       "        </tr>\n",
       "    </thead>\n",
       "    <tbody>\n",
       "        <tr>\n",
       "            <td>59742</td>\n",
       "        </tr>\n",
       "    </tbody>\n",
       "</table>"
      ],
      "text/plain": [
       "+--------------+\n",
       "| count_star() |\n",
       "+--------------+\n",
       "|    59742     |\n",
       "+--------------+"
      ]
     },
     "execution_count": 285,
     "metadata": {},
     "output_type": "execute_result"
    }
   ],
   "source": [
    "%%sql\n",
    "SELECT COUNT(*) FROM orientacoes_camara;"
   ]
  },
  {
   "cell_type": "markdown",
   "id": "df1ca67a",
   "metadata": {},
   "source": [
    "### 3.2.2 Tramitações"
   ]
  },
  {
   "cell_type": "code",
   "execution_count": 286,
   "id": "c79c0d20",
   "metadata": {
    "vscode": {
     "languageId": "sql"
    }
   },
   "outputs": [
    {
     "data": {
      "text/html": [
       "<span style=\"None\">Running query in &#x27;duck&#x27;</span>"
      ],
      "text/plain": [
       "Running query in 'duck'"
      ]
     },
     "metadata": {},
     "output_type": "display_data"
    },
    {
     "data": {
      "text/html": [
       "<table>\n",
       "    <thead>\n",
       "        <tr>\n",
       "            <th>id_tramitacao</th>\n",
       "            <th>id_proposicao</th>\n",
       "            <th>ambito</th>\n",
       "            <th>apreciacao</th>\n",
       "            <th>cod_situacao</th>\n",
       "            <th>cod_tipo_tramitacao</th>\n",
       "            <th>data_hora</th>\n",
       "            <th>descricao_situacao</th>\n",
       "            <th>descricao_tramitacao</th>\n",
       "            <th>despacho</th>\n",
       "            <th>regime</th>\n",
       "            <th>sequencia</th>\n",
       "            <th>sigla_orgao</th>\n",
       "            <th>uri_orgao</th>\n",
       "            <th>uri_ultimo_relator</th>\n",
       "            <th>year_snapshot</th>\n",
       "        </tr>\n",
       "    </thead>\n",
       "    <tbody>\n",
       "        <tr>\n",
       "            <td>769040</td>\n",
       "            <td>15508</td>\n",
       "            <td>Regimental</td>\n",
       "            <td>Proposição Sujeita à Apreciação Conclusiva pelas Comissões - Art. 24 II</td>\n",
       "            <td>923</td>\n",
       "            <td>504</td>\n",
       "            <td>2012-04-02 11:11:00</td>\n",
       "            <td>Arquivada</td>\n",
       "            <td>Notificação de Apensação</td>\n",
       "            <td>Apense-se a este(a) o(a) PL-3440/2012.</td>\n",
       "            <td>Ordinário (Art. 151, III, RICD)</td>\n",
       "            <td>112</td>\n",
       "            <td>MESA</td>\n",
       "            <td><a href=https://dadosabertos.camara.leg.br/api/v2/orgaos/4>https://dadosabertos.camara.leg.br/api/v2/orgaos/4</a></td>\n",
       "            <td><a href=https://dadosabertos.camara.leg.br/api/v2/deputados/74039>https://dadosabertos.camara.leg.br/api/v2/deputados/74039</a></td>\n",
       "            <td>2024</td>\n",
       "        </tr>\n",
       "        <tr>\n",
       "            <td>769097</td>\n",
       "            <td>15508</td>\n",
       "            <td>Regimental</td>\n",
       "            <td>Proposição Sujeita à Apreciação Conclusiva pelas Comissões - Art. 24 II</td>\n",
       "            <td>923</td>\n",
       "            <td>504</td>\n",
       "            <td>2012-04-02 11:08:00</td>\n",
       "            <td>Arquivada</td>\n",
       "            <td>Notificação de Apensação</td>\n",
       "            <td>Apense-se a este(a) o(a) PL-3440/2012.</td>\n",
       "            <td>Ordinário (Art. 151, III, RICD)</td>\n",
       "            <td>112</td>\n",
       "            <td>MESA</td>\n",
       "            <td><a href=https://dadosabertos.camara.leg.br/api/v2/orgaos/4>https://dadosabertos.camara.leg.br/api/v2/orgaos/4</a></td>\n",
       "            <td><a href=https://dadosabertos.camara.leg.br/api/v2/deputados/74039>https://dadosabertos.camara.leg.br/api/v2/deputados/74039</a></td>\n",
       "            <td>2024</td>\n",
       "        </tr>\n",
       "        <tr>\n",
       "            <td>584271</td>\n",
       "            <td>47622</td>\n",
       "            <td>Regimental</td>\n",
       "            <td>Proposição Sujeita à Apreciação do Plenário</td>\n",
       "            <td>None</td>\n",
       "            <td>5</td>\n",
       "            <td>2015-03-30 18:46:00</td>\n",
       "            <td>None</td>\n",
       "            <td>Não Informado</td>\n",
       "            <td>Matéria não apreciada em face do encerramento da Sessão.</td>\n",
       "            <td>Urgência (Art. 155, RICD)</td>\n",
       "            <td>16</td>\n",
       "            <td>PLEN</td>\n",
       "            <td><a href=https://dadosabertos.camara.leg.br/api/v2/orgaos/180>https://dadosabertos.camara.leg.br/api/v2/orgaos/180</a></td>\n",
       "            <td>None</td>\n",
       "            <td>2023</td>\n",
       "        </tr>\n",
       "        <tr>\n",
       "            <td>586099</td>\n",
       "            <td>47622</td>\n",
       "            <td>Regimental</td>\n",
       "            <td>Proposição Sujeita à Apreciação do Plenário</td>\n",
       "            <td>None</td>\n",
       "            <td>5</td>\n",
       "            <td>2015-03-26 09:00:00</td>\n",
       "            <td>None</td>\n",
       "            <td>Não Informado</td>\n",
       "            <td>Matéria não apreciada em face do encerramento da Sessão.</td>\n",
       "            <td>Urgência (Art. 155, RICD)</td>\n",
       "            <td>16</td>\n",
       "            <td>PLEN</td>\n",
       "            <td><a href=https://dadosabertos.camara.leg.br/api/v2/orgaos/180>https://dadosabertos.camara.leg.br/api/v2/orgaos/180</a></td>\n",
       "            <td>None</td>\n",
       "            <td>2023</td>\n",
       "        </tr>\n",
       "        <tr>\n",
       "            <td>67160</td>\n",
       "            <td>332450</td>\n",
       "            <td>Regimental</td>\n",
       "            <td>Proposição Sujeita à Apreciação do Plenário</td>\n",
       "            <td>902</td>\n",
       "            <td>100</td>\n",
       "            <td>2006-08-09 17:25:00</td>\n",
       "            <td>Aguardando Criação de Comissão Temporária</td>\n",
       "            <td>Apresentação de Proposição</td>\n",
       "            <td>Apresentação do PL 7419/2006, do Senado Federal - Luiz Pontes, que \"altera a Lei nº 9.656, de 3 de junho de 1998, que dispõe sobre os planos e seguros privados de assistência à saúde.\"</td>\n",
       "            <td>Urgência (Art. 155, RICD)</td>\n",
       "            <td>1</td>\n",
       "            <td>PLEN</td>\n",
       "            <td><a href=https://dadosabertos.camara.leg.br/api/v2/orgaos/180>https://dadosabertos.camara.leg.br/api/v2/orgaos/180</a></td>\n",
       "            <td>None</td>\n",
       "            <td>2020</td>\n",
       "        </tr>\n",
       "        <tr>\n",
       "            <td>67157</td>\n",
       "            <td>332450</td>\n",
       "            <td>Regimental</td>\n",
       "            <td>Proposição Sujeita à Apreciação do Plenário</td>\n",
       "            <td>924</td>\n",
       "            <td>100</td>\n",
       "            <td>2006-08-09 17:25:00</td>\n",
       "            <td>Pronta para Pauta</td>\n",
       "            <td>Apresentação de Proposição</td>\n",
       "            <td>Apresentação do PL 7419/2006, do Senado Federal - Luiz Pontes, que \"altera a Lei nº 9.656, de 3 de junho de 1998, que dispõe sobre os planos e seguros privados de assistência à saúde.\"</td>\n",
       "            <td>Urgência (Art. 155, RICD)</td>\n",
       "            <td>1</td>\n",
       "            <td>PLEN</td>\n",
       "            <td><a href=https://dadosabertos.camara.leg.br/api/v2/orgaos/180>https://dadosabertos.camara.leg.br/api/v2/orgaos/180</a></td>\n",
       "            <td>None</td>\n",
       "            <td>2020</td>\n",
       "        </tr>\n",
       "        <tr>\n",
       "            <td>67067</td>\n",
       "            <td>332450</td>\n",
       "            <td>Regimental</td>\n",
       "            <td>Proposição Sujeita à Apreciação do Plenário</td>\n",
       "            <td>902</td>\n",
       "            <td>194</td>\n",
       "            <td>2011-10-04 00:00:00</td>\n",
       "            <td>Aguardando Criação de Comissão Temporária</td>\n",
       "            <td>Apresentação de Requerimento</td>\n",
       "            <td>Apresentação do Requerimento de Apensação n. 3395/2011, pelo Deputado Bruno Araújo (PSDB-PE), que: \"Requer a apensação do Projeto de Lei 7419, de 2006, ao Projeto de Lei 4076, de 2001\".</td>\n",
       "            <td>Urgência (Art. 155, RICD)</td>\n",
       "            <td>40</td>\n",
       "            <td>PLEN</td>\n",
       "            <td><a href=https://dadosabertos.camara.leg.br/api/v2/orgaos/180>https://dadosabertos.camara.leg.br/api/v2/orgaos/180</a></td>\n",
       "            <td><a href=https://dadosabertos.camara.leg.br/api/v2/deputados/74173>https://dadosabertos.camara.leg.br/api/v2/deputados/74173</a></td>\n",
       "            <td>2020</td>\n",
       "        </tr>\n",
       "        <tr>\n",
       "            <td>67062</td>\n",
       "            <td>332450</td>\n",
       "            <td>Regimental</td>\n",
       "            <td>Proposição Sujeita à Apreciação do Plenário</td>\n",
       "            <td>924</td>\n",
       "            <td>194</td>\n",
       "            <td>2011-10-04 00:00:00</td>\n",
       "            <td>Pronta para Pauta</td>\n",
       "            <td>Apresentação de Requerimento</td>\n",
       "            <td>Apresentação do Requerimento de Apensação n. 3395/2011, pelo Deputado Bruno Araújo (PSDB-PE), que: \"Requer a apensação do Projeto de Lei 7419, de 2006, ao Projeto de Lei 4076, de 2001\".</td>\n",
       "            <td>Urgência (Art. 155, RICD)</td>\n",
       "            <td>40</td>\n",
       "            <td>PLEN</td>\n",
       "            <td><a href=https://dadosabertos.camara.leg.br/api/v2/orgaos/180>https://dadosabertos.camara.leg.br/api/v2/orgaos/180</a></td>\n",
       "            <td><a href=https://dadosabertos.camara.leg.br/api/v2/deputados/74173>https://dadosabertos.camara.leg.br/api/v2/deputados/74173</a></td>\n",
       "            <td>2020</td>\n",
       "        </tr>\n",
       "        <tr>\n",
       "            <td>67057</td>\n",
       "            <td>332450</td>\n",
       "            <td>Regimental</td>\n",
       "            <td>Proposição Sujeita à Apreciação do Plenário</td>\n",
       "            <td>902</td>\n",
       "            <td>194</td>\n",
       "            <td>2011-10-04 00:00:00</td>\n",
       "            <td>Aguardando Criação de Comissão Temporária</td>\n",
       "            <td>Apresentação de Requerimento</td>\n",
       "            <td>Apresentação do Requerimento de Apensação n. 3397/2011, pelo Deputado Bruno Araújo (PSDB-PE), que: \"Requer a apensação do Projeto de Lei 7419, de 2006, ao Projeto de Lei 4076, de 2001.\".</td>\n",
       "            <td>Urgência (Art. 155, RICD)</td>\n",
       "            <td>41</td>\n",
       "            <td>PLEN</td>\n",
       "            <td><a href=https://dadosabertos.camara.leg.br/api/v2/orgaos/180>https://dadosabertos.camara.leg.br/api/v2/orgaos/180</a></td>\n",
       "            <td><a href=https://dadosabertos.camara.leg.br/api/v2/deputados/74173>https://dadosabertos.camara.leg.br/api/v2/deputados/74173</a></td>\n",
       "            <td>2020</td>\n",
       "        </tr>\n",
       "        <tr>\n",
       "            <td>67052</td>\n",
       "            <td>332450</td>\n",
       "            <td>Regimental</td>\n",
       "            <td>Proposição Sujeita à Apreciação do Plenário</td>\n",
       "            <td>924</td>\n",
       "            <td>194</td>\n",
       "            <td>2011-10-04 00:00:00</td>\n",
       "            <td>Pronta para Pauta</td>\n",
       "            <td>Apresentação de Requerimento</td>\n",
       "            <td>Apresentação do Requerimento de Apensação n. 3397/2011, pelo Deputado Bruno Araújo (PSDB-PE), que: \"Requer a apensação do Projeto de Lei 7419, de 2006, ao Projeto de Lei 4076, de 2001.\".</td>\n",
       "            <td>Urgência (Art. 155, RICD)</td>\n",
       "            <td>41</td>\n",
       "            <td>PLEN</td>\n",
       "            <td><a href=https://dadosabertos.camara.leg.br/api/v2/orgaos/180>https://dadosabertos.camara.leg.br/api/v2/orgaos/180</a></td>\n",
       "            <td><a href=https://dadosabertos.camara.leg.br/api/v2/deputados/74173>https://dadosabertos.camara.leg.br/api/v2/deputados/74173</a></td>\n",
       "            <td>2020</td>\n",
       "        </tr>\n",
       "    </tbody>\n",
       "</table>\n",
       "<span style=\"font-style:italic;text-align:center;\">Truncated to <a href=\"https://jupysql.ploomber.io/en/latest/api/configuration.html#displaylimit\">displaylimit</a> of 10.</span>"
      ],
      "text/plain": [
       "+---------------+---------------+------------+-------------------------------------------------------------------------+--------------+---------------------+---------------------+-------------------------------------------+------------------------------+--------------------------------------------------------------------------------------------------------------------------------------------------------------------------------------------+---------------------------------+-----------+-------------+-----------------------------------------------------------------------------------------------------------------------+---------------------------------------------------------------------------------------------------------------------------------+---------------+\n",
       "| id_tramitacao | id_proposicao |   ambito   |                                apreciacao                               | cod_situacao | cod_tipo_tramitacao |      data_hora      |             descricao_situacao            |     descricao_tramitacao     |                                                                                          despacho                                                                                          |              regime             | sequencia | sigla_orgao |                                                       uri_orgao                                                       |                                                        uri_ultimo_relator                                                       | year_snapshot |\n",
       "+---------------+---------------+------------+-------------------------------------------------------------------------+--------------+---------------------+---------------------+-------------------------------------------+------------------------------+--------------------------------------------------------------------------------------------------------------------------------------------------------------------------------------------+---------------------------------+-----------+-------------+-----------------------------------------------------------------------------------------------------------------------+---------------------------------------------------------------------------------------------------------------------------------+---------------+\n",
       "|     769040    |     15508     | Regimental | Proposição Sujeita à Apreciação Conclusiva pelas Comissões - Art. 24 II |     923      |         504         | 2012-04-02 11:11:00 |                 Arquivada                 |   Notificação de Apensação   |                                                                           Apense-se a este(a) o(a) PL-3440/2012.                                                                           | Ordinário (Art. 151, III, RICD) |    112    |     MESA    |   <a href=https://dadosabertos.camara.leg.br/api/v2/orgaos/4>https://dadosabertos.camara.leg.br/api/v2/orgaos/4</a>   | <a href=https://dadosabertos.camara.leg.br/api/v2/deputados/74039>https://dadosabertos.camara.leg.br/api/v2/deputados/74039</a> |      2024     |\n",
       "|     769097    |     15508     | Regimental | Proposição Sujeita à Apreciação Conclusiva pelas Comissões - Art. 24 II |     923      |         504         | 2012-04-02 11:08:00 |                 Arquivada                 |   Notificação de Apensação   |                                                                           Apense-se a este(a) o(a) PL-3440/2012.                                                                           | Ordinário (Art. 151, III, RICD) |    112    |     MESA    |   <a href=https://dadosabertos.camara.leg.br/api/v2/orgaos/4>https://dadosabertos.camara.leg.br/api/v2/orgaos/4</a>   | <a href=https://dadosabertos.camara.leg.br/api/v2/deputados/74039>https://dadosabertos.camara.leg.br/api/v2/deputados/74039</a> |      2024     |\n",
       "|     584271    |     47622     | Regimental |               Proposição Sujeita à Apreciação do Plenário               |     None     |          5          | 2015-03-30 18:46:00 |                    None                   |        Não Informado         |                                                                  Matéria não apreciada em face do encerramento da Sessão.                                                                  |    Urgência (Art. 155, RICD)    |     16    |     PLEN    | <a href=https://dadosabertos.camara.leg.br/api/v2/orgaos/180>https://dadosabertos.camara.leg.br/api/v2/orgaos/180</a> |                                                               None                                                              |      2023     |\n",
       "|     586099    |     47622     | Regimental |               Proposição Sujeita à Apreciação do Plenário               |     None     |          5          | 2015-03-26 09:00:00 |                    None                   |        Não Informado         |                                                                  Matéria não apreciada em face do encerramento da Sessão.                                                                  |    Urgência (Art. 155, RICD)    |     16    |     PLEN    | <a href=https://dadosabertos.camara.leg.br/api/v2/orgaos/180>https://dadosabertos.camara.leg.br/api/v2/orgaos/180</a> |                                                               None                                                              |      2023     |\n",
       "|     67160     |     332450    | Regimental |               Proposição Sujeita à Apreciação do Plenário               |     902      |         100         | 2006-08-09 17:25:00 | Aguardando Criação de Comissão Temporária |  Apresentação de Proposição  |  Apresentação do PL 7419/2006, do Senado Federal - Luiz Pontes, que \"altera a Lei nº 9.656, de 3 de junho de 1998, que dispõe sobre os planos e seguros privados de assistência à saúde.\"  |    Urgência (Art. 155, RICD)    |     1     |     PLEN    | <a href=https://dadosabertos.camara.leg.br/api/v2/orgaos/180>https://dadosabertos.camara.leg.br/api/v2/orgaos/180</a> |                                                               None                                                              |      2020     |\n",
       "|     67157     |     332450    | Regimental |               Proposição Sujeita à Apreciação do Plenário               |     924      |         100         | 2006-08-09 17:25:00 |             Pronta para Pauta             |  Apresentação de Proposição  |  Apresentação do PL 7419/2006, do Senado Federal - Luiz Pontes, que \"altera a Lei nº 9.656, de 3 de junho de 1998, que dispõe sobre os planos e seguros privados de assistência à saúde.\"  |    Urgência (Art. 155, RICD)    |     1     |     PLEN    | <a href=https://dadosabertos.camara.leg.br/api/v2/orgaos/180>https://dadosabertos.camara.leg.br/api/v2/orgaos/180</a> |                                                               None                                                              |      2020     |\n",
       "|     67067     |     332450    | Regimental |               Proposição Sujeita à Apreciação do Plenário               |     902      |         194         | 2011-10-04 00:00:00 | Aguardando Criação de Comissão Temporária | Apresentação de Requerimento | Apresentação do Requerimento de Apensação n. 3395/2011, pelo Deputado Bruno Araújo (PSDB-PE), que: \"Requer a apensação do Projeto de Lei 7419, de 2006, ao Projeto de Lei 4076, de 2001\".  |    Urgência (Art. 155, RICD)    |     40    |     PLEN    | <a href=https://dadosabertos.camara.leg.br/api/v2/orgaos/180>https://dadosabertos.camara.leg.br/api/v2/orgaos/180</a> | <a href=https://dadosabertos.camara.leg.br/api/v2/deputados/74173>https://dadosabertos.camara.leg.br/api/v2/deputados/74173</a> |      2020     |\n",
       "|     67062     |     332450    | Regimental |               Proposição Sujeita à Apreciação do Plenário               |     924      |         194         | 2011-10-04 00:00:00 |             Pronta para Pauta             | Apresentação de Requerimento | Apresentação do Requerimento de Apensação n. 3395/2011, pelo Deputado Bruno Araújo (PSDB-PE), que: \"Requer a apensação do Projeto de Lei 7419, de 2006, ao Projeto de Lei 4076, de 2001\".  |    Urgência (Art. 155, RICD)    |     40    |     PLEN    | <a href=https://dadosabertos.camara.leg.br/api/v2/orgaos/180>https://dadosabertos.camara.leg.br/api/v2/orgaos/180</a> | <a href=https://dadosabertos.camara.leg.br/api/v2/deputados/74173>https://dadosabertos.camara.leg.br/api/v2/deputados/74173</a> |      2020     |\n",
       "|     67057     |     332450    | Regimental |               Proposição Sujeita à Apreciação do Plenário               |     902      |         194         | 2011-10-04 00:00:00 | Aguardando Criação de Comissão Temporária | Apresentação de Requerimento | Apresentação do Requerimento de Apensação n. 3397/2011, pelo Deputado Bruno Araújo (PSDB-PE), que: \"Requer a apensação do Projeto de Lei 7419, de 2006, ao Projeto de Lei 4076, de 2001.\". |    Urgência (Art. 155, RICD)    |     41    |     PLEN    | <a href=https://dadosabertos.camara.leg.br/api/v2/orgaos/180>https://dadosabertos.camara.leg.br/api/v2/orgaos/180</a> | <a href=https://dadosabertos.camara.leg.br/api/v2/deputados/74173>https://dadosabertos.camara.leg.br/api/v2/deputados/74173</a> |      2020     |\n",
       "|     67052     |     332450    | Regimental |               Proposição Sujeita à Apreciação do Plenário               |     924      |         194         | 2011-10-04 00:00:00 |             Pronta para Pauta             | Apresentação de Requerimento | Apresentação do Requerimento de Apensação n. 3397/2011, pelo Deputado Bruno Araújo (PSDB-PE), que: \"Requer a apensação do Projeto de Lei 7419, de 2006, ao Projeto de Lei 4076, de 2001.\". |    Urgência (Art. 155, RICD)    |     41    |     PLEN    | <a href=https://dadosabertos.camara.leg.br/api/v2/orgaos/180>https://dadosabertos.camara.leg.br/api/v2/orgaos/180</a> | <a href=https://dadosabertos.camara.leg.br/api/v2/deputados/74173>https://dadosabertos.camara.leg.br/api/v2/deputados/74173</a> |      2020     |\n",
       "+---------------+---------------+------------+-------------------------------------------------------------------------+--------------+---------------------+---------------------+-------------------------------------------+------------------------------+--------------------------------------------------------------------------------------------------------------------------------------------------------------------------------------------+---------------------------------+-----------+-------------+-----------------------------------------------------------------------------------------------------------------------+---------------------------------------------------------------------------------------------------------------------------------+---------------+\n",
       "Truncated to displaylimit of 10."
      ]
     },
     "execution_count": 286,
     "metadata": {},
     "output_type": "execute_result"
    }
   ],
   "source": [
    "%%sql\n",
    "SELECT a.*\n",
    "FROM tramitacoes_camara a\n",
    "JOIN (\n",
    "    SELECT id_proposicao, despacho, sequencia\n",
    "    FROM tramitacoes_camara\n",
    "    GROUP BY id_proposicao, despacho, sequencia\n",
    "    HAVING COUNT(*) > 1\n",
    ") dups\n",
    "ON  a.id_proposicao = dups.id_proposicao\n",
    "AND a.sequencia = dups.sequencia\n",
    "AND a.despacho = dups.despacho\n",
    "ORDER BY a.id_proposicao, a.sequencia, a.despacho;\n"
   ]
  },
  {
   "cell_type": "code",
   "execution_count": 287,
   "id": "c4a7f04e",
   "metadata": {
    "vscode": {
     "languageId": "sql"
    }
   },
   "outputs": [
    {
     "data": {
      "text/html": [
       "<span style=\"None\">Running query in &#x27;duck&#x27;</span>"
      ],
      "text/plain": [
       "Running query in 'duck'"
      ]
     },
     "metadata": {},
     "output_type": "display_data"
    },
    {
     "data": {
      "text/html": [
       "<table>\n",
       "    <thead>\n",
       "        <tr>\n",
       "            <th>total_duplicadas</th>\n",
       "        </tr>\n",
       "    </thead>\n",
       "    <tbody>\n",
       "        <tr>\n",
       "            <td>762</td>\n",
       "        </tr>\n",
       "    </tbody>\n",
       "</table>"
      ],
      "text/plain": [
       "+------------------+\n",
       "| total_duplicadas |\n",
       "+------------------+\n",
       "|       762        |\n",
       "+------------------+"
      ]
     },
     "execution_count": 287,
     "metadata": {},
     "output_type": "execute_result"
    }
   ],
   "source": [
    "%%sql\n",
    "SELECT SUM(c) AS total_duplicadas\n",
    "FROM (\n",
    "    SELECT COUNT(*) - 1 AS c\n",
    "    FROM tramitacoes_camara\n",
    "    GROUP BY id_proposicao, despacho, sequencia\n",
    "    HAVING COUNT(*) > 1\n",
    ") t;"
   ]
  },
  {
   "cell_type": "code",
   "execution_count": 288,
   "id": "2848aa53",
   "metadata": {
    "vscode": {
     "languageId": "sql"
    }
   },
   "outputs": [
    {
     "data": {
      "text/html": [
       "<span style=\"None\">Running query in &#x27;duck&#x27;</span>"
      ],
      "text/plain": [
       "Running query in 'duck'"
      ]
     },
     "metadata": {},
     "output_type": "display_data"
    },
    {
     "data": {
      "text/html": [
       "<table>\n",
       "    <thead>\n",
       "        <tr>\n",
       "            <th>Count</th>\n",
       "        </tr>\n",
       "    </thead>\n",
       "    <tbody>\n",
       "        <tr>\n",
       "            <td>762</td>\n",
       "        </tr>\n",
       "    </tbody>\n",
       "</table>"
      ],
      "text/plain": [
       "+-------+\n",
       "| Count |\n",
       "+-------+\n",
       "|  762  |\n",
       "+-------+"
      ]
     },
     "execution_count": 288,
     "metadata": {},
     "output_type": "execute_result"
    }
   ],
   "source": [
    "%%sql\n",
    "DELETE FROM tramitacoes_camara\n",
    "WHERE rowid IN (\n",
    "    SELECT rowid\n",
    "    FROM (\n",
    "        SELECT \n",
    "            rowid,\n",
    "            ROW_NUMBER() OVER (\n",
    "                PARTITION BY id_proposicao, despacho, sequencia \n",
    "                ORDER BY rowid\n",
    "            ) AS rn\n",
    "        FROM tramitacoes_camara\n",
    "    ) t\n",
    "    WHERE rn > 1\n",
    ");\n"
   ]
  },
  {
   "cell_type": "markdown",
   "id": "8f4ab85c",
   "metadata": {},
   "source": [
    "### 3.2.3 Votos"
   ]
  },
  {
   "cell_type": "code",
   "execution_count": 289,
   "id": "e62b52dd",
   "metadata": {
    "vscode": {
     "languageId": "sql"
    }
   },
   "outputs": [
    {
     "data": {
      "text/html": [
       "<span style=\"None\">Running query in &#x27;duck&#x27;</span>"
      ],
      "text/plain": [
       "Running query in 'duck'"
      ]
     },
     "metadata": {},
     "output_type": "display_data"
    },
    {
     "data": {
      "text/html": [
       "<table>\n",
       "    <thead>\n",
       "        <tr>\n",
       "            <th>id_voto</th>\n",
       "            <th>id_votacao</th>\n",
       "            <th>id_deputado</th>\n",
       "            <th>tipo_voto</th>\n",
       "            <th>data_hora</th>\n",
       "            <th>year_snapshot</th>\n",
       "        </tr>\n",
       "    </thead>\n",
       "    <tbody>\n",
       "        <tr>\n",
       "            <td>719568</td>\n",
       "            <td>2322436-12</td>\n",
       "            <td>68720</td>\n",
       "            <td>Sim</td>\n",
       "            <td>2022-05-24 20:46:51</td>\n",
       "            <td>2021</td>\n",
       "        </tr>\n",
       "        <tr>\n",
       "            <td>719569</td>\n",
       "            <td>2322436-12</td>\n",
       "            <td>68720</td>\n",
       "            <td>Sim</td>\n",
       "            <td>2022-05-24 20:46:51</td>\n",
       "            <td>2022</td>\n",
       "        </tr>\n",
       "        <tr>\n",
       "            <td>719570</td>\n",
       "            <td>2322436-12</td>\n",
       "            <td>69871</td>\n",
       "            <td>Sim</td>\n",
       "            <td>2022-05-24 20:45:44</td>\n",
       "            <td>2021</td>\n",
       "        </tr>\n",
       "        <tr>\n",
       "            <td>719571</td>\n",
       "            <td>2322436-12</td>\n",
       "            <td>69871</td>\n",
       "            <td>Sim</td>\n",
       "            <td>2022-05-24 20:45:44</td>\n",
       "            <td>2022</td>\n",
       "        </tr>\n",
       "        <tr>\n",
       "            <td>719572</td>\n",
       "            <td>2322436-12</td>\n",
       "            <td>72442</td>\n",
       "            <td>Sim</td>\n",
       "            <td>2022-05-24 20:46:25</td>\n",
       "            <td>2021</td>\n",
       "        </tr>\n",
       "        <tr>\n",
       "            <td>719573</td>\n",
       "            <td>2322436-12</td>\n",
       "            <td>72442</td>\n",
       "            <td>Sim</td>\n",
       "            <td>2022-05-24 20:46:25</td>\n",
       "            <td>2022</td>\n",
       "        </tr>\n",
       "        <tr>\n",
       "            <td>719574</td>\n",
       "            <td>2322436-12</td>\n",
       "            <td>73433</td>\n",
       "            <td>Sim</td>\n",
       "            <td>2022-05-24 20:46:34</td>\n",
       "            <td>2021</td>\n",
       "        </tr>\n",
       "        <tr>\n",
       "            <td>719575</td>\n",
       "            <td>2322436-12</td>\n",
       "            <td>73433</td>\n",
       "            <td>Sim</td>\n",
       "            <td>2022-05-24 20:46:34</td>\n",
       "            <td>2022</td>\n",
       "        </tr>\n",
       "        <tr>\n",
       "            <td>719576</td>\n",
       "            <td>2322436-12</td>\n",
       "            <td>73441</td>\n",
       "            <td>Sim</td>\n",
       "            <td>2022-05-24 20:46:57</td>\n",
       "            <td>2021</td>\n",
       "        </tr>\n",
       "        <tr>\n",
       "            <td>719577</td>\n",
       "            <td>2322436-12</td>\n",
       "            <td>73441</td>\n",
       "            <td>Sim</td>\n",
       "            <td>2022-05-24 20:46:57</td>\n",
       "            <td>2022</td>\n",
       "        </tr>\n",
       "    </tbody>\n",
       "</table>\n",
       "<span style=\"font-style:italic;text-align:center;\">Truncated to <a href=\"https://jupysql.ploomber.io/en/latest/api/configuration.html#displaylimit\">displaylimit</a> of 10.</span>"
      ],
      "text/plain": [
       "+---------+------------+-------------+-----------+---------------------+---------------+\n",
       "| id_voto | id_votacao | id_deputado | tipo_voto |      data_hora      | year_snapshot |\n",
       "+---------+------------+-------------+-----------+---------------------+---------------+\n",
       "|  719568 | 2322436-12 |    68720    |    Sim    | 2022-05-24 20:46:51 |      2021     |\n",
       "|  719569 | 2322436-12 |    68720    |    Sim    | 2022-05-24 20:46:51 |      2022     |\n",
       "|  719570 | 2322436-12 |    69871    |    Sim    | 2022-05-24 20:45:44 |      2021     |\n",
       "|  719571 | 2322436-12 |    69871    |    Sim    | 2022-05-24 20:45:44 |      2022     |\n",
       "|  719572 | 2322436-12 |    72442    |    Sim    | 2022-05-24 20:46:25 |      2021     |\n",
       "|  719573 | 2322436-12 |    72442    |    Sim    | 2022-05-24 20:46:25 |      2022     |\n",
       "|  719574 | 2322436-12 |    73433    |    Sim    | 2022-05-24 20:46:34 |      2021     |\n",
       "|  719575 | 2322436-12 |    73433    |    Sim    | 2022-05-24 20:46:34 |      2022     |\n",
       "|  719576 | 2322436-12 |    73441    |    Sim    | 2022-05-24 20:46:57 |      2021     |\n",
       "|  719577 | 2322436-12 |    73441    |    Sim    | 2022-05-24 20:46:57 |      2022     |\n",
       "+---------+------------+-------------+-----------+---------------------+---------------+\n",
       "Truncated to displaylimit of 10."
      ]
     },
     "execution_count": 289,
     "metadata": {},
     "output_type": "execute_result"
    }
   ],
   "source": [
    "%%sql\n",
    "SELECT a.*\n",
    "FROM votos_camara a\n",
    "JOIN (\n",
    "    SELECT id_votacao, id_deputado, data_hora\n",
    "    FROM votos_camara\n",
    "    GROUP BY id_votacao, id_deputado, data_hora\n",
    "    HAVING COUNT(*) > 1\n",
    ") dups\n",
    "ON  a.id_deputado = dups.id_deputado\n",
    "AND a.id_votacao = dups.id_votacao\n",
    "AND a.data_hora = dups.data_hora\n",
    "ORDER BY a.id_deputado, a.id_votacao;"
   ]
  },
  {
   "cell_type": "code",
   "execution_count": 290,
   "id": "21d2ac57",
   "metadata": {
    "vscode": {
     "languageId": "sql"
    }
   },
   "outputs": [
    {
     "data": {
      "text/html": [
       "<span style=\"None\">Running query in &#x27;duck&#x27;</span>"
      ],
      "text/plain": [
       "Running query in 'duck'"
      ]
     },
     "metadata": {},
     "output_type": "display_data"
    },
    {
     "data": {
      "text/html": [
       "<table>\n",
       "    <thead>\n",
       "        <tr>\n",
       "            <th>total_duplicadas</th>\n",
       "        </tr>\n",
       "    </thead>\n",
       "    <tbody>\n",
       "        <tr>\n",
       "            <td>380</td>\n",
       "        </tr>\n",
       "    </tbody>\n",
       "</table>"
      ],
      "text/plain": [
       "+------------------+\n",
       "| total_duplicadas |\n",
       "+------------------+\n",
       "|       380        |\n",
       "+------------------+"
      ]
     },
     "execution_count": 290,
     "metadata": {},
     "output_type": "execute_result"
    }
   ],
   "source": [
    "%%sql\n",
    "SELECT SUM(c) AS total_duplicadas\n",
    "FROM (\n",
    "    SELECT COUNT(*) - 1 AS c\n",
    "    FROM votos_camara\n",
    "    GROUP BY id_votacao, id_deputado, data_hora\n",
    "    HAVING COUNT(*) > 1\n",
    ") t;"
   ]
  },
  {
   "cell_type": "code",
   "execution_count": 291,
   "id": "2237f666",
   "metadata": {
    "vscode": {
     "languageId": "sql"
    }
   },
   "outputs": [
    {
     "data": {
      "text/html": [
       "<span style=\"None\">Running query in &#x27;duck&#x27;</span>"
      ],
      "text/plain": [
       "Running query in 'duck'"
      ]
     },
     "metadata": {},
     "output_type": "display_data"
    },
    {
     "data": {
      "text/html": [
       "<table>\n",
       "    <thead>\n",
       "        <tr>\n",
       "            <th>Count</th>\n",
       "        </tr>\n",
       "    </thead>\n",
       "    <tbody>\n",
       "        <tr>\n",
       "            <td>380</td>\n",
       "        </tr>\n",
       "    </tbody>\n",
       "</table>"
      ],
      "text/plain": [
       "+-------+\n",
       "| Count |\n",
       "+-------+\n",
       "|  380  |\n",
       "+-------+"
      ]
     },
     "execution_count": 291,
     "metadata": {},
     "output_type": "execute_result"
    }
   ],
   "source": [
    "%%sql\n",
    "DELETE FROM votos_camara\n",
    "WHERE rowid IN (\n",
    "    SELECT rowid\n",
    "    FROM (\n",
    "        SELECT \n",
    "            rowid,\n",
    "            ROW_NUMBER() OVER (\n",
    "                PARTITION BY id_votacao, id_deputado, data_hora\n",
    "                ORDER BY rowid\n",
    "            ) AS rn\n",
    "        FROM votos_camara\n",
    "    ) t\n",
    "    WHERE rn > 1\n",
    ");"
   ]
  },
  {
   "cell_type": "markdown",
   "id": "a5c59cab",
   "metadata": {
    "vscode": {
     "languageId": "sql"
    }
   },
   "source": [
    "### 3.2.4 Deputados e frentes"
   ]
  },
  {
   "cell_type": "code",
   "execution_count": 292,
   "id": "3d720726",
   "metadata": {
    "vscode": {
     "languageId": "sql"
    }
   },
   "outputs": [
    {
     "data": {
      "text/html": [
       "<span style=\"None\">Running query in &#x27;duck&#x27;</span>"
      ],
      "text/plain": [
       "Running query in 'duck'"
      ]
     },
     "metadata": {},
     "output_type": "display_data"
    },
    {
     "data": {
      "text/html": [
       "<table>\n",
       "    <thead>\n",
       "        <tr>\n",
       "            <th>id_deputado_frente</th>\n",
       "            <th>id_deputado</th>\n",
       "            <th>id_frente</th>\n",
       "            <th>year_snapshot</th>\n",
       "        </tr>\n",
       "    </thead>\n",
       "    <tbody>\n",
       "        <tr>\n",
       "            <td>1449</td>\n",
       "            <td>74141</td>\n",
       "            <td>350</td>\n",
       "            <td>2020</td>\n",
       "        </tr>\n",
       "        <tr>\n",
       "            <td>1939</td>\n",
       "            <td>74141</td>\n",
       "            <td>350</td>\n",
       "            <td>2021</td>\n",
       "        </tr>\n",
       "        <tr>\n",
       "            <td>522</td>\n",
       "            <td>74141</td>\n",
       "            <td>351</td>\n",
       "            <td>2021</td>\n",
       "        </tr>\n",
       "        <tr>\n",
       "            <td>28</td>\n",
       "            <td>74141</td>\n",
       "            <td>351</td>\n",
       "            <td>2020</td>\n",
       "        </tr>\n",
       "        <tr>\n",
       "            <td>747</td>\n",
       "            <td>74141</td>\n",
       "            <td>353</td>\n",
       "            <td>2020</td>\n",
       "        </tr>\n",
       "        <tr>\n",
       "            <td>1238</td>\n",
       "            <td>74141</td>\n",
       "            <td>353</td>\n",
       "            <td>2021</td>\n",
       "        </tr>\n",
       "        <tr>\n",
       "            <td>3524</td>\n",
       "            <td>74141</td>\n",
       "            <td>354</td>\n",
       "            <td>2020</td>\n",
       "        </tr>\n",
       "        <tr>\n",
       "            <td>4009</td>\n",
       "            <td>74141</td>\n",
       "            <td>354</td>\n",
       "            <td>2021</td>\n",
       "        </tr>\n",
       "        <tr>\n",
       "            <td>2837</td>\n",
       "            <td>74141</td>\n",
       "            <td>355</td>\n",
       "            <td>2020</td>\n",
       "        </tr>\n",
       "        <tr>\n",
       "            <td>3324</td>\n",
       "            <td>74141</td>\n",
       "            <td>355</td>\n",
       "            <td>2021</td>\n",
       "        </tr>\n",
       "    </tbody>\n",
       "</table>\n",
       "<span style=\"font-style:italic;text-align:center;\">Truncated to <a href=\"https://jupysql.ploomber.io/en/latest/api/configuration.html#displaylimit\">displaylimit</a> of 10.</span>"
      ],
      "text/plain": [
       "+--------------------+-------------+-----------+---------------+\n",
       "| id_deputado_frente | id_deputado | id_frente | year_snapshot |\n",
       "+--------------------+-------------+-----------+---------------+\n",
       "|        1449        |    74141    |    350    |      2020     |\n",
       "|        1939        |    74141    |    350    |      2021     |\n",
       "|        522         |    74141    |    351    |      2021     |\n",
       "|         28         |    74141    |    351    |      2020     |\n",
       "|        747         |    74141    |    353    |      2020     |\n",
       "|        1238        |    74141    |    353    |      2021     |\n",
       "|        3524        |    74141    |    354    |      2020     |\n",
       "|        4009        |    74141    |    354    |      2021     |\n",
       "|        2837        |    74141    |    355    |      2020     |\n",
       "|        3324        |    74141    |    355    |      2021     |\n",
       "+--------------------+-------------+-----------+---------------+\n",
       "Truncated to displaylimit of 10."
      ]
     },
     "execution_count": 292,
     "metadata": {},
     "output_type": "execute_result"
    }
   ],
   "source": [
    "%%sql\n",
    "SELECT a.*\n",
    "FROM deputados_frentes_camara a\n",
    "JOIN (\n",
    "    SELECT id_deputado, id_frente\n",
    "    FROM deputados_frentes_camara\n",
    "    GROUP BY id_deputado, id_frente\n",
    "    HAVING COUNT(*) > 1\n",
    ") dups\n",
    "ON  a.id_deputado = dups.id_deputado\n",
    "AND a.id_frente = dups.id_frente\n",
    "ORDER BY a.id_deputado, a.id_frente;"
   ]
  },
  {
   "cell_type": "code",
   "execution_count": 293,
   "id": "3288f429",
   "metadata": {
    "vscode": {
     "languageId": "sql"
    }
   },
   "outputs": [
    {
     "data": {
      "text/html": [
       "<span style=\"None\">Running query in &#x27;duck&#x27;</span>"
      ],
      "text/plain": [
       "Running query in 'duck'"
      ]
     },
     "metadata": {},
     "output_type": "display_data"
    },
    {
     "data": {
      "text/html": [
       "<table>\n",
       "    <thead>\n",
       "        <tr>\n",
       "            <th>total_duplicadas</th>\n",
       "        </tr>\n",
       "    </thead>\n",
       "    <tbody>\n",
       "        <tr>\n",
       "            <td>3299</td>\n",
       "        </tr>\n",
       "    </tbody>\n",
       "</table>"
      ],
      "text/plain": [
       "+------------------+\n",
       "| total_duplicadas |\n",
       "+------------------+\n",
       "|       3299       |\n",
       "+------------------+"
      ]
     },
     "execution_count": 293,
     "metadata": {},
     "output_type": "execute_result"
    }
   ],
   "source": [
    "%%sql\n",
    "SELECT SUM(c) AS total_duplicadas\n",
    "FROM (\n",
    "    SELECT COUNT(*) - 1 AS c\n",
    "    FROM deputados_frentes_camara\n",
    "    GROUP BY id_deputado, id_frente\n",
    "    HAVING COUNT(*) > 1\n",
    ") t;"
   ]
  },
  {
   "cell_type": "code",
   "execution_count": 294,
   "id": "2f5dc81b",
   "metadata": {
    "vscode": {
     "languageId": "sql"
    }
   },
   "outputs": [
    {
     "data": {
      "text/html": [
       "<span style=\"None\">Running query in &#x27;duck&#x27;</span>"
      ],
      "text/plain": [
       "Running query in 'duck'"
      ]
     },
     "metadata": {},
     "output_type": "display_data"
    },
    {
     "data": {
      "text/html": [
       "<table>\n",
       "    <thead>\n",
       "        <tr>\n",
       "            <th>Count</th>\n",
       "        </tr>\n",
       "    </thead>\n",
       "    <tbody>\n",
       "        <tr>\n",
       "            <td>3299</td>\n",
       "        </tr>\n",
       "    </tbody>\n",
       "</table>"
      ],
      "text/plain": [
       "+-------+\n",
       "| Count |\n",
       "+-------+\n",
       "|  3299 |\n",
       "+-------+"
      ]
     },
     "execution_count": 294,
     "metadata": {},
     "output_type": "execute_result"
    }
   ],
   "source": [
    "%%sql\n",
    "DELETE FROM deputados_frentes_camara\n",
    "WHERE rowid IN (\n",
    "    SELECT rowid\n",
    "    FROM (\n",
    "        SELECT \n",
    "            rowid,\n",
    "            ROW_NUMBER() OVER (\n",
    "                PARTITION BY id_deputado, id_frente\n",
    "                ORDER BY rowid\n",
    "            ) AS rn\n",
    "        FROM deputados_frentes_camara\n",
    "    ) t\n",
    "    WHERE rn > 1\n",
    ");"
   ]
  },
  {
   "cell_type": "markdown",
   "id": "b203a329",
   "metadata": {},
   "source": [
    "### 3.2.5 Pautas de eventos"
   ]
  },
  {
   "cell_type": "code",
   "execution_count": 295,
   "id": "53ea6ea1",
   "metadata": {
    "vscode": {
     "languageId": "sql"
    }
   },
   "outputs": [
    {
     "data": {
      "text/html": [
       "<span style=\"None\">Running query in &#x27;duck&#x27;</span>"
      ],
      "text/plain": [
       "Running query in 'duck'"
      ]
     },
     "metadata": {},
     "output_type": "display_data"
    },
    {
     "data": {
      "text/html": [
       "<table>\n",
       "    <thead>\n",
       "        <tr>\n",
       "            <th>id_pauta</th>\n",
       "            <th>id_evento</th>\n",
       "            <th>cod_regime</th>\n",
       "            <th>ordem</th>\n",
       "            <th>id_proposicao</th>\n",
       "            <th>id_relator</th>\n",
       "            <th>year_snapshot</th>\n",
       "        </tr>\n",
       "    </thead>\n",
       "    <tbody>\n",
       "        <tr>\n",
       "            <td>80</td>\n",
       "            <td>59265</td>\n",
       "            <td>21.0</td>\n",
       "            <td>14</td>\n",
       "            <td>2236343</td>\n",
       "            <td>164360</td>\n",
       "            <td>2020</td>\n",
       "        </tr>\n",
       "        <tr>\n",
       "            <td>81</td>\n",
       "            <td>59265</td>\n",
       "            <td>21.0</td>\n",
       "            <td>14</td>\n",
       "            <td>2236343</td>\n",
       "            <td>164360</td>\n",
       "            <td>2020</td>\n",
       "        </tr>\n",
       "        <tr>\n",
       "            <td>82</td>\n",
       "            <td>59265</td>\n",
       "            <td>21.0</td>\n",
       "            <td>14</td>\n",
       "            <td>2236343</td>\n",
       "            <td>164360</td>\n",
       "            <td>2020</td>\n",
       "        </tr>\n",
       "        <tr>\n",
       "            <td>90</td>\n",
       "            <td>59275</td>\n",
       "            <td>15.0</td>\n",
       "            <td>1</td>\n",
       "            <td>2236326</td>\n",
       "            <td>204556</td>\n",
       "            <td>2020</td>\n",
       "        </tr>\n",
       "        <tr>\n",
       "            <td>91</td>\n",
       "            <td>59275</td>\n",
       "            <td>15.0</td>\n",
       "            <td>1</td>\n",
       "            <td>2236326</td>\n",
       "            <td>204556</td>\n",
       "            <td>2020</td>\n",
       "        </tr>\n",
       "        <tr>\n",
       "            <td>115</td>\n",
       "            <td>59290</td>\n",
       "            <td>100.0</td>\n",
       "            <td>12</td>\n",
       "            <td>2222884</td>\n",
       "            <td>None</td>\n",
       "            <td>2020</td>\n",
       "        </tr>\n",
       "        <tr>\n",
       "            <td>116</td>\n",
       "            <td>59290</td>\n",
       "            <td>100.0</td>\n",
       "            <td>12</td>\n",
       "            <td>2222884</td>\n",
       "            <td>None</td>\n",
       "            <td>2020</td>\n",
       "        </tr>\n",
       "        <tr>\n",
       "            <td>117</td>\n",
       "            <td>59290</td>\n",
       "            <td>100.0</td>\n",
       "            <td>12</td>\n",
       "            <td>2222884</td>\n",
       "            <td>None</td>\n",
       "            <td>2020</td>\n",
       "        </tr>\n",
       "        <tr>\n",
       "            <td>118</td>\n",
       "            <td>59290</td>\n",
       "            <td>100.0</td>\n",
       "            <td>12</td>\n",
       "            <td>2222884</td>\n",
       "            <td>None</td>\n",
       "            <td>2020</td>\n",
       "        </tr>\n",
       "        <tr>\n",
       "            <td>121</td>\n",
       "            <td>59298</td>\n",
       "            <td>100.0</td>\n",
       "            <td>1</td>\n",
       "            <td>2222884</td>\n",
       "            <td>None</td>\n",
       "            <td>2020</td>\n",
       "        </tr>\n",
       "    </tbody>\n",
       "</table>\n",
       "<span style=\"font-style:italic;text-align:center;\">Truncated to <a href=\"https://jupysql.ploomber.io/en/latest/api/configuration.html#displaylimit\">displaylimit</a> of 10.</span>"
      ],
      "text/plain": [
       "+----------+-----------+------------+-------+---------------+------------+---------------+\n",
       "| id_pauta | id_evento | cod_regime | ordem | id_proposicao | id_relator | year_snapshot |\n",
       "+----------+-----------+------------+-------+---------------+------------+---------------+\n",
       "|    80    |   59265   |    21.0    |   14  |    2236343    |   164360   |      2020     |\n",
       "|    81    |   59265   |    21.0    |   14  |    2236343    |   164360   |      2020     |\n",
       "|    82    |   59265   |    21.0    |   14  |    2236343    |   164360   |      2020     |\n",
       "|    90    |   59275   |    15.0    |   1   |    2236326    |   204556   |      2020     |\n",
       "|    91    |   59275   |    15.0    |   1   |    2236326    |   204556   |      2020     |\n",
       "|   115    |   59290   |   100.0    |   12  |    2222884    |    None    |      2020     |\n",
       "|   116    |   59290   |   100.0    |   12  |    2222884    |    None    |      2020     |\n",
       "|   117    |   59290   |   100.0    |   12  |    2222884    |    None    |      2020     |\n",
       "|   118    |   59290   |   100.0    |   12  |    2222884    |    None    |      2020     |\n",
       "|   121    |   59298   |   100.0    |   1   |    2222884    |    None    |      2020     |\n",
       "+----------+-----------+------------+-------+---------------+------------+---------------+\n",
       "Truncated to displaylimit of 10."
      ]
     },
     "execution_count": 295,
     "metadata": {},
     "output_type": "execute_result"
    }
   ],
   "source": [
    "%%sql\n",
    "SELECT a.*\n",
    "FROM eventos_pauta_camara a\n",
    "JOIN (\n",
    "    SELECT id_evento, ordem\n",
    "    FROM eventos_pauta_camara\n",
    "    GROUP BY id_evento, ordem\n",
    "    HAVING COUNT(*) > 1\n",
    ") dups\n",
    "ON  a.id_evento = dups.id_evento\n",
    "AND a.ordem = dups.ordem\n",
    "ORDER BY a.id_evento, a.ordem;"
   ]
  },
  {
   "cell_type": "code",
   "execution_count": 296,
   "id": "dfea3f2e",
   "metadata": {
    "vscode": {
     "languageId": "sql"
    }
   },
   "outputs": [
    {
     "data": {
      "text/html": [
       "<span style=\"None\">Running query in &#x27;duck&#x27;</span>"
      ],
      "text/plain": [
       "Running query in 'duck'"
      ]
     },
     "metadata": {},
     "output_type": "display_data"
    },
    {
     "data": {
      "text/html": [
       "<table>\n",
       "    <thead>\n",
       "        <tr>\n",
       "            <th>total_duplicadas</th>\n",
       "        </tr>\n",
       "    </thead>\n",
       "    <tbody>\n",
       "        <tr>\n",
       "            <td>4060</td>\n",
       "        </tr>\n",
       "    </tbody>\n",
       "</table>"
      ],
      "text/plain": [
       "+------------------+\n",
       "| total_duplicadas |\n",
       "+------------------+\n",
       "|       4060       |\n",
       "+------------------+"
      ]
     },
     "execution_count": 296,
     "metadata": {},
     "output_type": "execute_result"
    }
   ],
   "source": [
    "%%sql\n",
    "SELECT SUM(c) AS total_duplicadas\n",
    "FROM (\n",
    "    SELECT COUNT(*) - 1 AS c\n",
    "    FROM eventos_pauta_camara\n",
    "    GROUP BY id_evento, ordem, id_proposicao\n",
    "    HAVING COUNT(*) > 1\n",
    ") t;"
   ]
  },
  {
   "cell_type": "code",
   "execution_count": 297,
   "id": "9ce9b4c5",
   "metadata": {
    "vscode": {
     "languageId": "sql"
    }
   },
   "outputs": [
    {
     "data": {
      "text/html": [
       "<span style=\"None\">Running query in &#x27;duck&#x27;</span>"
      ],
      "text/plain": [
       "Running query in 'duck'"
      ]
     },
     "metadata": {},
     "output_type": "display_data"
    },
    {
     "data": {
      "text/html": [
       "<table>\n",
       "    <thead>\n",
       "        <tr>\n",
       "            <th>Count</th>\n",
       "        </tr>\n",
       "    </thead>\n",
       "    <tbody>\n",
       "        <tr>\n",
       "            <td>4060</td>\n",
       "        </tr>\n",
       "    </tbody>\n",
       "</table>"
      ],
      "text/plain": [
       "+-------+\n",
       "| Count |\n",
       "+-------+\n",
       "|  4060 |\n",
       "+-------+"
      ]
     },
     "execution_count": 297,
     "metadata": {},
     "output_type": "execute_result"
    }
   ],
   "source": [
    "%%sql\n",
    "DELETE FROM eventos_pauta_camara\n",
    "WHERE rowid IN (\n",
    "    SELECT rowid\n",
    "    FROM (\n",
    "        SELECT \n",
    "            rowid,\n",
    "            ROW_NUMBER() OVER (\n",
    "                PARTITION BY id_evento, ordem, id_proposicao\n",
    "                ORDER BY rowid\n",
    "            ) AS rn\n",
    "        FROM eventos_pauta_camara\n",
    "    ) t\n",
    "    WHERE rn > 1\n",
    ");"
   ]
  },
  {
   "cell_type": "markdown",
   "id": "dcbabb87",
   "metadata": {},
   "source": [
    "# 4. Limpeza"
   ]
  },
  {
   "cell_type": "code",
   "execution_count": 298,
   "id": "cba3969a",
   "metadata": {},
   "outputs": [],
   "source": [
    "conn.close()"
   ]
  },
  {
   "cell_type": "code",
   "execution_count": null,
   "id": "53d56a25",
   "metadata": {},
   "outputs": [],
   "source": []
  }
 ],
 "metadata": {
  "kernelspec": {
   "display_name": "venv",
   "language": "python",
   "name": "python3"
  },
  "language_info": {
   "codemirror_mode": {
    "name": "ipython",
    "version": 3
   },
   "file_extension": ".py",
   "mimetype": "text/x-python",
   "name": "python",
   "nbconvert_exporter": "python",
   "pygments_lexer": "ipython3",
   "version": "3.13.7"
  }
 },
 "nbformat": 4,
 "nbformat_minor": 5
}
